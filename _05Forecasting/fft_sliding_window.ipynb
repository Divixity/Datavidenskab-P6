{
 "cells": [
  {
   "cell_type": "code",
   "execution_count": 12,
   "metadata": {
    "collapsed": true
   },
   "outputs": [],
   "source": [
    "import numpy as np\n",
    "import pandas as pd\n",
    "import plotly.graph_objects as go\n",
    "from sklearn.metrics import mean_squared_error\n",
    "\n",
    "import DataRetriever as dr\n",
    "\n",
    "RETRIEVER = dr.DataRetriever()\n",
    "CON_ATTRIBUTES = RETRIEVER.get_attributes(file_name='consuming_attributes.pkl')\n",
    "PV_ATTRIBUTES = RETRIEVER.get_attributes(file_name='producing_attributes.pkl')\n",
    "FLEX_ATTRIBUTES = [\"Load_ClothesWasherPowerWithStandby\", \"Elec_PowerDishwasher\", \"Load_DryerPowerTotal\"]\n",
    "FIXED_ATTRIBUTES = list(set(CON_ATTRIBUTES) - set(FLEX_ATTRIBUTES))\n",
    "\n",
    "attributes = PV_ATTRIBUTES\n",
    "\n",
    "DATA = RETRIEVER.get_data(file_name='All-Subsystems-hour-Year2.pkl')[attributes].sum(axis=1).clip(lower=0) / 1000"
   ]
  },
  {
   "cell_type": "code",
   "execution_count": 13,
   "outputs": [],
   "source": [
    "def fourierExtrapolation(data: np.array, number_of_predictions: int, n_sinusoids: int) -> np.array:\n",
    "    \"\"\"\n",
    "    Predict {number_of_predictions} observations after the index data.size of {data}, using {n_sinusoids} sinusoids.\n",
    "    :param data: The data on which to train the model. Corresponds to {_x = x_0, x_1, ... x_(n-1)} in the theory\n",
    "    :param number_of_predictions: The amount of predictions to output. Corresponds to {x_((n-1)+1), x_((n-1)+2), ..., x_((n-1)+{number_of_predictions})}\n",
    "    :param n_sinusoids: The amount of sinusoids on which to base the predictions. I.e. the data probably contains many sinusoids, but we only wish to make predictions based on the {n_sinusoids} largest frequencies.\n",
    "    :return: A numpy array of length data.size + number_of_predictions, containing the transformed original data + predictions\n",
    "    \"\"\"\n",
    "    data_size = data.size  # n\n",
    "\n",
    "    X_frequency_domain = list(np.fft.fft(data))  # The series of complex numbers X = {X1, X2, ...}\n",
    "    frequencies = list(np.fft.fftfreq(data_size, d=1))  # Some frequencies, e.g. {4, 3, -7, 8, -5, ...}\n",
    "\n",
    "    indexes = list(range(len(X_frequency_domain)))  # {0, 1, ..., n-1}\n",
    "    indexes.sort(key=lambda idx: np.absolute(X_frequency_domain[idx]), reverse=True)  # ascendingly sort indices by amplitude\n",
    "    \n",
    "    sample_index = np.arange(0, data_size + number_of_predictions)  # sample_index = {0, 1, ..., n-1, n, n+1, ..., (n-1)+number_of_predictions}\n",
    "    x_restored_sig = np.zeros(sample_index.size)  # Prepare a numpy array to receive x reconstructed from its Fourier Transform\n",
    "\n",
    "    if n_sinusoids == 0:\n",
    "        return x_restored_sig + data.mean()\n",
    "\n",
    "    for i in indexes[:n_sinusoids]:\n",
    "        amplitude = np.absolute(X_frequency_domain[i])\n",
    "        phase = np.angle(X_frequency_domain[i])\n",
    "        x_restored_sig += amplitude * np.cos(2 * np.pi * frequencies[i] * sample_index + phase)\n",
    "\n",
    "    x_restored = 1 / data_size * x_restored_sig\n",
    "\n",
    "    return x_restored"
   ],
   "metadata": {
    "collapsed": false,
    "pycharm": {
     "name": "#%%\n"
    }
   }
  },
  {
   "cell_type": "code",
   "execution_count": 14,
   "outputs": [],
   "source": [
    "DATA_SIZE = DATA.size\n",
    "\n",
    "WEEK = 24 * 7\n",
    "\n",
    "train_range = WEEK\n",
    "VALIDATION_RANGE = 24 * 3\n",
    "\n",
    "SINUSOIDS = list(range(0, 50)) + list(range(50, 210, 10))"
   ],
   "metadata": {
    "collapsed": false,
    "pycharm": {
     "name": "#%%\n"
    }
   }
  },
  {
   "cell_type": "code",
   "execution_count": 15,
   "outputs": [
    {
     "data": {
      "text/plain": "{'divide': 'warn', 'over': 'warn', 'under': 'ignore', 'invalid': 'ignore'}"
     },
     "execution_count": 15,
     "metadata": {},
     "output_type": "execute_result"
    }
   ],
   "source": [
    "np.seterr(invalid='ignore')"
   ],
   "metadata": {
    "collapsed": false,
    "pycharm": {
     "name": "#%%\n"
    }
   }
  },
  {
   "cell_type": "code",
   "execution_count": 16,
   "outputs": [],
   "source": [
    "cv_DataFrame = pd.DataFrame(index=SINUSOIDS)\n",
    "fold = 0\n",
    "while train_range + VALIDATION_RANGE <= DATA_SIZE:\n",
    "    sinusoids_rmse = []\n",
    "    for n_sinusoids in SINUSOIDS:\n",
    "        fft = fourierExtrapolation(data=DATA[train_range - WEEK:train_range], number_of_predictions=VALIDATION_RANGE, n_sinusoids=n_sinusoids)\n",
    "        prediction = pd.Series(data=fft[WEEK:], index=DATA[train_range:train_range + VALIDATION_RANGE].index)\n",
    "\n",
    "        actual = DATA[train_range:train_range+VALIDATION_RANGE]\n",
    "\n",
    "        prediction.reset_index(inplace=True, drop=True)\n",
    "\n",
    "        sinusoids_rmse.append(np.sqrt(mean_squared_error(actual, prediction)))\n",
    "\n",
    "    cv_DataFrame[f\"Fold_{fold}\"] = sinusoids_rmse\n",
    "\n",
    "    train_range += 24 * 5\n",
    "    fold += 1"
   ],
   "metadata": {
    "collapsed": false,
    "pycharm": {
     "name": "#%%\n"
    }
   }
  },
  {
   "cell_type": "code",
   "execution_count": 17,
   "outputs": [
    {
     "data": {
      "text/plain": "       Fold_0    Fold_1    Fold_2    Fold_3    Fold_4    Fold_5    Fold_6  \\\n0    0.976914  2.874471  1.180418  3.336224  2.882459  1.210185  2.433843   \n1    0.976914  2.874471  1.180418  3.336224  2.882459  1.210185  2.433843   \n2    0.777797  2.531467  1.355898  3.229371  2.423033  1.408076  2.177182   \n3    1.061163  2.269154  1.845257  3.127114  2.187382  1.884525  1.985631   \n4    1.010154  2.115723  1.886456  3.107812  1.985757  1.928508  2.192910   \n..        ...       ...       ...       ...       ...       ...       ...   \n160  1.354763  1.994756  3.216715  3.128677  2.575589  3.292408  2.589165   \n170  1.355323  1.994574  3.216618  3.128693  2.575609  3.292345  2.589192   \n180  1.355323  1.994574  3.216618  3.128693  2.575609  3.292345  2.589192   \n190  1.355323  1.994574  3.216618  3.128693  2.575609  3.292345  2.589192   \n200  1.355323  1.994574  3.216618  3.128693  2.575609  3.292345  2.589192   \n\n       Fold_7    Fold_8    Fold_9  ...   Fold_62   Fold_63   Fold_64  \\\n0    2.771775  2.561602  1.894579  ...  1.588087  1.592958  0.751028   \n1    2.771775  2.561602  1.894579  ...  1.588087  1.592958  0.751028   \n2    2.182594  2.115640  1.416996  ...  1.332983  1.399963  0.643549   \n3    1.829805  2.095626  1.621300  ...  1.244482  1.351313  0.743767   \n4    1.590575  1.951472  1.464755  ...  1.108690  1.256489  0.879796   \n..        ...       ...       ...  ...       ...       ...       ...   \n160  1.763423  2.317410  2.176218  ...  1.948775  1.356376  1.775791   \n170  1.761963  2.319878  2.176365  ...  1.948794  1.359184  1.776219   \n180  1.761963  2.319878  2.176365  ...  1.948794  1.359184  1.776219   \n190  1.761963  2.319878  2.176365  ...  1.948794  1.359184  1.776219   \n200  1.761963  2.319878  2.176365  ...  1.948794  1.359184  1.776219   \n\n      Fold_65   Fold_66   Fold_67   Fold_68   Fold_69   Fold_70   Fold_71  \n0    1.337330  2.756214  1.880038  2.058219  2.250949  0.855160  2.733976  \n1    1.337330  2.756214  1.880038  2.058219  2.250949  0.855160  2.733976  \n2    1.242731  2.376028  1.573752  1.764520  1.812620  0.954053  2.513237  \n3    1.169163  2.065155  1.633747  1.548696  1.552853  1.302154  2.317027  \n4    1.113195  1.841256  1.494543  1.400203  1.300918  1.325950  2.434810  \n..        ...       ...       ...       ...       ...       ...       ...  \n160  1.110079  2.501525  2.061967  1.935273  1.924599  2.550310  2.899791  \n170  1.111765  2.501652  2.060954  1.934346  1.924489  2.550460  2.900236  \n180  1.111765  2.501652  2.060954  1.934346  1.924489  2.550460  2.900236  \n190  1.111765  2.501652  2.060954  1.934346  1.924489  2.550460  2.900236  \n200  1.111765  2.501652  2.060954  1.934346  1.924489  2.550460  2.900236  \n\n[66 rows x 72 columns]",
      "text/html": "<div>\n<style scoped>\n    .dataframe tbody tr th:only-of-type {\n        vertical-align: middle;\n    }\n\n    .dataframe tbody tr th {\n        vertical-align: top;\n    }\n\n    .dataframe thead th {\n        text-align: right;\n    }\n</style>\n<table border=\"1\" class=\"dataframe\">\n  <thead>\n    <tr style=\"text-align: right;\">\n      <th></th>\n      <th>Fold_0</th>\n      <th>Fold_1</th>\n      <th>Fold_2</th>\n      <th>Fold_3</th>\n      <th>Fold_4</th>\n      <th>Fold_5</th>\n      <th>Fold_6</th>\n      <th>Fold_7</th>\n      <th>Fold_8</th>\n      <th>Fold_9</th>\n      <th>...</th>\n      <th>Fold_62</th>\n      <th>Fold_63</th>\n      <th>Fold_64</th>\n      <th>Fold_65</th>\n      <th>Fold_66</th>\n      <th>Fold_67</th>\n      <th>Fold_68</th>\n      <th>Fold_69</th>\n      <th>Fold_70</th>\n      <th>Fold_71</th>\n    </tr>\n  </thead>\n  <tbody>\n    <tr>\n      <th>0</th>\n      <td>0.976914</td>\n      <td>2.874471</td>\n      <td>1.180418</td>\n      <td>3.336224</td>\n      <td>2.882459</td>\n      <td>1.210185</td>\n      <td>2.433843</td>\n      <td>2.771775</td>\n      <td>2.561602</td>\n      <td>1.894579</td>\n      <td>...</td>\n      <td>1.588087</td>\n      <td>1.592958</td>\n      <td>0.751028</td>\n      <td>1.337330</td>\n      <td>2.756214</td>\n      <td>1.880038</td>\n      <td>2.058219</td>\n      <td>2.250949</td>\n      <td>0.855160</td>\n      <td>2.733976</td>\n    </tr>\n    <tr>\n      <th>1</th>\n      <td>0.976914</td>\n      <td>2.874471</td>\n      <td>1.180418</td>\n      <td>3.336224</td>\n      <td>2.882459</td>\n      <td>1.210185</td>\n      <td>2.433843</td>\n      <td>2.771775</td>\n      <td>2.561602</td>\n      <td>1.894579</td>\n      <td>...</td>\n      <td>1.588087</td>\n      <td>1.592958</td>\n      <td>0.751028</td>\n      <td>1.337330</td>\n      <td>2.756214</td>\n      <td>1.880038</td>\n      <td>2.058219</td>\n      <td>2.250949</td>\n      <td>0.855160</td>\n      <td>2.733976</td>\n    </tr>\n    <tr>\n      <th>2</th>\n      <td>0.777797</td>\n      <td>2.531467</td>\n      <td>1.355898</td>\n      <td>3.229371</td>\n      <td>2.423033</td>\n      <td>1.408076</td>\n      <td>2.177182</td>\n      <td>2.182594</td>\n      <td>2.115640</td>\n      <td>1.416996</td>\n      <td>...</td>\n      <td>1.332983</td>\n      <td>1.399963</td>\n      <td>0.643549</td>\n      <td>1.242731</td>\n      <td>2.376028</td>\n      <td>1.573752</td>\n      <td>1.764520</td>\n      <td>1.812620</td>\n      <td>0.954053</td>\n      <td>2.513237</td>\n    </tr>\n    <tr>\n      <th>3</th>\n      <td>1.061163</td>\n      <td>2.269154</td>\n      <td>1.845257</td>\n      <td>3.127114</td>\n      <td>2.187382</td>\n      <td>1.884525</td>\n      <td>1.985631</td>\n      <td>1.829805</td>\n      <td>2.095626</td>\n      <td>1.621300</td>\n      <td>...</td>\n      <td>1.244482</td>\n      <td>1.351313</td>\n      <td>0.743767</td>\n      <td>1.169163</td>\n      <td>2.065155</td>\n      <td>1.633747</td>\n      <td>1.548696</td>\n      <td>1.552853</td>\n      <td>1.302154</td>\n      <td>2.317027</td>\n    </tr>\n    <tr>\n      <th>4</th>\n      <td>1.010154</td>\n      <td>2.115723</td>\n      <td>1.886456</td>\n      <td>3.107812</td>\n      <td>1.985757</td>\n      <td>1.928508</td>\n      <td>2.192910</td>\n      <td>1.590575</td>\n      <td>1.951472</td>\n      <td>1.464755</td>\n      <td>...</td>\n      <td>1.108690</td>\n      <td>1.256489</td>\n      <td>0.879796</td>\n      <td>1.113195</td>\n      <td>1.841256</td>\n      <td>1.494543</td>\n      <td>1.400203</td>\n      <td>1.300918</td>\n      <td>1.325950</td>\n      <td>2.434810</td>\n    </tr>\n    <tr>\n      <th>...</th>\n      <td>...</td>\n      <td>...</td>\n      <td>...</td>\n      <td>...</td>\n      <td>...</td>\n      <td>...</td>\n      <td>...</td>\n      <td>...</td>\n      <td>...</td>\n      <td>...</td>\n      <td>...</td>\n      <td>...</td>\n      <td>...</td>\n      <td>...</td>\n      <td>...</td>\n      <td>...</td>\n      <td>...</td>\n      <td>...</td>\n      <td>...</td>\n      <td>...</td>\n      <td>...</td>\n    </tr>\n    <tr>\n      <th>160</th>\n      <td>1.354763</td>\n      <td>1.994756</td>\n      <td>3.216715</td>\n      <td>3.128677</td>\n      <td>2.575589</td>\n      <td>3.292408</td>\n      <td>2.589165</td>\n      <td>1.763423</td>\n      <td>2.317410</td>\n      <td>2.176218</td>\n      <td>...</td>\n      <td>1.948775</td>\n      <td>1.356376</td>\n      <td>1.775791</td>\n      <td>1.110079</td>\n      <td>2.501525</td>\n      <td>2.061967</td>\n      <td>1.935273</td>\n      <td>1.924599</td>\n      <td>2.550310</td>\n      <td>2.899791</td>\n    </tr>\n    <tr>\n      <th>170</th>\n      <td>1.355323</td>\n      <td>1.994574</td>\n      <td>3.216618</td>\n      <td>3.128693</td>\n      <td>2.575609</td>\n      <td>3.292345</td>\n      <td>2.589192</td>\n      <td>1.761963</td>\n      <td>2.319878</td>\n      <td>2.176365</td>\n      <td>...</td>\n      <td>1.948794</td>\n      <td>1.359184</td>\n      <td>1.776219</td>\n      <td>1.111765</td>\n      <td>2.501652</td>\n      <td>2.060954</td>\n      <td>1.934346</td>\n      <td>1.924489</td>\n      <td>2.550460</td>\n      <td>2.900236</td>\n    </tr>\n    <tr>\n      <th>180</th>\n      <td>1.355323</td>\n      <td>1.994574</td>\n      <td>3.216618</td>\n      <td>3.128693</td>\n      <td>2.575609</td>\n      <td>3.292345</td>\n      <td>2.589192</td>\n      <td>1.761963</td>\n      <td>2.319878</td>\n      <td>2.176365</td>\n      <td>...</td>\n      <td>1.948794</td>\n      <td>1.359184</td>\n      <td>1.776219</td>\n      <td>1.111765</td>\n      <td>2.501652</td>\n      <td>2.060954</td>\n      <td>1.934346</td>\n      <td>1.924489</td>\n      <td>2.550460</td>\n      <td>2.900236</td>\n    </tr>\n    <tr>\n      <th>190</th>\n      <td>1.355323</td>\n      <td>1.994574</td>\n      <td>3.216618</td>\n      <td>3.128693</td>\n      <td>2.575609</td>\n      <td>3.292345</td>\n      <td>2.589192</td>\n      <td>1.761963</td>\n      <td>2.319878</td>\n      <td>2.176365</td>\n      <td>...</td>\n      <td>1.948794</td>\n      <td>1.359184</td>\n      <td>1.776219</td>\n      <td>1.111765</td>\n      <td>2.501652</td>\n      <td>2.060954</td>\n      <td>1.934346</td>\n      <td>1.924489</td>\n      <td>2.550460</td>\n      <td>2.900236</td>\n    </tr>\n    <tr>\n      <th>200</th>\n      <td>1.355323</td>\n      <td>1.994574</td>\n      <td>3.216618</td>\n      <td>3.128693</td>\n      <td>2.575609</td>\n      <td>3.292345</td>\n      <td>2.589192</td>\n      <td>1.761963</td>\n      <td>2.319878</td>\n      <td>2.176365</td>\n      <td>...</td>\n      <td>1.948794</td>\n      <td>1.359184</td>\n      <td>1.776219</td>\n      <td>1.111765</td>\n      <td>2.501652</td>\n      <td>2.060954</td>\n      <td>1.934346</td>\n      <td>1.924489</td>\n      <td>2.550460</td>\n      <td>2.900236</td>\n    </tr>\n  </tbody>\n</table>\n<p>66 rows × 72 columns</p>\n</div>"
     },
     "execution_count": 17,
     "metadata": {},
     "output_type": "execute_result"
    }
   ],
   "source": [
    "cv_DataFrame"
   ],
   "metadata": {
    "collapsed": false,
    "pycharm": {
     "name": "#%%\n"
    }
   }
  },
  {
   "cell_type": "code",
   "execution_count": 18,
   "outputs": [
    {
     "data": {
      "text/plain": "5"
     },
     "execution_count": 18,
     "metadata": {},
     "output_type": "execute_result"
    }
   ],
   "source": [
    "cv_DataFrame.mean(axis=1).idxmin()"
   ],
   "metadata": {
    "collapsed": false,
    "pycharm": {
     "name": "#%%\n"
    }
   }
  },
  {
   "cell_type": "code",
   "execution_count": 19,
   "outputs": [
    {
     "data": {
      "text/plain": "0      2.400878\n1      2.400878\n2      1.845958\n3      1.640829\n4      1.474310\n         ...   \n160    1.928368\n170    1.928657\n180    1.928657\n190    1.928657\n200    1.928657\nLength: 66, dtype: float64"
     },
     "execution_count": 19,
     "metadata": {},
     "output_type": "execute_result"
    }
   ],
   "source": [
    "cv_DataFrame.mean(axis=1)"
   ],
   "metadata": {
    "collapsed": false,
    "pycharm": {
     "name": "#%%\n"
    }
   }
  },
  {
   "cell_type": "code",
   "execution_count": 20,
   "outputs": [],
   "source": [
    "fft = fourierExtrapolation(data=DATA[0:WEEK], number_of_predictions=VALIDATION_RANGE, n_sinusoids=cv_DataFrame.mean(axis=1).idxmin())\n",
    "prediction = pd.Series(data=fft[WEEK:], index=DATA[DATA[0:WEEK].size:DATA[0:WEEK].size + VALIDATION_RANGE].index)\n",
    "\n",
    "pred_test = fft[:WEEK]\n",
    "\n",
    "actual = DATA[WEEK:WEEK+VALIDATION_RANGE]\n",
    "\n",
    "if attributes == PV_ATTRIBUTES:\n",
    "    pv = prediction\n",
    "elif attributes == FIXED_ATTRIBUTES:\n",
    "    fix = prediction\n",
    "elif attributes == FLEX_ATTRIBUTES:\n",
    "    flex = actual"
   ],
   "metadata": {
    "collapsed": false,
    "pycharm": {
     "name": "#%%\n"
    }
   }
  },
  {
   "cell_type": "code",
   "execution_count": 21,
   "outputs": [
    {
     "data": {
      "application/vnd.plotly.v1+json": {
       "data": [
        {
         "line": {
          "color": "rgb(84, 84, 84)"
         },
         "mode": "lines",
         "name": "Training Data",
         "x": [
          0,
          1,
          2,
          3,
          4,
          5,
          6,
          7,
          8,
          9,
          10,
          11,
          12,
          13,
          14,
          15,
          16,
          17,
          18,
          19,
          20,
          21,
          22,
          23,
          24,
          25,
          26,
          27,
          28,
          29,
          30,
          31,
          32,
          33,
          34,
          35,
          36,
          37,
          38,
          39,
          40,
          41,
          42,
          43,
          44,
          45,
          46,
          47,
          48,
          49,
          50,
          51,
          52,
          53,
          54,
          55,
          56,
          57,
          58,
          59,
          60,
          61,
          62,
          63,
          64,
          65,
          66,
          67,
          68,
          69,
          70,
          71,
          72,
          73,
          74,
          75,
          76,
          77,
          78,
          79,
          80,
          81,
          82,
          83,
          84,
          85,
          86,
          87,
          88,
          89,
          90,
          91,
          92,
          93,
          94,
          95,
          96,
          97,
          98,
          99,
          100,
          101,
          102,
          103,
          104,
          105,
          106,
          107,
          108,
          109,
          110,
          111,
          112,
          113,
          114,
          115,
          116,
          117,
          118,
          119,
          120,
          121,
          122,
          123,
          124,
          125,
          126,
          127,
          128,
          129,
          130,
          131,
          132,
          133,
          134,
          135,
          136,
          137,
          138,
          139,
          140,
          141,
          142,
          143,
          144,
          145,
          146,
          147,
          148,
          149,
          150,
          151,
          152,
          153,
          154,
          155,
          156,
          157,
          158,
          159,
          160,
          161,
          162,
          163,
          164,
          165,
          166,
          167
         ],
         "y": [
          0.018496327948999997,
          0.018331566158999998,
          0.018384646289000002,
          0.018501542282,
          0.018523950942,
          0.01850235982,
          0.018478165228999997,
          0.044271993089999996,
          1.0271248927,
          1.3809610127999998,
          1.7070991739999999,
          1.9193729401000001,
          1.2963154962999999,
          2.3432078709999997,
          1.4210685902999998,
          1.2692717016000001,
          0.2868065223,
          0.0258488465,
          0.017686094316000003,
          0.017944143994999998,
          0.018046034829,
          0.018074882094000003,
          0.018265946642,
          0.018400848551,
          0.010301549556,
          0.0,
          0.0,
          0.0,
          0.0,
          0.0,
          0.0,
          0.0,
          0.0,
          0.0,
          0.0,
          0.0,
          0.0,
          0.0,
          0.0,
          0.0,
          0.0,
          0.0,
          0.0,
          0.0,
          0.0,
          0.0,
          0.0,
          0.0,
          0.018343111798,
          0.018421552198,
          0.018401780351,
          0.018308207592,
          0.018289316368000002,
          0.018463501469000002,
          0.018488753287,
          0.02948181201,
          0.45243900919999996,
          1.1643106755,
          2.947891683,
          7.81909412,
          8.122610836,
          7.651887598,
          6.491175232,
          4.567309045,
          1.8482859538,
          0.09346071619,
          0.017625455587,
          0.018027981854,
          0.018193141269999998,
          0.01801500686,
          0.018344187196,
          0.018482904435000003,
          0.018269038346,
          0.018384396283000003,
          0.018470018483,
          0.018458994085999998,
          0.018268396426000002,
          0.018280859359,
          0.018566218249,
          0.09319509613,
          0.8458532672,
          2.6998057109999998,
          5.693102455,
          6.934099377000001,
          7.537921748999999,
          7.052515633,
          5.652627908,
          2.815008876,
          0.9256914838,
          0.06644446690000001,
          0.017589727131,
          0.017964106448999997,
          0.018134710518999998,
          0.018334078900000002,
          0.018285436328,
          0.018369443053,
          0.018459333679,
          0.018511230707,
          0.018543723694999997,
          0.018529453118,
          0.018525766818,
          0.018402946647,
          0.018343341255,
          0.06387575798,
          0.3520892179,
          1.1498749364999998,
          3.890002192,
          7.985615969,
          7.746638552,
          7.255206346,
          6.898969287,
          4.910126572999999,
          2.1197830711,
          0.10807906957,
          0.017722852658999998,
          0.018010188739,
          0.018122394403,
          0.018213029210000002,
          0.018315706872,
          0.018219398499,
          0.018262501297,
          0.018259969378,
          0.018269014534,
          0.018313159529,
          0.018307160426000002,
          0.018387524955,
          0.018434759442,
          0.10896887612,
          0.7515132304,
          2.408481923,
          4.552574488,
          6.055584299,
          6.221213977,
          4.058747754,
          2.148642252,
          1.4703614553,
          0.9810623633,
          0.10253678091,
          0.017560697062999998,
          0.017793700203,
          0.018067035627,
          0.018302451594,
          0.018365802860000002,
          0.018199611823,
          0.018372269598,
          0.018359431028,
          0.018421724208,
          0.018513415733999998,
          0.018541208537,
          0.018489379581000002,
          0.018372199598999998,
          0.12325154788,
          0.7678313341,
          1.1320824396,
          2.174169825,
          2.995965468,
          1.9666792145,
          1.3241301997000001,
          1.6652765625000001,
          1.1483172093,
          0.48449997359999997,
          0.03910146677,
          0.017619058371,
          0.017949479644,
          0.018130036369999998,
          0.018346750088,
          0.018529278263000003,
          0.018573252791
         ],
         "type": "scatter"
        },
        {
         "line": {
          "color": "rgb(234,143,129)"
         },
         "mode": "lines",
         "name": "Observed",
         "x": [
          168,
          169,
          170,
          171,
          172,
          173,
          174,
          175,
          176,
          177,
          178,
          179,
          180,
          181,
          182,
          183,
          184,
          185,
          186,
          187,
          188,
          189,
          190,
          191,
          192,
          193,
          194,
          195,
          196,
          197,
          198,
          199,
          200,
          201,
          202,
          203,
          204,
          205,
          206,
          207,
          208,
          209,
          210,
          211,
          212,
          213,
          214,
          215,
          216,
          217,
          218,
          219,
          220,
          221,
          222,
          223,
          224,
          225,
          226,
          227,
          228,
          229,
          230,
          231,
          232,
          233,
          234,
          235,
          236,
          237,
          238,
          239
         ],
         "y": [
          0.018671203597000002,
          0.018743665489,
          0.018683955065,
          0.018699027602000002,
          0.018628371064,
          0.018566198842,
          0.018515504534999998,
          0.03779805745,
          0.33515974119999997,
          1.1450451954999998,
          1.6808851573,
          1.8837755494000001,
          1.7712671946,
          2.0982058699999997,
          1.7659456737,
          2.008267456,
          1.5282337371999999,
          0.13307715393,
          0.017450528256,
          0.017770569721999998,
          0.018010784276999998,
          0.018187735955,
          0.018451514562,
          0.018517088599,
          0.018359768124,
          0.018436693096,
          0.018429318602999997,
          0.018427885166,
          0.018384793695,
          0.018285757414000004,
          0.018359469413,
          0.024127905640000002,
          0.15966402365,
          0.7596074302,
          0.8102912547,
          1.1611307459,
          1.3549109446,
          1.1501692907,
          0.7295780319,
          0.43405269620000003,
          0.13684107879,
          0.017389462645999998,
          0.017870127042,
          0.018021770891000002,
          0.018243271604999996,
          0.018242298682000002,
          0.018324860907,
          0.018304861974,
          0.018338133601999998,
          0.01822820541,
          0.018257569154,
          0.018253759066000002,
          0.018196517166,
          0.018246144962999998,
          0.01837265296,
          0.049042315790000006,
          0.30847714829999995,
          0.6979837798999999,
          1.1240058472,
          1.5715413879,
          2.1644551919999997,
          3.952080238,
          1.6442420115,
          1.8442071034999998,
          1.7584794353000002,
          0.16726824398999998,
          0.017471778551,
          0.017749423027,
          0.01799549826,
          0.018179049842,
          0.018320043103000002,
          0.018231219567
         ],
         "type": "scatter"
        },
        {
         "line": {
          "color": "rgb(32,115,171)"
         },
         "mode": "lines",
         "name": "Predicted",
         "x": [
          168,
          169,
          170,
          171,
          172,
          173,
          174,
          175,
          176,
          177,
          178,
          179,
          180,
          181,
          182,
          183,
          184,
          185,
          186,
          187,
          188,
          189,
          190,
          191,
          192,
          193,
          194,
          195,
          196,
          197,
          198,
          199,
          200,
          201,
          202,
          203,
          204,
          205,
          206,
          207,
          208,
          209,
          210,
          211,
          212,
          213,
          214,
          215,
          216,
          217,
          218,
          219,
          220,
          221,
          222,
          223,
          224,
          225,
          226,
          227,
          228,
          229,
          230,
          231,
          232,
          233,
          234,
          235,
          236,
          237,
          238,
          239
         ],
         "y": [
          0.45178984951135126,
          0.38216136319792543,
          0.13439898594686436,
          -0.19198383218716408,
          -0.45384970195615026,
          -0.5065855728757492,
          -0.24792507578113507,
          0.3486429746290812,
          1.2202410187413073,
          2.2248422367414555,
          3.173089776239517,
          3.8735948102585223,
          4.179946571657511,
          4.027129223445681,
          3.447779448214527,
          2.564007829216993,
          1.5569368813513504,
          0.6219641496646309,
          -0.07852101258240177,
          -0.4526432284673584,
          -0.4971291200973646,
          -0.2915759009659336,
          0.029113377170603506,
          0.31631694575793473,
          0.4517898495113514,
          0.3821613631979241,
          0.134398985946868,
          -0.1919838321871683,
          -0.4538497019561446,
          -0.5065855728757517,
          -0.247925075781142,
          0.34864297462908667,
          1.2202410187413004,
          2.224842236741459,
          3.1730897762395207,
          3.873594810258519,
          4.179946571657511,
          4.027129223445682,
          3.4477794482145243,
          2.564007829216989,
          1.556936881351357,
          0.6219641496646254,
          -0.07852101258239466,
          -0.4526432284673527,
          -0.4971291200973707,
          -0.29157590096592917,
          0.02911337717059953,
          0.3163169457579366,
          0.4517898495113506,
          0.38216136319792593,
          0.13439898594686495,
          -0.1919838321871634,
          -0.45384970195614976,
          -0.5065855728757582,
          -0.24792507578113557,
          0.3486429746290798,
          1.220241018741306,
          2.2248422367414538,
          3.173089776239516,
          3.873594810258521,
          4.179946571657511,
          4.027129223445681,
          3.4477794482145456,
          2.5640078292169943,
          1.5569368813513524,
          0.6219641496646386,
          -0.07852101258240092,
          -0.45264322846735916,
          -0.49712912009735893,
          -0.2915759009659342,
          0.02911337717060647,
          0.31631694575793456
         ],
         "type": "scatter"
        }
       ],
       "layout": {
        "template": {
         "data": {
          "histogram2dcontour": [
           {
            "type": "histogram2dcontour",
            "colorbar": {
             "outlinewidth": 0,
             "ticks": ""
            },
            "colorscale": [
             [
              0.0,
              "#0d0887"
             ],
             [
              0.1111111111111111,
              "#46039f"
             ],
             [
              0.2222222222222222,
              "#7201a8"
             ],
             [
              0.3333333333333333,
              "#9c179e"
             ],
             [
              0.4444444444444444,
              "#bd3786"
             ],
             [
              0.5555555555555556,
              "#d8576b"
             ],
             [
              0.6666666666666666,
              "#ed7953"
             ],
             [
              0.7777777777777778,
              "#fb9f3a"
             ],
             [
              0.8888888888888888,
              "#fdca26"
             ],
             [
              1.0,
              "#f0f921"
             ]
            ]
           }
          ],
          "choropleth": [
           {
            "type": "choropleth",
            "colorbar": {
             "outlinewidth": 0,
             "ticks": ""
            }
           }
          ],
          "histogram2d": [
           {
            "type": "histogram2d",
            "colorbar": {
             "outlinewidth": 0,
             "ticks": ""
            },
            "colorscale": [
             [
              0.0,
              "#0d0887"
             ],
             [
              0.1111111111111111,
              "#46039f"
             ],
             [
              0.2222222222222222,
              "#7201a8"
             ],
             [
              0.3333333333333333,
              "#9c179e"
             ],
             [
              0.4444444444444444,
              "#bd3786"
             ],
             [
              0.5555555555555556,
              "#d8576b"
             ],
             [
              0.6666666666666666,
              "#ed7953"
             ],
             [
              0.7777777777777778,
              "#fb9f3a"
             ],
             [
              0.8888888888888888,
              "#fdca26"
             ],
             [
              1.0,
              "#f0f921"
             ]
            ]
           }
          ],
          "heatmap": [
           {
            "type": "heatmap",
            "colorbar": {
             "outlinewidth": 0,
             "ticks": ""
            },
            "colorscale": [
             [
              0.0,
              "#0d0887"
             ],
             [
              0.1111111111111111,
              "#46039f"
             ],
             [
              0.2222222222222222,
              "#7201a8"
             ],
             [
              0.3333333333333333,
              "#9c179e"
             ],
             [
              0.4444444444444444,
              "#bd3786"
             ],
             [
              0.5555555555555556,
              "#d8576b"
             ],
             [
              0.6666666666666666,
              "#ed7953"
             ],
             [
              0.7777777777777778,
              "#fb9f3a"
             ],
             [
              0.8888888888888888,
              "#fdca26"
             ],
             [
              1.0,
              "#f0f921"
             ]
            ]
           }
          ],
          "heatmapgl": [
           {
            "type": "heatmapgl",
            "colorbar": {
             "outlinewidth": 0,
             "ticks": ""
            },
            "colorscale": [
             [
              0.0,
              "#0d0887"
             ],
             [
              0.1111111111111111,
              "#46039f"
             ],
             [
              0.2222222222222222,
              "#7201a8"
             ],
             [
              0.3333333333333333,
              "#9c179e"
             ],
             [
              0.4444444444444444,
              "#bd3786"
             ],
             [
              0.5555555555555556,
              "#d8576b"
             ],
             [
              0.6666666666666666,
              "#ed7953"
             ],
             [
              0.7777777777777778,
              "#fb9f3a"
             ],
             [
              0.8888888888888888,
              "#fdca26"
             ],
             [
              1.0,
              "#f0f921"
             ]
            ]
           }
          ],
          "contourcarpet": [
           {
            "type": "contourcarpet",
            "colorbar": {
             "outlinewidth": 0,
             "ticks": ""
            }
           }
          ],
          "contour": [
           {
            "type": "contour",
            "colorbar": {
             "outlinewidth": 0,
             "ticks": ""
            },
            "colorscale": [
             [
              0.0,
              "#0d0887"
             ],
             [
              0.1111111111111111,
              "#46039f"
             ],
             [
              0.2222222222222222,
              "#7201a8"
             ],
             [
              0.3333333333333333,
              "#9c179e"
             ],
             [
              0.4444444444444444,
              "#bd3786"
             ],
             [
              0.5555555555555556,
              "#d8576b"
             ],
             [
              0.6666666666666666,
              "#ed7953"
             ],
             [
              0.7777777777777778,
              "#fb9f3a"
             ],
             [
              0.8888888888888888,
              "#fdca26"
             ],
             [
              1.0,
              "#f0f921"
             ]
            ]
           }
          ],
          "surface": [
           {
            "type": "surface",
            "colorbar": {
             "outlinewidth": 0,
             "ticks": ""
            },
            "colorscale": [
             [
              0.0,
              "#0d0887"
             ],
             [
              0.1111111111111111,
              "#46039f"
             ],
             [
              0.2222222222222222,
              "#7201a8"
             ],
             [
              0.3333333333333333,
              "#9c179e"
             ],
             [
              0.4444444444444444,
              "#bd3786"
             ],
             [
              0.5555555555555556,
              "#d8576b"
             ],
             [
              0.6666666666666666,
              "#ed7953"
             ],
             [
              0.7777777777777778,
              "#fb9f3a"
             ],
             [
              0.8888888888888888,
              "#fdca26"
             ],
             [
              1.0,
              "#f0f921"
             ]
            ]
           }
          ],
          "mesh3d": [
           {
            "type": "mesh3d",
            "colorbar": {
             "outlinewidth": 0,
             "ticks": ""
            }
           }
          ],
          "scatter": [
           {
            "fillpattern": {
             "fillmode": "overlay",
             "size": 10,
             "solidity": 0.2
            },
            "type": "scatter"
           }
          ],
          "parcoords": [
           {
            "type": "parcoords",
            "line": {
             "colorbar": {
              "outlinewidth": 0,
              "ticks": ""
             }
            }
           }
          ],
          "scatterpolargl": [
           {
            "type": "scatterpolargl",
            "marker": {
             "colorbar": {
              "outlinewidth": 0,
              "ticks": ""
             }
            }
           }
          ],
          "bar": [
           {
            "error_x": {
             "color": "#2a3f5f"
            },
            "error_y": {
             "color": "#2a3f5f"
            },
            "marker": {
             "line": {
              "color": "#E5ECF6",
              "width": 0.5
             },
             "pattern": {
              "fillmode": "overlay",
              "size": 10,
              "solidity": 0.2
             }
            },
            "type": "bar"
           }
          ],
          "scattergeo": [
           {
            "type": "scattergeo",
            "marker": {
             "colorbar": {
              "outlinewidth": 0,
              "ticks": ""
             }
            }
           }
          ],
          "scatterpolar": [
           {
            "type": "scatterpolar",
            "marker": {
             "colorbar": {
              "outlinewidth": 0,
              "ticks": ""
             }
            }
           }
          ],
          "histogram": [
           {
            "marker": {
             "pattern": {
              "fillmode": "overlay",
              "size": 10,
              "solidity": 0.2
             }
            },
            "type": "histogram"
           }
          ],
          "scattergl": [
           {
            "type": "scattergl",
            "marker": {
             "colorbar": {
              "outlinewidth": 0,
              "ticks": ""
             }
            }
           }
          ],
          "scatter3d": [
           {
            "type": "scatter3d",
            "line": {
             "colorbar": {
              "outlinewidth": 0,
              "ticks": ""
             }
            },
            "marker": {
             "colorbar": {
              "outlinewidth": 0,
              "ticks": ""
             }
            }
           }
          ],
          "scattermapbox": [
           {
            "type": "scattermapbox",
            "marker": {
             "colorbar": {
              "outlinewidth": 0,
              "ticks": ""
             }
            }
           }
          ],
          "scatterternary": [
           {
            "type": "scatterternary",
            "marker": {
             "colorbar": {
              "outlinewidth": 0,
              "ticks": ""
             }
            }
           }
          ],
          "scattercarpet": [
           {
            "type": "scattercarpet",
            "marker": {
             "colorbar": {
              "outlinewidth": 0,
              "ticks": ""
             }
            }
           }
          ],
          "carpet": [
           {
            "aaxis": {
             "endlinecolor": "#2a3f5f",
             "gridcolor": "white",
             "linecolor": "white",
             "minorgridcolor": "white",
             "startlinecolor": "#2a3f5f"
            },
            "baxis": {
             "endlinecolor": "#2a3f5f",
             "gridcolor": "white",
             "linecolor": "white",
             "minorgridcolor": "white",
             "startlinecolor": "#2a3f5f"
            },
            "type": "carpet"
           }
          ],
          "table": [
           {
            "cells": {
             "fill": {
              "color": "#EBF0F8"
             },
             "line": {
              "color": "white"
             }
            },
            "header": {
             "fill": {
              "color": "#C8D4E3"
             },
             "line": {
              "color": "white"
             }
            },
            "type": "table"
           }
          ],
          "barpolar": [
           {
            "marker": {
             "line": {
              "color": "#E5ECF6",
              "width": 0.5
             },
             "pattern": {
              "fillmode": "overlay",
              "size": 10,
              "solidity": 0.2
             }
            },
            "type": "barpolar"
           }
          ],
          "pie": [
           {
            "automargin": true,
            "type": "pie"
           }
          ]
         },
         "layout": {
          "autotypenumbers": "strict",
          "colorway": [
           "#636efa",
           "#EF553B",
           "#00cc96",
           "#ab63fa",
           "#FFA15A",
           "#19d3f3",
           "#FF6692",
           "#B6E880",
           "#FF97FF",
           "#FECB52"
          ],
          "font": {
           "color": "#2a3f5f"
          },
          "hovermode": "closest",
          "hoverlabel": {
           "align": "left"
          },
          "paper_bgcolor": "white",
          "plot_bgcolor": "#E5ECF6",
          "polar": {
           "bgcolor": "#E5ECF6",
           "angularaxis": {
            "gridcolor": "white",
            "linecolor": "white",
            "ticks": ""
           },
           "radialaxis": {
            "gridcolor": "white",
            "linecolor": "white",
            "ticks": ""
           }
          },
          "ternary": {
           "bgcolor": "#E5ECF6",
           "aaxis": {
            "gridcolor": "white",
            "linecolor": "white",
            "ticks": ""
           },
           "baxis": {
            "gridcolor": "white",
            "linecolor": "white",
            "ticks": ""
           },
           "caxis": {
            "gridcolor": "white",
            "linecolor": "white",
            "ticks": ""
           }
          },
          "coloraxis": {
           "colorbar": {
            "outlinewidth": 0,
            "ticks": ""
           }
          },
          "colorscale": {
           "sequential": [
            [
             0.0,
             "#0d0887"
            ],
            [
             0.1111111111111111,
             "#46039f"
            ],
            [
             0.2222222222222222,
             "#7201a8"
            ],
            [
             0.3333333333333333,
             "#9c179e"
            ],
            [
             0.4444444444444444,
             "#bd3786"
            ],
            [
             0.5555555555555556,
             "#d8576b"
            ],
            [
             0.6666666666666666,
             "#ed7953"
            ],
            [
             0.7777777777777778,
             "#fb9f3a"
            ],
            [
             0.8888888888888888,
             "#fdca26"
            ],
            [
             1.0,
             "#f0f921"
            ]
           ],
           "sequentialminus": [
            [
             0.0,
             "#0d0887"
            ],
            [
             0.1111111111111111,
             "#46039f"
            ],
            [
             0.2222222222222222,
             "#7201a8"
            ],
            [
             0.3333333333333333,
             "#9c179e"
            ],
            [
             0.4444444444444444,
             "#bd3786"
            ],
            [
             0.5555555555555556,
             "#d8576b"
            ],
            [
             0.6666666666666666,
             "#ed7953"
            ],
            [
             0.7777777777777778,
             "#fb9f3a"
            ],
            [
             0.8888888888888888,
             "#fdca26"
            ],
            [
             1.0,
             "#f0f921"
            ]
           ],
           "diverging": [
            [
             0,
             "#8e0152"
            ],
            [
             0.1,
             "#c51b7d"
            ],
            [
             0.2,
             "#de77ae"
            ],
            [
             0.3,
             "#f1b6da"
            ],
            [
             0.4,
             "#fde0ef"
            ],
            [
             0.5,
             "#f7f7f7"
            ],
            [
             0.6,
             "#e6f5d0"
            ],
            [
             0.7,
             "#b8e186"
            ],
            [
             0.8,
             "#7fbc41"
            ],
            [
             0.9,
             "#4d9221"
            ],
            [
             1,
             "#276419"
            ]
           ]
          },
          "xaxis": {
           "gridcolor": "white",
           "linecolor": "white",
           "ticks": "",
           "title": {
            "standoff": 15
           },
           "zerolinecolor": "white",
           "automargin": true,
           "zerolinewidth": 2
          },
          "yaxis": {
           "gridcolor": "white",
           "linecolor": "white",
           "ticks": "",
           "title": {
            "standoff": 15
           },
           "zerolinecolor": "white",
           "automargin": true,
           "zerolinewidth": 2
          },
          "scene": {
           "xaxis": {
            "backgroundcolor": "#E5ECF6",
            "gridcolor": "white",
            "linecolor": "white",
            "showbackground": true,
            "ticks": "",
            "zerolinecolor": "white",
            "gridwidth": 2
           },
           "yaxis": {
            "backgroundcolor": "#E5ECF6",
            "gridcolor": "white",
            "linecolor": "white",
            "showbackground": true,
            "ticks": "",
            "zerolinecolor": "white",
            "gridwidth": 2
           },
           "zaxis": {
            "backgroundcolor": "#E5ECF6",
            "gridcolor": "white",
            "linecolor": "white",
            "showbackground": true,
            "ticks": "",
            "zerolinecolor": "white",
            "gridwidth": 2
           }
          },
          "shapedefaults": {
           "line": {
            "color": "#2a3f5f"
           }
          },
          "annotationdefaults": {
           "arrowcolor": "#2a3f5f",
           "arrowhead": 0,
           "arrowwidth": 1
          },
          "geo": {
           "bgcolor": "white",
           "landcolor": "#E5ECF6",
           "subunitcolor": "white",
           "showland": true,
           "showlakes": true,
           "lakecolor": "white"
          },
          "title": {
           "x": 0.05
          },
          "mapbox": {
           "style": "light"
          }
         }
        },
        "legend": {
         "orientation": "h",
         "yanchor": "bottom",
         "y": 1,
         "xanchor": "left",
         "x": 0
        },
        "xaxis": {
         "title": {
          "text": "Index"
         }
        },
        "yaxis": {
         "title": {
          "text": "Photovoltaic Production [kWh]"
         }
        }
       },
       "config": {
        "plotlyServerURL": "https://plot.ly"
       }
      },
      "text/html": "<div>                            <div id=\"02a52ea9-bd02-4ed0-84f9-c90e928967b1\" class=\"plotly-graph-div\" style=\"height:525px; width:100%;\"></div>            <script type=\"text/javascript\">                require([\"plotly\"], function(Plotly) {                    window.PLOTLYENV=window.PLOTLYENV || {};                                    if (document.getElementById(\"02a52ea9-bd02-4ed0-84f9-c90e928967b1\")) {                    Plotly.newPlot(                        \"02a52ea9-bd02-4ed0-84f9-c90e928967b1\",                        [{\"line\":{\"color\":\"rgb(84, 84, 84)\"},\"mode\":\"lines\",\"name\":\"Training Data\",\"x\":[0,1,2,3,4,5,6,7,8,9,10,11,12,13,14,15,16,17,18,19,20,21,22,23,24,25,26,27,28,29,30,31,32,33,34,35,36,37,38,39,40,41,42,43,44,45,46,47,48,49,50,51,52,53,54,55,56,57,58,59,60,61,62,63,64,65,66,67,68,69,70,71,72,73,74,75,76,77,78,79,80,81,82,83,84,85,86,87,88,89,90,91,92,93,94,95,96,97,98,99,100,101,102,103,104,105,106,107,108,109,110,111,112,113,114,115,116,117,118,119,120,121,122,123,124,125,126,127,128,129,130,131,132,133,134,135,136,137,138,139,140,141,142,143,144,145,146,147,148,149,150,151,152,153,154,155,156,157,158,159,160,161,162,163,164,165,166,167],\"y\":[0.018496327948999997,0.018331566158999998,0.018384646289000002,0.018501542282,0.018523950942,0.01850235982,0.018478165228999997,0.044271993089999996,1.0271248927,1.3809610127999998,1.7070991739999999,1.9193729401000001,1.2963154962999999,2.3432078709999997,1.4210685902999998,1.2692717016000001,0.2868065223,0.0258488465,0.017686094316000003,0.017944143994999998,0.018046034829,0.018074882094000003,0.018265946642,0.018400848551,0.010301549556,0.0,0.0,0.0,0.0,0.0,0.0,0.0,0.0,0.0,0.0,0.0,0.0,0.0,0.0,0.0,0.0,0.0,0.0,0.0,0.0,0.0,0.0,0.0,0.018343111798,0.018421552198,0.018401780351,0.018308207592,0.018289316368000002,0.018463501469000002,0.018488753287,0.02948181201,0.45243900919999996,1.1643106755,2.947891683,7.81909412,8.122610836,7.651887598,6.491175232,4.567309045,1.8482859538,0.09346071619,0.017625455587,0.018027981854,0.018193141269999998,0.01801500686,0.018344187196,0.018482904435000003,0.018269038346,0.018384396283000003,0.018470018483,0.018458994085999998,0.018268396426000002,0.018280859359,0.018566218249,0.09319509613,0.8458532672,2.6998057109999998,5.693102455,6.934099377000001,7.537921748999999,7.052515633,5.652627908,2.815008876,0.9256914838,0.06644446690000001,0.017589727131,0.017964106448999997,0.018134710518999998,0.018334078900000002,0.018285436328,0.018369443053,0.018459333679,0.018511230707,0.018543723694999997,0.018529453118,0.018525766818,0.018402946647,0.018343341255,0.06387575798,0.3520892179,1.1498749364999998,3.890002192,7.985615969,7.746638552,7.255206346,6.898969287,4.910126572999999,2.1197830711,0.10807906957,0.017722852658999998,0.018010188739,0.018122394403,0.018213029210000002,0.018315706872,0.018219398499,0.018262501297,0.018259969378,0.018269014534,0.018313159529,0.018307160426000002,0.018387524955,0.018434759442,0.10896887612,0.7515132304,2.408481923,4.552574488,6.055584299,6.221213977,4.058747754,2.148642252,1.4703614553,0.9810623633,0.10253678091,0.017560697062999998,0.017793700203,0.018067035627,0.018302451594,0.018365802860000002,0.018199611823,0.018372269598,0.018359431028,0.018421724208,0.018513415733999998,0.018541208537,0.018489379581000002,0.018372199598999998,0.12325154788,0.7678313341,1.1320824396,2.174169825,2.995965468,1.9666792145,1.3241301997000001,1.6652765625000001,1.1483172093,0.48449997359999997,0.03910146677,0.017619058371,0.017949479644,0.018130036369999998,0.018346750088,0.018529278263000003,0.018573252791],\"type\":\"scatter\"},{\"line\":{\"color\":\"rgb(234,143,129)\"},\"mode\":\"lines\",\"name\":\"Observed\",\"x\":[168,169,170,171,172,173,174,175,176,177,178,179,180,181,182,183,184,185,186,187,188,189,190,191,192,193,194,195,196,197,198,199,200,201,202,203,204,205,206,207,208,209,210,211,212,213,214,215,216,217,218,219,220,221,222,223,224,225,226,227,228,229,230,231,232,233,234,235,236,237,238,239],\"y\":[0.018671203597000002,0.018743665489,0.018683955065,0.018699027602000002,0.018628371064,0.018566198842,0.018515504534999998,0.03779805745,0.33515974119999997,1.1450451954999998,1.6808851573,1.8837755494000001,1.7712671946,2.0982058699999997,1.7659456737,2.008267456,1.5282337371999999,0.13307715393,0.017450528256,0.017770569721999998,0.018010784276999998,0.018187735955,0.018451514562,0.018517088599,0.018359768124,0.018436693096,0.018429318602999997,0.018427885166,0.018384793695,0.018285757414000004,0.018359469413,0.024127905640000002,0.15966402365,0.7596074302,0.8102912547,1.1611307459,1.3549109446,1.1501692907,0.7295780319,0.43405269620000003,0.13684107879,0.017389462645999998,0.017870127042,0.018021770891000002,0.018243271604999996,0.018242298682000002,0.018324860907,0.018304861974,0.018338133601999998,0.01822820541,0.018257569154,0.018253759066000002,0.018196517166,0.018246144962999998,0.01837265296,0.049042315790000006,0.30847714829999995,0.6979837798999999,1.1240058472,1.5715413879,2.1644551919999997,3.952080238,1.6442420115,1.8442071034999998,1.7584794353000002,0.16726824398999998,0.017471778551,0.017749423027,0.01799549826,0.018179049842,0.018320043103000002,0.018231219567],\"type\":\"scatter\"},{\"line\":{\"color\":\"rgb(32,115,171)\"},\"mode\":\"lines\",\"name\":\"Predicted\",\"x\":[168,169,170,171,172,173,174,175,176,177,178,179,180,181,182,183,184,185,186,187,188,189,190,191,192,193,194,195,196,197,198,199,200,201,202,203,204,205,206,207,208,209,210,211,212,213,214,215,216,217,218,219,220,221,222,223,224,225,226,227,228,229,230,231,232,233,234,235,236,237,238,239],\"y\":[0.45178984951135126,0.38216136319792543,0.13439898594686436,-0.19198383218716408,-0.45384970195615026,-0.5065855728757492,-0.24792507578113507,0.3486429746290812,1.2202410187413073,2.2248422367414555,3.173089776239517,3.8735948102585223,4.179946571657511,4.027129223445681,3.447779448214527,2.564007829216993,1.5569368813513504,0.6219641496646309,-0.07852101258240177,-0.4526432284673584,-0.4971291200973646,-0.2915759009659336,0.029113377170603506,0.31631694575793473,0.4517898495113514,0.3821613631979241,0.134398985946868,-0.1919838321871683,-0.4538497019561446,-0.5065855728757517,-0.247925075781142,0.34864297462908667,1.2202410187413004,2.224842236741459,3.1730897762395207,3.873594810258519,4.179946571657511,4.027129223445682,3.4477794482145243,2.564007829216989,1.556936881351357,0.6219641496646254,-0.07852101258239466,-0.4526432284673527,-0.4971291200973707,-0.29157590096592917,0.02911337717059953,0.3163169457579366,0.4517898495113506,0.38216136319792593,0.13439898594686495,-0.1919838321871634,-0.45384970195614976,-0.5065855728757582,-0.24792507578113557,0.3486429746290798,1.220241018741306,2.2248422367414538,3.173089776239516,3.873594810258521,4.179946571657511,4.027129223445681,3.4477794482145456,2.5640078292169943,1.5569368813513524,0.6219641496646386,-0.07852101258240092,-0.45264322846735916,-0.49712912009735893,-0.2915759009659342,0.02911337717060647,0.31631694575793456],\"type\":\"scatter\"}],                        {\"template\":{\"data\":{\"histogram2dcontour\":[{\"type\":\"histogram2dcontour\",\"colorbar\":{\"outlinewidth\":0,\"ticks\":\"\"},\"colorscale\":[[0.0,\"#0d0887\"],[0.1111111111111111,\"#46039f\"],[0.2222222222222222,\"#7201a8\"],[0.3333333333333333,\"#9c179e\"],[0.4444444444444444,\"#bd3786\"],[0.5555555555555556,\"#d8576b\"],[0.6666666666666666,\"#ed7953\"],[0.7777777777777778,\"#fb9f3a\"],[0.8888888888888888,\"#fdca26\"],[1.0,\"#f0f921\"]]}],\"choropleth\":[{\"type\":\"choropleth\",\"colorbar\":{\"outlinewidth\":0,\"ticks\":\"\"}}],\"histogram2d\":[{\"type\":\"histogram2d\",\"colorbar\":{\"outlinewidth\":0,\"ticks\":\"\"},\"colorscale\":[[0.0,\"#0d0887\"],[0.1111111111111111,\"#46039f\"],[0.2222222222222222,\"#7201a8\"],[0.3333333333333333,\"#9c179e\"],[0.4444444444444444,\"#bd3786\"],[0.5555555555555556,\"#d8576b\"],[0.6666666666666666,\"#ed7953\"],[0.7777777777777778,\"#fb9f3a\"],[0.8888888888888888,\"#fdca26\"],[1.0,\"#f0f921\"]]}],\"heatmap\":[{\"type\":\"heatmap\",\"colorbar\":{\"outlinewidth\":0,\"ticks\":\"\"},\"colorscale\":[[0.0,\"#0d0887\"],[0.1111111111111111,\"#46039f\"],[0.2222222222222222,\"#7201a8\"],[0.3333333333333333,\"#9c179e\"],[0.4444444444444444,\"#bd3786\"],[0.5555555555555556,\"#d8576b\"],[0.6666666666666666,\"#ed7953\"],[0.7777777777777778,\"#fb9f3a\"],[0.8888888888888888,\"#fdca26\"],[1.0,\"#f0f921\"]]}],\"heatmapgl\":[{\"type\":\"heatmapgl\",\"colorbar\":{\"outlinewidth\":0,\"ticks\":\"\"},\"colorscale\":[[0.0,\"#0d0887\"],[0.1111111111111111,\"#46039f\"],[0.2222222222222222,\"#7201a8\"],[0.3333333333333333,\"#9c179e\"],[0.4444444444444444,\"#bd3786\"],[0.5555555555555556,\"#d8576b\"],[0.6666666666666666,\"#ed7953\"],[0.7777777777777778,\"#fb9f3a\"],[0.8888888888888888,\"#fdca26\"],[1.0,\"#f0f921\"]]}],\"contourcarpet\":[{\"type\":\"contourcarpet\",\"colorbar\":{\"outlinewidth\":0,\"ticks\":\"\"}}],\"contour\":[{\"type\":\"contour\",\"colorbar\":{\"outlinewidth\":0,\"ticks\":\"\"},\"colorscale\":[[0.0,\"#0d0887\"],[0.1111111111111111,\"#46039f\"],[0.2222222222222222,\"#7201a8\"],[0.3333333333333333,\"#9c179e\"],[0.4444444444444444,\"#bd3786\"],[0.5555555555555556,\"#d8576b\"],[0.6666666666666666,\"#ed7953\"],[0.7777777777777778,\"#fb9f3a\"],[0.8888888888888888,\"#fdca26\"],[1.0,\"#f0f921\"]]}],\"surface\":[{\"type\":\"surface\",\"colorbar\":{\"outlinewidth\":0,\"ticks\":\"\"},\"colorscale\":[[0.0,\"#0d0887\"],[0.1111111111111111,\"#46039f\"],[0.2222222222222222,\"#7201a8\"],[0.3333333333333333,\"#9c179e\"],[0.4444444444444444,\"#bd3786\"],[0.5555555555555556,\"#d8576b\"],[0.6666666666666666,\"#ed7953\"],[0.7777777777777778,\"#fb9f3a\"],[0.8888888888888888,\"#fdca26\"],[1.0,\"#f0f921\"]]}],\"mesh3d\":[{\"type\":\"mesh3d\",\"colorbar\":{\"outlinewidth\":0,\"ticks\":\"\"}}],\"scatter\":[{\"fillpattern\":{\"fillmode\":\"overlay\",\"size\":10,\"solidity\":0.2},\"type\":\"scatter\"}],\"parcoords\":[{\"type\":\"parcoords\",\"line\":{\"colorbar\":{\"outlinewidth\":0,\"ticks\":\"\"}}}],\"scatterpolargl\":[{\"type\":\"scatterpolargl\",\"marker\":{\"colorbar\":{\"outlinewidth\":0,\"ticks\":\"\"}}}],\"bar\":[{\"error_x\":{\"color\":\"#2a3f5f\"},\"error_y\":{\"color\":\"#2a3f5f\"},\"marker\":{\"line\":{\"color\":\"#E5ECF6\",\"width\":0.5},\"pattern\":{\"fillmode\":\"overlay\",\"size\":10,\"solidity\":0.2}},\"type\":\"bar\"}],\"scattergeo\":[{\"type\":\"scattergeo\",\"marker\":{\"colorbar\":{\"outlinewidth\":0,\"ticks\":\"\"}}}],\"scatterpolar\":[{\"type\":\"scatterpolar\",\"marker\":{\"colorbar\":{\"outlinewidth\":0,\"ticks\":\"\"}}}],\"histogram\":[{\"marker\":{\"pattern\":{\"fillmode\":\"overlay\",\"size\":10,\"solidity\":0.2}},\"type\":\"histogram\"}],\"scattergl\":[{\"type\":\"scattergl\",\"marker\":{\"colorbar\":{\"outlinewidth\":0,\"ticks\":\"\"}}}],\"scatter3d\":[{\"type\":\"scatter3d\",\"line\":{\"colorbar\":{\"outlinewidth\":0,\"ticks\":\"\"}},\"marker\":{\"colorbar\":{\"outlinewidth\":0,\"ticks\":\"\"}}}],\"scattermapbox\":[{\"type\":\"scattermapbox\",\"marker\":{\"colorbar\":{\"outlinewidth\":0,\"ticks\":\"\"}}}],\"scatterternary\":[{\"type\":\"scatterternary\",\"marker\":{\"colorbar\":{\"outlinewidth\":0,\"ticks\":\"\"}}}],\"scattercarpet\":[{\"type\":\"scattercarpet\",\"marker\":{\"colorbar\":{\"outlinewidth\":0,\"ticks\":\"\"}}}],\"carpet\":[{\"aaxis\":{\"endlinecolor\":\"#2a3f5f\",\"gridcolor\":\"white\",\"linecolor\":\"white\",\"minorgridcolor\":\"white\",\"startlinecolor\":\"#2a3f5f\"},\"baxis\":{\"endlinecolor\":\"#2a3f5f\",\"gridcolor\":\"white\",\"linecolor\":\"white\",\"minorgridcolor\":\"white\",\"startlinecolor\":\"#2a3f5f\"},\"type\":\"carpet\"}],\"table\":[{\"cells\":{\"fill\":{\"color\":\"#EBF0F8\"},\"line\":{\"color\":\"white\"}},\"header\":{\"fill\":{\"color\":\"#C8D4E3\"},\"line\":{\"color\":\"white\"}},\"type\":\"table\"}],\"barpolar\":[{\"marker\":{\"line\":{\"color\":\"#E5ECF6\",\"width\":0.5},\"pattern\":{\"fillmode\":\"overlay\",\"size\":10,\"solidity\":0.2}},\"type\":\"barpolar\"}],\"pie\":[{\"automargin\":true,\"type\":\"pie\"}]},\"layout\":{\"autotypenumbers\":\"strict\",\"colorway\":[\"#636efa\",\"#EF553B\",\"#00cc96\",\"#ab63fa\",\"#FFA15A\",\"#19d3f3\",\"#FF6692\",\"#B6E880\",\"#FF97FF\",\"#FECB52\"],\"font\":{\"color\":\"#2a3f5f\"},\"hovermode\":\"closest\",\"hoverlabel\":{\"align\":\"left\"},\"paper_bgcolor\":\"white\",\"plot_bgcolor\":\"#E5ECF6\",\"polar\":{\"bgcolor\":\"#E5ECF6\",\"angularaxis\":{\"gridcolor\":\"white\",\"linecolor\":\"white\",\"ticks\":\"\"},\"radialaxis\":{\"gridcolor\":\"white\",\"linecolor\":\"white\",\"ticks\":\"\"}},\"ternary\":{\"bgcolor\":\"#E5ECF6\",\"aaxis\":{\"gridcolor\":\"white\",\"linecolor\":\"white\",\"ticks\":\"\"},\"baxis\":{\"gridcolor\":\"white\",\"linecolor\":\"white\",\"ticks\":\"\"},\"caxis\":{\"gridcolor\":\"white\",\"linecolor\":\"white\",\"ticks\":\"\"}},\"coloraxis\":{\"colorbar\":{\"outlinewidth\":0,\"ticks\":\"\"}},\"colorscale\":{\"sequential\":[[0.0,\"#0d0887\"],[0.1111111111111111,\"#46039f\"],[0.2222222222222222,\"#7201a8\"],[0.3333333333333333,\"#9c179e\"],[0.4444444444444444,\"#bd3786\"],[0.5555555555555556,\"#d8576b\"],[0.6666666666666666,\"#ed7953\"],[0.7777777777777778,\"#fb9f3a\"],[0.8888888888888888,\"#fdca26\"],[1.0,\"#f0f921\"]],\"sequentialminus\":[[0.0,\"#0d0887\"],[0.1111111111111111,\"#46039f\"],[0.2222222222222222,\"#7201a8\"],[0.3333333333333333,\"#9c179e\"],[0.4444444444444444,\"#bd3786\"],[0.5555555555555556,\"#d8576b\"],[0.6666666666666666,\"#ed7953\"],[0.7777777777777778,\"#fb9f3a\"],[0.8888888888888888,\"#fdca26\"],[1.0,\"#f0f921\"]],\"diverging\":[[0,\"#8e0152\"],[0.1,\"#c51b7d\"],[0.2,\"#de77ae\"],[0.3,\"#f1b6da\"],[0.4,\"#fde0ef\"],[0.5,\"#f7f7f7\"],[0.6,\"#e6f5d0\"],[0.7,\"#b8e186\"],[0.8,\"#7fbc41\"],[0.9,\"#4d9221\"],[1,\"#276419\"]]},\"xaxis\":{\"gridcolor\":\"white\",\"linecolor\":\"white\",\"ticks\":\"\",\"title\":{\"standoff\":15},\"zerolinecolor\":\"white\",\"automargin\":true,\"zerolinewidth\":2},\"yaxis\":{\"gridcolor\":\"white\",\"linecolor\":\"white\",\"ticks\":\"\",\"title\":{\"standoff\":15},\"zerolinecolor\":\"white\",\"automargin\":true,\"zerolinewidth\":2},\"scene\":{\"xaxis\":{\"backgroundcolor\":\"#E5ECF6\",\"gridcolor\":\"white\",\"linecolor\":\"white\",\"showbackground\":true,\"ticks\":\"\",\"zerolinecolor\":\"white\",\"gridwidth\":2},\"yaxis\":{\"backgroundcolor\":\"#E5ECF6\",\"gridcolor\":\"white\",\"linecolor\":\"white\",\"showbackground\":true,\"ticks\":\"\",\"zerolinecolor\":\"white\",\"gridwidth\":2},\"zaxis\":{\"backgroundcolor\":\"#E5ECF6\",\"gridcolor\":\"white\",\"linecolor\":\"white\",\"showbackground\":true,\"ticks\":\"\",\"zerolinecolor\":\"white\",\"gridwidth\":2}},\"shapedefaults\":{\"line\":{\"color\":\"#2a3f5f\"}},\"annotationdefaults\":{\"arrowcolor\":\"#2a3f5f\",\"arrowhead\":0,\"arrowwidth\":1},\"geo\":{\"bgcolor\":\"white\",\"landcolor\":\"#E5ECF6\",\"subunitcolor\":\"white\",\"showland\":true,\"showlakes\":true,\"lakecolor\":\"white\"},\"title\":{\"x\":0.05},\"mapbox\":{\"style\":\"light\"}}},\"legend\":{\"orientation\":\"h\",\"yanchor\":\"bottom\",\"y\":1,\"xanchor\":\"left\",\"x\":0},\"xaxis\":{\"title\":{\"text\":\"Index\"}},\"yaxis\":{\"title\":{\"text\":\"Photovoltaic Production [kWh]\"}}},                        {\"responsive\": true}                    ).then(function(){\n                            \nvar gd = document.getElementById('02a52ea9-bd02-4ed0-84f9-c90e928967b1');\nvar x = new MutationObserver(function (mutations, observer) {{\n        var display = window.getComputedStyle(gd).display;\n        if (!display || display === 'none') {{\n            console.log([gd, 'removed!']);\n            Plotly.purge(gd);\n            observer.disconnect();\n        }}\n}});\n\n// Listen for the removal of the full notebook cells\nvar notebookContainer = gd.closest('#notebook-container');\nif (notebookContainer) {{\n    x.observe(notebookContainer, {childList: true});\n}}\n\n// Listen for the clearing of the current output cell\nvar outputEl = gd.closest('.output');\nif (outputEl) {{\n    x.observe(outputEl, {childList: true});\n}}\n\n                        })                };                });            </script>        </div>"
     },
     "metadata": {},
     "output_type": "display_data"
    }
   ],
   "source": [
    "fig = go.Figure()\n",
    "\n",
    "# fig.add_trace(go.Scatter(x=list(np.arange(start=WEEK, stop=WEEK + VALIDATION_RANGE)) + list(np.arange(start=WEEK, stop=WEEK + VALIDATION_RANGE))[::-1],\n",
    "#                          y=list(prediction + epsilon) + list(prediction - epsilon)[::-1], # upper, then lower reversed\n",
    "#                          fill='toself',\n",
    "#                          fillcolor='rgba(0,100,80,0.2)',\n",
    "#                          line=dict(color='rgba(255,255,255,0)'),\n",
    "#                          hoverinfo=\"skip\",\n",
    "#                          showlegend=False\n",
    "#                          ))\n",
    "\n",
    "# fig.add_trace(go.Scatter(x=np.arange(start=0, stop=WEEK),\n",
    "#                          y=pred_test,\n",
    "#                          name='Training Data [Prediction]',\n",
    "#                          mode='lines',\n",
    "#                          line=dict(color='rgb(84, 0, 84)')))\n",
    "\n",
    "fig.add_trace(go.Scatter(x=np.arange(start=WEEK-WEEK, stop=WEEK),\n",
    "                         y=DATA[WEEK-WEEK:WEEK],\n",
    "                         name='Training Data',\n",
    "                         mode='lines',\n",
    "                         line=dict(color='rgb(84, 84, 84)')))\n",
    "\n",
    "fig.add_trace(go.Scatter(x=np.arange(start=WEEK, stop=WEEK + VALIDATION_RANGE),\n",
    "                         y=actual,\n",
    "                         name='Observed',\n",
    "                         mode='lines',\n",
    "                         line=dict(color='rgb(234,143,129)')))\n",
    "\n",
    "fig.add_trace(go.Scatter(x=np.arange(start=WEEK, stop=WEEK + VALIDATION_RANGE),\n",
    "                         y=prediction,\n",
    "                         name='Predicted',\n",
    "                         mode='lines',\n",
    "                         line=dict(color='rgb(32,115,171)')))\n",
    "\n",
    "fig.update_layout(\n",
    "    xaxis_title=\"Index\",\n",
    "    yaxis_title=\"Photovoltaic Production [kWh]\",\n",
    "    legend=dict(orientation=\"h\",\n",
    "                yanchor=\"bottom\",\n",
    "                y=1,\n",
    "                xanchor=\"left\",\n",
    "                x=0))\n",
    "\n",
    "fig.show()"
   ],
   "metadata": {
    "collapsed": false,
    "pycharm": {
     "name": "#%%\n"
    }
   }
  },
  {
   "cell_type": "code",
   "execution_count": 22,
   "outputs": [
    {
     "data": {
      "text/plain": "                            0\nTimestamp                    \n2015-02-01 00:00:00  0.018496\n2015-02-01 01:00:00  0.018332\n2015-02-01 02:00:00  0.018385\n2015-02-01 03:00:00  0.018502\n2015-02-01 04:00:00  0.018524\n...                       ...\n2016-01-31 19:00:00  0.017710\n2016-01-31 20:00:00  0.017940\n2016-01-31 21:00:00  0.018149\n2016-01-31 22:00:00  0.018209\n2016-01-31 23:00:00  0.018283\n\n[8760 rows x 1 columns]",
      "text/html": "<div>\n<style scoped>\n    .dataframe tbody tr th:only-of-type {\n        vertical-align: middle;\n    }\n\n    .dataframe tbody tr th {\n        vertical-align: top;\n    }\n\n    .dataframe thead th {\n        text-align: right;\n    }\n</style>\n<table border=\"1\" class=\"dataframe\">\n  <thead>\n    <tr style=\"text-align: right;\">\n      <th></th>\n      <th>0</th>\n    </tr>\n    <tr>\n      <th>Timestamp</th>\n      <th></th>\n    </tr>\n  </thead>\n  <tbody>\n    <tr>\n      <th>2015-02-01 00:00:00</th>\n      <td>0.018496</td>\n    </tr>\n    <tr>\n      <th>2015-02-01 01:00:00</th>\n      <td>0.018332</td>\n    </tr>\n    <tr>\n      <th>2015-02-01 02:00:00</th>\n      <td>0.018385</td>\n    </tr>\n    <tr>\n      <th>2015-02-01 03:00:00</th>\n      <td>0.018502</td>\n    </tr>\n    <tr>\n      <th>2015-02-01 04:00:00</th>\n      <td>0.018524</td>\n    </tr>\n    <tr>\n      <th>...</th>\n      <td>...</td>\n    </tr>\n    <tr>\n      <th>2016-01-31 19:00:00</th>\n      <td>0.017710</td>\n    </tr>\n    <tr>\n      <th>2016-01-31 20:00:00</th>\n      <td>0.017940</td>\n    </tr>\n    <tr>\n      <th>2016-01-31 21:00:00</th>\n      <td>0.018149</td>\n    </tr>\n    <tr>\n      <th>2016-01-31 22:00:00</th>\n      <td>0.018209</td>\n    </tr>\n    <tr>\n      <th>2016-01-31 23:00:00</th>\n      <td>0.018283</td>\n    </tr>\n  </tbody>\n</table>\n<p>8760 rows × 1 columns</p>\n</div>"
     },
     "execution_count": 22,
     "metadata": {},
     "output_type": "execute_result"
    }
   ],
   "source": [
    "DATA.to_frame()"
   ],
   "metadata": {
    "collapsed": false,
    "pycharm": {
     "name": "#%%\n"
    }
   }
  },
  {
   "cell_type": "code",
   "execution_count": 23,
   "outputs": [
    {
     "ename": "NameError",
     "evalue": "name 'flex' is not defined",
     "output_type": "error",
     "traceback": [
      "\u001B[0;31m---------------------------------------------------------------------------\u001B[0m",
      "\u001B[0;31mNameError\u001B[0m                                 Traceback (most recent call last)",
      "\u001B[0;32m/var/folders/nt/w3ctvjn94jn89w856x4xh8zc0000gn/T/ipykernel_81023/1822594287.py\u001B[0m in \u001B[0;36m<module>\u001B[0;34m\u001B[0m\n\u001B[1;32m     16\u001B[0m \u001B[0;34m\u001B[0m\u001B[0m\n\u001B[1;32m     17\u001B[0m fig.add_trace(go.Scatter(x=idx,\n\u001B[0;32m---> 18\u001B[0;31m                          \u001B[0my\u001B[0m\u001B[0;34m=\u001B[0m\u001B[0mflex\u001B[0m\u001B[0;34m,\u001B[0m\u001B[0;34m\u001B[0m\u001B[0;34m\u001B[0m\u001B[0m\n\u001B[0m\u001B[1;32m     19\u001B[0m                          \u001B[0mname\u001B[0m\u001B[0;34m=\u001B[0m\u001B[0;34m'Flexible'\u001B[0m\u001B[0;34m,\u001B[0m\u001B[0;34m\u001B[0m\u001B[0;34m\u001B[0m\u001B[0m\n\u001B[1;32m     20\u001B[0m                          \u001B[0mmode\u001B[0m\u001B[0;34m=\u001B[0m\u001B[0;34m'lines'\u001B[0m\u001B[0;34m,\u001B[0m\u001B[0;34m\u001B[0m\u001B[0;34m\u001B[0m\u001B[0m\n",
      "\u001B[0;31mNameError\u001B[0m: name 'flex' is not defined"
     ]
    }
   ],
   "source": [
    "idx = list(range(0, 72, 1))\n",
    "\n",
    "fig = go.Figure()\n",
    "\n",
    "fig.add_trace(go.Scatter(x=idx,\n",
    "                         y=pv,\n",
    "                         name='PV',\n",
    "                         mode='lines',\n",
    "                         line=dict(color='royalblue', width=3)))\n",
    "\n",
    "fig.add_trace(go.Scatter(x=idx,\n",
    "                         y=fix,\n",
    "                         name='Fixed',\n",
    "                         mode='lines',\n",
    "                         line=dict(color='firebrick', width=3)))\n",
    "\n",
    "fig.add_trace(go.Scatter(x=idx,\n",
    "                         y=flex,\n",
    "                         name='Flexible',\n",
    "                         mode='lines',\n",
    "                         line=dict(color='firebrick', width=3, dash='dash')))\n",
    "\n",
    "fig.add_trace(go.Scatter(x=idx,\n",
    "                         y=np.subtract(pv, np.add(fix, flex)),\n",
    "                         name='Balance',\n",
    "                         mode='lines',\n",
    "                         line=dict(color='black', width=4),\n",
    "                         fill='tozeroy',\n",
    "                         fillcolor=\"rgba(80, 80, 80, 0.5)\"))\n",
    "\n",
    "fig.update_layout(plot_bgcolor='rgba(0,0,0,0)',\n",
    "                  legend=dict(orientation=\"h\",\n",
    "                              yanchor=\"top\",\n",
    "                              y=1.06,\n",
    "                              xanchor=\"left\",\n",
    "                              x=0.0))\n",
    "\n",
    "#x axis\n",
    "# fig.update_xaxes(visible=False)\n",
    "\n",
    "#y axis\n",
    "# fig.update_yaxes(visible=False)\n",
    "\n",
    "fig.update_xaxes(showline=True, linewidth=2, linecolor='grey', title=\"Index\")\n",
    "fig.update_yaxes(showline=True, linewidth=2, linecolor='grey', title=\"kWh\")\n",
    "\n",
    "fig.show()"
   ],
   "metadata": {
    "collapsed": false,
    "pycharm": {
     "name": "#%%\n"
    }
   }
  },
  {
   "cell_type": "code",
   "execution_count": null,
   "outputs": [],
   "source": [
    "from sklearn.ensemble import RandomForestRegressor\n",
    "weather = pd.read_csv(\"GAI_2015_2016.csv\")\n",
    "weather[\"Time\"] = pd.to_datetime(weather[\"Time\"])\n",
    "ensemble = pd.DataFrame(DATA[0:WEEK+VALIDATION_RANGE], columns=[\"Target\"]).merge(weather, how=\"left\", left_index=True, right_on=\"Time\")\n",
    "ensemble"
   ],
   "metadata": {
    "collapsed": false,
    "pycharm": {
     "name": "#%%\n"
    }
   }
  },
  {
   "cell_type": "code",
   "execution_count": null,
   "outputs": [],
   "source": [
    "ensemble.index = ensemble[\"Time\"]\n",
    "ensemble[\"Time\"] = ensemble[\"Time\"].dt.hour\n",
    "ensemble"
   ],
   "metadata": {
    "collapsed": false,
    "pycharm": {
     "name": "#%%\n"
    }
   }
  },
  {
   "cell_type": "code",
   "execution_count": null,
   "outputs": [],
   "source": [
    "from sklearn.preprocessing import OneHotEncoder\n",
    "ohe = OneHotEncoder(sparse=False)\n",
    "hot_np = ohe.fit_transform(ensemble[[\"Time\", \"Condition\"]])\n",
    "hot = pd.DataFrame(data=hot_np, columns=ohe.get_feature_names_out())\n",
    "hot_test = hot[:WEEK]\n",
    "hot_vali = hot[WEEK:]"
   ],
   "metadata": {
    "collapsed": false,
    "pycharm": {
     "name": "#%%\n"
    }
   }
  },
  {
   "cell_type": "code",
   "execution_count": null,
   "outputs": [],
   "source": [
    "rfr = RandomForestRegressor()\n",
    "rfr.fit(hot_test, ensemble[\"Target\"][:WEEK])\n",
    "np.sqrt(mean_squared_error(rfr.predict(hot_vali), ensemble[\"Target\"][WEEK:]))"
   ],
   "metadata": {
    "collapsed": false,
    "pycharm": {
     "name": "#%%\n"
    }
   }
  },
  {
   "cell_type": "markdown",
   "source": [
    "# FIG INTRO FORECASTING"
   ],
   "metadata": {
    "collapsed": false
   }
  },
  {
   "cell_type": "code",
   "execution_count": null,
   "outputs": [],
   "source": [
    "# idx = list(range(0, 72, 2))\n",
    "# pv = [x * 1.2 for x in [0, 0, 0, 4, 20, 45, 50, 50, 34, 10, 0, 0, 0, 0, 0, 2, 15, 35, 40, 45, 30, 15, 0, 0, 0, 0, 0, 10, 25, 50, 60, 50, 44, 20, 0, 0]]\n",
    "# fix = [10, 9, 10, 4, 22, 14, 12, 0, 12, 21, 13, 14, 12, 12, 32, 21, 11, 12, 21, 12, 22, 23, 11, 9, 8, 19, 17, 25, 20, 11, 15, 12, 15, 12, 18, 20]\n",
    "# flex = [0, 0, 0, 20, 5, 0, 0, 0, 19, 10, 0, 8, 0, 0, 0, 5, 9, 0, 0, 0, 0, 20, 10, 0, 5, 0, 19, 0, 0, 20, 9, 7, 0, 0, 0, 4]\n",
    "#\n",
    "# fig = go.Figure()\n",
    "#\n",
    "# fig.add_trace(go.Scatter(x=idx,\n",
    "#                          y=pv,\n",
    "#                          name='PV',\n",
    "#                          mode='lines',\n",
    "#                          line=dict(color='royalblue', width=3)))\n",
    "#\n",
    "# fig.add_trace(go.Scatter(x=idx,\n",
    "#                          y=fix,\n",
    "#                          name='Fixed',\n",
    "#                          mode='lines',\n",
    "#                          line=dict(color='firebrick', width=3)))\n",
    "#\n",
    "# fig.add_trace(go.Scatter(x=idx,\n",
    "#                          y=flex,\n",
    "#                          name='Flexible',\n",
    "#                          mode='lines',\n",
    "#                          line=dict(color='firebrick', width=3, dash='dash')))\n",
    "#\n",
    "# fig.add_trace(go.Scatter(x=idx,\n",
    "#                          y=np.subtract(pv, np.add(fix, flex)),\n",
    "#                          name='Balance',\n",
    "#                          mode='lines',\n",
    "#                          line=dict(color='black', width=4),\n",
    "#                          fill='tozeroy',\n",
    "#                          fillcolor=\"rgba(80, 80, 80, 0.5)\"))\n",
    "#\n",
    "# fig.update_layout(plot_bgcolor='rgba(0,0,0,0)',\n",
    "#                   legend=dict(orientation=\"h\",\n",
    "#                               yanchor=\"top\",\n",
    "#                               y=1.05,\n",
    "#                               xanchor=\"left\",\n",
    "#                               x=0.0))\n",
    "#\n",
    "# #x axis\n",
    "# fig.update_xaxes(visible=False)\n",
    "#\n",
    "# #y axis\n",
    "# fig.update_yaxes(visible=False)\n",
    "#\n",
    "# fig.show()"
   ],
   "metadata": {
    "collapsed": false,
    "pycharm": {
     "name": "#%%\n"
    }
   }
  },
  {
   "cell_type": "code",
   "execution_count": null,
   "outputs": [],
   "source": [],
   "metadata": {
    "collapsed": false,
    "pycharm": {
     "name": "#%%\n"
    }
   }
  }
 ],
 "metadata": {
  "kernelspec": {
   "display_name": "Python 3",
   "language": "python",
   "name": "python3"
  },
  "language_info": {
   "codemirror_mode": {
    "name": "ipython",
    "version": 2
   },
   "file_extension": ".py",
   "mimetype": "text/x-python",
   "name": "python",
   "nbconvert_exporter": "python",
   "pygments_lexer": "ipython2",
   "version": "2.7.6"
  }
 },
 "nbformat": 4,
 "nbformat_minor": 0
}