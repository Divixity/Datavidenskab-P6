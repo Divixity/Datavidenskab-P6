{
 "cells": [
  {
   "cell_type": "code",
   "execution_count": 147,
   "metadata": {
    "collapsed": true
   },
   "outputs": [],
   "source": [
    "import numpy as np\n",
    "import pandas as pd\n",
    "import plotly.graph_objects as go\n",
    "from sklearn.metrics import mean_squared_error\n",
    "\n",
    "import DataRetriever as dr\n",
    "\n",
    "RETRIEVER = dr.DataRetriever()\n",
    "CON_ATTRIBUTES = RETRIEVER.get_attributes(file_name='consuming_attributes.pkl')\n",
    "PV_ATTRIBUTES = RETRIEVER.get_attributes(file_name='producing_attributes.pkl')\n",
    "FLEX_ATTRIBUTES = [\"Load_ClothesWasherPowerWithStandby\", \"Elec_PowerDishwasher\", \"Load_DryerPowerTotal\"]\n",
    "FIXED_ATTRIBUTES = list(set(CON_ATTRIBUTES) - set(FLEX_ATTRIBUTES))\n",
    "\n",
    "attributes = FIXED_ATTRIBUTES\n",
    "\n",
    "DATA = RETRIEVER.get_data(file_name='All-Subsystems-hour-Year2.pkl')[attributes].sum(axis=1).clip(lower=0) / 1000"
   ]
  },
  {
   "cell_type": "code",
   "execution_count": 148,
   "outputs": [],
   "source": [
    "def fourierExtrapolation(data: np.array, number_of_predictions: int, n_sinusoids: int) -> np.array:\n",
    "    \"\"\"\n",
    "    Predict {number_of_predictions} observations after the index data.size of {data}, using {n_sinusoids} sinusoids.\n",
    "    :param data: The data on which to train the model. Corresponds to {_x = x_0, x_1, ... x_(n-1)} in the theory\n",
    "    :param number_of_predictions: The amount of predictions to output. Corresponds to {x_((n-1)+1), x_((n-1)+2), ..., x_((n-1)+{number_of_predictions})}\n",
    "    :param n_sinusoids: The amount of sinusoids on which to base the predictions. I.e. the data probably contains many sinusoids, but we only wish to make predictions based on the {n_sinusoids} largest frequencies.\n",
    "    :return: A numpy array of length data.size + number_of_predictions, containing the transformed original data + predictions\n",
    "    \"\"\"\n",
    "    data_size = data.size  # n\n",
    "\n",
    "    X_frequency_domain = list(np.fft.fft(data))  # The series of complex numbers X = {X1, X2, ...}\n",
    "    frequencies = list(np.fft.fftfreq(data_size, d=1))  # Some frequencies, e.g. {4, 3, -7, 8, -5, ...}\n",
    "\n",
    "    indexes = list(range(len(X_frequency_domain)))  # {0, 1, ..., n-1}\n",
    "    indexes.sort(key=lambda idx: np.absolute(X_frequency_domain[idx]), reverse=True)  # ascendingly sort indices by amplitude\n",
    "    \n",
    "    sample_index = np.arange(0, data_size + number_of_predictions)  # sample_index = {0, 1, ..., n-1, n, n+1, ..., (n-1)+number_of_predictions}\n",
    "    x_restored_sig = np.zeros(sample_index.size)  # Prepare a numpy array to receive x reconstructed from its Fourier Transform\n",
    "\n",
    "    if n_sinusoids == 0:\n",
    "        return x_restored_sig + data.mean()\n",
    "\n",
    "    for i in indexes[:n_sinusoids]:\n",
    "        amplitude = np.absolute(X_frequency_domain[i])\n",
    "        phase = np.angle(X_frequency_domain[i])\n",
    "        x_restored_sig += amplitude * np.cos(2 * np.pi * frequencies[i] * sample_index + phase)\n",
    "\n",
    "    x_restored = 1 / data_size * x_restored_sig\n",
    "\n",
    "    return x_restored"
   ],
   "metadata": {
    "collapsed": false,
    "pycharm": {
     "name": "#%%\n"
    }
   }
  },
  {
   "cell_type": "code",
   "execution_count": 149,
   "outputs": [],
   "source": [
    "TRAIN_DATA = DATA[:int(len(DATA) * 0.80)]"
   ],
   "metadata": {
    "collapsed": false,
    "pycharm": {
     "name": "#%%\n"
    }
   }
  },
  {
   "cell_type": "code",
   "execution_count": 150,
   "outputs": [],
   "source": [
    "TRAIN_DATA_SIZE = TRAIN_DATA.size\n",
    "\n",
    "WEEK = 24 * 7\n",
    "\n",
    "train_range = WEEK\n",
    "VALIDATION_RANGE = 24 * 3\n",
    "\n",
    "SINUSOIDS = list(range(0, 50)) + list(range(50, 210, 10))"
   ],
   "metadata": {
    "collapsed": false,
    "pycharm": {
     "name": "#%%\n"
    }
   }
  },
  {
   "cell_type": "code",
   "execution_count": 151,
   "outputs": [
    {
     "data": {
      "text/plain": "{'divide': 'warn', 'over': 'warn', 'under': 'ignore', 'invalid': 'ignore'}"
     },
     "execution_count": 151,
     "metadata": {},
     "output_type": "execute_result"
    }
   ],
   "source": [
    "np.seterr(invalid='ignore')"
   ],
   "metadata": {
    "collapsed": false,
    "pycharm": {
     "name": "#%%\n"
    }
   }
  },
  {
   "cell_type": "code",
   "execution_count": 152,
   "outputs": [],
   "source": [
    "cv_DataFrame = pd.DataFrame(index=SINUSOIDS)\n",
    "fold = 0\n",
    "while train_range + VALIDATION_RANGE <= TRAIN_DATA_SIZE:\n",
    "    sinusoids_rmse = []\n",
    "    for n_sinusoids in SINUSOIDS:\n",
    "        fft = fourierExtrapolation(data=TRAIN_DATA[train_range - WEEK:train_range], number_of_predictions=VALIDATION_RANGE, n_sinusoids=n_sinusoids)\n",
    "        prediction = pd.Series(data=fft[WEEK:], index=TRAIN_DATA[train_range:train_range + VALIDATION_RANGE].index)\n",
    "\n",
    "        actual = TRAIN_DATA[train_range:train_range+VALIDATION_RANGE]\n",
    "\n",
    "        prediction.reset_index(inplace=True, drop=True)\n",
    "\n",
    "        sinusoids_rmse.append(np.sqrt(mean_squared_error(actual, prediction)))\n",
    "\n",
    "    cv_DataFrame[f\"Fold_{fold}\"] = sinusoids_rmse\n",
    "\n",
    "    train_range += 24 * 5\n",
    "    fold += 1"
   ],
   "metadata": {
    "collapsed": false,
    "pycharm": {
     "name": "#%%\n"
    }
   }
  },
  {
   "cell_type": "code",
   "execution_count": 153,
   "outputs": [
    {
     "data": {
      "text/plain": "       Fold_0    Fold_1    Fold_2    Fold_3    Fold_4    Fold_5    Fold_6  \\\n0    0.572256  1.073675  0.686379  0.752570  0.812613  0.734595  0.948837   \n1    0.572256  1.073675  0.686379  0.752570  0.812613  0.734595  0.948837   \n2    0.526302  1.034416  0.819417  0.693076  0.799358  0.668457  0.961516   \n3    0.527735  1.017040  0.986349  0.659445  0.830955  0.641637  0.994482   \n4    0.484367  1.044078  0.950726  0.672569  0.757215  0.632081  0.977668   \n..        ...       ...       ...       ...       ...       ...       ...   \n160  0.617055  1.151393  0.960108  0.587453  0.850115  0.559415  0.934832   \n170  0.617197  1.151133  0.960407  0.587751  0.851029  0.561535  0.934583   \n180  0.617197  1.151133  0.960407  0.587751  0.851029  0.561535  0.934583   \n190  0.617197  1.151133  0.960407  0.587751  0.851029  0.561535  0.934583   \n200  0.617197  1.151133  0.960407  0.587751  0.851029  0.561535  0.934583   \n\n       Fold_7    Fold_8    Fold_9  ...   Fold_47   Fold_48   Fold_49  \\\n0    0.487269  0.761634  0.551533  ...  0.543403  0.516169  0.439756   \n1    0.487269  0.761634  0.551533  ...  0.543403  0.516169  0.439756   \n2    0.449180  0.745852  0.576125  ...  0.501090  0.492153  0.437596   \n3    0.431096  0.741538  0.622353  ...  0.476004  0.499845  0.454731   \n4    0.413415  0.743847  0.607379  ...  0.504061  0.524255  0.438077   \n..        ...       ...       ...  ...       ...       ...       ...   \n160  0.425556  0.596617  0.527102  ...  0.480848  0.655596  0.439267   \n170  0.426771  0.596877  0.528684  ...  0.481255  0.655565  0.438526   \n180  0.426771  0.596877  0.528684  ...  0.481255  0.655565  0.438526   \n190  0.426771  0.596877  0.528684  ...  0.481255  0.655565  0.438526   \n200  0.426771  0.596877  0.528684  ...  0.481255  0.655565  0.438526   \n\n      Fold_50   Fold_51   Fold_52   Fold_53   Fold_54   Fold_55   Fold_56  \n0    0.508708  0.579314  0.610836  0.547136  0.585801  0.409187  0.436892  \n1    0.508708  0.579314  0.610836  0.547136  0.585801  0.409187  0.436892  \n2    0.524521  0.638968  0.734421  0.504567  0.546389  0.373054  0.415959  \n3    0.551130  0.705756  0.893453  0.486356  0.528518  0.370208  0.419184  \n4    0.531075  0.639228  0.900907  0.483441  0.521676  0.380028  0.422419  \n..        ...       ...       ...       ...       ...       ...       ...  \n160  0.401605  0.660425  0.898645  0.423601  0.480663  0.318675  0.338877  \n170  0.402477  0.660093  0.898737  0.423589  0.480653  0.319049  0.339234  \n180  0.402477  0.660093  0.898737  0.423589  0.480653  0.319049  0.339234  \n190  0.402477  0.660093  0.898737  0.423589  0.480653  0.319049  0.339234  \n200  0.402477  0.660093  0.898737  0.423589  0.480653  0.319049  0.339234  \n\n[66 rows x 57 columns]",
      "text/html": "<div>\n<style scoped>\n    .dataframe tbody tr th:only-of-type {\n        vertical-align: middle;\n    }\n\n    .dataframe tbody tr th {\n        vertical-align: top;\n    }\n\n    .dataframe thead th {\n        text-align: right;\n    }\n</style>\n<table border=\"1\" class=\"dataframe\">\n  <thead>\n    <tr style=\"text-align: right;\">\n      <th></th>\n      <th>Fold_0</th>\n      <th>Fold_1</th>\n      <th>Fold_2</th>\n      <th>Fold_3</th>\n      <th>Fold_4</th>\n      <th>Fold_5</th>\n      <th>Fold_6</th>\n      <th>Fold_7</th>\n      <th>Fold_8</th>\n      <th>Fold_9</th>\n      <th>...</th>\n      <th>Fold_47</th>\n      <th>Fold_48</th>\n      <th>Fold_49</th>\n      <th>Fold_50</th>\n      <th>Fold_51</th>\n      <th>Fold_52</th>\n      <th>Fold_53</th>\n      <th>Fold_54</th>\n      <th>Fold_55</th>\n      <th>Fold_56</th>\n    </tr>\n  </thead>\n  <tbody>\n    <tr>\n      <th>0</th>\n      <td>0.572256</td>\n      <td>1.073675</td>\n      <td>0.686379</td>\n      <td>0.752570</td>\n      <td>0.812613</td>\n      <td>0.734595</td>\n      <td>0.948837</td>\n      <td>0.487269</td>\n      <td>0.761634</td>\n      <td>0.551533</td>\n      <td>...</td>\n      <td>0.543403</td>\n      <td>0.516169</td>\n      <td>0.439756</td>\n      <td>0.508708</td>\n      <td>0.579314</td>\n      <td>0.610836</td>\n      <td>0.547136</td>\n      <td>0.585801</td>\n      <td>0.409187</td>\n      <td>0.436892</td>\n    </tr>\n    <tr>\n      <th>1</th>\n      <td>0.572256</td>\n      <td>1.073675</td>\n      <td>0.686379</td>\n      <td>0.752570</td>\n      <td>0.812613</td>\n      <td>0.734595</td>\n      <td>0.948837</td>\n      <td>0.487269</td>\n      <td>0.761634</td>\n      <td>0.551533</td>\n      <td>...</td>\n      <td>0.543403</td>\n      <td>0.516169</td>\n      <td>0.439756</td>\n      <td>0.508708</td>\n      <td>0.579314</td>\n      <td>0.610836</td>\n      <td>0.547136</td>\n      <td>0.585801</td>\n      <td>0.409187</td>\n      <td>0.436892</td>\n    </tr>\n    <tr>\n      <th>2</th>\n      <td>0.526302</td>\n      <td>1.034416</td>\n      <td>0.819417</td>\n      <td>0.693076</td>\n      <td>0.799358</td>\n      <td>0.668457</td>\n      <td>0.961516</td>\n      <td>0.449180</td>\n      <td>0.745852</td>\n      <td>0.576125</td>\n      <td>...</td>\n      <td>0.501090</td>\n      <td>0.492153</td>\n      <td>0.437596</td>\n      <td>0.524521</td>\n      <td>0.638968</td>\n      <td>0.734421</td>\n      <td>0.504567</td>\n      <td>0.546389</td>\n      <td>0.373054</td>\n      <td>0.415959</td>\n    </tr>\n    <tr>\n      <th>3</th>\n      <td>0.527735</td>\n      <td>1.017040</td>\n      <td>0.986349</td>\n      <td>0.659445</td>\n      <td>0.830955</td>\n      <td>0.641637</td>\n      <td>0.994482</td>\n      <td>0.431096</td>\n      <td>0.741538</td>\n      <td>0.622353</td>\n      <td>...</td>\n      <td>0.476004</td>\n      <td>0.499845</td>\n      <td>0.454731</td>\n      <td>0.551130</td>\n      <td>0.705756</td>\n      <td>0.893453</td>\n      <td>0.486356</td>\n      <td>0.528518</td>\n      <td>0.370208</td>\n      <td>0.419184</td>\n    </tr>\n    <tr>\n      <th>4</th>\n      <td>0.484367</td>\n      <td>1.044078</td>\n      <td>0.950726</td>\n      <td>0.672569</td>\n      <td>0.757215</td>\n      <td>0.632081</td>\n      <td>0.977668</td>\n      <td>0.413415</td>\n      <td>0.743847</td>\n      <td>0.607379</td>\n      <td>...</td>\n      <td>0.504061</td>\n      <td>0.524255</td>\n      <td>0.438077</td>\n      <td>0.531075</td>\n      <td>0.639228</td>\n      <td>0.900907</td>\n      <td>0.483441</td>\n      <td>0.521676</td>\n      <td>0.380028</td>\n      <td>0.422419</td>\n    </tr>\n    <tr>\n      <th>...</th>\n      <td>...</td>\n      <td>...</td>\n      <td>...</td>\n      <td>...</td>\n      <td>...</td>\n      <td>...</td>\n      <td>...</td>\n      <td>...</td>\n      <td>...</td>\n      <td>...</td>\n      <td>...</td>\n      <td>...</td>\n      <td>...</td>\n      <td>...</td>\n      <td>...</td>\n      <td>...</td>\n      <td>...</td>\n      <td>...</td>\n      <td>...</td>\n      <td>...</td>\n      <td>...</td>\n    </tr>\n    <tr>\n      <th>160</th>\n      <td>0.617055</td>\n      <td>1.151393</td>\n      <td>0.960108</td>\n      <td>0.587453</td>\n      <td>0.850115</td>\n      <td>0.559415</td>\n      <td>0.934832</td>\n      <td>0.425556</td>\n      <td>0.596617</td>\n      <td>0.527102</td>\n      <td>...</td>\n      <td>0.480848</td>\n      <td>0.655596</td>\n      <td>0.439267</td>\n      <td>0.401605</td>\n      <td>0.660425</td>\n      <td>0.898645</td>\n      <td>0.423601</td>\n      <td>0.480663</td>\n      <td>0.318675</td>\n      <td>0.338877</td>\n    </tr>\n    <tr>\n      <th>170</th>\n      <td>0.617197</td>\n      <td>1.151133</td>\n      <td>0.960407</td>\n      <td>0.587751</td>\n      <td>0.851029</td>\n      <td>0.561535</td>\n      <td>0.934583</td>\n      <td>0.426771</td>\n      <td>0.596877</td>\n      <td>0.528684</td>\n      <td>...</td>\n      <td>0.481255</td>\n      <td>0.655565</td>\n      <td>0.438526</td>\n      <td>0.402477</td>\n      <td>0.660093</td>\n      <td>0.898737</td>\n      <td>0.423589</td>\n      <td>0.480653</td>\n      <td>0.319049</td>\n      <td>0.339234</td>\n    </tr>\n    <tr>\n      <th>180</th>\n      <td>0.617197</td>\n      <td>1.151133</td>\n      <td>0.960407</td>\n      <td>0.587751</td>\n      <td>0.851029</td>\n      <td>0.561535</td>\n      <td>0.934583</td>\n      <td>0.426771</td>\n      <td>0.596877</td>\n      <td>0.528684</td>\n      <td>...</td>\n      <td>0.481255</td>\n      <td>0.655565</td>\n      <td>0.438526</td>\n      <td>0.402477</td>\n      <td>0.660093</td>\n      <td>0.898737</td>\n      <td>0.423589</td>\n      <td>0.480653</td>\n      <td>0.319049</td>\n      <td>0.339234</td>\n    </tr>\n    <tr>\n      <th>190</th>\n      <td>0.617197</td>\n      <td>1.151133</td>\n      <td>0.960407</td>\n      <td>0.587751</td>\n      <td>0.851029</td>\n      <td>0.561535</td>\n      <td>0.934583</td>\n      <td>0.426771</td>\n      <td>0.596877</td>\n      <td>0.528684</td>\n      <td>...</td>\n      <td>0.481255</td>\n      <td>0.655565</td>\n      <td>0.438526</td>\n      <td>0.402477</td>\n      <td>0.660093</td>\n      <td>0.898737</td>\n      <td>0.423589</td>\n      <td>0.480653</td>\n      <td>0.319049</td>\n      <td>0.339234</td>\n    </tr>\n    <tr>\n      <th>200</th>\n      <td>0.617197</td>\n      <td>1.151133</td>\n      <td>0.960407</td>\n      <td>0.587751</td>\n      <td>0.851029</td>\n      <td>0.561535</td>\n      <td>0.934583</td>\n      <td>0.426771</td>\n      <td>0.596877</td>\n      <td>0.528684</td>\n      <td>...</td>\n      <td>0.481255</td>\n      <td>0.655565</td>\n      <td>0.438526</td>\n      <td>0.402477</td>\n      <td>0.660093</td>\n      <td>0.898737</td>\n      <td>0.423589</td>\n      <td>0.480653</td>\n      <td>0.319049</td>\n      <td>0.339234</td>\n    </tr>\n  </tbody>\n</table>\n<p>66 rows × 57 columns</p>\n</div>"
     },
     "execution_count": 153,
     "metadata": {},
     "output_type": "execute_result"
    }
   ],
   "source": [
    "cv_DataFrame"
   ],
   "metadata": {
    "collapsed": false,
    "pycharm": {
     "name": "#%%\n"
    }
   }
  },
  {
   "cell_type": "code",
   "execution_count": 154,
   "outputs": [
    {
     "data": {
      "text/plain": "130"
     },
     "execution_count": 154,
     "metadata": {},
     "output_type": "execute_result"
    }
   ],
   "source": [
    "cv_DataFrame.mean(axis=1).idxmin()"
   ],
   "metadata": {
    "collapsed": false,
    "pycharm": {
     "name": "#%%\n"
    }
   }
  },
  {
   "cell_type": "code",
   "execution_count": 155,
   "outputs": [
    {
     "data": {
      "text/plain": "0      0.598310\n1      0.598310\n2      0.587236\n3      0.601959\n4      0.590819\n         ...   \n160    0.549915\n170    0.550119\n180    0.550119\n190    0.550119\n200    0.550119\nLength: 66, dtype: float64"
     },
     "execution_count": 155,
     "metadata": {},
     "output_type": "execute_result"
    }
   ],
   "source": [
    "cv_DataFrame.mean(axis=1)"
   ],
   "metadata": {
    "collapsed": false,
    "pycharm": {
     "name": "#%%\n"
    }
   }
  },
  {
   "cell_type": "code",
   "execution_count": 156,
   "outputs": [
    {
     "data": {
      "text/plain": "0.698240112451032"
     },
     "execution_count": 156,
     "metadata": {},
     "output_type": "execute_result"
    }
   ],
   "source": [
    "sinusoids_rmse = []\n",
    "fold = 0\n",
    "while train_range + VALIDATION_RANGE <= DATA.size:\n",
    "    fft = fourierExtrapolation(data=DATA[train_range - WEEK:train_range],\n",
    "                               number_of_predictions=VALIDATION_RANGE,\n",
    "                               n_sinusoids=cv_DataFrame.mean(axis=1).idxmin())\n",
    "    prediction = pd.Series(data=fft[WEEK:])\n",
    "\n",
    "    actual = DATA[train_range: train_range+VALIDATION_RANGE]\n",
    "\n",
    "    prediction.reset_index(inplace=True, drop=True)\n",
    "\n",
    "    sinusoids_rmse.append(np.sqrt(mean_squared_error(actual, prediction)))\n",
    "\n",
    "    train_range += 24 * 5\n",
    "    fold += 1\n",
    "\n",
    "test_rmse = sum(sinusoids_rmse) / len(sinusoids_rmse)\n",
    "test_rmse"
   ],
   "metadata": {
    "collapsed": false,
    "pycharm": {
     "name": "#%%\n"
    }
   }
  },
  {
   "cell_type": "code",
   "execution_count": 157,
   "outputs": [],
   "source": [
    "fft = fourierExtrapolation(data=DATA[0:WEEK], number_of_predictions=VALIDATION_RANGE, n_sinusoids=cv_DataFrame.mean(axis=1).idxmin())\n",
    "prediction = pd.Series(data=fft[WEEK:], index=DATA[DATA[0:WEEK].size:DATA[0:WEEK].size + VALIDATION_RANGE].index)\n",
    "\n",
    "pred_test = fft[:WEEK]\n",
    "\n",
    "actual = DATA[WEEK:WEEK+VALIDATION_RANGE]\n",
    "\n",
    "if attributes == PV_ATTRIBUTES:\n",
    "    pv = prediction\n",
    "elif attributes == FIXED_ATTRIBUTES:\n",
    "    fix = prediction\n",
    "elif attributes == FLEX_ATTRIBUTES:\n",
    "    flex = actual"
   ],
   "metadata": {
    "collapsed": false,
    "pycharm": {
     "name": "#%%\n"
    }
   }
  },
  {
   "cell_type": "code",
   "execution_count": 158,
   "outputs": [
    {
     "data": {
      "application/vnd.plotly.v1+json": {
       "data": [
        {
         "line": {
          "color": "rgb(84, 84, 84)"
         },
         "mode": "lines",
         "name": "Training Data",
         "x": [
          0,
          1,
          2,
          3,
          4,
          5,
          6,
          7,
          8,
          9,
          10,
          11,
          12,
          13,
          14,
          15,
          16,
          17,
          18,
          19,
          20,
          21,
          22,
          23,
          24,
          25,
          26,
          27,
          28,
          29,
          30,
          31,
          32,
          33,
          34,
          35,
          36,
          37,
          38,
          39,
          40,
          41,
          42,
          43,
          44,
          45,
          46,
          47,
          48,
          49,
          50,
          51,
          52,
          53,
          54,
          55,
          56,
          57,
          58,
          59,
          60,
          61,
          62,
          63,
          64,
          65,
          66,
          67,
          68,
          69,
          70,
          71,
          72,
          73,
          74,
          75,
          76,
          77,
          78,
          79,
          80,
          81,
          82,
          83,
          84,
          85,
          86,
          87,
          88,
          89,
          90,
          91,
          92,
          93,
          94,
          95,
          96,
          97,
          98,
          99,
          100,
          101,
          102,
          103,
          104,
          105,
          106,
          107,
          108,
          109,
          110,
          111,
          112,
          113,
          114,
          115,
          116,
          117,
          118,
          119,
          120,
          121,
          122,
          123,
          124,
          125,
          126,
          127,
          128,
          129,
          130,
          131,
          132,
          133,
          134,
          135,
          136,
          137,
          138,
          139,
          140,
          141,
          142,
          143,
          144,
          145,
          146,
          147,
          148,
          149,
          150,
          151,
          152,
          153,
          154,
          155,
          156,
          157,
          158,
          159,
          160,
          161,
          162,
          163,
          164,
          165,
          166,
          167
         ],
         "y": [
          1.748570368766,
          2.216490329136,
          1.941348955622,
          1.7508798795959999,
          1.97974908359,
          1.9460791157589998,
          1.7981812534560002,
          1.970087984136,
          3.345049211102,
          3.9837579469390003,
          3.1436381440880004,
          2.0017671062639995,
          2.3522920084920003,
          2.1346070650069997,
          1.966920787394,
          0.726249919247,
          1.1968185143140002,
          1.824993858387,
          2.289751203893,
          1.9161240566709998,
          1.284071123943,
          1.8577821960229999,
          1.855791513882,
          1.7190989943440003,
          2.188410807151,
          1.750238768378,
          1.552057358274,
          1.686654012273,
          1.4310889057490004,
          1.497234807243,
          3.0630982458130003,
          1.9248576879400003,
          1.9734607594170002,
          2.4098460789350002,
          1.7454700690669998,
          1.4104964238199997,
          0.748146935111,
          1.240178777818,
          1.309317873875,
          1.5239945295550001,
          2.186726070586,
          1.9724482451240002,
          2.601030519891,
          2.950883453598,
          2.284171914329,
          2.5965737040129997,
          2.080928266591,
          2.25367963878,
          1.689136779111,
          1.9437933907899998,
          1.8938844960599996,
          1.7001733374899997,
          2.2525823352429994,
          1.695438316738,
          3.835330174502,
          3.7128683123750004,
          3.5151116496099997,
          2.8350468755479996,
          2.585374073324,
          2.5546823780900003,
          2.150611873368,
          1.1718760929870002,
          1.1493025302989999,
          0.955028340734,
          1.891622931347,
          2.130164225078,
          2.2103606939979996,
          2.1644241814069995,
          1.8013689529749999,
          2.149228025338,
          2.658509757583,
          1.713239572005,
          1.760457723597,
          1.845658011291,
          1.6505346537200003,
          1.8396114796069998,
          1.8234284012809998,
          1.9928011207220002,
          3.3682555198299995,
          2.4166581211650002,
          2.0575373557870003,
          1.85684346201,
          1.4698066986710001,
          0.594989629524,
          0.569866307414,
          0.724070328294,
          0.5759411970999999,
          0.5620116326019999,
          0.7797393244390001,
          1.535614965947,
          1.946384075419,
          0.9788124975779999,
          1.7671223511120002,
          1.9199818187770001,
          1.875238669986,
          1.016064859529,
          1.111167128302,
          1.1746056600099999,
          1.132441693217,
          1.1198199271629998,
          1.017530455764,
          1.076142793365,
          2.446078166935,
          2.017672707945,
          2.1496765644269997,
          1.583533822504,
          1.6459625285310002,
          1.909077505733,
          1.9653192107620001,
          0.764668568178,
          1.0251886216180002,
          1.0947078964179997,
          2.074391316231,
          1.8383658090509998,
          0.891873394666,
          0.9099812011250001,
          0.9359323397930002,
          1.0089049202559999,
          1.2430518049500001,
          0.488139737232,
          0.40395908377500006,
          0.42065296665100005,
          0.413511541309,
          0.409790019808,
          0.42094660842000003,
          0.750014391553,
          2.9337948468630004,
          2.986862982602,
          3.0132838393499997,
          2.3993022574419998,
          2.233699470887,
          2.3868204080230004,
          2.5320280497490004,
          2.576945615646,
          2.3147392562770004,
          2.3359726088830004,
          2.3352991488640003,
          2.724579798904,
          3.1773388671959997,
          3.214269654227,
          1.7435024072019998,
          1.14616813964,
          1.206978624368,
          1.9743186744799999,
          1.804702903922,
          2.102790323546,
          1.624085454175,
          1.815702321944,
          1.7733395272299997,
          1.6458213386490002,
          1.779898361089,
          1.7803548548030002,
          3.2997301626919997,
          3.8742778150480004,
          3.168321221574,
          0.9188832500829999,
          0.9573304415959999,
          2.074098193807,
          2.037896508117,
          1.981240227241,
          1.247133583808,
          1.482064095647,
          1.941431655707,
          2.288078326715,
          2.30856395981,
          1.2954894253140001,
          1.5375372545139998,
          1.34001484627
         ],
         "type": "scatter"
        },
        {
         "line": {
          "color": "rgb(234,143,129)"
         },
         "mode": "lines",
         "name": "Observed",
         "x": [
          168,
          169,
          170,
          171,
          172,
          173,
          174,
          175,
          176,
          177,
          178,
          179,
          180,
          181,
          182,
          183,
          184,
          185,
          186,
          187,
          188,
          189,
          190,
          191,
          192,
          193,
          194,
          195,
          196,
          197,
          198,
          199,
          200,
          201,
          202,
          203,
          204,
          205,
          206,
          207,
          208,
          209,
          210,
          211,
          212,
          213,
          214,
          215,
          216,
          217,
          218,
          219,
          220,
          221,
          222,
          223,
          224,
          225,
          226,
          227,
          228,
          229,
          230,
          231,
          232,
          233,
          234,
          235,
          236,
          237,
          238,
          239
         ],
         "y": [
          1.9238553102659997,
          1.358205294713,
          1.3500984677640002,
          1.343108919674,
          1.359198079524,
          1.346650557887,
          1.360530453,
          1.3547639352060001,
          2.8243890182510003,
          2.789744318647,
          1.820134792939,
          0.932489955886,
          1.351148341645,
          1.044833783853,
          1.5023470225679998,
          0.9785564165230001,
          0.69780339978,
          1.052098387321,
          1.6246520853180002,
          1.714882185012,
          1.1101427006319997,
          1.806516571311,
          1.190367158001,
          0.957844356173,
          1.383806305356,
          1.2235990715660001,
          1.2411530589589999,
          1.136535326469,
          1.0669831737390003,
          1.0756810108710002,
          2.862442644498,
          1.438067544348,
          2.1133986818,
          2.3111259170450005,
          1.355127900143,
          1.390931220244,
          1.2810129640930001,
          1.2158743644260002,
          1.71057910679,
          1.7224918430649998,
          1.210795671208,
          1.7220023707,
          2.30612908306,
          2.004962730491,
          1.2022006375480003,
          2.5149159233139997,
          1.842647053204,
          1.653283024578,
          1.810716867127,
          1.948236522797,
          1.6076899451350002,
          1.7388215063690002,
          1.661906591224,
          2.333745460026,
          3.5498642939069995,
          1.9788222102309998,
          2.7814579195739997,
          2.32061207642,
          1.9803592074429999,
          2.0147200957139995,
          1.713688494529,
          1.9492349191530005,
          2.0962726473899997,
          1.467749508885,
          0.819612298518,
          1.526395549533,
          2.2761394908540002,
          1.9428291920860001,
          1.539701603549,
          2.0501061568699996,
          2.6206403817519996,
          2.1699002603640003
         ],
         "type": "scatter"
        },
        {
         "line": {
          "color": "rgb(32,115,171)"
         },
         "mode": "lines",
         "name": "Predicted",
         "x": [
          168,
          169,
          170,
          171,
          172,
          173,
          174,
          175,
          176,
          177,
          178,
          179,
          180,
          181,
          182,
          183,
          184,
          185,
          186,
          187,
          188,
          189,
          190,
          191,
          192,
          193,
          194,
          195,
          196,
          197,
          198,
          199,
          200,
          201,
          202,
          203,
          204,
          205,
          206,
          207,
          208,
          209,
          210,
          211,
          212,
          213,
          214,
          215,
          216,
          217,
          218,
          219,
          220,
          221,
          222,
          223,
          224,
          225,
          226,
          227,
          228,
          229,
          230,
          231,
          232,
          233,
          234,
          235,
          236,
          237,
          238,
          239
         ],
         "y": [
          1.847452288087067,
          2.1236975497956116,
          1.9184120015039094,
          1.808971787221621,
          1.9495780159681328,
          1.8238014850875657,
          1.8957805859642651,
          1.9913303430543001,
          3.2866899521743136,
          4.044537393375237,
          3.18396488058083,
          2.0035566072914746,
          2.3024509911998567,
          2.1390612141537626,
          1.9299957181680056,
          0.6967895418886499,
          1.2013102551378645,
          1.8755347788956926,
          2.2729847757721355,
          1.9995453208376694,
          1.2949475734611464,
          1.773446093423602,
          1.8748761616265837,
          1.7283266197379097,
          2.0646118188319167,
          1.8000479969182595,
          1.6213948578964648,
          1.6592755960466885,
          1.4560532425948955,
          1.5745009454882195,
          3.0023552883348907,
          1.8977337432234107,
          1.9662707546077578,
          2.359774865588413,
          1.740921941552424,
          1.4337218955258437,
          0.8035852029229641,
          1.2314365086931496,
          1.3587196509736814,
          1.5199154882696748,
          2.147269251193574,
          1.9109154368920622,
          2.6409155065861087,
          2.88674523222658,
          2.3206679939304453,
          2.646227262401699,
          2.0575998849302755,
          2.305668873315886,
          1.7045886928926832,
          1.8669214949266597,
          1.9188547060300305,
          1.7085234497899702,
          2.173527012076718,
          1.7161670502041264,
          3.8420602126695287,
          3.7621939179069384,
          3.51970221510729,
          2.813023198041033,
          2.682680813048954,
          2.5338397153340604,
          1.9820559767542942,
          1.2371805130690845,
          1.1768481533994475,
          0.8483287237136624,
          1.960477927490807,
          2.275109688788437,
          2.1623154644264875,
          2.130727451929798,
          1.8213325229650763,
          2.1004385015409697,
          2.5591314461201535,
          1.784155145905267
         ],
         "type": "scatter"
        }
       ],
       "layout": {
        "template": {
         "data": {
          "histogram2dcontour": [
           {
            "type": "histogram2dcontour",
            "colorbar": {
             "outlinewidth": 0,
             "ticks": ""
            },
            "colorscale": [
             [
              0.0,
              "#0d0887"
             ],
             [
              0.1111111111111111,
              "#46039f"
             ],
             [
              0.2222222222222222,
              "#7201a8"
             ],
             [
              0.3333333333333333,
              "#9c179e"
             ],
             [
              0.4444444444444444,
              "#bd3786"
             ],
             [
              0.5555555555555556,
              "#d8576b"
             ],
             [
              0.6666666666666666,
              "#ed7953"
             ],
             [
              0.7777777777777778,
              "#fb9f3a"
             ],
             [
              0.8888888888888888,
              "#fdca26"
             ],
             [
              1.0,
              "#f0f921"
             ]
            ]
           }
          ],
          "choropleth": [
           {
            "type": "choropleth",
            "colorbar": {
             "outlinewidth": 0,
             "ticks": ""
            }
           }
          ],
          "histogram2d": [
           {
            "type": "histogram2d",
            "colorbar": {
             "outlinewidth": 0,
             "ticks": ""
            },
            "colorscale": [
             [
              0.0,
              "#0d0887"
             ],
             [
              0.1111111111111111,
              "#46039f"
             ],
             [
              0.2222222222222222,
              "#7201a8"
             ],
             [
              0.3333333333333333,
              "#9c179e"
             ],
             [
              0.4444444444444444,
              "#bd3786"
             ],
             [
              0.5555555555555556,
              "#d8576b"
             ],
             [
              0.6666666666666666,
              "#ed7953"
             ],
             [
              0.7777777777777778,
              "#fb9f3a"
             ],
             [
              0.8888888888888888,
              "#fdca26"
             ],
             [
              1.0,
              "#f0f921"
             ]
            ]
           }
          ],
          "heatmap": [
           {
            "type": "heatmap",
            "colorbar": {
             "outlinewidth": 0,
             "ticks": ""
            },
            "colorscale": [
             [
              0.0,
              "#0d0887"
             ],
             [
              0.1111111111111111,
              "#46039f"
             ],
             [
              0.2222222222222222,
              "#7201a8"
             ],
             [
              0.3333333333333333,
              "#9c179e"
             ],
             [
              0.4444444444444444,
              "#bd3786"
             ],
             [
              0.5555555555555556,
              "#d8576b"
             ],
             [
              0.6666666666666666,
              "#ed7953"
             ],
             [
              0.7777777777777778,
              "#fb9f3a"
             ],
             [
              0.8888888888888888,
              "#fdca26"
             ],
             [
              1.0,
              "#f0f921"
             ]
            ]
           }
          ],
          "heatmapgl": [
           {
            "type": "heatmapgl",
            "colorbar": {
             "outlinewidth": 0,
             "ticks": ""
            },
            "colorscale": [
             [
              0.0,
              "#0d0887"
             ],
             [
              0.1111111111111111,
              "#46039f"
             ],
             [
              0.2222222222222222,
              "#7201a8"
             ],
             [
              0.3333333333333333,
              "#9c179e"
             ],
             [
              0.4444444444444444,
              "#bd3786"
             ],
             [
              0.5555555555555556,
              "#d8576b"
             ],
             [
              0.6666666666666666,
              "#ed7953"
             ],
             [
              0.7777777777777778,
              "#fb9f3a"
             ],
             [
              0.8888888888888888,
              "#fdca26"
             ],
             [
              1.0,
              "#f0f921"
             ]
            ]
           }
          ],
          "contourcarpet": [
           {
            "type": "contourcarpet",
            "colorbar": {
             "outlinewidth": 0,
             "ticks": ""
            }
           }
          ],
          "contour": [
           {
            "type": "contour",
            "colorbar": {
             "outlinewidth": 0,
             "ticks": ""
            },
            "colorscale": [
             [
              0.0,
              "#0d0887"
             ],
             [
              0.1111111111111111,
              "#46039f"
             ],
             [
              0.2222222222222222,
              "#7201a8"
             ],
             [
              0.3333333333333333,
              "#9c179e"
             ],
             [
              0.4444444444444444,
              "#bd3786"
             ],
             [
              0.5555555555555556,
              "#d8576b"
             ],
             [
              0.6666666666666666,
              "#ed7953"
             ],
             [
              0.7777777777777778,
              "#fb9f3a"
             ],
             [
              0.8888888888888888,
              "#fdca26"
             ],
             [
              1.0,
              "#f0f921"
             ]
            ]
           }
          ],
          "surface": [
           {
            "type": "surface",
            "colorbar": {
             "outlinewidth": 0,
             "ticks": ""
            },
            "colorscale": [
             [
              0.0,
              "#0d0887"
             ],
             [
              0.1111111111111111,
              "#46039f"
             ],
             [
              0.2222222222222222,
              "#7201a8"
             ],
             [
              0.3333333333333333,
              "#9c179e"
             ],
             [
              0.4444444444444444,
              "#bd3786"
             ],
             [
              0.5555555555555556,
              "#d8576b"
             ],
             [
              0.6666666666666666,
              "#ed7953"
             ],
             [
              0.7777777777777778,
              "#fb9f3a"
             ],
             [
              0.8888888888888888,
              "#fdca26"
             ],
             [
              1.0,
              "#f0f921"
             ]
            ]
           }
          ],
          "mesh3d": [
           {
            "type": "mesh3d",
            "colorbar": {
             "outlinewidth": 0,
             "ticks": ""
            }
           }
          ],
          "scatter": [
           {
            "fillpattern": {
             "fillmode": "overlay",
             "size": 10,
             "solidity": 0.2
            },
            "type": "scatter"
           }
          ],
          "parcoords": [
           {
            "type": "parcoords",
            "line": {
             "colorbar": {
              "outlinewidth": 0,
              "ticks": ""
             }
            }
           }
          ],
          "scatterpolargl": [
           {
            "type": "scatterpolargl",
            "marker": {
             "colorbar": {
              "outlinewidth": 0,
              "ticks": ""
             }
            }
           }
          ],
          "bar": [
           {
            "error_x": {
             "color": "#2a3f5f"
            },
            "error_y": {
             "color": "#2a3f5f"
            },
            "marker": {
             "line": {
              "color": "#E5ECF6",
              "width": 0.5
             },
             "pattern": {
              "fillmode": "overlay",
              "size": 10,
              "solidity": 0.2
             }
            },
            "type": "bar"
           }
          ],
          "scattergeo": [
           {
            "type": "scattergeo",
            "marker": {
             "colorbar": {
              "outlinewidth": 0,
              "ticks": ""
             }
            }
           }
          ],
          "scatterpolar": [
           {
            "type": "scatterpolar",
            "marker": {
             "colorbar": {
              "outlinewidth": 0,
              "ticks": ""
             }
            }
           }
          ],
          "histogram": [
           {
            "marker": {
             "pattern": {
              "fillmode": "overlay",
              "size": 10,
              "solidity": 0.2
             }
            },
            "type": "histogram"
           }
          ],
          "scattergl": [
           {
            "type": "scattergl",
            "marker": {
             "colorbar": {
              "outlinewidth": 0,
              "ticks": ""
             }
            }
           }
          ],
          "scatter3d": [
           {
            "type": "scatter3d",
            "line": {
             "colorbar": {
              "outlinewidth": 0,
              "ticks": ""
             }
            },
            "marker": {
             "colorbar": {
              "outlinewidth": 0,
              "ticks": ""
             }
            }
           }
          ],
          "scattermapbox": [
           {
            "type": "scattermapbox",
            "marker": {
             "colorbar": {
              "outlinewidth": 0,
              "ticks": ""
             }
            }
           }
          ],
          "scatterternary": [
           {
            "type": "scatterternary",
            "marker": {
             "colorbar": {
              "outlinewidth": 0,
              "ticks": ""
             }
            }
           }
          ],
          "scattercarpet": [
           {
            "type": "scattercarpet",
            "marker": {
             "colorbar": {
              "outlinewidth": 0,
              "ticks": ""
             }
            }
           }
          ],
          "carpet": [
           {
            "aaxis": {
             "endlinecolor": "#2a3f5f",
             "gridcolor": "white",
             "linecolor": "white",
             "minorgridcolor": "white",
             "startlinecolor": "#2a3f5f"
            },
            "baxis": {
             "endlinecolor": "#2a3f5f",
             "gridcolor": "white",
             "linecolor": "white",
             "minorgridcolor": "white",
             "startlinecolor": "#2a3f5f"
            },
            "type": "carpet"
           }
          ],
          "table": [
           {
            "cells": {
             "fill": {
              "color": "#EBF0F8"
             },
             "line": {
              "color": "white"
             }
            },
            "header": {
             "fill": {
              "color": "#C8D4E3"
             },
             "line": {
              "color": "white"
             }
            },
            "type": "table"
           }
          ],
          "barpolar": [
           {
            "marker": {
             "line": {
              "color": "#E5ECF6",
              "width": 0.5
             },
             "pattern": {
              "fillmode": "overlay",
              "size": 10,
              "solidity": 0.2
             }
            },
            "type": "barpolar"
           }
          ],
          "pie": [
           {
            "automargin": true,
            "type": "pie"
           }
          ]
         },
         "layout": {
          "autotypenumbers": "strict",
          "colorway": [
           "#636efa",
           "#EF553B",
           "#00cc96",
           "#ab63fa",
           "#FFA15A",
           "#19d3f3",
           "#FF6692",
           "#B6E880",
           "#FF97FF",
           "#FECB52"
          ],
          "font": {
           "color": "#2a3f5f"
          },
          "hovermode": "closest",
          "hoverlabel": {
           "align": "left"
          },
          "paper_bgcolor": "white",
          "plot_bgcolor": "#E5ECF6",
          "polar": {
           "bgcolor": "#E5ECF6",
           "angularaxis": {
            "gridcolor": "white",
            "linecolor": "white",
            "ticks": ""
           },
           "radialaxis": {
            "gridcolor": "white",
            "linecolor": "white",
            "ticks": ""
           }
          },
          "ternary": {
           "bgcolor": "#E5ECF6",
           "aaxis": {
            "gridcolor": "white",
            "linecolor": "white",
            "ticks": ""
           },
           "baxis": {
            "gridcolor": "white",
            "linecolor": "white",
            "ticks": ""
           },
           "caxis": {
            "gridcolor": "white",
            "linecolor": "white",
            "ticks": ""
           }
          },
          "coloraxis": {
           "colorbar": {
            "outlinewidth": 0,
            "ticks": ""
           }
          },
          "colorscale": {
           "sequential": [
            [
             0.0,
             "#0d0887"
            ],
            [
             0.1111111111111111,
             "#46039f"
            ],
            [
             0.2222222222222222,
             "#7201a8"
            ],
            [
             0.3333333333333333,
             "#9c179e"
            ],
            [
             0.4444444444444444,
             "#bd3786"
            ],
            [
             0.5555555555555556,
             "#d8576b"
            ],
            [
             0.6666666666666666,
             "#ed7953"
            ],
            [
             0.7777777777777778,
             "#fb9f3a"
            ],
            [
             0.8888888888888888,
             "#fdca26"
            ],
            [
             1.0,
             "#f0f921"
            ]
           ],
           "sequentialminus": [
            [
             0.0,
             "#0d0887"
            ],
            [
             0.1111111111111111,
             "#46039f"
            ],
            [
             0.2222222222222222,
             "#7201a8"
            ],
            [
             0.3333333333333333,
             "#9c179e"
            ],
            [
             0.4444444444444444,
             "#bd3786"
            ],
            [
             0.5555555555555556,
             "#d8576b"
            ],
            [
             0.6666666666666666,
             "#ed7953"
            ],
            [
             0.7777777777777778,
             "#fb9f3a"
            ],
            [
             0.8888888888888888,
             "#fdca26"
            ],
            [
             1.0,
             "#f0f921"
            ]
           ],
           "diverging": [
            [
             0,
             "#8e0152"
            ],
            [
             0.1,
             "#c51b7d"
            ],
            [
             0.2,
             "#de77ae"
            ],
            [
             0.3,
             "#f1b6da"
            ],
            [
             0.4,
             "#fde0ef"
            ],
            [
             0.5,
             "#f7f7f7"
            ],
            [
             0.6,
             "#e6f5d0"
            ],
            [
             0.7,
             "#b8e186"
            ],
            [
             0.8,
             "#7fbc41"
            ],
            [
             0.9,
             "#4d9221"
            ],
            [
             1,
             "#276419"
            ]
           ]
          },
          "xaxis": {
           "gridcolor": "white",
           "linecolor": "white",
           "ticks": "",
           "title": {
            "standoff": 15
           },
           "zerolinecolor": "white",
           "automargin": true,
           "zerolinewidth": 2
          },
          "yaxis": {
           "gridcolor": "white",
           "linecolor": "white",
           "ticks": "",
           "title": {
            "standoff": 15
           },
           "zerolinecolor": "white",
           "automargin": true,
           "zerolinewidth": 2
          },
          "scene": {
           "xaxis": {
            "backgroundcolor": "#E5ECF6",
            "gridcolor": "white",
            "linecolor": "white",
            "showbackground": true,
            "ticks": "",
            "zerolinecolor": "white",
            "gridwidth": 2
           },
           "yaxis": {
            "backgroundcolor": "#E5ECF6",
            "gridcolor": "white",
            "linecolor": "white",
            "showbackground": true,
            "ticks": "",
            "zerolinecolor": "white",
            "gridwidth": 2
           },
           "zaxis": {
            "backgroundcolor": "#E5ECF6",
            "gridcolor": "white",
            "linecolor": "white",
            "showbackground": true,
            "ticks": "",
            "zerolinecolor": "white",
            "gridwidth": 2
           }
          },
          "shapedefaults": {
           "line": {
            "color": "#2a3f5f"
           }
          },
          "annotationdefaults": {
           "arrowcolor": "#2a3f5f",
           "arrowhead": 0,
           "arrowwidth": 1
          },
          "geo": {
           "bgcolor": "white",
           "landcolor": "#E5ECF6",
           "subunitcolor": "white",
           "showland": true,
           "showlakes": true,
           "lakecolor": "white"
          },
          "title": {
           "x": 0.05
          },
          "mapbox": {
           "style": "light"
          }
         }
        },
        "legend": {
         "orientation": "h",
         "yanchor": "bottom",
         "y": 1,
         "xanchor": "left",
         "x": 0
        },
        "xaxis": {
         "title": {
          "text": "Index"
         }
        },
        "yaxis": {
         "title": {
          "text": "Photovoltaic Production [kWh]"
         }
        }
       },
       "config": {
        "plotlyServerURL": "https://plot.ly"
       }
      },
      "text/html": "<div>                            <div id=\"a59cd2ba-0744-42a5-bfe6-0570f86d0408\" class=\"plotly-graph-div\" style=\"height:525px; width:100%;\"></div>            <script type=\"text/javascript\">                require([\"plotly\"], function(Plotly) {                    window.PLOTLYENV=window.PLOTLYENV || {};                                    if (document.getElementById(\"a59cd2ba-0744-42a5-bfe6-0570f86d0408\")) {                    Plotly.newPlot(                        \"a59cd2ba-0744-42a5-bfe6-0570f86d0408\",                        [{\"line\":{\"color\":\"rgb(84, 84, 84)\"},\"mode\":\"lines\",\"name\":\"Training Data\",\"x\":[0,1,2,3,4,5,6,7,8,9,10,11,12,13,14,15,16,17,18,19,20,21,22,23,24,25,26,27,28,29,30,31,32,33,34,35,36,37,38,39,40,41,42,43,44,45,46,47,48,49,50,51,52,53,54,55,56,57,58,59,60,61,62,63,64,65,66,67,68,69,70,71,72,73,74,75,76,77,78,79,80,81,82,83,84,85,86,87,88,89,90,91,92,93,94,95,96,97,98,99,100,101,102,103,104,105,106,107,108,109,110,111,112,113,114,115,116,117,118,119,120,121,122,123,124,125,126,127,128,129,130,131,132,133,134,135,136,137,138,139,140,141,142,143,144,145,146,147,148,149,150,151,152,153,154,155,156,157,158,159,160,161,162,163,164,165,166,167],\"y\":[1.748570368766,2.216490329136,1.941348955622,1.7508798795959999,1.97974908359,1.9460791157589998,1.7981812534560002,1.970087984136,3.345049211102,3.9837579469390003,3.1436381440880004,2.0017671062639995,2.3522920084920003,2.1346070650069997,1.966920787394,0.726249919247,1.1968185143140002,1.824993858387,2.289751203893,1.9161240566709998,1.284071123943,1.8577821960229999,1.855791513882,1.7190989943440003,2.188410807151,1.750238768378,1.552057358274,1.686654012273,1.4310889057490004,1.497234807243,3.0630982458130003,1.9248576879400003,1.9734607594170002,2.4098460789350002,1.7454700690669998,1.4104964238199997,0.748146935111,1.240178777818,1.309317873875,1.5239945295550001,2.186726070586,1.9724482451240002,2.601030519891,2.950883453598,2.284171914329,2.5965737040129997,2.080928266591,2.25367963878,1.689136779111,1.9437933907899998,1.8938844960599996,1.7001733374899997,2.2525823352429994,1.695438316738,3.835330174502,3.7128683123750004,3.5151116496099997,2.8350468755479996,2.585374073324,2.5546823780900003,2.150611873368,1.1718760929870002,1.1493025302989999,0.955028340734,1.891622931347,2.130164225078,2.2103606939979996,2.1644241814069995,1.8013689529749999,2.149228025338,2.658509757583,1.713239572005,1.760457723597,1.845658011291,1.6505346537200003,1.8396114796069998,1.8234284012809998,1.9928011207220002,3.3682555198299995,2.4166581211650002,2.0575373557870003,1.85684346201,1.4698066986710001,0.594989629524,0.569866307414,0.724070328294,0.5759411970999999,0.5620116326019999,0.7797393244390001,1.535614965947,1.946384075419,0.9788124975779999,1.7671223511120002,1.9199818187770001,1.875238669986,1.016064859529,1.111167128302,1.1746056600099999,1.132441693217,1.1198199271629998,1.017530455764,1.076142793365,2.446078166935,2.017672707945,2.1496765644269997,1.583533822504,1.6459625285310002,1.909077505733,1.9653192107620001,0.764668568178,1.0251886216180002,1.0947078964179997,2.074391316231,1.8383658090509998,0.891873394666,0.9099812011250001,0.9359323397930002,1.0089049202559999,1.2430518049500001,0.488139737232,0.40395908377500006,0.42065296665100005,0.413511541309,0.409790019808,0.42094660842000003,0.750014391553,2.9337948468630004,2.986862982602,3.0132838393499997,2.3993022574419998,2.233699470887,2.3868204080230004,2.5320280497490004,2.576945615646,2.3147392562770004,2.3359726088830004,2.3352991488640003,2.724579798904,3.1773388671959997,3.214269654227,1.7435024072019998,1.14616813964,1.206978624368,1.9743186744799999,1.804702903922,2.102790323546,1.624085454175,1.815702321944,1.7733395272299997,1.6458213386490002,1.779898361089,1.7803548548030002,3.2997301626919997,3.8742778150480004,3.168321221574,0.9188832500829999,0.9573304415959999,2.074098193807,2.037896508117,1.981240227241,1.247133583808,1.482064095647,1.941431655707,2.288078326715,2.30856395981,1.2954894253140001,1.5375372545139998,1.34001484627],\"type\":\"scatter\"},{\"line\":{\"color\":\"rgb(234,143,129)\"},\"mode\":\"lines\",\"name\":\"Observed\",\"x\":[168,169,170,171,172,173,174,175,176,177,178,179,180,181,182,183,184,185,186,187,188,189,190,191,192,193,194,195,196,197,198,199,200,201,202,203,204,205,206,207,208,209,210,211,212,213,214,215,216,217,218,219,220,221,222,223,224,225,226,227,228,229,230,231,232,233,234,235,236,237,238,239],\"y\":[1.9238553102659997,1.358205294713,1.3500984677640002,1.343108919674,1.359198079524,1.346650557887,1.360530453,1.3547639352060001,2.8243890182510003,2.789744318647,1.820134792939,0.932489955886,1.351148341645,1.044833783853,1.5023470225679998,0.9785564165230001,0.69780339978,1.052098387321,1.6246520853180002,1.714882185012,1.1101427006319997,1.806516571311,1.190367158001,0.957844356173,1.383806305356,1.2235990715660001,1.2411530589589999,1.136535326469,1.0669831737390003,1.0756810108710002,2.862442644498,1.438067544348,2.1133986818,2.3111259170450005,1.355127900143,1.390931220244,1.2810129640930001,1.2158743644260002,1.71057910679,1.7224918430649998,1.210795671208,1.7220023707,2.30612908306,2.004962730491,1.2022006375480003,2.5149159233139997,1.842647053204,1.653283024578,1.810716867127,1.948236522797,1.6076899451350002,1.7388215063690002,1.661906591224,2.333745460026,3.5498642939069995,1.9788222102309998,2.7814579195739997,2.32061207642,1.9803592074429999,2.0147200957139995,1.713688494529,1.9492349191530005,2.0962726473899997,1.467749508885,0.819612298518,1.526395549533,2.2761394908540002,1.9428291920860001,1.539701603549,2.0501061568699996,2.6206403817519996,2.1699002603640003],\"type\":\"scatter\"},{\"line\":{\"color\":\"rgb(32,115,171)\"},\"mode\":\"lines\",\"name\":\"Predicted\",\"x\":[168,169,170,171,172,173,174,175,176,177,178,179,180,181,182,183,184,185,186,187,188,189,190,191,192,193,194,195,196,197,198,199,200,201,202,203,204,205,206,207,208,209,210,211,212,213,214,215,216,217,218,219,220,221,222,223,224,225,226,227,228,229,230,231,232,233,234,235,236,237,238,239],\"y\":[1.847452288087067,2.1236975497956116,1.9184120015039094,1.808971787221621,1.9495780159681328,1.8238014850875657,1.8957805859642651,1.9913303430543001,3.2866899521743136,4.044537393375237,3.18396488058083,2.0035566072914746,2.3024509911998567,2.1390612141537626,1.9299957181680056,0.6967895418886499,1.2013102551378645,1.8755347788956926,2.2729847757721355,1.9995453208376694,1.2949475734611464,1.773446093423602,1.8748761616265837,1.7283266197379097,2.0646118188319167,1.8000479969182595,1.6213948578964648,1.6592755960466885,1.4560532425948955,1.5745009454882195,3.0023552883348907,1.8977337432234107,1.9662707546077578,2.359774865588413,1.740921941552424,1.4337218955258437,0.8035852029229641,1.2314365086931496,1.3587196509736814,1.5199154882696748,2.147269251193574,1.9109154368920622,2.6409155065861087,2.88674523222658,2.3206679939304453,2.646227262401699,2.0575998849302755,2.305668873315886,1.7045886928926832,1.8669214949266597,1.9188547060300305,1.7085234497899702,2.173527012076718,1.7161670502041264,3.8420602126695287,3.7621939179069384,3.51970221510729,2.813023198041033,2.682680813048954,2.5338397153340604,1.9820559767542942,1.2371805130690845,1.1768481533994475,0.8483287237136624,1.960477927490807,2.275109688788437,2.1623154644264875,2.130727451929798,1.8213325229650763,2.1004385015409697,2.5591314461201535,1.784155145905267],\"type\":\"scatter\"}],                        {\"template\":{\"data\":{\"histogram2dcontour\":[{\"type\":\"histogram2dcontour\",\"colorbar\":{\"outlinewidth\":0,\"ticks\":\"\"},\"colorscale\":[[0.0,\"#0d0887\"],[0.1111111111111111,\"#46039f\"],[0.2222222222222222,\"#7201a8\"],[0.3333333333333333,\"#9c179e\"],[0.4444444444444444,\"#bd3786\"],[0.5555555555555556,\"#d8576b\"],[0.6666666666666666,\"#ed7953\"],[0.7777777777777778,\"#fb9f3a\"],[0.8888888888888888,\"#fdca26\"],[1.0,\"#f0f921\"]]}],\"choropleth\":[{\"type\":\"choropleth\",\"colorbar\":{\"outlinewidth\":0,\"ticks\":\"\"}}],\"histogram2d\":[{\"type\":\"histogram2d\",\"colorbar\":{\"outlinewidth\":0,\"ticks\":\"\"},\"colorscale\":[[0.0,\"#0d0887\"],[0.1111111111111111,\"#46039f\"],[0.2222222222222222,\"#7201a8\"],[0.3333333333333333,\"#9c179e\"],[0.4444444444444444,\"#bd3786\"],[0.5555555555555556,\"#d8576b\"],[0.6666666666666666,\"#ed7953\"],[0.7777777777777778,\"#fb9f3a\"],[0.8888888888888888,\"#fdca26\"],[1.0,\"#f0f921\"]]}],\"heatmap\":[{\"type\":\"heatmap\",\"colorbar\":{\"outlinewidth\":0,\"ticks\":\"\"},\"colorscale\":[[0.0,\"#0d0887\"],[0.1111111111111111,\"#46039f\"],[0.2222222222222222,\"#7201a8\"],[0.3333333333333333,\"#9c179e\"],[0.4444444444444444,\"#bd3786\"],[0.5555555555555556,\"#d8576b\"],[0.6666666666666666,\"#ed7953\"],[0.7777777777777778,\"#fb9f3a\"],[0.8888888888888888,\"#fdca26\"],[1.0,\"#f0f921\"]]}],\"heatmapgl\":[{\"type\":\"heatmapgl\",\"colorbar\":{\"outlinewidth\":0,\"ticks\":\"\"},\"colorscale\":[[0.0,\"#0d0887\"],[0.1111111111111111,\"#46039f\"],[0.2222222222222222,\"#7201a8\"],[0.3333333333333333,\"#9c179e\"],[0.4444444444444444,\"#bd3786\"],[0.5555555555555556,\"#d8576b\"],[0.6666666666666666,\"#ed7953\"],[0.7777777777777778,\"#fb9f3a\"],[0.8888888888888888,\"#fdca26\"],[1.0,\"#f0f921\"]]}],\"contourcarpet\":[{\"type\":\"contourcarpet\",\"colorbar\":{\"outlinewidth\":0,\"ticks\":\"\"}}],\"contour\":[{\"type\":\"contour\",\"colorbar\":{\"outlinewidth\":0,\"ticks\":\"\"},\"colorscale\":[[0.0,\"#0d0887\"],[0.1111111111111111,\"#46039f\"],[0.2222222222222222,\"#7201a8\"],[0.3333333333333333,\"#9c179e\"],[0.4444444444444444,\"#bd3786\"],[0.5555555555555556,\"#d8576b\"],[0.6666666666666666,\"#ed7953\"],[0.7777777777777778,\"#fb9f3a\"],[0.8888888888888888,\"#fdca26\"],[1.0,\"#f0f921\"]]}],\"surface\":[{\"type\":\"surface\",\"colorbar\":{\"outlinewidth\":0,\"ticks\":\"\"},\"colorscale\":[[0.0,\"#0d0887\"],[0.1111111111111111,\"#46039f\"],[0.2222222222222222,\"#7201a8\"],[0.3333333333333333,\"#9c179e\"],[0.4444444444444444,\"#bd3786\"],[0.5555555555555556,\"#d8576b\"],[0.6666666666666666,\"#ed7953\"],[0.7777777777777778,\"#fb9f3a\"],[0.8888888888888888,\"#fdca26\"],[1.0,\"#f0f921\"]]}],\"mesh3d\":[{\"type\":\"mesh3d\",\"colorbar\":{\"outlinewidth\":0,\"ticks\":\"\"}}],\"scatter\":[{\"fillpattern\":{\"fillmode\":\"overlay\",\"size\":10,\"solidity\":0.2},\"type\":\"scatter\"}],\"parcoords\":[{\"type\":\"parcoords\",\"line\":{\"colorbar\":{\"outlinewidth\":0,\"ticks\":\"\"}}}],\"scatterpolargl\":[{\"type\":\"scatterpolargl\",\"marker\":{\"colorbar\":{\"outlinewidth\":0,\"ticks\":\"\"}}}],\"bar\":[{\"error_x\":{\"color\":\"#2a3f5f\"},\"error_y\":{\"color\":\"#2a3f5f\"},\"marker\":{\"line\":{\"color\":\"#E5ECF6\",\"width\":0.5},\"pattern\":{\"fillmode\":\"overlay\",\"size\":10,\"solidity\":0.2}},\"type\":\"bar\"}],\"scattergeo\":[{\"type\":\"scattergeo\",\"marker\":{\"colorbar\":{\"outlinewidth\":0,\"ticks\":\"\"}}}],\"scatterpolar\":[{\"type\":\"scatterpolar\",\"marker\":{\"colorbar\":{\"outlinewidth\":0,\"ticks\":\"\"}}}],\"histogram\":[{\"marker\":{\"pattern\":{\"fillmode\":\"overlay\",\"size\":10,\"solidity\":0.2}},\"type\":\"histogram\"}],\"scattergl\":[{\"type\":\"scattergl\",\"marker\":{\"colorbar\":{\"outlinewidth\":0,\"ticks\":\"\"}}}],\"scatter3d\":[{\"type\":\"scatter3d\",\"line\":{\"colorbar\":{\"outlinewidth\":0,\"ticks\":\"\"}},\"marker\":{\"colorbar\":{\"outlinewidth\":0,\"ticks\":\"\"}}}],\"scattermapbox\":[{\"type\":\"scattermapbox\",\"marker\":{\"colorbar\":{\"outlinewidth\":0,\"ticks\":\"\"}}}],\"scatterternary\":[{\"type\":\"scatterternary\",\"marker\":{\"colorbar\":{\"outlinewidth\":0,\"ticks\":\"\"}}}],\"scattercarpet\":[{\"type\":\"scattercarpet\",\"marker\":{\"colorbar\":{\"outlinewidth\":0,\"ticks\":\"\"}}}],\"carpet\":[{\"aaxis\":{\"endlinecolor\":\"#2a3f5f\",\"gridcolor\":\"white\",\"linecolor\":\"white\",\"minorgridcolor\":\"white\",\"startlinecolor\":\"#2a3f5f\"},\"baxis\":{\"endlinecolor\":\"#2a3f5f\",\"gridcolor\":\"white\",\"linecolor\":\"white\",\"minorgridcolor\":\"white\",\"startlinecolor\":\"#2a3f5f\"},\"type\":\"carpet\"}],\"table\":[{\"cells\":{\"fill\":{\"color\":\"#EBF0F8\"},\"line\":{\"color\":\"white\"}},\"header\":{\"fill\":{\"color\":\"#C8D4E3\"},\"line\":{\"color\":\"white\"}},\"type\":\"table\"}],\"barpolar\":[{\"marker\":{\"line\":{\"color\":\"#E5ECF6\",\"width\":0.5},\"pattern\":{\"fillmode\":\"overlay\",\"size\":10,\"solidity\":0.2}},\"type\":\"barpolar\"}],\"pie\":[{\"automargin\":true,\"type\":\"pie\"}]},\"layout\":{\"autotypenumbers\":\"strict\",\"colorway\":[\"#636efa\",\"#EF553B\",\"#00cc96\",\"#ab63fa\",\"#FFA15A\",\"#19d3f3\",\"#FF6692\",\"#B6E880\",\"#FF97FF\",\"#FECB52\"],\"font\":{\"color\":\"#2a3f5f\"},\"hovermode\":\"closest\",\"hoverlabel\":{\"align\":\"left\"},\"paper_bgcolor\":\"white\",\"plot_bgcolor\":\"#E5ECF6\",\"polar\":{\"bgcolor\":\"#E5ECF6\",\"angularaxis\":{\"gridcolor\":\"white\",\"linecolor\":\"white\",\"ticks\":\"\"},\"radialaxis\":{\"gridcolor\":\"white\",\"linecolor\":\"white\",\"ticks\":\"\"}},\"ternary\":{\"bgcolor\":\"#E5ECF6\",\"aaxis\":{\"gridcolor\":\"white\",\"linecolor\":\"white\",\"ticks\":\"\"},\"baxis\":{\"gridcolor\":\"white\",\"linecolor\":\"white\",\"ticks\":\"\"},\"caxis\":{\"gridcolor\":\"white\",\"linecolor\":\"white\",\"ticks\":\"\"}},\"coloraxis\":{\"colorbar\":{\"outlinewidth\":0,\"ticks\":\"\"}},\"colorscale\":{\"sequential\":[[0.0,\"#0d0887\"],[0.1111111111111111,\"#46039f\"],[0.2222222222222222,\"#7201a8\"],[0.3333333333333333,\"#9c179e\"],[0.4444444444444444,\"#bd3786\"],[0.5555555555555556,\"#d8576b\"],[0.6666666666666666,\"#ed7953\"],[0.7777777777777778,\"#fb9f3a\"],[0.8888888888888888,\"#fdca26\"],[1.0,\"#f0f921\"]],\"sequentialminus\":[[0.0,\"#0d0887\"],[0.1111111111111111,\"#46039f\"],[0.2222222222222222,\"#7201a8\"],[0.3333333333333333,\"#9c179e\"],[0.4444444444444444,\"#bd3786\"],[0.5555555555555556,\"#d8576b\"],[0.6666666666666666,\"#ed7953\"],[0.7777777777777778,\"#fb9f3a\"],[0.8888888888888888,\"#fdca26\"],[1.0,\"#f0f921\"]],\"diverging\":[[0,\"#8e0152\"],[0.1,\"#c51b7d\"],[0.2,\"#de77ae\"],[0.3,\"#f1b6da\"],[0.4,\"#fde0ef\"],[0.5,\"#f7f7f7\"],[0.6,\"#e6f5d0\"],[0.7,\"#b8e186\"],[0.8,\"#7fbc41\"],[0.9,\"#4d9221\"],[1,\"#276419\"]]},\"xaxis\":{\"gridcolor\":\"white\",\"linecolor\":\"white\",\"ticks\":\"\",\"title\":{\"standoff\":15},\"zerolinecolor\":\"white\",\"automargin\":true,\"zerolinewidth\":2},\"yaxis\":{\"gridcolor\":\"white\",\"linecolor\":\"white\",\"ticks\":\"\",\"title\":{\"standoff\":15},\"zerolinecolor\":\"white\",\"automargin\":true,\"zerolinewidth\":2},\"scene\":{\"xaxis\":{\"backgroundcolor\":\"#E5ECF6\",\"gridcolor\":\"white\",\"linecolor\":\"white\",\"showbackground\":true,\"ticks\":\"\",\"zerolinecolor\":\"white\",\"gridwidth\":2},\"yaxis\":{\"backgroundcolor\":\"#E5ECF6\",\"gridcolor\":\"white\",\"linecolor\":\"white\",\"showbackground\":true,\"ticks\":\"\",\"zerolinecolor\":\"white\",\"gridwidth\":2},\"zaxis\":{\"backgroundcolor\":\"#E5ECF6\",\"gridcolor\":\"white\",\"linecolor\":\"white\",\"showbackground\":true,\"ticks\":\"\",\"zerolinecolor\":\"white\",\"gridwidth\":2}},\"shapedefaults\":{\"line\":{\"color\":\"#2a3f5f\"}},\"annotationdefaults\":{\"arrowcolor\":\"#2a3f5f\",\"arrowhead\":0,\"arrowwidth\":1},\"geo\":{\"bgcolor\":\"white\",\"landcolor\":\"#E5ECF6\",\"subunitcolor\":\"white\",\"showland\":true,\"showlakes\":true,\"lakecolor\":\"white\"},\"title\":{\"x\":0.05},\"mapbox\":{\"style\":\"light\"}}},\"legend\":{\"orientation\":\"h\",\"yanchor\":\"bottom\",\"y\":1,\"xanchor\":\"left\",\"x\":0},\"xaxis\":{\"title\":{\"text\":\"Index\"}},\"yaxis\":{\"title\":{\"text\":\"Photovoltaic Production [kWh]\"}}},                        {\"responsive\": true}                    ).then(function(){\n                            \nvar gd = document.getElementById('a59cd2ba-0744-42a5-bfe6-0570f86d0408');\nvar x = new MutationObserver(function (mutations, observer) {{\n        var display = window.getComputedStyle(gd).display;\n        if (!display || display === 'none') {{\n            console.log([gd, 'removed!']);\n            Plotly.purge(gd);\n            observer.disconnect();\n        }}\n}});\n\n// Listen for the removal of the full notebook cells\nvar notebookContainer = gd.closest('#notebook-container');\nif (notebookContainer) {{\n    x.observe(notebookContainer, {childList: true});\n}}\n\n// Listen for the clearing of the current output cell\nvar outputEl = gd.closest('.output');\nif (outputEl) {{\n    x.observe(outputEl, {childList: true});\n}}\n\n                        })                };                });            </script>        </div>"
     },
     "metadata": {},
     "output_type": "display_data"
    }
   ],
   "source": [
    "fig = go.Figure()\n",
    "\n",
    "# fig.add_trace(go.Scatter(x=list(np.arange(start=WEEK, stop=WEEK + VALIDATION_RANGE)) + list(np.arange(start=WEEK, stop=WEEK + VALIDATION_RANGE))[::-1],\n",
    "#                          y=list(prediction + epsilon) + list(prediction - epsilon)[::-1], # upper, then lower reversed\n",
    "#                          fill='toself',\n",
    "#                          fillcolor='rgba(0,100,80,0.2)',\n",
    "#                          line=dict(color='rgba(255,255,255,0)'),\n",
    "#                          hoverinfo=\"skip\",\n",
    "#                          showlegend=False\n",
    "#                          ))\n",
    "\n",
    "# fig.add_trace(go.Scatter(x=np.arange(start=0, stop=WEEK),\n",
    "#                          y=pred_test,\n",
    "#                          name='Training Data [Prediction]',\n",
    "#                          mode='lines',\n",
    "#                          line=dict(color='rgb(84, 0, 84)')))\n",
    "\n",
    "fig.add_trace(go.Scatter(x=np.arange(start=WEEK-WEEK, stop=WEEK),\n",
    "                         y=DATA[WEEK-WEEK:WEEK],\n",
    "                         name='Training Data',\n",
    "                         mode='lines',\n",
    "                         line=dict(color='rgb(84, 84, 84)')))\n",
    "\n",
    "fig.add_trace(go.Scatter(x=np.arange(start=WEEK, stop=WEEK + VALIDATION_RANGE),\n",
    "                         y=actual,\n",
    "                         name='Observed',\n",
    "                         mode='lines',\n",
    "                         line=dict(color='rgb(234,143,129)')))\n",
    "\n",
    "fig.add_trace(go.Scatter(x=np.arange(start=WEEK, stop=WEEK + VALIDATION_RANGE),\n",
    "                         y=prediction,\n",
    "                         name='Predicted',\n",
    "                         mode='lines',\n",
    "                         line=dict(color='rgb(32,115,171)')))\n",
    "\n",
    "fig.update_layout(\n",
    "    xaxis_title=\"Index\",\n",
    "    yaxis_title=\"Photovoltaic Production [kWh]\",\n",
    "    legend=dict(orientation=\"h\",\n",
    "                yanchor=\"bottom\",\n",
    "                y=1,\n",
    "                xanchor=\"left\",\n",
    "                x=0))\n",
    "\n",
    "fig.show()"
   ],
   "metadata": {
    "collapsed": false,
    "pycharm": {
     "name": "#%%\n"
    }
   }
  },
  {
   "cell_type": "code",
   "execution_count": 159,
   "outputs": [
    {
     "ename": "NameError",
     "evalue": "name 'flex' is not defined",
     "output_type": "error",
     "traceback": [
      "\u001B[0;31m---------------------------------------------------------------------------\u001B[0m",
      "\u001B[0;31mNameError\u001B[0m                                 Traceback (most recent call last)",
      "\u001B[0;32m/var/folders/nt/w3ctvjn94jn89w856x4xh8zc0000gn/T/ipykernel_82476/1822594287.py\u001B[0m in \u001B[0;36m<module>\u001B[0;34m\u001B[0m\n\u001B[1;32m     16\u001B[0m \u001B[0;34m\u001B[0m\u001B[0m\n\u001B[1;32m     17\u001B[0m fig.add_trace(go.Scatter(x=idx,\n\u001B[0;32m---> 18\u001B[0;31m                          \u001B[0my\u001B[0m\u001B[0;34m=\u001B[0m\u001B[0mflex\u001B[0m\u001B[0;34m,\u001B[0m\u001B[0;34m\u001B[0m\u001B[0;34m\u001B[0m\u001B[0m\n\u001B[0m\u001B[1;32m     19\u001B[0m                          \u001B[0mname\u001B[0m\u001B[0;34m=\u001B[0m\u001B[0;34m'Flexible'\u001B[0m\u001B[0;34m,\u001B[0m\u001B[0;34m\u001B[0m\u001B[0;34m\u001B[0m\u001B[0m\n\u001B[1;32m     20\u001B[0m                          \u001B[0mmode\u001B[0m\u001B[0;34m=\u001B[0m\u001B[0;34m'lines'\u001B[0m\u001B[0;34m,\u001B[0m\u001B[0;34m\u001B[0m\u001B[0;34m\u001B[0m\u001B[0m\n",
      "\u001B[0;31mNameError\u001B[0m: name 'flex' is not defined"
     ]
    }
   ],
   "source": [
    "idx = list(range(0, 72, 1))\n",
    "\n",
    "fig = go.Figure()\n",
    "\n",
    "fig.add_trace(go.Scatter(x=idx,\n",
    "                         y=pv,\n",
    "                         name='PV',\n",
    "                         mode='lines',\n",
    "                         line=dict(color='royalblue', width=3)))\n",
    "\n",
    "fig.add_trace(go.Scatter(x=idx,\n",
    "                         y=fix,\n",
    "                         name='Fixed',\n",
    "                         mode='lines',\n",
    "                         line=dict(color='firebrick', width=3)))\n",
    "\n",
    "fig.add_trace(go.Scatter(x=idx,\n",
    "                         y=flex,\n",
    "                         name='Flexible',\n",
    "                         mode='lines',\n",
    "                         line=dict(color='firebrick', width=3, dash='dash')))\n",
    "\n",
    "fig.add_trace(go.Scatter(x=idx,\n",
    "                         y=np.subtract(pv, np.add(fix, flex)),\n",
    "                         name='Balance',\n",
    "                         mode='lines',\n",
    "                         line=dict(color='black', width=4),\n",
    "                         fill='tozeroy',\n",
    "                         fillcolor=\"rgba(80, 80, 80, 0.5)\"))\n",
    "\n",
    "fig.update_layout(plot_bgcolor='rgba(0,0,0,0)',\n",
    "                  legend=dict(orientation=\"h\",\n",
    "                              yanchor=\"top\",\n",
    "                              y=1.06,\n",
    "                              xanchor=\"left\",\n",
    "                              x=0.0))\n",
    "\n",
    "#x axis\n",
    "# fig.update_xaxes(visible=False)\n",
    "\n",
    "#y axis\n",
    "# fig.update_yaxes(visible=False)\n",
    "\n",
    "fig.update_xaxes(showline=True, linewidth=2, linecolor='grey', title=\"Index\")\n",
    "fig.update_yaxes(showline=True, linewidth=2, linecolor='grey', title=\"kWh\")\n",
    "\n",
    "fig.show()"
   ],
   "metadata": {
    "collapsed": false,
    "pycharm": {
     "name": "#%%\n"
    }
   }
  },
  {
   "cell_type": "code",
   "execution_count": null,
   "outputs": [],
   "source": [
    "from sklearn.ensemble import RandomForestRegressor\n",
    "weather = pd.read_csv(\"GAI_2015_2016.csv\")\n",
    "weather[\"Time\"] = pd.to_datetime(weather[\"Time\"])\n",
    "ensemble = pd.DataFrame(DATA[0:WEEK+VALIDATION_RANGE], columns=[\"Target\"]).merge(weather, how=\"left\", left_index=True, right_on=\"Time\")\n",
    "ensemble"
   ],
   "metadata": {
    "collapsed": false,
    "pycharm": {
     "name": "#%%\n"
    }
   }
  },
  {
   "cell_type": "code",
   "execution_count": null,
   "outputs": [],
   "source": [
    "ensemble.index = ensemble[\"Time\"]\n",
    "ensemble[\"Time\"] = ensemble[\"Time\"].dt.hour\n",
    "ensemble"
   ],
   "metadata": {
    "collapsed": false,
    "pycharm": {
     "name": "#%%\n"
    }
   }
  },
  {
   "cell_type": "code",
   "execution_count": null,
   "outputs": [],
   "source": [
    "from sklearn.preprocessing import OneHotEncoder\n",
    "ohe = OneHotEncoder(sparse=False)\n",
    "hot_np = ohe.fit_transform(ensemble[[\"Time\", \"Condition\"]])\n",
    "hot = pd.DataFrame(data=hot_np, columns=ohe.get_feature_names_out())\n",
    "hot_test = hot[:WEEK]\n",
    "hot_vali = hot[WEEK:]"
   ],
   "metadata": {
    "collapsed": false,
    "pycharm": {
     "name": "#%%\n"
    }
   }
  },
  {
   "cell_type": "code",
   "execution_count": null,
   "outputs": [],
   "source": [
    "rfr = RandomForestRegressor()\n",
    "rfr.fit(hot_test, ensemble[\"Target\"][:WEEK])\n",
    "np.sqrt(mean_squared_error(rfr.predict(hot_vali), ensemble[\"Target\"][WEEK:]))"
   ],
   "metadata": {
    "collapsed": false,
    "pycharm": {
     "name": "#%%\n"
    }
   }
  },
  {
   "cell_type": "markdown",
   "source": [
    "# FIG INTRO FORECASTING"
   ],
   "metadata": {
    "collapsed": false
   }
  },
  {
   "cell_type": "code",
   "execution_count": null,
   "outputs": [],
   "source": [
    "# idx = list(range(0, 72, 2))\n",
    "# pv = [x * 1.2 for x in [0, 0, 0, 4, 20, 45, 50, 50, 34, 10, 0, 0, 0, 0, 0, 2, 15, 35, 40, 45, 30, 15, 0, 0, 0, 0, 0, 10, 25, 50, 60, 50, 44, 20, 0, 0]]\n",
    "# fix = [10, 9, 10, 4, 22, 14, 12, 0, 12, 21, 13, 14, 12, 12, 32, 21, 11, 12, 21, 12, 22, 23, 11, 9, 8, 19, 17, 25, 20, 11, 15, 12, 15, 12, 18, 20]\n",
    "# flex = [0, 0, 0, 20, 5, 0, 0, 0, 19, 10, 0, 8, 0, 0, 0, 5, 9, 0, 0, 0, 0, 20, 10, 0, 5, 0, 19, 0, 0, 20, 9, 7, 0, 0, 0, 4]\n",
    "#\n",
    "# fig = go.Figure()\n",
    "#\n",
    "# fig.add_trace(go.Scatter(x=idx,\n",
    "#                          y=pv,\n",
    "#                          name='PV',\n",
    "#                          mode='lines',\n",
    "#                          line=dict(color='royalblue', width=3)))\n",
    "#\n",
    "# fig.add_trace(go.Scatter(x=idx,\n",
    "#                          y=fix,\n",
    "#                          name='Fixed',\n",
    "#                          mode='lines',\n",
    "#                          line=dict(color='firebrick', width=3)))\n",
    "#\n",
    "# fig.add_trace(go.Scatter(x=idx,\n",
    "#                          y=flex,\n",
    "#                          name='Flexible',\n",
    "#                          mode='lines',\n",
    "#                          line=dict(color='firebrick', width=3, dash='dash')))\n",
    "#\n",
    "# fig.add_trace(go.Scatter(x=idx,\n",
    "#                          y=np.subtract(pv, np.add(fix, flex)),\n",
    "#                          name='Balance',\n",
    "#                          mode='lines',\n",
    "#                          line=dict(color='black', width=4),\n",
    "#                          fill='tozeroy',\n",
    "#                          fillcolor=\"rgba(80, 80, 80, 0.5)\"))\n",
    "#\n",
    "# fig.update_layout(plot_bgcolor='rgba(0,0,0,0)',\n",
    "#                   legend=dict(orientation=\"h\",\n",
    "#                               yanchor=\"top\",\n",
    "#                               y=1.05,\n",
    "#                               xanchor=\"left\",\n",
    "#                               x=0.0))\n",
    "#\n",
    "# #x axis\n",
    "# fig.update_xaxes(visible=False)\n",
    "#\n",
    "# #y axis\n",
    "# fig.update_yaxes(visible=False)\n",
    "#\n",
    "# fig.show()"
   ],
   "metadata": {
    "collapsed": false,
    "pycharm": {
     "name": "#%%\n"
    }
   }
  },
  {
   "cell_type": "code",
   "execution_count": null,
   "outputs": [],
   "source": [],
   "metadata": {
    "collapsed": false,
    "pycharm": {
     "name": "#%%\n"
    }
   }
  }
 ],
 "metadata": {
  "kernelspec": {
   "display_name": "Python 3",
   "language": "python",
   "name": "python3"
  },
  "language_info": {
   "codemirror_mode": {
    "name": "ipython",
    "version": 2
   },
   "file_extension": ".py",
   "mimetype": "text/x-python",
   "name": "python",
   "nbconvert_exporter": "python",
   "pygments_lexer": "ipython2",
   "version": "2.7.6"
  }
 },
 "nbformat": 4,
 "nbformat_minor": 0
}