{
 "cells": [
  {
   "cell_type": "code",
   "execution_count": 45,
   "metadata": {
    "collapsed": true
   },
   "outputs": [],
   "source": [
    "import numpy as np\n",
    "import pandas as pd\n",
    "import plotly.graph_objects as go\n",
    "from sklearn.metrics import mean_squared_error\n",
    "\n",
    "import DataRetriever as dr\n",
    "\n",
    "RETRIEVER = dr.DataRetriever()\n",
    "CON_ATTRIBUTES = RETRIEVER.get_attributes(file_name='consuming_attributes.pkl')\n",
    "PV_ATTRIBUTES = RETRIEVER.get_attributes(file_name='producing_attributes.pkl')\n",
    "FLEX_ATTRIBUTES = [\"Load_ClothesWasherPowerWithStandby\", \"Elec_PowerDishwasher\", \"Load_DryerPowerTotal\"]\n",
    "FIXED_ATTRIBUTES = list(set(CON_ATTRIBUTES) - set(FLEX_ATTRIBUTES))\n",
    "\n",
    "attributes = FIXED_ATTRIBUTES\n",
    "\n",
    "DATA = RETRIEVER.get_data(file_name='All-Subsystems-hour-Year2.pkl')[attributes].sum(axis=1).clip(lower=0) / 1000"
   ]
  },
  {
   "cell_type": "code",
   "execution_count": 46,
   "outputs": [
    {
     "data": {
      "text/plain": "Timestamp\n2015-02-01 00:00:00   -0.958991\n2015-02-01 01:00:00   -0.999749\n2015-02-01 02:00:00   -0.961100\n2015-02-01 03:00:00   -0.869659\n2015-02-01 04:00:00   -0.946292\n                         ...   \n2016-01-31 19:00:00    0.211204\n2016-01-31 20:00:00    0.161497\n2016-01-31 21:00:00    0.226108\n2016-01-31 22:00:00    0.344384\n2016-01-31 23:00:00    0.255916\nFreq: H, Length: 8760, dtype: float64"
     },
     "execution_count": 46,
     "metadata": {},
     "output_type": "execute_result"
    }
   ],
   "source": [
    "from statsmodels.tsa.seasonal import STL\n",
    "\n",
    "prod_stl_config = STL(endog=DATA,\n",
    "                      period=24,  # We expect the pattern to repeat daily\n",
    "                      seasonal=7,  # Default\n",
    "                      trend=None,  # Default, follows suggestion from original paper (1.5 * period) / (1 - 1.5 / seasonal)\n",
    "                      low_pass=None,  # Default lowest odd integer greater than period\n",
    "                      seasonal_deg=1,  # Degree of LOESS to calculate seasonal element, chosen as in original paper\n",
    "                      trend_deg=1,  # Degree of LOESS to calculate trend element, chosen as in original paper\n",
    "                      low_pass_deg=1,  # Degree of LOESS in the low-pass filter, chosen as in original paper\n",
    "                      robust=True,  # Setting to True should make the method robust to outliers\n",
    "                      # The following three attributes determines whether to skip some LOESS smoothings, using linear interpolation to estimate the skipped points. Used only to decrease computational time. Set to 1 to not skip any smoothings.\n",
    "                      seasonal_jump=1,\n",
    "                      trend_jump=1,\n",
    "                      low_pass_jump=1)\n",
    "\n",
    "prod_decomp = prod_stl_config.fit()\n",
    "(prod_decomp.seasonal + prod_decomp.trend.mean()) - prod_decomp.observed"
   ],
   "metadata": {
    "collapsed": false,
    "pycharm": {
     "name": "#%%\n"
    }
   }
  },
  {
   "cell_type": "code",
   "execution_count": 47,
   "outputs": [],
   "source": [
    "def fourierExtrapolation(data: np.array, number_of_predictions: int, n_sinusoids: int) -> np.array:\n",
    "    \"\"\"\n",
    "    Predict {number_of_predictions} observations after the index data.size of {data}, using {n_sinusoids} sinusoids.\n",
    "    :param data: The data on which to train the model. Corresponds to {_x = x_0, x_1, ... x_(n-1)} in the theory\n",
    "    :param number_of_predictions: The amount of predictions to output. Corresponds to {x_((n-1)+1), x_((n-1)+2), ..., x_((n-1)+{number_of_predictions})}\n",
    "    :param n_sinusoids: The amount of sinusoids on which to base the predictions. I.e. the data probably contains many sinusoids, but we only wish to make predictions based on the {n_sinusoids} largest frequencies.\n",
    "    :return: A numpy array of length data.size + number_of_predictions, containing the transformed original data + predictions\n",
    "    \"\"\"\n",
    "    data_size = data.size  # n\n",
    "\n",
    "    X_frequency_domain = list(np.fft.fft(data))  # The series of complex numbers X = {X1, X2, ...}\n",
    "    frequencies = list(np.fft.fftfreq(data_size, d=1))  # Some frequencies, e.g. {4, 3, -7, 8, -5, ...}\n",
    "\n",
    "    indexes = list(range(len(X_frequency_domain)))  # {0, 1, ..., n-1}\n",
    "    indexes.sort(key=lambda idx: np.absolute(X_frequency_domain[idx]), reverse=True)  # ascendingly sort indices by amplitude\n",
    "    \n",
    "    sample_index = np.arange(0, data_size + number_of_predictions)  # sample_index = {0, 1, ..., n-1, n, n+1, ..., (n-1)+number_of_predictions}\n",
    "    x_restored_sig = np.zeros(sample_index.size)  # Prepare a numpy array to receive x reconstructed from its Fourier Transform\n",
    "\n",
    "    if n_sinusoids == 0:\n",
    "        return x_restored_sig + data.mean()\n",
    "\n",
    "    for i in indexes[:n_sinusoids]:\n",
    "        amplitude = np.absolute(X_frequency_domain[i])\n",
    "        phase = np.angle(X_frequency_domain[i])\n",
    "        x_restored_sig += amplitude * np.cos(2 * np.pi * frequencies[i] * sample_index + phase)\n",
    "\n",
    "    x_restored = 1 / data_size * x_restored_sig\n",
    "\n",
    "    return x_restored"
   ],
   "metadata": {
    "collapsed": false,
    "pycharm": {
     "name": "#%%\n"
    }
   }
  },
  {
   "cell_type": "code",
   "execution_count": 48,
   "outputs": [],
   "source": [
    "DATA_SIZE = DATA.size\n",
    "\n",
    "WEEK = 24 * 7\n",
    "\n",
    "train_range = WEEK\n",
    "VALIDATION_RANGE = 24 * 3\n",
    "\n",
    "SINUSOIDS = list(range(0, 50)) + list(range(50, 210, 10))"
   ],
   "metadata": {
    "collapsed": false,
    "pycharm": {
     "name": "#%%\n"
    }
   }
  },
  {
   "cell_type": "code",
   "execution_count": 49,
   "outputs": [
    {
     "data": {
      "text/plain": "{'divide': 'warn', 'over': 'warn', 'under': 'ignore', 'invalid': 'ignore'}"
     },
     "execution_count": 49,
     "metadata": {},
     "output_type": "execute_result"
    }
   ],
   "source": [
    "np.seterr(invalid='ignore')"
   ],
   "metadata": {
    "collapsed": false,
    "pycharm": {
     "name": "#%%\n"
    }
   }
  },
  {
   "cell_type": "code",
   "execution_count": 50,
   "outputs": [],
   "source": [
    "# # RANDOM FOREST\n",
    "# from sklearn.ensemble import RandomForestRegressor\n",
    "# from sklearn.preprocessing import OneHotEncoder\n",
    "# weather = pd.read_csv(\"GAI_2015_2016.csv\")\n",
    "# weather[\"Time\"] = pd.to_datetime(weather[\"Time\"])\n",
    "#\n",
    "# fold = 0\n",
    "# lst = []\n",
    "# while train_range + VALIDATION_RANGE <= DATA_SIZE:\n",
    "#     ensemble = pd.DataFrame(DATA[train_range-WEEK:train_range+VALIDATION_RANGE], columns=[\"Target\"]).merge(weather, how=\"left\", left_index=True, right_on=\"Time\")\n",
    "#\n",
    "#     ensemble.index = ensemble[\"Time\"]\n",
    "#     ensemble[\"Time\"] = ensemble[\"Time\"].dt.hour\n",
    "#\n",
    "#     ohe = OneHotEncoder(sparse=False)\n",
    "#     hot_np = ohe.fit_transform(ensemble[[\"Time\", \"Condition\"]])\n",
    "#     hot = pd.DataFrame(data=hot_np, columns=ohe.get_feature_names_out())\n",
    "#     hot_test = hot[:WEEK]\n",
    "#     hot_vali = hot[WEEK:]\n",
    "#\n",
    "#     rfr = RandomForestRegressor()\n",
    "#     rfr.fit(hot_test, ensemble[\"Target\"][:WEEK])\n",
    "#\n",
    "#     lst.append(np.sqrt(mean_squared_error(rfr.predict(hot_vali), ensemble[\"Target\"][WEEK:])))\n",
    "#\n",
    "#     train_range += 24 * 14\n",
    "#     fold += 1\n",
    "#\n",
    "# sum(lst) / len(lst)"
   ],
   "metadata": {
    "collapsed": false,
    "pycharm": {
     "name": "#%%\n"
    }
   }
  },
  {
   "cell_type": "code",
   "execution_count": 51,
   "outputs": [],
   "source": [
    "cv_DataFrame = pd.DataFrame(index=SINUSOIDS)\n",
    "fold = 0\n",
    "while train_range + VALIDATION_RANGE <= DATA_SIZE:\n",
    "\n",
    "\n",
    "\n",
    "    # ensemble = pd.DataFrame(DATA[train_range-WEEK:train_range+VALIDATION_RANGE], columns=[\"Target\"]).merge(weather, how=\"left\", left_index=True, right_on=\"Time\")\n",
    "    #\n",
    "    # ensemble.index = ensemble[\"Time\"]\n",
    "    # ensemble[\"Time\"] = ensemble[\"Time\"].dt.hour\n",
    "    #\n",
    "    # ohe = OneHotEncoder(sparse=False)\n",
    "    # hot_np = ohe.fit_transform(ensemble[[\"Time\", \"Condition\"]])\n",
    "    # hot = pd.DataFrame(data=hot_np, columns=ohe.get_feature_names_out())\n",
    "    # hot_test = hot[:WEEK]\n",
    "    # hot_vali = hot[WEEK:]\n",
    "    #\n",
    "    # rfr = RandomForestRegressor()\n",
    "    # rfr.fit(hot_test, ensemble[\"Target\"][:WEEK])\n",
    "    # rfr_pred = pd.Series(rfr.predict(hot_vali))\n",
    "\n",
    "\n",
    "\n",
    "    sinusoids_r2 = []\n",
    "    for n_sinusoids in SINUSOIDS:\n",
    "        fft = fourierExtrapolation(data=DATA[train_range - WEEK:train_range], number_of_predictions=VALIDATION_RANGE, n_sinusoids=n_sinusoids)\n",
    "        prediction = pd.Series(data=fft[WEEK:], index=DATA[train_range:train_range + VALIDATION_RANGE].index)\n",
    "\n",
    "        actual = DATA[train_range:train_range+VALIDATION_RANGE]\n",
    "\n",
    "        prediction.reset_index(inplace=True, drop=True)\n",
    "\n",
    "        sinusoids_r2.append(np.sqrt(mean_squared_error(actual, prediction)))\n",
    "        # sinusoids_r2.append(np.sqrt(mean_squared_error(actual, np.add(rfr_pred, prediction) / 2)))\n",
    "\n",
    "    cv_DataFrame[f\"Fold_{fold}\"] = sinusoids_r2\n",
    "\n",
    "    train_range += 24 * 14\n",
    "    fold += 1"
   ],
   "metadata": {
    "collapsed": false,
    "pycharm": {
     "name": "#%%\n"
    }
   }
  },
  {
   "cell_type": "code",
   "execution_count": 52,
   "outputs": [
    {
     "data": {
      "text/plain": "       Fold_0    Fold_1    Fold_2    Fold_3    Fold_4    Fold_5    Fold_6  \\\n0    0.572256  1.004369  0.895792  0.508396  0.529221  0.409703  0.495886   \n1    0.572256  1.004369  0.895792  0.508396  0.529221  0.409703  0.495886   \n2    0.526302  0.969065  0.882828  0.491193  0.659389  0.389461  0.481852   \n3    0.527735  0.951193  0.896275  0.508089  0.813633  0.391169  0.477971   \n4    0.484367  0.971413  0.859768  0.484036  0.815273  0.391405  0.475114   \n..        ...       ...       ...       ...       ...       ...       ...   \n160  0.617055  0.967715  0.940679  0.418385  0.923883  0.275971  0.429399   \n170  0.617197  0.967694  0.941161  0.418008  0.924273  0.276048  0.429706   \n180  0.617197  0.967694  0.941161  0.418008  0.924273  0.276048  0.429706   \n190  0.617197  0.967694  0.941161  0.418008  0.924273  0.276048  0.429706   \n200  0.617197  0.967694  0.941161  0.418008  0.924273  0.276048  0.429706   \n\n       Fold_7    Fold_8    Fold_9  ...   Fold_16   Fold_17   Fold_18  \\\n0    0.590955  0.740146  0.595604  ...  0.548294  0.605748  0.619475   \n1    0.590955  0.740146  0.595604  ...  0.548294  0.605748  0.619475   \n2    0.557645  0.705698  0.544173  ...  0.536253  0.576579  0.612344   \n3    0.553955  0.697831  0.534631  ...  0.570258  0.571161  0.614779   \n4    0.490126  0.684594  0.592166  ...  0.537885  0.561462  0.616995   \n..        ...       ...       ...  ...       ...       ...       ...   \n160  0.224806  0.681958  0.596869  ...  0.380293  0.562705  0.622561   \n170  0.223836  0.682679  0.596456  ...  0.380426  0.562637  0.622759   \n180  0.223836  0.682679  0.596456  ...  0.380426  0.562637  0.622759   \n190  0.223836  0.682679  0.596456  ...  0.380426  0.562637  0.622759   \n200  0.223836  0.682679  0.596456  ...  0.380426  0.562637  0.622759   \n\n      Fold_19   Fold_20   Fold_21   Fold_22   Fold_23   Fold_24   Fold_25  \n0    0.472206  0.436892  0.486230  0.594145  0.566912  0.669122  1.362211  \n1    0.472206  0.436892  0.486230  0.594145  0.566912  0.669122  1.362211  \n2    0.428718  0.415959  0.441925  0.555105  0.534052  0.647356  1.449158  \n3    0.411862  0.419184  0.420312  0.545003  0.526012  0.648058  1.551863  \n4    0.406137  0.422419  0.426161  0.507074  0.511863  0.615837  1.540819  \n..        ...       ...       ...       ...       ...       ...       ...  \n160  0.427304  0.338877  0.483508  0.401574  0.597233  0.658158  1.423390  \n170  0.426890  0.339234  0.483397  0.401269  0.597178  0.658428  1.423456  \n180  0.426890  0.339234  0.483397  0.401269  0.597178  0.658428  1.423456  \n190  0.426890  0.339234  0.483397  0.401269  0.597178  0.658428  1.423456  \n200  0.426890  0.339234  0.483397  0.401269  0.597178  0.658428  1.423456  \n\n[66 rows x 26 columns]",
      "text/html": "<div>\n<style scoped>\n    .dataframe tbody tr th:only-of-type {\n        vertical-align: middle;\n    }\n\n    .dataframe tbody tr th {\n        vertical-align: top;\n    }\n\n    .dataframe thead th {\n        text-align: right;\n    }\n</style>\n<table border=\"1\" class=\"dataframe\">\n  <thead>\n    <tr style=\"text-align: right;\">\n      <th></th>\n      <th>Fold_0</th>\n      <th>Fold_1</th>\n      <th>Fold_2</th>\n      <th>Fold_3</th>\n      <th>Fold_4</th>\n      <th>Fold_5</th>\n      <th>Fold_6</th>\n      <th>Fold_7</th>\n      <th>Fold_8</th>\n      <th>Fold_9</th>\n      <th>...</th>\n      <th>Fold_16</th>\n      <th>Fold_17</th>\n      <th>Fold_18</th>\n      <th>Fold_19</th>\n      <th>Fold_20</th>\n      <th>Fold_21</th>\n      <th>Fold_22</th>\n      <th>Fold_23</th>\n      <th>Fold_24</th>\n      <th>Fold_25</th>\n    </tr>\n  </thead>\n  <tbody>\n    <tr>\n      <th>0</th>\n      <td>0.572256</td>\n      <td>1.004369</td>\n      <td>0.895792</td>\n      <td>0.508396</td>\n      <td>0.529221</td>\n      <td>0.409703</td>\n      <td>0.495886</td>\n      <td>0.590955</td>\n      <td>0.740146</td>\n      <td>0.595604</td>\n      <td>...</td>\n      <td>0.548294</td>\n      <td>0.605748</td>\n      <td>0.619475</td>\n      <td>0.472206</td>\n      <td>0.436892</td>\n      <td>0.486230</td>\n      <td>0.594145</td>\n      <td>0.566912</td>\n      <td>0.669122</td>\n      <td>1.362211</td>\n    </tr>\n    <tr>\n      <th>1</th>\n      <td>0.572256</td>\n      <td>1.004369</td>\n      <td>0.895792</td>\n      <td>0.508396</td>\n      <td>0.529221</td>\n      <td>0.409703</td>\n      <td>0.495886</td>\n      <td>0.590955</td>\n      <td>0.740146</td>\n      <td>0.595604</td>\n      <td>...</td>\n      <td>0.548294</td>\n      <td>0.605748</td>\n      <td>0.619475</td>\n      <td>0.472206</td>\n      <td>0.436892</td>\n      <td>0.486230</td>\n      <td>0.594145</td>\n      <td>0.566912</td>\n      <td>0.669122</td>\n      <td>1.362211</td>\n    </tr>\n    <tr>\n      <th>2</th>\n      <td>0.526302</td>\n      <td>0.969065</td>\n      <td>0.882828</td>\n      <td>0.491193</td>\n      <td>0.659389</td>\n      <td>0.389461</td>\n      <td>0.481852</td>\n      <td>0.557645</td>\n      <td>0.705698</td>\n      <td>0.544173</td>\n      <td>...</td>\n      <td>0.536253</td>\n      <td>0.576579</td>\n      <td>0.612344</td>\n      <td>0.428718</td>\n      <td>0.415959</td>\n      <td>0.441925</td>\n      <td>0.555105</td>\n      <td>0.534052</td>\n      <td>0.647356</td>\n      <td>1.449158</td>\n    </tr>\n    <tr>\n      <th>3</th>\n      <td>0.527735</td>\n      <td>0.951193</td>\n      <td>0.896275</td>\n      <td>0.508089</td>\n      <td>0.813633</td>\n      <td>0.391169</td>\n      <td>0.477971</td>\n      <td>0.553955</td>\n      <td>0.697831</td>\n      <td>0.534631</td>\n      <td>...</td>\n      <td>0.570258</td>\n      <td>0.571161</td>\n      <td>0.614779</td>\n      <td>0.411862</td>\n      <td>0.419184</td>\n      <td>0.420312</td>\n      <td>0.545003</td>\n      <td>0.526012</td>\n      <td>0.648058</td>\n      <td>1.551863</td>\n    </tr>\n    <tr>\n      <th>4</th>\n      <td>0.484367</td>\n      <td>0.971413</td>\n      <td>0.859768</td>\n      <td>0.484036</td>\n      <td>0.815273</td>\n      <td>0.391405</td>\n      <td>0.475114</td>\n      <td>0.490126</td>\n      <td>0.684594</td>\n      <td>0.592166</td>\n      <td>...</td>\n      <td>0.537885</td>\n      <td>0.561462</td>\n      <td>0.616995</td>\n      <td>0.406137</td>\n      <td>0.422419</td>\n      <td>0.426161</td>\n      <td>0.507074</td>\n      <td>0.511863</td>\n      <td>0.615837</td>\n      <td>1.540819</td>\n    </tr>\n    <tr>\n      <th>...</th>\n      <td>...</td>\n      <td>...</td>\n      <td>...</td>\n      <td>...</td>\n      <td>...</td>\n      <td>...</td>\n      <td>...</td>\n      <td>...</td>\n      <td>...</td>\n      <td>...</td>\n      <td>...</td>\n      <td>...</td>\n      <td>...</td>\n      <td>...</td>\n      <td>...</td>\n      <td>...</td>\n      <td>...</td>\n      <td>...</td>\n      <td>...</td>\n      <td>...</td>\n      <td>...</td>\n    </tr>\n    <tr>\n      <th>160</th>\n      <td>0.617055</td>\n      <td>0.967715</td>\n      <td>0.940679</td>\n      <td>0.418385</td>\n      <td>0.923883</td>\n      <td>0.275971</td>\n      <td>0.429399</td>\n      <td>0.224806</td>\n      <td>0.681958</td>\n      <td>0.596869</td>\n      <td>...</td>\n      <td>0.380293</td>\n      <td>0.562705</td>\n      <td>0.622561</td>\n      <td>0.427304</td>\n      <td>0.338877</td>\n      <td>0.483508</td>\n      <td>0.401574</td>\n      <td>0.597233</td>\n      <td>0.658158</td>\n      <td>1.423390</td>\n    </tr>\n    <tr>\n      <th>170</th>\n      <td>0.617197</td>\n      <td>0.967694</td>\n      <td>0.941161</td>\n      <td>0.418008</td>\n      <td>0.924273</td>\n      <td>0.276048</td>\n      <td>0.429706</td>\n      <td>0.223836</td>\n      <td>0.682679</td>\n      <td>0.596456</td>\n      <td>...</td>\n      <td>0.380426</td>\n      <td>0.562637</td>\n      <td>0.622759</td>\n      <td>0.426890</td>\n      <td>0.339234</td>\n      <td>0.483397</td>\n      <td>0.401269</td>\n      <td>0.597178</td>\n      <td>0.658428</td>\n      <td>1.423456</td>\n    </tr>\n    <tr>\n      <th>180</th>\n      <td>0.617197</td>\n      <td>0.967694</td>\n      <td>0.941161</td>\n      <td>0.418008</td>\n      <td>0.924273</td>\n      <td>0.276048</td>\n      <td>0.429706</td>\n      <td>0.223836</td>\n      <td>0.682679</td>\n      <td>0.596456</td>\n      <td>...</td>\n      <td>0.380426</td>\n      <td>0.562637</td>\n      <td>0.622759</td>\n      <td>0.426890</td>\n      <td>0.339234</td>\n      <td>0.483397</td>\n      <td>0.401269</td>\n      <td>0.597178</td>\n      <td>0.658428</td>\n      <td>1.423456</td>\n    </tr>\n    <tr>\n      <th>190</th>\n      <td>0.617197</td>\n      <td>0.967694</td>\n      <td>0.941161</td>\n      <td>0.418008</td>\n      <td>0.924273</td>\n      <td>0.276048</td>\n      <td>0.429706</td>\n      <td>0.223836</td>\n      <td>0.682679</td>\n      <td>0.596456</td>\n      <td>...</td>\n      <td>0.380426</td>\n      <td>0.562637</td>\n      <td>0.622759</td>\n      <td>0.426890</td>\n      <td>0.339234</td>\n      <td>0.483397</td>\n      <td>0.401269</td>\n      <td>0.597178</td>\n      <td>0.658428</td>\n      <td>1.423456</td>\n    </tr>\n    <tr>\n      <th>200</th>\n      <td>0.617197</td>\n      <td>0.967694</td>\n      <td>0.941161</td>\n      <td>0.418008</td>\n      <td>0.924273</td>\n      <td>0.276048</td>\n      <td>0.429706</td>\n      <td>0.223836</td>\n      <td>0.682679</td>\n      <td>0.596456</td>\n      <td>...</td>\n      <td>0.380426</td>\n      <td>0.562637</td>\n      <td>0.622759</td>\n      <td>0.426890</td>\n      <td>0.339234</td>\n      <td>0.483397</td>\n      <td>0.401269</td>\n      <td>0.597178</td>\n      <td>0.658428</td>\n      <td>1.423456</td>\n    </tr>\n  </tbody>\n</table>\n<p>66 rows × 26 columns</p>\n</div>"
     },
     "execution_count": 52,
     "metadata": {},
     "output_type": "execute_result"
    }
   ],
   "source": [
    "cv_DataFrame"
   ],
   "metadata": {
    "collapsed": false,
    "pycharm": {
     "name": "#%%\n"
    }
   }
  },
  {
   "cell_type": "code",
   "execution_count": 53,
   "outputs": [
    {
     "data": {
      "text/plain": "70"
     },
     "execution_count": 53,
     "metadata": {},
     "output_type": "execute_result"
    }
   ],
   "source": [
    "cv_DataFrame.mean(axis=1).idxmin()"
   ],
   "metadata": {
    "collapsed": false,
    "pycharm": {
     "name": "#%%\n"
    }
   }
  },
  {
   "cell_type": "code",
   "execution_count": 54,
   "outputs": [
    {
     "data": {
      "text/plain": "0      0.614090\n1      0.614090\n2      0.594957\n3      0.603578\n4      0.593170\n         ...   \n160    0.566070\n170    0.566025\n180    0.566025\n190    0.566025\n200    0.566025\nLength: 66, dtype: float64"
     },
     "execution_count": 54,
     "metadata": {},
     "output_type": "execute_result"
    }
   ],
   "source": [
    "cv_DataFrame.mean(axis=1)"
   ],
   "metadata": {
    "collapsed": false,
    "pycharm": {
     "name": "#%%\n"
    }
   }
  },
  {
   "cell_type": "code",
   "execution_count": 55,
   "outputs": [],
   "source": [
    "DATA = DATA[WEEK*6:]"
   ],
   "metadata": {
    "collapsed": false,
    "pycharm": {
     "name": "#%%\n"
    }
   }
  },
  {
   "cell_type": "code",
   "execution_count": 56,
   "outputs": [],
   "source": [
    "fft = fourierExtrapolation(data=DATA[0:WEEK], number_of_predictions=VALIDATION_RANGE, n_sinusoids=cv_DataFrame.mean(axis=1).idxmin())\n",
    "prediction = pd.Series(data=fft[WEEK:], index=DATA[DATA[0:WEEK].size:DATA[0:WEEK].size + VALIDATION_RANGE].index)\n",
    "\n",
    "pred_test = fft[:WEEK]\n",
    "\n",
    "actual = DATA[WEEK:WEEK+VALIDATION_RANGE]\n",
    "\n",
    "if attributes == PV_ATTRIBUTES:\n",
    "    pv = prediction\n",
    "elif attributes == FIXED_ATTRIBUTES:\n",
    "    fix = prediction\n",
    "elif attributes == FLEX_ATTRIBUTES:\n",
    "    flex = actual"
   ],
   "metadata": {
    "collapsed": false,
    "pycharm": {
     "name": "#%%\n"
    }
   }
  },
  {
   "cell_type": "code",
   "execution_count": 57,
   "outputs": [
    {
     "data": {
      "application/vnd.plotly.v1+json": {
       "data": [
        {
         "line": {
          "color": "rgb(84, 84, 84)"
         },
         "mode": "lines",
         "name": "Training Data",
         "x": [
          0,
          1,
          2,
          3,
          4,
          5,
          6,
          7,
          8,
          9,
          10,
          11,
          12,
          13,
          14,
          15,
          16,
          17,
          18,
          19,
          20,
          21,
          22,
          23,
          24,
          25,
          26,
          27,
          28,
          29,
          30,
          31,
          32,
          33,
          34,
          35,
          36,
          37,
          38,
          39,
          40,
          41,
          42,
          43,
          44,
          45,
          46,
          47,
          48,
          49,
          50,
          51,
          52,
          53,
          54,
          55,
          56,
          57,
          58,
          59,
          60,
          61,
          62,
          63,
          64,
          65,
          66,
          67,
          68,
          69,
          70,
          71,
          72,
          73,
          74,
          75,
          76,
          77,
          78,
          79,
          80,
          81,
          82,
          83,
          84,
          85,
          86,
          87,
          88,
          89,
          90,
          91,
          92,
          93,
          94,
          95,
          96,
          97,
          98,
          99,
          100,
          101,
          102,
          103,
          104,
          105,
          106,
          107,
          108,
          109,
          110,
          111,
          112,
          113,
          114,
          115,
          116,
          117,
          118,
          119,
          120,
          121,
          122,
          123,
          124,
          125,
          126,
          127,
          128,
          129,
          130,
          131,
          132,
          133,
          134,
          135,
          136,
          137,
          138,
          139,
          140,
          141,
          142,
          143,
          144,
          145,
          146,
          147,
          148,
          149,
          150,
          151,
          152,
          153,
          154,
          155,
          156,
          157,
          158,
          159,
          160,
          161,
          162,
          163,
          164,
          165,
          166,
          167
         ],
         "y": [
          1.126709499669,
          1.1762000223729998,
          1.0922664040589998,
          0.7890284826919999,
          0.9091694518179999,
          1.0182309286890001,
          0.990839448374,
          1.016563932572,
          2.221446457775,
          2.4323935963190007,
          1.8749982890729997,
          1.085420998354,
          0.888698855665,
          1.029740931648,
          1.6910986229749998,
          1.027125802824,
          0.692839197256,
          0.6513400106330001,
          1.482055157517,
          1.4560770645960002,
          0.8882075407689999,
          1.8266545172200002,
          1.2541782393170002,
          1.3676821252670002,
          1.293465249218,
          1.2155550494330003,
          1.119217154322,
          1.0801810999159998,
          1.154678114789,
          1.696555776271,
          2.8914662406100002,
          1.5873970004460003,
          1.589771020113,
          2.0772417123099998,
          1.3423400516019999,
          0.6128900112779999,
          0.5666364877660001,
          0.59664177376,
          0.619283544548,
          0.571987440997,
          0.592546110837,
          0.697540725077,
          1.7287155420580003,
          1.284435934638,
          1.029561113739,
          1.16258828773,
          0.817296799459,
          0.9017962380419999,
          0.8030914635030001,
          0.7447504780840001,
          0.7908599487339998,
          0.9159114085660001,
          1.0829107739769999,
          0.7712252961759998,
          2.095058560494,
          1.675262122527,
          1.2178892808960002,
          0.947588933793,
          0.7570649339719999,
          0.822210127037,
          0.5718585520960001,
          0.6122977829789998,
          0.570928251084,
          0.606583808509,
          0.9792845780510001,
          0.534631083116,
          0.841433687938,
          0.889175931868,
          0.9631173001219999,
          1.1397191816130001,
          1.9145959564089998,
          1.3382452713019999,
          1.4179853814169998,
          1.195201816031,
          1.388252628055,
          1.367410826271,
          1.5358774849580001,
          1.509588754329,
          2.659186659252,
          1.7597690390990002,
          0.9215970960759999,
          1.870938630045,
          1.240773039594,
          0.5691102203589999,
          0.8831378123479999,
          0.880794689597,
          0.9823811808119998,
          0.737359750309,
          0.7725051436160001,
          0.7415120625420001,
          1.21147767231,
          0.94503347198,
          0.862474273877,
          1.211841042105,
          1.1022311352339997,
          1.103138053004,
          1.2195065200880002,
          1.2420529022649998,
          1.2814823192159999,
          1.212109663006,
          1.5687808874549998,
          1.362998471352,
          2.488604347443,
          1.132911356896,
          0.9493988532959998,
          1.3193846651410002,
          1.587419794818,
          0.6836609839390001,
          0.5827482808299999,
          0.7502820257879999,
          0.7183064650009999,
          0.734650178421,
          0.7193179794,
          0.7440715655009998,
          1.1427848785250003,
          0.9169202533809999,
          1.2391082508470002,
          1.1982770596630001,
          1.641841164533,
          1.035722939272,
          1.1226713291900001,
          1.047250613813,
          1.009997819122,
          0.982078917855,
          1.0423963621389998,
          1.314401106252,
          2.490593283265,
          1.760117573316,
          1.07076735605,
          1.6876744924299998,
          2.3022902419990006,
          1.1826188543360001,
          1.4144366271920001,
          1.5460508958730002,
          1.7182073383479999,
          2.0671626045660005,
          2.1454696688109998,
          1.9758188963360002,
          2.5897061159190002,
          1.809110551442,
          1.5797634408999999,
          2.2293476421709997,
          2.2180959617959997,
          2.294230574174,
          1.825355483706,
          2.40725604415,
          1.8269514116069998,
          1.825461869716,
          2.061443959398,
          1.8824653970820002,
          2.3123741119110006,
          1.7793450462309996,
          3.418813282932,
          3.363145198273,
          2.330390816703,
          1.067154864435,
          1.5784841184979999,
          2.2426251785690003,
          2.1262541273019995,
          1.9101105058520003,
          1.1894197422289998,
          1.3361896626329999,
          2.0546959702089995,
          2.408571977078,
          2.000371086924,
          1.393841900975,
          1.482171385636,
          1.013691847446
         ],
         "type": "scatter"
        },
        {
         "line": {
          "color": "rgb(234,143,129)"
         },
         "mode": "lines",
         "name": "Observed",
         "x": [
          168,
          169,
          170,
          171,
          172,
          173,
          174,
          175,
          176,
          177,
          178,
          179,
          180,
          181,
          182,
          183,
          184,
          185,
          186,
          187,
          188,
          189,
          190,
          191,
          192,
          193,
          194,
          195,
          196,
          197,
          198,
          199,
          200,
          201,
          202,
          203,
          204,
          205,
          206,
          207,
          208,
          209,
          210,
          211,
          212,
          213,
          214,
          215,
          216,
          217,
          218,
          219,
          220,
          221,
          222,
          223,
          224,
          225,
          226,
          227,
          228,
          229,
          230,
          231,
          232,
          233,
          234,
          235,
          236,
          237,
          238,
          239
         ],
         "y": [
          0.873043983366,
          0.893159612888,
          1.314800736862,
          1.7121077813069996,
          1.361998725382,
          1.464237404005,
          1.443150905784,
          1.4807907886489997,
          2.4804975681970003,
          3.049453472392,
          2.1571722350940004,
          1.18295713063,
          1.377943765068,
          1.480995848645,
          2.012816458148,
          1.199221740948,
          1.181229230523,
          1.014487232038,
          1.4125050083569999,
          1.4368888050730002,
          1.134935031514,
          1.114859631405,
          1.393237011666,
          0.9408740598270001,
          1.071037604824,
          1.5031827131289999,
          1.6254028781470002,
          1.652650743769,
          1.6270052055870001,
          1.746982332535,
          3.2677479330530006,
          1.9316594285120001,
          1.553586266592,
          1.757407051184,
          1.7582293125430004,
          0.6490476431450001,
          0.753819113498,
          1.071918321538,
          0.740432531452,
          0.6541501297429999,
          0.665043174213,
          0.5466503875479999,
          0.878497175925,
          0.7964726663379998,
          1.052061630377,
          1.264329677726,
          1.02022179379,
          0.881110557502,
          1.0705190092139998,
          1.112506644301,
          1.0935001304940002,
          1.036891943877,
          1.151327562239,
          1.5401946340289998,
          1.991334305702,
          0.736401391855,
          1.1791541250900002,
          1.9103494682960003,
          1.9119949753469998,
          1.132519558541,
          0.7036147477310001,
          1.0484181285769998,
          1.114624777765,
          1.055576881529,
          0.993525950162,
          1.1167245672399997,
          0.8516087731979999,
          1.0871143868820001,
          1.542775966705,
          1.3487405155249999,
          2.0285524754540005,
          1.2214940234040002
         ],
         "type": "scatter"
        },
        {
         "line": {
          "color": "rgb(32,115,171)"
         },
         "mode": "lines",
         "name": "Predicted",
         "x": [
          168,
          169,
          170,
          171,
          172,
          173,
          174,
          175,
          176,
          177,
          178,
          179,
          180,
          181,
          182,
          183,
          184,
          185,
          186,
          187,
          188,
          189,
          190,
          191,
          192,
          193,
          194,
          195,
          196,
          197,
          198,
          199,
          200,
          201,
          202,
          203,
          204,
          205,
          206,
          207,
          208,
          209,
          210,
          211,
          212,
          213,
          214,
          215,
          216,
          217,
          218,
          219,
          220,
          221,
          222,
          223,
          224,
          225,
          226,
          227,
          228,
          229,
          230,
          231,
          232,
          233,
          234,
          235,
          236,
          237,
          238,
          239
         ],
         "y": [
          1.2697670136844037,
          1.0095973244789074,
          0.88322799793285,
          0.8624350967935968,
          1.1304986830947772,
          0.9805859128730652,
          1.1018341028729846,
          1.1805724752356141,
          1.7958613540446091,
          2.5042634921070888,
          1.9186793079686908,
          0.725073825389537,
          0.7300615839201948,
          1.185269632804178,
          1.528412183527012,
          1.1203922346684054,
          0.8762864737153186,
          0.6056027214424137,
          1.8300990403154591,
          1.501954481481223,
          1.0390486314050464,
          1.444093246338244,
          1.4938776261536681,
          1.3294292222806958,
          1.4538028109876904,
          1.4044251287472997,
          0.9424359238804968,
          0.789777977727087,
          1.2018207955960998,
          1.6198219508146983,
          2.643307177792929,
          1.737201649634038,
          1.5831375357246298,
          1.8319508638566353,
          1.4487730801527838,
          0.8335211101368437,
          0.7283113135881599,
          0.6154502593545166,
          0.5285545831361069,
          0.5466864948078349,
          0.6672807281745431,
          0.8978443437549658,
          1.6716297324725637,
          1.1072083748448045,
          1.047082914282543,
          0.9537569936795663,
          0.7619199660337622,
          0.7492341653972691,
          0.8216653972192756,
          0.6991495204338677,
          0.8059965810364683,
          0.9556809363275018,
          1.103598196417822,
          1.1165738116658106,
          2.0748999098188046,
          1.782321001603992,
          1.32808634081129,
          0.8752024630001326,
          0.8856272725485359,
          0.7195454719409952,
          0.6315296283367691,
          0.6231253912479063,
          0.49827498718979407,
          0.578063034778576,
          0.6537159002775604,
          0.4025257843254083,
          1.017318527775987,
          0.8784836399416057,
          0.9532549903787311,
          1.3216929032928988,
          1.7560304380950147,
          1.377042924311597
         ],
         "type": "scatter"
        }
       ],
       "layout": {
        "template": {
         "data": {
          "histogram2dcontour": [
           {
            "type": "histogram2dcontour",
            "colorbar": {
             "outlinewidth": 0,
             "ticks": ""
            },
            "colorscale": [
             [
              0.0,
              "#0d0887"
             ],
             [
              0.1111111111111111,
              "#46039f"
             ],
             [
              0.2222222222222222,
              "#7201a8"
             ],
             [
              0.3333333333333333,
              "#9c179e"
             ],
             [
              0.4444444444444444,
              "#bd3786"
             ],
             [
              0.5555555555555556,
              "#d8576b"
             ],
             [
              0.6666666666666666,
              "#ed7953"
             ],
             [
              0.7777777777777778,
              "#fb9f3a"
             ],
             [
              0.8888888888888888,
              "#fdca26"
             ],
             [
              1.0,
              "#f0f921"
             ]
            ]
           }
          ],
          "choropleth": [
           {
            "type": "choropleth",
            "colorbar": {
             "outlinewidth": 0,
             "ticks": ""
            }
           }
          ],
          "histogram2d": [
           {
            "type": "histogram2d",
            "colorbar": {
             "outlinewidth": 0,
             "ticks": ""
            },
            "colorscale": [
             [
              0.0,
              "#0d0887"
             ],
             [
              0.1111111111111111,
              "#46039f"
             ],
             [
              0.2222222222222222,
              "#7201a8"
             ],
             [
              0.3333333333333333,
              "#9c179e"
             ],
             [
              0.4444444444444444,
              "#bd3786"
             ],
             [
              0.5555555555555556,
              "#d8576b"
             ],
             [
              0.6666666666666666,
              "#ed7953"
             ],
             [
              0.7777777777777778,
              "#fb9f3a"
             ],
             [
              0.8888888888888888,
              "#fdca26"
             ],
             [
              1.0,
              "#f0f921"
             ]
            ]
           }
          ],
          "heatmap": [
           {
            "type": "heatmap",
            "colorbar": {
             "outlinewidth": 0,
             "ticks": ""
            },
            "colorscale": [
             [
              0.0,
              "#0d0887"
             ],
             [
              0.1111111111111111,
              "#46039f"
             ],
             [
              0.2222222222222222,
              "#7201a8"
             ],
             [
              0.3333333333333333,
              "#9c179e"
             ],
             [
              0.4444444444444444,
              "#bd3786"
             ],
             [
              0.5555555555555556,
              "#d8576b"
             ],
             [
              0.6666666666666666,
              "#ed7953"
             ],
             [
              0.7777777777777778,
              "#fb9f3a"
             ],
             [
              0.8888888888888888,
              "#fdca26"
             ],
             [
              1.0,
              "#f0f921"
             ]
            ]
           }
          ],
          "heatmapgl": [
           {
            "type": "heatmapgl",
            "colorbar": {
             "outlinewidth": 0,
             "ticks": ""
            },
            "colorscale": [
             [
              0.0,
              "#0d0887"
             ],
             [
              0.1111111111111111,
              "#46039f"
             ],
             [
              0.2222222222222222,
              "#7201a8"
             ],
             [
              0.3333333333333333,
              "#9c179e"
             ],
             [
              0.4444444444444444,
              "#bd3786"
             ],
             [
              0.5555555555555556,
              "#d8576b"
             ],
             [
              0.6666666666666666,
              "#ed7953"
             ],
             [
              0.7777777777777778,
              "#fb9f3a"
             ],
             [
              0.8888888888888888,
              "#fdca26"
             ],
             [
              1.0,
              "#f0f921"
             ]
            ]
           }
          ],
          "contourcarpet": [
           {
            "type": "contourcarpet",
            "colorbar": {
             "outlinewidth": 0,
             "ticks": ""
            }
           }
          ],
          "contour": [
           {
            "type": "contour",
            "colorbar": {
             "outlinewidth": 0,
             "ticks": ""
            },
            "colorscale": [
             [
              0.0,
              "#0d0887"
             ],
             [
              0.1111111111111111,
              "#46039f"
             ],
             [
              0.2222222222222222,
              "#7201a8"
             ],
             [
              0.3333333333333333,
              "#9c179e"
             ],
             [
              0.4444444444444444,
              "#bd3786"
             ],
             [
              0.5555555555555556,
              "#d8576b"
             ],
             [
              0.6666666666666666,
              "#ed7953"
             ],
             [
              0.7777777777777778,
              "#fb9f3a"
             ],
             [
              0.8888888888888888,
              "#fdca26"
             ],
             [
              1.0,
              "#f0f921"
             ]
            ]
           }
          ],
          "surface": [
           {
            "type": "surface",
            "colorbar": {
             "outlinewidth": 0,
             "ticks": ""
            },
            "colorscale": [
             [
              0.0,
              "#0d0887"
             ],
             [
              0.1111111111111111,
              "#46039f"
             ],
             [
              0.2222222222222222,
              "#7201a8"
             ],
             [
              0.3333333333333333,
              "#9c179e"
             ],
             [
              0.4444444444444444,
              "#bd3786"
             ],
             [
              0.5555555555555556,
              "#d8576b"
             ],
             [
              0.6666666666666666,
              "#ed7953"
             ],
             [
              0.7777777777777778,
              "#fb9f3a"
             ],
             [
              0.8888888888888888,
              "#fdca26"
             ],
             [
              1.0,
              "#f0f921"
             ]
            ]
           }
          ],
          "mesh3d": [
           {
            "type": "mesh3d",
            "colorbar": {
             "outlinewidth": 0,
             "ticks": ""
            }
           }
          ],
          "scatter": [
           {
            "fillpattern": {
             "fillmode": "overlay",
             "size": 10,
             "solidity": 0.2
            },
            "type": "scatter"
           }
          ],
          "parcoords": [
           {
            "type": "parcoords",
            "line": {
             "colorbar": {
              "outlinewidth": 0,
              "ticks": ""
             }
            }
           }
          ],
          "scatterpolargl": [
           {
            "type": "scatterpolargl",
            "marker": {
             "colorbar": {
              "outlinewidth": 0,
              "ticks": ""
             }
            }
           }
          ],
          "bar": [
           {
            "error_x": {
             "color": "#2a3f5f"
            },
            "error_y": {
             "color": "#2a3f5f"
            },
            "marker": {
             "line": {
              "color": "#E5ECF6",
              "width": 0.5
             },
             "pattern": {
              "fillmode": "overlay",
              "size": 10,
              "solidity": 0.2
             }
            },
            "type": "bar"
           }
          ],
          "scattergeo": [
           {
            "type": "scattergeo",
            "marker": {
             "colorbar": {
              "outlinewidth": 0,
              "ticks": ""
             }
            }
           }
          ],
          "scatterpolar": [
           {
            "type": "scatterpolar",
            "marker": {
             "colorbar": {
              "outlinewidth": 0,
              "ticks": ""
             }
            }
           }
          ],
          "histogram": [
           {
            "marker": {
             "pattern": {
              "fillmode": "overlay",
              "size": 10,
              "solidity": 0.2
             }
            },
            "type": "histogram"
           }
          ],
          "scattergl": [
           {
            "type": "scattergl",
            "marker": {
             "colorbar": {
              "outlinewidth": 0,
              "ticks": ""
             }
            }
           }
          ],
          "scatter3d": [
           {
            "type": "scatter3d",
            "line": {
             "colorbar": {
              "outlinewidth": 0,
              "ticks": ""
             }
            },
            "marker": {
             "colorbar": {
              "outlinewidth": 0,
              "ticks": ""
             }
            }
           }
          ],
          "scattermapbox": [
           {
            "type": "scattermapbox",
            "marker": {
             "colorbar": {
              "outlinewidth": 0,
              "ticks": ""
             }
            }
           }
          ],
          "scatterternary": [
           {
            "type": "scatterternary",
            "marker": {
             "colorbar": {
              "outlinewidth": 0,
              "ticks": ""
             }
            }
           }
          ],
          "scattercarpet": [
           {
            "type": "scattercarpet",
            "marker": {
             "colorbar": {
              "outlinewidth": 0,
              "ticks": ""
             }
            }
           }
          ],
          "carpet": [
           {
            "aaxis": {
             "endlinecolor": "#2a3f5f",
             "gridcolor": "white",
             "linecolor": "white",
             "minorgridcolor": "white",
             "startlinecolor": "#2a3f5f"
            },
            "baxis": {
             "endlinecolor": "#2a3f5f",
             "gridcolor": "white",
             "linecolor": "white",
             "minorgridcolor": "white",
             "startlinecolor": "#2a3f5f"
            },
            "type": "carpet"
           }
          ],
          "table": [
           {
            "cells": {
             "fill": {
              "color": "#EBF0F8"
             },
             "line": {
              "color": "white"
             }
            },
            "header": {
             "fill": {
              "color": "#C8D4E3"
             },
             "line": {
              "color": "white"
             }
            },
            "type": "table"
           }
          ],
          "barpolar": [
           {
            "marker": {
             "line": {
              "color": "#E5ECF6",
              "width": 0.5
             },
             "pattern": {
              "fillmode": "overlay",
              "size": 10,
              "solidity": 0.2
             }
            },
            "type": "barpolar"
           }
          ],
          "pie": [
           {
            "automargin": true,
            "type": "pie"
           }
          ]
         },
         "layout": {
          "autotypenumbers": "strict",
          "colorway": [
           "#636efa",
           "#EF553B",
           "#00cc96",
           "#ab63fa",
           "#FFA15A",
           "#19d3f3",
           "#FF6692",
           "#B6E880",
           "#FF97FF",
           "#FECB52"
          ],
          "font": {
           "color": "#2a3f5f"
          },
          "hovermode": "closest",
          "hoverlabel": {
           "align": "left"
          },
          "paper_bgcolor": "white",
          "plot_bgcolor": "#E5ECF6",
          "polar": {
           "bgcolor": "#E5ECF6",
           "angularaxis": {
            "gridcolor": "white",
            "linecolor": "white",
            "ticks": ""
           },
           "radialaxis": {
            "gridcolor": "white",
            "linecolor": "white",
            "ticks": ""
           }
          },
          "ternary": {
           "bgcolor": "#E5ECF6",
           "aaxis": {
            "gridcolor": "white",
            "linecolor": "white",
            "ticks": ""
           },
           "baxis": {
            "gridcolor": "white",
            "linecolor": "white",
            "ticks": ""
           },
           "caxis": {
            "gridcolor": "white",
            "linecolor": "white",
            "ticks": ""
           }
          },
          "coloraxis": {
           "colorbar": {
            "outlinewidth": 0,
            "ticks": ""
           }
          },
          "colorscale": {
           "sequential": [
            [
             0.0,
             "#0d0887"
            ],
            [
             0.1111111111111111,
             "#46039f"
            ],
            [
             0.2222222222222222,
             "#7201a8"
            ],
            [
             0.3333333333333333,
             "#9c179e"
            ],
            [
             0.4444444444444444,
             "#bd3786"
            ],
            [
             0.5555555555555556,
             "#d8576b"
            ],
            [
             0.6666666666666666,
             "#ed7953"
            ],
            [
             0.7777777777777778,
             "#fb9f3a"
            ],
            [
             0.8888888888888888,
             "#fdca26"
            ],
            [
             1.0,
             "#f0f921"
            ]
           ],
           "sequentialminus": [
            [
             0.0,
             "#0d0887"
            ],
            [
             0.1111111111111111,
             "#46039f"
            ],
            [
             0.2222222222222222,
             "#7201a8"
            ],
            [
             0.3333333333333333,
             "#9c179e"
            ],
            [
             0.4444444444444444,
             "#bd3786"
            ],
            [
             0.5555555555555556,
             "#d8576b"
            ],
            [
             0.6666666666666666,
             "#ed7953"
            ],
            [
             0.7777777777777778,
             "#fb9f3a"
            ],
            [
             0.8888888888888888,
             "#fdca26"
            ],
            [
             1.0,
             "#f0f921"
            ]
           ],
           "diverging": [
            [
             0,
             "#8e0152"
            ],
            [
             0.1,
             "#c51b7d"
            ],
            [
             0.2,
             "#de77ae"
            ],
            [
             0.3,
             "#f1b6da"
            ],
            [
             0.4,
             "#fde0ef"
            ],
            [
             0.5,
             "#f7f7f7"
            ],
            [
             0.6,
             "#e6f5d0"
            ],
            [
             0.7,
             "#b8e186"
            ],
            [
             0.8,
             "#7fbc41"
            ],
            [
             0.9,
             "#4d9221"
            ],
            [
             1,
             "#276419"
            ]
           ]
          },
          "xaxis": {
           "gridcolor": "white",
           "linecolor": "white",
           "ticks": "",
           "title": {
            "standoff": 15
           },
           "zerolinecolor": "white",
           "automargin": true,
           "zerolinewidth": 2
          },
          "yaxis": {
           "gridcolor": "white",
           "linecolor": "white",
           "ticks": "",
           "title": {
            "standoff": 15
           },
           "zerolinecolor": "white",
           "automargin": true,
           "zerolinewidth": 2
          },
          "scene": {
           "xaxis": {
            "backgroundcolor": "#E5ECF6",
            "gridcolor": "white",
            "linecolor": "white",
            "showbackground": true,
            "ticks": "",
            "zerolinecolor": "white",
            "gridwidth": 2
           },
           "yaxis": {
            "backgroundcolor": "#E5ECF6",
            "gridcolor": "white",
            "linecolor": "white",
            "showbackground": true,
            "ticks": "",
            "zerolinecolor": "white",
            "gridwidth": 2
           },
           "zaxis": {
            "backgroundcolor": "#E5ECF6",
            "gridcolor": "white",
            "linecolor": "white",
            "showbackground": true,
            "ticks": "",
            "zerolinecolor": "white",
            "gridwidth": 2
           }
          },
          "shapedefaults": {
           "line": {
            "color": "#2a3f5f"
           }
          },
          "annotationdefaults": {
           "arrowcolor": "#2a3f5f",
           "arrowhead": 0,
           "arrowwidth": 1
          },
          "geo": {
           "bgcolor": "white",
           "landcolor": "#E5ECF6",
           "subunitcolor": "white",
           "showland": true,
           "showlakes": true,
           "lakecolor": "white"
          },
          "title": {
           "x": 0.05
          },
          "mapbox": {
           "style": "light"
          }
         }
        },
        "legend": {
         "orientation": "h",
         "yanchor": "bottom",
         "y": 1,
         "xanchor": "left",
         "x": 0
        },
        "xaxis": {
         "title": {
          "text": "Index"
         }
        },
        "yaxis": {
         "title": {
          "text": "Photovoltaic Production [kWh]"
         }
        }
       },
       "config": {
        "plotlyServerURL": "https://plot.ly"
       }
      },
      "text/html": "<div>                            <div id=\"265c4605-cfd0-45ad-9e88-35834c4320e3\" class=\"plotly-graph-div\" style=\"height:525px; width:100%;\"></div>            <script type=\"text/javascript\">                require([\"plotly\"], function(Plotly) {                    window.PLOTLYENV=window.PLOTLYENV || {};                                    if (document.getElementById(\"265c4605-cfd0-45ad-9e88-35834c4320e3\")) {                    Plotly.newPlot(                        \"265c4605-cfd0-45ad-9e88-35834c4320e3\",                        [{\"line\":{\"color\":\"rgb(84, 84, 84)\"},\"mode\":\"lines\",\"name\":\"Training Data\",\"x\":[0,1,2,3,4,5,6,7,8,9,10,11,12,13,14,15,16,17,18,19,20,21,22,23,24,25,26,27,28,29,30,31,32,33,34,35,36,37,38,39,40,41,42,43,44,45,46,47,48,49,50,51,52,53,54,55,56,57,58,59,60,61,62,63,64,65,66,67,68,69,70,71,72,73,74,75,76,77,78,79,80,81,82,83,84,85,86,87,88,89,90,91,92,93,94,95,96,97,98,99,100,101,102,103,104,105,106,107,108,109,110,111,112,113,114,115,116,117,118,119,120,121,122,123,124,125,126,127,128,129,130,131,132,133,134,135,136,137,138,139,140,141,142,143,144,145,146,147,148,149,150,151,152,153,154,155,156,157,158,159,160,161,162,163,164,165,166,167],\"y\":[1.126709499669,1.1762000223729998,1.0922664040589998,0.7890284826919999,0.9091694518179999,1.0182309286890001,0.990839448374,1.016563932572,2.221446457775,2.4323935963190007,1.8749982890729997,1.085420998354,0.888698855665,1.029740931648,1.6910986229749998,1.027125802824,0.692839197256,0.6513400106330001,1.482055157517,1.4560770645960002,0.8882075407689999,1.8266545172200002,1.2541782393170002,1.3676821252670002,1.293465249218,1.2155550494330003,1.119217154322,1.0801810999159998,1.154678114789,1.696555776271,2.8914662406100002,1.5873970004460003,1.589771020113,2.0772417123099998,1.3423400516019999,0.6128900112779999,0.5666364877660001,0.59664177376,0.619283544548,0.571987440997,0.592546110837,0.697540725077,1.7287155420580003,1.284435934638,1.029561113739,1.16258828773,0.817296799459,0.9017962380419999,0.8030914635030001,0.7447504780840001,0.7908599487339998,0.9159114085660001,1.0829107739769999,0.7712252961759998,2.095058560494,1.675262122527,1.2178892808960002,0.947588933793,0.7570649339719999,0.822210127037,0.5718585520960001,0.6122977829789998,0.570928251084,0.606583808509,0.9792845780510001,0.534631083116,0.841433687938,0.889175931868,0.9631173001219999,1.1397191816130001,1.9145959564089998,1.3382452713019999,1.4179853814169998,1.195201816031,1.388252628055,1.367410826271,1.5358774849580001,1.509588754329,2.659186659252,1.7597690390990002,0.9215970960759999,1.870938630045,1.240773039594,0.5691102203589999,0.8831378123479999,0.880794689597,0.9823811808119998,0.737359750309,0.7725051436160001,0.7415120625420001,1.21147767231,0.94503347198,0.862474273877,1.211841042105,1.1022311352339997,1.103138053004,1.2195065200880002,1.2420529022649998,1.2814823192159999,1.212109663006,1.5687808874549998,1.362998471352,2.488604347443,1.132911356896,0.9493988532959998,1.3193846651410002,1.587419794818,0.6836609839390001,0.5827482808299999,0.7502820257879999,0.7183064650009999,0.734650178421,0.7193179794,0.7440715655009998,1.1427848785250003,0.9169202533809999,1.2391082508470002,1.1982770596630001,1.641841164533,1.035722939272,1.1226713291900001,1.047250613813,1.009997819122,0.982078917855,1.0423963621389998,1.314401106252,2.490593283265,1.760117573316,1.07076735605,1.6876744924299998,2.3022902419990006,1.1826188543360001,1.4144366271920001,1.5460508958730002,1.7182073383479999,2.0671626045660005,2.1454696688109998,1.9758188963360002,2.5897061159190002,1.809110551442,1.5797634408999999,2.2293476421709997,2.2180959617959997,2.294230574174,1.825355483706,2.40725604415,1.8269514116069998,1.825461869716,2.061443959398,1.8824653970820002,2.3123741119110006,1.7793450462309996,3.418813282932,3.363145198273,2.330390816703,1.067154864435,1.5784841184979999,2.2426251785690003,2.1262541273019995,1.9101105058520003,1.1894197422289998,1.3361896626329999,2.0546959702089995,2.408571977078,2.000371086924,1.393841900975,1.482171385636,1.013691847446],\"type\":\"scatter\"},{\"line\":{\"color\":\"rgb(234,143,129)\"},\"mode\":\"lines\",\"name\":\"Observed\",\"x\":[168,169,170,171,172,173,174,175,176,177,178,179,180,181,182,183,184,185,186,187,188,189,190,191,192,193,194,195,196,197,198,199,200,201,202,203,204,205,206,207,208,209,210,211,212,213,214,215,216,217,218,219,220,221,222,223,224,225,226,227,228,229,230,231,232,233,234,235,236,237,238,239],\"y\":[0.873043983366,0.893159612888,1.314800736862,1.7121077813069996,1.361998725382,1.464237404005,1.443150905784,1.4807907886489997,2.4804975681970003,3.049453472392,2.1571722350940004,1.18295713063,1.377943765068,1.480995848645,2.012816458148,1.199221740948,1.181229230523,1.014487232038,1.4125050083569999,1.4368888050730002,1.134935031514,1.114859631405,1.393237011666,0.9408740598270001,1.071037604824,1.5031827131289999,1.6254028781470002,1.652650743769,1.6270052055870001,1.746982332535,3.2677479330530006,1.9316594285120001,1.553586266592,1.757407051184,1.7582293125430004,0.6490476431450001,0.753819113498,1.071918321538,0.740432531452,0.6541501297429999,0.665043174213,0.5466503875479999,0.878497175925,0.7964726663379998,1.052061630377,1.264329677726,1.02022179379,0.881110557502,1.0705190092139998,1.112506644301,1.0935001304940002,1.036891943877,1.151327562239,1.5401946340289998,1.991334305702,0.736401391855,1.1791541250900002,1.9103494682960003,1.9119949753469998,1.132519558541,0.7036147477310001,1.0484181285769998,1.114624777765,1.055576881529,0.993525950162,1.1167245672399997,0.8516087731979999,1.0871143868820001,1.542775966705,1.3487405155249999,2.0285524754540005,1.2214940234040002],\"type\":\"scatter\"},{\"line\":{\"color\":\"rgb(32,115,171)\"},\"mode\":\"lines\",\"name\":\"Predicted\",\"x\":[168,169,170,171,172,173,174,175,176,177,178,179,180,181,182,183,184,185,186,187,188,189,190,191,192,193,194,195,196,197,198,199,200,201,202,203,204,205,206,207,208,209,210,211,212,213,214,215,216,217,218,219,220,221,222,223,224,225,226,227,228,229,230,231,232,233,234,235,236,237,238,239],\"y\":[1.2697670136844037,1.0095973244789074,0.88322799793285,0.8624350967935968,1.1304986830947772,0.9805859128730652,1.1018341028729846,1.1805724752356141,1.7958613540446091,2.5042634921070888,1.9186793079686908,0.725073825389537,0.7300615839201948,1.185269632804178,1.528412183527012,1.1203922346684054,0.8762864737153186,0.6056027214424137,1.8300990403154591,1.501954481481223,1.0390486314050464,1.444093246338244,1.4938776261536681,1.3294292222806958,1.4538028109876904,1.4044251287472997,0.9424359238804968,0.789777977727087,1.2018207955960998,1.6198219508146983,2.643307177792929,1.737201649634038,1.5831375357246298,1.8319508638566353,1.4487730801527838,0.8335211101368437,0.7283113135881599,0.6154502593545166,0.5285545831361069,0.5466864948078349,0.6672807281745431,0.8978443437549658,1.6716297324725637,1.1072083748448045,1.047082914282543,0.9537569936795663,0.7619199660337622,0.7492341653972691,0.8216653972192756,0.6991495204338677,0.8059965810364683,0.9556809363275018,1.103598196417822,1.1165738116658106,2.0748999098188046,1.782321001603992,1.32808634081129,0.8752024630001326,0.8856272725485359,0.7195454719409952,0.6315296283367691,0.6231253912479063,0.49827498718979407,0.578063034778576,0.6537159002775604,0.4025257843254083,1.017318527775987,0.8784836399416057,0.9532549903787311,1.3216929032928988,1.7560304380950147,1.377042924311597],\"type\":\"scatter\"}],                        {\"template\":{\"data\":{\"histogram2dcontour\":[{\"type\":\"histogram2dcontour\",\"colorbar\":{\"outlinewidth\":0,\"ticks\":\"\"},\"colorscale\":[[0.0,\"#0d0887\"],[0.1111111111111111,\"#46039f\"],[0.2222222222222222,\"#7201a8\"],[0.3333333333333333,\"#9c179e\"],[0.4444444444444444,\"#bd3786\"],[0.5555555555555556,\"#d8576b\"],[0.6666666666666666,\"#ed7953\"],[0.7777777777777778,\"#fb9f3a\"],[0.8888888888888888,\"#fdca26\"],[1.0,\"#f0f921\"]]}],\"choropleth\":[{\"type\":\"choropleth\",\"colorbar\":{\"outlinewidth\":0,\"ticks\":\"\"}}],\"histogram2d\":[{\"type\":\"histogram2d\",\"colorbar\":{\"outlinewidth\":0,\"ticks\":\"\"},\"colorscale\":[[0.0,\"#0d0887\"],[0.1111111111111111,\"#46039f\"],[0.2222222222222222,\"#7201a8\"],[0.3333333333333333,\"#9c179e\"],[0.4444444444444444,\"#bd3786\"],[0.5555555555555556,\"#d8576b\"],[0.6666666666666666,\"#ed7953\"],[0.7777777777777778,\"#fb9f3a\"],[0.8888888888888888,\"#fdca26\"],[1.0,\"#f0f921\"]]}],\"heatmap\":[{\"type\":\"heatmap\",\"colorbar\":{\"outlinewidth\":0,\"ticks\":\"\"},\"colorscale\":[[0.0,\"#0d0887\"],[0.1111111111111111,\"#46039f\"],[0.2222222222222222,\"#7201a8\"],[0.3333333333333333,\"#9c179e\"],[0.4444444444444444,\"#bd3786\"],[0.5555555555555556,\"#d8576b\"],[0.6666666666666666,\"#ed7953\"],[0.7777777777777778,\"#fb9f3a\"],[0.8888888888888888,\"#fdca26\"],[1.0,\"#f0f921\"]]}],\"heatmapgl\":[{\"type\":\"heatmapgl\",\"colorbar\":{\"outlinewidth\":0,\"ticks\":\"\"},\"colorscale\":[[0.0,\"#0d0887\"],[0.1111111111111111,\"#46039f\"],[0.2222222222222222,\"#7201a8\"],[0.3333333333333333,\"#9c179e\"],[0.4444444444444444,\"#bd3786\"],[0.5555555555555556,\"#d8576b\"],[0.6666666666666666,\"#ed7953\"],[0.7777777777777778,\"#fb9f3a\"],[0.8888888888888888,\"#fdca26\"],[1.0,\"#f0f921\"]]}],\"contourcarpet\":[{\"type\":\"contourcarpet\",\"colorbar\":{\"outlinewidth\":0,\"ticks\":\"\"}}],\"contour\":[{\"type\":\"contour\",\"colorbar\":{\"outlinewidth\":0,\"ticks\":\"\"},\"colorscale\":[[0.0,\"#0d0887\"],[0.1111111111111111,\"#46039f\"],[0.2222222222222222,\"#7201a8\"],[0.3333333333333333,\"#9c179e\"],[0.4444444444444444,\"#bd3786\"],[0.5555555555555556,\"#d8576b\"],[0.6666666666666666,\"#ed7953\"],[0.7777777777777778,\"#fb9f3a\"],[0.8888888888888888,\"#fdca26\"],[1.0,\"#f0f921\"]]}],\"surface\":[{\"type\":\"surface\",\"colorbar\":{\"outlinewidth\":0,\"ticks\":\"\"},\"colorscale\":[[0.0,\"#0d0887\"],[0.1111111111111111,\"#46039f\"],[0.2222222222222222,\"#7201a8\"],[0.3333333333333333,\"#9c179e\"],[0.4444444444444444,\"#bd3786\"],[0.5555555555555556,\"#d8576b\"],[0.6666666666666666,\"#ed7953\"],[0.7777777777777778,\"#fb9f3a\"],[0.8888888888888888,\"#fdca26\"],[1.0,\"#f0f921\"]]}],\"mesh3d\":[{\"type\":\"mesh3d\",\"colorbar\":{\"outlinewidth\":0,\"ticks\":\"\"}}],\"scatter\":[{\"fillpattern\":{\"fillmode\":\"overlay\",\"size\":10,\"solidity\":0.2},\"type\":\"scatter\"}],\"parcoords\":[{\"type\":\"parcoords\",\"line\":{\"colorbar\":{\"outlinewidth\":0,\"ticks\":\"\"}}}],\"scatterpolargl\":[{\"type\":\"scatterpolargl\",\"marker\":{\"colorbar\":{\"outlinewidth\":0,\"ticks\":\"\"}}}],\"bar\":[{\"error_x\":{\"color\":\"#2a3f5f\"},\"error_y\":{\"color\":\"#2a3f5f\"},\"marker\":{\"line\":{\"color\":\"#E5ECF6\",\"width\":0.5},\"pattern\":{\"fillmode\":\"overlay\",\"size\":10,\"solidity\":0.2}},\"type\":\"bar\"}],\"scattergeo\":[{\"type\":\"scattergeo\",\"marker\":{\"colorbar\":{\"outlinewidth\":0,\"ticks\":\"\"}}}],\"scatterpolar\":[{\"type\":\"scatterpolar\",\"marker\":{\"colorbar\":{\"outlinewidth\":0,\"ticks\":\"\"}}}],\"histogram\":[{\"marker\":{\"pattern\":{\"fillmode\":\"overlay\",\"size\":10,\"solidity\":0.2}},\"type\":\"histogram\"}],\"scattergl\":[{\"type\":\"scattergl\",\"marker\":{\"colorbar\":{\"outlinewidth\":0,\"ticks\":\"\"}}}],\"scatter3d\":[{\"type\":\"scatter3d\",\"line\":{\"colorbar\":{\"outlinewidth\":0,\"ticks\":\"\"}},\"marker\":{\"colorbar\":{\"outlinewidth\":0,\"ticks\":\"\"}}}],\"scattermapbox\":[{\"type\":\"scattermapbox\",\"marker\":{\"colorbar\":{\"outlinewidth\":0,\"ticks\":\"\"}}}],\"scatterternary\":[{\"type\":\"scatterternary\",\"marker\":{\"colorbar\":{\"outlinewidth\":0,\"ticks\":\"\"}}}],\"scattercarpet\":[{\"type\":\"scattercarpet\",\"marker\":{\"colorbar\":{\"outlinewidth\":0,\"ticks\":\"\"}}}],\"carpet\":[{\"aaxis\":{\"endlinecolor\":\"#2a3f5f\",\"gridcolor\":\"white\",\"linecolor\":\"white\",\"minorgridcolor\":\"white\",\"startlinecolor\":\"#2a3f5f\"},\"baxis\":{\"endlinecolor\":\"#2a3f5f\",\"gridcolor\":\"white\",\"linecolor\":\"white\",\"minorgridcolor\":\"white\",\"startlinecolor\":\"#2a3f5f\"},\"type\":\"carpet\"}],\"table\":[{\"cells\":{\"fill\":{\"color\":\"#EBF0F8\"},\"line\":{\"color\":\"white\"}},\"header\":{\"fill\":{\"color\":\"#C8D4E3\"},\"line\":{\"color\":\"white\"}},\"type\":\"table\"}],\"barpolar\":[{\"marker\":{\"line\":{\"color\":\"#E5ECF6\",\"width\":0.5},\"pattern\":{\"fillmode\":\"overlay\",\"size\":10,\"solidity\":0.2}},\"type\":\"barpolar\"}],\"pie\":[{\"automargin\":true,\"type\":\"pie\"}]},\"layout\":{\"autotypenumbers\":\"strict\",\"colorway\":[\"#636efa\",\"#EF553B\",\"#00cc96\",\"#ab63fa\",\"#FFA15A\",\"#19d3f3\",\"#FF6692\",\"#B6E880\",\"#FF97FF\",\"#FECB52\"],\"font\":{\"color\":\"#2a3f5f\"},\"hovermode\":\"closest\",\"hoverlabel\":{\"align\":\"left\"},\"paper_bgcolor\":\"white\",\"plot_bgcolor\":\"#E5ECF6\",\"polar\":{\"bgcolor\":\"#E5ECF6\",\"angularaxis\":{\"gridcolor\":\"white\",\"linecolor\":\"white\",\"ticks\":\"\"},\"radialaxis\":{\"gridcolor\":\"white\",\"linecolor\":\"white\",\"ticks\":\"\"}},\"ternary\":{\"bgcolor\":\"#E5ECF6\",\"aaxis\":{\"gridcolor\":\"white\",\"linecolor\":\"white\",\"ticks\":\"\"},\"baxis\":{\"gridcolor\":\"white\",\"linecolor\":\"white\",\"ticks\":\"\"},\"caxis\":{\"gridcolor\":\"white\",\"linecolor\":\"white\",\"ticks\":\"\"}},\"coloraxis\":{\"colorbar\":{\"outlinewidth\":0,\"ticks\":\"\"}},\"colorscale\":{\"sequential\":[[0.0,\"#0d0887\"],[0.1111111111111111,\"#46039f\"],[0.2222222222222222,\"#7201a8\"],[0.3333333333333333,\"#9c179e\"],[0.4444444444444444,\"#bd3786\"],[0.5555555555555556,\"#d8576b\"],[0.6666666666666666,\"#ed7953\"],[0.7777777777777778,\"#fb9f3a\"],[0.8888888888888888,\"#fdca26\"],[1.0,\"#f0f921\"]],\"sequentialminus\":[[0.0,\"#0d0887\"],[0.1111111111111111,\"#46039f\"],[0.2222222222222222,\"#7201a8\"],[0.3333333333333333,\"#9c179e\"],[0.4444444444444444,\"#bd3786\"],[0.5555555555555556,\"#d8576b\"],[0.6666666666666666,\"#ed7953\"],[0.7777777777777778,\"#fb9f3a\"],[0.8888888888888888,\"#fdca26\"],[1.0,\"#f0f921\"]],\"diverging\":[[0,\"#8e0152\"],[0.1,\"#c51b7d\"],[0.2,\"#de77ae\"],[0.3,\"#f1b6da\"],[0.4,\"#fde0ef\"],[0.5,\"#f7f7f7\"],[0.6,\"#e6f5d0\"],[0.7,\"#b8e186\"],[0.8,\"#7fbc41\"],[0.9,\"#4d9221\"],[1,\"#276419\"]]},\"xaxis\":{\"gridcolor\":\"white\",\"linecolor\":\"white\",\"ticks\":\"\",\"title\":{\"standoff\":15},\"zerolinecolor\":\"white\",\"automargin\":true,\"zerolinewidth\":2},\"yaxis\":{\"gridcolor\":\"white\",\"linecolor\":\"white\",\"ticks\":\"\",\"title\":{\"standoff\":15},\"zerolinecolor\":\"white\",\"automargin\":true,\"zerolinewidth\":2},\"scene\":{\"xaxis\":{\"backgroundcolor\":\"#E5ECF6\",\"gridcolor\":\"white\",\"linecolor\":\"white\",\"showbackground\":true,\"ticks\":\"\",\"zerolinecolor\":\"white\",\"gridwidth\":2},\"yaxis\":{\"backgroundcolor\":\"#E5ECF6\",\"gridcolor\":\"white\",\"linecolor\":\"white\",\"showbackground\":true,\"ticks\":\"\",\"zerolinecolor\":\"white\",\"gridwidth\":2},\"zaxis\":{\"backgroundcolor\":\"#E5ECF6\",\"gridcolor\":\"white\",\"linecolor\":\"white\",\"showbackground\":true,\"ticks\":\"\",\"zerolinecolor\":\"white\",\"gridwidth\":2}},\"shapedefaults\":{\"line\":{\"color\":\"#2a3f5f\"}},\"annotationdefaults\":{\"arrowcolor\":\"#2a3f5f\",\"arrowhead\":0,\"arrowwidth\":1},\"geo\":{\"bgcolor\":\"white\",\"landcolor\":\"#E5ECF6\",\"subunitcolor\":\"white\",\"showland\":true,\"showlakes\":true,\"lakecolor\":\"white\"},\"title\":{\"x\":0.05},\"mapbox\":{\"style\":\"light\"}}},\"legend\":{\"orientation\":\"h\",\"yanchor\":\"bottom\",\"y\":1,\"xanchor\":\"left\",\"x\":0},\"xaxis\":{\"title\":{\"text\":\"Index\"}},\"yaxis\":{\"title\":{\"text\":\"Photovoltaic Production [kWh]\"}}},                        {\"responsive\": true}                    ).then(function(){\n                            \nvar gd = document.getElementById('265c4605-cfd0-45ad-9e88-35834c4320e3');\nvar x = new MutationObserver(function (mutations, observer) {{\n        var display = window.getComputedStyle(gd).display;\n        if (!display || display === 'none') {{\n            console.log([gd, 'removed!']);\n            Plotly.purge(gd);\n            observer.disconnect();\n        }}\n}});\n\n// Listen for the removal of the full notebook cells\nvar notebookContainer = gd.closest('#notebook-container');\nif (notebookContainer) {{\n    x.observe(notebookContainer, {childList: true});\n}}\n\n// Listen for the clearing of the current output cell\nvar outputEl = gd.closest('.output');\nif (outputEl) {{\n    x.observe(outputEl, {childList: true});\n}}\n\n                        })                };                });            </script>        </div>"
     },
     "metadata": {},
     "output_type": "display_data"
    }
   ],
   "source": [
    "fig = go.Figure()\n",
    "\n",
    "# fig.add_trace(go.Scatter(x=list(np.arange(start=WEEK, stop=WEEK + VALIDATION_RANGE)) + list(np.arange(start=WEEK, stop=WEEK + VALIDATION_RANGE))[::-1],\n",
    "#                          y=list(prediction + epsilon) + list(prediction - epsilon)[::-1], # upper, then lower reversed\n",
    "#                          fill='toself',\n",
    "#                          fillcolor='rgba(0,100,80,0.2)',\n",
    "#                          line=dict(color='rgba(255,255,255,0)'),\n",
    "#                          hoverinfo=\"skip\",\n",
    "#                          showlegend=False\n",
    "#                          ))\n",
    "\n",
    "# fig.add_trace(go.Scatter(x=np.arange(start=0, stop=WEEK),\n",
    "#                          y=pred_test,\n",
    "#                          name='Training Data [Prediction]',\n",
    "#                          mode='lines',\n",
    "#                          line=dict(color='rgb(84, 0, 84)')))\n",
    "\n",
    "fig.add_trace(go.Scatter(x=np.arange(start=WEEK-WEEK, stop=WEEK),\n",
    "                         y=DATA[WEEK-WEEK:WEEK],\n",
    "                         name='Training Data',\n",
    "                         mode='lines',\n",
    "                         line=dict(color='rgb(84, 84, 84)')))\n",
    "\n",
    "fig.add_trace(go.Scatter(x=np.arange(start=WEEK, stop=WEEK + VALIDATION_RANGE),\n",
    "                         y=actual,\n",
    "                         name='Observed',\n",
    "                         mode='lines',\n",
    "                         line=dict(color='rgb(234,143,129)')))\n",
    "\n",
    "fig.add_trace(go.Scatter(x=np.arange(start=WEEK, stop=WEEK + VALIDATION_RANGE),\n",
    "                         y=prediction,\n",
    "                         name='Predicted',\n",
    "                         mode='lines',\n",
    "                         line=dict(color='rgb(32,115,171)')))\n",
    "\n",
    "fig.update_layout(\n",
    "    xaxis_title=\"Index\",\n",
    "    yaxis_title=\"Photovoltaic Production [kWh]\",\n",
    "    legend=dict(orientation=\"h\",\n",
    "                yanchor=\"bottom\",\n",
    "                y=1,\n",
    "                xanchor=\"left\",\n",
    "                x=0))\n",
    "\n",
    "fig.show()"
   ],
   "metadata": {
    "collapsed": false,
    "pycharm": {
     "name": "#%%\n"
    }
   }
  },
  {
   "cell_type": "code",
   "execution_count": 58,
   "outputs": [
    {
     "ename": "NameError",
     "evalue": "name 'flex' is not defined",
     "output_type": "error",
     "traceback": [
      "\u001B[0;31m---------------------------------------------------------------------------\u001B[0m",
      "\u001B[0;31mNameError\u001B[0m                                 Traceback (most recent call last)",
      "\u001B[0;32m/var/folders/nt/w3ctvjn94jn89w856x4xh8zc0000gn/T/ipykernel_73409/1822594287.py\u001B[0m in \u001B[0;36m<module>\u001B[0;34m\u001B[0m\n\u001B[1;32m     16\u001B[0m \u001B[0;34m\u001B[0m\u001B[0m\n\u001B[1;32m     17\u001B[0m fig.add_trace(go.Scatter(x=idx,\n\u001B[0;32m---> 18\u001B[0;31m                          \u001B[0my\u001B[0m\u001B[0;34m=\u001B[0m\u001B[0mflex\u001B[0m\u001B[0;34m,\u001B[0m\u001B[0;34m\u001B[0m\u001B[0;34m\u001B[0m\u001B[0m\n\u001B[0m\u001B[1;32m     19\u001B[0m                          \u001B[0mname\u001B[0m\u001B[0;34m=\u001B[0m\u001B[0;34m'Flexible'\u001B[0m\u001B[0;34m,\u001B[0m\u001B[0;34m\u001B[0m\u001B[0;34m\u001B[0m\u001B[0m\n\u001B[1;32m     20\u001B[0m                          \u001B[0mmode\u001B[0m\u001B[0;34m=\u001B[0m\u001B[0;34m'lines'\u001B[0m\u001B[0;34m,\u001B[0m\u001B[0;34m\u001B[0m\u001B[0;34m\u001B[0m\u001B[0m\n",
      "\u001B[0;31mNameError\u001B[0m: name 'flex' is not defined"
     ]
    }
   ],
   "source": [
    "idx = list(range(0, 72, 1))\n",
    "\n",
    "fig = go.Figure()\n",
    "\n",
    "fig.add_trace(go.Scatter(x=idx,\n",
    "                         y=pv,\n",
    "                         name='PV',\n",
    "                         mode='lines',\n",
    "                         line=dict(color='royalblue', width=3)))\n",
    "\n",
    "fig.add_trace(go.Scatter(x=idx,\n",
    "                         y=fix,\n",
    "                         name='Fixed',\n",
    "                         mode='lines',\n",
    "                         line=dict(color='firebrick', width=3)))\n",
    "\n",
    "fig.add_trace(go.Scatter(x=idx,\n",
    "                         y=flex,\n",
    "                         name='Flexible',\n",
    "                         mode='lines',\n",
    "                         line=dict(color='firebrick', width=3, dash='dash')))\n",
    "\n",
    "fig.add_trace(go.Scatter(x=idx,\n",
    "                         y=np.subtract(pv, np.add(fix, flex)),\n",
    "                         name='Balance',\n",
    "                         mode='lines',\n",
    "                         line=dict(color='black', width=4),\n",
    "                         fill='tozeroy',\n",
    "                         fillcolor=\"rgba(80, 80, 80, 0.5)\"))\n",
    "\n",
    "fig.update_layout(plot_bgcolor='rgba(0,0,0,0)',\n",
    "                  legend=dict(orientation=\"h\",\n",
    "                              yanchor=\"top\",\n",
    "                              y=1.06,\n",
    "                              xanchor=\"left\",\n",
    "                              x=0.0))\n",
    "\n",
    "#x axis\n",
    "# fig.update_xaxes(visible=False)\n",
    "\n",
    "#y axis\n",
    "# fig.update_yaxes(visible=False)\n",
    "\n",
    "fig.update_xaxes(showline=True, linewidth=2, linecolor='grey', title=\"Index\")\n",
    "fig.update_yaxes(showline=True, linewidth=2, linecolor='grey', title=\"kWh\")\n",
    "\n",
    "fig.show()"
   ],
   "metadata": {
    "collapsed": false,
    "pycharm": {
     "name": "#%%\n"
    }
   }
  },
  {
   "cell_type": "code",
   "execution_count": null,
   "outputs": [],
   "source": [
    "from sklearn.ensemble import RandomForestRegressor\n",
    "weather = pd.read_csv(\"GAI_2015_2016.csv\")\n",
    "weather[\"Time\"] = pd.to_datetime(weather[\"Time\"])\n",
    "ensemble = pd.DataFrame(DATA[0:WEEK+VALIDATION_RANGE], columns=[\"Target\"]).merge(weather, how=\"left\", left_index=True, right_on=\"Time\")\n",
    "ensemble"
   ],
   "metadata": {
    "collapsed": false,
    "pycharm": {
     "name": "#%%\n"
    }
   }
  },
  {
   "cell_type": "code",
   "execution_count": null,
   "outputs": [],
   "source": [
    "ensemble.index = ensemble[\"Time\"]\n",
    "ensemble[\"Time\"] = ensemble[\"Time\"].dt.hour\n",
    "ensemble"
   ],
   "metadata": {
    "collapsed": false,
    "pycharm": {
     "name": "#%%\n"
    }
   }
  },
  {
   "cell_type": "code",
   "execution_count": null,
   "outputs": [],
   "source": [
    "from sklearn.preprocessing import OneHotEncoder\n",
    "ohe = OneHotEncoder(sparse=False)\n",
    "hot_np = ohe.fit_transform(ensemble[[\"Time\", \"Condition\"]])\n",
    "hot = pd.DataFrame(data=hot_np, columns=ohe.get_feature_names_out())\n",
    "hot_test = hot[:WEEK]\n",
    "hot_vali = hot[WEEK:]"
   ],
   "metadata": {
    "collapsed": false,
    "pycharm": {
     "name": "#%%\n"
    }
   }
  },
  {
   "cell_type": "code",
   "execution_count": null,
   "outputs": [],
   "source": [
    "rfr = RandomForestRegressor()\n",
    "rfr.fit(hot_test, ensemble[\"Target\"][:WEEK])\n",
    "np.sqrt(mean_squared_error(rfr.predict(hot_vali), ensemble[\"Target\"][WEEK:]))"
   ],
   "metadata": {
    "collapsed": false,
    "pycharm": {
     "name": "#%%\n"
    }
   }
  },
  {
   "cell_type": "markdown",
   "source": [
    "# FIG INTRO FORECASTING"
   ],
   "metadata": {
    "collapsed": false
   }
  },
  {
   "cell_type": "code",
   "execution_count": null,
   "outputs": [],
   "source": [
    "# idx = list(range(0, 72, 2))\n",
    "# pv = [x * 1.2 for x in [0, 0, 0, 4, 20, 45, 50, 50, 34, 10, 0, 0, 0, 0, 0, 2, 15, 35, 40, 45, 30, 15, 0, 0, 0, 0, 0, 10, 25, 50, 60, 50, 44, 20, 0, 0]]\n",
    "# fix = [10, 9, 10, 4, 22, 14, 12, 0, 12, 21, 13, 14, 12, 12, 32, 21, 11, 12, 21, 12, 22, 23, 11, 9, 8, 19, 17, 25, 20, 11, 15, 12, 15, 12, 18, 20]\n",
    "# flex = [0, 0, 0, 20, 5, 0, 0, 0, 19, 10, 0, 8, 0, 0, 0, 5, 9, 0, 0, 0, 0, 20, 10, 0, 5, 0, 19, 0, 0, 20, 9, 7, 0, 0, 0, 4]\n",
    "#\n",
    "# fig = go.Figure()\n",
    "#\n",
    "# fig.add_trace(go.Scatter(x=idx,\n",
    "#                          y=pv,\n",
    "#                          name='PV',\n",
    "#                          mode='lines',\n",
    "#                          line=dict(color='royalblue', width=3)))\n",
    "#\n",
    "# fig.add_trace(go.Scatter(x=idx,\n",
    "#                          y=fix,\n",
    "#                          name='Fixed',\n",
    "#                          mode='lines',\n",
    "#                          line=dict(color='firebrick', width=3)))\n",
    "#\n",
    "# fig.add_trace(go.Scatter(x=idx,\n",
    "#                          y=flex,\n",
    "#                          name='Flexible',\n",
    "#                          mode='lines',\n",
    "#                          line=dict(color='firebrick', width=3, dash='dash')))\n",
    "#\n",
    "# fig.add_trace(go.Scatter(x=idx,\n",
    "#                          y=np.subtract(pv, np.add(fix, flex)),\n",
    "#                          name='Balance',\n",
    "#                          mode='lines',\n",
    "#                          line=dict(color='black', width=4),\n",
    "#                          fill='tozeroy',\n",
    "#                          fillcolor=\"rgba(80, 80, 80, 0.5)\"))\n",
    "#\n",
    "# fig.update_layout(plot_bgcolor='rgba(0,0,0,0)',\n",
    "#                   legend=dict(orientation=\"h\",\n",
    "#                               yanchor=\"top\",\n",
    "#                               y=1.05,\n",
    "#                               xanchor=\"left\",\n",
    "#                               x=0.0))\n",
    "#\n",
    "# #x axis\n",
    "# fig.update_xaxes(visible=False)\n",
    "#\n",
    "# #y axis\n",
    "# fig.update_yaxes(visible=False)\n",
    "#\n",
    "# fig.show()"
   ],
   "metadata": {
    "collapsed": false,
    "pycharm": {
     "name": "#%%\n"
    }
   }
  },
  {
   "cell_type": "code",
   "execution_count": null,
   "outputs": [],
   "source": [],
   "metadata": {
    "collapsed": false,
    "pycharm": {
     "name": "#%%\n"
    }
   }
  }
 ],
 "metadata": {
  "kernelspec": {
   "display_name": "Python 3",
   "language": "python",
   "name": "python3"
  },
  "language_info": {
   "codemirror_mode": {
    "name": "ipython",
    "version": 2
   },
   "file_extension": ".py",
   "mimetype": "text/x-python",
   "name": "python",
   "nbconvert_exporter": "python",
   "pygments_lexer": "ipython2",
   "version": "2.7.6"
  }
 },
 "nbformat": 4,
 "nbformat_minor": 0
}