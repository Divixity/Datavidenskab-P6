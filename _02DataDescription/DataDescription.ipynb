{
 "cells": [
  {
   "cell_type": "code",
   "execution_count": 10,
   "outputs": [],
   "source": [
    "from DataRetriever import DataRetriever\n",
    "import plotly.graph_objects as go\n",
    "from plotly.subplots import make_subplots\n",
    "import pandas as pd"
   ],
   "metadata": {
    "collapsed": false,
    "pycharm": {
     "name": "#%%\n"
    }
   }
  },
  {
   "cell_type": "code",
   "metadata": {
    "collapsed": true,
    "pycharm": {
     "name": "#%%\n"
    }
   },
   "source": [
    "#load all the files\n",
    "open_data = DataRetriever()\n",
    "\n",
    "year1hour = open_data.get_data(\"All-Subsystems-hour-Year1.pkl\")\n",
    "year2hour = open_data.get_data(\"All-Subsystems-hour-Year2.pkl\")\n",
    "\n",
    "year1min = open_data.get_data(\"All-Subsystems-minute-Year1.pkl\")\n",
    "year2min = open_data.get_data(\"All-Subsystems-minute-Year2.pkl\")"
   ],
   "execution_count": 11,
   "outputs": []
  },
  {
   "cell_type": "markdown",
   "source": [],
   "metadata": {
    "collapsed": false,
    "pycharm": {
     "name": "#%% md\n"
    }
   }
  },
  {
   "cell_type": "code",
   "execution_count": 12,
   "outputs": [
    {
     "name": "stdout",
     "output_type": "stream",
     "text": [
      "year 1 hour: (8761, 356)\n",
      "year 1 min: (518792, 358)\n",
      "year 2 hour: (8760, 380)\n",
      "year 2 min: (519604, 382)\n"
     ]
    }
   ],
   "source": [
    "print(\"year 1 hour:\", year1hour.shape)\n",
    "print(\"year 1 min:\", year1min.shape)\n",
    "print(\"year 2 hour:\", year2hour.shape)\n",
    "print(\"year 2 min:\", year2min.shape)"
   ],
   "metadata": {
    "collapsed": false,
    "pycharm": {
     "name": "#%%\n"
    }
   }
  },
  {
   "cell_type": "markdown",
   "source": [
    "# Attribute Investigation"
   ],
   "metadata": {
    "collapsed": false,
    "pycharm": {
     "name": "#%% md\n"
    }
   }
  },
  {
   "cell_type": "code",
   "execution_count": 13,
   "outputs": [
    {
     "name": "stdout",
     "output_type": "stream",
     "text": [
      "TimeStamp_Count\n",
      "DayOfWeek\n",
      "\n",
      " The new columns are:\n",
      "PV_PVSystem1ACEnergyOSEACPV1OS\n",
      "PV_PVSystem2ACEnergyOSEACPV2OS\n",
      "PV_PVSystem1ACPowerOSPACPV1OS\n",
      "PV_PVSystem2ACPowerOSPACPV2OS\n",
      "Vent_HRVDewpointTemperatureSupply\n",
      "Vent_HRVDewpointTemperatureReturn\n",
      "Vent_HRVDewpointTemperatureExhaust\n",
      "Vent_HRVDewpointTemperatureOutdoor\n",
      "Vent_HRVreturnflowrate\n",
      "Vent_HRVexhaustflowrate\n",
      "Vent_HRVoutdoorflowrate\n",
      "DHW_WaterTempMBASinkRHot\n",
      "DHW_WaterTempMBASinkRCold\n",
      "DHW_WaterTempBASinkHot\n",
      "DHW_WaterTempBASinkCold\n",
      "DHW_WaterTempBAShwHot\n",
      "DHW_WaterTempBAShwCold\n",
      "DHW_WaterTempBASinkMixed\n",
      "DHW_WaterTempBAShowerMixed\n",
      "DHW_WaterTempMBASinkRMixed\n",
      "SHW_GlycolFlowHXCoriolisSHW\n",
      "SHW_WaterFlowHXCoriolisSHW\n",
      "SHW_GlycolFlowRateHXCoriolisSHW\n",
      "SHW_WaterFlowRateHXCoriolisSHW\n"
     ]
    }
   ],
   "source": [
    "#The two extra columns in the minute versions\n",
    "for col in year2min.columns:\n",
    "    if col not in year2hour.columns:\n",
    "        print(col)\n",
    "\n",
    "#The 24 extra columns in the year2 versions\n",
    "print('\\n The new columns are:')\n",
    "for column in year2hour.columns:\n",
    "    if column not in year1hour.columns:\n",
    "        print(column)"
   ],
   "metadata": {
    "collapsed": false,
    "pycharm": {
     "name": "#%%\n"
    }
   }
  },
  {
   "cell_type": "code",
   "execution_count": 14,
   "outputs": [],
   "source": [
    "#Basic descriptive statistics for all attributes\n",
    "y1hsummary = year1hour.describe()\n",
    "y2hsummary = year2hour.describe()"
   ],
   "metadata": {
    "collapsed": false,
    "pycharm": {
     "name": "#%%\n"
    }
   }
  },
  {
   "cell_type": "code",
   "execution_count": 15,
   "outputs": [
    {
     "name": "stdout",
     "output_type": "stream",
     "text": [
      "Load_LatentHeatWaterVolume has  87  number of NaN values\n",
      "Load_RefrigeratorTemp has  87  number of NaN values\n",
      "Load_StatusBA1Lights has  87  number of NaN values\n",
      "Load_StatusKitchenLightsA has  87  number of NaN values\n",
      "Load_StatusKitchenLightsB has  87  number of NaN values\n",
      "Load_StatusKitchenLightsC has  87  number of NaN values\n",
      "Load_StatusDRLights has  87  number of NaN values\n",
      "Load_StatusLRLights3 has  87  number of NaN values\n",
      "Load_StatusEntryHallLights has  87  number of NaN values\n",
      "Load_StatusBR4Lights has  87  number of NaN values\n",
      "Load_StatusMBALights has  87  number of NaN values\n",
      "Load_StatusMBRLights1 has  87  number of NaN values\n",
      "Load_StatusMBRLights2 has  87  number of NaN values\n",
      "Load_StatusBA2Lights has  87  number of NaN values\n",
      "Load_StatusBR2Lights has  87  number of NaN values\n",
      "Load_StatusBR3Lights has  87  number of NaN values\n",
      "Load_StatusSensHeatPrntBDOWN has  87  number of NaN values\n",
      "Load_StatusSensHeatPrntAUP has  87  number of NaN values\n",
      "Load_StatusSensHeatPrntBUP has  87  number of NaN values\n",
      "Load_StatusSensHeatChildAUP has  87  number of NaN values\n",
      "Load_StatusSensHeatChildBUP has  87  number of NaN values\n",
      "Load_StatusSensHeatChildBDOWN has  87  number of NaN values\n",
      "Load_StatusLRLights1 has  87  number of NaN values\n",
      "Load_StatusSensHeatPrntADOWN has  87  number of NaN values\n",
      "Load_StatusSensHeatChildADOWN has  87  number of NaN values\n",
      "Load_StatusLRLights2 has  87  number of NaN values\n",
      "Load_StatusPlugLoadBlender has  87  number of NaN values\n",
      "Load_StatusPlugLoadToasterOven has  87  number of NaN values\n",
      "Load_StatusApplianceRangeHood has  87  number of NaN values\n",
      "Load_StatusApplianceCooktop has  87  number of NaN values\n",
      "Load_StatusApplianceOven has  87  number of NaN values\n",
      "Load_StatusPlugLoadSlowCooker has  87  number of NaN values\n",
      "Load_StatusPlugLoadToaster has  87  number of NaN values\n",
      "Load_StatusApplianceDishwasher has  87  number of NaN values\n",
      "Load_StatusPlugLoadHandMixer has  87  number of NaN values\n",
      "Load_StatusPlugLoadCanOpener has  87  number of NaN values\n",
      "Load_StatusLatentload has  87  number of NaN values\n",
      "Load_StatusPlugLoadCoffeeMaker has  87  number of NaN values\n",
      "Load_StatusPlugLoadLRTV has  87  number of NaN values\n",
      "Load_StatusPlugLoadLRBlueRay has  87  number of NaN values\n",
      "Load_StatusPlugLoadVideoGame has  87  number of NaN values\n",
      "Load_StatusPlugLoadVacuum has  87  number of NaN values\n",
      "Load_StatusPlugLoadDesktopPCMonitor has  87  number of NaN values\n",
      "Load_StatusPlugLoadHairDryerCurlIron has  87  number of NaN values\n",
      "Load_StatusPlugLoadBR2Laptop has  87  number of NaN values\n",
      "Load_StatusPlugLoadBR3Laptop has  87  number of NaN values\n",
      "Load_StatusPlugLoadMBRTV has  87  number of NaN values\n",
      "Load_StatusPlugLoadMBRBlueRay has  87  number of NaN values\n",
      "Load_StatusPlugLoadFan has  87  number of NaN values\n",
      "Load_StatusPlugLoadHeatingPad has  87  number of NaN values\n",
      "Load_StatusPlugLoadIron has  87  number of NaN values\n",
      "Load_LRPlugLoadsPowerUsage has  87  number of NaN values\n",
      "Load_KPlugLoadsPowerUsage has  87  number of NaN values\n",
      "Load_MBRPlugLoadsPowerUsage has  87  number of NaN values\n",
      "Load_BR2PlugLoadsPowerUsage has  87  number of NaN values\n",
      "Load_BR3PlugLoadsPowerUsage has  87  number of NaN values\n",
      "Load_BR4PlugLoadsPowerUsage has  87  number of NaN values\n",
      "Load_1stFloorSensHeatPowerUsage has  87  number of NaN values\n",
      "Load_2ndFloorSensHeatPowerUsage has  87  number of NaN values\n",
      "Load_1stFloorLightsPowerUsage has  87  number of NaN values\n",
      "Load_2ndFloorLightsPowerUsage has  87  number of NaN values\n",
      "Load_LatentHeatPowerUsage has  87  number of NaN values\n",
      "Load_LRPlugLoadsEnergyUsage has  87  number of NaN values\n",
      "Load_KPlugLoadsEnergyUsage has  87  number of NaN values\n",
      "Load_MBRPlugLoadsEnergyUsage has  87  number of NaN values\n",
      "Load_BR2PlugLoadsEnergyUsage has  87  number of NaN values\n",
      "Load_BR3PlugLoadsEnergyUsage has  87  number of NaN values\n",
      "Load_BR4PlugLoadsEnergyUsage has  87  number of NaN values\n",
      "Load_1stFloorSensHeatEnergyUsage has  87  number of NaN values\n",
      "Load_2ndFloorSensHeatEnergyUsage has  87  number of NaN values\n",
      "Load_1stFloorLightsEnergyUsage has  87  number of NaN values\n",
      "Load_2ndFloorLightsEnergyUsage has  87  number of NaN values\n",
      "Load_LatentHeatEnergyUsage has  87  number of NaN values\n",
      "Load_DryerEnergyTotal has  87  number of NaN values\n",
      "Load_DryerPowerTotal has  87  number of NaN values\n",
      "Load_OvenEnergyTotal has  87  number of NaN values\n",
      "Load_OvenPowerTotal has  87  number of NaN values\n",
      "Load_BasementPlugLoadsPowerUsage has  87  number of NaN values\n",
      "Load_BasementPlugLoadsEnergyUsage has  87  number of NaN values\n",
      "Load_ClothesWasherEnergywithStandby has  87  number of NaN values\n",
      "Load_ClothesWasherPowerWithStandby has  87  number of NaN values\n",
      "Load_RefrigeratorEnergywithStandby has  87  number of NaN values\n",
      "Load_RefrigeratorPowerWithStandby has  87  number of NaN values\n",
      "Load_MicrowaveEnergywithStandby has  87  number of NaN values\n",
      "Load_MicrowavePowerWithStandby has  87  number of NaN values\n",
      "PV_PVSystem1ACEnergyOSEACPV1OS has  87  number of NaN values\n",
      "PV_PVSystem2ACEnergyOSEACPV2OS has  87  number of NaN values\n",
      "PV_PVBacksideTemp2 has  87  number of NaN values\n",
      "PV_PVBacksideTemp3 has  87  number of NaN values\n",
      "PV_PVBacksideTemp4 has  87  number of NaN values\n",
      "PV_PVBacksideTemp7 has  87  number of NaN values\n",
      "PV_StringVoltageUStr2 has  87  number of NaN values\n",
      "PV_StringVoltageUStr4 has  87  number of NaN values\n",
      "PV_VoltsANUAN1 has  87  number of NaN values\n",
      "PV_VoltsBNUBN1 has  87  number of NaN values\n",
      "PV_AmpsAIA1 has  87  number of NaN values\n",
      "PV_AmpsBIB1 has  87  number of NaN values\n",
      "PV_Watts3PhTotalW3PhT1 has  87  number of NaN values\n",
      "PV_PowerFactor3PhTotalPF3PhT1 has  87  number of NaN values\n",
      "PV_FrequencyF1 has  87  number of NaN values\n",
      "PV_WhoursDeliveredWhD1 has  87  number of NaN values\n",
      "PV_VoltsANUAN2 has  87  number of NaN values\n",
      "PV_VoltsBNUBN2 has  87  number of NaN values\n",
      "PV_AmpsAIA2 has  87  number of NaN values\n",
      "PV_AmpsBIB2 has  87  number of NaN values\n",
      "PV_Watts3PhTotalW3PhT2 has  87  number of NaN values\n",
      "PV_PowerFactor3PhTotalPF3PhT2 has  87  number of NaN values\n",
      "PV_FrequencyF2 has  87  number of NaN values\n",
      "PV_WhoursDeliveredWhD2 has  87  number of NaN values\n",
      "PV_StringCurrentIStr1 has  87  number of NaN values\n",
      "PV_StringCurrentIStr2 has  87  number of NaN values\n",
      "PV_StringCurrentIStr3 has  87  number of NaN values\n",
      "PV_StringCurrentIStr4 has  87  number of NaN values\n",
      "PV_PVSystem1ACPowerOSPACPV1OS has  87  number of NaN values\n",
      "PV_PVSystem2ACPowerOSPACPV2OS has  87  number of NaN values\n",
      "SHW_SHWHX80galWaterFlow has  87  number of NaN values\n",
      "SHW_GlycolTempSHWPanel80galOut has  87  number of NaN values\n",
      "SHW_PSPSHW has  87  number of NaN values\n",
      "Elec_EnergyPlugsBaseAHeliodyneHXs has  87  number of NaN values\n",
      "Elec_EnergyPlugsBaseB has  87  number of NaN values\n",
      "Elec_EnergyPlugsBaseC has  87  number of NaN values\n",
      "Elec_EnergySumpPump has  87  number of NaN values\n",
      "Elec_EnergyLightsBasementStair has  87  number of NaN values\n",
      "Elec_EnergySpare1 has  87  number of NaN values\n",
      "Elec_EnergyPlugsBA1 has  87  number of NaN values\n",
      "Elec_EnergyPlugsDR has  87  number of NaN values\n",
      "Elec_EnergyPlugsBR4 has  87  number of NaN values\n",
      "Elec_EnergyPlugsEntryHall has  87  number of NaN values\n",
      "Elec_EnergyPlugsLR has  87  number of NaN values\n",
      "Elec_EnergyClothesWasher has  87  number of NaN values\n",
      "Elec_EnergyDryer1of2 has  87  number of NaN values\n",
      "Elec_EnergyDryer2of2 has  87  number of NaN values\n",
      "Elec_EnergyHRV has  87  number of NaN values\n",
      "Elec_EnergyHeatPumpWH1of2 has  87  number of NaN values\n",
      "Elec_EnergyHeatPumpWH2of2 has  87  number of NaN values\n",
      "Elec_EnergyPV1of2 has  87  number of NaN values\n",
      "Elec_EnergyPV2of2 has  87  number of NaN values\n",
      "Elec_EnergyMakeUpAirDamper has  87  number of NaN values\n",
      "Elec_EnergyLights2ndFloor has  87  number of NaN values\n",
      "Elec_EnergyPlugsMBAEast has  87  number of NaN values\n",
      "Elec_EnergyPlugsBA2South has  87  number of NaN values\n",
      "Elec_EnergyPlugsMBAWest has  87  number of NaN values\n",
      "Elec_EnergyPlugsBA2North has  87  number of NaN values\n",
      "Elec_EnergyPlugsBR3 has  87  number of NaN values\n",
      "Elec_EnergyRefrigerator has  87  number of NaN values\n",
      "Elec_EnergyPlugsKitSink has  87  number of NaN values\n",
      "Elec_EnergyGarbageDisposal has  87  number of NaN values\n",
      "Elec_EnergyPlugsKitRange has  87  number of NaN values\n",
      "Elec_EnergyPlugsKitPeninsula has  87  number of NaN values\n",
      "Elec_EnergyMicrowave has  87  number of NaN values\n",
      "Elec_EnergyPlugs2ndFloor has  87  number of NaN values\n",
      "Elec_EnergySpare2 has  87  number of NaN values\n",
      "Elec_EnergyPlugsBR2 has  87  number of NaN values\n",
      "Elec_EnergyPlugsMBR has  87  number of NaN values\n",
      "Elec_EnergyLights1stFloorA has  87  number of NaN values\n",
      "Elec_EnergyLights1stFloorB has  87  number of NaN values\n",
      "Elec_EnergyDishwasher has  87  number of NaN values\n",
      "Elec_EnergyPlugsGSHPInstrumentation has  87  number of NaN values\n",
      "Elec_EnergyPlugsInstMudroomA has  87  number of NaN values\n",
      "Elec_EnergyPlugsHVACInstrumentation has  87  number of NaN values\n",
      "Elec_EnergyPlugsInstBA1 has  87  number of NaN values\n",
      "Elec_EnergyLightsAttic has  87  number of NaN values\n",
      "Elec_EnergyPlugsInstKitA has  87  number of NaN values\n",
      "Elec_EnergyPlugsInstMudroomB has  87  number of NaN values\n",
      "Elec_EnergyParentADownstairs has  87  number of NaN values\n",
      "Elec_EnergyPlugsInstDRA has  87  number of NaN values\n",
      "Elec_EnergyPlugsInstBR4A has  87  number of NaN values\n",
      "Elec_EnergyChildBDownstairs has  87  number of NaN values\n",
      "Elec_EnergyPlugsInstBR4B has  87  number of NaN values\n",
      "Elec_EnergyPlugsInstLRA has  87  number of NaN values\n",
      "Elec_EnergyChildADownstairs has  87  number of NaN values\n",
      "Elec_EnergyPlugsInstLRB has  87  number of NaN values\n",
      "Elec_EnergyPlugsInstBA2 has  87  number of NaN values\n",
      "Elec_EnergyPlugsInstMBAB has  87  number of NaN values\n",
      "Elec_EnergyPlugsInstMBRA has  87  number of NaN values\n",
      "Elec_EnergyPlugsInstBR2Hall has  87  number of NaN values\n",
      "Elec_EnergyParentAUpstairs has  87  number of NaN values\n",
      "Elec_EnergyPlugsInstHall has  87  number of NaN values\n",
      "Elec_EnergyLightingControlPanelRPS1 has  87  number of NaN values\n",
      "Elec_EnergyPlugsInstBR3 has  87  number of NaN values\n",
      "Elec_EnergyChildAUpstairs has  87  number of NaN values\n",
      "Elec_EnergyChildBUpstairs has  87  number of NaN values\n",
      "Elec_EnergyHeatLoadforRefrigerator has  87  number of NaN values\n",
      "Elec_EnergyLightingControlPanelRPS2 has  87  number of NaN values\n",
      "Elec_EnergyLightsBasement has  87  number of NaN values\n",
      "Elec_EnergyParentBUpstairs has  87  number of NaN values\n",
      "Elec_EnergyParentBDownstairs has  87  number of NaN values\n",
      "Elec_EnergyPlugsInstKitD has  87  number of NaN values\n",
      "Elec_EnergyPlugsDRB has  87  number of NaN values\n",
      "Elec_EnergyPlugsAttic has  87  number of NaN values\n",
      "Elec_PowerPlugsBaseAHeliodyneHXs has  87  number of NaN values\n",
      "Elec_PowerPlugsBaseB has  87  number of NaN values\n",
      "Elec_PowerPlugsBaseC has  87  number of NaN values\n",
      "Elec_PowerSumpPump has  87  number of NaN values\n",
      "Elec_PowerLightsBasementStair has  87  number of NaN values\n",
      "Elec_PowerSpare1 has  87  number of NaN values\n",
      "Elec_PowerPlugsBA1 has  87  number of NaN values\n",
      "Elec_PowerPlugsDR has  87  number of NaN values\n",
      "Elec_PowerPlugsBR4 has  87  number of NaN values\n",
      "Elec_PowerPlugsEntryHall has  87  number of NaN values\n",
      "Elec_PowerPlugsLR has  87  number of NaN values\n",
      "Elec_PowerClothesWasher has  87  number of NaN values\n",
      "Elec_PowerDryer1of2 has  87  number of NaN values\n",
      "Elec_PowerDryer2of2 has  87  number of NaN values\n",
      "Elec_PowerHRV has  87  number of NaN values\n",
      "Elec_PowerHeatPumpWH1of2 has  87  number of NaN values\n",
      "Elec_PowerHeatPumpWH2of2 has  87  number of NaN values\n",
      "Elec_PowerPV1of2 has  87  number of NaN values\n",
      "Elec_PowerPV2of2 has  87  number of NaN values\n",
      "Elec_PowerMakeUpAirDamper has  87  number of NaN values\n",
      "Elec_PowerLights2ndFloor has  87  number of NaN values\n",
      "Elec_PowerPlugsMBAEast has  87  number of NaN values\n",
      "Elec_PowerPlugsBA2South has  87  number of NaN values\n",
      "Elec_PowerPlugsMBAWest has  87  number of NaN values\n",
      "Elec_PowerPlugsBA2North has  87  number of NaN values\n",
      "Elec_PowerPlugsBR3 has  87  number of NaN values\n",
      "Elec_PowerRefrigerator has  87  number of NaN values\n",
      "Elec_PowerPlugsKitSink has  87  number of NaN values\n",
      "Elec_PowerGarbageDisposal has  87  number of NaN values\n",
      "Elec_PowerPlugsKitRange has  87  number of NaN values\n",
      "Elec_PowerPlugsKitPeninsula has  87  number of NaN values\n",
      "Elec_PowerMicrowave has  87  number of NaN values\n",
      "Elec_PowerPlugs2ndFloor has  87  number of NaN values\n",
      "Elec_PowerSpare2 has  87  number of NaN values\n",
      "Elec_PowerPlugsBR2 has  87  number of NaN values\n",
      "Elec_PowerPlugsMBR has  87  number of NaN values\n",
      "Elec_PowerLights1stFloorA has  87  number of NaN values\n",
      "Elec_PowerLights1stFloorB has  87  number of NaN values\n",
      "Elec_PowerDishwasher has  87  number of NaN values\n",
      "Elec_PowerPlugsGSHPInstrumentation has  87  number of NaN values\n",
      "Elec_PowerPlugsInstMudroomA has  87  number of NaN values\n",
      "Elec_PowerPlugsHVACInstrumentation has  87  number of NaN values\n",
      "Elec_PowerPlugsInstBA1 has  87  number of NaN values\n",
      "Elec_PowerLightsAttic has  87  number of NaN values\n",
      "Elec_PowerPlugsInstKitA has  87  number of NaN values\n",
      "Elec_PowerPlugsInstMudroomB has  87  number of NaN values\n",
      "Elec_PowerParentADownstairs has  87  number of NaN values\n",
      "Elec_PowerPlugsInstDRA has  87  number of NaN values\n",
      "Elec_PowerPlugsInstBR4A has  87  number of NaN values\n",
      "Elec_PowerChildBDownstairs has  87  number of NaN values\n",
      "Elec_PowerPlugsInstBR4B has  87  number of NaN values\n",
      "Elec_PowerPlugsInstLRA has  87  number of NaN values\n",
      "Elec_PowerChildADownstairs has  87  number of NaN values\n",
      "Elec_PowerPlugsInstLRB has  87  number of NaN values\n",
      "Elec_PowerPlugsInstBA2 has  87  number of NaN values\n",
      "Elec_PowerPlugsInstMBAB has  87  number of NaN values\n",
      "Elec_PowerPlugsInstMBRA has  87  number of NaN values\n",
      "Elec_PowerPlugsInstBR2Hall has  87  number of NaN values\n",
      "Elec_PowerParentAUpstairs has  87  number of NaN values\n",
      "Elec_PowerPlugsInstHall has  87  number of NaN values\n",
      "Elec_PowerLightingControlPanelRPS1 has  87  number of NaN values\n",
      "Elec_PowerPlugsInstBR3 has  87  number of NaN values\n",
      "Elec_PowerChildAUpstairs has  87  number of NaN values\n",
      "Elec_PowerChildBUpstairs has  87  number of NaN values\n",
      "Elec_PowerHeatLoadforRefrigerator has  87  number of NaN values\n",
      "Elec_PowerLightingControlPanelRPS2 has  87  number of NaN values\n",
      "Elec_PowerLightsBasement has  87  number of NaN values\n",
      "Elec_PowerParentBUpstairs has  87  number of NaN values\n",
      "Elec_PowerParentBDownstairs has  87  number of NaN values\n",
      "Elec_PowerPlugsInstKitD has  87  number of NaN values\n",
      "Elec_PowerPlugsDRB has  87  number of NaN values\n",
      "Elec_PowerPlugsAttic has  87  number of NaN values\n",
      "Vent_HRVTempSupplyOut has  87  number of NaN values\n",
      "Vent_HRVTempReturnIn has  87  number of NaN values\n",
      "Vent_HRVTempExhaustOut has  87  number of NaN values\n",
      "Vent_HRVTempOutdoorin has  87  number of NaN values\n",
      "Vent_HRVDewpointTemperatureSupply has  87  number of NaN values\n",
      "Vent_HRVDewpointTemperatureReturn has  87  number of NaN values\n",
      "Vent_HRVDewpointTemperatureExhaust has  87  number of NaN values\n",
      "Vent_HRVDewpointTemperatureOutdoor has  87  number of NaN values\n",
      "Vent_HRVfreshairpressuredifferential has  87  number of NaN values\n",
      "Vent_HRVstaleairpressuredifferential has  87  number of NaN values\n",
      "Vent_HRVreturnflowrate has  87  number of NaN values\n",
      "Vent_HRVexhaustflowrate has  87  number of NaN values\n",
      "Vent_HRVoutdoorflowrate has  87  number of NaN values\n",
      "IndEnv_RoomTempBasementNW has  87  number of NaN values\n",
      "IndEnv_RoomTempBasementNE has  87  number of NaN values\n",
      "IndEnv_RoomTempBasementSE has  87  number of NaN values\n",
      "IndEnv_RoomTempBasementSW has  87  number of NaN values\n",
      "IndEnv_RoomTempKitchenTemp has  87  number of NaN values\n",
      "IndEnv_RoomTempDRTemp has  87  number of NaN values\n",
      "IndEnv_RoomTempLRTemp has  87  number of NaN values\n",
      "IndEnv_RoomTempHallLowest has  87  number of NaN values\n",
      "IndEnv_RoomTempHallLowerMid has  87  number of NaN values\n",
      "IndEnv_RoomTempHallMiddle has  87  number of NaN values\n",
      "IndEnv_RoomTempHallUpperMid has  87  number of NaN values\n",
      "IndEnv_RoomTempHallUpper has  87  number of NaN values\n",
      "IndEnv_RoomTempBR4Temp has  87  number of NaN values\n",
      "IndEnv_RoomTempBA1Temp has  87  number of NaN values\n",
      "IndEnv_RoomTempWDTemp has  87  number of NaN values\n",
      "IndEnv_RoomTempMBATemp has  87  number of NaN values\n",
      "IndEnv_RoomTempMBRTemp has  87  number of NaN values\n",
      "IndEnv_RoomTempBR2Temp has  87  number of NaN values\n",
      "IndEnv_RoomTempBR3Temp has  87  number of NaN values\n",
      "IndEnv_RoomTempBA2Temp has  87  number of NaN values\n",
      "IndEnv_RoomTempAtticNW has  87  number of NaN values\n",
      "IndEnv_RoomTempAtticNE has  87  number of NaN values\n",
      "IndEnv_RoomTempAtticSE has  87  number of NaN values\n",
      "IndEnv_RoomTempAtticSW has  87  number of NaN values\n",
      "IndEnv_RadiantTempKitchen has  87  number of NaN values\n",
      "IndEnv_RadiantTempLR has  87  number of NaN values\n",
      "IndEnv_RadiantTempMBR has  87  number of NaN values\n",
      "IndEnv_RadiantTempBR2 has  87  number of NaN values\n",
      "IndEnv_RadiantTempBR3 has  87  number of NaN values\n",
      "IndEnv_KitchenRH has  87  number of NaN values\n",
      "IndEnv_LivingRmRH has  87  number of NaN values\n",
      "IndEnv_MastBedRmRH has  87  number of NaN values\n",
      "IndEnv_Bedroom3RH has  87  number of NaN values\n",
      "IndEnv_Bedroom2RH has  87  number of NaN values\n",
      "IndEnv_MBARH has  87  number of NaN values\n",
      "IndEnv_BasementRH has  87  number of NaN values\n",
      "OutEnv_OutdoorAmbTemp has  87  number of NaN values\n",
      "OutEnv_RooftopWindSpeed has  87  number of NaN values\n",
      "OutEnv_RooftopWindDirection has  87  number of NaN values\n",
      "HVAC_HVACTempReturnAir has  87  number of NaN values\n",
      "HVAC_HVACDewpointReturnAir has  87  number of NaN values\n",
      "HVAC_HVACTempSupplyAir has  87  number of NaN values\n",
      "HVAC_HVACDewpointSupplyAir has  87  number of NaN values\n",
      "DHW_ManifoldHotFlow has  87  number of NaN values\n",
      "DHW_ManifoldColdFlow has  87  number of NaN values\n",
      "DHW_MixValveColdFlow has  87  number of NaN values\n",
      "DHW_ClothesWasherHotFlow has  87  number of NaN values\n",
      "DHW_ClothesWasherColdFlow has  87  number of NaN values\n",
      "DHW_DishwasherHotFlow has  87  number of NaN values\n",
      "DHW_RoomTempBasementHPWH has  87  number of NaN values\n",
      "DHW_WaterTempManifoldColdIn has  87  number of NaN values\n",
      "DHW_WaterTempManifoldHotIn has  87  number of NaN values\n",
      "DHW_WaterTempKSinkCold has  87  number of NaN values\n",
      "DHW_WaterTempKSinkHot has  87  number of NaN values\n",
      "DHW_WaterTempDishwasher has  87  number of NaN values\n",
      "DHW_WaterTempWasherCold has  87  number of NaN values\n",
      "DHW_WaterTempWasherHot has  87  number of NaN values\n",
      "DHW_WaterTempMBASinkRHot has  87  number of NaN values\n",
      "DHW_WaterTempMBASinkRCold has  87  number of NaN values\n",
      "DHW_WaterTempMBAShwHot has  87  number of NaN values\n",
      "DHW_WaterTempMBAShwCold has  87  number of NaN values\n",
      "DHW_WaterTempMBATubHot has  87  number of NaN values\n",
      "DHW_WaterTempMBATubCold has  87  number of NaN values\n",
      "DHW_WaterTempBASinkHot has  87  number of NaN values\n",
      "DHW_WaterTempBASinkCold has  87  number of NaN values\n",
      "DHW_WaterTempBAShwHot has  87  number of NaN values\n",
      "DHW_WaterTempBAShwCold has  87  number of NaN values\n",
      "DHW_WaterTempKSinkMix has  87  number of NaN values\n",
      "DHW_WaterTempMBAShwMix has  87  number of NaN values\n",
      "DHW_WaterTempMBATubMix has  87  number of NaN values\n",
      "DHW_WaterTempBASinkMixed has  87  number of NaN values\n",
      "DHW_WaterTempBAShowerMixed has  87  number of NaN values\n",
      "DHW_WaterTempMBASinkRMixed has  87  number of NaN values\n",
      "DHW_WaterTempSHWTank80galIn has  87  number of NaN values\n",
      "DHW_WaterTempSHWTank80galOut has  87  number of NaN values\n",
      "DHW_WaterTempMixValveColdIn has  87  number of NaN values\n",
      "DHW_WaterTempMixValveHotIn has  87  number of NaN values\n",
      "DHW_WaterTempSHWHX80galIn has  87  number of NaN values\n",
      "DHW_WaterTempSHWHX80galOut has  87  number of NaN values\n",
      "DHW_WaterTempHPWHIn has  87  number of NaN values\n",
      "DHW_WaterTempHPWHOut has  87  number of NaN values\n",
      "DHW_SHWGlycolTempIn has  87  number of NaN values\n",
      "DHW_SHWGlycolTempOut has  87  number of NaN values\n",
      "DHW_StatusSolenoidHotMBAShower has  87  number of NaN values\n",
      "DHW_StatusSolenoidColdMBAShower has  87  number of NaN values\n",
      "DHW_StatusSolenoidHotMBATub has  87  number of NaN values\n",
      "DHW_StatusSolenoidColdMBATub has  87  number of NaN values\n",
      "DHW_StatusSolenoidHotKitchenSink has  87  number of NaN values\n",
      "DHW_StatusSolenoidColdKitchenSink has  87  number of NaN values\n",
      "DHW_HeatPumpWaterHeaterEnergyTotal has  87  number of NaN values\n",
      "DHW_HeatPumpWaterHeaterPowerTotal has  87  number of NaN values\n",
      "DHW_SHWPumpsEnergywithStandby has  87  number of NaN values\n",
      "DHW_SHWPumpsPowerWithStandby has  87  number of NaN values\n",
      "SHW_GlycolFlowHXCoriolisSHW has  3662  number of NaN values\n",
      "SHW_WaterFlowHXCoriolisSHW has  3662  number of NaN values\n",
      "SHW_GlycolFlowRateHXCoriolisSHW has  3662  number of NaN values\n",
      "SHW_WaterFlowRateHXCoriolisSHW has  3662  number of NaN values\n",
      "HVAC_HeatPumpIndoorUnitPower has  89  number of NaN values\n",
      "HVAC_HeatPumpOutdoorUnitPower has  89  number of NaN values\n",
      "HVAC_DehumidifierPower has  89  number of NaN values\n",
      "HVAC_DehumidifierInletAirTemp has  89  number of NaN values\n",
      "HVAC_DehumidifierExitAirTemp has  89  number of NaN values\n",
      "HVAC_DehumidifierAirflow has  89  number of NaN values\n",
      "                                  NaN\n",
      "SHW_GlycolFlowHXCoriolisSHW      3662\n",
      "SHW_WaterFlowHXCoriolisSHW       3662\n",
      "SHW_GlycolFlowRateHXCoriolisSHW  3662\n",
      "SHW_WaterFlowRateHXCoriolisSHW   3662\n",
      "HVAC_HeatPumpIndoorUnitPower       89\n",
      "...                               ...\n",
      "Elec_EnergyPlugsBA1                87\n",
      "Elec_EnergySpare1                  87\n",
      "Elec_EnergyLightsBasementStair     87\n",
      "Elec_EnergySumpPump                87\n",
      "Elec_EnergyPlugsAttic              87\n",
      "\n",
      "[378 rows x 1 columns]\n"
     ]
    },
    {
     "data": {
      "application/vnd.plotly.v1+json": {
       "data": [
        {
         "name": "Missing values per Subsystem groups",
         "x": [
          "SHW",
          "Elec",
          "Load",
          "DHW",
          "IndEnv",
          "PV",
          "Vent",
          "HVAC",
          "OutEnv"
         ],
         "y": [
          14909,
          12528,
          7395,
          4350,
          3132,
          2610,
          1131,
          882,
          261
         ],
         "type": "bar"
        }
       ],
       "layout": {
        "template": {
         "data": {
          "bar": [
           {
            "error_x": {
             "color": "#2a3f5f"
            },
            "error_y": {
             "color": "#2a3f5f"
            },
            "marker": {
             "line": {
              "color": "#E5ECF6",
              "width": 0.5
             },
             "pattern": {
              "fillmode": "overlay",
              "size": 10,
              "solidity": 0.2
             }
            },
            "type": "bar"
           }
          ],
          "barpolar": [
           {
            "marker": {
             "line": {
              "color": "#E5ECF6",
              "width": 0.5
             },
             "pattern": {
              "fillmode": "overlay",
              "size": 10,
              "solidity": 0.2
             }
            },
            "type": "barpolar"
           }
          ],
          "carpet": [
           {
            "aaxis": {
             "endlinecolor": "#2a3f5f",
             "gridcolor": "white",
             "linecolor": "white",
             "minorgridcolor": "white",
             "startlinecolor": "#2a3f5f"
            },
            "baxis": {
             "endlinecolor": "#2a3f5f",
             "gridcolor": "white",
             "linecolor": "white",
             "minorgridcolor": "white",
             "startlinecolor": "#2a3f5f"
            },
            "type": "carpet"
           }
          ],
          "choropleth": [
           {
            "colorbar": {
             "outlinewidth": 0,
             "ticks": ""
            },
            "type": "choropleth"
           }
          ],
          "contour": [
           {
            "colorbar": {
             "outlinewidth": 0,
             "ticks": ""
            },
            "colorscale": [
             [
              0.0,
              "#0d0887"
             ],
             [
              0.1111111111111111,
              "#46039f"
             ],
             [
              0.2222222222222222,
              "#7201a8"
             ],
             [
              0.3333333333333333,
              "#9c179e"
             ],
             [
              0.4444444444444444,
              "#bd3786"
             ],
             [
              0.5555555555555556,
              "#d8576b"
             ],
             [
              0.6666666666666666,
              "#ed7953"
             ],
             [
              0.7777777777777778,
              "#fb9f3a"
             ],
             [
              0.8888888888888888,
              "#fdca26"
             ],
             [
              1.0,
              "#f0f921"
             ]
            ],
            "type": "contour"
           }
          ],
          "contourcarpet": [
           {
            "colorbar": {
             "outlinewidth": 0,
             "ticks": ""
            },
            "type": "contourcarpet"
           }
          ],
          "heatmap": [
           {
            "colorbar": {
             "outlinewidth": 0,
             "ticks": ""
            },
            "colorscale": [
             [
              0.0,
              "#0d0887"
             ],
             [
              0.1111111111111111,
              "#46039f"
             ],
             [
              0.2222222222222222,
              "#7201a8"
             ],
             [
              0.3333333333333333,
              "#9c179e"
             ],
             [
              0.4444444444444444,
              "#bd3786"
             ],
             [
              0.5555555555555556,
              "#d8576b"
             ],
             [
              0.6666666666666666,
              "#ed7953"
             ],
             [
              0.7777777777777778,
              "#fb9f3a"
             ],
             [
              0.8888888888888888,
              "#fdca26"
             ],
             [
              1.0,
              "#f0f921"
             ]
            ],
            "type": "heatmap"
           }
          ],
          "heatmapgl": [
           {
            "colorbar": {
             "outlinewidth": 0,
             "ticks": ""
            },
            "colorscale": [
             [
              0.0,
              "#0d0887"
             ],
             [
              0.1111111111111111,
              "#46039f"
             ],
             [
              0.2222222222222222,
              "#7201a8"
             ],
             [
              0.3333333333333333,
              "#9c179e"
             ],
             [
              0.4444444444444444,
              "#bd3786"
             ],
             [
              0.5555555555555556,
              "#d8576b"
             ],
             [
              0.6666666666666666,
              "#ed7953"
             ],
             [
              0.7777777777777778,
              "#fb9f3a"
             ],
             [
              0.8888888888888888,
              "#fdca26"
             ],
             [
              1.0,
              "#f0f921"
             ]
            ],
            "type": "heatmapgl"
           }
          ],
          "histogram": [
           {
            "marker": {
             "pattern": {
              "fillmode": "overlay",
              "size": 10,
              "solidity": 0.2
             }
            },
            "type": "histogram"
           }
          ],
          "histogram2d": [
           {
            "colorbar": {
             "outlinewidth": 0,
             "ticks": ""
            },
            "colorscale": [
             [
              0.0,
              "#0d0887"
             ],
             [
              0.1111111111111111,
              "#46039f"
             ],
             [
              0.2222222222222222,
              "#7201a8"
             ],
             [
              0.3333333333333333,
              "#9c179e"
             ],
             [
              0.4444444444444444,
              "#bd3786"
             ],
             [
              0.5555555555555556,
              "#d8576b"
             ],
             [
              0.6666666666666666,
              "#ed7953"
             ],
             [
              0.7777777777777778,
              "#fb9f3a"
             ],
             [
              0.8888888888888888,
              "#fdca26"
             ],
             [
              1.0,
              "#f0f921"
             ]
            ],
            "type": "histogram2d"
           }
          ],
          "histogram2dcontour": [
           {
            "colorbar": {
             "outlinewidth": 0,
             "ticks": ""
            },
            "colorscale": [
             [
              0.0,
              "#0d0887"
             ],
             [
              0.1111111111111111,
              "#46039f"
             ],
             [
              0.2222222222222222,
              "#7201a8"
             ],
             [
              0.3333333333333333,
              "#9c179e"
             ],
             [
              0.4444444444444444,
              "#bd3786"
             ],
             [
              0.5555555555555556,
              "#d8576b"
             ],
             [
              0.6666666666666666,
              "#ed7953"
             ],
             [
              0.7777777777777778,
              "#fb9f3a"
             ],
             [
              0.8888888888888888,
              "#fdca26"
             ],
             [
              1.0,
              "#f0f921"
             ]
            ],
            "type": "histogram2dcontour"
           }
          ],
          "mesh3d": [
           {
            "colorbar": {
             "outlinewidth": 0,
             "ticks": ""
            },
            "type": "mesh3d"
           }
          ],
          "parcoords": [
           {
            "line": {
             "colorbar": {
              "outlinewidth": 0,
              "ticks": ""
             }
            },
            "type": "parcoords"
           }
          ],
          "pie": [
           {
            "automargin": true,
            "type": "pie"
           }
          ],
          "scatter": [
           {
            "marker": {
             "colorbar": {
              "outlinewidth": 0,
              "ticks": ""
             }
            },
            "type": "scatter"
           }
          ],
          "scatter3d": [
           {
            "line": {
             "colorbar": {
              "outlinewidth": 0,
              "ticks": ""
             }
            },
            "marker": {
             "colorbar": {
              "outlinewidth": 0,
              "ticks": ""
             }
            },
            "type": "scatter3d"
           }
          ],
          "scattercarpet": [
           {
            "marker": {
             "colorbar": {
              "outlinewidth": 0,
              "ticks": ""
             }
            },
            "type": "scattercarpet"
           }
          ],
          "scattergeo": [
           {
            "marker": {
             "colorbar": {
              "outlinewidth": 0,
              "ticks": ""
             }
            },
            "type": "scattergeo"
           }
          ],
          "scattergl": [
           {
            "marker": {
             "colorbar": {
              "outlinewidth": 0,
              "ticks": ""
             }
            },
            "type": "scattergl"
           }
          ],
          "scattermapbox": [
           {
            "marker": {
             "colorbar": {
              "outlinewidth": 0,
              "ticks": ""
             }
            },
            "type": "scattermapbox"
           }
          ],
          "scatterpolar": [
           {
            "marker": {
             "colorbar": {
              "outlinewidth": 0,
              "ticks": ""
             }
            },
            "type": "scatterpolar"
           }
          ],
          "scatterpolargl": [
           {
            "marker": {
             "colorbar": {
              "outlinewidth": 0,
              "ticks": ""
             }
            },
            "type": "scatterpolargl"
           }
          ],
          "scatterternary": [
           {
            "marker": {
             "colorbar": {
              "outlinewidth": 0,
              "ticks": ""
             }
            },
            "type": "scatterternary"
           }
          ],
          "surface": [
           {
            "colorbar": {
             "outlinewidth": 0,
             "ticks": ""
            },
            "colorscale": [
             [
              0.0,
              "#0d0887"
             ],
             [
              0.1111111111111111,
              "#46039f"
             ],
             [
              0.2222222222222222,
              "#7201a8"
             ],
             [
              0.3333333333333333,
              "#9c179e"
             ],
             [
              0.4444444444444444,
              "#bd3786"
             ],
             [
              0.5555555555555556,
              "#d8576b"
             ],
             [
              0.6666666666666666,
              "#ed7953"
             ],
             [
              0.7777777777777778,
              "#fb9f3a"
             ],
             [
              0.8888888888888888,
              "#fdca26"
             ],
             [
              1.0,
              "#f0f921"
             ]
            ],
            "type": "surface"
           }
          ],
          "table": [
           {
            "cells": {
             "fill": {
              "color": "#EBF0F8"
             },
             "line": {
              "color": "white"
             }
            },
            "header": {
             "fill": {
              "color": "#C8D4E3"
             },
             "line": {
              "color": "white"
             }
            },
            "type": "table"
           }
          ]
         },
         "layout": {
          "annotationdefaults": {
           "arrowcolor": "#2a3f5f",
           "arrowhead": 0,
           "arrowwidth": 1
          },
          "autotypenumbers": "strict",
          "coloraxis": {
           "colorbar": {
            "outlinewidth": 0,
            "ticks": ""
           }
          },
          "colorscale": {
           "diverging": [
            [
             0,
             "#8e0152"
            ],
            [
             0.1,
             "#c51b7d"
            ],
            [
             0.2,
             "#de77ae"
            ],
            [
             0.3,
             "#f1b6da"
            ],
            [
             0.4,
             "#fde0ef"
            ],
            [
             0.5,
             "#f7f7f7"
            ],
            [
             0.6,
             "#e6f5d0"
            ],
            [
             0.7,
             "#b8e186"
            ],
            [
             0.8,
             "#7fbc41"
            ],
            [
             0.9,
             "#4d9221"
            ],
            [
             1,
             "#276419"
            ]
           ],
           "sequential": [
            [
             0.0,
             "#0d0887"
            ],
            [
             0.1111111111111111,
             "#46039f"
            ],
            [
             0.2222222222222222,
             "#7201a8"
            ],
            [
             0.3333333333333333,
             "#9c179e"
            ],
            [
             0.4444444444444444,
             "#bd3786"
            ],
            [
             0.5555555555555556,
             "#d8576b"
            ],
            [
             0.6666666666666666,
             "#ed7953"
            ],
            [
             0.7777777777777778,
             "#fb9f3a"
            ],
            [
             0.8888888888888888,
             "#fdca26"
            ],
            [
             1.0,
             "#f0f921"
            ]
           ],
           "sequentialminus": [
            [
             0.0,
             "#0d0887"
            ],
            [
             0.1111111111111111,
             "#46039f"
            ],
            [
             0.2222222222222222,
             "#7201a8"
            ],
            [
             0.3333333333333333,
             "#9c179e"
            ],
            [
             0.4444444444444444,
             "#bd3786"
            ],
            [
             0.5555555555555556,
             "#d8576b"
            ],
            [
             0.6666666666666666,
             "#ed7953"
            ],
            [
             0.7777777777777778,
             "#fb9f3a"
            ],
            [
             0.8888888888888888,
             "#fdca26"
            ],
            [
             1.0,
             "#f0f921"
            ]
           ]
          },
          "colorway": [
           "#636efa",
           "#EF553B",
           "#00cc96",
           "#ab63fa",
           "#FFA15A",
           "#19d3f3",
           "#FF6692",
           "#B6E880",
           "#FF97FF",
           "#FECB52"
          ],
          "font": {
           "color": "#2a3f5f"
          },
          "geo": {
           "bgcolor": "white",
           "lakecolor": "white",
           "landcolor": "#E5ECF6",
           "showlakes": true,
           "showland": true,
           "subunitcolor": "white"
          },
          "hoverlabel": {
           "align": "left"
          },
          "hovermode": "closest",
          "mapbox": {
           "style": "light"
          },
          "paper_bgcolor": "white",
          "plot_bgcolor": "#E5ECF6",
          "polar": {
           "angularaxis": {
            "gridcolor": "white",
            "linecolor": "white",
            "ticks": ""
           },
           "bgcolor": "#E5ECF6",
           "radialaxis": {
            "gridcolor": "white",
            "linecolor": "white",
            "ticks": ""
           }
          },
          "scene": {
           "xaxis": {
            "backgroundcolor": "#E5ECF6",
            "gridcolor": "white",
            "gridwidth": 2,
            "linecolor": "white",
            "showbackground": true,
            "ticks": "",
            "zerolinecolor": "white"
           },
           "yaxis": {
            "backgroundcolor": "#E5ECF6",
            "gridcolor": "white",
            "gridwidth": 2,
            "linecolor": "white",
            "showbackground": true,
            "ticks": "",
            "zerolinecolor": "white"
           },
           "zaxis": {
            "backgroundcolor": "#E5ECF6",
            "gridcolor": "white",
            "gridwidth": 2,
            "linecolor": "white",
            "showbackground": true,
            "ticks": "",
            "zerolinecolor": "white"
           }
          },
          "shapedefaults": {
           "line": {
            "color": "#2a3f5f"
           }
          },
          "ternary": {
           "aaxis": {
            "gridcolor": "white",
            "linecolor": "white",
            "ticks": ""
           },
           "baxis": {
            "gridcolor": "white",
            "linecolor": "white",
            "ticks": ""
           },
           "bgcolor": "#E5ECF6",
           "caxis": {
            "gridcolor": "white",
            "linecolor": "white",
            "ticks": ""
           }
          },
          "title": {
           "x": 0.05
          },
          "xaxis": {
           "automargin": true,
           "gridcolor": "white",
           "linecolor": "white",
           "ticks": "",
           "title": {
            "standoff": 15
           },
           "zerolinecolor": "white",
           "zerolinewidth": 2
          },
          "yaxis": {
           "automargin": true,
           "gridcolor": "white",
           "linecolor": "white",
           "ticks": "",
           "title": {
            "standoff": 15
           },
           "zerolinecolor": "white",
           "zerolinewidth": 2
          }
         }
        },
        "yaxis": {
         "title": {
          "text": "Number of Missing Values"
         }
        }
       },
       "config": {
        "plotlyServerURL": "https://plot.ly"
       }
      },
      "text/html": "<div>                            <div id=\"1c13509f-8969-4868-be7c-774fa8ee6dd4\" class=\"plotly-graph-div\" style=\"height:525px; width:100%;\"></div>            <script type=\"text/javascript\">                require([\"plotly\"], function(Plotly) {                    window.PLOTLYENV=window.PLOTLYENV || {};                                    if (document.getElementById(\"1c13509f-8969-4868-be7c-774fa8ee6dd4\")) {                    Plotly.newPlot(                        \"1c13509f-8969-4868-be7c-774fa8ee6dd4\",                        [{\"name\":\"Missing values per Subsystem groups\",\"x\":[\"SHW\",\"Elec\",\"Load\",\"DHW\",\"IndEnv\",\"PV\",\"Vent\",\"HVAC\",\"OutEnv\"],\"y\":[14909,12528,7395,4350,3132,2610,1131,882,261],\"type\":\"bar\"}],                        {\"template\":{\"data\":{\"bar\":[{\"error_x\":{\"color\":\"#2a3f5f\"},\"error_y\":{\"color\":\"#2a3f5f\"},\"marker\":{\"line\":{\"color\":\"#E5ECF6\",\"width\":0.5},\"pattern\":{\"fillmode\":\"overlay\",\"size\":10,\"solidity\":0.2}},\"type\":\"bar\"}],\"barpolar\":[{\"marker\":{\"line\":{\"color\":\"#E5ECF6\",\"width\":0.5},\"pattern\":{\"fillmode\":\"overlay\",\"size\":10,\"solidity\":0.2}},\"type\":\"barpolar\"}],\"carpet\":[{\"aaxis\":{\"endlinecolor\":\"#2a3f5f\",\"gridcolor\":\"white\",\"linecolor\":\"white\",\"minorgridcolor\":\"white\",\"startlinecolor\":\"#2a3f5f\"},\"baxis\":{\"endlinecolor\":\"#2a3f5f\",\"gridcolor\":\"white\",\"linecolor\":\"white\",\"minorgridcolor\":\"white\",\"startlinecolor\":\"#2a3f5f\"},\"type\":\"carpet\"}],\"choropleth\":[{\"colorbar\":{\"outlinewidth\":0,\"ticks\":\"\"},\"type\":\"choropleth\"}],\"contour\":[{\"colorbar\":{\"outlinewidth\":0,\"ticks\":\"\"},\"colorscale\":[[0.0,\"#0d0887\"],[0.1111111111111111,\"#46039f\"],[0.2222222222222222,\"#7201a8\"],[0.3333333333333333,\"#9c179e\"],[0.4444444444444444,\"#bd3786\"],[0.5555555555555556,\"#d8576b\"],[0.6666666666666666,\"#ed7953\"],[0.7777777777777778,\"#fb9f3a\"],[0.8888888888888888,\"#fdca26\"],[1.0,\"#f0f921\"]],\"type\":\"contour\"}],\"contourcarpet\":[{\"colorbar\":{\"outlinewidth\":0,\"ticks\":\"\"},\"type\":\"contourcarpet\"}],\"heatmap\":[{\"colorbar\":{\"outlinewidth\":0,\"ticks\":\"\"},\"colorscale\":[[0.0,\"#0d0887\"],[0.1111111111111111,\"#46039f\"],[0.2222222222222222,\"#7201a8\"],[0.3333333333333333,\"#9c179e\"],[0.4444444444444444,\"#bd3786\"],[0.5555555555555556,\"#d8576b\"],[0.6666666666666666,\"#ed7953\"],[0.7777777777777778,\"#fb9f3a\"],[0.8888888888888888,\"#fdca26\"],[1.0,\"#f0f921\"]],\"type\":\"heatmap\"}],\"heatmapgl\":[{\"colorbar\":{\"outlinewidth\":0,\"ticks\":\"\"},\"colorscale\":[[0.0,\"#0d0887\"],[0.1111111111111111,\"#46039f\"],[0.2222222222222222,\"#7201a8\"],[0.3333333333333333,\"#9c179e\"],[0.4444444444444444,\"#bd3786\"],[0.5555555555555556,\"#d8576b\"],[0.6666666666666666,\"#ed7953\"],[0.7777777777777778,\"#fb9f3a\"],[0.8888888888888888,\"#fdca26\"],[1.0,\"#f0f921\"]],\"type\":\"heatmapgl\"}],\"histogram\":[{\"marker\":{\"pattern\":{\"fillmode\":\"overlay\",\"size\":10,\"solidity\":0.2}},\"type\":\"histogram\"}],\"histogram2d\":[{\"colorbar\":{\"outlinewidth\":0,\"ticks\":\"\"},\"colorscale\":[[0.0,\"#0d0887\"],[0.1111111111111111,\"#46039f\"],[0.2222222222222222,\"#7201a8\"],[0.3333333333333333,\"#9c179e\"],[0.4444444444444444,\"#bd3786\"],[0.5555555555555556,\"#d8576b\"],[0.6666666666666666,\"#ed7953\"],[0.7777777777777778,\"#fb9f3a\"],[0.8888888888888888,\"#fdca26\"],[1.0,\"#f0f921\"]],\"type\":\"histogram2d\"}],\"histogram2dcontour\":[{\"colorbar\":{\"outlinewidth\":0,\"ticks\":\"\"},\"colorscale\":[[0.0,\"#0d0887\"],[0.1111111111111111,\"#46039f\"],[0.2222222222222222,\"#7201a8\"],[0.3333333333333333,\"#9c179e\"],[0.4444444444444444,\"#bd3786\"],[0.5555555555555556,\"#d8576b\"],[0.6666666666666666,\"#ed7953\"],[0.7777777777777778,\"#fb9f3a\"],[0.8888888888888888,\"#fdca26\"],[1.0,\"#f0f921\"]],\"type\":\"histogram2dcontour\"}],\"mesh3d\":[{\"colorbar\":{\"outlinewidth\":0,\"ticks\":\"\"},\"type\":\"mesh3d\"}],\"parcoords\":[{\"line\":{\"colorbar\":{\"outlinewidth\":0,\"ticks\":\"\"}},\"type\":\"parcoords\"}],\"pie\":[{\"automargin\":true,\"type\":\"pie\"}],\"scatter\":[{\"marker\":{\"colorbar\":{\"outlinewidth\":0,\"ticks\":\"\"}},\"type\":\"scatter\"}],\"scatter3d\":[{\"line\":{\"colorbar\":{\"outlinewidth\":0,\"ticks\":\"\"}},\"marker\":{\"colorbar\":{\"outlinewidth\":0,\"ticks\":\"\"}},\"type\":\"scatter3d\"}],\"scattercarpet\":[{\"marker\":{\"colorbar\":{\"outlinewidth\":0,\"ticks\":\"\"}},\"type\":\"scattercarpet\"}],\"scattergeo\":[{\"marker\":{\"colorbar\":{\"outlinewidth\":0,\"ticks\":\"\"}},\"type\":\"scattergeo\"}],\"scattergl\":[{\"marker\":{\"colorbar\":{\"outlinewidth\":0,\"ticks\":\"\"}},\"type\":\"scattergl\"}],\"scattermapbox\":[{\"marker\":{\"colorbar\":{\"outlinewidth\":0,\"ticks\":\"\"}},\"type\":\"scattermapbox\"}],\"scatterpolar\":[{\"marker\":{\"colorbar\":{\"outlinewidth\":0,\"ticks\":\"\"}},\"type\":\"scatterpolar\"}],\"scatterpolargl\":[{\"marker\":{\"colorbar\":{\"outlinewidth\":0,\"ticks\":\"\"}},\"type\":\"scatterpolargl\"}],\"scatterternary\":[{\"marker\":{\"colorbar\":{\"outlinewidth\":0,\"ticks\":\"\"}},\"type\":\"scatterternary\"}],\"surface\":[{\"colorbar\":{\"outlinewidth\":0,\"ticks\":\"\"},\"colorscale\":[[0.0,\"#0d0887\"],[0.1111111111111111,\"#46039f\"],[0.2222222222222222,\"#7201a8\"],[0.3333333333333333,\"#9c179e\"],[0.4444444444444444,\"#bd3786\"],[0.5555555555555556,\"#d8576b\"],[0.6666666666666666,\"#ed7953\"],[0.7777777777777778,\"#fb9f3a\"],[0.8888888888888888,\"#fdca26\"],[1.0,\"#f0f921\"]],\"type\":\"surface\"}],\"table\":[{\"cells\":{\"fill\":{\"color\":\"#EBF0F8\"},\"line\":{\"color\":\"white\"}},\"header\":{\"fill\":{\"color\":\"#C8D4E3\"},\"line\":{\"color\":\"white\"}},\"type\":\"table\"}]},\"layout\":{\"annotationdefaults\":{\"arrowcolor\":\"#2a3f5f\",\"arrowhead\":0,\"arrowwidth\":1},\"autotypenumbers\":\"strict\",\"coloraxis\":{\"colorbar\":{\"outlinewidth\":0,\"ticks\":\"\"}},\"colorscale\":{\"diverging\":[[0,\"#8e0152\"],[0.1,\"#c51b7d\"],[0.2,\"#de77ae\"],[0.3,\"#f1b6da\"],[0.4,\"#fde0ef\"],[0.5,\"#f7f7f7\"],[0.6,\"#e6f5d0\"],[0.7,\"#b8e186\"],[0.8,\"#7fbc41\"],[0.9,\"#4d9221\"],[1,\"#276419\"]],\"sequential\":[[0.0,\"#0d0887\"],[0.1111111111111111,\"#46039f\"],[0.2222222222222222,\"#7201a8\"],[0.3333333333333333,\"#9c179e\"],[0.4444444444444444,\"#bd3786\"],[0.5555555555555556,\"#d8576b\"],[0.6666666666666666,\"#ed7953\"],[0.7777777777777778,\"#fb9f3a\"],[0.8888888888888888,\"#fdca26\"],[1.0,\"#f0f921\"]],\"sequentialminus\":[[0.0,\"#0d0887\"],[0.1111111111111111,\"#46039f\"],[0.2222222222222222,\"#7201a8\"],[0.3333333333333333,\"#9c179e\"],[0.4444444444444444,\"#bd3786\"],[0.5555555555555556,\"#d8576b\"],[0.6666666666666666,\"#ed7953\"],[0.7777777777777778,\"#fb9f3a\"],[0.8888888888888888,\"#fdca26\"],[1.0,\"#f0f921\"]]},\"colorway\":[\"#636efa\",\"#EF553B\",\"#00cc96\",\"#ab63fa\",\"#FFA15A\",\"#19d3f3\",\"#FF6692\",\"#B6E880\",\"#FF97FF\",\"#FECB52\"],\"font\":{\"color\":\"#2a3f5f\"},\"geo\":{\"bgcolor\":\"white\",\"lakecolor\":\"white\",\"landcolor\":\"#E5ECF6\",\"showlakes\":true,\"showland\":true,\"subunitcolor\":\"white\"},\"hoverlabel\":{\"align\":\"left\"},\"hovermode\":\"closest\",\"mapbox\":{\"style\":\"light\"},\"paper_bgcolor\":\"white\",\"plot_bgcolor\":\"#E5ECF6\",\"polar\":{\"angularaxis\":{\"gridcolor\":\"white\",\"linecolor\":\"white\",\"ticks\":\"\"},\"bgcolor\":\"#E5ECF6\",\"radialaxis\":{\"gridcolor\":\"white\",\"linecolor\":\"white\",\"ticks\":\"\"}},\"scene\":{\"xaxis\":{\"backgroundcolor\":\"#E5ECF6\",\"gridcolor\":\"white\",\"gridwidth\":2,\"linecolor\":\"white\",\"showbackground\":true,\"ticks\":\"\",\"zerolinecolor\":\"white\"},\"yaxis\":{\"backgroundcolor\":\"#E5ECF6\",\"gridcolor\":\"white\",\"gridwidth\":2,\"linecolor\":\"white\",\"showbackground\":true,\"ticks\":\"\",\"zerolinecolor\":\"white\"},\"zaxis\":{\"backgroundcolor\":\"#E5ECF6\",\"gridcolor\":\"white\",\"gridwidth\":2,\"linecolor\":\"white\",\"showbackground\":true,\"ticks\":\"\",\"zerolinecolor\":\"white\"}},\"shapedefaults\":{\"line\":{\"color\":\"#2a3f5f\"}},\"ternary\":{\"aaxis\":{\"gridcolor\":\"white\",\"linecolor\":\"white\",\"ticks\":\"\"},\"baxis\":{\"gridcolor\":\"white\",\"linecolor\":\"white\",\"ticks\":\"\"},\"bgcolor\":\"#E5ECF6\",\"caxis\":{\"gridcolor\":\"white\",\"linecolor\":\"white\",\"ticks\":\"\"}},\"title\":{\"x\":0.05},\"xaxis\":{\"automargin\":true,\"gridcolor\":\"white\",\"linecolor\":\"white\",\"ticks\":\"\",\"title\":{\"standoff\":15},\"zerolinecolor\":\"white\",\"zerolinewidth\":2},\"yaxis\":{\"automargin\":true,\"gridcolor\":\"white\",\"linecolor\":\"white\",\"ticks\":\"\",\"title\":{\"standoff\":15},\"zerolinecolor\":\"white\",\"zerolinewidth\":2}}},\"yaxis\":{\"title\":{\"text\":\"Number of Missing Values\"}}},                        {\"responsive\": true}                    ).then(function(){\n                            \nvar gd = document.getElementById('1c13509f-8969-4868-be7c-774fa8ee6dd4');\nvar x = new MutationObserver(function (mutations, observer) {{\n        var display = window.getComputedStyle(gd).display;\n        if (!display || display === 'none') {{\n            console.log([gd, 'removed!']);\n            Plotly.purge(gd);\n            observer.disconnect();\n        }}\n}});\n\n// Listen for the removal of the full notebook cells\nvar notebookContainer = gd.closest('#notebook-container');\nif (notebookContainer) {{\n    x.observe(notebookContainer, {childList: true});\n}}\n\n// Listen for the clearing of the current output cell\nvar outputEl = gd.closest('.output');\nif (outputEl) {{\n    x.observe(outputEl, {childList: true});\n}}\n\n                        })                };                });            </script>        </div>"
     },
     "metadata": {},
     "output_type": "display_data"
    }
   ],
   "source": [
    "countnanvalues_dict = {}\n",
    "for column in year2hour.columns:\n",
    "    columnnanvalue = year2hour[column].isnull().sum()\n",
    "    if columnnanvalue > 0:\n",
    "        countnanvalues_dict[column] = columnnanvalue\n",
    "        print(column, \"has \", columnnanvalue, \" number of NaN values\" )\n",
    "\n",
    "countnanvalues_df = pd.DataFrame.from_dict(countnanvalues_dict, orient='index', columns=['NaN']).sort_values(by=['NaN'], ascending=False)\n",
    "#countnanvalues_df.drop(['SHW_GlycolFlowHXCoriolisSHW', 'SHW_WaterFlowHXCoriolisSHW', 'SHW_GlycolFlowRateHXCoriolisSHW', 'SHW_WaterFlowRateHXCoriolisSHW'], axis=0, inplace=True)\n",
    "print(countnanvalues_df)\n",
    "\n",
    "subsystemnanvalues_df = countnanvalues_df.groupby([s.split('_')[0] for s in countnanvalues_df.index.values]).sum()\n",
    "subsystemnanvalues_df = subsystemnanvalues_df.sort_values(by=['NaN'], ascending=False)\n",
    "\n",
    "fig = go.Figure()\n",
    "fig.add_trace(go.Bar(name='Missing values per Subsystem groups', x=subsystemnanvalues_df.index, y=subsystemnanvalues_df['NaN']))\n",
    "fig.update_yaxes(title='Number of Missing Values')\n",
    "fig.show()"
   ],
   "metadata": {
    "collapsed": false,
    "pycharm": {
     "name": "#%%\n"
    }
   }
  }
 ],
 "metadata": {
  "kernelspec": {
   "display_name": "Python 3",
   "language": "python",
   "name": "python3"
  },
  "language_info": {
   "codemirror_mode": {
    "name": "ipython",
    "version": 2
   },
   "file_extension": ".py",
   "mimetype": "text/x-python",
   "name": "python",
   "nbconvert_exporter": "python",
   "pygments_lexer": "ipython2",
   "version": "2.7.6"
  }
 },
 "nbformat": 4,
 "nbformat_minor": 0
}