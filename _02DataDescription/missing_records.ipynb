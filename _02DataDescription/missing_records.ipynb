{
 "cells": [
  {
   "cell_type": "code",
   "execution_count": 82,
   "metadata": {
    "collapsed": true
   },
   "outputs": [],
   "source": [
    "import numpy as np\n",
    "import pandas as pd\n",
    "import plotly.express as px\n",
    "\n",
    "import DataRetriever as dr\n",
    "\n",
    "retriever = dr.DataRetriever()\n",
    "\n",
    "year_two = retriever.get_data(\"All-Subsystems-minute-Year2.pkl\")\n",
    "\n",
    "pd.options.mode.chained_assignment = None"
   ]
  },
  {
   "cell_type": "code",
   "execution_count": 83,
   "outputs": [],
   "source": [
    "# Convert column from string to datetime.\n",
    "year_two[\"Timestamp\"] = pd.to_datetime(year_two[\"Timestamp\"])"
   ],
   "metadata": {
    "collapsed": false,
    "pycharm": {
     "name": "#%%\n"
    }
   }
  },
  {
   "cell_type": "code",
   "execution_count": 84,
   "outputs": [
    {
     "name": "stdout",
     "output_type": "stream",
     "text": [
      "                        Timestamp  Timestamp_Delta\n",
      "30      2015-02-01 00:31:49-05:00             59.0\n",
      "270     2015-02-01 04:31:49-05:00             59.0\n",
      "870     2015-02-01 14:31:48-05:00             59.0\n",
      "1468    2015-02-02 00:31:41-05:00             59.0\n",
      "1768    2015-02-02 05:31:41-05:00             59.0\n",
      "...                           ...              ...\n",
      "516998  2016-01-30 04:31:28-05:00             59.0\n",
      "517598  2016-01-30 14:31:27-05:00             59.0\n",
      "518196  2016-01-31 00:31:23-05:00             57.0\n",
      "518406  2016-01-31 04:01:25-05:00             59.0\n",
      "519006  2016-01-31 14:01:24-05:00             59.0\n",
      "\n",
      "[1079 rows x 2 columns]\n"
     ]
    }
   ],
   "source": [
    "# Creating a pd.Series with the timestamp shifted one downwards. Adding the first value twice, and excluding the last.\n",
    "timestamp_plus_one = pd.concat([pd.Series(year_two[\"Timestamp\"][0]), year_two[\"Timestamp\"][:-1]], ignore_index=True)\n",
    "\n",
    "# Creating a new column with the time delta in seconds.\n",
    "year_two[\"Timestamp_Delta\"] = (year_two[\"Timestamp\"] - timestamp_plus_one).astype('timedelta64[s]')\n",
    "df_delta = year_two[[\"Timestamp\" ,\"Timestamp_Delta\"]][1:]\n",
    "print(df_delta[df_delta['Timestamp_Delta'] < 60])"
   ],
   "metadata": {
    "collapsed": false,
    "pycharm": {
     "name": "#%%\n"
    }
   }
  },
  {
   "cell_type": "markdown",
   "source": [
    "What information can be extracted from binning the intervals?"
   ],
   "metadata": {
    "collapsed": false
   }
  },
  {
   "cell_type": "code",
   "execution_count": 85,
   "outputs": [
    {
     "data": {
      "text/plain": "                 Timestamp  Timestamp_Delta\nTimestamp_Delta                            \n(0.0, 54.0]              0                0\n(54.0, 59.0]          1079             1079\n(59.0, 60.0]        517762           517762\n(60.0, 65.0]           390              390\n(65.0, 300.0]          369              369\n(300.0, inf]             3                3",
      "text/html": "<div>\n<style scoped>\n    .dataframe tbody tr th:only-of-type {\n        vertical-align: middle;\n    }\n\n    .dataframe tbody tr th {\n        vertical-align: top;\n    }\n\n    .dataframe thead th {\n        text-align: right;\n    }\n</style>\n<table border=\"1\" class=\"dataframe\">\n  <thead>\n    <tr style=\"text-align: right;\">\n      <th></th>\n      <th>Timestamp</th>\n      <th>Timestamp_Delta</th>\n    </tr>\n    <tr>\n      <th>Timestamp_Delta</th>\n      <th></th>\n      <th></th>\n    </tr>\n  </thead>\n  <tbody>\n    <tr>\n      <th>(0.0, 54.0]</th>\n      <td>0</td>\n      <td>0</td>\n    </tr>\n    <tr>\n      <th>(54.0, 59.0]</th>\n      <td>1079</td>\n      <td>1079</td>\n    </tr>\n    <tr>\n      <th>(59.0, 60.0]</th>\n      <td>517762</td>\n      <td>517762</td>\n    </tr>\n    <tr>\n      <th>(60.0, 65.0]</th>\n      <td>390</td>\n      <td>390</td>\n    </tr>\n    <tr>\n      <th>(65.0, 300.0]</th>\n      <td>369</td>\n      <td>369</td>\n    </tr>\n    <tr>\n      <th>(300.0, inf]</th>\n      <td>3</td>\n      <td>3</td>\n    </tr>\n  </tbody>\n</table>\n</div>"
     },
     "execution_count": 85,
     "metadata": {},
     "output_type": "execute_result"
    }
   ],
   "source": [
    "df_delta.groupby(pd.cut(df_delta[\"Timestamp_Delta\"], bins=[0, 54, 59, 60, 65, 300, np.inf])).count()"
   ],
   "metadata": {
    "collapsed": false,
    "pycharm": {
     "name": "#%%\n"
    }
   }
  },
  {
   "cell_type": "markdown",
   "source": [
    "We see that 762 intervals are larger than 1 minute, and 1080 intervals smaller than 1 minute.\n",
    "Is it possible to recognise a pattern for the missing intervals?"
   ],
   "metadata": {
    "collapsed": false
   }
  },
  {
   "cell_type": "code",
   "execution_count": 86,
   "outputs": [],
   "source": [
    "df_delta[\"Bin\"] = pd.cut(df_delta[\"Timestamp_Delta\"], bins=[0, 54, 59, 60, 65, 300, np.inf])\n",
    "non_60 = df_delta.loc[df_delta[\"Timestamp_Delta\"] != 60]"
   ],
   "metadata": {
    "collapsed": false,
    "pycharm": {
     "name": "#%%\n"
    }
   }
  },
  {
   "cell_type": "code",
   "execution_count": 87,
   "outputs": [],
   "source": [
    "# # Correct Timestamps\n",
    "# for row in non_60.index:\n",
    "#     dt = df_delta[\"Timestamp\"][row]\n",
    "#     non_60.at[row, \"Timestamp\"] = pd.Timestamp(year=dt.year, month=dt.month, day=dt.day,\n",
    "#                                        hour=dt.hour, minute=dt.minute, second=dt.second)\n",
    "# non_60[\"Timestamp\"] = pd.to_datetime(non_60[\"Timestamp\"])\n",
    "# non_60[\"Timestamp\"] = non_60[\"Timestamp\"].dt.time\n",
    "\n",
    "# Incorrect Timestamps; however, plot requires incorrect timestamp.\n",
    "# (Kan ikke kun vise tiden, og datoen skal være den samme for at kunne lave groupby.)\n",
    "for row in non_60.index:\n",
    "    dt = df_delta[\"Timestamp\"][row]\n",
    "    non_60.at[row, \"Timestamp\"] = pd.Timestamp(year=2000, month=1, day=1,\n",
    "                                               hour=dt.hour, minute=dt.minute, second=00)\n",
    "non_60[\"Timestamp\"] = pd.to_datetime(non_60[\"Timestamp\"])"
   ],
   "metadata": {
    "collapsed": false,
    "pycharm": {
     "name": "#%%\n"
    }
   }
  },
  {
   "cell_type": "code",
   "execution_count": 88,
   "outputs": [
    {
     "data": {
      "text/plain": "                 Timestamp  Timestamp_Delta            Bin\n30     2000-01-01 00:31:00             59.0   (54.0, 59.0]\n60     2000-01-01 01:01:00             61.0   (60.0, 65.0]\n270    2000-01-01 04:31:00             59.0   (54.0, 59.0]\n870    2000-01-01 14:31:00             59.0   (54.0, 59.0]\n1438   2000-01-01 00:01:00            174.0  (65.0, 300.0]\n...                    ...              ...            ...\n518166 2000-01-01 00:01:00            179.0  (65.0, 300.0]\n518196 2000-01-01 00:31:00             57.0   (54.0, 59.0]\n518226 2000-01-01 01:01:00             63.0   (60.0, 65.0]\n518406 2000-01-01 04:01:00             59.0   (54.0, 59.0]\n519006 2000-01-01 14:01:00             59.0   (54.0, 59.0]\n\n[1841 rows x 3 columns]",
      "text/html": "<div>\n<style scoped>\n    .dataframe tbody tr th:only-of-type {\n        vertical-align: middle;\n    }\n\n    .dataframe tbody tr th {\n        vertical-align: top;\n    }\n\n    .dataframe thead th {\n        text-align: right;\n    }\n</style>\n<table border=\"1\" class=\"dataframe\">\n  <thead>\n    <tr style=\"text-align: right;\">\n      <th></th>\n      <th>Timestamp</th>\n      <th>Timestamp_Delta</th>\n      <th>Bin</th>\n    </tr>\n  </thead>\n  <tbody>\n    <tr>\n      <th>30</th>\n      <td>2000-01-01 00:31:00</td>\n      <td>59.0</td>\n      <td>(54.0, 59.0]</td>\n    </tr>\n    <tr>\n      <th>60</th>\n      <td>2000-01-01 01:01:00</td>\n      <td>61.0</td>\n      <td>(60.0, 65.0]</td>\n    </tr>\n    <tr>\n      <th>270</th>\n      <td>2000-01-01 04:31:00</td>\n      <td>59.0</td>\n      <td>(54.0, 59.0]</td>\n    </tr>\n    <tr>\n      <th>870</th>\n      <td>2000-01-01 14:31:00</td>\n      <td>59.0</td>\n      <td>(54.0, 59.0]</td>\n    </tr>\n    <tr>\n      <th>1438</th>\n      <td>2000-01-01 00:01:00</td>\n      <td>174.0</td>\n      <td>(65.0, 300.0]</td>\n    </tr>\n    <tr>\n      <th>...</th>\n      <td>...</td>\n      <td>...</td>\n      <td>...</td>\n    </tr>\n    <tr>\n      <th>518166</th>\n      <td>2000-01-01 00:01:00</td>\n      <td>179.0</td>\n      <td>(65.0, 300.0]</td>\n    </tr>\n    <tr>\n      <th>518196</th>\n      <td>2000-01-01 00:31:00</td>\n      <td>57.0</td>\n      <td>(54.0, 59.0]</td>\n    </tr>\n    <tr>\n      <th>518226</th>\n      <td>2000-01-01 01:01:00</td>\n      <td>63.0</td>\n      <td>(60.0, 65.0]</td>\n    </tr>\n    <tr>\n      <th>518406</th>\n      <td>2000-01-01 04:01:00</td>\n      <td>59.0</td>\n      <td>(54.0, 59.0]</td>\n    </tr>\n    <tr>\n      <th>519006</th>\n      <td>2000-01-01 14:01:00</td>\n      <td>59.0</td>\n      <td>(54.0, 59.0]</td>\n    </tr>\n  </tbody>\n</table>\n<p>1841 rows × 3 columns</p>\n</div>"
     },
     "execution_count": 88,
     "metadata": {},
     "output_type": "execute_result"
    }
   ],
   "source": [
    "non_60"
   ],
   "metadata": {
    "collapsed": false,
    "pycharm": {
     "name": "#%%\n"
    }
   }
  },
  {
   "cell_type": "code",
   "execution_count": 89,
   "outputs": [],
   "source": [
    "binned_count = pd.DataFrame(non_60.groupby([\"Bin\", \"Timestamp\"]).count()).reset_index()\n",
    "binned_count = binned_count[binned_count[\"Timestamp_Delta\"] != 0]"
   ],
   "metadata": {
    "collapsed": false,
    "pycharm": {
     "name": "#%%\n"
    }
   }
  },
  {
   "cell_type": "code",
   "execution_count": 101,
   "outputs": [
    {
     "data": {
      "application/vnd.plotly.v1+json": {
       "data": [
        {
         "hovertemplate": "Bin=(54.0, 59.0]<br>Timestamp=%{x}<br>Timestamp_Delta=%{y}<extra></extra>",
         "legendgroup": "(54.0, 59.0]",
         "marker": {
          "color": "#636efa",
          "symbol": "circle"
         },
         "mode": "markers",
         "name": "(54.0, 59.0]",
         "orientation": "v",
         "showlegend": true,
         "x": [
          "2000-01-01T00:04:00",
          "2000-01-01T00:05:00",
          "2000-01-01T00:31:00",
          "2000-01-01T00:32:00",
          "2000-01-01T01:03:00",
          "2000-01-01T01:04:00",
          "2000-01-01T01:31:00",
          "2000-01-01T01:32:00",
          "2000-01-01T02:01:00",
          "2000-01-01T02:02:00",
          "2000-01-01T02:31:00",
          "2000-01-01T02:32:00",
          "2000-01-01T02:33:00",
          "2000-01-01T03:01:00",
          "2000-01-01T03:03:00",
          "2000-01-01T03:31:00",
          "2000-01-01T03:32:00",
          "2000-01-01T04:01:00",
          "2000-01-01T04:02:00",
          "2000-01-01T04:31:00",
          "2000-01-01T05:01:00",
          "2000-01-01T05:02:00",
          "2000-01-01T05:31:00",
          "2000-01-01T06:01:00",
          "2000-01-01T06:31:00",
          "2000-01-01T06:32:00",
          "2000-01-01T07:01:00",
          "2000-01-01T07:04:00",
          "2000-01-01T07:31:00",
          "2000-01-01T07:32:00",
          "2000-01-01T07:33:00",
          "2000-01-01T08:01:00",
          "2000-01-01T08:02:00",
          "2000-01-01T08:04:00",
          "2000-01-01T08:31:00",
          "2000-01-01T09:01:00",
          "2000-01-01T09:02:00",
          "2000-01-01T09:31:00",
          "2000-01-01T10:01:00",
          "2000-01-01T10:02:00",
          "2000-01-01T10:31:00",
          "2000-01-01T10:32:00",
          "2000-01-01T11:01:00",
          "2000-01-01T11:31:00",
          "2000-01-01T11:32:00",
          "2000-01-01T12:01:00",
          "2000-01-01T12:03:00",
          "2000-01-01T12:31:00",
          "2000-01-01T12:32:00",
          "2000-01-01T12:33:00",
          "2000-01-01T12:34:00",
          "2000-01-01T13:01:00",
          "2000-01-01T13:02:00",
          "2000-01-01T13:31:00",
          "2000-01-01T13:32:00",
          "2000-01-01T14:01:00",
          "2000-01-01T14:02:00",
          "2000-01-01T14:31:00",
          "2000-01-01T14:33:00",
          "2000-01-01T15:01:00",
          "2000-01-01T15:02:00",
          "2000-01-01T15:31:00",
          "2000-01-01T15:33:00",
          "2000-01-01T15:50:00",
          "2000-01-01T16:01:00",
          "2000-01-01T16:31:00",
          "2000-01-01T17:01:00",
          "2000-01-01T17:31:00",
          "2000-01-01T18:01:00",
          "2000-01-01T18:04:00",
          "2000-01-01T18:31:00",
          "2000-01-01T19:01:00",
          "2000-01-01T19:02:00",
          "2000-01-01T19:03:00",
          "2000-01-01T19:31:00",
          "2000-01-01T19:32:00",
          "2000-01-01T19:34:00",
          "2000-01-01T19:50:00",
          "2000-01-01T19:59:00",
          "2000-01-01T20:01:00",
          "2000-01-01T20:31:00",
          "2000-01-01T21:01:00",
          "2000-01-01T21:31:00",
          "2000-01-01T22:01:00",
          "2000-01-01T22:02:00",
          "2000-01-01T22:31:00",
          "2000-01-01T23:01:00",
          "2000-01-01T23:03:00",
          "2000-01-01T23:31:00"
         ],
         "xaxis": "x",
         "y": [
          4,
          1,
          284,
          11,
          2,
          1,
          8,
          1,
          16,
          1,
          22,
          4,
          2,
          13,
          2,
          12,
          1,
          20,
          1,
          10,
          12,
          1,
          22,
          16,
          16,
          1,
          19,
          1,
          24,
          1,
          1,
          17,
          1,
          1,
          21,
          13,
          1,
          15,
          14,
          1,
          12,
          1,
          20,
          17,
          1,
          15,
          1,
          9,
          1,
          1,
          1,
          12,
          2,
          18,
          2,
          21,
          1,
          12,
          2,
          15,
          1,
          18,
          1,
          1,
          9,
          20,
          20,
          22,
          20,
          1,
          23,
          17,
          2,
          1,
          17,
          1,
          1,
          1,
          1,
          13,
          13,
          16,
          17,
          20,
          1,
          15,
          11,
          2,
          16
         ],
         "yaxis": "y",
         "type": "scatter"
        },
        {
         "hovertemplate": "Bin=(60.0, 65.0]<br>Timestamp=%{x}<br>Timestamp_Delta=%{y}<extra></extra>",
         "legendgroup": "(60.0, 65.0]",
         "marker": {
          "color": "#EF553B",
          "symbol": "circle"
         },
         "mode": "markers",
         "name": "(60.0, 65.0]",
         "orientation": "v",
         "showlegend": true,
         "x": [
          "2000-01-01T00:02:00",
          "2000-01-01T00:05:00",
          "2000-01-01T00:06:00",
          "2000-01-01T01:01:00",
          "2000-01-01T01:02:00",
          "2000-01-01T01:03:00",
          "2000-01-01T01:31:00",
          "2000-01-01T01:33:00",
          "2000-01-01T01:34:00",
          "2000-01-01T02:01:00",
          "2000-01-01T04:31:00",
          "2000-01-01T06:01:00",
          "2000-01-01T07:31:00",
          "2000-01-01T07:34:00",
          "2000-01-01T08:01:00",
          "2000-01-01T09:01:00",
          "2000-01-01T11:01:00",
          "2000-01-01T11:31:00",
          "2000-01-01T12:01:00",
          "2000-01-01T12:31:00",
          "2000-01-01T13:01:00",
          "2000-01-01T13:04:00",
          "2000-01-01T14:31:00",
          "2000-01-01T15:31:00",
          "2000-01-01T16:20:00",
          "2000-01-01T17:01:00",
          "2000-01-01T17:31:00",
          "2000-01-01T18:31:00",
          "2000-01-01T19:01:00",
          "2000-01-01T20:29:00",
          "2000-01-01T21:01:00",
          "2000-01-01T22:01:00",
          "2000-01-01T22:31:00",
          "2000-01-01T23:01:00",
          "2000-01-01T23:31:00"
         ],
         "xaxis": "x",
         "y": [
          1,
          4,
          1,
          323,
          20,
          1,
          1,
          5,
          1,
          2,
          1,
          3,
          1,
          1,
          1,
          1,
          1,
          1,
          1,
          1,
          1,
          1,
          1,
          2,
          1,
          1,
          1,
          1,
          3,
          1,
          1,
          2,
          1,
          1,
          1
         ],
         "yaxis": "y",
         "type": "scatter"
        },
        {
         "hovertemplate": "Bin=(65.0, 300.0]<br>Timestamp=%{x}<br>Timestamp_Delta=%{y}<extra></extra>",
         "legendgroup": "(65.0, 300.0]",
         "marker": {
          "color": "#00cc96",
          "symbol": "circle"
         },
         "mode": "markers",
         "name": "(65.0, 300.0]",
         "orientation": "v",
         "showlegend": true,
         "x": [
          "2000-01-01T00:01:00",
          "2000-01-01T00:02:00",
          "2000-01-01T00:33:00",
          "2000-01-01T00:34:00",
          "2000-01-01T01:01:00",
          "2000-01-01T15:21:00",
          "2000-01-01T19:30:00",
          "2000-01-01T23:01:00"
         ],
         "xaxis": "x",
         "y": [
          334,
          24,
          6,
          1,
          1,
          1,
          1,
          1
         ],
         "yaxis": "y",
         "type": "scatter"
        },
        {
         "hovertemplate": "Bin=(300.0, inf]<br>Timestamp=%{x}<br>Timestamp_Delta=%{y}<extra></extra>",
         "legendgroup": "(300.0, inf]",
         "marker": {
          "color": "#ab63fa",
          "symbol": "circle"
         },
         "mode": "markers",
         "name": "(300.0, inf]",
         "orientation": "v",
         "showlegend": true,
         "x": [
          "2000-01-01T00:01:00",
          "2000-01-01T01:59:00",
          "2000-01-01T12:04:00"
         ],
         "xaxis": "x",
         "y": [
          1,
          1,
          1
         ],
         "yaxis": "y",
         "type": "scatter"
        }
       ],
       "layout": {
        "template": {
         "data": {
          "bar": [
           {
            "error_x": {
             "color": "#2a3f5f"
            },
            "error_y": {
             "color": "#2a3f5f"
            },
            "marker": {
             "line": {
              "color": "#E5ECF6",
              "width": 0.5
             },
             "pattern": {
              "fillmode": "overlay",
              "size": 10,
              "solidity": 0.2
             }
            },
            "type": "bar"
           }
          ],
          "barpolar": [
           {
            "marker": {
             "line": {
              "color": "#E5ECF6",
              "width": 0.5
             },
             "pattern": {
              "fillmode": "overlay",
              "size": 10,
              "solidity": 0.2
             }
            },
            "type": "barpolar"
           }
          ],
          "carpet": [
           {
            "aaxis": {
             "endlinecolor": "#2a3f5f",
             "gridcolor": "white",
             "linecolor": "white",
             "minorgridcolor": "white",
             "startlinecolor": "#2a3f5f"
            },
            "baxis": {
             "endlinecolor": "#2a3f5f",
             "gridcolor": "white",
             "linecolor": "white",
             "minorgridcolor": "white",
             "startlinecolor": "#2a3f5f"
            },
            "type": "carpet"
           }
          ],
          "choropleth": [
           {
            "colorbar": {
             "outlinewidth": 0,
             "ticks": ""
            },
            "type": "choropleth"
           }
          ],
          "contour": [
           {
            "colorbar": {
             "outlinewidth": 0,
             "ticks": ""
            },
            "colorscale": [
             [
              0.0,
              "#0d0887"
             ],
             [
              0.1111111111111111,
              "#46039f"
             ],
             [
              0.2222222222222222,
              "#7201a8"
             ],
             [
              0.3333333333333333,
              "#9c179e"
             ],
             [
              0.4444444444444444,
              "#bd3786"
             ],
             [
              0.5555555555555556,
              "#d8576b"
             ],
             [
              0.6666666666666666,
              "#ed7953"
             ],
             [
              0.7777777777777778,
              "#fb9f3a"
             ],
             [
              0.8888888888888888,
              "#fdca26"
             ],
             [
              1.0,
              "#f0f921"
             ]
            ],
            "type": "contour"
           }
          ],
          "contourcarpet": [
           {
            "colorbar": {
             "outlinewidth": 0,
             "ticks": ""
            },
            "type": "contourcarpet"
           }
          ],
          "heatmap": [
           {
            "colorbar": {
             "outlinewidth": 0,
             "ticks": ""
            },
            "colorscale": [
             [
              0.0,
              "#0d0887"
             ],
             [
              0.1111111111111111,
              "#46039f"
             ],
             [
              0.2222222222222222,
              "#7201a8"
             ],
             [
              0.3333333333333333,
              "#9c179e"
             ],
             [
              0.4444444444444444,
              "#bd3786"
             ],
             [
              0.5555555555555556,
              "#d8576b"
             ],
             [
              0.6666666666666666,
              "#ed7953"
             ],
             [
              0.7777777777777778,
              "#fb9f3a"
             ],
             [
              0.8888888888888888,
              "#fdca26"
             ],
             [
              1.0,
              "#f0f921"
             ]
            ],
            "type": "heatmap"
           }
          ],
          "heatmapgl": [
           {
            "colorbar": {
             "outlinewidth": 0,
             "ticks": ""
            },
            "colorscale": [
             [
              0.0,
              "#0d0887"
             ],
             [
              0.1111111111111111,
              "#46039f"
             ],
             [
              0.2222222222222222,
              "#7201a8"
             ],
             [
              0.3333333333333333,
              "#9c179e"
             ],
             [
              0.4444444444444444,
              "#bd3786"
             ],
             [
              0.5555555555555556,
              "#d8576b"
             ],
             [
              0.6666666666666666,
              "#ed7953"
             ],
             [
              0.7777777777777778,
              "#fb9f3a"
             ],
             [
              0.8888888888888888,
              "#fdca26"
             ],
             [
              1.0,
              "#f0f921"
             ]
            ],
            "type": "heatmapgl"
           }
          ],
          "histogram": [
           {
            "marker": {
             "pattern": {
              "fillmode": "overlay",
              "size": 10,
              "solidity": 0.2
             }
            },
            "type": "histogram"
           }
          ],
          "histogram2d": [
           {
            "colorbar": {
             "outlinewidth": 0,
             "ticks": ""
            },
            "colorscale": [
             [
              0.0,
              "#0d0887"
             ],
             [
              0.1111111111111111,
              "#46039f"
             ],
             [
              0.2222222222222222,
              "#7201a8"
             ],
             [
              0.3333333333333333,
              "#9c179e"
             ],
             [
              0.4444444444444444,
              "#bd3786"
             ],
             [
              0.5555555555555556,
              "#d8576b"
             ],
             [
              0.6666666666666666,
              "#ed7953"
             ],
             [
              0.7777777777777778,
              "#fb9f3a"
             ],
             [
              0.8888888888888888,
              "#fdca26"
             ],
             [
              1.0,
              "#f0f921"
             ]
            ],
            "type": "histogram2d"
           }
          ],
          "histogram2dcontour": [
           {
            "colorbar": {
             "outlinewidth": 0,
             "ticks": ""
            },
            "colorscale": [
             [
              0.0,
              "#0d0887"
             ],
             [
              0.1111111111111111,
              "#46039f"
             ],
             [
              0.2222222222222222,
              "#7201a8"
             ],
             [
              0.3333333333333333,
              "#9c179e"
             ],
             [
              0.4444444444444444,
              "#bd3786"
             ],
             [
              0.5555555555555556,
              "#d8576b"
             ],
             [
              0.6666666666666666,
              "#ed7953"
             ],
             [
              0.7777777777777778,
              "#fb9f3a"
             ],
             [
              0.8888888888888888,
              "#fdca26"
             ],
             [
              1.0,
              "#f0f921"
             ]
            ],
            "type": "histogram2dcontour"
           }
          ],
          "mesh3d": [
           {
            "colorbar": {
             "outlinewidth": 0,
             "ticks": ""
            },
            "type": "mesh3d"
           }
          ],
          "parcoords": [
           {
            "line": {
             "colorbar": {
              "outlinewidth": 0,
              "ticks": ""
             }
            },
            "type": "parcoords"
           }
          ],
          "pie": [
           {
            "automargin": true,
            "type": "pie"
           }
          ],
          "scatter": [
           {
            "marker": {
             "colorbar": {
              "outlinewidth": 0,
              "ticks": ""
             }
            },
            "type": "scatter"
           }
          ],
          "scatter3d": [
           {
            "line": {
             "colorbar": {
              "outlinewidth": 0,
              "ticks": ""
             }
            },
            "marker": {
             "colorbar": {
              "outlinewidth": 0,
              "ticks": ""
             }
            },
            "type": "scatter3d"
           }
          ],
          "scattercarpet": [
           {
            "marker": {
             "colorbar": {
              "outlinewidth": 0,
              "ticks": ""
             }
            },
            "type": "scattercarpet"
           }
          ],
          "scattergeo": [
           {
            "marker": {
             "colorbar": {
              "outlinewidth": 0,
              "ticks": ""
             }
            },
            "type": "scattergeo"
           }
          ],
          "scattergl": [
           {
            "marker": {
             "colorbar": {
              "outlinewidth": 0,
              "ticks": ""
             }
            },
            "type": "scattergl"
           }
          ],
          "scattermapbox": [
           {
            "marker": {
             "colorbar": {
              "outlinewidth": 0,
              "ticks": ""
             }
            },
            "type": "scattermapbox"
           }
          ],
          "scatterpolar": [
           {
            "marker": {
             "colorbar": {
              "outlinewidth": 0,
              "ticks": ""
             }
            },
            "type": "scatterpolar"
           }
          ],
          "scatterpolargl": [
           {
            "marker": {
             "colorbar": {
              "outlinewidth": 0,
              "ticks": ""
             }
            },
            "type": "scatterpolargl"
           }
          ],
          "scatterternary": [
           {
            "marker": {
             "colorbar": {
              "outlinewidth": 0,
              "ticks": ""
             }
            },
            "type": "scatterternary"
           }
          ],
          "surface": [
           {
            "colorbar": {
             "outlinewidth": 0,
             "ticks": ""
            },
            "colorscale": [
             [
              0.0,
              "#0d0887"
             ],
             [
              0.1111111111111111,
              "#46039f"
             ],
             [
              0.2222222222222222,
              "#7201a8"
             ],
             [
              0.3333333333333333,
              "#9c179e"
             ],
             [
              0.4444444444444444,
              "#bd3786"
             ],
             [
              0.5555555555555556,
              "#d8576b"
             ],
             [
              0.6666666666666666,
              "#ed7953"
             ],
             [
              0.7777777777777778,
              "#fb9f3a"
             ],
             [
              0.8888888888888888,
              "#fdca26"
             ],
             [
              1.0,
              "#f0f921"
             ]
            ],
            "type": "surface"
           }
          ],
          "table": [
           {
            "cells": {
             "fill": {
              "color": "#EBF0F8"
             },
             "line": {
              "color": "white"
             }
            },
            "header": {
             "fill": {
              "color": "#C8D4E3"
             },
             "line": {
              "color": "white"
             }
            },
            "type": "table"
           }
          ]
         },
         "layout": {
          "annotationdefaults": {
           "arrowcolor": "#2a3f5f",
           "arrowhead": 0,
           "arrowwidth": 1
          },
          "autotypenumbers": "strict",
          "coloraxis": {
           "colorbar": {
            "outlinewidth": 0,
            "ticks": ""
           }
          },
          "colorscale": {
           "diverging": [
            [
             0,
             "#8e0152"
            ],
            [
             0.1,
             "#c51b7d"
            ],
            [
             0.2,
             "#de77ae"
            ],
            [
             0.3,
             "#f1b6da"
            ],
            [
             0.4,
             "#fde0ef"
            ],
            [
             0.5,
             "#f7f7f7"
            ],
            [
             0.6,
             "#e6f5d0"
            ],
            [
             0.7,
             "#b8e186"
            ],
            [
             0.8,
             "#7fbc41"
            ],
            [
             0.9,
             "#4d9221"
            ],
            [
             1,
             "#276419"
            ]
           ],
           "sequential": [
            [
             0.0,
             "#0d0887"
            ],
            [
             0.1111111111111111,
             "#46039f"
            ],
            [
             0.2222222222222222,
             "#7201a8"
            ],
            [
             0.3333333333333333,
             "#9c179e"
            ],
            [
             0.4444444444444444,
             "#bd3786"
            ],
            [
             0.5555555555555556,
             "#d8576b"
            ],
            [
             0.6666666666666666,
             "#ed7953"
            ],
            [
             0.7777777777777778,
             "#fb9f3a"
            ],
            [
             0.8888888888888888,
             "#fdca26"
            ],
            [
             1.0,
             "#f0f921"
            ]
           ],
           "sequentialminus": [
            [
             0.0,
             "#0d0887"
            ],
            [
             0.1111111111111111,
             "#46039f"
            ],
            [
             0.2222222222222222,
             "#7201a8"
            ],
            [
             0.3333333333333333,
             "#9c179e"
            ],
            [
             0.4444444444444444,
             "#bd3786"
            ],
            [
             0.5555555555555556,
             "#d8576b"
            ],
            [
             0.6666666666666666,
             "#ed7953"
            ],
            [
             0.7777777777777778,
             "#fb9f3a"
            ],
            [
             0.8888888888888888,
             "#fdca26"
            ],
            [
             1.0,
             "#f0f921"
            ]
           ]
          },
          "colorway": [
           "#636efa",
           "#EF553B",
           "#00cc96",
           "#ab63fa",
           "#FFA15A",
           "#19d3f3",
           "#FF6692",
           "#B6E880",
           "#FF97FF",
           "#FECB52"
          ],
          "font": {
           "color": "#2a3f5f"
          },
          "geo": {
           "bgcolor": "white",
           "lakecolor": "white",
           "landcolor": "#E5ECF6",
           "showlakes": true,
           "showland": true,
           "subunitcolor": "white"
          },
          "hoverlabel": {
           "align": "left"
          },
          "hovermode": "closest",
          "mapbox": {
           "style": "light"
          },
          "paper_bgcolor": "white",
          "plot_bgcolor": "#E5ECF6",
          "polar": {
           "angularaxis": {
            "gridcolor": "white",
            "linecolor": "white",
            "ticks": ""
           },
           "bgcolor": "#E5ECF6",
           "radialaxis": {
            "gridcolor": "white",
            "linecolor": "white",
            "ticks": ""
           }
          },
          "scene": {
           "xaxis": {
            "backgroundcolor": "#E5ECF6",
            "gridcolor": "white",
            "gridwidth": 2,
            "linecolor": "white",
            "showbackground": true,
            "ticks": "",
            "zerolinecolor": "white"
           },
           "yaxis": {
            "backgroundcolor": "#E5ECF6",
            "gridcolor": "white",
            "gridwidth": 2,
            "linecolor": "white",
            "showbackground": true,
            "ticks": "",
            "zerolinecolor": "white"
           },
           "zaxis": {
            "backgroundcolor": "#E5ECF6",
            "gridcolor": "white",
            "gridwidth": 2,
            "linecolor": "white",
            "showbackground": true,
            "ticks": "",
            "zerolinecolor": "white"
           }
          },
          "shapedefaults": {
           "line": {
            "color": "#2a3f5f"
           }
          },
          "ternary": {
           "aaxis": {
            "gridcolor": "white",
            "linecolor": "white",
            "ticks": ""
           },
           "baxis": {
            "gridcolor": "white",
            "linecolor": "white",
            "ticks": ""
           },
           "bgcolor": "#E5ECF6",
           "caxis": {
            "gridcolor": "white",
            "linecolor": "white",
            "ticks": ""
           }
          },
          "title": {
           "x": 0.05
          },
          "xaxis": {
           "automargin": true,
           "gridcolor": "white",
           "linecolor": "white",
           "ticks": "",
           "title": {
            "standoff": 15
           },
           "zerolinecolor": "white",
           "zerolinewidth": 2
          },
          "yaxis": {
           "automargin": true,
           "gridcolor": "white",
           "linecolor": "white",
           "ticks": "",
           "title": {
            "standoff": 15
           },
           "zerolinecolor": "white",
           "zerolinewidth": 2
          }
         }
        },
        "xaxis": {
         "anchor": "y",
         "domain": [
          0.0,
          1.0
         ],
         "title": {
          "text": "Time of Day"
         }
        },
        "yaxis": {
         "anchor": "x",
         "domain": [
          0.0,
          1.0
         ],
         "title": {
          "text": "Count of Premature Records"
         }
        },
        "legend": {
         "title": {
          "text": "Bin"
         },
         "tracegroupgap": 0
        },
        "title": {
         "text": "Occurrence of Missing Record Given Time of Day"
        }
       },
       "config": {
        "plotlyServerURL": "https://plot.ly"
       }
      },
      "text/html": "<div>                            <div id=\"bd95d3b6-cd2f-4c08-aafa-756bcc6ab2ff\" class=\"plotly-graph-div\" style=\"height:525px; width:100%;\"></div>            <script type=\"text/javascript\">                require([\"plotly\"], function(Plotly) {                    window.PLOTLYENV=window.PLOTLYENV || {};                                    if (document.getElementById(\"bd95d3b6-cd2f-4c08-aafa-756bcc6ab2ff\")) {                    Plotly.newPlot(                        \"bd95d3b6-cd2f-4c08-aafa-756bcc6ab2ff\",                        [{\"hovertemplate\":\"Bin=(54.0, 59.0]<br>Timestamp=%{x}<br>Timestamp_Delta=%{y}<extra></extra>\",\"legendgroup\":\"(54.0, 59.0]\",\"marker\":{\"color\":\"#636efa\",\"symbol\":\"circle\"},\"mode\":\"markers\",\"name\":\"(54.0, 59.0]\",\"orientation\":\"v\",\"showlegend\":true,\"x\":[\"2000-01-01T00:04:00\",\"2000-01-01T00:05:00\",\"2000-01-01T00:31:00\",\"2000-01-01T00:32:00\",\"2000-01-01T01:03:00\",\"2000-01-01T01:04:00\",\"2000-01-01T01:31:00\",\"2000-01-01T01:32:00\",\"2000-01-01T02:01:00\",\"2000-01-01T02:02:00\",\"2000-01-01T02:31:00\",\"2000-01-01T02:32:00\",\"2000-01-01T02:33:00\",\"2000-01-01T03:01:00\",\"2000-01-01T03:03:00\",\"2000-01-01T03:31:00\",\"2000-01-01T03:32:00\",\"2000-01-01T04:01:00\",\"2000-01-01T04:02:00\",\"2000-01-01T04:31:00\",\"2000-01-01T05:01:00\",\"2000-01-01T05:02:00\",\"2000-01-01T05:31:00\",\"2000-01-01T06:01:00\",\"2000-01-01T06:31:00\",\"2000-01-01T06:32:00\",\"2000-01-01T07:01:00\",\"2000-01-01T07:04:00\",\"2000-01-01T07:31:00\",\"2000-01-01T07:32:00\",\"2000-01-01T07:33:00\",\"2000-01-01T08:01:00\",\"2000-01-01T08:02:00\",\"2000-01-01T08:04:00\",\"2000-01-01T08:31:00\",\"2000-01-01T09:01:00\",\"2000-01-01T09:02:00\",\"2000-01-01T09:31:00\",\"2000-01-01T10:01:00\",\"2000-01-01T10:02:00\",\"2000-01-01T10:31:00\",\"2000-01-01T10:32:00\",\"2000-01-01T11:01:00\",\"2000-01-01T11:31:00\",\"2000-01-01T11:32:00\",\"2000-01-01T12:01:00\",\"2000-01-01T12:03:00\",\"2000-01-01T12:31:00\",\"2000-01-01T12:32:00\",\"2000-01-01T12:33:00\",\"2000-01-01T12:34:00\",\"2000-01-01T13:01:00\",\"2000-01-01T13:02:00\",\"2000-01-01T13:31:00\",\"2000-01-01T13:32:00\",\"2000-01-01T14:01:00\",\"2000-01-01T14:02:00\",\"2000-01-01T14:31:00\",\"2000-01-01T14:33:00\",\"2000-01-01T15:01:00\",\"2000-01-01T15:02:00\",\"2000-01-01T15:31:00\",\"2000-01-01T15:33:00\",\"2000-01-01T15:50:00\",\"2000-01-01T16:01:00\",\"2000-01-01T16:31:00\",\"2000-01-01T17:01:00\",\"2000-01-01T17:31:00\",\"2000-01-01T18:01:00\",\"2000-01-01T18:04:00\",\"2000-01-01T18:31:00\",\"2000-01-01T19:01:00\",\"2000-01-01T19:02:00\",\"2000-01-01T19:03:00\",\"2000-01-01T19:31:00\",\"2000-01-01T19:32:00\",\"2000-01-01T19:34:00\",\"2000-01-01T19:50:00\",\"2000-01-01T19:59:00\",\"2000-01-01T20:01:00\",\"2000-01-01T20:31:00\",\"2000-01-01T21:01:00\",\"2000-01-01T21:31:00\",\"2000-01-01T22:01:00\",\"2000-01-01T22:02:00\",\"2000-01-01T22:31:00\",\"2000-01-01T23:01:00\",\"2000-01-01T23:03:00\",\"2000-01-01T23:31:00\"],\"xaxis\":\"x\",\"y\":[4,1,284,11,2,1,8,1,16,1,22,4,2,13,2,12,1,20,1,10,12,1,22,16,16,1,19,1,24,1,1,17,1,1,21,13,1,15,14,1,12,1,20,17,1,15,1,9,1,1,1,12,2,18,2,21,1,12,2,15,1,18,1,1,9,20,20,22,20,1,23,17,2,1,17,1,1,1,1,13,13,16,17,20,1,15,11,2,16],\"yaxis\":\"y\",\"type\":\"scatter\"},{\"hovertemplate\":\"Bin=(60.0, 65.0]<br>Timestamp=%{x}<br>Timestamp_Delta=%{y}<extra></extra>\",\"legendgroup\":\"(60.0, 65.0]\",\"marker\":{\"color\":\"#EF553B\",\"symbol\":\"circle\"},\"mode\":\"markers\",\"name\":\"(60.0, 65.0]\",\"orientation\":\"v\",\"showlegend\":true,\"x\":[\"2000-01-01T00:02:00\",\"2000-01-01T00:05:00\",\"2000-01-01T00:06:00\",\"2000-01-01T01:01:00\",\"2000-01-01T01:02:00\",\"2000-01-01T01:03:00\",\"2000-01-01T01:31:00\",\"2000-01-01T01:33:00\",\"2000-01-01T01:34:00\",\"2000-01-01T02:01:00\",\"2000-01-01T04:31:00\",\"2000-01-01T06:01:00\",\"2000-01-01T07:31:00\",\"2000-01-01T07:34:00\",\"2000-01-01T08:01:00\",\"2000-01-01T09:01:00\",\"2000-01-01T11:01:00\",\"2000-01-01T11:31:00\",\"2000-01-01T12:01:00\",\"2000-01-01T12:31:00\",\"2000-01-01T13:01:00\",\"2000-01-01T13:04:00\",\"2000-01-01T14:31:00\",\"2000-01-01T15:31:00\",\"2000-01-01T16:20:00\",\"2000-01-01T17:01:00\",\"2000-01-01T17:31:00\",\"2000-01-01T18:31:00\",\"2000-01-01T19:01:00\",\"2000-01-01T20:29:00\",\"2000-01-01T21:01:00\",\"2000-01-01T22:01:00\",\"2000-01-01T22:31:00\",\"2000-01-01T23:01:00\",\"2000-01-01T23:31:00\"],\"xaxis\":\"x\",\"y\":[1,4,1,323,20,1,1,5,1,2,1,3,1,1,1,1,1,1,1,1,1,1,1,2,1,1,1,1,3,1,1,2,1,1,1],\"yaxis\":\"y\",\"type\":\"scatter\"},{\"hovertemplate\":\"Bin=(65.0, 300.0]<br>Timestamp=%{x}<br>Timestamp_Delta=%{y}<extra></extra>\",\"legendgroup\":\"(65.0, 300.0]\",\"marker\":{\"color\":\"#00cc96\",\"symbol\":\"circle\"},\"mode\":\"markers\",\"name\":\"(65.0, 300.0]\",\"orientation\":\"v\",\"showlegend\":true,\"x\":[\"2000-01-01T00:01:00\",\"2000-01-01T00:02:00\",\"2000-01-01T00:33:00\",\"2000-01-01T00:34:00\",\"2000-01-01T01:01:00\",\"2000-01-01T15:21:00\",\"2000-01-01T19:30:00\",\"2000-01-01T23:01:00\"],\"xaxis\":\"x\",\"y\":[334,24,6,1,1,1,1,1],\"yaxis\":\"y\",\"type\":\"scatter\"},{\"hovertemplate\":\"Bin=(300.0, inf]<br>Timestamp=%{x}<br>Timestamp_Delta=%{y}<extra></extra>\",\"legendgroup\":\"(300.0, inf]\",\"marker\":{\"color\":\"#ab63fa\",\"symbol\":\"circle\"},\"mode\":\"markers\",\"name\":\"(300.0, inf]\",\"orientation\":\"v\",\"showlegend\":true,\"x\":[\"2000-01-01T00:01:00\",\"2000-01-01T01:59:00\",\"2000-01-01T12:04:00\"],\"xaxis\":\"x\",\"y\":[1,1,1],\"yaxis\":\"y\",\"type\":\"scatter\"}],                        {\"template\":{\"data\":{\"bar\":[{\"error_x\":{\"color\":\"#2a3f5f\"},\"error_y\":{\"color\":\"#2a3f5f\"},\"marker\":{\"line\":{\"color\":\"#E5ECF6\",\"width\":0.5},\"pattern\":{\"fillmode\":\"overlay\",\"size\":10,\"solidity\":0.2}},\"type\":\"bar\"}],\"barpolar\":[{\"marker\":{\"line\":{\"color\":\"#E5ECF6\",\"width\":0.5},\"pattern\":{\"fillmode\":\"overlay\",\"size\":10,\"solidity\":0.2}},\"type\":\"barpolar\"}],\"carpet\":[{\"aaxis\":{\"endlinecolor\":\"#2a3f5f\",\"gridcolor\":\"white\",\"linecolor\":\"white\",\"minorgridcolor\":\"white\",\"startlinecolor\":\"#2a3f5f\"},\"baxis\":{\"endlinecolor\":\"#2a3f5f\",\"gridcolor\":\"white\",\"linecolor\":\"white\",\"minorgridcolor\":\"white\",\"startlinecolor\":\"#2a3f5f\"},\"type\":\"carpet\"}],\"choropleth\":[{\"colorbar\":{\"outlinewidth\":0,\"ticks\":\"\"},\"type\":\"choropleth\"}],\"contour\":[{\"colorbar\":{\"outlinewidth\":0,\"ticks\":\"\"},\"colorscale\":[[0.0,\"#0d0887\"],[0.1111111111111111,\"#46039f\"],[0.2222222222222222,\"#7201a8\"],[0.3333333333333333,\"#9c179e\"],[0.4444444444444444,\"#bd3786\"],[0.5555555555555556,\"#d8576b\"],[0.6666666666666666,\"#ed7953\"],[0.7777777777777778,\"#fb9f3a\"],[0.8888888888888888,\"#fdca26\"],[1.0,\"#f0f921\"]],\"type\":\"contour\"}],\"contourcarpet\":[{\"colorbar\":{\"outlinewidth\":0,\"ticks\":\"\"},\"type\":\"contourcarpet\"}],\"heatmap\":[{\"colorbar\":{\"outlinewidth\":0,\"ticks\":\"\"},\"colorscale\":[[0.0,\"#0d0887\"],[0.1111111111111111,\"#46039f\"],[0.2222222222222222,\"#7201a8\"],[0.3333333333333333,\"#9c179e\"],[0.4444444444444444,\"#bd3786\"],[0.5555555555555556,\"#d8576b\"],[0.6666666666666666,\"#ed7953\"],[0.7777777777777778,\"#fb9f3a\"],[0.8888888888888888,\"#fdca26\"],[1.0,\"#f0f921\"]],\"type\":\"heatmap\"}],\"heatmapgl\":[{\"colorbar\":{\"outlinewidth\":0,\"ticks\":\"\"},\"colorscale\":[[0.0,\"#0d0887\"],[0.1111111111111111,\"#46039f\"],[0.2222222222222222,\"#7201a8\"],[0.3333333333333333,\"#9c179e\"],[0.4444444444444444,\"#bd3786\"],[0.5555555555555556,\"#d8576b\"],[0.6666666666666666,\"#ed7953\"],[0.7777777777777778,\"#fb9f3a\"],[0.8888888888888888,\"#fdca26\"],[1.0,\"#f0f921\"]],\"type\":\"heatmapgl\"}],\"histogram\":[{\"marker\":{\"pattern\":{\"fillmode\":\"overlay\",\"size\":10,\"solidity\":0.2}},\"type\":\"histogram\"}],\"histogram2d\":[{\"colorbar\":{\"outlinewidth\":0,\"ticks\":\"\"},\"colorscale\":[[0.0,\"#0d0887\"],[0.1111111111111111,\"#46039f\"],[0.2222222222222222,\"#7201a8\"],[0.3333333333333333,\"#9c179e\"],[0.4444444444444444,\"#bd3786\"],[0.5555555555555556,\"#d8576b\"],[0.6666666666666666,\"#ed7953\"],[0.7777777777777778,\"#fb9f3a\"],[0.8888888888888888,\"#fdca26\"],[1.0,\"#f0f921\"]],\"type\":\"histogram2d\"}],\"histogram2dcontour\":[{\"colorbar\":{\"outlinewidth\":0,\"ticks\":\"\"},\"colorscale\":[[0.0,\"#0d0887\"],[0.1111111111111111,\"#46039f\"],[0.2222222222222222,\"#7201a8\"],[0.3333333333333333,\"#9c179e\"],[0.4444444444444444,\"#bd3786\"],[0.5555555555555556,\"#d8576b\"],[0.6666666666666666,\"#ed7953\"],[0.7777777777777778,\"#fb9f3a\"],[0.8888888888888888,\"#fdca26\"],[1.0,\"#f0f921\"]],\"type\":\"histogram2dcontour\"}],\"mesh3d\":[{\"colorbar\":{\"outlinewidth\":0,\"ticks\":\"\"},\"type\":\"mesh3d\"}],\"parcoords\":[{\"line\":{\"colorbar\":{\"outlinewidth\":0,\"ticks\":\"\"}},\"type\":\"parcoords\"}],\"pie\":[{\"automargin\":true,\"type\":\"pie\"}],\"scatter\":[{\"marker\":{\"colorbar\":{\"outlinewidth\":0,\"ticks\":\"\"}},\"type\":\"scatter\"}],\"scatter3d\":[{\"line\":{\"colorbar\":{\"outlinewidth\":0,\"ticks\":\"\"}},\"marker\":{\"colorbar\":{\"outlinewidth\":0,\"ticks\":\"\"}},\"type\":\"scatter3d\"}],\"scattercarpet\":[{\"marker\":{\"colorbar\":{\"outlinewidth\":0,\"ticks\":\"\"}},\"type\":\"scattercarpet\"}],\"scattergeo\":[{\"marker\":{\"colorbar\":{\"outlinewidth\":0,\"ticks\":\"\"}},\"type\":\"scattergeo\"}],\"scattergl\":[{\"marker\":{\"colorbar\":{\"outlinewidth\":0,\"ticks\":\"\"}},\"type\":\"scattergl\"}],\"scattermapbox\":[{\"marker\":{\"colorbar\":{\"outlinewidth\":0,\"ticks\":\"\"}},\"type\":\"scattermapbox\"}],\"scatterpolar\":[{\"marker\":{\"colorbar\":{\"outlinewidth\":0,\"ticks\":\"\"}},\"type\":\"scatterpolar\"}],\"scatterpolargl\":[{\"marker\":{\"colorbar\":{\"outlinewidth\":0,\"ticks\":\"\"}},\"type\":\"scatterpolargl\"}],\"scatterternary\":[{\"marker\":{\"colorbar\":{\"outlinewidth\":0,\"ticks\":\"\"}},\"type\":\"scatterternary\"}],\"surface\":[{\"colorbar\":{\"outlinewidth\":0,\"ticks\":\"\"},\"colorscale\":[[0.0,\"#0d0887\"],[0.1111111111111111,\"#46039f\"],[0.2222222222222222,\"#7201a8\"],[0.3333333333333333,\"#9c179e\"],[0.4444444444444444,\"#bd3786\"],[0.5555555555555556,\"#d8576b\"],[0.6666666666666666,\"#ed7953\"],[0.7777777777777778,\"#fb9f3a\"],[0.8888888888888888,\"#fdca26\"],[1.0,\"#f0f921\"]],\"type\":\"surface\"}],\"table\":[{\"cells\":{\"fill\":{\"color\":\"#EBF0F8\"},\"line\":{\"color\":\"white\"}},\"header\":{\"fill\":{\"color\":\"#C8D4E3\"},\"line\":{\"color\":\"white\"}},\"type\":\"table\"}]},\"layout\":{\"annotationdefaults\":{\"arrowcolor\":\"#2a3f5f\",\"arrowhead\":0,\"arrowwidth\":1},\"autotypenumbers\":\"strict\",\"coloraxis\":{\"colorbar\":{\"outlinewidth\":0,\"ticks\":\"\"}},\"colorscale\":{\"diverging\":[[0,\"#8e0152\"],[0.1,\"#c51b7d\"],[0.2,\"#de77ae\"],[0.3,\"#f1b6da\"],[0.4,\"#fde0ef\"],[0.5,\"#f7f7f7\"],[0.6,\"#e6f5d0\"],[0.7,\"#b8e186\"],[0.8,\"#7fbc41\"],[0.9,\"#4d9221\"],[1,\"#276419\"]],\"sequential\":[[0.0,\"#0d0887\"],[0.1111111111111111,\"#46039f\"],[0.2222222222222222,\"#7201a8\"],[0.3333333333333333,\"#9c179e\"],[0.4444444444444444,\"#bd3786\"],[0.5555555555555556,\"#d8576b\"],[0.6666666666666666,\"#ed7953\"],[0.7777777777777778,\"#fb9f3a\"],[0.8888888888888888,\"#fdca26\"],[1.0,\"#f0f921\"]],\"sequentialminus\":[[0.0,\"#0d0887\"],[0.1111111111111111,\"#46039f\"],[0.2222222222222222,\"#7201a8\"],[0.3333333333333333,\"#9c179e\"],[0.4444444444444444,\"#bd3786\"],[0.5555555555555556,\"#d8576b\"],[0.6666666666666666,\"#ed7953\"],[0.7777777777777778,\"#fb9f3a\"],[0.8888888888888888,\"#fdca26\"],[1.0,\"#f0f921\"]]},\"colorway\":[\"#636efa\",\"#EF553B\",\"#00cc96\",\"#ab63fa\",\"#FFA15A\",\"#19d3f3\",\"#FF6692\",\"#B6E880\",\"#FF97FF\",\"#FECB52\"],\"font\":{\"color\":\"#2a3f5f\"},\"geo\":{\"bgcolor\":\"white\",\"lakecolor\":\"white\",\"landcolor\":\"#E5ECF6\",\"showlakes\":true,\"showland\":true,\"subunitcolor\":\"white\"},\"hoverlabel\":{\"align\":\"left\"},\"hovermode\":\"closest\",\"mapbox\":{\"style\":\"light\"},\"paper_bgcolor\":\"white\",\"plot_bgcolor\":\"#E5ECF6\",\"polar\":{\"angularaxis\":{\"gridcolor\":\"white\",\"linecolor\":\"white\",\"ticks\":\"\"},\"bgcolor\":\"#E5ECF6\",\"radialaxis\":{\"gridcolor\":\"white\",\"linecolor\":\"white\",\"ticks\":\"\"}},\"scene\":{\"xaxis\":{\"backgroundcolor\":\"#E5ECF6\",\"gridcolor\":\"white\",\"gridwidth\":2,\"linecolor\":\"white\",\"showbackground\":true,\"ticks\":\"\",\"zerolinecolor\":\"white\"},\"yaxis\":{\"backgroundcolor\":\"#E5ECF6\",\"gridcolor\":\"white\",\"gridwidth\":2,\"linecolor\":\"white\",\"showbackground\":true,\"ticks\":\"\",\"zerolinecolor\":\"white\"},\"zaxis\":{\"backgroundcolor\":\"#E5ECF6\",\"gridcolor\":\"white\",\"gridwidth\":2,\"linecolor\":\"white\",\"showbackground\":true,\"ticks\":\"\",\"zerolinecolor\":\"white\"}},\"shapedefaults\":{\"line\":{\"color\":\"#2a3f5f\"}},\"ternary\":{\"aaxis\":{\"gridcolor\":\"white\",\"linecolor\":\"white\",\"ticks\":\"\"},\"baxis\":{\"gridcolor\":\"white\",\"linecolor\":\"white\",\"ticks\":\"\"},\"bgcolor\":\"#E5ECF6\",\"caxis\":{\"gridcolor\":\"white\",\"linecolor\":\"white\",\"ticks\":\"\"}},\"title\":{\"x\":0.05},\"xaxis\":{\"automargin\":true,\"gridcolor\":\"white\",\"linecolor\":\"white\",\"ticks\":\"\",\"title\":{\"standoff\":15},\"zerolinecolor\":\"white\",\"zerolinewidth\":2},\"yaxis\":{\"automargin\":true,\"gridcolor\":\"white\",\"linecolor\":\"white\",\"ticks\":\"\",\"title\":{\"standoff\":15},\"zerolinecolor\":\"white\",\"zerolinewidth\":2}}},\"xaxis\":{\"anchor\":\"y\",\"domain\":[0.0,1.0],\"title\":{\"text\":\"Time of Day\"}},\"yaxis\":{\"anchor\":\"x\",\"domain\":[0.0,1.0],\"title\":{\"text\":\"Count of Premature Records\"}},\"legend\":{\"title\":{\"text\":\"Bin\"},\"tracegroupgap\":0},\"title\":{\"text\":\"Occurrence of Missing Record Given Time of Day\"}},                        {\"responsive\": true}                    ).then(function(){\n                            \nvar gd = document.getElementById('bd95d3b6-cd2f-4c08-aafa-756bcc6ab2ff');\nvar x = new MutationObserver(function (mutations, observer) {{\n        var display = window.getComputedStyle(gd).display;\n        if (!display || display === 'none') {{\n            console.log([gd, 'removed!']);\n            Plotly.purge(gd);\n            observer.disconnect();\n        }}\n}});\n\n// Listen for the removal of the full notebook cells\nvar notebookContainer = gd.closest('#notebook-container');\nif (notebookContainer) {{\n    x.observe(notebookContainer, {childList: true});\n}}\n\n// Listen for the clearing of the current output cell\nvar outputEl = gd.closest('.output');\nif (outputEl) {{\n    x.observe(outputEl, {childList: true});\n}}\n\n                        })                };                });            </script>        </div>"
     },
     "metadata": {},
     "output_type": "display_data"
    }
   ],
   "source": [
    "fig = px.scatter(binned_count, x=\"Timestamp\", y=\"Timestamp_Delta\", color=\"Bin\", title=\"Occurrence of Missing Record Given Time of Day\", )\n",
    "\n",
    "fig.update_layout(\n",
    "    xaxis_title=\"Time of Day\",\n",
    "    yaxis_title=\"Count of Premature Records\",\n",
    ")\n",
    "\n",
    "fig.show()"
   ],
   "metadata": {
    "collapsed": false,
    "pycharm": {
     "name": "#%%\n"
    }
   }
  },
  {
   "cell_type": "markdown",
   "source": [
    "It was seen that three intervals were larger than 5 minutes, how long (in hours), did the interval last?"
   ],
   "metadata": {
    "collapsed": false
   }
  },
  {
   "cell_type": "code",
   "execution_count": 91,
   "outputs": [
    {
     "data": {
      "text/plain": "375267    72.061389\n388327     1.016667\n511699    15.107222\nName: Timestamp_Delta, dtype: float64"
     },
     "execution_count": 91,
     "metadata": {},
     "output_type": "execute_result"
    }
   ],
   "source": [
    "df_delta[\"Timestamp_Delta\"].loc[(df_delta[\"Timestamp_Delta\"] > 300)] / 60 / 60\n",
    "# Hours of missing data for the three longest periods."
   ],
   "metadata": {
    "collapsed": false,
    "pycharm": {
     "name": "#%%\n"
    }
   }
  },
  {
   "cell_type": "markdown",
   "source": [
    "# Pattern in deltas?"
   ],
   "metadata": {
    "collapsed": false
   }
  },
  {
   "cell_type": "code",
   "execution_count": 92,
   "outputs": [],
   "source": [
    "for row in df_delta.index:\n",
    "    dt = df_delta[\"Timestamp\"][row]\n",
    "    df_delta.at[row, \"Timestamp\"] = pd.Timestamp(year=dt.year, month=dt.month, day=dt.day,\n",
    "                                           hour=dt.hour, minute=dt.minute, second=dt.second)\n",
    "\n",
    "df_delta[\"Timestamp\"] = pd.to_datetime(df_delta[\"Timestamp\"])"
   ],
   "metadata": {
    "collapsed": false,
    "pycharm": {
     "name": "#%%\n"
    }
   }
  },
  {
   "cell_type": "code",
   "execution_count": 93,
   "outputs": [],
   "source": [
    "minus_5 = df_delta[df_delta[\"Bin\"] == pd.Interval(54.0, 59.0, closed='right')]\n",
    "plus_5 = df_delta[df_delta[\"Bin\"] == pd.Interval(60.0, 65.0, closed='right')]"
   ],
   "metadata": {
    "collapsed": false,
    "pycharm": {
     "name": "#%%\n"
    }
   }
  },
  {
   "cell_type": "code",
   "execution_count": 94,
   "outputs": [],
   "source": [
    "minus_5.drop([\"Bin\", \"Timestamp_Delta\"], axis=1, inplace=True)\n",
    "plus_5.drop([\"Bin\", \"Timestamp_Delta\"], axis=1, inplace=True)"
   ],
   "metadata": {
    "collapsed": false,
    "pycharm": {
     "name": "#%%\n"
    }
   }
  },
  {
   "cell_type": "code",
   "execution_count": 95,
   "outputs": [],
   "source": [
    "minus_5.sort_values(\"Timestamp\", inplace=True)\n",
    "plus_5.sort_values(\"Timestamp\", inplace=True)"
   ],
   "metadata": {
    "collapsed": false,
    "pycharm": {
     "name": "#%%\n"
    }
   }
  },
  {
   "cell_type": "code",
   "execution_count": 96,
   "outputs": [],
   "source": [
    "minus_5.reset_index(inplace=True, drop=True)\n",
    "plus_5.reset_index(inplace=True, drop=True)"
   ],
   "metadata": {
    "collapsed": false,
    "pycharm": {
     "name": "#%%\n"
    }
   }
  },
  {
   "cell_type": "code",
   "execution_count": 97,
   "outputs": [
    {
     "data": {
      "text/plain": "               Timestamp  Count\n0    2015-02-01 00:31:49      1\n1    2015-02-01 04:31:49      1\n2    2015-02-01 14:31:48      1\n3    2015-02-02 00:31:41      1\n4    2015-02-02 05:31:41      1\n...                  ...    ...\n1074 2016-01-30 04:31:28      1\n1075 2016-01-30 14:31:27      1\n1076 2016-01-31 00:31:23      1\n1077 2016-01-31 04:01:25      1\n1078 2016-01-31 14:01:24      1\n\n[1079 rows x 2 columns]",
      "text/html": "<div>\n<style scoped>\n    .dataframe tbody tr th:only-of-type {\n        vertical-align: middle;\n    }\n\n    .dataframe tbody tr th {\n        vertical-align: top;\n    }\n\n    .dataframe thead th {\n        text-align: right;\n    }\n</style>\n<table border=\"1\" class=\"dataframe\">\n  <thead>\n    <tr style=\"text-align: right;\">\n      <th></th>\n      <th>Timestamp</th>\n      <th>Count</th>\n    </tr>\n  </thead>\n  <tbody>\n    <tr>\n      <th>0</th>\n      <td>2015-02-01 00:31:49</td>\n      <td>1</td>\n    </tr>\n    <tr>\n      <th>1</th>\n      <td>2015-02-01 04:31:49</td>\n      <td>1</td>\n    </tr>\n    <tr>\n      <th>2</th>\n      <td>2015-02-01 14:31:48</td>\n      <td>1</td>\n    </tr>\n    <tr>\n      <th>3</th>\n      <td>2015-02-02 00:31:41</td>\n      <td>1</td>\n    </tr>\n    <tr>\n      <th>4</th>\n      <td>2015-02-02 05:31:41</td>\n      <td>1</td>\n    </tr>\n    <tr>\n      <th>...</th>\n      <td>...</td>\n      <td>...</td>\n    </tr>\n    <tr>\n      <th>1074</th>\n      <td>2016-01-30 04:31:28</td>\n      <td>1</td>\n    </tr>\n    <tr>\n      <th>1075</th>\n      <td>2016-01-30 14:31:27</td>\n      <td>1</td>\n    </tr>\n    <tr>\n      <th>1076</th>\n      <td>2016-01-31 00:31:23</td>\n      <td>1</td>\n    </tr>\n    <tr>\n      <th>1077</th>\n      <td>2016-01-31 04:01:25</td>\n      <td>1</td>\n    </tr>\n    <tr>\n      <th>1078</th>\n      <td>2016-01-31 14:01:24</td>\n      <td>1</td>\n    </tr>\n  </tbody>\n</table>\n<p>1079 rows × 2 columns</p>\n</div>"
     },
     "execution_count": 97,
     "metadata": {},
     "output_type": "execute_result"
    }
   ],
   "source": [
    "minus_5[\"Count\"] = 1\n",
    "minus_5"
   ],
   "metadata": {
    "collapsed": false,
    "pycharm": {
     "name": "#%%\n"
    }
   }
  },
  {
   "cell_type": "code",
   "execution_count": 98,
   "outputs": [
    {
     "data": {
      "application/vnd.plotly.v1+json": {
       "data": [
        {
         "hovertemplate": "Timestamp=%{x}<br>Count=%{y}<extra></extra>",
         "legendgroup": "",
         "marker": {
          "color": "#636efa",
          "symbol": "circle"
         },
         "mode": "markers",
         "name": "",
         "showlegend": false,
         "x": [
          "2015-02-01T00:31:49",
          "2015-02-01T04:31:49",
          "2015-02-01T14:31:48",
          "2015-02-02T00:31:41",
          "2015-02-02T05:31:41",
          "2015-02-02T15:31:40",
          "2015-02-03T00:31:31",
          "2015-02-03T06:31:31",
          "2015-02-03T17:01:30",
          "2015-02-04T00:31:23",
          "2015-02-04T03:31:23",
          "2015-02-04T14:01:22",
          "2015-02-05T00:31:14",
          "2015-02-05T11:01:14",
          "2015-02-05T20:31:13",
          "2015-02-06T00:31:06",
          "2015-02-06T07:31:06",
          "2015-02-06T17:31:05",
          "2015-02-07T00:32:01",
          "2015-02-07T11:32:00",
          "2015-02-07T21:31:59",
          "2015-02-08T00:31:53",
          "2015-02-08T02:01:53",
          "2015-02-08T13:01:52",
          "2015-02-08T23:01:51",
          "2015-02-09T12:01:45",
          "2015-02-09T22:01:44",
          "2015-02-10T00:31:38",
          "2015-02-10T07:31:38",
          "2015-02-10T17:31:37",
          "2015-02-11T02:31:32",
          "2015-02-11T12:31:31",
          "2015-02-11T22:31:30",
          "2015-02-12T00:31:27",
          "2015-02-12T07:31:27",
          "2015-02-12T18:01:26",
          "2015-02-13T00:31:19",
          "2015-02-13T09:01:19",
          "2015-02-13T18:31:18",
          "2015-02-14T00:31:11",
          "2015-02-14T06:01:11",
          "2015-02-14T16:31:10",
          "2015-02-15T01:03:14",
          "2015-02-15T02:33:14",
          "2015-02-15T12:33:13",
          "2015-02-15T23:03:12",
          "2015-02-16T00:31:05",
          "2015-02-16T11:01:05",
          "2015-02-16T20:31:04",
          "2015-02-17T00:31:58",
          "2015-02-17T03:31:58",
          "2015-02-17T14:01:57",
          "2015-02-18T00:31:50",
          "2015-02-18T02:31:50",
          "2015-02-18T12:01:49",
          "2015-02-18T22:01:48",
          "2015-02-19T00:31:44",
          "2015-02-19T07:01:44",
          "2015-02-19T17:01:43",
          "2015-02-20T00:31:36",
          "2015-02-20T08:01:36",
          "2015-02-20T17:31:35",
          "2015-02-21T01:31:29",
          "2015-02-21T02:31:29",
          "2015-02-21T12:01:28",
          "2015-02-21T22:01:27",
          "2015-02-22T02:01:23",
          "2015-02-22T12:01:22",
          "2015-02-22T21:31:21",
          "2015-02-23T04:31:17",
          "2015-02-23T15:01:16",
          "2015-02-24T00:31:12",
          "2015-02-24T03:01:12",
          "2015-02-24T13:31:11",
          "2015-02-24T23:31:10",
          "2015-02-25T03:01:04",
          "2015-02-25T14:01:03",
          "2015-02-26T00:31:56",
          "2015-02-26T08:31:56",
          "2015-02-26T19:01:55",
          "2015-02-27T00:31:46",
          "2015-02-27T08:31:46",
          "2015-02-27T18:31:45",
          "2015-02-28T02:01:39",
          "2015-02-28T11:31:38",
          "2015-02-28T21:31:37",
          "2015-02-28T22:31:37",
          "2015-03-01T02:31:32",
          "2015-03-01T12:01:31",
          "2015-03-01T22:31:30",
          "2015-03-02T02:31:24",
          "2015-03-02T12:01:23",
          "2015-03-02T13:01:23",
          "2015-03-02T23:01:22",
          "2015-03-03T00:04:16",
          "2015-03-03T00:31:16",
          "2015-03-03T05:31:16",
          "2015-03-03T06:31:16",
          "2015-03-03T16:31:15",
          "2015-03-04T00:04:12",
          "2015-03-04T00:31:12",
          "2015-03-04T07:31:12",
          "2015-03-04T17:01:11",
          "2015-03-05T00:31:03",
          "2015-03-05T05:31:03",
          "2015-03-05T16:01:02",
          "2015-03-06T00:31:57",
          "2015-03-06T08:31:57",
          "2015-03-06T18:01:56",
          "2015-03-07T00:31:49",
          "2015-03-07T05:01:49",
          "2015-03-07T15:01:48",
          "2015-03-07T16:01:48",
          "2015-03-08T00:31:45",
          "2015-03-08T04:01:45",
          "2015-03-08T14:01:44",
          "2015-03-09T00:31:43",
          "2015-03-09T07:31:38",
          "2015-03-09T17:31:37",
          "2015-03-10T03:01:31",
          "2015-03-10T14:01:30",
          "2015-03-11T00:31:23",
          "2015-03-11T05:01:23",
          "2015-03-11T15:01:22",
          "2015-03-12T00:31:16",
          "2015-03-12T11:31:15",
          "2015-03-12T21:31:14",
          "2015-03-13T00:31:07",
          "2015-03-13T10:31:07",
          "2015-03-13T20:31:06",
          "2015-03-14T00:31:59",
          "2015-03-14T05:31:59",
          "2015-03-14T16:31:58",
          "2015-03-15T00:31:51",
          "2015-03-15T08:01:51",
          "2015-03-15T17:31:50",
          "2015-03-16T00:31:46",
          "2015-03-16T02:01:46",
          "2015-03-16T12:01:45",
          "2015-03-16T22:31:44",
          "2015-03-17T00:31:37",
          "2015-03-17T11:31:37",
          "2015-03-17T21:01:36",
          "2015-03-18T00:31:30",
          "2015-03-18T02:31:30",
          "2015-03-18T13:31:29",
          "2015-03-19T00:31:22",
          "2015-03-19T11:01:22",
          "2015-03-19T21:01:21",
          "2015-03-20T02:01:15",
          "2015-03-20T13:01:14",
          "2015-03-21T00:31:07",
          "2015-03-21T06:01:07",
          "2015-03-21T17:01:06",
          "2015-03-22T00:32:01",
          "2015-03-22T10:02:01",
          "2015-03-22T19:32:00",
          "2015-03-23T00:31:54",
          "2015-03-23T07:31:54",
          "2015-03-23T18:31:53",
          "2015-03-24T05:31:46",
          "2015-03-24T06:31:46",
          "2015-03-24T17:01:45",
          "2015-03-25T00:31:38",
          "2015-03-25T11:01:38",
          "2015-03-25T21:01:37",
          "2015-03-26T00:31:32",
          "2015-03-26T03:31:32",
          "2015-03-26T15:31:31",
          "2015-03-27T00:31:24",
          "2015-03-27T02:01:24",
          "2015-03-27T12:31:23",
          "2015-03-28T00:31:16",
          "2015-03-28T03:31:16",
          "2015-03-28T14:01:15",
          "2015-03-28T15:31:15",
          "2015-03-29T00:31:10",
          "2015-03-29T05:31:10",
          "2015-03-29T17:01:09",
          "2015-03-30T00:31:05",
          "2015-03-30T11:01:05",
          "2015-03-30T22:01:04",
          "2015-03-31T03:31:58",
          "2015-03-31T15:31:57",
          "2015-04-01T00:31:48",
          "2015-04-01T08:01:48",
          "2015-04-01T18:31:47",
          "2015-04-02T00:31:40",
          "2015-04-02T10:01:40",
          "2015-04-02T20:31:39",
          "2015-04-02T21:31:39",
          "2015-04-03T08:01:35",
          "2015-04-03T18:01:34",
          "2015-04-04T00:31:27",
          "2015-04-04T10:01:27",
          "2015-04-04T20:01:26",
          "2015-04-05T00:31:19",
          "2015-04-05T09:01:19",
          "2015-04-05T19:31:18",
          "2015-04-06T00:31:11",
          "2015-04-06T11:01:11",
          "2015-04-06T21:31:10",
          "2015-04-07T00:31:04",
          "2015-04-07T04:01:04",
          "2015-04-07T15:01:03",
          "2015-04-08T00:31:56",
          "2015-04-08T12:01:55",
          "2015-04-09T00:31:48",
          "2015-04-09T10:31:48",
          "2015-04-09T11:31:48",
          "2015-04-09T22:01:47",
          "2015-04-09T23:01:47",
          "2015-04-10T00:31:41",
          "2015-04-10T05:31:41",
          "2015-04-10T17:31:40",
          "2015-04-11T00:31:33",
          "2015-04-11T09:01:33",
          "2015-04-11T19:01:32",
          "2015-04-12T11:31:26",
          "2015-04-12T12:31:26",
          "2015-04-12T23:01:25",
          "2015-04-13T00:04:20",
          "2015-04-13T00:31:20",
          "2015-04-13T11:31:20",
          "2015-04-13T23:01:19",
          "2015-04-14T02:31:15",
          "2015-04-14T14:01:14",
          "2015-04-15T00:31:08",
          "2015-04-15T07:31:08",
          "2015-04-15T18:31:07",
          "2015-04-16T00:31:58",
          "2015-04-16T11:31:58",
          "2015-04-16T23:01:57",
          "2015-04-17T00:31:51",
          "2015-04-17T09:31:51",
          "2015-04-17T20:31:50",
          "2015-04-18T00:31:43",
          "2015-04-18T10:31:43",
          "2015-04-18T21:01:42",
          "2015-04-19T03:03:48",
          "2015-04-19T14:33:47",
          "2015-04-20T00:31:42",
          "2015-04-20T01:31:43",
          "2015-04-20T12:01:42",
          "2015-04-21T00:31:35",
          "2015-04-21T11:01:35",
          "2015-04-21T22:31:34",
          "2015-04-21T23:31:34",
          "2015-04-22T07:01:28",
          "2015-04-22T18:31:27",
          "2015-04-23T02:33:32",
          "2015-04-23T14:33:31",
          "2015-04-24T03:01:25",
          "2015-04-24T14:31:24",
          "2015-04-25T00:31:17",
          "2015-04-25T10:01:17",
          "2015-04-25T22:01:16",
          "2015-04-26T06:01:10",
          "2015-04-26T16:31:09",
          "2015-04-27T01:04:13",
          "2015-04-27T07:04:13",
          "2015-04-27T08:04:13",
          "2015-04-27T18:04:12",
          "2015-04-28T00:31:05",
          "2015-04-28T07:01:05",
          "2015-04-28T18:01:04",
          "2015-04-29T00:31:59",
          "2015-04-29T01:31:59",
          "2015-04-29T13:31:58",
          "2015-04-29T23:31:57",
          "2015-04-30T00:31:52",
          "2015-04-30T11:01:52",
          "2015-04-30T22:01:51",
          "2015-05-01T00:31:44",
          "2015-05-01T10:31:44",
          "2015-05-01T21:31:43",
          "2015-05-02T00:31:36",
          "2015-05-02T10:31:36",
          "2015-05-02T21:31:35",
          "2015-05-03T00:31:29",
          "2015-05-03T07:01:29",
          "2015-05-03T17:01:28",
          "2015-05-04T00:31:21",
          "2015-05-04T06:31:21",
          "2015-05-04T17:31:20",
          "2015-05-05T00:31:13",
          "2015-05-05T09:31:13",
          "2015-05-05T20:31:12",
          "2015-05-06T00:31:05",
          "2015-05-06T10:31:05",
          "2015-05-06T22:01:04",
          "2015-05-07T00:31:57",
          "2015-05-07T08:01:57",
          "2015-05-07T19:31:56",
          "2015-05-08T00:31:49",
          "2015-05-08T11:01:49",
          "2015-05-08T23:01:48",
          "2015-05-09T02:31:45",
          "2015-05-09T14:01:44",
          "2015-05-10T00:31:37",
          "2015-05-10T09:31:37",
          "2015-05-10T21:01:36",
          "2015-05-11T02:31:32",
          "2015-05-11T13:31:31",
          "2015-05-12T00:31:24",
          "2015-05-12T02:31:24",
          "2015-05-12T13:31:23",
          "2015-05-13T00:31:16",
          "2015-05-13T04:01:16",
          "2015-05-13T15:31:15",
          "2015-05-14T00:31:09",
          "2015-05-14T07:31:09",
          "2015-05-14T18:31:08",
          "2015-05-15T00:32:01",
          "2015-05-15T08:02:01",
          "2015-05-15T19:02:00",
          "2015-05-16T00:31:53",
          "2015-05-16T11:01:53",
          "2015-05-16T22:31:52",
          "2015-05-17T02:01:47",
          "2015-05-17T13:01:46",
          "2015-05-18T00:31:38",
          "2015-05-18T10:01:38",
          "2015-05-18T22:01:37",
          "2015-05-19T00:31:30",
          "2015-05-19T07:01:30",
          "2015-05-19T18:31:29",
          "2015-05-20T00:31:22",
          "2015-05-20T07:01:22",
          "2015-05-20T17:31:21",
          "2015-05-21T04:01:15",
          "2015-05-21T15:01:14",
          "2015-05-22T00:31:07",
          "2015-05-22T06:31:07",
          "2015-05-22T16:31:06",
          "2015-05-22T17:31:06",
          "2015-05-23T02:32:00",
          "2015-05-23T13:01:59",
          "2015-05-24T00:31:50",
          "2015-05-24T04:01:50",
          "2015-05-24T14:31:49",
          "2015-05-25T00:31:42",
          "2015-05-25T03:31:42",
          "2015-05-25T14:31:41",
          "2015-05-26T00:31:34",
          "2015-05-26T04:31:34",
          "2015-05-26T15:31:33",
          "2015-05-27T00:31:29",
          "2015-05-27T06:31:29",
          "2015-05-27T17:31:28",
          "2015-05-28T00:31:21",
          "2015-05-28T09:31:21",
          "2015-05-28T21:01:20",
          "2015-05-29T04:01:14",
          "2015-05-29T14:31:13",
          "2015-05-30T00:31:07",
          "2015-05-30T06:01:07",
          "2015-05-30T16:31:06",
          "2015-05-31T13:01:59",
          "2015-06-01T00:31:52",
          "2015-06-01T04:01:52",
          "2015-06-01T15:01:51",
          "2015-06-02T00:31:44",
          "2015-06-02T05:31:44",
          "2015-06-02T16:31:43",
          "2015-06-03T00:31:36",
          "2015-06-03T06:01:36",
          "2015-06-03T17:31:35",
          "2015-06-04T00:31:28",
          "2015-06-04T08:01:28",
          "2015-06-04T19:31:27",
          "2015-06-05T00:31:20",
          "2015-06-05T08:01:20",
          "2015-06-05T19:31:19",
          "2015-06-06T12:01:14",
          "2015-06-06T23:01:13",
          "2015-06-07T00:31:07",
          "2015-06-07T12:31:07",
          "2015-06-08T05:02:00",
          "2015-06-08T16:31:59",
          "2015-06-09T00:31:52",
          "2015-06-09T11:01:52",
          "2015-06-09T22:01:51",
          "2015-06-10T00:31:45",
          "2015-06-10T06:01:45",
          "2015-06-10T17:31:44",
          "2015-06-11T00:31:38",
          "2015-06-11T05:01:38",
          "2015-06-11T15:31:37",
          "2015-06-12T00:31:32",
          "2015-06-12T04:01:32",
          "2015-06-12T15:01:31",
          "2015-06-13T00:31:27",
          "2015-06-13T07:01:27",
          "2015-06-13T18:31:26",
          "2015-06-14T00:31:20",
          "2015-06-14T05:01:20",
          "2015-06-14T16:31:19",
          "2015-06-15T00:31:15",
          "2015-06-15T03:01:15",
          "2015-06-15T14:01:14",
          "2015-06-16T00:31:09",
          "2015-06-16T11:01:09",
          "2015-06-16T21:31:08",
          "2015-06-17T06:01:04",
          "2015-06-17T17:01:03",
          "2015-06-18T00:31:57",
          "2015-06-18T03:31:57",
          "2015-06-18T15:01:56",
          "2015-06-19T00:31:50",
          "2015-06-19T06:31:50",
          "2015-06-19T18:01:49",
          "2015-06-20T00:31:42",
          "2015-06-20T05:31:42",
          "2015-06-20T16:31:41",
          "2015-06-21T00:31:37",
          "2015-06-21T09:01:37",
          "2015-06-21T20:01:36",
          "2015-06-22T00:31:29",
          "2015-06-22T12:01:29",
          "2015-06-22T23:31:28",
          "2015-06-23T00:31:22",
          "2015-06-23T06:01:22",
          "2015-06-23T16:31:21",
          "2015-06-24T00:31:17",
          "2015-06-24T04:01:17",
          "2015-06-24T14:01:16",
          "2015-06-24T15:50:27",
          "2015-06-24T19:50:27",
          "2015-06-25T00:31:23",
          "2015-06-25T07:31:23",
          "2015-06-25T18:01:22",
          "2015-06-26T00:31:15",
          "2015-06-26T08:31:15",
          "2015-06-26T19:31:14",
          "2015-06-27T03:01:10",
          "2015-06-27T13:01:09",
          "2015-06-28T00:32:02",
          "2015-06-28T04:02:02",
          "2015-06-28T15:02:01",
          "2015-06-29T00:31:56",
          "2015-06-29T05:01:56",
          "2015-06-29T16:01:55",
          "2015-06-30T00:31:48",
          "2015-06-30T08:01:48",
          "2015-06-30T19:01:47",
          "2015-06-30T20:01:46",
          "2015-07-01T00:31:40",
          "2015-07-01T11:01:40",
          "2015-07-01T21:01:39",
          "2015-07-02T00:31:32",
          "2015-07-02T07:01:32",
          "2015-07-02T18:31:31",
          "2015-07-03T00:31:24",
          "2015-07-03T07:01:24",
          "2015-07-03T17:31:23",
          "2015-07-04T00:31:16",
          "2015-07-04T03:31:16",
          "2015-07-04T14:01:15",
          "2015-07-05T00:31:09",
          "2015-07-05T05:31:09",
          "2015-07-05T16:31:08",
          "2015-07-06T00:31:59",
          "2015-07-06T04:01:59",
          "2015-07-06T15:31:58",
          "2015-07-07T00:31:51",
          "2015-07-07T03:31:51",
          "2015-07-07T15:01:50",
          "2015-07-08T00:31:43",
          "2015-07-08T03:01:43",
          "2015-07-08T13:31:42",
          "2015-07-09T00:31:35",
          "2015-07-09T08:31:35",
          "2015-07-09T19:01:34",
          "2015-07-09T19:59:45",
          "2015-07-10T00:31:41",
          "2015-07-10T08:31:41",
          "2015-07-10T20:01:40",
          "2015-07-11T00:31:34",
          "2015-07-11T05:01:34",
          "2015-07-11T16:01:33",
          "2015-07-12T00:31:28",
          "2015-07-12T08:31:28",
          "2015-07-12T19:31:27",
          "2015-07-13T00:31:20",
          "2015-07-13T08:31:20",
          "2015-07-13T18:31:19",
          "2015-07-13T19:31:19",
          "2015-07-14T00:31:14",
          "2015-07-14T08:31:14",
          "2015-07-14T18:31:13",
          "2015-07-14T19:31:13",
          "2015-07-15T00:31:06",
          "2015-07-15T07:01:06",
          "2015-07-15T18:01:05",
          "2015-07-16T00:31:58",
          "2015-07-16T09:31:58",
          "2015-07-16T21:01:57",
          "2015-07-17T06:01:51",
          "2015-07-17T17:01:50",
          "2015-07-17T18:01:50",
          "2015-07-18T00:31:43",
          "2015-07-18T06:31:43",
          "2015-07-18T18:01:42",
          "2015-07-19T00:31:35",
          "2015-07-19T09:01:35",
          "2015-07-19T20:01:34",
          "2015-07-20T08:01:30",
          "2015-07-20T18:01:29",
          "2015-07-21T00:31:21",
          "2015-07-21T07:31:21",
          "2015-07-21T18:01:20",
          "2015-07-22T00:31:13",
          "2015-07-22T08:31:13",
          "2015-07-22T19:31:12",
          "2015-07-23T00:31:05",
          "2015-07-23T07:31:05",
          "2015-07-23T18:01:04",
          "2015-07-23T19:01:04",
          "2015-07-24T02:31:58",
          "2015-07-24T13:31:57",
          "2015-07-25T00:31:51",
          "2015-07-25T10:31:51",
          "2015-07-25T21:31:50",
          "2015-07-25T22:31:50",
          "2015-07-26T00:31:43",
          "2015-07-26T07:31:43",
          "2015-07-26T19:01:42",
          "2015-07-27T00:31:35",
          "2015-07-27T07:31:35",
          "2015-07-27T19:31:34",
          "2015-07-28T00:31:27",
          "2015-07-28T10:01:27",
          "2015-07-28T21:01:26",
          "2015-07-29T02:01:20",
          "2015-07-29T13:31:19",
          "2015-07-30T00:31:12",
          "2015-07-30T02:31:12",
          "2015-07-30T13:31:11",
          "2015-07-31T00:31:04",
          "2015-07-31T04:01:04",
          "2015-07-31T05:01:04",
          "2015-07-31T17:01:03",
          "2015-08-01T00:31:56",
          "2015-08-01T09:31:56",
          "2015-08-01T20:01:55",
          "2015-08-02T00:31:48",
          "2015-08-02T11:31:48",
          "2015-08-02T22:31:47",
          "2015-08-03T07:01:41",
          "2015-08-03T18:31:40",
          "2015-08-04T00:31:36",
          "2015-08-04T09:31:36",
          "2015-08-04T20:31:35",
          "2015-08-05T00:31:28",
          "2015-08-05T05:01:28",
          "2015-08-05T17:01:27",
          "2015-08-06T00:31:20",
          "2015-08-06T11:01:20",
          "2015-08-06T22:01:19",
          "2015-08-07T02:31:13",
          "2015-08-07T13:31:12",
          "2015-08-08T00:31:04",
          "2015-08-08T10:01:04",
          "2015-08-08T20:31:03",
          "2015-08-09T00:31:59",
          "2015-08-09T04:01:59",
          "2015-08-09T16:01:58",
          "2015-08-10T11:01:53",
          "2015-08-10T22:31:52",
          "2015-08-11T09:01:46",
          "2015-08-11T19:31:45",
          "2015-08-12T00:31:39",
          "2015-08-12T07:01:39",
          "2015-08-12T18:01:38",
          "2015-08-13T00:31:35",
          "2015-08-13T03:01:35",
          "2015-08-13T14:01:34",
          "2015-08-14T00:31:27",
          "2015-08-14T09:01:27",
          "2015-08-14T20:01:26",
          "2015-08-15T00:31:19",
          "2015-08-15T10:01:19",
          "2015-08-15T21:01:18",
          "2015-08-16T10:01:11",
          "2015-08-16T22:01:10",
          "2015-08-17T00:31:06",
          "2015-08-17T10:31:06",
          "2015-08-17T21:31:05",
          "2015-08-18T00:31:58",
          "2015-08-18T08:31:58",
          "2015-08-18T19:31:57",
          "2015-08-19T01:31:54",
          "2015-08-19T12:31:53",
          "2015-08-20T00:31:43",
          "2015-08-20T11:31:43",
          "2015-08-20T22:31:42",
          "2015-08-21T00:31:35",
          "2015-08-21T10:31:35",
          "2015-08-21T22:31:34",
          "2015-08-22T04:31:30",
          "2015-08-22T15:31:29",
          "2015-08-23T00:31:22",
          "2015-08-23T05:31:22",
          "2015-08-23T17:31:21",
          "2015-08-24T00:31:14",
          "2015-08-24T11:31:14",
          "2015-08-24T22:31:13",
          "2015-08-25T00:31:10",
          "2015-08-25T09:31:10",
          "2015-08-25T21:01:09",
          "2015-08-26T02:01:04",
          "2015-08-26T13:31:03",
          "2015-08-27T00:31:59",
          "2015-08-27T08:01:59",
          "2015-08-27T19:31:58",
          "2015-08-28T00:31:55",
          "2015-08-28T10:01:55",
          "2015-08-28T21:01:54",
          "2015-08-29T03:03:57",
          "2015-08-29T15:33:56",
          "2015-08-30T00:31:52",
          "2015-08-30T08:31:52",
          "2015-08-30T09:31:52",
          "2015-08-30T20:31:51",
          "2015-08-31T00:31:44",
          "2015-08-31T08:01:44",
          "2015-08-31T19:01:43",
          "2015-09-01T02:01:41",
          "2015-09-01T13:01:40",
          "2015-09-01T23:31:39",
          "2015-09-02T08:31:35",
          "2015-09-02T20:01:34",
          "2015-09-03T00:31:28",
          "2015-09-03T04:01:28",
          "2015-09-03T15:01:27",
          "2015-09-03T16:01:27",
          "2015-09-04T00:31:21",
          "2015-09-04T11:01:21",
          "2015-09-04T22:31:20",
          "2015-09-05T00:31:16",
          "2015-09-05T11:31:16",
          "2015-09-05T23:01:15",
          "2015-09-06T07:33:20",
          "2015-09-06T19:03:19",
          "2015-09-07T00:31:10",
          "2015-09-07T10:31:10",
          "2015-09-07T22:01:09",
          "2015-09-08T00:31:02",
          "2015-09-08T09:31:02",
          "2015-09-08T22:01:01",
          "2015-09-09T12:01:54",
          "2015-09-09T23:31:53",
          "2015-09-10T01:31:47",
          "2015-09-10T12:31:46",
          "2015-09-10T23:31:45",
          "2015-09-11T03:31:39",
          "2015-09-11T14:31:38",
          "2015-09-12T00:31:31",
          "2015-09-12T05:31:31",
          "2015-09-12T16:31:30",
          "2015-09-13T00:31:23",
          "2015-09-13T10:01:23",
          "2015-09-13T21:01:22",
          "2015-09-14T00:31:15",
          "2015-09-14T10:01:15",
          "2015-09-14T22:01:14",
          "2015-09-15T00:05:08",
          "2015-09-15T00:31:08",
          "2015-09-15T06:01:08",
          "2015-09-15T17:01:07",
          "2015-09-16T00:32:03",
          "2015-09-16T10:32:03",
          "2015-09-16T22:02:02",
          "2015-09-17T06:31:56",
          "2015-09-17T17:01:55",
          "2015-09-18T00:31:51",
          "2015-09-18T07:31:51",
          "2015-09-18T19:01:50",
          "2015-09-19T12:31:43",
          "2015-09-19T13:31:43",
          "2015-09-19T23:31:42",
          "2015-09-20T03:01:37",
          "2015-09-20T14:01:36",
          "2015-09-21T00:31:32",
          "2015-09-21T01:31:32",
          "2015-09-21T13:31:31",
          "2015-09-21T23:31:30",
          "2015-09-22T02:31:24",
          "2015-09-22T14:01:23",
          "2015-09-23T00:31:16",
          "2015-09-23T04:01:16",
          "2015-09-23T15:31:15",
          "2015-09-24T00:31:08",
          "2015-09-24T07:31:08",
          "2015-09-24T18:31:07",
          "2015-09-25T00:32:00",
          "2015-09-25T07:32:00",
          "2015-09-25T18:31:59",
          "2015-09-26T00:31:52",
          "2015-09-26T06:31:52",
          "2015-09-26T18:01:51",
          "2015-09-27T00:31:44",
          "2015-09-27T09:31:44",
          "2015-09-27T21:31:43",
          "2015-09-28T00:31:36",
          "2015-09-28T07:31:36",
          "2015-09-28T18:31:35",
          "2015-09-29T00:31:28",
          "2015-09-29T07:01:28",
          "2015-09-29T18:31:27",
          "2015-09-30T00:31:20",
          "2015-09-30T11:31:20",
          "2015-09-30T21:31:19",
          "2015-10-01T05:31:13",
          "2015-10-01T17:31:12",
          "2015-10-02T00:31:06",
          "2015-10-02T05:31:06",
          "2015-10-02T16:31:05",
          "2015-10-03T02:32:01",
          "2015-10-03T13:02:00",
          "2015-10-03T23:31:59",
          "2015-10-04T05:01:51",
          "2015-10-04T16:01:50",
          "2015-10-05T05:01:47",
          "2015-10-05T15:31:46",
          "2015-10-06T00:31:39",
          "2015-10-06T10:31:39",
          "2015-10-06T23:01:38",
          "2015-10-07T06:01:32",
          "2015-10-07T16:31:31",
          "2015-10-08T00:31:25",
          "2015-10-08T04:31:25",
          "2015-10-08T15:31:24",
          "2015-10-09T00:31:19",
          "2015-10-09T09:31:19",
          "2015-10-09T20:31:18",
          "2015-10-10T01:03:23",
          "2015-10-10T12:03:22",
          "2015-10-10T23:03:21",
          "2015-10-11T07:31:15",
          "2015-10-11T19:01:14",
          "2015-10-12T00:31:07",
          "2015-10-12T08:31:07",
          "2015-10-12T19:01:06",
          "2015-10-13T00:32:00",
          "2015-10-13T06:32:00",
          "2015-10-13T17:31:59",
          "2015-10-14T00:31:54",
          "2015-10-14T10:01:54",
          "2015-10-14T21:01:53",
          "2015-10-15T01:31:47",
          "2015-10-15T12:01:46",
          "2015-10-15T23:01:45",
          "2015-10-16T03:31:39",
          "2015-10-16T14:01:38",
          "2015-10-17T00:31:31",
          "2015-10-17T02:31:31",
          "2015-10-17T13:31:30",
          "2015-10-18T00:31:23",
          "2015-10-18T02:01:23",
          "2015-10-18T13:01:22",
          "2015-10-18T23:31:21",
          "2015-10-19T00:31:14",
          "2015-10-19T11:31:14",
          "2015-10-19T22:01:13",
          "2015-10-23T00:31:51",
          "2015-10-23T04:01:53",
          "2015-10-23T15:01:52",
          "2015-10-24T00:31:44",
          "2015-10-24T09:31:46",
          "2015-10-24T20:31:45",
          "2015-10-25T00:31:38",
          "2015-10-25T05:31:40",
          "2015-10-25T16:31:39",
          "2015-10-26T00:31:34",
          "2015-10-26T08:01:36",
          "2015-10-26T20:01:35",
          "2015-10-27T00:31:31",
          "2015-10-27T07:01:33",
          "2015-10-27T18:01:32",
          "2015-10-28T00:31:27",
          "2015-10-28T02:01:29",
          "2015-10-28T14:01:28",
          "2015-10-29T00:31:23",
          "2015-10-29T07:31:25",
          "2015-10-29T19:01:24",
          "2015-10-30T00:31:17",
          "2015-10-30T04:31:19",
          "2015-10-30T16:01:18",
          "2015-10-31T00:31:16",
          "2015-10-31T03:31:18",
          "2015-10-31T15:01:17",
          "2015-11-01T00:31:10",
          "2015-11-01T04:01:12",
          "2015-11-01T15:31:11",
          "2015-11-01T23:31:07",
          "2015-11-02T00:32:08",
          "2015-11-02T02:32:10",
          "2015-11-02T13:32:09",
          "2015-11-03T00:31:07",
          "2015-11-03T06:31:09",
          "2015-11-03T18:01:08",
          "2015-11-04T00:32:02",
          "2015-11-04T01:32:04",
          "2015-11-04T12:32:03",
          "2015-11-05T00:31:59",
          "2015-11-05T02:02:01",
          "2015-11-05T13:32:00",
          "2015-11-06T00:31:54",
          "2015-11-06T05:31:56",
          "2015-11-06T16:31:55",
          "2015-11-07T00:31:51",
          "2015-11-07T11:01:53",
          "2015-11-07T21:31:52",
          "2015-11-08T00:31:51",
          "2015-11-08T02:01:53",
          "2015-11-08T13:31:52",
          "2015-11-09T00:31:50",
          "2015-11-09T02:31:52",
          "2015-11-09T14:01:51",
          "2015-11-10T00:31:50",
          "2015-11-10T06:01:52",
          "2015-11-10T17:31:51",
          "2015-11-11T00:31:49",
          "2015-11-11T08:31:51",
          "2015-11-11T19:01:50",
          "2015-11-12T00:31:47",
          "2015-11-12T08:31:49",
          "2015-11-12T20:01:48",
          "2015-11-13T00:31:44",
          "2015-11-13T01:31:46",
          "2015-11-13T12:01:45",
          "2015-11-13T23:31:44",
          "2015-11-14T00:31:40",
          "2015-11-14T04:31:42",
          "2015-11-14T15:31:41",
          "2015-11-15T00:31:39",
          "2015-11-15T02:01:41",
          "2015-11-15T14:01:40",
          "2015-11-16T00:31:38",
          "2015-11-16T03:01:40",
          "2015-11-16T14:31:39",
          "2015-11-17T00:31:34",
          "2015-11-17T05:31:36",
          "2015-11-17T06:31:36",
          "2015-11-17T17:31:35",
          "2015-11-18T00:31:33",
          "2015-11-18T08:31:35",
          "2015-11-18T19:31:34",
          "2015-11-19T00:31:33",
          "2015-11-19T07:01:35",
          "2015-11-19T18:01:34",
          "2015-11-20T00:31:29",
          "2015-11-20T05:31:31",
          "2015-11-20T17:01:30",
          "2015-11-21T00:31:26",
          "2015-11-21T05:31:28",
          "2015-11-21T16:31:27",
          "2015-11-22T00:31:23",
          "2015-11-22T02:31:25",
          "2015-11-22T14:31:24",
          "2015-11-23T00:31:17",
          "2015-11-23T07:01:19",
          "2015-11-23T08:01:19",
          "2015-11-23T19:01:18",
          "2015-11-24T00:31:15",
          "2015-11-24T10:01:17",
          "2015-11-24T21:31:16",
          "2015-11-25T00:31:09",
          "2015-11-25T08:31:11",
          "2015-11-25T19:01:10",
          "2015-11-26T00:31:07",
          "2015-11-26T04:01:09",
          "2015-11-26T15:01:08",
          "2015-11-27T00:32:00",
          "2015-11-27T09:02:02",
          "2015-11-27T19:02:01",
          "2015-11-28T00:31:56",
          "2015-11-28T08:01:58",
          "2015-11-28T19:01:57",
          "2015-11-29T00:31:52",
          "2015-11-29T04:01:54",
          "2015-11-29T15:31:53",
          "2015-11-30T00:31:53",
          "2015-11-30T04:01:55",
          "2015-11-30T15:31:54",
          "2015-12-01T00:31:54",
          "2015-12-01T06:31:56",
          "2015-12-01T17:31:55",
          "2015-12-02T00:31:49",
          "2015-12-02T02:31:51",
          "2015-12-02T13:31:50",
          "2015-12-03T00:31:46",
          "2015-12-03T02:01:48",
          "2015-12-03T12:31:47",
          "2015-12-03T22:31:46",
          "2015-12-04T00:31:43",
          "2015-12-04T07:31:45",
          "2015-12-04T09:01:45",
          "2015-12-04T18:31:44",
          "2015-12-05T00:31:45",
          "2015-12-05T06:01:47",
          "2015-12-05T17:01:46",
          "2015-12-06T00:31:44",
          "2015-12-06T02:01:46",
          "2015-12-06T13:01:45",
          "2015-12-07T00:31:45",
          "2015-12-07T02:31:47",
          "2015-12-07T13:01:46",
          "2015-12-08T00:31:43",
          "2015-12-08T09:01:45",
          "2015-12-08T18:31:44",
          "2015-12-09T00:31:40",
          "2015-12-09T09:01:42",
          "2015-12-09T21:01:41",
          "2015-12-10T00:31:42",
          "2015-12-10T07:01:44",
          "2015-12-10T17:01:43",
          "2015-12-11T00:31:41",
          "2015-12-11T07:31:43",
          "2015-12-11T18:01:42",
          "2015-12-12T00:31:36",
          "2015-12-12T03:01:38",
          "2015-12-12T13:01:37",
          "2015-12-12T23:31:36",
          "2015-12-13T00:31:35",
          "2015-12-13T05:31:37",
          "2015-12-13T15:31:36",
          "2015-12-14T00:31:33",
          "2015-12-14T11:01:35",
          "2015-12-14T21:01:34",
          "2015-12-15T00:31:30",
          "2015-12-15T06:31:32",
          "2015-12-15T16:31:31",
          "2015-12-16T00:31:26",
          "2015-12-16T10:31:28",
          "2015-12-16T21:31:27",
          "2015-12-17T00:31:24",
          "2015-12-17T03:01:26",
          "2015-12-17T14:31:25",
          "2015-12-18T00:31:17",
          "2015-12-18T05:31:19",
          "2015-12-18T17:31:18",
          "2015-12-19T00:31:16",
          "2015-12-19T07:01:18",
          "2015-12-19T17:31:17",
          "2015-12-20T00:31:12",
          "2015-12-20T03:01:14",
          "2015-12-20T14:01:13",
          "2015-12-21T00:31:08",
          "2015-12-21T11:31:10",
          "2015-12-21T22:01:09",
          "2015-12-22T00:31:02",
          "2015-12-22T11:31:04",
          "2015-12-22T22:01:03",
          "2015-12-23T00:31:56",
          "2015-12-23T11:01:58",
          "2015-12-23T12:01:58",
          "2015-12-23T22:01:57",
          "2015-12-24T00:31:55",
          "2015-12-24T07:31:57",
          "2015-12-24T17:01:56",
          "2015-12-25T00:31:53",
          "2015-12-25T08:01:55",
          "2015-12-25T18:31:54",
          "2015-12-26T00:31:49",
          "2015-12-26T09:01:51",
          "2015-12-26T20:01:50",
          "2015-12-27T00:31:44",
          "2015-12-27T09:01:46",
          "2015-12-27T20:01:45",
          "2015-12-28T00:31:44",
          "2015-12-28T02:31:46",
          "2015-12-28T14:01:45",
          "2015-12-29T00:31:43",
          "2015-12-29T08:31:45",
          "2015-12-29T20:01:44",
          "2015-12-30T00:31:42",
          "2015-12-30T09:31:44",
          "2015-12-30T20:31:43",
          "2015-12-31T00:31:38",
          "2015-12-31T09:01:40",
          "2015-12-31T19:31:39",
          "2016-01-01T00:31:35",
          "2016-01-01T05:01:37",
          "2016-01-01T16:01:36",
          "2016-01-02T00:31:32",
          "2016-01-02T06:01:34",
          "2016-01-02T16:31:33",
          "2016-01-03T00:31:26",
          "2016-01-03T11:31:28",
          "2016-01-03T22:01:27",
          "2016-01-04T00:31:25",
          "2016-01-04T08:31:27",
          "2016-01-04T19:31:26",
          "2016-01-05T00:31:21",
          "2016-01-05T08:31:23",
          "2016-01-05T18:31:22",
          "2016-01-05T19:31:22",
          "2016-01-06T00:31:15",
          "2016-01-06T07:31:17",
          "2016-01-06T18:31:16",
          "2016-01-07T00:31:12",
          "2016-01-07T07:01:14",
          "2016-01-07T18:31:13",
          "2016-01-08T00:31:06",
          "2016-01-08T06:31:08",
          "2016-01-08T17:31:07",
          "2016-01-09T00:32:00",
          "2016-01-09T03:32:02",
          "2016-01-09T14:02:01",
          "2016-01-10T00:31:59",
          "2016-01-10T02:32:01",
          "2016-01-10T13:02:00",
          "2016-01-10T23:31:59",
          "2016-01-11T00:31:56",
          "2016-01-11T11:31:57",
          "2016-01-11T22:31:56",
          "2016-01-12T00:31:52",
          "2016-01-12T06:31:54",
          "2016-01-12T17:01:53",
          "2016-01-13T00:31:47",
          "2016-01-13T11:01:49",
          "2016-01-13T21:31:48",
          "2016-01-14T00:31:43",
          "2016-01-14T04:31:45",
          "2016-01-14T14:31:44",
          "2016-01-15T00:31:41",
          "2016-01-15T08:01:43",
          "2016-01-15T18:01:42",
          "2016-01-16T00:04:42",
          "2016-01-16T00:31:40",
          "2016-01-16T07:31:42",
          "2016-01-16T17:01:41",
          "2016-01-17T00:31:39",
          "2016-01-17T02:31:41",
          "2016-01-17T13:31:40",
          "2016-01-17T23:31:39",
          "2016-01-18T00:31:36",
          "2016-01-18T06:01:38",
          "2016-01-18T17:01:37",
          "2016-01-19T00:31:35",
          "2016-01-19T08:01:37",
          "2016-01-19T19:01:36",
          "2016-01-20T00:31:34",
          "2016-01-20T09:31:36",
          "2016-01-20T19:01:35",
          "2016-01-21T00:31:31",
          "2016-01-21T06:01:33",
          "2016-01-21T15:31:32",
          "2016-01-22T00:31:27",
          "2016-01-22T07:31:29",
          "2016-01-22T18:01:28",
          "2016-01-23T00:31:22",
          "2016-01-23T04:31:24",
          "2016-01-23T15:01:23",
          "2016-01-24T00:31:22",
          "2016-01-24T02:31:24",
          "2016-01-24T13:31:23",
          "2016-01-25T00:31:19",
          "2016-01-25T12:31:20",
          "2016-01-26T12:34:41",
          "2016-01-26T19:34:43",
          "2016-01-27T00:31:38",
          "2016-01-27T10:01:40",
          "2016-01-27T20:31:39",
          "2016-01-28T00:31:32",
          "2016-01-28T05:01:34",
          "2016-01-28T15:01:33",
          "2016-01-29T00:31:31",
          "2016-01-29T05:31:33",
          "2016-01-29T14:31:32",
          "2016-01-30T00:31:26",
          "2016-01-30T04:31:28",
          "2016-01-30T14:31:27",
          "2016-01-31T00:31:23",
          "2016-01-31T04:01:25",
          "2016-01-31T14:01:24"
         ],
         "xaxis": "x",
         "y": [
          1,
          1,
          1,
          1,
          1,
          1,
          1,
          1,
          1,
          1,
          1,
          1,
          1,
          1,
          1,
          1,
          1,
          1,
          1,
          1,
          1,
          1,
          1,
          1,
          1,
          1,
          1,
          1,
          1,
          1,
          1,
          1,
          1,
          1,
          1,
          1,
          1,
          1,
          1,
          1,
          1,
          1,
          1,
          1,
          1,
          1,
          1,
          1,
          1,
          1,
          1,
          1,
          1,
          1,
          1,
          1,
          1,
          1,
          1,
          1,
          1,
          1,
          1,
          1,
          1,
          1,
          1,
          1,
          1,
          1,
          1,
          1,
          1,
          1,
          1,
          1,
          1,
          1,
          1,
          1,
          1,
          1,
          1,
          1,
          1,
          1,
          1,
          1,
          1,
          1,
          1,
          1,
          1,
          1,
          1,
          1,
          1,
          1,
          1,
          1,
          1,
          1,
          1,
          1,
          1,
          1,
          1,
          1,
          1,
          1,
          1,
          1,
          1,
          1,
          1,
          1,
          1,
          1,
          1,
          1,
          1,
          1,
          1,
          1,
          1,
          1,
          1,
          1,
          1,
          1,
          1,
          1,
          1,
          1,
          1,
          1,
          1,
          1,
          1,
          1,
          1,
          1,
          1,
          1,
          1,
          1,
          1,
          1,
          1,
          1,
          1,
          1,
          1,
          1,
          1,
          1,
          1,
          1,
          1,
          1,
          1,
          1,
          1,
          1,
          1,
          1,
          1,
          1,
          1,
          1,
          1,
          1,
          1,
          1,
          1,
          1,
          1,
          1,
          1,
          1,
          1,
          1,
          1,
          1,
          1,
          1,
          1,
          1,
          1,
          1,
          1,
          1,
          1,
          1,
          1,
          1,
          1,
          1,
          1,
          1,
          1,
          1,
          1,
          1,
          1,
          1,
          1,
          1,
          1,
          1,
          1,
          1,
          1,
          1,
          1,
          1,
          1,
          1,
          1,
          1,
          1,
          1,
          1,
          1,
          1,
          1,
          1,
          1,
          1,
          1,
          1,
          1,
          1,
          1,
          1,
          1,
          1,
          1,
          1,
          1,
          1,
          1,
          1,
          1,
          1,
          1,
          1,
          1,
          1,
          1,
          1,
          1,
          1,
          1,
          1,
          1,
          1,
          1,
          1,
          1,
          1,
          1,
          1,
          1,
          1,
          1,
          1,
          1,
          1,
          1,
          1,
          1,
          1,
          1,
          1,
          1,
          1,
          1,
          1,
          1,
          1,
          1,
          1,
          1,
          1,
          1,
          1,
          1,
          1,
          1,
          1,
          1,
          1,
          1,
          1,
          1,
          1,
          1,
          1,
          1,
          1,
          1,
          1,
          1,
          1,
          1,
          1,
          1,
          1,
          1,
          1,
          1,
          1,
          1,
          1,
          1,
          1,
          1,
          1,
          1,
          1,
          1,
          1,
          1,
          1,
          1,
          1,
          1,
          1,
          1,
          1,
          1,
          1,
          1,
          1,
          1,
          1,
          1,
          1,
          1,
          1,
          1,
          1,
          1,
          1,
          1,
          1,
          1,
          1,
          1,
          1,
          1,
          1,
          1,
          1,
          1,
          1,
          1,
          1,
          1,
          1,
          1,
          1,
          1,
          1,
          1,
          1,
          1,
          1,
          1,
          1,
          1,
          1,
          1,
          1,
          1,
          1,
          1,
          1,
          1,
          1,
          1,
          1,
          1,
          1,
          1,
          1,
          1,
          1,
          1,
          1,
          1,
          1,
          1,
          1,
          1,
          1,
          1,
          1,
          1,
          1,
          1,
          1,
          1,
          1,
          1,
          1,
          1,
          1,
          1,
          1,
          1,
          1,
          1,
          1,
          1,
          1,
          1,
          1,
          1,
          1,
          1,
          1,
          1,
          1,
          1,
          1,
          1,
          1,
          1,
          1,
          1,
          1,
          1,
          1,
          1,
          1,
          1,
          1,
          1,
          1,
          1,
          1,
          1,
          1,
          1,
          1,
          1,
          1,
          1,
          1,
          1,
          1,
          1,
          1,
          1,
          1,
          1,
          1,
          1,
          1,
          1,
          1,
          1,
          1,
          1,
          1,
          1,
          1,
          1,
          1,
          1,
          1,
          1,
          1,
          1,
          1,
          1,
          1,
          1,
          1,
          1,
          1,
          1,
          1,
          1,
          1,
          1,
          1,
          1,
          1,
          1,
          1,
          1,
          1,
          1,
          1,
          1,
          1,
          1,
          1,
          1,
          1,
          1,
          1,
          1,
          1,
          1,
          1,
          1,
          1,
          1,
          1,
          1,
          1,
          1,
          1,
          1,
          1,
          1,
          1,
          1,
          1,
          1,
          1,
          1,
          1,
          1,
          1,
          1,
          1,
          1,
          1,
          1,
          1,
          1,
          1,
          1,
          1,
          1,
          1,
          1,
          1,
          1,
          1,
          1,
          1,
          1,
          1,
          1,
          1,
          1,
          1,
          1,
          1,
          1,
          1,
          1,
          1,
          1,
          1,
          1,
          1,
          1,
          1,
          1,
          1,
          1,
          1,
          1,
          1,
          1,
          1,
          1,
          1,
          1,
          1,
          1,
          1,
          1,
          1,
          1,
          1,
          1,
          1,
          1,
          1,
          1,
          1,
          1,
          1,
          1,
          1,
          1,
          1,
          1,
          1,
          1,
          1,
          1,
          1,
          1,
          1,
          1,
          1,
          1,
          1,
          1,
          1,
          1,
          1,
          1,
          1,
          1,
          1,
          1,
          1,
          1,
          1,
          1,
          1,
          1,
          1,
          1,
          1,
          1,
          1,
          1,
          1,
          1,
          1,
          1,
          1,
          1,
          1,
          1,
          1,
          1,
          1,
          1,
          1,
          1,
          1,
          1,
          1,
          1,
          1,
          1,
          1,
          1,
          1,
          1,
          1,
          1,
          1,
          1,
          1,
          1,
          1,
          1,
          1,
          1,
          1,
          1,
          1,
          1,
          1,
          1,
          1,
          1,
          1,
          1,
          1,
          1,
          1,
          1,
          1,
          1,
          1,
          1,
          1,
          1,
          1,
          1,
          1,
          1,
          1,
          1,
          1,
          1,
          1,
          1,
          1,
          1,
          1,
          1,
          1,
          1,
          1,
          1,
          1,
          1,
          1,
          1,
          1,
          1,
          1,
          1,
          1,
          1,
          1,
          1,
          1,
          1,
          1,
          1,
          1,
          1,
          1,
          1,
          1,
          1,
          1,
          1,
          1,
          1,
          1,
          1,
          1,
          1,
          1,
          1,
          1,
          1,
          1,
          1,
          1,
          1,
          1,
          1,
          1,
          1,
          1,
          1,
          1,
          1,
          1,
          1,
          1,
          1,
          1,
          1,
          1,
          1,
          1,
          1,
          1,
          1,
          1,
          1,
          1,
          1,
          1,
          1,
          1,
          1,
          1,
          1,
          1,
          1,
          1,
          1,
          1,
          1,
          1,
          1,
          1,
          1,
          1,
          1,
          1,
          1,
          1,
          1,
          1,
          1,
          1,
          1,
          1,
          1,
          1,
          1,
          1,
          1,
          1,
          1,
          1,
          1,
          1,
          1,
          1,
          1,
          1,
          1,
          1,
          1,
          1,
          1,
          1,
          1,
          1,
          1,
          1,
          1,
          1,
          1,
          1,
          1,
          1,
          1,
          1,
          1,
          1,
          1,
          1,
          1,
          1,
          1,
          1,
          1,
          1,
          1,
          1,
          1,
          1,
          1,
          1,
          1,
          1,
          1,
          1,
          1,
          1,
          1,
          1,
          1,
          1,
          1,
          1,
          1,
          1,
          1,
          1,
          1,
          1,
          1,
          1,
          1,
          1,
          1,
          1,
          1,
          1,
          1,
          1,
          1,
          1,
          1,
          1,
          1,
          1,
          1,
          1,
          1,
          1,
          1,
          1,
          1,
          1,
          1,
          1,
          1,
          1,
          1,
          1,
          1,
          1,
          1,
          1,
          1,
          1,
          1,
          1,
          1,
          1,
          1,
          1,
          1,
          1,
          1,
          1,
          1,
          1,
          1,
          1,
          1,
          1,
          1,
          1,
          1,
          1,
          1,
          1,
          1,
          1,
          1,
          1,
          1,
          1,
          1,
          1,
          1,
          1,
          1,
          1,
          1,
          1,
          1,
          1,
          1,
          1,
          1,
          1,
          1,
          1,
          1,
          1,
          1,
          1,
          1,
          1,
          1,
          1,
          1,
          1,
          1,
          1,
          1,
          1,
          1,
          1,
          1,
          1,
          1,
          1,
          1,
          1,
          1,
          1,
          1,
          1,
          1,
          1,
          1,
          1,
          1,
          1,
          1,
          1,
          1,
          1,
          1,
          1,
          1,
          1,
          1,
          1,
          1,
          1,
          1,
          1,
          1,
          1,
          1,
          1,
          1,
          1,
          1,
          1,
          1,
          1,
          1,
          1,
          1,
          1,
          1,
          1,
          1,
          1,
          1,
          1,
          1,
          1,
          1,
          1,
          1,
          1,
          1,
          1,
          1,
          1,
          1,
          1,
          1,
          1,
          1,
          1,
          1,
          1,
          1,
          1,
          1,
          1,
          1,
          1,
          1,
          1,
          1,
          1,
          1,
          1,
          1,
          1,
          1,
          1,
          1,
          1,
          1,
          1,
          1,
          1,
          1,
          1,
          1,
          1,
          1,
          1,
          1,
          1,
          1,
          1,
          1,
          1,
          1,
          1,
          1,
          1,
          1,
          1,
          1,
          1,
          1,
          1,
          1,
          1,
          1,
          1,
          1,
          1,
          1,
          1,
          1,
          1,
          1,
          1,
          1,
          1,
          1,
          1
         ],
         "yaxis": "y",
         "type": "scattergl"
        }
       ],
       "layout": {
        "template": {
         "data": {
          "bar": [
           {
            "error_x": {
             "color": "#2a3f5f"
            },
            "error_y": {
             "color": "#2a3f5f"
            },
            "marker": {
             "line": {
              "color": "#E5ECF6",
              "width": 0.5
             },
             "pattern": {
              "fillmode": "overlay",
              "size": 10,
              "solidity": 0.2
             }
            },
            "type": "bar"
           }
          ],
          "barpolar": [
           {
            "marker": {
             "line": {
              "color": "#E5ECF6",
              "width": 0.5
             },
             "pattern": {
              "fillmode": "overlay",
              "size": 10,
              "solidity": 0.2
             }
            },
            "type": "barpolar"
           }
          ],
          "carpet": [
           {
            "aaxis": {
             "endlinecolor": "#2a3f5f",
             "gridcolor": "white",
             "linecolor": "white",
             "minorgridcolor": "white",
             "startlinecolor": "#2a3f5f"
            },
            "baxis": {
             "endlinecolor": "#2a3f5f",
             "gridcolor": "white",
             "linecolor": "white",
             "minorgridcolor": "white",
             "startlinecolor": "#2a3f5f"
            },
            "type": "carpet"
           }
          ],
          "choropleth": [
           {
            "colorbar": {
             "outlinewidth": 0,
             "ticks": ""
            },
            "type": "choropleth"
           }
          ],
          "contour": [
           {
            "colorbar": {
             "outlinewidth": 0,
             "ticks": ""
            },
            "colorscale": [
             [
              0.0,
              "#0d0887"
             ],
             [
              0.1111111111111111,
              "#46039f"
             ],
             [
              0.2222222222222222,
              "#7201a8"
             ],
             [
              0.3333333333333333,
              "#9c179e"
             ],
             [
              0.4444444444444444,
              "#bd3786"
             ],
             [
              0.5555555555555556,
              "#d8576b"
             ],
             [
              0.6666666666666666,
              "#ed7953"
             ],
             [
              0.7777777777777778,
              "#fb9f3a"
             ],
             [
              0.8888888888888888,
              "#fdca26"
             ],
             [
              1.0,
              "#f0f921"
             ]
            ],
            "type": "contour"
           }
          ],
          "contourcarpet": [
           {
            "colorbar": {
             "outlinewidth": 0,
             "ticks": ""
            },
            "type": "contourcarpet"
           }
          ],
          "heatmap": [
           {
            "colorbar": {
             "outlinewidth": 0,
             "ticks": ""
            },
            "colorscale": [
             [
              0.0,
              "#0d0887"
             ],
             [
              0.1111111111111111,
              "#46039f"
             ],
             [
              0.2222222222222222,
              "#7201a8"
             ],
             [
              0.3333333333333333,
              "#9c179e"
             ],
             [
              0.4444444444444444,
              "#bd3786"
             ],
             [
              0.5555555555555556,
              "#d8576b"
             ],
             [
              0.6666666666666666,
              "#ed7953"
             ],
             [
              0.7777777777777778,
              "#fb9f3a"
             ],
             [
              0.8888888888888888,
              "#fdca26"
             ],
             [
              1.0,
              "#f0f921"
             ]
            ],
            "type": "heatmap"
           }
          ],
          "heatmapgl": [
           {
            "colorbar": {
             "outlinewidth": 0,
             "ticks": ""
            },
            "colorscale": [
             [
              0.0,
              "#0d0887"
             ],
             [
              0.1111111111111111,
              "#46039f"
             ],
             [
              0.2222222222222222,
              "#7201a8"
             ],
             [
              0.3333333333333333,
              "#9c179e"
             ],
             [
              0.4444444444444444,
              "#bd3786"
             ],
             [
              0.5555555555555556,
              "#d8576b"
             ],
             [
              0.6666666666666666,
              "#ed7953"
             ],
             [
              0.7777777777777778,
              "#fb9f3a"
             ],
             [
              0.8888888888888888,
              "#fdca26"
             ],
             [
              1.0,
              "#f0f921"
             ]
            ],
            "type": "heatmapgl"
           }
          ],
          "histogram": [
           {
            "marker": {
             "pattern": {
              "fillmode": "overlay",
              "size": 10,
              "solidity": 0.2
             }
            },
            "type": "histogram"
           }
          ],
          "histogram2d": [
           {
            "colorbar": {
             "outlinewidth": 0,
             "ticks": ""
            },
            "colorscale": [
             [
              0.0,
              "#0d0887"
             ],
             [
              0.1111111111111111,
              "#46039f"
             ],
             [
              0.2222222222222222,
              "#7201a8"
             ],
             [
              0.3333333333333333,
              "#9c179e"
             ],
             [
              0.4444444444444444,
              "#bd3786"
             ],
             [
              0.5555555555555556,
              "#d8576b"
             ],
             [
              0.6666666666666666,
              "#ed7953"
             ],
             [
              0.7777777777777778,
              "#fb9f3a"
             ],
             [
              0.8888888888888888,
              "#fdca26"
             ],
             [
              1.0,
              "#f0f921"
             ]
            ],
            "type": "histogram2d"
           }
          ],
          "histogram2dcontour": [
           {
            "colorbar": {
             "outlinewidth": 0,
             "ticks": ""
            },
            "colorscale": [
             [
              0.0,
              "#0d0887"
             ],
             [
              0.1111111111111111,
              "#46039f"
             ],
             [
              0.2222222222222222,
              "#7201a8"
             ],
             [
              0.3333333333333333,
              "#9c179e"
             ],
             [
              0.4444444444444444,
              "#bd3786"
             ],
             [
              0.5555555555555556,
              "#d8576b"
             ],
             [
              0.6666666666666666,
              "#ed7953"
             ],
             [
              0.7777777777777778,
              "#fb9f3a"
             ],
             [
              0.8888888888888888,
              "#fdca26"
             ],
             [
              1.0,
              "#f0f921"
             ]
            ],
            "type": "histogram2dcontour"
           }
          ],
          "mesh3d": [
           {
            "colorbar": {
             "outlinewidth": 0,
             "ticks": ""
            },
            "type": "mesh3d"
           }
          ],
          "parcoords": [
           {
            "line": {
             "colorbar": {
              "outlinewidth": 0,
              "ticks": ""
             }
            },
            "type": "parcoords"
           }
          ],
          "pie": [
           {
            "automargin": true,
            "type": "pie"
           }
          ],
          "scatter": [
           {
            "marker": {
             "colorbar": {
              "outlinewidth": 0,
              "ticks": ""
             }
            },
            "type": "scatter"
           }
          ],
          "scatter3d": [
           {
            "line": {
             "colorbar": {
              "outlinewidth": 0,
              "ticks": ""
             }
            },
            "marker": {
             "colorbar": {
              "outlinewidth": 0,
              "ticks": ""
             }
            },
            "type": "scatter3d"
           }
          ],
          "scattercarpet": [
           {
            "marker": {
             "colorbar": {
              "outlinewidth": 0,
              "ticks": ""
             }
            },
            "type": "scattercarpet"
           }
          ],
          "scattergeo": [
           {
            "marker": {
             "colorbar": {
              "outlinewidth": 0,
              "ticks": ""
             }
            },
            "type": "scattergeo"
           }
          ],
          "scattergl": [
           {
            "marker": {
             "colorbar": {
              "outlinewidth": 0,
              "ticks": ""
             }
            },
            "type": "scattergl"
           }
          ],
          "scattermapbox": [
           {
            "marker": {
             "colorbar": {
              "outlinewidth": 0,
              "ticks": ""
             }
            },
            "type": "scattermapbox"
           }
          ],
          "scatterpolar": [
           {
            "marker": {
             "colorbar": {
              "outlinewidth": 0,
              "ticks": ""
             }
            },
            "type": "scatterpolar"
           }
          ],
          "scatterpolargl": [
           {
            "marker": {
             "colorbar": {
              "outlinewidth": 0,
              "ticks": ""
             }
            },
            "type": "scatterpolargl"
           }
          ],
          "scatterternary": [
           {
            "marker": {
             "colorbar": {
              "outlinewidth": 0,
              "ticks": ""
             }
            },
            "type": "scatterternary"
           }
          ],
          "surface": [
           {
            "colorbar": {
             "outlinewidth": 0,
             "ticks": ""
            },
            "colorscale": [
             [
              0.0,
              "#0d0887"
             ],
             [
              0.1111111111111111,
              "#46039f"
             ],
             [
              0.2222222222222222,
              "#7201a8"
             ],
             [
              0.3333333333333333,
              "#9c179e"
             ],
             [
              0.4444444444444444,
              "#bd3786"
             ],
             [
              0.5555555555555556,
              "#d8576b"
             ],
             [
              0.6666666666666666,
              "#ed7953"
             ],
             [
              0.7777777777777778,
              "#fb9f3a"
             ],
             [
              0.8888888888888888,
              "#fdca26"
             ],
             [
              1.0,
              "#f0f921"
             ]
            ],
            "type": "surface"
           }
          ],
          "table": [
           {
            "cells": {
             "fill": {
              "color": "#EBF0F8"
             },
             "line": {
              "color": "white"
             }
            },
            "header": {
             "fill": {
              "color": "#C8D4E3"
             },
             "line": {
              "color": "white"
             }
            },
            "type": "table"
           }
          ]
         },
         "layout": {
          "annotationdefaults": {
           "arrowcolor": "#2a3f5f",
           "arrowhead": 0,
           "arrowwidth": 1
          },
          "autotypenumbers": "strict",
          "coloraxis": {
           "colorbar": {
            "outlinewidth": 0,
            "ticks": ""
           }
          },
          "colorscale": {
           "diverging": [
            [
             0,
             "#8e0152"
            ],
            [
             0.1,
             "#c51b7d"
            ],
            [
             0.2,
             "#de77ae"
            ],
            [
             0.3,
             "#f1b6da"
            ],
            [
             0.4,
             "#fde0ef"
            ],
            [
             0.5,
             "#f7f7f7"
            ],
            [
             0.6,
             "#e6f5d0"
            ],
            [
             0.7,
             "#b8e186"
            ],
            [
             0.8,
             "#7fbc41"
            ],
            [
             0.9,
             "#4d9221"
            ],
            [
             1,
             "#276419"
            ]
           ],
           "sequential": [
            [
             0.0,
             "#0d0887"
            ],
            [
             0.1111111111111111,
             "#46039f"
            ],
            [
             0.2222222222222222,
             "#7201a8"
            ],
            [
             0.3333333333333333,
             "#9c179e"
            ],
            [
             0.4444444444444444,
             "#bd3786"
            ],
            [
             0.5555555555555556,
             "#d8576b"
            ],
            [
             0.6666666666666666,
             "#ed7953"
            ],
            [
             0.7777777777777778,
             "#fb9f3a"
            ],
            [
             0.8888888888888888,
             "#fdca26"
            ],
            [
             1.0,
             "#f0f921"
            ]
           ],
           "sequentialminus": [
            [
             0.0,
             "#0d0887"
            ],
            [
             0.1111111111111111,
             "#46039f"
            ],
            [
             0.2222222222222222,
             "#7201a8"
            ],
            [
             0.3333333333333333,
             "#9c179e"
            ],
            [
             0.4444444444444444,
             "#bd3786"
            ],
            [
             0.5555555555555556,
             "#d8576b"
            ],
            [
             0.6666666666666666,
             "#ed7953"
            ],
            [
             0.7777777777777778,
             "#fb9f3a"
            ],
            [
             0.8888888888888888,
             "#fdca26"
            ],
            [
             1.0,
             "#f0f921"
            ]
           ]
          },
          "colorway": [
           "#636efa",
           "#EF553B",
           "#00cc96",
           "#ab63fa",
           "#FFA15A",
           "#19d3f3",
           "#FF6692",
           "#B6E880",
           "#FF97FF",
           "#FECB52"
          ],
          "font": {
           "color": "#2a3f5f"
          },
          "geo": {
           "bgcolor": "white",
           "lakecolor": "white",
           "landcolor": "#E5ECF6",
           "showlakes": true,
           "showland": true,
           "subunitcolor": "white"
          },
          "hoverlabel": {
           "align": "left"
          },
          "hovermode": "closest",
          "mapbox": {
           "style": "light"
          },
          "paper_bgcolor": "white",
          "plot_bgcolor": "#E5ECF6",
          "polar": {
           "angularaxis": {
            "gridcolor": "white",
            "linecolor": "white",
            "ticks": ""
           },
           "bgcolor": "#E5ECF6",
           "radialaxis": {
            "gridcolor": "white",
            "linecolor": "white",
            "ticks": ""
           }
          },
          "scene": {
           "xaxis": {
            "backgroundcolor": "#E5ECF6",
            "gridcolor": "white",
            "gridwidth": 2,
            "linecolor": "white",
            "showbackground": true,
            "ticks": "",
            "zerolinecolor": "white"
           },
           "yaxis": {
            "backgroundcolor": "#E5ECF6",
            "gridcolor": "white",
            "gridwidth": 2,
            "linecolor": "white",
            "showbackground": true,
            "ticks": "",
            "zerolinecolor": "white"
           },
           "zaxis": {
            "backgroundcolor": "#E5ECF6",
            "gridcolor": "white",
            "gridwidth": 2,
            "linecolor": "white",
            "showbackground": true,
            "ticks": "",
            "zerolinecolor": "white"
           }
          },
          "shapedefaults": {
           "line": {
            "color": "#2a3f5f"
           }
          },
          "ternary": {
           "aaxis": {
            "gridcolor": "white",
            "linecolor": "white",
            "ticks": ""
           },
           "baxis": {
            "gridcolor": "white",
            "linecolor": "white",
            "ticks": ""
           },
           "bgcolor": "#E5ECF6",
           "caxis": {
            "gridcolor": "white",
            "linecolor": "white",
            "ticks": ""
           }
          },
          "title": {
           "x": 0.05
          },
          "xaxis": {
           "automargin": true,
           "gridcolor": "white",
           "linecolor": "white",
           "ticks": "",
           "title": {
            "standoff": 15
           },
           "zerolinecolor": "white",
           "zerolinewidth": 2
          },
          "yaxis": {
           "automargin": true,
           "gridcolor": "white",
           "linecolor": "white",
           "ticks": "",
           "title": {
            "standoff": 15
           },
           "zerolinecolor": "white",
           "zerolinewidth": 2
          }
         }
        },
        "xaxis": {
         "anchor": "y",
         "domain": [
          0.0,
          1.0
         ],
         "title": {
          "text": "Timestamp"
         }
        },
        "yaxis": {
         "anchor": "x",
         "domain": [
          0.0,
          1.0
         ],
         "title": {
          "text": "Count"
         }
        },
        "legend": {
         "tracegroupgap": 0
        },
        "margin": {
         "t": 60
        }
       },
       "config": {
        "plotlyServerURL": "https://plot.ly"
       }
      },
      "text/html": "<div>                            <div id=\"d2d2eaf2-f4c5-48e7-8463-ca6b96ec806f\" class=\"plotly-graph-div\" style=\"height:525px; width:100%;\"></div>            <script type=\"text/javascript\">                require([\"plotly\"], function(Plotly) {                    window.PLOTLYENV=window.PLOTLYENV || {};                                    if (document.getElementById(\"d2d2eaf2-f4c5-48e7-8463-ca6b96ec806f\")) {                    Plotly.newPlot(                        \"d2d2eaf2-f4c5-48e7-8463-ca6b96ec806f\",                        [{\"hovertemplate\":\"Timestamp=%{x}<br>Count=%{y}<extra></extra>\",\"legendgroup\":\"\",\"marker\":{\"color\":\"#636efa\",\"symbol\":\"circle\"},\"mode\":\"markers\",\"name\":\"\",\"showlegend\":false,\"x\":[\"2015-02-01T00:31:49\",\"2015-02-01T04:31:49\",\"2015-02-01T14:31:48\",\"2015-02-02T00:31:41\",\"2015-02-02T05:31:41\",\"2015-02-02T15:31:40\",\"2015-02-03T00:31:31\",\"2015-02-03T06:31:31\",\"2015-02-03T17:01:30\",\"2015-02-04T00:31:23\",\"2015-02-04T03:31:23\",\"2015-02-04T14:01:22\",\"2015-02-05T00:31:14\",\"2015-02-05T11:01:14\",\"2015-02-05T20:31:13\",\"2015-02-06T00:31:06\",\"2015-02-06T07:31:06\",\"2015-02-06T17:31:05\",\"2015-02-07T00:32:01\",\"2015-02-07T11:32:00\",\"2015-02-07T21:31:59\",\"2015-02-08T00:31:53\",\"2015-02-08T02:01:53\",\"2015-02-08T13:01:52\",\"2015-02-08T23:01:51\",\"2015-02-09T12:01:45\",\"2015-02-09T22:01:44\",\"2015-02-10T00:31:38\",\"2015-02-10T07:31:38\",\"2015-02-10T17:31:37\",\"2015-02-11T02:31:32\",\"2015-02-11T12:31:31\",\"2015-02-11T22:31:30\",\"2015-02-12T00:31:27\",\"2015-02-12T07:31:27\",\"2015-02-12T18:01:26\",\"2015-02-13T00:31:19\",\"2015-02-13T09:01:19\",\"2015-02-13T18:31:18\",\"2015-02-14T00:31:11\",\"2015-02-14T06:01:11\",\"2015-02-14T16:31:10\",\"2015-02-15T01:03:14\",\"2015-02-15T02:33:14\",\"2015-02-15T12:33:13\",\"2015-02-15T23:03:12\",\"2015-02-16T00:31:05\",\"2015-02-16T11:01:05\",\"2015-02-16T20:31:04\",\"2015-02-17T00:31:58\",\"2015-02-17T03:31:58\",\"2015-02-17T14:01:57\",\"2015-02-18T00:31:50\",\"2015-02-18T02:31:50\",\"2015-02-18T12:01:49\",\"2015-02-18T22:01:48\",\"2015-02-19T00:31:44\",\"2015-02-19T07:01:44\",\"2015-02-19T17:01:43\",\"2015-02-20T00:31:36\",\"2015-02-20T08:01:36\",\"2015-02-20T17:31:35\",\"2015-02-21T01:31:29\",\"2015-02-21T02:31:29\",\"2015-02-21T12:01:28\",\"2015-02-21T22:01:27\",\"2015-02-22T02:01:23\",\"2015-02-22T12:01:22\",\"2015-02-22T21:31:21\",\"2015-02-23T04:31:17\",\"2015-02-23T15:01:16\",\"2015-02-24T00:31:12\",\"2015-02-24T03:01:12\",\"2015-02-24T13:31:11\",\"2015-02-24T23:31:10\",\"2015-02-25T03:01:04\",\"2015-02-25T14:01:03\",\"2015-02-26T00:31:56\",\"2015-02-26T08:31:56\",\"2015-02-26T19:01:55\",\"2015-02-27T00:31:46\",\"2015-02-27T08:31:46\",\"2015-02-27T18:31:45\",\"2015-02-28T02:01:39\",\"2015-02-28T11:31:38\",\"2015-02-28T21:31:37\",\"2015-02-28T22:31:37\",\"2015-03-01T02:31:32\",\"2015-03-01T12:01:31\",\"2015-03-01T22:31:30\",\"2015-03-02T02:31:24\",\"2015-03-02T12:01:23\",\"2015-03-02T13:01:23\",\"2015-03-02T23:01:22\",\"2015-03-03T00:04:16\",\"2015-03-03T00:31:16\",\"2015-03-03T05:31:16\",\"2015-03-03T06:31:16\",\"2015-03-03T16:31:15\",\"2015-03-04T00:04:12\",\"2015-03-04T00:31:12\",\"2015-03-04T07:31:12\",\"2015-03-04T17:01:11\",\"2015-03-05T00:31:03\",\"2015-03-05T05:31:03\",\"2015-03-05T16:01:02\",\"2015-03-06T00:31:57\",\"2015-03-06T08:31:57\",\"2015-03-06T18:01:56\",\"2015-03-07T00:31:49\",\"2015-03-07T05:01:49\",\"2015-03-07T15:01:48\",\"2015-03-07T16:01:48\",\"2015-03-08T00:31:45\",\"2015-03-08T04:01:45\",\"2015-03-08T14:01:44\",\"2015-03-09T00:31:43\",\"2015-03-09T07:31:38\",\"2015-03-09T17:31:37\",\"2015-03-10T03:01:31\",\"2015-03-10T14:01:30\",\"2015-03-11T00:31:23\",\"2015-03-11T05:01:23\",\"2015-03-11T15:01:22\",\"2015-03-12T00:31:16\",\"2015-03-12T11:31:15\",\"2015-03-12T21:31:14\",\"2015-03-13T00:31:07\",\"2015-03-13T10:31:07\",\"2015-03-13T20:31:06\",\"2015-03-14T00:31:59\",\"2015-03-14T05:31:59\",\"2015-03-14T16:31:58\",\"2015-03-15T00:31:51\",\"2015-03-15T08:01:51\",\"2015-03-15T17:31:50\",\"2015-03-16T00:31:46\",\"2015-03-16T02:01:46\",\"2015-03-16T12:01:45\",\"2015-03-16T22:31:44\",\"2015-03-17T00:31:37\",\"2015-03-17T11:31:37\",\"2015-03-17T21:01:36\",\"2015-03-18T00:31:30\",\"2015-03-18T02:31:30\",\"2015-03-18T13:31:29\",\"2015-03-19T00:31:22\",\"2015-03-19T11:01:22\",\"2015-03-19T21:01:21\",\"2015-03-20T02:01:15\",\"2015-03-20T13:01:14\",\"2015-03-21T00:31:07\",\"2015-03-21T06:01:07\",\"2015-03-21T17:01:06\",\"2015-03-22T00:32:01\",\"2015-03-22T10:02:01\",\"2015-03-22T19:32:00\",\"2015-03-23T00:31:54\",\"2015-03-23T07:31:54\",\"2015-03-23T18:31:53\",\"2015-03-24T05:31:46\",\"2015-03-24T06:31:46\",\"2015-03-24T17:01:45\",\"2015-03-25T00:31:38\",\"2015-03-25T11:01:38\",\"2015-03-25T21:01:37\",\"2015-03-26T00:31:32\",\"2015-03-26T03:31:32\",\"2015-03-26T15:31:31\",\"2015-03-27T00:31:24\",\"2015-03-27T02:01:24\",\"2015-03-27T12:31:23\",\"2015-03-28T00:31:16\",\"2015-03-28T03:31:16\",\"2015-03-28T14:01:15\",\"2015-03-28T15:31:15\",\"2015-03-29T00:31:10\",\"2015-03-29T05:31:10\",\"2015-03-29T17:01:09\",\"2015-03-30T00:31:05\",\"2015-03-30T11:01:05\",\"2015-03-30T22:01:04\",\"2015-03-31T03:31:58\",\"2015-03-31T15:31:57\",\"2015-04-01T00:31:48\",\"2015-04-01T08:01:48\",\"2015-04-01T18:31:47\",\"2015-04-02T00:31:40\",\"2015-04-02T10:01:40\",\"2015-04-02T20:31:39\",\"2015-04-02T21:31:39\",\"2015-04-03T08:01:35\",\"2015-04-03T18:01:34\",\"2015-04-04T00:31:27\",\"2015-04-04T10:01:27\",\"2015-04-04T20:01:26\",\"2015-04-05T00:31:19\",\"2015-04-05T09:01:19\",\"2015-04-05T19:31:18\",\"2015-04-06T00:31:11\",\"2015-04-06T11:01:11\",\"2015-04-06T21:31:10\",\"2015-04-07T00:31:04\",\"2015-04-07T04:01:04\",\"2015-04-07T15:01:03\",\"2015-04-08T00:31:56\",\"2015-04-08T12:01:55\",\"2015-04-09T00:31:48\",\"2015-04-09T10:31:48\",\"2015-04-09T11:31:48\",\"2015-04-09T22:01:47\",\"2015-04-09T23:01:47\",\"2015-04-10T00:31:41\",\"2015-04-10T05:31:41\",\"2015-04-10T17:31:40\",\"2015-04-11T00:31:33\",\"2015-04-11T09:01:33\",\"2015-04-11T19:01:32\",\"2015-04-12T11:31:26\",\"2015-04-12T12:31:26\",\"2015-04-12T23:01:25\",\"2015-04-13T00:04:20\",\"2015-04-13T00:31:20\",\"2015-04-13T11:31:20\",\"2015-04-13T23:01:19\",\"2015-04-14T02:31:15\",\"2015-04-14T14:01:14\",\"2015-04-15T00:31:08\",\"2015-04-15T07:31:08\",\"2015-04-15T18:31:07\",\"2015-04-16T00:31:58\",\"2015-04-16T11:31:58\",\"2015-04-16T23:01:57\",\"2015-04-17T00:31:51\",\"2015-04-17T09:31:51\",\"2015-04-17T20:31:50\",\"2015-04-18T00:31:43\",\"2015-04-18T10:31:43\",\"2015-04-18T21:01:42\",\"2015-04-19T03:03:48\",\"2015-04-19T14:33:47\",\"2015-04-20T00:31:42\",\"2015-04-20T01:31:43\",\"2015-04-20T12:01:42\",\"2015-04-21T00:31:35\",\"2015-04-21T11:01:35\",\"2015-04-21T22:31:34\",\"2015-04-21T23:31:34\",\"2015-04-22T07:01:28\",\"2015-04-22T18:31:27\",\"2015-04-23T02:33:32\",\"2015-04-23T14:33:31\",\"2015-04-24T03:01:25\",\"2015-04-24T14:31:24\",\"2015-04-25T00:31:17\",\"2015-04-25T10:01:17\",\"2015-04-25T22:01:16\",\"2015-04-26T06:01:10\",\"2015-04-26T16:31:09\",\"2015-04-27T01:04:13\",\"2015-04-27T07:04:13\",\"2015-04-27T08:04:13\",\"2015-04-27T18:04:12\",\"2015-04-28T00:31:05\",\"2015-04-28T07:01:05\",\"2015-04-28T18:01:04\",\"2015-04-29T00:31:59\",\"2015-04-29T01:31:59\",\"2015-04-29T13:31:58\",\"2015-04-29T23:31:57\",\"2015-04-30T00:31:52\",\"2015-04-30T11:01:52\",\"2015-04-30T22:01:51\",\"2015-05-01T00:31:44\",\"2015-05-01T10:31:44\",\"2015-05-01T21:31:43\",\"2015-05-02T00:31:36\",\"2015-05-02T10:31:36\",\"2015-05-02T21:31:35\",\"2015-05-03T00:31:29\",\"2015-05-03T07:01:29\",\"2015-05-03T17:01:28\",\"2015-05-04T00:31:21\",\"2015-05-04T06:31:21\",\"2015-05-04T17:31:20\",\"2015-05-05T00:31:13\",\"2015-05-05T09:31:13\",\"2015-05-05T20:31:12\",\"2015-05-06T00:31:05\",\"2015-05-06T10:31:05\",\"2015-05-06T22:01:04\",\"2015-05-07T00:31:57\",\"2015-05-07T08:01:57\",\"2015-05-07T19:31:56\",\"2015-05-08T00:31:49\",\"2015-05-08T11:01:49\",\"2015-05-08T23:01:48\",\"2015-05-09T02:31:45\",\"2015-05-09T14:01:44\",\"2015-05-10T00:31:37\",\"2015-05-10T09:31:37\",\"2015-05-10T21:01:36\",\"2015-05-11T02:31:32\",\"2015-05-11T13:31:31\",\"2015-05-12T00:31:24\",\"2015-05-12T02:31:24\",\"2015-05-12T13:31:23\",\"2015-05-13T00:31:16\",\"2015-05-13T04:01:16\",\"2015-05-13T15:31:15\",\"2015-05-14T00:31:09\",\"2015-05-14T07:31:09\",\"2015-05-14T18:31:08\",\"2015-05-15T00:32:01\",\"2015-05-15T08:02:01\",\"2015-05-15T19:02:00\",\"2015-05-16T00:31:53\",\"2015-05-16T11:01:53\",\"2015-05-16T22:31:52\",\"2015-05-17T02:01:47\",\"2015-05-17T13:01:46\",\"2015-05-18T00:31:38\",\"2015-05-18T10:01:38\",\"2015-05-18T22:01:37\",\"2015-05-19T00:31:30\",\"2015-05-19T07:01:30\",\"2015-05-19T18:31:29\",\"2015-05-20T00:31:22\",\"2015-05-20T07:01:22\",\"2015-05-20T17:31:21\",\"2015-05-21T04:01:15\",\"2015-05-21T15:01:14\",\"2015-05-22T00:31:07\",\"2015-05-22T06:31:07\",\"2015-05-22T16:31:06\",\"2015-05-22T17:31:06\",\"2015-05-23T02:32:00\",\"2015-05-23T13:01:59\",\"2015-05-24T00:31:50\",\"2015-05-24T04:01:50\",\"2015-05-24T14:31:49\",\"2015-05-25T00:31:42\",\"2015-05-25T03:31:42\",\"2015-05-25T14:31:41\",\"2015-05-26T00:31:34\",\"2015-05-26T04:31:34\",\"2015-05-26T15:31:33\",\"2015-05-27T00:31:29\",\"2015-05-27T06:31:29\",\"2015-05-27T17:31:28\",\"2015-05-28T00:31:21\",\"2015-05-28T09:31:21\",\"2015-05-28T21:01:20\",\"2015-05-29T04:01:14\",\"2015-05-29T14:31:13\",\"2015-05-30T00:31:07\",\"2015-05-30T06:01:07\",\"2015-05-30T16:31:06\",\"2015-05-31T13:01:59\",\"2015-06-01T00:31:52\",\"2015-06-01T04:01:52\",\"2015-06-01T15:01:51\",\"2015-06-02T00:31:44\",\"2015-06-02T05:31:44\",\"2015-06-02T16:31:43\",\"2015-06-03T00:31:36\",\"2015-06-03T06:01:36\",\"2015-06-03T17:31:35\",\"2015-06-04T00:31:28\",\"2015-06-04T08:01:28\",\"2015-06-04T19:31:27\",\"2015-06-05T00:31:20\",\"2015-06-05T08:01:20\",\"2015-06-05T19:31:19\",\"2015-06-06T12:01:14\",\"2015-06-06T23:01:13\",\"2015-06-07T00:31:07\",\"2015-06-07T12:31:07\",\"2015-06-08T05:02:00\",\"2015-06-08T16:31:59\",\"2015-06-09T00:31:52\",\"2015-06-09T11:01:52\",\"2015-06-09T22:01:51\",\"2015-06-10T00:31:45\",\"2015-06-10T06:01:45\",\"2015-06-10T17:31:44\",\"2015-06-11T00:31:38\",\"2015-06-11T05:01:38\",\"2015-06-11T15:31:37\",\"2015-06-12T00:31:32\",\"2015-06-12T04:01:32\",\"2015-06-12T15:01:31\",\"2015-06-13T00:31:27\",\"2015-06-13T07:01:27\",\"2015-06-13T18:31:26\",\"2015-06-14T00:31:20\",\"2015-06-14T05:01:20\",\"2015-06-14T16:31:19\",\"2015-06-15T00:31:15\",\"2015-06-15T03:01:15\",\"2015-06-15T14:01:14\",\"2015-06-16T00:31:09\",\"2015-06-16T11:01:09\",\"2015-06-16T21:31:08\",\"2015-06-17T06:01:04\",\"2015-06-17T17:01:03\",\"2015-06-18T00:31:57\",\"2015-06-18T03:31:57\",\"2015-06-18T15:01:56\",\"2015-06-19T00:31:50\",\"2015-06-19T06:31:50\",\"2015-06-19T18:01:49\",\"2015-06-20T00:31:42\",\"2015-06-20T05:31:42\",\"2015-06-20T16:31:41\",\"2015-06-21T00:31:37\",\"2015-06-21T09:01:37\",\"2015-06-21T20:01:36\",\"2015-06-22T00:31:29\",\"2015-06-22T12:01:29\",\"2015-06-22T23:31:28\",\"2015-06-23T00:31:22\",\"2015-06-23T06:01:22\",\"2015-06-23T16:31:21\",\"2015-06-24T00:31:17\",\"2015-06-24T04:01:17\",\"2015-06-24T14:01:16\",\"2015-06-24T15:50:27\",\"2015-06-24T19:50:27\",\"2015-06-25T00:31:23\",\"2015-06-25T07:31:23\",\"2015-06-25T18:01:22\",\"2015-06-26T00:31:15\",\"2015-06-26T08:31:15\",\"2015-06-26T19:31:14\",\"2015-06-27T03:01:10\",\"2015-06-27T13:01:09\",\"2015-06-28T00:32:02\",\"2015-06-28T04:02:02\",\"2015-06-28T15:02:01\",\"2015-06-29T00:31:56\",\"2015-06-29T05:01:56\",\"2015-06-29T16:01:55\",\"2015-06-30T00:31:48\",\"2015-06-30T08:01:48\",\"2015-06-30T19:01:47\",\"2015-06-30T20:01:46\",\"2015-07-01T00:31:40\",\"2015-07-01T11:01:40\",\"2015-07-01T21:01:39\",\"2015-07-02T00:31:32\",\"2015-07-02T07:01:32\",\"2015-07-02T18:31:31\",\"2015-07-03T00:31:24\",\"2015-07-03T07:01:24\",\"2015-07-03T17:31:23\",\"2015-07-04T00:31:16\",\"2015-07-04T03:31:16\",\"2015-07-04T14:01:15\",\"2015-07-05T00:31:09\",\"2015-07-05T05:31:09\",\"2015-07-05T16:31:08\",\"2015-07-06T00:31:59\",\"2015-07-06T04:01:59\",\"2015-07-06T15:31:58\",\"2015-07-07T00:31:51\",\"2015-07-07T03:31:51\",\"2015-07-07T15:01:50\",\"2015-07-08T00:31:43\",\"2015-07-08T03:01:43\",\"2015-07-08T13:31:42\",\"2015-07-09T00:31:35\",\"2015-07-09T08:31:35\",\"2015-07-09T19:01:34\",\"2015-07-09T19:59:45\",\"2015-07-10T00:31:41\",\"2015-07-10T08:31:41\",\"2015-07-10T20:01:40\",\"2015-07-11T00:31:34\",\"2015-07-11T05:01:34\",\"2015-07-11T16:01:33\",\"2015-07-12T00:31:28\",\"2015-07-12T08:31:28\",\"2015-07-12T19:31:27\",\"2015-07-13T00:31:20\",\"2015-07-13T08:31:20\",\"2015-07-13T18:31:19\",\"2015-07-13T19:31:19\",\"2015-07-14T00:31:14\",\"2015-07-14T08:31:14\",\"2015-07-14T18:31:13\",\"2015-07-14T19:31:13\",\"2015-07-15T00:31:06\",\"2015-07-15T07:01:06\",\"2015-07-15T18:01:05\",\"2015-07-16T00:31:58\",\"2015-07-16T09:31:58\",\"2015-07-16T21:01:57\",\"2015-07-17T06:01:51\",\"2015-07-17T17:01:50\",\"2015-07-17T18:01:50\",\"2015-07-18T00:31:43\",\"2015-07-18T06:31:43\",\"2015-07-18T18:01:42\",\"2015-07-19T00:31:35\",\"2015-07-19T09:01:35\",\"2015-07-19T20:01:34\",\"2015-07-20T08:01:30\",\"2015-07-20T18:01:29\",\"2015-07-21T00:31:21\",\"2015-07-21T07:31:21\",\"2015-07-21T18:01:20\",\"2015-07-22T00:31:13\",\"2015-07-22T08:31:13\",\"2015-07-22T19:31:12\",\"2015-07-23T00:31:05\",\"2015-07-23T07:31:05\",\"2015-07-23T18:01:04\",\"2015-07-23T19:01:04\",\"2015-07-24T02:31:58\",\"2015-07-24T13:31:57\",\"2015-07-25T00:31:51\",\"2015-07-25T10:31:51\",\"2015-07-25T21:31:50\",\"2015-07-25T22:31:50\",\"2015-07-26T00:31:43\",\"2015-07-26T07:31:43\",\"2015-07-26T19:01:42\",\"2015-07-27T00:31:35\",\"2015-07-27T07:31:35\",\"2015-07-27T19:31:34\",\"2015-07-28T00:31:27\",\"2015-07-28T10:01:27\",\"2015-07-28T21:01:26\",\"2015-07-29T02:01:20\",\"2015-07-29T13:31:19\",\"2015-07-30T00:31:12\",\"2015-07-30T02:31:12\",\"2015-07-30T13:31:11\",\"2015-07-31T00:31:04\",\"2015-07-31T04:01:04\",\"2015-07-31T05:01:04\",\"2015-07-31T17:01:03\",\"2015-08-01T00:31:56\",\"2015-08-01T09:31:56\",\"2015-08-01T20:01:55\",\"2015-08-02T00:31:48\",\"2015-08-02T11:31:48\",\"2015-08-02T22:31:47\",\"2015-08-03T07:01:41\",\"2015-08-03T18:31:40\",\"2015-08-04T00:31:36\",\"2015-08-04T09:31:36\",\"2015-08-04T20:31:35\",\"2015-08-05T00:31:28\",\"2015-08-05T05:01:28\",\"2015-08-05T17:01:27\",\"2015-08-06T00:31:20\",\"2015-08-06T11:01:20\",\"2015-08-06T22:01:19\",\"2015-08-07T02:31:13\",\"2015-08-07T13:31:12\",\"2015-08-08T00:31:04\",\"2015-08-08T10:01:04\",\"2015-08-08T20:31:03\",\"2015-08-09T00:31:59\",\"2015-08-09T04:01:59\",\"2015-08-09T16:01:58\",\"2015-08-10T11:01:53\",\"2015-08-10T22:31:52\",\"2015-08-11T09:01:46\",\"2015-08-11T19:31:45\",\"2015-08-12T00:31:39\",\"2015-08-12T07:01:39\",\"2015-08-12T18:01:38\",\"2015-08-13T00:31:35\",\"2015-08-13T03:01:35\",\"2015-08-13T14:01:34\",\"2015-08-14T00:31:27\",\"2015-08-14T09:01:27\",\"2015-08-14T20:01:26\",\"2015-08-15T00:31:19\",\"2015-08-15T10:01:19\",\"2015-08-15T21:01:18\",\"2015-08-16T10:01:11\",\"2015-08-16T22:01:10\",\"2015-08-17T00:31:06\",\"2015-08-17T10:31:06\",\"2015-08-17T21:31:05\",\"2015-08-18T00:31:58\",\"2015-08-18T08:31:58\",\"2015-08-18T19:31:57\",\"2015-08-19T01:31:54\",\"2015-08-19T12:31:53\",\"2015-08-20T00:31:43\",\"2015-08-20T11:31:43\",\"2015-08-20T22:31:42\",\"2015-08-21T00:31:35\",\"2015-08-21T10:31:35\",\"2015-08-21T22:31:34\",\"2015-08-22T04:31:30\",\"2015-08-22T15:31:29\",\"2015-08-23T00:31:22\",\"2015-08-23T05:31:22\",\"2015-08-23T17:31:21\",\"2015-08-24T00:31:14\",\"2015-08-24T11:31:14\",\"2015-08-24T22:31:13\",\"2015-08-25T00:31:10\",\"2015-08-25T09:31:10\",\"2015-08-25T21:01:09\",\"2015-08-26T02:01:04\",\"2015-08-26T13:31:03\",\"2015-08-27T00:31:59\",\"2015-08-27T08:01:59\",\"2015-08-27T19:31:58\",\"2015-08-28T00:31:55\",\"2015-08-28T10:01:55\",\"2015-08-28T21:01:54\",\"2015-08-29T03:03:57\",\"2015-08-29T15:33:56\",\"2015-08-30T00:31:52\",\"2015-08-30T08:31:52\",\"2015-08-30T09:31:52\",\"2015-08-30T20:31:51\",\"2015-08-31T00:31:44\",\"2015-08-31T08:01:44\",\"2015-08-31T19:01:43\",\"2015-09-01T02:01:41\",\"2015-09-01T13:01:40\",\"2015-09-01T23:31:39\",\"2015-09-02T08:31:35\",\"2015-09-02T20:01:34\",\"2015-09-03T00:31:28\",\"2015-09-03T04:01:28\",\"2015-09-03T15:01:27\",\"2015-09-03T16:01:27\",\"2015-09-04T00:31:21\",\"2015-09-04T11:01:21\",\"2015-09-04T22:31:20\",\"2015-09-05T00:31:16\",\"2015-09-05T11:31:16\",\"2015-09-05T23:01:15\",\"2015-09-06T07:33:20\",\"2015-09-06T19:03:19\",\"2015-09-07T00:31:10\",\"2015-09-07T10:31:10\",\"2015-09-07T22:01:09\",\"2015-09-08T00:31:02\",\"2015-09-08T09:31:02\",\"2015-09-08T22:01:01\",\"2015-09-09T12:01:54\",\"2015-09-09T23:31:53\",\"2015-09-10T01:31:47\",\"2015-09-10T12:31:46\",\"2015-09-10T23:31:45\",\"2015-09-11T03:31:39\",\"2015-09-11T14:31:38\",\"2015-09-12T00:31:31\",\"2015-09-12T05:31:31\",\"2015-09-12T16:31:30\",\"2015-09-13T00:31:23\",\"2015-09-13T10:01:23\",\"2015-09-13T21:01:22\",\"2015-09-14T00:31:15\",\"2015-09-14T10:01:15\",\"2015-09-14T22:01:14\",\"2015-09-15T00:05:08\",\"2015-09-15T00:31:08\",\"2015-09-15T06:01:08\",\"2015-09-15T17:01:07\",\"2015-09-16T00:32:03\",\"2015-09-16T10:32:03\",\"2015-09-16T22:02:02\",\"2015-09-17T06:31:56\",\"2015-09-17T17:01:55\",\"2015-09-18T00:31:51\",\"2015-09-18T07:31:51\",\"2015-09-18T19:01:50\",\"2015-09-19T12:31:43\",\"2015-09-19T13:31:43\",\"2015-09-19T23:31:42\",\"2015-09-20T03:01:37\",\"2015-09-20T14:01:36\",\"2015-09-21T00:31:32\",\"2015-09-21T01:31:32\",\"2015-09-21T13:31:31\",\"2015-09-21T23:31:30\",\"2015-09-22T02:31:24\",\"2015-09-22T14:01:23\",\"2015-09-23T00:31:16\",\"2015-09-23T04:01:16\",\"2015-09-23T15:31:15\",\"2015-09-24T00:31:08\",\"2015-09-24T07:31:08\",\"2015-09-24T18:31:07\",\"2015-09-25T00:32:00\",\"2015-09-25T07:32:00\",\"2015-09-25T18:31:59\",\"2015-09-26T00:31:52\",\"2015-09-26T06:31:52\",\"2015-09-26T18:01:51\",\"2015-09-27T00:31:44\",\"2015-09-27T09:31:44\",\"2015-09-27T21:31:43\",\"2015-09-28T00:31:36\",\"2015-09-28T07:31:36\",\"2015-09-28T18:31:35\",\"2015-09-29T00:31:28\",\"2015-09-29T07:01:28\",\"2015-09-29T18:31:27\",\"2015-09-30T00:31:20\",\"2015-09-30T11:31:20\",\"2015-09-30T21:31:19\",\"2015-10-01T05:31:13\",\"2015-10-01T17:31:12\",\"2015-10-02T00:31:06\",\"2015-10-02T05:31:06\",\"2015-10-02T16:31:05\",\"2015-10-03T02:32:01\",\"2015-10-03T13:02:00\",\"2015-10-03T23:31:59\",\"2015-10-04T05:01:51\",\"2015-10-04T16:01:50\",\"2015-10-05T05:01:47\",\"2015-10-05T15:31:46\",\"2015-10-06T00:31:39\",\"2015-10-06T10:31:39\",\"2015-10-06T23:01:38\",\"2015-10-07T06:01:32\",\"2015-10-07T16:31:31\",\"2015-10-08T00:31:25\",\"2015-10-08T04:31:25\",\"2015-10-08T15:31:24\",\"2015-10-09T00:31:19\",\"2015-10-09T09:31:19\",\"2015-10-09T20:31:18\",\"2015-10-10T01:03:23\",\"2015-10-10T12:03:22\",\"2015-10-10T23:03:21\",\"2015-10-11T07:31:15\",\"2015-10-11T19:01:14\",\"2015-10-12T00:31:07\",\"2015-10-12T08:31:07\",\"2015-10-12T19:01:06\",\"2015-10-13T00:32:00\",\"2015-10-13T06:32:00\",\"2015-10-13T17:31:59\",\"2015-10-14T00:31:54\",\"2015-10-14T10:01:54\",\"2015-10-14T21:01:53\",\"2015-10-15T01:31:47\",\"2015-10-15T12:01:46\",\"2015-10-15T23:01:45\",\"2015-10-16T03:31:39\",\"2015-10-16T14:01:38\",\"2015-10-17T00:31:31\",\"2015-10-17T02:31:31\",\"2015-10-17T13:31:30\",\"2015-10-18T00:31:23\",\"2015-10-18T02:01:23\",\"2015-10-18T13:01:22\",\"2015-10-18T23:31:21\",\"2015-10-19T00:31:14\",\"2015-10-19T11:31:14\",\"2015-10-19T22:01:13\",\"2015-10-23T00:31:51\",\"2015-10-23T04:01:53\",\"2015-10-23T15:01:52\",\"2015-10-24T00:31:44\",\"2015-10-24T09:31:46\",\"2015-10-24T20:31:45\",\"2015-10-25T00:31:38\",\"2015-10-25T05:31:40\",\"2015-10-25T16:31:39\",\"2015-10-26T00:31:34\",\"2015-10-26T08:01:36\",\"2015-10-26T20:01:35\",\"2015-10-27T00:31:31\",\"2015-10-27T07:01:33\",\"2015-10-27T18:01:32\",\"2015-10-28T00:31:27\",\"2015-10-28T02:01:29\",\"2015-10-28T14:01:28\",\"2015-10-29T00:31:23\",\"2015-10-29T07:31:25\",\"2015-10-29T19:01:24\",\"2015-10-30T00:31:17\",\"2015-10-30T04:31:19\",\"2015-10-30T16:01:18\",\"2015-10-31T00:31:16\",\"2015-10-31T03:31:18\",\"2015-10-31T15:01:17\",\"2015-11-01T00:31:10\",\"2015-11-01T04:01:12\",\"2015-11-01T15:31:11\",\"2015-11-01T23:31:07\",\"2015-11-02T00:32:08\",\"2015-11-02T02:32:10\",\"2015-11-02T13:32:09\",\"2015-11-03T00:31:07\",\"2015-11-03T06:31:09\",\"2015-11-03T18:01:08\",\"2015-11-04T00:32:02\",\"2015-11-04T01:32:04\",\"2015-11-04T12:32:03\",\"2015-11-05T00:31:59\",\"2015-11-05T02:02:01\",\"2015-11-05T13:32:00\",\"2015-11-06T00:31:54\",\"2015-11-06T05:31:56\",\"2015-11-06T16:31:55\",\"2015-11-07T00:31:51\",\"2015-11-07T11:01:53\",\"2015-11-07T21:31:52\",\"2015-11-08T00:31:51\",\"2015-11-08T02:01:53\",\"2015-11-08T13:31:52\",\"2015-11-09T00:31:50\",\"2015-11-09T02:31:52\",\"2015-11-09T14:01:51\",\"2015-11-10T00:31:50\",\"2015-11-10T06:01:52\",\"2015-11-10T17:31:51\",\"2015-11-11T00:31:49\",\"2015-11-11T08:31:51\",\"2015-11-11T19:01:50\",\"2015-11-12T00:31:47\",\"2015-11-12T08:31:49\",\"2015-11-12T20:01:48\",\"2015-11-13T00:31:44\",\"2015-11-13T01:31:46\",\"2015-11-13T12:01:45\",\"2015-11-13T23:31:44\",\"2015-11-14T00:31:40\",\"2015-11-14T04:31:42\",\"2015-11-14T15:31:41\",\"2015-11-15T00:31:39\",\"2015-11-15T02:01:41\",\"2015-11-15T14:01:40\",\"2015-11-16T00:31:38\",\"2015-11-16T03:01:40\",\"2015-11-16T14:31:39\",\"2015-11-17T00:31:34\",\"2015-11-17T05:31:36\",\"2015-11-17T06:31:36\",\"2015-11-17T17:31:35\",\"2015-11-18T00:31:33\",\"2015-11-18T08:31:35\",\"2015-11-18T19:31:34\",\"2015-11-19T00:31:33\",\"2015-11-19T07:01:35\",\"2015-11-19T18:01:34\",\"2015-11-20T00:31:29\",\"2015-11-20T05:31:31\",\"2015-11-20T17:01:30\",\"2015-11-21T00:31:26\",\"2015-11-21T05:31:28\",\"2015-11-21T16:31:27\",\"2015-11-22T00:31:23\",\"2015-11-22T02:31:25\",\"2015-11-22T14:31:24\",\"2015-11-23T00:31:17\",\"2015-11-23T07:01:19\",\"2015-11-23T08:01:19\",\"2015-11-23T19:01:18\",\"2015-11-24T00:31:15\",\"2015-11-24T10:01:17\",\"2015-11-24T21:31:16\",\"2015-11-25T00:31:09\",\"2015-11-25T08:31:11\",\"2015-11-25T19:01:10\",\"2015-11-26T00:31:07\",\"2015-11-26T04:01:09\",\"2015-11-26T15:01:08\",\"2015-11-27T00:32:00\",\"2015-11-27T09:02:02\",\"2015-11-27T19:02:01\",\"2015-11-28T00:31:56\",\"2015-11-28T08:01:58\",\"2015-11-28T19:01:57\",\"2015-11-29T00:31:52\",\"2015-11-29T04:01:54\",\"2015-11-29T15:31:53\",\"2015-11-30T00:31:53\",\"2015-11-30T04:01:55\",\"2015-11-30T15:31:54\",\"2015-12-01T00:31:54\",\"2015-12-01T06:31:56\",\"2015-12-01T17:31:55\",\"2015-12-02T00:31:49\",\"2015-12-02T02:31:51\",\"2015-12-02T13:31:50\",\"2015-12-03T00:31:46\",\"2015-12-03T02:01:48\",\"2015-12-03T12:31:47\",\"2015-12-03T22:31:46\",\"2015-12-04T00:31:43\",\"2015-12-04T07:31:45\",\"2015-12-04T09:01:45\",\"2015-12-04T18:31:44\",\"2015-12-05T00:31:45\",\"2015-12-05T06:01:47\",\"2015-12-05T17:01:46\",\"2015-12-06T00:31:44\",\"2015-12-06T02:01:46\",\"2015-12-06T13:01:45\",\"2015-12-07T00:31:45\",\"2015-12-07T02:31:47\",\"2015-12-07T13:01:46\",\"2015-12-08T00:31:43\",\"2015-12-08T09:01:45\",\"2015-12-08T18:31:44\",\"2015-12-09T00:31:40\",\"2015-12-09T09:01:42\",\"2015-12-09T21:01:41\",\"2015-12-10T00:31:42\",\"2015-12-10T07:01:44\",\"2015-12-10T17:01:43\",\"2015-12-11T00:31:41\",\"2015-12-11T07:31:43\",\"2015-12-11T18:01:42\",\"2015-12-12T00:31:36\",\"2015-12-12T03:01:38\",\"2015-12-12T13:01:37\",\"2015-12-12T23:31:36\",\"2015-12-13T00:31:35\",\"2015-12-13T05:31:37\",\"2015-12-13T15:31:36\",\"2015-12-14T00:31:33\",\"2015-12-14T11:01:35\",\"2015-12-14T21:01:34\",\"2015-12-15T00:31:30\",\"2015-12-15T06:31:32\",\"2015-12-15T16:31:31\",\"2015-12-16T00:31:26\",\"2015-12-16T10:31:28\",\"2015-12-16T21:31:27\",\"2015-12-17T00:31:24\",\"2015-12-17T03:01:26\",\"2015-12-17T14:31:25\",\"2015-12-18T00:31:17\",\"2015-12-18T05:31:19\",\"2015-12-18T17:31:18\",\"2015-12-19T00:31:16\",\"2015-12-19T07:01:18\",\"2015-12-19T17:31:17\",\"2015-12-20T00:31:12\",\"2015-12-20T03:01:14\",\"2015-12-20T14:01:13\",\"2015-12-21T00:31:08\",\"2015-12-21T11:31:10\",\"2015-12-21T22:01:09\",\"2015-12-22T00:31:02\",\"2015-12-22T11:31:04\",\"2015-12-22T22:01:03\",\"2015-12-23T00:31:56\",\"2015-12-23T11:01:58\",\"2015-12-23T12:01:58\",\"2015-12-23T22:01:57\",\"2015-12-24T00:31:55\",\"2015-12-24T07:31:57\",\"2015-12-24T17:01:56\",\"2015-12-25T00:31:53\",\"2015-12-25T08:01:55\",\"2015-12-25T18:31:54\",\"2015-12-26T00:31:49\",\"2015-12-26T09:01:51\",\"2015-12-26T20:01:50\",\"2015-12-27T00:31:44\",\"2015-12-27T09:01:46\",\"2015-12-27T20:01:45\",\"2015-12-28T00:31:44\",\"2015-12-28T02:31:46\",\"2015-12-28T14:01:45\",\"2015-12-29T00:31:43\",\"2015-12-29T08:31:45\",\"2015-12-29T20:01:44\",\"2015-12-30T00:31:42\",\"2015-12-30T09:31:44\",\"2015-12-30T20:31:43\",\"2015-12-31T00:31:38\",\"2015-12-31T09:01:40\",\"2015-12-31T19:31:39\",\"2016-01-01T00:31:35\",\"2016-01-01T05:01:37\",\"2016-01-01T16:01:36\",\"2016-01-02T00:31:32\",\"2016-01-02T06:01:34\",\"2016-01-02T16:31:33\",\"2016-01-03T00:31:26\",\"2016-01-03T11:31:28\",\"2016-01-03T22:01:27\",\"2016-01-04T00:31:25\",\"2016-01-04T08:31:27\",\"2016-01-04T19:31:26\",\"2016-01-05T00:31:21\",\"2016-01-05T08:31:23\",\"2016-01-05T18:31:22\",\"2016-01-05T19:31:22\",\"2016-01-06T00:31:15\",\"2016-01-06T07:31:17\",\"2016-01-06T18:31:16\",\"2016-01-07T00:31:12\",\"2016-01-07T07:01:14\",\"2016-01-07T18:31:13\",\"2016-01-08T00:31:06\",\"2016-01-08T06:31:08\",\"2016-01-08T17:31:07\",\"2016-01-09T00:32:00\",\"2016-01-09T03:32:02\",\"2016-01-09T14:02:01\",\"2016-01-10T00:31:59\",\"2016-01-10T02:32:01\",\"2016-01-10T13:02:00\",\"2016-01-10T23:31:59\",\"2016-01-11T00:31:56\",\"2016-01-11T11:31:57\",\"2016-01-11T22:31:56\",\"2016-01-12T00:31:52\",\"2016-01-12T06:31:54\",\"2016-01-12T17:01:53\",\"2016-01-13T00:31:47\",\"2016-01-13T11:01:49\",\"2016-01-13T21:31:48\",\"2016-01-14T00:31:43\",\"2016-01-14T04:31:45\",\"2016-01-14T14:31:44\",\"2016-01-15T00:31:41\",\"2016-01-15T08:01:43\",\"2016-01-15T18:01:42\",\"2016-01-16T00:04:42\",\"2016-01-16T00:31:40\",\"2016-01-16T07:31:42\",\"2016-01-16T17:01:41\",\"2016-01-17T00:31:39\",\"2016-01-17T02:31:41\",\"2016-01-17T13:31:40\",\"2016-01-17T23:31:39\",\"2016-01-18T00:31:36\",\"2016-01-18T06:01:38\",\"2016-01-18T17:01:37\",\"2016-01-19T00:31:35\",\"2016-01-19T08:01:37\",\"2016-01-19T19:01:36\",\"2016-01-20T00:31:34\",\"2016-01-20T09:31:36\",\"2016-01-20T19:01:35\",\"2016-01-21T00:31:31\",\"2016-01-21T06:01:33\",\"2016-01-21T15:31:32\",\"2016-01-22T00:31:27\",\"2016-01-22T07:31:29\",\"2016-01-22T18:01:28\",\"2016-01-23T00:31:22\",\"2016-01-23T04:31:24\",\"2016-01-23T15:01:23\",\"2016-01-24T00:31:22\",\"2016-01-24T02:31:24\",\"2016-01-24T13:31:23\",\"2016-01-25T00:31:19\",\"2016-01-25T12:31:20\",\"2016-01-26T12:34:41\",\"2016-01-26T19:34:43\",\"2016-01-27T00:31:38\",\"2016-01-27T10:01:40\",\"2016-01-27T20:31:39\",\"2016-01-28T00:31:32\",\"2016-01-28T05:01:34\",\"2016-01-28T15:01:33\",\"2016-01-29T00:31:31\",\"2016-01-29T05:31:33\",\"2016-01-29T14:31:32\",\"2016-01-30T00:31:26\",\"2016-01-30T04:31:28\",\"2016-01-30T14:31:27\",\"2016-01-31T00:31:23\",\"2016-01-31T04:01:25\",\"2016-01-31T14:01:24\"],\"xaxis\":\"x\",\"y\":[1,1,1,1,1,1,1,1,1,1,1,1,1,1,1,1,1,1,1,1,1,1,1,1,1,1,1,1,1,1,1,1,1,1,1,1,1,1,1,1,1,1,1,1,1,1,1,1,1,1,1,1,1,1,1,1,1,1,1,1,1,1,1,1,1,1,1,1,1,1,1,1,1,1,1,1,1,1,1,1,1,1,1,1,1,1,1,1,1,1,1,1,1,1,1,1,1,1,1,1,1,1,1,1,1,1,1,1,1,1,1,1,1,1,1,1,1,1,1,1,1,1,1,1,1,1,1,1,1,1,1,1,1,1,1,1,1,1,1,1,1,1,1,1,1,1,1,1,1,1,1,1,1,1,1,1,1,1,1,1,1,1,1,1,1,1,1,1,1,1,1,1,1,1,1,1,1,1,1,1,1,1,1,1,1,1,1,1,1,1,1,1,1,1,1,1,1,1,1,1,1,1,1,1,1,1,1,1,1,1,1,1,1,1,1,1,1,1,1,1,1,1,1,1,1,1,1,1,1,1,1,1,1,1,1,1,1,1,1,1,1,1,1,1,1,1,1,1,1,1,1,1,1,1,1,1,1,1,1,1,1,1,1,1,1,1,1,1,1,1,1,1,1,1,1,1,1,1,1,1,1,1,1,1,1,1,1,1,1,1,1,1,1,1,1,1,1,1,1,1,1,1,1,1,1,1,1,1,1,1,1,1,1,1,1,1,1,1,1,1,1,1,1,1,1,1,1,1,1,1,1,1,1,1,1,1,1,1,1,1,1,1,1,1,1,1,1,1,1,1,1,1,1,1,1,1,1,1,1,1,1,1,1,1,1,1,1,1,1,1,1,1,1,1,1,1,1,1,1,1,1,1,1,1,1,1,1,1,1,1,1,1,1,1,1,1,1,1,1,1,1,1,1,1,1,1,1,1,1,1,1,1,1,1,1,1,1,1,1,1,1,1,1,1,1,1,1,1,1,1,1,1,1,1,1,1,1,1,1,1,1,1,1,1,1,1,1,1,1,1,1,1,1,1,1,1,1,1,1,1,1,1,1,1,1,1,1,1,1,1,1,1,1,1,1,1,1,1,1,1,1,1,1,1,1,1,1,1,1,1,1,1,1,1,1,1,1,1,1,1,1,1,1,1,1,1,1,1,1,1,1,1,1,1,1,1,1,1,1,1,1,1,1,1,1,1,1,1,1,1,1,1,1,1,1,1,1,1,1,1,1,1,1,1,1,1,1,1,1,1,1,1,1,1,1,1,1,1,1,1,1,1,1,1,1,1,1,1,1,1,1,1,1,1,1,1,1,1,1,1,1,1,1,1,1,1,1,1,1,1,1,1,1,1,1,1,1,1,1,1,1,1,1,1,1,1,1,1,1,1,1,1,1,1,1,1,1,1,1,1,1,1,1,1,1,1,1,1,1,1,1,1,1,1,1,1,1,1,1,1,1,1,1,1,1,1,1,1,1,1,1,1,1,1,1,1,1,1,1,1,1,1,1,1,1,1,1,1,1,1,1,1,1,1,1,1,1,1,1,1,1,1,1,1,1,1,1,1,1,1,1,1,1,1,1,1,1,1,1,1,1,1,1,1,1,1,1,1,1,1,1,1,1,1,1,1,1,1,1,1,1,1,1,1,1,1,1,1,1,1,1,1,1,1,1,1,1,1,1,1,1,1,1,1,1,1,1,1,1,1,1,1,1,1,1,1,1,1,1,1,1,1,1,1,1,1,1,1,1,1,1,1,1,1,1,1,1,1,1,1,1,1,1,1,1,1,1,1,1,1,1,1,1,1,1,1,1,1,1,1,1,1,1,1,1,1,1,1,1,1,1,1,1,1,1,1,1,1,1,1,1,1,1,1,1,1,1,1,1,1,1,1,1,1,1,1,1,1,1,1,1,1,1,1,1,1,1,1,1,1,1,1,1,1,1,1,1,1,1,1,1,1,1,1,1,1,1,1,1,1,1,1,1,1,1,1,1,1,1,1,1,1,1,1,1,1,1,1,1,1,1,1,1,1,1,1,1,1,1,1,1,1,1,1,1,1,1,1,1,1,1,1,1,1,1,1,1,1,1,1,1,1,1,1,1,1,1,1,1,1,1,1,1,1,1,1,1,1,1,1,1,1,1,1,1,1,1,1,1,1,1,1,1,1,1,1,1,1,1,1,1,1,1,1,1,1,1,1,1,1,1,1,1,1,1,1,1,1,1,1,1,1,1,1,1,1,1,1,1,1,1,1,1,1,1,1,1,1,1,1,1,1,1,1,1,1,1,1,1,1,1,1,1,1,1,1,1,1,1,1,1,1,1,1,1,1,1,1,1,1,1,1,1,1,1,1,1,1,1,1,1,1,1,1,1,1,1,1,1,1,1,1,1,1,1,1,1,1,1,1,1,1,1,1,1,1,1,1,1,1,1,1,1,1,1,1,1,1,1],\"yaxis\":\"y\",\"type\":\"scattergl\"}],                        {\"template\":{\"data\":{\"bar\":[{\"error_x\":{\"color\":\"#2a3f5f\"},\"error_y\":{\"color\":\"#2a3f5f\"},\"marker\":{\"line\":{\"color\":\"#E5ECF6\",\"width\":0.5},\"pattern\":{\"fillmode\":\"overlay\",\"size\":10,\"solidity\":0.2}},\"type\":\"bar\"}],\"barpolar\":[{\"marker\":{\"line\":{\"color\":\"#E5ECF6\",\"width\":0.5},\"pattern\":{\"fillmode\":\"overlay\",\"size\":10,\"solidity\":0.2}},\"type\":\"barpolar\"}],\"carpet\":[{\"aaxis\":{\"endlinecolor\":\"#2a3f5f\",\"gridcolor\":\"white\",\"linecolor\":\"white\",\"minorgridcolor\":\"white\",\"startlinecolor\":\"#2a3f5f\"},\"baxis\":{\"endlinecolor\":\"#2a3f5f\",\"gridcolor\":\"white\",\"linecolor\":\"white\",\"minorgridcolor\":\"white\",\"startlinecolor\":\"#2a3f5f\"},\"type\":\"carpet\"}],\"choropleth\":[{\"colorbar\":{\"outlinewidth\":0,\"ticks\":\"\"},\"type\":\"choropleth\"}],\"contour\":[{\"colorbar\":{\"outlinewidth\":0,\"ticks\":\"\"},\"colorscale\":[[0.0,\"#0d0887\"],[0.1111111111111111,\"#46039f\"],[0.2222222222222222,\"#7201a8\"],[0.3333333333333333,\"#9c179e\"],[0.4444444444444444,\"#bd3786\"],[0.5555555555555556,\"#d8576b\"],[0.6666666666666666,\"#ed7953\"],[0.7777777777777778,\"#fb9f3a\"],[0.8888888888888888,\"#fdca26\"],[1.0,\"#f0f921\"]],\"type\":\"contour\"}],\"contourcarpet\":[{\"colorbar\":{\"outlinewidth\":0,\"ticks\":\"\"},\"type\":\"contourcarpet\"}],\"heatmap\":[{\"colorbar\":{\"outlinewidth\":0,\"ticks\":\"\"},\"colorscale\":[[0.0,\"#0d0887\"],[0.1111111111111111,\"#46039f\"],[0.2222222222222222,\"#7201a8\"],[0.3333333333333333,\"#9c179e\"],[0.4444444444444444,\"#bd3786\"],[0.5555555555555556,\"#d8576b\"],[0.6666666666666666,\"#ed7953\"],[0.7777777777777778,\"#fb9f3a\"],[0.8888888888888888,\"#fdca26\"],[1.0,\"#f0f921\"]],\"type\":\"heatmap\"}],\"heatmapgl\":[{\"colorbar\":{\"outlinewidth\":0,\"ticks\":\"\"},\"colorscale\":[[0.0,\"#0d0887\"],[0.1111111111111111,\"#46039f\"],[0.2222222222222222,\"#7201a8\"],[0.3333333333333333,\"#9c179e\"],[0.4444444444444444,\"#bd3786\"],[0.5555555555555556,\"#d8576b\"],[0.6666666666666666,\"#ed7953\"],[0.7777777777777778,\"#fb9f3a\"],[0.8888888888888888,\"#fdca26\"],[1.0,\"#f0f921\"]],\"type\":\"heatmapgl\"}],\"histogram\":[{\"marker\":{\"pattern\":{\"fillmode\":\"overlay\",\"size\":10,\"solidity\":0.2}},\"type\":\"histogram\"}],\"histogram2d\":[{\"colorbar\":{\"outlinewidth\":0,\"ticks\":\"\"},\"colorscale\":[[0.0,\"#0d0887\"],[0.1111111111111111,\"#46039f\"],[0.2222222222222222,\"#7201a8\"],[0.3333333333333333,\"#9c179e\"],[0.4444444444444444,\"#bd3786\"],[0.5555555555555556,\"#d8576b\"],[0.6666666666666666,\"#ed7953\"],[0.7777777777777778,\"#fb9f3a\"],[0.8888888888888888,\"#fdca26\"],[1.0,\"#f0f921\"]],\"type\":\"histogram2d\"}],\"histogram2dcontour\":[{\"colorbar\":{\"outlinewidth\":0,\"ticks\":\"\"},\"colorscale\":[[0.0,\"#0d0887\"],[0.1111111111111111,\"#46039f\"],[0.2222222222222222,\"#7201a8\"],[0.3333333333333333,\"#9c179e\"],[0.4444444444444444,\"#bd3786\"],[0.5555555555555556,\"#d8576b\"],[0.6666666666666666,\"#ed7953\"],[0.7777777777777778,\"#fb9f3a\"],[0.8888888888888888,\"#fdca26\"],[1.0,\"#f0f921\"]],\"type\":\"histogram2dcontour\"}],\"mesh3d\":[{\"colorbar\":{\"outlinewidth\":0,\"ticks\":\"\"},\"type\":\"mesh3d\"}],\"parcoords\":[{\"line\":{\"colorbar\":{\"outlinewidth\":0,\"ticks\":\"\"}},\"type\":\"parcoords\"}],\"pie\":[{\"automargin\":true,\"type\":\"pie\"}],\"scatter\":[{\"marker\":{\"colorbar\":{\"outlinewidth\":0,\"ticks\":\"\"}},\"type\":\"scatter\"}],\"scatter3d\":[{\"line\":{\"colorbar\":{\"outlinewidth\":0,\"ticks\":\"\"}},\"marker\":{\"colorbar\":{\"outlinewidth\":0,\"ticks\":\"\"}},\"type\":\"scatter3d\"}],\"scattercarpet\":[{\"marker\":{\"colorbar\":{\"outlinewidth\":0,\"ticks\":\"\"}},\"type\":\"scattercarpet\"}],\"scattergeo\":[{\"marker\":{\"colorbar\":{\"outlinewidth\":0,\"ticks\":\"\"}},\"type\":\"scattergeo\"}],\"scattergl\":[{\"marker\":{\"colorbar\":{\"outlinewidth\":0,\"ticks\":\"\"}},\"type\":\"scattergl\"}],\"scattermapbox\":[{\"marker\":{\"colorbar\":{\"outlinewidth\":0,\"ticks\":\"\"}},\"type\":\"scattermapbox\"}],\"scatterpolar\":[{\"marker\":{\"colorbar\":{\"outlinewidth\":0,\"ticks\":\"\"}},\"type\":\"scatterpolar\"}],\"scatterpolargl\":[{\"marker\":{\"colorbar\":{\"outlinewidth\":0,\"ticks\":\"\"}},\"type\":\"scatterpolargl\"}],\"scatterternary\":[{\"marker\":{\"colorbar\":{\"outlinewidth\":0,\"ticks\":\"\"}},\"type\":\"scatterternary\"}],\"surface\":[{\"colorbar\":{\"outlinewidth\":0,\"ticks\":\"\"},\"colorscale\":[[0.0,\"#0d0887\"],[0.1111111111111111,\"#46039f\"],[0.2222222222222222,\"#7201a8\"],[0.3333333333333333,\"#9c179e\"],[0.4444444444444444,\"#bd3786\"],[0.5555555555555556,\"#d8576b\"],[0.6666666666666666,\"#ed7953\"],[0.7777777777777778,\"#fb9f3a\"],[0.8888888888888888,\"#fdca26\"],[1.0,\"#f0f921\"]],\"type\":\"surface\"}],\"table\":[{\"cells\":{\"fill\":{\"color\":\"#EBF0F8\"},\"line\":{\"color\":\"white\"}},\"header\":{\"fill\":{\"color\":\"#C8D4E3\"},\"line\":{\"color\":\"white\"}},\"type\":\"table\"}]},\"layout\":{\"annotationdefaults\":{\"arrowcolor\":\"#2a3f5f\",\"arrowhead\":0,\"arrowwidth\":1},\"autotypenumbers\":\"strict\",\"coloraxis\":{\"colorbar\":{\"outlinewidth\":0,\"ticks\":\"\"}},\"colorscale\":{\"diverging\":[[0,\"#8e0152\"],[0.1,\"#c51b7d\"],[0.2,\"#de77ae\"],[0.3,\"#f1b6da\"],[0.4,\"#fde0ef\"],[0.5,\"#f7f7f7\"],[0.6,\"#e6f5d0\"],[0.7,\"#b8e186\"],[0.8,\"#7fbc41\"],[0.9,\"#4d9221\"],[1,\"#276419\"]],\"sequential\":[[0.0,\"#0d0887\"],[0.1111111111111111,\"#46039f\"],[0.2222222222222222,\"#7201a8\"],[0.3333333333333333,\"#9c179e\"],[0.4444444444444444,\"#bd3786\"],[0.5555555555555556,\"#d8576b\"],[0.6666666666666666,\"#ed7953\"],[0.7777777777777778,\"#fb9f3a\"],[0.8888888888888888,\"#fdca26\"],[1.0,\"#f0f921\"]],\"sequentialminus\":[[0.0,\"#0d0887\"],[0.1111111111111111,\"#46039f\"],[0.2222222222222222,\"#7201a8\"],[0.3333333333333333,\"#9c179e\"],[0.4444444444444444,\"#bd3786\"],[0.5555555555555556,\"#d8576b\"],[0.6666666666666666,\"#ed7953\"],[0.7777777777777778,\"#fb9f3a\"],[0.8888888888888888,\"#fdca26\"],[1.0,\"#f0f921\"]]},\"colorway\":[\"#636efa\",\"#EF553B\",\"#00cc96\",\"#ab63fa\",\"#FFA15A\",\"#19d3f3\",\"#FF6692\",\"#B6E880\",\"#FF97FF\",\"#FECB52\"],\"font\":{\"color\":\"#2a3f5f\"},\"geo\":{\"bgcolor\":\"white\",\"lakecolor\":\"white\",\"landcolor\":\"#E5ECF6\",\"showlakes\":true,\"showland\":true,\"subunitcolor\":\"white\"},\"hoverlabel\":{\"align\":\"left\"},\"hovermode\":\"closest\",\"mapbox\":{\"style\":\"light\"},\"paper_bgcolor\":\"white\",\"plot_bgcolor\":\"#E5ECF6\",\"polar\":{\"angularaxis\":{\"gridcolor\":\"white\",\"linecolor\":\"white\",\"ticks\":\"\"},\"bgcolor\":\"#E5ECF6\",\"radialaxis\":{\"gridcolor\":\"white\",\"linecolor\":\"white\",\"ticks\":\"\"}},\"scene\":{\"xaxis\":{\"backgroundcolor\":\"#E5ECF6\",\"gridcolor\":\"white\",\"gridwidth\":2,\"linecolor\":\"white\",\"showbackground\":true,\"ticks\":\"\",\"zerolinecolor\":\"white\"},\"yaxis\":{\"backgroundcolor\":\"#E5ECF6\",\"gridcolor\":\"white\",\"gridwidth\":2,\"linecolor\":\"white\",\"showbackground\":true,\"ticks\":\"\",\"zerolinecolor\":\"white\"},\"zaxis\":{\"backgroundcolor\":\"#E5ECF6\",\"gridcolor\":\"white\",\"gridwidth\":2,\"linecolor\":\"white\",\"showbackground\":true,\"ticks\":\"\",\"zerolinecolor\":\"white\"}},\"shapedefaults\":{\"line\":{\"color\":\"#2a3f5f\"}},\"ternary\":{\"aaxis\":{\"gridcolor\":\"white\",\"linecolor\":\"white\",\"ticks\":\"\"},\"baxis\":{\"gridcolor\":\"white\",\"linecolor\":\"white\",\"ticks\":\"\"},\"bgcolor\":\"#E5ECF6\",\"caxis\":{\"gridcolor\":\"white\",\"linecolor\":\"white\",\"ticks\":\"\"}},\"title\":{\"x\":0.05},\"xaxis\":{\"automargin\":true,\"gridcolor\":\"white\",\"linecolor\":\"white\",\"ticks\":\"\",\"title\":{\"standoff\":15},\"zerolinecolor\":\"white\",\"zerolinewidth\":2},\"yaxis\":{\"automargin\":true,\"gridcolor\":\"white\",\"linecolor\":\"white\",\"ticks\":\"\",\"title\":{\"standoff\":15},\"zerolinecolor\":\"white\",\"zerolinewidth\":2}}},\"xaxis\":{\"anchor\":\"y\",\"domain\":[0.0,1.0],\"title\":{\"text\":\"Timestamp\"}},\"yaxis\":{\"anchor\":\"x\",\"domain\":[0.0,1.0],\"title\":{\"text\":\"Count\"}},\"legend\":{\"tracegroupgap\":0},\"margin\":{\"t\":60}},                        {\"responsive\": true}                    ).then(function(){\n                            \nvar gd = document.getElementById('d2d2eaf2-f4c5-48e7-8463-ca6b96ec806f');\nvar x = new MutationObserver(function (mutations, observer) {{\n        var display = window.getComputedStyle(gd).display;\n        if (!display || display === 'none') {{\n            console.log([gd, 'removed!']);\n            Plotly.purge(gd);\n            observer.disconnect();\n        }}\n}});\n\n// Listen for the removal of the full notebook cells\nvar notebookContainer = gd.closest('#notebook-container');\nif (notebookContainer) {{\n    x.observe(notebookContainer, {childList: true});\n}}\n\n// Listen for the clearing of the current output cell\nvar outputEl = gd.closest('.output');\nif (outputEl) {{\n    x.observe(outputEl, {childList: true});\n}}\n\n                        })                };                });            </script>        </div>"
     },
     "metadata": {},
     "output_type": "display_data"
    }
   ],
   "source": [
    "fig = px.scatter(minus_5, x=\"Timestamp\", y=\"Count\")\n",
    "\n",
    "fig.show()"
   ],
   "metadata": {
    "collapsed": false,
    "pycharm": {
     "name": "#%%\n"
    }
   }
  },
  {
   "cell_type": "code",
   "execution_count": 99,
   "outputs": [
    {
     "ename": "IntCastingNaNError",
     "evalue": "Cannot convert non-finite values (NA or inf) to integer",
     "output_type": "error",
     "traceback": [
      "\u001B[0;31m---------------------------------------------------------------------------\u001B[0m",
      "\u001B[0;31mIntCastingNaNError\u001B[0m                        Traceback (most recent call last)",
      "\u001B[0;32m/var/folders/nt/w3ctvjn94jn89w856x4xh8zc0000gn/T/ipykernel_94121/2549296974.py\u001B[0m in \u001B[0;36m<module>\u001B[0;34m\u001B[0m\n\u001B[0;32m----> 1\u001B[0;31m \u001B[0;34m(\u001B[0m\u001B[0mminus_5\u001B[0m \u001B[0;34m-\u001B[0m \u001B[0mminus_5\u001B[0m\u001B[0;34m.\u001B[0m\u001B[0mshift\u001B[0m\u001B[0;34m(\u001B[0m\u001B[0;34m)\u001B[0m\u001B[0;34m)\u001B[0m\u001B[0;34m.\u001B[0m\u001B[0mastype\u001B[0m\u001B[0;34m(\u001B[0m\u001B[0;34m'timedelta64[s]'\u001B[0m\u001B[0;34m)\u001B[0m\u001B[0;34m\u001B[0m\u001B[0;34m\u001B[0m\u001B[0m\n\u001B[0m",
      "\u001B[0;32m~/miniforge3/lib/python3.9/site-packages/pandas/core/generic.py\u001B[0m in \u001B[0;36mastype\u001B[0;34m(self, dtype, copy, errors)\u001B[0m\n\u001B[1;32m   5918\u001B[0m         \u001B[0;32melse\u001B[0m\u001B[0;34m:\u001B[0m\u001B[0;34m\u001B[0m\u001B[0;34m\u001B[0m\u001B[0m\n\u001B[1;32m   5919\u001B[0m             \u001B[0;31m# else, only a single dtype is given\u001B[0m\u001B[0;34m\u001B[0m\u001B[0;34m\u001B[0m\u001B[0m\n\u001B[0;32m-> 5920\u001B[0;31m             \u001B[0mnew_data\u001B[0m \u001B[0;34m=\u001B[0m \u001B[0mself\u001B[0m\u001B[0;34m.\u001B[0m\u001B[0m_mgr\u001B[0m\u001B[0;34m.\u001B[0m\u001B[0mastype\u001B[0m\u001B[0;34m(\u001B[0m\u001B[0mdtype\u001B[0m\u001B[0;34m=\u001B[0m\u001B[0mdtype\u001B[0m\u001B[0;34m,\u001B[0m \u001B[0mcopy\u001B[0m\u001B[0;34m=\u001B[0m\u001B[0mcopy\u001B[0m\u001B[0;34m,\u001B[0m \u001B[0merrors\u001B[0m\u001B[0;34m=\u001B[0m\u001B[0merrors\u001B[0m\u001B[0;34m)\u001B[0m\u001B[0;34m\u001B[0m\u001B[0;34m\u001B[0m\u001B[0m\n\u001B[0m\u001B[1;32m   5921\u001B[0m             \u001B[0;32mreturn\u001B[0m \u001B[0mself\u001B[0m\u001B[0;34m.\u001B[0m\u001B[0m_constructor\u001B[0m\u001B[0;34m(\u001B[0m\u001B[0mnew_data\u001B[0m\u001B[0;34m)\u001B[0m\u001B[0;34m.\u001B[0m\u001B[0m__finalize__\u001B[0m\u001B[0;34m(\u001B[0m\u001B[0mself\u001B[0m\u001B[0;34m,\u001B[0m \u001B[0mmethod\u001B[0m\u001B[0;34m=\u001B[0m\u001B[0;34m\"astype\"\u001B[0m\u001B[0;34m)\u001B[0m\u001B[0;34m\u001B[0m\u001B[0;34m\u001B[0m\u001B[0m\n\u001B[1;32m   5922\u001B[0m \u001B[0;34m\u001B[0m\u001B[0m\n",
      "\u001B[0;32m~/miniforge3/lib/python3.9/site-packages/pandas/core/internals/managers.py\u001B[0m in \u001B[0;36mastype\u001B[0;34m(self, dtype, copy, errors)\u001B[0m\n\u001B[1;32m    417\u001B[0m \u001B[0;34m\u001B[0m\u001B[0m\n\u001B[1;32m    418\u001B[0m     \u001B[0;32mdef\u001B[0m \u001B[0mastype\u001B[0m\u001B[0;34m(\u001B[0m\u001B[0mself\u001B[0m\u001B[0;34m:\u001B[0m \u001B[0mT\u001B[0m\u001B[0;34m,\u001B[0m \u001B[0mdtype\u001B[0m\u001B[0;34m,\u001B[0m \u001B[0mcopy\u001B[0m\u001B[0;34m:\u001B[0m \u001B[0mbool\u001B[0m \u001B[0;34m=\u001B[0m \u001B[0;32mFalse\u001B[0m\u001B[0;34m,\u001B[0m \u001B[0merrors\u001B[0m\u001B[0;34m:\u001B[0m \u001B[0mstr\u001B[0m \u001B[0;34m=\u001B[0m \u001B[0;34m\"raise\"\u001B[0m\u001B[0;34m)\u001B[0m \u001B[0;34m->\u001B[0m \u001B[0mT\u001B[0m\u001B[0;34m:\u001B[0m\u001B[0;34m\u001B[0m\u001B[0;34m\u001B[0m\u001B[0m\n\u001B[0;32m--> 419\u001B[0;31m         \u001B[0;32mreturn\u001B[0m \u001B[0mself\u001B[0m\u001B[0;34m.\u001B[0m\u001B[0mapply\u001B[0m\u001B[0;34m(\u001B[0m\u001B[0;34m\"astype\"\u001B[0m\u001B[0;34m,\u001B[0m \u001B[0mdtype\u001B[0m\u001B[0;34m=\u001B[0m\u001B[0mdtype\u001B[0m\u001B[0;34m,\u001B[0m \u001B[0mcopy\u001B[0m\u001B[0;34m=\u001B[0m\u001B[0mcopy\u001B[0m\u001B[0;34m,\u001B[0m \u001B[0merrors\u001B[0m\u001B[0;34m=\u001B[0m\u001B[0merrors\u001B[0m\u001B[0;34m)\u001B[0m\u001B[0;34m\u001B[0m\u001B[0;34m\u001B[0m\u001B[0m\n\u001B[0m\u001B[1;32m    420\u001B[0m \u001B[0;34m\u001B[0m\u001B[0m\n\u001B[1;32m    421\u001B[0m     def convert(\n",
      "\u001B[0;32m~/miniforge3/lib/python3.9/site-packages/pandas/core/internals/managers.py\u001B[0m in \u001B[0;36mapply\u001B[0;34m(self, f, align_keys, ignore_failures, **kwargs)\u001B[0m\n\u001B[1;32m    302\u001B[0m                     \u001B[0mapplied\u001B[0m \u001B[0;34m=\u001B[0m \u001B[0mb\u001B[0m\u001B[0;34m.\u001B[0m\u001B[0mapply\u001B[0m\u001B[0;34m(\u001B[0m\u001B[0mf\u001B[0m\u001B[0;34m,\u001B[0m \u001B[0;34m**\u001B[0m\u001B[0mkwargs\u001B[0m\u001B[0;34m)\u001B[0m\u001B[0;34m\u001B[0m\u001B[0;34m\u001B[0m\u001B[0m\n\u001B[1;32m    303\u001B[0m                 \u001B[0;32melse\u001B[0m\u001B[0;34m:\u001B[0m\u001B[0;34m\u001B[0m\u001B[0;34m\u001B[0m\u001B[0m\n\u001B[0;32m--> 304\u001B[0;31m                     \u001B[0mapplied\u001B[0m \u001B[0;34m=\u001B[0m \u001B[0mgetattr\u001B[0m\u001B[0;34m(\u001B[0m\u001B[0mb\u001B[0m\u001B[0;34m,\u001B[0m \u001B[0mf\u001B[0m\u001B[0;34m)\u001B[0m\u001B[0;34m(\u001B[0m\u001B[0;34m**\u001B[0m\u001B[0mkwargs\u001B[0m\u001B[0;34m)\u001B[0m\u001B[0;34m\u001B[0m\u001B[0;34m\u001B[0m\u001B[0m\n\u001B[0m\u001B[1;32m    305\u001B[0m             \u001B[0;32mexcept\u001B[0m \u001B[0;34m(\u001B[0m\u001B[0mTypeError\u001B[0m\u001B[0;34m,\u001B[0m \u001B[0mNotImplementedError\u001B[0m\u001B[0;34m)\u001B[0m\u001B[0;34m:\u001B[0m\u001B[0;34m\u001B[0m\u001B[0;34m\u001B[0m\u001B[0m\n\u001B[1;32m    306\u001B[0m                 \u001B[0;32mif\u001B[0m \u001B[0;32mnot\u001B[0m \u001B[0mignore_failures\u001B[0m\u001B[0;34m:\u001B[0m\u001B[0;34m\u001B[0m\u001B[0;34m\u001B[0m\u001B[0m\n",
      "\u001B[0;32m~/miniforge3/lib/python3.9/site-packages/pandas/core/internals/blocks.py\u001B[0m in \u001B[0;36mastype\u001B[0;34m(self, dtype, copy, errors)\u001B[0m\n\u001B[1;32m    580\u001B[0m         \u001B[0mvalues\u001B[0m \u001B[0;34m=\u001B[0m \u001B[0mself\u001B[0m\u001B[0;34m.\u001B[0m\u001B[0mvalues\u001B[0m\u001B[0;34m\u001B[0m\u001B[0;34m\u001B[0m\u001B[0m\n\u001B[1;32m    581\u001B[0m \u001B[0;34m\u001B[0m\u001B[0m\n\u001B[0;32m--> 582\u001B[0;31m         \u001B[0mnew_values\u001B[0m \u001B[0;34m=\u001B[0m \u001B[0mastype_array_safe\u001B[0m\u001B[0;34m(\u001B[0m\u001B[0mvalues\u001B[0m\u001B[0;34m,\u001B[0m \u001B[0mdtype\u001B[0m\u001B[0;34m,\u001B[0m \u001B[0mcopy\u001B[0m\u001B[0;34m=\u001B[0m\u001B[0mcopy\u001B[0m\u001B[0;34m,\u001B[0m \u001B[0merrors\u001B[0m\u001B[0;34m=\u001B[0m\u001B[0merrors\u001B[0m\u001B[0;34m)\u001B[0m\u001B[0;34m\u001B[0m\u001B[0;34m\u001B[0m\u001B[0m\n\u001B[0m\u001B[1;32m    583\u001B[0m \u001B[0;34m\u001B[0m\u001B[0m\n\u001B[1;32m    584\u001B[0m         \u001B[0mnew_values\u001B[0m \u001B[0;34m=\u001B[0m \u001B[0mmaybe_coerce_values\u001B[0m\u001B[0;34m(\u001B[0m\u001B[0mnew_values\u001B[0m\u001B[0;34m)\u001B[0m\u001B[0;34m\u001B[0m\u001B[0;34m\u001B[0m\u001B[0m\n",
      "\u001B[0;32m~/miniforge3/lib/python3.9/site-packages/pandas/core/dtypes/cast.py\u001B[0m in \u001B[0;36mastype_array_safe\u001B[0;34m(values, dtype, copy, errors)\u001B[0m\n\u001B[1;32m   1290\u001B[0m \u001B[0;34m\u001B[0m\u001B[0m\n\u001B[1;32m   1291\u001B[0m     \u001B[0;32mtry\u001B[0m\u001B[0;34m:\u001B[0m\u001B[0;34m\u001B[0m\u001B[0;34m\u001B[0m\u001B[0m\n\u001B[0;32m-> 1292\u001B[0;31m         \u001B[0mnew_values\u001B[0m \u001B[0;34m=\u001B[0m \u001B[0mastype_array\u001B[0m\u001B[0;34m(\u001B[0m\u001B[0mvalues\u001B[0m\u001B[0;34m,\u001B[0m \u001B[0mdtype\u001B[0m\u001B[0;34m,\u001B[0m \u001B[0mcopy\u001B[0m\u001B[0;34m=\u001B[0m\u001B[0mcopy\u001B[0m\u001B[0;34m)\u001B[0m\u001B[0;34m\u001B[0m\u001B[0;34m\u001B[0m\u001B[0m\n\u001B[0m\u001B[1;32m   1293\u001B[0m     \u001B[0;32mexcept\u001B[0m \u001B[0;34m(\u001B[0m\u001B[0mValueError\u001B[0m\u001B[0;34m,\u001B[0m \u001B[0mTypeError\u001B[0m\u001B[0;34m)\u001B[0m\u001B[0;34m:\u001B[0m\u001B[0;34m\u001B[0m\u001B[0;34m\u001B[0m\u001B[0m\n\u001B[1;32m   1294\u001B[0m         \u001B[0;31m# e.g. astype_nansafe can fail on object-dtype of strings\u001B[0m\u001B[0;34m\u001B[0m\u001B[0;34m\u001B[0m\u001B[0m\n",
      "\u001B[0;32m~/miniforge3/lib/python3.9/site-packages/pandas/core/dtypes/cast.py\u001B[0m in \u001B[0;36mastype_array\u001B[0;34m(values, dtype, copy)\u001B[0m\n\u001B[1;32m   1235\u001B[0m \u001B[0;34m\u001B[0m\u001B[0m\n\u001B[1;32m   1236\u001B[0m     \u001B[0;32melse\u001B[0m\u001B[0;34m:\u001B[0m\u001B[0;34m\u001B[0m\u001B[0;34m\u001B[0m\u001B[0m\n\u001B[0;32m-> 1237\u001B[0;31m         \u001B[0mvalues\u001B[0m \u001B[0;34m=\u001B[0m \u001B[0mastype_nansafe\u001B[0m\u001B[0;34m(\u001B[0m\u001B[0mvalues\u001B[0m\u001B[0;34m,\u001B[0m \u001B[0mdtype\u001B[0m\u001B[0;34m,\u001B[0m \u001B[0mcopy\u001B[0m\u001B[0;34m=\u001B[0m\u001B[0mcopy\u001B[0m\u001B[0;34m)\u001B[0m\u001B[0;34m\u001B[0m\u001B[0;34m\u001B[0m\u001B[0m\n\u001B[0m\u001B[1;32m   1238\u001B[0m \u001B[0;34m\u001B[0m\u001B[0m\n\u001B[1;32m   1239\u001B[0m     \u001B[0;31m# in pandas we don't store numpy str dtypes, so convert to object\u001B[0m\u001B[0;34m\u001B[0m\u001B[0;34m\u001B[0m\u001B[0m\n",
      "\u001B[0;32m~/miniforge3/lib/python3.9/site-packages/pandas/core/dtypes/cast.py\u001B[0m in \u001B[0;36mastype_nansafe\u001B[0;34m(arr, dtype, copy, skipna)\u001B[0m\n\u001B[1;32m   1096\u001B[0m     \u001B[0;32mif\u001B[0m \u001B[0marr\u001B[0m\u001B[0;34m.\u001B[0m\u001B[0mndim\u001B[0m \u001B[0;34m>\u001B[0m \u001B[0;36m1\u001B[0m\u001B[0;34m:\u001B[0m\u001B[0;34m\u001B[0m\u001B[0;34m\u001B[0m\u001B[0m\n\u001B[1;32m   1097\u001B[0m         \u001B[0mflat\u001B[0m \u001B[0;34m=\u001B[0m \u001B[0marr\u001B[0m\u001B[0;34m.\u001B[0m\u001B[0mravel\u001B[0m\u001B[0;34m(\u001B[0m\u001B[0;34m)\u001B[0m\u001B[0;34m\u001B[0m\u001B[0;34m\u001B[0m\u001B[0m\n\u001B[0;32m-> 1098\u001B[0;31m         \u001B[0mresult\u001B[0m \u001B[0;34m=\u001B[0m \u001B[0mastype_nansafe\u001B[0m\u001B[0;34m(\u001B[0m\u001B[0mflat\u001B[0m\u001B[0;34m,\u001B[0m \u001B[0mdtype\u001B[0m\u001B[0;34m,\u001B[0m \u001B[0mcopy\u001B[0m\u001B[0;34m=\u001B[0m\u001B[0mcopy\u001B[0m\u001B[0;34m,\u001B[0m \u001B[0mskipna\u001B[0m\u001B[0;34m=\u001B[0m\u001B[0mskipna\u001B[0m\u001B[0;34m)\u001B[0m\u001B[0;34m\u001B[0m\u001B[0;34m\u001B[0m\u001B[0m\n\u001B[0m\u001B[1;32m   1099\u001B[0m         \u001B[0;31m# error: Item \"ExtensionArray\" of \"Union[ExtensionArray, ndarray]\" has no\u001B[0m\u001B[0;34m\u001B[0m\u001B[0;34m\u001B[0m\u001B[0m\n\u001B[1;32m   1100\u001B[0m         \u001B[0;31m# attribute \"reshape\"\u001B[0m\u001B[0;34m\u001B[0m\u001B[0;34m\u001B[0m\u001B[0m\n",
      "\u001B[0;32m~/miniforge3/lib/python3.9/site-packages/pandas/core/dtypes/cast.py\u001B[0m in \u001B[0;36mastype_nansafe\u001B[0;34m(arr, dtype, copy, skipna)\u001B[0m\n\u001B[1;32m   1146\u001B[0m \u001B[0;34m\u001B[0m\u001B[0m\n\u001B[1;32m   1147\u001B[0m     \u001B[0;32melif\u001B[0m \u001B[0mnp\u001B[0m\u001B[0;34m.\u001B[0m\u001B[0missubdtype\u001B[0m\u001B[0;34m(\u001B[0m\u001B[0marr\u001B[0m\u001B[0;34m.\u001B[0m\u001B[0mdtype\u001B[0m\u001B[0;34m,\u001B[0m \u001B[0mnp\u001B[0m\u001B[0;34m.\u001B[0m\u001B[0mfloating\u001B[0m\u001B[0;34m)\u001B[0m \u001B[0;32mand\u001B[0m \u001B[0mnp\u001B[0m\u001B[0;34m.\u001B[0m\u001B[0missubdtype\u001B[0m\u001B[0;34m(\u001B[0m\u001B[0mdtype\u001B[0m\u001B[0;34m,\u001B[0m \u001B[0mnp\u001B[0m\u001B[0;34m.\u001B[0m\u001B[0minteger\u001B[0m\u001B[0;34m)\u001B[0m\u001B[0;34m:\u001B[0m\u001B[0;34m\u001B[0m\u001B[0;34m\u001B[0m\u001B[0m\n\u001B[0;32m-> 1148\u001B[0;31m         \u001B[0;32mreturn\u001B[0m \u001B[0mastype_float_to_int_nansafe\u001B[0m\u001B[0;34m(\u001B[0m\u001B[0marr\u001B[0m\u001B[0;34m,\u001B[0m \u001B[0mdtype\u001B[0m\u001B[0;34m,\u001B[0m \u001B[0mcopy\u001B[0m\u001B[0;34m)\u001B[0m\u001B[0;34m\u001B[0m\u001B[0;34m\u001B[0m\u001B[0m\n\u001B[0m\u001B[1;32m   1149\u001B[0m \u001B[0;34m\u001B[0m\u001B[0m\n\u001B[1;32m   1150\u001B[0m     \u001B[0;32melif\u001B[0m \u001B[0mis_object_dtype\u001B[0m\u001B[0;34m(\u001B[0m\u001B[0marr\u001B[0m\u001B[0;34m.\u001B[0m\u001B[0mdtype\u001B[0m\u001B[0;34m)\u001B[0m\u001B[0;34m:\u001B[0m\u001B[0;34m\u001B[0m\u001B[0;34m\u001B[0m\u001B[0m\n",
      "\u001B[0;32m~/miniforge3/lib/python3.9/site-packages/pandas/core/dtypes/cast.py\u001B[0m in \u001B[0;36mastype_float_to_int_nansafe\u001B[0;34m(values, dtype, copy)\u001B[0m\n\u001B[1;32m   1191\u001B[0m     \"\"\"\n\u001B[1;32m   1192\u001B[0m     \u001B[0;32mif\u001B[0m \u001B[0;32mnot\u001B[0m \u001B[0mnp\u001B[0m\u001B[0;34m.\u001B[0m\u001B[0misfinite\u001B[0m\u001B[0;34m(\u001B[0m\u001B[0mvalues\u001B[0m\u001B[0;34m)\u001B[0m\u001B[0;34m.\u001B[0m\u001B[0mall\u001B[0m\u001B[0;34m(\u001B[0m\u001B[0;34m)\u001B[0m\u001B[0;34m:\u001B[0m\u001B[0;34m\u001B[0m\u001B[0;34m\u001B[0m\u001B[0m\n\u001B[0;32m-> 1193\u001B[0;31m         raise IntCastingNaNError(\n\u001B[0m\u001B[1;32m   1194\u001B[0m             \u001B[0;34m\"Cannot convert non-finite values (NA or inf) to integer\"\u001B[0m\u001B[0;34m\u001B[0m\u001B[0;34m\u001B[0m\u001B[0m\n\u001B[1;32m   1195\u001B[0m         )\n",
      "\u001B[0;31mIntCastingNaNError\u001B[0m: Cannot convert non-finite values (NA or inf) to integer"
     ]
    }
   ],
   "source": [
    "(minus_5 - minus_5.shift()).astype('timedelta64[s]')"
   ],
   "metadata": {
    "collapsed": false,
    "pycharm": {
     "name": "#%%\n"
    }
   }
  },
  {
   "cell_type": "code",
   "execution_count": null,
   "outputs": [],
   "source": [],
   "metadata": {
    "collapsed": false,
    "pycharm": {
     "name": "#%%\n"
    }
   }
  }
 ],
 "metadata": {
  "kernelspec": {
   "display_name": "Python 3",
   "language": "python",
   "name": "python3"
  },
  "language_info": {
   "codemirror_mode": {
    "name": "ipython",
    "version": 2
   },
   "file_extension": ".py",
   "mimetype": "text/x-python",
   "name": "python",
   "nbconvert_exporter": "python",
   "pygments_lexer": "ipython2",
   "version": "2.7.6"
  }
 },
 "nbformat": 4,
 "nbformat_minor": 0
}