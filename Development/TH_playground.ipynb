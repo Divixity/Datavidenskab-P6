{
 "cells": [
  {
   "cell_type": "code",
   "execution_count": 112,
   "metadata": {
    "collapsed": true
   },
   "outputs": [],
   "source": [
    "import numpy as np\n",
    "import pandas as pd\n",
    "import plotly.express as px\n",
    "\n",
    "import DataRetriever as dr\n",
    "\n",
    "retriever = dr.DataRetriever()\n",
    "\n",
    "year_two = retriever.get_data(\"All-Subsystems-minute-Year2.pkl\")\n",
    "\n",
    "pd.options.mode.chained_assignment = None"
   ]
  },
  {
   "cell_type": "code",
   "execution_count": 129,
   "outputs": [],
   "source": [
    "# Convert column from string to datetime.\n",
    "year_two[\"Timestamp\"] = pd.to_datetime(year_two[\"Timestamp\"])"
   ],
   "metadata": {
    "collapsed": false,
    "pycharm": {
     "name": "#%%\n"
    }
   }
  },
  {
   "cell_type": "code",
   "execution_count": 130,
   "outputs": [],
   "source": [
    "# Creating a pd.Series with the timestamp shifted one downwards. Adding the first value twice, and excluding the last.\n",
    "timestamp_plus_one = pd.concat([pd.Series(year_two[\"Timestamp\"][0]), year_two[\"Timestamp\"][:-1]], ignore_index=True)\n",
    "\n",
    "# Creating a new column with the time delta in seconds.\n",
    "year_two[\"Timestamp_Delta\"] = (year_two[\"Timestamp\"] - timestamp_plus_one).astype('timedelta64[s]')\n",
    "df_delta = year_two[[\"Timestamp\" ,\"Timestamp_Delta\"]][1:]"
   ],
   "metadata": {
    "collapsed": false,
    "pycharm": {
     "name": "#%%\n"
    }
   }
  },
  {
   "cell_type": "markdown",
   "source": [
    "What information can be extracted from binning the intervals?"
   ],
   "metadata": {
    "collapsed": false
   }
  },
  {
   "cell_type": "code",
   "execution_count": 131,
   "outputs": [
    {
     "data": {
      "text/plain": "                 Timestamp  Timestamp_Delta\nTimestamp_Delta                            \n(0.0, 54.0]              0                0\n(54.0, 59.0]          1079             1079\n(59.0, 60.0]        517762           517762\n(60.0, 65.0]           390              390\n(65.0, 300.0]          369              369\n(300.0, inf]             3                3",
      "text/html": "<div>\n<style scoped>\n    .dataframe tbody tr th:only-of-type {\n        vertical-align: middle;\n    }\n\n    .dataframe tbody tr th {\n        vertical-align: top;\n    }\n\n    .dataframe thead th {\n        text-align: right;\n    }\n</style>\n<table border=\"1\" class=\"dataframe\">\n  <thead>\n    <tr style=\"text-align: right;\">\n      <th></th>\n      <th>Timestamp</th>\n      <th>Timestamp_Delta</th>\n    </tr>\n    <tr>\n      <th>Timestamp_Delta</th>\n      <th></th>\n      <th></th>\n    </tr>\n  </thead>\n  <tbody>\n    <tr>\n      <th>(0.0, 54.0]</th>\n      <td>0</td>\n      <td>0</td>\n    </tr>\n    <tr>\n      <th>(54.0, 59.0]</th>\n      <td>1079</td>\n      <td>1079</td>\n    </tr>\n    <tr>\n      <th>(59.0, 60.0]</th>\n      <td>517762</td>\n      <td>517762</td>\n    </tr>\n    <tr>\n      <th>(60.0, 65.0]</th>\n      <td>390</td>\n      <td>390</td>\n    </tr>\n    <tr>\n      <th>(65.0, 300.0]</th>\n      <td>369</td>\n      <td>369</td>\n    </tr>\n    <tr>\n      <th>(300.0, inf]</th>\n      <td>3</td>\n      <td>3</td>\n    </tr>\n  </tbody>\n</table>\n</div>"
     },
     "execution_count": 131,
     "metadata": {},
     "output_type": "execute_result"
    }
   ],
   "source": [
    "df_delta.groupby(pd.cut(df_delta[\"Timestamp_Delta\"], bins=[0, 54, 59, 60, 65, 300, np.inf])).count()"
   ],
   "metadata": {
    "collapsed": false,
    "pycharm": {
     "name": "#%%\n"
    }
   }
  },
  {
   "cell_type": "markdown",
   "source": [
    "We see that 762 intervals are larger than 1 minute, and 1080 intervals smaller than 1 minute.\n",
    "Is it possible to recognise a pattern for the missing intervals?"
   ],
   "metadata": {
    "collapsed": false
   }
  },
  {
   "cell_type": "code",
   "execution_count": 168,
   "outputs": [],
   "source": [
    "df_delta[\"Bin\"] = pd.cut(df_delta[\"Timestamp_Delta\"], bins=[0, 54, 59, 60, 65, 300, np.inf])#, labels=False)\n",
    "non_60 = df_delta.loc[df_delta[\"Timestamp_Delta\"] != 60]"
   ],
   "metadata": {
    "collapsed": false,
    "pycharm": {
     "name": "#%%\n"
    }
   }
  },
  {
   "cell_type": "code",
   "execution_count": 169,
   "outputs": [],
   "source": [
    "# # Correct Timestamps\n",
    "# for row in non_60.index:\n",
    "#     dt = df_delta[\"Timestamp\"][row]\n",
    "#     non_60.at[row, \"Timestamp\"] = pd.Timestamp(year=dt.year, month=dt.month, day=dt.day,\n",
    "#                                        hour=dt.hour, minute=dt.minute, second=dt.second)\n",
    "# non_60[\"Timestamp\"] = pd.to_datetime(non_60[\"Timestamp\"])\n",
    "# non_60[\"Timestamp\"] = non_60[\"Timestamp\"].dt.time\n",
    "\n",
    "# Incorrect Timestamps; however, plot requires incorrect timestamp. \n",
    "# (Kan ikke kun vise tiden, og datoen skal være den samme for at kunne lave groupby.)\n",
    "for row in non_60.index:\n",
    "    dt = df_delta[\"Timestamp\"][row]\n",
    "    non_60.at[row, \"Timestamp\"] = pd.Timestamp(year=2000, month=1, day=1,\n",
    "                                               hour=dt.hour, minute=dt.minute, second=00)\n",
    "non_60[\"Timestamp\"] = pd.to_datetime(non_60[\"Timestamp\"])"
   ],
   "metadata": {
    "collapsed": false,
    "pycharm": {
     "name": "#%%\n"
    }
   }
  },
  {
   "cell_type": "code",
   "execution_count": 179,
   "outputs": [
    {
     "data": {
      "text/plain": "                 Timestamp  Timestamp_Delta            Bin\n30     2000-01-01 00:31:00             59.0   (54.0, 59.0]\n60     2000-01-01 01:01:00             61.0   (60.0, 65.0]\n270    2000-01-01 04:31:00             59.0   (54.0, 59.0]\n870    2000-01-01 14:31:00             59.0   (54.0, 59.0]\n1438   2000-01-01 00:01:00            174.0  (65.0, 300.0]\n...                    ...              ...            ...\n518166 2000-01-01 00:01:00            179.0  (65.0, 300.0]\n518196 2000-01-01 00:31:00             57.0   (54.0, 59.0]\n518226 2000-01-01 01:01:00             63.0   (60.0, 65.0]\n518406 2000-01-01 04:01:00             59.0   (54.0, 59.0]\n519006 2000-01-01 14:01:00             59.0   (54.0, 59.0]\n\n[1841 rows x 3 columns]",
      "text/html": "<div>\n<style scoped>\n    .dataframe tbody tr th:only-of-type {\n        vertical-align: middle;\n    }\n\n    .dataframe tbody tr th {\n        vertical-align: top;\n    }\n\n    .dataframe thead th {\n        text-align: right;\n    }\n</style>\n<table border=\"1\" class=\"dataframe\">\n  <thead>\n    <tr style=\"text-align: right;\">\n      <th></th>\n      <th>Timestamp</th>\n      <th>Timestamp_Delta</th>\n      <th>Bin</th>\n    </tr>\n  </thead>\n  <tbody>\n    <tr>\n      <th>30</th>\n      <td>2000-01-01 00:31:00</td>\n      <td>59.0</td>\n      <td>(54.0, 59.0]</td>\n    </tr>\n    <tr>\n      <th>60</th>\n      <td>2000-01-01 01:01:00</td>\n      <td>61.0</td>\n      <td>(60.0, 65.0]</td>\n    </tr>\n    <tr>\n      <th>270</th>\n      <td>2000-01-01 04:31:00</td>\n      <td>59.0</td>\n      <td>(54.0, 59.0]</td>\n    </tr>\n    <tr>\n      <th>870</th>\n      <td>2000-01-01 14:31:00</td>\n      <td>59.0</td>\n      <td>(54.0, 59.0]</td>\n    </tr>\n    <tr>\n      <th>1438</th>\n      <td>2000-01-01 00:01:00</td>\n      <td>174.0</td>\n      <td>(65.0, 300.0]</td>\n    </tr>\n    <tr>\n      <th>...</th>\n      <td>...</td>\n      <td>...</td>\n      <td>...</td>\n    </tr>\n    <tr>\n      <th>518166</th>\n      <td>2000-01-01 00:01:00</td>\n      <td>179.0</td>\n      <td>(65.0, 300.0]</td>\n    </tr>\n    <tr>\n      <th>518196</th>\n      <td>2000-01-01 00:31:00</td>\n      <td>57.0</td>\n      <td>(54.0, 59.0]</td>\n    </tr>\n    <tr>\n      <th>518226</th>\n      <td>2000-01-01 01:01:00</td>\n      <td>63.0</td>\n      <td>(60.0, 65.0]</td>\n    </tr>\n    <tr>\n      <th>518406</th>\n      <td>2000-01-01 04:01:00</td>\n      <td>59.0</td>\n      <td>(54.0, 59.0]</td>\n    </tr>\n    <tr>\n      <th>519006</th>\n      <td>2000-01-01 14:01:00</td>\n      <td>59.0</td>\n      <td>(54.0, 59.0]</td>\n    </tr>\n  </tbody>\n</table>\n<p>1841 rows × 3 columns</p>\n</div>"
     },
     "execution_count": 179,
     "metadata": {},
     "output_type": "execute_result"
    }
   ],
   "source": [
    "non_60"
   ],
   "metadata": {
    "collapsed": false,
    "pycharm": {
     "name": "#%%\n"
    }
   }
  },
  {
   "cell_type": "code",
   "execution_count": 190,
   "outputs": [],
   "source": [
    "binned_count = pd.DataFrame(non_60.groupby([\"Bin\", \"Timestamp\"]).count()).reset_index()\n",
    "binned_count = binned_count[binned_count[\"Timestamp_Delta\"] != 0]"
   ],
   "metadata": {
    "collapsed": false,
    "pycharm": {
     "name": "#%%\n"
    }
   }
  },
  {
   "cell_type": "code",
   "execution_count": 197,
   "outputs": [
    {
     "data": {
      "application/vnd.plotly.v1+json": {
       "data": [
        {
         "hovertemplate": "Bin=(54.0, 59.0]<br>Timestamp=%{x}<br>Timestamp_Delta=%{y}<extra></extra>",
         "legendgroup": "(54.0, 59.0]",
         "marker": {
          "color": "#636efa",
          "symbol": "circle"
         },
         "mode": "markers",
         "name": "(54.0, 59.0]",
         "orientation": "v",
         "showlegend": true,
         "x": [
          "2000-01-01T00:04:00",
          "2000-01-01T00:05:00",
          "2000-01-01T00:31:00",
          "2000-01-01T00:32:00",
          "2000-01-01T01:03:00",
          "2000-01-01T01:04:00",
          "2000-01-01T01:31:00",
          "2000-01-01T01:32:00",
          "2000-01-01T02:01:00",
          "2000-01-01T02:02:00",
          "2000-01-01T02:31:00",
          "2000-01-01T02:32:00",
          "2000-01-01T02:33:00",
          "2000-01-01T03:01:00",
          "2000-01-01T03:03:00",
          "2000-01-01T03:31:00",
          "2000-01-01T03:32:00",
          "2000-01-01T04:01:00",
          "2000-01-01T04:02:00",
          "2000-01-01T04:31:00",
          "2000-01-01T05:01:00",
          "2000-01-01T05:02:00",
          "2000-01-01T05:31:00",
          "2000-01-01T06:01:00",
          "2000-01-01T06:31:00",
          "2000-01-01T06:32:00",
          "2000-01-01T07:01:00",
          "2000-01-01T07:04:00",
          "2000-01-01T07:31:00",
          "2000-01-01T07:32:00",
          "2000-01-01T07:33:00",
          "2000-01-01T08:01:00",
          "2000-01-01T08:02:00",
          "2000-01-01T08:04:00",
          "2000-01-01T08:31:00",
          "2000-01-01T09:01:00",
          "2000-01-01T09:02:00",
          "2000-01-01T09:31:00",
          "2000-01-01T10:01:00",
          "2000-01-01T10:02:00",
          "2000-01-01T10:31:00",
          "2000-01-01T10:32:00",
          "2000-01-01T11:01:00",
          "2000-01-01T11:31:00",
          "2000-01-01T11:32:00",
          "2000-01-01T12:01:00",
          "2000-01-01T12:03:00",
          "2000-01-01T12:31:00",
          "2000-01-01T12:32:00",
          "2000-01-01T12:33:00",
          "2000-01-01T12:34:00",
          "2000-01-01T13:01:00",
          "2000-01-01T13:02:00",
          "2000-01-01T13:31:00",
          "2000-01-01T13:32:00",
          "2000-01-01T14:01:00",
          "2000-01-01T14:02:00",
          "2000-01-01T14:31:00",
          "2000-01-01T14:33:00",
          "2000-01-01T15:01:00",
          "2000-01-01T15:02:00",
          "2000-01-01T15:31:00",
          "2000-01-01T15:33:00",
          "2000-01-01T15:50:00",
          "2000-01-01T16:01:00",
          "2000-01-01T16:31:00",
          "2000-01-01T17:01:00",
          "2000-01-01T17:31:00",
          "2000-01-01T18:01:00",
          "2000-01-01T18:04:00",
          "2000-01-01T18:31:00",
          "2000-01-01T19:01:00",
          "2000-01-01T19:02:00",
          "2000-01-01T19:03:00",
          "2000-01-01T19:31:00",
          "2000-01-01T19:32:00",
          "2000-01-01T19:34:00",
          "2000-01-01T19:50:00",
          "2000-01-01T19:59:00",
          "2000-01-01T20:01:00",
          "2000-01-01T20:31:00",
          "2000-01-01T21:01:00",
          "2000-01-01T21:31:00",
          "2000-01-01T22:01:00",
          "2000-01-01T22:02:00",
          "2000-01-01T22:31:00",
          "2000-01-01T23:01:00",
          "2000-01-01T23:03:00",
          "2000-01-01T23:31:00"
         ],
         "xaxis": "x",
         "y": [
          4,
          1,
          284,
          11,
          2,
          1,
          8,
          1,
          16,
          1,
          22,
          4,
          2,
          13,
          2,
          12,
          1,
          20,
          1,
          10,
          12,
          1,
          22,
          16,
          16,
          1,
          19,
          1,
          24,
          1,
          1,
          17,
          1,
          1,
          21,
          13,
          1,
          15,
          14,
          1,
          12,
          1,
          20,
          17,
          1,
          15,
          1,
          9,
          1,
          1,
          1,
          12,
          2,
          18,
          2,
          21,
          1,
          12,
          2,
          15,
          1,
          18,
          1,
          1,
          9,
          20,
          20,
          22,
          20,
          1,
          23,
          17,
          2,
          1,
          17,
          1,
          1,
          1,
          1,
          13,
          13,
          16,
          17,
          20,
          1,
          15,
          11,
          2,
          16
         ],
         "yaxis": "y",
         "type": "scatter"
        },
        {
         "hovertemplate": "Bin=(60.0, 65.0]<br>Timestamp=%{x}<br>Timestamp_Delta=%{y}<extra></extra>",
         "legendgroup": "(60.0, 65.0]",
         "marker": {
          "color": "#EF553B",
          "symbol": "circle"
         },
         "mode": "markers",
         "name": "(60.0, 65.0]",
         "orientation": "v",
         "showlegend": true,
         "x": [
          "2000-01-01T00:02:00",
          "2000-01-01T00:05:00",
          "2000-01-01T00:06:00",
          "2000-01-01T01:01:00",
          "2000-01-01T01:02:00",
          "2000-01-01T01:03:00",
          "2000-01-01T01:31:00",
          "2000-01-01T01:33:00",
          "2000-01-01T01:34:00",
          "2000-01-01T02:01:00",
          "2000-01-01T04:31:00",
          "2000-01-01T06:01:00",
          "2000-01-01T07:31:00",
          "2000-01-01T07:34:00",
          "2000-01-01T08:01:00",
          "2000-01-01T09:01:00",
          "2000-01-01T11:01:00",
          "2000-01-01T11:31:00",
          "2000-01-01T12:01:00",
          "2000-01-01T12:31:00",
          "2000-01-01T13:01:00",
          "2000-01-01T13:04:00",
          "2000-01-01T14:31:00",
          "2000-01-01T15:31:00",
          "2000-01-01T16:20:00",
          "2000-01-01T17:01:00",
          "2000-01-01T17:31:00",
          "2000-01-01T18:31:00",
          "2000-01-01T19:01:00",
          "2000-01-01T20:29:00",
          "2000-01-01T21:01:00",
          "2000-01-01T22:01:00",
          "2000-01-01T22:31:00",
          "2000-01-01T23:01:00",
          "2000-01-01T23:31:00"
         ],
         "xaxis": "x",
         "y": [
          1,
          4,
          1,
          323,
          20,
          1,
          1,
          5,
          1,
          2,
          1,
          3,
          1,
          1,
          1,
          1,
          1,
          1,
          1,
          1,
          1,
          1,
          1,
          2,
          1,
          1,
          1,
          1,
          3,
          1,
          1,
          2,
          1,
          1,
          1
         ],
         "yaxis": "y",
         "type": "scatter"
        },
        {
         "hovertemplate": "Bin=(65.0, 300.0]<br>Timestamp=%{x}<br>Timestamp_Delta=%{y}<extra></extra>",
         "legendgroup": "(65.0, 300.0]",
         "marker": {
          "color": "#00cc96",
          "symbol": "circle"
         },
         "mode": "markers",
         "name": "(65.0, 300.0]",
         "orientation": "v",
         "showlegend": true,
         "x": [
          "2000-01-01T00:01:00",
          "2000-01-01T00:02:00",
          "2000-01-01T00:33:00",
          "2000-01-01T00:34:00",
          "2000-01-01T01:01:00",
          "2000-01-01T15:21:00",
          "2000-01-01T19:30:00",
          "2000-01-01T23:01:00"
         ],
         "xaxis": "x",
         "y": [
          334,
          24,
          6,
          1,
          1,
          1,
          1,
          1
         ],
         "yaxis": "y",
         "type": "scatter"
        },
        {
         "hovertemplate": "Bin=(300.0, inf]<br>Timestamp=%{x}<br>Timestamp_Delta=%{y}<extra></extra>",
         "legendgroup": "(300.0, inf]",
         "marker": {
          "color": "#ab63fa",
          "symbol": "circle"
         },
         "mode": "markers",
         "name": "(300.0, inf]",
         "orientation": "v",
         "showlegend": true,
         "x": [
          "2000-01-01T00:01:00",
          "2000-01-01T01:59:00",
          "2000-01-01T12:04:00"
         ],
         "xaxis": "x",
         "y": [
          1,
          1,
          1
         ],
         "yaxis": "y",
         "type": "scatter"
        }
       ],
       "layout": {
        "template": {
         "data": {
          "bar": [
           {
            "error_x": {
             "color": "#2a3f5f"
            },
            "error_y": {
             "color": "#2a3f5f"
            },
            "marker": {
             "line": {
              "color": "#E5ECF6",
              "width": 0.5
             },
             "pattern": {
              "fillmode": "overlay",
              "size": 10,
              "solidity": 0.2
             }
            },
            "type": "bar"
           }
          ],
          "barpolar": [
           {
            "marker": {
             "line": {
              "color": "#E5ECF6",
              "width": 0.5
             },
             "pattern": {
              "fillmode": "overlay",
              "size": 10,
              "solidity": 0.2
             }
            },
            "type": "barpolar"
           }
          ],
          "carpet": [
           {
            "aaxis": {
             "endlinecolor": "#2a3f5f",
             "gridcolor": "white",
             "linecolor": "white",
             "minorgridcolor": "white",
             "startlinecolor": "#2a3f5f"
            },
            "baxis": {
             "endlinecolor": "#2a3f5f",
             "gridcolor": "white",
             "linecolor": "white",
             "minorgridcolor": "white",
             "startlinecolor": "#2a3f5f"
            },
            "type": "carpet"
           }
          ],
          "choropleth": [
           {
            "colorbar": {
             "outlinewidth": 0,
             "ticks": ""
            },
            "type": "choropleth"
           }
          ],
          "contour": [
           {
            "colorbar": {
             "outlinewidth": 0,
             "ticks": ""
            },
            "colorscale": [
             [
              0.0,
              "#0d0887"
             ],
             [
              0.1111111111111111,
              "#46039f"
             ],
             [
              0.2222222222222222,
              "#7201a8"
             ],
             [
              0.3333333333333333,
              "#9c179e"
             ],
             [
              0.4444444444444444,
              "#bd3786"
             ],
             [
              0.5555555555555556,
              "#d8576b"
             ],
             [
              0.6666666666666666,
              "#ed7953"
             ],
             [
              0.7777777777777778,
              "#fb9f3a"
             ],
             [
              0.8888888888888888,
              "#fdca26"
             ],
             [
              1.0,
              "#f0f921"
             ]
            ],
            "type": "contour"
           }
          ],
          "contourcarpet": [
           {
            "colorbar": {
             "outlinewidth": 0,
             "ticks": ""
            },
            "type": "contourcarpet"
           }
          ],
          "heatmap": [
           {
            "colorbar": {
             "outlinewidth": 0,
             "ticks": ""
            },
            "colorscale": [
             [
              0.0,
              "#0d0887"
             ],
             [
              0.1111111111111111,
              "#46039f"
             ],
             [
              0.2222222222222222,
              "#7201a8"
             ],
             [
              0.3333333333333333,
              "#9c179e"
             ],
             [
              0.4444444444444444,
              "#bd3786"
             ],
             [
              0.5555555555555556,
              "#d8576b"
             ],
             [
              0.6666666666666666,
              "#ed7953"
             ],
             [
              0.7777777777777778,
              "#fb9f3a"
             ],
             [
              0.8888888888888888,
              "#fdca26"
             ],
             [
              1.0,
              "#f0f921"
             ]
            ],
            "type": "heatmap"
           }
          ],
          "heatmapgl": [
           {
            "colorbar": {
             "outlinewidth": 0,
             "ticks": ""
            },
            "colorscale": [
             [
              0.0,
              "#0d0887"
             ],
             [
              0.1111111111111111,
              "#46039f"
             ],
             [
              0.2222222222222222,
              "#7201a8"
             ],
             [
              0.3333333333333333,
              "#9c179e"
             ],
             [
              0.4444444444444444,
              "#bd3786"
             ],
             [
              0.5555555555555556,
              "#d8576b"
             ],
             [
              0.6666666666666666,
              "#ed7953"
             ],
             [
              0.7777777777777778,
              "#fb9f3a"
             ],
             [
              0.8888888888888888,
              "#fdca26"
             ],
             [
              1.0,
              "#f0f921"
             ]
            ],
            "type": "heatmapgl"
           }
          ],
          "histogram": [
           {
            "marker": {
             "pattern": {
              "fillmode": "overlay",
              "size": 10,
              "solidity": 0.2
             }
            },
            "type": "histogram"
           }
          ],
          "histogram2d": [
           {
            "colorbar": {
             "outlinewidth": 0,
             "ticks": ""
            },
            "colorscale": [
             [
              0.0,
              "#0d0887"
             ],
             [
              0.1111111111111111,
              "#46039f"
             ],
             [
              0.2222222222222222,
              "#7201a8"
             ],
             [
              0.3333333333333333,
              "#9c179e"
             ],
             [
              0.4444444444444444,
              "#bd3786"
             ],
             [
              0.5555555555555556,
              "#d8576b"
             ],
             [
              0.6666666666666666,
              "#ed7953"
             ],
             [
              0.7777777777777778,
              "#fb9f3a"
             ],
             [
              0.8888888888888888,
              "#fdca26"
             ],
             [
              1.0,
              "#f0f921"
             ]
            ],
            "type": "histogram2d"
           }
          ],
          "histogram2dcontour": [
           {
            "colorbar": {
             "outlinewidth": 0,
             "ticks": ""
            },
            "colorscale": [
             [
              0.0,
              "#0d0887"
             ],
             [
              0.1111111111111111,
              "#46039f"
             ],
             [
              0.2222222222222222,
              "#7201a8"
             ],
             [
              0.3333333333333333,
              "#9c179e"
             ],
             [
              0.4444444444444444,
              "#bd3786"
             ],
             [
              0.5555555555555556,
              "#d8576b"
             ],
             [
              0.6666666666666666,
              "#ed7953"
             ],
             [
              0.7777777777777778,
              "#fb9f3a"
             ],
             [
              0.8888888888888888,
              "#fdca26"
             ],
             [
              1.0,
              "#f0f921"
             ]
            ],
            "type": "histogram2dcontour"
           }
          ],
          "mesh3d": [
           {
            "colorbar": {
             "outlinewidth": 0,
             "ticks": ""
            },
            "type": "mesh3d"
           }
          ],
          "parcoords": [
           {
            "line": {
             "colorbar": {
              "outlinewidth": 0,
              "ticks": ""
             }
            },
            "type": "parcoords"
           }
          ],
          "pie": [
           {
            "automargin": true,
            "type": "pie"
           }
          ],
          "scatter": [
           {
            "marker": {
             "colorbar": {
              "outlinewidth": 0,
              "ticks": ""
             }
            },
            "type": "scatter"
           }
          ],
          "scatter3d": [
           {
            "line": {
             "colorbar": {
              "outlinewidth": 0,
              "ticks": ""
             }
            },
            "marker": {
             "colorbar": {
              "outlinewidth": 0,
              "ticks": ""
             }
            },
            "type": "scatter3d"
           }
          ],
          "scattercarpet": [
           {
            "marker": {
             "colorbar": {
              "outlinewidth": 0,
              "ticks": ""
             }
            },
            "type": "scattercarpet"
           }
          ],
          "scattergeo": [
           {
            "marker": {
             "colorbar": {
              "outlinewidth": 0,
              "ticks": ""
             }
            },
            "type": "scattergeo"
           }
          ],
          "scattergl": [
           {
            "marker": {
             "colorbar": {
              "outlinewidth": 0,
              "ticks": ""
             }
            },
            "type": "scattergl"
           }
          ],
          "scattermapbox": [
           {
            "marker": {
             "colorbar": {
              "outlinewidth": 0,
              "ticks": ""
             }
            },
            "type": "scattermapbox"
           }
          ],
          "scatterpolar": [
           {
            "marker": {
             "colorbar": {
              "outlinewidth": 0,
              "ticks": ""
             }
            },
            "type": "scatterpolar"
           }
          ],
          "scatterpolargl": [
           {
            "marker": {
             "colorbar": {
              "outlinewidth": 0,
              "ticks": ""
             }
            },
            "type": "scatterpolargl"
           }
          ],
          "scatterternary": [
           {
            "marker": {
             "colorbar": {
              "outlinewidth": 0,
              "ticks": ""
             }
            },
            "type": "scatterternary"
           }
          ],
          "surface": [
           {
            "colorbar": {
             "outlinewidth": 0,
             "ticks": ""
            },
            "colorscale": [
             [
              0.0,
              "#0d0887"
             ],
             [
              0.1111111111111111,
              "#46039f"
             ],
             [
              0.2222222222222222,
              "#7201a8"
             ],
             [
              0.3333333333333333,
              "#9c179e"
             ],
             [
              0.4444444444444444,
              "#bd3786"
             ],
             [
              0.5555555555555556,
              "#d8576b"
             ],
             [
              0.6666666666666666,
              "#ed7953"
             ],
             [
              0.7777777777777778,
              "#fb9f3a"
             ],
             [
              0.8888888888888888,
              "#fdca26"
             ],
             [
              1.0,
              "#f0f921"
             ]
            ],
            "type": "surface"
           }
          ],
          "table": [
           {
            "cells": {
             "fill": {
              "color": "#EBF0F8"
             },
             "line": {
              "color": "white"
             }
            },
            "header": {
             "fill": {
              "color": "#C8D4E3"
             },
             "line": {
              "color": "white"
             }
            },
            "type": "table"
           }
          ]
         },
         "layout": {
          "annotationdefaults": {
           "arrowcolor": "#2a3f5f",
           "arrowhead": 0,
           "arrowwidth": 1
          },
          "autotypenumbers": "strict",
          "coloraxis": {
           "colorbar": {
            "outlinewidth": 0,
            "ticks": ""
           }
          },
          "colorscale": {
           "diverging": [
            [
             0,
             "#8e0152"
            ],
            [
             0.1,
             "#c51b7d"
            ],
            [
             0.2,
             "#de77ae"
            ],
            [
             0.3,
             "#f1b6da"
            ],
            [
             0.4,
             "#fde0ef"
            ],
            [
             0.5,
             "#f7f7f7"
            ],
            [
             0.6,
             "#e6f5d0"
            ],
            [
             0.7,
             "#b8e186"
            ],
            [
             0.8,
             "#7fbc41"
            ],
            [
             0.9,
             "#4d9221"
            ],
            [
             1,
             "#276419"
            ]
           ],
           "sequential": [
            [
             0.0,
             "#0d0887"
            ],
            [
             0.1111111111111111,
             "#46039f"
            ],
            [
             0.2222222222222222,
             "#7201a8"
            ],
            [
             0.3333333333333333,
             "#9c179e"
            ],
            [
             0.4444444444444444,
             "#bd3786"
            ],
            [
             0.5555555555555556,
             "#d8576b"
            ],
            [
             0.6666666666666666,
             "#ed7953"
            ],
            [
             0.7777777777777778,
             "#fb9f3a"
            ],
            [
             0.8888888888888888,
             "#fdca26"
            ],
            [
             1.0,
             "#f0f921"
            ]
           ],
           "sequentialminus": [
            [
             0.0,
             "#0d0887"
            ],
            [
             0.1111111111111111,
             "#46039f"
            ],
            [
             0.2222222222222222,
             "#7201a8"
            ],
            [
             0.3333333333333333,
             "#9c179e"
            ],
            [
             0.4444444444444444,
             "#bd3786"
            ],
            [
             0.5555555555555556,
             "#d8576b"
            ],
            [
             0.6666666666666666,
             "#ed7953"
            ],
            [
             0.7777777777777778,
             "#fb9f3a"
            ],
            [
             0.8888888888888888,
             "#fdca26"
            ],
            [
             1.0,
             "#f0f921"
            ]
           ]
          },
          "colorway": [
           "#636efa",
           "#EF553B",
           "#00cc96",
           "#ab63fa",
           "#FFA15A",
           "#19d3f3",
           "#FF6692",
           "#B6E880",
           "#FF97FF",
           "#FECB52"
          ],
          "font": {
           "color": "#2a3f5f"
          },
          "geo": {
           "bgcolor": "white",
           "lakecolor": "white",
           "landcolor": "#E5ECF6",
           "showlakes": true,
           "showland": true,
           "subunitcolor": "white"
          },
          "hoverlabel": {
           "align": "left"
          },
          "hovermode": "closest",
          "mapbox": {
           "style": "light"
          },
          "paper_bgcolor": "white",
          "plot_bgcolor": "#E5ECF6",
          "polar": {
           "angularaxis": {
            "gridcolor": "white",
            "linecolor": "white",
            "ticks": ""
           },
           "bgcolor": "#E5ECF6",
           "radialaxis": {
            "gridcolor": "white",
            "linecolor": "white",
            "ticks": ""
           }
          },
          "scene": {
           "xaxis": {
            "backgroundcolor": "#E5ECF6",
            "gridcolor": "white",
            "gridwidth": 2,
            "linecolor": "white",
            "showbackground": true,
            "ticks": "",
            "zerolinecolor": "white"
           },
           "yaxis": {
            "backgroundcolor": "#E5ECF6",
            "gridcolor": "white",
            "gridwidth": 2,
            "linecolor": "white",
            "showbackground": true,
            "ticks": "",
            "zerolinecolor": "white"
           },
           "zaxis": {
            "backgroundcolor": "#E5ECF6",
            "gridcolor": "white",
            "gridwidth": 2,
            "linecolor": "white",
            "showbackground": true,
            "ticks": "",
            "zerolinecolor": "white"
           }
          },
          "shapedefaults": {
           "line": {
            "color": "#2a3f5f"
           }
          },
          "ternary": {
           "aaxis": {
            "gridcolor": "white",
            "linecolor": "white",
            "ticks": ""
           },
           "baxis": {
            "gridcolor": "white",
            "linecolor": "white",
            "ticks": ""
           },
           "bgcolor": "#E5ECF6",
           "caxis": {
            "gridcolor": "white",
            "linecolor": "white",
            "ticks": ""
           }
          },
          "title": {
           "x": 0.05
          },
          "xaxis": {
           "automargin": true,
           "gridcolor": "white",
           "linecolor": "white",
           "ticks": "",
           "title": {
            "standoff": 15
           },
           "zerolinecolor": "white",
           "zerolinewidth": 2
          },
          "yaxis": {
           "automargin": true,
           "gridcolor": "white",
           "linecolor": "white",
           "ticks": "",
           "title": {
            "standoff": 15
           },
           "zerolinecolor": "white",
           "zerolinewidth": 2
          }
         }
        },
        "xaxis": {
         "anchor": "y",
         "domain": [
          0.0,
          1.0
         ],
         "title": {
          "text": "Time of Day"
         }
        },
        "yaxis": {
         "anchor": "x",
         "domain": [
          0.0,
          1.0
         ],
         "title": {
          "text": "Occurrence"
         }
        },
        "legend": {
         "title": {
          "text": "Bin"
         },
         "tracegroupgap": 0
        },
        "title": {
         "text": "Occurrence of Missing Record Given Time of Day"
        }
       },
       "config": {
        "plotlyServerURL": "https://plot.ly"
       }
      },
      "text/html": "<div>                            <div id=\"8ca80ef6-3a2d-4844-b249-41f08c21bbea\" class=\"plotly-graph-div\" style=\"height:525px; width:100%;\"></div>            <script type=\"text/javascript\">                require([\"plotly\"], function(Plotly) {                    window.PLOTLYENV=window.PLOTLYENV || {};                                    if (document.getElementById(\"8ca80ef6-3a2d-4844-b249-41f08c21bbea\")) {                    Plotly.newPlot(                        \"8ca80ef6-3a2d-4844-b249-41f08c21bbea\",                        [{\"hovertemplate\":\"Bin=(54.0, 59.0]<br>Timestamp=%{x}<br>Timestamp_Delta=%{y}<extra></extra>\",\"legendgroup\":\"(54.0, 59.0]\",\"marker\":{\"color\":\"#636efa\",\"symbol\":\"circle\"},\"mode\":\"markers\",\"name\":\"(54.0, 59.0]\",\"orientation\":\"v\",\"showlegend\":true,\"x\":[\"2000-01-01T00:04:00\",\"2000-01-01T00:05:00\",\"2000-01-01T00:31:00\",\"2000-01-01T00:32:00\",\"2000-01-01T01:03:00\",\"2000-01-01T01:04:00\",\"2000-01-01T01:31:00\",\"2000-01-01T01:32:00\",\"2000-01-01T02:01:00\",\"2000-01-01T02:02:00\",\"2000-01-01T02:31:00\",\"2000-01-01T02:32:00\",\"2000-01-01T02:33:00\",\"2000-01-01T03:01:00\",\"2000-01-01T03:03:00\",\"2000-01-01T03:31:00\",\"2000-01-01T03:32:00\",\"2000-01-01T04:01:00\",\"2000-01-01T04:02:00\",\"2000-01-01T04:31:00\",\"2000-01-01T05:01:00\",\"2000-01-01T05:02:00\",\"2000-01-01T05:31:00\",\"2000-01-01T06:01:00\",\"2000-01-01T06:31:00\",\"2000-01-01T06:32:00\",\"2000-01-01T07:01:00\",\"2000-01-01T07:04:00\",\"2000-01-01T07:31:00\",\"2000-01-01T07:32:00\",\"2000-01-01T07:33:00\",\"2000-01-01T08:01:00\",\"2000-01-01T08:02:00\",\"2000-01-01T08:04:00\",\"2000-01-01T08:31:00\",\"2000-01-01T09:01:00\",\"2000-01-01T09:02:00\",\"2000-01-01T09:31:00\",\"2000-01-01T10:01:00\",\"2000-01-01T10:02:00\",\"2000-01-01T10:31:00\",\"2000-01-01T10:32:00\",\"2000-01-01T11:01:00\",\"2000-01-01T11:31:00\",\"2000-01-01T11:32:00\",\"2000-01-01T12:01:00\",\"2000-01-01T12:03:00\",\"2000-01-01T12:31:00\",\"2000-01-01T12:32:00\",\"2000-01-01T12:33:00\",\"2000-01-01T12:34:00\",\"2000-01-01T13:01:00\",\"2000-01-01T13:02:00\",\"2000-01-01T13:31:00\",\"2000-01-01T13:32:00\",\"2000-01-01T14:01:00\",\"2000-01-01T14:02:00\",\"2000-01-01T14:31:00\",\"2000-01-01T14:33:00\",\"2000-01-01T15:01:00\",\"2000-01-01T15:02:00\",\"2000-01-01T15:31:00\",\"2000-01-01T15:33:00\",\"2000-01-01T15:50:00\",\"2000-01-01T16:01:00\",\"2000-01-01T16:31:00\",\"2000-01-01T17:01:00\",\"2000-01-01T17:31:00\",\"2000-01-01T18:01:00\",\"2000-01-01T18:04:00\",\"2000-01-01T18:31:00\",\"2000-01-01T19:01:00\",\"2000-01-01T19:02:00\",\"2000-01-01T19:03:00\",\"2000-01-01T19:31:00\",\"2000-01-01T19:32:00\",\"2000-01-01T19:34:00\",\"2000-01-01T19:50:00\",\"2000-01-01T19:59:00\",\"2000-01-01T20:01:00\",\"2000-01-01T20:31:00\",\"2000-01-01T21:01:00\",\"2000-01-01T21:31:00\",\"2000-01-01T22:01:00\",\"2000-01-01T22:02:00\",\"2000-01-01T22:31:00\",\"2000-01-01T23:01:00\",\"2000-01-01T23:03:00\",\"2000-01-01T23:31:00\"],\"xaxis\":\"x\",\"y\":[4,1,284,11,2,1,8,1,16,1,22,4,2,13,2,12,1,20,1,10,12,1,22,16,16,1,19,1,24,1,1,17,1,1,21,13,1,15,14,1,12,1,20,17,1,15,1,9,1,1,1,12,2,18,2,21,1,12,2,15,1,18,1,1,9,20,20,22,20,1,23,17,2,1,17,1,1,1,1,13,13,16,17,20,1,15,11,2,16],\"yaxis\":\"y\",\"type\":\"scatter\"},{\"hovertemplate\":\"Bin=(60.0, 65.0]<br>Timestamp=%{x}<br>Timestamp_Delta=%{y}<extra></extra>\",\"legendgroup\":\"(60.0, 65.0]\",\"marker\":{\"color\":\"#EF553B\",\"symbol\":\"circle\"},\"mode\":\"markers\",\"name\":\"(60.0, 65.0]\",\"orientation\":\"v\",\"showlegend\":true,\"x\":[\"2000-01-01T00:02:00\",\"2000-01-01T00:05:00\",\"2000-01-01T00:06:00\",\"2000-01-01T01:01:00\",\"2000-01-01T01:02:00\",\"2000-01-01T01:03:00\",\"2000-01-01T01:31:00\",\"2000-01-01T01:33:00\",\"2000-01-01T01:34:00\",\"2000-01-01T02:01:00\",\"2000-01-01T04:31:00\",\"2000-01-01T06:01:00\",\"2000-01-01T07:31:00\",\"2000-01-01T07:34:00\",\"2000-01-01T08:01:00\",\"2000-01-01T09:01:00\",\"2000-01-01T11:01:00\",\"2000-01-01T11:31:00\",\"2000-01-01T12:01:00\",\"2000-01-01T12:31:00\",\"2000-01-01T13:01:00\",\"2000-01-01T13:04:00\",\"2000-01-01T14:31:00\",\"2000-01-01T15:31:00\",\"2000-01-01T16:20:00\",\"2000-01-01T17:01:00\",\"2000-01-01T17:31:00\",\"2000-01-01T18:31:00\",\"2000-01-01T19:01:00\",\"2000-01-01T20:29:00\",\"2000-01-01T21:01:00\",\"2000-01-01T22:01:00\",\"2000-01-01T22:31:00\",\"2000-01-01T23:01:00\",\"2000-01-01T23:31:00\"],\"xaxis\":\"x\",\"y\":[1,4,1,323,20,1,1,5,1,2,1,3,1,1,1,1,1,1,1,1,1,1,1,2,1,1,1,1,3,1,1,2,1,1,1],\"yaxis\":\"y\",\"type\":\"scatter\"},{\"hovertemplate\":\"Bin=(65.0, 300.0]<br>Timestamp=%{x}<br>Timestamp_Delta=%{y}<extra></extra>\",\"legendgroup\":\"(65.0, 300.0]\",\"marker\":{\"color\":\"#00cc96\",\"symbol\":\"circle\"},\"mode\":\"markers\",\"name\":\"(65.0, 300.0]\",\"orientation\":\"v\",\"showlegend\":true,\"x\":[\"2000-01-01T00:01:00\",\"2000-01-01T00:02:00\",\"2000-01-01T00:33:00\",\"2000-01-01T00:34:00\",\"2000-01-01T01:01:00\",\"2000-01-01T15:21:00\",\"2000-01-01T19:30:00\",\"2000-01-01T23:01:00\"],\"xaxis\":\"x\",\"y\":[334,24,6,1,1,1,1,1],\"yaxis\":\"y\",\"type\":\"scatter\"},{\"hovertemplate\":\"Bin=(300.0, inf]<br>Timestamp=%{x}<br>Timestamp_Delta=%{y}<extra></extra>\",\"legendgroup\":\"(300.0, inf]\",\"marker\":{\"color\":\"#ab63fa\",\"symbol\":\"circle\"},\"mode\":\"markers\",\"name\":\"(300.0, inf]\",\"orientation\":\"v\",\"showlegend\":true,\"x\":[\"2000-01-01T00:01:00\",\"2000-01-01T01:59:00\",\"2000-01-01T12:04:00\"],\"xaxis\":\"x\",\"y\":[1,1,1],\"yaxis\":\"y\",\"type\":\"scatter\"}],                        {\"template\":{\"data\":{\"bar\":[{\"error_x\":{\"color\":\"#2a3f5f\"},\"error_y\":{\"color\":\"#2a3f5f\"},\"marker\":{\"line\":{\"color\":\"#E5ECF6\",\"width\":0.5},\"pattern\":{\"fillmode\":\"overlay\",\"size\":10,\"solidity\":0.2}},\"type\":\"bar\"}],\"barpolar\":[{\"marker\":{\"line\":{\"color\":\"#E5ECF6\",\"width\":0.5},\"pattern\":{\"fillmode\":\"overlay\",\"size\":10,\"solidity\":0.2}},\"type\":\"barpolar\"}],\"carpet\":[{\"aaxis\":{\"endlinecolor\":\"#2a3f5f\",\"gridcolor\":\"white\",\"linecolor\":\"white\",\"minorgridcolor\":\"white\",\"startlinecolor\":\"#2a3f5f\"},\"baxis\":{\"endlinecolor\":\"#2a3f5f\",\"gridcolor\":\"white\",\"linecolor\":\"white\",\"minorgridcolor\":\"white\",\"startlinecolor\":\"#2a3f5f\"},\"type\":\"carpet\"}],\"choropleth\":[{\"colorbar\":{\"outlinewidth\":0,\"ticks\":\"\"},\"type\":\"choropleth\"}],\"contour\":[{\"colorbar\":{\"outlinewidth\":0,\"ticks\":\"\"},\"colorscale\":[[0.0,\"#0d0887\"],[0.1111111111111111,\"#46039f\"],[0.2222222222222222,\"#7201a8\"],[0.3333333333333333,\"#9c179e\"],[0.4444444444444444,\"#bd3786\"],[0.5555555555555556,\"#d8576b\"],[0.6666666666666666,\"#ed7953\"],[0.7777777777777778,\"#fb9f3a\"],[0.8888888888888888,\"#fdca26\"],[1.0,\"#f0f921\"]],\"type\":\"contour\"}],\"contourcarpet\":[{\"colorbar\":{\"outlinewidth\":0,\"ticks\":\"\"},\"type\":\"contourcarpet\"}],\"heatmap\":[{\"colorbar\":{\"outlinewidth\":0,\"ticks\":\"\"},\"colorscale\":[[0.0,\"#0d0887\"],[0.1111111111111111,\"#46039f\"],[0.2222222222222222,\"#7201a8\"],[0.3333333333333333,\"#9c179e\"],[0.4444444444444444,\"#bd3786\"],[0.5555555555555556,\"#d8576b\"],[0.6666666666666666,\"#ed7953\"],[0.7777777777777778,\"#fb9f3a\"],[0.8888888888888888,\"#fdca26\"],[1.0,\"#f0f921\"]],\"type\":\"heatmap\"}],\"heatmapgl\":[{\"colorbar\":{\"outlinewidth\":0,\"ticks\":\"\"},\"colorscale\":[[0.0,\"#0d0887\"],[0.1111111111111111,\"#46039f\"],[0.2222222222222222,\"#7201a8\"],[0.3333333333333333,\"#9c179e\"],[0.4444444444444444,\"#bd3786\"],[0.5555555555555556,\"#d8576b\"],[0.6666666666666666,\"#ed7953\"],[0.7777777777777778,\"#fb9f3a\"],[0.8888888888888888,\"#fdca26\"],[1.0,\"#f0f921\"]],\"type\":\"heatmapgl\"}],\"histogram\":[{\"marker\":{\"pattern\":{\"fillmode\":\"overlay\",\"size\":10,\"solidity\":0.2}},\"type\":\"histogram\"}],\"histogram2d\":[{\"colorbar\":{\"outlinewidth\":0,\"ticks\":\"\"},\"colorscale\":[[0.0,\"#0d0887\"],[0.1111111111111111,\"#46039f\"],[0.2222222222222222,\"#7201a8\"],[0.3333333333333333,\"#9c179e\"],[0.4444444444444444,\"#bd3786\"],[0.5555555555555556,\"#d8576b\"],[0.6666666666666666,\"#ed7953\"],[0.7777777777777778,\"#fb9f3a\"],[0.8888888888888888,\"#fdca26\"],[1.0,\"#f0f921\"]],\"type\":\"histogram2d\"}],\"histogram2dcontour\":[{\"colorbar\":{\"outlinewidth\":0,\"ticks\":\"\"},\"colorscale\":[[0.0,\"#0d0887\"],[0.1111111111111111,\"#46039f\"],[0.2222222222222222,\"#7201a8\"],[0.3333333333333333,\"#9c179e\"],[0.4444444444444444,\"#bd3786\"],[0.5555555555555556,\"#d8576b\"],[0.6666666666666666,\"#ed7953\"],[0.7777777777777778,\"#fb9f3a\"],[0.8888888888888888,\"#fdca26\"],[1.0,\"#f0f921\"]],\"type\":\"histogram2dcontour\"}],\"mesh3d\":[{\"colorbar\":{\"outlinewidth\":0,\"ticks\":\"\"},\"type\":\"mesh3d\"}],\"parcoords\":[{\"line\":{\"colorbar\":{\"outlinewidth\":0,\"ticks\":\"\"}},\"type\":\"parcoords\"}],\"pie\":[{\"automargin\":true,\"type\":\"pie\"}],\"scatter\":[{\"marker\":{\"colorbar\":{\"outlinewidth\":0,\"ticks\":\"\"}},\"type\":\"scatter\"}],\"scatter3d\":[{\"line\":{\"colorbar\":{\"outlinewidth\":0,\"ticks\":\"\"}},\"marker\":{\"colorbar\":{\"outlinewidth\":0,\"ticks\":\"\"}},\"type\":\"scatter3d\"}],\"scattercarpet\":[{\"marker\":{\"colorbar\":{\"outlinewidth\":0,\"ticks\":\"\"}},\"type\":\"scattercarpet\"}],\"scattergeo\":[{\"marker\":{\"colorbar\":{\"outlinewidth\":0,\"ticks\":\"\"}},\"type\":\"scattergeo\"}],\"scattergl\":[{\"marker\":{\"colorbar\":{\"outlinewidth\":0,\"ticks\":\"\"}},\"type\":\"scattergl\"}],\"scattermapbox\":[{\"marker\":{\"colorbar\":{\"outlinewidth\":0,\"ticks\":\"\"}},\"type\":\"scattermapbox\"}],\"scatterpolar\":[{\"marker\":{\"colorbar\":{\"outlinewidth\":0,\"ticks\":\"\"}},\"type\":\"scatterpolar\"}],\"scatterpolargl\":[{\"marker\":{\"colorbar\":{\"outlinewidth\":0,\"ticks\":\"\"}},\"type\":\"scatterpolargl\"}],\"scatterternary\":[{\"marker\":{\"colorbar\":{\"outlinewidth\":0,\"ticks\":\"\"}},\"type\":\"scatterternary\"}],\"surface\":[{\"colorbar\":{\"outlinewidth\":0,\"ticks\":\"\"},\"colorscale\":[[0.0,\"#0d0887\"],[0.1111111111111111,\"#46039f\"],[0.2222222222222222,\"#7201a8\"],[0.3333333333333333,\"#9c179e\"],[0.4444444444444444,\"#bd3786\"],[0.5555555555555556,\"#d8576b\"],[0.6666666666666666,\"#ed7953\"],[0.7777777777777778,\"#fb9f3a\"],[0.8888888888888888,\"#fdca26\"],[1.0,\"#f0f921\"]],\"type\":\"surface\"}],\"table\":[{\"cells\":{\"fill\":{\"color\":\"#EBF0F8\"},\"line\":{\"color\":\"white\"}},\"header\":{\"fill\":{\"color\":\"#C8D4E3\"},\"line\":{\"color\":\"white\"}},\"type\":\"table\"}]},\"layout\":{\"annotationdefaults\":{\"arrowcolor\":\"#2a3f5f\",\"arrowhead\":0,\"arrowwidth\":1},\"autotypenumbers\":\"strict\",\"coloraxis\":{\"colorbar\":{\"outlinewidth\":0,\"ticks\":\"\"}},\"colorscale\":{\"diverging\":[[0,\"#8e0152\"],[0.1,\"#c51b7d\"],[0.2,\"#de77ae\"],[0.3,\"#f1b6da\"],[0.4,\"#fde0ef\"],[0.5,\"#f7f7f7\"],[0.6,\"#e6f5d0\"],[0.7,\"#b8e186\"],[0.8,\"#7fbc41\"],[0.9,\"#4d9221\"],[1,\"#276419\"]],\"sequential\":[[0.0,\"#0d0887\"],[0.1111111111111111,\"#46039f\"],[0.2222222222222222,\"#7201a8\"],[0.3333333333333333,\"#9c179e\"],[0.4444444444444444,\"#bd3786\"],[0.5555555555555556,\"#d8576b\"],[0.6666666666666666,\"#ed7953\"],[0.7777777777777778,\"#fb9f3a\"],[0.8888888888888888,\"#fdca26\"],[1.0,\"#f0f921\"]],\"sequentialminus\":[[0.0,\"#0d0887\"],[0.1111111111111111,\"#46039f\"],[0.2222222222222222,\"#7201a8\"],[0.3333333333333333,\"#9c179e\"],[0.4444444444444444,\"#bd3786\"],[0.5555555555555556,\"#d8576b\"],[0.6666666666666666,\"#ed7953\"],[0.7777777777777778,\"#fb9f3a\"],[0.8888888888888888,\"#fdca26\"],[1.0,\"#f0f921\"]]},\"colorway\":[\"#636efa\",\"#EF553B\",\"#00cc96\",\"#ab63fa\",\"#FFA15A\",\"#19d3f3\",\"#FF6692\",\"#B6E880\",\"#FF97FF\",\"#FECB52\"],\"font\":{\"color\":\"#2a3f5f\"},\"geo\":{\"bgcolor\":\"white\",\"lakecolor\":\"white\",\"landcolor\":\"#E5ECF6\",\"showlakes\":true,\"showland\":true,\"subunitcolor\":\"white\"},\"hoverlabel\":{\"align\":\"left\"},\"hovermode\":\"closest\",\"mapbox\":{\"style\":\"light\"},\"paper_bgcolor\":\"white\",\"plot_bgcolor\":\"#E5ECF6\",\"polar\":{\"angularaxis\":{\"gridcolor\":\"white\",\"linecolor\":\"white\",\"ticks\":\"\"},\"bgcolor\":\"#E5ECF6\",\"radialaxis\":{\"gridcolor\":\"white\",\"linecolor\":\"white\",\"ticks\":\"\"}},\"scene\":{\"xaxis\":{\"backgroundcolor\":\"#E5ECF6\",\"gridcolor\":\"white\",\"gridwidth\":2,\"linecolor\":\"white\",\"showbackground\":true,\"ticks\":\"\",\"zerolinecolor\":\"white\"},\"yaxis\":{\"backgroundcolor\":\"#E5ECF6\",\"gridcolor\":\"white\",\"gridwidth\":2,\"linecolor\":\"white\",\"showbackground\":true,\"ticks\":\"\",\"zerolinecolor\":\"white\"},\"zaxis\":{\"backgroundcolor\":\"#E5ECF6\",\"gridcolor\":\"white\",\"gridwidth\":2,\"linecolor\":\"white\",\"showbackground\":true,\"ticks\":\"\",\"zerolinecolor\":\"white\"}},\"shapedefaults\":{\"line\":{\"color\":\"#2a3f5f\"}},\"ternary\":{\"aaxis\":{\"gridcolor\":\"white\",\"linecolor\":\"white\",\"ticks\":\"\"},\"baxis\":{\"gridcolor\":\"white\",\"linecolor\":\"white\",\"ticks\":\"\"},\"bgcolor\":\"#E5ECF6\",\"caxis\":{\"gridcolor\":\"white\",\"linecolor\":\"white\",\"ticks\":\"\"}},\"title\":{\"x\":0.05},\"xaxis\":{\"automargin\":true,\"gridcolor\":\"white\",\"linecolor\":\"white\",\"ticks\":\"\",\"title\":{\"standoff\":15},\"zerolinecolor\":\"white\",\"zerolinewidth\":2},\"yaxis\":{\"automargin\":true,\"gridcolor\":\"white\",\"linecolor\":\"white\",\"ticks\":\"\",\"title\":{\"standoff\":15},\"zerolinecolor\":\"white\",\"zerolinewidth\":2}}},\"xaxis\":{\"anchor\":\"y\",\"domain\":[0.0,1.0],\"title\":{\"text\":\"Time of Day\"}},\"yaxis\":{\"anchor\":\"x\",\"domain\":[0.0,1.0],\"title\":{\"text\":\"Occurrence\"}},\"legend\":{\"title\":{\"text\":\"Bin\"},\"tracegroupgap\":0},\"title\":{\"text\":\"Occurrence of Missing Record Given Time of Day\"}},                        {\"responsive\": true}                    ).then(function(){\n                            \nvar gd = document.getElementById('8ca80ef6-3a2d-4844-b249-41f08c21bbea');\nvar x = new MutationObserver(function (mutations, observer) {{\n        var display = window.getComputedStyle(gd).display;\n        if (!display || display === 'none') {{\n            console.log([gd, 'removed!']);\n            Plotly.purge(gd);\n            observer.disconnect();\n        }}\n}});\n\n// Listen for the removal of the full notebook cells\nvar notebookContainer = gd.closest('#notebook-container');\nif (notebookContainer) {{\n    x.observe(notebookContainer, {childList: true});\n}}\n\n// Listen for the clearing of the current output cell\nvar outputEl = gd.closest('.output');\nif (outputEl) {{\n    x.observe(outputEl, {childList: true});\n}}\n\n                        })                };                });            </script>        </div>"
     },
     "metadata": {},
     "output_type": "display_data"
    }
   ],
   "source": [
    "fig = px.scatter(binned_count, x=\"Timestamp\", y=\"Timestamp_Delta\", color=\"Bin\", title=\"Occurrence of Missing Record Given Time of Day\", )\n",
    "\n",
    "fig.update_layout(\n",
    "    xaxis_title=\"Time of Day\",\n",
    "    yaxis_title=\"Occurrence\",\n",
    ")\n",
    "\n",
    "fig.show()"
   ],
   "metadata": {
    "collapsed": false,
    "pycharm": {
     "name": "#%%\n"
    }
   }
  },
  {
   "cell_type": "markdown",
   "source": [
    "It was seen that three intervals were larger than 5 minutes, how long (in hours), did the interval last?"
   ],
   "metadata": {
    "collapsed": false
   }
  },
  {
   "cell_type": "code",
   "execution_count": 99,
   "outputs": [
    {
     "data": {
      "text/plain": "375267    72.061389\n388327     1.016667\n511699    15.107222\nName: Timestamp_Delta, dtype: float64"
     },
     "execution_count": 99,
     "metadata": {},
     "output_type": "execute_result"
    }
   ],
   "source": [
    "df_delta[\"Timestamp_Delta\"].loc[(df_delta[\"Timestamp_Delta\"] > 300)] / 60 / 60\n",
    "# Hours of missing data for the three longest periods."
   ],
   "metadata": {
    "collapsed": false,
    "pycharm": {
     "name": "#%%\n"
    }
   }
  },
  {
   "cell_type": "code",
   "execution_count": 65,
   "outputs": [],
   "source": [],
   "metadata": {
    "collapsed": false,
    "pycharm": {
     "name": "#%%\n"
    }
   }
  }
 ],
 "metadata": {
  "kernelspec": {
   "display_name": "Python 3",
   "language": "python",
   "name": "python3"
  },
  "language_info": {
   "codemirror_mode": {
    "name": "ipython",
    "version": 2
   },
   "file_extension": ".py",
   "mimetype": "text/x-python",
   "name": "python",
   "nbconvert_exporter": "python",
   "pygments_lexer": "ipython2",
   "version": "2.7.6"
  }
 },
 "nbformat": 4,
 "nbformat_minor": 0
}