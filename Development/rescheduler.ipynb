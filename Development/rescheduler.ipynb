{
 "cells": [
  {
   "cell_type": "code",
   "execution_count": 39,
   "metadata": {
    "collapsed": true
   },
   "outputs": [],
   "source": [
    "import pandas as pd\n",
    "\n",
    "import DataRetriever as dr\n",
    "import SARIMAX_forecast\n",
    "import FFT_forecast\n",
    "\n",
    "RETRIEVER = dr.DataRetriever()\n",
    "CON_ATTRIBUTES = RETRIEVER.get_attributes(file_name='consuming_attributes.pkl')\n",
    "PV_ATTRIBUTES = RETRIEVER.get_attributes(file_name='producing_attributes.pkl')\n",
    "FLEX_ATTRIBUTES = [\"Load_ClothesWasherPowerWithStandby\", \"Elec_PowerDishwasher\", \"Load_DryerPowerTotal\"]\n",
    "FIXED_ATTRIBUTES = list(set(CON_ATTRIBUTES) - set(FLEX_ATTRIBUTES))"
   ]
  },
  {
   "cell_type": "code",
   "execution_count": 40,
   "outputs": [],
   "source": [
    "def rescheduler(year, month, day):\n",
    "    date = pd.Timestamp(year=year, month=month, day=day)\n",
    "    pv = RETRIEVER.get_data(file_name='All-Subsystems-hour-Year2.pkl')[PV_ATTRIBUTES].sum(axis=1).clip(lower=0) / 1000\n",
    "    fixed = RETRIEVER.get_data(file_name='All-Subsystems-hour-Year2.pkl')[FIXED_ATTRIBUTES].sum(axis=1).clip(lower=0) / 1000\n",
    "\n",
    "    flex_clothes = RETRIEVER.get_data(file_name='All-Subsystems-hour-Year2.pkl')[\"Load_ClothesWasherPowerWithStandby\"].clip(lower=0) / 1000\n",
    "    flex_dish = RETRIEVER.get_data(file_name='All-Subsystems-hour-Year2.pkl')[\"Elec_PowerDishwasher\"].clip(lower=0) / 1000\n",
    "    flex_dryer = RETRIEVER.get_data(file_name='All-Subsystems-hour-Year2.pkl')[\"Load_DryerPowerTotal\"].clip(lower=0) / 1000\n",
    "\n",
    "    # 7 days of training data - subject to be changed, depends on fcast model\n",
    "    # pv = pv.loc[(pv.index >= date - pd.Timedelta(days=7)) & (pv.index < date)]\n",
    "    fixed = fixed.loc[(fixed.index >= date - pd.Timedelta(days=7)) & (fixed.index < date)]\n",
    "\n",
    "    flex_clothes = flex_clothes.loc[(flex_clothes.index >= date) & (flex_clothes.index < date + pd.Timedelta(days=3))]\n",
    "    flex_dish = flex_dish.loc[(flex_dish.index >= date) & (flex_dish.index < date + pd.Timedelta(days=3))]\n",
    "    flex_dryer = flex_dryer.loc[(flex_dryer.index >= date) & (flex_dryer.index < date + pd.Timedelta(days=3))]\n",
    "\n",
    "    # ------------------ Forecast PV ------------------\n",
    "    pv_pred = SARIMAX_forecast.sarimax_prediction(date, pv)\n",
    "\n",
    "    # ------------------ Forecast Fixed ------------------\n",
    "    fixed_pred = pd.DataFrame(FFT_forecast.fourierExtrapolation(data=fixed, number_of_predictions=72, n_sinusoids=70)[len(fixed):], index=pv_pred.index[:72])\n",
    "    #pd.DataFrame(fixed[:len(flex_clothes)]).set_index(flex_dish.index)\n",
    "\n",
    "\n",
    "    # Concat results\n",
    "    df = pd.concat([pv_pred.reindex(flex_dish.index), fixed_pred.reindex(flex_dish.index), flex_clothes, flex_dish, flex_dryer], axis=1)\n",
    "    # Easy way to remove column names\n",
    "    df = df.T.reset_index(drop=True).T\n",
    "    df.rename(columns={0: \"PV\", 1: \"FIXED\", 2: \"FLEX_CLOTHES\", 3: \"FLEX_DISH\", 4: \"FLEX_DRYER\"}, inplace=True)\n",
    "\n",
    "    # Stand-by values set to 0, simplifies the code\n",
    "    df.loc[df[\"FLEX_CLOTHES\"] <= 0.002947, \"FLEX_CLOTHES\"] = 0\n",
    "\n",
    "    df[\"Balance\"] = df[\"PV\"] - (df[\"FIXED\"] + df[\"FLEX_CLOTHES\"] + df[\"FLEX_DISH\"] + df[\"FLEX_DRYER\"])\n",
    "\n",
    "    # pd.DataFrames with flexible appliances turned on and surplus where at least one flexible is not turned on.\n",
    "    deficit = df[(df[\"Balance\"] < 0) & ((df[\"FLEX_DISH\"] > 0) | (df[\"FLEX_DRYER\"] > 0) | (df[\"FLEX_CLOTHES\"] > 0))]\n",
    "    surplus = df[(df[\"Balance\"] > 0) & ((df[\"FLEX_DISH\"] == 0) | (df[\"FLEX_DRYER\"] == 0) | (df[\"FLEX_CLOTHES\"] == 0))]\n",
    "\n",
    "    columns_dict = {0: \"FLEX_CLOTHES\", 1: \"FLEX_DISH\", 2: \"FLEX_DRYER\"}\n",
    "    res_df = pd.DataFrame(columns=[\"Planned Time\", \"Appliance\", \"Suggested Time\"])\n",
    "\n",
    "    # Loops over all rows in the deficit to find better times to turn on appliances.\n",
    "    for idx, row in deficit.iterrows():\n",
    "        while row[[\"FLEX_CLOTHES\", \"FLEX_DISH\", \"FLEX_DRYER\"]].max() != 0: # Thus, a flexible appliance is active.\n",
    "            col = columns_dict[row[[\"FLEX_CLOTHES\", \"FLEX_DISH\", \"FLEX_DRYER\"]].argmax()] # Column of the largest deficit.\n",
    "\n",
    "            deficit_value = deficit.at[idx, col] # Significance of deficit\n",
    "            surplus_possible = surplus[(surplus[\"Balance\"] >= deficit_value) & (surplus[col] == 0)] # Possible time slots\n",
    "\n",
    "            suggested_time = surplus_possible.index[surplus_possible.index.get_indexer([idx], method='nearest')][0] # Closest time with enough surplus\n",
    "\n",
    "            surplus.at[suggested_time, col] = deficit_value\n",
    "            surplus.at[suggested_time, \"Balance\"] -= deficit_value # Change balance in the surplus df\n",
    "\n",
    "            deficit.at[idx, col] = 0 # Set the deficit value to 0\n",
    "\n",
    "            res_df.loc[len(res_df)] = (idx, col, suggested_time) # Insert rows to final result\n",
    "\n",
    "    return res_df"
   ],
   "metadata": {
    "collapsed": false,
    "pycharm": {
     "name": "#%%\n"
    }
   }
  },
  {
   "cell_type": "code",
   "execution_count": 45,
   "outputs": [
    {
     "data": {
      "text/plain": "         Planned Time     Appliance      Suggested Time\n0 2016-01-22 20:00:00     FLEX_DISH 2016-01-22 12:00:00\n1 2016-01-22 21:00:00     FLEX_DISH 2016-01-22 11:00:00\n2 2016-01-22 22:00:00     FLEX_DISH 2016-01-22 10:00:00\n3 2016-01-23 11:00:00  FLEX_CLOTHES 2016-01-22 11:00:00\n4 2016-01-23 12:00:00    FLEX_DRYER 2016-01-21 15:00:00\n5 2016-01-23 14:00:00  FLEX_CLOTHES 2016-01-22 12:00:00\n6 2016-01-23 15:00:00    FLEX_DRYER 2016-01-21 14:00:00\n7 2016-01-23 15:00:00  FLEX_CLOTHES 2016-01-22 10:00:00\n8 2016-01-23 21:00:00     FLEX_DISH 2016-01-22 09:00:00\n9 2016-01-23 22:00:00     FLEX_DISH 2016-01-21 16:00:00",
      "text/html": "<div>\n<style scoped>\n    .dataframe tbody tr th:only-of-type {\n        vertical-align: middle;\n    }\n\n    .dataframe tbody tr th {\n        vertical-align: top;\n    }\n\n    .dataframe thead th {\n        text-align: right;\n    }\n</style>\n<table border=\"1\" class=\"dataframe\">\n  <thead>\n    <tr style=\"text-align: right;\">\n      <th></th>\n      <th>Planned Time</th>\n      <th>Appliance</th>\n      <th>Suggested Time</th>\n    </tr>\n  </thead>\n  <tbody>\n    <tr>\n      <th>0</th>\n      <td>2016-01-22 20:00:00</td>\n      <td>FLEX_DISH</td>\n      <td>2016-01-22 12:00:00</td>\n    </tr>\n    <tr>\n      <th>1</th>\n      <td>2016-01-22 21:00:00</td>\n      <td>FLEX_DISH</td>\n      <td>2016-01-22 11:00:00</td>\n    </tr>\n    <tr>\n      <th>2</th>\n      <td>2016-01-22 22:00:00</td>\n      <td>FLEX_DISH</td>\n      <td>2016-01-22 10:00:00</td>\n    </tr>\n    <tr>\n      <th>3</th>\n      <td>2016-01-23 11:00:00</td>\n      <td>FLEX_CLOTHES</td>\n      <td>2016-01-22 11:00:00</td>\n    </tr>\n    <tr>\n      <th>4</th>\n      <td>2016-01-23 12:00:00</td>\n      <td>FLEX_DRYER</td>\n      <td>2016-01-21 15:00:00</td>\n    </tr>\n    <tr>\n      <th>5</th>\n      <td>2016-01-23 14:00:00</td>\n      <td>FLEX_CLOTHES</td>\n      <td>2016-01-22 12:00:00</td>\n    </tr>\n    <tr>\n      <th>6</th>\n      <td>2016-01-23 15:00:00</td>\n      <td>FLEX_DRYER</td>\n      <td>2016-01-21 14:00:00</td>\n    </tr>\n    <tr>\n      <th>7</th>\n      <td>2016-01-23 15:00:00</td>\n      <td>FLEX_CLOTHES</td>\n      <td>2016-01-22 10:00:00</td>\n    </tr>\n    <tr>\n      <th>8</th>\n      <td>2016-01-23 21:00:00</td>\n      <td>FLEX_DISH</td>\n      <td>2016-01-22 09:00:00</td>\n    </tr>\n    <tr>\n      <th>9</th>\n      <td>2016-01-23 22:00:00</td>\n      <td>FLEX_DISH</td>\n      <td>2016-01-21 16:00:00</td>\n    </tr>\n  </tbody>\n</table>\n</div>"
     },
     "execution_count": 45,
     "metadata": {},
     "output_type": "execute_result"
    }
   ],
   "source": [
    "suggested_rescheduler = rescheduler(2016, 1, 21)\n",
    "suggested_rescheduler"
   ],
   "metadata": {
    "collapsed": false,
    "pycharm": {
     "name": "#%%\n"
    }
   }
  },
  {
   "cell_type": "code",
   "execution_count": 42,
   "outputs": [
    {
     "data": {
      "text/plain": "                           PV     FIXED  FLEX_CLOTHES  FLEX_DISH  FLEX_DRYER  \\\nTimestamp                                                                      \n2016-01-21 00:00:00  0.018528  1.907302           0.0   0.000000         0.0   \n2016-01-21 01:00:00  0.018481  1.625556           0.0   0.000000         0.0   \n2016-01-21 02:00:00  0.018412  1.846838           0.0   0.000000         0.0   \n2016-01-21 03:00:00  0.018334  1.778191           0.0   0.000000         0.0   \n2016-01-21 04:00:00  0.018563  1.591810           0.0   0.000000         0.0   \n...                       ...       ...           ...        ...         ...   \n2016-01-23 19:00:00  0.018728  4.338868           0.0   0.000000         0.0   \n2016-01-23 20:00:00  0.018731  4.066591           0.0   0.000000         0.0   \n2016-01-23 21:00:00  0.018751  2.676231           0.0   0.357464         0.0   \n2016-01-23 22:00:00  0.018741  2.785955           0.0   0.017888         0.0   \n2016-01-23 23:00:00  0.018803  1.648193           0.0   0.000000         0.0   \n\n                      Balance  \nTimestamp                      \n2016-01-21 00:00:00 -1.888774  \n2016-01-21 01:00:00 -1.607075  \n2016-01-21 02:00:00 -1.828426  \n2016-01-21 03:00:00 -1.759857  \n2016-01-21 04:00:00 -1.573246  \n...                       ...  \n2016-01-23 19:00:00 -4.320140  \n2016-01-23 20:00:00 -4.047859  \n2016-01-23 21:00:00 -3.014945  \n2016-01-23 22:00:00 -2.785103  \n2016-01-23 23:00:00 -1.629390  \n\n[72 rows x 6 columns]",
      "text/html": "<div>\n<style scoped>\n    .dataframe tbody tr th:only-of-type {\n        vertical-align: middle;\n    }\n\n    .dataframe tbody tr th {\n        vertical-align: top;\n    }\n\n    .dataframe thead th {\n        text-align: right;\n    }\n</style>\n<table border=\"1\" class=\"dataframe\">\n  <thead>\n    <tr style=\"text-align: right;\">\n      <th></th>\n      <th>PV</th>\n      <th>FIXED</th>\n      <th>FLEX_CLOTHES</th>\n      <th>FLEX_DISH</th>\n      <th>FLEX_DRYER</th>\n      <th>Balance</th>\n    </tr>\n    <tr>\n      <th>Timestamp</th>\n      <th></th>\n      <th></th>\n      <th></th>\n      <th></th>\n      <th></th>\n      <th></th>\n    </tr>\n  </thead>\n  <tbody>\n    <tr>\n      <th>2016-01-21 00:00:00</th>\n      <td>0.018528</td>\n      <td>1.907302</td>\n      <td>0.0</td>\n      <td>0.000000</td>\n      <td>0.0</td>\n      <td>-1.888774</td>\n    </tr>\n    <tr>\n      <th>2016-01-21 01:00:00</th>\n      <td>0.018481</td>\n      <td>1.625556</td>\n      <td>0.0</td>\n      <td>0.000000</td>\n      <td>0.0</td>\n      <td>-1.607075</td>\n    </tr>\n    <tr>\n      <th>2016-01-21 02:00:00</th>\n      <td>0.018412</td>\n      <td>1.846838</td>\n      <td>0.0</td>\n      <td>0.000000</td>\n      <td>0.0</td>\n      <td>-1.828426</td>\n    </tr>\n    <tr>\n      <th>2016-01-21 03:00:00</th>\n      <td>0.018334</td>\n      <td>1.778191</td>\n      <td>0.0</td>\n      <td>0.000000</td>\n      <td>0.0</td>\n      <td>-1.759857</td>\n    </tr>\n    <tr>\n      <th>2016-01-21 04:00:00</th>\n      <td>0.018563</td>\n      <td>1.591810</td>\n      <td>0.0</td>\n      <td>0.000000</td>\n      <td>0.0</td>\n      <td>-1.573246</td>\n    </tr>\n    <tr>\n      <th>...</th>\n      <td>...</td>\n      <td>...</td>\n      <td>...</td>\n      <td>...</td>\n      <td>...</td>\n      <td>...</td>\n    </tr>\n    <tr>\n      <th>2016-01-23 19:00:00</th>\n      <td>0.018728</td>\n      <td>4.338868</td>\n      <td>0.0</td>\n      <td>0.000000</td>\n      <td>0.0</td>\n      <td>-4.320140</td>\n    </tr>\n    <tr>\n      <th>2016-01-23 20:00:00</th>\n      <td>0.018731</td>\n      <td>4.066591</td>\n      <td>0.0</td>\n      <td>0.000000</td>\n      <td>0.0</td>\n      <td>-4.047859</td>\n    </tr>\n    <tr>\n      <th>2016-01-23 21:00:00</th>\n      <td>0.018751</td>\n      <td>2.676231</td>\n      <td>0.0</td>\n      <td>0.357464</td>\n      <td>0.0</td>\n      <td>-3.014945</td>\n    </tr>\n    <tr>\n      <th>2016-01-23 22:00:00</th>\n      <td>0.018741</td>\n      <td>2.785955</td>\n      <td>0.0</td>\n      <td>0.017888</td>\n      <td>0.0</td>\n      <td>-2.785103</td>\n    </tr>\n    <tr>\n      <th>2016-01-23 23:00:00</th>\n      <td>0.018803</td>\n      <td>1.648193</td>\n      <td>0.0</td>\n      <td>0.000000</td>\n      <td>0.0</td>\n      <td>-1.629390</td>\n    </tr>\n  </tbody>\n</table>\n<p>72 rows × 6 columns</p>\n</div>"
     },
     "execution_count": 42,
     "metadata": {},
     "output_type": "execute_result"
    }
   ],
   "source": [
    "date = pd.Timestamp(year=2016, month=1, day=21)\n",
    "pv = RETRIEVER.get_data(file_name='All-Subsystems-hour-Year2.pkl')[PV_ATTRIBUTES].sum(axis=1).clip(lower=0) / 1000\n",
    "fixed = RETRIEVER.get_data(file_name='All-Subsystems-hour-Year2.pkl')[FIXED_ATTRIBUTES].sum(axis=1).clip(lower=0) / 1000\n",
    "\n",
    "flex_clothes = RETRIEVER.get_data(file_name='All-Subsystems-hour-Year2.pkl')[\"Load_ClothesWasherPowerWithStandby\"].clip(lower=0) / 1000\n",
    "flex_dish = RETRIEVER.get_data(file_name='All-Subsystems-hour-Year2.pkl')[\"Elec_PowerDishwasher\"].clip(lower=0) / 1000\n",
    "flex_dryer = RETRIEVER.get_data(file_name='All-Subsystems-hour-Year2.pkl')[\"Load_DryerPowerTotal\"].clip(lower=0) / 1000\n",
    "\n",
    "pv = pv.loc[(pv.index >= date) & (pv.index < date + pd.Timedelta(days=3))]\n",
    "fixed = fixed.loc[(fixed.index >= date) & (fixed.index < date + pd.Timedelta(days=3))]\n",
    "\n",
    "flex_clothes = flex_clothes.loc[(flex_clothes.index >= date) & (flex_clothes.index < date + pd.Timedelta(days=3))]\n",
    "flex_dish = flex_dish.loc[(flex_dish.index >= date) & (flex_dish.index < date + pd.Timedelta(days=3))]\n",
    "flex_dryer = flex_dryer.loc[(flex_dryer.index >= date) & (flex_dryer.index < date + pd.Timedelta(days=3))]\n",
    "\n",
    "\n",
    "df = pd.concat([pv.reindex(flex_dish.index), fixed.reindex(flex_dish.index), flex_clothes, flex_dish, flex_dryer], axis=1)\n",
    "# Easy way to remove column names\n",
    "df = df.T.reset_index(drop=True).T\n",
    "df.rename(columns={0: \"PV\", 1: \"FIXED\", 2: \"FLEX_CLOTHES\", 3: \"FLEX_DISH\", 4: \"FLEX_DRYER\"}, inplace=True)\n",
    "\n",
    "# Stand-by values set to 0, simplifies the code\n",
    "df.loc[df[\"FLEX_CLOTHES\"] <= 0.002947, \"FLEX_CLOTHES\"] = 0\n",
    "\n",
    "df[\"Balance\"] = df[\"PV\"] - (df[\"FIXED\"] + df[\"FLEX_CLOTHES\"] + df[\"FLEX_DISH\"] + df[\"FLEX_DRYER\"])\n",
    "df"
   ],
   "metadata": {
    "collapsed": false,
    "pycharm": {
     "name": "#%%\n"
    }
   }
  },
  {
   "cell_type": "code",
   "execution_count": 46,
   "outputs": [
    {
     "data": {
      "text/plain": "-168.17352059371296"
     },
     "execution_count": 46,
     "metadata": {},
     "output_type": "execute_result"
    }
   ],
   "source": [
    "balance_pre = sum(df[\"Balance\"][df[\"Balance\"] < 0])\n",
    "balance_pre"
   ],
   "metadata": {
    "collapsed": false,
    "pycharm": {
     "name": "#%%\n"
    }
   }
  },
  {
   "cell_type": "code",
   "execution_count": 47,
   "outputs": [],
   "source": [
    "for idx, row in suggested_rescheduler.iterrows():\n",
    "    df.at[row[\"Suggested Time\"], row[\"Appliance\"]] = df.at[row[\"Planned Time\"], row[\"Appliance\"]]\n",
    "    df.at[row[\"Planned Time\"], row[\"Appliance\"]] = 0"
   ],
   "metadata": {
    "collapsed": false,
    "pycharm": {
     "name": "#%%\n"
    }
   }
  },
  {
   "cell_type": "code",
   "execution_count": 48,
   "outputs": [
    {
     "data": {
      "text/plain": "                           PV     FIXED  FLEX_CLOTHES  FLEX_DISH  FLEX_DRYER  \\\nTimestamp                                                                      \n2016-01-21 00:00:00  0.018528  1.907302           0.0        0.0         0.0   \n2016-01-21 01:00:00  0.018481  1.625556           0.0        0.0         0.0   \n2016-01-21 02:00:00  0.018412  1.846838           0.0        0.0         0.0   \n2016-01-21 03:00:00  0.018334  1.778191           0.0        0.0         0.0   \n2016-01-21 04:00:00  0.018563  1.591810           0.0        0.0         0.0   \n...                       ...       ...           ...        ...         ...   \n2016-01-23 19:00:00  0.018728  4.338868           0.0        0.0         0.0   \n2016-01-23 20:00:00  0.018731  4.066591           0.0        0.0         0.0   \n2016-01-23 21:00:00  0.018751  2.676231           0.0        0.0         0.0   \n2016-01-23 22:00:00  0.018741  2.785955           0.0        0.0         0.0   \n2016-01-23 23:00:00  0.018803  1.648193           0.0        0.0         0.0   \n\n                      Balance  New_Balance  \nTimestamp                                   \n2016-01-21 00:00:00 -1.888774    -1.888774  \n2016-01-21 01:00:00 -1.607075    -1.607075  \n2016-01-21 02:00:00 -1.828426    -1.828426  \n2016-01-21 03:00:00 -1.759857    -1.759857  \n2016-01-21 04:00:00 -1.573246    -1.573246  \n...                       ...          ...  \n2016-01-23 19:00:00 -4.320140    -4.320140  \n2016-01-23 20:00:00 -4.047859    -4.047859  \n2016-01-23 21:00:00 -3.014945    -2.657480  \n2016-01-23 22:00:00 -2.785103    -2.767214  \n2016-01-23 23:00:00 -1.629390    -1.629390  \n\n[72 rows x 7 columns]",
      "text/html": "<div>\n<style scoped>\n    .dataframe tbody tr th:only-of-type {\n        vertical-align: middle;\n    }\n\n    .dataframe tbody tr th {\n        vertical-align: top;\n    }\n\n    .dataframe thead th {\n        text-align: right;\n    }\n</style>\n<table border=\"1\" class=\"dataframe\">\n  <thead>\n    <tr style=\"text-align: right;\">\n      <th></th>\n      <th>PV</th>\n      <th>FIXED</th>\n      <th>FLEX_CLOTHES</th>\n      <th>FLEX_DISH</th>\n      <th>FLEX_DRYER</th>\n      <th>Balance</th>\n      <th>New_Balance</th>\n    </tr>\n    <tr>\n      <th>Timestamp</th>\n      <th></th>\n      <th></th>\n      <th></th>\n      <th></th>\n      <th></th>\n      <th></th>\n      <th></th>\n    </tr>\n  </thead>\n  <tbody>\n    <tr>\n      <th>2016-01-21 00:00:00</th>\n      <td>0.018528</td>\n      <td>1.907302</td>\n      <td>0.0</td>\n      <td>0.0</td>\n      <td>0.0</td>\n      <td>-1.888774</td>\n      <td>-1.888774</td>\n    </tr>\n    <tr>\n      <th>2016-01-21 01:00:00</th>\n      <td>0.018481</td>\n      <td>1.625556</td>\n      <td>0.0</td>\n      <td>0.0</td>\n      <td>0.0</td>\n      <td>-1.607075</td>\n      <td>-1.607075</td>\n    </tr>\n    <tr>\n      <th>2016-01-21 02:00:00</th>\n      <td>0.018412</td>\n      <td>1.846838</td>\n      <td>0.0</td>\n      <td>0.0</td>\n      <td>0.0</td>\n      <td>-1.828426</td>\n      <td>-1.828426</td>\n    </tr>\n    <tr>\n      <th>2016-01-21 03:00:00</th>\n      <td>0.018334</td>\n      <td>1.778191</td>\n      <td>0.0</td>\n      <td>0.0</td>\n      <td>0.0</td>\n      <td>-1.759857</td>\n      <td>-1.759857</td>\n    </tr>\n    <tr>\n      <th>2016-01-21 04:00:00</th>\n      <td>0.018563</td>\n      <td>1.591810</td>\n      <td>0.0</td>\n      <td>0.0</td>\n      <td>0.0</td>\n      <td>-1.573246</td>\n      <td>-1.573246</td>\n    </tr>\n    <tr>\n      <th>...</th>\n      <td>...</td>\n      <td>...</td>\n      <td>...</td>\n      <td>...</td>\n      <td>...</td>\n      <td>...</td>\n      <td>...</td>\n    </tr>\n    <tr>\n      <th>2016-01-23 19:00:00</th>\n      <td>0.018728</td>\n      <td>4.338868</td>\n      <td>0.0</td>\n      <td>0.0</td>\n      <td>0.0</td>\n      <td>-4.320140</td>\n      <td>-4.320140</td>\n    </tr>\n    <tr>\n      <th>2016-01-23 20:00:00</th>\n      <td>0.018731</td>\n      <td>4.066591</td>\n      <td>0.0</td>\n      <td>0.0</td>\n      <td>0.0</td>\n      <td>-4.047859</td>\n      <td>-4.047859</td>\n    </tr>\n    <tr>\n      <th>2016-01-23 21:00:00</th>\n      <td>0.018751</td>\n      <td>2.676231</td>\n      <td>0.0</td>\n      <td>0.0</td>\n      <td>0.0</td>\n      <td>-3.014945</td>\n      <td>-2.657480</td>\n    </tr>\n    <tr>\n      <th>2016-01-23 22:00:00</th>\n      <td>0.018741</td>\n      <td>2.785955</td>\n      <td>0.0</td>\n      <td>0.0</td>\n      <td>0.0</td>\n      <td>-2.785103</td>\n      <td>-2.767214</td>\n    </tr>\n    <tr>\n      <th>2016-01-23 23:00:00</th>\n      <td>0.018803</td>\n      <td>1.648193</td>\n      <td>0.0</td>\n      <td>0.0</td>\n      <td>0.0</td>\n      <td>-1.629390</td>\n      <td>-1.629390</td>\n    </tr>\n  </tbody>\n</table>\n<p>72 rows × 7 columns</p>\n</div>"
     },
     "execution_count": 48,
     "metadata": {},
     "output_type": "execute_result"
    }
   ],
   "source": [
    "df[\"New_Balance\"] = df[\"PV\"] - (df[\"FIXED\"] + df[\"FLEX_CLOTHES\"] + df[\"FLEX_DISH\"] + df[\"FLEX_DRYER\"])\n",
    "df"
   ],
   "metadata": {
    "collapsed": false,
    "pycharm": {
     "name": "#%%\n"
    }
   }
  }
 ],
 "metadata": {
  "kernelspec": {
   "display_name": "Python 3",
   "language": "python",
   "name": "python3"
  },
  "language_info": {
   "codemirror_mode": {
    "name": "ipython",
    "version": 2
   },
   "file_extension": ".py",
   "mimetype": "text/x-python",
   "name": "python",
   "nbconvert_exporter": "python",
   "pygments_lexer": "ipython2",
   "version": "2.7.6"
  }
 },
 "nbformat": 4,
 "nbformat_minor": 0
}