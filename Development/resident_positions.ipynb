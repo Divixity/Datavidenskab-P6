{
 "cells": [
  {
   "cell_type": "markdown",
   "source": [
    "# TODO: Erstat værdier 1 i 'væk' med -1, værdier 1 i 'nedenunder' med 2, og værdier 1 i 'ovenpå' med 3"
   ],
   "metadata": {
    "collapsed": false
   }
  },
  {
   "cell_type": "code",
   "execution_count": 107,
   "outputs": [],
   "source": [
    "import plotly.express as px\n",
    "\n",
    "import DataRetriever as dr\n",
    "\n",
    "retriever = dr.DataRetriever()\n",
    "\n",
    "year_2 = retriever.get_data('All-Subsystems-minute-Year2.pkl')\n",
    "metadata = retriever.get_data('metadata-year2.pkl')\n",
    "metadata.rename(columns={'Unnamed: 0': 'Attribute'}, inplace=True)"
   ],
   "metadata": {
    "collapsed": false,
    "pycharm": {
     "name": "#%%\n"
    }
   }
  },
  {
   "cell_type": "code",
   "execution_count": 108,
   "outputs": [],
   "source": [
    "parent_a_positions = metadata[metadata[\"Description\"].str.contains('parent A is simulated as being')]\n",
    "parent_b_positions = metadata[metadata[\"Description\"].str.contains('parent B is simulated as being')]\n",
    "child_a_positions = metadata[metadata[\"Description\"].str.contains('child A is simulated as being')]\n",
    "child_b_positions = metadata[metadata[\"Description\"].str.contains('child B is simulated as being')]\n",
    "\n",
    "positions_dict = {'ParentA': parent_a_positions['Attribute'].tolist(),\n",
    "                  'ParentB': parent_b_positions['Attribute'].tolist(),\n",
    "                  'ChildA': child_a_positions['Attribute'].tolist(),\n",
    "                  'ChildB': child_b_positions['Attribute'].tolist()}"
   ],
   "metadata": {
    "collapsed": false,
    "pycharm": {
     "name": "#%%\n"
    }
   }
  },
  {
   "cell_type": "code",
   "execution_count": 109,
   "outputs": [],
   "source": [
    "positions = list()\n",
    "for key, value in positions_dict.items():\n",
    "    for subvalue in positions_dict[key]:\n",
    "        positions.append(subvalue)"
   ],
   "metadata": {
    "collapsed": false,
    "pycharm": {
     "name": "#%%\n"
    }
   }
  },
  {
   "cell_type": "code",
   "execution_count": 110,
   "outputs": [
    {
     "name": "stderr",
     "output_type": "stream",
     "text": [
      "C:\\Users\\madsc\\AppData\\Local\\Temp\\ipykernel_5848\\4063427621.py:3: SettingWithCopyWarning:\n",
      "\n",
      "\n",
      "A value is trying to be set on a copy of a slice from a DataFrame.\n",
      "Try using .loc[row_indexer,col_indexer] = value instead\n",
      "\n",
      "See the caveats in the documentation: https://pandas.pydata.org/pandas-docs/stable/user_guide/indexing.html#returning-a-view-versus-a-copy\n",
      "\n",
      "C:\\Users\\madsc\\AppData\\Local\\Temp\\ipykernel_5848\\4063427621.py:4: SettingWithCopyWarning:\n",
      "\n",
      "\n",
      "A value is trying to be set on a copy of a slice from a DataFrame.\n",
      "Try using .loc[row_indexer,col_indexer] = value instead\n",
      "\n",
      "See the caveats in the documentation: https://pandas.pydata.org/pandas-docs/stable/user_guide/indexing.html#returning-a-view-versus-a-copy\n",
      "\n",
      "C:\\Users\\madsc\\AppData\\Local\\Temp\\ipykernel_5848\\4063427621.py:5: SettingWithCopyWarning:\n",
      "\n",
      "\n",
      "A value is trying to be set on a copy of a slice from a DataFrame.\n",
      "Try using .loc[row_indexer,col_indexer] = value instead\n",
      "\n",
      "See the caveats in the documentation: https://pandas.pydata.org/pandas-docs/stable/user_guide/indexing.html#returning-a-view-versus-a-copy\n",
      "\n"
     ]
    }
   ],
   "source": [
    "position_data = year_2[positions]\n",
    "position_data.index = position_data.index.floor('min')\n",
    "position_data[\"Date\"] = position_data.index.date\n",
    "position_data[\"Time\"] = position_data.index.time\n",
    "position_data[\"Weekend\"] = position_data.index.weekday > 5"
   ],
   "metadata": {
    "collapsed": false,
    "pycharm": {
     "name": "#%%\n"
    }
   }
  },
  {
   "cell_type": "code",
   "execution_count": 111,
   "outputs": [
    {
     "name": "stderr",
     "output_type": "stream",
     "text": [
      "C:\\Users\\madsc\\AppData\\Local\\Temp\\ipykernel_5848\\304349452.py:1: SettingWithCopyWarning:\n",
      "\n",
      "\n",
      "A value is trying to be set on a copy of a slice from a DataFrame\n",
      "\n",
      "See the caveats in the documentation: https://pandas.pydata.org/pandas-docs/stable/user_guide/indexing.html#returning-a-view-versus-a-copy\n",
      "\n"
     ]
    }
   ],
   "source": [
    "position_data.rename(columns={'Load_StatusSensHeatPrntAUP': 'ParentAUp',\n",
    "                              'Load_StatusSensHeatPrntADOWN': 'ParentADown',\n",
    "                              'Load_StatusSensHeatPrntBUP': 'ParentBUp',\n",
    "                              'Load_StatusSensHeatPrntBDOWN': 'ParentBDown',\n",
    "                              'Load_StatusSensHeatChildAUP': 'ChildAUp',\n",
    "                              'Load_StatusSensHeatChildADOWN': 'ChildADown',\n",
    "                              'Load_StatusSensHeatChildBUP': 'ChildBUp',\n",
    "                              'Load_StatusSensHeatChildBDOWN': 'ChildBDown'}, inplace=True)"
   ],
   "metadata": {
    "collapsed": false,
    "pycharm": {
     "name": "#%%\n"
    }
   }
  },
  {
   "cell_type": "code",
   "execution_count": 112,
   "outputs": [
    {
     "name": "stderr",
     "output_type": "stream",
     "text": [
      "C:\\Users\\madsc\\AppData\\Local\\Temp\\ipykernel_5848\\879900943.py:1: SettingWithCopyWarning:\n",
      "\n",
      "\n",
      "A value is trying to be set on a copy of a slice from a DataFrame\n",
      "\n",
      "See the caveats in the documentation: https://pandas.pydata.org/pandas-docs/stable/user_guide/indexing.html#returning-a-view-versus-a-copy\n",
      "\n",
      "C:\\Users\\madsc\\AppData\\Local\\Temp\\ipykernel_5848\\879900943.py:2: SettingWithCopyWarning:\n",
      "\n",
      "\n",
      "A value is trying to be set on a copy of a slice from a DataFrame\n",
      "\n",
      "See the caveats in the documentation: https://pandas.pydata.org/pandas-docs/stable/user_guide/indexing.html#returning-a-view-versus-a-copy\n",
      "\n",
      "C:\\Users\\madsc\\AppData\\Local\\Temp\\ipykernel_5848\\879900943.py:3: SettingWithCopyWarning:\n",
      "\n",
      "\n",
      "A value is trying to be set on a copy of a slice from a DataFrame\n",
      "\n",
      "See the caveats in the documentation: https://pandas.pydata.org/pandas-docs/stable/user_guide/indexing.html#returning-a-view-versus-a-copy\n",
      "\n",
      "C:\\Users\\madsc\\AppData\\Local\\Temp\\ipykernel_5848\\879900943.py:4: SettingWithCopyWarning:\n",
      "\n",
      "\n",
      "A value is trying to be set on a copy of a slice from a DataFrame\n",
      "\n",
      "See the caveats in the documentation: https://pandas.pydata.org/pandas-docs/stable/user_guide/indexing.html#returning-a-view-versus-a-copy\n",
      "\n",
      "C:\\Users\\madsc\\AppData\\Local\\Temp\\ipykernel_5848\\879900943.py:6: SettingWithCopyWarning:\n",
      "\n",
      "\n",
      "A value is trying to be set on a copy of a slice from a DataFrame.\n",
      "Try using .loc[row_indexer,col_indexer] = value instead\n",
      "\n",
      "See the caveats in the documentation: https://pandas.pydata.org/pandas-docs/stable/user_guide/indexing.html#returning-a-view-versus-a-copy\n",
      "\n",
      "C:\\Users\\madsc\\AppData\\Local\\Temp\\ipykernel_5848\\879900943.py:7: SettingWithCopyWarning:\n",
      "\n",
      "\n",
      "A value is trying to be set on a copy of a slice from a DataFrame.\n",
      "Try using .loc[row_indexer,col_indexer] = value instead\n",
      "\n",
      "See the caveats in the documentation: https://pandas.pydata.org/pandas-docs/stable/user_guide/indexing.html#returning-a-view-versus-a-copy\n",
      "\n",
      "C:\\Users\\madsc\\AppData\\Local\\Temp\\ipykernel_5848\\879900943.py:8: SettingWithCopyWarning:\n",
      "\n",
      "\n",
      "A value is trying to be set on a copy of a slice from a DataFrame.\n",
      "Try using .loc[row_indexer,col_indexer] = value instead\n",
      "\n",
      "See the caveats in the documentation: https://pandas.pydata.org/pandas-docs/stable/user_guide/indexing.html#returning-a-view-versus-a-copy\n",
      "\n",
      "C:\\Users\\madsc\\AppData\\Local\\Temp\\ipykernel_5848\\879900943.py:9: SettingWithCopyWarning:\n",
      "\n",
      "\n",
      "A value is trying to be set on a copy of a slice from a DataFrame.\n",
      "Try using .loc[row_indexer,col_indexer] = value instead\n",
      "\n",
      "See the caveats in the documentation: https://pandas.pydata.org/pandas-docs/stable/user_guide/indexing.html#returning-a-view-versus-a-copy\n",
      "\n"
     ]
    }
   ],
   "source": [
    "position_data[\"ParentAUp\"].replace(to_replace=1.0, value=2.0, inplace=True)\n",
    "position_data[\"ParentBUp\"].replace(to_replace=1.0, value=2.0, inplace=True)\n",
    "position_data[\"ChildAUp\"].replace(to_replace=1.0, value=2.0, inplace=True)\n",
    "position_data[\"ChildBUp\"].replace(to_replace=1.0, value=2.0, inplace=True)\n",
    "\n",
    "position_data[\"ParentAPosition\"] = position_data[\"ParentAUp\"] + position_data[\"ParentADown\"]\n",
    "position_data[\"ParentBPosition\"] = position_data[\"ParentBUp\"] + position_data[\"ParentBDown\"]\n",
    "position_data[\"ChildAPosition\"] = position_data[\"ChildAUp\"] + position_data[\"ChildADown\"]\n",
    "position_data[\"ChildBPosition\"] = position_data[\"ChildBUp\"] + position_data[\"ChildBDown\"]"
   ],
   "metadata": {
    "collapsed": false,
    "pycharm": {
     "name": "#%%\n"
    }
   }
  },
  {
   "cell_type": "code",
   "execution_count": null,
   "outputs": [],
   "source": [
    "fig = px.scatter(data_frame=position_data,\n",
    "                 x='Time',\n",
    "                 y='ParentAPosition',\n",
    "                 color='Weekend',\n",
    "                 opacity=0.025)\n",
    "fig.show()"
   ],
   "metadata": {
    "collapsed": false,
    "pycharm": {
     "name": "#%%\n",
     "is_executing": true
    }
   }
  }
 ],
 "metadata": {
  "kernelspec": {
   "display_name": "Python 3",
   "language": "python",
   "name": "python3"
  },
  "language_info": {
   "codemirror_mode": {
    "name": "ipython",
    "version": 2
   },
   "file_extension": ".py",
   "mimetype": "text/x-python",
   "name": "python",
   "nbconvert_exporter": "python",
   "pygments_lexer": "ipython2",
   "version": "2.7.6"
  }
 },
 "nbformat": 4,
 "nbformat_minor": 0
}