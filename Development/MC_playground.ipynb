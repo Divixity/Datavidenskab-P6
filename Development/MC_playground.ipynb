{
 "cells": [
  {
   "cell_type": "markdown",
   "source": [
    "# Missing Values"
   ],
   "metadata": {
    "collapsed": false
   }
  },
  {
   "cell_type": "code",
   "execution_count": 3,
   "outputs": [
    {
     "data": {
      "text/plain": "                        Timestamp  TimeStamp_Count  \\\n28      2015-02-01 00:29:50-05:00               29   \n29      2015-02-01 00:30:50-05:00               30   \n30      2015-02-01 00:31:49-05:00               31   \n31      2015-02-01 00:32:49-05:00               32   \n32      2015-02-01 00:33:49-05:00               33   \n...                           ...              ...   \n519599  2016-01-31 23:54:24-05:00           519600   \n519600  2016-01-31 23:55:24-05:00           519601   \n519601  2016-01-31 23:56:24-05:00           519602   \n519602  2016-01-31 23:57:24-05:00           519603   \n519603  2016-01-31 23:58:24-05:00           519604   \n\n        Load_LatentHeatWaterVolume  Load_RefrigeratorTemp  \\\n28                        0.027080               4.523562   \n29                        0.027080               4.523432   \n30                        0.029062               4.532420   \n31                        0.029062               4.594796   \n32                        0.029062               4.616840   \n...                            ...                    ...   \n519599                    1.757590               4.512704   \n519600                    1.760893               4.514255   \n519601                    1.763535               4.548853   \n519602                    1.763535               4.557287   \n519603                    1.763535               4.589046   \n\n        Load_StatusBA1Lights  Load_StatusKitchenLightsA  \\\n28                       0.0                        0.0   \n29                       0.0                        0.0   \n30                       0.0                        0.0   \n31                       0.0                        0.0   \n32                       0.0                        0.0   \n...                      ...                        ...   \n519599                   0.0                        0.0   \n519600                   0.0                        0.0   \n519601                   0.0                        0.0   \n519602                   0.0                        0.0   \n519603                   0.0                        0.0   \n\n        Load_StatusKitchenLightsB  Load_StatusKitchenLightsC  \\\n28                            0.0                        0.0   \n29                            0.0                        0.0   \n30                            0.0                        0.0   \n31                            0.0                        0.0   \n32                            0.0                        0.0   \n...                           ...                        ...   \n519599                        0.0                        0.0   \n519600                        0.0                        0.0   \n519601                        0.0                        0.0   \n519602                        0.0                        0.0   \n519603                        0.0                        0.0   \n\n        Load_StatusDRLights  Load_StatusLRLights3  ...  \\\n28                      0.0                   0.0  ...   \n29                      0.0                   0.0  ...   \n30                      0.0                   0.0  ...   \n31                      0.0                   0.0  ...   \n32                      0.0                   0.0  ...   \n...                     ...                   ...  ...   \n519599                  0.0                   0.0  ...   \n519600                  0.0                   0.0  ...   \n519601                  0.0                   0.0  ...   \n519602                  0.0                   0.0  ...   \n519603                  0.0                   0.0  ...   \n\n        SHW_GlycolFlowHXCoriolisSHW  SHW_WaterFlowHXCoriolisSHW  \\\n28                              NaN                         NaN   \n29                              NaN                         NaN   \n30                              NaN                         NaN   \n31                              NaN                         NaN   \n32                              NaN                         NaN   \n...                             ...                         ...   \n519599                   419.930636                  942.630328   \n519600                   419.930636                  942.630328   \n519601                   419.930636                  942.630328   \n519602                   419.930636                  942.630328   \n519603                   419.930636                  942.630328   \n\n        SHW_GlycolFlowRateHXCoriolisSHW  SHW_WaterFlowRateHXCoriolisSHW  \\\n28                                  NaN                             NaN   \n29                                  NaN                             NaN   \n30                                  NaN                             NaN   \n31                                  NaN                             NaN   \n32                                  NaN                             NaN   \n...                                 ...                             ...   \n519599                         0.001164                        0.000296   \n519600                         0.001546                        0.000268   \n519601                         0.000187                       -0.000285   \n519602                         0.001145                       -0.000483   \n519603                         0.002149                        0.001006   \n\n        HVAC_HeatPumpIndoorUnitPower  HVAC_HeatPumpOutdoorUnitPower  \\\n28                           180.308                       1072.810   \n29                           173.167                       1064.024   \n30                           174.193                       1062.895   \n31                           177.682                       1056.079   \n32                           167.750                       1056.290   \n...                              ...                            ...   \n519599                        11.725                         22.563   \n519600                        11.178                         22.475   \n519601                        10.767                         22.388   \n519602                        10.903                         22.169   \n519603                        11.315                         22.957   \n\n        HVAC_DehumidifierPower  HVAC_DehumidifierInletAirTemp  \\\n28                       4.488                         72.270   \n29                       4.524                         72.268   \n30                       4.533                         72.267   \n31                       4.592                         72.283   \n32                       4.563                         72.301   \n...                        ...                            ...   \n519599                   4.265                         67.645   \n519600                   4.286                         67.655   \n519601                   4.293                         67.644   \n519602                   4.306                         67.651   \n519603                   4.327                         67.652   \n\n        HVAC_DehumidifierExitAirTemp  HVAC_DehumidifierAirflow  \n28                            75.444                       0.0  \n29                            75.435                       0.0  \n30                            75.369                       0.0  \n31                            75.308                       0.0  \n32                            75.268                       0.0  \n...                              ...                       ...  \n519599                        68.550                       0.0  \n519600                        68.551                       0.0  \n519601                        68.549                       0.0  \n519602                        68.552                       0.0  \n519603                        68.560                       0.0  \n\n[519576 rows x 382 columns]",
      "text/html": "<div>\n<style scoped>\n    .dataframe tbody tr th:only-of-type {\n        vertical-align: middle;\n    }\n\n    .dataframe tbody tr th {\n        vertical-align: top;\n    }\n\n    .dataframe thead th {\n        text-align: right;\n    }\n</style>\n<table border=\"1\" class=\"dataframe\">\n  <thead>\n    <tr style=\"text-align: right;\">\n      <th></th>\n      <th>Timestamp</th>\n      <th>TimeStamp_Count</th>\n      <th>Load_LatentHeatWaterVolume</th>\n      <th>Load_RefrigeratorTemp</th>\n      <th>Load_StatusBA1Lights</th>\n      <th>Load_StatusKitchenLightsA</th>\n      <th>Load_StatusKitchenLightsB</th>\n      <th>Load_StatusKitchenLightsC</th>\n      <th>Load_StatusDRLights</th>\n      <th>Load_StatusLRLights3</th>\n      <th>...</th>\n      <th>SHW_GlycolFlowHXCoriolisSHW</th>\n      <th>SHW_WaterFlowHXCoriolisSHW</th>\n      <th>SHW_GlycolFlowRateHXCoriolisSHW</th>\n      <th>SHW_WaterFlowRateHXCoriolisSHW</th>\n      <th>HVAC_HeatPumpIndoorUnitPower</th>\n      <th>HVAC_HeatPumpOutdoorUnitPower</th>\n      <th>HVAC_DehumidifierPower</th>\n      <th>HVAC_DehumidifierInletAirTemp</th>\n      <th>HVAC_DehumidifierExitAirTemp</th>\n      <th>HVAC_DehumidifierAirflow</th>\n    </tr>\n  </thead>\n  <tbody>\n    <tr>\n      <th>28</th>\n      <td>2015-02-01 00:29:50-05:00</td>\n      <td>29</td>\n      <td>0.027080</td>\n      <td>4.523562</td>\n      <td>0.0</td>\n      <td>0.0</td>\n      <td>0.0</td>\n      <td>0.0</td>\n      <td>0.0</td>\n      <td>0.0</td>\n      <td>...</td>\n      <td>NaN</td>\n      <td>NaN</td>\n      <td>NaN</td>\n      <td>NaN</td>\n      <td>180.308</td>\n      <td>1072.810</td>\n      <td>4.488</td>\n      <td>72.270</td>\n      <td>75.444</td>\n      <td>0.0</td>\n    </tr>\n    <tr>\n      <th>29</th>\n      <td>2015-02-01 00:30:50-05:00</td>\n      <td>30</td>\n      <td>0.027080</td>\n      <td>4.523432</td>\n      <td>0.0</td>\n      <td>0.0</td>\n      <td>0.0</td>\n      <td>0.0</td>\n      <td>0.0</td>\n      <td>0.0</td>\n      <td>...</td>\n      <td>NaN</td>\n      <td>NaN</td>\n      <td>NaN</td>\n      <td>NaN</td>\n      <td>173.167</td>\n      <td>1064.024</td>\n      <td>4.524</td>\n      <td>72.268</td>\n      <td>75.435</td>\n      <td>0.0</td>\n    </tr>\n    <tr>\n      <th>30</th>\n      <td>2015-02-01 00:31:49-05:00</td>\n      <td>31</td>\n      <td>0.029062</td>\n      <td>4.532420</td>\n      <td>0.0</td>\n      <td>0.0</td>\n      <td>0.0</td>\n      <td>0.0</td>\n      <td>0.0</td>\n      <td>0.0</td>\n      <td>...</td>\n      <td>NaN</td>\n      <td>NaN</td>\n      <td>NaN</td>\n      <td>NaN</td>\n      <td>174.193</td>\n      <td>1062.895</td>\n      <td>4.533</td>\n      <td>72.267</td>\n      <td>75.369</td>\n      <td>0.0</td>\n    </tr>\n    <tr>\n      <th>31</th>\n      <td>2015-02-01 00:32:49-05:00</td>\n      <td>32</td>\n      <td>0.029062</td>\n      <td>4.594796</td>\n      <td>0.0</td>\n      <td>0.0</td>\n      <td>0.0</td>\n      <td>0.0</td>\n      <td>0.0</td>\n      <td>0.0</td>\n      <td>...</td>\n      <td>NaN</td>\n      <td>NaN</td>\n      <td>NaN</td>\n      <td>NaN</td>\n      <td>177.682</td>\n      <td>1056.079</td>\n      <td>4.592</td>\n      <td>72.283</td>\n      <td>75.308</td>\n      <td>0.0</td>\n    </tr>\n    <tr>\n      <th>32</th>\n      <td>2015-02-01 00:33:49-05:00</td>\n      <td>33</td>\n      <td>0.029062</td>\n      <td>4.616840</td>\n      <td>0.0</td>\n      <td>0.0</td>\n      <td>0.0</td>\n      <td>0.0</td>\n      <td>0.0</td>\n      <td>0.0</td>\n      <td>...</td>\n      <td>NaN</td>\n      <td>NaN</td>\n      <td>NaN</td>\n      <td>NaN</td>\n      <td>167.750</td>\n      <td>1056.290</td>\n      <td>4.563</td>\n      <td>72.301</td>\n      <td>75.268</td>\n      <td>0.0</td>\n    </tr>\n    <tr>\n      <th>...</th>\n      <td>...</td>\n      <td>...</td>\n      <td>...</td>\n      <td>...</td>\n      <td>...</td>\n      <td>...</td>\n      <td>...</td>\n      <td>...</td>\n      <td>...</td>\n      <td>...</td>\n      <td>...</td>\n      <td>...</td>\n      <td>...</td>\n      <td>...</td>\n      <td>...</td>\n      <td>...</td>\n      <td>...</td>\n      <td>...</td>\n      <td>...</td>\n      <td>...</td>\n      <td>...</td>\n    </tr>\n    <tr>\n      <th>519599</th>\n      <td>2016-01-31 23:54:24-05:00</td>\n      <td>519600</td>\n      <td>1.757590</td>\n      <td>4.512704</td>\n      <td>0.0</td>\n      <td>0.0</td>\n      <td>0.0</td>\n      <td>0.0</td>\n      <td>0.0</td>\n      <td>0.0</td>\n      <td>...</td>\n      <td>419.930636</td>\n      <td>942.630328</td>\n      <td>0.001164</td>\n      <td>0.000296</td>\n      <td>11.725</td>\n      <td>22.563</td>\n      <td>4.265</td>\n      <td>67.645</td>\n      <td>68.550</td>\n      <td>0.0</td>\n    </tr>\n    <tr>\n      <th>519600</th>\n      <td>2016-01-31 23:55:24-05:00</td>\n      <td>519601</td>\n      <td>1.760893</td>\n      <td>4.514255</td>\n      <td>0.0</td>\n      <td>0.0</td>\n      <td>0.0</td>\n      <td>0.0</td>\n      <td>0.0</td>\n      <td>0.0</td>\n      <td>...</td>\n      <td>419.930636</td>\n      <td>942.630328</td>\n      <td>0.001546</td>\n      <td>0.000268</td>\n      <td>11.178</td>\n      <td>22.475</td>\n      <td>4.286</td>\n      <td>67.655</td>\n      <td>68.551</td>\n      <td>0.0</td>\n    </tr>\n    <tr>\n      <th>519601</th>\n      <td>2016-01-31 23:56:24-05:00</td>\n      <td>519602</td>\n      <td>1.763535</td>\n      <td>4.548853</td>\n      <td>0.0</td>\n      <td>0.0</td>\n      <td>0.0</td>\n      <td>0.0</td>\n      <td>0.0</td>\n      <td>0.0</td>\n      <td>...</td>\n      <td>419.930636</td>\n      <td>942.630328</td>\n      <td>0.000187</td>\n      <td>-0.000285</td>\n      <td>10.767</td>\n      <td>22.388</td>\n      <td>4.293</td>\n      <td>67.644</td>\n      <td>68.549</td>\n      <td>0.0</td>\n    </tr>\n    <tr>\n      <th>519602</th>\n      <td>2016-01-31 23:57:24-05:00</td>\n      <td>519603</td>\n      <td>1.763535</td>\n      <td>4.557287</td>\n      <td>0.0</td>\n      <td>0.0</td>\n      <td>0.0</td>\n      <td>0.0</td>\n      <td>0.0</td>\n      <td>0.0</td>\n      <td>...</td>\n      <td>419.930636</td>\n      <td>942.630328</td>\n      <td>0.001145</td>\n      <td>-0.000483</td>\n      <td>10.903</td>\n      <td>22.169</td>\n      <td>4.306</td>\n      <td>67.651</td>\n      <td>68.552</td>\n      <td>0.0</td>\n    </tr>\n    <tr>\n      <th>519603</th>\n      <td>2016-01-31 23:58:24-05:00</td>\n      <td>519604</td>\n      <td>1.763535</td>\n      <td>4.589046</td>\n      <td>0.0</td>\n      <td>0.0</td>\n      <td>0.0</td>\n      <td>0.0</td>\n      <td>0.0</td>\n      <td>0.0</td>\n      <td>...</td>\n      <td>419.930636</td>\n      <td>942.630328</td>\n      <td>0.002149</td>\n      <td>0.001006</td>\n      <td>11.315</td>\n      <td>22.957</td>\n      <td>4.327</td>\n      <td>67.652</td>\n      <td>68.560</td>\n      <td>0.0</td>\n    </tr>\n  </tbody>\n</table>\n<p>519576 rows × 382 columns</p>\n</div>"
     },
     "execution_count": 3,
     "metadata": {},
     "output_type": "execute_result"
    }
   ],
   "source": [
    "import DataRetriever as dr\n",
    "import pandas as pd\n",
    "\n",
    "retriever = dr.DataRetriever()\n",
    "\n",
    "year_2 = retriever.get_data(\"All-Subsystems-minute-Year2.pkl\")\n",
    "\n",
    "year_2[\"Timestamp UTC\"] = pd.to_datetime(year_2[\"Timestamp\"], utc=True, infer_datetime_format=True)\n",
    "year_2.set_index(\"Timestamp UTC\", inplace=True)"
   ],
   "metadata": {
    "collapsed": false,
    "pycharm": {
     "name": "#%%\n"
    }
   }
  },
  {
   "cell_type": "markdown",
   "source": [
    "### Overall missing values"
   ],
   "metadata": {
    "collapsed": false,
    "pycharm": {
     "name": "#%% md\n"
    }
   }
  },
  {
   "cell_type": "code",
   "execution_count": 79,
   "outputs": [
    {
     "name": "stdout",
     "output_type": "stream",
     "text": [
      "Proportion of missing values in cells: \n",
      "0.0\n",
      "Amount of missing cells per attribute: \n",
      "Series([], dtype: float64)\n"
     ]
    }
   ],
   "source": [
    "count_missing_cells = year_2.isnull().sum().sum()\n",
    "prop_missing_cells = count_missing_cells / year_2.size\n",
    "print(f\"Proportion of missing values in cells: \\n{prop_missing_cells}\")\n",
    "\n",
    "count_missing_attr = year_2.isnull().sum()\n",
    "prop_missing_attr = count_missing_attr[count_missing_attr>0] / year_2.size\n",
    "print(f\"Amount of missing cells per attribute: \\n{prop_missing_attr}\")"
   ],
   "metadata": {
    "collapsed": false,
    "pycharm": {
     "name": "#%%\n"
    }
   }
  },
  {
   "cell_type": "markdown",
   "source": [
    "### Missing values in subsystem"
   ],
   "metadata": {
    "collapsed": false
   }
  },
  {
   "cell_type": "code",
   "execution_count": 31,
   "outputs": [
    {
     "name": "stdout",
     "output_type": "stream",
     "text": [
      "0.23557280434440733 0.0008972217303946852\n",
      "SHW_SHWHX80galWaterFlow            0.000000\n",
      "SHW_GlycolTempSHWPanel80galOut     0.000000\n",
      "SHW_PSPSHW                         0.000000\n",
      "SHW_GlycolFlowHXCoriolisSHW        0.058893\n",
      "SHW_WaterFlowHXCoriolisSHW         0.058893\n",
      "SHW_GlycolFlowRateHXCoriolisSHW    0.058893\n",
      "SHW_WaterFlowRateHXCoriolisSHW     0.058893\n",
      "dtype: float64 HVAC_HVACTempReturnAir           0.00000\n",
      "HVAC_HVACDewpointReturnAir       0.00000\n",
      "HVAC_HVACTempSupplyAir           0.00000\n",
      "HVAC_HVACDewpointSupplyAir       0.00000\n",
      "HVAC_HeatPumpIndoorUnitPower     0.00015\n",
      "HVAC_HeatPumpOutdoorUnitPower    0.00015\n",
      "HVAC_DehumidifierPower           0.00015\n",
      "HVAC_DehumidifierInletAirTemp    0.00015\n",
      "HVAC_DehumidifierExitAirTemp     0.00015\n",
      "HVAC_DehumidifierAirflow         0.00015\n",
      "dtype: float64\n"
     ]
    }
   ],
   "source": [
    "# Get the three unique characters identifying each subsystem and save them in a set\n",
    "subsystems = set()\n",
    "for column in year_2.columns:\n",
    "    subsystem_id = column.split(\"_\")[0]\n",
    "    subsystems.add(subsystem_id)\n",
    "\n",
    "# Get attributes pertaining to each subsystem and save as a dictionary\n",
    "subsystem_attributes = dict()\n",
    "for subsystem in subsystems:\n",
    "    subsystem_columns = [column for column in year_2 if column.startswith(subsystem)]\n",
    "    subsystem_attributes[subsystem] = subsystem_columns\n",
    "\n",
    "# We saw from the overall analysis that only subsystems SHW and HVAC contained missing values. Now, we check these in detail\n",
    "shw_data = year_2[subsystem_attributes[\"SHW\"]]\n",
    "hvac_data = year_2[subsystem_attributes[\"HVAC\"]]\n",
    "\n",
    "prop_missing_shw = shw_data.isnull().sum().sum() / shw_data.size\n",
    "prop_missing_hvac = hvac_data.isnull().sum().sum() / hvac_data.size\n",
    "print(prop_missing_shw, prop_missing_hvac)\n",
    "\n",
    "prop_attr_shw = shw_data.isnull().sum() / shw_data.size\n",
    "prop_attr_hvac = hvac_data.isnull().sum() / hvac_data.size\n",
    "print(prop_attr_shw, prop_attr_hvac)"
   ],
   "metadata": {
    "collapsed": false,
    "pycharm": {
     "name": "#%%\n"
    }
   }
  },
  {
   "cell_type": "markdown",
   "source": [],
   "metadata": {
    "collapsed": false
   }
  },
  {
   "cell_type": "markdown",
   "source": [
    "# Energy Generation and Consumption\n",
    "### Data Wrangling"
   ],
   "metadata": {
    "collapsed": false
   }
  },
  {
   "cell_type": "code",
   "execution_count": 49,
   "outputs": [],
   "source": [
    "# Load the metadata which contains information about the measured unit for each attribute\n",
    "metadata = retriever.get_data(\"metadata-year2.pkl\")\n",
    "metadata.rename(columns={\"Unnamed: 0\": \"Attribute\"}, inplace=True)"
   ],
   "metadata": {
    "collapsed": false,
    "pycharm": {
     "name": "#%%\n"
    }
   }
  },
  {
   "cell_type": "code",
   "execution_count": 50,
   "outputs": [],
   "source": [
    "# Select only rows where the unit is measured in W.\n",
    "meta_data_watts = metadata[metadata[\"Units\"] == \"W\"]\n",
    "\n",
    "# Get generating attributes by selecting only where \"Subsystem\" is \"PV\"\n",
    "generating_columns = [col.startswith('PV_') for col in meta_data_watts[\"Attribute\"]]\n",
    "metadata_generation = meta_data_watts[generating_columns]\n",
    "\n",
    "# Get consumption attributes by selecting only where \"Subsystem\" is not \"PV\"\n",
    "consuming_columns = [not col.startswith('PV_') for col in meta_data_watts[\"Attribute\"]]\n",
    "metadata_consumption = meta_data_watts[consuming_columns]\n",
    "\n",
    "# Generate lists of relevant attributes\n",
    "consumption_attrs = metadata_consumption[\"Attribute\"].tolist()\n",
    "consumption_attrs.append(\"Timestamp\")\n",
    "\n",
    "generating_attrs = metadata_generation[\"Attribute\"].tolist()"
   ],
   "metadata": {
    "collapsed": false,
    "pycharm": {
     "name": "#%%\n"
    }
   }
  },
  {
   "cell_type": "code",
   "execution_count": 51,
   "outputs": [
    {
     "data": {
      "text/plain": "                           DHW_HeatPumpWaterHeaterPowerTotal  \\\nTimestamp UTC                                                  \n2015-02-01 05:00:00+00:00                         408.280000   \n2015-02-01 06:00:00+00:00                       16824.226293   \n2015-02-01 07:00:00+00:00                         415.200000   \n2015-02-01 08:00:00+00:00                         415.200000   \n2015-02-01 09:00:00+00:00                         415.200000   \n...                                                      ...   \n2016-02-01 00:00:00+00:00                       20951.781736   \n2016-02-01 01:00:00+00:00                         415.200000   \n2016-02-01 02:00:00+00:00                       19173.517928   \n2016-02-01 03:00:00+00:00                        3201.912363   \n2016-02-01 04:00:00+00:00                       14868.564296   \n\n                           DHW_SHWPumpsPowerWithStandby  \\\nTimestamp UTC                                             \n2015-02-01 05:00:00+00:00                        198.24   \n2015-02-01 06:00:00+00:00                        201.60   \n2015-02-01 07:00:00+00:00                        201.60   \n2015-02-01 08:00:00+00:00                        201.60   \n2015-02-01 09:00:00+00:00                        201.60   \n...                                                 ...   \n2016-02-01 00:00:00+00:00                        201.60   \n2016-02-01 01:00:00+00:00                        201.60   \n2016-02-01 02:00:00+00:00                        201.60   \n2016-02-01 03:00:00+00:00                        201.60   \n2016-02-01 04:00:00+00:00                        198.24   \n\n                           Elec_PowerChildADownstairs  \\\nTimestamp UTC                                           \n2015-02-01 05:00:00+00:00                    0.000000   \n2015-02-01 06:00:00+00:00                    0.000000   \n2015-02-01 07:00:00+00:00                    0.000000   \n2015-02-01 08:00:00+00:00                    0.000000   \n2015-02-01 09:00:00+00:00                    0.000000   \n...                                               ...   \n2016-02-01 00:00:00+00:00                 2176.045761   \n2016-02-01 01:00:00+00:00                 1081.894432   \n2016-02-01 02:00:00+00:00                    0.000000   \n2016-02-01 03:00:00+00:00                    0.000000   \n2016-02-01 04:00:00+00:00                    0.000000   \n\n                           Elec_PowerChildAUpstairs  \\\nTimestamp UTC                                         \n2015-02-01 05:00:00+00:00               4095.213455   \n2015-02-01 06:00:00+00:00               4448.513996   \n2015-02-01 07:00:00+00:00               4452.666809   \n2015-02-01 08:00:00+00:00               4461.601170   \n2015-02-01 09:00:00+00:00               4464.837032   \n...                                             ...   \n2016-02-01 00:00:00+00:00               2171.389690   \n2016-02-01 01:00:00+00:00               3286.819729   \n2016-02-01 02:00:00+00:00               4365.340988   \n2016-02-01 03:00:00+00:00               4366.814137   \n2016-02-01 04:00:00+00:00               4291.914295   \n\n                           Elec_PowerChildBDownstairs  \\\nTimestamp UTC                                           \n2015-02-01 05:00:00+00:00                    0.000000   \n2015-02-01 06:00:00+00:00                    0.000000   \n2015-02-01 07:00:00+00:00                    0.000000   \n2015-02-01 08:00:00+00:00                    0.000000   \n2015-02-01 09:00:00+00:00                    0.000000   \n...                                               ...   \n2016-02-01 00:00:00+00:00                 2166.860214   \n2016-02-01 01:00:00+00:00                 1073.426617   \n2016-02-01 02:00:00+00:00                    0.000000   \n2016-02-01 03:00:00+00:00                    0.000000   \n2016-02-01 04:00:00+00:00                    0.000000   \n\n                           Elec_PowerChildBUpstairs  Elec_PowerClothesWasher  \\\nTimestamp UTC                                                                  \n2015-02-01 05:00:00+00:00               4126.890965                      0.0   \n2015-02-01 06:00:00+00:00               4437.075558                      0.0   \n2015-02-01 07:00:00+00:00               4442.804527                      0.0   \n2015-02-01 08:00:00+00:00               4474.057831                      0.0   \n2015-02-01 09:00:00+00:00               4481.846851                      0.0   \n...                                             ...                      ...   \n2016-02-01 00:00:00+00:00               2066.257385                      0.0   \n2016-02-01 01:00:00+00:00               3135.339382                      0.0   \n2016-02-01 02:00:00+00:00               4221.845081                      0.0   \n2016-02-01 03:00:00+00:00               4232.719616                      0.0   \n2016-02-01 04:00:00+00:00               4162.907303                      0.0   \n\n                           Elec_PowerDishwasher  Elec_PowerDryer1of2  \\\nTimestamp UTC                                                          \n2015-02-01 05:00:00+00:00              0.000000                  0.0   \n2015-02-01 06:00:00+00:00              0.000000                  0.0   \n2015-02-01 07:00:00+00:00              0.000000                  0.0   \n2015-02-01 08:00:00+00:00              0.000000                  0.0   \n2015-02-01 09:00:00+00:00              0.000000                  0.0   \n...                                         ...                  ...   \n2016-02-01 00:00:00+00:00              0.000000                  0.0   \n2016-02-01 01:00:00+00:00            428.094356                  0.0   \n2016-02-01 02:00:00+00:00          22441.945660                  0.0   \n2016-02-01 03:00:00+00:00            208.893937                  0.0   \n2016-02-01 04:00:00+00:00              0.000000                  0.0   \n\n                           Elec_PowerDryer2of2  ...  \\\nTimestamp UTC                                   ...   \n2015-02-01 05:00:00+00:00                  0.0  ...   \n2015-02-01 06:00:00+00:00                  0.0  ...   \n2015-02-01 07:00:00+00:00                  0.0  ...   \n2015-02-01 08:00:00+00:00                  0.0  ...   \n2015-02-01 09:00:00+00:00                  0.0  ...   \n...                                        ...  ...   \n2016-02-01 00:00:00+00:00                  0.0  ...   \n2016-02-01 01:00:00+00:00                  0.0  ...   \n2016-02-01 02:00:00+00:00                  0.0  ...   \n2016-02-01 03:00:00+00:00                  0.0  ...   \n2016-02-01 04:00:00+00:00                  0.0  ...   \n\n                           Load_LatentHeatPowerUsage  \\\nTimestamp UTC                                          \n2015-02-01 05:00:00+00:00                2539.867359   \n2015-02-01 06:00:00+00:00                2760.627384   \n2015-02-01 07:00:00+00:00                2756.304934   \n2015-02-01 08:00:00+00:00                2740.370581   \n2015-02-01 09:00:00+00:00                2750.748993   \n...                                              ...   \n2016-02-01 00:00:00+00:00                2875.335663   \n2016-02-01 01:00:00+00:00                2875.542925   \n2016-02-01 02:00:00+00:00                2880.542122   \n2016-02-01 03:00:00+00:00                2884.605364   \n2016-02-01 04:00:00+00:00                2847.272972   \n\n                           Load_MBRPlugLoadsPowerUsage  \\\nTimestamp UTC                                            \n2015-02-01 05:00:00+00:00                  3292.302440   \n2015-02-01 06:00:00+00:00                  3388.287482   \n2015-02-01 07:00:00+00:00                  3386.276881   \n2015-02-01 08:00:00+00:00                  3395.977781   \n2015-02-01 09:00:00+00:00                  3395.581958   \n...                                                ...   \n2016-02-01 00:00:00+00:00                  3360.055382   \n2016-02-01 01:00:00+00:00                  3366.821213   \n2016-02-01 02:00:00+00:00                  3374.048398   \n2016-02-01 03:00:00+00:00                  8492.901896   \n2016-02-01 04:00:00+00:00                  6236.689489   \n\n                           Load_MicrowavePowerWithStandby  \\\nTimestamp UTC                                               \n2015-02-01 05:00:00+00:00                           77.88   \n2015-02-01 06:00:00+00:00                           79.20   \n2015-02-01 07:00:00+00:00                           79.20   \n2015-02-01 08:00:00+00:00                           79.20   \n2015-02-01 09:00:00+00:00                           79.20   \n...                                                   ...   \n2016-02-01 00:00:00+00:00                           79.20   \n2016-02-01 01:00:00+00:00                           79.20   \n2016-02-01 02:00:00+00:00                           79.20   \n2016-02-01 03:00:00+00:00                           79.20   \n2016-02-01 04:00:00+00:00                           77.88   \n\n                           Load_OvenPowerTotal  \\\nTimestamp UTC                                    \n2015-02-01 05:00:00+00:00                531.0   \n2015-02-01 06:00:00+00:00                540.0   \n2015-02-01 07:00:00+00:00                540.0   \n2015-02-01 08:00:00+00:00                540.0   \n2015-02-01 09:00:00+00:00                540.0   \n...                                        ...   \n2016-02-01 00:00:00+00:00                540.0   \n2016-02-01 01:00:00+00:00                540.0   \n2016-02-01 02:00:00+00:00                540.0   \n2016-02-01 03:00:00+00:00                540.0   \n2016-02-01 04:00:00+00:00                531.0   \n\n                           Load_RefrigeratorPowerWithStandby  \\\nTimestamp UTC                                                  \n2015-02-01 05:00:00+00:00                        3322.520074   \n2015-02-01 06:00:00+00:00                        1966.851941   \n2015-02-01 07:00:00+00:00                        3182.406395   \n2015-02-01 08:00:00+00:00                        1876.883227   \n2015-02-01 09:00:00+00:00                        2978.003215   \n...                                                      ...   \n2016-02-01 00:00:00+00:00                        2847.845654   \n2016-02-01 01:00:00+00:00                        2432.149567   \n2016-02-01 02:00:00+00:00                        2766.748404   \n2016-02-01 03:00:00+00:00                        2385.388020   \n2016-02-01 04:00:00+00:00                        2666.173193   \n\n                           HVAC_HeatPumpIndoorUnitPower  \\\nTimestamp UTC                                             \n2015-02-01 05:00:00+00:00                     10351.501   \n2015-02-01 06:00:00+00:00                     23496.376   \n2015-02-01 07:00:00+00:00                     23309.081   \n2015-02-01 08:00:00+00:00                     10547.570   \n2015-02-01 09:00:00+00:00                     22267.259   \n...                                                 ...   \n2016-02-01 00:00:00+00:00                       673.784   \n2016-02-01 01:00:00+00:00                       681.994   \n2016-02-01 02:00:00+00:00                       686.917   \n2016-02-01 03:00:00+00:00                       692.120   \n2016-02-01 04:00:00+00:00                       669.859   \n\n                           HVAC_HeatPumpOutdoorUnitPower  \\\nTimestamp UTC                                              \n2015-02-01 05:00:00+00:00                      61703.247   \n2015-02-01 06:00:00+00:00                      62521.615   \n2015-02-01 07:00:00+00:00                      61388.713   \n2015-02-01 08:00:00+00:00                      63970.641   \n2015-02-01 09:00:00+00:00                      64866.767   \n...                                                  ...   \n2016-02-01 00:00:00+00:00                       1349.349   \n2016-02-01 01:00:00+00:00                       1348.998   \n2016-02-01 02:00:00+00:00                       1350.577   \n2016-02-01 03:00:00+00:00                       1348.911   \n2016-02-01 04:00:00+00:00                       1327.794   \n\n                           HVAC_DehumidifierPower  PV_Watts3PhTotalW3PhT1  \\\nTimestamp UTC                                                               \n2015-02-01 05:00:00+00:00                 265.417              563.081408   \n2015-02-01 06:00:00+00:00                 266.567              568.189012   \n2015-02-01 07:00:00+00:00                 266.645              569.865038   \n2015-02-01 08:00:00+00:00                 268.079              573.127213   \n2015-02-01 09:00:00+00:00                 267.993              573.534972   \n...                                           ...                     ...   \n2016-02-01 00:00:00+00:00                 254.610              549.502412   \n2016-02-01 01:00:00+00:00                 256.540              556.913522   \n2016-02-01 02:00:00+00:00                 257.850              562.946837   \n2016-02-01 03:00:00+00:00                 259.668              564.806377   \n2016-02-01 04:00:00+00:00                 255.290              557.403979   \n\n                           PV_Watts3PhTotalW3PhT2  \nTimestamp UTC                                      \n2015-02-01 05:00:00+00:00              528.201941  \n2015-02-01 06:00:00+00:00              531.704958  \n2015-02-01 07:00:00+00:00              533.213739  \n2015-02-01 08:00:00+00:00              536.965323  \n2015-02-01 09:00:00+00:00              537.902084  \n...                                           ...  \n2016-02-01 00:00:00+00:00              513.086828  \n2016-02-01 01:00:00+00:00              519.503294  \n2016-02-01 02:00:00+00:00              525.972707  \n2016-02-01 03:00:00+00:00              527.742728  \n2016-02-01 04:00:00+00:00              521.285484  \n\n[8760 rows x 96 columns]",
      "text/html": "<div>\n<style scoped>\n    .dataframe tbody tr th:only-of-type {\n        vertical-align: middle;\n    }\n\n    .dataframe tbody tr th {\n        vertical-align: top;\n    }\n\n    .dataframe thead th {\n        text-align: right;\n    }\n</style>\n<table border=\"1\" class=\"dataframe\">\n  <thead>\n    <tr style=\"text-align: right;\">\n      <th></th>\n      <th>DHW_HeatPumpWaterHeaterPowerTotal</th>\n      <th>DHW_SHWPumpsPowerWithStandby</th>\n      <th>Elec_PowerChildADownstairs</th>\n      <th>Elec_PowerChildAUpstairs</th>\n      <th>Elec_PowerChildBDownstairs</th>\n      <th>Elec_PowerChildBUpstairs</th>\n      <th>Elec_PowerClothesWasher</th>\n      <th>Elec_PowerDishwasher</th>\n      <th>Elec_PowerDryer1of2</th>\n      <th>Elec_PowerDryer2of2</th>\n      <th>...</th>\n      <th>Load_LatentHeatPowerUsage</th>\n      <th>Load_MBRPlugLoadsPowerUsage</th>\n      <th>Load_MicrowavePowerWithStandby</th>\n      <th>Load_OvenPowerTotal</th>\n      <th>Load_RefrigeratorPowerWithStandby</th>\n      <th>HVAC_HeatPumpIndoorUnitPower</th>\n      <th>HVAC_HeatPumpOutdoorUnitPower</th>\n      <th>HVAC_DehumidifierPower</th>\n      <th>PV_Watts3PhTotalW3PhT1</th>\n      <th>PV_Watts3PhTotalW3PhT2</th>\n    </tr>\n    <tr>\n      <th>Timestamp UTC</th>\n      <th></th>\n      <th></th>\n      <th></th>\n      <th></th>\n      <th></th>\n      <th></th>\n      <th></th>\n      <th></th>\n      <th></th>\n      <th></th>\n      <th></th>\n      <th></th>\n      <th></th>\n      <th></th>\n      <th></th>\n      <th></th>\n      <th></th>\n      <th></th>\n      <th></th>\n      <th></th>\n      <th></th>\n    </tr>\n  </thead>\n  <tbody>\n    <tr>\n      <th>2015-02-01 05:00:00+00:00</th>\n      <td>408.280000</td>\n      <td>198.24</td>\n      <td>0.000000</td>\n      <td>4095.213455</td>\n      <td>0.000000</td>\n      <td>4126.890965</td>\n      <td>0.0</td>\n      <td>0.000000</td>\n      <td>0.0</td>\n      <td>0.0</td>\n      <td>...</td>\n      <td>2539.867359</td>\n      <td>3292.302440</td>\n      <td>77.88</td>\n      <td>531.0</td>\n      <td>3322.520074</td>\n      <td>10351.501</td>\n      <td>61703.247</td>\n      <td>265.417</td>\n      <td>563.081408</td>\n      <td>528.201941</td>\n    </tr>\n    <tr>\n      <th>2015-02-01 06:00:00+00:00</th>\n      <td>16824.226293</td>\n      <td>201.60</td>\n      <td>0.000000</td>\n      <td>4448.513996</td>\n      <td>0.000000</td>\n      <td>4437.075558</td>\n      <td>0.0</td>\n      <td>0.000000</td>\n      <td>0.0</td>\n      <td>0.0</td>\n      <td>...</td>\n      <td>2760.627384</td>\n      <td>3388.287482</td>\n      <td>79.20</td>\n      <td>540.0</td>\n      <td>1966.851941</td>\n      <td>23496.376</td>\n      <td>62521.615</td>\n      <td>266.567</td>\n      <td>568.189012</td>\n      <td>531.704958</td>\n    </tr>\n    <tr>\n      <th>2015-02-01 07:00:00+00:00</th>\n      <td>415.200000</td>\n      <td>201.60</td>\n      <td>0.000000</td>\n      <td>4452.666809</td>\n      <td>0.000000</td>\n      <td>4442.804527</td>\n      <td>0.0</td>\n      <td>0.000000</td>\n      <td>0.0</td>\n      <td>0.0</td>\n      <td>...</td>\n      <td>2756.304934</td>\n      <td>3386.276881</td>\n      <td>79.20</td>\n      <td>540.0</td>\n      <td>3182.406395</td>\n      <td>23309.081</td>\n      <td>61388.713</td>\n      <td>266.645</td>\n      <td>569.865038</td>\n      <td>533.213739</td>\n    </tr>\n    <tr>\n      <th>2015-02-01 08:00:00+00:00</th>\n      <td>415.200000</td>\n      <td>201.60</td>\n      <td>0.000000</td>\n      <td>4461.601170</td>\n      <td>0.000000</td>\n      <td>4474.057831</td>\n      <td>0.0</td>\n      <td>0.000000</td>\n      <td>0.0</td>\n      <td>0.0</td>\n      <td>...</td>\n      <td>2740.370581</td>\n      <td>3395.977781</td>\n      <td>79.20</td>\n      <td>540.0</td>\n      <td>1876.883227</td>\n      <td>10547.570</td>\n      <td>63970.641</td>\n      <td>268.079</td>\n      <td>573.127213</td>\n      <td>536.965323</td>\n    </tr>\n    <tr>\n      <th>2015-02-01 09:00:00+00:00</th>\n      <td>415.200000</td>\n      <td>201.60</td>\n      <td>0.000000</td>\n      <td>4464.837032</td>\n      <td>0.000000</td>\n      <td>4481.846851</td>\n      <td>0.0</td>\n      <td>0.000000</td>\n      <td>0.0</td>\n      <td>0.0</td>\n      <td>...</td>\n      <td>2750.748993</td>\n      <td>3395.581958</td>\n      <td>79.20</td>\n      <td>540.0</td>\n      <td>2978.003215</td>\n      <td>22267.259</td>\n      <td>64866.767</td>\n      <td>267.993</td>\n      <td>573.534972</td>\n      <td>537.902084</td>\n    </tr>\n    <tr>\n      <th>...</th>\n      <td>...</td>\n      <td>...</td>\n      <td>...</td>\n      <td>...</td>\n      <td>...</td>\n      <td>...</td>\n      <td>...</td>\n      <td>...</td>\n      <td>...</td>\n      <td>...</td>\n      <td>...</td>\n      <td>...</td>\n      <td>...</td>\n      <td>...</td>\n      <td>...</td>\n      <td>...</td>\n      <td>...</td>\n      <td>...</td>\n      <td>...</td>\n      <td>...</td>\n      <td>...</td>\n    </tr>\n    <tr>\n      <th>2016-02-01 00:00:00+00:00</th>\n      <td>20951.781736</td>\n      <td>201.60</td>\n      <td>2176.045761</td>\n      <td>2171.389690</td>\n      <td>2166.860214</td>\n      <td>2066.257385</td>\n      <td>0.0</td>\n      <td>0.000000</td>\n      <td>0.0</td>\n      <td>0.0</td>\n      <td>...</td>\n      <td>2875.335663</td>\n      <td>3360.055382</td>\n      <td>79.20</td>\n      <td>540.0</td>\n      <td>2847.845654</td>\n      <td>673.784</td>\n      <td>1349.349</td>\n      <td>254.610</td>\n      <td>549.502412</td>\n      <td>513.086828</td>\n    </tr>\n    <tr>\n      <th>2016-02-01 01:00:00+00:00</th>\n      <td>415.200000</td>\n      <td>201.60</td>\n      <td>1081.894432</td>\n      <td>3286.819729</td>\n      <td>1073.426617</td>\n      <td>3135.339382</td>\n      <td>0.0</td>\n      <td>428.094356</td>\n      <td>0.0</td>\n      <td>0.0</td>\n      <td>...</td>\n      <td>2875.542925</td>\n      <td>3366.821213</td>\n      <td>79.20</td>\n      <td>540.0</td>\n      <td>2432.149567</td>\n      <td>681.994</td>\n      <td>1348.998</td>\n      <td>256.540</td>\n      <td>556.913522</td>\n      <td>519.503294</td>\n    </tr>\n    <tr>\n      <th>2016-02-01 02:00:00+00:00</th>\n      <td>19173.517928</td>\n      <td>201.60</td>\n      <td>0.000000</td>\n      <td>4365.340988</td>\n      <td>0.000000</td>\n      <td>4221.845081</td>\n      <td>0.0</td>\n      <td>22441.945660</td>\n      <td>0.0</td>\n      <td>0.0</td>\n      <td>...</td>\n      <td>2880.542122</td>\n      <td>3374.048398</td>\n      <td>79.20</td>\n      <td>540.0</td>\n      <td>2766.748404</td>\n      <td>686.917</td>\n      <td>1350.577</td>\n      <td>257.850</td>\n      <td>562.946837</td>\n      <td>525.972707</td>\n    </tr>\n    <tr>\n      <th>2016-02-01 03:00:00+00:00</th>\n      <td>3201.912363</td>\n      <td>201.60</td>\n      <td>0.000000</td>\n      <td>4366.814137</td>\n      <td>0.000000</td>\n      <td>4232.719616</td>\n      <td>0.0</td>\n      <td>208.893937</td>\n      <td>0.0</td>\n      <td>0.0</td>\n      <td>...</td>\n      <td>2884.605364</td>\n      <td>8492.901896</td>\n      <td>79.20</td>\n      <td>540.0</td>\n      <td>2385.388020</td>\n      <td>692.120</td>\n      <td>1348.911</td>\n      <td>259.668</td>\n      <td>564.806377</td>\n      <td>527.742728</td>\n    </tr>\n    <tr>\n      <th>2016-02-01 04:00:00+00:00</th>\n      <td>14868.564296</td>\n      <td>198.24</td>\n      <td>0.000000</td>\n      <td>4291.914295</td>\n      <td>0.000000</td>\n      <td>4162.907303</td>\n      <td>0.0</td>\n      <td>0.000000</td>\n      <td>0.0</td>\n      <td>0.0</td>\n      <td>...</td>\n      <td>2847.272972</td>\n      <td>6236.689489</td>\n      <td>77.88</td>\n      <td>531.0</td>\n      <td>2666.173193</td>\n      <td>669.859</td>\n      <td>1327.794</td>\n      <td>255.290</td>\n      <td>557.403979</td>\n      <td>521.285484</td>\n    </tr>\n  </tbody>\n</table>\n<p>8760 rows × 96 columns</p>\n</div>"
     },
     "execution_count": 51,
     "metadata": {},
     "output_type": "execute_result"
    }
   ],
   "source": [
    "# Aggregate to hourly data\n",
    "year_2 = year_2[consumption_attrs + generating_attrs]\n",
    "\n",
    "year_2 = year_2.resample(rule=\"H\").sum()\n",
    "# year_2[\"Timestamp\"] = year_2.index + pd.Timedelta(hours=-5)\n",
    "#\n",
    "# for column in year_2.columns:\n",
    "#     if \"hvac\" in column.lower():\n",
    "#         print(column)\n",
    "\n",
    "# data.groupby(data.index.floor('H')).sum()\n",
    "year_2"
   ],
   "metadata": {
    "collapsed": false,
    "pycharm": {
     "name": "#%%\n"
    }
   }
  },
  {
   "cell_type": "code",
   "execution_count": 52,
   "outputs": [
    {
     "name": "stderr",
     "output_type": "stream",
     "text": [
      "C:\\Users\\madsc\\AppData\\Local\\Temp\\ipykernel_20836\\111915456.py:4: SettingWithCopyWarning:\n",
      "\n",
      "\n",
      "A value is trying to be set on a copy of a slice from a DataFrame.\n",
      "Try using .loc[row_indexer,col_indexer] = value instead\n",
      "\n",
      "See the caveats in the documentation: https://pandas.pydata.org/pandas-docs/stable/user_guide/indexing.html#returning-a-view-versus-a-copy\n",
      "\n",
      "C:\\Users\\madsc\\AppData\\Local\\Temp\\ipykernel_20836\\111915456.py:8: SettingWithCopyWarning:\n",
      "\n",
      "\n",
      "A value is trying to be set on a copy of a slice from a DataFrame.\n",
      "Try using .loc[row_indexer,col_indexer] = value instead\n",
      "\n",
      "See the caveats in the documentation: https://pandas.pydata.org/pandas-docs/stable/user_guide/indexing.html#returning-a-view-versus-a-copy\n",
      "\n"
     ]
    },
    {
     "data": {
      "text/plain": "Timestamp UTC\n2015-12-10 16:00:00+00:00    205344.717162\n2015-12-10 14:00:00+00:00    205151.182185\n2015-12-10 17:00:00+00:00    204177.136851\n2015-12-10 18:00:00+00:00    202004.333246\n2015-12-10 15:00:00+00:00    200950.822281\n                                 ...      \n2015-05-12 18:00:00+00:00   -544646.355590\n2015-09-16 18:00:00+00:00   -552827.228485\n2015-05-12 16:00:00+00:00   -573082.664226\n2015-09-16 16:00:00+00:00   -583600.365402\n2015-09-16 17:00:00+00:00   -601428.112703\nName: Energy Produced, Length: 8760, dtype: float64"
     },
     "execution_count": 52,
     "metadata": {},
     "output_type": "execute_result"
    }
   ],
   "source": [
    "# Get columns from Year2 Data if those columns are part of either consumption_attrs or generating_attrs lists\n",
    "energy_consumption = year_2[year_2.columns[year_2.columns.isin(consumption_attrs)]]\n",
    "sum_list_consumption = list(energy_consumption)\n",
    "energy_consumption[\"Sum\"] = energy_consumption[sum_list_consumption].sum(axis=1)\n",
    "\n",
    "energy_generation = year_2[year_2.columns[year_2.columns.isin(generating_attrs)]]\n",
    "sum_list_generation = list(energy_generation)\n",
    "energy_generation[\"Sum\"] = energy_generation[sum_list_generation].sum(axis=1)\n",
    "\n",
    "year_2[\"Energy Produced\"] = energy_generation[\"Sum\"] - energy_consumption[\"Sum\"]\n",
    "year_2.sort_values(by=\"Energy Produced\", ascending=False, inplace=True)\n",
    "year_2[\"Positive\"] = year_2[\"Energy Produced\"] >= 0\n",
    "\n",
    "year_2[\"Energy Produced\"]"
   ],
   "metadata": {
    "collapsed": false,
    "pycharm": {
     "name": "#%%\n"
    }
   }
  },
  {
   "cell_type": "markdown",
   "source": [
    "### Net Energy Production"
   ],
   "metadata": {
    "collapsed": false
   }
  },
  {
   "cell_type": "markdown",
   "source": [],
   "metadata": {
    "collapsed": false
   }
  },
  {
   "cell_type": "code",
   "execution_count": 53,
   "outputs": [
    {
     "data": {
      "text/plain": "-1275925307.4932096"
     },
     "execution_count": 53,
     "metadata": {},
     "output_type": "execute_result"
    }
   ],
   "source": [
    "year_2[\"Energy Produced\"].sum()"
   ],
   "metadata": {
    "collapsed": false,
    "pycharm": {
     "name": "#%%\n"
    }
   }
  },
  {
   "cell_type": "code",
   "execution_count": null,
   "outputs": [],
   "source": [
    "import plotly.express as px\n",
    "\n",
    "fig = px.bar(data_frame=year_2, x=\"Timestamp\", y=\"Energy Produced\",\n",
    "             color=\"Positive\", title=\"Net Energy Produced by Minute\",\n",
    "             labels={\"Energy Produced\": \"Energy Produced [W]\", \"Timestamp\": \"\"},\n",
    "             color_discrete_sequence=[\"blue\", \"red\"])#, height=750, width=1250)\n",
    "fig.update_xaxes(range=[\"2015-03-01\", \"2015-03-31\"])\n",
    "fig.show()"
   ],
   "metadata": {
    "collapsed": false,
    "pycharm": {
     "name": "#%%\n",
     "is_executing": true
    }
   }
  },
  {
   "cell_type": "markdown",
   "source": [
    "### Energy Production"
   ],
   "metadata": {
    "collapsed": false
   }
  },
  {
   "cell_type": "code",
   "execution_count": null,
   "outputs": [],
   "source": [
    "fig = px.bar(data_frame=energy_generation, x=\"Timestamp\", y=\"Sum\",\n",
    "             title=\"Energy Produced by Minute\",\n",
    "             labels={\"Sum\":\"Energy Produced [W]\", \"Timestamp\": \"\"},\n",
    "             color_discrete_sequence=[\"blue\", \"red\"])#, height=750, width=1250)\n",
    "fig.update_xaxes(range=[\"2015-03-01\", \"2015-03-31\"])\n",
    "fig.show()"
   ],
   "metadata": {
    "collapsed": false,
    "pycharm": {
     "name": "#%%\n",
     "is_executing": true
    }
   }
  },
  {
   "cell_type": "markdown",
   "source": [
    "### Energy Consumption"
   ],
   "metadata": {
    "collapsed": false
   }
  },
  {
   "cell_type": "code",
   "execution_count": null,
   "outputs": [],
   "source": [
    "fig = px.bar(data_frame=energy_consumption, x=\"Timestamp\", y=\"Sum\",\n",
    "             title=\"Energy Consumed by Minute\",\n",
    "             labels={\"Sum\": \"Energy Consumed [W]\", \"Timestamp\": \"\"},\n",
    "             color_discrete_sequence=[\"red\"])#, height=750, width=1250)\n",
    "fig.update_xaxes(range=[\"2015-03-01\", \"2015-03-31\"])\n",
    "# fig.update_yaxes(range=[0, 15_000])\n",
    "fig.show()"
   ],
   "metadata": {
    "collapsed": false,
    "pycharm": {
     "name": "#%%\n",
     "is_executing": true
    }
   }
  },
  {
   "cell_type": "code",
   "execution_count": null,
   "outputs": [],
   "source": [
    "year_2[\"Energy Produced\"].sum()"
   ],
   "metadata": {
    "collapsed": false,
    "pycharm": {
     "name": "#%%\n"
    }
   }
  },
  {
   "cell_type": "code",
   "execution_count": null,
   "outputs": [],
   "source": [],
   "metadata": {
    "collapsed": false,
    "pycharm": {
     "name": "#%%\n"
    }
   }
  }
 ],
 "metadata": {
  "kernelspec": {
   "display_name": "Python 3",
   "language": "python",
   "name": "python3"
  },
  "language_info": {
   "codemirror_mode": {
    "name": "ipython",
    "version": 2
   },
   "file_extension": ".py",
   "mimetype": "text/x-python",
   "name": "python",
   "nbconvert_exporter": "python",
   "pygments_lexer": "ipython2",
   "version": "2.7.6"
  }
 },
 "nbformat": 4,
 "nbformat_minor": 0
}