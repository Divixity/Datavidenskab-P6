{
 "cells": [
  {
   "cell_type": "markdown",
   "source": [
    "# Load the data"
   ],
   "metadata": {
    "collapsed": false,
    "pycharm": {
     "name": "#%% md\n"
    }
   }
  },
  {
   "cell_type": "code",
   "execution_count": 2,
   "outputs": [
    {
     "name": "stderr",
     "output_type": "stream",
     "text": [
      "c:\\users\\magnu\\appdata\\local\\programs\\python\\python39\\lib\\site-packages\\sktime\\utils\\validation\\series.py:21: FutureWarning: pandas.Int64Index is deprecated and will be removed from pandas in a future version. Use pandas.Index with the appropriate dtype instead.\n",
      "  VALID_INDEX_TYPES = (pd.Int64Index, pd.RangeIndex, pd.PeriodIndex, pd.DatetimeIndex)\n",
      "c:\\users\\magnu\\appdata\\local\\programs\\python\\python39\\lib\\site-packages\\sktime\\forecasting\\base\\_fh.py:18: FutureWarning: pandas.Int64Index is deprecated and will be removed from pandas in a future version. Use pandas.Index with the appropriate dtype instead.\n",
      "  RELATIVE_TYPES = (pd.Int64Index, pd.RangeIndex)\n",
      "c:\\users\\magnu\\appdata\\local\\programs\\python\\python39\\lib\\site-packages\\sktime\\forecasting\\base\\_fh.py:19: FutureWarning: pandas.Int64Index is deprecated and will be removed from pandas in a future version. Use pandas.Index with the appropriate dtype instead.\n",
      "  ABSOLUTE_TYPES = (pd.Int64Index, pd.RangeIndex, pd.DatetimeIndex, pd.PeriodIndex)\n",
      "c:\\users\\magnu\\appdata\\local\\programs\\python\\python39\\lib\\site-packages\\sktime\\datatypes\\_series\\_check.py:43: FutureWarning: pandas.Int64Index is deprecated and will be removed from pandas in a future version. Use pandas.Index with the appropriate dtype instead.\n",
      "  VALID_INDEX_TYPES = (pd.Int64Index, pd.RangeIndex, pd.PeriodIndex, pd.DatetimeIndex)\n",
      "c:\\users\\magnu\\appdata\\local\\programs\\python\\python39\\lib\\site-packages\\sktime\\datatypes\\_hierarchical\\_check.py:50: FutureWarning: pandas.Int64Index is deprecated and will be removed from pandas in a future version. Use pandas.Index with the appropriate dtype instead.\n",
      "  VALID_INDEX_TYPES = (pd.Int64Index, pd.RangeIndex, pd.PeriodIndex, pd.DatetimeIndex)\n",
      "c:\\users\\magnu\\appdata\\local\\programs\\python\\python39\\lib\\site-packages\\sktime\\datatypes\\_hierarchical\\_check.py:51: FutureWarning: pandas.Int64Index is deprecated and will be removed from pandas in a future version. Use pandas.Index with the appropriate dtype instead.\n",
      "  VALID_MULTIINDEX_TYPES = (pd.Int64Index, pd.RangeIndex)\n",
      "c:\\users\\magnu\\appdata\\local\\programs\\python\\python39\\lib\\site-packages\\sktime\\datatypes\\_panel\\_check.py:48: FutureWarning: pandas.Int64Index is deprecated and will be removed from pandas in a future version. Use pandas.Index with the appropriate dtype instead.\n",
      "  VALID_INDEX_TYPES = (pd.Int64Index, pd.RangeIndex, pd.PeriodIndex, pd.DatetimeIndex)\n",
      "c:\\users\\magnu\\appdata\\local\\programs\\python\\python39\\lib\\site-packages\\sktime\\datatypes\\_panel\\_check.py:49: FutureWarning: pandas.Int64Index is deprecated and will be removed from pandas in a future version. Use pandas.Index with the appropriate dtype instead.\n",
      "  VALID_MULTIINDEX_TYPES = (pd.Int64Index, pd.RangeIndex)\n"
     ]
    }
   ],
   "source": [
    "import pandas as pd\n",
    "from sklearn.metrics import mean_squared_error\n",
    "from sklearn.preprocessing import OneHotEncoder\n",
    "from statsmodels.tsa.statespace.sarimax import SARIMAX\n",
    "from sktime.forecasting.arima import ARIMA\n",
    "import plotly.graph_objects as go\n",
    "\n",
    "import DataRetriever as dr\n",
    "\n",
    "retriever = dr.DataRetriever()\n",
    "\n",
    "CON_ATTRIBUTES = retriever.get_attributes(file_name='consuming_attributes.pkl')\n",
    "\n",
    "con_df = retriever.get_data(file_name='All-Subsystems-hour-Year2.pkl')\n",
    "\n",
    "all_consuming = retriever.get_attributes(file_name='consuming_attributes.pkl')\n",
    "flex_consuming = [\"Load_ClothesWasherPowerWithStandby\", \"Elec_PowerDishwasher\", \"Load_DryerPowerTotal\"]\n",
    "fixed_consuming = list(set(all_consuming) - set(flex_consuming))\n",
    "\n",
    "data = pd.DataFrame(con_df[fixed_consuming].sum(axis=1).clip(lower=0) / 1e3)\n",
    "data.columns = ['Consumed Energy']"
   ],
   "metadata": {
    "collapsed": false,
    "pycharm": {
     "name": "#%%\n"
    }
   }
  },
  {
   "cell_type": "code",
   "execution_count": 3,
   "outputs": [
    {
     "name": "stderr",
     "output_type": "stream",
     "text": [
      "C:\\Users\\magnu\\AppData\\Local\\Temp\\ipykernel_7244\\3376622727.py:1: FutureWarning: Indexing with a float is deprecated, and will raise an IndexError in pandas 2.0. You can manually convert to an integer key instead.\n",
      "  train_val = data[: data.index[len(data) * 0.8]]\n",
      "C:\\Users\\magnu\\AppData\\Local\\Temp\\ipykernel_7244\\3376622727.py:2: FutureWarning: Indexing with a float is deprecated, and will raise an IndexError in pandas 2.0. You can manually convert to an integer key instead.\n",
      "  test = data[data.index[len(data) * 0.8]: ]\n"
     ]
    }
   ],
   "source": [
    "train_val = data[: data.index[len(data) * 0.8]]\n",
    "test = data[data.index[len(data) * 0.8]: ]"
   ],
   "metadata": {
    "collapsed": false,
    "pycharm": {
     "name": "#%%\n"
    }
   }
  },
  {
   "cell_type": "markdown",
   "source": [
    "# Sliding window function"
   ],
   "metadata": {
    "collapsed": false,
    "pycharm": {
     "name": "#%% md\n"
    }
   }
  },
  {
   "cell_type": "code",
   "execution_count": 11,
   "outputs": [],
   "source": [
    "def sliding_forecast(endog: pd.DataFrame, trend: str, order: tuple,\n",
    "                     seasonal_order: tuple=None, train_length: int=0,\n",
    "                     val_length: int=0, shift: int=0):\n",
    "\n",
    "    train_start = 0\n",
    "    train_end = train_start + (train_length * 24)\n",
    "    val_start = train_end\n",
    "    val_end = val_start + (val_length * 24)\n",
    "\n",
    "    progress = 0\n",
    "\n",
    "    rmse_list = list()\n",
    "\n",
    "    while len(endog[: val_end]) < len(endog):\n",
    "        model = SARIMAX(endog=endog[train_start : train_end], trend=trend, order=order, seasonal_order=seasonal_order).fit(low_memory=True)\n",
    "\n",
    "        predictions = pd.DataFrame(model.predict(start=endog.index[val_start],\n",
    "                                                 end=endog.index[val_end - 1]))\n",
    "\n",
    "        rmse_list.append(mean_squared_error(y_true=endog[val_start: val_end],\n",
    "                                            y_pred=predictions,\n",
    "                                            squared=False))\n",
    "\n",
    "        train_start += shift * 24\n",
    "        train_end = train_start + (train_length * 24)\n",
    "        val_start = train_end\n",
    "        val_end = val_start + (val_length * 24)\n",
    "\n",
    "        progress += 1\n",
    "\n",
    "    print(progress)\n",
    "\n",
    "    return sum(rmse_list) / len(rmse_list)"
   ],
   "metadata": {
    "collapsed": false,
    "pycharm": {
     "name": "#%%\n"
    }
   }
  },
  {
   "cell_type": "markdown",
   "source": [
    "# RMSE for ARIMA"
   ],
   "metadata": {
    "collapsed": false,
    "pycharm": {
     "name": "#%% md\n"
    }
   }
  },
  {
   "cell_type": "code",
   "execution_count": 12,
   "outputs": [
    {
     "name": "stderr",
     "output_type": "stream",
     "text": [
      "c:\\users\\magnu\\appdata\\local\\programs\\python\\python39\\lib\\site-packages\\statsmodels\\tsa\\statespace\\sarimax.py:966: UserWarning:\n",
      "\n",
      "Non-stationary starting autoregressive parameters found. Using zeros as starting parameters.\n",
      "\n",
      "c:\\users\\magnu\\appdata\\local\\programs\\python\\python39\\lib\\site-packages\\statsmodels\\tsa\\statespace\\sarimax.py:978: UserWarning:\n",
      "\n",
      "Non-invertible starting MA parameters found. Using zeros as starting parameters.\n",
      "\n",
      "c:\\users\\magnu\\appdata\\local\\programs\\python\\python39\\lib\\site-packages\\statsmodels\\base\\model.py:604: ConvergenceWarning:\n",
      "\n",
      "Maximum Likelihood optimization failed to converge. Check mle_retvals\n",
      "\n",
      "c:\\users\\magnu\\appdata\\local\\programs\\python\\python39\\lib\\site-packages\\statsmodels\\tsa\\statespace\\sarimax.py:966: UserWarning:\n",
      "\n",
      "Non-stationary starting autoregressive parameters found. Using zeros as starting parameters.\n",
      "\n",
      "c:\\users\\magnu\\appdata\\local\\programs\\python\\python39\\lib\\site-packages\\statsmodels\\tsa\\statespace\\sarimax.py:978: UserWarning:\n",
      "\n",
      "Non-invertible starting MA parameters found. Using zeros as starting parameters.\n",
      "\n",
      "c:\\users\\magnu\\appdata\\local\\programs\\python\\python39\\lib\\site-packages\\statsmodels\\base\\model.py:604: ConvergenceWarning:\n",
      "\n",
      "Maximum Likelihood optimization failed to converge. Check mle_retvals\n",
      "\n",
      "c:\\users\\magnu\\appdata\\local\\programs\\python\\python39\\lib\\site-packages\\statsmodels\\tsa\\statespace\\sarimax.py:966: UserWarning:\n",
      "\n",
      "Non-stationary starting autoregressive parameters found. Using zeros as starting parameters.\n",
      "\n",
      "c:\\users\\magnu\\appdata\\local\\programs\\python\\python39\\lib\\site-packages\\statsmodels\\tsa\\statespace\\sarimax.py:978: UserWarning:\n",
      "\n",
      "Non-invertible starting MA parameters found. Using zeros as starting parameters.\n",
      "\n",
      "c:\\users\\magnu\\appdata\\local\\programs\\python\\python39\\lib\\site-packages\\statsmodels\\base\\model.py:604: ConvergenceWarning:\n",
      "\n",
      "Maximum Likelihood optimization failed to converge. Check mle_retvals\n",
      "\n",
      "c:\\users\\magnu\\appdata\\local\\programs\\python\\python39\\lib\\site-packages\\statsmodels\\tsa\\statespace\\sarimax.py:966: UserWarning:\n",
      "\n",
      "Non-stationary starting autoregressive parameters found. Using zeros as starting parameters.\n",
      "\n",
      "c:\\users\\magnu\\appdata\\local\\programs\\python\\python39\\lib\\site-packages\\statsmodels\\tsa\\statespace\\sarimax.py:978: UserWarning:\n",
      "\n",
      "Non-invertible starting MA parameters found. Using zeros as starting parameters.\n",
      "\n",
      "c:\\users\\magnu\\appdata\\local\\programs\\python\\python39\\lib\\site-packages\\statsmodels\\base\\model.py:604: ConvergenceWarning:\n",
      "\n",
      "Maximum Likelihood optimization failed to converge. Check mle_retvals\n",
      "\n",
      "c:\\users\\magnu\\appdata\\local\\programs\\python\\python39\\lib\\site-packages\\statsmodels\\tsa\\statespace\\sarimax.py:966: UserWarning:\n",
      "\n",
      "Non-stationary starting autoregressive parameters found. Using zeros as starting parameters.\n",
      "\n",
      "c:\\users\\magnu\\appdata\\local\\programs\\python\\python39\\lib\\site-packages\\statsmodels\\tsa\\statespace\\sarimax.py:978: UserWarning:\n",
      "\n",
      "Non-invertible starting MA parameters found. Using zeros as starting parameters.\n",
      "\n",
      "c:\\users\\magnu\\appdata\\local\\programs\\python\\python39\\lib\\site-packages\\statsmodels\\base\\model.py:604: ConvergenceWarning:\n",
      "\n",
      "Maximum Likelihood optimization failed to converge. Check mle_retvals\n",
      "\n",
      "c:\\users\\magnu\\appdata\\local\\programs\\python\\python39\\lib\\site-packages\\statsmodels\\tsa\\statespace\\sarimax.py:966: UserWarning:\n",
      "\n",
      "Non-stationary starting autoregressive parameters found. Using zeros as starting parameters.\n",
      "\n",
      "c:\\users\\magnu\\appdata\\local\\programs\\python\\python39\\lib\\site-packages\\statsmodels\\tsa\\statespace\\sarimax.py:978: UserWarning:\n",
      "\n",
      "Non-invertible starting MA parameters found. Using zeros as starting parameters.\n",
      "\n",
      "c:\\users\\magnu\\appdata\\local\\programs\\python\\python39\\lib\\site-packages\\statsmodels\\base\\model.py:604: ConvergenceWarning:\n",
      "\n",
      "Maximum Likelihood optimization failed to converge. Check mle_retvals\n",
      "\n",
      "c:\\users\\magnu\\appdata\\local\\programs\\python\\python39\\lib\\site-packages\\statsmodels\\tsa\\statespace\\sarimax.py:966: UserWarning:\n",
      "\n",
      "Non-stationary starting autoregressive parameters found. Using zeros as starting parameters.\n",
      "\n",
      "c:\\users\\magnu\\appdata\\local\\programs\\python\\python39\\lib\\site-packages\\statsmodels\\tsa\\statespace\\sarimax.py:978: UserWarning:\n",
      "\n",
      "Non-invertible starting MA parameters found. Using zeros as starting parameters.\n",
      "\n",
      "c:\\users\\magnu\\appdata\\local\\programs\\python\\python39\\lib\\site-packages\\statsmodels\\base\\model.py:604: ConvergenceWarning:\n",
      "\n",
      "Maximum Likelihood optimization failed to converge. Check mle_retvals\n",
      "\n",
      "c:\\users\\magnu\\appdata\\local\\programs\\python\\python39\\lib\\site-packages\\statsmodels\\tsa\\statespace\\sarimax.py:966: UserWarning:\n",
      "\n",
      "Non-stationary starting autoregressive parameters found. Using zeros as starting parameters.\n",
      "\n",
      "c:\\users\\magnu\\appdata\\local\\programs\\python\\python39\\lib\\site-packages\\statsmodels\\tsa\\statespace\\sarimax.py:978: UserWarning:\n",
      "\n",
      "Non-invertible starting MA parameters found. Using zeros as starting parameters.\n",
      "\n",
      "c:\\users\\magnu\\appdata\\local\\programs\\python\\python39\\lib\\site-packages\\statsmodels\\base\\model.py:604: ConvergenceWarning:\n",
      "\n",
      "Maximum Likelihood optimization failed to converge. Check mle_retvals\n",
      "\n",
      "c:\\users\\magnu\\appdata\\local\\programs\\python\\python39\\lib\\site-packages\\statsmodels\\tsa\\statespace\\sarimax.py:966: UserWarning:\n",
      "\n",
      "Non-stationary starting autoregressive parameters found. Using zeros as starting parameters.\n",
      "\n",
      "c:\\users\\magnu\\appdata\\local\\programs\\python\\python39\\lib\\site-packages\\statsmodels\\tsa\\statespace\\sarimax.py:978: UserWarning:\n",
      "\n",
      "Non-invertible starting MA parameters found. Using zeros as starting parameters.\n",
      "\n"
     ]
    },
    {
     "name": "stdout",
     "output_type": "stream",
     "text": [
      "9\n",
      "RMSE for ARIMA(4, 1, 2, 0, 0, 0, 0) is: 0.71028\n"
     ]
    },
    {
     "name": "stderr",
     "output_type": "stream",
     "text": [
      "c:\\users\\magnu\\appdata\\local\\programs\\python\\python39\\lib\\site-packages\\statsmodels\\base\\model.py:604: ConvergenceWarning:\n",
      "\n",
      "Maximum Likelihood optimization failed to converge. Check mle_retvals\n",
      "\n"
     ]
    }
   ],
   "source": [
    "sarima_params = [(4, 1, 2, 0, 0, 0, 0)]\n",
    "\n",
    "sarima_rmses = dict()\n",
    "key = 0\n",
    "\n",
    "for params in sarima_params:\n",
    "    result = sliding_forecast(endog=test[\"Consumed Energy\"],\n",
    "                              trend='n', order=params[0: 3], seasonal_order=params[3: ],\n",
    "                              train_length=28, val_length=3, shift=5)\n",
    "    sarima_rmses[key] = result\n",
    "    print(f\"RMSE for ARIMA{params} is: {round(result, 5)}\")\n",
    "    key += 1"
   ],
   "metadata": {
    "collapsed": false,
    "pycharm": {
     "name": "#%%\n"
    }
   }
  },
  {
   "cell_type": "code",
   "execution_count": 13,
   "outputs": [],
   "source": [
    "best_rmse = min(sarima_rmses.values())\n",
    "best_param_key = [key for key in sarima_rmses if sarima_rmses[key] == best_rmse]"
   ],
   "metadata": {
    "collapsed": false,
    "pycharm": {
     "name": "#%%\n"
    }
   }
  },
  {
   "cell_type": "code",
   "execution_count": 14,
   "outputs": [
    {
     "data": {
      "text/plain": "((4, 1, 2, 0, 0, 0, 0), 0.7102779222762857)"
     },
     "execution_count": 14,
     "metadata": {},
     "output_type": "execute_result"
    }
   ],
   "source": [
    "best_params = sarima_params[best_param_key[0]]\n",
    "best_params, best_rmse"
   ],
   "metadata": {
    "collapsed": false,
    "pycharm": {
     "name": "#%%\n"
    }
   }
  },
  {
   "cell_type": "code",
   "execution_count": 15,
   "outputs": [
    {
     "name": "stderr",
     "output_type": "stream",
     "text": [
      "c:\\users\\magnu\\appdata\\local\\programs\\python\\python39\\lib\\site-packages\\statsmodels\\tsa\\statespace\\sarimax.py:966: UserWarning:\n",
      "\n",
      "Non-stationary starting autoregressive parameters found. Using zeros as starting parameters.\n",
      "\n",
      "c:\\users\\magnu\\appdata\\local\\programs\\python\\python39\\lib\\site-packages\\statsmodels\\tsa\\statespace\\sarimax.py:978: UserWarning:\n",
      "\n",
      "Non-invertible starting MA parameters found. Using zeros as starting parameters.\n",
      "\n"
     ]
    }
   ],
   "source": [
    "start_train = 0\n",
    "end_train = start_train + 24*28\n",
    "start_test = end_train\n",
    "end_test = start_test + 3*24\n",
    "\n",
    "model = SARIMAX(endog=test[\"Consumed Energy\"][test.index[start_train: end_train]],\n",
    "                trend='n',\n",
    "                order=best_params[: 3],\n",
    "                seasonal_order=best_params[3: ])\\\n",
    "    .fit(low_memory=True, disp=False, full_output=False)\n",
    "\n",
    "predictions = pd.DataFrame(model.predict(start=test.index[start_test],\n",
    "                                         end=test.index[end_test]))"
   ],
   "metadata": {
    "collapsed": false,
    "pycharm": {
     "name": "#%%\n"
    }
   }
  },
  {
   "cell_type": "code",
   "execution_count": 16,
   "outputs": [
    {
     "data": {
      "text/plain": "                     predicted_mean\n2015-12-18 00:00:00        1.037413\n2015-12-18 01:00:00        0.894844\n2015-12-18 02:00:00        0.944502\n2015-12-18 03:00:00        0.858394\n2015-12-18 04:00:00        0.925186\n...                             ...\n2015-12-20 20:00:00        0.913851\n2015-12-20 21:00:00        0.843740\n2015-12-20 22:00:00        0.913788\n2015-12-20 23:00:00        0.843803\n2015-12-21 00:00:00        0.913725\n\n[73 rows x 1 columns]",
      "text/html": "<div>\n<style scoped>\n    .dataframe tbody tr th:only-of-type {\n        vertical-align: middle;\n    }\n\n    .dataframe tbody tr th {\n        vertical-align: top;\n    }\n\n    .dataframe thead th {\n        text-align: right;\n    }\n</style>\n<table border=\"1\" class=\"dataframe\">\n  <thead>\n    <tr style=\"text-align: right;\">\n      <th></th>\n      <th>predicted_mean</th>\n    </tr>\n  </thead>\n  <tbody>\n    <tr>\n      <th>2015-12-18 00:00:00</th>\n      <td>1.037413</td>\n    </tr>\n    <tr>\n      <th>2015-12-18 01:00:00</th>\n      <td>0.894844</td>\n    </tr>\n    <tr>\n      <th>2015-12-18 02:00:00</th>\n      <td>0.944502</td>\n    </tr>\n    <tr>\n      <th>2015-12-18 03:00:00</th>\n      <td>0.858394</td>\n    </tr>\n    <tr>\n      <th>2015-12-18 04:00:00</th>\n      <td>0.925186</td>\n    </tr>\n    <tr>\n      <th>...</th>\n      <td>...</td>\n    </tr>\n    <tr>\n      <th>2015-12-20 20:00:00</th>\n      <td>0.913851</td>\n    </tr>\n    <tr>\n      <th>2015-12-20 21:00:00</th>\n      <td>0.843740</td>\n    </tr>\n    <tr>\n      <th>2015-12-20 22:00:00</th>\n      <td>0.913788</td>\n    </tr>\n    <tr>\n      <th>2015-12-20 23:00:00</th>\n      <td>0.843803</td>\n    </tr>\n    <tr>\n      <th>2015-12-21 00:00:00</th>\n      <td>0.913725</td>\n    </tr>\n  </tbody>\n</table>\n<p>73 rows × 1 columns</p>\n</div>"
     },
     "execution_count": 16,
     "metadata": {},
     "output_type": "execute_result"
    }
   ],
   "source": [
    "predictions#.index"
   ],
   "metadata": {
    "collapsed": false,
    "pycharm": {
     "name": "#%%\n"
    }
   }
  },
  {
   "cell_type": "code",
   "execution_count": 17,
   "outputs": [
    {
     "data": {
      "application/vnd.plotly.v1+json": {
       "data": [
        {
         "line": {
          "color": "rgb(84, 84, 84)"
         },
         "name": "Training Data",
         "x": [
          "2015-11-20T00:00:00",
          "2015-11-20T01:00:00",
          "2015-11-20T02:00:00",
          "2015-11-20T03:00:00",
          "2015-11-20T04:00:00",
          "2015-11-20T05:00:00",
          "2015-11-20T06:00:00",
          "2015-11-20T07:00:00",
          "2015-11-20T08:00:00",
          "2015-11-20T09:00:00",
          "2015-11-20T10:00:00",
          "2015-11-20T11:00:00",
          "2015-11-20T12:00:00",
          "2015-11-20T13:00:00",
          "2015-11-20T14:00:00",
          "2015-11-20T15:00:00",
          "2015-11-20T16:00:00",
          "2015-11-20T17:00:00",
          "2015-11-20T18:00:00",
          "2015-11-20T19:00:00",
          "2015-11-20T20:00:00",
          "2015-11-20T21:00:00",
          "2015-11-20T22:00:00",
          "2015-11-20T23:00:00",
          "2015-11-21T00:00:00",
          "2015-11-21T01:00:00",
          "2015-11-21T02:00:00",
          "2015-11-21T03:00:00",
          "2015-11-21T04:00:00",
          "2015-11-21T05:00:00",
          "2015-11-21T06:00:00",
          "2015-11-21T07:00:00",
          "2015-11-21T08:00:00",
          "2015-11-21T09:00:00",
          "2015-11-21T10:00:00",
          "2015-11-21T11:00:00",
          "2015-11-21T12:00:00",
          "2015-11-21T13:00:00",
          "2015-11-21T14:00:00",
          "2015-11-21T15:00:00",
          "2015-11-21T16:00:00",
          "2015-11-21T17:00:00",
          "2015-11-21T18:00:00",
          "2015-11-21T19:00:00",
          "2015-11-21T20:00:00",
          "2015-11-21T21:00:00",
          "2015-11-21T22:00:00",
          "2015-11-21T23:00:00",
          "2015-11-22T00:00:00",
          "2015-11-22T01:00:00",
          "2015-11-22T02:00:00",
          "2015-11-22T03:00:00",
          "2015-11-22T04:00:00",
          "2015-11-22T05:00:00",
          "2015-11-22T06:00:00",
          "2015-11-22T07:00:00",
          "2015-11-22T08:00:00",
          "2015-11-22T09:00:00",
          "2015-11-22T10:00:00",
          "2015-11-22T11:00:00",
          "2015-11-22T12:00:00",
          "2015-11-22T13:00:00",
          "2015-11-22T14:00:00",
          "2015-11-22T15:00:00",
          "2015-11-22T16:00:00",
          "2015-11-22T17:00:00",
          "2015-11-22T18:00:00",
          "2015-11-22T19:00:00",
          "2015-11-22T20:00:00",
          "2015-11-22T21:00:00",
          "2015-11-22T22:00:00",
          "2015-11-22T23:00:00",
          "2015-11-23T00:00:00",
          "2015-11-23T01:00:00",
          "2015-11-23T02:00:00",
          "2015-11-23T03:00:00",
          "2015-11-23T04:00:00",
          "2015-11-23T05:00:00",
          "2015-11-23T06:00:00",
          "2015-11-23T07:00:00",
          "2015-11-23T08:00:00",
          "2015-11-23T09:00:00",
          "2015-11-23T10:00:00",
          "2015-11-23T11:00:00",
          "2015-11-23T12:00:00",
          "2015-11-23T13:00:00",
          "2015-11-23T14:00:00",
          "2015-11-23T15:00:00",
          "2015-11-23T16:00:00",
          "2015-11-23T17:00:00",
          "2015-11-23T18:00:00",
          "2015-11-23T19:00:00",
          "2015-11-23T20:00:00",
          "2015-11-23T21:00:00",
          "2015-11-23T22:00:00",
          "2015-11-23T23:00:00",
          "2015-11-24T00:00:00",
          "2015-11-24T01:00:00",
          "2015-11-24T02:00:00",
          "2015-11-24T03:00:00",
          "2015-11-24T04:00:00",
          "2015-11-24T05:00:00",
          "2015-11-24T06:00:00",
          "2015-11-24T07:00:00",
          "2015-11-24T08:00:00",
          "2015-11-24T09:00:00",
          "2015-11-24T10:00:00",
          "2015-11-24T11:00:00",
          "2015-11-24T12:00:00",
          "2015-11-24T13:00:00",
          "2015-11-24T14:00:00",
          "2015-11-24T15:00:00",
          "2015-11-24T16:00:00",
          "2015-11-24T17:00:00",
          "2015-11-24T18:00:00",
          "2015-11-24T19:00:00",
          "2015-11-24T20:00:00",
          "2015-11-24T21:00:00",
          "2015-11-24T22:00:00",
          "2015-11-24T23:00:00",
          "2015-11-25T00:00:00",
          "2015-11-25T01:00:00",
          "2015-11-25T02:00:00",
          "2015-11-25T03:00:00",
          "2015-11-25T04:00:00",
          "2015-11-25T05:00:00",
          "2015-11-25T06:00:00",
          "2015-11-25T07:00:00",
          "2015-11-25T08:00:00",
          "2015-11-25T09:00:00",
          "2015-11-25T10:00:00",
          "2015-11-25T11:00:00",
          "2015-11-25T12:00:00",
          "2015-11-25T13:00:00",
          "2015-11-25T14:00:00",
          "2015-11-25T15:00:00",
          "2015-11-25T16:00:00",
          "2015-11-25T17:00:00",
          "2015-11-25T18:00:00",
          "2015-11-25T19:00:00",
          "2015-11-25T20:00:00",
          "2015-11-25T21:00:00",
          "2015-11-25T22:00:00",
          "2015-11-25T23:00:00",
          "2015-11-26T00:00:00",
          "2015-11-26T01:00:00",
          "2015-11-26T02:00:00",
          "2015-11-26T03:00:00",
          "2015-11-26T04:00:00",
          "2015-11-26T05:00:00",
          "2015-11-26T06:00:00",
          "2015-11-26T07:00:00",
          "2015-11-26T08:00:00",
          "2015-11-26T09:00:00",
          "2015-11-26T10:00:00",
          "2015-11-26T11:00:00",
          "2015-11-26T12:00:00",
          "2015-11-26T13:00:00",
          "2015-11-26T14:00:00",
          "2015-11-26T15:00:00",
          "2015-11-26T16:00:00",
          "2015-11-26T17:00:00",
          "2015-11-26T18:00:00",
          "2015-11-26T19:00:00",
          "2015-11-26T20:00:00",
          "2015-11-26T21:00:00",
          "2015-11-26T22:00:00",
          "2015-11-26T23:00:00",
          "2015-11-27T00:00:00",
          "2015-11-27T01:00:00",
          "2015-11-27T02:00:00",
          "2015-11-27T03:00:00",
          "2015-11-27T04:00:00",
          "2015-11-27T05:00:00",
          "2015-11-27T06:00:00",
          "2015-11-27T07:00:00",
          "2015-11-27T08:00:00",
          "2015-11-27T09:00:00",
          "2015-11-27T10:00:00",
          "2015-11-27T11:00:00",
          "2015-11-27T12:00:00",
          "2015-11-27T13:00:00",
          "2015-11-27T14:00:00",
          "2015-11-27T15:00:00",
          "2015-11-27T16:00:00",
          "2015-11-27T17:00:00",
          "2015-11-27T18:00:00",
          "2015-11-27T19:00:00",
          "2015-11-27T20:00:00",
          "2015-11-27T21:00:00",
          "2015-11-27T22:00:00",
          "2015-11-27T23:00:00",
          "2015-11-28T00:00:00",
          "2015-11-28T01:00:00",
          "2015-11-28T02:00:00",
          "2015-11-28T03:00:00",
          "2015-11-28T04:00:00",
          "2015-11-28T05:00:00",
          "2015-11-28T06:00:00",
          "2015-11-28T07:00:00",
          "2015-11-28T08:00:00",
          "2015-11-28T09:00:00",
          "2015-11-28T10:00:00",
          "2015-11-28T11:00:00",
          "2015-11-28T12:00:00",
          "2015-11-28T13:00:00",
          "2015-11-28T14:00:00",
          "2015-11-28T15:00:00",
          "2015-11-28T16:00:00",
          "2015-11-28T17:00:00",
          "2015-11-28T18:00:00",
          "2015-11-28T19:00:00",
          "2015-11-28T20:00:00",
          "2015-11-28T21:00:00",
          "2015-11-28T22:00:00",
          "2015-11-28T23:00:00",
          "2015-11-29T00:00:00",
          "2015-11-29T01:00:00",
          "2015-11-29T02:00:00",
          "2015-11-29T03:00:00",
          "2015-11-29T04:00:00",
          "2015-11-29T05:00:00",
          "2015-11-29T06:00:00",
          "2015-11-29T07:00:00",
          "2015-11-29T08:00:00",
          "2015-11-29T09:00:00",
          "2015-11-29T10:00:00",
          "2015-11-29T11:00:00",
          "2015-11-29T12:00:00",
          "2015-11-29T13:00:00",
          "2015-11-29T14:00:00",
          "2015-11-29T15:00:00",
          "2015-11-29T16:00:00",
          "2015-11-29T17:00:00",
          "2015-11-29T18:00:00",
          "2015-11-29T19:00:00",
          "2015-11-29T20:00:00",
          "2015-11-29T21:00:00",
          "2015-11-29T22:00:00",
          "2015-11-29T23:00:00",
          "2015-11-30T00:00:00",
          "2015-11-30T01:00:00",
          "2015-11-30T02:00:00",
          "2015-11-30T03:00:00",
          "2015-11-30T04:00:00",
          "2015-11-30T05:00:00",
          "2015-11-30T06:00:00",
          "2015-11-30T07:00:00",
          "2015-11-30T08:00:00",
          "2015-11-30T09:00:00",
          "2015-11-30T10:00:00",
          "2015-11-30T11:00:00",
          "2015-11-30T12:00:00",
          "2015-11-30T13:00:00",
          "2015-11-30T14:00:00",
          "2015-11-30T15:00:00",
          "2015-11-30T16:00:00",
          "2015-11-30T17:00:00",
          "2015-11-30T18:00:00",
          "2015-11-30T19:00:00",
          "2015-11-30T20:00:00",
          "2015-11-30T21:00:00",
          "2015-11-30T22:00:00",
          "2015-11-30T23:00:00",
          "2015-12-01T00:00:00",
          "2015-12-01T01:00:00",
          "2015-12-01T02:00:00",
          "2015-12-01T03:00:00",
          "2015-12-01T04:00:00",
          "2015-12-01T05:00:00",
          "2015-12-01T06:00:00",
          "2015-12-01T07:00:00",
          "2015-12-01T08:00:00",
          "2015-12-01T09:00:00",
          "2015-12-01T10:00:00",
          "2015-12-01T11:00:00",
          "2015-12-01T12:00:00",
          "2015-12-01T13:00:00",
          "2015-12-01T14:00:00",
          "2015-12-01T15:00:00",
          "2015-12-01T16:00:00",
          "2015-12-01T17:00:00",
          "2015-12-01T18:00:00",
          "2015-12-01T19:00:00",
          "2015-12-01T20:00:00",
          "2015-12-01T21:00:00",
          "2015-12-01T22:00:00",
          "2015-12-01T23:00:00",
          "2015-12-02T00:00:00",
          "2015-12-02T01:00:00",
          "2015-12-02T02:00:00",
          "2015-12-02T03:00:00",
          "2015-12-02T04:00:00",
          "2015-12-02T05:00:00",
          "2015-12-02T06:00:00",
          "2015-12-02T07:00:00",
          "2015-12-02T08:00:00",
          "2015-12-02T09:00:00",
          "2015-12-02T10:00:00",
          "2015-12-02T11:00:00",
          "2015-12-02T12:00:00",
          "2015-12-02T13:00:00",
          "2015-12-02T14:00:00",
          "2015-12-02T15:00:00",
          "2015-12-02T16:00:00",
          "2015-12-02T17:00:00",
          "2015-12-02T18:00:00",
          "2015-12-02T19:00:00",
          "2015-12-02T20:00:00",
          "2015-12-02T21:00:00",
          "2015-12-02T22:00:00",
          "2015-12-02T23:00:00",
          "2015-12-03T00:00:00",
          "2015-12-03T01:00:00",
          "2015-12-03T02:00:00",
          "2015-12-03T03:00:00",
          "2015-12-03T04:00:00",
          "2015-12-03T05:00:00",
          "2015-12-03T06:00:00",
          "2015-12-03T07:00:00",
          "2015-12-03T08:00:00",
          "2015-12-03T09:00:00",
          "2015-12-03T10:00:00",
          "2015-12-03T11:00:00",
          "2015-12-03T12:00:00",
          "2015-12-03T13:00:00",
          "2015-12-03T14:00:00",
          "2015-12-03T15:00:00",
          "2015-12-03T16:00:00",
          "2015-12-03T17:00:00",
          "2015-12-03T18:00:00",
          "2015-12-03T19:00:00",
          "2015-12-03T20:00:00",
          "2015-12-03T21:00:00",
          "2015-12-03T22:00:00",
          "2015-12-03T23:00:00",
          "2015-12-04T00:00:00",
          "2015-12-04T01:00:00",
          "2015-12-04T02:00:00",
          "2015-12-04T03:00:00",
          "2015-12-04T04:00:00",
          "2015-12-04T05:00:00",
          "2015-12-04T06:00:00",
          "2015-12-04T07:00:00",
          "2015-12-04T08:00:00",
          "2015-12-04T09:00:00",
          "2015-12-04T10:00:00",
          "2015-12-04T11:00:00",
          "2015-12-04T12:00:00",
          "2015-12-04T13:00:00",
          "2015-12-04T14:00:00",
          "2015-12-04T15:00:00",
          "2015-12-04T16:00:00",
          "2015-12-04T17:00:00",
          "2015-12-04T18:00:00",
          "2015-12-04T19:00:00",
          "2015-12-04T20:00:00",
          "2015-12-04T21:00:00",
          "2015-12-04T22:00:00",
          "2015-12-04T23:00:00",
          "2015-12-05T00:00:00",
          "2015-12-05T01:00:00",
          "2015-12-05T02:00:00",
          "2015-12-05T03:00:00",
          "2015-12-05T04:00:00",
          "2015-12-05T05:00:00",
          "2015-12-05T06:00:00",
          "2015-12-05T07:00:00",
          "2015-12-05T08:00:00",
          "2015-12-05T09:00:00",
          "2015-12-05T10:00:00",
          "2015-12-05T11:00:00",
          "2015-12-05T12:00:00",
          "2015-12-05T13:00:00",
          "2015-12-05T14:00:00",
          "2015-12-05T15:00:00",
          "2015-12-05T16:00:00",
          "2015-12-05T17:00:00",
          "2015-12-05T18:00:00",
          "2015-12-05T19:00:00",
          "2015-12-05T20:00:00",
          "2015-12-05T21:00:00",
          "2015-12-05T22:00:00",
          "2015-12-05T23:00:00",
          "2015-12-06T00:00:00",
          "2015-12-06T01:00:00",
          "2015-12-06T02:00:00",
          "2015-12-06T03:00:00",
          "2015-12-06T04:00:00",
          "2015-12-06T05:00:00",
          "2015-12-06T06:00:00",
          "2015-12-06T07:00:00",
          "2015-12-06T08:00:00",
          "2015-12-06T09:00:00",
          "2015-12-06T10:00:00",
          "2015-12-06T11:00:00",
          "2015-12-06T12:00:00",
          "2015-12-06T13:00:00",
          "2015-12-06T14:00:00",
          "2015-12-06T15:00:00",
          "2015-12-06T16:00:00",
          "2015-12-06T17:00:00",
          "2015-12-06T18:00:00",
          "2015-12-06T19:00:00",
          "2015-12-06T20:00:00",
          "2015-12-06T21:00:00",
          "2015-12-06T22:00:00",
          "2015-12-06T23:00:00",
          "2015-12-07T00:00:00",
          "2015-12-07T01:00:00",
          "2015-12-07T02:00:00",
          "2015-12-07T03:00:00",
          "2015-12-07T04:00:00",
          "2015-12-07T05:00:00",
          "2015-12-07T06:00:00",
          "2015-12-07T07:00:00",
          "2015-12-07T08:00:00",
          "2015-12-07T09:00:00",
          "2015-12-07T10:00:00",
          "2015-12-07T11:00:00",
          "2015-12-07T12:00:00",
          "2015-12-07T13:00:00",
          "2015-12-07T14:00:00",
          "2015-12-07T15:00:00",
          "2015-12-07T16:00:00",
          "2015-12-07T17:00:00",
          "2015-12-07T18:00:00",
          "2015-12-07T19:00:00",
          "2015-12-07T20:00:00",
          "2015-12-07T21:00:00",
          "2015-12-07T22:00:00",
          "2015-12-07T23:00:00",
          "2015-12-08T00:00:00",
          "2015-12-08T01:00:00",
          "2015-12-08T02:00:00",
          "2015-12-08T03:00:00",
          "2015-12-08T04:00:00",
          "2015-12-08T05:00:00",
          "2015-12-08T06:00:00",
          "2015-12-08T07:00:00",
          "2015-12-08T08:00:00",
          "2015-12-08T09:00:00",
          "2015-12-08T10:00:00",
          "2015-12-08T11:00:00",
          "2015-12-08T12:00:00",
          "2015-12-08T13:00:00",
          "2015-12-08T14:00:00",
          "2015-12-08T15:00:00",
          "2015-12-08T16:00:00",
          "2015-12-08T17:00:00",
          "2015-12-08T18:00:00",
          "2015-12-08T19:00:00",
          "2015-12-08T20:00:00",
          "2015-12-08T21:00:00",
          "2015-12-08T22:00:00",
          "2015-12-08T23:00:00",
          "2015-12-09T00:00:00",
          "2015-12-09T01:00:00",
          "2015-12-09T02:00:00",
          "2015-12-09T03:00:00",
          "2015-12-09T04:00:00",
          "2015-12-09T05:00:00",
          "2015-12-09T06:00:00",
          "2015-12-09T07:00:00",
          "2015-12-09T08:00:00",
          "2015-12-09T09:00:00",
          "2015-12-09T10:00:00",
          "2015-12-09T11:00:00",
          "2015-12-09T12:00:00",
          "2015-12-09T13:00:00",
          "2015-12-09T14:00:00",
          "2015-12-09T15:00:00",
          "2015-12-09T16:00:00",
          "2015-12-09T17:00:00",
          "2015-12-09T18:00:00",
          "2015-12-09T19:00:00",
          "2015-12-09T20:00:00",
          "2015-12-09T21:00:00",
          "2015-12-09T22:00:00",
          "2015-12-09T23:00:00",
          "2015-12-10T00:00:00",
          "2015-12-10T01:00:00",
          "2015-12-10T02:00:00",
          "2015-12-10T03:00:00",
          "2015-12-10T04:00:00",
          "2015-12-10T05:00:00",
          "2015-12-10T06:00:00",
          "2015-12-10T07:00:00",
          "2015-12-10T08:00:00",
          "2015-12-10T09:00:00",
          "2015-12-10T10:00:00",
          "2015-12-10T11:00:00",
          "2015-12-10T12:00:00",
          "2015-12-10T13:00:00",
          "2015-12-10T14:00:00",
          "2015-12-10T15:00:00",
          "2015-12-10T16:00:00",
          "2015-12-10T17:00:00",
          "2015-12-10T18:00:00",
          "2015-12-10T19:00:00",
          "2015-12-10T20:00:00",
          "2015-12-10T21:00:00",
          "2015-12-10T22:00:00",
          "2015-12-10T23:00:00",
          "2015-12-11T00:00:00",
          "2015-12-11T01:00:00",
          "2015-12-11T02:00:00",
          "2015-12-11T03:00:00",
          "2015-12-11T04:00:00",
          "2015-12-11T05:00:00",
          "2015-12-11T06:00:00",
          "2015-12-11T07:00:00",
          "2015-12-11T08:00:00",
          "2015-12-11T09:00:00",
          "2015-12-11T10:00:00",
          "2015-12-11T11:00:00",
          "2015-12-11T12:00:00",
          "2015-12-11T13:00:00",
          "2015-12-11T14:00:00",
          "2015-12-11T15:00:00",
          "2015-12-11T16:00:00",
          "2015-12-11T17:00:00",
          "2015-12-11T18:00:00",
          "2015-12-11T19:00:00",
          "2015-12-11T20:00:00",
          "2015-12-11T21:00:00",
          "2015-12-11T22:00:00",
          "2015-12-11T23:00:00",
          "2015-12-12T00:00:00",
          "2015-12-12T01:00:00",
          "2015-12-12T02:00:00",
          "2015-12-12T03:00:00",
          "2015-12-12T04:00:00",
          "2015-12-12T05:00:00",
          "2015-12-12T06:00:00",
          "2015-12-12T07:00:00",
          "2015-12-12T08:00:00",
          "2015-12-12T09:00:00",
          "2015-12-12T10:00:00",
          "2015-12-12T11:00:00",
          "2015-12-12T12:00:00",
          "2015-12-12T13:00:00",
          "2015-12-12T14:00:00",
          "2015-12-12T15:00:00",
          "2015-12-12T16:00:00",
          "2015-12-12T17:00:00",
          "2015-12-12T18:00:00",
          "2015-12-12T19:00:00",
          "2015-12-12T20:00:00",
          "2015-12-12T21:00:00",
          "2015-12-12T22:00:00",
          "2015-12-12T23:00:00",
          "2015-12-13T00:00:00",
          "2015-12-13T01:00:00",
          "2015-12-13T02:00:00",
          "2015-12-13T03:00:00",
          "2015-12-13T04:00:00",
          "2015-12-13T05:00:00",
          "2015-12-13T06:00:00",
          "2015-12-13T07:00:00",
          "2015-12-13T08:00:00",
          "2015-12-13T09:00:00",
          "2015-12-13T10:00:00",
          "2015-12-13T11:00:00",
          "2015-12-13T12:00:00",
          "2015-12-13T13:00:00",
          "2015-12-13T14:00:00",
          "2015-12-13T15:00:00",
          "2015-12-13T16:00:00",
          "2015-12-13T17:00:00",
          "2015-12-13T18:00:00",
          "2015-12-13T19:00:00",
          "2015-12-13T20:00:00",
          "2015-12-13T21:00:00",
          "2015-12-13T22:00:00",
          "2015-12-13T23:00:00",
          "2015-12-14T00:00:00",
          "2015-12-14T01:00:00",
          "2015-12-14T02:00:00",
          "2015-12-14T03:00:00",
          "2015-12-14T04:00:00",
          "2015-12-14T05:00:00",
          "2015-12-14T06:00:00",
          "2015-12-14T07:00:00",
          "2015-12-14T08:00:00",
          "2015-12-14T09:00:00",
          "2015-12-14T10:00:00",
          "2015-12-14T11:00:00",
          "2015-12-14T12:00:00",
          "2015-12-14T13:00:00",
          "2015-12-14T14:00:00",
          "2015-12-14T15:00:00",
          "2015-12-14T16:00:00",
          "2015-12-14T17:00:00",
          "2015-12-14T18:00:00",
          "2015-12-14T19:00:00",
          "2015-12-14T20:00:00",
          "2015-12-14T21:00:00",
          "2015-12-14T22:00:00",
          "2015-12-14T23:00:00",
          "2015-12-15T00:00:00",
          "2015-12-15T01:00:00",
          "2015-12-15T02:00:00",
          "2015-12-15T03:00:00",
          "2015-12-15T04:00:00",
          "2015-12-15T05:00:00",
          "2015-12-15T06:00:00",
          "2015-12-15T07:00:00",
          "2015-12-15T08:00:00",
          "2015-12-15T09:00:00",
          "2015-12-15T10:00:00",
          "2015-12-15T11:00:00",
          "2015-12-15T12:00:00",
          "2015-12-15T13:00:00",
          "2015-12-15T14:00:00",
          "2015-12-15T15:00:00",
          "2015-12-15T16:00:00",
          "2015-12-15T17:00:00",
          "2015-12-15T18:00:00",
          "2015-12-15T19:00:00",
          "2015-12-15T20:00:00",
          "2015-12-15T21:00:00",
          "2015-12-15T22:00:00",
          "2015-12-15T23:00:00",
          "2015-12-16T00:00:00",
          "2015-12-16T01:00:00",
          "2015-12-16T02:00:00",
          "2015-12-16T03:00:00",
          "2015-12-16T04:00:00",
          "2015-12-16T05:00:00",
          "2015-12-16T06:00:00",
          "2015-12-16T07:00:00",
          "2015-12-16T08:00:00",
          "2015-12-16T09:00:00",
          "2015-12-16T10:00:00",
          "2015-12-16T11:00:00",
          "2015-12-16T12:00:00",
          "2015-12-16T13:00:00",
          "2015-12-16T14:00:00",
          "2015-12-16T15:00:00",
          "2015-12-16T16:00:00",
          "2015-12-16T17:00:00",
          "2015-12-16T18:00:00",
          "2015-12-16T19:00:00",
          "2015-12-16T20:00:00",
          "2015-12-16T21:00:00",
          "2015-12-16T22:00:00",
          "2015-12-16T23:00:00",
          "2015-12-17T00:00:00",
          "2015-12-17T01:00:00",
          "2015-12-17T02:00:00",
          "2015-12-17T03:00:00",
          "2015-12-17T04:00:00",
          "2015-12-17T05:00:00",
          "2015-12-17T06:00:00",
          "2015-12-17T07:00:00",
          "2015-12-17T08:00:00",
          "2015-12-17T09:00:00",
          "2015-12-17T10:00:00",
          "2015-12-17T11:00:00",
          "2015-12-17T12:00:00",
          "2015-12-17T13:00:00",
          "2015-12-17T14:00:00",
          "2015-12-17T15:00:00",
          "2015-12-17T16:00:00",
          "2015-12-17T17:00:00",
          "2015-12-17T18:00:00",
          "2015-12-17T19:00:00",
          "2015-12-17T20:00:00",
          "2015-12-17T21:00:00",
          "2015-12-17T22:00:00",
          "2015-12-17T23:00:00"
         ],
         "y": [
          0.949869297798,
          0.9277888828090002,
          0.9467482550599999,
          0.63409285059,
          0.42023027615799996,
          0.718794492195,
          1.8710077970670003,
          1.2273514921710003,
          0.9065279386180001,
          0.565119594274,
          0.572043842448,
          0.5638832696460001,
          0.571712211356,
          0.5590932010590002,
          0.573889458368,
          0.47953198928199997,
          0.7186372642420001,
          0.5034476775410001,
          1.2675691029310001,
          0.7544080495210002,
          0.7521499445840002,
          1.0167203323640002,
          0.6221347469590001,
          0.7557137011860001,
          0.416238753648,
          0.7435655633770001,
          1.094675658885,
          1.127436823416,
          1.1371340711440001,
          1.1227207190239998,
          1.151493781567,
          1.161921352899,
          2.4768862505110003,
          2.296568643853,
          1.830192574062,
          0.693862653815,
          1.0527516196349997,
          1.4180049346909998,
          0.9163431359700002,
          0.7439562872680001,
          0.531127785045,
          0.7859068239170002,
          1.8638785668089999,
          1.8885453728659998,
          1.5842633325329996,
          0.9028835703970001,
          0.9447572077440001,
          0.5426657933990001,
          0.403965301711,
          0.41606720976899997,
          0.40850303888600004,
          0.41751356443199994,
          0.406951634174,
          0.702144277165,
          1.2371735731490001,
          0.960937895443,
          1.848829149013,
          2.4145599630779997,
          1.548029307899,
          0.7037037436300001,
          0.938089120566,
          0.6274441500030001,
          1.487736730285,
          0.5797107727590001,
          0.7901263949720001,
          1.203591769184,
          2.1059200404319998,
          1.2752265024689997,
          0.821919532238,
          1.5878371901460002,
          1.2671585417459998,
          1.4163363220139997,
          1.69387981869,
          1.5254844862749999,
          1.361278677542,
          1.5707030391809997,
          1.4234894970639995,
          1.7428141913000001,
          2.875564722161,
          2.3559472348690003,
          1.3920907957050002,
          0.619320598877,
          0.5829453433780001,
          0.6666673675130002,
          0.6611357508389999,
          0.6642929640890001,
          1.046499844541,
          0.5765207572270001,
          1.291373869219,
          1.8216196842669998,
          2.2221741444929997,
          1.2209782682119998,
          1.4483180066790002,
          1.826687609054,
          1.6867500110590001,
          1.7132011926439998,
          1.459305003688,
          1.3938799247290001,
          1.3784928563339998,
          1.4198036572189998,
          1.4031777225389996,
          1.4050652510739998,
          2.650263982856,
          1.3472311368830001,
          1.1696611025919998,
          0.896093342108,
          0.8530109934960002,
          0.8552462861230001,
          0.8536419267500001,
          1.157398287728,
          0.8979008034789999,
          1.2273823165139996,
          1.1861609209159996,
          1.1753701508049998,
          1.7154693561999999,
          1.7966457857180003,
          1.466529984713,
          1.8098145762509998,
          1.660698560161,
          1.2078720101729998,
          1.3183312587959999,
          1.6802156277229998,
          1.731297767488,
          1.6521172448419998,
          1.6123038348319998,
          1.6348725571849998,
          2.9689954888090004,
          1.599893327546,
          1.253116888103,
          1.6271055299139996,
          1.3529826602360002,
          1.3537280788200003,
          1.3259627356719998,
          1.3477669381969999,
          1.3861313016520003,
          1.259486455025,
          1.2000792332729997,
          1.175174418093,
          2.0277146697800004,
          1.5546122525769999,
          1.7718813295259996,
          1.8254412490630003,
          1.3369993063289998,
          1.190385531267,
          1.128756305898,
          1.1342001813290001,
          1.472525694398,
          1.1380448722029997,
          1.13624392701,
          1.1444280059399998,
          2.6672422043400004,
          1.89321409298,
          1.22829645278,
          1.311277889883,
          1.2888982092019998,
          1.2991642840359998,
          1.637894255441,
          1.280877683593,
          1.3179027677680002,
          1.201978127184,
          1.1352165522040003,
          1.171238426685,
          1.7724155554840002,
          1.6227266226640003,
          1.428313719873,
          1.7788230320129998,
          1.594801155298,
          1.1430761092060002,
          1.117777510617,
          1.118660583155,
          1.135621969638,
          1.1137438791999998,
          1.1328104129179997,
          1.107691200712,
          2.627597559095,
          1.738258295537,
          1.192411045468,
          1.215214038254,
          1.309266381939,
          1.268403086377,
          1.2821148952520003,
          1.272398177147,
          1.202462502869,
          1.5661101499219998,
          1.118353477871,
          1.1274805469199998,
          2.008957102806,
          1.478071204028,
          1.4455324986289997,
          1.7439777700749999,
          1.314022938638,
          1.4924452590869999,
          1.0959923972869998,
          1.134717306002,
          1.1156027000439996,
          1.126129043016,
          1.1202943278639999,
          1.1205385819139997,
          1.1207610274659998,
          1.115014817884,
          2.753090679956,
          2.8562496519710003,
          2.428693450512,
          1.382603784628,
          1.6654707378640001,
          2.2590623911630003,
          1.8691114943839997,
          1.2729404499159997,
          1.246421083448,
          1.4681880102339997,
          2.2792299076680003,
          2.694650710831,
          2.3115589100480003,
          1.8476256872019998,
          1.890779526425,
          1.38091952085,
          1.373295628416,
          1.1314592609949998,
          1.1173113791379998,
          1.1277640612849997,
          1.1251381573979997,
          1.120861650852,
          1.1280074029299998,
          1.116975802,
          2.6399493557120004,
          3.09304043995,
          2.390264294488001,
          1.2293593512440002,
          1.530979433528,
          1.4976141605739997,
          2.2303065781990004,
          1.407818209151,
          1.2843717302570001,
          1.2586900579759999,
          2.1192329636460006,
          1.9799685167419998,
          1.3917528738379998,
          1.8002103626999997,
          1.406388020206,
          1.478099184011,
          1.1500002742119995,
          1.164990358555,
          1.17087079065,
          1.154035834594,
          1.175126133959,
          1.1915382693929997,
          2.7814928856519994,
          2.5751302377550007,
          1.9751403985020004,
          1.1608305900779998,
          1.1639070364259998,
          1.1650718865049998,
          1.1572449706549999,
          1.171813629138,
          1.1501375047,
          1.191498596563,
          1.4685664092679998,
          1.6146678927299998,
          2.275142891905,
          2.135181026321,
          1.531649197634,
          1.76187593898,
          1.6285561591580002,
          1.128062514403,
          1.100972367025,
          1.4063608466949997,
          1.48959723609,
          1.2760739382739998,
          1.8806290698750001,
          1.308898796756,
          2.6174906024010003,
          2.003062327536,
          1.94053547254,
          1.273919665217,
          1.4740097708829998,
          1.6575901232449999,
          1.2842336593159998,
          1.10912825302,
          1.435606781023,
          1.181490035623,
          1.7247540476519996,
          1.5449285338269996,
          1.5383517591450002,
          1.8025033876060002,
          1.490597302228,
          1.8105260305039996,
          1.9683244220020002,
          1.333131271188,
          1.113807909672,
          1.148535439026,
          1.449345177336,
          1.144656975858,
          1.1206720086870001,
          1.5792684167620001,
          2.767952262734,
          2.0227336216580003,
          1.3262363779640003,
          1.10811244798,
          1.1431509835059999,
          1.3841938491139998,
          1.1158273521890003,
          1.110796949995,
          1.115762090258,
          1.2652532041389999,
          1.1067453241289997,
          1.111033711861,
          1.935000933574,
          2.127881803397001,
          2.7619284403149997,
          2.4220036431550005,
          1.950427736816,
          1.5318246004189997,
          1.082618766442,
          1.1206475025809999,
          1.1657844555849999,
          1.13287877092,
          1.10152148985,
          1.267038036673,
          2.7237851687759997,
          2.351884526053,
          1.914164574451,
          1.5555017944489997,
          1.266368589151,
          1.293530500792,
          1.280645815887,
          1.2976791111209998,
          1.2644012422770001,
          1.1339479386750002,
          1.444456523141,
          1.1603290390639998,
          1.5301264918369997,
          1.5605004498910002,
          1.6513330847069998,
          1.626576198611,
          1.7327500184649998,
          1.1612503842409998,
          1.096506040112,
          1.161985794168,
          1.567273621123,
          1.6568261188509996,
          1.4868509896339999,
          1.463597399799,
          2.677894739038,
          1.999754374862,
          1.241192636352,
          1.3581138154729997,
          1.606071387174,
          1.294751894068,
          1.2819611927199999,
          1.315728473637,
          1.7039246043410001,
          1.2067309499580001,
          1.149090924386,
          1.165605452159,
          1.9584149587880002,
          1.631369123514,
          1.472319271365,
          1.8115001412440002,
          1.3522834168179998,
          1.566877114395,
          1.1402802959759997,
          1.307052435521,
          1.8045247537789997,
          2.1104050670679997,
          1.83613203824,
          1.943383533043,
          1.925924802295,
          1.706646983449,
          3.2881768190580005,
          3.0630786788149997,
          2.617524466613,
          1.478911032572,
          1.935192779091,
          2.115073724877,
          1.4186423523299998,
          1.4010218711529998,
          1.2930219250339998,
          1.6630929086149997,
          2.479041436279,
          2.6594066937690006,
          2.1163747215139996,
          1.623761629553,
          1.692209229207,
          1.2777813042359996,
          1.1497709816609998,
          1.1503282296899997,
          1.1642915525699997,
          1.14945316168,
          1.4002200131979998,
          1.229282865714,
          1.915930148226,
          2.064671012541,
          3.0050152602080007,
          3.2082686737899992,
          2.4000247404420003,
          1.444692488286,
          1.8391671755689998,
          1.510150406646,
          2.216535921754,
          1.3261458771919998,
          1.2644074201870001,
          1.2512309937569999,
          2.101638186299,
          1.418167040657,
          1.3773022908580002,
          1.683399031437,
          1.3387387817519998,
          1.219863022209,
          1.3965802133949998,
          1.167120028049,
          1.148078483193,
          1.1587989088419997,
          1.142900685734,
          1.155179593357,
          2.582842869071999,
          2.095288736904,
          1.2544017826859997,
          1.3127338928330001,
          1.3130049237139998,
          1.3093733160280001,
          1.4934894902289997,
          1.5940320530699998,
          1.2728555512389998,
          1.1956198214829998,
          1.111666062228,
          1.1080657181359999,
          2.0051475845,
          1.517834793148,
          1.443000420796,
          1.7002776994909998,
          1.26504918756,
          1.1611109106900002,
          1.0909237874339999,
          1.4258493674029997,
          1.1129002742389997,
          1.124564136494,
          1.133799660701,
          1.097227729599,
          2.5859680002669996,
          1.8173758371520004,
          1.290988869453,
          1.6498252980389998,
          1.64280359462,
          1.3034869082549998,
          1.2661495869769999,
          1.2750379010079997,
          1.116025925077,
          1.5116589434889998,
          1.4243322995940002,
          1.109181435681,
          1.5682707412560002,
          1.7627760332509996,
          1.4217808724680001,
          1.7277844346899998,
          1.6470939693900002,
          1.1401315158050003,
          1.095963204762,
          1.131836338188,
          1.0982441251219999,
          1.1249653187000002,
          1.096871907223,
          1.2755350105389998,
          3.010568690625001,
          1.5850947875359997,
          1.3307302087719997,
          1.6949197698660001,
          1.6054160345459998,
          1.432583217011,
          1.287236704222,
          1.4046151007139998,
          1.198180897952,
          1.5217882245139998,
          1.5784075524740002,
          1.2692510873879999,
          2.094806157806,
          1.8972599690059997,
          2.1258257577470006,
          2.236049390488,
          2.007671559598,
          1.147401783148,
          0.0,
          0.0,
          0.0,
          0.0,
          0.0,
          0.0,
          0.0,
          0.0,
          0.0,
          0.0,
          0.0,
          0.0,
          0.0,
          0.0,
          0.0,
          0.0,
          0.0,
          1.128460901572,
          1.507381452178,
          1.643893916073,
          1.508729902763,
          1.67858184694,
          1.6361765212139996,
          1.1337280627739998,
          1.090494982875,
          1.103319964283,
          1.112095409036,
          1.0941638266829998,
          1.1106992064149999,
          1.0902584358910001,
          2.6395122894419996,
          1.8778005883059998,
          1.1773761498410003,
          1.1506166635060002,
          1.1143810554559999,
          1.2607175179240002,
          1.23593900938,
          1.447379710898,
          1.14002002886,
          1.2770574857619996,
          1.099888166933,
          1.1251276893670001,
          2.0417396610120004,
          1.829967756322,
          1.4311168365850002,
          1.8010840738790002,
          1.4510167315109999,
          1.3953935763049998,
          1.102728541308,
          1.1140895194479996,
          1.4220553713319999,
          1.1104162074319999,
          1.126499977118,
          1.1010882634590002,
          1.122889940026,
          1.1032019976320002,
          2.575845126914,
          3.039587996094,
          2.5787128487349995,
          1.4003469176299999,
          1.7577650691659998,
          2.558010312007,
          2.1057227188480008,
          1.4140415244980002,
          1.2173526747349999,
          1.4681613459909997,
          2.367909291844,
          2.564286836824,
          2.414172130372,
          1.5545698011340001,
          1.7260508482,
          1.2193143128590003,
          1.209555181022,
          1.2659026834570002,
          1.1175076425440003,
          1.099484917413,
          1.1146991037369998,
          1.0996345445740001,
          1.112409065376,
          1.095435328514,
          2.543393119708,
          3.071295026485,
          2.467911426024,
          1.650201988172,
          2.16854704511,
          2.035490280797,
          2.8992150236140004,
          1.7542361992639999,
          1.355343687184,
          1.2078455862030002,
          2.349078807739,
          1.9901885358629998,
          1.6009721606979999,
          1.8418479565650003,
          1.419656407056,
          1.1628238155839998,
          1.078815446007,
          1.4064110109099996,
          1.099601820954,
          1.1794497235930002,
          1.1091107461499998,
          1.0967149080929999,
          2.6409416692830003,
          2.618936821054,
          1.6275931796720002,
          1.095398116549,
          1.120725692261,
          1.192969477618,
          1.393799379968,
          1.520990892787,
          1.3716110194850002,
          1.332830798872,
          1.1097245851439999,
          1.2348686105239999,
          2.333307912524,
          2.0647585002740003,
          2.1827455829969997,
          1.8416371280019999,
          1.788314426842,
          1.344815342277,
          1.2243379466300002,
          1.1305758826120003,
          1.1674375295719999,
          1.1383350406739998,
          1.110752778882,
          1.4580999352700001,
          2.767562063922,
          2.2519134162559995,
          1.8487295321469999,
          1.203658595169,
          1.2956814088999997,
          0.9464403730729999,
          0.754925427978,
          0.691378275559,
          0.99048789637,
          0.6648232709670001,
          0.8718711131610001,
          0.4432066051880001,
          0.8218272627490001,
          1.0037234477210002,
          0.798113721645,
          1.054654587922,
          1.077436846078,
          0.45592156077100005,
          0.419724932139,
          0.42575558282799997,
          0.435434933897,
          0.40612708724700003,
          0.46992912724099994,
          0.47784057738599994,
          2.0069636264410007,
          1.0521983295289998,
          0.772769128703,
          0.51748403379,
          0.882336159146,
          0.7833420802920001,
          0.5923892962,
          0.609410045057,
          0.5782267790090001,
          0.5056494801410001,
          0.41695138549099997,
          0.42911992487000006,
          1.3002202720559999,
          1.057369718726,
          1.232209337658,
          1.446723593812,
          0.6062299124770001,
          0.473526351078,
          0.402861108722,
          0.42315300916000004,
          0.40072148642699995,
          0.674223598127,
          0.514426642321,
          0.41966081611800005,
          1.9397857011020003,
          1.3439398364119999,
          0.5149278484650001,
          0.41987179956600007,
          0.638860681987,
          1.108632746349,
          0.693649992735,
          0.7447666991490002,
          0.578620881431,
          0.6805632523340001,
          0.602484243762,
          1.0805544222519998,
          0.8187994067649998,
          0.901992652648,
          0.929487232463,
          1.05344352201,
          1.240889301344,
          1.0935276180190001
         ],
         "type": "scattergl"
        },
        {
         "line": {
          "color": "rgb(234,143,129)"
         },
         "name": "Observed",
         "x": [
          "2015-12-18T00:00:00",
          "2015-12-18T01:00:00",
          "2015-12-18T02:00:00",
          "2015-12-18T03:00:00",
          "2015-12-18T04:00:00",
          "2015-12-18T05:00:00",
          "2015-12-18T06:00:00",
          "2015-12-18T07:00:00",
          "2015-12-18T08:00:00",
          "2015-12-18T09:00:00",
          "2015-12-18T10:00:00",
          "2015-12-18T11:00:00",
          "2015-12-18T12:00:00",
          "2015-12-18T13:00:00",
          "2015-12-18T14:00:00",
          "2015-12-18T15:00:00",
          "2015-12-18T16:00:00",
          "2015-12-18T17:00:00",
          "2015-12-18T18:00:00",
          "2015-12-18T19:00:00",
          "2015-12-18T20:00:00",
          "2015-12-18T21:00:00",
          "2015-12-18T22:00:00",
          "2015-12-18T23:00:00",
          "2015-12-19T00:00:00",
          "2015-12-19T01:00:00",
          "2015-12-19T02:00:00",
          "2015-12-19T03:00:00",
          "2015-12-19T04:00:00",
          "2015-12-19T05:00:00",
          "2015-12-19T06:00:00",
          "2015-12-19T07:00:00",
          "2015-12-19T08:00:00",
          "2015-12-19T09:00:00",
          "2015-12-19T10:00:00",
          "2015-12-19T11:00:00",
          "2015-12-19T12:00:00",
          "2015-12-19T13:00:00",
          "2015-12-19T14:00:00",
          "2015-12-19T15:00:00",
          "2015-12-19T16:00:00",
          "2015-12-19T17:00:00",
          "2015-12-19T18:00:00",
          "2015-12-19T19:00:00",
          "2015-12-19T20:00:00",
          "2015-12-19T21:00:00",
          "2015-12-19T22:00:00",
          "2015-12-19T23:00:00",
          "2015-12-20T00:00:00",
          "2015-12-20T01:00:00",
          "2015-12-20T02:00:00",
          "2015-12-20T03:00:00",
          "2015-12-20T04:00:00",
          "2015-12-20T05:00:00",
          "2015-12-20T06:00:00",
          "2015-12-20T07:00:00",
          "2015-12-20T08:00:00",
          "2015-12-20T09:00:00",
          "2015-12-20T10:00:00",
          "2015-12-20T11:00:00",
          "2015-12-20T12:00:00",
          "2015-12-20T13:00:00",
          "2015-12-20T14:00:00",
          "2015-12-20T15:00:00",
          "2015-12-20T16:00:00",
          "2015-12-20T17:00:00",
          "2015-12-20T18:00:00",
          "2015-12-20T19:00:00",
          "2015-12-20T20:00:00",
          "2015-12-20T21:00:00",
          "2015-12-20T22:00:00",
          "2015-12-20T23:00:00"
         ],
         "y": [
          0.754180921443,
          0.7405540596239999,
          0.8567951627600001,
          0.8153294508250001,
          0.9231951977470001,
          1.1928405265959998,
          1.972185366074,
          1.365958294598,
          1.62046755331,
          1.1053420365839997,
          0.9832868103860001,
          1.254541027759,
          0.921570975197,
          0.899151499215,
          0.989592912681,
          1.156313675008,
          1.258902091146,
          1.383499256833,
          1.816744434906,
          1.495756265267,
          1.088624776172,
          1.7323804545930002,
          1.4535980479719999,
          1.426739098671,
          1.827459596978,
          1.4817598151349998,
          1.522759090537,
          1.52828307858,
          1.517923285094,
          1.6970164122069997,
          1.500882257105,
          1.640961358744,
          1.94347992613,
          1.991435066095,
          1.5971767678089999,
          0.548092850175,
          1.0901597845789999,
          1.8809360195929996,
          1.3969029698720004,
          0.7285445778519999,
          0.7083860584820001,
          1.7339972086849997,
          2.4822865580299993,
          2.699338353268,
          2.3414664223870005,
          1.4239454394009998,
          1.6914244522569994,
          1.433530247663,
          2.0441229255180002,
          1.5578878822239999,
          1.6992446729189998,
          1.503293209188,
          1.6642570686509996,
          1.8252914410069998,
          1.6145604625599999,
          1.6884375377980003,
          2.9365114870150006,
          2.536843478219,
          1.7546387039509999,
          0.7074672313420001,
          1.0918071836449998,
          0.775912127476,
          1.5324791360499996,
          0.57338900507,
          0.545139434205,
          0.4940851731730001,
          1.2853109960170002,
          1.446925645715,
          1.2506394000319996,
          1.505948651618,
          1.139301615752,
          1.1918020737680002
         ],
         "type": "scattergl"
        },
        {
         "line": {
          "color": "rgb(32,115,171)"
         },
         "name": "Predicted",
         "x": [
          "2015-12-18T00:00:00",
          "2015-12-18T01:00:00",
          "2015-12-18T02:00:00",
          "2015-12-18T03:00:00",
          "2015-12-18T04:00:00",
          "2015-12-18T05:00:00",
          "2015-12-18T06:00:00",
          "2015-12-18T07:00:00",
          "2015-12-18T08:00:00",
          "2015-12-18T09:00:00",
          "2015-12-18T10:00:00",
          "2015-12-18T11:00:00",
          "2015-12-18T12:00:00",
          "2015-12-18T13:00:00",
          "2015-12-18T14:00:00",
          "2015-12-18T15:00:00",
          "2015-12-18T16:00:00",
          "2015-12-18T17:00:00",
          "2015-12-18T18:00:00",
          "2015-12-18T19:00:00",
          "2015-12-18T20:00:00",
          "2015-12-18T21:00:00",
          "2015-12-18T22:00:00",
          "2015-12-18T23:00:00",
          "2015-12-19T00:00:00",
          "2015-12-19T01:00:00",
          "2015-12-19T02:00:00",
          "2015-12-19T03:00:00",
          "2015-12-19T04:00:00",
          "2015-12-19T05:00:00",
          "2015-12-19T06:00:00",
          "2015-12-19T07:00:00",
          "2015-12-19T08:00:00",
          "2015-12-19T09:00:00",
          "2015-12-19T10:00:00",
          "2015-12-19T11:00:00",
          "2015-12-19T12:00:00",
          "2015-12-19T13:00:00",
          "2015-12-19T14:00:00",
          "2015-12-19T15:00:00",
          "2015-12-19T16:00:00",
          "2015-12-19T17:00:00",
          "2015-12-19T18:00:00",
          "2015-12-19T19:00:00",
          "2015-12-19T20:00:00",
          "2015-12-19T21:00:00",
          "2015-12-19T22:00:00",
          "2015-12-19T23:00:00",
          "2015-12-20T00:00:00",
          "2015-12-20T01:00:00",
          "2015-12-20T02:00:00",
          "2015-12-20T03:00:00",
          "2015-12-20T04:00:00",
          "2015-12-20T05:00:00",
          "2015-12-20T06:00:00",
          "2015-12-20T07:00:00",
          "2015-12-20T08:00:00",
          "2015-12-20T09:00:00",
          "2015-12-20T10:00:00",
          "2015-12-20T11:00:00",
          "2015-12-20T12:00:00",
          "2015-12-20T13:00:00",
          "2015-12-20T14:00:00",
          "2015-12-20T15:00:00",
          "2015-12-20T16:00:00",
          "2015-12-20T17:00:00",
          "2015-12-20T18:00:00",
          "2015-12-20T19:00:00",
          "2015-12-20T20:00:00",
          "2015-12-20T21:00:00",
          "2015-12-20T22:00:00",
          "2015-12-20T23:00:00",
          "2015-12-21T00:00:00"
         ],
         "y": [
          1.0374128851952535,
          0.8948437669047312,
          0.9445021675964638,
          0.8583941081987917,
          0.9251864151989505,
          0.846508063557248,
          0.9183972917057526,
          0.8431158953266731,
          0.9165344288123435,
          0.8422075128280238,
          0.9159353234008097,
          0.8419870864251732,
          0.9157163345436493,
          0.8419712006267249,
          0.9156062182010611,
          0.8420133782277529,
          0.9155275918039502,
          0.8420723427955713,
          0.9154581601262519,
          0.8421360594672673,
          0.9153914623318957,
          0.8422010650887314,
          0.9153256378834138,
          0.8422663594192558,
          0.9152601488230339,
          0.8423316538187315,
          0.9151948397813842,
          0.8423968651262164,
          0.9151296657488591,
          0.8424619694796116,
          0.9150646135835524,
          0.8425269601391715,
          0.9149996793432426,
          0.842591835307364,
          0.9149348617417743,
          0.8426565946132091,
          0.9148701602600449,
          0.8427212380972845,
          0.9148055746006523,
          0.8427857659187159,
          0.9147411045304608,
          0.8428501782705881,
          0.9146767498351513,
          0.8429144753555264,
          0.9146125103061002,
          0.8429786573786477,
          0.9145483857365904,
          0.8430427245455254,
          0.9144843759207171,
          0.8431066770616029,
          0.9144204806530721,
          0.8431705151320247,
          0.914356699728652,
          0.843234238961588,
          0.9142930329428302,
          0.8432978487547291,
          0.9142294800913499,
          0.8433613447155204,
          0.9141660409703204,
          0.8434247270476692,
          0.9141027153762163,
          0.8434879959545187,
          0.9140395031058766,
          0.8435511516390481,
          0.9139764039565036,
          0.8436141943038735,
          0.9139134177256626,
          0.8436771241512482,
          0.9138505442112813,
          0.8437399413830637,
          0.913787783211649,
          0.8438026462008502,
          0.9137251345254158
         ],
         "type": "scattergl"
        }
       ],
       "layout": {
        "template": {
         "data": {
          "bar": [
           {
            "error_x": {
             "color": "#2a3f5f"
            },
            "error_y": {
             "color": "#2a3f5f"
            },
            "marker": {
             "line": {
              "color": "#E5ECF6",
              "width": 0.5
             },
             "pattern": {
              "fillmode": "overlay",
              "size": 10,
              "solidity": 0.2
             }
            },
            "type": "bar"
           }
          ],
          "barpolar": [
           {
            "marker": {
             "line": {
              "color": "#E5ECF6",
              "width": 0.5
             },
             "pattern": {
              "fillmode": "overlay",
              "size": 10,
              "solidity": 0.2
             }
            },
            "type": "barpolar"
           }
          ],
          "carpet": [
           {
            "aaxis": {
             "endlinecolor": "#2a3f5f",
             "gridcolor": "white",
             "linecolor": "white",
             "minorgridcolor": "white",
             "startlinecolor": "#2a3f5f"
            },
            "baxis": {
             "endlinecolor": "#2a3f5f",
             "gridcolor": "white",
             "linecolor": "white",
             "minorgridcolor": "white",
             "startlinecolor": "#2a3f5f"
            },
            "type": "carpet"
           }
          ],
          "choropleth": [
           {
            "colorbar": {
             "outlinewidth": 0,
             "ticks": ""
            },
            "type": "choropleth"
           }
          ],
          "contour": [
           {
            "colorbar": {
             "outlinewidth": 0,
             "ticks": ""
            },
            "colorscale": [
             [
              0.0,
              "#0d0887"
             ],
             [
              0.1111111111111111,
              "#46039f"
             ],
             [
              0.2222222222222222,
              "#7201a8"
             ],
             [
              0.3333333333333333,
              "#9c179e"
             ],
             [
              0.4444444444444444,
              "#bd3786"
             ],
             [
              0.5555555555555556,
              "#d8576b"
             ],
             [
              0.6666666666666666,
              "#ed7953"
             ],
             [
              0.7777777777777778,
              "#fb9f3a"
             ],
             [
              0.8888888888888888,
              "#fdca26"
             ],
             [
              1.0,
              "#f0f921"
             ]
            ],
            "type": "contour"
           }
          ],
          "contourcarpet": [
           {
            "colorbar": {
             "outlinewidth": 0,
             "ticks": ""
            },
            "type": "contourcarpet"
           }
          ],
          "heatmap": [
           {
            "colorbar": {
             "outlinewidth": 0,
             "ticks": ""
            },
            "colorscale": [
             [
              0.0,
              "#0d0887"
             ],
             [
              0.1111111111111111,
              "#46039f"
             ],
             [
              0.2222222222222222,
              "#7201a8"
             ],
             [
              0.3333333333333333,
              "#9c179e"
             ],
             [
              0.4444444444444444,
              "#bd3786"
             ],
             [
              0.5555555555555556,
              "#d8576b"
             ],
             [
              0.6666666666666666,
              "#ed7953"
             ],
             [
              0.7777777777777778,
              "#fb9f3a"
             ],
             [
              0.8888888888888888,
              "#fdca26"
             ],
             [
              1.0,
              "#f0f921"
             ]
            ],
            "type": "heatmap"
           }
          ],
          "heatmapgl": [
           {
            "colorbar": {
             "outlinewidth": 0,
             "ticks": ""
            },
            "colorscale": [
             [
              0.0,
              "#0d0887"
             ],
             [
              0.1111111111111111,
              "#46039f"
             ],
             [
              0.2222222222222222,
              "#7201a8"
             ],
             [
              0.3333333333333333,
              "#9c179e"
             ],
             [
              0.4444444444444444,
              "#bd3786"
             ],
             [
              0.5555555555555556,
              "#d8576b"
             ],
             [
              0.6666666666666666,
              "#ed7953"
             ],
             [
              0.7777777777777778,
              "#fb9f3a"
             ],
             [
              0.8888888888888888,
              "#fdca26"
             ],
             [
              1.0,
              "#f0f921"
             ]
            ],
            "type": "heatmapgl"
           }
          ],
          "histogram": [
           {
            "marker": {
             "pattern": {
              "fillmode": "overlay",
              "size": 10,
              "solidity": 0.2
             }
            },
            "type": "histogram"
           }
          ],
          "histogram2d": [
           {
            "colorbar": {
             "outlinewidth": 0,
             "ticks": ""
            },
            "colorscale": [
             [
              0.0,
              "#0d0887"
             ],
             [
              0.1111111111111111,
              "#46039f"
             ],
             [
              0.2222222222222222,
              "#7201a8"
             ],
             [
              0.3333333333333333,
              "#9c179e"
             ],
             [
              0.4444444444444444,
              "#bd3786"
             ],
             [
              0.5555555555555556,
              "#d8576b"
             ],
             [
              0.6666666666666666,
              "#ed7953"
             ],
             [
              0.7777777777777778,
              "#fb9f3a"
             ],
             [
              0.8888888888888888,
              "#fdca26"
             ],
             [
              1.0,
              "#f0f921"
             ]
            ],
            "type": "histogram2d"
           }
          ],
          "histogram2dcontour": [
           {
            "colorbar": {
             "outlinewidth": 0,
             "ticks": ""
            },
            "colorscale": [
             [
              0.0,
              "#0d0887"
             ],
             [
              0.1111111111111111,
              "#46039f"
             ],
             [
              0.2222222222222222,
              "#7201a8"
             ],
             [
              0.3333333333333333,
              "#9c179e"
             ],
             [
              0.4444444444444444,
              "#bd3786"
             ],
             [
              0.5555555555555556,
              "#d8576b"
             ],
             [
              0.6666666666666666,
              "#ed7953"
             ],
             [
              0.7777777777777778,
              "#fb9f3a"
             ],
             [
              0.8888888888888888,
              "#fdca26"
             ],
             [
              1.0,
              "#f0f921"
             ]
            ],
            "type": "histogram2dcontour"
           }
          ],
          "mesh3d": [
           {
            "colorbar": {
             "outlinewidth": 0,
             "ticks": ""
            },
            "type": "mesh3d"
           }
          ],
          "parcoords": [
           {
            "line": {
             "colorbar": {
              "outlinewidth": 0,
              "ticks": ""
             }
            },
            "type": "parcoords"
           }
          ],
          "pie": [
           {
            "automargin": true,
            "type": "pie"
           }
          ],
          "scatter": [
           {
            "marker": {
             "colorbar": {
              "outlinewidth": 0,
              "ticks": ""
             }
            },
            "type": "scatter"
           }
          ],
          "scatter3d": [
           {
            "line": {
             "colorbar": {
              "outlinewidth": 0,
              "ticks": ""
             }
            },
            "marker": {
             "colorbar": {
              "outlinewidth": 0,
              "ticks": ""
             }
            },
            "type": "scatter3d"
           }
          ],
          "scattercarpet": [
           {
            "marker": {
             "colorbar": {
              "outlinewidth": 0,
              "ticks": ""
             }
            },
            "type": "scattercarpet"
           }
          ],
          "scattergeo": [
           {
            "marker": {
             "colorbar": {
              "outlinewidth": 0,
              "ticks": ""
             }
            },
            "type": "scattergeo"
           }
          ],
          "scattergl": [
           {
            "marker": {
             "colorbar": {
              "outlinewidth": 0,
              "ticks": ""
             }
            },
            "type": "scattergl"
           }
          ],
          "scattermapbox": [
           {
            "marker": {
             "colorbar": {
              "outlinewidth": 0,
              "ticks": ""
             }
            },
            "type": "scattermapbox"
           }
          ],
          "scatterpolar": [
           {
            "marker": {
             "colorbar": {
              "outlinewidth": 0,
              "ticks": ""
             }
            },
            "type": "scatterpolar"
           }
          ],
          "scatterpolargl": [
           {
            "marker": {
             "colorbar": {
              "outlinewidth": 0,
              "ticks": ""
             }
            },
            "type": "scatterpolargl"
           }
          ],
          "scatterternary": [
           {
            "marker": {
             "colorbar": {
              "outlinewidth": 0,
              "ticks": ""
             }
            },
            "type": "scatterternary"
           }
          ],
          "surface": [
           {
            "colorbar": {
             "outlinewidth": 0,
             "ticks": ""
            },
            "colorscale": [
             [
              0.0,
              "#0d0887"
             ],
             [
              0.1111111111111111,
              "#46039f"
             ],
             [
              0.2222222222222222,
              "#7201a8"
             ],
             [
              0.3333333333333333,
              "#9c179e"
             ],
             [
              0.4444444444444444,
              "#bd3786"
             ],
             [
              0.5555555555555556,
              "#d8576b"
             ],
             [
              0.6666666666666666,
              "#ed7953"
             ],
             [
              0.7777777777777778,
              "#fb9f3a"
             ],
             [
              0.8888888888888888,
              "#fdca26"
             ],
             [
              1.0,
              "#f0f921"
             ]
            ],
            "type": "surface"
           }
          ],
          "table": [
           {
            "cells": {
             "fill": {
              "color": "#EBF0F8"
             },
             "line": {
              "color": "white"
             }
            },
            "header": {
             "fill": {
              "color": "#C8D4E3"
             },
             "line": {
              "color": "white"
             }
            },
            "type": "table"
           }
          ]
         },
         "layout": {
          "annotationdefaults": {
           "arrowcolor": "#2a3f5f",
           "arrowhead": 0,
           "arrowwidth": 1
          },
          "autotypenumbers": "strict",
          "coloraxis": {
           "colorbar": {
            "outlinewidth": 0,
            "ticks": ""
           }
          },
          "colorscale": {
           "diverging": [
            [
             0,
             "#8e0152"
            ],
            [
             0.1,
             "#c51b7d"
            ],
            [
             0.2,
             "#de77ae"
            ],
            [
             0.3,
             "#f1b6da"
            ],
            [
             0.4,
             "#fde0ef"
            ],
            [
             0.5,
             "#f7f7f7"
            ],
            [
             0.6,
             "#e6f5d0"
            ],
            [
             0.7,
             "#b8e186"
            ],
            [
             0.8,
             "#7fbc41"
            ],
            [
             0.9,
             "#4d9221"
            ],
            [
             1,
             "#276419"
            ]
           ],
           "sequential": [
            [
             0.0,
             "#0d0887"
            ],
            [
             0.1111111111111111,
             "#46039f"
            ],
            [
             0.2222222222222222,
             "#7201a8"
            ],
            [
             0.3333333333333333,
             "#9c179e"
            ],
            [
             0.4444444444444444,
             "#bd3786"
            ],
            [
             0.5555555555555556,
             "#d8576b"
            ],
            [
             0.6666666666666666,
             "#ed7953"
            ],
            [
             0.7777777777777778,
             "#fb9f3a"
            ],
            [
             0.8888888888888888,
             "#fdca26"
            ],
            [
             1.0,
             "#f0f921"
            ]
           ],
           "sequentialminus": [
            [
             0.0,
             "#0d0887"
            ],
            [
             0.1111111111111111,
             "#46039f"
            ],
            [
             0.2222222222222222,
             "#7201a8"
            ],
            [
             0.3333333333333333,
             "#9c179e"
            ],
            [
             0.4444444444444444,
             "#bd3786"
            ],
            [
             0.5555555555555556,
             "#d8576b"
            ],
            [
             0.6666666666666666,
             "#ed7953"
            ],
            [
             0.7777777777777778,
             "#fb9f3a"
            ],
            [
             0.8888888888888888,
             "#fdca26"
            ],
            [
             1.0,
             "#f0f921"
            ]
           ]
          },
          "colorway": [
           "#636efa",
           "#EF553B",
           "#00cc96",
           "#ab63fa",
           "#FFA15A",
           "#19d3f3",
           "#FF6692",
           "#B6E880",
           "#FF97FF",
           "#FECB52"
          ],
          "font": {
           "color": "#2a3f5f"
          },
          "geo": {
           "bgcolor": "white",
           "lakecolor": "white",
           "landcolor": "#E5ECF6",
           "showlakes": true,
           "showland": true,
           "subunitcolor": "white"
          },
          "hoverlabel": {
           "align": "left"
          },
          "hovermode": "closest",
          "mapbox": {
           "style": "light"
          },
          "paper_bgcolor": "white",
          "plot_bgcolor": "#E5ECF6",
          "polar": {
           "angularaxis": {
            "gridcolor": "white",
            "linecolor": "white",
            "ticks": ""
           },
           "bgcolor": "#E5ECF6",
           "radialaxis": {
            "gridcolor": "white",
            "linecolor": "white",
            "ticks": ""
           }
          },
          "scene": {
           "xaxis": {
            "backgroundcolor": "#E5ECF6",
            "gridcolor": "white",
            "gridwidth": 2,
            "linecolor": "white",
            "showbackground": true,
            "ticks": "",
            "zerolinecolor": "white"
           },
           "yaxis": {
            "backgroundcolor": "#E5ECF6",
            "gridcolor": "white",
            "gridwidth": 2,
            "linecolor": "white",
            "showbackground": true,
            "ticks": "",
            "zerolinecolor": "white"
           },
           "zaxis": {
            "backgroundcolor": "#E5ECF6",
            "gridcolor": "white",
            "gridwidth": 2,
            "linecolor": "white",
            "showbackground": true,
            "ticks": "",
            "zerolinecolor": "white"
           }
          },
          "shapedefaults": {
           "line": {
            "color": "#2a3f5f"
           }
          },
          "ternary": {
           "aaxis": {
            "gridcolor": "white",
            "linecolor": "white",
            "ticks": ""
           },
           "baxis": {
            "gridcolor": "white",
            "linecolor": "white",
            "ticks": ""
           },
           "bgcolor": "#E5ECF6",
           "caxis": {
            "gridcolor": "white",
            "linecolor": "white",
            "ticks": ""
           }
          },
          "title": {
           "x": 0.05
          },
          "xaxis": {
           "automargin": true,
           "gridcolor": "white",
           "linecolor": "white",
           "ticks": "",
           "title": {
            "standoff": 15
           },
           "zerolinecolor": "white",
           "zerolinewidth": 2
          },
          "yaxis": {
           "automargin": true,
           "gridcolor": "white",
           "linecolor": "white",
           "ticks": "",
           "title": {
            "standoff": 15
           },
           "zerolinecolor": "white",
           "zerolinewidth": 2
          }
         }
        },
        "yaxis": {
         "title": {
          "text": "Fixed Consumption [kWh]"
         }
        },
        "legend": {
         "orientation": "h",
         "yanchor": "bottom",
         "y": 1,
         "xanchor": "left",
         "x": 0
        }
       },
       "config": {
        "plotlyServerURL": "https://plot.ly"
       }
      },
      "text/html": "<div>                            <div id=\"9bdca7ce-93d0-4c24-b5a6-b708f0c68131\" class=\"plotly-graph-div\" style=\"height:525px; width:100%;\"></div>            <script type=\"text/javascript\">                require([\"plotly\"], function(Plotly) {                    window.PLOTLYENV=window.PLOTLYENV || {};                                    if (document.getElementById(\"9bdca7ce-93d0-4c24-b5a6-b708f0c68131\")) {                    Plotly.newPlot(                        \"9bdca7ce-93d0-4c24-b5a6-b708f0c68131\",                        [{\"line\":{\"color\":\"rgb(84, 84, 84)\"},\"name\":\"Training Data\",\"x\":[\"2015-11-20T00:00:00\",\"2015-11-20T01:00:00\",\"2015-11-20T02:00:00\",\"2015-11-20T03:00:00\",\"2015-11-20T04:00:00\",\"2015-11-20T05:00:00\",\"2015-11-20T06:00:00\",\"2015-11-20T07:00:00\",\"2015-11-20T08:00:00\",\"2015-11-20T09:00:00\",\"2015-11-20T10:00:00\",\"2015-11-20T11:00:00\",\"2015-11-20T12:00:00\",\"2015-11-20T13:00:00\",\"2015-11-20T14:00:00\",\"2015-11-20T15:00:00\",\"2015-11-20T16:00:00\",\"2015-11-20T17:00:00\",\"2015-11-20T18:00:00\",\"2015-11-20T19:00:00\",\"2015-11-20T20:00:00\",\"2015-11-20T21:00:00\",\"2015-11-20T22:00:00\",\"2015-11-20T23:00:00\",\"2015-11-21T00:00:00\",\"2015-11-21T01:00:00\",\"2015-11-21T02:00:00\",\"2015-11-21T03:00:00\",\"2015-11-21T04:00:00\",\"2015-11-21T05:00:00\",\"2015-11-21T06:00:00\",\"2015-11-21T07:00:00\",\"2015-11-21T08:00:00\",\"2015-11-21T09:00:00\",\"2015-11-21T10:00:00\",\"2015-11-21T11:00:00\",\"2015-11-21T12:00:00\",\"2015-11-21T13:00:00\",\"2015-11-21T14:00:00\",\"2015-11-21T15:00:00\",\"2015-11-21T16:00:00\",\"2015-11-21T17:00:00\",\"2015-11-21T18:00:00\",\"2015-11-21T19:00:00\",\"2015-11-21T20:00:00\",\"2015-11-21T21:00:00\",\"2015-11-21T22:00:00\",\"2015-11-21T23:00:00\",\"2015-11-22T00:00:00\",\"2015-11-22T01:00:00\",\"2015-11-22T02:00:00\",\"2015-11-22T03:00:00\",\"2015-11-22T04:00:00\",\"2015-11-22T05:00:00\",\"2015-11-22T06:00:00\",\"2015-11-22T07:00:00\",\"2015-11-22T08:00:00\",\"2015-11-22T09:00:00\",\"2015-11-22T10:00:00\",\"2015-11-22T11:00:00\",\"2015-11-22T12:00:00\",\"2015-11-22T13:00:00\",\"2015-11-22T14:00:00\",\"2015-11-22T15:00:00\",\"2015-11-22T16:00:00\",\"2015-11-22T17:00:00\",\"2015-11-22T18:00:00\",\"2015-11-22T19:00:00\",\"2015-11-22T20:00:00\",\"2015-11-22T21:00:00\",\"2015-11-22T22:00:00\",\"2015-11-22T23:00:00\",\"2015-11-23T00:00:00\",\"2015-11-23T01:00:00\",\"2015-11-23T02:00:00\",\"2015-11-23T03:00:00\",\"2015-11-23T04:00:00\",\"2015-11-23T05:00:00\",\"2015-11-23T06:00:00\",\"2015-11-23T07:00:00\",\"2015-11-23T08:00:00\",\"2015-11-23T09:00:00\",\"2015-11-23T10:00:00\",\"2015-11-23T11:00:00\",\"2015-11-23T12:00:00\",\"2015-11-23T13:00:00\",\"2015-11-23T14:00:00\",\"2015-11-23T15:00:00\",\"2015-11-23T16:00:00\",\"2015-11-23T17:00:00\",\"2015-11-23T18:00:00\",\"2015-11-23T19:00:00\",\"2015-11-23T20:00:00\",\"2015-11-23T21:00:00\",\"2015-11-23T22:00:00\",\"2015-11-23T23:00:00\",\"2015-11-24T00:00:00\",\"2015-11-24T01:00:00\",\"2015-11-24T02:00:00\",\"2015-11-24T03:00:00\",\"2015-11-24T04:00:00\",\"2015-11-24T05:00:00\",\"2015-11-24T06:00:00\",\"2015-11-24T07:00:00\",\"2015-11-24T08:00:00\",\"2015-11-24T09:00:00\",\"2015-11-24T10:00:00\",\"2015-11-24T11:00:00\",\"2015-11-24T12:00:00\",\"2015-11-24T13:00:00\",\"2015-11-24T14:00:00\",\"2015-11-24T15:00:00\",\"2015-11-24T16:00:00\",\"2015-11-24T17:00:00\",\"2015-11-24T18:00:00\",\"2015-11-24T19:00:00\",\"2015-11-24T20:00:00\",\"2015-11-24T21:00:00\",\"2015-11-24T22:00:00\",\"2015-11-24T23:00:00\",\"2015-11-25T00:00:00\",\"2015-11-25T01:00:00\",\"2015-11-25T02:00:00\",\"2015-11-25T03:00:00\",\"2015-11-25T04:00:00\",\"2015-11-25T05:00:00\",\"2015-11-25T06:00:00\",\"2015-11-25T07:00:00\",\"2015-11-25T08:00:00\",\"2015-11-25T09:00:00\",\"2015-11-25T10:00:00\",\"2015-11-25T11:00:00\",\"2015-11-25T12:00:00\",\"2015-11-25T13:00:00\",\"2015-11-25T14:00:00\",\"2015-11-25T15:00:00\",\"2015-11-25T16:00:00\",\"2015-11-25T17:00:00\",\"2015-11-25T18:00:00\",\"2015-11-25T19:00:00\",\"2015-11-25T20:00:00\",\"2015-11-25T21:00:00\",\"2015-11-25T22:00:00\",\"2015-11-25T23:00:00\",\"2015-11-26T00:00:00\",\"2015-11-26T01:00:00\",\"2015-11-26T02:00:00\",\"2015-11-26T03:00:00\",\"2015-11-26T04:00:00\",\"2015-11-26T05:00:00\",\"2015-11-26T06:00:00\",\"2015-11-26T07:00:00\",\"2015-11-26T08:00:00\",\"2015-11-26T09:00:00\",\"2015-11-26T10:00:00\",\"2015-11-26T11:00:00\",\"2015-11-26T12:00:00\",\"2015-11-26T13:00:00\",\"2015-11-26T14:00:00\",\"2015-11-26T15:00:00\",\"2015-11-26T16:00:00\",\"2015-11-26T17:00:00\",\"2015-11-26T18:00:00\",\"2015-11-26T19:00:00\",\"2015-11-26T20:00:00\",\"2015-11-26T21:00:00\",\"2015-11-26T22:00:00\",\"2015-11-26T23:00:00\",\"2015-11-27T00:00:00\",\"2015-11-27T01:00:00\",\"2015-11-27T02:00:00\",\"2015-11-27T03:00:00\",\"2015-11-27T04:00:00\",\"2015-11-27T05:00:00\",\"2015-11-27T06:00:00\",\"2015-11-27T07:00:00\",\"2015-11-27T08:00:00\",\"2015-11-27T09:00:00\",\"2015-11-27T10:00:00\",\"2015-11-27T11:00:00\",\"2015-11-27T12:00:00\",\"2015-11-27T13:00:00\",\"2015-11-27T14:00:00\",\"2015-11-27T15:00:00\",\"2015-11-27T16:00:00\",\"2015-11-27T17:00:00\",\"2015-11-27T18:00:00\",\"2015-11-27T19:00:00\",\"2015-11-27T20:00:00\",\"2015-11-27T21:00:00\",\"2015-11-27T22:00:00\",\"2015-11-27T23:00:00\",\"2015-11-28T00:00:00\",\"2015-11-28T01:00:00\",\"2015-11-28T02:00:00\",\"2015-11-28T03:00:00\",\"2015-11-28T04:00:00\",\"2015-11-28T05:00:00\",\"2015-11-28T06:00:00\",\"2015-11-28T07:00:00\",\"2015-11-28T08:00:00\",\"2015-11-28T09:00:00\",\"2015-11-28T10:00:00\",\"2015-11-28T11:00:00\",\"2015-11-28T12:00:00\",\"2015-11-28T13:00:00\",\"2015-11-28T14:00:00\",\"2015-11-28T15:00:00\",\"2015-11-28T16:00:00\",\"2015-11-28T17:00:00\",\"2015-11-28T18:00:00\",\"2015-11-28T19:00:00\",\"2015-11-28T20:00:00\",\"2015-11-28T21:00:00\",\"2015-11-28T22:00:00\",\"2015-11-28T23:00:00\",\"2015-11-29T00:00:00\",\"2015-11-29T01:00:00\",\"2015-11-29T02:00:00\",\"2015-11-29T03:00:00\",\"2015-11-29T04:00:00\",\"2015-11-29T05:00:00\",\"2015-11-29T06:00:00\",\"2015-11-29T07:00:00\",\"2015-11-29T08:00:00\",\"2015-11-29T09:00:00\",\"2015-11-29T10:00:00\",\"2015-11-29T11:00:00\",\"2015-11-29T12:00:00\",\"2015-11-29T13:00:00\",\"2015-11-29T14:00:00\",\"2015-11-29T15:00:00\",\"2015-11-29T16:00:00\",\"2015-11-29T17:00:00\",\"2015-11-29T18:00:00\",\"2015-11-29T19:00:00\",\"2015-11-29T20:00:00\",\"2015-11-29T21:00:00\",\"2015-11-29T22:00:00\",\"2015-11-29T23:00:00\",\"2015-11-30T00:00:00\",\"2015-11-30T01:00:00\",\"2015-11-30T02:00:00\",\"2015-11-30T03:00:00\",\"2015-11-30T04:00:00\",\"2015-11-30T05:00:00\",\"2015-11-30T06:00:00\",\"2015-11-30T07:00:00\",\"2015-11-30T08:00:00\",\"2015-11-30T09:00:00\",\"2015-11-30T10:00:00\",\"2015-11-30T11:00:00\",\"2015-11-30T12:00:00\",\"2015-11-30T13:00:00\",\"2015-11-30T14:00:00\",\"2015-11-30T15:00:00\",\"2015-11-30T16:00:00\",\"2015-11-30T17:00:00\",\"2015-11-30T18:00:00\",\"2015-11-30T19:00:00\",\"2015-11-30T20:00:00\",\"2015-11-30T21:00:00\",\"2015-11-30T22:00:00\",\"2015-11-30T23:00:00\",\"2015-12-01T00:00:00\",\"2015-12-01T01:00:00\",\"2015-12-01T02:00:00\",\"2015-12-01T03:00:00\",\"2015-12-01T04:00:00\",\"2015-12-01T05:00:00\",\"2015-12-01T06:00:00\",\"2015-12-01T07:00:00\",\"2015-12-01T08:00:00\",\"2015-12-01T09:00:00\",\"2015-12-01T10:00:00\",\"2015-12-01T11:00:00\",\"2015-12-01T12:00:00\",\"2015-12-01T13:00:00\",\"2015-12-01T14:00:00\",\"2015-12-01T15:00:00\",\"2015-12-01T16:00:00\",\"2015-12-01T17:00:00\",\"2015-12-01T18:00:00\",\"2015-12-01T19:00:00\",\"2015-12-01T20:00:00\",\"2015-12-01T21:00:00\",\"2015-12-01T22:00:00\",\"2015-12-01T23:00:00\",\"2015-12-02T00:00:00\",\"2015-12-02T01:00:00\",\"2015-12-02T02:00:00\",\"2015-12-02T03:00:00\",\"2015-12-02T04:00:00\",\"2015-12-02T05:00:00\",\"2015-12-02T06:00:00\",\"2015-12-02T07:00:00\",\"2015-12-02T08:00:00\",\"2015-12-02T09:00:00\",\"2015-12-02T10:00:00\",\"2015-12-02T11:00:00\",\"2015-12-02T12:00:00\",\"2015-12-02T13:00:00\",\"2015-12-02T14:00:00\",\"2015-12-02T15:00:00\",\"2015-12-02T16:00:00\",\"2015-12-02T17:00:00\",\"2015-12-02T18:00:00\",\"2015-12-02T19:00:00\",\"2015-12-02T20:00:00\",\"2015-12-02T21:00:00\",\"2015-12-02T22:00:00\",\"2015-12-02T23:00:00\",\"2015-12-03T00:00:00\",\"2015-12-03T01:00:00\",\"2015-12-03T02:00:00\",\"2015-12-03T03:00:00\",\"2015-12-03T04:00:00\",\"2015-12-03T05:00:00\",\"2015-12-03T06:00:00\",\"2015-12-03T07:00:00\",\"2015-12-03T08:00:00\",\"2015-12-03T09:00:00\",\"2015-12-03T10:00:00\",\"2015-12-03T11:00:00\",\"2015-12-03T12:00:00\",\"2015-12-03T13:00:00\",\"2015-12-03T14:00:00\",\"2015-12-03T15:00:00\",\"2015-12-03T16:00:00\",\"2015-12-03T17:00:00\",\"2015-12-03T18:00:00\",\"2015-12-03T19:00:00\",\"2015-12-03T20:00:00\",\"2015-12-03T21:00:00\",\"2015-12-03T22:00:00\",\"2015-12-03T23:00:00\",\"2015-12-04T00:00:00\",\"2015-12-04T01:00:00\",\"2015-12-04T02:00:00\",\"2015-12-04T03:00:00\",\"2015-12-04T04:00:00\",\"2015-12-04T05:00:00\",\"2015-12-04T06:00:00\",\"2015-12-04T07:00:00\",\"2015-12-04T08:00:00\",\"2015-12-04T09:00:00\",\"2015-12-04T10:00:00\",\"2015-12-04T11:00:00\",\"2015-12-04T12:00:00\",\"2015-12-04T13:00:00\",\"2015-12-04T14:00:00\",\"2015-12-04T15:00:00\",\"2015-12-04T16:00:00\",\"2015-12-04T17:00:00\",\"2015-12-04T18:00:00\",\"2015-12-04T19:00:00\",\"2015-12-04T20:00:00\",\"2015-12-04T21:00:00\",\"2015-12-04T22:00:00\",\"2015-12-04T23:00:00\",\"2015-12-05T00:00:00\",\"2015-12-05T01:00:00\",\"2015-12-05T02:00:00\",\"2015-12-05T03:00:00\",\"2015-12-05T04:00:00\",\"2015-12-05T05:00:00\",\"2015-12-05T06:00:00\",\"2015-12-05T07:00:00\",\"2015-12-05T08:00:00\",\"2015-12-05T09:00:00\",\"2015-12-05T10:00:00\",\"2015-12-05T11:00:00\",\"2015-12-05T12:00:00\",\"2015-12-05T13:00:00\",\"2015-12-05T14:00:00\",\"2015-12-05T15:00:00\",\"2015-12-05T16:00:00\",\"2015-12-05T17:00:00\",\"2015-12-05T18:00:00\",\"2015-12-05T19:00:00\",\"2015-12-05T20:00:00\",\"2015-12-05T21:00:00\",\"2015-12-05T22:00:00\",\"2015-12-05T23:00:00\",\"2015-12-06T00:00:00\",\"2015-12-06T01:00:00\",\"2015-12-06T02:00:00\",\"2015-12-06T03:00:00\",\"2015-12-06T04:00:00\",\"2015-12-06T05:00:00\",\"2015-12-06T06:00:00\",\"2015-12-06T07:00:00\",\"2015-12-06T08:00:00\",\"2015-12-06T09:00:00\",\"2015-12-06T10:00:00\",\"2015-12-06T11:00:00\",\"2015-12-06T12:00:00\",\"2015-12-06T13:00:00\",\"2015-12-06T14:00:00\",\"2015-12-06T15:00:00\",\"2015-12-06T16:00:00\",\"2015-12-06T17:00:00\",\"2015-12-06T18:00:00\",\"2015-12-06T19:00:00\",\"2015-12-06T20:00:00\",\"2015-12-06T21:00:00\",\"2015-12-06T22:00:00\",\"2015-12-06T23:00:00\",\"2015-12-07T00:00:00\",\"2015-12-07T01:00:00\",\"2015-12-07T02:00:00\",\"2015-12-07T03:00:00\",\"2015-12-07T04:00:00\",\"2015-12-07T05:00:00\",\"2015-12-07T06:00:00\",\"2015-12-07T07:00:00\",\"2015-12-07T08:00:00\",\"2015-12-07T09:00:00\",\"2015-12-07T10:00:00\",\"2015-12-07T11:00:00\",\"2015-12-07T12:00:00\",\"2015-12-07T13:00:00\",\"2015-12-07T14:00:00\",\"2015-12-07T15:00:00\",\"2015-12-07T16:00:00\",\"2015-12-07T17:00:00\",\"2015-12-07T18:00:00\",\"2015-12-07T19:00:00\",\"2015-12-07T20:00:00\",\"2015-12-07T21:00:00\",\"2015-12-07T22:00:00\",\"2015-12-07T23:00:00\",\"2015-12-08T00:00:00\",\"2015-12-08T01:00:00\",\"2015-12-08T02:00:00\",\"2015-12-08T03:00:00\",\"2015-12-08T04:00:00\",\"2015-12-08T05:00:00\",\"2015-12-08T06:00:00\",\"2015-12-08T07:00:00\",\"2015-12-08T08:00:00\",\"2015-12-08T09:00:00\",\"2015-12-08T10:00:00\",\"2015-12-08T11:00:00\",\"2015-12-08T12:00:00\",\"2015-12-08T13:00:00\",\"2015-12-08T14:00:00\",\"2015-12-08T15:00:00\",\"2015-12-08T16:00:00\",\"2015-12-08T17:00:00\",\"2015-12-08T18:00:00\",\"2015-12-08T19:00:00\",\"2015-12-08T20:00:00\",\"2015-12-08T21:00:00\",\"2015-12-08T22:00:00\",\"2015-12-08T23:00:00\",\"2015-12-09T00:00:00\",\"2015-12-09T01:00:00\",\"2015-12-09T02:00:00\",\"2015-12-09T03:00:00\",\"2015-12-09T04:00:00\",\"2015-12-09T05:00:00\",\"2015-12-09T06:00:00\",\"2015-12-09T07:00:00\",\"2015-12-09T08:00:00\",\"2015-12-09T09:00:00\",\"2015-12-09T10:00:00\",\"2015-12-09T11:00:00\",\"2015-12-09T12:00:00\",\"2015-12-09T13:00:00\",\"2015-12-09T14:00:00\",\"2015-12-09T15:00:00\",\"2015-12-09T16:00:00\",\"2015-12-09T17:00:00\",\"2015-12-09T18:00:00\",\"2015-12-09T19:00:00\",\"2015-12-09T20:00:00\",\"2015-12-09T21:00:00\",\"2015-12-09T22:00:00\",\"2015-12-09T23:00:00\",\"2015-12-10T00:00:00\",\"2015-12-10T01:00:00\",\"2015-12-10T02:00:00\",\"2015-12-10T03:00:00\",\"2015-12-10T04:00:00\",\"2015-12-10T05:00:00\",\"2015-12-10T06:00:00\",\"2015-12-10T07:00:00\",\"2015-12-10T08:00:00\",\"2015-12-10T09:00:00\",\"2015-12-10T10:00:00\",\"2015-12-10T11:00:00\",\"2015-12-10T12:00:00\",\"2015-12-10T13:00:00\",\"2015-12-10T14:00:00\",\"2015-12-10T15:00:00\",\"2015-12-10T16:00:00\",\"2015-12-10T17:00:00\",\"2015-12-10T18:00:00\",\"2015-12-10T19:00:00\",\"2015-12-10T20:00:00\",\"2015-12-10T21:00:00\",\"2015-12-10T22:00:00\",\"2015-12-10T23:00:00\",\"2015-12-11T00:00:00\",\"2015-12-11T01:00:00\",\"2015-12-11T02:00:00\",\"2015-12-11T03:00:00\",\"2015-12-11T04:00:00\",\"2015-12-11T05:00:00\",\"2015-12-11T06:00:00\",\"2015-12-11T07:00:00\",\"2015-12-11T08:00:00\",\"2015-12-11T09:00:00\",\"2015-12-11T10:00:00\",\"2015-12-11T11:00:00\",\"2015-12-11T12:00:00\",\"2015-12-11T13:00:00\",\"2015-12-11T14:00:00\",\"2015-12-11T15:00:00\",\"2015-12-11T16:00:00\",\"2015-12-11T17:00:00\",\"2015-12-11T18:00:00\",\"2015-12-11T19:00:00\",\"2015-12-11T20:00:00\",\"2015-12-11T21:00:00\",\"2015-12-11T22:00:00\",\"2015-12-11T23:00:00\",\"2015-12-12T00:00:00\",\"2015-12-12T01:00:00\",\"2015-12-12T02:00:00\",\"2015-12-12T03:00:00\",\"2015-12-12T04:00:00\",\"2015-12-12T05:00:00\",\"2015-12-12T06:00:00\",\"2015-12-12T07:00:00\",\"2015-12-12T08:00:00\",\"2015-12-12T09:00:00\",\"2015-12-12T10:00:00\",\"2015-12-12T11:00:00\",\"2015-12-12T12:00:00\",\"2015-12-12T13:00:00\",\"2015-12-12T14:00:00\",\"2015-12-12T15:00:00\",\"2015-12-12T16:00:00\",\"2015-12-12T17:00:00\",\"2015-12-12T18:00:00\",\"2015-12-12T19:00:00\",\"2015-12-12T20:00:00\",\"2015-12-12T21:00:00\",\"2015-12-12T22:00:00\",\"2015-12-12T23:00:00\",\"2015-12-13T00:00:00\",\"2015-12-13T01:00:00\",\"2015-12-13T02:00:00\",\"2015-12-13T03:00:00\",\"2015-12-13T04:00:00\",\"2015-12-13T05:00:00\",\"2015-12-13T06:00:00\",\"2015-12-13T07:00:00\",\"2015-12-13T08:00:00\",\"2015-12-13T09:00:00\",\"2015-12-13T10:00:00\",\"2015-12-13T11:00:00\",\"2015-12-13T12:00:00\",\"2015-12-13T13:00:00\",\"2015-12-13T14:00:00\",\"2015-12-13T15:00:00\",\"2015-12-13T16:00:00\",\"2015-12-13T17:00:00\",\"2015-12-13T18:00:00\",\"2015-12-13T19:00:00\",\"2015-12-13T20:00:00\",\"2015-12-13T21:00:00\",\"2015-12-13T22:00:00\",\"2015-12-13T23:00:00\",\"2015-12-14T00:00:00\",\"2015-12-14T01:00:00\",\"2015-12-14T02:00:00\",\"2015-12-14T03:00:00\",\"2015-12-14T04:00:00\",\"2015-12-14T05:00:00\",\"2015-12-14T06:00:00\",\"2015-12-14T07:00:00\",\"2015-12-14T08:00:00\",\"2015-12-14T09:00:00\",\"2015-12-14T10:00:00\",\"2015-12-14T11:00:00\",\"2015-12-14T12:00:00\",\"2015-12-14T13:00:00\",\"2015-12-14T14:00:00\",\"2015-12-14T15:00:00\",\"2015-12-14T16:00:00\",\"2015-12-14T17:00:00\",\"2015-12-14T18:00:00\",\"2015-12-14T19:00:00\",\"2015-12-14T20:00:00\",\"2015-12-14T21:00:00\",\"2015-12-14T22:00:00\",\"2015-12-14T23:00:00\",\"2015-12-15T00:00:00\",\"2015-12-15T01:00:00\",\"2015-12-15T02:00:00\",\"2015-12-15T03:00:00\",\"2015-12-15T04:00:00\",\"2015-12-15T05:00:00\",\"2015-12-15T06:00:00\",\"2015-12-15T07:00:00\",\"2015-12-15T08:00:00\",\"2015-12-15T09:00:00\",\"2015-12-15T10:00:00\",\"2015-12-15T11:00:00\",\"2015-12-15T12:00:00\",\"2015-12-15T13:00:00\",\"2015-12-15T14:00:00\",\"2015-12-15T15:00:00\",\"2015-12-15T16:00:00\",\"2015-12-15T17:00:00\",\"2015-12-15T18:00:00\",\"2015-12-15T19:00:00\",\"2015-12-15T20:00:00\",\"2015-12-15T21:00:00\",\"2015-12-15T22:00:00\",\"2015-12-15T23:00:00\",\"2015-12-16T00:00:00\",\"2015-12-16T01:00:00\",\"2015-12-16T02:00:00\",\"2015-12-16T03:00:00\",\"2015-12-16T04:00:00\",\"2015-12-16T05:00:00\",\"2015-12-16T06:00:00\",\"2015-12-16T07:00:00\",\"2015-12-16T08:00:00\",\"2015-12-16T09:00:00\",\"2015-12-16T10:00:00\",\"2015-12-16T11:00:00\",\"2015-12-16T12:00:00\",\"2015-12-16T13:00:00\",\"2015-12-16T14:00:00\",\"2015-12-16T15:00:00\",\"2015-12-16T16:00:00\",\"2015-12-16T17:00:00\",\"2015-12-16T18:00:00\",\"2015-12-16T19:00:00\",\"2015-12-16T20:00:00\",\"2015-12-16T21:00:00\",\"2015-12-16T22:00:00\",\"2015-12-16T23:00:00\",\"2015-12-17T00:00:00\",\"2015-12-17T01:00:00\",\"2015-12-17T02:00:00\",\"2015-12-17T03:00:00\",\"2015-12-17T04:00:00\",\"2015-12-17T05:00:00\",\"2015-12-17T06:00:00\",\"2015-12-17T07:00:00\",\"2015-12-17T08:00:00\",\"2015-12-17T09:00:00\",\"2015-12-17T10:00:00\",\"2015-12-17T11:00:00\",\"2015-12-17T12:00:00\",\"2015-12-17T13:00:00\",\"2015-12-17T14:00:00\",\"2015-12-17T15:00:00\",\"2015-12-17T16:00:00\",\"2015-12-17T17:00:00\",\"2015-12-17T18:00:00\",\"2015-12-17T19:00:00\",\"2015-12-17T20:00:00\",\"2015-12-17T21:00:00\",\"2015-12-17T22:00:00\",\"2015-12-17T23:00:00\"],\"y\":[0.949869297798,0.9277888828090002,0.9467482550599999,0.63409285059,0.42023027615799996,0.718794492195,1.8710077970670003,1.2273514921710003,0.9065279386180001,0.565119594274,0.572043842448,0.5638832696460001,0.571712211356,0.5590932010590002,0.573889458368,0.47953198928199997,0.7186372642420001,0.5034476775410001,1.2675691029310001,0.7544080495210002,0.7521499445840002,1.0167203323640002,0.6221347469590001,0.7557137011860001,0.416238753648,0.7435655633770001,1.094675658885,1.127436823416,1.1371340711440001,1.1227207190239998,1.151493781567,1.161921352899,2.4768862505110003,2.296568643853,1.830192574062,0.693862653815,1.0527516196349997,1.4180049346909998,0.9163431359700002,0.7439562872680001,0.531127785045,0.7859068239170002,1.8638785668089999,1.8885453728659998,1.5842633325329996,0.9028835703970001,0.9447572077440001,0.5426657933990001,0.403965301711,0.41606720976899997,0.40850303888600004,0.41751356443199994,0.406951634174,0.702144277165,1.2371735731490001,0.960937895443,1.848829149013,2.4145599630779997,1.548029307899,0.7037037436300001,0.938089120566,0.6274441500030001,1.487736730285,0.5797107727590001,0.7901263949720001,1.203591769184,2.1059200404319998,1.2752265024689997,0.821919532238,1.5878371901460002,1.2671585417459998,1.4163363220139997,1.69387981869,1.5254844862749999,1.361278677542,1.5707030391809997,1.4234894970639995,1.7428141913000001,2.875564722161,2.3559472348690003,1.3920907957050002,0.619320598877,0.5829453433780001,0.6666673675130002,0.6611357508389999,0.6642929640890001,1.046499844541,0.5765207572270001,1.291373869219,1.8216196842669998,2.2221741444929997,1.2209782682119998,1.4483180066790002,1.826687609054,1.6867500110590001,1.7132011926439998,1.459305003688,1.3938799247290001,1.3784928563339998,1.4198036572189998,1.4031777225389996,1.4050652510739998,2.650263982856,1.3472311368830001,1.1696611025919998,0.896093342108,0.8530109934960002,0.8552462861230001,0.8536419267500001,1.157398287728,0.8979008034789999,1.2273823165139996,1.1861609209159996,1.1753701508049998,1.7154693561999999,1.7966457857180003,1.466529984713,1.8098145762509998,1.660698560161,1.2078720101729998,1.3183312587959999,1.6802156277229998,1.731297767488,1.6521172448419998,1.6123038348319998,1.6348725571849998,2.9689954888090004,1.599893327546,1.253116888103,1.6271055299139996,1.3529826602360002,1.3537280788200003,1.3259627356719998,1.3477669381969999,1.3861313016520003,1.259486455025,1.2000792332729997,1.175174418093,2.0277146697800004,1.5546122525769999,1.7718813295259996,1.8254412490630003,1.3369993063289998,1.190385531267,1.128756305898,1.1342001813290001,1.472525694398,1.1380448722029997,1.13624392701,1.1444280059399998,2.6672422043400004,1.89321409298,1.22829645278,1.311277889883,1.2888982092019998,1.2991642840359998,1.637894255441,1.280877683593,1.3179027677680002,1.201978127184,1.1352165522040003,1.171238426685,1.7724155554840002,1.6227266226640003,1.428313719873,1.7788230320129998,1.594801155298,1.1430761092060002,1.117777510617,1.118660583155,1.135621969638,1.1137438791999998,1.1328104129179997,1.107691200712,2.627597559095,1.738258295537,1.192411045468,1.215214038254,1.309266381939,1.268403086377,1.2821148952520003,1.272398177147,1.202462502869,1.5661101499219998,1.118353477871,1.1274805469199998,2.008957102806,1.478071204028,1.4455324986289997,1.7439777700749999,1.314022938638,1.4924452590869999,1.0959923972869998,1.134717306002,1.1156027000439996,1.126129043016,1.1202943278639999,1.1205385819139997,1.1207610274659998,1.115014817884,2.753090679956,2.8562496519710003,2.428693450512,1.382603784628,1.6654707378640001,2.2590623911630003,1.8691114943839997,1.2729404499159997,1.246421083448,1.4681880102339997,2.2792299076680003,2.694650710831,2.3115589100480003,1.8476256872019998,1.890779526425,1.38091952085,1.373295628416,1.1314592609949998,1.1173113791379998,1.1277640612849997,1.1251381573979997,1.120861650852,1.1280074029299998,1.116975802,2.6399493557120004,3.09304043995,2.390264294488001,1.2293593512440002,1.530979433528,1.4976141605739997,2.2303065781990004,1.407818209151,1.2843717302570001,1.2586900579759999,2.1192329636460006,1.9799685167419998,1.3917528738379998,1.8002103626999997,1.406388020206,1.478099184011,1.1500002742119995,1.164990358555,1.17087079065,1.154035834594,1.175126133959,1.1915382693929997,2.7814928856519994,2.5751302377550007,1.9751403985020004,1.1608305900779998,1.1639070364259998,1.1650718865049998,1.1572449706549999,1.171813629138,1.1501375047,1.191498596563,1.4685664092679998,1.6146678927299998,2.275142891905,2.135181026321,1.531649197634,1.76187593898,1.6285561591580002,1.128062514403,1.100972367025,1.4063608466949997,1.48959723609,1.2760739382739998,1.8806290698750001,1.308898796756,2.6174906024010003,2.003062327536,1.94053547254,1.273919665217,1.4740097708829998,1.6575901232449999,1.2842336593159998,1.10912825302,1.435606781023,1.181490035623,1.7247540476519996,1.5449285338269996,1.5383517591450002,1.8025033876060002,1.490597302228,1.8105260305039996,1.9683244220020002,1.333131271188,1.113807909672,1.148535439026,1.449345177336,1.144656975858,1.1206720086870001,1.5792684167620001,2.767952262734,2.0227336216580003,1.3262363779640003,1.10811244798,1.1431509835059999,1.3841938491139998,1.1158273521890003,1.110796949995,1.115762090258,1.2652532041389999,1.1067453241289997,1.111033711861,1.935000933574,2.127881803397001,2.7619284403149997,2.4220036431550005,1.950427736816,1.5318246004189997,1.082618766442,1.1206475025809999,1.1657844555849999,1.13287877092,1.10152148985,1.267038036673,2.7237851687759997,2.351884526053,1.914164574451,1.5555017944489997,1.266368589151,1.293530500792,1.280645815887,1.2976791111209998,1.2644012422770001,1.1339479386750002,1.444456523141,1.1603290390639998,1.5301264918369997,1.5605004498910002,1.6513330847069998,1.626576198611,1.7327500184649998,1.1612503842409998,1.096506040112,1.161985794168,1.567273621123,1.6568261188509996,1.4868509896339999,1.463597399799,2.677894739038,1.999754374862,1.241192636352,1.3581138154729997,1.606071387174,1.294751894068,1.2819611927199999,1.315728473637,1.7039246043410001,1.2067309499580001,1.149090924386,1.165605452159,1.9584149587880002,1.631369123514,1.472319271365,1.8115001412440002,1.3522834168179998,1.566877114395,1.1402802959759997,1.307052435521,1.8045247537789997,2.1104050670679997,1.83613203824,1.943383533043,1.925924802295,1.706646983449,3.2881768190580005,3.0630786788149997,2.617524466613,1.478911032572,1.935192779091,2.115073724877,1.4186423523299998,1.4010218711529998,1.2930219250339998,1.6630929086149997,2.479041436279,2.6594066937690006,2.1163747215139996,1.623761629553,1.692209229207,1.2777813042359996,1.1497709816609998,1.1503282296899997,1.1642915525699997,1.14945316168,1.4002200131979998,1.229282865714,1.915930148226,2.064671012541,3.0050152602080007,3.2082686737899992,2.4000247404420003,1.444692488286,1.8391671755689998,1.510150406646,2.216535921754,1.3261458771919998,1.2644074201870001,1.2512309937569999,2.101638186299,1.418167040657,1.3773022908580002,1.683399031437,1.3387387817519998,1.219863022209,1.3965802133949998,1.167120028049,1.148078483193,1.1587989088419997,1.142900685734,1.155179593357,2.582842869071999,2.095288736904,1.2544017826859997,1.3127338928330001,1.3130049237139998,1.3093733160280001,1.4934894902289997,1.5940320530699998,1.2728555512389998,1.1956198214829998,1.111666062228,1.1080657181359999,2.0051475845,1.517834793148,1.443000420796,1.7002776994909998,1.26504918756,1.1611109106900002,1.0909237874339999,1.4258493674029997,1.1129002742389997,1.124564136494,1.133799660701,1.097227729599,2.5859680002669996,1.8173758371520004,1.290988869453,1.6498252980389998,1.64280359462,1.3034869082549998,1.2661495869769999,1.2750379010079997,1.116025925077,1.5116589434889998,1.4243322995940002,1.109181435681,1.5682707412560002,1.7627760332509996,1.4217808724680001,1.7277844346899998,1.6470939693900002,1.1401315158050003,1.095963204762,1.131836338188,1.0982441251219999,1.1249653187000002,1.096871907223,1.2755350105389998,3.010568690625001,1.5850947875359997,1.3307302087719997,1.6949197698660001,1.6054160345459998,1.432583217011,1.287236704222,1.4046151007139998,1.198180897952,1.5217882245139998,1.5784075524740002,1.2692510873879999,2.094806157806,1.8972599690059997,2.1258257577470006,2.236049390488,2.007671559598,1.147401783148,0.0,0.0,0.0,0.0,0.0,0.0,0.0,0.0,0.0,0.0,0.0,0.0,0.0,0.0,0.0,0.0,0.0,1.128460901572,1.507381452178,1.643893916073,1.508729902763,1.67858184694,1.6361765212139996,1.1337280627739998,1.090494982875,1.103319964283,1.112095409036,1.0941638266829998,1.1106992064149999,1.0902584358910001,2.6395122894419996,1.8778005883059998,1.1773761498410003,1.1506166635060002,1.1143810554559999,1.2607175179240002,1.23593900938,1.447379710898,1.14002002886,1.2770574857619996,1.099888166933,1.1251276893670001,2.0417396610120004,1.829967756322,1.4311168365850002,1.8010840738790002,1.4510167315109999,1.3953935763049998,1.102728541308,1.1140895194479996,1.4220553713319999,1.1104162074319999,1.126499977118,1.1010882634590002,1.122889940026,1.1032019976320002,2.575845126914,3.039587996094,2.5787128487349995,1.4003469176299999,1.7577650691659998,2.558010312007,2.1057227188480008,1.4140415244980002,1.2173526747349999,1.4681613459909997,2.367909291844,2.564286836824,2.414172130372,1.5545698011340001,1.7260508482,1.2193143128590003,1.209555181022,1.2659026834570002,1.1175076425440003,1.099484917413,1.1146991037369998,1.0996345445740001,1.112409065376,1.095435328514,2.543393119708,3.071295026485,2.467911426024,1.650201988172,2.16854704511,2.035490280797,2.8992150236140004,1.7542361992639999,1.355343687184,1.2078455862030002,2.349078807739,1.9901885358629998,1.6009721606979999,1.8418479565650003,1.419656407056,1.1628238155839998,1.078815446007,1.4064110109099996,1.099601820954,1.1794497235930002,1.1091107461499998,1.0967149080929999,2.6409416692830003,2.618936821054,1.6275931796720002,1.095398116549,1.120725692261,1.192969477618,1.393799379968,1.520990892787,1.3716110194850002,1.332830798872,1.1097245851439999,1.2348686105239999,2.333307912524,2.0647585002740003,2.1827455829969997,1.8416371280019999,1.788314426842,1.344815342277,1.2243379466300002,1.1305758826120003,1.1674375295719999,1.1383350406739998,1.110752778882,1.4580999352700001,2.767562063922,2.2519134162559995,1.8487295321469999,1.203658595169,1.2956814088999997,0.9464403730729999,0.754925427978,0.691378275559,0.99048789637,0.6648232709670001,0.8718711131610001,0.4432066051880001,0.8218272627490001,1.0037234477210002,0.798113721645,1.054654587922,1.077436846078,0.45592156077100005,0.419724932139,0.42575558282799997,0.435434933897,0.40612708724700003,0.46992912724099994,0.47784057738599994,2.0069636264410007,1.0521983295289998,0.772769128703,0.51748403379,0.882336159146,0.7833420802920001,0.5923892962,0.609410045057,0.5782267790090001,0.5056494801410001,0.41695138549099997,0.42911992487000006,1.3002202720559999,1.057369718726,1.232209337658,1.446723593812,0.6062299124770001,0.473526351078,0.402861108722,0.42315300916000004,0.40072148642699995,0.674223598127,0.514426642321,0.41966081611800005,1.9397857011020003,1.3439398364119999,0.5149278484650001,0.41987179956600007,0.638860681987,1.108632746349,0.693649992735,0.7447666991490002,0.578620881431,0.6805632523340001,0.602484243762,1.0805544222519998,0.8187994067649998,0.901992652648,0.929487232463,1.05344352201,1.240889301344,1.0935276180190001],\"type\":\"scattergl\"},{\"line\":{\"color\":\"rgb(234,143,129)\"},\"name\":\"Observed\",\"x\":[\"2015-12-18T00:00:00\",\"2015-12-18T01:00:00\",\"2015-12-18T02:00:00\",\"2015-12-18T03:00:00\",\"2015-12-18T04:00:00\",\"2015-12-18T05:00:00\",\"2015-12-18T06:00:00\",\"2015-12-18T07:00:00\",\"2015-12-18T08:00:00\",\"2015-12-18T09:00:00\",\"2015-12-18T10:00:00\",\"2015-12-18T11:00:00\",\"2015-12-18T12:00:00\",\"2015-12-18T13:00:00\",\"2015-12-18T14:00:00\",\"2015-12-18T15:00:00\",\"2015-12-18T16:00:00\",\"2015-12-18T17:00:00\",\"2015-12-18T18:00:00\",\"2015-12-18T19:00:00\",\"2015-12-18T20:00:00\",\"2015-12-18T21:00:00\",\"2015-12-18T22:00:00\",\"2015-12-18T23:00:00\",\"2015-12-19T00:00:00\",\"2015-12-19T01:00:00\",\"2015-12-19T02:00:00\",\"2015-12-19T03:00:00\",\"2015-12-19T04:00:00\",\"2015-12-19T05:00:00\",\"2015-12-19T06:00:00\",\"2015-12-19T07:00:00\",\"2015-12-19T08:00:00\",\"2015-12-19T09:00:00\",\"2015-12-19T10:00:00\",\"2015-12-19T11:00:00\",\"2015-12-19T12:00:00\",\"2015-12-19T13:00:00\",\"2015-12-19T14:00:00\",\"2015-12-19T15:00:00\",\"2015-12-19T16:00:00\",\"2015-12-19T17:00:00\",\"2015-12-19T18:00:00\",\"2015-12-19T19:00:00\",\"2015-12-19T20:00:00\",\"2015-12-19T21:00:00\",\"2015-12-19T22:00:00\",\"2015-12-19T23:00:00\",\"2015-12-20T00:00:00\",\"2015-12-20T01:00:00\",\"2015-12-20T02:00:00\",\"2015-12-20T03:00:00\",\"2015-12-20T04:00:00\",\"2015-12-20T05:00:00\",\"2015-12-20T06:00:00\",\"2015-12-20T07:00:00\",\"2015-12-20T08:00:00\",\"2015-12-20T09:00:00\",\"2015-12-20T10:00:00\",\"2015-12-20T11:00:00\",\"2015-12-20T12:00:00\",\"2015-12-20T13:00:00\",\"2015-12-20T14:00:00\",\"2015-12-20T15:00:00\",\"2015-12-20T16:00:00\",\"2015-12-20T17:00:00\",\"2015-12-20T18:00:00\",\"2015-12-20T19:00:00\",\"2015-12-20T20:00:00\",\"2015-12-20T21:00:00\",\"2015-12-20T22:00:00\",\"2015-12-20T23:00:00\"],\"y\":[0.754180921443,0.7405540596239999,0.8567951627600001,0.8153294508250001,0.9231951977470001,1.1928405265959998,1.972185366074,1.365958294598,1.62046755331,1.1053420365839997,0.9832868103860001,1.254541027759,0.921570975197,0.899151499215,0.989592912681,1.156313675008,1.258902091146,1.383499256833,1.816744434906,1.495756265267,1.088624776172,1.7323804545930002,1.4535980479719999,1.426739098671,1.827459596978,1.4817598151349998,1.522759090537,1.52828307858,1.517923285094,1.6970164122069997,1.500882257105,1.640961358744,1.94347992613,1.991435066095,1.5971767678089999,0.548092850175,1.0901597845789999,1.8809360195929996,1.3969029698720004,0.7285445778519999,0.7083860584820001,1.7339972086849997,2.4822865580299993,2.699338353268,2.3414664223870005,1.4239454394009998,1.6914244522569994,1.433530247663,2.0441229255180002,1.5578878822239999,1.6992446729189998,1.503293209188,1.6642570686509996,1.8252914410069998,1.6145604625599999,1.6884375377980003,2.9365114870150006,2.536843478219,1.7546387039509999,0.7074672313420001,1.0918071836449998,0.775912127476,1.5324791360499996,0.57338900507,0.545139434205,0.4940851731730001,1.2853109960170002,1.446925645715,1.2506394000319996,1.505948651618,1.139301615752,1.1918020737680002],\"type\":\"scattergl\"},{\"line\":{\"color\":\"rgb(32,115,171)\"},\"name\":\"Predicted\",\"x\":[\"2015-12-18T00:00:00\",\"2015-12-18T01:00:00\",\"2015-12-18T02:00:00\",\"2015-12-18T03:00:00\",\"2015-12-18T04:00:00\",\"2015-12-18T05:00:00\",\"2015-12-18T06:00:00\",\"2015-12-18T07:00:00\",\"2015-12-18T08:00:00\",\"2015-12-18T09:00:00\",\"2015-12-18T10:00:00\",\"2015-12-18T11:00:00\",\"2015-12-18T12:00:00\",\"2015-12-18T13:00:00\",\"2015-12-18T14:00:00\",\"2015-12-18T15:00:00\",\"2015-12-18T16:00:00\",\"2015-12-18T17:00:00\",\"2015-12-18T18:00:00\",\"2015-12-18T19:00:00\",\"2015-12-18T20:00:00\",\"2015-12-18T21:00:00\",\"2015-12-18T22:00:00\",\"2015-12-18T23:00:00\",\"2015-12-19T00:00:00\",\"2015-12-19T01:00:00\",\"2015-12-19T02:00:00\",\"2015-12-19T03:00:00\",\"2015-12-19T04:00:00\",\"2015-12-19T05:00:00\",\"2015-12-19T06:00:00\",\"2015-12-19T07:00:00\",\"2015-12-19T08:00:00\",\"2015-12-19T09:00:00\",\"2015-12-19T10:00:00\",\"2015-12-19T11:00:00\",\"2015-12-19T12:00:00\",\"2015-12-19T13:00:00\",\"2015-12-19T14:00:00\",\"2015-12-19T15:00:00\",\"2015-12-19T16:00:00\",\"2015-12-19T17:00:00\",\"2015-12-19T18:00:00\",\"2015-12-19T19:00:00\",\"2015-12-19T20:00:00\",\"2015-12-19T21:00:00\",\"2015-12-19T22:00:00\",\"2015-12-19T23:00:00\",\"2015-12-20T00:00:00\",\"2015-12-20T01:00:00\",\"2015-12-20T02:00:00\",\"2015-12-20T03:00:00\",\"2015-12-20T04:00:00\",\"2015-12-20T05:00:00\",\"2015-12-20T06:00:00\",\"2015-12-20T07:00:00\",\"2015-12-20T08:00:00\",\"2015-12-20T09:00:00\",\"2015-12-20T10:00:00\",\"2015-12-20T11:00:00\",\"2015-12-20T12:00:00\",\"2015-12-20T13:00:00\",\"2015-12-20T14:00:00\",\"2015-12-20T15:00:00\",\"2015-12-20T16:00:00\",\"2015-12-20T17:00:00\",\"2015-12-20T18:00:00\",\"2015-12-20T19:00:00\",\"2015-12-20T20:00:00\",\"2015-12-20T21:00:00\",\"2015-12-20T22:00:00\",\"2015-12-20T23:00:00\",\"2015-12-21T00:00:00\"],\"y\":[1.0374128851952535,0.8948437669047312,0.9445021675964638,0.8583941081987917,0.9251864151989505,0.846508063557248,0.9183972917057526,0.8431158953266731,0.9165344288123435,0.8422075128280238,0.9159353234008097,0.8419870864251732,0.9157163345436493,0.8419712006267249,0.9156062182010611,0.8420133782277529,0.9155275918039502,0.8420723427955713,0.9154581601262519,0.8421360594672673,0.9153914623318957,0.8422010650887314,0.9153256378834138,0.8422663594192558,0.9152601488230339,0.8423316538187315,0.9151948397813842,0.8423968651262164,0.9151296657488591,0.8424619694796116,0.9150646135835524,0.8425269601391715,0.9149996793432426,0.842591835307364,0.9149348617417743,0.8426565946132091,0.9148701602600449,0.8427212380972845,0.9148055746006523,0.8427857659187159,0.9147411045304608,0.8428501782705881,0.9146767498351513,0.8429144753555264,0.9146125103061002,0.8429786573786477,0.9145483857365904,0.8430427245455254,0.9144843759207171,0.8431066770616029,0.9144204806530721,0.8431705151320247,0.914356699728652,0.843234238961588,0.9142930329428302,0.8432978487547291,0.9142294800913499,0.8433613447155204,0.9141660409703204,0.8434247270476692,0.9141027153762163,0.8434879959545187,0.9140395031058766,0.8435511516390481,0.9139764039565036,0.8436141943038735,0.9139134177256626,0.8436771241512482,0.9138505442112813,0.8437399413830637,0.913787783211649,0.8438026462008502,0.9137251345254158],\"type\":\"scattergl\"}],                        {\"template\":{\"data\":{\"bar\":[{\"error_x\":{\"color\":\"#2a3f5f\"},\"error_y\":{\"color\":\"#2a3f5f\"},\"marker\":{\"line\":{\"color\":\"#E5ECF6\",\"width\":0.5},\"pattern\":{\"fillmode\":\"overlay\",\"size\":10,\"solidity\":0.2}},\"type\":\"bar\"}],\"barpolar\":[{\"marker\":{\"line\":{\"color\":\"#E5ECF6\",\"width\":0.5},\"pattern\":{\"fillmode\":\"overlay\",\"size\":10,\"solidity\":0.2}},\"type\":\"barpolar\"}],\"carpet\":[{\"aaxis\":{\"endlinecolor\":\"#2a3f5f\",\"gridcolor\":\"white\",\"linecolor\":\"white\",\"minorgridcolor\":\"white\",\"startlinecolor\":\"#2a3f5f\"},\"baxis\":{\"endlinecolor\":\"#2a3f5f\",\"gridcolor\":\"white\",\"linecolor\":\"white\",\"minorgridcolor\":\"white\",\"startlinecolor\":\"#2a3f5f\"},\"type\":\"carpet\"}],\"choropleth\":[{\"colorbar\":{\"outlinewidth\":0,\"ticks\":\"\"},\"type\":\"choropleth\"}],\"contour\":[{\"colorbar\":{\"outlinewidth\":0,\"ticks\":\"\"},\"colorscale\":[[0.0,\"#0d0887\"],[0.1111111111111111,\"#46039f\"],[0.2222222222222222,\"#7201a8\"],[0.3333333333333333,\"#9c179e\"],[0.4444444444444444,\"#bd3786\"],[0.5555555555555556,\"#d8576b\"],[0.6666666666666666,\"#ed7953\"],[0.7777777777777778,\"#fb9f3a\"],[0.8888888888888888,\"#fdca26\"],[1.0,\"#f0f921\"]],\"type\":\"contour\"}],\"contourcarpet\":[{\"colorbar\":{\"outlinewidth\":0,\"ticks\":\"\"},\"type\":\"contourcarpet\"}],\"heatmap\":[{\"colorbar\":{\"outlinewidth\":0,\"ticks\":\"\"},\"colorscale\":[[0.0,\"#0d0887\"],[0.1111111111111111,\"#46039f\"],[0.2222222222222222,\"#7201a8\"],[0.3333333333333333,\"#9c179e\"],[0.4444444444444444,\"#bd3786\"],[0.5555555555555556,\"#d8576b\"],[0.6666666666666666,\"#ed7953\"],[0.7777777777777778,\"#fb9f3a\"],[0.8888888888888888,\"#fdca26\"],[1.0,\"#f0f921\"]],\"type\":\"heatmap\"}],\"heatmapgl\":[{\"colorbar\":{\"outlinewidth\":0,\"ticks\":\"\"},\"colorscale\":[[0.0,\"#0d0887\"],[0.1111111111111111,\"#46039f\"],[0.2222222222222222,\"#7201a8\"],[0.3333333333333333,\"#9c179e\"],[0.4444444444444444,\"#bd3786\"],[0.5555555555555556,\"#d8576b\"],[0.6666666666666666,\"#ed7953\"],[0.7777777777777778,\"#fb9f3a\"],[0.8888888888888888,\"#fdca26\"],[1.0,\"#f0f921\"]],\"type\":\"heatmapgl\"}],\"histogram\":[{\"marker\":{\"pattern\":{\"fillmode\":\"overlay\",\"size\":10,\"solidity\":0.2}},\"type\":\"histogram\"}],\"histogram2d\":[{\"colorbar\":{\"outlinewidth\":0,\"ticks\":\"\"},\"colorscale\":[[0.0,\"#0d0887\"],[0.1111111111111111,\"#46039f\"],[0.2222222222222222,\"#7201a8\"],[0.3333333333333333,\"#9c179e\"],[0.4444444444444444,\"#bd3786\"],[0.5555555555555556,\"#d8576b\"],[0.6666666666666666,\"#ed7953\"],[0.7777777777777778,\"#fb9f3a\"],[0.8888888888888888,\"#fdca26\"],[1.0,\"#f0f921\"]],\"type\":\"histogram2d\"}],\"histogram2dcontour\":[{\"colorbar\":{\"outlinewidth\":0,\"ticks\":\"\"},\"colorscale\":[[0.0,\"#0d0887\"],[0.1111111111111111,\"#46039f\"],[0.2222222222222222,\"#7201a8\"],[0.3333333333333333,\"#9c179e\"],[0.4444444444444444,\"#bd3786\"],[0.5555555555555556,\"#d8576b\"],[0.6666666666666666,\"#ed7953\"],[0.7777777777777778,\"#fb9f3a\"],[0.8888888888888888,\"#fdca26\"],[1.0,\"#f0f921\"]],\"type\":\"histogram2dcontour\"}],\"mesh3d\":[{\"colorbar\":{\"outlinewidth\":0,\"ticks\":\"\"},\"type\":\"mesh3d\"}],\"parcoords\":[{\"line\":{\"colorbar\":{\"outlinewidth\":0,\"ticks\":\"\"}},\"type\":\"parcoords\"}],\"pie\":[{\"automargin\":true,\"type\":\"pie\"}],\"scatter\":[{\"marker\":{\"colorbar\":{\"outlinewidth\":0,\"ticks\":\"\"}},\"type\":\"scatter\"}],\"scatter3d\":[{\"line\":{\"colorbar\":{\"outlinewidth\":0,\"ticks\":\"\"}},\"marker\":{\"colorbar\":{\"outlinewidth\":0,\"ticks\":\"\"}},\"type\":\"scatter3d\"}],\"scattercarpet\":[{\"marker\":{\"colorbar\":{\"outlinewidth\":0,\"ticks\":\"\"}},\"type\":\"scattercarpet\"}],\"scattergeo\":[{\"marker\":{\"colorbar\":{\"outlinewidth\":0,\"ticks\":\"\"}},\"type\":\"scattergeo\"}],\"scattergl\":[{\"marker\":{\"colorbar\":{\"outlinewidth\":0,\"ticks\":\"\"}},\"type\":\"scattergl\"}],\"scattermapbox\":[{\"marker\":{\"colorbar\":{\"outlinewidth\":0,\"ticks\":\"\"}},\"type\":\"scattermapbox\"}],\"scatterpolar\":[{\"marker\":{\"colorbar\":{\"outlinewidth\":0,\"ticks\":\"\"}},\"type\":\"scatterpolar\"}],\"scatterpolargl\":[{\"marker\":{\"colorbar\":{\"outlinewidth\":0,\"ticks\":\"\"}},\"type\":\"scatterpolargl\"}],\"scatterternary\":[{\"marker\":{\"colorbar\":{\"outlinewidth\":0,\"ticks\":\"\"}},\"type\":\"scatterternary\"}],\"surface\":[{\"colorbar\":{\"outlinewidth\":0,\"ticks\":\"\"},\"colorscale\":[[0.0,\"#0d0887\"],[0.1111111111111111,\"#46039f\"],[0.2222222222222222,\"#7201a8\"],[0.3333333333333333,\"#9c179e\"],[0.4444444444444444,\"#bd3786\"],[0.5555555555555556,\"#d8576b\"],[0.6666666666666666,\"#ed7953\"],[0.7777777777777778,\"#fb9f3a\"],[0.8888888888888888,\"#fdca26\"],[1.0,\"#f0f921\"]],\"type\":\"surface\"}],\"table\":[{\"cells\":{\"fill\":{\"color\":\"#EBF0F8\"},\"line\":{\"color\":\"white\"}},\"header\":{\"fill\":{\"color\":\"#C8D4E3\"},\"line\":{\"color\":\"white\"}},\"type\":\"table\"}]},\"layout\":{\"annotationdefaults\":{\"arrowcolor\":\"#2a3f5f\",\"arrowhead\":0,\"arrowwidth\":1},\"autotypenumbers\":\"strict\",\"coloraxis\":{\"colorbar\":{\"outlinewidth\":0,\"ticks\":\"\"}},\"colorscale\":{\"diverging\":[[0,\"#8e0152\"],[0.1,\"#c51b7d\"],[0.2,\"#de77ae\"],[0.3,\"#f1b6da\"],[0.4,\"#fde0ef\"],[0.5,\"#f7f7f7\"],[0.6,\"#e6f5d0\"],[0.7,\"#b8e186\"],[0.8,\"#7fbc41\"],[0.9,\"#4d9221\"],[1,\"#276419\"]],\"sequential\":[[0.0,\"#0d0887\"],[0.1111111111111111,\"#46039f\"],[0.2222222222222222,\"#7201a8\"],[0.3333333333333333,\"#9c179e\"],[0.4444444444444444,\"#bd3786\"],[0.5555555555555556,\"#d8576b\"],[0.6666666666666666,\"#ed7953\"],[0.7777777777777778,\"#fb9f3a\"],[0.8888888888888888,\"#fdca26\"],[1.0,\"#f0f921\"]],\"sequentialminus\":[[0.0,\"#0d0887\"],[0.1111111111111111,\"#46039f\"],[0.2222222222222222,\"#7201a8\"],[0.3333333333333333,\"#9c179e\"],[0.4444444444444444,\"#bd3786\"],[0.5555555555555556,\"#d8576b\"],[0.6666666666666666,\"#ed7953\"],[0.7777777777777778,\"#fb9f3a\"],[0.8888888888888888,\"#fdca26\"],[1.0,\"#f0f921\"]]},\"colorway\":[\"#636efa\",\"#EF553B\",\"#00cc96\",\"#ab63fa\",\"#FFA15A\",\"#19d3f3\",\"#FF6692\",\"#B6E880\",\"#FF97FF\",\"#FECB52\"],\"font\":{\"color\":\"#2a3f5f\"},\"geo\":{\"bgcolor\":\"white\",\"lakecolor\":\"white\",\"landcolor\":\"#E5ECF6\",\"showlakes\":true,\"showland\":true,\"subunitcolor\":\"white\"},\"hoverlabel\":{\"align\":\"left\"},\"hovermode\":\"closest\",\"mapbox\":{\"style\":\"light\"},\"paper_bgcolor\":\"white\",\"plot_bgcolor\":\"#E5ECF6\",\"polar\":{\"angularaxis\":{\"gridcolor\":\"white\",\"linecolor\":\"white\",\"ticks\":\"\"},\"bgcolor\":\"#E5ECF6\",\"radialaxis\":{\"gridcolor\":\"white\",\"linecolor\":\"white\",\"ticks\":\"\"}},\"scene\":{\"xaxis\":{\"backgroundcolor\":\"#E5ECF6\",\"gridcolor\":\"white\",\"gridwidth\":2,\"linecolor\":\"white\",\"showbackground\":true,\"ticks\":\"\",\"zerolinecolor\":\"white\"},\"yaxis\":{\"backgroundcolor\":\"#E5ECF6\",\"gridcolor\":\"white\",\"gridwidth\":2,\"linecolor\":\"white\",\"showbackground\":true,\"ticks\":\"\",\"zerolinecolor\":\"white\"},\"zaxis\":{\"backgroundcolor\":\"#E5ECF6\",\"gridcolor\":\"white\",\"gridwidth\":2,\"linecolor\":\"white\",\"showbackground\":true,\"ticks\":\"\",\"zerolinecolor\":\"white\"}},\"shapedefaults\":{\"line\":{\"color\":\"#2a3f5f\"}},\"ternary\":{\"aaxis\":{\"gridcolor\":\"white\",\"linecolor\":\"white\",\"ticks\":\"\"},\"baxis\":{\"gridcolor\":\"white\",\"linecolor\":\"white\",\"ticks\":\"\"},\"bgcolor\":\"#E5ECF6\",\"caxis\":{\"gridcolor\":\"white\",\"linecolor\":\"white\",\"ticks\":\"\"}},\"title\":{\"x\":0.05},\"xaxis\":{\"automargin\":true,\"gridcolor\":\"white\",\"linecolor\":\"white\",\"ticks\":\"\",\"title\":{\"standoff\":15},\"zerolinecolor\":\"white\",\"zerolinewidth\":2},\"yaxis\":{\"automargin\":true,\"gridcolor\":\"white\",\"linecolor\":\"white\",\"ticks\":\"\",\"title\":{\"standoff\":15},\"zerolinecolor\":\"white\",\"zerolinewidth\":2}}},\"yaxis\":{\"title\":{\"text\":\"Fixed Consumption [kWh]\"}},\"legend\":{\"orientation\":\"h\",\"yanchor\":\"bottom\",\"y\":1,\"xanchor\":\"left\",\"x\":0}},                        {\"responsive\": true}                    ).then(function(){\n                            \nvar gd = document.getElementById('9bdca7ce-93d0-4c24-b5a6-b708f0c68131');\nvar x = new MutationObserver(function (mutations, observer) {{\n        var display = window.getComputedStyle(gd).display;\n        if (!display || display === 'none') {{\n            console.log([gd, 'removed!']);\n            Plotly.purge(gd);\n            observer.disconnect();\n        }}\n}});\n\n// Listen for the removal of the full notebook cells\nvar notebookContainer = gd.closest('#notebook-container');\nif (notebookContainer) {{\n    x.observe(notebookContainer, {childList: true});\n}}\n\n// Listen for the clearing of the current output cell\nvar outputEl = gd.closest('.output');\nif (outputEl) {{\n    x.observe(outputEl, {childList: true});\n}}\n\n                        })                };                });            </script>        </div>"
     },
     "metadata": {},
     "output_type": "display_data"
    }
   ],
   "source": [
    "\n",
    "fig = go.Figure(go.Scattergl(\n",
    "    x=test[start_train: end_train].index,\n",
    "    y=test['Consumed Energy'][start_train: end_train],\n",
    "    name=\"Training Data\",\n",
    "    line=dict(color='rgb(84, 84, 84)')\n",
    "))\n",
    "\n",
    "fig.add_trace(go.Scattergl(\n",
    "    x=test[start_test: end_test].index,\n",
    "    y=test['Consumed Energy'][start_test: end_test],\n",
    "    name=\"Observed\",\n",
    "    line=dict(color='rgb(234,143,129)')\n",
    "))\n",
    "\n",
    "fig.add_trace(go.Scattergl(\n",
    "    x=predictions.index,\n",
    "    y=predictions[\"predicted_mean\"],\n",
    "    name=\"Predicted\",\n",
    "    line=dict(color='rgb(32,115,171)')\n",
    "))\n",
    "\n",
    "fig.update_yaxes(title=\"Fixed Consumption [kWh]\")\n",
    "fig.update_layout(template=\"plotly\",\n",
    "                  legend=dict(orientation=\"h\",\n",
    "                              yanchor=\"bottom\",\n",
    "                              y=1,\n",
    "                              xanchor=\"left\",\n",
    "                              x=0))\n",
    "\n",
    "#fig.write_html(\"ARIMA_figs/best_consumption_arima_NEW.html\")\n",
    "fig.show()"
   ],
   "metadata": {
    "collapsed": false,
    "pycharm": {
     "name": "#%%\n"
    }
   }
  },
  {
   "cell_type": "code",
   "execution_count": null,
   "outputs": [],
   "source": [],
   "metadata": {
    "collapsed": false,
    "pycharm": {
     "name": "#%%\n"
    }
   }
  }
 ],
 "metadata": {
  "kernelspec": {
   "display_name": "Python 3",
   "language": "python",
   "name": "python3"
  },
  "language_info": {
   "codemirror_mode": {
    "name": "ipython",
    "version": 2
   },
   "file_extension": ".py",
   "mimetype": "text/x-python",
   "name": "python",
   "nbconvert_exporter": "python",
   "pygments_lexer": "ipython2",
   "version": "2.7.6"
  }
 },
 "nbformat": 4,
 "nbformat_minor": 0
}