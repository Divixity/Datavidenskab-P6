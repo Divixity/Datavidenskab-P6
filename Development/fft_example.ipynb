{
 "cells": [
  {
   "cell_type": "markdown",
   "source": [
    "# Example of Fast Fourier Transform"
   ],
   "metadata": {
    "collapsed": false
   }
  },
  {
   "cell_type": "code",
   "execution_count": 2,
   "outputs": [],
   "source": [
    "import numpy as np\n",
    "import plotly.graph_objects as go\n",
    "from plotly.subplots import make_subplots"
   ],
   "metadata": {
    "collapsed": false,
    "pycharm": {
     "name": "#%%\n"
    }
   }
  },
  {
   "cell_type": "code",
   "execution_count": null,
   "outputs": [],
   "source": [
    "x = np.linspace(0, 10, 1000)\n",
    "\n",
    "y1 = np.sin(np.pi * x)\n",
    "y2 = np.cos(2 * np.pi * x)\n",
    "y3 = np.sin(7 * np.pi * x)\n",
    "\n",
    "y = y1 + y2 + y3\n",
    "\n",
    "fig = make_subplots(rows=2,\n",
    "                    cols=3,\n",
    "                    specs=[\n",
    "                        [{}, {}, {}],\n",
    "                        [{'colspan': 3}, None, None]\n",
    "                    ],\n",
    "                    subplot_titles=(\n",
    "                        'sin(&#120529;n)',\n",
    "                        'cos(2&#120529;n)',\n",
    "                        'sin(7&#120529;n)',\n",
    "                        'SUM')\n",
    "                    )  # &#120529; is html code for pi\n",
    "\n",
    "fig.add_trace(go.Line(x=x, y=y1), row=1, col=1)\n",
    "fig.add_trace(go.Line(x=x, y=y2), row=1, col=2)\n",
    "fig.add_trace(go.Line(x=x, y=y3), row=1, col=3)\n",
    "fig.add_trace(go.Line(x=x, y=y, marker=dict(color='black')), row=2, col=1)\n",
    "\n",
    "fig.update_layout(showlegend=False, height=700)\n",
    "fig.update_xaxes(title='n', row=2, col=1)\n",
    "fig.update_yaxes(title='X', row=1, col=1)\n",
    "fig.update_yaxes(title='X', row=2, col=1)\n",
    "\n",
    "fig.show()"
   ],
   "metadata": {
    "collapsed": false,
    "pycharm": {
     "name": "#%%\n",
     "is_executing": true
    }
   }
  },
  {
   "cell_type": "code",
   "execution_count": null,
   "outputs": [],
   "source": [
    "transform_ex = np.fft.rfft(y, axis=0)\n",
    "\n",
    "n = y.size\n",
    "timestep = 1 / len(x)\n",
    "\n",
    "freq_ex = np.fft.rfftfreq(len(x), 1/len(x))\n",
    "\n",
    "fig = go.Figure()\n",
    "fig.add_trace(go.Line(x=1/5 * freq_ex, y=transform_ex.real, marker=dict(color='blue'), name='Real'))\n",
    "fig.add_trace(go.Line(x=1/5 * freq_ex, y=transform_ex.imag, marker=dict(color='red'), name='Imaginary'))\n",
    "\n",
    "fig.update_xaxes(range=[0, 10], title='k')\n",
    "fig.update_yaxes(title='FFT(X)')\n",
    "fig.update_layout(height=700)\n",
    "\n",
    "fig.show()"
   ],
   "metadata": {
    "collapsed": false,
    "pycharm": {
     "name": "#%%\n",
     "is_executing": true
    }
   }
  },
  {
   "cell_type": "code",
   "execution_count": null,
   "outputs": [],
   "source": [
    "transform_ex"
   ],
   "metadata": {
    "collapsed": false,
    "pycharm": {
     "name": "#%%\n",
     "is_executing": true
    }
   }
  }
 ],
 "metadata": {
  "kernelspec": {
   "display_name": "Python 3",
   "language": "python",
   "name": "python3"
  },
  "language_info": {
   "codemirror_mode": {
    "name": "ipython",
    "version": 2
   },
   "file_extension": ".py",
   "mimetype": "text/x-python",
   "name": "python",
   "nbconvert_exporter": "python",
   "pygments_lexer": "ipython2",
   "version": "2.7.6"
  }
 },
 "nbformat": 4,
 "nbformat_minor": 0
}