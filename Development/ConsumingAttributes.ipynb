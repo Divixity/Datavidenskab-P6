{
 "cells": [
  {
   "cell_type": "markdown",
   "metadata": {
    "collapsed": true,
    "pycharm": {
     "name": "#%% md\n"
    }
   },
   "source": [
    "# Importing and retrieving data"
   ]
  },
  {
   "cell_type": "code",
   "execution_count": 27,
   "outputs": [
    {
     "data": {
      "text/plain": "        TimeStamp_Count  Load_LatentHeatWaterVolume  Load_RefrigeratorTemp  \\\n0                     1                    0.000000               4.994715   \n1                     2                    0.000000               5.046792   \n2                     3                    0.000000               5.129493   \n3                     4                    0.001981               5.163539   \n4                     5                    0.001981               5.232744   \n...                 ...                         ...                    ...   \n519599           519600                    1.757590               4.512704   \n519600           519601                    1.760893               4.514255   \n519601           519602                    1.763535               4.548853   \n519602           519603                    1.763535               4.557287   \n519603           519604                    1.763535               4.589046   \n\n        Load_StatusBA1Lights  Load_StatusKitchenLightsA  \\\n0                        0.0                        0.0   \n1                        0.0                        0.0   \n2                        0.0                        0.0   \n3                        0.0                        0.0   \n4                        0.0                        0.0   \n...                      ...                        ...   \n519599                   0.0                        0.0   \n519600                   0.0                        0.0   \n519601                   0.0                        0.0   \n519602                   0.0                        0.0   \n519603                   0.0                        0.0   \n\n        Load_StatusKitchenLightsB  Load_StatusKitchenLightsC  \\\n0                             0.0                        0.0   \n1                             0.0                        0.0   \n2                             0.0                        0.0   \n3                             0.0                        0.0   \n4                             0.0                        0.0   \n...                           ...                        ...   \n519599                        0.0                        0.0   \n519600                        0.0                        0.0   \n519601                        0.0                        0.0   \n519602                        0.0                        0.0   \n519603                        0.0                        0.0   \n\n        Load_StatusDRLights  Load_StatusLRLights3  Load_StatusEntryHallLights  \\\n0                       0.0                   0.0                         0.0   \n1                       0.0                   0.0                         0.0   \n2                       0.0                   0.0                         0.0   \n3                       0.0                   0.0                         0.0   \n4                       0.0                   0.0                         0.0   \n...                     ...                   ...                         ...   \n519599                  0.0                   0.0                         0.0   \n519600                  0.0                   0.0                         0.0   \n519601                  0.0                   0.0                         0.0   \n519602                  0.0                   0.0                         0.0   \n519603                  0.0                   0.0                         0.0   \n\n        ...  SHW_GlycolFlowHXCoriolisSHW  SHW_WaterFlowHXCoriolisSHW  \\\n0       ...                          NaN                         NaN   \n1       ...                          NaN                         NaN   \n2       ...                          NaN                         NaN   \n3       ...                          NaN                         NaN   \n4       ...                          NaN                         NaN   \n...     ...                          ...                         ...   \n519599  ...                   419.930636                  942.630328   \n519600  ...                   419.930636                  942.630328   \n519601  ...                   419.930636                  942.630328   \n519602  ...                   419.930636                  942.630328   \n519603  ...                   419.930636                  942.630328   \n\n        SHW_GlycolFlowRateHXCoriolisSHW  SHW_WaterFlowRateHXCoriolisSHW  \\\n0                                   NaN                             NaN   \n1                                   NaN                             NaN   \n2                                   NaN                             NaN   \n3                                   NaN                             NaN   \n4                                   NaN                             NaN   \n...                                 ...                             ...   \n519599                         0.001164                        0.000296   \n519600                         0.001546                        0.000268   \n519601                         0.000187                        0.000000   \n519602                         0.001145                        0.000000   \n519603                         0.002149                        0.001006   \n\n        HVAC_HeatPumpIndoorUnitPower  HVAC_HeatPumpOutdoorUnitPower  \\\n0                            184.412                       1108.765   \n1                            184.618                       1097.577   \n2                            169.844                       1086.113   \n3                            167.300                       1079.586   \n4                            182.976                       1048.502   \n...                              ...                            ...   \n519599                        11.725                         22.563   \n519600                        11.178                         22.475   \n519601                        10.767                         22.388   \n519602                        10.903                         22.169   \n519603                        11.315                         22.957   \n\n        HVAC_DehumidifierPower  HVAC_DehumidifierInletAirTemp  \\\n0                        4.471                         72.102   \n1                        4.508                         72.096   \n2                        4.510                         72.077   \n3                        4.529                         72.074   \n4                        4.438                         72.086   \n...                        ...                            ...   \n519599                   4.265                         67.645   \n519600                   4.286                         67.655   \n519601                   4.293                         67.644   \n519602                   4.306                         67.651   \n519603                   4.327                         67.652   \n\n        HVAC_DehumidifierExitAirTemp  HVAC_DehumidifierAirflow  \n0                             74.655                       0.0  \n1                             74.701                       0.0  \n2                             74.759                       0.0  \n3                             74.829                       0.0  \n4                             74.863                       0.0  \n...                              ...                       ...  \n519599                        68.550                       0.0  \n519600                        68.551                       0.0  \n519601                        68.549                       0.0  \n519602                        68.552                       0.0  \n519603                        68.560                       0.0  \n\n[519604 rows x 380 columns]",
      "text/html": "<div>\n<style scoped>\n    .dataframe tbody tr th:only-of-type {\n        vertical-align: middle;\n    }\n\n    .dataframe tbody tr th {\n        vertical-align: top;\n    }\n\n    .dataframe thead th {\n        text-align: right;\n    }\n</style>\n<table border=\"1\" class=\"dataframe\">\n  <thead>\n    <tr style=\"text-align: right;\">\n      <th></th>\n      <th>TimeStamp_Count</th>\n      <th>Load_LatentHeatWaterVolume</th>\n      <th>Load_RefrigeratorTemp</th>\n      <th>Load_StatusBA1Lights</th>\n      <th>Load_StatusKitchenLightsA</th>\n      <th>Load_StatusKitchenLightsB</th>\n      <th>Load_StatusKitchenLightsC</th>\n      <th>Load_StatusDRLights</th>\n      <th>Load_StatusLRLights3</th>\n      <th>Load_StatusEntryHallLights</th>\n      <th>...</th>\n      <th>SHW_GlycolFlowHXCoriolisSHW</th>\n      <th>SHW_WaterFlowHXCoriolisSHW</th>\n      <th>SHW_GlycolFlowRateHXCoriolisSHW</th>\n      <th>SHW_WaterFlowRateHXCoriolisSHW</th>\n      <th>HVAC_HeatPumpIndoorUnitPower</th>\n      <th>HVAC_HeatPumpOutdoorUnitPower</th>\n      <th>HVAC_DehumidifierPower</th>\n      <th>HVAC_DehumidifierInletAirTemp</th>\n      <th>HVAC_DehumidifierExitAirTemp</th>\n      <th>HVAC_DehumidifierAirflow</th>\n    </tr>\n  </thead>\n  <tbody>\n    <tr>\n      <th>0</th>\n      <td>1</td>\n      <td>0.000000</td>\n      <td>4.994715</td>\n      <td>0.0</td>\n      <td>0.0</td>\n      <td>0.0</td>\n      <td>0.0</td>\n      <td>0.0</td>\n      <td>0.0</td>\n      <td>0.0</td>\n      <td>...</td>\n      <td>NaN</td>\n      <td>NaN</td>\n      <td>NaN</td>\n      <td>NaN</td>\n      <td>184.412</td>\n      <td>1108.765</td>\n      <td>4.471</td>\n      <td>72.102</td>\n      <td>74.655</td>\n      <td>0.0</td>\n    </tr>\n    <tr>\n      <th>1</th>\n      <td>2</td>\n      <td>0.000000</td>\n      <td>5.046792</td>\n      <td>0.0</td>\n      <td>0.0</td>\n      <td>0.0</td>\n      <td>0.0</td>\n      <td>0.0</td>\n      <td>0.0</td>\n      <td>0.0</td>\n      <td>...</td>\n      <td>NaN</td>\n      <td>NaN</td>\n      <td>NaN</td>\n      <td>NaN</td>\n      <td>184.618</td>\n      <td>1097.577</td>\n      <td>4.508</td>\n      <td>72.096</td>\n      <td>74.701</td>\n      <td>0.0</td>\n    </tr>\n    <tr>\n      <th>2</th>\n      <td>3</td>\n      <td>0.000000</td>\n      <td>5.129493</td>\n      <td>0.0</td>\n      <td>0.0</td>\n      <td>0.0</td>\n      <td>0.0</td>\n      <td>0.0</td>\n      <td>0.0</td>\n      <td>0.0</td>\n      <td>...</td>\n      <td>NaN</td>\n      <td>NaN</td>\n      <td>NaN</td>\n      <td>NaN</td>\n      <td>169.844</td>\n      <td>1086.113</td>\n      <td>4.510</td>\n      <td>72.077</td>\n      <td>74.759</td>\n      <td>0.0</td>\n    </tr>\n    <tr>\n      <th>3</th>\n      <td>4</td>\n      <td>0.001981</td>\n      <td>5.163539</td>\n      <td>0.0</td>\n      <td>0.0</td>\n      <td>0.0</td>\n      <td>0.0</td>\n      <td>0.0</td>\n      <td>0.0</td>\n      <td>0.0</td>\n      <td>...</td>\n      <td>NaN</td>\n      <td>NaN</td>\n      <td>NaN</td>\n      <td>NaN</td>\n      <td>167.300</td>\n      <td>1079.586</td>\n      <td>4.529</td>\n      <td>72.074</td>\n      <td>74.829</td>\n      <td>0.0</td>\n    </tr>\n    <tr>\n      <th>4</th>\n      <td>5</td>\n      <td>0.001981</td>\n      <td>5.232744</td>\n      <td>0.0</td>\n      <td>0.0</td>\n      <td>0.0</td>\n      <td>0.0</td>\n      <td>0.0</td>\n      <td>0.0</td>\n      <td>0.0</td>\n      <td>...</td>\n      <td>NaN</td>\n      <td>NaN</td>\n      <td>NaN</td>\n      <td>NaN</td>\n      <td>182.976</td>\n      <td>1048.502</td>\n      <td>4.438</td>\n      <td>72.086</td>\n      <td>74.863</td>\n      <td>0.0</td>\n    </tr>\n    <tr>\n      <th>...</th>\n      <td>...</td>\n      <td>...</td>\n      <td>...</td>\n      <td>...</td>\n      <td>...</td>\n      <td>...</td>\n      <td>...</td>\n      <td>...</td>\n      <td>...</td>\n      <td>...</td>\n      <td>...</td>\n      <td>...</td>\n      <td>...</td>\n      <td>...</td>\n      <td>...</td>\n      <td>...</td>\n      <td>...</td>\n      <td>...</td>\n      <td>...</td>\n      <td>...</td>\n      <td>...</td>\n    </tr>\n    <tr>\n      <th>519599</th>\n      <td>519600</td>\n      <td>1.757590</td>\n      <td>4.512704</td>\n      <td>0.0</td>\n      <td>0.0</td>\n      <td>0.0</td>\n      <td>0.0</td>\n      <td>0.0</td>\n      <td>0.0</td>\n      <td>0.0</td>\n      <td>...</td>\n      <td>419.930636</td>\n      <td>942.630328</td>\n      <td>0.001164</td>\n      <td>0.000296</td>\n      <td>11.725</td>\n      <td>22.563</td>\n      <td>4.265</td>\n      <td>67.645</td>\n      <td>68.550</td>\n      <td>0.0</td>\n    </tr>\n    <tr>\n      <th>519600</th>\n      <td>519601</td>\n      <td>1.760893</td>\n      <td>4.514255</td>\n      <td>0.0</td>\n      <td>0.0</td>\n      <td>0.0</td>\n      <td>0.0</td>\n      <td>0.0</td>\n      <td>0.0</td>\n      <td>0.0</td>\n      <td>...</td>\n      <td>419.930636</td>\n      <td>942.630328</td>\n      <td>0.001546</td>\n      <td>0.000268</td>\n      <td>11.178</td>\n      <td>22.475</td>\n      <td>4.286</td>\n      <td>67.655</td>\n      <td>68.551</td>\n      <td>0.0</td>\n    </tr>\n    <tr>\n      <th>519601</th>\n      <td>519602</td>\n      <td>1.763535</td>\n      <td>4.548853</td>\n      <td>0.0</td>\n      <td>0.0</td>\n      <td>0.0</td>\n      <td>0.0</td>\n      <td>0.0</td>\n      <td>0.0</td>\n      <td>0.0</td>\n      <td>...</td>\n      <td>419.930636</td>\n      <td>942.630328</td>\n      <td>0.000187</td>\n      <td>0.000000</td>\n      <td>10.767</td>\n      <td>22.388</td>\n      <td>4.293</td>\n      <td>67.644</td>\n      <td>68.549</td>\n      <td>0.0</td>\n    </tr>\n    <tr>\n      <th>519602</th>\n      <td>519603</td>\n      <td>1.763535</td>\n      <td>4.557287</td>\n      <td>0.0</td>\n      <td>0.0</td>\n      <td>0.0</td>\n      <td>0.0</td>\n      <td>0.0</td>\n      <td>0.0</td>\n      <td>0.0</td>\n      <td>...</td>\n      <td>419.930636</td>\n      <td>942.630328</td>\n      <td>0.001145</td>\n      <td>0.000000</td>\n      <td>10.903</td>\n      <td>22.169</td>\n      <td>4.306</td>\n      <td>67.651</td>\n      <td>68.552</td>\n      <td>0.0</td>\n    </tr>\n    <tr>\n      <th>519603</th>\n      <td>519604</td>\n      <td>1.763535</td>\n      <td>4.589046</td>\n      <td>0.0</td>\n      <td>0.0</td>\n      <td>0.0</td>\n      <td>0.0</td>\n      <td>0.0</td>\n      <td>0.0</td>\n      <td>0.0</td>\n      <td>...</td>\n      <td>419.930636</td>\n      <td>942.630328</td>\n      <td>0.002149</td>\n      <td>0.001006</td>\n      <td>11.315</td>\n      <td>22.957</td>\n      <td>4.327</td>\n      <td>67.652</td>\n      <td>68.560</td>\n      <td>0.0</td>\n    </tr>\n  </tbody>\n</table>\n<p>519604 rows × 380 columns</p>\n</div>"
     },
     "execution_count": 27,
     "metadata": {},
     "output_type": "execute_result"
    }
   ],
   "source": [
    "import DataRetriever as dr\n",
    "import pandas as pd\n",
    "import plotly.express as px\n",
    "import numpy as np\n",
    "\n",
    "retriever = dr.DataRetriever()\n",
    "\n",
    "# Load the metadata\n",
    "metadata = retriever.get_data(\"metadata-year2.pkl\")\n",
    "metadata.rename(columns={\"Unnamed: 0\": \"Attribute\"}, inplace=True)\n",
    "\n",
    "#vLoad the NZERTF data\n",
    "year_2 = retriever.get_data(\"All-Subsystems-minute-Year2.pkl\")\n",
    "\n",
    "# Add timestamp converted to UTC as index to year_2\n",
    "# year_2[\"Timestamp UTC\"] = pd.to_datetime(year_2[\"Timestamp\"], utc=True, infer_datetime_format=True)\n",
    "# year_2.set_index(\"Timestamp UTC\", inplace=True)\n",
    "\n",
    "columns_to_clip = year_2.select_dtypes(np.number).columns #Only integer columns not string.\n",
    "year_2[columns_to_clip].clip(lower=0) #Minimum value of column must be 0, else set to 0."
   ],
   "metadata": {
    "collapsed": false,
    "pycharm": {
     "name": "#%%\n"
    }
   }
  },
  {
   "cell_type": "code",
   "execution_count": 28,
   "outputs": [
    {
     "name": "stdout",
     "output_type": "stream",
     "text": [
      "['Load_LRPlugLoadsPowerUsage', 'Load_KPlugLoadsPowerUsage', 'Load_MBRPlugLoadsPowerUsage', 'Load_BR2PlugLoadsPowerUsage', 'Load_BR3PlugLoadsPowerUsage', 'Load_BR4PlugLoadsPowerUsage', 'Load_1stFloorLightsPowerUsage', 'Load_2ndFloorLightsPowerUsage', 'Load_DryerPowerTotal', 'Load_OvenPowerTotal', 'Load_BasementPlugLoadsPowerUsage', 'Load_ClothesWasherPowerWithStandby', 'Load_RefrigeratorPowerWithStandby', 'Load_MicrowavePowerWithStandby', 'Elec_PowerPlugsBaseAHeliodyneHXs', 'Elec_PowerPlugsBaseB', 'Elec_PowerPlugsBaseC', 'Elec_PowerSumpPump', 'Elec_PowerLightsBasementStair', 'Elec_PowerSpare1', 'Elec_PowerPlugsDR', 'Elec_PowerPlugsBR4', 'Elec_PowerPlugsEntryHall', 'Elec_PowerDryer1of2', 'Elec_PowerDryer2of2', 'Elec_PowerHRV', 'Elec_PowerHeatPumpWH2of2', 'Elec_PowerMakeUpAirDamper', 'Elec_PowerPlugsMBAEast', 'Elec_PowerPlugsMBAWest', 'Elec_PowerPlugsKitSink', 'Elec_PowerGarbageDisposal', 'Elec_PowerPlugsKitRange', 'Elec_PowerPlugsKitPeninsula', 'Elec_PowerPlugs2ndFloor', 'Elec_PowerSpare2', 'Elec_PowerPlugsMBR', 'Elec_PowerLights1stFloorA', 'Elec_PowerLights1stFloorB', 'Elec_PowerDishwasher', 'Elec_PowerPlugsGSHPInstrumentation', 'Elec_PowerPlugsHVACInstrumentation', 'Elec_PowerLightsAttic', 'Elec_PowerPlugsInstKitA', 'Elec_PowerPlugsInstDRA', 'Elec_PowerPlugsInstLRA', 'Elec_PowerPlugsInstMBRA', 'Elec_PowerPlugsInstBR2Hall', 'Elec_PowerPlugsInstHall', 'Elec_PowerLightingControlPanelRPS1', 'Elec_PowerPlugsInstBR3', 'Elec_PowerLightingControlPanelRPS2', 'Elec_PowerLightsBasement', 'Elec_PowerPlugsDRB', 'Elec_PowerPlugsAttic', 'DHW_HeatPumpWaterHeaterPowerTotal', 'DHW_SHWPumpsPowerWithStandby', 'HVAC_HeatPumpIndoorUnitPower', 'HVAC_HeatPumpOutdoorUnitPower', 'HVAC_DehumidifierPower']\n"
     ]
    }
   ],
   "source": [
    "watt_attributes = metadata[metadata[\"Units\"] == \"W\"] # We only want attributes measured in Watts\n",
    "watt_attributes = watt_attributes[watt_attributes['max_value'] > 0] #If no measurements are recorded in the attribute, we dont need to include it\n",
    "watt_attributes = watt_attributes[watt_attributes[\"Parameter\"] != \"Power_Thermal\"]\n",
    "watt_attributes = watt_attributes[watt_attributes[\"Subsystem\"] != \"PV\"]\n",
    "\n",
    "consuming_attributes = watt_attributes[\"Attribute\"].to_list()\n",
    "unwanted_attributes = [\"Elec_PowerClothesWasher\", \"Elec_PowerRefrigerator\",  \"Elec_PowerMicrowave\", \"Elec_PowerPlugsLR\", \"Elec_PowerLights2ndFloor\", \"Elec_PowerPlugsBR3\", \"Elec_PowerPlugsBR2\", \"Elec_PowerPlugsInstKitD\"]\n",
    "consuming_attributes = [attribute for attribute in consuming_attributes if attribute not in unwanted_attributes]"
   ],
   "metadata": {
    "collapsed": false,
    "pycharm": {
     "name": "#%%\n"
    }
   }
  },
  {
   "cell_type": "code",
   "execution_count": 29,
   "outputs": [],
   "source": [
    "energy_data = year_2[[\"Timestamp\"] + consuming_attributes]"
   ],
   "metadata": {
    "collapsed": false,
    "pycharm": {
     "name": "#%%\n"
    }
   }
  },
  {
   "cell_type": "code",
   "execution_count": 30,
   "outputs": [
    {
     "name": "stdout",
     "output_type": "stream",
     "text": [
      "16431.889886245914\n"
     ]
    }
   ],
   "source": [
    "total_consumed = energy_data[consuming_attributes].sum().sum()\n",
    "print(total_consumed * (1/60) / 1000)"
   ],
   "metadata": {
    "collapsed": false,
    "pycharm": {
     "name": "#%%\n"
    }
   }
  },
  {
   "cell_type": "code",
   "execution_count": 30,
   "outputs": [],
   "source": [],
   "metadata": {
    "collapsed": false,
    "pycharm": {
     "name": "#%%\n"
    }
   }
  }
 ],
 "metadata": {
  "kernelspec": {
   "display_name": "Python 3",
   "language": "python",
   "name": "python3"
  },
  "language_info": {
   "codemirror_mode": {
    "name": "ipython",
    "version": 2
   },
   "file_extension": ".py",
   "mimetype": "text/x-python",
   "name": "python",
   "nbconvert_exporter": "python",
   "pygments_lexer": "ipython2",
   "version": "2.7.6"
  }
 },
 "nbformat": 4,
 "nbformat_minor": 0
}