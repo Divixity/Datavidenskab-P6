{
 "cells": [
  {
   "cell_type": "markdown",
   "metadata": {
    "collapsed": true,
    "pycharm": {
     "name": "#%% md\n"
    }
   },
   "source": [
    "# Importing and retrieving data"
   ]
  },
  {
   "cell_type": "code",
   "execution_count": null,
   "outputs": [],
   "source": [
    "import DataRetriever as dr\n",
    "import pandas as pd\n",
    "import numpy as np\n",
    "import plotly.express as px\n",
    "\n",
    "retriever = dr.DataRetriever()\n",
    "\n",
    "# Load the metadata\n",
    "metadata = retriever.get_data(\"metadata-year2.pkl\")\n",
    "metadata.rename(columns={\"Unnamed: 0\": \"Attribute\"}, inplace=True)\n",
    "\n",
    "#vLoad the NZERTF data\n",
    "year_2 = retriever.get_data(\"All-Subsystems-minute-Year2.pkl\")\n",
    "\n",
    "columns_to_clip = year_2.select_dtypes(np.number).columns #Only integer columns not string.\n",
    "year_2[columns_to_clip].clip(lower=0) #Minimum value of column must be 0, else set to 0."
   ],
   "metadata": {
    "collapsed": false,
    "pycharm": {
     "name": "#%%\n",
     "is_executing": true
    }
   }
  },
  {
   "cell_type": "code",
   "execution_count": null,
   "outputs": [],
   "source": [
    "watt_attributes = metadata[metadata[\"Units\"] == \"W\"] # We only want attributes measured in Watts\n",
    "watt_attributes = watt_attributes[watt_attributes['max_value'] > 0] #If no measurements are recorded in the attribute, we dont need to include it\n",
    "watt_attributes = watt_attributes[watt_attributes[\"Parameter\"] != \"Power_Thermal\"]\n",
    "watt_attributes = watt_attributes[watt_attributes[\"Subsystem\"] != \"PV\"]\n",
    "\n",
    "consuming_attributes = watt_attributes[\"Attribute\"].to_list()\n",
    "print(len(consuming_attributes))\n",
    "\n",
    "unwanted_attributes = [\"Elec_PowerClothesWasher\", \"Elec_PowerRefrigerator\",  \"Elec_PowerMicrowave\", \"Elec_PowerPlugsLR\", \"Elec_PowerLights2ndFloor\", \"Elec_PowerPlugsBR3\", \"Elec_PowerPlugsBR2\", \"Elec_PowerPlugsInstKitD\", \"Elec_PowerHeatPumpWH2of2\"]\n",
    "\n",
    "#Se metadata for forklaring af unwanted_attributes\n",
    "consuming_attributes = [attribute for attribute in consuming_attributes if attribute not in unwanted_attributes]\n",
    "\n",
    "consuming_attributes"
   ],
   "metadata": {
    "collapsed": false,
    "pycharm": {
     "name": "#%%\n",
     "is_executing": true
    }
   }
  },
  {
   "cell_type": "code",
   "execution_count": null,
   "outputs": [],
   "source": [
    "energy_data = year_2[[\"Timestamp\"] + consuming_attributes]\n",
    "\n",
    "energy_data = energy_data[40265:40265*2]"
   ],
   "metadata": {
    "collapsed": false,
    "pycharm": {
     "name": "#%%\n",
     "is_executing": true
    }
   }
  },
  {
   "cell_type": "code",
   "execution_count": null,
   "outputs": [],
   "source": [
    "total_consumed = energy_data[consuming_attributes].sum().sum()\n",
    "total_consumed * (1/60) / 1000"
   ],
   "metadata": {
    "collapsed": false,
    "pycharm": {
     "name": "#%%\n",
     "is_executing": true
    }
   }
  },
  {
   "cell_type": "code",
   "execution_count": null,
   "outputs": [],
   "source": [
    "total_consumed_HVAC = energy_data[['HVAC_DehumidifierPower', 'HVAC_HeatPumpIndoorUnitPower', 'HVAC_HeatPumpOutdoorUnitPower', 'Elec_PowerPlugsHVACInstrumentation']].sum().sum()\n",
    "#HVACInstrumentation er et forsøg\n",
    "total_consumed_HVAC * (1/60) / 1000"
   ],
   "metadata": {
    "collapsed": false,
    "pycharm": {
     "name": "#%%\n",
     "is_executing": true
    }
   }
  },
  {
   "cell_type": "code",
   "execution_count": null,
   "outputs": [],
   "source": [
    "total_consumed_DHW = energy_data[['DHW_HeatPumpWaterHeaterPowerTotal', 'DHW_SHWPumpsPowerWithStandby']].sum().sum()\n",
    "total_consumed_DHW * (1/60) / 1000"
   ],
   "metadata": {
    "collapsed": false,
    "pycharm": {
     "name": "#%%\n",
     "is_executing": true
    }
   }
  },
  {
   "cell_type": "code",
   "execution_count": null,
   "outputs": [],
   "source": [
    "lighting_attributes = watt_attributes[watt_attributes[\"Subsystem\"] == \"Lighting\"]\n",
    "lighting_attributes = lighting_attributes[\"Attribute\"].to_list()\n",
    "lighting_attributes.remove('Elec_PowerLights2ndFloor')\n",
    "print(lighting_attributes)\n",
    "\n",
    "total_consumed_lighting = energy_data[lighting_attributes].sum().sum()\n",
    "total_consumed_lighting * (1/60) / 1000"
   ],
   "metadata": {
    "collapsed": false,
    "pycharm": {
     "name": "#%%\n",
     "is_executing": true
    }
   }
  },
  {
   "cell_type": "code",
   "execution_count": null,
   "outputs": [],
   "source": [
    "total_consumed_appliances = energy_data[[\"Load_ClothesWasherPowerWithStandby\", \"Load_OvenPowerTotal\", \"Elec_PowerDishwasher\", \"Load_MicrowavePowerWithStandby\", \"Load_RefrigeratorPowerWithStandby\", \"Load_DryerPowerTotal\"]].sum().sum()\n",
    "#Mangler Cooktop?\n",
    "total_consumed_appliances * (1/60) / 1000"
   ],
   "metadata": {
    "collapsed": false,
    "pycharm": {
     "name": "#%%\n",
     "is_executing": true
    }
   }
  },
  {
   "cell_type": "code",
   "execution_count": null,
   "outputs": [],
   "source": [
    "plug_attributes = watt_attributes[watt_attributes[\"Attribute\"].str.contains(\"Plug\")]\n",
    "plug_attributes = plug_attributes[plug_attributes[\"Description\"].str.contains(\"consumption\")]\n",
    "plug_attributes = plug_attributes[\"Attribute\"].to_list()\n",
    "#plug_attributes.remove('Elec_PowerPlugsLR')\n",
    "plug_attributes.remove('Elec_PowerPlugsBR3')\n",
    "plug_attributes.remove('Elec_PowerPlugsBR2')\n",
    "plug_attributes.remove('Elec_PowerPlugsInstKitD')\n",
    "plug_attributes.remove(\"Elec_PowerPlugsInstKitA\")\n",
    "plug_attributes.remove(\"Elec_PowerPlugsKitSink\")\n",
    "plug_attributes.remove(\"Elec_PowerPlugsKitRange\")\n",
    "plug_attributes.remove(\"Elec_PowerPlugsKitPeninsula\")\n",
    "plug_attributes.remove(\"Elec_PowerPlugsHVACInstrumentation\")\n",
    "plug_attributes.remove(\"Elec_PowerPlugsMBR\") #Virker til at være subset af Load_MBRPlugLoadsPowerUsage\n",
    "plug_attributes.remove(\"Elec_PowerPlugsInstBR3\")\n",
    "print(plug_attributes)\n",
    "\n",
    "total_consumed_plugloads = energy_data[plug_attributes].sum().sum()\n",
    "# total_consumed_plugloads = energy_data[[\"Elec_PowerPlugsDR\", \"Elec_PowerPlugsBR4\", \"Elec_PowerPlugsEntryHall\",\"Load_BR2PlugLoadsPowerUsage\", \"Elec_PowerPlugsMBAEast\", \"Elec_PowerPlugsMBAWest\", \"\"\n",
    "#                                         \"Load_LRPlugLoadsPowerUsage\", \"Load_BR3PlugLoadsPowerUsage\", \"Elec_PowerPlugsMBR\", \"Elec_PowerPlugsAttic\"]].sum().sum()\n",
    "total_consumed_plugloads * (1/60) / 1000"
   ],
   "metadata": {
    "collapsed": false,
    "pycharm": {
     "name": "#%%\n",
     "is_executing": true
    }
   }
  },
  {
   "cell_type": "code",
   "execution_count": null,
   "outputs": [],
   "source": [
    "# fig = px.line(data_frame=energy_data,\n",
    "#               x = energy_data.index,\n",
    "#               y = plug_attributes)\n",
    "# fig.show()"
   ],
   "metadata": {
    "collapsed": false,
    "pycharm": {
     "name": "#%%\n",
     "is_executing": true
    }
   }
  },
  {
   "cell_type": "code",
   "execution_count": null,
   "outputs": [],
   "source": [
    "CONSUMED = total_consumed_plugloads + total_consumed_appliances + total_consumed_lighting + total_consumed_HVAC + total_consumed_DHW\n",
    "CONSUMED * (1/60) / 1000"
   ],
   "metadata": {
    "collapsed": false,
    "pycharm": {
     "name": "#%%\n",
     "is_executing": true
    }
   }
  },
  {
   "cell_type": "code",
   "execution_count": null,
   "outputs": [],
   "source": [],
   "metadata": {
    "collapsed": false,
    "pycharm": {
     "name": "#%%\n",
     "is_executing": true
    }
   }
  }
 ],
 "metadata": {
  "kernelspec": {
   "display_name": "Python 3",
   "language": "python",
   "name": "python3"
  },
  "language_info": {
   "codemirror_mode": {
    "name": "ipython",
    "version": 2
   },
   "file_extension": ".py",
   "mimetype": "text/x-python",
   "name": "python",
   "nbconvert_exporter": "python",
   "pygments_lexer": "ipython2",
   "version": "2.7.6"
  }
 },
 "nbformat": 4,
 "nbformat_minor": 0
}