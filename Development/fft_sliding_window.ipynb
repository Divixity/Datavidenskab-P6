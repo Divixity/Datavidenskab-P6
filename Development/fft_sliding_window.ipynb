{
 "cells": [
  {
   "cell_type": "code",
   "execution_count": 31,
   "metadata": {
    "collapsed": true
   },
   "outputs": [],
   "source": [
    "import numpy as np\n",
    "import pandas as pd\n",
    "import plotly.graph_objects as go\n",
    "from sklearn.metrics import mean_squared_error\n",
    "\n",
    "import DataRetriever as dr\n",
    "\n",
    "RETRIEVER = dr.DataRetriever()\n",
    "CON_ATTRIBUTES = RETRIEVER.get_attributes(file_name='consuming_attributes.pkl')\n",
    "PV_ATTRIBUTES = RETRIEVER.get_attributes(file_name='producing_attributes.pkl')\n",
    "FLEX_ATTRIBUTES = [\"Load_ClothesWasherPowerWithStandby\", \"Elec_PowerDishwasher\", \"Load_DryerPowerTotal\"]\n",
    "FIXED_ATTRIBUTES = list(set(CON_ATTRIBUTES) - set(FLEX_ATTRIBUTES))\n",
    "\n",
    "attributes = PV_ATTRIBUTES\n",
    "\n",
    "DATA = RETRIEVER.get_data(file_name='All-Subsystems-hour-Year2.pkl')[attributes].sum(axis=1).clip(lower=0) / 1000"
   ]
  },
  {
   "cell_type": "code",
   "execution_count": 32,
   "outputs": [
    {
     "data": {
      "text/plain": "Timestamp\n2015-02-01 00:00:00    1.649987\n2015-02-01 01:00:00    1.636576\n2015-02-01 02:00:00    1.625529\n2015-02-01 03:00:00    1.614417\n2015-02-01 04:00:00    1.603063\n                         ...   \n2016-01-31 19:00:00   -0.801138\n2016-01-31 20:00:00   -0.764050\n2016-01-31 21:00:00   -0.769852\n2016-01-31 22:00:00   -0.775064\n2016-01-31 23:00:00   -0.780994\nFreq: H, Length: 8760, dtype: float64"
     },
     "execution_count": 32,
     "metadata": {},
     "output_type": "execute_result"
    }
   ],
   "source": [
    "from statsmodels.tsa.seasonal import STL\n",
    "\n",
    "prod_stl_config = STL(endog=DATA,\n",
    "                      period=24,  # We expect the pattern to repeat daily\n",
    "                      seasonal=7,  # Default\n",
    "                      trend=None,  # Default, follows suggestion from original paper (1.5 * period) / (1 - 1.5 / seasonal)\n",
    "                      low_pass=None,  # Default lowest odd integer greater than period\n",
    "                      seasonal_deg=1,  # Degree of LOESS to calculate seasonal element, chosen as in original paper\n",
    "                      trend_deg=1,  # Degree of LOESS to calculate trend element, chosen as in original paper\n",
    "                      low_pass_deg=1,  # Degree of LOESS in the low-pass filter, chosen as in original paper\n",
    "                      robust=True,  # Setting to True should make the method robust to outliers\n",
    "                      # The following three attributes determines whether to skip some LOESS smoothings, using linear interpolation to estimate the skipped points. Used only to decrease computational time. Set to 1 to not skip any smoothings.\n",
    "                      seasonal_jump=1,\n",
    "                      trend_jump=1,\n",
    "                      low_pass_jump=1)\n",
    "\n",
    "prod_decomp = prod_stl_config.fit()\n",
    "(prod_decomp.seasonal + prod_decomp.trend.mean()) - prod_decomp.observed"
   ],
   "metadata": {
    "collapsed": false,
    "pycharm": {
     "name": "#%%\n"
    }
   }
  },
  {
   "cell_type": "code",
   "execution_count": 33,
   "outputs": [],
   "source": [
    "def fourierExtrapolation(data: np.array, number_of_predictions: int, n_sinusoids: int) -> np.array:\n",
    "    \"\"\"\n",
    "    Predict {number_of_predictions} observations after the index data.size of {data}, using {n_sinusoids} sinusoids.\n",
    "    :param data: The data on which to train the model. Corresponds to {_x = x_0, x_1, ... x_(n-1)} in the theory\n",
    "    :param number_of_predictions: The amount of predictions to output. Corresponds to {x_((n-1)+1), x_((n-1)+2), ..., x_((n-1)+{number_of_predictions})}\n",
    "    :param n_sinusoids: The amount of sinusoids on which to base the predictions. I.e. the data probably contains many sinusoids, but we only wish to make predictions based on the {n_sinusoids} largest frequencies.\n",
    "    :return: A numpy array of length data.size + number_of_predictions, containing the transformed original data + predictions\n",
    "    \"\"\"\n",
    "    data_size = data.size  # n\n",
    "\n",
    "    X_frequency_domain = list(np.fft.fft(data))  # The series of complex numbers X = {X1, X2, ...}\n",
    "    frequencies = list(np.fft.fftfreq(data_size, d=1))  # Some frequencies, e.g. {4, 3, -7, 8, -5, ...}\n",
    "\n",
    "    indexes = list(range(len(X_frequency_domain)))  # {0, 1, ..., n-1}\n",
    "    indexes.sort(key=lambda idx: np.absolute(X_frequency_domain[idx]), reverse=True)  # ascendingly sort indices by amplitude\n",
    "    \n",
    "    sample_index = np.arange(0, data_size + number_of_predictions)  # sample_index = {0, 1, ..., n-1, n, n+1, ..., (n-1)+number_of_predictions}\n",
    "    x_restored_sig = np.zeros(sample_index.size)  # Prepare a numpy array to receive x reconstructed from its Fourier Transform\n",
    "\n",
    "    if n_sinusoids == 0:\n",
    "        return x_restored_sig + data.mean()\n",
    "\n",
    "    for i in indexes[:n_sinusoids]:\n",
    "        amplitude = np.absolute(X_frequency_domain[i])\n",
    "        phase = np.angle(X_frequency_domain[i])\n",
    "        x_restored_sig += amplitude * np.cos(2 * np.pi * frequencies[i] * sample_index + phase)\n",
    "\n",
    "    x_restored = 1 / data_size * x_restored_sig\n",
    "\n",
    "    return x_restored"
   ],
   "metadata": {
    "collapsed": false,
    "pycharm": {
     "name": "#%%\n"
    }
   }
  },
  {
   "cell_type": "code",
   "execution_count": 34,
   "outputs": [],
   "source": [
    "DATA_SIZE = DATA.size\n",
    "\n",
    "WEEK = 24 * 7\n",
    "\n",
    "train_range = WEEK\n",
    "VALIDATION_RANGE = 24 * 3\n",
    "\n",
    "SINUSOIDS = list(range(0, 50)) + list(range(50, 210, 10))"
   ],
   "metadata": {
    "collapsed": false,
    "pycharm": {
     "name": "#%%\n"
    }
   }
  },
  {
   "cell_type": "code",
   "execution_count": 35,
   "outputs": [
    {
     "data": {
      "text/plain": "{'divide': 'warn', 'over': 'warn', 'under': 'ignore', 'invalid': 'ignore'}"
     },
     "execution_count": 35,
     "metadata": {},
     "output_type": "execute_result"
    }
   ],
   "source": [
    "np.seterr(invalid='ignore')"
   ],
   "metadata": {
    "collapsed": false,
    "pycharm": {
     "name": "#%%\n"
    }
   }
  },
  {
   "cell_type": "code",
   "execution_count": 36,
   "outputs": [],
   "source": [
    "# # RANDOM FOREST\n",
    "# from sklearn.ensemble import RandomForestRegressor\n",
    "# from sklearn.preprocessing import OneHotEncoder\n",
    "# weather = pd.read_csv(\"GAI_2015_2016.csv\")\n",
    "# weather[\"Time\"] = pd.to_datetime(weather[\"Time\"])\n",
    "#\n",
    "# fold = 0\n",
    "# lst = []\n",
    "# while train_range + VALIDATION_RANGE <= DATA_SIZE:\n",
    "#     ensemble = pd.DataFrame(DATA[train_range-WEEK:train_range+VALIDATION_RANGE], columns=[\"Target\"]).merge(weather, how=\"left\", left_index=True, right_on=\"Time\")\n",
    "#\n",
    "#     ensemble.index = ensemble[\"Time\"]\n",
    "#     ensemble[\"Time\"] = ensemble[\"Time\"].dt.hour\n",
    "#\n",
    "#     ohe = OneHotEncoder(sparse=False)\n",
    "#     hot_np = ohe.fit_transform(ensemble[[\"Time\", \"Condition\"]])\n",
    "#     hot = pd.DataFrame(data=hot_np, columns=ohe.get_feature_names_out())\n",
    "#     hot_test = hot[:WEEK]\n",
    "#     hot_vali = hot[WEEK:]\n",
    "#\n",
    "#     rfr = RandomForestRegressor()\n",
    "#     rfr.fit(hot_test, ensemble[\"Target\"][:WEEK])\n",
    "#\n",
    "#     lst.append(np.sqrt(mean_squared_error(rfr.predict(hot_vali), ensemble[\"Target\"][WEEK:])))\n",
    "#\n",
    "#     train_range += 24 * 14\n",
    "#     fold += 1\n",
    "#\n",
    "# sum(lst) / len(lst)"
   ],
   "metadata": {
    "collapsed": false,
    "pycharm": {
     "name": "#%%\n"
    }
   }
  },
  {
   "cell_type": "code",
   "execution_count": 37,
   "outputs": [],
   "source": [
    "cv_DataFrame = pd.DataFrame(index=SINUSOIDS)\n",
    "fold = 0\n",
    "while train_range + VALIDATION_RANGE <= DATA_SIZE:\n",
    "\n",
    "\n",
    "\n",
    "    # ensemble = pd.DataFrame(DATA[train_range-WEEK:train_range+VALIDATION_RANGE], columns=[\"Target\"]).merge(weather, how=\"left\", left_index=True, right_on=\"Time\")\n",
    "    #\n",
    "    # ensemble.index = ensemble[\"Time\"]\n",
    "    # ensemble[\"Time\"] = ensemble[\"Time\"].dt.hour\n",
    "    #\n",
    "    # ohe = OneHotEncoder(sparse=False)\n",
    "    # hot_np = ohe.fit_transform(ensemble[[\"Time\", \"Condition\"]])\n",
    "    # hot = pd.DataFrame(data=hot_np, columns=ohe.get_feature_names_out())\n",
    "    # hot_test = hot[:WEEK]\n",
    "    # hot_vali = hot[WEEK:]\n",
    "    #\n",
    "    # rfr = RandomForestRegressor()\n",
    "    # rfr.fit(hot_test, ensemble[\"Target\"][:WEEK])\n",
    "    # rfr_pred = pd.Series(rfr.predict(hot_vali))\n",
    "\n",
    "\n",
    "\n",
    "    sinusoids_r2 = []\n",
    "    for n_sinusoids in SINUSOIDS:\n",
    "        fft = fourierExtrapolation(data=DATA[train_range - WEEK:train_range], number_of_predictions=VALIDATION_RANGE, n_sinusoids=n_sinusoids)\n",
    "        prediction = pd.Series(data=fft[WEEK:], index=DATA[train_range:train_range + VALIDATION_RANGE].index)\n",
    "\n",
    "        actual = DATA[train_range:train_range+VALIDATION_RANGE]\n",
    "\n",
    "        prediction.reset_index(inplace=True, drop=True)\n",
    "\n",
    "        sinusoids_r2.append(np.sqrt(mean_squared_error(actual, prediction)))\n",
    "        # sinusoids_r2.append(np.sqrt(mean_squared_error(actual, np.add(rfr_pred, prediction) / 2)))\n",
    "\n",
    "    cv_DataFrame[f\"Fold_{fold}\"] = sinusoids_r2\n",
    "\n",
    "    train_range += 24 * 14\n",
    "    fold += 1"
   ],
   "metadata": {
    "collapsed": false,
    "pycharm": {
     "name": "#%%\n"
    }
   }
  },
  {
   "cell_type": "code",
   "execution_count": 38,
   "outputs": [
    {
     "data": {
      "text/plain": "       Fold_0    Fold_1    Fold_2    Fold_3    Fold_4    Fold_5    Fold_6  \\\n0    0.976914  3.246010  2.967360  3.010178  2.961945  3.054535  3.152763   \n1    0.976914  3.246010  2.967360  3.010178  2.961945  3.054535  3.152763   \n2    0.777797  3.079551  2.792733  2.287321  2.077150  2.098901  2.151242   \n3    1.061163  2.927517  2.638141  1.828765  1.728945  1.551622  1.488785   \n4    1.010154  2.878210  2.522847  1.538528  1.414626  1.138188  1.125908   \n..        ...       ...       ...       ...       ...       ...       ...   \n160  1.354763  3.170238  2.285571  1.492941  1.821279  2.405971  1.441308   \n170  1.355323  3.170113  2.285623  1.492958  1.821167  2.405764  1.442377   \n180  1.355323  3.170113  2.285623  1.492958  1.821167  2.405764  1.442377   \n190  1.355323  3.170113  2.285623  1.492958  1.821167  2.405764  1.442377   \n200  1.355323  3.170113  2.285623  1.492958  1.821167  2.405764  1.442377   \n\n       Fold_7    Fold_8    Fold_9  ...   Fold_16   Fold_17   Fold_18  \\\n0    2.736250  2.593279  2.705959  ...  2.426104  2.694100  2.469425   \n1    2.736250  2.593279  2.705959  ...  2.426104  2.694100  2.469425   \n2    1.852831  1.934865  1.802522  ...  1.775256  2.453885  2.007985   \n3    1.304267  2.111178  1.551737  ...  1.804379  2.251977  2.026629   \n4    1.045336  1.981370  1.294702  ...  1.616668  2.162301  1.852628   \n..        ...       ...       ...  ...       ...       ...       ...   \n160  2.236996  2.242954  1.312207  ...  2.156193  2.037992  1.593906   \n170  2.239069  2.241417  1.314038  ...  2.156626  2.038598  1.593510   \n180  2.239069  2.241417  1.314038  ...  2.156626  2.038598  1.593510   \n190  2.239069  2.241417  1.314038  ...  2.156626  2.038598  1.593510   \n200  2.239069  2.241417  1.314038  ...  2.156626  2.038598  1.593510   \n\n      Fold_19   Fold_20   Fold_21   Fold_22   Fold_23   Fold_24   Fold_25  \n0    1.883333  2.610068  1.205873  1.335376  0.845575  1.892765  0.855160  \n1    1.883333  2.610068  1.205873  1.335376  0.845575  1.892765  0.855160  \n2    1.523257  2.090533  1.361444  1.043144  0.704349  1.580489  0.954053  \n3    1.409238  1.718574  1.887473  1.167145  0.629109  1.510612  1.302154  \n4    1.235371  1.402215  1.927763  1.031347  0.539301  1.359510  1.325950  \n..        ...       ...       ...       ...       ...       ...       ...  \n160  1.841891  1.990249  2.355742  1.770974  1.194555  2.028374  2.550310  \n170  1.841695  1.990405  2.355740  1.771520  1.194869  2.028487  2.550460  \n180  1.841695  1.990405  2.355740  1.771520  1.194869  2.028487  2.550460  \n190  1.841695  1.990405  2.355740  1.771520  1.194869  2.028487  2.550460  \n200  1.841695  1.990405  2.355740  1.771520  1.194869  2.028487  2.550460  \n\n[66 rows x 26 columns]",
      "text/html": "<div>\n<style scoped>\n    .dataframe tbody tr th:only-of-type {\n        vertical-align: middle;\n    }\n\n    .dataframe tbody tr th {\n        vertical-align: top;\n    }\n\n    .dataframe thead th {\n        text-align: right;\n    }\n</style>\n<table border=\"1\" class=\"dataframe\">\n  <thead>\n    <tr style=\"text-align: right;\">\n      <th></th>\n      <th>Fold_0</th>\n      <th>Fold_1</th>\n      <th>Fold_2</th>\n      <th>Fold_3</th>\n      <th>Fold_4</th>\n      <th>Fold_5</th>\n      <th>Fold_6</th>\n      <th>Fold_7</th>\n      <th>Fold_8</th>\n      <th>Fold_9</th>\n      <th>...</th>\n      <th>Fold_16</th>\n      <th>Fold_17</th>\n      <th>Fold_18</th>\n      <th>Fold_19</th>\n      <th>Fold_20</th>\n      <th>Fold_21</th>\n      <th>Fold_22</th>\n      <th>Fold_23</th>\n      <th>Fold_24</th>\n      <th>Fold_25</th>\n    </tr>\n  </thead>\n  <tbody>\n    <tr>\n      <th>0</th>\n      <td>0.976914</td>\n      <td>3.246010</td>\n      <td>2.967360</td>\n      <td>3.010178</td>\n      <td>2.961945</td>\n      <td>3.054535</td>\n      <td>3.152763</td>\n      <td>2.736250</td>\n      <td>2.593279</td>\n      <td>2.705959</td>\n      <td>...</td>\n      <td>2.426104</td>\n      <td>2.694100</td>\n      <td>2.469425</td>\n      <td>1.883333</td>\n      <td>2.610068</td>\n      <td>1.205873</td>\n      <td>1.335376</td>\n      <td>0.845575</td>\n      <td>1.892765</td>\n      <td>0.855160</td>\n    </tr>\n    <tr>\n      <th>1</th>\n      <td>0.976914</td>\n      <td>3.246010</td>\n      <td>2.967360</td>\n      <td>3.010178</td>\n      <td>2.961945</td>\n      <td>3.054535</td>\n      <td>3.152763</td>\n      <td>2.736250</td>\n      <td>2.593279</td>\n      <td>2.705959</td>\n      <td>...</td>\n      <td>2.426104</td>\n      <td>2.694100</td>\n      <td>2.469425</td>\n      <td>1.883333</td>\n      <td>2.610068</td>\n      <td>1.205873</td>\n      <td>1.335376</td>\n      <td>0.845575</td>\n      <td>1.892765</td>\n      <td>0.855160</td>\n    </tr>\n    <tr>\n      <th>2</th>\n      <td>0.777797</td>\n      <td>3.079551</td>\n      <td>2.792733</td>\n      <td>2.287321</td>\n      <td>2.077150</td>\n      <td>2.098901</td>\n      <td>2.151242</td>\n      <td>1.852831</td>\n      <td>1.934865</td>\n      <td>1.802522</td>\n      <td>...</td>\n      <td>1.775256</td>\n      <td>2.453885</td>\n      <td>2.007985</td>\n      <td>1.523257</td>\n      <td>2.090533</td>\n      <td>1.361444</td>\n      <td>1.043144</td>\n      <td>0.704349</td>\n      <td>1.580489</td>\n      <td>0.954053</td>\n    </tr>\n    <tr>\n      <th>3</th>\n      <td>1.061163</td>\n      <td>2.927517</td>\n      <td>2.638141</td>\n      <td>1.828765</td>\n      <td>1.728945</td>\n      <td>1.551622</td>\n      <td>1.488785</td>\n      <td>1.304267</td>\n      <td>2.111178</td>\n      <td>1.551737</td>\n      <td>...</td>\n      <td>1.804379</td>\n      <td>2.251977</td>\n      <td>2.026629</td>\n      <td>1.409238</td>\n      <td>1.718574</td>\n      <td>1.887473</td>\n      <td>1.167145</td>\n      <td>0.629109</td>\n      <td>1.510612</td>\n      <td>1.302154</td>\n    </tr>\n    <tr>\n      <th>4</th>\n      <td>1.010154</td>\n      <td>2.878210</td>\n      <td>2.522847</td>\n      <td>1.538528</td>\n      <td>1.414626</td>\n      <td>1.138188</td>\n      <td>1.125908</td>\n      <td>1.045336</td>\n      <td>1.981370</td>\n      <td>1.294702</td>\n      <td>...</td>\n      <td>1.616668</td>\n      <td>2.162301</td>\n      <td>1.852628</td>\n      <td>1.235371</td>\n      <td>1.402215</td>\n      <td>1.927763</td>\n      <td>1.031347</td>\n      <td>0.539301</td>\n      <td>1.359510</td>\n      <td>1.325950</td>\n    </tr>\n    <tr>\n      <th>...</th>\n      <td>...</td>\n      <td>...</td>\n      <td>...</td>\n      <td>...</td>\n      <td>...</td>\n      <td>...</td>\n      <td>...</td>\n      <td>...</td>\n      <td>...</td>\n      <td>...</td>\n      <td>...</td>\n      <td>...</td>\n      <td>...</td>\n      <td>...</td>\n      <td>...</td>\n      <td>...</td>\n      <td>...</td>\n      <td>...</td>\n      <td>...</td>\n      <td>...</td>\n      <td>...</td>\n    </tr>\n    <tr>\n      <th>160</th>\n      <td>1.354763</td>\n      <td>3.170238</td>\n      <td>2.285571</td>\n      <td>1.492941</td>\n      <td>1.821279</td>\n      <td>2.405971</td>\n      <td>1.441308</td>\n      <td>2.236996</td>\n      <td>2.242954</td>\n      <td>1.312207</td>\n      <td>...</td>\n      <td>2.156193</td>\n      <td>2.037992</td>\n      <td>1.593906</td>\n      <td>1.841891</td>\n      <td>1.990249</td>\n      <td>2.355742</td>\n      <td>1.770974</td>\n      <td>1.194555</td>\n      <td>2.028374</td>\n      <td>2.550310</td>\n    </tr>\n    <tr>\n      <th>170</th>\n      <td>1.355323</td>\n      <td>3.170113</td>\n      <td>2.285623</td>\n      <td>1.492958</td>\n      <td>1.821167</td>\n      <td>2.405764</td>\n      <td>1.442377</td>\n      <td>2.239069</td>\n      <td>2.241417</td>\n      <td>1.314038</td>\n      <td>...</td>\n      <td>2.156626</td>\n      <td>2.038598</td>\n      <td>1.593510</td>\n      <td>1.841695</td>\n      <td>1.990405</td>\n      <td>2.355740</td>\n      <td>1.771520</td>\n      <td>1.194869</td>\n      <td>2.028487</td>\n      <td>2.550460</td>\n    </tr>\n    <tr>\n      <th>180</th>\n      <td>1.355323</td>\n      <td>3.170113</td>\n      <td>2.285623</td>\n      <td>1.492958</td>\n      <td>1.821167</td>\n      <td>2.405764</td>\n      <td>1.442377</td>\n      <td>2.239069</td>\n      <td>2.241417</td>\n      <td>1.314038</td>\n      <td>...</td>\n      <td>2.156626</td>\n      <td>2.038598</td>\n      <td>1.593510</td>\n      <td>1.841695</td>\n      <td>1.990405</td>\n      <td>2.355740</td>\n      <td>1.771520</td>\n      <td>1.194869</td>\n      <td>2.028487</td>\n      <td>2.550460</td>\n    </tr>\n    <tr>\n      <th>190</th>\n      <td>1.355323</td>\n      <td>3.170113</td>\n      <td>2.285623</td>\n      <td>1.492958</td>\n      <td>1.821167</td>\n      <td>2.405764</td>\n      <td>1.442377</td>\n      <td>2.239069</td>\n      <td>2.241417</td>\n      <td>1.314038</td>\n      <td>...</td>\n      <td>2.156626</td>\n      <td>2.038598</td>\n      <td>1.593510</td>\n      <td>1.841695</td>\n      <td>1.990405</td>\n      <td>2.355740</td>\n      <td>1.771520</td>\n      <td>1.194869</td>\n      <td>2.028487</td>\n      <td>2.550460</td>\n    </tr>\n    <tr>\n      <th>200</th>\n      <td>1.355323</td>\n      <td>3.170113</td>\n      <td>2.285623</td>\n      <td>1.492958</td>\n      <td>1.821167</td>\n      <td>2.405764</td>\n      <td>1.442377</td>\n      <td>2.239069</td>\n      <td>2.241417</td>\n      <td>1.314038</td>\n      <td>...</td>\n      <td>2.156626</td>\n      <td>2.038598</td>\n      <td>1.593510</td>\n      <td>1.841695</td>\n      <td>1.990405</td>\n      <td>2.355740</td>\n      <td>1.771520</td>\n      <td>1.194869</td>\n      <td>2.028487</td>\n      <td>2.550460</td>\n    </tr>\n  </tbody>\n</table>\n<p>66 rows × 26 columns</p>\n</div>"
     },
     "execution_count": 38,
     "metadata": {},
     "output_type": "execute_result"
    }
   ],
   "source": [
    "cv_DataFrame"
   ],
   "metadata": {
    "collapsed": false,
    "pycharm": {
     "name": "#%%\n"
    }
   }
  },
  {
   "cell_type": "code",
   "execution_count": 39,
   "outputs": [
    {
     "data": {
      "text/plain": "5"
     },
     "execution_count": 39,
     "metadata": {},
     "output_type": "execute_result"
    }
   ],
   "source": [
    "cv_DataFrame.mean(axis=1).idxmin()"
   ],
   "metadata": {
    "collapsed": false,
    "pycharm": {
     "name": "#%%\n"
    }
   }
  },
  {
   "cell_type": "code",
   "execution_count": 40,
   "outputs": [
    {
     "data": {
      "text/plain": "0      2.382740\n1      2.382740\n2      1.829713\n3      1.647399\n4      1.457758\n         ...   \n160    1.834760\n170    1.834893\n180    1.834893\n190    1.834893\n200    1.834893\nLength: 66, dtype: float64"
     },
     "execution_count": 40,
     "metadata": {},
     "output_type": "execute_result"
    }
   ],
   "source": [
    "cv_DataFrame.mean(axis=1)"
   ],
   "metadata": {
    "collapsed": false,
    "pycharm": {
     "name": "#%%\n"
    }
   }
  },
  {
   "cell_type": "code",
   "execution_count": 41,
   "outputs": [],
   "source": [
    "DATA = DATA[WEEK*6:]"
   ],
   "metadata": {
    "collapsed": false,
    "pycharm": {
     "name": "#%%\n"
    }
   }
  },
  {
   "cell_type": "code",
   "execution_count": 42,
   "outputs": [],
   "source": [
    "fft = fourierExtrapolation(data=DATA[0:WEEK], number_of_predictions=VALIDATION_RANGE, n_sinusoids=cv_DataFrame.mean(axis=1).idxmin())\n",
    "prediction = pd.Series(data=fft[WEEK:], index=DATA[DATA[0:WEEK].size:DATA[0:WEEK].size + VALIDATION_RANGE].index)\n",
    "\n",
    "pred_test = fft[:WEEK]\n",
    "\n",
    "actual = DATA[WEEK:WEEK+VALIDATION_RANGE]\n",
    "\n",
    "if attributes == PV_ATTRIBUTES:\n",
    "    pv = prediction\n",
    "elif attributes == FIXED_ATTRIBUTES:\n",
    "    fix = prediction\n",
    "elif attributes == FLEX_ATTRIBUTES:\n",
    "    flex = actual"
   ],
   "metadata": {
    "collapsed": false,
    "pycharm": {
     "name": "#%%\n"
    }
   }
  },
  {
   "cell_type": "code",
   "execution_count": 43,
   "outputs": [
    {
     "data": {
      "application/vnd.plotly.v1+json": {
       "data": [
        {
         "line": {
          "color": "rgb(84, 84, 84)"
         },
         "mode": "lines",
         "name": "Training Data",
         "x": [
          0,
          1,
          2,
          3,
          4,
          5,
          6,
          7,
          8,
          9,
          10,
          11,
          12,
          13,
          14,
          15,
          16,
          17,
          18,
          19,
          20,
          21,
          22,
          23,
          24,
          25,
          26,
          27,
          28,
          29,
          30,
          31,
          32,
          33,
          34,
          35,
          36,
          37,
          38,
          39,
          40,
          41,
          42,
          43,
          44,
          45,
          46,
          47,
          48,
          49,
          50,
          51,
          52,
          53,
          54,
          55,
          56,
          57,
          58,
          59,
          60,
          61,
          62,
          63,
          64,
          65,
          66,
          67,
          68,
          69,
          70,
          71,
          72,
          73,
          74,
          75,
          76,
          77,
          78,
          79,
          80,
          81,
          82,
          83,
          84,
          85,
          86,
          87,
          88,
          89,
          90,
          91,
          92,
          93,
          94,
          95,
          96,
          97,
          98,
          99,
          100,
          101,
          102,
          103,
          104,
          105,
          106,
          107,
          108,
          109,
          110,
          111,
          112,
          113,
          114,
          115,
          116,
          117,
          118,
          119,
          120,
          121,
          122,
          123,
          124,
          125,
          126,
          127,
          128,
          129,
          130,
          131,
          132,
          133,
          134,
          135,
          136,
          137,
          138,
          139,
          140,
          141,
          142,
          143,
          144,
          145,
          146,
          147,
          148,
          149,
          150,
          151,
          152,
          153,
          154,
          155,
          156,
          157,
          158,
          159,
          160,
          161,
          162,
          163,
          164,
          165,
          166,
          167
         ],
         "y": [
          0.018714926704,
          0.018769663207,
          0.018683560196999998,
          0.018736002604,
          0.018697861958,
          0.018749456342000002,
          0.01873175319,
          0.018409644079000004,
          0.10898123522,
          0.7422501159,
          5.082113641,
          8.102820377,
          2.1652128380000004,
          8.587877791999999,
          8.673559346,
          7.629165425999999,
          5.735907182,
          3.3594976930000002,
          0.8821941676,
          0.020366475446,
          0.017771540976000002,
          0.01805633262,
          0.018245756547,
          0.018294978853,
          0.018345537121,
          0.01831183753,
          0.018297059457,
          0.018396549257,
          0.018404654725,
          0.018353846915,
          0.018465967241999996,
          0.18529009064000002,
          0.5343252626999999,
          1.1818641606000002,
          2.867555151,
          6.995450362,
          6.7577249109999995,
          6.2847408,
          7.469986149,
          3.079343868,
          2.9463700259999994,
          2.7687442090000003,
          0.6252436729,
          0.018792722496,
          0.017848703272999998,
          0.018068021981,
          0.018166994556,
          0.018259118613,
          0.018301184022999996,
          0.018350917212,
          0.018322928842,
          0.018156067371,
          0.018270925792,
          0.018350412306000003,
          0.018427806281999998,
          0.03573528211,
          0.348214042,
          2.719399229,
          0.4180595935,
          3.516596064,
          0.8772714691,
          5.31031355,
          8.251809137,
          6.896380035,
          5.790235482,
          3.513487343,
          1.0241257157,
          0.02869950067,
          0.017788354667,
          0.018125121943,
          0.018209904383999997,
          0.018343053430000002,
          0.018405097896999997,
          0.018380425771,
          0.018405401627,
          0.018285535478,
          0.018254069518999997,
          0.018372085793,
          0.018369794941,
          0.13822738565,
          0.6459099287,
          4.136143658999999,
          6.767949923,
          8.290873922,
          9.169449203000001,
          9.398800879,
          8.891651506,
          7.707702079000001,
          5.926043962,
          3.602233058,
          1.046494492,
          0.02439674518,
          0.017835068162,
          0.018085844039999997,
          0.018230323251,
          0.018293598967000002,
          0.018397396733999996,
          0.018427542209000003,
          0.018393868302999997,
          0.018349039475,
          0.018250238911,
          0.018310378567,
          0.018199274778000003,
          0.17372889356000001,
          1.0937714172000002,
          3.198628725,
          5.265471957,
          5.363808081,
          7.161866468,
          7.171904281,
          6.701616647999999,
          5.7192438679999995,
          4.382114961999999,
          1.4866812642,
          0.48217113800000005,
          0.0221065449,
          0.017854616865,
          0.018104851008,
          0.018163715458,
          0.018231490361,
          0.018255038714000003,
          0.0183130548,
          0.018403691244,
          0.018399068944,
          0.018380416806,
          0.018317894617,
          0.018290058643999997,
          0.018547169955,
          0.017378556338999998,
          0.017995482334,
          0.018282677857,
          0.03308750105,
          0.02876878542,
          0.017912106451,
          0.018177743243999997,
          0.027508140102,
          0.07169096815,
          0.05128196161199999,
          0.021206572514999997,
          0.01791162467,
          0.018174346002,
          0.018333595054,
          0.018378450839000002,
          0.018391963296,
          0.018535020522,
          0.018388529158,
          0.018439832719,
          0.018450705687,
          0.018339907169,
          0.018337250740999997,
          0.018438908147999998,
          0.018074670648000002,
          0.0863193518,
          0.21333778235,
          0.48330802563999997,
          1.3009883939000002,
          3.6010290620000007,
          8.145975806000001,
          6.855363043,
          7.096314217,
          5.215162505,
          3.213713246,
          0.9052169092000001,
          0.024628874930000003,
          0.017732403818999997,
          0.018069481118,
          0.0182148815,
          0.018318894577000002
         ],
         "type": "scatter"
        },
        {
         "line": {
          "color": "rgb(234,143,129)"
         },
         "mode": "lines",
         "name": "Observed",
         "x": [
          168,
          169,
          170,
          171,
          172,
          173,
          174,
          175,
          176,
          177,
          178,
          179,
          180,
          181,
          182,
          183,
          184,
          185,
          186,
          187,
          188,
          189,
          190,
          191,
          192,
          193,
          194,
          195,
          196,
          197,
          198,
          199,
          200,
          201,
          202,
          203,
          204,
          205,
          206,
          207,
          208,
          209,
          210,
          211,
          212,
          213,
          214,
          215,
          216,
          217,
          218,
          219,
          220,
          221,
          222,
          223,
          224,
          225,
          226,
          227,
          228,
          229,
          230,
          231,
          232,
          233,
          234,
          235,
          236,
          237,
          238,
          239
         ],
         "y": [
          0.01835654433,
          0.018434254027,
          0.018498494355,
          0.0185071805,
          0.018516756138,
          0.018516374302,
          0.018517538372,
          0.17004136219,
          1.0562989563,
          4.125593771,
          5.749542544,
          6.255702408,
          7.527154859,
          8.500669267000001,
          7.539010534,
          7.0784256590000005,
          5.81359388,
          3.599717303,
          0.8981985626000001,
          0.03276217137,
          0.017650026908999996,
          0.017971474155,
          0.018117296696,
          0.018308777872000002,
          0.018367942874999998,
          0.0184167274,
          0.018454475721,
          0.018393817552,
          0.018358727534,
          0.018290558418,
          0.018583229843,
          0.19828596303,
          0.8792868981999999,
          4.722717381000001,
          7.053608309,
          8.343283508,
          9.010664356000001,
          9.172650814,
          8.620780472999998,
          7.243801852000001,
          5.791541138,
          3.479145238,
          1.0339696137,
          0.032645913820000004,
          0.017738808632000003,
          0.017999167267,
          0.018293019182999998,
          0.018246312060999997,
          0.018375237093,
          0.018390616321999998,
          0.018441719612,
          0.018423181836,
          0.01843700517,
          0.018340775139999998,
          0.018352022234,
          0.04244035635,
          0.2844635403,
          1.1467295922999998,
          1.2816516602,
          2.440653813,
          3.725034259,
          3.287901052,
          4.103432514,
          6.704407861,
          3.465752931,
          2.183754,
          1.0504281633,
          0.0386801859,
          0.017679140012,
          0.017937607797,
          0.018223271607999997,
          0.018279144820999998
         ],
         "type": "scatter"
        },
        {
         "line": {
          "color": "rgb(32,115,171)"
         },
         "mode": "lines",
         "name": "Predicted",
         "x": [
          168,
          169,
          170,
          171,
          172,
          173,
          174,
          175,
          176,
          177,
          178,
          179,
          180,
          181,
          182,
          183,
          184,
          185,
          186,
          187,
          188,
          189,
          190,
          191,
          192,
          193,
          194,
          195,
          196,
          197,
          198,
          199,
          200,
          201,
          202,
          203,
          204,
          205,
          206,
          207,
          208,
          209,
          210,
          211,
          212,
          213,
          214,
          215,
          216,
          217,
          218,
          219,
          220,
          221,
          222,
          223,
          224,
          225,
          226,
          227,
          228,
          229,
          230,
          231,
          232,
          233,
          234,
          235,
          236,
          237,
          238,
          239
         ],
         "y": [
          0.19201399406938188,
          0.4002869589685971,
          0.40013717077355654,
          0.19830039923746995,
          -0.1070900084797181,
          -0.35579990544842527,
          -0.37377212872251137,
          -0.02708516759645092,
          0.7333643242057815,
          1.8490274085848042,
          3.159494985329775,
          4.4360385594104965,
          5.434555801361069,
          5.954302677880418,
          5.887129808506605,
          5.2443404752143294,
          4.154118213538618,
          2.830182164260377,
          1.5198643757104136,
          0.44515757316578286,
          -0.24796926106758052,
          -0.5190062406182246,
          -0.43386114797033026,
          -0.13775877580409893,
          0.19201399406938172,
          0.40028695896859695,
          0.4001371707735567,
          0.19830039923747028,
          -0.10709000847971768,
          -0.35579990544842094,
          -0.3737721287225115,
          -0.02708516759645126,
          0.7333643242057806,
          1.849027408584803,
          3.1594949853297734,
          4.436038559410495,
          5.434555801361068,
          5.954302677880417,
          5.8871298085066055,
          5.24434047521433,
          4.15411821353862,
          2.830182164260379,
          1.5198643757104149,
          0.4451575731658079,
          -0.2479692610675802,
          -0.5190062406182246,
          -0.43386114797033026,
          -0.13775877580409893,
          0.1920139940693737,
          0.4002869589685971,
          0.40013717077355704,
          0.19830039923747045,
          -0.10709000847971732,
          -0.3557999054484206,
          -0.37377212872251164,
          -0.027085167596451937,
          0.7333643242057798,
          1.849027408584802,
          3.1594949853297725,
          4.436038559410494,
          5.434555801361066,
          5.954302677880417,
          5.887129808506615,
          5.24434047521433,
          4.154118213538621,
          2.8301821642603797,
          1.5198643757104158,
          0.4451575731658087,
          -0.24796926106756007,
          -0.5190062406182245,
          -0.4338611479703156,
          -0.13775877580409943
         ],
         "type": "scatter"
        }
       ],
       "layout": {
        "template": {
         "data": {
          "histogram2dcontour": [
           {
            "type": "histogram2dcontour",
            "colorbar": {
             "outlinewidth": 0,
             "ticks": ""
            },
            "colorscale": [
             [
              0.0,
              "#0d0887"
             ],
             [
              0.1111111111111111,
              "#46039f"
             ],
             [
              0.2222222222222222,
              "#7201a8"
             ],
             [
              0.3333333333333333,
              "#9c179e"
             ],
             [
              0.4444444444444444,
              "#bd3786"
             ],
             [
              0.5555555555555556,
              "#d8576b"
             ],
             [
              0.6666666666666666,
              "#ed7953"
             ],
             [
              0.7777777777777778,
              "#fb9f3a"
             ],
             [
              0.8888888888888888,
              "#fdca26"
             ],
             [
              1.0,
              "#f0f921"
             ]
            ]
           }
          ],
          "choropleth": [
           {
            "type": "choropleth",
            "colorbar": {
             "outlinewidth": 0,
             "ticks": ""
            }
           }
          ],
          "histogram2d": [
           {
            "type": "histogram2d",
            "colorbar": {
             "outlinewidth": 0,
             "ticks": ""
            },
            "colorscale": [
             [
              0.0,
              "#0d0887"
             ],
             [
              0.1111111111111111,
              "#46039f"
             ],
             [
              0.2222222222222222,
              "#7201a8"
             ],
             [
              0.3333333333333333,
              "#9c179e"
             ],
             [
              0.4444444444444444,
              "#bd3786"
             ],
             [
              0.5555555555555556,
              "#d8576b"
             ],
             [
              0.6666666666666666,
              "#ed7953"
             ],
             [
              0.7777777777777778,
              "#fb9f3a"
             ],
             [
              0.8888888888888888,
              "#fdca26"
             ],
             [
              1.0,
              "#f0f921"
             ]
            ]
           }
          ],
          "heatmap": [
           {
            "type": "heatmap",
            "colorbar": {
             "outlinewidth": 0,
             "ticks": ""
            },
            "colorscale": [
             [
              0.0,
              "#0d0887"
             ],
             [
              0.1111111111111111,
              "#46039f"
             ],
             [
              0.2222222222222222,
              "#7201a8"
             ],
             [
              0.3333333333333333,
              "#9c179e"
             ],
             [
              0.4444444444444444,
              "#bd3786"
             ],
             [
              0.5555555555555556,
              "#d8576b"
             ],
             [
              0.6666666666666666,
              "#ed7953"
             ],
             [
              0.7777777777777778,
              "#fb9f3a"
             ],
             [
              0.8888888888888888,
              "#fdca26"
             ],
             [
              1.0,
              "#f0f921"
             ]
            ]
           }
          ],
          "heatmapgl": [
           {
            "type": "heatmapgl",
            "colorbar": {
             "outlinewidth": 0,
             "ticks": ""
            },
            "colorscale": [
             [
              0.0,
              "#0d0887"
             ],
             [
              0.1111111111111111,
              "#46039f"
             ],
             [
              0.2222222222222222,
              "#7201a8"
             ],
             [
              0.3333333333333333,
              "#9c179e"
             ],
             [
              0.4444444444444444,
              "#bd3786"
             ],
             [
              0.5555555555555556,
              "#d8576b"
             ],
             [
              0.6666666666666666,
              "#ed7953"
             ],
             [
              0.7777777777777778,
              "#fb9f3a"
             ],
             [
              0.8888888888888888,
              "#fdca26"
             ],
             [
              1.0,
              "#f0f921"
             ]
            ]
           }
          ],
          "contourcarpet": [
           {
            "type": "contourcarpet",
            "colorbar": {
             "outlinewidth": 0,
             "ticks": ""
            }
           }
          ],
          "contour": [
           {
            "type": "contour",
            "colorbar": {
             "outlinewidth": 0,
             "ticks": ""
            },
            "colorscale": [
             [
              0.0,
              "#0d0887"
             ],
             [
              0.1111111111111111,
              "#46039f"
             ],
             [
              0.2222222222222222,
              "#7201a8"
             ],
             [
              0.3333333333333333,
              "#9c179e"
             ],
             [
              0.4444444444444444,
              "#bd3786"
             ],
             [
              0.5555555555555556,
              "#d8576b"
             ],
             [
              0.6666666666666666,
              "#ed7953"
             ],
             [
              0.7777777777777778,
              "#fb9f3a"
             ],
             [
              0.8888888888888888,
              "#fdca26"
             ],
             [
              1.0,
              "#f0f921"
             ]
            ]
           }
          ],
          "surface": [
           {
            "type": "surface",
            "colorbar": {
             "outlinewidth": 0,
             "ticks": ""
            },
            "colorscale": [
             [
              0.0,
              "#0d0887"
             ],
             [
              0.1111111111111111,
              "#46039f"
             ],
             [
              0.2222222222222222,
              "#7201a8"
             ],
             [
              0.3333333333333333,
              "#9c179e"
             ],
             [
              0.4444444444444444,
              "#bd3786"
             ],
             [
              0.5555555555555556,
              "#d8576b"
             ],
             [
              0.6666666666666666,
              "#ed7953"
             ],
             [
              0.7777777777777778,
              "#fb9f3a"
             ],
             [
              0.8888888888888888,
              "#fdca26"
             ],
             [
              1.0,
              "#f0f921"
             ]
            ]
           }
          ],
          "mesh3d": [
           {
            "type": "mesh3d",
            "colorbar": {
             "outlinewidth": 0,
             "ticks": ""
            }
           }
          ],
          "scatter": [
           {
            "fillpattern": {
             "fillmode": "overlay",
             "size": 10,
             "solidity": 0.2
            },
            "type": "scatter"
           }
          ],
          "parcoords": [
           {
            "type": "parcoords",
            "line": {
             "colorbar": {
              "outlinewidth": 0,
              "ticks": ""
             }
            }
           }
          ],
          "scatterpolargl": [
           {
            "type": "scatterpolargl",
            "marker": {
             "colorbar": {
              "outlinewidth": 0,
              "ticks": ""
             }
            }
           }
          ],
          "bar": [
           {
            "error_x": {
             "color": "#2a3f5f"
            },
            "error_y": {
             "color": "#2a3f5f"
            },
            "marker": {
             "line": {
              "color": "#E5ECF6",
              "width": 0.5
             },
             "pattern": {
              "fillmode": "overlay",
              "size": 10,
              "solidity": 0.2
             }
            },
            "type": "bar"
           }
          ],
          "scattergeo": [
           {
            "type": "scattergeo",
            "marker": {
             "colorbar": {
              "outlinewidth": 0,
              "ticks": ""
             }
            }
           }
          ],
          "scatterpolar": [
           {
            "type": "scatterpolar",
            "marker": {
             "colorbar": {
              "outlinewidth": 0,
              "ticks": ""
             }
            }
           }
          ],
          "histogram": [
           {
            "marker": {
             "pattern": {
              "fillmode": "overlay",
              "size": 10,
              "solidity": 0.2
             }
            },
            "type": "histogram"
           }
          ],
          "scattergl": [
           {
            "type": "scattergl",
            "marker": {
             "colorbar": {
              "outlinewidth": 0,
              "ticks": ""
             }
            }
           }
          ],
          "scatter3d": [
           {
            "type": "scatter3d",
            "line": {
             "colorbar": {
              "outlinewidth": 0,
              "ticks": ""
             }
            },
            "marker": {
             "colorbar": {
              "outlinewidth": 0,
              "ticks": ""
             }
            }
           }
          ],
          "scattermapbox": [
           {
            "type": "scattermapbox",
            "marker": {
             "colorbar": {
              "outlinewidth": 0,
              "ticks": ""
             }
            }
           }
          ],
          "scatterternary": [
           {
            "type": "scatterternary",
            "marker": {
             "colorbar": {
              "outlinewidth": 0,
              "ticks": ""
             }
            }
           }
          ],
          "scattercarpet": [
           {
            "type": "scattercarpet",
            "marker": {
             "colorbar": {
              "outlinewidth": 0,
              "ticks": ""
             }
            }
           }
          ],
          "carpet": [
           {
            "aaxis": {
             "endlinecolor": "#2a3f5f",
             "gridcolor": "white",
             "linecolor": "white",
             "minorgridcolor": "white",
             "startlinecolor": "#2a3f5f"
            },
            "baxis": {
             "endlinecolor": "#2a3f5f",
             "gridcolor": "white",
             "linecolor": "white",
             "minorgridcolor": "white",
             "startlinecolor": "#2a3f5f"
            },
            "type": "carpet"
           }
          ],
          "table": [
           {
            "cells": {
             "fill": {
              "color": "#EBF0F8"
             },
             "line": {
              "color": "white"
             }
            },
            "header": {
             "fill": {
              "color": "#C8D4E3"
             },
             "line": {
              "color": "white"
             }
            },
            "type": "table"
           }
          ],
          "barpolar": [
           {
            "marker": {
             "line": {
              "color": "#E5ECF6",
              "width": 0.5
             },
             "pattern": {
              "fillmode": "overlay",
              "size": 10,
              "solidity": 0.2
             }
            },
            "type": "barpolar"
           }
          ],
          "pie": [
           {
            "automargin": true,
            "type": "pie"
           }
          ]
         },
         "layout": {
          "autotypenumbers": "strict",
          "colorway": [
           "#636efa",
           "#EF553B",
           "#00cc96",
           "#ab63fa",
           "#FFA15A",
           "#19d3f3",
           "#FF6692",
           "#B6E880",
           "#FF97FF",
           "#FECB52"
          ],
          "font": {
           "color": "#2a3f5f"
          },
          "hovermode": "closest",
          "hoverlabel": {
           "align": "left"
          },
          "paper_bgcolor": "white",
          "plot_bgcolor": "#E5ECF6",
          "polar": {
           "bgcolor": "#E5ECF6",
           "angularaxis": {
            "gridcolor": "white",
            "linecolor": "white",
            "ticks": ""
           },
           "radialaxis": {
            "gridcolor": "white",
            "linecolor": "white",
            "ticks": ""
           }
          },
          "ternary": {
           "bgcolor": "#E5ECF6",
           "aaxis": {
            "gridcolor": "white",
            "linecolor": "white",
            "ticks": ""
           },
           "baxis": {
            "gridcolor": "white",
            "linecolor": "white",
            "ticks": ""
           },
           "caxis": {
            "gridcolor": "white",
            "linecolor": "white",
            "ticks": ""
           }
          },
          "coloraxis": {
           "colorbar": {
            "outlinewidth": 0,
            "ticks": ""
           }
          },
          "colorscale": {
           "sequential": [
            [
             0.0,
             "#0d0887"
            ],
            [
             0.1111111111111111,
             "#46039f"
            ],
            [
             0.2222222222222222,
             "#7201a8"
            ],
            [
             0.3333333333333333,
             "#9c179e"
            ],
            [
             0.4444444444444444,
             "#bd3786"
            ],
            [
             0.5555555555555556,
             "#d8576b"
            ],
            [
             0.6666666666666666,
             "#ed7953"
            ],
            [
             0.7777777777777778,
             "#fb9f3a"
            ],
            [
             0.8888888888888888,
             "#fdca26"
            ],
            [
             1.0,
             "#f0f921"
            ]
           ],
           "sequentialminus": [
            [
             0.0,
             "#0d0887"
            ],
            [
             0.1111111111111111,
             "#46039f"
            ],
            [
             0.2222222222222222,
             "#7201a8"
            ],
            [
             0.3333333333333333,
             "#9c179e"
            ],
            [
             0.4444444444444444,
             "#bd3786"
            ],
            [
             0.5555555555555556,
             "#d8576b"
            ],
            [
             0.6666666666666666,
             "#ed7953"
            ],
            [
             0.7777777777777778,
             "#fb9f3a"
            ],
            [
             0.8888888888888888,
             "#fdca26"
            ],
            [
             1.0,
             "#f0f921"
            ]
           ],
           "diverging": [
            [
             0,
             "#8e0152"
            ],
            [
             0.1,
             "#c51b7d"
            ],
            [
             0.2,
             "#de77ae"
            ],
            [
             0.3,
             "#f1b6da"
            ],
            [
             0.4,
             "#fde0ef"
            ],
            [
             0.5,
             "#f7f7f7"
            ],
            [
             0.6,
             "#e6f5d0"
            ],
            [
             0.7,
             "#b8e186"
            ],
            [
             0.8,
             "#7fbc41"
            ],
            [
             0.9,
             "#4d9221"
            ],
            [
             1,
             "#276419"
            ]
           ]
          },
          "xaxis": {
           "gridcolor": "white",
           "linecolor": "white",
           "ticks": "",
           "title": {
            "standoff": 15
           },
           "zerolinecolor": "white",
           "automargin": true,
           "zerolinewidth": 2
          },
          "yaxis": {
           "gridcolor": "white",
           "linecolor": "white",
           "ticks": "",
           "title": {
            "standoff": 15
           },
           "zerolinecolor": "white",
           "automargin": true,
           "zerolinewidth": 2
          },
          "scene": {
           "xaxis": {
            "backgroundcolor": "#E5ECF6",
            "gridcolor": "white",
            "linecolor": "white",
            "showbackground": true,
            "ticks": "",
            "zerolinecolor": "white",
            "gridwidth": 2
           },
           "yaxis": {
            "backgroundcolor": "#E5ECF6",
            "gridcolor": "white",
            "linecolor": "white",
            "showbackground": true,
            "ticks": "",
            "zerolinecolor": "white",
            "gridwidth": 2
           },
           "zaxis": {
            "backgroundcolor": "#E5ECF6",
            "gridcolor": "white",
            "linecolor": "white",
            "showbackground": true,
            "ticks": "",
            "zerolinecolor": "white",
            "gridwidth": 2
           }
          },
          "shapedefaults": {
           "line": {
            "color": "#2a3f5f"
           }
          },
          "annotationdefaults": {
           "arrowcolor": "#2a3f5f",
           "arrowhead": 0,
           "arrowwidth": 1
          },
          "geo": {
           "bgcolor": "white",
           "landcolor": "#E5ECF6",
           "subunitcolor": "white",
           "showland": true,
           "showlakes": true,
           "lakecolor": "white"
          },
          "title": {
           "x": 0.05
          },
          "mapbox": {
           "style": "light"
          }
         }
        },
        "legend": {
         "orientation": "h",
         "yanchor": "bottom",
         "y": 1,
         "xanchor": "left",
         "x": 0
        },
        "xaxis": {
         "title": {
          "text": "Index"
         }
        },
        "yaxis": {
         "title": {
          "text": "Photovoltaic Production [kWh]"
         }
        }
       },
       "config": {
        "plotlyServerURL": "https://plot.ly"
       }
      },
      "text/html": "<div>                            <div id=\"eb43f937-d5b5-40f9-b509-9b32a0a50d12\" class=\"plotly-graph-div\" style=\"height:525px; width:100%;\"></div>            <script type=\"text/javascript\">                require([\"plotly\"], function(Plotly) {                    window.PLOTLYENV=window.PLOTLYENV || {};                                    if (document.getElementById(\"eb43f937-d5b5-40f9-b509-9b32a0a50d12\")) {                    Plotly.newPlot(                        \"eb43f937-d5b5-40f9-b509-9b32a0a50d12\",                        [{\"line\":{\"color\":\"rgb(84, 84, 84)\"},\"mode\":\"lines\",\"name\":\"Training Data\",\"x\":[0,1,2,3,4,5,6,7,8,9,10,11,12,13,14,15,16,17,18,19,20,21,22,23,24,25,26,27,28,29,30,31,32,33,34,35,36,37,38,39,40,41,42,43,44,45,46,47,48,49,50,51,52,53,54,55,56,57,58,59,60,61,62,63,64,65,66,67,68,69,70,71,72,73,74,75,76,77,78,79,80,81,82,83,84,85,86,87,88,89,90,91,92,93,94,95,96,97,98,99,100,101,102,103,104,105,106,107,108,109,110,111,112,113,114,115,116,117,118,119,120,121,122,123,124,125,126,127,128,129,130,131,132,133,134,135,136,137,138,139,140,141,142,143,144,145,146,147,148,149,150,151,152,153,154,155,156,157,158,159,160,161,162,163,164,165,166,167],\"y\":[0.018714926704,0.018769663207,0.018683560196999998,0.018736002604,0.018697861958,0.018749456342000002,0.01873175319,0.018409644079000004,0.10898123522,0.7422501159,5.082113641,8.102820377,2.1652128380000004,8.587877791999999,8.673559346,7.629165425999999,5.735907182,3.3594976930000002,0.8821941676,0.020366475446,0.017771540976000002,0.01805633262,0.018245756547,0.018294978853,0.018345537121,0.01831183753,0.018297059457,0.018396549257,0.018404654725,0.018353846915,0.018465967241999996,0.18529009064000002,0.5343252626999999,1.1818641606000002,2.867555151,6.995450362,6.7577249109999995,6.2847408,7.469986149,3.079343868,2.9463700259999994,2.7687442090000003,0.6252436729,0.018792722496,0.017848703272999998,0.018068021981,0.018166994556,0.018259118613,0.018301184022999996,0.018350917212,0.018322928842,0.018156067371,0.018270925792,0.018350412306000003,0.018427806281999998,0.03573528211,0.348214042,2.719399229,0.4180595935,3.516596064,0.8772714691,5.31031355,8.251809137,6.896380035,5.790235482,3.513487343,1.0241257157,0.02869950067,0.017788354667,0.018125121943,0.018209904383999997,0.018343053430000002,0.018405097896999997,0.018380425771,0.018405401627,0.018285535478,0.018254069518999997,0.018372085793,0.018369794941,0.13822738565,0.6459099287,4.136143658999999,6.767949923,8.290873922,9.169449203000001,9.398800879,8.891651506,7.707702079000001,5.926043962,3.602233058,1.046494492,0.02439674518,0.017835068162,0.018085844039999997,0.018230323251,0.018293598967000002,0.018397396733999996,0.018427542209000003,0.018393868302999997,0.018349039475,0.018250238911,0.018310378567,0.018199274778000003,0.17372889356000001,1.0937714172000002,3.198628725,5.265471957,5.363808081,7.161866468,7.171904281,6.701616647999999,5.7192438679999995,4.382114961999999,1.4866812642,0.48217113800000005,0.0221065449,0.017854616865,0.018104851008,0.018163715458,0.018231490361,0.018255038714000003,0.0183130548,0.018403691244,0.018399068944,0.018380416806,0.018317894617,0.018290058643999997,0.018547169955,0.017378556338999998,0.017995482334,0.018282677857,0.03308750105,0.02876878542,0.017912106451,0.018177743243999997,0.027508140102,0.07169096815,0.05128196161199999,0.021206572514999997,0.01791162467,0.018174346002,0.018333595054,0.018378450839000002,0.018391963296,0.018535020522,0.018388529158,0.018439832719,0.018450705687,0.018339907169,0.018337250740999997,0.018438908147999998,0.018074670648000002,0.0863193518,0.21333778235,0.48330802563999997,1.3009883939000002,3.6010290620000007,8.145975806000001,6.855363043,7.096314217,5.215162505,3.213713246,0.9052169092000001,0.024628874930000003,0.017732403818999997,0.018069481118,0.0182148815,0.018318894577000002],\"type\":\"scatter\"},{\"line\":{\"color\":\"rgb(234,143,129)\"},\"mode\":\"lines\",\"name\":\"Observed\",\"x\":[168,169,170,171,172,173,174,175,176,177,178,179,180,181,182,183,184,185,186,187,188,189,190,191,192,193,194,195,196,197,198,199,200,201,202,203,204,205,206,207,208,209,210,211,212,213,214,215,216,217,218,219,220,221,222,223,224,225,226,227,228,229,230,231,232,233,234,235,236,237,238,239],\"y\":[0.01835654433,0.018434254027,0.018498494355,0.0185071805,0.018516756138,0.018516374302,0.018517538372,0.17004136219,1.0562989563,4.125593771,5.749542544,6.255702408,7.527154859,8.500669267000001,7.539010534,7.0784256590000005,5.81359388,3.599717303,0.8981985626000001,0.03276217137,0.017650026908999996,0.017971474155,0.018117296696,0.018308777872000002,0.018367942874999998,0.0184167274,0.018454475721,0.018393817552,0.018358727534,0.018290558418,0.018583229843,0.19828596303,0.8792868981999999,4.722717381000001,7.053608309,8.343283508,9.010664356000001,9.172650814,8.620780472999998,7.243801852000001,5.791541138,3.479145238,1.0339696137,0.032645913820000004,0.017738808632000003,0.017999167267,0.018293019182999998,0.018246312060999997,0.018375237093,0.018390616321999998,0.018441719612,0.018423181836,0.01843700517,0.018340775139999998,0.018352022234,0.04244035635,0.2844635403,1.1467295922999998,1.2816516602,2.440653813,3.725034259,3.287901052,4.103432514,6.704407861,3.465752931,2.183754,1.0504281633,0.0386801859,0.017679140012,0.017937607797,0.018223271607999997,0.018279144820999998],\"type\":\"scatter\"},{\"line\":{\"color\":\"rgb(32,115,171)\"},\"mode\":\"lines\",\"name\":\"Predicted\",\"x\":[168,169,170,171,172,173,174,175,176,177,178,179,180,181,182,183,184,185,186,187,188,189,190,191,192,193,194,195,196,197,198,199,200,201,202,203,204,205,206,207,208,209,210,211,212,213,214,215,216,217,218,219,220,221,222,223,224,225,226,227,228,229,230,231,232,233,234,235,236,237,238,239],\"y\":[0.19201399406938188,0.4002869589685971,0.40013717077355654,0.19830039923746995,-0.1070900084797181,-0.35579990544842527,-0.37377212872251137,-0.02708516759645092,0.7333643242057815,1.8490274085848042,3.159494985329775,4.4360385594104965,5.434555801361069,5.954302677880418,5.887129808506605,5.2443404752143294,4.154118213538618,2.830182164260377,1.5198643757104136,0.44515757316578286,-0.24796926106758052,-0.5190062406182246,-0.43386114797033026,-0.13775877580409893,0.19201399406938172,0.40028695896859695,0.4001371707735567,0.19830039923747028,-0.10709000847971768,-0.35579990544842094,-0.3737721287225115,-0.02708516759645126,0.7333643242057806,1.849027408584803,3.1594949853297734,4.436038559410495,5.434555801361068,5.954302677880417,5.8871298085066055,5.24434047521433,4.15411821353862,2.830182164260379,1.5198643757104149,0.4451575731658079,-0.2479692610675802,-0.5190062406182246,-0.43386114797033026,-0.13775877580409893,0.1920139940693737,0.4002869589685971,0.40013717077355704,0.19830039923747045,-0.10709000847971732,-0.3557999054484206,-0.37377212872251164,-0.027085167596451937,0.7333643242057798,1.849027408584802,3.1594949853297725,4.436038559410494,5.434555801361066,5.954302677880417,5.887129808506615,5.24434047521433,4.154118213538621,2.8301821642603797,1.5198643757104158,0.4451575731658087,-0.24796926106756007,-0.5190062406182245,-0.4338611479703156,-0.13775877580409943],\"type\":\"scatter\"}],                        {\"template\":{\"data\":{\"histogram2dcontour\":[{\"type\":\"histogram2dcontour\",\"colorbar\":{\"outlinewidth\":0,\"ticks\":\"\"},\"colorscale\":[[0.0,\"#0d0887\"],[0.1111111111111111,\"#46039f\"],[0.2222222222222222,\"#7201a8\"],[0.3333333333333333,\"#9c179e\"],[0.4444444444444444,\"#bd3786\"],[0.5555555555555556,\"#d8576b\"],[0.6666666666666666,\"#ed7953\"],[0.7777777777777778,\"#fb9f3a\"],[0.8888888888888888,\"#fdca26\"],[1.0,\"#f0f921\"]]}],\"choropleth\":[{\"type\":\"choropleth\",\"colorbar\":{\"outlinewidth\":0,\"ticks\":\"\"}}],\"histogram2d\":[{\"type\":\"histogram2d\",\"colorbar\":{\"outlinewidth\":0,\"ticks\":\"\"},\"colorscale\":[[0.0,\"#0d0887\"],[0.1111111111111111,\"#46039f\"],[0.2222222222222222,\"#7201a8\"],[0.3333333333333333,\"#9c179e\"],[0.4444444444444444,\"#bd3786\"],[0.5555555555555556,\"#d8576b\"],[0.6666666666666666,\"#ed7953\"],[0.7777777777777778,\"#fb9f3a\"],[0.8888888888888888,\"#fdca26\"],[1.0,\"#f0f921\"]]}],\"heatmap\":[{\"type\":\"heatmap\",\"colorbar\":{\"outlinewidth\":0,\"ticks\":\"\"},\"colorscale\":[[0.0,\"#0d0887\"],[0.1111111111111111,\"#46039f\"],[0.2222222222222222,\"#7201a8\"],[0.3333333333333333,\"#9c179e\"],[0.4444444444444444,\"#bd3786\"],[0.5555555555555556,\"#d8576b\"],[0.6666666666666666,\"#ed7953\"],[0.7777777777777778,\"#fb9f3a\"],[0.8888888888888888,\"#fdca26\"],[1.0,\"#f0f921\"]]}],\"heatmapgl\":[{\"type\":\"heatmapgl\",\"colorbar\":{\"outlinewidth\":0,\"ticks\":\"\"},\"colorscale\":[[0.0,\"#0d0887\"],[0.1111111111111111,\"#46039f\"],[0.2222222222222222,\"#7201a8\"],[0.3333333333333333,\"#9c179e\"],[0.4444444444444444,\"#bd3786\"],[0.5555555555555556,\"#d8576b\"],[0.6666666666666666,\"#ed7953\"],[0.7777777777777778,\"#fb9f3a\"],[0.8888888888888888,\"#fdca26\"],[1.0,\"#f0f921\"]]}],\"contourcarpet\":[{\"type\":\"contourcarpet\",\"colorbar\":{\"outlinewidth\":0,\"ticks\":\"\"}}],\"contour\":[{\"type\":\"contour\",\"colorbar\":{\"outlinewidth\":0,\"ticks\":\"\"},\"colorscale\":[[0.0,\"#0d0887\"],[0.1111111111111111,\"#46039f\"],[0.2222222222222222,\"#7201a8\"],[0.3333333333333333,\"#9c179e\"],[0.4444444444444444,\"#bd3786\"],[0.5555555555555556,\"#d8576b\"],[0.6666666666666666,\"#ed7953\"],[0.7777777777777778,\"#fb9f3a\"],[0.8888888888888888,\"#fdca26\"],[1.0,\"#f0f921\"]]}],\"surface\":[{\"type\":\"surface\",\"colorbar\":{\"outlinewidth\":0,\"ticks\":\"\"},\"colorscale\":[[0.0,\"#0d0887\"],[0.1111111111111111,\"#46039f\"],[0.2222222222222222,\"#7201a8\"],[0.3333333333333333,\"#9c179e\"],[0.4444444444444444,\"#bd3786\"],[0.5555555555555556,\"#d8576b\"],[0.6666666666666666,\"#ed7953\"],[0.7777777777777778,\"#fb9f3a\"],[0.8888888888888888,\"#fdca26\"],[1.0,\"#f0f921\"]]}],\"mesh3d\":[{\"type\":\"mesh3d\",\"colorbar\":{\"outlinewidth\":0,\"ticks\":\"\"}}],\"scatter\":[{\"fillpattern\":{\"fillmode\":\"overlay\",\"size\":10,\"solidity\":0.2},\"type\":\"scatter\"}],\"parcoords\":[{\"type\":\"parcoords\",\"line\":{\"colorbar\":{\"outlinewidth\":0,\"ticks\":\"\"}}}],\"scatterpolargl\":[{\"type\":\"scatterpolargl\",\"marker\":{\"colorbar\":{\"outlinewidth\":0,\"ticks\":\"\"}}}],\"bar\":[{\"error_x\":{\"color\":\"#2a3f5f\"},\"error_y\":{\"color\":\"#2a3f5f\"},\"marker\":{\"line\":{\"color\":\"#E5ECF6\",\"width\":0.5},\"pattern\":{\"fillmode\":\"overlay\",\"size\":10,\"solidity\":0.2}},\"type\":\"bar\"}],\"scattergeo\":[{\"type\":\"scattergeo\",\"marker\":{\"colorbar\":{\"outlinewidth\":0,\"ticks\":\"\"}}}],\"scatterpolar\":[{\"type\":\"scatterpolar\",\"marker\":{\"colorbar\":{\"outlinewidth\":0,\"ticks\":\"\"}}}],\"histogram\":[{\"marker\":{\"pattern\":{\"fillmode\":\"overlay\",\"size\":10,\"solidity\":0.2}},\"type\":\"histogram\"}],\"scattergl\":[{\"type\":\"scattergl\",\"marker\":{\"colorbar\":{\"outlinewidth\":0,\"ticks\":\"\"}}}],\"scatter3d\":[{\"type\":\"scatter3d\",\"line\":{\"colorbar\":{\"outlinewidth\":0,\"ticks\":\"\"}},\"marker\":{\"colorbar\":{\"outlinewidth\":0,\"ticks\":\"\"}}}],\"scattermapbox\":[{\"type\":\"scattermapbox\",\"marker\":{\"colorbar\":{\"outlinewidth\":0,\"ticks\":\"\"}}}],\"scatterternary\":[{\"type\":\"scatterternary\",\"marker\":{\"colorbar\":{\"outlinewidth\":0,\"ticks\":\"\"}}}],\"scattercarpet\":[{\"type\":\"scattercarpet\",\"marker\":{\"colorbar\":{\"outlinewidth\":0,\"ticks\":\"\"}}}],\"carpet\":[{\"aaxis\":{\"endlinecolor\":\"#2a3f5f\",\"gridcolor\":\"white\",\"linecolor\":\"white\",\"minorgridcolor\":\"white\",\"startlinecolor\":\"#2a3f5f\"},\"baxis\":{\"endlinecolor\":\"#2a3f5f\",\"gridcolor\":\"white\",\"linecolor\":\"white\",\"minorgridcolor\":\"white\",\"startlinecolor\":\"#2a3f5f\"},\"type\":\"carpet\"}],\"table\":[{\"cells\":{\"fill\":{\"color\":\"#EBF0F8\"},\"line\":{\"color\":\"white\"}},\"header\":{\"fill\":{\"color\":\"#C8D4E3\"},\"line\":{\"color\":\"white\"}},\"type\":\"table\"}],\"barpolar\":[{\"marker\":{\"line\":{\"color\":\"#E5ECF6\",\"width\":0.5},\"pattern\":{\"fillmode\":\"overlay\",\"size\":10,\"solidity\":0.2}},\"type\":\"barpolar\"}],\"pie\":[{\"automargin\":true,\"type\":\"pie\"}]},\"layout\":{\"autotypenumbers\":\"strict\",\"colorway\":[\"#636efa\",\"#EF553B\",\"#00cc96\",\"#ab63fa\",\"#FFA15A\",\"#19d3f3\",\"#FF6692\",\"#B6E880\",\"#FF97FF\",\"#FECB52\"],\"font\":{\"color\":\"#2a3f5f\"},\"hovermode\":\"closest\",\"hoverlabel\":{\"align\":\"left\"},\"paper_bgcolor\":\"white\",\"plot_bgcolor\":\"#E5ECF6\",\"polar\":{\"bgcolor\":\"#E5ECF6\",\"angularaxis\":{\"gridcolor\":\"white\",\"linecolor\":\"white\",\"ticks\":\"\"},\"radialaxis\":{\"gridcolor\":\"white\",\"linecolor\":\"white\",\"ticks\":\"\"}},\"ternary\":{\"bgcolor\":\"#E5ECF6\",\"aaxis\":{\"gridcolor\":\"white\",\"linecolor\":\"white\",\"ticks\":\"\"},\"baxis\":{\"gridcolor\":\"white\",\"linecolor\":\"white\",\"ticks\":\"\"},\"caxis\":{\"gridcolor\":\"white\",\"linecolor\":\"white\",\"ticks\":\"\"}},\"coloraxis\":{\"colorbar\":{\"outlinewidth\":0,\"ticks\":\"\"}},\"colorscale\":{\"sequential\":[[0.0,\"#0d0887\"],[0.1111111111111111,\"#46039f\"],[0.2222222222222222,\"#7201a8\"],[0.3333333333333333,\"#9c179e\"],[0.4444444444444444,\"#bd3786\"],[0.5555555555555556,\"#d8576b\"],[0.6666666666666666,\"#ed7953\"],[0.7777777777777778,\"#fb9f3a\"],[0.8888888888888888,\"#fdca26\"],[1.0,\"#f0f921\"]],\"sequentialminus\":[[0.0,\"#0d0887\"],[0.1111111111111111,\"#46039f\"],[0.2222222222222222,\"#7201a8\"],[0.3333333333333333,\"#9c179e\"],[0.4444444444444444,\"#bd3786\"],[0.5555555555555556,\"#d8576b\"],[0.6666666666666666,\"#ed7953\"],[0.7777777777777778,\"#fb9f3a\"],[0.8888888888888888,\"#fdca26\"],[1.0,\"#f0f921\"]],\"diverging\":[[0,\"#8e0152\"],[0.1,\"#c51b7d\"],[0.2,\"#de77ae\"],[0.3,\"#f1b6da\"],[0.4,\"#fde0ef\"],[0.5,\"#f7f7f7\"],[0.6,\"#e6f5d0\"],[0.7,\"#b8e186\"],[0.8,\"#7fbc41\"],[0.9,\"#4d9221\"],[1,\"#276419\"]]},\"xaxis\":{\"gridcolor\":\"white\",\"linecolor\":\"white\",\"ticks\":\"\",\"title\":{\"standoff\":15},\"zerolinecolor\":\"white\",\"automargin\":true,\"zerolinewidth\":2},\"yaxis\":{\"gridcolor\":\"white\",\"linecolor\":\"white\",\"ticks\":\"\",\"title\":{\"standoff\":15},\"zerolinecolor\":\"white\",\"automargin\":true,\"zerolinewidth\":2},\"scene\":{\"xaxis\":{\"backgroundcolor\":\"#E5ECF6\",\"gridcolor\":\"white\",\"linecolor\":\"white\",\"showbackground\":true,\"ticks\":\"\",\"zerolinecolor\":\"white\",\"gridwidth\":2},\"yaxis\":{\"backgroundcolor\":\"#E5ECF6\",\"gridcolor\":\"white\",\"linecolor\":\"white\",\"showbackground\":true,\"ticks\":\"\",\"zerolinecolor\":\"white\",\"gridwidth\":2},\"zaxis\":{\"backgroundcolor\":\"#E5ECF6\",\"gridcolor\":\"white\",\"linecolor\":\"white\",\"showbackground\":true,\"ticks\":\"\",\"zerolinecolor\":\"white\",\"gridwidth\":2}},\"shapedefaults\":{\"line\":{\"color\":\"#2a3f5f\"}},\"annotationdefaults\":{\"arrowcolor\":\"#2a3f5f\",\"arrowhead\":0,\"arrowwidth\":1},\"geo\":{\"bgcolor\":\"white\",\"landcolor\":\"#E5ECF6\",\"subunitcolor\":\"white\",\"showland\":true,\"showlakes\":true,\"lakecolor\":\"white\"},\"title\":{\"x\":0.05},\"mapbox\":{\"style\":\"light\"}}},\"legend\":{\"orientation\":\"h\",\"yanchor\":\"bottom\",\"y\":1,\"xanchor\":\"left\",\"x\":0},\"xaxis\":{\"title\":{\"text\":\"Index\"}},\"yaxis\":{\"title\":{\"text\":\"Photovoltaic Production [kWh]\"}}},                        {\"responsive\": true}                    ).then(function(){\n                            \nvar gd = document.getElementById('eb43f937-d5b5-40f9-b509-9b32a0a50d12');\nvar x = new MutationObserver(function (mutations, observer) {{\n        var display = window.getComputedStyle(gd).display;\n        if (!display || display === 'none') {{\n            console.log([gd, 'removed!']);\n            Plotly.purge(gd);\n            observer.disconnect();\n        }}\n}});\n\n// Listen for the removal of the full notebook cells\nvar notebookContainer = gd.closest('#notebook-container');\nif (notebookContainer) {{\n    x.observe(notebookContainer, {childList: true});\n}}\n\n// Listen for the clearing of the current output cell\nvar outputEl = gd.closest('.output');\nif (outputEl) {{\n    x.observe(outputEl, {childList: true});\n}}\n\n                        })                };                });            </script>        </div>"
     },
     "metadata": {},
     "output_type": "display_data"
    }
   ],
   "source": [
    "fig = go.Figure()\n",
    "\n",
    "# fig.add_trace(go.Scatter(x=list(np.arange(start=WEEK, stop=WEEK + VALIDATION_RANGE)) + list(np.arange(start=WEEK, stop=WEEK + VALIDATION_RANGE))[::-1],\n",
    "#                          y=list(prediction + epsilon) + list(prediction - epsilon)[::-1], # upper, then lower reversed\n",
    "#                          fill='toself',\n",
    "#                          fillcolor='rgba(0,100,80,0.2)',\n",
    "#                          line=dict(color='rgba(255,255,255,0)'),\n",
    "#                          hoverinfo=\"skip\",\n",
    "#                          showlegend=False\n",
    "#                          ))\n",
    "\n",
    "# fig.add_trace(go.Scatter(x=np.arange(start=0, stop=WEEK),\n",
    "#                          y=pred_test,\n",
    "#                          name='Training Data [Prediction]',\n",
    "#                          mode='lines',\n",
    "#                          line=dict(color='rgb(84, 0, 84)')))\n",
    "\n",
    "fig.add_trace(go.Scatter(x=np.arange(start=WEEK-WEEK, stop=WEEK),\n",
    "                         y=DATA[WEEK-WEEK:WEEK],\n",
    "                         name='Training Data',\n",
    "                         mode='lines',\n",
    "                         line=dict(color='rgb(84, 84, 84)')))\n",
    "\n",
    "fig.add_trace(go.Scatter(x=np.arange(start=WEEK, stop=WEEK + VALIDATION_RANGE),\n",
    "                         y=actual,\n",
    "                         name='Observed',\n",
    "                         mode='lines',\n",
    "                         line=dict(color='rgb(234,143,129)')))\n",
    "\n",
    "fig.add_trace(go.Scatter(x=np.arange(start=WEEK, stop=WEEK + VALIDATION_RANGE),\n",
    "                         y=prediction,\n",
    "                         name='Predicted',\n",
    "                         mode='lines',\n",
    "                         line=dict(color='rgb(32,115,171)')))\n",
    "\n",
    "fig.update_layout(\n",
    "    xaxis_title=\"Index\",\n",
    "    yaxis_title=\"Photovoltaic Production [kWh]\",\n",
    "    legend=dict(orientation=\"h\",\n",
    "                yanchor=\"bottom\",\n",
    "                y=1,\n",
    "                xanchor=\"left\",\n",
    "                x=0))\n",
    "\n",
    "fig.show()"
   ],
   "metadata": {
    "collapsed": false,
    "pycharm": {
     "name": "#%%\n"
    }
   }
  },
  {
   "cell_type": "code",
   "execution_count": 44,
   "outputs": [
    {
     "ename": "NameError",
     "evalue": "name 'flex' is not defined",
     "output_type": "error",
     "traceback": [
      "\u001B[0;31m---------------------------------------------------------------------------\u001B[0m",
      "\u001B[0;31mNameError\u001B[0m                                 Traceback (most recent call last)",
      "\u001B[0;32m/var/folders/nt/w3ctvjn94jn89w856x4xh8zc0000gn/T/ipykernel_73409/1822594287.py\u001B[0m in \u001B[0;36m<module>\u001B[0;34m\u001B[0m\n\u001B[1;32m     16\u001B[0m \u001B[0;34m\u001B[0m\u001B[0m\n\u001B[1;32m     17\u001B[0m fig.add_trace(go.Scatter(x=idx,\n\u001B[0;32m---> 18\u001B[0;31m                          \u001B[0my\u001B[0m\u001B[0;34m=\u001B[0m\u001B[0mflex\u001B[0m\u001B[0;34m,\u001B[0m\u001B[0;34m\u001B[0m\u001B[0;34m\u001B[0m\u001B[0m\n\u001B[0m\u001B[1;32m     19\u001B[0m                          \u001B[0mname\u001B[0m\u001B[0;34m=\u001B[0m\u001B[0;34m'Flexible'\u001B[0m\u001B[0;34m,\u001B[0m\u001B[0;34m\u001B[0m\u001B[0;34m\u001B[0m\u001B[0m\n\u001B[1;32m     20\u001B[0m                          \u001B[0mmode\u001B[0m\u001B[0;34m=\u001B[0m\u001B[0;34m'lines'\u001B[0m\u001B[0;34m,\u001B[0m\u001B[0;34m\u001B[0m\u001B[0;34m\u001B[0m\u001B[0m\n",
      "\u001B[0;31mNameError\u001B[0m: name 'flex' is not defined"
     ]
    }
   ],
   "source": [
    "idx = list(range(0, 72, 1))\n",
    "\n",
    "fig = go.Figure()\n",
    "\n",
    "fig.add_trace(go.Scatter(x=idx,\n",
    "                         y=pv,\n",
    "                         name='PV',\n",
    "                         mode='lines',\n",
    "                         line=dict(color='royalblue', width=3)))\n",
    "\n",
    "fig.add_trace(go.Scatter(x=idx,\n",
    "                         y=fix,\n",
    "                         name='Fixed',\n",
    "                         mode='lines',\n",
    "                         line=dict(color='firebrick', width=3)))\n",
    "\n",
    "fig.add_trace(go.Scatter(x=idx,\n",
    "                         y=flex,\n",
    "                         name='Flexible',\n",
    "                         mode='lines',\n",
    "                         line=dict(color='firebrick', width=3, dash='dash')))\n",
    "\n",
    "fig.add_trace(go.Scatter(x=idx,\n",
    "                         y=np.subtract(pv, np.add(fix, flex)),\n",
    "                         name='Balance',\n",
    "                         mode='lines',\n",
    "                         line=dict(color='black', width=4),\n",
    "                         fill='tozeroy',\n",
    "                         fillcolor=\"rgba(80, 80, 80, 0.5)\"))\n",
    "\n",
    "fig.update_layout(plot_bgcolor='rgba(0,0,0,0)',\n",
    "                  legend=dict(orientation=\"h\",\n",
    "                              yanchor=\"top\",\n",
    "                              y=1.06,\n",
    "                              xanchor=\"left\",\n",
    "                              x=0.0))\n",
    "\n",
    "#x axis\n",
    "# fig.update_xaxes(visible=False)\n",
    "\n",
    "#y axis\n",
    "# fig.update_yaxes(visible=False)\n",
    "\n",
    "fig.update_xaxes(showline=True, linewidth=2, linecolor='grey', title=\"Index\")\n",
    "fig.update_yaxes(showline=True, linewidth=2, linecolor='grey', title=\"kWh\")\n",
    "\n",
    "fig.show()"
   ],
   "metadata": {
    "collapsed": false,
    "pycharm": {
     "name": "#%%\n"
    }
   }
  },
  {
   "cell_type": "code",
   "execution_count": null,
   "outputs": [],
   "source": [
    "from sklearn.ensemble import RandomForestRegressor\n",
    "weather = pd.read_csv(\"GAI_2015_2016.csv\")\n",
    "weather[\"Time\"] = pd.to_datetime(weather[\"Time\"])\n",
    "ensemble = pd.DataFrame(DATA[0:WEEK+VALIDATION_RANGE], columns=[\"Target\"]).merge(weather, how=\"left\", left_index=True, right_on=\"Time\")\n",
    "ensemble"
   ],
   "metadata": {
    "collapsed": false,
    "pycharm": {
     "name": "#%%\n"
    }
   }
  },
  {
   "cell_type": "code",
   "execution_count": null,
   "outputs": [],
   "source": [
    "ensemble.index = ensemble[\"Time\"]\n",
    "ensemble[\"Time\"] = ensemble[\"Time\"].dt.hour\n",
    "ensemble"
   ],
   "metadata": {
    "collapsed": false,
    "pycharm": {
     "name": "#%%\n"
    }
   }
  },
  {
   "cell_type": "code",
   "execution_count": null,
   "outputs": [],
   "source": [
    "from sklearn.preprocessing import OneHotEncoder\n",
    "ohe = OneHotEncoder(sparse=False)\n",
    "hot_np = ohe.fit_transform(ensemble[[\"Time\", \"Condition\"]])\n",
    "hot = pd.DataFrame(data=hot_np, columns=ohe.get_feature_names_out())\n",
    "hot_test = hot[:WEEK]\n",
    "hot_vali = hot[WEEK:]"
   ],
   "metadata": {
    "collapsed": false,
    "pycharm": {
     "name": "#%%\n"
    }
   }
  },
  {
   "cell_type": "code",
   "execution_count": null,
   "outputs": [],
   "source": [
    "rfr = RandomForestRegressor()\n",
    "rfr.fit(hot_test, ensemble[\"Target\"][:WEEK])\n",
    "np.sqrt(mean_squared_error(rfr.predict(hot_vali), ensemble[\"Target\"][WEEK:]))"
   ],
   "metadata": {
    "collapsed": false,
    "pycharm": {
     "name": "#%%\n"
    }
   }
  },
  {
   "cell_type": "markdown",
   "source": [
    "# FIG INTRO FORECASTING"
   ],
   "metadata": {
    "collapsed": false
   }
  },
  {
   "cell_type": "code",
   "execution_count": null,
   "outputs": [],
   "source": [
    "# idx = list(range(0, 72, 2))\n",
    "# pv = [x * 1.2 for x in [0, 0, 0, 4, 20, 45, 50, 50, 34, 10, 0, 0, 0, 0, 0, 2, 15, 35, 40, 45, 30, 15, 0, 0, 0, 0, 0, 10, 25, 50, 60, 50, 44, 20, 0, 0]]\n",
    "# fix = [10, 9, 10, 4, 22, 14, 12, 0, 12, 21, 13, 14, 12, 12, 32, 21, 11, 12, 21, 12, 22, 23, 11, 9, 8, 19, 17, 25, 20, 11, 15, 12, 15, 12, 18, 20]\n",
    "# flex = [0, 0, 0, 20, 5, 0, 0, 0, 19, 10, 0, 8, 0, 0, 0, 5, 9, 0, 0, 0, 0, 20, 10, 0, 5, 0, 19, 0, 0, 20, 9, 7, 0, 0, 0, 4]\n",
    "#\n",
    "# fig = go.Figure()\n",
    "#\n",
    "# fig.add_trace(go.Scatter(x=idx,\n",
    "#                          y=pv,\n",
    "#                          name='PV',\n",
    "#                          mode='lines',\n",
    "#                          line=dict(color='royalblue', width=3)))\n",
    "#\n",
    "# fig.add_trace(go.Scatter(x=idx,\n",
    "#                          y=fix,\n",
    "#                          name='Fixed',\n",
    "#                          mode='lines',\n",
    "#                          line=dict(color='firebrick', width=3)))\n",
    "#\n",
    "# fig.add_trace(go.Scatter(x=idx,\n",
    "#                          y=flex,\n",
    "#                          name='Flexible',\n",
    "#                          mode='lines',\n",
    "#                          line=dict(color='firebrick', width=3, dash='dash')))\n",
    "#\n",
    "# fig.add_trace(go.Scatter(x=idx,\n",
    "#                          y=np.subtract(pv, np.add(fix, flex)),\n",
    "#                          name='Balance',\n",
    "#                          mode='lines',\n",
    "#                          line=dict(color='black', width=4),\n",
    "#                          fill='tozeroy',\n",
    "#                          fillcolor=\"rgba(80, 80, 80, 0.5)\"))\n",
    "#\n",
    "# fig.update_layout(plot_bgcolor='rgba(0,0,0,0)',\n",
    "#                   legend=dict(orientation=\"h\",\n",
    "#                               yanchor=\"top\",\n",
    "#                               y=1.05,\n",
    "#                               xanchor=\"left\",\n",
    "#                               x=0.0))\n",
    "#\n",
    "# #x axis\n",
    "# fig.update_xaxes(visible=False)\n",
    "#\n",
    "# #y axis\n",
    "# fig.update_yaxes(visible=False)\n",
    "#\n",
    "# fig.show()"
   ],
   "metadata": {
    "collapsed": false,
    "pycharm": {
     "name": "#%%\n"
    }
   }
  },
  {
   "cell_type": "code",
   "execution_count": null,
   "outputs": [],
   "source": [],
   "metadata": {
    "collapsed": false,
    "pycharm": {
     "name": "#%%\n"
    }
   }
  }
 ],
 "metadata": {
  "kernelspec": {
   "display_name": "Python 3",
   "language": "python",
   "name": "python3"
  },
  "language_info": {
   "codemirror_mode": {
    "name": "ipython",
    "version": 2
   },
   "file_extension": ".py",
   "mimetype": "text/x-python",
   "name": "python",
   "nbconvert_exporter": "python",
   "pygments_lexer": "ipython2",
   "version": "2.7.6"
  }
 },
 "nbformat": 4,
 "nbformat_minor": 0
}