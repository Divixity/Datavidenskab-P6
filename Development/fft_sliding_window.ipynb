{
 "cells": [
  {
   "cell_type": "code",
   "execution_count": 446,
   "metadata": {
    "collapsed": true
   },
   "outputs": [],
   "source": [
    "import numpy as np\n",
    "import pandas as pd\n",
    "import plotly.graph_objects as go\n",
    "import plotly.express as px\n",
    "\n",
    "import DataRetriever as dr\n",
    "\n",
    "RETRIEVER = dr.DataRetriever()\n",
    "CON_ATTRIBUTES = RETRIEVER.get_attributes(file_name='consuming_attributes.pkl')\n",
    "PV_ATTRIBUTES = RETRIEVER.get_attributes(file_name='producing_attributes.pkl')\n",
    "FLEX_ATTRIBUTES = [\"Load_ClothesWasherPowerWithStandby\", \"Elec_PowerDishwasher\", \"Load_DryerPowerTotal\"]\n",
    "FIXED_ATTRIBUTES = list(set(CON_ATTRIBUTES) - set(FLEX_ATTRIBUTES))\n",
    "\n",
    "DATA = RETRIEVER.get_data(file_name='All-Subsystems-hour-Year2.pkl')[FIXED_ATTRIBUTES].sum(axis=1).clip(lower=0)\n",
    "\n",
    "# DATA_INIT = DATA[0]\n",
    "#\n",
    "# DATA = DATA - DATA.shift(1).bfill()"
   ]
  },
  {
   "cell_type": "code",
   "execution_count": 447,
   "outputs": [],
   "source": [
    "def fourierExtrapolation(data: np.array, number_of_predictions: int, n_sinusoids: int) -> np.array:\n",
    "    \"\"\"\n",
    "    Predict {number_of_predictions} observations after the index data.size of {data}, using {n_sinusoids} sinusoids.\n",
    "    :param data: The data on which to train the model. Corresponds to {_x = x_0, x_1, ... x_(n-1)} in the theory\n",
    "    :param number_of_predictions: The amount of predictions to output. Corresponds to {x_((n-1)+1), x_((n-1)+2), ..., x_((n-1)+{number_of_predictions})}\n",
    "    :param n_sinusoids: The amount of sinusoids on which to base the predictions. I.e. the data probably contains many sinusoids, but we only wish to make predictions based on the {n_sinusoids} largest frequencies.\n",
    "    :return: A numpy array of length data.size + number_of_predictions, containing the transformed original data + predictions\n",
    "    \"\"\"\n",
    "    data_size = data.size  # n\n",
    "    sample_index = np.arange(0, data_size)  # sum-limits (0) to (n-1)\n",
    "\n",
    "    # Fit a linear regression line to data\n",
    "    linear_trend = np.polyfit(x=sample_index, y=data, deg=1)\n",
    "    # Subtract the learned line (linear_trend[0] * sample_index) from original data (data).\n",
    "        # Here, linear_trend[0] are the coefficients of the linear regression, # and sample_index is equivalent to X;\n",
    "        # thereby giving the, well-known from STAT, form (beta * X)\n",
    "    x_data_detrended = data - linear_trend[0] * sample_index  # The series of numbers x = {x1, x2, ...}\n",
    "\n",
    "    X_frequency_domain = list(np.fft.fft(x_data_detrended))  # The series of complex numbers X = {X1, X2, ...}\n",
    "    frequencies = list(np.fft.fftfreq(data_size, d=1))  # Some frequencies, e.g. {4, 3, -7, 8, -5, ...}\n",
    "\n",
    "\n",
    "    # # Experimental!!!\n",
    "    # for dom, freq, idx in zip(reversed(X_frequency_domain), reversed(frequencies), reversed(sample_index)):\n",
    "    #     if abs(freq) < 0.25:\n",
    "    #         X_frequency_domain.pop(idx)\n",
    "    #         frequencies.pop(idx)\n",
    "\n",
    "\n",
    "    indexes = list(range(len(X_frequency_domain)))  # {0, 1, ..., n-1}\n",
    "    indexes.sort(key=lambda idx: np.absolute(X_frequency_domain[idx]), reverse=True)  # ascendingly sort indices by frequency\n",
    "    \n",
    "    sample_index = np.arange(0, data_size + number_of_predictions)  # sample_index = {0, 1, ..., n-1, n, n+1, ..., (n-1)+number_of_predictions}\n",
    "    x_restored_sig = np.zeros(sample_index.size)  # Prepare a numpy array to receive x reconstructed from its Fourier Transform\n",
    "\n",
    "    if n_sinusoids == 0:\n",
    "        return x_restored_sig + data.mean() + linear_trend[0] * sample_index\n",
    "\n",
    "    for i in indexes[:n_sinusoids]:\n",
    "        amplitude = np.absolute(X_frequency_domain[i])\n",
    "        phase = np.angle(X_frequency_domain[i])\n",
    "        x_restored_sig += amplitude * np.cos(2 * np.pi * frequencies[i] * sample_index + phase)\n",
    "\n",
    "    x_restored = 1 / data_size * x_restored_sig + linear_trend[0] * sample_index\n",
    "\n",
    "    return x_restored"
   ],
   "metadata": {
    "collapsed": false,
    "pycharm": {
     "name": "#%%\n"
    }
   }
  },
  {
   "cell_type": "code",
   "execution_count": 448,
   "outputs": [],
   "source": [
    "def r2(a, b):\n",
    "    return np.corrcoef(a, b)[0, 1]**2"
   ],
   "metadata": {
    "collapsed": false,
    "pycharm": {
     "name": "#%%\n"
    }
   }
  },
  {
   "cell_type": "code",
   "execution_count": 449,
   "outputs": [],
   "source": [
    "DATA_SIZE = DATA.size\n",
    "\n",
    "WEEK = 24 * 7\n",
    "\n",
    "test_range = WEEK\n",
    "VALIDATION_RANGE = 24 * 3\n",
    "\n",
    "SINUSOIDS = list(range(0, 50)) + list(range(50, 210, 10))"
   ],
   "metadata": {
    "collapsed": false,
    "pycharm": {
     "name": "#%%\n"
    }
   }
  },
  {
   "cell_type": "code",
   "execution_count": 450,
   "outputs": [
    {
     "data": {
      "text/plain": "{'divide': 'warn', 'over': 'warn', 'under': 'ignore', 'invalid': 'ignore'}"
     },
     "execution_count": 450,
     "metadata": {},
     "output_type": "execute_result"
    }
   ],
   "source": [
    "np.seterr(invalid='ignore')"
   ],
   "metadata": {
    "collapsed": false,
    "pycharm": {
     "name": "#%%\n"
    }
   }
  },
  {
   "cell_type": "code",
   "execution_count": 451,
   "outputs": [],
   "source": [
    "cv_DataFrame = pd.DataFrame(index=SINUSOIDS)\n",
    "fold = 0\n",
    "while test_range + VALIDATION_RANGE <= DATA_SIZE:\n",
    "    sinusoids_r2 = []\n",
    "    for n_sinusoids in SINUSOIDS:\n",
    "        fft = fourierExtrapolation(data=DATA[test_range - WEEK:test_range], number_of_predictions=VALIDATION_RANGE, n_sinusoids=n_sinusoids)\n",
    "        prediction = pd.Series(data=fft[WEEK:], index=DATA[test_range:test_range + VALIDATION_RANGE].index)\n",
    "\n",
    "        actual = DATA[test_range:test_range+VALIDATION_RANGE]\n",
    "\n",
    "        # Rework impossible values\n",
    "        for idx, i in prediction.iteritems():\n",
    "            if idx.hour > 18 or idx.hour < 6 or i < 0:\n",
    "                prediction.at[idx] = 0\n",
    "\n",
    "        sinusoids_r2.append(r2(prediction, actual))\n",
    "\n",
    "    cv_DataFrame[f\"Fold_{fold}\"] = sinusoids_r2\n",
    "\n",
    "    test_range += 24 * 14\n",
    "    fold += 1"
   ],
   "metadata": {
    "collapsed": false,
    "pycharm": {
     "name": "#%%\n"
    }
   }
  },
  {
   "cell_type": "code",
   "execution_count": 452,
   "outputs": [
    {
     "data": {
      "text/plain": "160"
     },
     "execution_count": 452,
     "metadata": {},
     "output_type": "execute_result"
    }
   ],
   "source": [
    "cv_DataFrame.mean(axis=1).idxmax()"
   ],
   "metadata": {
    "collapsed": false,
    "pycharm": {
     "name": "#%%\n"
    }
   }
  },
  {
   "cell_type": "code",
   "execution_count": 453,
   "outputs": [
    {
     "data": {
      "text/plain": "0      0.121556\n1      0.122551\n2      0.128755\n3      0.133546\n4      0.141850\n         ...   \n160    0.310828\n170    0.310782\n180    0.310782\n190    0.310782\n200    0.310782\nLength: 66, dtype: float64"
     },
     "execution_count": 453,
     "metadata": {},
     "output_type": "execute_result"
    }
   ],
   "source": [
    "cv_DataFrame.mean(axis=1)"
   ],
   "metadata": {
    "collapsed": false,
    "pycharm": {
     "name": "#%%\n"
    }
   }
  },
  {
   "cell_type": "code",
   "execution_count": 454,
   "outputs": [],
   "source": [
    "fft = fourierExtrapolation(data=DATA[0:WEEK], number_of_predictions=VALIDATION_RANGE, n_sinusoids=cv_DataFrame.mean(axis=1).idxmax())\n",
    "prediction = fft[WEEK:]\n",
    "pred_test = fft[:WEEK]\n",
    "\n",
    "actual = DATA[WEEK:WEEK+VALIDATION_RANGE]"
   ],
   "metadata": {
    "collapsed": false,
    "pycharm": {
     "name": "#%%\n"
    }
   }
  },
  {
   "cell_type": "code",
   "execution_count": 455,
   "outputs": [],
   "source": [
    "# fft = fourierExtrapolation(data=DATA[0:WEEK], number_of_predictions=VALIDATION_RANGE, n_sinusoids=np.argmax(cv_DataFrame.mean(axis=1)))\n",
    "# prediction = pd.Series(fft[WEEK:], index=DATA[WEEK:WEEK+VALIDATION_RANGE].index)\n",
    "# pred_test = fft[:WEEK]\n",
    "#\n",
    "# # Rework impossible values\n",
    "# for idx, i in prediction.iteritems():\n",
    "#     if idx.hour > 18 or idx.hour < 6 or i < 0:\n",
    "#         prediction.at[idx] = 18\n",
    "#\n",
    "# actual = DATA[WEEK:WEEK+VALIDATION_RANGE]"
   ],
   "metadata": {
    "collapsed": false,
    "pycharm": {
     "name": "#%%\n"
    }
   }
  },
  {
   "cell_type": "code",
   "execution_count": 456,
   "outputs": [
    {
     "data": {
      "application/vnd.plotly.v1+json": {
       "data": [
        {
         "line": {
          "color": "rgb(84, 84, 84)"
         },
         "mode": "lines",
         "name": "Training Data",
         "x": [
          0,
          1,
          2,
          3,
          4,
          5,
          6,
          7,
          8,
          9,
          10,
          11,
          12,
          13,
          14,
          15,
          16,
          17,
          18,
          19,
          20,
          21,
          22,
          23,
          24,
          25,
          26,
          27,
          28,
          29,
          30,
          31,
          32,
          33,
          34,
          35,
          36,
          37,
          38,
          39,
          40,
          41,
          42,
          43,
          44,
          45,
          46,
          47,
          48,
          49,
          50,
          51,
          52,
          53,
          54,
          55,
          56,
          57,
          58,
          59,
          60,
          61,
          62,
          63,
          64,
          65,
          66,
          67,
          68,
          69,
          70,
          71,
          72,
          73,
          74,
          75,
          76,
          77,
          78,
          79,
          80,
          81,
          82,
          83,
          84,
          85,
          86,
          87,
          88,
          89,
          90,
          91,
          92,
          93,
          94,
          95,
          96,
          97,
          98,
          99,
          100,
          101,
          102,
          103,
          104,
          105,
          106,
          107,
          108,
          109,
          110,
          111,
          112,
          113,
          114,
          115,
          116,
          117,
          118,
          119,
          120,
          121,
          122,
          123,
          124,
          125,
          126,
          127,
          128,
          129,
          130,
          131,
          132,
          133,
          134,
          135,
          136,
          137,
          138,
          139,
          140,
          141,
          142,
          143,
          144,
          145,
          146,
          147,
          148,
          149,
          150,
          151,
          152,
          153,
          154,
          155,
          156,
          157,
          158,
          159,
          160,
          161,
          162,
          163,
          164,
          165,
          166,
          167
         ],
         "y": [
          1748.5703687659995,
          2216.490329136,
          1941.3489556219997,
          1750.879879596,
          1979.74908359,
          1946.079115759,
          1798.1812534560001,
          1970.0879841359995,
          3345.0492111020003,
          3983.7579469390002,
          3143.638144088,
          2001.767106264,
          2352.292008492,
          2134.607065007,
          1966.920787394,
          726.249919247,
          1196.8185143140001,
          1824.9938583869998,
          2289.751203893,
          1916.1240566709998,
          1284.071123943,
          1857.7821960229994,
          1855.791513882,
          1719.0989943440004,
          2188.410807151,
          1750.2387683780003,
          1552.057358274,
          1686.654012273,
          1431.088905749,
          1497.234807243,
          3063.098245813,
          1924.8576879400005,
          1973.4607594169997,
          2409.846078935,
          1745.470069067,
          1410.49642382,
          748.146935111,
          1240.1787778179996,
          1309.3178738749998,
          1523.994529555,
          2186.7260705859994,
          1972.448245124,
          2601.0305198910005,
          2950.883453598,
          2284.171914329,
          2596.573704013,
          2080.9282665909996,
          2253.67963878,
          1689.136779111,
          1943.7933907899996,
          1893.88449606,
          1700.1733374899998,
          2252.582335243,
          1695.4383167379997,
          3835.330174502,
          3712.868312375001,
          3515.1116496100008,
          2835.046875548,
          2585.374073324,
          2554.68237809,
          2150.611873368,
          1171.876092987,
          1149.302530299,
          955.0283407339999,
          1891.622931347,
          2130.1642250779996,
          2210.360693998,
          2164.424181407,
          1801.3689529749997,
          2149.228025338,
          2658.5097575830005,
          1713.239572005,
          1760.4577235969998,
          1845.6580112909999,
          1650.53465372,
          1839.6114796069999,
          1823.4284012809999,
          1992.801120722,
          3368.25551983,
          2416.658121165,
          2057.537355787,
          1856.8434620100002,
          1469.8066986709998,
          594.9896295240001,
          569.8663074140001,
          724.0703282940001,
          575.9411971000001,
          562.011632602,
          779.739324439,
          1535.6149659470002,
          1946.3840754189998,
          978.812497578,
          1767.1223511119997,
          1919.981818777,
          1875.2386699859999,
          1016.0648595289998,
          1111.1671283019998,
          1174.6056600099998,
          1132.441693217,
          1119.8199271629999,
          1017.5304557640001,
          1076.142793365,
          2446.078166935,
          2017.6727079449997,
          2149.676564427,
          1583.533822504,
          1645.9625285309999,
          1909.0775057330002,
          1965.319210762,
          764.6685681780002,
          1025.188621618,
          1094.707896418,
          2074.391316231,
          1838.365809051,
          891.873394666,
          909.9812011249999,
          935.9323397929999,
          1008.9049202560001,
          1243.05180495,
          488.139737232,
          403.95908377499995,
          420.65296665099993,
          413.511541309,
          409.790019808,
          420.94660841999996,
          750.014391553,
          2933.794846863,
          2986.862982602,
          3013.28383935,
          2399.302257442,
          2233.699470887,
          2386.8204080230003,
          2532.0280497490003,
          2576.9456156460005,
          2314.7392562770005,
          2335.9726088830002,
          2335.2991488640005,
          2724.5797989039997,
          3177.338867196,
          3214.269654227,
          1743.5024072020003,
          1146.16813964,
          1206.9786243679998,
          1974.31867448,
          1804.702903922,
          2102.790323546,
          1624.0854541749998,
          1815.7023219439998,
          1773.3395272300004,
          1645.821338649,
          1779.898361089,
          1780.3548548029999,
          3299.730162692,
          3874.2778150479994,
          3168.321221574,
          918.8832500830001,
          957.3304415960001,
          2074.098193807,
          2037.8965081170002,
          1981.240227241,
          1247.1335838080001,
          1482.0640956470002,
          1941.4316557070001,
          2288.0783267150005,
          2308.5639598099997,
          1295.4894253139998,
          1537.5372545139999,
          1340.01484627
         ],
         "type": "scatter"
        },
        {
         "line": {
          "color": "rgb(234,143,129)"
         },
         "mode": "lines",
         "name": "Actual",
         "x": [
          168,
          169,
          170,
          171,
          172,
          173,
          174,
          175,
          176,
          177,
          178,
          179,
          180,
          181,
          182,
          183,
          184,
          185,
          186,
          187,
          188,
          189,
          190,
          191,
          192,
          193,
          194,
          195,
          196,
          197,
          198,
          199,
          200,
          201,
          202,
          203,
          204,
          205,
          206,
          207,
          208,
          209,
          210,
          211,
          212,
          213,
          214,
          215,
          216,
          217,
          218,
          219,
          220,
          221,
          222,
          223,
          224,
          225,
          226,
          227,
          228,
          229,
          230,
          231,
          232,
          233,
          234,
          235,
          236,
          237,
          238,
          239
         ],
         "y": [
          1923.8553102659998,
          1358.205294713,
          1350.0984677640001,
          1343.108919674,
          1359.198079524,
          1346.6505578869996,
          1360.5304529999999,
          1354.763935206,
          2824.3890182510004,
          2789.744318647,
          1820.134792939,
          932.4899558860002,
          1351.1483416449998,
          1044.8337838529999,
          1502.347022568,
          978.556416523,
          697.8033997800001,
          1052.098387321,
          1624.652085318,
          1714.8821850119998,
          1110.142700632,
          1806.516571311,
          1190.3671580009998,
          957.8443561730002,
          1383.8063053560002,
          1223.599071566,
          1241.153058959,
          1136.535326469,
          1066.983173739,
          1075.6810108710001,
          2862.442644498,
          1438.0675443479997,
          2113.3986818000003,
          2311.1259170450003,
          1355.127900143,
          1390.9312202439999,
          1281.012964093,
          1215.874364426,
          1710.5791067900002,
          1722.491843065,
          1210.795671208,
          1722.0023707000003,
          2306.12908306,
          2004.962730491,
          1202.2006375479998,
          2514.915923314001,
          1842.6470532039996,
          1653.283024578,
          1810.716867127,
          1948.2365227970001,
          1607.689945135,
          1738.8215063689997,
          1661.906591224,
          2333.745460026,
          3549.8642939070005,
          1978.822210231,
          2781.457919574,
          2320.61207642,
          1980.3592074429998,
          2014.720095714,
          1713.688494529,
          1949.2349191529997,
          2096.27264739,
          1467.7495088849998,
          819.612298518,
          1526.3955495330001,
          2276.139490854,
          1942.829192086,
          1539.7016035489996,
          2050.1061568699997,
          2620.6403817519995,
          2169.900260364
         ],
         "type": "scatter"
        },
        {
         "line": {
          "color": "rgb(32,115,171)"
         },
         "mode": "lines",
         "name": "Predicted",
         "x": [
          168,
          169,
          170,
          171,
          172,
          173,
          174,
          175,
          176,
          177,
          178,
          179,
          180,
          181,
          182,
          183,
          184,
          185,
          186,
          187,
          188,
          189,
          190,
          191,
          192,
          193,
          194,
          195,
          196,
          197,
          198,
          199,
          200,
          201,
          202,
          203,
          204,
          205,
          206,
          207,
          208,
          209,
          210,
          211,
          212,
          213,
          214,
          215,
          216,
          217,
          218,
          219,
          220,
          221,
          222,
          223,
          224,
          225,
          226,
          227,
          228,
          229,
          230,
          231,
          232,
          233,
          234,
          235,
          236,
          237,
          238,
          239
         ],
         "y": [
          1444.5354173441967,
          1909.535926561675,
          1641.9998453326002,
          1434.1854064940749,
          1687.0771480113613,
          1630.5424025833709,
          1498.3314700803446,
          1661.9038832165868,
          3041.824262314379,
          3676.27919322009,
          2837.1113872182736,
          1703.9065516376008,
          2032.3337866197535,
          1845.8261088868057,
          1650.059342845148,
          421.67326121192053,
          899.564540826523,
          1510.0846118838645,
          1985.597812810777,
          1621.5545186651589,
          960.1803982615245,
          1567.344855266089,
          1548.504346815445,
          1400.5616086923392,
          1902.669719573304,
          1431.3717317718542,
          1244.5952955622415,
          1397.3710350527076,
          1106.1865430560217,
          1200.8433293563353,
          2766.260883620899,
          1596.5998941560492,
          1693.10605391979,
          2089.0867059700035,
          1440.7152594092152,
          1113.909579656936,
          434.58944107177075,
          933.7816557222334,
          1014.370616362832,
          1205.2714474436627,
          1888.1628571852543,
          1671.521036749195,
          2281.2498716355153,
          2663.1304751680577,
          1963.7635676039895,
          2301.0118505180367,
          1768.8310853086025,
          1954.2726979869772,
          1377.6836124181848,
          1641.932631910332,
          1589.8310907418622,
          1388.3487575465747,
          1954.7857814294343,
          1385.6037033554937,
          3529.2530785011722,
          3409.663383630322,
          3211.986155176032,
          2518.3879114134975,
          2297.935082787844,
          2232.455354718245,
          1851.4082325803345,
          874.3116572103477,
          827.0368634082329,
          663.7099040398721,
          1585.0104572764349,
          1810.8166884238613,
          1925.6422945970526,
          1844.529759939672,
          1494.4782782743835,
          1860.463532808969,
          2331.3074382507766,
          1421.5449559187405
         ],
         "type": "scatter"
        }
       ],
       "layout": {
        "template": {
         "data": {
          "bar": [
           {
            "error_x": {
             "color": "#2a3f5f"
            },
            "error_y": {
             "color": "#2a3f5f"
            },
            "marker": {
             "line": {
              "color": "#E5ECF6",
              "width": 0.5
             },
             "pattern": {
              "fillmode": "overlay",
              "size": 10,
              "solidity": 0.2
             }
            },
            "type": "bar"
           }
          ],
          "barpolar": [
           {
            "marker": {
             "line": {
              "color": "#E5ECF6",
              "width": 0.5
             },
             "pattern": {
              "fillmode": "overlay",
              "size": 10,
              "solidity": 0.2
             }
            },
            "type": "barpolar"
           }
          ],
          "carpet": [
           {
            "aaxis": {
             "endlinecolor": "#2a3f5f",
             "gridcolor": "white",
             "linecolor": "white",
             "minorgridcolor": "white",
             "startlinecolor": "#2a3f5f"
            },
            "baxis": {
             "endlinecolor": "#2a3f5f",
             "gridcolor": "white",
             "linecolor": "white",
             "minorgridcolor": "white",
             "startlinecolor": "#2a3f5f"
            },
            "type": "carpet"
           }
          ],
          "choropleth": [
           {
            "colorbar": {
             "outlinewidth": 0,
             "ticks": ""
            },
            "type": "choropleth"
           }
          ],
          "contour": [
           {
            "colorbar": {
             "outlinewidth": 0,
             "ticks": ""
            },
            "colorscale": [
             [
              0.0,
              "#0d0887"
             ],
             [
              0.1111111111111111,
              "#46039f"
             ],
             [
              0.2222222222222222,
              "#7201a8"
             ],
             [
              0.3333333333333333,
              "#9c179e"
             ],
             [
              0.4444444444444444,
              "#bd3786"
             ],
             [
              0.5555555555555556,
              "#d8576b"
             ],
             [
              0.6666666666666666,
              "#ed7953"
             ],
             [
              0.7777777777777778,
              "#fb9f3a"
             ],
             [
              0.8888888888888888,
              "#fdca26"
             ],
             [
              1.0,
              "#f0f921"
             ]
            ],
            "type": "contour"
           }
          ],
          "contourcarpet": [
           {
            "colorbar": {
             "outlinewidth": 0,
             "ticks": ""
            },
            "type": "contourcarpet"
           }
          ],
          "heatmap": [
           {
            "colorbar": {
             "outlinewidth": 0,
             "ticks": ""
            },
            "colorscale": [
             [
              0.0,
              "#0d0887"
             ],
             [
              0.1111111111111111,
              "#46039f"
             ],
             [
              0.2222222222222222,
              "#7201a8"
             ],
             [
              0.3333333333333333,
              "#9c179e"
             ],
             [
              0.4444444444444444,
              "#bd3786"
             ],
             [
              0.5555555555555556,
              "#d8576b"
             ],
             [
              0.6666666666666666,
              "#ed7953"
             ],
             [
              0.7777777777777778,
              "#fb9f3a"
             ],
             [
              0.8888888888888888,
              "#fdca26"
             ],
             [
              1.0,
              "#f0f921"
             ]
            ],
            "type": "heatmap"
           }
          ],
          "heatmapgl": [
           {
            "colorbar": {
             "outlinewidth": 0,
             "ticks": ""
            },
            "colorscale": [
             [
              0.0,
              "#0d0887"
             ],
             [
              0.1111111111111111,
              "#46039f"
             ],
             [
              0.2222222222222222,
              "#7201a8"
             ],
             [
              0.3333333333333333,
              "#9c179e"
             ],
             [
              0.4444444444444444,
              "#bd3786"
             ],
             [
              0.5555555555555556,
              "#d8576b"
             ],
             [
              0.6666666666666666,
              "#ed7953"
             ],
             [
              0.7777777777777778,
              "#fb9f3a"
             ],
             [
              0.8888888888888888,
              "#fdca26"
             ],
             [
              1.0,
              "#f0f921"
             ]
            ],
            "type": "heatmapgl"
           }
          ],
          "histogram": [
           {
            "marker": {
             "pattern": {
              "fillmode": "overlay",
              "size": 10,
              "solidity": 0.2
             }
            },
            "type": "histogram"
           }
          ],
          "histogram2d": [
           {
            "colorbar": {
             "outlinewidth": 0,
             "ticks": ""
            },
            "colorscale": [
             [
              0.0,
              "#0d0887"
             ],
             [
              0.1111111111111111,
              "#46039f"
             ],
             [
              0.2222222222222222,
              "#7201a8"
             ],
             [
              0.3333333333333333,
              "#9c179e"
             ],
             [
              0.4444444444444444,
              "#bd3786"
             ],
             [
              0.5555555555555556,
              "#d8576b"
             ],
             [
              0.6666666666666666,
              "#ed7953"
             ],
             [
              0.7777777777777778,
              "#fb9f3a"
             ],
             [
              0.8888888888888888,
              "#fdca26"
             ],
             [
              1.0,
              "#f0f921"
             ]
            ],
            "type": "histogram2d"
           }
          ],
          "histogram2dcontour": [
           {
            "colorbar": {
             "outlinewidth": 0,
             "ticks": ""
            },
            "colorscale": [
             [
              0.0,
              "#0d0887"
             ],
             [
              0.1111111111111111,
              "#46039f"
             ],
             [
              0.2222222222222222,
              "#7201a8"
             ],
             [
              0.3333333333333333,
              "#9c179e"
             ],
             [
              0.4444444444444444,
              "#bd3786"
             ],
             [
              0.5555555555555556,
              "#d8576b"
             ],
             [
              0.6666666666666666,
              "#ed7953"
             ],
             [
              0.7777777777777778,
              "#fb9f3a"
             ],
             [
              0.8888888888888888,
              "#fdca26"
             ],
             [
              1.0,
              "#f0f921"
             ]
            ],
            "type": "histogram2dcontour"
           }
          ],
          "mesh3d": [
           {
            "colorbar": {
             "outlinewidth": 0,
             "ticks": ""
            },
            "type": "mesh3d"
           }
          ],
          "parcoords": [
           {
            "line": {
             "colorbar": {
              "outlinewidth": 0,
              "ticks": ""
             }
            },
            "type": "parcoords"
           }
          ],
          "pie": [
           {
            "automargin": true,
            "type": "pie"
           }
          ],
          "scatter": [
           {
            "marker": {
             "colorbar": {
              "outlinewidth": 0,
              "ticks": ""
             }
            },
            "type": "scatter"
           }
          ],
          "scatter3d": [
           {
            "line": {
             "colorbar": {
              "outlinewidth": 0,
              "ticks": ""
             }
            },
            "marker": {
             "colorbar": {
              "outlinewidth": 0,
              "ticks": ""
             }
            },
            "type": "scatter3d"
           }
          ],
          "scattercarpet": [
           {
            "marker": {
             "colorbar": {
              "outlinewidth": 0,
              "ticks": ""
             }
            },
            "type": "scattercarpet"
           }
          ],
          "scattergeo": [
           {
            "marker": {
             "colorbar": {
              "outlinewidth": 0,
              "ticks": ""
             }
            },
            "type": "scattergeo"
           }
          ],
          "scattergl": [
           {
            "marker": {
             "colorbar": {
              "outlinewidth": 0,
              "ticks": ""
             }
            },
            "type": "scattergl"
           }
          ],
          "scattermapbox": [
           {
            "marker": {
             "colorbar": {
              "outlinewidth": 0,
              "ticks": ""
             }
            },
            "type": "scattermapbox"
           }
          ],
          "scatterpolar": [
           {
            "marker": {
             "colorbar": {
              "outlinewidth": 0,
              "ticks": ""
             }
            },
            "type": "scatterpolar"
           }
          ],
          "scatterpolargl": [
           {
            "marker": {
             "colorbar": {
              "outlinewidth": 0,
              "ticks": ""
             }
            },
            "type": "scatterpolargl"
           }
          ],
          "scatterternary": [
           {
            "marker": {
             "colorbar": {
              "outlinewidth": 0,
              "ticks": ""
             }
            },
            "type": "scatterternary"
           }
          ],
          "surface": [
           {
            "colorbar": {
             "outlinewidth": 0,
             "ticks": ""
            },
            "colorscale": [
             [
              0.0,
              "#0d0887"
             ],
             [
              0.1111111111111111,
              "#46039f"
             ],
             [
              0.2222222222222222,
              "#7201a8"
             ],
             [
              0.3333333333333333,
              "#9c179e"
             ],
             [
              0.4444444444444444,
              "#bd3786"
             ],
             [
              0.5555555555555556,
              "#d8576b"
             ],
             [
              0.6666666666666666,
              "#ed7953"
             ],
             [
              0.7777777777777778,
              "#fb9f3a"
             ],
             [
              0.8888888888888888,
              "#fdca26"
             ],
             [
              1.0,
              "#f0f921"
             ]
            ],
            "type": "surface"
           }
          ],
          "table": [
           {
            "cells": {
             "fill": {
              "color": "#EBF0F8"
             },
             "line": {
              "color": "white"
             }
            },
            "header": {
             "fill": {
              "color": "#C8D4E3"
             },
             "line": {
              "color": "white"
             }
            },
            "type": "table"
           }
          ]
         },
         "layout": {
          "annotationdefaults": {
           "arrowcolor": "#2a3f5f",
           "arrowhead": 0,
           "arrowwidth": 1
          },
          "autotypenumbers": "strict",
          "coloraxis": {
           "colorbar": {
            "outlinewidth": 0,
            "ticks": ""
           }
          },
          "colorscale": {
           "diverging": [
            [
             0,
             "#8e0152"
            ],
            [
             0.1,
             "#c51b7d"
            ],
            [
             0.2,
             "#de77ae"
            ],
            [
             0.3,
             "#f1b6da"
            ],
            [
             0.4,
             "#fde0ef"
            ],
            [
             0.5,
             "#f7f7f7"
            ],
            [
             0.6,
             "#e6f5d0"
            ],
            [
             0.7,
             "#b8e186"
            ],
            [
             0.8,
             "#7fbc41"
            ],
            [
             0.9,
             "#4d9221"
            ],
            [
             1,
             "#276419"
            ]
           ],
           "sequential": [
            [
             0.0,
             "#0d0887"
            ],
            [
             0.1111111111111111,
             "#46039f"
            ],
            [
             0.2222222222222222,
             "#7201a8"
            ],
            [
             0.3333333333333333,
             "#9c179e"
            ],
            [
             0.4444444444444444,
             "#bd3786"
            ],
            [
             0.5555555555555556,
             "#d8576b"
            ],
            [
             0.6666666666666666,
             "#ed7953"
            ],
            [
             0.7777777777777778,
             "#fb9f3a"
            ],
            [
             0.8888888888888888,
             "#fdca26"
            ],
            [
             1.0,
             "#f0f921"
            ]
           ],
           "sequentialminus": [
            [
             0.0,
             "#0d0887"
            ],
            [
             0.1111111111111111,
             "#46039f"
            ],
            [
             0.2222222222222222,
             "#7201a8"
            ],
            [
             0.3333333333333333,
             "#9c179e"
            ],
            [
             0.4444444444444444,
             "#bd3786"
            ],
            [
             0.5555555555555556,
             "#d8576b"
            ],
            [
             0.6666666666666666,
             "#ed7953"
            ],
            [
             0.7777777777777778,
             "#fb9f3a"
            ],
            [
             0.8888888888888888,
             "#fdca26"
            ],
            [
             1.0,
             "#f0f921"
            ]
           ]
          },
          "colorway": [
           "#636efa",
           "#EF553B",
           "#00cc96",
           "#ab63fa",
           "#FFA15A",
           "#19d3f3",
           "#FF6692",
           "#B6E880",
           "#FF97FF",
           "#FECB52"
          ],
          "font": {
           "color": "#2a3f5f"
          },
          "geo": {
           "bgcolor": "white",
           "lakecolor": "white",
           "landcolor": "#E5ECF6",
           "showlakes": true,
           "showland": true,
           "subunitcolor": "white"
          },
          "hoverlabel": {
           "align": "left"
          },
          "hovermode": "closest",
          "mapbox": {
           "style": "light"
          },
          "paper_bgcolor": "white",
          "plot_bgcolor": "#E5ECF6",
          "polar": {
           "angularaxis": {
            "gridcolor": "white",
            "linecolor": "white",
            "ticks": ""
           },
           "bgcolor": "#E5ECF6",
           "radialaxis": {
            "gridcolor": "white",
            "linecolor": "white",
            "ticks": ""
           }
          },
          "scene": {
           "xaxis": {
            "backgroundcolor": "#E5ECF6",
            "gridcolor": "white",
            "gridwidth": 2,
            "linecolor": "white",
            "showbackground": true,
            "ticks": "",
            "zerolinecolor": "white"
           },
           "yaxis": {
            "backgroundcolor": "#E5ECF6",
            "gridcolor": "white",
            "gridwidth": 2,
            "linecolor": "white",
            "showbackground": true,
            "ticks": "",
            "zerolinecolor": "white"
           },
           "zaxis": {
            "backgroundcolor": "#E5ECF6",
            "gridcolor": "white",
            "gridwidth": 2,
            "linecolor": "white",
            "showbackground": true,
            "ticks": "",
            "zerolinecolor": "white"
           }
          },
          "shapedefaults": {
           "line": {
            "color": "#2a3f5f"
           }
          },
          "ternary": {
           "aaxis": {
            "gridcolor": "white",
            "linecolor": "white",
            "ticks": ""
           },
           "baxis": {
            "gridcolor": "white",
            "linecolor": "white",
            "ticks": ""
           },
           "bgcolor": "#E5ECF6",
           "caxis": {
            "gridcolor": "white",
            "linecolor": "white",
            "ticks": ""
           }
          },
          "title": {
           "x": 0.05
          },
          "xaxis": {
           "automargin": true,
           "gridcolor": "white",
           "linecolor": "white",
           "ticks": "",
           "title": {
            "standoff": 15
           },
           "zerolinecolor": "white",
           "zerolinewidth": 2
          },
          "yaxis": {
           "automargin": true,
           "gridcolor": "white",
           "linecolor": "white",
           "ticks": "",
           "title": {
            "standoff": 15
           },
           "zerolinecolor": "white",
           "zerolinewidth": 2
          }
         }
        },
        "legend": {
         "orientation": "h",
         "yanchor": "top",
         "y": 1.11,
         "xanchor": "right",
         "x": 1
        },
        "xaxis": {
         "title": {
          "text": "Index"
         }
        },
        "yaxis": {
         "title": {
          "text": "Consumption [kWh]"
         }
        }
       },
       "config": {
        "plotlyServerURL": "https://plot.ly"
       }
      },
      "text/html": "<div>                            <div id=\"8624c735-0f9c-4c96-b628-f2781e0809a5\" class=\"plotly-graph-div\" style=\"height:525px; width:100%;\"></div>            <script type=\"text/javascript\">                require([\"plotly\"], function(Plotly) {                    window.PLOTLYENV=window.PLOTLYENV || {};                                    if (document.getElementById(\"8624c735-0f9c-4c96-b628-f2781e0809a5\")) {                    Plotly.newPlot(                        \"8624c735-0f9c-4c96-b628-f2781e0809a5\",                        [{\"line\":{\"color\":\"rgb(84, 84, 84)\"},\"mode\":\"lines\",\"name\":\"Training Data\",\"x\":[0,1,2,3,4,5,6,7,8,9,10,11,12,13,14,15,16,17,18,19,20,21,22,23,24,25,26,27,28,29,30,31,32,33,34,35,36,37,38,39,40,41,42,43,44,45,46,47,48,49,50,51,52,53,54,55,56,57,58,59,60,61,62,63,64,65,66,67,68,69,70,71,72,73,74,75,76,77,78,79,80,81,82,83,84,85,86,87,88,89,90,91,92,93,94,95,96,97,98,99,100,101,102,103,104,105,106,107,108,109,110,111,112,113,114,115,116,117,118,119,120,121,122,123,124,125,126,127,128,129,130,131,132,133,134,135,136,137,138,139,140,141,142,143,144,145,146,147,148,149,150,151,152,153,154,155,156,157,158,159,160,161,162,163,164,165,166,167],\"y\":[1748.5703687659995,2216.490329136,1941.3489556219997,1750.879879596,1979.74908359,1946.079115759,1798.1812534560001,1970.0879841359995,3345.0492111020003,3983.7579469390002,3143.638144088,2001.767106264,2352.292008492,2134.607065007,1966.920787394,726.249919247,1196.8185143140001,1824.9938583869998,2289.751203893,1916.1240566709998,1284.071123943,1857.7821960229994,1855.791513882,1719.0989943440004,2188.410807151,1750.2387683780003,1552.057358274,1686.654012273,1431.088905749,1497.234807243,3063.098245813,1924.8576879400005,1973.4607594169997,2409.846078935,1745.470069067,1410.49642382,748.146935111,1240.1787778179996,1309.3178738749998,1523.994529555,2186.7260705859994,1972.448245124,2601.0305198910005,2950.883453598,2284.171914329,2596.573704013,2080.9282665909996,2253.67963878,1689.136779111,1943.7933907899996,1893.88449606,1700.1733374899998,2252.582335243,1695.4383167379997,3835.330174502,3712.868312375001,3515.1116496100008,2835.046875548,2585.374073324,2554.68237809,2150.611873368,1171.876092987,1149.302530299,955.0283407339999,1891.622931347,2130.1642250779996,2210.360693998,2164.424181407,1801.3689529749997,2149.228025338,2658.5097575830005,1713.239572005,1760.4577235969998,1845.6580112909999,1650.53465372,1839.6114796069999,1823.4284012809999,1992.801120722,3368.25551983,2416.658121165,2057.537355787,1856.8434620100002,1469.8066986709998,594.9896295240001,569.8663074140001,724.0703282940001,575.9411971000001,562.011632602,779.739324439,1535.6149659470002,1946.3840754189998,978.812497578,1767.1223511119997,1919.981818777,1875.2386699859999,1016.0648595289998,1111.1671283019998,1174.6056600099998,1132.441693217,1119.8199271629999,1017.5304557640001,1076.142793365,2446.078166935,2017.6727079449997,2149.676564427,1583.533822504,1645.9625285309999,1909.0775057330002,1965.319210762,764.6685681780002,1025.188621618,1094.707896418,2074.391316231,1838.365809051,891.873394666,909.9812011249999,935.9323397929999,1008.9049202560001,1243.05180495,488.139737232,403.95908377499995,420.65296665099993,413.511541309,409.790019808,420.94660841999996,750.014391553,2933.794846863,2986.862982602,3013.28383935,2399.302257442,2233.699470887,2386.8204080230003,2532.0280497490003,2576.9456156460005,2314.7392562770005,2335.9726088830002,2335.2991488640005,2724.5797989039997,3177.338867196,3214.269654227,1743.5024072020003,1146.16813964,1206.9786243679998,1974.31867448,1804.702903922,2102.790323546,1624.0854541749998,1815.7023219439998,1773.3395272300004,1645.821338649,1779.898361089,1780.3548548029999,3299.730162692,3874.2778150479994,3168.321221574,918.8832500830001,957.3304415960001,2074.098193807,2037.8965081170002,1981.240227241,1247.1335838080001,1482.0640956470002,1941.4316557070001,2288.0783267150005,2308.5639598099997,1295.4894253139998,1537.5372545139999,1340.01484627],\"type\":\"scatter\"},{\"line\":{\"color\":\"rgb(234,143,129)\"},\"mode\":\"lines\",\"name\":\"Actual\",\"x\":[168,169,170,171,172,173,174,175,176,177,178,179,180,181,182,183,184,185,186,187,188,189,190,191,192,193,194,195,196,197,198,199,200,201,202,203,204,205,206,207,208,209,210,211,212,213,214,215,216,217,218,219,220,221,222,223,224,225,226,227,228,229,230,231,232,233,234,235,236,237,238,239],\"y\":[1923.8553102659998,1358.205294713,1350.0984677640001,1343.108919674,1359.198079524,1346.6505578869996,1360.5304529999999,1354.763935206,2824.3890182510004,2789.744318647,1820.134792939,932.4899558860002,1351.1483416449998,1044.8337838529999,1502.347022568,978.556416523,697.8033997800001,1052.098387321,1624.652085318,1714.8821850119998,1110.142700632,1806.516571311,1190.3671580009998,957.8443561730002,1383.8063053560002,1223.599071566,1241.153058959,1136.535326469,1066.983173739,1075.6810108710001,2862.442644498,1438.0675443479997,2113.3986818000003,2311.1259170450003,1355.127900143,1390.9312202439999,1281.012964093,1215.874364426,1710.5791067900002,1722.491843065,1210.795671208,1722.0023707000003,2306.12908306,2004.962730491,1202.2006375479998,2514.915923314001,1842.6470532039996,1653.283024578,1810.716867127,1948.2365227970001,1607.689945135,1738.8215063689997,1661.906591224,2333.745460026,3549.8642939070005,1978.822210231,2781.457919574,2320.61207642,1980.3592074429998,2014.720095714,1713.688494529,1949.2349191529997,2096.27264739,1467.7495088849998,819.612298518,1526.3955495330001,2276.139490854,1942.829192086,1539.7016035489996,2050.1061568699997,2620.6403817519995,2169.900260364],\"type\":\"scatter\"},{\"line\":{\"color\":\"rgb(32,115,171)\"},\"mode\":\"lines\",\"name\":\"Predicted\",\"x\":[168,169,170,171,172,173,174,175,176,177,178,179,180,181,182,183,184,185,186,187,188,189,190,191,192,193,194,195,196,197,198,199,200,201,202,203,204,205,206,207,208,209,210,211,212,213,214,215,216,217,218,219,220,221,222,223,224,225,226,227,228,229,230,231,232,233,234,235,236,237,238,239],\"y\":[1444.5354173441967,1909.535926561675,1641.9998453326002,1434.1854064940749,1687.0771480113613,1630.5424025833709,1498.3314700803446,1661.9038832165868,3041.824262314379,3676.27919322009,2837.1113872182736,1703.9065516376008,2032.3337866197535,1845.8261088868057,1650.059342845148,421.67326121192053,899.564540826523,1510.0846118838645,1985.597812810777,1621.5545186651589,960.1803982615245,1567.344855266089,1548.504346815445,1400.5616086923392,1902.669719573304,1431.3717317718542,1244.5952955622415,1397.3710350527076,1106.1865430560217,1200.8433293563353,2766.260883620899,1596.5998941560492,1693.10605391979,2089.0867059700035,1440.7152594092152,1113.909579656936,434.58944107177075,933.7816557222334,1014.370616362832,1205.2714474436627,1888.1628571852543,1671.521036749195,2281.2498716355153,2663.1304751680577,1963.7635676039895,2301.0118505180367,1768.8310853086025,1954.2726979869772,1377.6836124181848,1641.932631910332,1589.8310907418622,1388.3487575465747,1954.7857814294343,1385.6037033554937,3529.2530785011722,3409.663383630322,3211.986155176032,2518.3879114134975,2297.935082787844,2232.455354718245,1851.4082325803345,874.3116572103477,827.0368634082329,663.7099040398721,1585.0104572764349,1810.8166884238613,1925.6422945970526,1844.529759939672,1494.4782782743835,1860.463532808969,2331.3074382507766,1421.5449559187405],\"type\":\"scatter\"}],                        {\"template\":{\"data\":{\"bar\":[{\"error_x\":{\"color\":\"#2a3f5f\"},\"error_y\":{\"color\":\"#2a3f5f\"},\"marker\":{\"line\":{\"color\":\"#E5ECF6\",\"width\":0.5},\"pattern\":{\"fillmode\":\"overlay\",\"size\":10,\"solidity\":0.2}},\"type\":\"bar\"}],\"barpolar\":[{\"marker\":{\"line\":{\"color\":\"#E5ECF6\",\"width\":0.5},\"pattern\":{\"fillmode\":\"overlay\",\"size\":10,\"solidity\":0.2}},\"type\":\"barpolar\"}],\"carpet\":[{\"aaxis\":{\"endlinecolor\":\"#2a3f5f\",\"gridcolor\":\"white\",\"linecolor\":\"white\",\"minorgridcolor\":\"white\",\"startlinecolor\":\"#2a3f5f\"},\"baxis\":{\"endlinecolor\":\"#2a3f5f\",\"gridcolor\":\"white\",\"linecolor\":\"white\",\"minorgridcolor\":\"white\",\"startlinecolor\":\"#2a3f5f\"},\"type\":\"carpet\"}],\"choropleth\":[{\"colorbar\":{\"outlinewidth\":0,\"ticks\":\"\"},\"type\":\"choropleth\"}],\"contour\":[{\"colorbar\":{\"outlinewidth\":0,\"ticks\":\"\"},\"colorscale\":[[0.0,\"#0d0887\"],[0.1111111111111111,\"#46039f\"],[0.2222222222222222,\"#7201a8\"],[0.3333333333333333,\"#9c179e\"],[0.4444444444444444,\"#bd3786\"],[0.5555555555555556,\"#d8576b\"],[0.6666666666666666,\"#ed7953\"],[0.7777777777777778,\"#fb9f3a\"],[0.8888888888888888,\"#fdca26\"],[1.0,\"#f0f921\"]],\"type\":\"contour\"}],\"contourcarpet\":[{\"colorbar\":{\"outlinewidth\":0,\"ticks\":\"\"},\"type\":\"contourcarpet\"}],\"heatmap\":[{\"colorbar\":{\"outlinewidth\":0,\"ticks\":\"\"},\"colorscale\":[[0.0,\"#0d0887\"],[0.1111111111111111,\"#46039f\"],[0.2222222222222222,\"#7201a8\"],[0.3333333333333333,\"#9c179e\"],[0.4444444444444444,\"#bd3786\"],[0.5555555555555556,\"#d8576b\"],[0.6666666666666666,\"#ed7953\"],[0.7777777777777778,\"#fb9f3a\"],[0.8888888888888888,\"#fdca26\"],[1.0,\"#f0f921\"]],\"type\":\"heatmap\"}],\"heatmapgl\":[{\"colorbar\":{\"outlinewidth\":0,\"ticks\":\"\"},\"colorscale\":[[0.0,\"#0d0887\"],[0.1111111111111111,\"#46039f\"],[0.2222222222222222,\"#7201a8\"],[0.3333333333333333,\"#9c179e\"],[0.4444444444444444,\"#bd3786\"],[0.5555555555555556,\"#d8576b\"],[0.6666666666666666,\"#ed7953\"],[0.7777777777777778,\"#fb9f3a\"],[0.8888888888888888,\"#fdca26\"],[1.0,\"#f0f921\"]],\"type\":\"heatmapgl\"}],\"histogram\":[{\"marker\":{\"pattern\":{\"fillmode\":\"overlay\",\"size\":10,\"solidity\":0.2}},\"type\":\"histogram\"}],\"histogram2d\":[{\"colorbar\":{\"outlinewidth\":0,\"ticks\":\"\"},\"colorscale\":[[0.0,\"#0d0887\"],[0.1111111111111111,\"#46039f\"],[0.2222222222222222,\"#7201a8\"],[0.3333333333333333,\"#9c179e\"],[0.4444444444444444,\"#bd3786\"],[0.5555555555555556,\"#d8576b\"],[0.6666666666666666,\"#ed7953\"],[0.7777777777777778,\"#fb9f3a\"],[0.8888888888888888,\"#fdca26\"],[1.0,\"#f0f921\"]],\"type\":\"histogram2d\"}],\"histogram2dcontour\":[{\"colorbar\":{\"outlinewidth\":0,\"ticks\":\"\"},\"colorscale\":[[0.0,\"#0d0887\"],[0.1111111111111111,\"#46039f\"],[0.2222222222222222,\"#7201a8\"],[0.3333333333333333,\"#9c179e\"],[0.4444444444444444,\"#bd3786\"],[0.5555555555555556,\"#d8576b\"],[0.6666666666666666,\"#ed7953\"],[0.7777777777777778,\"#fb9f3a\"],[0.8888888888888888,\"#fdca26\"],[1.0,\"#f0f921\"]],\"type\":\"histogram2dcontour\"}],\"mesh3d\":[{\"colorbar\":{\"outlinewidth\":0,\"ticks\":\"\"},\"type\":\"mesh3d\"}],\"parcoords\":[{\"line\":{\"colorbar\":{\"outlinewidth\":0,\"ticks\":\"\"}},\"type\":\"parcoords\"}],\"pie\":[{\"automargin\":true,\"type\":\"pie\"}],\"scatter\":[{\"marker\":{\"colorbar\":{\"outlinewidth\":0,\"ticks\":\"\"}},\"type\":\"scatter\"}],\"scatter3d\":[{\"line\":{\"colorbar\":{\"outlinewidth\":0,\"ticks\":\"\"}},\"marker\":{\"colorbar\":{\"outlinewidth\":0,\"ticks\":\"\"}},\"type\":\"scatter3d\"}],\"scattercarpet\":[{\"marker\":{\"colorbar\":{\"outlinewidth\":0,\"ticks\":\"\"}},\"type\":\"scattercarpet\"}],\"scattergeo\":[{\"marker\":{\"colorbar\":{\"outlinewidth\":0,\"ticks\":\"\"}},\"type\":\"scattergeo\"}],\"scattergl\":[{\"marker\":{\"colorbar\":{\"outlinewidth\":0,\"ticks\":\"\"}},\"type\":\"scattergl\"}],\"scattermapbox\":[{\"marker\":{\"colorbar\":{\"outlinewidth\":0,\"ticks\":\"\"}},\"type\":\"scattermapbox\"}],\"scatterpolar\":[{\"marker\":{\"colorbar\":{\"outlinewidth\":0,\"ticks\":\"\"}},\"type\":\"scatterpolar\"}],\"scatterpolargl\":[{\"marker\":{\"colorbar\":{\"outlinewidth\":0,\"ticks\":\"\"}},\"type\":\"scatterpolargl\"}],\"scatterternary\":[{\"marker\":{\"colorbar\":{\"outlinewidth\":0,\"ticks\":\"\"}},\"type\":\"scatterternary\"}],\"surface\":[{\"colorbar\":{\"outlinewidth\":0,\"ticks\":\"\"},\"colorscale\":[[0.0,\"#0d0887\"],[0.1111111111111111,\"#46039f\"],[0.2222222222222222,\"#7201a8\"],[0.3333333333333333,\"#9c179e\"],[0.4444444444444444,\"#bd3786\"],[0.5555555555555556,\"#d8576b\"],[0.6666666666666666,\"#ed7953\"],[0.7777777777777778,\"#fb9f3a\"],[0.8888888888888888,\"#fdca26\"],[1.0,\"#f0f921\"]],\"type\":\"surface\"}],\"table\":[{\"cells\":{\"fill\":{\"color\":\"#EBF0F8\"},\"line\":{\"color\":\"white\"}},\"header\":{\"fill\":{\"color\":\"#C8D4E3\"},\"line\":{\"color\":\"white\"}},\"type\":\"table\"}]},\"layout\":{\"annotationdefaults\":{\"arrowcolor\":\"#2a3f5f\",\"arrowhead\":0,\"arrowwidth\":1},\"autotypenumbers\":\"strict\",\"coloraxis\":{\"colorbar\":{\"outlinewidth\":0,\"ticks\":\"\"}},\"colorscale\":{\"diverging\":[[0,\"#8e0152\"],[0.1,\"#c51b7d\"],[0.2,\"#de77ae\"],[0.3,\"#f1b6da\"],[0.4,\"#fde0ef\"],[0.5,\"#f7f7f7\"],[0.6,\"#e6f5d0\"],[0.7,\"#b8e186\"],[0.8,\"#7fbc41\"],[0.9,\"#4d9221\"],[1,\"#276419\"]],\"sequential\":[[0.0,\"#0d0887\"],[0.1111111111111111,\"#46039f\"],[0.2222222222222222,\"#7201a8\"],[0.3333333333333333,\"#9c179e\"],[0.4444444444444444,\"#bd3786\"],[0.5555555555555556,\"#d8576b\"],[0.6666666666666666,\"#ed7953\"],[0.7777777777777778,\"#fb9f3a\"],[0.8888888888888888,\"#fdca26\"],[1.0,\"#f0f921\"]],\"sequentialminus\":[[0.0,\"#0d0887\"],[0.1111111111111111,\"#46039f\"],[0.2222222222222222,\"#7201a8\"],[0.3333333333333333,\"#9c179e\"],[0.4444444444444444,\"#bd3786\"],[0.5555555555555556,\"#d8576b\"],[0.6666666666666666,\"#ed7953\"],[0.7777777777777778,\"#fb9f3a\"],[0.8888888888888888,\"#fdca26\"],[1.0,\"#f0f921\"]]},\"colorway\":[\"#636efa\",\"#EF553B\",\"#00cc96\",\"#ab63fa\",\"#FFA15A\",\"#19d3f3\",\"#FF6692\",\"#B6E880\",\"#FF97FF\",\"#FECB52\"],\"font\":{\"color\":\"#2a3f5f\"},\"geo\":{\"bgcolor\":\"white\",\"lakecolor\":\"white\",\"landcolor\":\"#E5ECF6\",\"showlakes\":true,\"showland\":true,\"subunitcolor\":\"white\"},\"hoverlabel\":{\"align\":\"left\"},\"hovermode\":\"closest\",\"mapbox\":{\"style\":\"light\"},\"paper_bgcolor\":\"white\",\"plot_bgcolor\":\"#E5ECF6\",\"polar\":{\"angularaxis\":{\"gridcolor\":\"white\",\"linecolor\":\"white\",\"ticks\":\"\"},\"bgcolor\":\"#E5ECF6\",\"radialaxis\":{\"gridcolor\":\"white\",\"linecolor\":\"white\",\"ticks\":\"\"}},\"scene\":{\"xaxis\":{\"backgroundcolor\":\"#E5ECF6\",\"gridcolor\":\"white\",\"gridwidth\":2,\"linecolor\":\"white\",\"showbackground\":true,\"ticks\":\"\",\"zerolinecolor\":\"white\"},\"yaxis\":{\"backgroundcolor\":\"#E5ECF6\",\"gridcolor\":\"white\",\"gridwidth\":2,\"linecolor\":\"white\",\"showbackground\":true,\"ticks\":\"\",\"zerolinecolor\":\"white\"},\"zaxis\":{\"backgroundcolor\":\"#E5ECF6\",\"gridcolor\":\"white\",\"gridwidth\":2,\"linecolor\":\"white\",\"showbackground\":true,\"ticks\":\"\",\"zerolinecolor\":\"white\"}},\"shapedefaults\":{\"line\":{\"color\":\"#2a3f5f\"}},\"ternary\":{\"aaxis\":{\"gridcolor\":\"white\",\"linecolor\":\"white\",\"ticks\":\"\"},\"baxis\":{\"gridcolor\":\"white\",\"linecolor\":\"white\",\"ticks\":\"\"},\"bgcolor\":\"#E5ECF6\",\"caxis\":{\"gridcolor\":\"white\",\"linecolor\":\"white\",\"ticks\":\"\"}},\"title\":{\"x\":0.05},\"xaxis\":{\"automargin\":true,\"gridcolor\":\"white\",\"linecolor\":\"white\",\"ticks\":\"\",\"title\":{\"standoff\":15},\"zerolinecolor\":\"white\",\"zerolinewidth\":2},\"yaxis\":{\"automargin\":true,\"gridcolor\":\"white\",\"linecolor\":\"white\",\"ticks\":\"\",\"title\":{\"standoff\":15},\"zerolinecolor\":\"white\",\"zerolinewidth\":2}}},\"legend\":{\"orientation\":\"h\",\"yanchor\":\"top\",\"y\":1.11,\"xanchor\":\"right\",\"x\":1},\"xaxis\":{\"title\":{\"text\":\"Index\"}},\"yaxis\":{\"title\":{\"text\":\"Consumption [kWh]\"}}},                        {\"responsive\": true}                    ).then(function(){\n                            \nvar gd = document.getElementById('8624c735-0f9c-4c96-b628-f2781e0809a5');\nvar x = new MutationObserver(function (mutations, observer) {{\n        var display = window.getComputedStyle(gd).display;\n        if (!display || display === 'none') {{\n            console.log([gd, 'removed!']);\n            Plotly.purge(gd);\n            observer.disconnect();\n        }}\n}});\n\n// Listen for the removal of the full notebook cells\nvar notebookContainer = gd.closest('#notebook-container');\nif (notebookContainer) {{\n    x.observe(notebookContainer, {childList: true});\n}}\n\n// Listen for the clearing of the current output cell\nvar outputEl = gd.closest('.output');\nif (outputEl) {{\n    x.observe(outputEl, {childList: true});\n}}\n\n                        })                };                });            </script>        </div>"
     },
     "metadata": {},
     "output_type": "display_data"
    }
   ],
   "source": [
    "fig = go.Figure()\n",
    "\n",
    "# fig.add_trace(go.Scatter(x=np.arange(start=0, stop=WEEK),\n",
    "#                          y=pred_test,\n",
    "#                          name='Training Data [Prediction]',\n",
    "#                          mode='lines',\n",
    "#                          line=dict(color='rgb(84, 0, 84)')))\n",
    "\n",
    "fig.add_trace(go.Scatter(x=np.arange(start=0, stop=WEEK),\n",
    "                         y=DATA[0:WEEK],\n",
    "                         name='Training Data',\n",
    "                         mode='lines',\n",
    "                         line=dict(color='rgb(84, 84, 84)')))\n",
    "\n",
    "fig.add_trace(go.Scatter(x=np.arange(start=WEEK, stop=WEEK + VALIDATION_RANGE),\n",
    "                         y=actual,\n",
    "                         name='Actual',\n",
    "                         mode='lines',\n",
    "                         line=dict(color='rgb(234,143,129)')))\n",
    "\n",
    "fig.add_trace(go.Scatter(x=np.arange(start=WEEK, stop=WEEK + VALIDATION_RANGE),\n",
    "                         y=prediction,\n",
    "                         name='Predicted',\n",
    "                         mode='lines',\n",
    "                         line=dict(color='rgb(32,115,171)')))\n",
    "\n",
    "fig.update_layout(\n",
    "    xaxis_title=\"Index\",\n",
    "    yaxis_title=\"Consumption [kWh]\",\n",
    "    legend=dict(orientation=\"h\",\n",
    "                yanchor=\"top\",\n",
    "                y=1.11,\n",
    "                xanchor=\"right\",\n",
    "                x=1))\n",
    "\n",
    "fig.show()"
   ],
   "metadata": {
    "collapsed": false,
    "pycharm": {
     "name": "#%%\n"
    }
   }
  },
  {
   "cell_type": "code",
   "execution_count": 457,
   "outputs": [
    {
     "data": {
      "text/plain": "{1, 3}"
     },
     "execution_count": 457,
     "metadata": {},
     "output_type": "execute_result"
    }
   ],
   "source": [
    "set([1, 2, 3, 4]) - set([2, 4])"
   ],
   "metadata": {
    "collapsed": false,
    "pycharm": {
     "name": "#%%\n"
    }
   }
  },
  {
   "cell_type": "code",
   "execution_count": 457,
   "outputs": [],
   "source": [],
   "metadata": {
    "collapsed": false,
    "pycharm": {
     "name": "#%%\n"
    }
   }
  }
 ],
 "metadata": {
  "kernelspec": {
   "display_name": "Python 3",
   "language": "python",
   "name": "python3"
  },
  "language_info": {
   "codemirror_mode": {
    "name": "ipython",
    "version": 2
   },
   "file_extension": ".py",
   "mimetype": "text/x-python",
   "name": "python",
   "nbconvert_exporter": "python",
   "pygments_lexer": "ipython2",
   "version": "2.7.6"
  }
 },
 "nbformat": 4,
 "nbformat_minor": 0
}