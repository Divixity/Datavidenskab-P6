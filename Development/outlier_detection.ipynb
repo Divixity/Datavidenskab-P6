{
 "cells": [
  {
   "cell_type": "code",
   "execution_count": 355,
   "metadata": {
    "collapsed": true
   },
   "outputs": [],
   "source": [
    "\"\"\"\n",
    "Calculates the amount of anomalous data points in the NZERTF data\n",
    "\"\"\"\n",
    "import numpy as np\n",
    "import pandas as pd\n",
    "from sklearn.ensemble import IsolationForest\n",
    "\n",
    "import DataRetriever as dr\n",
    "\n",
    "retriever = dr.DataRetriever()\n",
    "\n",
    "year_two = retriever.get_data(\"All-Subsystems-minute-Year2.pkl\")\n"
   ]
  },
  {
   "cell_type": "code",
   "execution_count": 356,
   "outputs": [],
   "source": [
    "year_two.drop(['Timestamp', 'TimeStamp_Count', 'DayOfWeek', 'DHW_WaterTempDishwasher', 'DHW_WaterTempWasherCold',\n",
    "               'DHW_WaterTempWasherHot', 'DHW_WaterTempMBASinkRCold', 'DHW_WaterTempKSinkMix','DHW_WaterTempSHWTank80galOut', 'DHW_WaterTempSHWHX80galOut', 'DHW_SHWGlycolTempIn', 'DHW_WaterTempMBASinkRHot'], axis=1, inplace=True)\n",
    "year_two.dropna(inplace=True)"
   ],
   "metadata": {
    "collapsed": false,
    "pycharm": {
     "name": "#%%\n"
    }
   }
  },
  {
   "cell_type": "code",
   "execution_count": 357,
   "outputs": [
    {
     "name": "stdout",
     "output_type": "stream",
     "text": [
      "Proportion anomalous: 22287/305038 = 7.31%\n",
      "Proportion not anomalous: 282751/305038 = 92.69%\n",
      "        Load_LatentHeatWaterVolume  Load_RefrigeratorTemp  \\\n",
      "214608                    0.483486               5.304425   \n",
      "214609                    0.483486               5.353302   \n",
      "214611                    0.486788               5.391536   \n",
      "214896                    0.621530               4.523296   \n",
      "214910                    0.621530               5.008378   \n",
      "...                            ...                    ...   \n",
      "519595                    1.754948               4.539912   \n",
      "519598                    1.757590               4.506577   \n",
      "519599                    1.757590               4.512704   \n",
      "519602                    1.763535               4.557287   \n",
      "519603                    1.763535               4.589046   \n",
      "\n",
      "        Load_StatusBA1Lights  Load_StatusKitchenLightsA  \\\n",
      "214608                   0.0                        1.0   \n",
      "214609                   0.0                        1.0   \n",
      "214611                   0.0                        1.0   \n",
      "214896                   0.0                        0.0   \n",
      "214910                   0.0                        0.0   \n",
      "...                      ...                        ...   \n",
      "519595                   0.0                        0.0   \n",
      "519598                   0.0                        0.0   \n",
      "519599                   0.0                        0.0   \n",
      "519602                   0.0                        0.0   \n",
      "519603                   0.0                        0.0   \n",
      "\n",
      "        Load_StatusKitchenLightsB  Load_StatusKitchenLightsC  \\\n",
      "214608                        1.0                        1.0   \n",
      "214609                        1.0                        1.0   \n",
      "214611                        1.0                        1.0   \n",
      "214896                        0.0                        0.0   \n",
      "214910                        0.0                        0.0   \n",
      "...                           ...                        ...   \n",
      "519595                        0.0                        0.0   \n",
      "519598                        0.0                        0.0   \n",
      "519599                        0.0                        0.0   \n",
      "519602                        0.0                        0.0   \n",
      "519603                        0.0                        0.0   \n",
      "\n",
      "        Load_StatusDRLights  Load_StatusLRLights3  Load_StatusEntryHallLights  \\\n",
      "214608                  0.0                   0.0                         0.0   \n",
      "214609                  0.0                   0.0                         0.0   \n",
      "214611                  0.0                   0.0                         0.0   \n",
      "214896                  0.0                   0.0                         0.0   \n",
      "214910                  0.0                   0.0                         0.0   \n",
      "...                     ...                   ...                         ...   \n",
      "519595                  0.0                   0.0                         0.0   \n",
      "519598                  0.0                   0.0                         0.0   \n",
      "519599                  0.0                   0.0                         0.0   \n",
      "519602                  0.0                   0.0                         0.0   \n",
      "519603                  0.0                   0.0                         0.0   \n",
      "\n",
      "        Load_StatusBR4Lights  ...  SHW_GlycolFlowHXCoriolisSHW  \\\n",
      "214608                   0.0  ...                810722.000000   \n",
      "214609                   0.0  ...                810722.000000   \n",
      "214611                   0.0  ...                810722.000000   \n",
      "214896                   0.0  ...                810722.000000   \n",
      "214910                   0.0  ...                810722.000000   \n",
      "...                      ...  ...                          ...   \n",
      "519595                   0.0  ...                   419.930636   \n",
      "519598                   0.0  ...                   419.930636   \n",
      "519599                   0.0  ...                   419.930636   \n",
      "519602                   0.0  ...                   419.930636   \n",
      "519603                   0.0  ...                   419.930636   \n",
      "\n",
      "        SHW_WaterFlowHXCoriolisSHW  SHW_GlycolFlowRateHXCoriolisSHW  \\\n",
      "214608                1.797827e+06                         0.004002   \n",
      "214609                1.797827e+06                         0.004003   \n",
      "214611                1.797827e+06                         0.004004   \n",
      "214896                1.798770e+06                         0.004009   \n",
      "214910                1.798770e+06                         0.004009   \n",
      "...                            ...                              ...   \n",
      "519595                9.426303e+02                         0.003016   \n",
      "519598                9.426303e+02                         0.000394   \n",
      "519599                9.426303e+02                         0.001164   \n",
      "519602                9.426303e+02                         0.001145   \n",
      "519603                9.426303e+02                         0.002149   \n",
      "\n",
      "        SHW_WaterFlowRateHXCoriolisSHW  HVAC_HeatPumpIndoorUnitPower  \\\n",
      "214608                        0.004003                       125.051   \n",
      "214609                        0.004003                       125.166   \n",
      "214611                        0.004001                       125.626   \n",
      "214896                        0.004005                        13.579   \n",
      "214910                        0.004003                       137.043   \n",
      "...                                ...                           ...   \n",
      "519595                        0.000712                        14.187   \n",
      "519598                        0.001288                        11.314   \n",
      "519599                        0.000296                        11.725   \n",
      "519602                       -0.000483                        10.903   \n",
      "519603                        0.001006                        11.315   \n",
      "\n",
      "        HVAC_HeatPumpOutdoorUnitPower  HVAC_DehumidifierPower  \\\n",
      "214608                        879.190                   4.488   \n",
      "214609                        892.821                   4.471   \n",
      "214611                        902.631                   4.471   \n",
      "214896                        134.642                 468.185   \n",
      "214910                       1100.650                   4.496   \n",
      "...                               ...                     ...   \n",
      "519595                         22.563                   4.361   \n",
      "519598                         22.388                   4.258   \n",
      "519599                         22.563                   4.265   \n",
      "519602                         22.169                   4.306   \n",
      "519603                         22.957                   4.327   \n",
      "\n",
      "        HVAC_DehumidifierInletAirTemp  HVAC_DehumidifierExitAirTemp  \\\n",
      "214608                         68.521                        68.609   \n",
      "214609                         68.359                        68.206   \n",
      "214611                         67.996                        67.382   \n",
      "214896                         73.883                        97.682   \n",
      "214910                         67.487                        71.786   \n",
      "...                               ...                           ...   \n",
      "519595                         67.645                        68.539   \n",
      "519598                         67.650                        68.555   \n",
      "519599                         67.645                        68.550   \n",
      "519602                         67.651                        68.552   \n",
      "519603                         67.652                        68.560   \n",
      "\n",
      "        HVAC_DehumidifierAirflow  \n",
      "214608                     0.000  \n",
      "214609                     0.000  \n",
      "214611                     0.000  \n",
      "214896                   110.463  \n",
      "214910                     0.000  \n",
      "...                          ...  \n",
      "519595                     0.000  \n",
      "519598                     0.000  \n",
      "519599                     0.000  \n",
      "519602                     0.000  \n",
      "519603                     0.000  \n",
      "\n",
      "[22287 rows x 370 columns]\n"
     ]
    }
   ],
   "source": [
    "iso_forest = IsolationForest(n_estimators=100, max_samples='auto', contamination='auto', max_features=1.0,\n",
    "                             bootstrap=False, n_jobs=1, random_state=1, warm_start=False)\n",
    "\n",
    "iso_forest.fit(year_two.values)\n",
    "predictions = iso_forest.predict(year_two.values)\n",
    "amount_anomalous = len(np.where(predictions < 0)[0])\n",
    "amount_not_anomalous = len(np.where(predictions > 0)[0])\n",
    "\n",
    "proportion_anomalous = amount_anomalous / len(year_two)\n",
    "proportion_not_anomalous = amount_not_anomalous / len(year_two)\n",
    "print(f'Proportion anomalous: {amount_anomalous}/{len(year_two)} = {round(proportion_anomalous * 100, 2)}%')\n",
    "print(f'Proportion not anomalous: {amount_not_anomalous}/{len(year_two)} = {round(proportion_not_anomalous * 100, 2)}%')\n",
    "\n",
    "anomalous_indeces = np.where(predictions == -1)[0].tolist()\n",
    "print(year_two.iloc[anomalous_indeces])"
   ],
   "metadata": {
    "collapsed": false,
    "pycharm": {
     "name": "#%%\n"
    }
   }
  },
  {
   "cell_type": "code",
   "execution_count": 357,
   "outputs": [],
   "source": [],
   "metadata": {
    "collapsed": false,
    "pycharm": {
     "name": "#%%\n"
    }
   }
  },
  {
   "cell_type": "code",
   "execution_count": 357,
   "outputs": [],
   "source": [],
   "metadata": {
    "collapsed": false,
    "pycharm": {
     "name": "#%%\n"
    }
   }
  }
 ],
 "metadata": {
  "kernelspec": {
   "display_name": "Python 3",
   "language": "python",
   "name": "python3"
  },
  "language_info": {
   "codemirror_mode": {
    "name": "ipython",
    "version": 2
   },
   "file_extension": ".py",
   "mimetype": "text/x-python",
   "name": "python",
   "nbconvert_exporter": "python",
   "pygments_lexer": "ipython2",
   "version": "2.7.6"
  }
 },
 "nbformat": 4,
 "nbformat_minor": 0
}