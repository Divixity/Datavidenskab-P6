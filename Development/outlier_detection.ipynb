{
 "cells": [
  {
   "cell_type": "code",
   "execution_count": 354,
   "metadata": {
    "collapsed": true
   },
   "outputs": [
    {
     "data": {
      "text/plain": "       TimeStamp_Count  DHW_WaterTempDishwasher  DHW_WaterTempWasherCold  \\\ncount    519604.000000             5.196040e+05             5.196040e+05   \nmean     259802.500000            -6.219481e+88            -2.050354e+86   \nstd      149996.898974             6.999865e+89             2.955900e+88   \nmin           1.000000            -9.036153e+90            -4.295621e+90   \n25%      129901.750000             2.061378e+01             2.110233e+01   \n50%      259802.500000             2.199918e+01             2.158445e+01   \n75%      389703.250000             2.281471e+01             2.204376e+01   \nmax      519604.000000             8.510165e+02             2.627878e+01   \n\n       DHW_WaterTempWasherHot  DHW_WaterTempMBASinkRCold  \\\ncount            5.196040e+05               5.196040e+05   \nmean            -8.140542e+84              -9.978438e+89   \nstd              5.867993e+87               2.167977e+90   \nmin             -4.229858e+90              -1.187051e+91   \n25%              2.124000e+01               2.065757e+01   \n50%              2.169624e+01               2.283321e+01   \n75%              2.229288e+01               2.392276e+01   \nmax              5.360049e+01               2.810738e+02   \n\n       DHW_WaterTempKSinkMix  DHW_WaterTempSHWTank80galOut  \\\ncount           5.196040e+05                  5.196040e+05   \nmean           -9.806032e+84                 -8.226175e+84   \nstd             7.068537e+87                  5.929720e+87   \nmin            -5.095254e+90                 -4.274354e+90   \n25%             2.122916e+01                  2.263928e+01   \n50%             2.280231e+01                  3.057006e+01   \n75%             3.201328e+01                  3.859792e+01   \nmax             4.914361e+01                  7.189244e+01   \n\n       DHW_WaterTempSHWHX80galOut  DHW_SHWGlycolTempIn  \\\ncount                5.196040e+05         5.196040e+05   \nmean                -2.717354e+87        -1.605094e+85   \nstd                  1.493309e+89         1.157009e+88   \nmin                 -8.272135e+90        -8.340133e+90   \n25%                  2.104551e+01         1.923127e+01   \n50%                  2.756492e+01         2.197240e+01   \n75%                  3.802486e+01         3.141633e+01   \nmax                  7.462323e+01         9.173174e+01   \n\n       DHW_WaterTempMBASinkRHot  \ncount              5.196040e+05  \nmean              -1.001487e+90  \nstd                2.175824e+90  \nmin               -1.193160e+91  \n25%                2.102846e+01  \n50%                2.378513e+01  \n75%                2.466425e+01  \nmax                3.760387e+02  ",
      "text/html": "<div>\n<style scoped>\n    .dataframe tbody tr th:only-of-type {\n        vertical-align: middle;\n    }\n\n    .dataframe tbody tr th {\n        vertical-align: top;\n    }\n\n    .dataframe thead th {\n        text-align: right;\n    }\n</style>\n<table border=\"1\" class=\"dataframe\">\n  <thead>\n    <tr style=\"text-align: right;\">\n      <th></th>\n      <th>TimeStamp_Count</th>\n      <th>DHW_WaterTempDishwasher</th>\n      <th>DHW_WaterTempWasherCold</th>\n      <th>DHW_WaterTempWasherHot</th>\n      <th>DHW_WaterTempMBASinkRCold</th>\n      <th>DHW_WaterTempKSinkMix</th>\n      <th>DHW_WaterTempSHWTank80galOut</th>\n      <th>DHW_WaterTempSHWHX80galOut</th>\n      <th>DHW_SHWGlycolTempIn</th>\n      <th>DHW_WaterTempMBASinkRHot</th>\n    </tr>\n  </thead>\n  <tbody>\n    <tr>\n      <th>count</th>\n      <td>519604.000000</td>\n      <td>5.196040e+05</td>\n      <td>5.196040e+05</td>\n      <td>5.196040e+05</td>\n      <td>5.196040e+05</td>\n      <td>5.196040e+05</td>\n      <td>5.196040e+05</td>\n      <td>5.196040e+05</td>\n      <td>5.196040e+05</td>\n      <td>5.196040e+05</td>\n    </tr>\n    <tr>\n      <th>mean</th>\n      <td>259802.500000</td>\n      <td>-6.219481e+88</td>\n      <td>-2.050354e+86</td>\n      <td>-8.140542e+84</td>\n      <td>-9.978438e+89</td>\n      <td>-9.806032e+84</td>\n      <td>-8.226175e+84</td>\n      <td>-2.717354e+87</td>\n      <td>-1.605094e+85</td>\n      <td>-1.001487e+90</td>\n    </tr>\n    <tr>\n      <th>std</th>\n      <td>149996.898974</td>\n      <td>6.999865e+89</td>\n      <td>2.955900e+88</td>\n      <td>5.867993e+87</td>\n      <td>2.167977e+90</td>\n      <td>7.068537e+87</td>\n      <td>5.929720e+87</td>\n      <td>1.493309e+89</td>\n      <td>1.157009e+88</td>\n      <td>2.175824e+90</td>\n    </tr>\n    <tr>\n      <th>min</th>\n      <td>1.000000</td>\n      <td>-9.036153e+90</td>\n      <td>-4.295621e+90</td>\n      <td>-4.229858e+90</td>\n      <td>-1.187051e+91</td>\n      <td>-5.095254e+90</td>\n      <td>-4.274354e+90</td>\n      <td>-8.272135e+90</td>\n      <td>-8.340133e+90</td>\n      <td>-1.193160e+91</td>\n    </tr>\n    <tr>\n      <th>25%</th>\n      <td>129901.750000</td>\n      <td>2.061378e+01</td>\n      <td>2.110233e+01</td>\n      <td>2.124000e+01</td>\n      <td>2.065757e+01</td>\n      <td>2.122916e+01</td>\n      <td>2.263928e+01</td>\n      <td>2.104551e+01</td>\n      <td>1.923127e+01</td>\n      <td>2.102846e+01</td>\n    </tr>\n    <tr>\n      <th>50%</th>\n      <td>259802.500000</td>\n      <td>2.199918e+01</td>\n      <td>2.158445e+01</td>\n      <td>2.169624e+01</td>\n      <td>2.283321e+01</td>\n      <td>2.280231e+01</td>\n      <td>3.057006e+01</td>\n      <td>2.756492e+01</td>\n      <td>2.197240e+01</td>\n      <td>2.378513e+01</td>\n    </tr>\n    <tr>\n      <th>75%</th>\n      <td>389703.250000</td>\n      <td>2.281471e+01</td>\n      <td>2.204376e+01</td>\n      <td>2.229288e+01</td>\n      <td>2.392276e+01</td>\n      <td>3.201328e+01</td>\n      <td>3.859792e+01</td>\n      <td>3.802486e+01</td>\n      <td>3.141633e+01</td>\n      <td>2.466425e+01</td>\n    </tr>\n    <tr>\n      <th>max</th>\n      <td>519604.000000</td>\n      <td>8.510165e+02</td>\n      <td>2.627878e+01</td>\n      <td>5.360049e+01</td>\n      <td>2.810738e+02</td>\n      <td>4.914361e+01</td>\n      <td>7.189244e+01</td>\n      <td>7.462323e+01</td>\n      <td>9.173174e+01</td>\n      <td>3.760387e+02</td>\n    </tr>\n  </tbody>\n</table>\n</div>"
     },
     "execution_count": 354,
     "metadata": {},
     "output_type": "execute_result"
    }
   ],
   "source": [
    "\"\"\"\n",
    "Calculates the amount of anomalous data points in the NZERTF data\n",
    "\"\"\"\n",
    "import numpy as np\n",
    "import pandas as pd\n",
    "from sklearn.ensemble import IsolationForest\n",
    "\n",
    "import DataRetriever as dr\n",
    "\n",
    "retriever = dr.DataRetriever()\n",
    "\n",
    "year_two = retriever.get_data(\"All-Subsystems-minute-Year2.pkl\")\n"
   ]
  },
  {
   "cell_type": "code",
   "execution_count": 349,
   "outputs": [],
   "source": [
    "year_two.drop(['Timestamp', 'TimeStamp_Count', 'DayOfWeek', 'DHW_WaterTempDishwasher', 'DHW_WaterTempWasherCold',\n",
    "               'DHW_WaterTempWasherHot', 'DHW_WaterTempMBASinkRCold', 'DHW_WaterTempKSinkMix','DHW_WaterTempSHWTank80galOut', 'DHW_WaterTempSHWHX80galOut', 'DHW_SHWGlycolTempIn', 'DHW_WaterTempMBASinkRHot'], axis=1, inplace=True)\n",
    "year_two.fillna(0, inplace=True)"
   ],
   "metadata": {
    "collapsed": false,
    "pycharm": {
     "name": "#%%\n"
    }
   }
  },
  {
   "cell_type": "code",
   "execution_count": 350,
   "outputs": [
    {
     "name": "stdout",
     "output_type": "stream",
     "text": [
      "Proportion anomalous: 28678/519604 = 5.52%\n",
      "Proportion not anomalous: 490926/519604 = 94.48%\n",
      "        Load_LatentHeatWaterVolume  Load_RefrigeratorTemp  \\\n",
      "543                       0.585863               5.481648   \n",
      "553                       0.596432               5.115619   \n",
      "554                       0.596432               5.010662   \n",
      "559                       0.603036               4.646350   \n",
      "560                       0.603036               4.658486   \n",
      "...                            ...                    ...   \n",
      "519541                    1.685596               5.393046   \n",
      "519542                    1.685596               5.443258   \n",
      "519543                    1.688899               5.349060   \n",
      "519548                    1.695503               5.085212   \n",
      "519549                    1.695503               5.069857   \n",
      "\n",
      "        Load_StatusBA1Lights  Load_StatusKitchenLightsA  \\\n",
      "543                      0.0                        1.0   \n",
      "553                      0.0                        1.0   \n",
      "554                      0.0                        1.0   \n",
      "559                      0.0                        1.0   \n",
      "560                      0.0                        1.0   \n",
      "...                      ...                        ...   \n",
      "519541                   0.0                        0.0   \n",
      "519542                   0.0                        0.0   \n",
      "519543                   0.0                        0.0   \n",
      "519548                   0.0                        0.0   \n",
      "519549                   0.0                        0.0   \n",
      "\n",
      "        Load_StatusKitchenLightsB  Load_StatusKitchenLightsC  \\\n",
      "543                           1.0                        1.0   \n",
      "553                           1.0                        1.0   \n",
      "554                           1.0                        1.0   \n",
      "559                           1.0                        1.0   \n",
      "560                           1.0                        1.0   \n",
      "...                           ...                        ...   \n",
      "519541                        0.0                        0.0   \n",
      "519542                        0.0                        0.0   \n",
      "519543                        0.0                        0.0   \n",
      "519548                        0.0                        0.0   \n",
      "519549                        0.0                        0.0   \n",
      "\n",
      "        Load_StatusDRLights  Load_StatusLRLights3  Load_StatusEntryHallLights  \\\n",
      "543                     0.0                   0.0                         0.0   \n",
      "553                     0.0                   0.0                         0.0   \n",
      "554                     0.0                   0.0                         0.0   \n",
      "559                     0.0                   0.0                         0.0   \n",
      "560                     0.0                   0.0                         0.0   \n",
      "...                     ...                   ...                         ...   \n",
      "519541                  0.0                   0.0                         0.0   \n",
      "519542                  0.0                   0.0                         0.0   \n",
      "519543                  0.0                   0.0                         0.0   \n",
      "519548                  0.0                   0.0                         0.0   \n",
      "519549                  0.0                   0.0                         0.0   \n",
      "\n",
      "        Load_StatusBR4Lights  ...  SHW_GlycolFlowHXCoriolisSHW  \\\n",
      "543                      0.0  ...                     0.000000   \n",
      "553                      0.0  ...                     0.000000   \n",
      "554                      0.0  ...                     0.000000   \n",
      "559                      0.0  ...                     0.000000   \n",
      "560                      0.0  ...                     0.000000   \n",
      "...                      ...  ...                          ...   \n",
      "519541                   0.0  ...                   419.930636   \n",
      "519542                   0.0  ...                   419.930636   \n",
      "519543                   0.0  ...                   419.930636   \n",
      "519548                   0.0  ...                   419.930636   \n",
      "519549                   0.0  ...                   419.930636   \n",
      "\n",
      "        SHW_WaterFlowHXCoriolisSHW  SHW_GlycolFlowRateHXCoriolisSHW  \\\n",
      "543                       0.000000                         0.000000   \n",
      "553                       0.000000                         0.000000   \n",
      "554                       0.000000                         0.000000   \n",
      "559                       0.000000                         0.000000   \n",
      "560                       0.000000                         0.000000   \n",
      "...                            ...                              ...   \n",
      "519541                  942.630328                         0.001111   \n",
      "519542                  942.630328                         0.001971   \n",
      "519543                  942.630328                         0.001074   \n",
      "519548                  942.630328                         0.001943   \n",
      "519549                  942.630328                         0.001301   \n",
      "\n",
      "        SHW_WaterFlowRateHXCoriolisSHW  HVAC_HeatPumpIndoorUnitPower  \\\n",
      "543                           0.000000                      1918.468   \n",
      "553                           0.000000                       167.012   \n",
      "554                           0.000000                       179.077   \n",
      "559                           0.000000                       174.686   \n",
      "560                           0.000000                       163.894   \n",
      "...                                ...                           ...   \n",
      "519541                       -0.000123                        11.314   \n",
      "519542                        0.000646                        11.861   \n",
      "519543                        0.001002                        12.272   \n",
      "519548                       -0.000072                         9.809   \n",
      "519549                        0.000067                        11.040   \n",
      "\n",
      "        HVAC_HeatPumpOutdoorUnitPower  HVAC_DehumidifierPower  \\\n",
      "543                           901.383                   4.399   \n",
      "553                          1191.550                   4.447   \n",
      "554                          1184.420                   4.430   \n",
      "559                          1114.242                   4.447   \n",
      "560                          1104.970                   4.430   \n",
      "...                               ...                     ...   \n",
      "519541                         22.694                   4.327   \n",
      "519542                         22.388                   4.327   \n",
      "519543                         22.825                   4.272   \n",
      "519548                         22.388                   4.313   \n",
      "519549                         22.388                   4.293   \n",
      "\n",
      "        HVAC_DehumidifierInletAirTemp  HVAC_DehumidifierExitAirTemp  \\\n",
      "543                            72.761                        75.992   \n",
      "553                            72.538                        76.135   \n",
      "554                            72.508                        76.224   \n",
      "559                            72.491                        76.683   \n",
      "560                            72.451                        76.779   \n",
      "...                               ...                           ...   \n",
      "519541                         67.805                        68.696   \n",
      "519542                         67.806                        68.697   \n",
      "519543                         67.812                        68.710   \n",
      "519548                         67.791                        68.668   \n",
      "519549                         67.785                        68.665   \n",
      "\n",
      "        HVAC_DehumidifierAirflow  \n",
      "543                          0.0  \n",
      "553                          0.0  \n",
      "554                          0.0  \n",
      "559                          0.0  \n",
      "560                          0.0  \n",
      "...                          ...  \n",
      "519541                       0.0  \n",
      "519542                       0.0  \n",
      "519543                       0.0  \n",
      "519548                       0.0  \n",
      "519549                       0.0  \n",
      "\n",
      "[28678 rows x 370 columns]\n"
     ]
    }
   ],
   "source": [
    "iso_forest = IsolationForest(n_estimators=100, max_samples='auto', contamination='auto', max_features=1.0,\n",
    "                             bootstrap=False, n_jobs=1, random_state=1, warm_start=False)\n",
    "\n",
    "iso_forest.fit(year_two.values)\n",
    "predictions = iso_forest.predict(year_two.values)\n",
    "amount_anomalous = len(np.where(predictions < 0)[0])\n",
    "amount_not_anomalous = len(np.where(predictions > 0)[0])\n",
    "\n",
    "proportion_anomalous = amount_anomalous / len(year_two)\n",
    "proportion_not_anomalous = amount_not_anomalous / len(year_two)\n",
    "print(f'Proportion anomalous: {amount_anomalous}/{len(year_two)} = {round(proportion_anomalous * 100, 2)}%')\n",
    "print(f'Proportion not anomalous: {amount_not_anomalous}/{len(year_two)} = {round(proportion_not_anomalous * 100, 2)}%')\n",
    "\n",
    "anomalous_indeces = np.where(predictions == -1)[0].tolist()\n",
    "print(year_two.iloc[anomalous_indeces])"
   ],
   "metadata": {
    "collapsed": false,
    "pycharm": {
     "name": "#%%\n"
    }
   }
  },
  {
   "cell_type": "code",
   "execution_count": 350,
   "outputs": [],
   "source": [],
   "metadata": {
    "collapsed": false,
    "pycharm": {
     "name": "#%%\n"
    }
   }
  },
  {
   "cell_type": "code",
   "execution_count": 351,
   "outputs": [],
   "source": [],
   "metadata": {
    "collapsed": false,
    "pycharm": {
     "name": "#%%\n"
    }
   }
  }
 ],
 "metadata": {
  "kernelspec": {
   "display_name": "Python 3",
   "language": "python",
   "name": "python3"
  },
  "language_info": {
   "codemirror_mode": {
    "name": "ipython",
    "version": 2
   },
   "file_extension": ".py",
   "mimetype": "text/x-python",
   "name": "python",
   "nbconvert_exporter": "python",
   "pygments_lexer": "ipython2",
   "version": "2.7.6"
  }
 },
 "nbformat": 4,
 "nbformat_minor": 0
}