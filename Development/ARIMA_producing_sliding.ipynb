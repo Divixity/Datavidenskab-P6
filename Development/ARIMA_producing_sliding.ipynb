{
 "cells": [
  {
   "cell_type": "markdown",
   "source": [
    "# Load Data"
   ],
   "metadata": {
    "collapsed": false,
    "pycharm": {
     "name": "#%% md\n"
    }
   }
  },
  {
   "cell_type": "code",
   "execution_count": 7,
   "outputs": [],
   "source": [
    "import pandas as pd\n",
    "from sklearn.metrics import mean_squared_error\n",
    "from sklearn.preprocessing import OneHotEncoder\n",
    "from statsmodels.tsa.statespace.sarimax import SARIMAX\n",
    "import plotly.graph_objects as go\n",
    "\n",
    "import DataRetriever as dr\n",
    "\n",
    "retriever = dr.DataRetriever()\n",
    "\n",
    "PV_ATTRIBUTES = retriever.get_attributes(file_name='producing_attributes.pkl')\n",
    "\n",
    "gen_df = retriever.get_data(file_name='All-Subsystems-hour-Year2.pkl')[PV_ATTRIBUTES].sum(axis=1).clip(lower=0) / 1000\n",
    "gen_df = gen_df.rename(\"Generated Energy\", inplace=True).to_frame()\n",
    "\n",
    "weather_forecast = pd.read_csv(\"../_05Forecasting/CLEANED_GAI_2015_2016.csv\", index_col=0)\n",
    "weather_forecast.index.rename(\"Timestamp\", inplace=True)\n",
    "weather_forecast.index = pd.to_datetime(weather_forecast.index)"
   ],
   "metadata": {
    "collapsed": false,
    "pycharm": {
     "name": "#%%\n"
    }
   }
  },
  {
   "cell_type": "markdown",
   "source": [
    "# OneHotEncode the weather data"
   ],
   "metadata": {
    "collapsed": false,
    "pycharm": {
     "name": "#%% md\n"
    }
   }
  },
  {
   "cell_type": "code",
   "execution_count": 8,
   "outputs": [],
   "source": [
    "weather_forecast = weather_forecast[weather_forecast.index.isin(gen_df.index)]\n",
    "\n",
    "ohe = OneHotEncoder(sparse=False)\n",
    "hot = ohe.fit_transform(weather_forecast)\n",
    "weather_df = pd.DataFrame(data=hot, columns=ohe.get_feature_names_out(), index=gen_df.index)"
   ],
   "metadata": {
    "collapsed": false,
    "pycharm": {
     "name": "#%%\n"
    }
   }
  },
  {
   "cell_type": "code",
   "execution_count": 9,
   "outputs": [],
   "source": [
    "data = gen_df.merge(weather_df, left_index=True, right_index=True, how='left')\n",
    "condition_columns = data.columns[1:]"
   ],
   "metadata": {
    "collapsed": false,
    "pycharm": {
     "name": "#%%\n"
    }
   }
  },
  {
   "cell_type": "markdown",
   "source": [
    "# Rolling Window Function"
   ],
   "metadata": {
    "collapsed": false,
    "pycharm": {
     "name": "#%% md\n"
    }
   }
  },
  {
   "cell_type": "code",
   "execution_count": 10,
   "outputs": [],
   "source": [
    "def sliding_forecast(endog: pd.DataFrame, trend: str, order: tuple,\n",
    "                     seasonal_order: tuple=None, exog: pd.DataFrame=None,\n",
    "                     train_length: int=0, val_length: int=0, shift: int=0):\n",
    "    train_start = 0\n",
    "    train_end = train_start + (train_length * 24)\n",
    "    val_start = train_end\n",
    "    val_end = val_start + (val_length * 24)\n",
    "    progress = 1\n",
    "\n",
    "    rmse_list = list()\n",
    "\n",
    "    while len(endog[: val_end]) < len(endog):\n",
    "        if exog is not None:\n",
    "            model = SARIMAX(endog=endog[train_start : train_end],\n",
    "                exog=exog[train_start : train_end],\n",
    "                trend=trend,\n",
    "                order=order,\n",
    "                seasonal_order=seasonal_order)\\\n",
    "                .fit(low_memory=True, disp=False, full_output=False)\n",
    "\n",
    "            predictions = pd.DataFrame(model.predict(start=endog.index[val_start],\n",
    "                                                     end=endog.index[val_end - 1],\n",
    "                                                     exog=exog[val_start: val_end]))\n",
    "\n",
    "        else:\n",
    "            model = SARIMAX(endog=endog[train_start : train_end],\n",
    "                trend=trend,\n",
    "                order=order,\n",
    "                seasonal_order=seasonal_order)\\\n",
    "                .fit(low_memory=True, disp=False, full_output=False)\n",
    "\n",
    "            predictions = pd.DataFrame(model.predict(start=endog.index[val_start],\n",
    "                                                     end=endog.index[val_end - 1]))\n",
    "\n",
    "        rmse_list.append(mean_squared_error(y_true=endog[val_start: val_end],\n",
    "                                            y_pred=predictions,\n",
    "                                            squared=False))\n",
    "\n",
    "        train_start += shift * 24\n",
    "        train_end = train_start + (train_length * 24)\n",
    "        val_start = train_end\n",
    "        val_end = val_start + (val_length * 24)\n",
    "\n",
    "        progress += 1\n",
    "\n",
    "    return sum(rmse_list) / len(rmse_list)"
   ],
   "metadata": {
    "collapsed": false,
    "pycharm": {
     "name": "#%%\n"
    }
   }
  },
  {
   "cell_type": "code",
   "execution_count": null,
   "outputs": [],
   "source": [
    "ARIMA_RMSE = sliding_forecast(endog=data[\"Generated Energy\"],\n",
    "                 trend='n', order=(4, 0, 0),\n",
    "                 train_length=28, val_length=3, shift=5)"
   ],
   "metadata": {
    "collapsed": false,
    "pycharm": {
     "name": "#%%\n"
    }
   }
  },
  {
   "cell_type": "code",
   "execution_count": 20,
   "outputs": [
    {
     "name": "stdout",
     "output_type": "stream",
     "text": [
      "RMSE for ARIMA(4, 0, 0) is: 2.89995\n"
     ]
    }
   ],
   "source": [
    "print(f\"RMSE for ARIMA(4, 0, 0) is: {round(ARIMA_RMSE, 5)}\")"
   ],
   "metadata": {
    "collapsed": false,
    "pycharm": {
     "name": "#%%\n"
    }
   }
  },
  {
   "cell_type": "code",
   "execution_count": 12,
   "outputs": [
    {
     "name": "stdout",
     "output_type": "stream",
     "text": [
      "RMSE for SARIMA(4, 0, 0, 2, 0, 0, 24) is: 1.82085\n",
      "RMSE for SARIMA(4, 1, 0, 2, 0, 0, 24) is: 1.82261\n",
      "RMSE for SARIMA(4, 0, 0, 2, 1, 0, 24) is: 1.38226\n",
      "RMSE for SARIMA(4, 1, 0, 2, 1, 0, 24) is: 1.38196\n",
      "RMSE for SARIMA(4, 0, 0, 0, 0, 2, 24) is: 2.55492\n",
      "RMSE for SARIMA(4, 1, 0, 0, 0, 2, 24) is: 2.54235\n"
     ]
    },
    {
     "name": "stderr",
     "output_type": "stream",
     "text": [
      "/usr/local/lib/python3.8/dist-packages/statsmodels/tsa/statespace/sarimax.py:1009: UserWarning: Non-invertible starting seasonal moving average Using zeros as starting parameters.\n",
      "  warn('Non-invertible starting seasonal moving average'\n",
      "/usr/local/lib/python3.8/dist-packages/statsmodels/tsa/statespace/sarimax.py:1009: UserWarning: Non-invertible starting seasonal moving average Using zeros as starting parameters.\n",
      "  warn('Non-invertible starting seasonal moving average'\n",
      "/usr/local/lib/python3.8/dist-packages/statsmodels/tsa/statespace/sarimax.py:1009: UserWarning: Non-invertible starting seasonal moving average Using zeros as starting parameters.\n",
      "  warn('Non-invertible starting seasonal moving average'\n",
      "/usr/local/lib/python3.8/dist-packages/statsmodels/tsa/statespace/sarimax.py:1009: UserWarning: Non-invertible starting seasonal moving average Using zeros as starting parameters.\n",
      "  warn('Non-invertible starting seasonal moving average'\n",
      "/usr/local/lib/python3.8/dist-packages/statsmodels/tsa/statespace/sarimax.py:1009: UserWarning: Non-invertible starting seasonal moving average Using zeros as starting parameters.\n",
      "  warn('Non-invertible starting seasonal moving average'\n",
      "/usr/local/lib/python3.8/dist-packages/statsmodels/tsa/statespace/sarimax.py:1009: UserWarning: Non-invertible starting seasonal moving average Using zeros as starting parameters.\n",
      "  warn('Non-invertible starting seasonal moving average'\n",
      "/usr/local/lib/python3.8/dist-packages/statsmodels/tsa/statespace/sarimax.py:1009: UserWarning: Non-invertible starting seasonal moving average Using zeros as starting parameters.\n",
      "  warn('Non-invertible starting seasonal moving average'\n"
     ]
    },
    {
     "name": "stdout",
     "output_type": "stream",
     "text": [
      "RMSE for SARIMA(4, 0, 0, 0, 1, 2, 24) is: 1.26489\n",
      "RMSE for SARIMA(4, 1, 0, 0, 1, 2, 24) is: 1.26529\n"
     ]
    }
   ],
   "source": [
    "sarima_params = [(4, 0, 0, 2, 0, 0, 24), (4, 1, 0, 2, 0, 0, 24),\n",
    "                 (4, 0, 0, 2, 1, 0, 24), (4, 1, 0, 2, 1, 0, 24),\n",
    "                 (4, 0, 0, 0, 0, 2, 24), (4, 1, 0, 0, 0, 2, 24),\n",
    "                 (4, 0, 0, 0, 1, 2, 24), (4, 1, 0, 0, 1, 2, 24)]\n",
    "\n",
    "sarima_rmses = dict()\n",
    "key = 1\n",
    "\n",
    "for params in sarima_params:\n",
    "    result = sliding_forecast(endog=data[\"Generated Energy\"],\n",
    "                              trend='n', order=params[0: 3], seasonal_order=params[3: ],\n",
    "                              train_length=28, val_length=3, shift=5)\n",
    "    sarima_rmses[key] = result\n",
    "    print(f\"RMSE for SARIMA{params} is: {round(result, 5)}\")\n",
    "    key += 1"
   ],
   "metadata": {
    "collapsed": false,
    "pycharm": {
     "name": "#%%\n"
    }
   }
  },
  {
   "cell_type": "code",
   "execution_count": 18,
   "outputs": [
    {
     "name": "stdout",
     "output_type": "stream",
     "text": [
      "1.23177\n"
     ]
    }
   ],
   "source": [
    "best_rmse = min(sarima_rmses.values())\n",
    "best_param_key = [key for key in sarima_rmses if sarima_rmses[key] == best_rmse]\n",
    "best_params = sarima_params[best_param_key[0]] #Access index 0 as the best_param_key returns a list\n",
    "\n",
    "SARIMAX_RMSE = sliding_forecast(endog=data[\"Generated Energy\"], exog=data[condition_columns],\n",
    "                 trend='n', order=best_params[0: 3], seasonal_order=best_params[3: ],\n",
    "                 train_length=28, val_length=3, shift=5)\n",
    "\n",
    "print(round(SARIMAX_RMSE, 5))"
   ],
   "metadata": {
    "collapsed": false,
    "pycharm": {
     "name": "#%%\n"
    }
   }
  },
  {
   "cell_type": "markdown",
   "source": [
    "# Plot the predictions from a single window of the best model"
   ],
   "metadata": {
    "collapsed": false,
    "pycharm": {
     "name": "#%% md\n"
    }
   }
  },
  {
   "cell_type": "code",
   "execution_count": 36,
   "outputs": [],
   "source": [
    "start_train = 24*40\n",
    "end_train = start_train + 24*28\n",
    "start_test = end_train\n",
    "end_test = start_test + 3*24"
   ],
   "metadata": {
    "collapsed": false,
    "pycharm": {
     "name": "#%%\n"
    }
   }
  },
  {
   "cell_type": "code",
   "execution_count": 42,
   "outputs": [
    {
     "data": {
      "text/plain": "Timestamp\n2015-03-13 00:00:00    0.018342\n2015-03-13 01:00:00    0.018371\n2015-03-13 02:00:00    0.018317\n2015-03-13 03:00:00    0.018410\n2015-03-13 04:00:00    0.018493\n                         ...   \n2015-04-09 19:00:00    0.017451\n2015-04-09 20:00:00    0.017950\n2015-04-09 21:00:00    0.018141\n2015-04-09 22:00:00    0.018210\n2015-04-09 23:00:00    0.018347\nFreq: H, Name: Generated Energy, Length: 672, dtype: float64"
     },
     "execution_count": 42,
     "metadata": {},
     "output_type": "execute_result"
    }
   ],
   "source": [
    "data[\"Generated Energy\"][data.index[start_train: end_train]]"
   ],
   "metadata": {
    "collapsed": false,
    "pycharm": {
     "name": "#%%\n"
    }
   }
  },
  {
   "cell_type": "code",
   "execution_count": 43,
   "outputs": [
    {
     "data": {
      "text/plain": "                     Condition_Cloudy  Condition_Fair  \\\nTimestamp                                               \n2015-03-13 00:00:00               0.0             1.0   \n2015-03-13 01:00:00               0.0             1.0   \n2015-03-13 02:00:00               0.0             1.0   \n2015-03-13 03:00:00               0.0             1.0   \n2015-03-13 04:00:00               0.0             1.0   \n...                               ...             ...   \n2015-04-09 19:00:00               1.0             0.0   \n2015-04-09 20:00:00               1.0             0.0   \n2015-04-09 21:00:00               1.0             0.0   \n2015-04-09 22:00:00               1.0             0.0   \n2015-04-09 23:00:00               0.0             0.0   \n\n                     Condition_Mostly Cloudy  Condition_Partly Cloudy  \\\nTimestamp                                                               \n2015-03-13 00:00:00                      0.0                      0.0   \n2015-03-13 01:00:00                      0.0                      0.0   \n2015-03-13 02:00:00                      0.0                      0.0   \n2015-03-13 03:00:00                      0.0                      0.0   \n2015-03-13 04:00:00                      0.0                      0.0   \n...                                      ...                      ...   \n2015-04-09 19:00:00                      0.0                      0.0   \n2015-04-09 20:00:00                      0.0                      0.0   \n2015-04-09 21:00:00                      0.0                      0.0   \n2015-04-09 22:00:00                      0.0                      0.0   \n2015-04-09 23:00:00                      0.0                      0.0   \n\n                     Condition_Thunder  \nTimestamp                               \n2015-03-13 00:00:00                0.0  \n2015-03-13 01:00:00                0.0  \n2015-03-13 02:00:00                0.0  \n2015-03-13 03:00:00                0.0  \n2015-03-13 04:00:00                0.0  \n...                                ...  \n2015-04-09 19:00:00                0.0  \n2015-04-09 20:00:00                0.0  \n2015-04-09 21:00:00                0.0  \n2015-04-09 22:00:00                0.0  \n2015-04-09 23:00:00                1.0  \n\n[672 rows x 5 columns]",
      "text/html": "<div>\n<style scoped>\n    .dataframe tbody tr th:only-of-type {\n        vertical-align: middle;\n    }\n\n    .dataframe tbody tr th {\n        vertical-align: top;\n    }\n\n    .dataframe thead th {\n        text-align: right;\n    }\n</style>\n<table border=\"1\" class=\"dataframe\">\n  <thead>\n    <tr style=\"text-align: right;\">\n      <th></th>\n      <th>Condition_Cloudy</th>\n      <th>Condition_Fair</th>\n      <th>Condition_Mostly Cloudy</th>\n      <th>Condition_Partly Cloudy</th>\n      <th>Condition_Thunder</th>\n    </tr>\n    <tr>\n      <th>Timestamp</th>\n      <th></th>\n      <th></th>\n      <th></th>\n      <th></th>\n      <th></th>\n    </tr>\n  </thead>\n  <tbody>\n    <tr>\n      <th>2015-03-13 00:00:00</th>\n      <td>0.0</td>\n      <td>1.0</td>\n      <td>0.0</td>\n      <td>0.0</td>\n      <td>0.0</td>\n    </tr>\n    <tr>\n      <th>2015-03-13 01:00:00</th>\n      <td>0.0</td>\n      <td>1.0</td>\n      <td>0.0</td>\n      <td>0.0</td>\n      <td>0.0</td>\n    </tr>\n    <tr>\n      <th>2015-03-13 02:00:00</th>\n      <td>0.0</td>\n      <td>1.0</td>\n      <td>0.0</td>\n      <td>0.0</td>\n      <td>0.0</td>\n    </tr>\n    <tr>\n      <th>2015-03-13 03:00:00</th>\n      <td>0.0</td>\n      <td>1.0</td>\n      <td>0.0</td>\n      <td>0.0</td>\n      <td>0.0</td>\n    </tr>\n    <tr>\n      <th>2015-03-13 04:00:00</th>\n      <td>0.0</td>\n      <td>1.0</td>\n      <td>0.0</td>\n      <td>0.0</td>\n      <td>0.0</td>\n    </tr>\n    <tr>\n      <th>...</th>\n      <td>...</td>\n      <td>...</td>\n      <td>...</td>\n      <td>...</td>\n      <td>...</td>\n    </tr>\n    <tr>\n      <th>2015-04-09 19:00:00</th>\n      <td>1.0</td>\n      <td>0.0</td>\n      <td>0.0</td>\n      <td>0.0</td>\n      <td>0.0</td>\n    </tr>\n    <tr>\n      <th>2015-04-09 20:00:00</th>\n      <td>1.0</td>\n      <td>0.0</td>\n      <td>0.0</td>\n      <td>0.0</td>\n      <td>0.0</td>\n    </tr>\n    <tr>\n      <th>2015-04-09 21:00:00</th>\n      <td>1.0</td>\n      <td>0.0</td>\n      <td>0.0</td>\n      <td>0.0</td>\n      <td>0.0</td>\n    </tr>\n    <tr>\n      <th>2015-04-09 22:00:00</th>\n      <td>1.0</td>\n      <td>0.0</td>\n      <td>0.0</td>\n      <td>0.0</td>\n      <td>0.0</td>\n    </tr>\n    <tr>\n      <th>2015-04-09 23:00:00</th>\n      <td>0.0</td>\n      <td>0.0</td>\n      <td>0.0</td>\n      <td>0.0</td>\n      <td>1.0</td>\n    </tr>\n  </tbody>\n</table>\n<p>672 rows × 5 columns</p>\n</div>"
     },
     "execution_count": 43,
     "metadata": {},
     "output_type": "execute_result"
    }
   ],
   "source": [
    "data[condition_columns][start_train : end_train]"
   ],
   "metadata": {
    "collapsed": false,
    "pycharm": {
     "name": "#%%\n"
    }
   }
  },
  {
   "cell_type": "code",
   "execution_count": 45,
   "outputs": [],
   "source": [
    "model = SARIMAX(endog=data[\"Generated Energy\"][data.index[start_train: end_train]],\n",
    "                exog=data[condition_columns][start_train : end_train],\n",
    "                trend='n',\n",
    "                order=(4,0,0),\n",
    "                seasonal_order=(0,1,2,24))\\\n",
    "    .fit(low_memory=True, disp=False, full_output=False)\n",
    "\n",
    "predictions = pd.DataFrame(model.predict(start=data.index[start_test],\n",
    "                                         end=data.index[end_test],\n",
    "                                         exog=data[condition_columns][start_test: end_test + 1]))"
   ],
   "metadata": {
    "collapsed": false,
    "pycharm": {
     "name": "#%%\n"
    }
   }
  },
  {
   "cell_type": "code",
   "execution_count": 46,
   "outputs": [
    {
     "data": {
      "text/plain": "                     predicted_mean\n2015-04-10 00:00:00       -0.309337\n2015-04-10 01:00:00       -0.417880\n2015-04-10 02:00:00       -0.456798\n2015-04-10 03:00:00       -0.529654\n2015-04-10 04:00:00       -0.613430\n...                             ...\n2015-04-12 20:00:00        0.356377\n2015-04-12 21:00:00        0.331444\n2015-04-12 22:00:00        0.299383\n2015-04-12 23:00:00        0.287629\n2015-04-13 00:00:00        0.285058\n\n[73 rows x 1 columns]",
      "text/html": "<div>\n<style scoped>\n    .dataframe tbody tr th:only-of-type {\n        vertical-align: middle;\n    }\n\n    .dataframe tbody tr th {\n        vertical-align: top;\n    }\n\n    .dataframe thead th {\n        text-align: right;\n    }\n</style>\n<table border=\"1\" class=\"dataframe\">\n  <thead>\n    <tr style=\"text-align: right;\">\n      <th></th>\n      <th>predicted_mean</th>\n    </tr>\n  </thead>\n  <tbody>\n    <tr>\n      <th>2015-04-10 00:00:00</th>\n      <td>-0.309337</td>\n    </tr>\n    <tr>\n      <th>2015-04-10 01:00:00</th>\n      <td>-0.417880</td>\n    </tr>\n    <tr>\n      <th>2015-04-10 02:00:00</th>\n      <td>-0.456798</td>\n    </tr>\n    <tr>\n      <th>2015-04-10 03:00:00</th>\n      <td>-0.529654</td>\n    </tr>\n    <tr>\n      <th>2015-04-10 04:00:00</th>\n      <td>-0.613430</td>\n    </tr>\n    <tr>\n      <th>...</th>\n      <td>...</td>\n    </tr>\n    <tr>\n      <th>2015-04-12 20:00:00</th>\n      <td>0.356377</td>\n    </tr>\n    <tr>\n      <th>2015-04-12 21:00:00</th>\n      <td>0.331444</td>\n    </tr>\n    <tr>\n      <th>2015-04-12 22:00:00</th>\n      <td>0.299383</td>\n    </tr>\n    <tr>\n      <th>2015-04-12 23:00:00</th>\n      <td>0.287629</td>\n    </tr>\n    <tr>\n      <th>2015-04-13 00:00:00</th>\n      <td>0.285058</td>\n    </tr>\n  </tbody>\n</table>\n<p>73 rows × 1 columns</p>\n</div>"
     },
     "execution_count": 46,
     "metadata": {},
     "output_type": "execute_result"
    }
   ],
   "source": [
    "predictions"
   ],
   "metadata": {
    "collapsed": false,
    "pycharm": {
     "name": "#%%\n"
    }
   }
  },
  {
   "cell_type": "code",
   "execution_count": 47,
   "outputs": [
    {
     "data": {
      "application/vnd.plotly.v1+json": {
       "data": [
        {
         "line": {
          "color": "rgb(84, 84, 84)"
         },
         "name": "Training Data",
         "x": [
          "2015-03-13T00:00:00",
          "2015-03-13T01:00:00",
          "2015-03-13T02:00:00",
          "2015-03-13T03:00:00",
          "2015-03-13T04:00:00",
          "2015-03-13T05:00:00",
          "2015-03-13T06:00:00",
          "2015-03-13T07:00:00",
          "2015-03-13T08:00:00",
          "2015-03-13T09:00:00",
          "2015-03-13T10:00:00",
          "2015-03-13T11:00:00",
          "2015-03-13T12:00:00",
          "2015-03-13T13:00:00",
          "2015-03-13T14:00:00",
          "2015-03-13T15:00:00",
          "2015-03-13T16:00:00",
          "2015-03-13T17:00:00",
          "2015-03-13T18:00:00",
          "2015-03-13T19:00:00",
          "2015-03-13T20:00:00",
          "2015-03-13T21:00:00",
          "2015-03-13T22:00:00",
          "2015-03-13T23:00:00",
          "2015-03-14T00:00:00",
          "2015-03-14T01:00:00",
          "2015-03-14T02:00:00",
          "2015-03-14T03:00:00",
          "2015-03-14T04:00:00",
          "2015-03-14T05:00:00",
          "2015-03-14T06:00:00",
          "2015-03-14T07:00:00",
          "2015-03-14T08:00:00",
          "2015-03-14T09:00:00",
          "2015-03-14T10:00:00",
          "2015-03-14T11:00:00",
          "2015-03-14T12:00:00",
          "2015-03-14T13:00:00",
          "2015-03-14T14:00:00",
          "2015-03-14T15:00:00",
          "2015-03-14T16:00:00",
          "2015-03-14T17:00:00",
          "2015-03-14T18:00:00",
          "2015-03-14T19:00:00",
          "2015-03-14T20:00:00",
          "2015-03-14T21:00:00",
          "2015-03-14T22:00:00",
          "2015-03-14T23:00:00",
          "2015-03-15T00:00:00",
          "2015-03-15T01:00:00",
          "2015-03-15T02:00:00",
          "2015-03-15T03:00:00",
          "2015-03-15T04:00:00",
          "2015-03-15T05:00:00",
          "2015-03-15T06:00:00",
          "2015-03-15T07:00:00",
          "2015-03-15T08:00:00",
          "2015-03-15T09:00:00",
          "2015-03-15T10:00:00",
          "2015-03-15T11:00:00",
          "2015-03-15T12:00:00",
          "2015-03-15T13:00:00",
          "2015-03-15T14:00:00",
          "2015-03-15T15:00:00",
          "2015-03-15T16:00:00",
          "2015-03-15T17:00:00",
          "2015-03-15T18:00:00",
          "2015-03-15T19:00:00",
          "2015-03-15T20:00:00",
          "2015-03-15T21:00:00",
          "2015-03-15T22:00:00",
          "2015-03-15T23:00:00",
          "2015-03-16T00:00:00",
          "2015-03-16T01:00:00",
          "2015-03-16T02:00:00",
          "2015-03-16T03:00:00",
          "2015-03-16T04:00:00",
          "2015-03-16T05:00:00",
          "2015-03-16T06:00:00",
          "2015-03-16T07:00:00",
          "2015-03-16T08:00:00",
          "2015-03-16T09:00:00",
          "2015-03-16T10:00:00",
          "2015-03-16T11:00:00",
          "2015-03-16T12:00:00",
          "2015-03-16T13:00:00",
          "2015-03-16T14:00:00",
          "2015-03-16T15:00:00",
          "2015-03-16T16:00:00",
          "2015-03-16T17:00:00",
          "2015-03-16T18:00:00",
          "2015-03-16T19:00:00",
          "2015-03-16T20:00:00",
          "2015-03-16T21:00:00",
          "2015-03-16T22:00:00",
          "2015-03-16T23:00:00",
          "2015-03-17T00:00:00",
          "2015-03-17T01:00:00",
          "2015-03-17T02:00:00",
          "2015-03-17T03:00:00",
          "2015-03-17T04:00:00",
          "2015-03-17T05:00:00",
          "2015-03-17T06:00:00",
          "2015-03-17T07:00:00",
          "2015-03-17T08:00:00",
          "2015-03-17T09:00:00",
          "2015-03-17T10:00:00",
          "2015-03-17T11:00:00",
          "2015-03-17T12:00:00",
          "2015-03-17T13:00:00",
          "2015-03-17T14:00:00",
          "2015-03-17T15:00:00",
          "2015-03-17T16:00:00",
          "2015-03-17T17:00:00",
          "2015-03-17T18:00:00",
          "2015-03-17T19:00:00",
          "2015-03-17T20:00:00",
          "2015-03-17T21:00:00",
          "2015-03-17T22:00:00",
          "2015-03-17T23:00:00",
          "2015-03-18T00:00:00",
          "2015-03-18T01:00:00",
          "2015-03-18T02:00:00",
          "2015-03-18T03:00:00",
          "2015-03-18T04:00:00",
          "2015-03-18T05:00:00",
          "2015-03-18T06:00:00",
          "2015-03-18T07:00:00",
          "2015-03-18T08:00:00",
          "2015-03-18T09:00:00",
          "2015-03-18T10:00:00",
          "2015-03-18T11:00:00",
          "2015-03-18T12:00:00",
          "2015-03-18T13:00:00",
          "2015-03-18T14:00:00",
          "2015-03-18T15:00:00",
          "2015-03-18T16:00:00",
          "2015-03-18T17:00:00",
          "2015-03-18T18:00:00",
          "2015-03-18T19:00:00",
          "2015-03-18T20:00:00",
          "2015-03-18T21:00:00",
          "2015-03-18T22:00:00",
          "2015-03-18T23:00:00",
          "2015-03-19T00:00:00",
          "2015-03-19T01:00:00",
          "2015-03-19T02:00:00",
          "2015-03-19T03:00:00",
          "2015-03-19T04:00:00",
          "2015-03-19T05:00:00",
          "2015-03-19T06:00:00",
          "2015-03-19T07:00:00",
          "2015-03-19T08:00:00",
          "2015-03-19T09:00:00",
          "2015-03-19T10:00:00",
          "2015-03-19T11:00:00",
          "2015-03-19T12:00:00",
          "2015-03-19T13:00:00",
          "2015-03-19T14:00:00",
          "2015-03-19T15:00:00",
          "2015-03-19T16:00:00",
          "2015-03-19T17:00:00",
          "2015-03-19T18:00:00",
          "2015-03-19T19:00:00",
          "2015-03-19T20:00:00",
          "2015-03-19T21:00:00",
          "2015-03-19T22:00:00",
          "2015-03-19T23:00:00",
          "2015-03-20T00:00:00",
          "2015-03-20T01:00:00",
          "2015-03-20T02:00:00",
          "2015-03-20T03:00:00",
          "2015-03-20T04:00:00",
          "2015-03-20T05:00:00",
          "2015-03-20T06:00:00",
          "2015-03-20T07:00:00",
          "2015-03-20T08:00:00",
          "2015-03-20T09:00:00",
          "2015-03-20T10:00:00",
          "2015-03-20T11:00:00",
          "2015-03-20T12:00:00",
          "2015-03-20T13:00:00",
          "2015-03-20T14:00:00",
          "2015-03-20T15:00:00",
          "2015-03-20T16:00:00",
          "2015-03-20T17:00:00",
          "2015-03-20T18:00:00",
          "2015-03-20T19:00:00",
          "2015-03-20T20:00:00",
          "2015-03-20T21:00:00",
          "2015-03-20T22:00:00",
          "2015-03-20T23:00:00",
          "2015-03-21T00:00:00",
          "2015-03-21T01:00:00",
          "2015-03-21T02:00:00",
          "2015-03-21T03:00:00",
          "2015-03-21T04:00:00",
          "2015-03-21T05:00:00",
          "2015-03-21T06:00:00",
          "2015-03-21T07:00:00",
          "2015-03-21T08:00:00",
          "2015-03-21T09:00:00",
          "2015-03-21T10:00:00",
          "2015-03-21T11:00:00",
          "2015-03-21T12:00:00",
          "2015-03-21T13:00:00",
          "2015-03-21T14:00:00",
          "2015-03-21T15:00:00",
          "2015-03-21T16:00:00",
          "2015-03-21T17:00:00",
          "2015-03-21T18:00:00",
          "2015-03-21T19:00:00",
          "2015-03-21T20:00:00",
          "2015-03-21T21:00:00",
          "2015-03-21T22:00:00",
          "2015-03-21T23:00:00",
          "2015-03-22T00:00:00",
          "2015-03-22T01:00:00",
          "2015-03-22T02:00:00",
          "2015-03-22T03:00:00",
          "2015-03-22T04:00:00",
          "2015-03-22T05:00:00",
          "2015-03-22T06:00:00",
          "2015-03-22T07:00:00",
          "2015-03-22T08:00:00",
          "2015-03-22T09:00:00",
          "2015-03-22T10:00:00",
          "2015-03-22T11:00:00",
          "2015-03-22T12:00:00",
          "2015-03-22T13:00:00",
          "2015-03-22T14:00:00",
          "2015-03-22T15:00:00",
          "2015-03-22T16:00:00",
          "2015-03-22T17:00:00",
          "2015-03-22T18:00:00",
          "2015-03-22T19:00:00",
          "2015-03-22T20:00:00",
          "2015-03-22T21:00:00",
          "2015-03-22T22:00:00",
          "2015-03-22T23:00:00",
          "2015-03-23T00:00:00",
          "2015-03-23T01:00:00",
          "2015-03-23T02:00:00",
          "2015-03-23T03:00:00",
          "2015-03-23T04:00:00",
          "2015-03-23T05:00:00",
          "2015-03-23T06:00:00",
          "2015-03-23T07:00:00",
          "2015-03-23T08:00:00",
          "2015-03-23T09:00:00",
          "2015-03-23T10:00:00",
          "2015-03-23T11:00:00",
          "2015-03-23T12:00:00",
          "2015-03-23T13:00:00",
          "2015-03-23T14:00:00",
          "2015-03-23T15:00:00",
          "2015-03-23T16:00:00",
          "2015-03-23T17:00:00",
          "2015-03-23T18:00:00",
          "2015-03-23T19:00:00",
          "2015-03-23T20:00:00",
          "2015-03-23T21:00:00",
          "2015-03-23T22:00:00",
          "2015-03-23T23:00:00",
          "2015-03-24T00:00:00",
          "2015-03-24T01:00:00",
          "2015-03-24T02:00:00",
          "2015-03-24T03:00:00",
          "2015-03-24T04:00:00",
          "2015-03-24T05:00:00",
          "2015-03-24T06:00:00",
          "2015-03-24T07:00:00",
          "2015-03-24T08:00:00",
          "2015-03-24T09:00:00",
          "2015-03-24T10:00:00",
          "2015-03-24T11:00:00",
          "2015-03-24T12:00:00",
          "2015-03-24T13:00:00",
          "2015-03-24T14:00:00",
          "2015-03-24T15:00:00",
          "2015-03-24T16:00:00",
          "2015-03-24T17:00:00",
          "2015-03-24T18:00:00",
          "2015-03-24T19:00:00",
          "2015-03-24T20:00:00",
          "2015-03-24T21:00:00",
          "2015-03-24T22:00:00",
          "2015-03-24T23:00:00",
          "2015-03-25T00:00:00",
          "2015-03-25T01:00:00",
          "2015-03-25T02:00:00",
          "2015-03-25T03:00:00",
          "2015-03-25T04:00:00",
          "2015-03-25T05:00:00",
          "2015-03-25T06:00:00",
          "2015-03-25T07:00:00",
          "2015-03-25T08:00:00",
          "2015-03-25T09:00:00",
          "2015-03-25T10:00:00",
          "2015-03-25T11:00:00",
          "2015-03-25T12:00:00",
          "2015-03-25T13:00:00",
          "2015-03-25T14:00:00",
          "2015-03-25T15:00:00",
          "2015-03-25T16:00:00",
          "2015-03-25T17:00:00",
          "2015-03-25T18:00:00",
          "2015-03-25T19:00:00",
          "2015-03-25T20:00:00",
          "2015-03-25T21:00:00",
          "2015-03-25T22:00:00",
          "2015-03-25T23:00:00",
          "2015-03-26T00:00:00",
          "2015-03-26T01:00:00",
          "2015-03-26T02:00:00",
          "2015-03-26T03:00:00",
          "2015-03-26T04:00:00",
          "2015-03-26T05:00:00",
          "2015-03-26T06:00:00",
          "2015-03-26T07:00:00",
          "2015-03-26T08:00:00",
          "2015-03-26T09:00:00",
          "2015-03-26T10:00:00",
          "2015-03-26T11:00:00",
          "2015-03-26T12:00:00",
          "2015-03-26T13:00:00",
          "2015-03-26T14:00:00",
          "2015-03-26T15:00:00",
          "2015-03-26T16:00:00",
          "2015-03-26T17:00:00",
          "2015-03-26T18:00:00",
          "2015-03-26T19:00:00",
          "2015-03-26T20:00:00",
          "2015-03-26T21:00:00",
          "2015-03-26T22:00:00",
          "2015-03-26T23:00:00",
          "2015-03-27T00:00:00",
          "2015-03-27T01:00:00",
          "2015-03-27T02:00:00",
          "2015-03-27T03:00:00",
          "2015-03-27T04:00:00",
          "2015-03-27T05:00:00",
          "2015-03-27T06:00:00",
          "2015-03-27T07:00:00",
          "2015-03-27T08:00:00",
          "2015-03-27T09:00:00",
          "2015-03-27T10:00:00",
          "2015-03-27T11:00:00",
          "2015-03-27T12:00:00",
          "2015-03-27T13:00:00",
          "2015-03-27T14:00:00",
          "2015-03-27T15:00:00",
          "2015-03-27T16:00:00",
          "2015-03-27T17:00:00",
          "2015-03-27T18:00:00",
          "2015-03-27T19:00:00",
          "2015-03-27T20:00:00",
          "2015-03-27T21:00:00",
          "2015-03-27T22:00:00",
          "2015-03-27T23:00:00",
          "2015-03-28T00:00:00",
          "2015-03-28T01:00:00",
          "2015-03-28T02:00:00",
          "2015-03-28T03:00:00",
          "2015-03-28T04:00:00",
          "2015-03-28T05:00:00",
          "2015-03-28T06:00:00",
          "2015-03-28T07:00:00",
          "2015-03-28T08:00:00",
          "2015-03-28T09:00:00",
          "2015-03-28T10:00:00",
          "2015-03-28T11:00:00",
          "2015-03-28T12:00:00",
          "2015-03-28T13:00:00",
          "2015-03-28T14:00:00",
          "2015-03-28T15:00:00",
          "2015-03-28T16:00:00",
          "2015-03-28T17:00:00",
          "2015-03-28T18:00:00",
          "2015-03-28T19:00:00",
          "2015-03-28T20:00:00",
          "2015-03-28T21:00:00",
          "2015-03-28T22:00:00",
          "2015-03-28T23:00:00",
          "2015-03-29T00:00:00",
          "2015-03-29T01:00:00",
          "2015-03-29T02:00:00",
          "2015-03-29T03:00:00",
          "2015-03-29T04:00:00",
          "2015-03-29T05:00:00",
          "2015-03-29T06:00:00",
          "2015-03-29T07:00:00",
          "2015-03-29T08:00:00",
          "2015-03-29T09:00:00",
          "2015-03-29T10:00:00",
          "2015-03-29T11:00:00",
          "2015-03-29T12:00:00",
          "2015-03-29T13:00:00",
          "2015-03-29T14:00:00",
          "2015-03-29T15:00:00",
          "2015-03-29T16:00:00",
          "2015-03-29T17:00:00",
          "2015-03-29T18:00:00",
          "2015-03-29T19:00:00",
          "2015-03-29T20:00:00",
          "2015-03-29T21:00:00",
          "2015-03-29T22:00:00",
          "2015-03-29T23:00:00",
          "2015-03-30T00:00:00",
          "2015-03-30T01:00:00",
          "2015-03-30T02:00:00",
          "2015-03-30T03:00:00",
          "2015-03-30T04:00:00",
          "2015-03-30T05:00:00",
          "2015-03-30T06:00:00",
          "2015-03-30T07:00:00",
          "2015-03-30T08:00:00",
          "2015-03-30T09:00:00",
          "2015-03-30T10:00:00",
          "2015-03-30T11:00:00",
          "2015-03-30T12:00:00",
          "2015-03-30T13:00:00",
          "2015-03-30T14:00:00",
          "2015-03-30T15:00:00",
          "2015-03-30T16:00:00",
          "2015-03-30T17:00:00",
          "2015-03-30T18:00:00",
          "2015-03-30T19:00:00",
          "2015-03-30T20:00:00",
          "2015-03-30T21:00:00",
          "2015-03-30T22:00:00",
          "2015-03-30T23:00:00",
          "2015-03-31T00:00:00",
          "2015-03-31T01:00:00",
          "2015-03-31T02:00:00",
          "2015-03-31T03:00:00",
          "2015-03-31T04:00:00",
          "2015-03-31T05:00:00",
          "2015-03-31T06:00:00",
          "2015-03-31T07:00:00",
          "2015-03-31T08:00:00",
          "2015-03-31T09:00:00",
          "2015-03-31T10:00:00",
          "2015-03-31T11:00:00",
          "2015-03-31T12:00:00",
          "2015-03-31T13:00:00",
          "2015-03-31T14:00:00",
          "2015-03-31T15:00:00",
          "2015-03-31T16:00:00",
          "2015-03-31T17:00:00",
          "2015-03-31T18:00:00",
          "2015-03-31T19:00:00",
          "2015-03-31T20:00:00",
          "2015-03-31T21:00:00",
          "2015-03-31T22:00:00",
          "2015-03-31T23:00:00",
          "2015-04-01T00:00:00",
          "2015-04-01T01:00:00",
          "2015-04-01T02:00:00",
          "2015-04-01T03:00:00",
          "2015-04-01T04:00:00",
          "2015-04-01T05:00:00",
          "2015-04-01T06:00:00",
          "2015-04-01T07:00:00",
          "2015-04-01T08:00:00",
          "2015-04-01T09:00:00",
          "2015-04-01T10:00:00",
          "2015-04-01T11:00:00",
          "2015-04-01T12:00:00",
          "2015-04-01T13:00:00",
          "2015-04-01T14:00:00",
          "2015-04-01T15:00:00",
          "2015-04-01T16:00:00",
          "2015-04-01T17:00:00",
          "2015-04-01T18:00:00",
          "2015-04-01T19:00:00",
          "2015-04-01T20:00:00",
          "2015-04-01T21:00:00",
          "2015-04-01T22:00:00",
          "2015-04-01T23:00:00",
          "2015-04-02T00:00:00",
          "2015-04-02T01:00:00",
          "2015-04-02T02:00:00",
          "2015-04-02T03:00:00",
          "2015-04-02T04:00:00",
          "2015-04-02T05:00:00",
          "2015-04-02T06:00:00",
          "2015-04-02T07:00:00",
          "2015-04-02T08:00:00",
          "2015-04-02T09:00:00",
          "2015-04-02T10:00:00",
          "2015-04-02T11:00:00",
          "2015-04-02T12:00:00",
          "2015-04-02T13:00:00",
          "2015-04-02T14:00:00",
          "2015-04-02T15:00:00",
          "2015-04-02T16:00:00",
          "2015-04-02T17:00:00",
          "2015-04-02T18:00:00",
          "2015-04-02T19:00:00",
          "2015-04-02T20:00:00",
          "2015-04-02T21:00:00",
          "2015-04-02T22:00:00",
          "2015-04-02T23:00:00",
          "2015-04-03T00:00:00",
          "2015-04-03T01:00:00",
          "2015-04-03T02:00:00",
          "2015-04-03T03:00:00",
          "2015-04-03T04:00:00",
          "2015-04-03T05:00:00",
          "2015-04-03T06:00:00",
          "2015-04-03T07:00:00",
          "2015-04-03T08:00:00",
          "2015-04-03T09:00:00",
          "2015-04-03T10:00:00",
          "2015-04-03T11:00:00",
          "2015-04-03T12:00:00",
          "2015-04-03T13:00:00",
          "2015-04-03T14:00:00",
          "2015-04-03T15:00:00",
          "2015-04-03T16:00:00",
          "2015-04-03T17:00:00",
          "2015-04-03T18:00:00",
          "2015-04-03T19:00:00",
          "2015-04-03T20:00:00",
          "2015-04-03T21:00:00",
          "2015-04-03T22:00:00",
          "2015-04-03T23:00:00",
          "2015-04-04T00:00:00",
          "2015-04-04T01:00:00",
          "2015-04-04T02:00:00",
          "2015-04-04T03:00:00",
          "2015-04-04T04:00:00",
          "2015-04-04T05:00:00",
          "2015-04-04T06:00:00",
          "2015-04-04T07:00:00",
          "2015-04-04T08:00:00",
          "2015-04-04T09:00:00",
          "2015-04-04T10:00:00",
          "2015-04-04T11:00:00",
          "2015-04-04T12:00:00",
          "2015-04-04T13:00:00",
          "2015-04-04T14:00:00",
          "2015-04-04T15:00:00",
          "2015-04-04T16:00:00",
          "2015-04-04T17:00:00",
          "2015-04-04T18:00:00",
          "2015-04-04T19:00:00",
          "2015-04-04T20:00:00",
          "2015-04-04T21:00:00",
          "2015-04-04T22:00:00",
          "2015-04-04T23:00:00",
          "2015-04-05T00:00:00",
          "2015-04-05T01:00:00",
          "2015-04-05T02:00:00",
          "2015-04-05T03:00:00",
          "2015-04-05T04:00:00",
          "2015-04-05T05:00:00",
          "2015-04-05T06:00:00",
          "2015-04-05T07:00:00",
          "2015-04-05T08:00:00",
          "2015-04-05T09:00:00",
          "2015-04-05T10:00:00",
          "2015-04-05T11:00:00",
          "2015-04-05T12:00:00",
          "2015-04-05T13:00:00",
          "2015-04-05T14:00:00",
          "2015-04-05T15:00:00",
          "2015-04-05T16:00:00",
          "2015-04-05T17:00:00",
          "2015-04-05T18:00:00",
          "2015-04-05T19:00:00",
          "2015-04-05T20:00:00",
          "2015-04-05T21:00:00",
          "2015-04-05T22:00:00",
          "2015-04-05T23:00:00",
          "2015-04-06T00:00:00",
          "2015-04-06T01:00:00",
          "2015-04-06T02:00:00",
          "2015-04-06T03:00:00",
          "2015-04-06T04:00:00",
          "2015-04-06T05:00:00",
          "2015-04-06T06:00:00",
          "2015-04-06T07:00:00",
          "2015-04-06T08:00:00",
          "2015-04-06T09:00:00",
          "2015-04-06T10:00:00",
          "2015-04-06T11:00:00",
          "2015-04-06T12:00:00",
          "2015-04-06T13:00:00",
          "2015-04-06T14:00:00",
          "2015-04-06T15:00:00",
          "2015-04-06T16:00:00",
          "2015-04-06T17:00:00",
          "2015-04-06T18:00:00",
          "2015-04-06T19:00:00",
          "2015-04-06T20:00:00",
          "2015-04-06T21:00:00",
          "2015-04-06T22:00:00",
          "2015-04-06T23:00:00",
          "2015-04-07T00:00:00",
          "2015-04-07T01:00:00",
          "2015-04-07T02:00:00",
          "2015-04-07T03:00:00",
          "2015-04-07T04:00:00",
          "2015-04-07T05:00:00",
          "2015-04-07T06:00:00",
          "2015-04-07T07:00:00",
          "2015-04-07T08:00:00",
          "2015-04-07T09:00:00",
          "2015-04-07T10:00:00",
          "2015-04-07T11:00:00",
          "2015-04-07T12:00:00",
          "2015-04-07T13:00:00",
          "2015-04-07T14:00:00",
          "2015-04-07T15:00:00",
          "2015-04-07T16:00:00",
          "2015-04-07T17:00:00",
          "2015-04-07T18:00:00",
          "2015-04-07T19:00:00",
          "2015-04-07T20:00:00",
          "2015-04-07T21:00:00",
          "2015-04-07T22:00:00",
          "2015-04-07T23:00:00",
          "2015-04-08T00:00:00",
          "2015-04-08T01:00:00",
          "2015-04-08T02:00:00",
          "2015-04-08T03:00:00",
          "2015-04-08T04:00:00",
          "2015-04-08T05:00:00",
          "2015-04-08T06:00:00",
          "2015-04-08T07:00:00",
          "2015-04-08T08:00:00",
          "2015-04-08T09:00:00",
          "2015-04-08T10:00:00",
          "2015-04-08T11:00:00",
          "2015-04-08T12:00:00",
          "2015-04-08T13:00:00",
          "2015-04-08T14:00:00",
          "2015-04-08T15:00:00",
          "2015-04-08T16:00:00",
          "2015-04-08T17:00:00",
          "2015-04-08T18:00:00",
          "2015-04-08T19:00:00",
          "2015-04-08T20:00:00",
          "2015-04-08T21:00:00",
          "2015-04-08T22:00:00",
          "2015-04-08T23:00:00",
          "2015-04-09T00:00:00",
          "2015-04-09T01:00:00",
          "2015-04-09T02:00:00",
          "2015-04-09T03:00:00",
          "2015-04-09T04:00:00",
          "2015-04-09T05:00:00",
          "2015-04-09T06:00:00",
          "2015-04-09T07:00:00",
          "2015-04-09T08:00:00",
          "2015-04-09T09:00:00",
          "2015-04-09T10:00:00",
          "2015-04-09T11:00:00",
          "2015-04-09T12:00:00",
          "2015-04-09T13:00:00",
          "2015-04-09T14:00:00",
          "2015-04-09T15:00:00",
          "2015-04-09T16:00:00",
          "2015-04-09T17:00:00",
          "2015-04-09T18:00:00",
          "2015-04-09T19:00:00",
          "2015-04-09T20:00:00",
          "2015-04-09T21:00:00",
          "2015-04-09T22:00:00",
          "2015-04-09T23:00:00"
         ],
         "y": [
          0.018342461004,
          0.018371163368,
          0.018316672913,
          0.018409857717999998,
          0.018492858315,
          0.018369341294000002,
          0.018272411887,
          0.05267966458,
          0.5408227158,
          3.070602712,
          5.054330395999999,
          6.841179004,
          7.036678492,
          5.102579549,
          3.6503156980000004,
          2.904791978,
          1.3566607946,
          0.8654789861,
          0.1025545157,
          0.017639235417,
          0.018012721713,
          0.018167533540999998,
          0.018263934388999998,
          0.0183388206,
          0.018374221042000004,
          0.018401501801000003,
          0.018460851605999997,
          0.018441521231999998,
          0.018498678779,
          0.018471924094000003,
          0.018442383226,
          0.018090025949000003,
          0.07402500906000001,
          0.3648844343,
          0.7167935763000001,
          0.7701484953000001,
          0.7286224394999999,
          1.0694068550000002,
          1.0416667274000002,
          0.7886213353999999,
          0.5563407679,
          0.7538749947,
          0.03172006637,
          0.01742159605,
          0.018029652166,
          0.018334808477,
          0.018467467419000003,
          0.018608236134999998,
          0.018714926704,
          0.018769663207,
          0.018683560196999998,
          0.018736002604,
          0.018697861958,
          0.018749456342000002,
          0.01873175319,
          0.018409644079000004,
          0.10898123522,
          0.7422501159,
          5.082113641,
          8.102820377,
          2.1652128380000004,
          8.587877791999999,
          8.673559346,
          7.629165425999999,
          5.735907182,
          3.3594976930000002,
          0.8821941676,
          0.020366475446,
          0.017771540976000002,
          0.01805633262,
          0.018245756547,
          0.018294978853,
          0.018345537121,
          0.01831183753,
          0.018297059457,
          0.018396549257,
          0.018404654725,
          0.018353846915,
          0.018465967241999996,
          0.18529009064000002,
          0.5343252626999999,
          1.1818641606000002,
          2.867555151,
          6.995450362,
          6.7577249109999995,
          6.2847408,
          7.469986149,
          3.079343868,
          2.9463700259999994,
          2.7687442090000003,
          0.6252436729,
          0.018792722496,
          0.017848703272999998,
          0.018068021981,
          0.018166994556,
          0.018259118613,
          0.018301184022999996,
          0.018350917212,
          0.018322928842,
          0.018156067371,
          0.018270925792,
          0.018350412306000003,
          0.018427806281999998,
          0.03573528211,
          0.348214042,
          2.719399229,
          0.4180595935,
          3.516596064,
          0.8772714691,
          5.31031355,
          8.251809137,
          6.896380035,
          5.790235482,
          3.513487343,
          1.0241257157,
          0.02869950067,
          0.017788354667,
          0.018125121943,
          0.018209904383999997,
          0.018343053430000002,
          0.018405097896999997,
          0.018380425771,
          0.018405401627,
          0.018285535478,
          0.018254069518999997,
          0.018372085793,
          0.018369794941,
          0.13822738565,
          0.6459099287,
          4.136143658999999,
          6.767949923,
          8.290873922,
          9.169449203000001,
          9.398800879,
          8.891651506,
          7.707702079000001,
          5.926043962,
          3.602233058,
          1.046494492,
          0.02439674518,
          0.017835068162,
          0.018085844039999997,
          0.018230323251,
          0.018293598967000002,
          0.018397396733999996,
          0.018427542209000003,
          0.018393868302999997,
          0.018349039475,
          0.018250238911,
          0.018310378567,
          0.018199274778000003,
          0.17372889356000001,
          1.0937714172000002,
          3.198628725,
          5.265471957,
          5.363808081,
          7.161866468,
          7.171904281,
          6.701616647999999,
          5.7192438679999995,
          4.382114961999999,
          1.4866812642,
          0.48217113800000005,
          0.0221065449,
          0.017854616865,
          0.018104851008,
          0.018163715458,
          0.018231490361,
          0.018255038714000003,
          0.0183130548,
          0.018403691244,
          0.018399068944,
          0.018380416806,
          0.018317894617,
          0.018290058643999997,
          0.018547169955,
          0.017378556338999998,
          0.017995482334,
          0.018282677857,
          0.03308750105,
          0.02876878542,
          0.017912106451,
          0.018177743243999997,
          0.027508140102,
          0.07169096815,
          0.05128196161199999,
          0.021206572514999997,
          0.01791162467,
          0.018174346002,
          0.018333595054,
          0.018378450839000002,
          0.018391963296,
          0.018535020522,
          0.018388529158,
          0.018439832719,
          0.018450705687,
          0.018339907169,
          0.018337250740999997,
          0.018438908147999998,
          0.018074670648000002,
          0.0863193518,
          0.21333778235,
          0.48330802563999997,
          1.3009883939000002,
          3.6010290620000007,
          8.145975806000001,
          6.855363043,
          7.096314217,
          5.215162505,
          3.213713246,
          0.9052169092000001,
          0.024628874930000003,
          0.017732403818999997,
          0.018069481118,
          0.0182148815,
          0.018318894577000002,
          0.01835654433,
          0.018434254027,
          0.018498494355,
          0.0185071805,
          0.018516756138,
          0.018516374302,
          0.018517538372,
          0.17004136219,
          1.0562989563,
          4.125593771,
          5.749542544,
          6.255702408,
          7.527154859,
          8.500669267000001,
          7.539010534,
          7.0784256590000005,
          5.81359388,
          3.599717303,
          0.8981985626000001,
          0.03276217137,
          0.017650026908999996,
          0.017971474155,
          0.018117296696,
          0.018308777872000002,
          0.018367942874999998,
          0.0184167274,
          0.018454475721,
          0.018393817552,
          0.018358727534,
          0.018290558418,
          0.018583229843,
          0.19828596303,
          0.8792868981999999,
          4.722717381000001,
          7.053608309,
          8.343283508,
          9.010664356000001,
          9.172650814,
          8.620780472999998,
          7.243801852000001,
          5.791541138,
          3.479145238,
          1.0339696137,
          0.032645913820000004,
          0.017738808632000003,
          0.017999167267,
          0.018293019182999998,
          0.018246312060999997,
          0.018375237093,
          0.018390616321999998,
          0.018441719612,
          0.018423181836,
          0.01843700517,
          0.018340775139999998,
          0.018352022234,
          0.04244035635,
          0.2844635403,
          1.1467295922999998,
          1.2816516602,
          2.440653813,
          3.725034259,
          3.287901052,
          4.103432514,
          6.704407861,
          3.465752931,
          2.183754,
          1.0504281633,
          0.0386801859,
          0.017679140012,
          0.017937607797,
          0.018223271607999997,
          0.018279144820999998,
          0.018376047796999997,
          0.018427031723,
          0.018379868570999998,
          0.018295233218,
          0.018269912146999998,
          0.018408680868,
          0.018484783697,
          0.12419259417,
          0.16235247034000003,
          0.4245976544,
          1.5615436136999998,
          1.9528589651,
          3.729341717,
          3.1815542679999997,
          4.344380931,
          3.698131189,
          0.7451934216,
          0.38194480020000005,
          0.23269174169999998,
          0.017418942881,
          0.017914555359,
          0.018184816504,
          0.018269888956999998,
          0.018263935396000002,
          0.018378687697,
          0.01846282622,
          0.018512739738,
          0.01848947862,
          0.01826578954,
          0.018336573250999997,
          0.018306728903,
          0.07801867140999999,
          0.8563777623000001,
          1.047907149,
          2.0616378,
          2.5077005559999996,
          2.8020638,
          3.5846502579999995,
          8.363315760999999,
          6.897726078,
          5.443929745,
          2.642963776,
          0.3775793454,
          0.017508787265999998,
          0.017982704036,
          0.01816627353,
          0.018230464521999997,
          0.018367973651,
          0.018356962043000004,
          0.018455590215999997,
          0.018459981489,
          0.018496549573999998,
          0.018514334089999997,
          0.018449637762999998,
          0.018395661338,
          0.03144875819,
          0.2896685065,
          0.4452406202,
          1.7766307724000001,
          1.4612843959000001,
          1.6768231863,
          2.818428957,
          3.2277606999999997,
          3.4976000029999996,
          3.7188400309999996,
          1.8913601959,
          0.5469151952,
          0.017219731776,
          0.017770860481,
          0.017960549163,
          0.018147382339,
          0.018246888484000003,
          0.018304356929999998,
          0.018345599413000003,
          0.018385597769,
          0.018405296787,
          0.018348177829999996,
          0.018355029424,
          0.018282886536999998,
          0.20457468505,
          1.1736466423000003,
          5.375521345999999,
          7.4449335329999995,
          7.973458799,
          6.470637193000001,
          3.59369011,
          5.716000607,
          4.287687182,
          3.163196723,
          2.9721002600000004,
          0.4985421831,
          0.018499830302,
          0.017983168030000003,
          0.018190972041999997,
          0.018240654405,
          0.018366067434000002,
          0.018405412804,
          0.018487256749,
          0.018634624529,
          0.018583018446,
          0.018382412926,
          0.01859565212,
          0.018438573027,
          0.2570548504,
          1.3070693667,
          5.2821278529999995,
          7.427261605,
          8.774483284,
          9.465740535,
          9.578721289,
          9.091985489999999,
          7.840035189,
          5.960715996000001,
          3.870333674,
          1.0107341937999998,
          0.04496205039,
          0.017734120241,
          0.018058197943,
          0.018238955323,
          0.018391730535,
          0.018351637048,
          0.01842049373,
          0.018555084753,
          0.018536190222999998,
          0.018477932183,
          0.018501310586000002,
          0.018410780303,
          0.19241155735,
          0.9182489066999999,
          1.7817205973999999,
          0.8175635199999999,
          4.382752133,
          6.604604758,
          6.700195313,
          7.713907614,
          6.685202858,
          5.226125386,
          3.080290825,
          1.1167961006,
          0.05787162935,
          0.017803498871999997,
          0.018005044365,
          0.018118316555,
          0.018260519838000002,
          0.018374518265,
          0.018422846698,
          0.018424824301000002,
          0.018486795139000003,
          0.018454441101999997,
          0.018461967516000002,
          0.017659210698,
          0.2478896627,
          1.3092089833,
          4.572550201,
          6.976352425,
          8.339734391,
          9.125003133999998,
          9.247115641,
          4.549512451,
          0.5507242721,
          0.1052221696,
          0.39739763429999997,
          0.2600548614,
          0.017393888266,
          0.017843613656,
          0.01802003169,
          0.018211565256,
          0.018234808583,
          0.018363555407,
          0.018351248948,
          0.018389907788999998,
          0.01838054347,
          0.018401008463,
          0.018309097957,
          0.018173070908,
          0.4152218105,
          1.6023073378,
          5.2092702719999995,
          7.171234512999999,
          8.474441508,
          9.129419262999999,
          9.254145915,
          8.225019398,
          7.268750427,
          4.762858464000001,
          3.576595921,
          1.1904049676999997,
          0.06539626458,
          0.017665582705,
          0.017937659025000004,
          0.018117481979,
          0.018181940208,
          0.018331648356999998,
          0.018375399637000002,
          0.018439304367,
          0.018441141510000002,
          0.018419867850000004,
          0.018403225835000002,
          0.016467535417,
          0.3852778075,
          1.8918171711,
          4.952083827,
          6.934689461,
          7.931583232,
          9.219867839,
          7.974978800000001,
          6.87733125,
          7.35507216,
          4.099866474000001,
          1.637004956,
          0.4018087478,
          0.041812048930000005,
          0.017740074379999998,
          0.017995161150999996,
          0.018174275700000003,
          0.018251491288,
          0.018212466579,
          0.018345263418000003,
          0.018382825454,
          0.018388896927,
          0.018416900126000002,
          0.018372423935,
          0.018322868617000002,
          0.06835566822999999,
          0.2832252925,
          0.6603779833000001,
          1.1559013237,
          1.8846430842,
          1.6447425095000001,
          1.6824323801,
          2.5267273500000003,
          1.4023974345,
          1.3273612127,
          1.1213944741,
          0.6734487022000001,
          0.017435275412,
          0.018123178689,
          0.018380746506999997,
          0.018522418753,
          0.018631469937,
          0.018644946534999998,
          0.018739282417,
          0.018742160097999998,
          0.018811533165,
          0.018859171502,
          0.018819302129,
          0.018875854158000003,
          0.4209902148,
          2.0059827863999997,
          4.593347015,
          4.98917385,
          7.389320758,
          8.254459679,
          9.674896940999998,
          9.049356583000002,
          7.697697565,
          6.04268151,
          3.788068537,
          1.2918244110000001,
          0.07470967167,
          0.017690213282999998,
          0.01799199686,
          0.018155843004,
          0.018274720046,
          0.018345254526000002,
          0.018415874338,
          0.018438019578000002,
          0.018472271696,
          0.018460113048,
          0.018476861604,
          0.017822655232000002,
          0.4544276833,
          1.9786302999,
          4.942119671,
          7.369085934000001,
          5.764214408,
          5.338853349,
          8.120991895,
          8.846071285,
          7.707295606,
          5.994346887,
          3.699058823,
          1.2326583673999998,
          0.08331420223000001,
          0.017690240637,
          0.017969767777,
          0.018143426672,
          0.018273778235999998,
          0.018428784904,
          0.018457462882999997,
          0.018508107933,
          0.018445132637,
          0.018445201191,
          0.018340988191,
          0.017918546057,
          0.4395103811,
          2.147725703,
          5.2231485310000005,
          6.999505245,
          8.235168929,
          8.859500405999999,
          8.976867839,
          8.494952255,
          7.645724182,
          5.579984512999999,
          3.11372235,
          1.0016039734,
          0.07959121537,
          0.017700141541,
          0.018031059265,
          0.018187507375,
          0.018329171439,
          0.018353763338,
          0.018351374817,
          0.018458017715,
          0.018463668903,
          0.018421469466000002,
          0.018385813189,
          0.018099747765,
          0.4955265174,
          1.3113766592000002,
          1.7395818034,
          1.3857323547,
          3.3674807840000005,
          4.5084684489999995,
          3.08065573,
          4.997361937,
          2.8986637579999996,
          1.5958029867,
          0.33815244129999994,
          0.02179831789,
          0.017738355573,
          0.017973756725999997,
          0.018305867306,
          0.018321770143000002,
          0.018410119025,
          0.018496783370000002,
          0.018499691994999998,
          0.018571827634,
          0.018595636352,
          0.018493260765000002,
          0.018439867544000003,
          0.018305478652,
          0.0340448686,
          0.10852672336000001,
          0.7112281196,
          0.9190702672,
          1.6105137838,
          1.1440467884999999,
          1.3893859263,
          1.4886270558999999,
          1.516178657,
          0.648453298,
          0.3282033075,
          0.05348323150999999,
          0.017699616034999997,
          0.017929182369999998,
          0.01805831232,
          0.018252194341,
          0.018323299246000003,
          0.018414725869,
          0.018458763106,
          0.018460462554999998,
          0.018430783669,
          0.018462993558,
          0.018395851469,
          0.018388551474,
          0.1111447168,
          0.6596882611000001,
          0.5305845580999999,
          1.3850965922,
          1.9599779205,
          1.3862407337999998,
          1.482755072,
          1.3870245463000002,
          1.3102009491,
          0.9013474767,
          0.383042352,
          0.06048747908,
          0.017451481946000002,
          0.017949944591,
          0.01814081556,
          0.018210461283,
          0.018346778789
         ],
         "type": "scattergl"
        },
        {
         "line": {
          "color": "rgb(234,143,129)"
         },
         "name": "Observed",
         "x": [
          "2015-04-10T00:00:00",
          "2015-04-10T01:00:00",
          "2015-04-10T02:00:00",
          "2015-04-10T03:00:00",
          "2015-04-10T04:00:00",
          "2015-04-10T05:00:00",
          "2015-04-10T06:00:00",
          "2015-04-10T07:00:00",
          "2015-04-10T08:00:00",
          "2015-04-10T09:00:00",
          "2015-04-10T10:00:00",
          "2015-04-10T11:00:00",
          "2015-04-10T12:00:00",
          "2015-04-10T13:00:00",
          "2015-04-10T14:00:00",
          "2015-04-10T15:00:00",
          "2015-04-10T16:00:00",
          "2015-04-10T17:00:00",
          "2015-04-10T18:00:00",
          "2015-04-10T19:00:00",
          "2015-04-10T20:00:00",
          "2015-04-10T21:00:00",
          "2015-04-10T22:00:00",
          "2015-04-10T23:00:00",
          "2015-04-11T00:00:00",
          "2015-04-11T01:00:00",
          "2015-04-11T02:00:00",
          "2015-04-11T03:00:00",
          "2015-04-11T04:00:00",
          "2015-04-11T05:00:00",
          "2015-04-11T06:00:00",
          "2015-04-11T07:00:00",
          "2015-04-11T08:00:00",
          "2015-04-11T09:00:00",
          "2015-04-11T10:00:00",
          "2015-04-11T11:00:00",
          "2015-04-11T12:00:00",
          "2015-04-11T13:00:00",
          "2015-04-11T14:00:00",
          "2015-04-11T15:00:00",
          "2015-04-11T16:00:00",
          "2015-04-11T17:00:00",
          "2015-04-11T18:00:00",
          "2015-04-11T19:00:00",
          "2015-04-11T20:00:00",
          "2015-04-11T21:00:00",
          "2015-04-11T22:00:00",
          "2015-04-11T23:00:00",
          "2015-04-12T00:00:00",
          "2015-04-12T01:00:00",
          "2015-04-12T02:00:00",
          "2015-04-12T03:00:00",
          "2015-04-12T04:00:00",
          "2015-04-12T05:00:00",
          "2015-04-12T06:00:00",
          "2015-04-12T07:00:00",
          "2015-04-12T08:00:00",
          "2015-04-12T09:00:00",
          "2015-04-12T10:00:00",
          "2015-04-12T11:00:00",
          "2015-04-12T12:00:00",
          "2015-04-12T13:00:00",
          "2015-04-12T14:00:00",
          "2015-04-12T15:00:00",
          "2015-04-12T16:00:00",
          "2015-04-12T17:00:00",
          "2015-04-12T18:00:00",
          "2015-04-12T19:00:00",
          "2015-04-12T20:00:00",
          "2015-04-12T21:00:00",
          "2015-04-12T22:00:00",
          "2015-04-12T23:00:00"
         ],
         "y": [
          0.018383212057999997,
          0.018420902523,
          0.018519141213,
          0.018462002738,
          0.01841746192,
          0.018387897444,
          0.017684388701,
          0.09507699871,
          0.5945339591,
          1.3556995676999999,
          1.6446487966,
          1.3697156789,
          1.4170328856999999,
          1.4781018483000001,
          1.7274890696000003,
          1.9279601124999999,
          3.7453659360000002,
          0.8146598246,
          0.8665869568000001,
          0.10338108823,
          0.017646772067,
          0.017973172617,
          0.018160536877,
          0.018269175723,
          0.018341588457,
          0.018449350181999998,
          0.018436434888999997,
          0.018405987103999998,
          0.018426454925999997,
          0.018417362325,
          0.018067777759999997,
          0.6189062478999999,
          2.647261622,
          5.438708492,
          7.443897494,
          8.760836426,
          9.107919772,
          9.171800398,
          8.755105079000002,
          7.555846138,
          6.055841211,
          3.837747038,
          1.3785403913,
          0.09683692769999999,
          0.017601300715999996,
          0.017947468694,
          0.018089669815,
          0.018230844173999998,
          0.018329978861999996,
          0.018408235725,
          0.018333978605,
          0.018343707609,
          0.018404351616,
          0.018398250531999998,
          0.018429705556,
          0.7019785194000001,
          2.795165091,
          5.429071814000001,
          7.193075235999999,
          8.331176591,
          8.866922273,
          8.696251127,
          8.605106474,
          7.53110398,
          5.712308276,
          3.533212634,
          1.4077659718,
          0.11088261809,
          0.01762334005,
          0.017912821006999997,
          0.018115619866,
          0.018257037421
         ],
         "type": "scattergl"
        },
        {
         "line": {
          "color": "rgb(32,115,171)"
         },
         "name": "Predicted",
         "x": [
          "2015-04-10T00:00:00",
          "2015-04-10T01:00:00",
          "2015-04-10T02:00:00",
          "2015-04-10T03:00:00",
          "2015-04-10T04:00:00",
          "2015-04-10T05:00:00",
          "2015-04-10T06:00:00",
          "2015-04-10T07:00:00",
          "2015-04-10T08:00:00",
          "2015-04-10T09:00:00",
          "2015-04-10T10:00:00",
          "2015-04-10T11:00:00",
          "2015-04-10T12:00:00",
          "2015-04-10T13:00:00",
          "2015-04-10T14:00:00",
          "2015-04-10T15:00:00",
          "2015-04-10T16:00:00",
          "2015-04-10T17:00:00",
          "2015-04-10T18:00:00",
          "2015-04-10T19:00:00",
          "2015-04-10T20:00:00",
          "2015-04-10T21:00:00",
          "2015-04-10T22:00:00",
          "2015-04-10T23:00:00",
          "2015-04-11T00:00:00",
          "2015-04-11T01:00:00",
          "2015-04-11T02:00:00",
          "2015-04-11T03:00:00",
          "2015-04-11T04:00:00",
          "2015-04-11T05:00:00",
          "2015-04-11T06:00:00",
          "2015-04-11T07:00:00",
          "2015-04-11T08:00:00",
          "2015-04-11T09:00:00",
          "2015-04-11T10:00:00",
          "2015-04-11T11:00:00",
          "2015-04-11T12:00:00",
          "2015-04-11T13:00:00",
          "2015-04-11T14:00:00",
          "2015-04-11T15:00:00",
          "2015-04-11T16:00:00",
          "2015-04-11T17:00:00",
          "2015-04-11T18:00:00",
          "2015-04-11T19:00:00",
          "2015-04-11T20:00:00",
          "2015-04-11T21:00:00",
          "2015-04-11T22:00:00",
          "2015-04-11T23:00:00",
          "2015-04-12T00:00:00",
          "2015-04-12T01:00:00",
          "2015-04-12T02:00:00",
          "2015-04-12T03:00:00",
          "2015-04-12T04:00:00",
          "2015-04-12T05:00:00",
          "2015-04-12T06:00:00",
          "2015-04-12T07:00:00",
          "2015-04-12T08:00:00",
          "2015-04-12T09:00:00",
          "2015-04-12T10:00:00",
          "2015-04-12T11:00:00",
          "2015-04-12T12:00:00",
          "2015-04-12T13:00:00",
          "2015-04-12T14:00:00",
          "2015-04-12T15:00:00",
          "2015-04-12T16:00:00",
          "2015-04-12T17:00:00",
          "2015-04-12T18:00:00",
          "2015-04-12T19:00:00",
          "2015-04-12T20:00:00",
          "2015-04-12T21:00:00",
          "2015-04-12T22:00:00",
          "2015-04-12T23:00:00",
          "2015-04-13T00:00:00"
         ],
         "y": [
          -0.3093369088455669,
          -0.4178795126514598,
          -0.45679810356514583,
          -0.5296540433219171,
          -0.6134299596055861,
          -0.6601512821205684,
          -0.6645858893328663,
          -0.45177128368348884,
          0.14000618548706556,
          1.885687141606145,
          3.1290640721540854,
          4.28681889785698,
          4.466394584873285,
          4.929412979496089,
          4.959441691698383,
          4.105410106157891,
          3.5045102499361205,
          2.1407649539243505,
          0.91424490997786,
          0.4240802175840181,
          0.4075670247121999,
          0.383492354964794,
          0.35295013360567923,
          0.32663089210621793,
          -0.6682343330188323,
          0.32849134735033747,
          0.409687211492838,
          0.4133168353595032,
          0.37255421899237984,
          0.34629554133027063,
          0.3437714627470849,
          0.5549824669662311,
          1.1288956381949493,
          3.0209815333311614,
          4.275618694559504,
          5.469315672158964,
          5.704202881952032,
          6.194600948313182,
          6.233808140538092,
          5.314993955705945,
          3.981125190041023,
          2.5487584991233065,
          0.8990307261345761,
          0.37312695996686185,
          0.35640231247154686,
          0.33137652095022097,
          0.29926815346596025,
          0.28749994265736345,
          0.28493919764124764,
          0.31281546438120195,
          0.40424304891948193,
          0.41465230787180857,
          0.37790771041537413,
          0.3535470076046139,
          0.35109070043217894,
          0.5612889850201488,
          1.1336723004236415,
          3.02409402846314,
          4.277237586382903,
          5.469764297237751,
          5.703849666987784,
          6.193795667177004,
          6.23283561558938,
          5.31405681580073,
          3.9803459588827876,
          2.5481912088353957,
          0.89867860295719,
          0.37296095397150053,
          0.35637723142935773,
          0.3314435848409003,
          0.2993833976404327,
          0.28762877722190405,
          0.2850579288895846
         ],
         "type": "scattergl"
        }
       ],
       "layout": {
        "template": {
         "data": {
          "barpolar": [
           {
            "marker": {
             "line": {
              "color": "#E5ECF6",
              "width": 0.5
             },
             "pattern": {
              "fillmode": "overlay",
              "size": 10,
              "solidity": 0.2
             }
            },
            "type": "barpolar"
           }
          ],
          "bar": [
           {
            "error_x": {
             "color": "#2a3f5f"
            },
            "error_y": {
             "color": "#2a3f5f"
            },
            "marker": {
             "line": {
              "color": "#E5ECF6",
              "width": 0.5
             },
             "pattern": {
              "fillmode": "overlay",
              "size": 10,
              "solidity": 0.2
             }
            },
            "type": "bar"
           }
          ],
          "carpet": [
           {
            "aaxis": {
             "endlinecolor": "#2a3f5f",
             "gridcolor": "white",
             "linecolor": "white",
             "minorgridcolor": "white",
             "startlinecolor": "#2a3f5f"
            },
            "baxis": {
             "endlinecolor": "#2a3f5f",
             "gridcolor": "white",
             "linecolor": "white",
             "minorgridcolor": "white",
             "startlinecolor": "#2a3f5f"
            },
            "type": "carpet"
           }
          ],
          "choropleth": [
           {
            "colorbar": {
             "outlinewidth": 0,
             "ticks": ""
            },
            "type": "choropleth"
           }
          ],
          "contourcarpet": [
           {
            "colorbar": {
             "outlinewidth": 0,
             "ticks": ""
            },
            "type": "contourcarpet"
           }
          ],
          "contour": [
           {
            "colorbar": {
             "outlinewidth": 0,
             "ticks": ""
            },
            "colorscale": [
             [
              0.0,
              "#0d0887"
             ],
             [
              0.1111111111111111,
              "#46039f"
             ],
             [
              0.2222222222222222,
              "#7201a8"
             ],
             [
              0.3333333333333333,
              "#9c179e"
             ],
             [
              0.4444444444444444,
              "#bd3786"
             ],
             [
              0.5555555555555556,
              "#d8576b"
             ],
             [
              0.6666666666666666,
              "#ed7953"
             ],
             [
              0.7777777777777778,
              "#fb9f3a"
             ],
             [
              0.8888888888888888,
              "#fdca26"
             ],
             [
              1.0,
              "#f0f921"
             ]
            ],
            "type": "contour"
           }
          ],
          "heatmapgl": [
           {
            "colorbar": {
             "outlinewidth": 0,
             "ticks": ""
            },
            "colorscale": [
             [
              0.0,
              "#0d0887"
             ],
             [
              0.1111111111111111,
              "#46039f"
             ],
             [
              0.2222222222222222,
              "#7201a8"
             ],
             [
              0.3333333333333333,
              "#9c179e"
             ],
             [
              0.4444444444444444,
              "#bd3786"
             ],
             [
              0.5555555555555556,
              "#d8576b"
             ],
             [
              0.6666666666666666,
              "#ed7953"
             ],
             [
              0.7777777777777778,
              "#fb9f3a"
             ],
             [
              0.8888888888888888,
              "#fdca26"
             ],
             [
              1.0,
              "#f0f921"
             ]
            ],
            "type": "heatmapgl"
           }
          ],
          "heatmap": [
           {
            "colorbar": {
             "outlinewidth": 0,
             "ticks": ""
            },
            "colorscale": [
             [
              0.0,
              "#0d0887"
             ],
             [
              0.1111111111111111,
              "#46039f"
             ],
             [
              0.2222222222222222,
              "#7201a8"
             ],
             [
              0.3333333333333333,
              "#9c179e"
             ],
             [
              0.4444444444444444,
              "#bd3786"
             ],
             [
              0.5555555555555556,
              "#d8576b"
             ],
             [
              0.6666666666666666,
              "#ed7953"
             ],
             [
              0.7777777777777778,
              "#fb9f3a"
             ],
             [
              0.8888888888888888,
              "#fdca26"
             ],
             [
              1.0,
              "#f0f921"
             ]
            ],
            "type": "heatmap"
           }
          ],
          "histogram2dcontour": [
           {
            "colorbar": {
             "outlinewidth": 0,
             "ticks": ""
            },
            "colorscale": [
             [
              0.0,
              "#0d0887"
             ],
             [
              0.1111111111111111,
              "#46039f"
             ],
             [
              0.2222222222222222,
              "#7201a8"
             ],
             [
              0.3333333333333333,
              "#9c179e"
             ],
             [
              0.4444444444444444,
              "#bd3786"
             ],
             [
              0.5555555555555556,
              "#d8576b"
             ],
             [
              0.6666666666666666,
              "#ed7953"
             ],
             [
              0.7777777777777778,
              "#fb9f3a"
             ],
             [
              0.8888888888888888,
              "#fdca26"
             ],
             [
              1.0,
              "#f0f921"
             ]
            ],
            "type": "histogram2dcontour"
           }
          ],
          "histogram2d": [
           {
            "colorbar": {
             "outlinewidth": 0,
             "ticks": ""
            },
            "colorscale": [
             [
              0.0,
              "#0d0887"
             ],
             [
              0.1111111111111111,
              "#46039f"
             ],
             [
              0.2222222222222222,
              "#7201a8"
             ],
             [
              0.3333333333333333,
              "#9c179e"
             ],
             [
              0.4444444444444444,
              "#bd3786"
             ],
             [
              0.5555555555555556,
              "#d8576b"
             ],
             [
              0.6666666666666666,
              "#ed7953"
             ],
             [
              0.7777777777777778,
              "#fb9f3a"
             ],
             [
              0.8888888888888888,
              "#fdca26"
             ],
             [
              1.0,
              "#f0f921"
             ]
            ],
            "type": "histogram2d"
           }
          ],
          "histogram": [
           {
            "marker": {
             "pattern": {
              "fillmode": "overlay",
              "size": 10,
              "solidity": 0.2
             }
            },
            "type": "histogram"
           }
          ],
          "mesh3d": [
           {
            "colorbar": {
             "outlinewidth": 0,
             "ticks": ""
            },
            "type": "mesh3d"
           }
          ],
          "parcoords": [
           {
            "line": {
             "colorbar": {
              "outlinewidth": 0,
              "ticks": ""
             }
            },
            "type": "parcoords"
           }
          ],
          "pie": [
           {
            "automargin": true,
            "type": "pie"
           }
          ],
          "scatter3d": [
           {
            "line": {
             "colorbar": {
              "outlinewidth": 0,
              "ticks": ""
             }
            },
            "marker": {
             "colorbar": {
              "outlinewidth": 0,
              "ticks": ""
             }
            },
            "type": "scatter3d"
           }
          ],
          "scattercarpet": [
           {
            "marker": {
             "colorbar": {
              "outlinewidth": 0,
              "ticks": ""
             }
            },
            "type": "scattercarpet"
           }
          ],
          "scattergeo": [
           {
            "marker": {
             "colorbar": {
              "outlinewidth": 0,
              "ticks": ""
             }
            },
            "type": "scattergeo"
           }
          ],
          "scattergl": [
           {
            "marker": {
             "colorbar": {
              "outlinewidth": 0,
              "ticks": ""
             }
            },
            "type": "scattergl"
           }
          ],
          "scattermapbox": [
           {
            "marker": {
             "colorbar": {
              "outlinewidth": 0,
              "ticks": ""
             }
            },
            "type": "scattermapbox"
           }
          ],
          "scatterpolargl": [
           {
            "marker": {
             "colorbar": {
              "outlinewidth": 0,
              "ticks": ""
             }
            },
            "type": "scatterpolargl"
           }
          ],
          "scatterpolar": [
           {
            "marker": {
             "colorbar": {
              "outlinewidth": 0,
              "ticks": ""
             }
            },
            "type": "scatterpolar"
           }
          ],
          "scatter": [
           {
            "fillpattern": {
             "fillmode": "overlay",
             "size": 10,
             "solidity": 0.2
            },
            "type": "scatter"
           }
          ],
          "scatterternary": [
           {
            "marker": {
             "colorbar": {
              "outlinewidth": 0,
              "ticks": ""
             }
            },
            "type": "scatterternary"
           }
          ],
          "surface": [
           {
            "colorbar": {
             "outlinewidth": 0,
             "ticks": ""
            },
            "colorscale": [
             [
              0.0,
              "#0d0887"
             ],
             [
              0.1111111111111111,
              "#46039f"
             ],
             [
              0.2222222222222222,
              "#7201a8"
             ],
             [
              0.3333333333333333,
              "#9c179e"
             ],
             [
              0.4444444444444444,
              "#bd3786"
             ],
             [
              0.5555555555555556,
              "#d8576b"
             ],
             [
              0.6666666666666666,
              "#ed7953"
             ],
             [
              0.7777777777777778,
              "#fb9f3a"
             ],
             [
              0.8888888888888888,
              "#fdca26"
             ],
             [
              1.0,
              "#f0f921"
             ]
            ],
            "type": "surface"
           }
          ],
          "table": [
           {
            "cells": {
             "fill": {
              "color": "#EBF0F8"
             },
             "line": {
              "color": "white"
             }
            },
            "header": {
             "fill": {
              "color": "#C8D4E3"
             },
             "line": {
              "color": "white"
             }
            },
            "type": "table"
           }
          ]
         },
         "layout": {
          "annotationdefaults": {
           "arrowcolor": "#2a3f5f",
           "arrowhead": 0,
           "arrowwidth": 1
          },
          "autotypenumbers": "strict",
          "coloraxis": {
           "colorbar": {
            "outlinewidth": 0,
            "ticks": ""
           }
          },
          "colorscale": {
           "diverging": [
            [
             0,
             "#8e0152"
            ],
            [
             0.1,
             "#c51b7d"
            ],
            [
             0.2,
             "#de77ae"
            ],
            [
             0.3,
             "#f1b6da"
            ],
            [
             0.4,
             "#fde0ef"
            ],
            [
             0.5,
             "#f7f7f7"
            ],
            [
             0.6,
             "#e6f5d0"
            ],
            [
             0.7,
             "#b8e186"
            ],
            [
             0.8,
             "#7fbc41"
            ],
            [
             0.9,
             "#4d9221"
            ],
            [
             1,
             "#276419"
            ]
           ],
           "sequential": [
            [
             0.0,
             "#0d0887"
            ],
            [
             0.1111111111111111,
             "#46039f"
            ],
            [
             0.2222222222222222,
             "#7201a8"
            ],
            [
             0.3333333333333333,
             "#9c179e"
            ],
            [
             0.4444444444444444,
             "#bd3786"
            ],
            [
             0.5555555555555556,
             "#d8576b"
            ],
            [
             0.6666666666666666,
             "#ed7953"
            ],
            [
             0.7777777777777778,
             "#fb9f3a"
            ],
            [
             0.8888888888888888,
             "#fdca26"
            ],
            [
             1.0,
             "#f0f921"
            ]
           ],
           "sequentialminus": [
            [
             0.0,
             "#0d0887"
            ],
            [
             0.1111111111111111,
             "#46039f"
            ],
            [
             0.2222222222222222,
             "#7201a8"
            ],
            [
             0.3333333333333333,
             "#9c179e"
            ],
            [
             0.4444444444444444,
             "#bd3786"
            ],
            [
             0.5555555555555556,
             "#d8576b"
            ],
            [
             0.6666666666666666,
             "#ed7953"
            ],
            [
             0.7777777777777778,
             "#fb9f3a"
            ],
            [
             0.8888888888888888,
             "#fdca26"
            ],
            [
             1.0,
             "#f0f921"
            ]
           ]
          },
          "colorway": [
           "#636efa",
           "#EF553B",
           "#00cc96",
           "#ab63fa",
           "#FFA15A",
           "#19d3f3",
           "#FF6692",
           "#B6E880",
           "#FF97FF",
           "#FECB52"
          ],
          "font": {
           "color": "#2a3f5f"
          },
          "geo": {
           "bgcolor": "white",
           "lakecolor": "white",
           "landcolor": "#E5ECF6",
           "showlakes": true,
           "showland": true,
           "subunitcolor": "white"
          },
          "hoverlabel": {
           "align": "left"
          },
          "hovermode": "closest",
          "mapbox": {
           "style": "light"
          },
          "paper_bgcolor": "white",
          "plot_bgcolor": "#E5ECF6",
          "polar": {
           "angularaxis": {
            "gridcolor": "white",
            "linecolor": "white",
            "ticks": ""
           },
           "bgcolor": "#E5ECF6",
           "radialaxis": {
            "gridcolor": "white",
            "linecolor": "white",
            "ticks": ""
           }
          },
          "scene": {
           "xaxis": {
            "backgroundcolor": "#E5ECF6",
            "gridcolor": "white",
            "gridwidth": 2,
            "linecolor": "white",
            "showbackground": true,
            "ticks": "",
            "zerolinecolor": "white"
           },
           "yaxis": {
            "backgroundcolor": "#E5ECF6",
            "gridcolor": "white",
            "gridwidth": 2,
            "linecolor": "white",
            "showbackground": true,
            "ticks": "",
            "zerolinecolor": "white"
           },
           "zaxis": {
            "backgroundcolor": "#E5ECF6",
            "gridcolor": "white",
            "gridwidth": 2,
            "linecolor": "white",
            "showbackground": true,
            "ticks": "",
            "zerolinecolor": "white"
           }
          },
          "shapedefaults": {
           "line": {
            "color": "#2a3f5f"
           }
          },
          "ternary": {
           "aaxis": {
            "gridcolor": "white",
            "linecolor": "white",
            "ticks": ""
           },
           "baxis": {
            "gridcolor": "white",
            "linecolor": "white",
            "ticks": ""
           },
           "bgcolor": "#E5ECF6",
           "caxis": {
            "gridcolor": "white",
            "linecolor": "white",
            "ticks": ""
           }
          },
          "title": {
           "x": 0.05
          },
          "xaxis": {
           "automargin": true,
           "gridcolor": "white",
           "linecolor": "white",
           "ticks": "",
           "title": {
            "standoff": 15
           },
           "zerolinecolor": "white",
           "zerolinewidth": 2
          },
          "yaxis": {
           "automargin": true,
           "gridcolor": "white",
           "linecolor": "white",
           "ticks": "",
           "title": {
            "standoff": 15
           },
           "zerolinecolor": "white",
           "zerolinewidth": 2
          }
         }
        },
        "yaxis": {
         "title": {
          "text": "Generated Energy [kWh]"
         }
        },
        "legend": {
         "orientation": "h",
         "yanchor": "bottom",
         "y": 1,
         "xanchor": "left",
         "x": 0
        }
       },
       "config": {
        "plotlyServerURL": "https://plot.ly"
       }
      },
      "text/html": "<div>                            <div id=\"1112a9a0-707c-413b-9f9d-277bd44d24fd\" class=\"plotly-graph-div\" style=\"height:525px; width:100%;\"></div>            <script type=\"text/javascript\">                require([\"plotly\"], function(Plotly) {                    window.PLOTLYENV=window.PLOTLYENV || {};                                    if (document.getElementById(\"1112a9a0-707c-413b-9f9d-277bd44d24fd\")) {                    Plotly.newPlot(                        \"1112a9a0-707c-413b-9f9d-277bd44d24fd\",                        [{\"line\":{\"color\":\"rgb(84, 84, 84)\"},\"name\":\"Training Data\",\"x\":[\"2015-03-13T00:00:00\",\"2015-03-13T01:00:00\",\"2015-03-13T02:00:00\",\"2015-03-13T03:00:00\",\"2015-03-13T04:00:00\",\"2015-03-13T05:00:00\",\"2015-03-13T06:00:00\",\"2015-03-13T07:00:00\",\"2015-03-13T08:00:00\",\"2015-03-13T09:00:00\",\"2015-03-13T10:00:00\",\"2015-03-13T11:00:00\",\"2015-03-13T12:00:00\",\"2015-03-13T13:00:00\",\"2015-03-13T14:00:00\",\"2015-03-13T15:00:00\",\"2015-03-13T16:00:00\",\"2015-03-13T17:00:00\",\"2015-03-13T18:00:00\",\"2015-03-13T19:00:00\",\"2015-03-13T20:00:00\",\"2015-03-13T21:00:00\",\"2015-03-13T22:00:00\",\"2015-03-13T23:00:00\",\"2015-03-14T00:00:00\",\"2015-03-14T01:00:00\",\"2015-03-14T02:00:00\",\"2015-03-14T03:00:00\",\"2015-03-14T04:00:00\",\"2015-03-14T05:00:00\",\"2015-03-14T06:00:00\",\"2015-03-14T07:00:00\",\"2015-03-14T08:00:00\",\"2015-03-14T09:00:00\",\"2015-03-14T10:00:00\",\"2015-03-14T11:00:00\",\"2015-03-14T12:00:00\",\"2015-03-14T13:00:00\",\"2015-03-14T14:00:00\",\"2015-03-14T15:00:00\",\"2015-03-14T16:00:00\",\"2015-03-14T17:00:00\",\"2015-03-14T18:00:00\",\"2015-03-14T19:00:00\",\"2015-03-14T20:00:00\",\"2015-03-14T21:00:00\",\"2015-03-14T22:00:00\",\"2015-03-14T23:00:00\",\"2015-03-15T00:00:00\",\"2015-03-15T01:00:00\",\"2015-03-15T02:00:00\",\"2015-03-15T03:00:00\",\"2015-03-15T04:00:00\",\"2015-03-15T05:00:00\",\"2015-03-15T06:00:00\",\"2015-03-15T07:00:00\",\"2015-03-15T08:00:00\",\"2015-03-15T09:00:00\",\"2015-03-15T10:00:00\",\"2015-03-15T11:00:00\",\"2015-03-15T12:00:00\",\"2015-03-15T13:00:00\",\"2015-03-15T14:00:00\",\"2015-03-15T15:00:00\",\"2015-03-15T16:00:00\",\"2015-03-15T17:00:00\",\"2015-03-15T18:00:00\",\"2015-03-15T19:00:00\",\"2015-03-15T20:00:00\",\"2015-03-15T21:00:00\",\"2015-03-15T22:00:00\",\"2015-03-15T23:00:00\",\"2015-03-16T00:00:00\",\"2015-03-16T01:00:00\",\"2015-03-16T02:00:00\",\"2015-03-16T03:00:00\",\"2015-03-16T04:00:00\",\"2015-03-16T05:00:00\",\"2015-03-16T06:00:00\",\"2015-03-16T07:00:00\",\"2015-03-16T08:00:00\",\"2015-03-16T09:00:00\",\"2015-03-16T10:00:00\",\"2015-03-16T11:00:00\",\"2015-03-16T12:00:00\",\"2015-03-16T13:00:00\",\"2015-03-16T14:00:00\",\"2015-03-16T15:00:00\",\"2015-03-16T16:00:00\",\"2015-03-16T17:00:00\",\"2015-03-16T18:00:00\",\"2015-03-16T19:00:00\",\"2015-03-16T20:00:00\",\"2015-03-16T21:00:00\",\"2015-03-16T22:00:00\",\"2015-03-16T23:00:00\",\"2015-03-17T00:00:00\",\"2015-03-17T01:00:00\",\"2015-03-17T02:00:00\",\"2015-03-17T03:00:00\",\"2015-03-17T04:00:00\",\"2015-03-17T05:00:00\",\"2015-03-17T06:00:00\",\"2015-03-17T07:00:00\",\"2015-03-17T08:00:00\",\"2015-03-17T09:00:00\",\"2015-03-17T10:00:00\",\"2015-03-17T11:00:00\",\"2015-03-17T12:00:00\",\"2015-03-17T13:00:00\",\"2015-03-17T14:00:00\",\"2015-03-17T15:00:00\",\"2015-03-17T16:00:00\",\"2015-03-17T17:00:00\",\"2015-03-17T18:00:00\",\"2015-03-17T19:00:00\",\"2015-03-17T20:00:00\",\"2015-03-17T21:00:00\",\"2015-03-17T22:00:00\",\"2015-03-17T23:00:00\",\"2015-03-18T00:00:00\",\"2015-03-18T01:00:00\",\"2015-03-18T02:00:00\",\"2015-03-18T03:00:00\",\"2015-03-18T04:00:00\",\"2015-03-18T05:00:00\",\"2015-03-18T06:00:00\",\"2015-03-18T07:00:00\",\"2015-03-18T08:00:00\",\"2015-03-18T09:00:00\",\"2015-03-18T10:00:00\",\"2015-03-18T11:00:00\",\"2015-03-18T12:00:00\",\"2015-03-18T13:00:00\",\"2015-03-18T14:00:00\",\"2015-03-18T15:00:00\",\"2015-03-18T16:00:00\",\"2015-03-18T17:00:00\",\"2015-03-18T18:00:00\",\"2015-03-18T19:00:00\",\"2015-03-18T20:00:00\",\"2015-03-18T21:00:00\",\"2015-03-18T22:00:00\",\"2015-03-18T23:00:00\",\"2015-03-19T00:00:00\",\"2015-03-19T01:00:00\",\"2015-03-19T02:00:00\",\"2015-03-19T03:00:00\",\"2015-03-19T04:00:00\",\"2015-03-19T05:00:00\",\"2015-03-19T06:00:00\",\"2015-03-19T07:00:00\",\"2015-03-19T08:00:00\",\"2015-03-19T09:00:00\",\"2015-03-19T10:00:00\",\"2015-03-19T11:00:00\",\"2015-03-19T12:00:00\",\"2015-03-19T13:00:00\",\"2015-03-19T14:00:00\",\"2015-03-19T15:00:00\",\"2015-03-19T16:00:00\",\"2015-03-19T17:00:00\",\"2015-03-19T18:00:00\",\"2015-03-19T19:00:00\",\"2015-03-19T20:00:00\",\"2015-03-19T21:00:00\",\"2015-03-19T22:00:00\",\"2015-03-19T23:00:00\",\"2015-03-20T00:00:00\",\"2015-03-20T01:00:00\",\"2015-03-20T02:00:00\",\"2015-03-20T03:00:00\",\"2015-03-20T04:00:00\",\"2015-03-20T05:00:00\",\"2015-03-20T06:00:00\",\"2015-03-20T07:00:00\",\"2015-03-20T08:00:00\",\"2015-03-20T09:00:00\",\"2015-03-20T10:00:00\",\"2015-03-20T11:00:00\",\"2015-03-20T12:00:00\",\"2015-03-20T13:00:00\",\"2015-03-20T14:00:00\",\"2015-03-20T15:00:00\",\"2015-03-20T16:00:00\",\"2015-03-20T17:00:00\",\"2015-03-20T18:00:00\",\"2015-03-20T19:00:00\",\"2015-03-20T20:00:00\",\"2015-03-20T21:00:00\",\"2015-03-20T22:00:00\",\"2015-03-20T23:00:00\",\"2015-03-21T00:00:00\",\"2015-03-21T01:00:00\",\"2015-03-21T02:00:00\",\"2015-03-21T03:00:00\",\"2015-03-21T04:00:00\",\"2015-03-21T05:00:00\",\"2015-03-21T06:00:00\",\"2015-03-21T07:00:00\",\"2015-03-21T08:00:00\",\"2015-03-21T09:00:00\",\"2015-03-21T10:00:00\",\"2015-03-21T11:00:00\",\"2015-03-21T12:00:00\",\"2015-03-21T13:00:00\",\"2015-03-21T14:00:00\",\"2015-03-21T15:00:00\",\"2015-03-21T16:00:00\",\"2015-03-21T17:00:00\",\"2015-03-21T18:00:00\",\"2015-03-21T19:00:00\",\"2015-03-21T20:00:00\",\"2015-03-21T21:00:00\",\"2015-03-21T22:00:00\",\"2015-03-21T23:00:00\",\"2015-03-22T00:00:00\",\"2015-03-22T01:00:00\",\"2015-03-22T02:00:00\",\"2015-03-22T03:00:00\",\"2015-03-22T04:00:00\",\"2015-03-22T05:00:00\",\"2015-03-22T06:00:00\",\"2015-03-22T07:00:00\",\"2015-03-22T08:00:00\",\"2015-03-22T09:00:00\",\"2015-03-22T10:00:00\",\"2015-03-22T11:00:00\",\"2015-03-22T12:00:00\",\"2015-03-22T13:00:00\",\"2015-03-22T14:00:00\",\"2015-03-22T15:00:00\",\"2015-03-22T16:00:00\",\"2015-03-22T17:00:00\",\"2015-03-22T18:00:00\",\"2015-03-22T19:00:00\",\"2015-03-22T20:00:00\",\"2015-03-22T21:00:00\",\"2015-03-22T22:00:00\",\"2015-03-22T23:00:00\",\"2015-03-23T00:00:00\",\"2015-03-23T01:00:00\",\"2015-03-23T02:00:00\",\"2015-03-23T03:00:00\",\"2015-03-23T04:00:00\",\"2015-03-23T05:00:00\",\"2015-03-23T06:00:00\",\"2015-03-23T07:00:00\",\"2015-03-23T08:00:00\",\"2015-03-23T09:00:00\",\"2015-03-23T10:00:00\",\"2015-03-23T11:00:00\",\"2015-03-23T12:00:00\",\"2015-03-23T13:00:00\",\"2015-03-23T14:00:00\",\"2015-03-23T15:00:00\",\"2015-03-23T16:00:00\",\"2015-03-23T17:00:00\",\"2015-03-23T18:00:00\",\"2015-03-23T19:00:00\",\"2015-03-23T20:00:00\",\"2015-03-23T21:00:00\",\"2015-03-23T22:00:00\",\"2015-03-23T23:00:00\",\"2015-03-24T00:00:00\",\"2015-03-24T01:00:00\",\"2015-03-24T02:00:00\",\"2015-03-24T03:00:00\",\"2015-03-24T04:00:00\",\"2015-03-24T05:00:00\",\"2015-03-24T06:00:00\",\"2015-03-24T07:00:00\",\"2015-03-24T08:00:00\",\"2015-03-24T09:00:00\",\"2015-03-24T10:00:00\",\"2015-03-24T11:00:00\",\"2015-03-24T12:00:00\",\"2015-03-24T13:00:00\",\"2015-03-24T14:00:00\",\"2015-03-24T15:00:00\",\"2015-03-24T16:00:00\",\"2015-03-24T17:00:00\",\"2015-03-24T18:00:00\",\"2015-03-24T19:00:00\",\"2015-03-24T20:00:00\",\"2015-03-24T21:00:00\",\"2015-03-24T22:00:00\",\"2015-03-24T23:00:00\",\"2015-03-25T00:00:00\",\"2015-03-25T01:00:00\",\"2015-03-25T02:00:00\",\"2015-03-25T03:00:00\",\"2015-03-25T04:00:00\",\"2015-03-25T05:00:00\",\"2015-03-25T06:00:00\",\"2015-03-25T07:00:00\",\"2015-03-25T08:00:00\",\"2015-03-25T09:00:00\",\"2015-03-25T10:00:00\",\"2015-03-25T11:00:00\",\"2015-03-25T12:00:00\",\"2015-03-25T13:00:00\",\"2015-03-25T14:00:00\",\"2015-03-25T15:00:00\",\"2015-03-25T16:00:00\",\"2015-03-25T17:00:00\",\"2015-03-25T18:00:00\",\"2015-03-25T19:00:00\",\"2015-03-25T20:00:00\",\"2015-03-25T21:00:00\",\"2015-03-25T22:00:00\",\"2015-03-25T23:00:00\",\"2015-03-26T00:00:00\",\"2015-03-26T01:00:00\",\"2015-03-26T02:00:00\",\"2015-03-26T03:00:00\",\"2015-03-26T04:00:00\",\"2015-03-26T05:00:00\",\"2015-03-26T06:00:00\",\"2015-03-26T07:00:00\",\"2015-03-26T08:00:00\",\"2015-03-26T09:00:00\",\"2015-03-26T10:00:00\",\"2015-03-26T11:00:00\",\"2015-03-26T12:00:00\",\"2015-03-26T13:00:00\",\"2015-03-26T14:00:00\",\"2015-03-26T15:00:00\",\"2015-03-26T16:00:00\",\"2015-03-26T17:00:00\",\"2015-03-26T18:00:00\",\"2015-03-26T19:00:00\",\"2015-03-26T20:00:00\",\"2015-03-26T21:00:00\",\"2015-03-26T22:00:00\",\"2015-03-26T23:00:00\",\"2015-03-27T00:00:00\",\"2015-03-27T01:00:00\",\"2015-03-27T02:00:00\",\"2015-03-27T03:00:00\",\"2015-03-27T04:00:00\",\"2015-03-27T05:00:00\",\"2015-03-27T06:00:00\",\"2015-03-27T07:00:00\",\"2015-03-27T08:00:00\",\"2015-03-27T09:00:00\",\"2015-03-27T10:00:00\",\"2015-03-27T11:00:00\",\"2015-03-27T12:00:00\",\"2015-03-27T13:00:00\",\"2015-03-27T14:00:00\",\"2015-03-27T15:00:00\",\"2015-03-27T16:00:00\",\"2015-03-27T17:00:00\",\"2015-03-27T18:00:00\",\"2015-03-27T19:00:00\",\"2015-03-27T20:00:00\",\"2015-03-27T21:00:00\",\"2015-03-27T22:00:00\",\"2015-03-27T23:00:00\",\"2015-03-28T00:00:00\",\"2015-03-28T01:00:00\",\"2015-03-28T02:00:00\",\"2015-03-28T03:00:00\",\"2015-03-28T04:00:00\",\"2015-03-28T05:00:00\",\"2015-03-28T06:00:00\",\"2015-03-28T07:00:00\",\"2015-03-28T08:00:00\",\"2015-03-28T09:00:00\",\"2015-03-28T10:00:00\",\"2015-03-28T11:00:00\",\"2015-03-28T12:00:00\",\"2015-03-28T13:00:00\",\"2015-03-28T14:00:00\",\"2015-03-28T15:00:00\",\"2015-03-28T16:00:00\",\"2015-03-28T17:00:00\",\"2015-03-28T18:00:00\",\"2015-03-28T19:00:00\",\"2015-03-28T20:00:00\",\"2015-03-28T21:00:00\",\"2015-03-28T22:00:00\",\"2015-03-28T23:00:00\",\"2015-03-29T00:00:00\",\"2015-03-29T01:00:00\",\"2015-03-29T02:00:00\",\"2015-03-29T03:00:00\",\"2015-03-29T04:00:00\",\"2015-03-29T05:00:00\",\"2015-03-29T06:00:00\",\"2015-03-29T07:00:00\",\"2015-03-29T08:00:00\",\"2015-03-29T09:00:00\",\"2015-03-29T10:00:00\",\"2015-03-29T11:00:00\",\"2015-03-29T12:00:00\",\"2015-03-29T13:00:00\",\"2015-03-29T14:00:00\",\"2015-03-29T15:00:00\",\"2015-03-29T16:00:00\",\"2015-03-29T17:00:00\",\"2015-03-29T18:00:00\",\"2015-03-29T19:00:00\",\"2015-03-29T20:00:00\",\"2015-03-29T21:00:00\",\"2015-03-29T22:00:00\",\"2015-03-29T23:00:00\",\"2015-03-30T00:00:00\",\"2015-03-30T01:00:00\",\"2015-03-30T02:00:00\",\"2015-03-30T03:00:00\",\"2015-03-30T04:00:00\",\"2015-03-30T05:00:00\",\"2015-03-30T06:00:00\",\"2015-03-30T07:00:00\",\"2015-03-30T08:00:00\",\"2015-03-30T09:00:00\",\"2015-03-30T10:00:00\",\"2015-03-30T11:00:00\",\"2015-03-30T12:00:00\",\"2015-03-30T13:00:00\",\"2015-03-30T14:00:00\",\"2015-03-30T15:00:00\",\"2015-03-30T16:00:00\",\"2015-03-30T17:00:00\",\"2015-03-30T18:00:00\",\"2015-03-30T19:00:00\",\"2015-03-30T20:00:00\",\"2015-03-30T21:00:00\",\"2015-03-30T22:00:00\",\"2015-03-30T23:00:00\",\"2015-03-31T00:00:00\",\"2015-03-31T01:00:00\",\"2015-03-31T02:00:00\",\"2015-03-31T03:00:00\",\"2015-03-31T04:00:00\",\"2015-03-31T05:00:00\",\"2015-03-31T06:00:00\",\"2015-03-31T07:00:00\",\"2015-03-31T08:00:00\",\"2015-03-31T09:00:00\",\"2015-03-31T10:00:00\",\"2015-03-31T11:00:00\",\"2015-03-31T12:00:00\",\"2015-03-31T13:00:00\",\"2015-03-31T14:00:00\",\"2015-03-31T15:00:00\",\"2015-03-31T16:00:00\",\"2015-03-31T17:00:00\",\"2015-03-31T18:00:00\",\"2015-03-31T19:00:00\",\"2015-03-31T20:00:00\",\"2015-03-31T21:00:00\",\"2015-03-31T22:00:00\",\"2015-03-31T23:00:00\",\"2015-04-01T00:00:00\",\"2015-04-01T01:00:00\",\"2015-04-01T02:00:00\",\"2015-04-01T03:00:00\",\"2015-04-01T04:00:00\",\"2015-04-01T05:00:00\",\"2015-04-01T06:00:00\",\"2015-04-01T07:00:00\",\"2015-04-01T08:00:00\",\"2015-04-01T09:00:00\",\"2015-04-01T10:00:00\",\"2015-04-01T11:00:00\",\"2015-04-01T12:00:00\",\"2015-04-01T13:00:00\",\"2015-04-01T14:00:00\",\"2015-04-01T15:00:00\",\"2015-04-01T16:00:00\",\"2015-04-01T17:00:00\",\"2015-04-01T18:00:00\",\"2015-04-01T19:00:00\",\"2015-04-01T20:00:00\",\"2015-04-01T21:00:00\",\"2015-04-01T22:00:00\",\"2015-04-01T23:00:00\",\"2015-04-02T00:00:00\",\"2015-04-02T01:00:00\",\"2015-04-02T02:00:00\",\"2015-04-02T03:00:00\",\"2015-04-02T04:00:00\",\"2015-04-02T05:00:00\",\"2015-04-02T06:00:00\",\"2015-04-02T07:00:00\",\"2015-04-02T08:00:00\",\"2015-04-02T09:00:00\",\"2015-04-02T10:00:00\",\"2015-04-02T11:00:00\",\"2015-04-02T12:00:00\",\"2015-04-02T13:00:00\",\"2015-04-02T14:00:00\",\"2015-04-02T15:00:00\",\"2015-04-02T16:00:00\",\"2015-04-02T17:00:00\",\"2015-04-02T18:00:00\",\"2015-04-02T19:00:00\",\"2015-04-02T20:00:00\",\"2015-04-02T21:00:00\",\"2015-04-02T22:00:00\",\"2015-04-02T23:00:00\",\"2015-04-03T00:00:00\",\"2015-04-03T01:00:00\",\"2015-04-03T02:00:00\",\"2015-04-03T03:00:00\",\"2015-04-03T04:00:00\",\"2015-04-03T05:00:00\",\"2015-04-03T06:00:00\",\"2015-04-03T07:00:00\",\"2015-04-03T08:00:00\",\"2015-04-03T09:00:00\",\"2015-04-03T10:00:00\",\"2015-04-03T11:00:00\",\"2015-04-03T12:00:00\",\"2015-04-03T13:00:00\",\"2015-04-03T14:00:00\",\"2015-04-03T15:00:00\",\"2015-04-03T16:00:00\",\"2015-04-03T17:00:00\",\"2015-04-03T18:00:00\",\"2015-04-03T19:00:00\",\"2015-04-03T20:00:00\",\"2015-04-03T21:00:00\",\"2015-04-03T22:00:00\",\"2015-04-03T23:00:00\",\"2015-04-04T00:00:00\",\"2015-04-04T01:00:00\",\"2015-04-04T02:00:00\",\"2015-04-04T03:00:00\",\"2015-04-04T04:00:00\",\"2015-04-04T05:00:00\",\"2015-04-04T06:00:00\",\"2015-04-04T07:00:00\",\"2015-04-04T08:00:00\",\"2015-04-04T09:00:00\",\"2015-04-04T10:00:00\",\"2015-04-04T11:00:00\",\"2015-04-04T12:00:00\",\"2015-04-04T13:00:00\",\"2015-04-04T14:00:00\",\"2015-04-04T15:00:00\",\"2015-04-04T16:00:00\",\"2015-04-04T17:00:00\",\"2015-04-04T18:00:00\",\"2015-04-04T19:00:00\",\"2015-04-04T20:00:00\",\"2015-04-04T21:00:00\",\"2015-04-04T22:00:00\",\"2015-04-04T23:00:00\",\"2015-04-05T00:00:00\",\"2015-04-05T01:00:00\",\"2015-04-05T02:00:00\",\"2015-04-05T03:00:00\",\"2015-04-05T04:00:00\",\"2015-04-05T05:00:00\",\"2015-04-05T06:00:00\",\"2015-04-05T07:00:00\",\"2015-04-05T08:00:00\",\"2015-04-05T09:00:00\",\"2015-04-05T10:00:00\",\"2015-04-05T11:00:00\",\"2015-04-05T12:00:00\",\"2015-04-05T13:00:00\",\"2015-04-05T14:00:00\",\"2015-04-05T15:00:00\",\"2015-04-05T16:00:00\",\"2015-04-05T17:00:00\",\"2015-04-05T18:00:00\",\"2015-04-05T19:00:00\",\"2015-04-05T20:00:00\",\"2015-04-05T21:00:00\",\"2015-04-05T22:00:00\",\"2015-04-05T23:00:00\",\"2015-04-06T00:00:00\",\"2015-04-06T01:00:00\",\"2015-04-06T02:00:00\",\"2015-04-06T03:00:00\",\"2015-04-06T04:00:00\",\"2015-04-06T05:00:00\",\"2015-04-06T06:00:00\",\"2015-04-06T07:00:00\",\"2015-04-06T08:00:00\",\"2015-04-06T09:00:00\",\"2015-04-06T10:00:00\",\"2015-04-06T11:00:00\",\"2015-04-06T12:00:00\",\"2015-04-06T13:00:00\",\"2015-04-06T14:00:00\",\"2015-04-06T15:00:00\",\"2015-04-06T16:00:00\",\"2015-04-06T17:00:00\",\"2015-04-06T18:00:00\",\"2015-04-06T19:00:00\",\"2015-04-06T20:00:00\",\"2015-04-06T21:00:00\",\"2015-04-06T22:00:00\",\"2015-04-06T23:00:00\",\"2015-04-07T00:00:00\",\"2015-04-07T01:00:00\",\"2015-04-07T02:00:00\",\"2015-04-07T03:00:00\",\"2015-04-07T04:00:00\",\"2015-04-07T05:00:00\",\"2015-04-07T06:00:00\",\"2015-04-07T07:00:00\",\"2015-04-07T08:00:00\",\"2015-04-07T09:00:00\",\"2015-04-07T10:00:00\",\"2015-04-07T11:00:00\",\"2015-04-07T12:00:00\",\"2015-04-07T13:00:00\",\"2015-04-07T14:00:00\",\"2015-04-07T15:00:00\",\"2015-04-07T16:00:00\",\"2015-04-07T17:00:00\",\"2015-04-07T18:00:00\",\"2015-04-07T19:00:00\",\"2015-04-07T20:00:00\",\"2015-04-07T21:00:00\",\"2015-04-07T22:00:00\",\"2015-04-07T23:00:00\",\"2015-04-08T00:00:00\",\"2015-04-08T01:00:00\",\"2015-04-08T02:00:00\",\"2015-04-08T03:00:00\",\"2015-04-08T04:00:00\",\"2015-04-08T05:00:00\",\"2015-04-08T06:00:00\",\"2015-04-08T07:00:00\",\"2015-04-08T08:00:00\",\"2015-04-08T09:00:00\",\"2015-04-08T10:00:00\",\"2015-04-08T11:00:00\",\"2015-04-08T12:00:00\",\"2015-04-08T13:00:00\",\"2015-04-08T14:00:00\",\"2015-04-08T15:00:00\",\"2015-04-08T16:00:00\",\"2015-04-08T17:00:00\",\"2015-04-08T18:00:00\",\"2015-04-08T19:00:00\",\"2015-04-08T20:00:00\",\"2015-04-08T21:00:00\",\"2015-04-08T22:00:00\",\"2015-04-08T23:00:00\",\"2015-04-09T00:00:00\",\"2015-04-09T01:00:00\",\"2015-04-09T02:00:00\",\"2015-04-09T03:00:00\",\"2015-04-09T04:00:00\",\"2015-04-09T05:00:00\",\"2015-04-09T06:00:00\",\"2015-04-09T07:00:00\",\"2015-04-09T08:00:00\",\"2015-04-09T09:00:00\",\"2015-04-09T10:00:00\",\"2015-04-09T11:00:00\",\"2015-04-09T12:00:00\",\"2015-04-09T13:00:00\",\"2015-04-09T14:00:00\",\"2015-04-09T15:00:00\",\"2015-04-09T16:00:00\",\"2015-04-09T17:00:00\",\"2015-04-09T18:00:00\",\"2015-04-09T19:00:00\",\"2015-04-09T20:00:00\",\"2015-04-09T21:00:00\",\"2015-04-09T22:00:00\",\"2015-04-09T23:00:00\"],\"y\":[0.018342461004,0.018371163368,0.018316672913,0.018409857717999998,0.018492858315,0.018369341294000002,0.018272411887,0.05267966458,0.5408227158,3.070602712,5.054330395999999,6.841179004,7.036678492,5.102579549,3.6503156980000004,2.904791978,1.3566607946,0.8654789861,0.1025545157,0.017639235417,0.018012721713,0.018167533540999998,0.018263934388999998,0.0183388206,0.018374221042000004,0.018401501801000003,0.018460851605999997,0.018441521231999998,0.018498678779,0.018471924094000003,0.018442383226,0.018090025949000003,0.07402500906000001,0.3648844343,0.7167935763000001,0.7701484953000001,0.7286224394999999,1.0694068550000002,1.0416667274000002,0.7886213353999999,0.5563407679,0.7538749947,0.03172006637,0.01742159605,0.018029652166,0.018334808477,0.018467467419000003,0.018608236134999998,0.018714926704,0.018769663207,0.018683560196999998,0.018736002604,0.018697861958,0.018749456342000002,0.01873175319,0.018409644079000004,0.10898123522,0.7422501159,5.082113641,8.102820377,2.1652128380000004,8.587877791999999,8.673559346,7.629165425999999,5.735907182,3.3594976930000002,0.8821941676,0.020366475446,0.017771540976000002,0.01805633262,0.018245756547,0.018294978853,0.018345537121,0.01831183753,0.018297059457,0.018396549257,0.018404654725,0.018353846915,0.018465967241999996,0.18529009064000002,0.5343252626999999,1.1818641606000002,2.867555151,6.995450362,6.7577249109999995,6.2847408,7.469986149,3.079343868,2.9463700259999994,2.7687442090000003,0.6252436729,0.018792722496,0.017848703272999998,0.018068021981,0.018166994556,0.018259118613,0.018301184022999996,0.018350917212,0.018322928842,0.018156067371,0.018270925792,0.018350412306000003,0.018427806281999998,0.03573528211,0.348214042,2.719399229,0.4180595935,3.516596064,0.8772714691,5.31031355,8.251809137,6.896380035,5.790235482,3.513487343,1.0241257157,0.02869950067,0.017788354667,0.018125121943,0.018209904383999997,0.018343053430000002,0.018405097896999997,0.018380425771,0.018405401627,0.018285535478,0.018254069518999997,0.018372085793,0.018369794941,0.13822738565,0.6459099287,4.136143658999999,6.767949923,8.290873922,9.169449203000001,9.398800879,8.891651506,7.707702079000001,5.926043962,3.602233058,1.046494492,0.02439674518,0.017835068162,0.018085844039999997,0.018230323251,0.018293598967000002,0.018397396733999996,0.018427542209000003,0.018393868302999997,0.018349039475,0.018250238911,0.018310378567,0.018199274778000003,0.17372889356000001,1.0937714172000002,3.198628725,5.265471957,5.363808081,7.161866468,7.171904281,6.701616647999999,5.7192438679999995,4.382114961999999,1.4866812642,0.48217113800000005,0.0221065449,0.017854616865,0.018104851008,0.018163715458,0.018231490361,0.018255038714000003,0.0183130548,0.018403691244,0.018399068944,0.018380416806,0.018317894617,0.018290058643999997,0.018547169955,0.017378556338999998,0.017995482334,0.018282677857,0.03308750105,0.02876878542,0.017912106451,0.018177743243999997,0.027508140102,0.07169096815,0.05128196161199999,0.021206572514999997,0.01791162467,0.018174346002,0.018333595054,0.018378450839000002,0.018391963296,0.018535020522,0.018388529158,0.018439832719,0.018450705687,0.018339907169,0.018337250740999997,0.018438908147999998,0.018074670648000002,0.0863193518,0.21333778235,0.48330802563999997,1.3009883939000002,3.6010290620000007,8.145975806000001,6.855363043,7.096314217,5.215162505,3.213713246,0.9052169092000001,0.024628874930000003,0.017732403818999997,0.018069481118,0.0182148815,0.018318894577000002,0.01835654433,0.018434254027,0.018498494355,0.0185071805,0.018516756138,0.018516374302,0.018517538372,0.17004136219,1.0562989563,4.125593771,5.749542544,6.255702408,7.527154859,8.500669267000001,7.539010534,7.0784256590000005,5.81359388,3.599717303,0.8981985626000001,0.03276217137,0.017650026908999996,0.017971474155,0.018117296696,0.018308777872000002,0.018367942874999998,0.0184167274,0.018454475721,0.018393817552,0.018358727534,0.018290558418,0.018583229843,0.19828596303,0.8792868981999999,4.722717381000001,7.053608309,8.343283508,9.010664356000001,9.172650814,8.620780472999998,7.243801852000001,5.791541138,3.479145238,1.0339696137,0.032645913820000004,0.017738808632000003,0.017999167267,0.018293019182999998,0.018246312060999997,0.018375237093,0.018390616321999998,0.018441719612,0.018423181836,0.01843700517,0.018340775139999998,0.018352022234,0.04244035635,0.2844635403,1.1467295922999998,1.2816516602,2.440653813,3.725034259,3.287901052,4.103432514,6.704407861,3.465752931,2.183754,1.0504281633,0.0386801859,0.017679140012,0.017937607797,0.018223271607999997,0.018279144820999998,0.018376047796999997,0.018427031723,0.018379868570999998,0.018295233218,0.018269912146999998,0.018408680868,0.018484783697,0.12419259417,0.16235247034000003,0.4245976544,1.5615436136999998,1.9528589651,3.729341717,3.1815542679999997,4.344380931,3.698131189,0.7451934216,0.38194480020000005,0.23269174169999998,0.017418942881,0.017914555359,0.018184816504,0.018269888956999998,0.018263935396000002,0.018378687697,0.01846282622,0.018512739738,0.01848947862,0.01826578954,0.018336573250999997,0.018306728903,0.07801867140999999,0.8563777623000001,1.047907149,2.0616378,2.5077005559999996,2.8020638,3.5846502579999995,8.363315760999999,6.897726078,5.443929745,2.642963776,0.3775793454,0.017508787265999998,0.017982704036,0.01816627353,0.018230464521999997,0.018367973651,0.018356962043000004,0.018455590215999997,0.018459981489,0.018496549573999998,0.018514334089999997,0.018449637762999998,0.018395661338,0.03144875819,0.2896685065,0.4452406202,1.7766307724000001,1.4612843959000001,1.6768231863,2.818428957,3.2277606999999997,3.4976000029999996,3.7188400309999996,1.8913601959,0.5469151952,0.017219731776,0.017770860481,0.017960549163,0.018147382339,0.018246888484000003,0.018304356929999998,0.018345599413000003,0.018385597769,0.018405296787,0.018348177829999996,0.018355029424,0.018282886536999998,0.20457468505,1.1736466423000003,5.375521345999999,7.4449335329999995,7.973458799,6.470637193000001,3.59369011,5.716000607,4.287687182,3.163196723,2.9721002600000004,0.4985421831,0.018499830302,0.017983168030000003,0.018190972041999997,0.018240654405,0.018366067434000002,0.018405412804,0.018487256749,0.018634624529,0.018583018446,0.018382412926,0.01859565212,0.018438573027,0.2570548504,1.3070693667,5.2821278529999995,7.427261605,8.774483284,9.465740535,9.578721289,9.091985489999999,7.840035189,5.960715996000001,3.870333674,1.0107341937999998,0.04496205039,0.017734120241,0.018058197943,0.018238955323,0.018391730535,0.018351637048,0.01842049373,0.018555084753,0.018536190222999998,0.018477932183,0.018501310586000002,0.018410780303,0.19241155735,0.9182489066999999,1.7817205973999999,0.8175635199999999,4.382752133,6.604604758,6.700195313,7.713907614,6.685202858,5.226125386,3.080290825,1.1167961006,0.05787162935,0.017803498871999997,0.018005044365,0.018118316555,0.018260519838000002,0.018374518265,0.018422846698,0.018424824301000002,0.018486795139000003,0.018454441101999997,0.018461967516000002,0.017659210698,0.2478896627,1.3092089833,4.572550201,6.976352425,8.339734391,9.125003133999998,9.247115641,4.549512451,0.5507242721,0.1052221696,0.39739763429999997,0.2600548614,0.017393888266,0.017843613656,0.01802003169,0.018211565256,0.018234808583,0.018363555407,0.018351248948,0.018389907788999998,0.01838054347,0.018401008463,0.018309097957,0.018173070908,0.4152218105,1.6023073378,5.2092702719999995,7.171234512999999,8.474441508,9.129419262999999,9.254145915,8.225019398,7.268750427,4.762858464000001,3.576595921,1.1904049676999997,0.06539626458,0.017665582705,0.017937659025000004,0.018117481979,0.018181940208,0.018331648356999998,0.018375399637000002,0.018439304367,0.018441141510000002,0.018419867850000004,0.018403225835000002,0.016467535417,0.3852778075,1.8918171711,4.952083827,6.934689461,7.931583232,9.219867839,7.974978800000001,6.87733125,7.35507216,4.099866474000001,1.637004956,0.4018087478,0.041812048930000005,0.017740074379999998,0.017995161150999996,0.018174275700000003,0.018251491288,0.018212466579,0.018345263418000003,0.018382825454,0.018388896927,0.018416900126000002,0.018372423935,0.018322868617000002,0.06835566822999999,0.2832252925,0.6603779833000001,1.1559013237,1.8846430842,1.6447425095000001,1.6824323801,2.5267273500000003,1.4023974345,1.3273612127,1.1213944741,0.6734487022000001,0.017435275412,0.018123178689,0.018380746506999997,0.018522418753,0.018631469937,0.018644946534999998,0.018739282417,0.018742160097999998,0.018811533165,0.018859171502,0.018819302129,0.018875854158000003,0.4209902148,2.0059827863999997,4.593347015,4.98917385,7.389320758,8.254459679,9.674896940999998,9.049356583000002,7.697697565,6.04268151,3.788068537,1.2918244110000001,0.07470967167,0.017690213282999998,0.01799199686,0.018155843004,0.018274720046,0.018345254526000002,0.018415874338,0.018438019578000002,0.018472271696,0.018460113048,0.018476861604,0.017822655232000002,0.4544276833,1.9786302999,4.942119671,7.369085934000001,5.764214408,5.338853349,8.120991895,8.846071285,7.707295606,5.994346887,3.699058823,1.2326583673999998,0.08331420223000001,0.017690240637,0.017969767777,0.018143426672,0.018273778235999998,0.018428784904,0.018457462882999997,0.018508107933,0.018445132637,0.018445201191,0.018340988191,0.017918546057,0.4395103811,2.147725703,5.2231485310000005,6.999505245,8.235168929,8.859500405999999,8.976867839,8.494952255,7.645724182,5.579984512999999,3.11372235,1.0016039734,0.07959121537,0.017700141541,0.018031059265,0.018187507375,0.018329171439,0.018353763338,0.018351374817,0.018458017715,0.018463668903,0.018421469466000002,0.018385813189,0.018099747765,0.4955265174,1.3113766592000002,1.7395818034,1.3857323547,3.3674807840000005,4.5084684489999995,3.08065573,4.997361937,2.8986637579999996,1.5958029867,0.33815244129999994,0.02179831789,0.017738355573,0.017973756725999997,0.018305867306,0.018321770143000002,0.018410119025,0.018496783370000002,0.018499691994999998,0.018571827634,0.018595636352,0.018493260765000002,0.018439867544000003,0.018305478652,0.0340448686,0.10852672336000001,0.7112281196,0.9190702672,1.6105137838,1.1440467884999999,1.3893859263,1.4886270558999999,1.516178657,0.648453298,0.3282033075,0.05348323150999999,0.017699616034999997,0.017929182369999998,0.01805831232,0.018252194341,0.018323299246000003,0.018414725869,0.018458763106,0.018460462554999998,0.018430783669,0.018462993558,0.018395851469,0.018388551474,0.1111447168,0.6596882611000001,0.5305845580999999,1.3850965922,1.9599779205,1.3862407337999998,1.482755072,1.3870245463000002,1.3102009491,0.9013474767,0.383042352,0.06048747908,0.017451481946000002,0.017949944591,0.01814081556,0.018210461283,0.018346778789],\"type\":\"scattergl\"},{\"line\":{\"color\":\"rgb(234,143,129)\"},\"name\":\"Observed\",\"x\":[\"2015-04-10T00:00:00\",\"2015-04-10T01:00:00\",\"2015-04-10T02:00:00\",\"2015-04-10T03:00:00\",\"2015-04-10T04:00:00\",\"2015-04-10T05:00:00\",\"2015-04-10T06:00:00\",\"2015-04-10T07:00:00\",\"2015-04-10T08:00:00\",\"2015-04-10T09:00:00\",\"2015-04-10T10:00:00\",\"2015-04-10T11:00:00\",\"2015-04-10T12:00:00\",\"2015-04-10T13:00:00\",\"2015-04-10T14:00:00\",\"2015-04-10T15:00:00\",\"2015-04-10T16:00:00\",\"2015-04-10T17:00:00\",\"2015-04-10T18:00:00\",\"2015-04-10T19:00:00\",\"2015-04-10T20:00:00\",\"2015-04-10T21:00:00\",\"2015-04-10T22:00:00\",\"2015-04-10T23:00:00\",\"2015-04-11T00:00:00\",\"2015-04-11T01:00:00\",\"2015-04-11T02:00:00\",\"2015-04-11T03:00:00\",\"2015-04-11T04:00:00\",\"2015-04-11T05:00:00\",\"2015-04-11T06:00:00\",\"2015-04-11T07:00:00\",\"2015-04-11T08:00:00\",\"2015-04-11T09:00:00\",\"2015-04-11T10:00:00\",\"2015-04-11T11:00:00\",\"2015-04-11T12:00:00\",\"2015-04-11T13:00:00\",\"2015-04-11T14:00:00\",\"2015-04-11T15:00:00\",\"2015-04-11T16:00:00\",\"2015-04-11T17:00:00\",\"2015-04-11T18:00:00\",\"2015-04-11T19:00:00\",\"2015-04-11T20:00:00\",\"2015-04-11T21:00:00\",\"2015-04-11T22:00:00\",\"2015-04-11T23:00:00\",\"2015-04-12T00:00:00\",\"2015-04-12T01:00:00\",\"2015-04-12T02:00:00\",\"2015-04-12T03:00:00\",\"2015-04-12T04:00:00\",\"2015-04-12T05:00:00\",\"2015-04-12T06:00:00\",\"2015-04-12T07:00:00\",\"2015-04-12T08:00:00\",\"2015-04-12T09:00:00\",\"2015-04-12T10:00:00\",\"2015-04-12T11:00:00\",\"2015-04-12T12:00:00\",\"2015-04-12T13:00:00\",\"2015-04-12T14:00:00\",\"2015-04-12T15:00:00\",\"2015-04-12T16:00:00\",\"2015-04-12T17:00:00\",\"2015-04-12T18:00:00\",\"2015-04-12T19:00:00\",\"2015-04-12T20:00:00\",\"2015-04-12T21:00:00\",\"2015-04-12T22:00:00\",\"2015-04-12T23:00:00\"],\"y\":[0.018383212057999997,0.018420902523,0.018519141213,0.018462002738,0.01841746192,0.018387897444,0.017684388701,0.09507699871,0.5945339591,1.3556995676999999,1.6446487966,1.3697156789,1.4170328856999999,1.4781018483000001,1.7274890696000003,1.9279601124999999,3.7453659360000002,0.8146598246,0.8665869568000001,0.10338108823,0.017646772067,0.017973172617,0.018160536877,0.018269175723,0.018341588457,0.018449350181999998,0.018436434888999997,0.018405987103999998,0.018426454925999997,0.018417362325,0.018067777759999997,0.6189062478999999,2.647261622,5.438708492,7.443897494,8.760836426,9.107919772,9.171800398,8.755105079000002,7.555846138,6.055841211,3.837747038,1.3785403913,0.09683692769999999,0.017601300715999996,0.017947468694,0.018089669815,0.018230844173999998,0.018329978861999996,0.018408235725,0.018333978605,0.018343707609,0.018404351616,0.018398250531999998,0.018429705556,0.7019785194000001,2.795165091,5.429071814000001,7.193075235999999,8.331176591,8.866922273,8.696251127,8.605106474,7.53110398,5.712308276,3.533212634,1.4077659718,0.11088261809,0.01762334005,0.017912821006999997,0.018115619866,0.018257037421],\"type\":\"scattergl\"},{\"line\":{\"color\":\"rgb(32,115,171)\"},\"name\":\"Predicted\",\"x\":[\"2015-04-10T00:00:00\",\"2015-04-10T01:00:00\",\"2015-04-10T02:00:00\",\"2015-04-10T03:00:00\",\"2015-04-10T04:00:00\",\"2015-04-10T05:00:00\",\"2015-04-10T06:00:00\",\"2015-04-10T07:00:00\",\"2015-04-10T08:00:00\",\"2015-04-10T09:00:00\",\"2015-04-10T10:00:00\",\"2015-04-10T11:00:00\",\"2015-04-10T12:00:00\",\"2015-04-10T13:00:00\",\"2015-04-10T14:00:00\",\"2015-04-10T15:00:00\",\"2015-04-10T16:00:00\",\"2015-04-10T17:00:00\",\"2015-04-10T18:00:00\",\"2015-04-10T19:00:00\",\"2015-04-10T20:00:00\",\"2015-04-10T21:00:00\",\"2015-04-10T22:00:00\",\"2015-04-10T23:00:00\",\"2015-04-11T00:00:00\",\"2015-04-11T01:00:00\",\"2015-04-11T02:00:00\",\"2015-04-11T03:00:00\",\"2015-04-11T04:00:00\",\"2015-04-11T05:00:00\",\"2015-04-11T06:00:00\",\"2015-04-11T07:00:00\",\"2015-04-11T08:00:00\",\"2015-04-11T09:00:00\",\"2015-04-11T10:00:00\",\"2015-04-11T11:00:00\",\"2015-04-11T12:00:00\",\"2015-04-11T13:00:00\",\"2015-04-11T14:00:00\",\"2015-04-11T15:00:00\",\"2015-04-11T16:00:00\",\"2015-04-11T17:00:00\",\"2015-04-11T18:00:00\",\"2015-04-11T19:00:00\",\"2015-04-11T20:00:00\",\"2015-04-11T21:00:00\",\"2015-04-11T22:00:00\",\"2015-04-11T23:00:00\",\"2015-04-12T00:00:00\",\"2015-04-12T01:00:00\",\"2015-04-12T02:00:00\",\"2015-04-12T03:00:00\",\"2015-04-12T04:00:00\",\"2015-04-12T05:00:00\",\"2015-04-12T06:00:00\",\"2015-04-12T07:00:00\",\"2015-04-12T08:00:00\",\"2015-04-12T09:00:00\",\"2015-04-12T10:00:00\",\"2015-04-12T11:00:00\",\"2015-04-12T12:00:00\",\"2015-04-12T13:00:00\",\"2015-04-12T14:00:00\",\"2015-04-12T15:00:00\",\"2015-04-12T16:00:00\",\"2015-04-12T17:00:00\",\"2015-04-12T18:00:00\",\"2015-04-12T19:00:00\",\"2015-04-12T20:00:00\",\"2015-04-12T21:00:00\",\"2015-04-12T22:00:00\",\"2015-04-12T23:00:00\",\"2015-04-13T00:00:00\"],\"y\":[-0.3093369088455669,-0.4178795126514598,-0.45679810356514583,-0.5296540433219171,-0.6134299596055861,-0.6601512821205684,-0.6645858893328663,-0.45177128368348884,0.14000618548706556,1.885687141606145,3.1290640721540854,4.28681889785698,4.466394584873285,4.929412979496089,4.959441691698383,4.105410106157891,3.5045102499361205,2.1407649539243505,0.91424490997786,0.4240802175840181,0.4075670247121999,0.383492354964794,0.35295013360567923,0.32663089210621793,-0.6682343330188323,0.32849134735033747,0.409687211492838,0.4133168353595032,0.37255421899237984,0.34629554133027063,0.3437714627470849,0.5549824669662311,1.1288956381949493,3.0209815333311614,4.275618694559504,5.469315672158964,5.704202881952032,6.194600948313182,6.233808140538092,5.314993955705945,3.981125190041023,2.5487584991233065,0.8990307261345761,0.37312695996686185,0.35640231247154686,0.33137652095022097,0.29926815346596025,0.28749994265736345,0.28493919764124764,0.31281546438120195,0.40424304891948193,0.41465230787180857,0.37790771041537413,0.3535470076046139,0.35109070043217894,0.5612889850201488,1.1336723004236415,3.02409402846314,4.277237586382903,5.469764297237751,5.703849666987784,6.193795667177004,6.23283561558938,5.31405681580073,3.9803459588827876,2.5481912088353957,0.89867860295719,0.37296095397150053,0.35637723142935773,0.3314435848409003,0.2993833976404327,0.28762877722190405,0.2850579288895846],\"type\":\"scattergl\"}],                        {\"template\":{\"data\":{\"barpolar\":[{\"marker\":{\"line\":{\"color\":\"#E5ECF6\",\"width\":0.5},\"pattern\":{\"fillmode\":\"overlay\",\"size\":10,\"solidity\":0.2}},\"type\":\"barpolar\"}],\"bar\":[{\"error_x\":{\"color\":\"#2a3f5f\"},\"error_y\":{\"color\":\"#2a3f5f\"},\"marker\":{\"line\":{\"color\":\"#E5ECF6\",\"width\":0.5},\"pattern\":{\"fillmode\":\"overlay\",\"size\":10,\"solidity\":0.2}},\"type\":\"bar\"}],\"carpet\":[{\"aaxis\":{\"endlinecolor\":\"#2a3f5f\",\"gridcolor\":\"white\",\"linecolor\":\"white\",\"minorgridcolor\":\"white\",\"startlinecolor\":\"#2a3f5f\"},\"baxis\":{\"endlinecolor\":\"#2a3f5f\",\"gridcolor\":\"white\",\"linecolor\":\"white\",\"minorgridcolor\":\"white\",\"startlinecolor\":\"#2a3f5f\"},\"type\":\"carpet\"}],\"choropleth\":[{\"colorbar\":{\"outlinewidth\":0,\"ticks\":\"\"},\"type\":\"choropleth\"}],\"contourcarpet\":[{\"colorbar\":{\"outlinewidth\":0,\"ticks\":\"\"},\"type\":\"contourcarpet\"}],\"contour\":[{\"colorbar\":{\"outlinewidth\":0,\"ticks\":\"\"},\"colorscale\":[[0.0,\"#0d0887\"],[0.1111111111111111,\"#46039f\"],[0.2222222222222222,\"#7201a8\"],[0.3333333333333333,\"#9c179e\"],[0.4444444444444444,\"#bd3786\"],[0.5555555555555556,\"#d8576b\"],[0.6666666666666666,\"#ed7953\"],[0.7777777777777778,\"#fb9f3a\"],[0.8888888888888888,\"#fdca26\"],[1.0,\"#f0f921\"]],\"type\":\"contour\"}],\"heatmapgl\":[{\"colorbar\":{\"outlinewidth\":0,\"ticks\":\"\"},\"colorscale\":[[0.0,\"#0d0887\"],[0.1111111111111111,\"#46039f\"],[0.2222222222222222,\"#7201a8\"],[0.3333333333333333,\"#9c179e\"],[0.4444444444444444,\"#bd3786\"],[0.5555555555555556,\"#d8576b\"],[0.6666666666666666,\"#ed7953\"],[0.7777777777777778,\"#fb9f3a\"],[0.8888888888888888,\"#fdca26\"],[1.0,\"#f0f921\"]],\"type\":\"heatmapgl\"}],\"heatmap\":[{\"colorbar\":{\"outlinewidth\":0,\"ticks\":\"\"},\"colorscale\":[[0.0,\"#0d0887\"],[0.1111111111111111,\"#46039f\"],[0.2222222222222222,\"#7201a8\"],[0.3333333333333333,\"#9c179e\"],[0.4444444444444444,\"#bd3786\"],[0.5555555555555556,\"#d8576b\"],[0.6666666666666666,\"#ed7953\"],[0.7777777777777778,\"#fb9f3a\"],[0.8888888888888888,\"#fdca26\"],[1.0,\"#f0f921\"]],\"type\":\"heatmap\"}],\"histogram2dcontour\":[{\"colorbar\":{\"outlinewidth\":0,\"ticks\":\"\"},\"colorscale\":[[0.0,\"#0d0887\"],[0.1111111111111111,\"#46039f\"],[0.2222222222222222,\"#7201a8\"],[0.3333333333333333,\"#9c179e\"],[0.4444444444444444,\"#bd3786\"],[0.5555555555555556,\"#d8576b\"],[0.6666666666666666,\"#ed7953\"],[0.7777777777777778,\"#fb9f3a\"],[0.8888888888888888,\"#fdca26\"],[1.0,\"#f0f921\"]],\"type\":\"histogram2dcontour\"}],\"histogram2d\":[{\"colorbar\":{\"outlinewidth\":0,\"ticks\":\"\"},\"colorscale\":[[0.0,\"#0d0887\"],[0.1111111111111111,\"#46039f\"],[0.2222222222222222,\"#7201a8\"],[0.3333333333333333,\"#9c179e\"],[0.4444444444444444,\"#bd3786\"],[0.5555555555555556,\"#d8576b\"],[0.6666666666666666,\"#ed7953\"],[0.7777777777777778,\"#fb9f3a\"],[0.8888888888888888,\"#fdca26\"],[1.0,\"#f0f921\"]],\"type\":\"histogram2d\"}],\"histogram\":[{\"marker\":{\"pattern\":{\"fillmode\":\"overlay\",\"size\":10,\"solidity\":0.2}},\"type\":\"histogram\"}],\"mesh3d\":[{\"colorbar\":{\"outlinewidth\":0,\"ticks\":\"\"},\"type\":\"mesh3d\"}],\"parcoords\":[{\"line\":{\"colorbar\":{\"outlinewidth\":0,\"ticks\":\"\"}},\"type\":\"parcoords\"}],\"pie\":[{\"automargin\":true,\"type\":\"pie\"}],\"scatter3d\":[{\"line\":{\"colorbar\":{\"outlinewidth\":0,\"ticks\":\"\"}},\"marker\":{\"colorbar\":{\"outlinewidth\":0,\"ticks\":\"\"}},\"type\":\"scatter3d\"}],\"scattercarpet\":[{\"marker\":{\"colorbar\":{\"outlinewidth\":0,\"ticks\":\"\"}},\"type\":\"scattercarpet\"}],\"scattergeo\":[{\"marker\":{\"colorbar\":{\"outlinewidth\":0,\"ticks\":\"\"}},\"type\":\"scattergeo\"}],\"scattergl\":[{\"marker\":{\"colorbar\":{\"outlinewidth\":0,\"ticks\":\"\"}},\"type\":\"scattergl\"}],\"scattermapbox\":[{\"marker\":{\"colorbar\":{\"outlinewidth\":0,\"ticks\":\"\"}},\"type\":\"scattermapbox\"}],\"scatterpolargl\":[{\"marker\":{\"colorbar\":{\"outlinewidth\":0,\"ticks\":\"\"}},\"type\":\"scatterpolargl\"}],\"scatterpolar\":[{\"marker\":{\"colorbar\":{\"outlinewidth\":0,\"ticks\":\"\"}},\"type\":\"scatterpolar\"}],\"scatter\":[{\"fillpattern\":{\"fillmode\":\"overlay\",\"size\":10,\"solidity\":0.2},\"type\":\"scatter\"}],\"scatterternary\":[{\"marker\":{\"colorbar\":{\"outlinewidth\":0,\"ticks\":\"\"}},\"type\":\"scatterternary\"}],\"surface\":[{\"colorbar\":{\"outlinewidth\":0,\"ticks\":\"\"},\"colorscale\":[[0.0,\"#0d0887\"],[0.1111111111111111,\"#46039f\"],[0.2222222222222222,\"#7201a8\"],[0.3333333333333333,\"#9c179e\"],[0.4444444444444444,\"#bd3786\"],[0.5555555555555556,\"#d8576b\"],[0.6666666666666666,\"#ed7953\"],[0.7777777777777778,\"#fb9f3a\"],[0.8888888888888888,\"#fdca26\"],[1.0,\"#f0f921\"]],\"type\":\"surface\"}],\"table\":[{\"cells\":{\"fill\":{\"color\":\"#EBF0F8\"},\"line\":{\"color\":\"white\"}},\"header\":{\"fill\":{\"color\":\"#C8D4E3\"},\"line\":{\"color\":\"white\"}},\"type\":\"table\"}]},\"layout\":{\"annotationdefaults\":{\"arrowcolor\":\"#2a3f5f\",\"arrowhead\":0,\"arrowwidth\":1},\"autotypenumbers\":\"strict\",\"coloraxis\":{\"colorbar\":{\"outlinewidth\":0,\"ticks\":\"\"}},\"colorscale\":{\"diverging\":[[0,\"#8e0152\"],[0.1,\"#c51b7d\"],[0.2,\"#de77ae\"],[0.3,\"#f1b6da\"],[0.4,\"#fde0ef\"],[0.5,\"#f7f7f7\"],[0.6,\"#e6f5d0\"],[0.7,\"#b8e186\"],[0.8,\"#7fbc41\"],[0.9,\"#4d9221\"],[1,\"#276419\"]],\"sequential\":[[0.0,\"#0d0887\"],[0.1111111111111111,\"#46039f\"],[0.2222222222222222,\"#7201a8\"],[0.3333333333333333,\"#9c179e\"],[0.4444444444444444,\"#bd3786\"],[0.5555555555555556,\"#d8576b\"],[0.6666666666666666,\"#ed7953\"],[0.7777777777777778,\"#fb9f3a\"],[0.8888888888888888,\"#fdca26\"],[1.0,\"#f0f921\"]],\"sequentialminus\":[[0.0,\"#0d0887\"],[0.1111111111111111,\"#46039f\"],[0.2222222222222222,\"#7201a8\"],[0.3333333333333333,\"#9c179e\"],[0.4444444444444444,\"#bd3786\"],[0.5555555555555556,\"#d8576b\"],[0.6666666666666666,\"#ed7953\"],[0.7777777777777778,\"#fb9f3a\"],[0.8888888888888888,\"#fdca26\"],[1.0,\"#f0f921\"]]},\"colorway\":[\"#636efa\",\"#EF553B\",\"#00cc96\",\"#ab63fa\",\"#FFA15A\",\"#19d3f3\",\"#FF6692\",\"#B6E880\",\"#FF97FF\",\"#FECB52\"],\"font\":{\"color\":\"#2a3f5f\"},\"geo\":{\"bgcolor\":\"white\",\"lakecolor\":\"white\",\"landcolor\":\"#E5ECF6\",\"showlakes\":true,\"showland\":true,\"subunitcolor\":\"white\"},\"hoverlabel\":{\"align\":\"left\"},\"hovermode\":\"closest\",\"mapbox\":{\"style\":\"light\"},\"paper_bgcolor\":\"white\",\"plot_bgcolor\":\"#E5ECF6\",\"polar\":{\"angularaxis\":{\"gridcolor\":\"white\",\"linecolor\":\"white\",\"ticks\":\"\"},\"bgcolor\":\"#E5ECF6\",\"radialaxis\":{\"gridcolor\":\"white\",\"linecolor\":\"white\",\"ticks\":\"\"}},\"scene\":{\"xaxis\":{\"backgroundcolor\":\"#E5ECF6\",\"gridcolor\":\"white\",\"gridwidth\":2,\"linecolor\":\"white\",\"showbackground\":true,\"ticks\":\"\",\"zerolinecolor\":\"white\"},\"yaxis\":{\"backgroundcolor\":\"#E5ECF6\",\"gridcolor\":\"white\",\"gridwidth\":2,\"linecolor\":\"white\",\"showbackground\":true,\"ticks\":\"\",\"zerolinecolor\":\"white\"},\"zaxis\":{\"backgroundcolor\":\"#E5ECF6\",\"gridcolor\":\"white\",\"gridwidth\":2,\"linecolor\":\"white\",\"showbackground\":true,\"ticks\":\"\",\"zerolinecolor\":\"white\"}},\"shapedefaults\":{\"line\":{\"color\":\"#2a3f5f\"}},\"ternary\":{\"aaxis\":{\"gridcolor\":\"white\",\"linecolor\":\"white\",\"ticks\":\"\"},\"baxis\":{\"gridcolor\":\"white\",\"linecolor\":\"white\",\"ticks\":\"\"},\"bgcolor\":\"#E5ECF6\",\"caxis\":{\"gridcolor\":\"white\",\"linecolor\":\"white\",\"ticks\":\"\"}},\"title\":{\"x\":0.05},\"xaxis\":{\"automargin\":true,\"gridcolor\":\"white\",\"linecolor\":\"white\",\"ticks\":\"\",\"title\":{\"standoff\":15},\"zerolinecolor\":\"white\",\"zerolinewidth\":2},\"yaxis\":{\"automargin\":true,\"gridcolor\":\"white\",\"linecolor\":\"white\",\"ticks\":\"\",\"title\":{\"standoff\":15},\"zerolinecolor\":\"white\",\"zerolinewidth\":2}}},\"yaxis\":{\"title\":{\"text\":\"Generated Energy [kWh]\"}},\"legend\":{\"orientation\":\"h\",\"yanchor\":\"bottom\",\"y\":1,\"xanchor\":\"left\",\"x\":0}},                        {\"responsive\": true}                    ).then(function(){\n                            \nvar gd = document.getElementById('1112a9a0-707c-413b-9f9d-277bd44d24fd');\nvar x = new MutationObserver(function (mutations, observer) {{\n        var display = window.getComputedStyle(gd).display;\n        if (!display || display === 'none') {{\n            console.log([gd, 'removed!']);\n            Plotly.purge(gd);\n            observer.disconnect();\n        }}\n}});\n\n// Listen for the removal of the full notebook cells\nvar notebookContainer = gd.closest('#notebook-container');\nif (notebookContainer) {{\n    x.observe(notebookContainer, {childList: true});\n}}\n\n// Listen for the clearing of the current output cell\nvar outputEl = gd.closest('.output');\nif (outputEl) {{\n    x.observe(outputEl, {childList: true});\n}}\n\n                        })                };                });            </script>        </div>"
     },
     "metadata": {},
     "output_type": "display_data"
    },
    {
     "name": "stdout",
     "output_type": "stream",
     "text": [
      "Done\n"
     ]
    }
   ],
   "source": [
    "fig = go.Figure(go.Scattergl(\n",
    "    x=data[start_train: end_train].index,\n",
    "    y=data['Generated Energy'][start_train: end_train],\n",
    "    name=\"Training Data\",\n",
    "    line=dict(color='rgb(84, 84, 84)')\n",
    "))\n",
    "\n",
    "fig.add_trace(go.Scattergl(\n",
    "    x=data[start_test: end_test].index,\n",
    "    y=data['Generated Energy'][start_test: end_test],\n",
    "    name=\"Observed\",\n",
    "    line=dict(color='rgb(234,143,129)')\n",
    "))\n",
    "\n",
    "fig.add_trace(go.Scattergl(\n",
    "    x=predictions.index,\n",
    "    y=predictions['predicted_mean'],\n",
    "    name=\"Predicted\",\n",
    "    line=dict(color='rgb(32,115,171)')\n",
    "))\n",
    "\n",
    "fig.update_yaxes(title=\"Generated Energy [kWh]\")\n",
    "fig.update_layout(template=\"plotly\",\n",
    "                  legend=dict(orientation=\"h\",\n",
    "                              yanchor=\"bottom\",\n",
    "                              y=1,\n",
    "                              xanchor=\"left\",\n",
    "                              x=0))\n",
    "\n",
    "fig.write_html(\"slidingwindowarima/window_sarimax_producing.html\")\n",
    "fig.show()\n",
    "\n",
    "print(\"Done\")"
   ],
   "metadata": {
    "collapsed": false,
    "pycharm": {
     "name": "#%%\n"
    }
   }
  },
  {
   "cell_type": "code",
   "execution_count": null,
   "outputs": [],
   "source": [],
   "metadata": {
    "collapsed": false,
    "pycharm": {
     "name": "#%%\n"
    }
   }
  }
 ],
 "metadata": {
  "kernelspec": {
   "display_name": "Python 3",
   "language": "python",
   "name": "python3"
  },
  "language_info": {
   "codemirror_mode": {
    "name": "ipython",
    "version": 2
   },
   "file_extension": ".py",
   "mimetype": "text/x-python",
   "name": "python",
   "nbconvert_exporter": "python",
   "pygments_lexer": "ipython2",
   "version": "2.7.6"
  }
 },
 "nbformat": 4,
 "nbformat_minor": 0
}