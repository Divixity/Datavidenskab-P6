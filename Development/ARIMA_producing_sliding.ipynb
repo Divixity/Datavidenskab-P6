{
 "cells": [
  {
   "cell_type": "markdown",
   "source": [
    "# Load Data"
   ],
   "metadata": {
    "collapsed": false,
    "pycharm": {
     "name": "#%% md\n"
    }
   }
  },
  {
   "cell_type": "code",
   "execution_count": 121,
   "metadata": {
    "collapsed": true,
    "pycharm": {
     "name": "#%%\n"
    }
   },
   "outputs": [],
   "source": [
    "import pandas as pd\n",
    "from sklearn.metrics import mean_squared_error\n",
    "from sklearn.preprocessing import OneHotEncoder\n",
    "from statsmodels.tsa.statespace.sarimax import SARIMAX\n",
    "\n",
    "import DataRetriever as dr\n",
    "\n",
    "retriever = dr.DataRetriever()\n",
    "\n",
    "PV_ATTRIBUTES = retriever.get_attributes(file_name='producing_attributes.pkl')\n",
    "\n",
    "gen_df = retriever.get_data(file_name='All-Subsystems-hour-Year2.pkl')[PV_ATTRIBUTES].sum(axis=1).clip(lower=0) / 1000\n",
    "gen_df = gen_df.rename(\"Generated Energy\", inplace=True).to_frame()\n",
    "\n",
    "weather_forecast = pd.read_csv(\"../_05Forecasting/CLEANED_GAI_2015_2016.csv\", index_col=0)\n",
    "weather_forecast.index.rename(\"Timestamp\", inplace=True)\n",
    "weather_forecast.index = pd.to_datetime(weather_forecast.index)"
   ]
  },
  {
   "cell_type": "markdown",
   "source": [
    "# OneHotEncode the weather data"
   ],
   "metadata": {
    "collapsed": false,
    "pycharm": {
     "name": "#%% md\n"
    }
   }
  },
  {
   "cell_type": "code",
   "execution_count": 122,
   "outputs": [],
   "source": [
    "weather_forecast = weather_forecast[weather_forecast.index.isin(gen_df.index)]\n",
    "\n",
    "ohe = OneHotEncoder(sparse=False)\n",
    "hot = ohe.fit_transform(weather_forecast)\n",
    "weather_df = pd.DataFrame(data=hot, columns=ohe.get_feature_names_out(), index=gen_df.index)"
   ],
   "metadata": {
    "collapsed": false,
    "pycharm": {
     "name": "#%%\n"
    }
   }
  },
  {
   "cell_type": "code",
   "execution_count": 123,
   "outputs": [],
   "source": [
    "data = gen_df.merge(weather_df, left_index=True, right_index=True, how='left')\n",
    "condition_columns = data.columns[1:]"
   ],
   "metadata": {
    "collapsed": false,
    "pycharm": {
     "name": "#%%\n"
    }
   }
  },
  {
   "cell_type": "code",
   "execution_count": 124,
   "outputs": [],
   "source": [
    "train_df = data[ : int(len(gen_df)*0.8)]\n",
    "# validation_df = data[int(len(gen_df)*0.7) : int(len(gen_df)*0.9)]\n",
    "test_df = data[int(len(gen_df)*0.8) : ]"
   ],
   "metadata": {
    "collapsed": false,
    "pycharm": {
     "name": "#%%\n"
    }
   }
  },
  {
   "cell_type": "markdown",
   "source": [
    "# Rolling Window Function"
   ],
   "metadata": {
    "collapsed": false,
    "pycharm": {
     "name": "#%% md\n"
    }
   }
  },
  {
   "cell_type": "code",
   "execution_count": 131,
   "outputs": [],
   "source": [
    "def sliding_forecast(endog: pd.DataFrame, trend: str, order: tuple,\n",
    "                     seasonal_order: tuple=None, exog: pd.DataFrame=None,\n",
    "                     train_length: int=0, val_length: int=0, shift: int=0):\n",
    "    train_start = 0\n",
    "    train_end = train_start + (train_length * 24)\n",
    "    val_start = train_end\n",
    "    val_end = val_start + (val_length * 24)\n",
    "    progress = 1\n",
    "\n",
    "    rmse_list = list()\n",
    "\n",
    "    while len(endog[: val_end]) < len(endog):\n",
    "        if exog is not None:\n",
    "            model = SARIMAX(endog=endog[train_start : train_end],\n",
    "                exog=exog[train_start : train_end],\n",
    "                trend=trend,\n",
    "                order=order,\n",
    "                seasonal_order=seasonal_order)\\\n",
    "                .fit(low_memory=True, disp=False, full_output=False)\n",
    "\n",
    "            predictions = pd.DataFrame(model.predict(start=endog.index[val_start],\n",
    "                                                     end=endog.index[val_end - 1],\n",
    "                                                     exog=exog[val_start: val_end]))\n",
    "\n",
    "        else:\n",
    "            model = SARIMAX(endog=endog[train_start : train_end],\n",
    "                trend=trend,\n",
    "                order=order,\n",
    "                seasonal_order=seasonal_order)\\\n",
    "                .fit(low_memory=True, disp=False, full_output=False)\n",
    "\n",
    "            predictions = pd.DataFrame(model.predict(start=endog.index[val_start],\n",
    "                                                     end=endog.index[val_end - 1]))\n",
    "\n",
    "        rmse_list.append(mean_squared_error(y_true=endog[val_start: val_end],\n",
    "                                            y_pred=predictions,\n",
    "                                            squared=False))\n",
    "\n",
    "        train_start += shift * 24\n",
    "        train_end = train_start + (train_length * 24)\n",
    "        val_start = train_end\n",
    "        val_end = val_start + (val_length * 24)\n",
    "\n",
    "        print(f\"Completed a run - {progress}\")\n",
    "\n",
    "        progress += 1\n",
    "\n",
    "    return sum(rmse_list) / len(rmse_list)"
   ],
   "metadata": {
    "collapsed": false,
    "pycharm": {
     "name": "#%%\n"
    }
   }
  },
  {
   "cell_type": "code",
   "execution_count": 126,
   "outputs": [
    {
     "name": "stdout",
     "output_type": "stream",
     "text": [
      "Completed 1/53 runs!\n",
      "Completed 2/53 runs!\n",
      "Completed 3/53 runs!\n",
      "Completed 4/53 runs!\n",
      "Completed 5/53 runs!\n",
      "Completed 6/53 runs!\n",
      "Completed 7/53 runs!\n",
      "Completed 8/53 runs!\n",
      "Completed 9/53 runs!\n",
      "Completed 10/53 runs!\n",
      "Completed 11/53 runs!\n",
      "Completed 12/53 runs!\n",
      "Completed 13/53 runs!\n",
      "Completed 14/53 runs!\n",
      "Completed 15/53 runs!\n",
      "Completed 16/53 runs!\n",
      "Completed 17/53 runs!\n",
      "Completed 18/53 runs!\n",
      "Completed 19/53 runs!\n",
      "Completed 20/53 runs!\n",
      "Completed 21/53 runs!\n",
      "Completed 22/53 runs!\n",
      "Completed 23/53 runs!\n",
      "Completed 24/53 runs!\n",
      "Completed 25/53 runs!\n",
      "Completed 26/53 runs!\n",
      "Completed 27/53 runs!\n",
      "Completed 28/53 runs!\n",
      "Completed 29/53 runs!\n",
      "Completed 30/53 runs!\n",
      "Completed 31/53 runs!\n",
      "Completed 32/53 runs!\n",
      "Completed 33/53 runs!\n",
      "Completed 34/53 runs!\n",
      "Completed 35/53 runs!\n",
      "Completed 36/53 runs!\n",
      "Completed 37/53 runs!\n",
      "Completed 38/53 runs!\n",
      "Completed 39/53 runs!\n",
      "Completed 40/53 runs!\n",
      "Completed 41/53 runs!\n",
      "Completed 42/53 runs!\n",
      "Completed 43/53 runs!\n",
      "Completed 44/53 runs!\n",
      "Completed 45/53 runs!\n",
      "Completed 46/53 runs!\n",
      "Completed 47/53 runs!\n",
      "Completed 48/53 runs!\n",
      "Completed 49/53 runs!\n",
      "Completed 50/53 runs!\n",
      "Completed 51/53 runs!\n",
      "Completed 52/53 runs!\n",
      "Completed 53/53 runs!\n"
     ]
    }
   ],
   "source": [
    "ARIMA_RMSE = sliding_forecast(endog=train_df[\"Generated Energy\"],\n",
    "                 trend='n', order=(4, 0, 0),\n",
    "                 train_length=28, val_length=3, shift=5)"
   ],
   "metadata": {
    "collapsed": false,
    "pycharm": {
     "name": "#%%\n"
    }
   }
  },
  {
   "cell_type": "code",
   "execution_count": 127,
   "outputs": [
    {
     "name": "stdout",
     "output_type": "stream",
     "text": [
      "Completed 1/53 runs!\n",
      "Completed 2/53 runs!\n",
      "Completed 3/53 runs!\n",
      "Completed 4/53 runs!\n",
      "Completed 5/53 runs!\n",
      "Completed 6/53 runs!\n"
     ]
    },
    {
     "name": "stderr",
     "output_type": "stream",
     "text": [
      "/usr/local/lib/python3.8/dist-packages/statsmodels/tsa/statespace/sarimax.py:1009: UserWarning: Non-invertible starting seasonal moving average Using zeros as starting parameters.\n",
      "  warn('Non-invertible starting seasonal moving average'\n"
     ]
    },
    {
     "name": "stdout",
     "output_type": "stream",
     "text": [
      "Completed 7/53 runs!\n",
      "Completed 8/53 runs!\n",
      "Completed 9/53 runs!\n",
      "Completed 10/53 runs!\n",
      "Completed 11/53 runs!\n"
     ]
    },
    {
     "name": "stderr",
     "output_type": "stream",
     "text": [
      "/usr/local/lib/python3.8/dist-packages/statsmodels/tsa/statespace/sarimax.py:1009: UserWarning: Non-invertible starting seasonal moving average Using zeros as starting parameters.\n",
      "  warn('Non-invertible starting seasonal moving average'\n"
     ]
    },
    {
     "name": "stdout",
     "output_type": "stream",
     "text": [
      "Completed 12/53 runs!\n",
      "Completed 13/53 runs!\n",
      "Completed 14/53 runs!\n",
      "Completed 15/53 runs!\n"
     ]
    },
    {
     "name": "stderr",
     "output_type": "stream",
     "text": [
      "/usr/local/lib/python3.8/dist-packages/statsmodels/tsa/statespace/sarimax.py:1009: UserWarning: Non-invertible starting seasonal moving average Using zeros as starting parameters.\n",
      "  warn('Non-invertible starting seasonal moving average'\n"
     ]
    },
    {
     "name": "stdout",
     "output_type": "stream",
     "text": [
      "Completed 16/53 runs!\n",
      "Completed 17/53 runs!\n",
      "Completed 18/53 runs!\n",
      "Completed 19/53 runs!\n",
      "Completed 20/53 runs!\n",
      "Completed 21/53 runs!\n",
      "Completed 22/53 runs!\n",
      "Completed 23/53 runs!\n",
      "Completed 24/53 runs!\n",
      "Completed 25/53 runs!\n",
      "Completed 26/53 runs!\n",
      "Completed 27/53 runs!\n",
      "Completed 28/53 runs!\n",
      "Completed 29/53 runs!\n",
      "Completed 30/53 runs!\n",
      "Completed 31/53 runs!\n",
      "Completed 32/53 runs!\n",
      "Completed 33/53 runs!\n",
      "Completed 34/53 runs!\n",
      "Completed 35/53 runs!\n",
      "Completed 36/53 runs!\n",
      "Completed 37/53 runs!\n",
      "Completed 38/53 runs!\n",
      "Completed 39/53 runs!\n",
      "Completed 40/53 runs!\n",
      "Completed 41/53 runs!\n",
      "Completed 42/53 runs!\n"
     ]
    },
    {
     "name": "stderr",
     "output_type": "stream",
     "text": [
      "/usr/local/lib/python3.8/dist-packages/statsmodels/tsa/statespace/sarimax.py:1009: UserWarning: Non-invertible starting seasonal moving average Using zeros as starting parameters.\n",
      "  warn('Non-invertible starting seasonal moving average'\n"
     ]
    },
    {
     "name": "stdout",
     "output_type": "stream",
     "text": [
      "Completed 43/53 runs!\n",
      "Completed 44/53 runs!\n",
      "Completed 45/53 runs!\n",
      "Completed 46/53 runs!\n",
      "Completed 47/53 runs!\n",
      "Completed 48/53 runs!\n",
      "Completed 49/53 runs!\n"
     ]
    },
    {
     "name": "stderr",
     "output_type": "stream",
     "text": [
      "/usr/local/lib/python3.8/dist-packages/statsmodels/tsa/statespace/sarimax.py:1009: UserWarning: Non-invertible starting seasonal moving average Using zeros as starting parameters.\n",
      "  warn('Non-invertible starting seasonal moving average'\n"
     ]
    },
    {
     "name": "stdout",
     "output_type": "stream",
     "text": [
      "Completed 50/53 runs!\n"
     ]
    },
    {
     "name": "stderr",
     "output_type": "stream",
     "text": [
      "/usr/local/lib/python3.8/dist-packages/statsmodels/tsa/statespace/sarimax.py:1009: UserWarning: Non-invertible starting seasonal moving average Using zeros as starting parameters.\n",
      "  warn('Non-invertible starting seasonal moving average'\n"
     ]
    },
    {
     "name": "stdout",
     "output_type": "stream",
     "text": [
      "Completed 51/53 runs!\n",
      "Completed 52/53 runs!\n"
     ]
    },
    {
     "name": "stderr",
     "output_type": "stream",
     "text": [
      "/usr/local/lib/python3.8/dist-packages/statsmodels/tsa/statespace/sarimax.py:1009: UserWarning: Non-invertible starting seasonal moving average Using zeros as starting parameters.\n",
      "  warn('Non-invertible starting seasonal moving average'\n"
     ]
    },
    {
     "name": "stdout",
     "output_type": "stream",
     "text": [
      "Completed 53/53 runs!\n"
     ]
    }
   ],
   "source": [
    "SARIMA_RMSE = sliding_forecast(endog=train_df[\"Generated Energy\"],\n",
    "                 trend='n', order=(4, 0, 0), seasonal_order=(0, 1, 2, 24),\n",
    "                 train_length=28, val_length=3, shift=5)"
   ],
   "metadata": {
    "collapsed": false,
    "pycharm": {
     "name": "#%%\n"
    }
   }
  },
  {
   "cell_type": "code",
   "execution_count": 128,
   "outputs": [
    {
     "name": "stdout",
     "output_type": "stream",
     "text": [
      "Completed 1/53 runs!\n",
      "Completed 2/53 runs!\n",
      "Completed 3/53 runs!\n",
      "Completed 4/53 runs!\n",
      "Completed 5/53 runs!\n",
      "Completed 6/53 runs!\n",
      "Completed 7/53 runs!\n",
      "Completed 8/53 runs!\n",
      "Completed 9/53 runs!\n",
      "Completed 10/53 runs!\n",
      "Completed 11/53 runs!\n",
      "Completed 12/53 runs!\n",
      "Completed 13/53 runs!\n",
      "Completed 14/53 runs!\n",
      "Completed 15/53 runs!\n"
     ]
    },
    {
     "name": "stderr",
     "output_type": "stream",
     "text": [
      "/usr/local/lib/python3.8/dist-packages/statsmodels/tsa/statespace/sarimax.py:1009: UserWarning: Non-invertible starting seasonal moving average Using zeros as starting parameters.\n",
      "  warn('Non-invertible starting seasonal moving average'\n"
     ]
    },
    {
     "name": "stdout",
     "output_type": "stream",
     "text": [
      "Completed 16/53 runs!\n",
      "Completed 17/53 runs!\n",
      "Completed 18/53 runs!\n",
      "Completed 19/53 runs!\n",
      "Completed 20/53 runs!\n",
      "Completed 21/53 runs!\n",
      "Completed 22/53 runs!\n",
      "Completed 23/53 runs!\n",
      "Completed 24/53 runs!\n",
      "Completed 25/53 runs!\n",
      "Completed 26/53 runs!\n",
      "Completed 27/53 runs!\n",
      "Completed 28/53 runs!\n",
      "Completed 29/53 runs!\n",
      "Completed 30/53 runs!\n"
     ]
    },
    {
     "name": "stderr",
     "output_type": "stream",
     "text": [
      "/usr/local/lib/python3.8/dist-packages/statsmodels/tsa/statespace/sarimax.py:1009: UserWarning: Non-invertible starting seasonal moving average Using zeros as starting parameters.\n",
      "  warn('Non-invertible starting seasonal moving average'\n"
     ]
    },
    {
     "name": "stdout",
     "output_type": "stream",
     "text": [
      "Completed 31/53 runs!\n",
      "Completed 32/53 runs!\n",
      "Completed 33/53 runs!\n",
      "Completed 34/53 runs!\n",
      "Completed 35/53 runs!\n",
      "Completed 36/53 runs!\n",
      "Completed 37/53 runs!\n",
      "Completed 38/53 runs!\n",
      "Completed 39/53 runs!\n",
      "Completed 40/53 runs!\n",
      "Completed 41/53 runs!\n",
      "Completed 42/53 runs!\n",
      "Completed 43/53 runs!\n",
      "Completed 44/53 runs!\n",
      "Completed 45/53 runs!\n",
      "Completed 46/53 runs!\n",
      "Completed 47/53 runs!\n",
      "Completed 48/53 runs!\n",
      "Completed 49/53 runs!\n",
      "Completed 50/53 runs!\n",
      "Completed 51/53 runs!\n",
      "Completed 52/53 runs!\n"
     ]
    },
    {
     "name": "stderr",
     "output_type": "stream",
     "text": [
      "/usr/local/lib/python3.8/dist-packages/statsmodels/tsa/statespace/sarimax.py:1009: UserWarning: Non-invertible starting seasonal moving average Using zeros as starting parameters.\n",
      "  warn('Non-invertible starting seasonal moving average'\n"
     ]
    },
    {
     "name": "stdout",
     "output_type": "stream",
     "text": [
      "Completed 53/53 runs!\n"
     ]
    }
   ],
   "source": [
    "SARIMAX_RMSE = sliding_forecast(endog=train_df[\"Generated Energy\"], exog=train_df[condition_columns],\n",
    "                 trend='n', order=(4, 0, 0), seasonal_order=(0, 1, 2, 24),\n",
    "                 train_length=28, val_length=3, shift=5)"
   ],
   "metadata": {
    "collapsed": false,
    "pycharm": {
     "name": "#%%\n"
    }
   }
  },
  {
   "cell_type": "code",
   "execution_count": 129,
   "outputs": [
    {
     "name": "stdout",
     "output_type": "stream",
     "text": [
      "3.18 1.28 1.21\n"
     ]
    }
   ],
   "source": [
    "print(round(ARIMA_RMSE, 2), round(SARIMA_RMSE, 2), round(SARIMAX_RMSE, 2))"
   ],
   "metadata": {
    "collapsed": false,
    "pycharm": {
     "name": "#%%\n"
    }
   }
  },
  {
   "cell_type": "code",
   "execution_count": 132,
   "outputs": [
    {
     "name": "stdout",
     "output_type": "stream",
     "text": [
      "Completed 1/53 runs!\n",
      "Completed 2/53 runs!\n",
      "Completed 3/53 runs!\n",
      "Completed 4/53 runs!\n",
      "Completed 5/53 runs!\n",
      "Completed 6/53 runs!\n",
      "Completed 7/53 runs!\n",
      "Completed 8/53 runs!\n",
      "Completed 9/53 runs!\n",
      "1.538236681370153\n"
     ]
    }
   ],
   "source": [
    "test_rmse = sliding_forecast(endog=test_df[\"Generated Energy\"], exog=test_df[condition_columns],\n",
    "                 trend='n', order=(4, 0, 0), seasonal_order=(0, 1, 2, 24),\n",
    "                 train_length=28, val_length=3, shift=5)\n",
    "\n",
    "print(test_rmse)"
   ],
   "metadata": {
    "collapsed": false,
    "pycharm": {
     "name": "#%%\n"
    }
   }
  }
 ],
 "metadata": {
  "kernelspec": {
   "display_name": "Python 3",
   "language": "python",
   "name": "python3"
  },
  "language_info": {
   "codemirror_mode": {
    "name": "ipython",
    "version": 2
   },
   "file_extension": ".py",
   "mimetype": "text/x-python",
   "name": "python",
   "nbconvert_exporter": "python",
   "pygments_lexer": "ipython2",
   "version": "2.7.6"
  }
 },
 "nbformat": 4,
 "nbformat_minor": 0
}