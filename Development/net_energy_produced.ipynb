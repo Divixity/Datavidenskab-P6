{
 "cells": [
  {
   "cell_type": "markdown",
   "source": [
    "# Investigate Net Energy Production\n",
    "## Load packages and data"
   ],
   "metadata": {
    "collapsed": false
   }
  },
  {
   "cell_type": "code",
   "execution_count": 2,
   "metadata": {
    "collapsed": true
   },
   "outputs": [],
   "source": [
    "import DataRetriever as dr\n",
    "import pandas as pd\n",
    "import plotly.express as px\n",
    "\n",
    "retriever = dr.DataRetriever()\n",
    "\n",
    "year_2 = retriever.get_data(\"All-Subsystems-minute-Year2.pkl\")\n",
    "\n",
    "# Add timestamp converted to UTC as index to year_2\n",
    "year_2[\"Timestamp UTC\"] = pd.to_datetime(year_2[\"Timestamp\"], utc=True, infer_datetime_format=True)\n",
    "year_2.set_index(\"Timestamp UTC\", inplace=True)\n",
    "\n",
    "# Load the metadata\n",
    "metadata = retriever.get_data(\"metadata-year2.pkl\")\n",
    "metadata.rename(columns={\"Unnamed: 0\": \"Attribute\"}, inplace=True)"
   ]
  },
  {
   "cell_type": "markdown",
   "source": [
    "## Determine which columns are generating and which are consuming\n",
    "### Generating Attributes"
   ],
   "metadata": {
    "collapsed": false
   }
  },
  {
   "cell_type": "code",
   "source": [
    "watt_attributes = metadata[metadata[\"Units\"] == \"W\"]\n",
    "\n",
    "pv_attributes = [description.startswith(\"Instantaneous power produced\") for description in watt_attributes[\"Description\"]]\n",
    "gen_attributes = watt_attributes[pv_attributes]\n",
    "gen_attributes = gen_attributes[\"Attribute\"].tolist()\n",
    "len(gen_attributes)"
   ],
   "metadata": {
    "collapsed": false,
    "pycharm": {
     "name": "#%%\n"
    }
   },
   "execution_count": 2,
   "outputs": [
    {
     "data": {
      "text/plain": "2"
     },
     "execution_count": 2,
     "metadata": {},
     "output_type": "execute_result"
    }
   ]
  },
  {
   "cell_type": "markdown",
   "source": [
    "### Consuming Attributes"
   ],
   "metadata": {
    "collapsed": false
   }
  },
  {
   "cell_type": "code",
   "execution_count": 3,
   "outputs": [
    {
     "data": {
      "text/plain": "24"
     },
     "execution_count": 3,
     "metadata": {},
     "output_type": "execute_result"
    }
   ],
   "source": [
    "loads_attributes = [subsystem==\"Loads\" for subsystem in watt_attributes[\"Subsystem\"]]\n",
    "con_attributes = watt_attributes[loads_attributes]\n",
    "con_attributes = con_attributes[\"Attribute\"].tolist()\n",
    "len(con_attributes)"
   ],
   "metadata": {
    "collapsed": false,
    "pycharm": {
     "name": "#%%\n"
    }
   }
  },
  {
   "cell_type": "markdown",
   "source": [
    "# Create DataFrame containing only Generating and Consuming attributes"
   ],
   "metadata": {
    "collapsed": false
   }
  },
  {
   "cell_type": "code",
   "execution_count": 4,
   "outputs": [
    {
     "data": {
      "text/plain": "                                           Timestamp  PV_Watts3PhTotalW3PhT1  \\\nTimestamp UTC                                                                  \n2015-02-01 05:01:50+00:00  2015-02-01 00:01:50-05:00                9.541018   \n2015-02-01 05:02:50+00:00  2015-02-01 00:02:50-05:00                9.401856   \n2015-02-01 05:03:50+00:00  2015-02-01 00:03:50-05:00                9.581933   \n2015-02-01 05:04:50+00:00  2015-02-01 00:04:50-05:00                9.571916   \n2015-02-01 05:05:50+00:00  2015-02-01 00:05:50-05:00                9.631621   \n...                                              ...                     ...   \n2016-02-01 04:54:24+00:00  2016-01-31 23:54:24-05:00                9.445323   \n2016-02-01 04:55:24+00:00  2016-01-31 23:55:24-05:00                9.485347   \n2016-02-01 04:56:24+00:00  2016-01-31 23:56:24-05:00                9.432410   \n2016-02-01 04:57:24+00:00  2016-01-31 23:57:24-05:00                9.442164   \n2016-02-01 04:58:24+00:00  2016-01-31 23:58:24-05:00                9.479584   \n\n                           PV_Watts3PhTotalW3PhT2  Load_LRPlugLoadsPowerUsage  \\\nTimestamp UTC                                                                   \n2015-02-01 05:01:50+00:00                8.991452                         0.0   \n2015-02-01 05:02:50+00:00                8.890989                         0.0   \n2015-02-01 05:03:50+00:00                8.956793                         0.0   \n2015-02-01 05:04:50+00:00                9.004457                         0.0   \n2015-02-01 05:05:50+00:00                8.914098                         0.0   \n...                                           ...                         ...   \n2016-02-01 04:54:24+00:00                8.850496                         0.0   \n2016-02-01 04:55:24+00:00                8.884768                         0.0   \n2016-02-01 04:56:24+00:00                8.789854                         0.0   \n2016-02-01 04:57:24+00:00                8.815559                         0.0   \n2016-02-01 04:58:24+00:00                8.904833                         0.0   \n\n                           Load_KPlugLoadsPowerUsage  \\\nTimestamp UTC                                          \n2015-02-01 05:01:50+00:00                       0.82   \n2015-02-01 05:02:50+00:00                       0.82   \n2015-02-01 05:03:50+00:00                       0.82   \n2015-02-01 05:04:50+00:00                       0.82   \n2015-02-01 05:05:50+00:00                       0.82   \n...                                              ...   \n2016-02-01 04:54:24+00:00                       0.82   \n2016-02-01 04:55:24+00:00                       0.82   \n2016-02-01 04:56:24+00:00                       0.82   \n2016-02-01 04:57:24+00:00                       0.82   \n2016-02-01 04:58:24+00:00                       0.82   \n\n                           Load_MBRPlugLoadsPowerUsage  \\\nTimestamp UTC                                            \n2015-02-01 05:01:50+00:00                     0.000000   \n2015-02-01 05:02:50+00:00                    56.608574   \n2015-02-01 05:03:50+00:00                    56.692626   \n2015-02-01 05:04:50+00:00                    56.662501   \n2015-02-01 05:05:50+00:00                    56.848702   \n...                                                ...   \n2016-02-01 04:54:24+00:00                    77.291357   \n2016-02-01 04:55:24+00:00                    77.387500   \n2016-02-01 04:56:24+00:00                    77.447937   \n2016-02-01 04:57:24+00:00                    77.422418   \n2016-02-01 04:58:24+00:00                    77.364173   \n\n                           Load_BR2PlugLoadsPowerUsage  \\\nTimestamp UTC                                            \n2015-02-01 05:01:50+00:00                     0.000000   \n2015-02-01 05:02:50+00:00                    22.497041   \n2015-02-01 05:03:50+00:00                    22.480699   \n2015-02-01 05:04:50+00:00                    22.548397   \n2015-02-01 05:05:50+00:00                    22.561902   \n...                                                ...   \n2016-02-01 04:54:24+00:00                    21.919070   \n2016-02-01 04:55:24+00:00                    21.970587   \n2016-02-01 04:56:24+00:00                    21.978156   \n2016-02-01 04:57:24+00:00                    22.006609   \n2016-02-01 04:58:24+00:00                    22.019010   \n\n                           Load_BR3PlugLoadsPowerUsage  \\\nTimestamp UTC                                            \n2015-02-01 05:01:50+00:00                          0.0   \n2015-02-01 05:02:50+00:00                          0.0   \n2015-02-01 05:03:50+00:00                          0.0   \n2015-02-01 05:04:50+00:00                          0.0   \n2015-02-01 05:05:50+00:00                          0.0   \n...                                                ...   \n2016-02-01 04:54:24+00:00                          0.0   \n2016-02-01 04:55:24+00:00                          0.0   \n2016-02-01 04:56:24+00:00                          0.0   \n2016-02-01 04:57:24+00:00                          0.0   \n2016-02-01 04:58:24+00:00                          0.0   \n\n                           Load_BR4PlugLoadsPowerUsage  \\\nTimestamp UTC                                            \n2015-02-01 05:01:50+00:00                     0.000000   \n2015-02-01 05:02:50+00:00                    48.833151   \n2015-02-01 05:03:50+00:00                    48.967466   \n2015-02-01 05:04:50+00:00                    48.943777   \n2015-02-01 05:05:50+00:00                    49.003380   \n...                                                ...   \n2016-02-01 04:54:24+00:00                    47.773333   \n2016-02-01 04:55:24+00:00                    47.712440   \n2016-02-01 04:56:24+00:00                    47.817486   \n2016-02-01 04:57:24+00:00                    47.797215   \n2016-02-01 04:58:24+00:00                    47.718084   \n\n                           Load_1stFloorSensHeatPowerUsage  ...  \\\nTimestamp UTC                                               ...   \n2015-02-01 05:01:50+00:00                              0.0  ...   \n2015-02-01 05:02:50+00:00                              0.0  ...   \n2015-02-01 05:03:50+00:00                              0.0  ...   \n2015-02-01 05:04:50+00:00                              0.0  ...   \n2015-02-01 05:05:50+00:00                              0.0  ...   \n...                                                    ...  ...   \n2016-02-01 04:54:24+00:00                              0.0  ...   \n2016-02-01 04:55:24+00:00                              0.0  ...   \n2016-02-01 04:56:24+00:00                              0.0  ...   \n2016-02-01 04:57:24+00:00                              0.0  ...   \n2016-02-01 04:58:24+00:00                              0.0  ...   \n\n                           Load_RefrigeratorPowerWithStandby  \\\nTimestamp UTC                                                  \n2015-02-01 05:01:50+00:00                                6.1   \n2015-02-01 05:02:50+00:00                                6.1   \n2015-02-01 05:03:50+00:00                                6.1   \n2015-02-01 05:04:50+00:00                                6.1   \n2015-02-01 05:05:50+00:00                                6.1   \n...                                                      ...   \n2016-02-01 04:54:24+00:00                                6.1   \n2016-02-01 04:55:24+00:00                                6.1   \n2016-02-01 04:56:24+00:00                                6.1   \n2016-02-01 04:57:24+00:00                                6.1   \n2016-02-01 04:58:24+00:00                                6.1   \n\n                           Load_MicrowavePowerWithStandby  \\\nTimestamp UTC                                               \n2015-02-01 05:01:50+00:00                            1.32   \n2015-02-01 05:02:50+00:00                            1.32   \n2015-02-01 05:03:50+00:00                            1.32   \n2015-02-01 05:04:50+00:00                            1.32   \n2015-02-01 05:05:50+00:00                            1.32   \n...                                                   ...   \n2016-02-01 04:54:24+00:00                            1.32   \n2016-02-01 04:55:24+00:00                            1.32   \n2016-02-01 04:56:24+00:00                            1.32   \n2016-02-01 04:57:24+00:00                            1.32   \n2016-02-01 04:58:24+00:00                            1.32   \n\n                           Elec_PowerParentADownstairs  \\\nTimestamp UTC                                            \n2015-02-01 05:01:50+00:00                          0.0   \n2015-02-01 05:02:50+00:00                          0.0   \n2015-02-01 05:03:50+00:00                          0.0   \n2015-02-01 05:04:50+00:00                          0.0   \n2015-02-01 05:05:50+00:00                          0.0   \n...                                                ...   \n2016-02-01 04:54:24+00:00                          0.0   \n2016-02-01 04:55:24+00:00                          0.0   \n2016-02-01 04:56:24+00:00                          0.0   \n2016-02-01 04:57:24+00:00                          0.0   \n2016-02-01 04:58:24+00:00                          0.0   \n\n                           Elec_PowerChildBDownstairs  \\\nTimestamp UTC                                           \n2015-02-01 05:01:50+00:00                         0.0   \n2015-02-01 05:02:50+00:00                         0.0   \n2015-02-01 05:03:50+00:00                         0.0   \n2015-02-01 05:04:50+00:00                         0.0   \n2015-02-01 05:05:50+00:00                         0.0   \n...                                               ...   \n2016-02-01 04:54:24+00:00                         0.0   \n2016-02-01 04:55:24+00:00                         0.0   \n2016-02-01 04:56:24+00:00                         0.0   \n2016-02-01 04:57:24+00:00                         0.0   \n2016-02-01 04:58:24+00:00                         0.0   \n\n                           Elec_PowerChildADownstairs  \\\nTimestamp UTC                                           \n2015-02-01 05:01:50+00:00                         0.0   \n2015-02-01 05:02:50+00:00                         0.0   \n2015-02-01 05:03:50+00:00                         0.0   \n2015-02-01 05:04:50+00:00                         0.0   \n2015-02-01 05:05:50+00:00                         0.0   \n...                                               ...   \n2016-02-01 04:54:24+00:00                         0.0   \n2016-02-01 04:55:24+00:00                         0.0   \n2016-02-01 04:56:24+00:00                         0.0   \n2016-02-01 04:57:24+00:00                         0.0   \n2016-02-01 04:58:24+00:00                         0.0   \n\n                           Elec_PowerParentAUpstairs  \\\nTimestamp UTC                                          \n2015-02-01 05:01:50+00:00                   0.000000   \n2015-02-01 05:02:50+00:00                   0.000000   \n2015-02-01 05:03:50+00:00                   0.000000   \n2015-02-01 05:04:50+00:00                   0.000000   \n2015-02-01 05:05:50+00:00                  73.968090   \n...                                              ...   \n2016-02-01 04:54:24+00:00                  74.708458   \n2016-02-01 04:55:24+00:00                  74.349522   \n2016-02-01 04:56:24+00:00                  74.579205   \n2016-02-01 04:57:24+00:00                  74.356670   \n2016-02-01 04:58:24+00:00                  74.508274   \n\n                           Elec_PowerChildAUpstairs  Elec_PowerChildBUpstairs  \\\nTimestamp UTC                                                                   \n2015-02-01 05:01:50+00:00                  0.000000                  0.000000   \n2015-02-01 05:02:50+00:00                  0.000000                  0.000000   \n2015-02-01 05:03:50+00:00                  0.000000                  0.000000   \n2015-02-01 05:04:50+00:00                  0.000000                  0.000000   \n2015-02-01 05:05:50+00:00                 75.683292                 75.476479   \n...                                             ...                       ...   \n2016-02-01 04:54:24+00:00                 72.596176                 70.134552   \n2016-02-01 04:55:24+00:00                 72.518196                 70.231998   \n2016-02-01 04:56:24+00:00                 72.725151                 70.093410   \n2016-02-01 04:57:24+00:00                 72.798698                 70.118759   \n2016-02-01 04:58:24+00:00                 72.383896                 70.243824   \n\n                           Elec_PowerParentBUpstairs  \\\nTimestamp UTC                                          \n2015-02-01 05:01:50+00:00                   0.000000   \n2015-02-01 05:02:50+00:00                   0.000000   \n2015-02-01 05:03:50+00:00                   0.000000   \n2015-02-01 05:04:50+00:00                   0.000000   \n2015-02-01 05:05:50+00:00                  71.919773   \n...                                              ...   \n2016-02-01 04:54:24+00:00                  72.768318   \n2016-02-01 04:55:24+00:00                  72.466225   \n2016-02-01 04:56:24+00:00                  72.705517   \n2016-02-01 04:57:24+00:00                  72.435699   \n2016-02-01 04:58:24+00:00                  72.697075   \n\n                           Elec_PowerParentBDownstairs  \nTimestamp UTC                                           \n2015-02-01 05:01:50+00:00                          0.0  \n2015-02-01 05:02:50+00:00                          0.0  \n2015-02-01 05:03:50+00:00                          0.0  \n2015-02-01 05:04:50+00:00                          0.0  \n2015-02-01 05:05:50+00:00                          0.0  \n...                                                ...  \n2016-02-01 04:54:24+00:00                          0.0  \n2016-02-01 04:55:24+00:00                          0.0  \n2016-02-01 04:56:24+00:00                          0.0  \n2016-02-01 04:57:24+00:00                          0.0  \n2016-02-01 04:58:24+00:00                          0.0  \n\n[519604 rows x 27 columns]",
      "text/html": "<div>\n<style scoped>\n    .dataframe tbody tr th:only-of-type {\n        vertical-align: middle;\n    }\n\n    .dataframe tbody tr th {\n        vertical-align: top;\n    }\n\n    .dataframe thead th {\n        text-align: right;\n    }\n</style>\n<table border=\"1\" class=\"dataframe\">\n  <thead>\n    <tr style=\"text-align: right;\">\n      <th></th>\n      <th>Timestamp</th>\n      <th>PV_Watts3PhTotalW3PhT1</th>\n      <th>PV_Watts3PhTotalW3PhT2</th>\n      <th>Load_LRPlugLoadsPowerUsage</th>\n      <th>Load_KPlugLoadsPowerUsage</th>\n      <th>Load_MBRPlugLoadsPowerUsage</th>\n      <th>Load_BR2PlugLoadsPowerUsage</th>\n      <th>Load_BR3PlugLoadsPowerUsage</th>\n      <th>Load_BR4PlugLoadsPowerUsage</th>\n      <th>Load_1stFloorSensHeatPowerUsage</th>\n      <th>...</th>\n      <th>Load_RefrigeratorPowerWithStandby</th>\n      <th>Load_MicrowavePowerWithStandby</th>\n      <th>Elec_PowerParentADownstairs</th>\n      <th>Elec_PowerChildBDownstairs</th>\n      <th>Elec_PowerChildADownstairs</th>\n      <th>Elec_PowerParentAUpstairs</th>\n      <th>Elec_PowerChildAUpstairs</th>\n      <th>Elec_PowerChildBUpstairs</th>\n      <th>Elec_PowerParentBUpstairs</th>\n      <th>Elec_PowerParentBDownstairs</th>\n    </tr>\n    <tr>\n      <th>Timestamp UTC</th>\n      <th></th>\n      <th></th>\n      <th></th>\n      <th></th>\n      <th></th>\n      <th></th>\n      <th></th>\n      <th></th>\n      <th></th>\n      <th></th>\n      <th></th>\n      <th></th>\n      <th></th>\n      <th></th>\n      <th></th>\n      <th></th>\n      <th></th>\n      <th></th>\n      <th></th>\n      <th></th>\n      <th></th>\n    </tr>\n  </thead>\n  <tbody>\n    <tr>\n      <th>2015-02-01 05:01:50+00:00</th>\n      <td>2015-02-01 00:01:50-05:00</td>\n      <td>9.541018</td>\n      <td>8.991452</td>\n      <td>0.0</td>\n      <td>0.82</td>\n      <td>0.000000</td>\n      <td>0.000000</td>\n      <td>0.0</td>\n      <td>0.000000</td>\n      <td>0.0</td>\n      <td>...</td>\n      <td>6.1</td>\n      <td>1.32</td>\n      <td>0.0</td>\n      <td>0.0</td>\n      <td>0.0</td>\n      <td>0.000000</td>\n      <td>0.000000</td>\n      <td>0.000000</td>\n      <td>0.000000</td>\n      <td>0.0</td>\n    </tr>\n    <tr>\n      <th>2015-02-01 05:02:50+00:00</th>\n      <td>2015-02-01 00:02:50-05:00</td>\n      <td>9.401856</td>\n      <td>8.890989</td>\n      <td>0.0</td>\n      <td>0.82</td>\n      <td>56.608574</td>\n      <td>22.497041</td>\n      <td>0.0</td>\n      <td>48.833151</td>\n      <td>0.0</td>\n      <td>...</td>\n      <td>6.1</td>\n      <td>1.32</td>\n      <td>0.0</td>\n      <td>0.0</td>\n      <td>0.0</td>\n      <td>0.000000</td>\n      <td>0.000000</td>\n      <td>0.000000</td>\n      <td>0.000000</td>\n      <td>0.0</td>\n    </tr>\n    <tr>\n      <th>2015-02-01 05:03:50+00:00</th>\n      <td>2015-02-01 00:03:50-05:00</td>\n      <td>9.581933</td>\n      <td>8.956793</td>\n      <td>0.0</td>\n      <td>0.82</td>\n      <td>56.692626</td>\n      <td>22.480699</td>\n      <td>0.0</td>\n      <td>48.967466</td>\n      <td>0.0</td>\n      <td>...</td>\n      <td>6.1</td>\n      <td>1.32</td>\n      <td>0.0</td>\n      <td>0.0</td>\n      <td>0.0</td>\n      <td>0.000000</td>\n      <td>0.000000</td>\n      <td>0.000000</td>\n      <td>0.000000</td>\n      <td>0.0</td>\n    </tr>\n    <tr>\n      <th>2015-02-01 05:04:50+00:00</th>\n      <td>2015-02-01 00:04:50-05:00</td>\n      <td>9.571916</td>\n      <td>9.004457</td>\n      <td>0.0</td>\n      <td>0.82</td>\n      <td>56.662501</td>\n      <td>22.548397</td>\n      <td>0.0</td>\n      <td>48.943777</td>\n      <td>0.0</td>\n      <td>...</td>\n      <td>6.1</td>\n      <td>1.32</td>\n      <td>0.0</td>\n      <td>0.0</td>\n      <td>0.0</td>\n      <td>0.000000</td>\n      <td>0.000000</td>\n      <td>0.000000</td>\n      <td>0.000000</td>\n      <td>0.0</td>\n    </tr>\n    <tr>\n      <th>2015-02-01 05:05:50+00:00</th>\n      <td>2015-02-01 00:05:50-05:00</td>\n      <td>9.631621</td>\n      <td>8.914098</td>\n      <td>0.0</td>\n      <td>0.82</td>\n      <td>56.848702</td>\n      <td>22.561902</td>\n      <td>0.0</td>\n      <td>49.003380</td>\n      <td>0.0</td>\n      <td>...</td>\n      <td>6.1</td>\n      <td>1.32</td>\n      <td>0.0</td>\n      <td>0.0</td>\n      <td>0.0</td>\n      <td>73.968090</td>\n      <td>75.683292</td>\n      <td>75.476479</td>\n      <td>71.919773</td>\n      <td>0.0</td>\n    </tr>\n    <tr>\n      <th>...</th>\n      <td>...</td>\n      <td>...</td>\n      <td>...</td>\n      <td>...</td>\n      <td>...</td>\n      <td>...</td>\n      <td>...</td>\n      <td>...</td>\n      <td>...</td>\n      <td>...</td>\n      <td>...</td>\n      <td>...</td>\n      <td>...</td>\n      <td>...</td>\n      <td>...</td>\n      <td>...</td>\n      <td>...</td>\n      <td>...</td>\n      <td>...</td>\n      <td>...</td>\n      <td>...</td>\n    </tr>\n    <tr>\n      <th>2016-02-01 04:54:24+00:00</th>\n      <td>2016-01-31 23:54:24-05:00</td>\n      <td>9.445323</td>\n      <td>8.850496</td>\n      <td>0.0</td>\n      <td>0.82</td>\n      <td>77.291357</td>\n      <td>21.919070</td>\n      <td>0.0</td>\n      <td>47.773333</td>\n      <td>0.0</td>\n      <td>...</td>\n      <td>6.1</td>\n      <td>1.32</td>\n      <td>0.0</td>\n      <td>0.0</td>\n      <td>0.0</td>\n      <td>74.708458</td>\n      <td>72.596176</td>\n      <td>70.134552</td>\n      <td>72.768318</td>\n      <td>0.0</td>\n    </tr>\n    <tr>\n      <th>2016-02-01 04:55:24+00:00</th>\n      <td>2016-01-31 23:55:24-05:00</td>\n      <td>9.485347</td>\n      <td>8.884768</td>\n      <td>0.0</td>\n      <td>0.82</td>\n      <td>77.387500</td>\n      <td>21.970587</td>\n      <td>0.0</td>\n      <td>47.712440</td>\n      <td>0.0</td>\n      <td>...</td>\n      <td>6.1</td>\n      <td>1.32</td>\n      <td>0.0</td>\n      <td>0.0</td>\n      <td>0.0</td>\n      <td>74.349522</td>\n      <td>72.518196</td>\n      <td>70.231998</td>\n      <td>72.466225</td>\n      <td>0.0</td>\n    </tr>\n    <tr>\n      <th>2016-02-01 04:56:24+00:00</th>\n      <td>2016-01-31 23:56:24-05:00</td>\n      <td>9.432410</td>\n      <td>8.789854</td>\n      <td>0.0</td>\n      <td>0.82</td>\n      <td>77.447937</td>\n      <td>21.978156</td>\n      <td>0.0</td>\n      <td>47.817486</td>\n      <td>0.0</td>\n      <td>...</td>\n      <td>6.1</td>\n      <td>1.32</td>\n      <td>0.0</td>\n      <td>0.0</td>\n      <td>0.0</td>\n      <td>74.579205</td>\n      <td>72.725151</td>\n      <td>70.093410</td>\n      <td>72.705517</td>\n      <td>0.0</td>\n    </tr>\n    <tr>\n      <th>2016-02-01 04:57:24+00:00</th>\n      <td>2016-01-31 23:57:24-05:00</td>\n      <td>9.442164</td>\n      <td>8.815559</td>\n      <td>0.0</td>\n      <td>0.82</td>\n      <td>77.422418</td>\n      <td>22.006609</td>\n      <td>0.0</td>\n      <td>47.797215</td>\n      <td>0.0</td>\n      <td>...</td>\n      <td>6.1</td>\n      <td>1.32</td>\n      <td>0.0</td>\n      <td>0.0</td>\n      <td>0.0</td>\n      <td>74.356670</td>\n      <td>72.798698</td>\n      <td>70.118759</td>\n      <td>72.435699</td>\n      <td>0.0</td>\n    </tr>\n    <tr>\n      <th>2016-02-01 04:58:24+00:00</th>\n      <td>2016-01-31 23:58:24-05:00</td>\n      <td>9.479584</td>\n      <td>8.904833</td>\n      <td>0.0</td>\n      <td>0.82</td>\n      <td>77.364173</td>\n      <td>22.019010</td>\n      <td>0.0</td>\n      <td>47.718084</td>\n      <td>0.0</td>\n      <td>...</td>\n      <td>6.1</td>\n      <td>1.32</td>\n      <td>0.0</td>\n      <td>0.0</td>\n      <td>0.0</td>\n      <td>74.508274</td>\n      <td>72.383896</td>\n      <td>70.243824</td>\n      <td>72.697075</td>\n      <td>0.0</td>\n    </tr>\n  </tbody>\n</table>\n<p>519604 rows × 27 columns</p>\n</div>"
     },
     "execution_count": 4,
     "metadata": {},
     "output_type": "execute_result"
    }
   ],
   "source": [
    "energy_attributes = [\"Timestamp\"] + gen_attributes + con_attributes\n",
    "\n",
    "energy_data = year_2[energy_attributes]\n",
    "energy_data"
   ],
   "metadata": {
    "collapsed": false,
    "pycharm": {
     "name": "#%%\n"
    }
   }
  },
  {
   "cell_type": "markdown",
   "source": [
    "### Create new attributes \"Generated\", \"Consumed\", and \"Net Energy\""
   ],
   "metadata": {
    "collapsed": false
   }
  },
  {
   "cell_type": "code",
   "execution_count": 21,
   "outputs": [
    {
     "name": "stdout",
     "output_type": "stream",
     "text": [
      "835493.003019695 441293.15732943726 394199.8456902578\n"
     ]
    }
   ],
   "source": [
    "total_generated = energy_data[gen_attributes].sum().sum()/1000\n",
    "total_consumed = energy_data[con_attributes].sum().sum()/1000\n",
    "print(total_generated, total_consumed, total_generated - total_consumed)"
   ],
   "metadata": {
    "collapsed": false,
    "pycharm": {
     "name": "#%%\n"
    }
   }
  },
  {
   "cell_type": "markdown",
   "source": [
    "## Add sum of generating and consuming attributes to energy_data  DataFrame"
   ],
   "metadata": {
    "collapsed": false
   }
  },
  {
   "cell_type": "code",
   "execution_count": 25,
   "outputs": [
    {
     "name": "stderr",
     "output_type": "stream",
     "text": [
      "C:\\Users\\madsc\\AppData\\Local\\Temp\\ipykernel_21044\\3496694228.py:1: SettingWithCopyWarning:\n",
      "\n",
      "\n",
      "A value is trying to be set on a copy of a slice from a DataFrame.\n",
      "Try using .loc[row_indexer,col_indexer] = value instead\n",
      "\n",
      "See the caveats in the documentation: https://pandas.pydata.org/pandas-docs/stable/user_guide/indexing.html#returning-a-view-versus-a-copy\n",
      "\n",
      "C:\\Users\\madsc\\AppData\\Local\\Temp\\ipykernel_21044\\3496694228.py:2: SettingWithCopyWarning:\n",
      "\n",
      "\n",
      "A value is trying to be set on a copy of a slice from a DataFrame.\n",
      "Try using .loc[row_indexer,col_indexer] = value instead\n",
      "\n",
      "See the caveats in the documentation: https://pandas.pydata.org/pandas-docs/stable/user_guide/indexing.html#returning-a-view-versus-a-copy\n",
      "\n",
      "C:\\Users\\madsc\\AppData\\Local\\Temp\\ipykernel_21044\\3496694228.py:3: SettingWithCopyWarning:\n",
      "\n",
      "\n",
      "A value is trying to be set on a copy of a slice from a DataFrame.\n",
      "Try using .loc[row_indexer,col_indexer] = value instead\n",
      "\n",
      "See the caveats in the documentation: https://pandas.pydata.org/pandas-docs/stable/user_guide/indexing.html#returning-a-view-versus-a-copy\n",
      "\n",
      "C:\\Users\\madsc\\AppData\\Local\\Temp\\ipykernel_21044\\3496694228.py:4: SettingWithCopyWarning:\n",
      "\n",
      "\n",
      "A value is trying to be set on a copy of a slice from a DataFrame.\n",
      "Try using .loc[row_indexer,col_indexer] = value instead\n",
      "\n",
      "See the caveats in the documentation: https://pandas.pydata.org/pandas-docs/stable/user_guide/indexing.html#returning-a-view-versus-a-copy\n",
      "\n"
     ]
    }
   ],
   "source": [
    "energy_data[\"Sum Generating\"] = energy_data[gen_attributes].sum(axis=1)\n",
    "energy_data[\"Sum Consuming\"] = energy_data[con_attributes].sum(axis=1)\n",
    "energy_data[\"Net Energy\"] = energy_data[\"Sum Generating\"] - energy_data[\"Sum Consuming\"]\n",
    "energy_data[\"Turned On\"] = energy_data[\"Net Energy\"] > 0"
   ],
   "metadata": {
    "collapsed": false,
    "pycharm": {
     "name": "#%%\n"
    }
   }
  },
  {
   "cell_type": "markdown",
   "source": [
    "# Plotting consuming attributes"
   ],
   "metadata": {
    "collapsed": false
   }
  },
  {
   "cell_type": "code",
   "execution_count": null,
   "outputs": [],
   "source": [
    "fig = px.bar(data_frame=energy_data,\n",
    "             x=\"Timestamp\",\n",
    "             y=\"Sum Consuming\")\n",
    "fig.update_xaxes(range=[\"2015-03-13\", \"2015-03-23\"])\n",
    "fig.show()"
   ],
   "metadata": {
    "collapsed": false,
    "pycharm": {
     "name": "#%%\n",
     "is_executing": true
    }
   }
  },
  {
   "cell_type": "markdown",
   "source": [
    "## Plotting generating attributes"
   ],
   "metadata": {
    "collapsed": false
   }
  },
  {
   "cell_type": "code",
   "execution_count": null,
   "outputs": [],
   "source": [
    "fig = px.bar(data_frame=energy_data,\n",
    "             x=\"Timestamp\",\n",
    "             y=\"Sum Generating\")\n",
    "fig.update_xaxes(range=[\"2015-03-13\", \"2015-03-23\"])\n",
    "fig.show()"
   ],
   "metadata": {
    "collapsed": false,
    "pycharm": {
     "name": "#%%\n"
    }
   }
  },
  {
   "cell_type": "markdown",
   "source": [
    "## Plotting Net Energy"
   ],
   "metadata": {
    "collapsed": false
   }
  },
  {
   "cell_type": "code",
   "execution_count": null,
   "outputs": [],
   "source": [
    "fig = px.bar(data_frame=energy_data,\n",
    "             x=\"Timestamp\",\n",
    "             y=\"Net Energy\",\n",
    "             color=\"Turned On\",\n",
    "             color_discrete_sequence=[\"blue\", \"black\"])\n",
    "fig.update_xaxes(range=[\"2015-03-13\", \"2015-03-23\"])\n",
    "fig.show()"
   ],
   "metadata": {
    "collapsed": false,
    "pycharm": {
     "name": "#%%\n",
     "is_executing": true
    }
   }
  }
 ],
 "metadata": {
  "kernelspec": {
   "display_name": "Python 3",
   "language": "python",
   "name": "python3"
  },
  "language_info": {
   "codemirror_mode": {
    "name": "ipython",
    "version": 2
   },
   "file_extension": ".py",
   "mimetype": "text/x-python",
   "name": "python",
   "nbconvert_exporter": "python",
   "pygments_lexer": "ipython2",
   "version": "2.7.6"
  }
 },
 "nbformat": 4,
 "nbformat_minor": 0
}