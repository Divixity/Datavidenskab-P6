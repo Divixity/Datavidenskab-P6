{
 "cells": [
  {
   "cell_type": "markdown",
   "source": [
    "# Investigate Net Energy Production\n",
    "## Load packages and data"
   ],
   "metadata": {
    "collapsed": false
   }
  },
  {
   "cell_type": "code",
   "execution_count": null,
   "metadata": {
    "collapsed": true,
    "pycharm": {
     "is_executing": true
    }
   },
   "outputs": [],
   "source": [
    "import DataRetriever as dr\n",
    "import pandas as pd\n",
    "import plotly.express as px\n",
    "\n",
    "retriever = dr.DataRetriever()\n",
    "\n",
    "year_2 = retriever.get_data(\"All-Subsystems-minute-Year2.pkl\")\n",
    "\n",
    "# Add timestamp converted to UTC as index to year_2\n",
    "# year_2[\"Timestamp UTC\"] = pd.to_datetime(year_2[\"Timestamp\"], utc=True, infer_datetime_format=True)\n",
    "# year_2.set_index(\"Timestamp UTC\", inplace=True)\n",
    "\n",
    "# Load the metadata\n",
    "metadata = retriever.get_data(\"metadata-year2.pkl\")\n",
    "metadata.rename(columns={\"Unnamed: 0\": \"Attribute\"}, inplace=True)\n",
    "\n",
    "year_2[[\"PV_Watts3PhTotalW3PhT1\", \"PV_Watts3PhTotalW3PhT2\", \"PV_PVSystem1ACPowerOSPACPV1OS\", \"PV_PVSystem2ACPowerOSPACPV2OS\", \"Elec_PowerPV1of2\", \"Elec_PowerPV2of2\"]].clip(lower=0) #Minimum value of these columns must be 0, else set to 0.\n",
    "\n",
    "print(\"Hej\")"
   ]
  },
  {
   "cell_type": "markdown",
   "source": [
    "## Determine which columns are generating and which are consuming\n",
    "### Generating Attributes"
   ],
   "metadata": {
    "collapsed": false
   }
  },
  {
   "cell_type": "code",
   "source": [
    "watt_attributes = metadata[metadata[\"Units\"] == \"W\"]\n",
    "print(watt_attributes)\n",
    "\n",
    "# Define generating attributes as attributes in W that have description \"Instantaneous power produced\"\n",
    "powerproduced_attributes = [description.startswith(\"Instantaneous power produced\") for description in watt_attributes[\"Description\"]]\n",
    "gen_attributes = watt_attributes[powerproduced_attributes]\n",
    "print(gen_attributes)\n",
    "gen_attributes = gen_attributes[\"Attribute\"].tolist()\n",
    "gen_attributes"
   ],
   "metadata": {
    "collapsed": false,
    "pycharm": {
     "name": "#%%\n",
     "is_executing": true
    }
   },
   "execution_count": null,
   "outputs": []
  },
  {
   "cell_type": "markdown",
   "source": [
    "### Consuming Attributes"
   ],
   "metadata": {
    "collapsed": false
   }
  },
  {
   "cell_type": "code",
   "execution_count": null,
   "outputs": [],
   "source": [
    "# Define generating attributes as attributes in W that have description \"Instantaneous power produced\"\n",
    "not_powerproduced = [subsystem != \"PV\" for subsystem in watt_attributes[\"Subsystem\"]]\n",
    "con_attributes = watt_attributes[not_powerproduced]\n",
    "con_attributes = year_2[con_attributes[\"Attribute\"].tolist()]\n",
    "con_attributes"
   ],
   "metadata": {
    "collapsed": false,
    "pycharm": {
     "name": "#%%\n",
     "is_executing": true
    }
   }
  },
  {
   "cell_type": "code",
   "execution_count": null,
   "outputs": [],
   "source": [
    "# Need to further filter the consuming attributes as some are duplicates and measure the same thing\n",
    "\n",
    "# We use the correlation between attributes to determine if they measure the same thing\n",
    "correlations_df = con_attributes.corr().abs()\n",
    "\n",
    "# Create a dict of key value pairs with high correlations.\n",
    "correlation_pairs = dict()\n",
    "for rowIndex, row in correlations_df.iterrows(): #RowIndex is the row name, row is a pd.Series of (column name : entry value)\n",
    "    for columnIndex, value in row.items(): #columnIndex is column name, value is the entry value\n",
    "        if value > 0.80: #If correlation is larger than threshold and row name and column name is not the same\n",
    "            if rowIndex != columnIndex: # We dont want pairs of themselves, eg A : [A]\n",
    "                correlation_pairs.setdefault(rowIndex, []) #Insert row name as key if it does not already exist. Make the value pairs an empty list.\n",
    "                correlation_pairs[rowIndex].append(columnIndex) #Append the column name as value to the key.\n",
    "\n",
    "# Since the correlation_pairs dict contains pairs of A : [B] and B : [A], we want to remove the second instance of the pair.\n",
    "correlation_pairs_cleaned = correlation_pairs.copy()\n",
    "for value in correlation_pairs_cleaned.values():\n",
    "    for key in correlation_pairs_cleaned.keys():\n",
    "        if value == key:\n",
    "            correlation_pairs_cleaned.pop(key)\n",
    "\n",
    "# With the cleaned correlation_pairs, we iterate through the consuming attributes dataframes columns, and prop it, if it exists as a value in the dict\n",
    "\n",
    "print(len(con_attributes.columns))\n",
    "columnstodrop = list(correlation_pairs_cleaned.values())\n",
    "for column in con_attributes.columns:\n",
    "    if [column] in columnstodrop: # We write [column] since columnstodrop is lists in a list.\n",
    "        con_attributes = con_attributes.drop([column], axis = 1)\n",
    "\n",
    "print(len(con_attributes.columns))\n",
    "con_attributes"
   ],
   "metadata": {
    "collapsed": false,
    "pycharm": {
     "name": "#%%\n",
     "is_executing": true
    }
   }
  },
  {
   "cell_type": "code",
   "execution_count": null,
   "outputs": [],
   "source": [
    "con_attributes = con_attributes.columns"
   ],
   "metadata": {
    "collapsed": false,
    "pycharm": {
     "name": "#%%\n",
     "is_executing": true
    }
   }
  },
  {
   "cell_type": "code",
   "execution_count": null,
   "outputs": [],
   "source": [
    "con_attributes = list(con_attributes)\n",
    "con_attributes"
   ],
   "metadata": {
    "collapsed": false,
    "pycharm": {
     "name": "#%%\n",
     "is_executing": true
    }
   }
  },
  {
   "cell_type": "markdown",
   "source": [
    "# Create DataFrame containing only Generating and Consuming attributes"
   ],
   "metadata": {
    "collapsed": false
   }
  },
  {
   "cell_type": "code",
   "execution_count": null,
   "outputs": [],
   "source": [
    "energy_attributes = [\"Timestamp\"] + gen_attributes + con_attributes\n",
    "energy_data = year_2[energy_attributes]"
   ],
   "metadata": {
    "collapsed": false,
    "pycharm": {
     "name": "#%%\n",
     "is_executing": true
    }
   }
  },
  {
   "cell_type": "markdown",
   "source": [
    "## Aggregate to mean values per hour to get Wh"
   ],
   "metadata": {
    "collapsed": false
   }
  },
  {
   "cell_type": "code",
   "execution_count": null,
   "outputs": [],
   "source": [
    "# energy_data = energy_data.resample(\"H\").mean()\n",
    "# energy_data\n",
    "\n",
    "# (energy_data[\"Load_RefrigeratorPowerWithStandby\"].sum() + energy_data[\"Elec_PowerHeatLoadforRefrigerator\"].sum())/1000"
   ],
   "metadata": {
    "collapsed": false,
    "pycharm": {
     "name": "#%%\n",
     "is_executing": true
    }
   }
  },
  {
   "cell_type": "markdown",
   "source": [
    "### Create new attributes \"Sum Generated\", \"Sum Consumed\", and \"Net Energy\""
   ],
   "metadata": {
    "collapsed": false
   }
  },
  {
   "cell_type": "code",
   "execution_count": null,
   "outputs": [],
   "source": [
    "total_generated = energy_data[gen_attributes].sum().sum()\n",
    "total_consumed = energy_data[con_attributes].sum().sum()\n",
    "print(total_generated * (1/60) , total_consumed * (1/60), (total_generated - total_consumed) * (1/60))"
   ],
   "metadata": {
    "collapsed": false,
    "pycharm": {
     "name": "#%%\n",
     "is_executing": true
    }
   }
  },
  {
   "cell_type": "code",
   "execution_count": null,
   "outputs": [],
   "source": [
    "energy_data[\"Sum Generating\"] = (energy_data[gen_attributes].sum(axis=1) * (1/60) ) / 1000\n",
    "energy_data[\"Sum Consuming\"] = (energy_data[con_attributes].sum(axis=1) * (1/60) ) / 1000\n",
    "energy_data[\"Net Energy\"] = energy_data[\"Sum Generating\"] - energy_data[\"Sum Consuming\"]\n",
    "energy_data[\"Surplus\"] = energy_data[\"Net Energy\"] > 0\n",
    "energy_data"
   ],
   "metadata": {
    "collapsed": false,
    "pycharm": {
     "name": "#%%\n",
     "is_executing": true
    }
   }
  },
  {
   "cell_type": "code",
   "execution_count": null,
   "outputs": [],
   "source": [
    "energy_data[\"Timestamp\"] = pd.to_datetime(energy_data[\"Timestamp\"], utc=True)\n",
    "energy_data.index = energy_data[\"Timestamp\"]\n",
    "energy_data_monthly = energy_data.resample('M', on='Timestamp').sum()\n",
    "energy_data_monthly['Month'] = energy_data_monthly.index.month_name()\n",
    "energy_data_monthly"
   ],
   "metadata": {
    "collapsed": false,
    "pycharm": {
     "name": "#%%\n",
     "is_executing": true
    }
   }
  },
  {
   "cell_type": "markdown",
   "source": [
    "# Plotting consuming attributes"
   ],
   "metadata": {
    "collapsed": false
   }
  },
  {
   "cell_type": "code",
   "execution_count": null,
   "outputs": [],
   "source": [
    "fig = px.bar(data_frame=energy_data,\n",
    "             x=energy_data.index,\n",
    "             y=\"Sum Consuming\")\n",
    "fig.update_xaxes(range=[\"2015-03-13\", \"2015-03-23\"])\n",
    "fig.show()"
   ],
   "metadata": {
    "collapsed": false,
    "pycharm": {
     "name": "#%%\n",
     "is_executing": true
    }
   }
  },
  {
   "cell_type": "code",
   "execution_count": null,
   "outputs": [],
   "source": [
    "fig = px.bar(data_frame=energy_data_monthly,\n",
    "             x=\"Month\",\n",
    "             y=\"Sum Consuming\")\n",
    "fig.show()"
   ],
   "metadata": {
    "collapsed": false,
    "pycharm": {
     "name": "#%%\n",
     "is_executing": true
    }
   }
  },
  {
   "cell_type": "markdown",
   "source": [
    "## Plotting generating attributes"
   ],
   "metadata": {
    "collapsed": false
   }
  },
  {
   "cell_type": "code",
   "execution_count": null,
   "outputs": [],
   "source": [
    "fig = px.bar(data_frame=energy_data,\n",
    "             x=\"Timestamp\",\n",
    "             y=\"Sum Generating\",\n",
    "             color=\"Surplus\",\n",
    "             color_discrete_sequence=[\"darkgreen\"])\n",
    "fig.update_xaxes(range=[\"2015-03-13\", \"2015-03-23\"])\n",
    "fig.show()"
   ],
   "metadata": {
    "collapsed": false,
    "pycharm": {
     "name": "#%%\n",
     "is_executing": true
    }
   }
  },
  {
   "cell_type": "code",
   "execution_count": null,
   "outputs": [],
   "source": [
    "fig = px.bar(data_frame=energy_data_monthly,\n",
    "             x=\"Month\",\n",
    "             y=\"Sum Generating\")\n",
    "fig.show()"
   ],
   "metadata": {
    "collapsed": false,
    "pycharm": {
     "name": "#%%\n",
     "is_executing": true
    }
   }
  },
  {
   "cell_type": "markdown",
   "source": [
    "## Plotting Net Energy"
   ],
   "metadata": {
    "collapsed": false
   }
  },
  {
   "cell_type": "code",
   "execution_count": null,
   "outputs": [],
   "source": [
    "fig = px.bar(data_frame=energy_data,\n",
    "             x=\"Timestamp\",\n",
    "             y=\"Net Energy\",\n",
    "             color=\"Surplus\",\n",
    "             color_discrete_sequence=[\"darkred\", \"darkgreen\"])\n",
    "fig.update_xaxes(range=[\"2015-03-13\", \"2015-03-23\"])\n",
    "fig.show()"
   ],
   "metadata": {
    "collapsed": false,
    "pycharm": {
     "name": "#%%\n",
     "is_executing": true
    }
   }
  },
  {
   "cell_type": "code",
   "execution_count": null,
   "outputs": [],
   "source": [
    "fig = px.bar(data_frame=energy_data_monthly,\n",
    "             x=\"Month\",\n",
    "             y=\"Net Energy\")\n",
    "fig.show()"
   ],
   "metadata": {
    "collapsed": false,
    "pycharm": {
     "name": "#%%\n",
     "is_executing": true
    }
   }
  }
 ],
 "metadata": {
  "kernelspec": {
   "display_name": "Python 3",
   "language": "python",
   "name": "python3"
  },
  "language_info": {
   "codemirror_mode": {
    "name": "ipython",
    "version": 2
   },
   "file_extension": ".py",
   "mimetype": "text/x-python",
   "name": "python",
   "nbconvert_exporter": "python",
   "pygments_lexer": "ipython2",
   "version": "2.7.6"
  }
 },
 "nbformat": 4,
 "nbformat_minor": 0
}