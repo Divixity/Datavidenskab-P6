{
 "cells": [
  {
   "cell_type": "markdown",
   "source": [
    "# Investigate Net Energy Production\n",
    "## Load packages and data"
   ],
   "metadata": {
    "collapsed": false
   }
  },
  {
   "cell_type": "code",
   "execution_count": 2,
   "metadata": {
    "collapsed": true
   },
   "outputs": [
    {
     "ename": "KeyError",
     "evalue": "('PV_Watts3PhTotalW3PhT1', 'PV_Watts3PhTotalW3PhT2', 'PV_PVSystem1ACPowerOSPACPV1OS', 'PV_PVSystem2ACPowerOSPACPV2OS', 'Elec_PowerPV1of2', 'Elec_PowerPV2of2')",
     "output_type": "error",
     "traceback": [
      "\u001B[1;31m---------------------------------------------------------------------------\u001B[0m",
      "\u001B[1;31mKeyError\u001B[0m                                  Traceback (most recent call last)",
      "File \u001B[1;32m~\\AppData\\Roaming\\Python\\Python39\\site-packages\\pandas\\core\\indexes\\base.py:3361\u001B[0m, in \u001B[0;36mIndex.get_loc\u001B[1;34m(self, key, method, tolerance)\u001B[0m\n\u001B[0;32m   3360\u001B[0m \u001B[38;5;28;01mtry\u001B[39;00m:\n\u001B[1;32m-> 3361\u001B[0m     \u001B[38;5;28;01mreturn\u001B[39;00m \u001B[38;5;28;43mself\u001B[39;49m\u001B[38;5;241;43m.\u001B[39;49m\u001B[43m_engine\u001B[49m\u001B[38;5;241;43m.\u001B[39;49m\u001B[43mget_loc\u001B[49m\u001B[43m(\u001B[49m\u001B[43mcasted_key\u001B[49m\u001B[43m)\u001B[49m\n\u001B[0;32m   3362\u001B[0m \u001B[38;5;28;01mexcept\u001B[39;00m \u001B[38;5;167;01mKeyError\u001B[39;00m \u001B[38;5;28;01mas\u001B[39;00m err:\n",
      "File \u001B[1;32m~\\AppData\\Roaming\\Python\\Python39\\site-packages\\pandas\\_libs\\index.pyx:76\u001B[0m, in \u001B[0;36mpandas._libs.index.IndexEngine.get_loc\u001B[1;34m()\u001B[0m\n",
      "File \u001B[1;32m~\\AppData\\Roaming\\Python\\Python39\\site-packages\\pandas\\_libs\\index.pyx:108\u001B[0m, in \u001B[0;36mpandas._libs.index.IndexEngine.get_loc\u001B[1;34m()\u001B[0m\n",
      "File \u001B[1;32mpandas\\_libs\\hashtable_class_helper.pxi:5198\u001B[0m, in \u001B[0;36mpandas._libs.hashtable.PyObjectHashTable.get_item\u001B[1;34m()\u001B[0m\n",
      "File \u001B[1;32mpandas\\_libs\\hashtable_class_helper.pxi:5206\u001B[0m, in \u001B[0;36mpandas._libs.hashtable.PyObjectHashTable.get_item\u001B[1;34m()\u001B[0m\n",
      "\u001B[1;31mKeyError\u001B[0m: ('PV_Watts3PhTotalW3PhT1', 'PV_Watts3PhTotalW3PhT2', 'PV_PVSystem1ACPowerOSPACPV1OS', 'PV_PVSystem2ACPowerOSPACPV2OS', 'Elec_PowerPV1of2', 'Elec_PowerPV2of2')",
      "\nThe above exception was the direct cause of the following exception:\n",
      "\u001B[1;31mKeyError\u001B[0m                                  Traceback (most recent call last)",
      "Input \u001B[1;32mIn [2]\u001B[0m, in \u001B[0;36m<module>\u001B[1;34m\u001B[0m\n\u001B[0;32m     14\u001B[0m metadata \u001B[38;5;241m=\u001B[39m retriever\u001B[38;5;241m.\u001B[39mget_data(\u001B[38;5;124m\"\u001B[39m\u001B[38;5;124mmetadata-year2.pkl\u001B[39m\u001B[38;5;124m\"\u001B[39m)\n\u001B[0;32m     15\u001B[0m metadata\u001B[38;5;241m.\u001B[39mrename(columns\u001B[38;5;241m=\u001B[39m{\u001B[38;5;124m\"\u001B[39m\u001B[38;5;124mUnnamed: 0\u001B[39m\u001B[38;5;124m\"\u001B[39m: \u001B[38;5;124m\"\u001B[39m\u001B[38;5;124mAttribute\u001B[39m\u001B[38;5;124m\"\u001B[39m}, inplace\u001B[38;5;241m=\u001B[39m\u001B[38;5;28;01mTrue\u001B[39;00m)\n\u001B[1;32m---> 17\u001B[0m year_2[\u001B[43myear_2\u001B[49m\u001B[43m[\u001B[49m\u001B[38;5;124;43m\"\u001B[39;49m\u001B[38;5;124;43mPV_Watts3PhTotalW3PhT1\u001B[39;49m\u001B[38;5;124;43m\"\u001B[39;49m\u001B[43m,\u001B[49m\u001B[43m \u001B[49m\u001B[38;5;124;43m\"\u001B[39;49m\u001B[38;5;124;43mPV_Watts3PhTotalW3PhT2\u001B[39;49m\u001B[38;5;124;43m\"\u001B[39;49m\u001B[43m,\u001B[49m\u001B[43m \u001B[49m\u001B[38;5;124;43m\"\u001B[39;49m\u001B[38;5;124;43mPV_PVSystem1ACPowerOSPACPV1OS\u001B[39;49m\u001B[38;5;124;43m\"\u001B[39;49m\u001B[43m,\u001B[49m\u001B[43m \u001B[49m\u001B[38;5;124;43m\"\u001B[39;49m\u001B[38;5;124;43mPV_PVSystem2ACPowerOSPACPV2OS\u001B[39;49m\u001B[38;5;124;43m\"\u001B[39;49m\u001B[43m,\u001B[49m\u001B[43m \u001B[49m\u001B[38;5;124;43m\"\u001B[39;49m\u001B[38;5;124;43mElec_PowerPV1of2\u001B[39;49m\u001B[38;5;124;43m\"\u001B[39;49m\u001B[43m,\u001B[49m\u001B[43m \u001B[49m\u001B[38;5;124;43m\"\u001B[39;49m\u001B[38;5;124;43mElec_PowerPV2of2\u001B[39;49m\u001B[38;5;124;43m\"\u001B[39;49m\u001B[43m]\u001B[49m \u001B[38;5;241m<\u001B[39m \u001B[38;5;241m0\u001B[39m] \u001B[38;5;241m=\u001B[39m \u001B[38;5;241m0\u001B[39m\n",
      "File \u001B[1;32m~\\AppData\\Roaming\\Python\\Python39\\site-packages\\pandas\\core\\frame.py:3458\u001B[0m, in \u001B[0;36mDataFrame.__getitem__\u001B[1;34m(self, key)\u001B[0m\n\u001B[0;32m   3456\u001B[0m \u001B[38;5;28;01mif\u001B[39;00m \u001B[38;5;28mself\u001B[39m\u001B[38;5;241m.\u001B[39mcolumns\u001B[38;5;241m.\u001B[39mnlevels \u001B[38;5;241m>\u001B[39m \u001B[38;5;241m1\u001B[39m:\n\u001B[0;32m   3457\u001B[0m     \u001B[38;5;28;01mreturn\u001B[39;00m \u001B[38;5;28mself\u001B[39m\u001B[38;5;241m.\u001B[39m_getitem_multilevel(key)\n\u001B[1;32m-> 3458\u001B[0m indexer \u001B[38;5;241m=\u001B[39m \u001B[38;5;28;43mself\u001B[39;49m\u001B[38;5;241;43m.\u001B[39;49m\u001B[43mcolumns\u001B[49m\u001B[38;5;241;43m.\u001B[39;49m\u001B[43mget_loc\u001B[49m\u001B[43m(\u001B[49m\u001B[43mkey\u001B[49m\u001B[43m)\u001B[49m\n\u001B[0;32m   3459\u001B[0m \u001B[38;5;28;01mif\u001B[39;00m is_integer(indexer):\n\u001B[0;32m   3460\u001B[0m     indexer \u001B[38;5;241m=\u001B[39m [indexer]\n",
      "File \u001B[1;32m~\\AppData\\Roaming\\Python\\Python39\\site-packages\\pandas\\core\\indexes\\base.py:3363\u001B[0m, in \u001B[0;36mIndex.get_loc\u001B[1;34m(self, key, method, tolerance)\u001B[0m\n\u001B[0;32m   3361\u001B[0m         \u001B[38;5;28;01mreturn\u001B[39;00m \u001B[38;5;28mself\u001B[39m\u001B[38;5;241m.\u001B[39m_engine\u001B[38;5;241m.\u001B[39mget_loc(casted_key)\n\u001B[0;32m   3362\u001B[0m     \u001B[38;5;28;01mexcept\u001B[39;00m \u001B[38;5;167;01mKeyError\u001B[39;00m \u001B[38;5;28;01mas\u001B[39;00m err:\n\u001B[1;32m-> 3363\u001B[0m         \u001B[38;5;28;01mraise\u001B[39;00m \u001B[38;5;167;01mKeyError\u001B[39;00m(key) \u001B[38;5;28;01mfrom\u001B[39;00m \u001B[38;5;21;01merr\u001B[39;00m\n\u001B[0;32m   3365\u001B[0m \u001B[38;5;28;01mif\u001B[39;00m is_scalar(key) \u001B[38;5;129;01mand\u001B[39;00m isna(key) \u001B[38;5;129;01mand\u001B[39;00m \u001B[38;5;129;01mnot\u001B[39;00m \u001B[38;5;28mself\u001B[39m\u001B[38;5;241m.\u001B[39mhasnans:\n\u001B[0;32m   3366\u001B[0m     \u001B[38;5;28;01mraise\u001B[39;00m \u001B[38;5;167;01mKeyError\u001B[39;00m(key)\n",
      "\u001B[1;31mKeyError\u001B[0m: ('PV_Watts3PhTotalW3PhT1', 'PV_Watts3PhTotalW3PhT2', 'PV_PVSystem1ACPowerOSPACPV1OS', 'PV_PVSystem2ACPowerOSPACPV2OS', 'Elec_PowerPV1of2', 'Elec_PowerPV2of2')"
     ]
    }
   ],
   "source": [
    "import DataRetriever as dr\n",
    "import pandas as pd\n",
    "import plotly.express as px\n",
    "\n",
    "retriever = dr.DataRetriever()\n",
    "\n",
    "year_2 = retriever.get_data(\"All-Subsystems-minute-Year2.pkl\")\n",
    "\n",
    "# Add timestamp converted to UTC as index to year_2\n",
    "# year_2[\"Timestamp UTC\"] = pd.to_datetime(year_2[\"Timestamp\"], utc=True, infer_datetime_format=True)\n",
    "# year_2.set_index(\"Timestamp UTC\", inplace=True)\n",
    "\n",
    "# Load the metadata\n",
    "metadata = retriever.get_data(\"metadata-year2.pkl\")\n",
    "metadata.rename(columns={\"Unnamed: 0\": \"Attribute\"}, inplace=True)\n",
    "\n",
    "year_2[year_2[\"PV_Watts3PhTotalW3PhT1\", \"PV_Watts3PhTotalW3PhT2\", \"PV_PVSystem1ACPowerOSPACPV1OS\", \"PV_PVSystem2ACPowerOSPACPV2OS\", \"Elec_PowerPV1of2\", \"Elec_PowerPV2of2\"] < 0] = 0\n",
    "\n",
    "print(\"Hej\")"
   ]
  },
  {
   "cell_type": "markdown",
   "source": [
    "## Determine which columns are generating and which are consuming\n",
    "### Generating Attributes"
   ],
   "metadata": {
    "collapsed": false
   }
  },
  {
   "cell_type": "code",
   "source": [
    "watt_attributes = metadata[metadata[\"Units\"] == \"W\"]\n",
    "print(watt_attributes)\n",
    "\n",
    "# Define generating attributes as attributes in W that have description \"Instantaneous power produced\"\n",
    "powerproduced_attributes = [description.startswith(\"Instantaneous power produced\") for description in watt_attributes[\"Description\"]]\n",
    "gen_attributes = watt_attributes[powerproduced_attributes]\n",
    "print(gen_attributes)\n",
    "gen_attributes = gen_attributes[\"Attribute\"].tolist()\n",
    "gen_attributes"
   ],
   "metadata": {
    "collapsed": false,
    "pycharm": {
     "name": "#%%\n"
    }
   },
   "execution_count": null,
   "outputs": []
  },
  {
   "cell_type": "markdown",
   "source": [
    "### Consuming Attributes"
   ],
   "metadata": {
    "collapsed": false
   }
  },
  {
   "cell_type": "code",
   "execution_count": null,
   "outputs": [],
   "source": [
    "# Define generating attributes as attributes in W that have description \"Instantaneous power produced\"\n",
    "not_powerproduced = [subsystem != \"PV\" for subsystem in watt_attributes[\"Subsystem\"]]\n",
    "con_attributes = watt_attributes[not_powerproduced]\n",
    "con_attributes = year_2[con_attributes[\"Attribute\"].tolist()]\n",
    "con_attributes"
   ],
   "metadata": {
    "collapsed": false,
    "pycharm": {
     "name": "#%%\n"
    }
   }
  },
  {
   "cell_type": "code",
   "execution_count": null,
   "outputs": [],
   "source": [
    "# Need to further filter the consuming attributes as some are duplicates and measure the same thing\n",
    "\n",
    "# We use the correlation between attributes to determine if they measure the same thing\n",
    "correlations_df = con_attributes.corr().abs()\n",
    "\n",
    "# Create a dict of key value pairs with high correlations.\n",
    "correlation_pairs = dict()\n",
    "for rowIndex, row in correlations_df.iterrows(): #RowIndex is the row name, row is a pd.Series of (column name : entry value)\n",
    "    for columnIndex, value in row.items(): #columnIndex is column name, value is the entry value\n",
    "        if value > 0.80: #If correlation is larger than threshold and row name and column name is not the same\n",
    "            if rowIndex != columnIndex: # We dont want pairs of themselves, eg A : [A]\n",
    "                correlation_pairs.setdefault(rowIndex, []) #Insert row name as key if it does not already exist. Make the value pairs an empty list.\n",
    "                correlation_pairs[rowIndex].append(columnIndex) #Append the column name as value to the key.\n",
    "\n",
    "# Since the correlation_pairs dict contains pairs of A : [B] and B : [A], we want to remove the second instance of the pair.\n",
    "correlation_pairs_cleaned = correlation_pairs.copy()\n",
    "for value in correlation_pairs_cleaned.values():\n",
    "    for key in correlation_pairs_cleaned.keys():\n",
    "        if value == key:\n",
    "            correlation_pairs_cleaned.pop(key)\n",
    "\n",
    "# With the cleaned correlation_pairs, we iterate through the consuming attributes dataframes columns, and prop it, if it exists as a value in the dict\n",
    "\n",
    "print(len(con_attributes.columns))\n",
    "columnstodrop = list(correlation_pairs_cleaned.values())\n",
    "for column in con_attributes.columns:\n",
    "    if [column] in columnstodrop: # We write [column] since columnstodrop is lists in a list.\n",
    "        con_attributes = con_attributes.drop([column], axis = 1)\n",
    "\n",
    "print(len(con_attributes.columns))\n",
    "con_attributes"
   ],
   "metadata": {
    "collapsed": false,
    "pycharm": {
     "name": "#%%\n"
    }
   }
  },
  {
   "cell_type": "code",
   "execution_count": null,
   "outputs": [],
   "source": [
    "con_attributes = con_attributes.columns"
   ],
   "metadata": {
    "collapsed": false,
    "pycharm": {
     "name": "#%%\n"
    }
   }
  },
  {
   "cell_type": "code",
   "execution_count": null,
   "outputs": [],
   "source": [
    "con_attributes = list(con_attributes)\n",
    "con_attributes"
   ],
   "metadata": {
    "collapsed": false,
    "pycharm": {
     "name": "#%%\n"
    }
   }
  },
  {
   "cell_type": "markdown",
   "source": [
    "# Create DataFrame containing only Generating and Consuming attributes"
   ],
   "metadata": {
    "collapsed": false
   }
  },
  {
   "cell_type": "code",
   "execution_count": null,
   "outputs": [],
   "source": [
    "energy_attributes = [\"Timestamp\"] + gen_attributes + con_attributes\n",
    "energy_data = year_2[energy_attributes]"
   ],
   "metadata": {
    "collapsed": false,
    "pycharm": {
     "name": "#%%\n"
    }
   }
  },
  {
   "cell_type": "markdown",
   "source": [
    "## Aggregate to mean values per hour to get Wh"
   ],
   "metadata": {
    "collapsed": false
   }
  },
  {
   "cell_type": "code",
   "execution_count": null,
   "outputs": [],
   "source": [
    "# energy_data = energy_data.resample(\"H\").mean()\n",
    "# energy_data\n",
    "\n",
    "# (energy_data[\"Load_RefrigeratorPowerWithStandby\"].sum() + energy_data[\"Elec_PowerHeatLoadforRefrigerator\"].sum())/1000"
   ],
   "metadata": {
    "collapsed": false,
    "pycharm": {
     "name": "#%%\n"
    }
   }
  },
  {
   "cell_type": "markdown",
   "source": [
    "### Create new attributes \"Sum Generated\", \"Sum Consumed\", and \"Net Energy\""
   ],
   "metadata": {
    "collapsed": false
   }
  },
  {
   "cell_type": "code",
   "execution_count": null,
   "outputs": [],
   "source": [
    "total_generated = energy_data[gen_attributes].sum().sum()\n",
    "total_consumed = energy_data[con_attributes].sum().sum()\n",
    "print(total_generated * (1/60) , total_consumed * (1/60), (total_generated - total_consumed) * (1/60))"
   ],
   "metadata": {
    "collapsed": false,
    "pycharm": {
     "name": "#%%\n"
    }
   }
  },
  {
   "cell_type": "code",
   "execution_count": null,
   "outputs": [],
   "source": [
    "energy_data[\"Sum Generating\"] = energy_data[gen_attributes].sum(axis=1)\n",
    "energy_data[\"Sum Consuming\"] = energy_data[con_attributes].sum(axis=1)\n",
    "energy_data[\"Net Energy\"] = energy_data[\"Sum Generating\"] - energy_data[\"Sum Consuming\"]\n",
    "energy_data[\"Surplus\"] = energy_data[\"Net Energy\"] > 0\n",
    "energy_data"
   ],
   "metadata": {
    "collapsed": false,
    "pycharm": {
     "name": "#%%\n"
    }
   }
  },
  {
   "cell_type": "markdown",
   "source": [
    "# Plotting consuming attributes"
   ],
   "metadata": {
    "collapsed": false
   }
  },
  {
   "cell_type": "code",
   "execution_count": null,
   "outputs": [],
   "source": [
    "# fig = px.bar(data_frame=energy_data,\n",
    "#              x=energy_data.index,\n",
    "#              y=\"Sum Consuming\")\n",
    "# fig.update_xaxes(range=[\"2015-03-13\", \"2015-03-23\"])\n",
    "# fig.show()"
   ],
   "metadata": {
    "collapsed": false,
    "pycharm": {
     "name": "#%%\n"
    }
   }
  },
  {
   "cell_type": "markdown",
   "source": [
    "## Plotting generating attributes"
   ],
   "metadata": {
    "collapsed": false
   }
  },
  {
   "cell_type": "code",
   "execution_count": null,
   "outputs": [],
   "source": [
    "fig = px.bar(data_frame=energy_data,\n",
    "             x=\"Timestamp\",\n",
    "             y=\"Sum Generating\",\n",
    "             color=\"Surplus\",\n",
    "             color_discrete_sequence=[\"darkgreen\"])\n",
    "fig.update_xaxes(range=[\"2015-03-13\", \"2015-03-23\"])\n",
    "fig.show()"
   ],
   "metadata": {
    "collapsed": false,
    "pycharm": {
     "name": "#%%\n"
    }
   }
  },
  {
   "cell_type": "markdown",
   "source": [
    "## Plotting Net Energy"
   ],
   "metadata": {
    "collapsed": false
   }
  },
  {
   "cell_type": "code",
   "execution_count": null,
   "outputs": [],
   "source": [
    "# fig = px.bar(data_frame=energy_data,\n",
    "#              x=\"Timestamp\",\n",
    "#              y=\"Net Energy\",\n",
    "#              color=\"Surplus\",\n",
    "#              color_discrete_sequence=[\"darkred\", \"darkgreen\"])\n",
    "# fig.update_xaxes(range=[\"2015-03-13\", \"2015-03-23\"])\n",
    "# fig.show()"
   ],
   "metadata": {
    "collapsed": false,
    "pycharm": {
     "name": "#%%\n"
    }
   }
  }
 ],
 "metadata": {
  "kernelspec": {
   "display_name": "Python 3",
   "language": "python",
   "name": "python3"
  },
  "language_info": {
   "codemirror_mode": {
    "name": "ipython",
    "version": 2
   },
   "file_extension": ".py",
   "mimetype": "text/x-python",
   "name": "python",
   "nbconvert_exporter": "python",
   "pygments_lexer": "ipython2",
   "version": "2.7.6"
  }
 },
 "nbformat": 4,
 "nbformat_minor": 0
}