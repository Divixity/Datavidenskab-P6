{
 "cells": [
  {
   "cell_type": "markdown",
   "metadata": {
    "collapsed": true,
    "pycharm": {
     "name": "#%% md\n"
    }
   },
   "source": [
    "# SARIMAX forecasting on PV"
   ]
  },
  {
   "cell_type": "markdown",
   "source": [
    "#### Import data"
   ],
   "metadata": {
    "collapsed": false,
    "pycharm": {
     "name": "#%% md\n"
    }
   }
  },
  {
   "cell_type": "code",
   "execution_count": 1,
   "outputs": [
    {
     "data": {
      "text/plain": "                              Timestamp  Load_LatentHeatWaterVolume  \\\nTimestamp                                                             \n2015-02-01 00:00:00 2015-02-01 00:00:00                    0.060105   \n2015-02-01 01:00:00 2015-02-01 01:00:00                    0.131439   \n2015-02-01 02:00:00 2015-02-01 02:00:00                    0.194187   \n2015-02-01 03:00:00 2015-02-01 03:00:00                    0.258256   \n2015-02-01 04:00:00 2015-02-01 04:00:00                    0.322324   \n...                                 ...                         ...   \n2016-01-31 19:00:00 2016-01-31 19:00:00                    1.472255   \n2016-01-31 20:00:00 2016-01-31 20:00:00                    1.546231   \n2016-01-31 21:00:00 2016-01-31 21:00:00                    1.617565   \n2016-01-31 22:00:00 2016-01-31 22:00:00                    1.688899   \n2016-01-31 23:00:00 2016-01-31 23:00:00                    1.763535   \n\n                     Load_RefrigeratorTemp  Load_StatusBA1Lights  \\\nTimestamp                                                          \n2015-02-01 00:00:00               4.957915                   0.0   \n2015-02-01 01:00:00               4.904702                   0.0   \n2015-02-01 02:00:00               5.054887                   0.0   \n2015-02-01 03:00:00               4.991525                   0.0   \n2015-02-01 04:00:00               5.040868                   0.0   \n...                                    ...                   ...   \n2016-01-31 19:00:00               4.810046                   0.0   \n2016-01-31 20:00:00               4.917617                   0.0   \n2016-01-31 21:00:00               4.820712                   0.0   \n2016-01-31 22:00:00               4.945030                   0.0   \n2016-01-31 23:00:00               4.826671                   0.0   \n\n                     Load_StatusKitchenLightsA  Load_StatusKitchenLightsB  \\\nTimestamp                                                                   \n2015-02-01 00:00:00                   0.000000                   0.000000   \n2015-02-01 01:00:00                   0.000000                   0.000000   \n2015-02-01 02:00:00                   0.000000                   0.000000   \n2015-02-01 03:00:00                   0.000000                   0.000000   \n2015-02-01 04:00:00                   0.000000                   0.000000   \n...                                        ...                        ...   \n2016-01-31 19:00:00                   0.750000                   0.750000   \n2016-01-31 20:00:00                   0.750000                   0.750000   \n2016-01-31 21:00:00                   1.000000                   1.000000   \n2016-01-31 22:00:00                   0.483333                   0.483333   \n2016-01-31 23:00:00                   0.000000                   0.000000   \n\n                     Load_StatusKitchenLightsC  Load_StatusDRLights  \\\nTimestamp                                                             \n2015-02-01 00:00:00                   0.000000             0.000000   \n2015-02-01 01:00:00                   0.000000             0.000000   \n2015-02-01 02:00:00                   0.000000             0.000000   \n2015-02-01 03:00:00                   0.000000             0.000000   \n2015-02-01 04:00:00                   0.000000             0.000000   \n...                                        ...                  ...   \n2016-01-31 19:00:00                   0.750000             0.766667   \n2016-01-31 20:00:00                   0.750000             0.483333   \n2016-01-31 21:00:00                   1.000000             0.000000   \n2016-01-31 22:00:00                   0.483333             0.000000   \n2016-01-31 23:00:00                   0.000000             0.000000   \n\n                     Load_StatusLRLights3  Load_StatusEntryHallLights  ...  \\\nTimestamp                                                              ...   \n2015-02-01 00:00:00              0.000000                         0.0  ...   \n2015-02-01 01:00:00              0.000000                         0.0  ...   \n2015-02-01 02:00:00              0.000000                         0.0  ...   \n2015-02-01 03:00:00              0.000000                         0.0  ...   \n2015-02-01 04:00:00              0.000000                         0.0  ...   \n...                                   ...                         ...  ...   \n2016-01-31 19:00:00              0.750000                         0.0  ...   \n2016-01-31 20:00:00              1.000000                         0.0  ...   \n2016-01-31 21:00:00              1.000000                         0.0  ...   \n2016-01-31 22:00:00              0.483333                         0.0  ...   \n2016-01-31 23:00:00              0.000000                         0.0  ...   \n\n                     SHW_GlycolFlowHXCoriolisSHW  SHW_WaterFlowHXCoriolisSHW  \\\nTimestamp                                                                      \n2015-02-01 00:00:00                          NaN                         NaN   \n2015-02-01 01:00:00                          NaN                         NaN   \n2015-02-01 02:00:00                          NaN                         NaN   \n2015-02-01 03:00:00                          NaN                         NaN   \n2015-02-01 04:00:00                          NaN                         NaN   \n...                                          ...                         ...   \n2016-01-31 19:00:00                   419.930636                  942.630328   \n2016-01-31 20:00:00                   419.930636                  942.630328   \n2016-01-31 21:00:00                   419.930636                  942.630328   \n2016-01-31 22:00:00                   419.930636                  942.630328   \n2016-01-31 23:00:00                   419.930636                  942.630328   \n\n                     SHW_GlycolFlowRateHXCoriolisSHW  \\\nTimestamp                                              \n2015-02-01 00:00:00                              NaN   \n2015-02-01 01:00:00                              NaN   \n2015-02-01 02:00:00                              NaN   \n2015-02-01 03:00:00                              NaN   \n2015-02-01 04:00:00                              NaN   \n...                                              ...   \n2016-01-31 19:00:00                         0.001339   \n2016-01-31 20:00:00                         0.001503   \n2016-01-31 21:00:00                         0.001470   \n2016-01-31 22:00:00                         0.000892   \n2016-01-31 23:00:00                         0.001529   \n\n                     SHW_WaterFlowRateHXCoriolisSHW  \\\nTimestamp                                             \n2015-02-01 00:00:00                             NaN   \n2015-02-01 01:00:00                             NaN   \n2015-02-01 02:00:00                             NaN   \n2015-02-01 03:00:00                             NaN   \n2015-02-01 04:00:00                             NaN   \n...                                             ...   \n2016-01-31 19:00:00                        0.000336   \n2016-01-31 20:00:00                        0.000385   \n2016-01-31 21:00:00                        0.000437   \n2016-01-31 22:00:00                        0.000428   \n2016-01-31 23:00:00                        0.000517   \n\n                     HVAC_HeatPumpIndoorUnitPower  \\\nTimestamp                                           \n2015-02-01 00:00:00                    175.449170   \n2015-02-01 01:00:00                    391.606267   \n2015-02-01 02:00:00                    388.484683   \n2015-02-01 03:00:00                    175.792833   \n2015-02-01 04:00:00                    371.120983   \n...                                           ...   \n2016-01-31 19:00:00                     11.229733   \n2016-01-31 20:00:00                     11.366567   \n2016-01-31 21:00:00                     11.448617   \n2016-01-31 22:00:00                     11.535333   \n2016-01-31 23:00:00                     11.353542   \n\n                     HVAC_HeatPumpOutdoorUnitPower  HVAC_DehumidifierPower  \\\nTimestamp                                                                    \n2015-02-01 00:00:00                    1045.817746                4.498593   \n2015-02-01 01:00:00                    1042.026917                4.442783   \n2015-02-01 02:00:00                    1023.145217                4.444083   \n2015-02-01 03:00:00                    1066.177350                4.467983   \n2015-02-01 04:00:00                    1081.112783                4.466550   \n...                                            ...                     ...   \n2016-01-31 19:00:00                      22.489150                4.243500   \n2016-01-31 20:00:00                      22.483300                4.275667   \n2016-01-31 21:00:00                      22.509617                4.297500   \n2016-01-31 22:00:00                      22.481850                4.327800   \n2016-01-31 23:00:00                      22.504983                4.326949   \n\n                     HVAC_DehumidifierInletAirTemp  \\\nTimestamp                                            \n2015-02-01 00:00:00                      72.228102   \n2015-02-01 01:00:00                      71.963450   \n2015-02-01 02:00:00                      71.921017   \n2015-02-01 03:00:00                      71.844683   \n2015-02-01 04:00:00                      71.959983   \n...                                            ...   \n2016-01-31 19:00:00                      67.764183   \n2016-01-31 20:00:00                      67.889300   \n2016-01-31 21:00:00                      67.785950   \n2016-01-31 22:00:00                      67.797883   \n2016-01-31 23:00:00                      67.656831   \n\n                     HVAC_DehumidifierExitAirTemp  HVAC_DehumidifierAirflow  \nTimestamp                                                                    \n2015-02-01 00:00:00                     74.959034                       0.0  \n2015-02-01 01:00:00                     73.979483                       0.0  \n2015-02-01 02:00:00                     73.818717                       0.0  \n2015-02-01 03:00:00                     74.535050                       0.0  \n2015-02-01 04:00:00                     74.741467                       0.0  \n...                                           ...                       ...  \n2016-01-31 19:00:00                     68.643883                       0.0  \n2016-01-31 20:00:00                     68.772900                       0.0  \n2016-01-31 21:00:00                     68.651417                       0.0  \n2016-01-31 22:00:00                     68.694500                       0.0  \n2016-01-31 23:00:00                     68.539610                       0.0  \n\n[8760 rows x 380 columns]",
      "text/html": "<div>\n<style scoped>\n    .dataframe tbody tr th:only-of-type {\n        vertical-align: middle;\n    }\n\n    .dataframe tbody tr th {\n        vertical-align: top;\n    }\n\n    .dataframe thead th {\n        text-align: right;\n    }\n</style>\n<table border=\"1\" class=\"dataframe\">\n  <thead>\n    <tr style=\"text-align: right;\">\n      <th></th>\n      <th>Timestamp</th>\n      <th>Load_LatentHeatWaterVolume</th>\n      <th>Load_RefrigeratorTemp</th>\n      <th>Load_StatusBA1Lights</th>\n      <th>Load_StatusKitchenLightsA</th>\n      <th>Load_StatusKitchenLightsB</th>\n      <th>Load_StatusKitchenLightsC</th>\n      <th>Load_StatusDRLights</th>\n      <th>Load_StatusLRLights3</th>\n      <th>Load_StatusEntryHallLights</th>\n      <th>...</th>\n      <th>SHW_GlycolFlowHXCoriolisSHW</th>\n      <th>SHW_WaterFlowHXCoriolisSHW</th>\n      <th>SHW_GlycolFlowRateHXCoriolisSHW</th>\n      <th>SHW_WaterFlowRateHXCoriolisSHW</th>\n      <th>HVAC_HeatPumpIndoorUnitPower</th>\n      <th>HVAC_HeatPumpOutdoorUnitPower</th>\n      <th>HVAC_DehumidifierPower</th>\n      <th>HVAC_DehumidifierInletAirTemp</th>\n      <th>HVAC_DehumidifierExitAirTemp</th>\n      <th>HVAC_DehumidifierAirflow</th>\n    </tr>\n    <tr>\n      <th>Timestamp</th>\n      <th></th>\n      <th></th>\n      <th></th>\n      <th></th>\n      <th></th>\n      <th></th>\n      <th></th>\n      <th></th>\n      <th></th>\n      <th></th>\n      <th></th>\n      <th></th>\n      <th></th>\n      <th></th>\n      <th></th>\n      <th></th>\n      <th></th>\n      <th></th>\n      <th></th>\n      <th></th>\n      <th></th>\n    </tr>\n  </thead>\n  <tbody>\n    <tr>\n      <th>2015-02-01 00:00:00</th>\n      <td>2015-02-01 00:00:00</td>\n      <td>0.060105</td>\n      <td>4.957915</td>\n      <td>0.0</td>\n      <td>0.000000</td>\n      <td>0.000000</td>\n      <td>0.000000</td>\n      <td>0.000000</td>\n      <td>0.000000</td>\n      <td>0.0</td>\n      <td>...</td>\n      <td>NaN</td>\n      <td>NaN</td>\n      <td>NaN</td>\n      <td>NaN</td>\n      <td>175.449170</td>\n      <td>1045.817746</td>\n      <td>4.498593</td>\n      <td>72.228102</td>\n      <td>74.959034</td>\n      <td>0.0</td>\n    </tr>\n    <tr>\n      <th>2015-02-01 01:00:00</th>\n      <td>2015-02-01 01:00:00</td>\n      <td>0.131439</td>\n      <td>4.904702</td>\n      <td>0.0</td>\n      <td>0.000000</td>\n      <td>0.000000</td>\n      <td>0.000000</td>\n      <td>0.000000</td>\n      <td>0.000000</td>\n      <td>0.0</td>\n      <td>...</td>\n      <td>NaN</td>\n      <td>NaN</td>\n      <td>NaN</td>\n      <td>NaN</td>\n      <td>391.606267</td>\n      <td>1042.026917</td>\n      <td>4.442783</td>\n      <td>71.963450</td>\n      <td>73.979483</td>\n      <td>0.0</td>\n    </tr>\n    <tr>\n      <th>2015-02-01 02:00:00</th>\n      <td>2015-02-01 02:00:00</td>\n      <td>0.194187</td>\n      <td>5.054887</td>\n      <td>0.0</td>\n      <td>0.000000</td>\n      <td>0.000000</td>\n      <td>0.000000</td>\n      <td>0.000000</td>\n      <td>0.000000</td>\n      <td>0.0</td>\n      <td>...</td>\n      <td>NaN</td>\n      <td>NaN</td>\n      <td>NaN</td>\n      <td>NaN</td>\n      <td>388.484683</td>\n      <td>1023.145217</td>\n      <td>4.444083</td>\n      <td>71.921017</td>\n      <td>73.818717</td>\n      <td>0.0</td>\n    </tr>\n    <tr>\n      <th>2015-02-01 03:00:00</th>\n      <td>2015-02-01 03:00:00</td>\n      <td>0.258256</td>\n      <td>4.991525</td>\n      <td>0.0</td>\n      <td>0.000000</td>\n      <td>0.000000</td>\n      <td>0.000000</td>\n      <td>0.000000</td>\n      <td>0.000000</td>\n      <td>0.0</td>\n      <td>...</td>\n      <td>NaN</td>\n      <td>NaN</td>\n      <td>NaN</td>\n      <td>NaN</td>\n      <td>175.792833</td>\n      <td>1066.177350</td>\n      <td>4.467983</td>\n      <td>71.844683</td>\n      <td>74.535050</td>\n      <td>0.0</td>\n    </tr>\n    <tr>\n      <th>2015-02-01 04:00:00</th>\n      <td>2015-02-01 04:00:00</td>\n      <td>0.322324</td>\n      <td>5.040868</td>\n      <td>0.0</td>\n      <td>0.000000</td>\n      <td>0.000000</td>\n      <td>0.000000</td>\n      <td>0.000000</td>\n      <td>0.000000</td>\n      <td>0.0</td>\n      <td>...</td>\n      <td>NaN</td>\n      <td>NaN</td>\n      <td>NaN</td>\n      <td>NaN</td>\n      <td>371.120983</td>\n      <td>1081.112783</td>\n      <td>4.466550</td>\n      <td>71.959983</td>\n      <td>74.741467</td>\n      <td>0.0</td>\n    </tr>\n    <tr>\n      <th>...</th>\n      <td>...</td>\n      <td>...</td>\n      <td>...</td>\n      <td>...</td>\n      <td>...</td>\n      <td>...</td>\n      <td>...</td>\n      <td>...</td>\n      <td>...</td>\n      <td>...</td>\n      <td>...</td>\n      <td>...</td>\n      <td>...</td>\n      <td>...</td>\n      <td>...</td>\n      <td>...</td>\n      <td>...</td>\n      <td>...</td>\n      <td>...</td>\n      <td>...</td>\n      <td>...</td>\n    </tr>\n    <tr>\n      <th>2016-01-31 19:00:00</th>\n      <td>2016-01-31 19:00:00</td>\n      <td>1.472255</td>\n      <td>4.810046</td>\n      <td>0.0</td>\n      <td>0.750000</td>\n      <td>0.750000</td>\n      <td>0.750000</td>\n      <td>0.766667</td>\n      <td>0.750000</td>\n      <td>0.0</td>\n      <td>...</td>\n      <td>419.930636</td>\n      <td>942.630328</td>\n      <td>0.001339</td>\n      <td>0.000336</td>\n      <td>11.229733</td>\n      <td>22.489150</td>\n      <td>4.243500</td>\n      <td>67.764183</td>\n      <td>68.643883</td>\n      <td>0.0</td>\n    </tr>\n    <tr>\n      <th>2016-01-31 20:00:00</th>\n      <td>2016-01-31 20:00:00</td>\n      <td>1.546231</td>\n      <td>4.917617</td>\n      <td>0.0</td>\n      <td>0.750000</td>\n      <td>0.750000</td>\n      <td>0.750000</td>\n      <td>0.483333</td>\n      <td>1.000000</td>\n      <td>0.0</td>\n      <td>...</td>\n      <td>419.930636</td>\n      <td>942.630328</td>\n      <td>0.001503</td>\n      <td>0.000385</td>\n      <td>11.366567</td>\n      <td>22.483300</td>\n      <td>4.275667</td>\n      <td>67.889300</td>\n      <td>68.772900</td>\n      <td>0.0</td>\n    </tr>\n    <tr>\n      <th>2016-01-31 21:00:00</th>\n      <td>2016-01-31 21:00:00</td>\n      <td>1.617565</td>\n      <td>4.820712</td>\n      <td>0.0</td>\n      <td>1.000000</td>\n      <td>1.000000</td>\n      <td>1.000000</td>\n      <td>0.000000</td>\n      <td>1.000000</td>\n      <td>0.0</td>\n      <td>...</td>\n      <td>419.930636</td>\n      <td>942.630328</td>\n      <td>0.001470</td>\n      <td>0.000437</td>\n      <td>11.448617</td>\n      <td>22.509617</td>\n      <td>4.297500</td>\n      <td>67.785950</td>\n      <td>68.651417</td>\n      <td>0.0</td>\n    </tr>\n    <tr>\n      <th>2016-01-31 22:00:00</th>\n      <td>2016-01-31 22:00:00</td>\n      <td>1.688899</td>\n      <td>4.945030</td>\n      <td>0.0</td>\n      <td>0.483333</td>\n      <td>0.483333</td>\n      <td>0.483333</td>\n      <td>0.000000</td>\n      <td>0.483333</td>\n      <td>0.0</td>\n      <td>...</td>\n      <td>419.930636</td>\n      <td>942.630328</td>\n      <td>0.000892</td>\n      <td>0.000428</td>\n      <td>11.535333</td>\n      <td>22.481850</td>\n      <td>4.327800</td>\n      <td>67.797883</td>\n      <td>68.694500</td>\n      <td>0.0</td>\n    </tr>\n    <tr>\n      <th>2016-01-31 23:00:00</th>\n      <td>2016-01-31 23:00:00</td>\n      <td>1.763535</td>\n      <td>4.826671</td>\n      <td>0.0</td>\n      <td>0.000000</td>\n      <td>0.000000</td>\n      <td>0.000000</td>\n      <td>0.000000</td>\n      <td>0.000000</td>\n      <td>0.0</td>\n      <td>...</td>\n      <td>419.930636</td>\n      <td>942.630328</td>\n      <td>0.001529</td>\n      <td>0.000517</td>\n      <td>11.353542</td>\n      <td>22.504983</td>\n      <td>4.326949</td>\n      <td>67.656831</td>\n      <td>68.539610</td>\n      <td>0.0</td>\n    </tr>\n  </tbody>\n</table>\n<p>8760 rows × 380 columns</p>\n</div>"
     },
     "execution_count": 1,
     "metadata": {},
     "output_type": "execute_result"
    }
   ],
   "source": [
    "import warnings\n",
    "warnings.filterwarnings(\"ignore\")\n",
    "import pandas as pd\n",
    "\n",
    "import DataRetriever as dr\n",
    "\n",
    "retriever = dr.DataRetriever()\n",
    "year2 = retriever.get_data(\"All-Subsystems-hour-Year2.pkl\")\n",
    "year2"
   ],
   "metadata": {
    "collapsed": false,
    "pycharm": {
     "name": "#%%\n"
    }
   }
  },
  {
   "cell_type": "code",
   "execution_count": 2,
   "outputs": [],
   "source": [
    "PV_ATTRIBUTES = retriever.get_attributes(file_name='producing_attributes.pkl')\n",
    "\n",
    "gen_df = retriever.get_data(file_name='All-Subsystems-hour-Year2.pkl')[PV_ATTRIBUTES].sum(axis=1).clip(lower=0) / 1000\n",
    "gen_df = gen_df.rename(\"Generated Energy\", inplace=True).to_frame()"
   ],
   "metadata": {
    "collapsed": false,
    "pycharm": {
     "name": "#%%\n"
    }
   }
  },
  {
   "cell_type": "markdown",
   "source": [
    "#### Train, Validation and Test data"
   ],
   "metadata": {
    "collapsed": false,
    "pycharm": {
     "name": "#%% md\n"
    }
   }
  },
  {
   "cell_type": "code",
   "execution_count": 55,
   "outputs": [],
   "source": [
    "date =  pd.Timestamp(year=2016, month=1, day=17, hour=0, minute=0, second=0)\n",
    "validation_start, validation_end = date + pd.Timedelta(hours=1), date + pd.Timedelta(days=3)\n",
    "test_start, test_end = date + pd.Timedelta(days=3, hours=1), date + pd.Timedelta(days=6)\n",
    "\n",
    "train_df = gen_df[:date]\n",
    "validation_df = gen_df[validation_start: validation_end]\n",
    "test_df = gen_df[test_start: test_end]"
   ],
   "metadata": {
    "collapsed": false,
    "pycharm": {
     "name": "#%%\n"
    }
   }
  },
  {
   "cell_type": "markdown",
   "source": [
    "#### ARIMA"
   ],
   "metadata": {
    "collapsed": false,
    "pycharm": {
     "name": "#%% md\n"
    }
   }
  },
  {
   "cell_type": "code",
   "execution_count": 4,
   "outputs": [],
   "source": [
    "from statsmodels.tsa.statespace.sarimax import SARIMAX\n",
    "\n",
    "def arimamodel(*, training_data, trend='c', p, d, q, P=0, D=0, Q=0, m=0,):\n",
    "\n",
    "    model = SARIMAX(training_data, trend=trend, order=(p, d, q), seasonal_order=(P, D, Q, m))\n",
    "    fitted_model = model.fit(maxiter=15)\n",
    "\n",
    "    return fitted_model\n",
    "\n",
    "def arima_forecast(data, fitted_model, *, start_index, end_index):\n",
    "    df = data.copy()\n",
    "    df['Prediction'] = fitted_model.predict(start = start_index, end = end_index)\n",
    "\n",
    "    return df"
   ],
   "metadata": {
    "collapsed": false,
    "pycharm": {
     "name": "#%%\n"
    }
   }
  },
  {
   "cell_type": "code",
   "execution_count": 5,
   "outputs": [
    {
     "name": "stderr",
     "output_type": "stream",
     "text": [
      " This problem is unconstrained.\n"
     ]
    },
    {
     "name": "stdout",
     "output_type": "stream",
     "text": [
      "RUNNING THE L-BFGS-B CODE\n",
      "\n",
      "           * * *\n",
      "\n",
      "Machine precision = 2.220D-16\n",
      " N =            6     M =           10\n",
      "\n",
      "At X0         0 variables are exactly at the bounds\n",
      "\n",
      "At iterate    0    f=  1.20982D+00    |proj g|=  5.21012D-04\n",
      "\n",
      "At iterate    5    f=  1.20982D+00    |proj g|=  2.65161D-05\n",
      "\n",
      "           * * *\n",
      "\n",
      "Tit   = total number of iterations\n",
      "Tnf   = total number of function evaluations\n",
      "Tnint = total number of segments explored during Cauchy searches\n",
      "Skip  = number of BFGS updates skipped\n",
      "Nact  = number of active bounds at final generalized Cauchy point\n",
      "Projg = norm of the final projected gradient\n",
      "F     = final function value\n",
      "\n",
      "           * * *\n",
      "\n",
      "   N    Tit     Tnf  Tnint  Skip  Nact     Projg        F\n",
      "    6      5      8      1     0     0   2.652D-05   1.210D+00\n",
      "  F =   1.2098169949547373     \n",
      "\n",
      "CONVERGENCE: REL_REDUCTION_OF_F_<=_FACTR*EPSMCH             \n"
     ]
    },
    {
     "data": {
      "text/plain": "<class 'statsmodels.iolib.summary.Summary'>\n\"\"\"\n                               SARIMAX Results                                \n==============================================================================\nDep. Variable:       Generated Energy   No. Observations:                 8401\nModel:               SARIMAX(4, 0, 0)   Log Likelihood              -10163.673\nDate:                Tue, 17 May 2022   AIC                          20339.345\nTime:                        10:37:25   BIC                          20381.562\nSample:                    02-01-2015   HQIC                         20353.760\n                         - 01-17-2016                                         \nCovariance Type:                  opg                                         \n==============================================================================\n                 coef    std err          z      P>|z|      [0.025      0.975]\n------------------------------------------------------------------------------\nintercept      0.2718      0.019     13.964      0.000       0.234       0.310\nar.L1          1.2654      0.007    173.515      0.000       1.251       1.280\nar.L2         -0.2736      0.009    -31.027      0.000      -0.291      -0.256\nar.L3         -0.0090      0.011     -0.825      0.409      -0.030       0.012\nar.L4         -0.1511      0.008    -18.787      0.000      -0.167      -0.135\nsigma2         0.6580      0.006    110.405      0.000       0.646       0.670\n===================================================================================\nLjung-Box (L1) (Q):                   0.03   Jarque-Bera (JB):             33497.66\nProb(Q):                              0.86   Prob(JB):                         0.00\nHeteroskedasticity (H):               0.70   Skew:                             0.77\nProb(H) (two-sided):                  0.00   Kurtosis:                        12.66\n===================================================================================\n\nWarnings:\n[1] Covariance matrix calculated using the outer product of gradients (complex-step).\n\"\"\"",
      "text/html": "<table class=\"simpletable\">\n<caption>SARIMAX Results</caption>\n<tr>\n  <th>Dep. Variable:</th>   <td>Generated Energy</td> <th>  No. Observations:  </th>    <td>8401</td>   \n</tr>\n<tr>\n  <th>Model:</th>           <td>SARIMAX(4, 0, 0)</td> <th>  Log Likelihood     </th> <td>-10163.673</td>\n</tr>\n<tr>\n  <th>Date:</th>            <td>Tue, 17 May 2022</td> <th>  AIC                </th>  <td>20339.345</td>\n</tr>\n<tr>\n  <th>Time:</th>                <td>10:37:25</td>     <th>  BIC                </th>  <td>20381.562</td>\n</tr>\n<tr>\n  <th>Sample:</th>             <td>02-01-2015</td>    <th>  HQIC               </th>  <td>20353.760</td>\n</tr>\n<tr>\n  <th></th>                   <td>- 01-17-2016</td>   <th>                     </th>      <td> </td>    \n</tr>\n<tr>\n  <th>Covariance Type:</th>        <td>opg</td>       <th>                     </th>      <td> </td>    \n</tr>\n</table>\n<table class=\"simpletable\">\n<tr>\n      <td></td>         <th>coef</th>     <th>std err</th>      <th>z</th>      <th>P>|z|</th>  <th>[0.025</th>    <th>0.975]</th>  \n</tr>\n<tr>\n  <th>intercept</th> <td>    0.2718</td> <td>    0.019</td> <td>   13.964</td> <td> 0.000</td> <td>    0.234</td> <td>    0.310</td>\n</tr>\n<tr>\n  <th>ar.L1</th>     <td>    1.2654</td> <td>    0.007</td> <td>  173.515</td> <td> 0.000</td> <td>    1.251</td> <td>    1.280</td>\n</tr>\n<tr>\n  <th>ar.L2</th>     <td>   -0.2736</td> <td>    0.009</td> <td>  -31.027</td> <td> 0.000</td> <td>   -0.291</td> <td>   -0.256</td>\n</tr>\n<tr>\n  <th>ar.L3</th>     <td>   -0.0090</td> <td>    0.011</td> <td>   -0.825</td> <td> 0.409</td> <td>   -0.030</td> <td>    0.012</td>\n</tr>\n<tr>\n  <th>ar.L4</th>     <td>   -0.1511</td> <td>    0.008</td> <td>  -18.787</td> <td> 0.000</td> <td>   -0.167</td> <td>   -0.135</td>\n</tr>\n<tr>\n  <th>sigma2</th>    <td>    0.6580</td> <td>    0.006</td> <td>  110.405</td> <td> 0.000</td> <td>    0.646</td> <td>    0.670</td>\n</tr>\n</table>\n<table class=\"simpletable\">\n<tr>\n  <th>Ljung-Box (L1) (Q):</th>     <td>0.03</td> <th>  Jarque-Bera (JB):  </th> <td>33497.66</td>\n</tr>\n<tr>\n  <th>Prob(Q):</th>                <td>0.86</td> <th>  Prob(JB):          </th>   <td>0.00</td>  \n</tr>\n<tr>\n  <th>Heteroskedasticity (H):</th> <td>0.70</td> <th>  Skew:              </th>   <td>0.77</td>  \n</tr>\n<tr>\n  <th>Prob(H) (two-sided):</th>    <td>0.00</td> <th>  Kurtosis:          </th>   <td>12.66</td> \n</tr>\n</table><br/><br/>Warnings:<br/>[1] Covariance matrix calculated using the outer product of gradients (complex-step)."
     },
     "execution_count": 5,
     "metadata": {},
     "output_type": "execute_result"
    }
   ],
   "source": [
    "model1 = arimamodel(training_data=train_df['Generated Energy'], trend='c', p=4, d=0, q=0)\n",
    "model1.summary()"
   ],
   "metadata": {
    "collapsed": false,
    "pycharm": {
     "name": "#%%\n"
    }
   }
  },
  {
   "cell_type": "code",
   "execution_count": 6,
   "outputs": [
    {
     "data": {
      "text/plain": "2016-01-17 01:00:00    0.287292\n2016-01-17 02:00:00    0.627311\n2016-01-17 03:00:00    0.984047\n2016-01-17 04:00:00    1.340022\n2016-01-17 05:00:00    1.649223\n                         ...   \n2016-01-19 20:00:00    1.615892\n2016-01-19 21:00:00    1.615814\n2016-01-19 22:00:00    1.615708\n2016-01-19 23:00:00    1.615589\n2016-01-20 00:00:00    1.615474\nFreq: H, Name: predicted_mean, Length: 72, dtype: float64"
     },
     "execution_count": 6,
     "metadata": {},
     "output_type": "execute_result"
    }
   ],
   "source": [
    "y_pred = model1.predict(start=len(train_df), end=len(train_df) + len(validation_df) - 1)\n",
    "y_pred"
   ],
   "metadata": {
    "collapsed": false,
    "pycharm": {
     "name": "#%%\n"
    }
   }
  },
  {
   "cell_type": "code",
   "execution_count": 7,
   "outputs": [
    {
     "data": {
      "text/plain": "2.422413103935108"
     },
     "execution_count": 7,
     "metadata": {},
     "output_type": "execute_result"
    }
   ],
   "source": [
    "from sklearn.metrics import mean_squared_error\n",
    "\n",
    "model1_rmse = mean_squared_error(validation_df, y_pred, squared=False) #squared=False returns RMSE, True returns MSE\n",
    "model1_rmse"
   ],
   "metadata": {
    "collapsed": false,
    "pycharm": {
     "name": "#%%\n"
    }
   }
  },
  {
   "cell_type": "markdown",
   "source": [
    "## Seasonal ARIMA"
   ],
   "metadata": {
    "collapsed": false,
    "pycharm": {
     "name": "#%% md\n"
    }
   }
  },
  {
   "cell_type": "markdown",
   "source": [
    "## SARIMA(4, 0, 0, 2, 0, 0, 24) + SARIMA(4, 0, 0, 0, 1, 2, 24)"
   ],
   "metadata": {
    "collapsed": false,
    "pycharm": {
     "name": "#%% md\n"
    }
   }
  },
  {
   "cell_type": "code",
   "execution_count": 79,
   "outputs": [
    {
     "name": "stderr",
     "output_type": "stream",
     "text": [
      " This problem is unconstrained.\n"
     ]
    },
    {
     "name": "stdout",
     "output_type": "stream",
     "text": [
      "RUNNING THE L-BFGS-B CODE\n",
      "\n",
      "           * * *\n",
      "\n",
      "Machine precision = 2.220D-16\n",
      " N =            7     M =           10\n",
      "\n",
      "At X0         0 variables are exactly at the bounds\n",
      "\n",
      "At iterate    0    f=  1.13149D+00    |proj g|=  4.16429D-01\n",
      "\n",
      "At iterate    5    f=  1.06504D+00    |proj g|=  5.87239D-02\n",
      "\n",
      "At iterate   10    f=  1.04225D+00    |proj g|=  2.66927D-02\n"
     ]
    },
    {
     "ename": "KeyboardInterrupt",
     "evalue": "",
     "output_type": "error",
     "traceback": [
      "\u001B[0;31m---------------------------------------------------------------------------\u001B[0m",
      "\u001B[0;31mKeyboardInterrupt\u001B[0m                         Traceback (most recent call last)",
      "\u001B[0;32m/var/folders/nt/w3ctvjn94jn89w856x4xh8zc0000gn/T/ipykernel_91658/3246604383.py\u001B[0m in \u001B[0;36m<module>\u001B[0;34m\u001B[0m\n\u001B[1;32m      1\u001B[0m \u001B[0;31m#model2 = arimamodel(training_data=train_df['Generated Energy'], trend='n', p=4, d=0, q=0, P=2, D=0, Q=0, m=24)\u001B[0m\u001B[0;34m\u001B[0m\u001B[0;34m\u001B[0m\u001B[0m\n\u001B[0;32m----> 2\u001B[0;31m \u001B[0mmodel2_optimised\u001B[0m \u001B[0;34m=\u001B[0m \u001B[0marimamodel\u001B[0m\u001B[0;34m(\u001B[0m\u001B[0mtraining_data\u001B[0m\u001B[0;34m=\u001B[0m\u001B[0mtrain_df\u001B[0m\u001B[0;34m[\u001B[0m\u001B[0;34m'Generated Energy'\u001B[0m\u001B[0;34m]\u001B[0m\u001B[0;34m,\u001B[0m \u001B[0mtrend\u001B[0m\u001B[0;34m=\u001B[0m\u001B[0;34m'n'\u001B[0m\u001B[0;34m,\u001B[0m \u001B[0mp\u001B[0m\u001B[0;34m=\u001B[0m\u001B[0;36m4\u001B[0m\u001B[0;34m,\u001B[0m \u001B[0md\u001B[0m\u001B[0;34m=\u001B[0m\u001B[0;36m0\u001B[0m\u001B[0;34m,\u001B[0m \u001B[0mq\u001B[0m\u001B[0;34m=\u001B[0m\u001B[0;36m0\u001B[0m\u001B[0;34m,\u001B[0m \u001B[0mP\u001B[0m\u001B[0;34m=\u001B[0m\u001B[0;36m0\u001B[0m\u001B[0;34m,\u001B[0m \u001B[0mD\u001B[0m\u001B[0;34m=\u001B[0m\u001B[0;36m1\u001B[0m\u001B[0;34m,\u001B[0m \u001B[0mQ\u001B[0m\u001B[0;34m=\u001B[0m\u001B[0;36m2\u001B[0m\u001B[0;34m,\u001B[0m \u001B[0mm\u001B[0m\u001B[0;34m=\u001B[0m\u001B[0;36m24\u001B[0m\u001B[0;34m)\u001B[0m\u001B[0;34m\u001B[0m\u001B[0;34m\u001B[0m\u001B[0m\n\u001B[0m\u001B[1;32m      3\u001B[0m \u001B[0mprint\u001B[0m\u001B[0;34m(\u001B[0m\u001B[0mmodel2_optimised\u001B[0m\u001B[0;34m.\u001B[0m\u001B[0msummary\u001B[0m\u001B[0;34m(\u001B[0m\u001B[0;34m)\u001B[0m\u001B[0;34m)\u001B[0m\u001B[0;34m\u001B[0m\u001B[0;34m\u001B[0m\u001B[0m\n",
      "\u001B[0;32m/var/folders/nt/w3ctvjn94jn89w856x4xh8zc0000gn/T/ipykernel_91658/1146323715.py\u001B[0m in \u001B[0;36marimamodel\u001B[0;34m(training_data, trend, p, d, q, P, D, Q, m)\u001B[0m\n\u001B[1;32m      4\u001B[0m \u001B[0;34m\u001B[0m\u001B[0m\n\u001B[1;32m      5\u001B[0m     \u001B[0mmodel\u001B[0m \u001B[0;34m=\u001B[0m \u001B[0mSARIMAX\u001B[0m\u001B[0;34m(\u001B[0m\u001B[0mtraining_data\u001B[0m\u001B[0;34m,\u001B[0m \u001B[0mtrend\u001B[0m\u001B[0;34m=\u001B[0m\u001B[0mtrend\u001B[0m\u001B[0;34m,\u001B[0m \u001B[0morder\u001B[0m\u001B[0;34m=\u001B[0m\u001B[0;34m(\u001B[0m\u001B[0mp\u001B[0m\u001B[0;34m,\u001B[0m \u001B[0md\u001B[0m\u001B[0;34m,\u001B[0m \u001B[0mq\u001B[0m\u001B[0;34m)\u001B[0m\u001B[0;34m,\u001B[0m \u001B[0mseasonal_order\u001B[0m\u001B[0;34m=\u001B[0m\u001B[0;34m(\u001B[0m\u001B[0mP\u001B[0m\u001B[0;34m,\u001B[0m \u001B[0mD\u001B[0m\u001B[0;34m,\u001B[0m \u001B[0mQ\u001B[0m\u001B[0;34m,\u001B[0m \u001B[0mm\u001B[0m\u001B[0;34m)\u001B[0m\u001B[0;34m)\u001B[0m\u001B[0;34m\u001B[0m\u001B[0;34m\u001B[0m\u001B[0m\n\u001B[0;32m----> 6\u001B[0;31m     \u001B[0mfitted_model\u001B[0m \u001B[0;34m=\u001B[0m \u001B[0mmodel\u001B[0m\u001B[0;34m.\u001B[0m\u001B[0mfit\u001B[0m\u001B[0;34m(\u001B[0m\u001B[0mmaxiter\u001B[0m\u001B[0;34m=\u001B[0m\u001B[0;36m15\u001B[0m\u001B[0;34m)\u001B[0m\u001B[0;34m\u001B[0m\u001B[0;34m\u001B[0m\u001B[0m\n\u001B[0m\u001B[1;32m      7\u001B[0m \u001B[0;34m\u001B[0m\u001B[0m\n\u001B[1;32m      8\u001B[0m     \u001B[0;32mreturn\u001B[0m \u001B[0mfitted_model\u001B[0m\u001B[0;34m\u001B[0m\u001B[0;34m\u001B[0m\u001B[0m\n",
      "\u001B[0;32m~/miniforge3/lib/python3.9/site-packages/statsmodels/tsa/statespace/mlemodel.py\u001B[0m in \u001B[0;36mfit\u001B[0;34m(self, start_params, transformed, includes_fixed, cov_type, cov_kwds, method, maxiter, full_output, disp, callback, return_params, optim_score, optim_complex_step, optim_hessian, flags, low_memory, **kwargs)\u001B[0m\n\u001B[1;32m    702\u001B[0m                 \u001B[0mflags\u001B[0m\u001B[0;34m[\u001B[0m\u001B[0;34m'hessian_method'\u001B[0m\u001B[0;34m]\u001B[0m \u001B[0;34m=\u001B[0m \u001B[0moptim_hessian\u001B[0m\u001B[0;34m\u001B[0m\u001B[0;34m\u001B[0m\u001B[0m\n\u001B[1;32m    703\u001B[0m             \u001B[0mfargs\u001B[0m \u001B[0;34m=\u001B[0m \u001B[0;34m(\u001B[0m\u001B[0mflags\u001B[0m\u001B[0;34m,\u001B[0m\u001B[0;34m)\u001B[0m\u001B[0;34m\u001B[0m\u001B[0;34m\u001B[0m\u001B[0m\n\u001B[0;32m--> 704\u001B[0;31m             mlefit = super(MLEModel, self).fit(start_params, method=method,\n\u001B[0m\u001B[1;32m    705\u001B[0m                                                \u001B[0mfargs\u001B[0m\u001B[0;34m=\u001B[0m\u001B[0mfargs\u001B[0m\u001B[0;34m,\u001B[0m\u001B[0;34m\u001B[0m\u001B[0;34m\u001B[0m\u001B[0m\n\u001B[1;32m    706\u001B[0m                                                \u001B[0mmaxiter\u001B[0m\u001B[0;34m=\u001B[0m\u001B[0mmaxiter\u001B[0m\u001B[0;34m,\u001B[0m\u001B[0;34m\u001B[0m\u001B[0;34m\u001B[0m\u001B[0m\n",
      "\u001B[0;32m~/miniforge3/lib/python3.9/site-packages/statsmodels/base/model.py\u001B[0m in \u001B[0;36mfit\u001B[0;34m(self, start_params, method, maxiter, full_output, disp, fargs, callback, retall, skip_hessian, **kwargs)\u001B[0m\n\u001B[1;32m    561\u001B[0m \u001B[0;34m\u001B[0m\u001B[0m\n\u001B[1;32m    562\u001B[0m         \u001B[0moptimizer\u001B[0m \u001B[0;34m=\u001B[0m \u001B[0mOptimizer\u001B[0m\u001B[0;34m(\u001B[0m\u001B[0;34m)\u001B[0m\u001B[0;34m\u001B[0m\u001B[0;34m\u001B[0m\u001B[0m\n\u001B[0;32m--> 563\u001B[0;31m         xopt, retvals, optim_settings = optimizer._fit(f, score, start_params,\n\u001B[0m\u001B[1;32m    564\u001B[0m                                                        \u001B[0mfargs\u001B[0m\u001B[0;34m,\u001B[0m \u001B[0mkwargs\u001B[0m\u001B[0;34m,\u001B[0m\u001B[0;34m\u001B[0m\u001B[0;34m\u001B[0m\u001B[0m\n\u001B[1;32m    565\u001B[0m                                                        \u001B[0mhessian\u001B[0m\u001B[0;34m=\u001B[0m\u001B[0mhess\u001B[0m\u001B[0;34m,\u001B[0m\u001B[0;34m\u001B[0m\u001B[0;34m\u001B[0m\u001B[0m\n",
      "\u001B[0;32m~/miniforge3/lib/python3.9/site-packages/statsmodels/base/optimizer.py\u001B[0m in \u001B[0;36m_fit\u001B[0;34m(self, objective, gradient, start_params, fargs, kwargs, hessian, method, maxiter, full_output, disp, callback, retall)\u001B[0m\n\u001B[1;32m    239\u001B[0m \u001B[0;34m\u001B[0m\u001B[0m\n\u001B[1;32m    240\u001B[0m         \u001B[0mfunc\u001B[0m \u001B[0;34m=\u001B[0m \u001B[0mfit_funcs\u001B[0m\u001B[0;34m[\u001B[0m\u001B[0mmethod\u001B[0m\u001B[0;34m]\u001B[0m\u001B[0;34m\u001B[0m\u001B[0;34m\u001B[0m\u001B[0m\n\u001B[0;32m--> 241\u001B[0;31m         xopt, retvals = func(objective, gradient, start_params, fargs, kwargs,\n\u001B[0m\u001B[1;32m    242\u001B[0m                              \u001B[0mdisp\u001B[0m\u001B[0;34m=\u001B[0m\u001B[0mdisp\u001B[0m\u001B[0;34m,\u001B[0m \u001B[0mmaxiter\u001B[0m\u001B[0;34m=\u001B[0m\u001B[0mmaxiter\u001B[0m\u001B[0;34m,\u001B[0m \u001B[0mcallback\u001B[0m\u001B[0;34m=\u001B[0m\u001B[0mcallback\u001B[0m\u001B[0;34m,\u001B[0m\u001B[0;34m\u001B[0m\u001B[0;34m\u001B[0m\u001B[0m\n\u001B[1;32m    243\u001B[0m                              \u001B[0mretall\u001B[0m\u001B[0;34m=\u001B[0m\u001B[0mretall\u001B[0m\u001B[0;34m,\u001B[0m \u001B[0mfull_output\u001B[0m\u001B[0;34m=\u001B[0m\u001B[0mfull_output\u001B[0m\u001B[0;34m,\u001B[0m\u001B[0;34m\u001B[0m\u001B[0;34m\u001B[0m\u001B[0m\n",
      "\u001B[0;32m~/miniforge3/lib/python3.9/site-packages/statsmodels/base/optimizer.py\u001B[0m in \u001B[0;36m_fit_lbfgs\u001B[0;34m(f, score, start_params, fargs, kwargs, disp, maxiter, callback, retall, full_output, hess)\u001B[0m\n\u001B[1;32m    649\u001B[0m         \u001B[0mfunc\u001B[0m \u001B[0;34m=\u001B[0m \u001B[0mf\u001B[0m\u001B[0;34m\u001B[0m\u001B[0;34m\u001B[0m\u001B[0m\n\u001B[1;32m    650\u001B[0m \u001B[0;34m\u001B[0m\u001B[0m\n\u001B[0;32m--> 651\u001B[0;31m     retvals = optimize.fmin_l_bfgs_b(func, start_params, maxiter=maxiter,\n\u001B[0m\u001B[1;32m    652\u001B[0m                                      \u001B[0mcallback\u001B[0m\u001B[0;34m=\u001B[0m\u001B[0mcallback\u001B[0m\u001B[0;34m,\u001B[0m \u001B[0margs\u001B[0m\u001B[0;34m=\u001B[0m\u001B[0mfargs\u001B[0m\u001B[0;34m,\u001B[0m\u001B[0;34m\u001B[0m\u001B[0;34m\u001B[0m\u001B[0m\n\u001B[1;32m    653\u001B[0m                                      \u001B[0mbounds\u001B[0m\u001B[0;34m=\u001B[0m\u001B[0mbounds\u001B[0m\u001B[0;34m,\u001B[0m \u001B[0mdisp\u001B[0m\u001B[0;34m=\u001B[0m\u001B[0mdisp\u001B[0m\u001B[0;34m,\u001B[0m\u001B[0;34m\u001B[0m\u001B[0;34m\u001B[0m\u001B[0m\n",
      "\u001B[0;32m~/miniforge3/lib/python3.9/site-packages/scipy/optimize/lbfgsb.py\u001B[0m in \u001B[0;36mfmin_l_bfgs_b\u001B[0;34m(func, x0, fprime, args, approx_grad, bounds, m, factr, pgtol, epsilon, iprint, maxfun, maxiter, disp, callback, maxls)\u001B[0m\n\u001B[1;32m    195\u001B[0m             'maxls': maxls}\n\u001B[1;32m    196\u001B[0m \u001B[0;34m\u001B[0m\u001B[0m\n\u001B[0;32m--> 197\u001B[0;31m     res = _minimize_lbfgsb(fun, x0, args=args, jac=jac, bounds=bounds,\n\u001B[0m\u001B[1;32m    198\u001B[0m                            **opts)\n\u001B[1;32m    199\u001B[0m     d = {'grad': res['jac'],\n",
      "\u001B[0;32m~/miniforge3/lib/python3.9/site-packages/scipy/optimize/lbfgsb.py\u001B[0m in \u001B[0;36m_minimize_lbfgsb\u001B[0;34m(fun, x0, args, jac, bounds, disp, maxcor, ftol, gtol, eps, maxfun, maxiter, iprint, callback, maxls, finite_diff_rel_step, **unknown_options)\u001B[0m\n\u001B[1;32m    358\u001B[0m             \u001B[0;31m# until the completion of the current minimization iteration.\u001B[0m\u001B[0;34m\u001B[0m\u001B[0;34m\u001B[0m\u001B[0m\n\u001B[1;32m    359\u001B[0m             \u001B[0;31m# Overwrite f and g:\u001B[0m\u001B[0;34m\u001B[0m\u001B[0;34m\u001B[0m\u001B[0m\n\u001B[0;32m--> 360\u001B[0;31m             \u001B[0mf\u001B[0m\u001B[0;34m,\u001B[0m \u001B[0mg\u001B[0m \u001B[0;34m=\u001B[0m \u001B[0mfunc_and_grad\u001B[0m\u001B[0;34m(\u001B[0m\u001B[0mx\u001B[0m\u001B[0;34m)\u001B[0m\u001B[0;34m\u001B[0m\u001B[0;34m\u001B[0m\u001B[0m\n\u001B[0m\u001B[1;32m    361\u001B[0m         \u001B[0;32melif\u001B[0m \u001B[0mtask_str\u001B[0m\u001B[0;34m.\u001B[0m\u001B[0mstartswith\u001B[0m\u001B[0;34m(\u001B[0m\u001B[0;34mb'NEW_X'\u001B[0m\u001B[0;34m)\u001B[0m\u001B[0;34m:\u001B[0m\u001B[0;34m\u001B[0m\u001B[0;34m\u001B[0m\u001B[0m\n\u001B[1;32m    362\u001B[0m             \u001B[0;31m# new iteration\u001B[0m\u001B[0;34m\u001B[0m\u001B[0;34m\u001B[0m\u001B[0m\n",
      "\u001B[0;32m~/miniforge3/lib/python3.9/site-packages/scipy/optimize/_differentiable_functions.py\u001B[0m in \u001B[0;36mfun_and_grad\u001B[0;34m(self, x)\u001B[0m\n\u001B[1;32m    266\u001B[0m             \u001B[0mself\u001B[0m\u001B[0;34m.\u001B[0m\u001B[0m_update_x_impl\u001B[0m\u001B[0;34m(\u001B[0m\u001B[0mx\u001B[0m\u001B[0;34m)\u001B[0m\u001B[0;34m\u001B[0m\u001B[0;34m\u001B[0m\u001B[0m\n\u001B[1;32m    267\u001B[0m         \u001B[0mself\u001B[0m\u001B[0;34m.\u001B[0m\u001B[0m_update_fun\u001B[0m\u001B[0;34m(\u001B[0m\u001B[0;34m)\u001B[0m\u001B[0;34m\u001B[0m\u001B[0;34m\u001B[0m\u001B[0m\n\u001B[0;32m--> 268\u001B[0;31m         \u001B[0mself\u001B[0m\u001B[0;34m.\u001B[0m\u001B[0m_update_grad\u001B[0m\u001B[0;34m(\u001B[0m\u001B[0;34m)\u001B[0m\u001B[0;34m\u001B[0m\u001B[0;34m\u001B[0m\u001B[0m\n\u001B[0m\u001B[1;32m    269\u001B[0m         \u001B[0;32mreturn\u001B[0m \u001B[0mself\u001B[0m\u001B[0;34m.\u001B[0m\u001B[0mf\u001B[0m\u001B[0;34m,\u001B[0m \u001B[0mself\u001B[0m\u001B[0;34m.\u001B[0m\u001B[0mg\u001B[0m\u001B[0;34m\u001B[0m\u001B[0;34m\u001B[0m\u001B[0m\n\u001B[1;32m    270\u001B[0m \u001B[0;34m\u001B[0m\u001B[0m\n",
      "\u001B[0;32m~/miniforge3/lib/python3.9/site-packages/scipy/optimize/_differentiable_functions.py\u001B[0m in \u001B[0;36m_update_grad\u001B[0;34m(self)\u001B[0m\n\u001B[1;32m    236\u001B[0m     \u001B[0;32mdef\u001B[0m \u001B[0m_update_grad\u001B[0m\u001B[0;34m(\u001B[0m\u001B[0mself\u001B[0m\u001B[0;34m)\u001B[0m\u001B[0;34m:\u001B[0m\u001B[0;34m\u001B[0m\u001B[0;34m\u001B[0m\u001B[0m\n\u001B[1;32m    237\u001B[0m         \u001B[0;32mif\u001B[0m \u001B[0;32mnot\u001B[0m \u001B[0mself\u001B[0m\u001B[0;34m.\u001B[0m\u001B[0mg_updated\u001B[0m\u001B[0;34m:\u001B[0m\u001B[0;34m\u001B[0m\u001B[0;34m\u001B[0m\u001B[0m\n\u001B[0;32m--> 238\u001B[0;31m             \u001B[0mself\u001B[0m\u001B[0;34m.\u001B[0m\u001B[0m_update_grad_impl\u001B[0m\u001B[0;34m(\u001B[0m\u001B[0;34m)\u001B[0m\u001B[0;34m\u001B[0m\u001B[0;34m\u001B[0m\u001B[0m\n\u001B[0m\u001B[1;32m    239\u001B[0m             \u001B[0mself\u001B[0m\u001B[0;34m.\u001B[0m\u001B[0mg_updated\u001B[0m \u001B[0;34m=\u001B[0m \u001B[0;32mTrue\u001B[0m\u001B[0;34m\u001B[0m\u001B[0;34m\u001B[0m\u001B[0m\n\u001B[1;32m    240\u001B[0m \u001B[0;34m\u001B[0m\u001B[0m\n",
      "\u001B[0;32m~/miniforge3/lib/python3.9/site-packages/scipy/optimize/_differentiable_functions.py\u001B[0m in \u001B[0;36mupdate_grad\u001B[0;34m()\u001B[0m\n\u001B[1;32m    153\u001B[0m                 \u001B[0mself\u001B[0m\u001B[0;34m.\u001B[0m\u001B[0m_update_fun\u001B[0m\u001B[0;34m(\u001B[0m\u001B[0;34m)\u001B[0m\u001B[0;34m\u001B[0m\u001B[0;34m\u001B[0m\u001B[0m\n\u001B[1;32m    154\u001B[0m                 \u001B[0mself\u001B[0m\u001B[0;34m.\u001B[0m\u001B[0mngev\u001B[0m \u001B[0;34m+=\u001B[0m \u001B[0;36m1\u001B[0m\u001B[0;34m\u001B[0m\u001B[0;34m\u001B[0m\u001B[0m\n\u001B[0;32m--> 155\u001B[0;31m                 self.g = approx_derivative(fun_wrapped, self.x, f0=self.f,\n\u001B[0m\u001B[1;32m    156\u001B[0m                                            **finite_diff_options)\n\u001B[1;32m    157\u001B[0m \u001B[0;34m\u001B[0m\u001B[0m\n",
      "\u001B[0;32m~/miniforge3/lib/python3.9/site-packages/scipy/optimize/_numdiff.py\u001B[0m in \u001B[0;36mapprox_derivative\u001B[0;34m(fun, x0, method, rel_step, abs_step, f0, bounds, sparsity, as_linear_operator, args, kwargs)\u001B[0m\n\u001B[1;32m    484\u001B[0m \u001B[0;34m\u001B[0m\u001B[0m\n\u001B[1;32m    485\u001B[0m         \u001B[0;32mif\u001B[0m \u001B[0msparsity\u001B[0m \u001B[0;32mis\u001B[0m \u001B[0;32mNone\u001B[0m\u001B[0;34m:\u001B[0m\u001B[0;34m\u001B[0m\u001B[0;34m\u001B[0m\u001B[0m\n\u001B[0;32m--> 486\u001B[0;31m             return _dense_difference(fun_wrapped, x0, f0, h,\n\u001B[0m\u001B[1;32m    487\u001B[0m                                      use_one_sided, method)\n\u001B[1;32m    488\u001B[0m         \u001B[0;32melse\u001B[0m\u001B[0;34m:\u001B[0m\u001B[0;34m\u001B[0m\u001B[0;34m\u001B[0m\u001B[0m\n",
      "\u001B[0;32m~/miniforge3/lib/python3.9/site-packages/scipy/optimize/_numdiff.py\u001B[0m in \u001B[0;36m_dense_difference\u001B[0;34m(fun, x0, f0, h, use_one_sided, method)\u001B[0m\n\u001B[1;32m    555\u001B[0m             \u001B[0mx\u001B[0m \u001B[0;34m=\u001B[0m \u001B[0mx0\u001B[0m \u001B[0;34m+\u001B[0m \u001B[0mh_vecs\u001B[0m\u001B[0;34m[\u001B[0m\u001B[0mi\u001B[0m\u001B[0;34m]\u001B[0m\u001B[0;34m\u001B[0m\u001B[0;34m\u001B[0m\u001B[0m\n\u001B[1;32m    556\u001B[0m             \u001B[0mdx\u001B[0m \u001B[0;34m=\u001B[0m \u001B[0mx\u001B[0m\u001B[0;34m[\u001B[0m\u001B[0mi\u001B[0m\u001B[0;34m]\u001B[0m \u001B[0;34m-\u001B[0m \u001B[0mx0\u001B[0m\u001B[0;34m[\u001B[0m\u001B[0mi\u001B[0m\u001B[0;34m]\u001B[0m  \u001B[0;31m# Recompute dx as exactly representable number.\u001B[0m\u001B[0;34m\u001B[0m\u001B[0;34m\u001B[0m\u001B[0m\n\u001B[0;32m--> 557\u001B[0;31m             \u001B[0mdf\u001B[0m \u001B[0;34m=\u001B[0m \u001B[0mfun\u001B[0m\u001B[0;34m(\u001B[0m\u001B[0mx\u001B[0m\u001B[0;34m)\u001B[0m \u001B[0;34m-\u001B[0m \u001B[0mf0\u001B[0m\u001B[0;34m\u001B[0m\u001B[0;34m\u001B[0m\u001B[0m\n\u001B[0m\u001B[1;32m    558\u001B[0m         \u001B[0;32melif\u001B[0m \u001B[0mmethod\u001B[0m \u001B[0;34m==\u001B[0m \u001B[0;34m'3-point'\u001B[0m \u001B[0;32mand\u001B[0m \u001B[0muse_one_sided\u001B[0m\u001B[0;34m[\u001B[0m\u001B[0mi\u001B[0m\u001B[0;34m]\u001B[0m\u001B[0;34m:\u001B[0m\u001B[0;34m\u001B[0m\u001B[0;34m\u001B[0m\u001B[0m\n\u001B[1;32m    559\u001B[0m             \u001B[0mx1\u001B[0m \u001B[0;34m=\u001B[0m \u001B[0mx0\u001B[0m \u001B[0;34m+\u001B[0m \u001B[0mh_vecs\u001B[0m\u001B[0;34m[\u001B[0m\u001B[0mi\u001B[0m\u001B[0;34m]\u001B[0m\u001B[0;34m\u001B[0m\u001B[0;34m\u001B[0m\u001B[0m\n",
      "\u001B[0;32m~/miniforge3/lib/python3.9/site-packages/scipy/optimize/_numdiff.py\u001B[0m in \u001B[0;36mfun_wrapped\u001B[0;34m(x)\u001B[0m\n\u001B[1;32m    435\u001B[0m \u001B[0;34m\u001B[0m\u001B[0m\n\u001B[1;32m    436\u001B[0m     \u001B[0;32mdef\u001B[0m \u001B[0mfun_wrapped\u001B[0m\u001B[0;34m(\u001B[0m\u001B[0mx\u001B[0m\u001B[0;34m)\u001B[0m\u001B[0;34m:\u001B[0m\u001B[0;34m\u001B[0m\u001B[0;34m\u001B[0m\u001B[0m\n\u001B[0;32m--> 437\u001B[0;31m         \u001B[0mf\u001B[0m \u001B[0;34m=\u001B[0m \u001B[0mnp\u001B[0m\u001B[0;34m.\u001B[0m\u001B[0matleast_1d\u001B[0m\u001B[0;34m(\u001B[0m\u001B[0mfun\u001B[0m\u001B[0;34m(\u001B[0m\u001B[0mx\u001B[0m\u001B[0;34m,\u001B[0m \u001B[0;34m*\u001B[0m\u001B[0margs\u001B[0m\u001B[0;34m,\u001B[0m \u001B[0;34m**\u001B[0m\u001B[0mkwargs\u001B[0m\u001B[0;34m)\u001B[0m\u001B[0;34m)\u001B[0m\u001B[0;34m\u001B[0m\u001B[0;34m\u001B[0m\u001B[0m\n\u001B[0m\u001B[1;32m    438\u001B[0m         \u001B[0;32mif\u001B[0m \u001B[0mf\u001B[0m\u001B[0;34m.\u001B[0m\u001B[0mndim\u001B[0m \u001B[0;34m>\u001B[0m \u001B[0;36m1\u001B[0m\u001B[0;34m:\u001B[0m\u001B[0;34m\u001B[0m\u001B[0;34m\u001B[0m\u001B[0m\n\u001B[1;32m    439\u001B[0m             raise RuntimeError(\"`fun` return value has \"\n",
      "\u001B[0;32m~/miniforge3/lib/python3.9/site-packages/scipy/optimize/_differentiable_functions.py\u001B[0m in \u001B[0;36mfun_wrapped\u001B[0;34m(x)\u001B[0m\n\u001B[1;32m    132\u001B[0m             \u001B[0;31m# Overwriting results in undefined behaviour because\u001B[0m\u001B[0;34m\u001B[0m\u001B[0;34m\u001B[0m\u001B[0m\n\u001B[1;32m    133\u001B[0m             \u001B[0;31m# fun(self.x) will change self.x, with the two no longer linked.\u001B[0m\u001B[0;34m\u001B[0m\u001B[0;34m\u001B[0m\u001B[0m\n\u001B[0;32m--> 134\u001B[0;31m             \u001B[0;32mreturn\u001B[0m \u001B[0mfun\u001B[0m\u001B[0;34m(\u001B[0m\u001B[0mnp\u001B[0m\u001B[0;34m.\u001B[0m\u001B[0mcopy\u001B[0m\u001B[0;34m(\u001B[0m\u001B[0mx\u001B[0m\u001B[0;34m)\u001B[0m\u001B[0;34m,\u001B[0m \u001B[0;34m*\u001B[0m\u001B[0margs\u001B[0m\u001B[0;34m)\u001B[0m\u001B[0;34m\u001B[0m\u001B[0;34m\u001B[0m\u001B[0m\n\u001B[0m\u001B[1;32m    135\u001B[0m \u001B[0;34m\u001B[0m\u001B[0m\n\u001B[1;32m    136\u001B[0m         \u001B[0;32mdef\u001B[0m \u001B[0mupdate_fun\u001B[0m\u001B[0;34m(\u001B[0m\u001B[0;34m)\u001B[0m\u001B[0;34m:\u001B[0m\u001B[0;34m\u001B[0m\u001B[0;34m\u001B[0m\u001B[0m\n",
      "\u001B[0;32m~/miniforge3/lib/python3.9/site-packages/statsmodels/base/model.py\u001B[0m in \u001B[0;36mf\u001B[0;34m(params, *args)\u001B[0m\n\u001B[1;32m    529\u001B[0m \u001B[0;34m\u001B[0m\u001B[0m\n\u001B[1;32m    530\u001B[0m         \u001B[0;32mdef\u001B[0m \u001B[0mf\u001B[0m\u001B[0;34m(\u001B[0m\u001B[0mparams\u001B[0m\u001B[0;34m,\u001B[0m \u001B[0;34m*\u001B[0m\u001B[0margs\u001B[0m\u001B[0;34m)\u001B[0m\u001B[0;34m:\u001B[0m\u001B[0;34m\u001B[0m\u001B[0;34m\u001B[0m\u001B[0m\n\u001B[0;32m--> 531\u001B[0;31m             \u001B[0;32mreturn\u001B[0m \u001B[0;34m-\u001B[0m\u001B[0mself\u001B[0m\u001B[0;34m.\u001B[0m\u001B[0mloglike\u001B[0m\u001B[0;34m(\u001B[0m\u001B[0mparams\u001B[0m\u001B[0;34m,\u001B[0m \u001B[0;34m*\u001B[0m\u001B[0margs\u001B[0m\u001B[0;34m)\u001B[0m \u001B[0;34m/\u001B[0m \u001B[0mnobs\u001B[0m\u001B[0;34m\u001B[0m\u001B[0;34m\u001B[0m\u001B[0m\n\u001B[0m\u001B[1;32m    532\u001B[0m \u001B[0;34m\u001B[0m\u001B[0m\n\u001B[1;32m    533\u001B[0m         \u001B[0;32mif\u001B[0m \u001B[0mmethod\u001B[0m \u001B[0;34m==\u001B[0m \u001B[0;34m'newton'\u001B[0m\u001B[0;34m:\u001B[0m\u001B[0;34m\u001B[0m\u001B[0;34m\u001B[0m\u001B[0m\n",
      "\u001B[0;32m~/miniforge3/lib/python3.9/site-packages/statsmodels/tsa/statespace/mlemodel.py\u001B[0m in \u001B[0;36mloglike\u001B[0;34m(self, params, *args, **kwargs)\u001B[0m\n\u001B[1;32m    937\u001B[0m             \u001B[0mkwargs\u001B[0m\u001B[0;34m[\u001B[0m\u001B[0;34m'inversion_method'\u001B[0m\u001B[0;34m]\u001B[0m \u001B[0;34m=\u001B[0m \u001B[0mINVERT_UNIVARIATE\u001B[0m \u001B[0;34m|\u001B[0m \u001B[0mSOLVE_LU\u001B[0m\u001B[0;34m\u001B[0m\u001B[0;34m\u001B[0m\u001B[0m\n\u001B[1;32m    938\u001B[0m \u001B[0;34m\u001B[0m\u001B[0m\n\u001B[0;32m--> 939\u001B[0;31m         \u001B[0mloglike\u001B[0m \u001B[0;34m=\u001B[0m \u001B[0mself\u001B[0m\u001B[0;34m.\u001B[0m\u001B[0mssm\u001B[0m\u001B[0;34m.\u001B[0m\u001B[0mloglike\u001B[0m\u001B[0;34m(\u001B[0m\u001B[0mcomplex_step\u001B[0m\u001B[0;34m=\u001B[0m\u001B[0mcomplex_step\u001B[0m\u001B[0;34m,\u001B[0m \u001B[0;34m**\u001B[0m\u001B[0mkwargs\u001B[0m\u001B[0;34m)\u001B[0m\u001B[0;34m\u001B[0m\u001B[0;34m\u001B[0m\u001B[0m\n\u001B[0m\u001B[1;32m    940\u001B[0m \u001B[0;34m\u001B[0m\u001B[0m\n\u001B[1;32m    941\u001B[0m         \u001B[0;31m# Koopman, Shephard, and Doornik recommend maximizing the average\u001B[0m\u001B[0;34m\u001B[0m\u001B[0;34m\u001B[0m\u001B[0m\n",
      "\u001B[0;32m~/miniforge3/lib/python3.9/site-packages/statsmodels/tsa/statespace/kalman_filter.py\u001B[0m in \u001B[0;36mloglike\u001B[0;34m(self, **kwargs)\u001B[0m\n\u001B[1;32m    981\u001B[0m         kwargs.setdefault('conserve_memory',\n\u001B[1;32m    982\u001B[0m                           MEMORY_CONSERVE ^ MEMORY_NO_LIKELIHOOD)\n\u001B[0;32m--> 983\u001B[0;31m         \u001B[0mkfilter\u001B[0m \u001B[0;34m=\u001B[0m \u001B[0mself\u001B[0m\u001B[0;34m.\u001B[0m\u001B[0m_filter\u001B[0m\u001B[0;34m(\u001B[0m\u001B[0;34m**\u001B[0m\u001B[0mkwargs\u001B[0m\u001B[0;34m)\u001B[0m\u001B[0;34m\u001B[0m\u001B[0;34m\u001B[0m\u001B[0m\n\u001B[0m\u001B[1;32m    984\u001B[0m         loglikelihood_burn = kwargs.get('loglikelihood_burn',\n\u001B[1;32m    985\u001B[0m                                         self.loglikelihood_burn)\n",
      "\u001B[0;32m~/miniforge3/lib/python3.9/site-packages/statsmodels/tsa/statespace/kalman_filter.py\u001B[0m in \u001B[0;36m_filter\u001B[0;34m(self, filter_method, inversion_method, stability_method, conserve_memory, filter_timing, tolerance, loglikelihood_burn, complex_step)\u001B[0m\n\u001B[1;32m    904\u001B[0m \u001B[0;34m\u001B[0m\u001B[0m\n\u001B[1;32m    905\u001B[0m         \u001B[0;31m# Run the filter\u001B[0m\u001B[0;34m\u001B[0m\u001B[0;34m\u001B[0m\u001B[0m\n\u001B[0;32m--> 906\u001B[0;31m         \u001B[0mkfilter\u001B[0m\u001B[0;34m(\u001B[0m\u001B[0;34m)\u001B[0m\u001B[0;34m\u001B[0m\u001B[0;34m\u001B[0m\u001B[0m\n\u001B[0m\u001B[1;32m    907\u001B[0m \u001B[0;34m\u001B[0m\u001B[0m\n\u001B[1;32m    908\u001B[0m         \u001B[0;32mreturn\u001B[0m \u001B[0mkfilter\u001B[0m\u001B[0;34m\u001B[0m\u001B[0;34m\u001B[0m\u001B[0m\n",
      "\u001B[0;31mKeyboardInterrupt\u001B[0m: "
     ]
    }
   ],
   "source": [
    "#model2 = arimamodel(training_data=train_df['Generated Energy'], trend='n', p=4, d=0, q=0, P=2, D=0, Q=0, m=24)\n",
    "model2_optimised = arimamodel(training_data=train_df['Generated Energy'], trend='n', p=4, d=0, q=0, P=0, D=1, Q=2, m=24)\n",
    "model2_optimised.summary()"
   ],
   "metadata": {
    "collapsed": false,
    "pycharm": {
     "name": "#%%\n"
    }
   }
  },
  {
   "cell_type": "code",
   "execution_count": null,
   "outputs": [],
   "source": [
    "y_pred = model2_optimised.predict(start=len(train_df), end=len(train_df) + len(validation_df) - 1)\n",
    "y_pred"
   ],
   "metadata": {
    "collapsed": false,
    "pycharm": {
     "name": "#%%\n"
    }
   }
  },
  {
   "cell_type": "code",
   "execution_count": null,
   "outputs": [],
   "source": [
    "model2_rmse = mean_squared_error(validation_df, y_pred, squared=False) #squared=False returns RMSE, True returns MSE\n",
    "model2_rmse"
   ],
   "metadata": {
    "collapsed": false,
    "pycharm": {
     "name": "#%%\n"
    }
   }
  },
  {
   "cell_type": "markdown",
   "source": [
    "### SARIMAX(4, 0, 0, 0, 1, 2, 24)"
   ],
   "metadata": {
    "collapsed": false,
    "pycharm": {
     "name": "#%% md\n"
    }
   }
  },
  {
   "cell_type": "code",
   "execution_count": 18,
   "outputs": [
    {
     "data": {
      "text/plain": "      Hour_0  Hour_1  Hour_2  Hour_3  Hour_4  Hour_5  Hour_6  Hour_7  Hour_8  \\\n0        1.0     0.0     0.0     0.0     0.0     0.0     0.0     0.0     0.0   \n1        0.0     1.0     0.0     0.0     0.0     0.0     0.0     0.0     0.0   \n2        0.0     0.0     1.0     0.0     0.0     0.0     0.0     0.0     0.0   \n3        0.0     0.0     0.0     1.0     0.0     0.0     0.0     0.0     0.0   \n4        0.0     0.0     0.0     0.0     1.0     0.0     0.0     0.0     0.0   \n...      ...     ...     ...     ...     ...     ...     ...     ...     ...   \n8755     0.0     0.0     0.0     0.0     0.0     0.0     0.0     0.0     0.0   \n8756     0.0     0.0     0.0     0.0     0.0     0.0     0.0     0.0     0.0   \n8757     0.0     0.0     0.0     0.0     0.0     0.0     0.0     0.0     0.0   \n8758     0.0     0.0     0.0     0.0     0.0     0.0     0.0     0.0     0.0   \n8759     0.0     0.0     0.0     0.0     0.0     0.0     0.0     0.0     0.0   \n\n      Hour_9  ...  Hour_14  Hour_15  Hour_16  Hour_17  Hour_18  Hour_19  \\\n0        0.0  ...      0.0      0.0      0.0      0.0      0.0      0.0   \n1        0.0  ...      0.0      0.0      0.0      0.0      0.0      0.0   \n2        0.0  ...      0.0      0.0      0.0      0.0      0.0      0.0   \n3        0.0  ...      0.0      0.0      0.0      0.0      0.0      0.0   \n4        0.0  ...      0.0      0.0      0.0      0.0      0.0      0.0   \n...      ...  ...      ...      ...      ...      ...      ...      ...   \n8755     0.0  ...      0.0      0.0      0.0      0.0      0.0      1.0   \n8756     0.0  ...      0.0      0.0      0.0      0.0      0.0      0.0   \n8757     0.0  ...      0.0      0.0      0.0      0.0      0.0      0.0   \n8758     0.0  ...      0.0      0.0      0.0      0.0      0.0      0.0   \n8759     0.0  ...      0.0      0.0      0.0      0.0      0.0      0.0   \n\n      Hour_20  Hour_21  Hour_22  Hour_23  \n0         0.0      0.0      0.0      0.0  \n1         0.0      0.0      0.0      0.0  \n2         0.0      0.0      0.0      0.0  \n3         0.0      0.0      0.0      0.0  \n4         0.0      0.0      0.0      0.0  \n...       ...      ...      ...      ...  \n8755      0.0      0.0      0.0      0.0  \n8756      1.0      0.0      0.0      0.0  \n8757      0.0      1.0      0.0      0.0  \n8758      0.0      0.0      1.0      0.0  \n8759      0.0      0.0      0.0      1.0  \n\n[8760 rows x 24 columns]",
      "text/html": "<div>\n<style scoped>\n    .dataframe tbody tr th:only-of-type {\n        vertical-align: middle;\n    }\n\n    .dataframe tbody tr th {\n        vertical-align: top;\n    }\n\n    .dataframe thead th {\n        text-align: right;\n    }\n</style>\n<table border=\"1\" class=\"dataframe\">\n  <thead>\n    <tr style=\"text-align: right;\">\n      <th></th>\n      <th>Hour_0</th>\n      <th>Hour_1</th>\n      <th>Hour_2</th>\n      <th>Hour_3</th>\n      <th>Hour_4</th>\n      <th>Hour_5</th>\n      <th>Hour_6</th>\n      <th>Hour_7</th>\n      <th>Hour_8</th>\n      <th>Hour_9</th>\n      <th>...</th>\n      <th>Hour_14</th>\n      <th>Hour_15</th>\n      <th>Hour_16</th>\n      <th>Hour_17</th>\n      <th>Hour_18</th>\n      <th>Hour_19</th>\n      <th>Hour_20</th>\n      <th>Hour_21</th>\n      <th>Hour_22</th>\n      <th>Hour_23</th>\n    </tr>\n  </thead>\n  <tbody>\n    <tr>\n      <th>0</th>\n      <td>1.0</td>\n      <td>0.0</td>\n      <td>0.0</td>\n      <td>0.0</td>\n      <td>0.0</td>\n      <td>0.0</td>\n      <td>0.0</td>\n      <td>0.0</td>\n      <td>0.0</td>\n      <td>0.0</td>\n      <td>...</td>\n      <td>0.0</td>\n      <td>0.0</td>\n      <td>0.0</td>\n      <td>0.0</td>\n      <td>0.0</td>\n      <td>0.0</td>\n      <td>0.0</td>\n      <td>0.0</td>\n      <td>0.0</td>\n      <td>0.0</td>\n    </tr>\n    <tr>\n      <th>1</th>\n      <td>0.0</td>\n      <td>1.0</td>\n      <td>0.0</td>\n      <td>0.0</td>\n      <td>0.0</td>\n      <td>0.0</td>\n      <td>0.0</td>\n      <td>0.0</td>\n      <td>0.0</td>\n      <td>0.0</td>\n      <td>...</td>\n      <td>0.0</td>\n      <td>0.0</td>\n      <td>0.0</td>\n      <td>0.0</td>\n      <td>0.0</td>\n      <td>0.0</td>\n      <td>0.0</td>\n      <td>0.0</td>\n      <td>0.0</td>\n      <td>0.0</td>\n    </tr>\n    <tr>\n      <th>2</th>\n      <td>0.0</td>\n      <td>0.0</td>\n      <td>1.0</td>\n      <td>0.0</td>\n      <td>0.0</td>\n      <td>0.0</td>\n      <td>0.0</td>\n      <td>0.0</td>\n      <td>0.0</td>\n      <td>0.0</td>\n      <td>...</td>\n      <td>0.0</td>\n      <td>0.0</td>\n      <td>0.0</td>\n      <td>0.0</td>\n      <td>0.0</td>\n      <td>0.0</td>\n      <td>0.0</td>\n      <td>0.0</td>\n      <td>0.0</td>\n      <td>0.0</td>\n    </tr>\n    <tr>\n      <th>3</th>\n      <td>0.0</td>\n      <td>0.0</td>\n      <td>0.0</td>\n      <td>1.0</td>\n      <td>0.0</td>\n      <td>0.0</td>\n      <td>0.0</td>\n      <td>0.0</td>\n      <td>0.0</td>\n      <td>0.0</td>\n      <td>...</td>\n      <td>0.0</td>\n      <td>0.0</td>\n      <td>0.0</td>\n      <td>0.0</td>\n      <td>0.0</td>\n      <td>0.0</td>\n      <td>0.0</td>\n      <td>0.0</td>\n      <td>0.0</td>\n      <td>0.0</td>\n    </tr>\n    <tr>\n      <th>4</th>\n      <td>0.0</td>\n      <td>0.0</td>\n      <td>0.0</td>\n      <td>0.0</td>\n      <td>1.0</td>\n      <td>0.0</td>\n      <td>0.0</td>\n      <td>0.0</td>\n      <td>0.0</td>\n      <td>0.0</td>\n      <td>...</td>\n      <td>0.0</td>\n      <td>0.0</td>\n      <td>0.0</td>\n      <td>0.0</td>\n      <td>0.0</td>\n      <td>0.0</td>\n      <td>0.0</td>\n      <td>0.0</td>\n      <td>0.0</td>\n      <td>0.0</td>\n    </tr>\n    <tr>\n      <th>...</th>\n      <td>...</td>\n      <td>...</td>\n      <td>...</td>\n      <td>...</td>\n      <td>...</td>\n      <td>...</td>\n      <td>...</td>\n      <td>...</td>\n      <td>...</td>\n      <td>...</td>\n      <td>...</td>\n      <td>...</td>\n      <td>...</td>\n      <td>...</td>\n      <td>...</td>\n      <td>...</td>\n      <td>...</td>\n      <td>...</td>\n      <td>...</td>\n      <td>...</td>\n      <td>...</td>\n    </tr>\n    <tr>\n      <th>8755</th>\n      <td>0.0</td>\n      <td>0.0</td>\n      <td>0.0</td>\n      <td>0.0</td>\n      <td>0.0</td>\n      <td>0.0</td>\n      <td>0.0</td>\n      <td>0.0</td>\n      <td>0.0</td>\n      <td>0.0</td>\n      <td>...</td>\n      <td>0.0</td>\n      <td>0.0</td>\n      <td>0.0</td>\n      <td>0.0</td>\n      <td>0.0</td>\n      <td>1.0</td>\n      <td>0.0</td>\n      <td>0.0</td>\n      <td>0.0</td>\n      <td>0.0</td>\n    </tr>\n    <tr>\n      <th>8756</th>\n      <td>0.0</td>\n      <td>0.0</td>\n      <td>0.0</td>\n      <td>0.0</td>\n      <td>0.0</td>\n      <td>0.0</td>\n      <td>0.0</td>\n      <td>0.0</td>\n      <td>0.0</td>\n      <td>0.0</td>\n      <td>...</td>\n      <td>0.0</td>\n      <td>0.0</td>\n      <td>0.0</td>\n      <td>0.0</td>\n      <td>0.0</td>\n      <td>0.0</td>\n      <td>1.0</td>\n      <td>0.0</td>\n      <td>0.0</td>\n      <td>0.0</td>\n    </tr>\n    <tr>\n      <th>8757</th>\n      <td>0.0</td>\n      <td>0.0</td>\n      <td>0.0</td>\n      <td>0.0</td>\n      <td>0.0</td>\n      <td>0.0</td>\n      <td>0.0</td>\n      <td>0.0</td>\n      <td>0.0</td>\n      <td>0.0</td>\n      <td>...</td>\n      <td>0.0</td>\n      <td>0.0</td>\n      <td>0.0</td>\n      <td>0.0</td>\n      <td>0.0</td>\n      <td>0.0</td>\n      <td>0.0</td>\n      <td>1.0</td>\n      <td>0.0</td>\n      <td>0.0</td>\n    </tr>\n    <tr>\n      <th>8758</th>\n      <td>0.0</td>\n      <td>0.0</td>\n      <td>0.0</td>\n      <td>0.0</td>\n      <td>0.0</td>\n      <td>0.0</td>\n      <td>0.0</td>\n      <td>0.0</td>\n      <td>0.0</td>\n      <td>0.0</td>\n      <td>...</td>\n      <td>0.0</td>\n      <td>0.0</td>\n      <td>0.0</td>\n      <td>0.0</td>\n      <td>0.0</td>\n      <td>0.0</td>\n      <td>0.0</td>\n      <td>0.0</td>\n      <td>1.0</td>\n      <td>0.0</td>\n    </tr>\n    <tr>\n      <th>8759</th>\n      <td>0.0</td>\n      <td>0.0</td>\n      <td>0.0</td>\n      <td>0.0</td>\n      <td>0.0</td>\n      <td>0.0</td>\n      <td>0.0</td>\n      <td>0.0</td>\n      <td>0.0</td>\n      <td>0.0</td>\n      <td>...</td>\n      <td>0.0</td>\n      <td>0.0</td>\n      <td>0.0</td>\n      <td>0.0</td>\n      <td>0.0</td>\n      <td>0.0</td>\n      <td>0.0</td>\n      <td>0.0</td>\n      <td>0.0</td>\n      <td>1.0</td>\n    </tr>\n  </tbody>\n</table>\n<p>8760 rows × 24 columns</p>\n</div>"
     },
     "execution_count": 18,
     "metadata": {},
     "output_type": "execute_result"
    }
   ],
   "source": [
    "from sklearn.preprocessing import OneHotEncoder\n",
    "\n",
    "gen_df[\"Hour\"] = gen_df.index.hour\n",
    "\n",
    "ohe = OneHotEncoder(sparse=False)\n",
    "hot_np = ohe.fit_transform(gen_df[[\"Hour\"]])\n",
    "hot = pd.DataFrame(data=hot_np, columns=ohe.get_feature_names_out())\n",
    "hot"
   ],
   "metadata": {
    "collapsed": false,
    "pycharm": {
     "name": "#%%\n"
    }
   }
  },
  {
   "cell_type": "code",
   "execution_count": 17,
   "outputs": [
    {
     "data": {
      "text/plain": "               Timestamp  Generated Energy\n0    2015-02-01 00:00:00          0.018496\n1    2015-02-01 01:00:00          0.018332\n2    2015-02-01 02:00:00          0.018385\n3    2015-02-01 03:00:00          0.018502\n4    2015-02-01 04:00:00          0.018524\n...                  ...               ...\n8540 2016-01-22 20:00:00          0.018398\n8541 2016-01-22 21:00:00          0.018487\n8542 2016-01-22 22:00:00          0.018362\n8543 2016-01-22 23:00:00          0.018211\n8544 2016-01-23 00:00:00          0.018401\n\n[8545 rows x 2 columns]",
      "text/html": "<div>\n<style scoped>\n    .dataframe tbody tr th:only-of-type {\n        vertical-align: middle;\n    }\n\n    .dataframe tbody tr th {\n        vertical-align: top;\n    }\n\n    .dataframe thead th {\n        text-align: right;\n    }\n</style>\n<table border=\"1\" class=\"dataframe\">\n  <thead>\n    <tr style=\"text-align: right;\">\n      <th></th>\n      <th>Timestamp</th>\n      <th>Generated Energy</th>\n    </tr>\n  </thead>\n  <tbody>\n    <tr>\n      <th>0</th>\n      <td>2015-02-01 00:00:00</td>\n      <td>0.018496</td>\n    </tr>\n    <tr>\n      <th>1</th>\n      <td>2015-02-01 01:00:00</td>\n      <td>0.018332</td>\n    </tr>\n    <tr>\n      <th>2</th>\n      <td>2015-02-01 02:00:00</td>\n      <td>0.018385</td>\n    </tr>\n    <tr>\n      <th>3</th>\n      <td>2015-02-01 03:00:00</td>\n      <td>0.018502</td>\n    </tr>\n    <tr>\n      <th>4</th>\n      <td>2015-02-01 04:00:00</td>\n      <td>0.018524</td>\n    </tr>\n    <tr>\n      <th>...</th>\n      <td>...</td>\n      <td>...</td>\n    </tr>\n    <tr>\n      <th>8540</th>\n      <td>2016-01-22 20:00:00</td>\n      <td>0.018398</td>\n    </tr>\n    <tr>\n      <th>8541</th>\n      <td>2016-01-22 21:00:00</td>\n      <td>0.018487</td>\n    </tr>\n    <tr>\n      <th>8542</th>\n      <td>2016-01-22 22:00:00</td>\n      <td>0.018362</td>\n    </tr>\n    <tr>\n      <th>8543</th>\n      <td>2016-01-22 23:00:00</td>\n      <td>0.018211</td>\n    </tr>\n    <tr>\n      <th>8544</th>\n      <td>2016-01-23 00:00:00</td>\n      <td>0.018401</td>\n    </tr>\n  </tbody>\n</table>\n<p>8545 rows × 2 columns</p>\n</div>"
     },
     "execution_count": 17,
     "metadata": {},
     "output_type": "execute_result"
    }
   ],
   "source": [
    "gen_df_no_changes = gen_df[\"Generated Energy\"][:test_df.index[-1]].to_frame().reset_index()\n",
    "gen_df_no_changes"
   ],
   "metadata": {
    "collapsed": false,
    "pycharm": {
     "name": "#%%\n"
    }
   }
  },
  {
   "cell_type": "code",
   "execution_count": 42,
   "outputs": [
    {
     "data": {
      "text/plain": "                    Condition\nTimestamp                    \n2015-01-31 01:00:00      Fair\n2015-01-31 02:00:00      Fair\n2015-01-31 03:00:00      Fair\n2015-01-31 04:00:00      Fair\n2015-01-31 05:00:00      Fair\n...                       ...\n2016-01-31 20:00:00      Fair\n2016-01-31 21:00:00      Fair\n2016-01-31 22:00:00      Fair\n2016-01-31 23:00:00      Fair\n2016-02-01 00:00:00      Fair\n\n[8784 rows x 1 columns]",
      "text/html": "<div>\n<style scoped>\n    .dataframe tbody tr th:only-of-type {\n        vertical-align: middle;\n    }\n\n    .dataframe tbody tr th {\n        vertical-align: top;\n    }\n\n    .dataframe thead th {\n        text-align: right;\n    }\n</style>\n<table border=\"1\" class=\"dataframe\">\n  <thead>\n    <tr style=\"text-align: right;\">\n      <th></th>\n      <th>Condition</th>\n    </tr>\n    <tr>\n      <th>Timestamp</th>\n      <th></th>\n    </tr>\n  </thead>\n  <tbody>\n    <tr>\n      <th>2015-01-31 01:00:00</th>\n      <td>Fair</td>\n    </tr>\n    <tr>\n      <th>2015-01-31 02:00:00</th>\n      <td>Fair</td>\n    </tr>\n    <tr>\n      <th>2015-01-31 03:00:00</th>\n      <td>Fair</td>\n    </tr>\n    <tr>\n      <th>2015-01-31 04:00:00</th>\n      <td>Fair</td>\n    </tr>\n    <tr>\n      <th>2015-01-31 05:00:00</th>\n      <td>Fair</td>\n    </tr>\n    <tr>\n      <th>...</th>\n      <td>...</td>\n    </tr>\n    <tr>\n      <th>2016-01-31 20:00:00</th>\n      <td>Fair</td>\n    </tr>\n    <tr>\n      <th>2016-01-31 21:00:00</th>\n      <td>Fair</td>\n    </tr>\n    <tr>\n      <th>2016-01-31 22:00:00</th>\n      <td>Fair</td>\n    </tr>\n    <tr>\n      <th>2016-01-31 23:00:00</th>\n      <td>Fair</td>\n    </tr>\n    <tr>\n      <th>2016-02-01 00:00:00</th>\n      <td>Fair</td>\n    </tr>\n  </tbody>\n</table>\n<p>8784 rows × 1 columns</p>\n</div>"
     },
     "execution_count": 42,
     "metadata": {},
     "output_type": "execute_result"
    }
   ],
   "source": [
    "weather_forecast = pd.read_csv(\"../_05Forecasting/CLEANED_GAI_2015_2016.csv\", index_col=0)\n",
    "weather_forecast.index.rename(\"Timestamp\", inplace=True)\n",
    "weather_forecast.index = pd.to_datetime(weather_forecast.index)\n",
    "weather_forecast"
   ],
   "metadata": {
    "collapsed": false,
    "pycharm": {
     "name": "#%%\n"
    }
   }
  },
  {
   "cell_type": "code",
   "execution_count": 46,
   "outputs": [
    {
     "data": {
      "text/plain": "      Hour_0  Hour_1  Hour_2  Hour_3  Hour_4  Hour_5  Hour_6  Hour_7  Hour_8  \\\n0        1.0     0.0     0.0     0.0     0.0     0.0     0.0     0.0     0.0   \n1        0.0     1.0     0.0     0.0     0.0     0.0     0.0     0.0     0.0   \n2        0.0     0.0     1.0     0.0     0.0     0.0     0.0     0.0     0.0   \n3        0.0     0.0     0.0     1.0     0.0     0.0     0.0     0.0     0.0   \n4        0.0     0.0     0.0     0.0     1.0     0.0     0.0     0.0     0.0   \n...      ...     ...     ...     ...     ...     ...     ...     ...     ...   \n8755     0.0     0.0     0.0     0.0     0.0     0.0     0.0     0.0     0.0   \n8756     0.0     0.0     0.0     0.0     0.0     0.0     0.0     0.0     0.0   \n8757     0.0     0.0     0.0     0.0     0.0     0.0     0.0     0.0     0.0   \n8758     0.0     0.0     0.0     0.0     0.0     0.0     0.0     0.0     0.0   \n8759     0.0     0.0     0.0     0.0     0.0     0.0     0.0     0.0     0.0   \n\n      Hour_9  ...  Hour_19  Hour_20  Hour_21  Hour_22  Hour_23  \\\n0        0.0  ...      0.0      0.0      0.0      0.0      0.0   \n1        0.0  ...      0.0      0.0      0.0      0.0      0.0   \n2        0.0  ...      0.0      0.0      0.0      0.0      0.0   \n3        0.0  ...      0.0      0.0      0.0      0.0      0.0   \n4        0.0  ...      0.0      0.0      0.0      0.0      0.0   \n...      ...  ...      ...      ...      ...      ...      ...   \n8755     0.0  ...      1.0      0.0      0.0      0.0      0.0   \n8756     0.0  ...      0.0      1.0      0.0      0.0      0.0   \n8757     0.0  ...      0.0      0.0      1.0      0.0      0.0   \n8758     0.0  ...      0.0      0.0      0.0      1.0      0.0   \n8759     0.0  ...      0.0      0.0      0.0      0.0      1.0   \n\n      Condition_Cloudy  Condition_Fair  Condition_Mostly Cloudy  \\\n0                  0.0             1.0                      0.0   \n1                  0.0             1.0                      0.0   \n2                  0.0             1.0                      0.0   \n3                  0.0             1.0                      0.0   \n4                  0.0             1.0                      0.0   \n...                ...             ...                      ...   \n8755               0.0             1.0                      0.0   \n8756               0.0             1.0                      0.0   \n8757               0.0             1.0                      0.0   \n8758               0.0             1.0                      0.0   \n8759               0.0             1.0                      0.0   \n\n      Condition_Partly Cloudy  Condition_Thunder  \n0                         0.0                0.0  \n1                         0.0                0.0  \n2                         0.0                0.0  \n3                         0.0                0.0  \n4                         0.0                0.0  \n...                       ...                ...  \n8755                      0.0                0.0  \n8756                      0.0                0.0  \n8757                      0.0                0.0  \n8758                      0.0                0.0  \n8759                      0.0                0.0  \n\n[8760 rows x 29 columns]",
      "text/html": "<div>\n<style scoped>\n    .dataframe tbody tr th:only-of-type {\n        vertical-align: middle;\n    }\n\n    .dataframe tbody tr th {\n        vertical-align: top;\n    }\n\n    .dataframe thead th {\n        text-align: right;\n    }\n</style>\n<table border=\"1\" class=\"dataframe\">\n  <thead>\n    <tr style=\"text-align: right;\">\n      <th></th>\n      <th>Hour_0</th>\n      <th>Hour_1</th>\n      <th>Hour_2</th>\n      <th>Hour_3</th>\n      <th>Hour_4</th>\n      <th>Hour_5</th>\n      <th>Hour_6</th>\n      <th>Hour_7</th>\n      <th>Hour_8</th>\n      <th>Hour_9</th>\n      <th>...</th>\n      <th>Hour_19</th>\n      <th>Hour_20</th>\n      <th>Hour_21</th>\n      <th>Hour_22</th>\n      <th>Hour_23</th>\n      <th>Condition_Cloudy</th>\n      <th>Condition_Fair</th>\n      <th>Condition_Mostly Cloudy</th>\n      <th>Condition_Partly Cloudy</th>\n      <th>Condition_Thunder</th>\n    </tr>\n  </thead>\n  <tbody>\n    <tr>\n      <th>0</th>\n      <td>1.0</td>\n      <td>0.0</td>\n      <td>0.0</td>\n      <td>0.0</td>\n      <td>0.0</td>\n      <td>0.0</td>\n      <td>0.0</td>\n      <td>0.0</td>\n      <td>0.0</td>\n      <td>0.0</td>\n      <td>...</td>\n      <td>0.0</td>\n      <td>0.0</td>\n      <td>0.0</td>\n      <td>0.0</td>\n      <td>0.0</td>\n      <td>0.0</td>\n      <td>1.0</td>\n      <td>0.0</td>\n      <td>0.0</td>\n      <td>0.0</td>\n    </tr>\n    <tr>\n      <th>1</th>\n      <td>0.0</td>\n      <td>1.0</td>\n      <td>0.0</td>\n      <td>0.0</td>\n      <td>0.0</td>\n      <td>0.0</td>\n      <td>0.0</td>\n      <td>0.0</td>\n      <td>0.0</td>\n      <td>0.0</td>\n      <td>...</td>\n      <td>0.0</td>\n      <td>0.0</td>\n      <td>0.0</td>\n      <td>0.0</td>\n      <td>0.0</td>\n      <td>0.0</td>\n      <td>1.0</td>\n      <td>0.0</td>\n      <td>0.0</td>\n      <td>0.0</td>\n    </tr>\n    <tr>\n      <th>2</th>\n      <td>0.0</td>\n      <td>0.0</td>\n      <td>1.0</td>\n      <td>0.0</td>\n      <td>0.0</td>\n      <td>0.0</td>\n      <td>0.0</td>\n      <td>0.0</td>\n      <td>0.0</td>\n      <td>0.0</td>\n      <td>...</td>\n      <td>0.0</td>\n      <td>0.0</td>\n      <td>0.0</td>\n      <td>0.0</td>\n      <td>0.0</td>\n      <td>0.0</td>\n      <td>1.0</td>\n      <td>0.0</td>\n      <td>0.0</td>\n      <td>0.0</td>\n    </tr>\n    <tr>\n      <th>3</th>\n      <td>0.0</td>\n      <td>0.0</td>\n      <td>0.0</td>\n      <td>1.0</td>\n      <td>0.0</td>\n      <td>0.0</td>\n      <td>0.0</td>\n      <td>0.0</td>\n      <td>0.0</td>\n      <td>0.0</td>\n      <td>...</td>\n      <td>0.0</td>\n      <td>0.0</td>\n      <td>0.0</td>\n      <td>0.0</td>\n      <td>0.0</td>\n      <td>0.0</td>\n      <td>1.0</td>\n      <td>0.0</td>\n      <td>0.0</td>\n      <td>0.0</td>\n    </tr>\n    <tr>\n      <th>4</th>\n      <td>0.0</td>\n      <td>0.0</td>\n      <td>0.0</td>\n      <td>0.0</td>\n      <td>1.0</td>\n      <td>0.0</td>\n      <td>0.0</td>\n      <td>0.0</td>\n      <td>0.0</td>\n      <td>0.0</td>\n      <td>...</td>\n      <td>0.0</td>\n      <td>0.0</td>\n      <td>0.0</td>\n      <td>0.0</td>\n      <td>0.0</td>\n      <td>0.0</td>\n      <td>1.0</td>\n      <td>0.0</td>\n      <td>0.0</td>\n      <td>0.0</td>\n    </tr>\n    <tr>\n      <th>...</th>\n      <td>...</td>\n      <td>...</td>\n      <td>...</td>\n      <td>...</td>\n      <td>...</td>\n      <td>...</td>\n      <td>...</td>\n      <td>...</td>\n      <td>...</td>\n      <td>...</td>\n      <td>...</td>\n      <td>...</td>\n      <td>...</td>\n      <td>...</td>\n      <td>...</td>\n      <td>...</td>\n      <td>...</td>\n      <td>...</td>\n      <td>...</td>\n      <td>...</td>\n      <td>...</td>\n    </tr>\n    <tr>\n      <th>8755</th>\n      <td>0.0</td>\n      <td>0.0</td>\n      <td>0.0</td>\n      <td>0.0</td>\n      <td>0.0</td>\n      <td>0.0</td>\n      <td>0.0</td>\n      <td>0.0</td>\n      <td>0.0</td>\n      <td>0.0</td>\n      <td>...</td>\n      <td>1.0</td>\n      <td>0.0</td>\n      <td>0.0</td>\n      <td>0.0</td>\n      <td>0.0</td>\n      <td>0.0</td>\n      <td>1.0</td>\n      <td>0.0</td>\n      <td>0.0</td>\n      <td>0.0</td>\n    </tr>\n    <tr>\n      <th>8756</th>\n      <td>0.0</td>\n      <td>0.0</td>\n      <td>0.0</td>\n      <td>0.0</td>\n      <td>0.0</td>\n      <td>0.0</td>\n      <td>0.0</td>\n      <td>0.0</td>\n      <td>0.0</td>\n      <td>0.0</td>\n      <td>...</td>\n      <td>0.0</td>\n      <td>1.0</td>\n      <td>0.0</td>\n      <td>0.0</td>\n      <td>0.0</td>\n      <td>0.0</td>\n      <td>1.0</td>\n      <td>0.0</td>\n      <td>0.0</td>\n      <td>0.0</td>\n    </tr>\n    <tr>\n      <th>8757</th>\n      <td>0.0</td>\n      <td>0.0</td>\n      <td>0.0</td>\n      <td>0.0</td>\n      <td>0.0</td>\n      <td>0.0</td>\n      <td>0.0</td>\n      <td>0.0</td>\n      <td>0.0</td>\n      <td>0.0</td>\n      <td>...</td>\n      <td>0.0</td>\n      <td>0.0</td>\n      <td>1.0</td>\n      <td>0.0</td>\n      <td>0.0</td>\n      <td>0.0</td>\n      <td>1.0</td>\n      <td>0.0</td>\n      <td>0.0</td>\n      <td>0.0</td>\n    </tr>\n    <tr>\n      <th>8758</th>\n      <td>0.0</td>\n      <td>0.0</td>\n      <td>0.0</td>\n      <td>0.0</td>\n      <td>0.0</td>\n      <td>0.0</td>\n      <td>0.0</td>\n      <td>0.0</td>\n      <td>0.0</td>\n      <td>0.0</td>\n      <td>...</td>\n      <td>0.0</td>\n      <td>0.0</td>\n      <td>0.0</td>\n      <td>1.0</td>\n      <td>0.0</td>\n      <td>0.0</td>\n      <td>1.0</td>\n      <td>0.0</td>\n      <td>0.0</td>\n      <td>0.0</td>\n    </tr>\n    <tr>\n      <th>8759</th>\n      <td>0.0</td>\n      <td>0.0</td>\n      <td>0.0</td>\n      <td>0.0</td>\n      <td>0.0</td>\n      <td>0.0</td>\n      <td>0.0</td>\n      <td>0.0</td>\n      <td>0.0</td>\n      <td>0.0</td>\n      <td>...</td>\n      <td>0.0</td>\n      <td>0.0</td>\n      <td>0.0</td>\n      <td>0.0</td>\n      <td>1.0</td>\n      <td>0.0</td>\n      <td>1.0</td>\n      <td>0.0</td>\n      <td>0.0</td>\n      <td>0.0</td>\n    </tr>\n  </tbody>\n</table>\n<p>8760 rows × 29 columns</p>\n</div>"
     },
     "execution_count": 46,
     "metadata": {},
     "output_type": "execute_result"
    }
   ],
   "source": [
    "ohe = OneHotEncoder(sparse=False)\n",
    "hot = ohe.fit_transform(gen_df[\"Hour\"].to_frame().merge(weather_forecast, left_index=True, right_index=True))\n",
    "df_ohe = pd.DataFrame(data=hot, columns=ohe.get_feature_names_out())\n",
    "df_ohe"
   ],
   "metadata": {
    "collapsed": false,
    "pycharm": {
     "name": "#%%\n"
    }
   }
  },
  {
   "cell_type": "code",
   "execution_count": 50,
   "outputs": [],
   "source": [
    "exog_df = gen_df_no_changes.join(df_ohe)"
   ],
   "metadata": {
    "collapsed": false,
    "pycharm": {
     "name": "#%%\n"
    }
   }
  },
  {
   "cell_type": "code",
   "execution_count": 51,
   "outputs": [
    {
     "data": {
      "text/plain": "                     Generated Energy  Hour_0  Hour_1  Hour_2  Hour_3  Hour_4  \\\nTimestamp                                                                       \n2015-02-01 00:00:00          0.018496     1.0     0.0     0.0     0.0     0.0   \n2015-02-01 01:00:00          0.018332     0.0     1.0     0.0     0.0     0.0   \n2015-02-01 02:00:00          0.018385     0.0     0.0     1.0     0.0     0.0   \n2015-02-01 03:00:00          0.018502     0.0     0.0     0.0     1.0     0.0   \n2015-02-01 04:00:00          0.018524     0.0     0.0     0.0     0.0     1.0   \n...                               ...     ...     ...     ...     ...     ...   \n2016-01-22 20:00:00          0.018398     0.0     0.0     0.0     0.0     0.0   \n2016-01-22 21:00:00          0.018487     0.0     0.0     0.0     0.0     0.0   \n2016-01-22 22:00:00          0.018362     0.0     0.0     0.0     0.0     0.0   \n2016-01-22 23:00:00          0.018211     0.0     0.0     0.0     0.0     0.0   \n2016-01-23 00:00:00          0.018401     1.0     0.0     0.0     0.0     0.0   \n\n                     Hour_5  Hour_6  Hour_7  Hour_8  ...  Hour_19  Hour_20  \\\nTimestamp                                            ...                     \n2015-02-01 00:00:00     0.0     0.0     0.0     0.0  ...      0.0      0.0   \n2015-02-01 01:00:00     0.0     0.0     0.0     0.0  ...      0.0      0.0   \n2015-02-01 02:00:00     0.0     0.0     0.0     0.0  ...      0.0      0.0   \n2015-02-01 03:00:00     0.0     0.0     0.0     0.0  ...      0.0      0.0   \n2015-02-01 04:00:00     0.0     0.0     0.0     0.0  ...      0.0      0.0   \n...                     ...     ...     ...     ...  ...      ...      ...   \n2016-01-22 20:00:00     0.0     0.0     0.0     0.0  ...      0.0      1.0   \n2016-01-22 21:00:00     0.0     0.0     0.0     0.0  ...      0.0      0.0   \n2016-01-22 22:00:00     0.0     0.0     0.0     0.0  ...      0.0      0.0   \n2016-01-22 23:00:00     0.0     0.0     0.0     0.0  ...      0.0      0.0   \n2016-01-23 00:00:00     0.0     0.0     0.0     0.0  ...      0.0      0.0   \n\n                     Hour_21  Hour_22  Hour_23  Condition_Cloudy  \\\nTimestamp                                                          \n2015-02-01 00:00:00      0.0      0.0      0.0               0.0   \n2015-02-01 01:00:00      0.0      0.0      0.0               0.0   \n2015-02-01 02:00:00      0.0      0.0      0.0               0.0   \n2015-02-01 03:00:00      0.0      0.0      0.0               0.0   \n2015-02-01 04:00:00      0.0      0.0      0.0               0.0   \n...                      ...      ...      ...               ...   \n2016-01-22 20:00:00      0.0      0.0      0.0               1.0   \n2016-01-22 21:00:00      1.0      0.0      0.0               1.0   \n2016-01-22 22:00:00      0.0      1.0      0.0               1.0   \n2016-01-22 23:00:00      0.0      0.0      1.0               1.0   \n2016-01-23 00:00:00      0.0      0.0      0.0               1.0   \n\n                     Condition_Fair  Condition_Mostly Cloudy  \\\nTimestamp                                                      \n2015-02-01 00:00:00             1.0                      0.0   \n2015-02-01 01:00:00             1.0                      0.0   \n2015-02-01 02:00:00             1.0                      0.0   \n2015-02-01 03:00:00             1.0                      0.0   \n2015-02-01 04:00:00             1.0                      0.0   \n...                             ...                      ...   \n2016-01-22 20:00:00             0.0                      0.0   \n2016-01-22 21:00:00             0.0                      0.0   \n2016-01-22 22:00:00             0.0                      0.0   \n2016-01-22 23:00:00             0.0                      0.0   \n2016-01-23 00:00:00             0.0                      0.0   \n\n                     Condition_Partly Cloudy  Condition_Thunder  \nTimestamp                                                        \n2015-02-01 00:00:00                      0.0                0.0  \n2015-02-01 01:00:00                      0.0                0.0  \n2015-02-01 02:00:00                      0.0                0.0  \n2015-02-01 03:00:00                      0.0                0.0  \n2015-02-01 04:00:00                      0.0                0.0  \n...                                      ...                ...  \n2016-01-22 20:00:00                      0.0                0.0  \n2016-01-22 21:00:00                      0.0                0.0  \n2016-01-22 22:00:00                      0.0                0.0  \n2016-01-22 23:00:00                      0.0                0.0  \n2016-01-23 00:00:00                      0.0                0.0  \n\n[8545 rows x 30 columns]",
      "text/html": "<div>\n<style scoped>\n    .dataframe tbody tr th:only-of-type {\n        vertical-align: middle;\n    }\n\n    .dataframe tbody tr th {\n        vertical-align: top;\n    }\n\n    .dataframe thead th {\n        text-align: right;\n    }\n</style>\n<table border=\"1\" class=\"dataframe\">\n  <thead>\n    <tr style=\"text-align: right;\">\n      <th></th>\n      <th>Generated Energy</th>\n      <th>Hour_0</th>\n      <th>Hour_1</th>\n      <th>Hour_2</th>\n      <th>Hour_3</th>\n      <th>Hour_4</th>\n      <th>Hour_5</th>\n      <th>Hour_6</th>\n      <th>Hour_7</th>\n      <th>Hour_8</th>\n      <th>...</th>\n      <th>Hour_19</th>\n      <th>Hour_20</th>\n      <th>Hour_21</th>\n      <th>Hour_22</th>\n      <th>Hour_23</th>\n      <th>Condition_Cloudy</th>\n      <th>Condition_Fair</th>\n      <th>Condition_Mostly Cloudy</th>\n      <th>Condition_Partly Cloudy</th>\n      <th>Condition_Thunder</th>\n    </tr>\n    <tr>\n      <th>Timestamp</th>\n      <th></th>\n      <th></th>\n      <th></th>\n      <th></th>\n      <th></th>\n      <th></th>\n      <th></th>\n      <th></th>\n      <th></th>\n      <th></th>\n      <th></th>\n      <th></th>\n      <th></th>\n      <th></th>\n      <th></th>\n      <th></th>\n      <th></th>\n      <th></th>\n      <th></th>\n      <th></th>\n      <th></th>\n    </tr>\n  </thead>\n  <tbody>\n    <tr>\n      <th>2015-02-01 00:00:00</th>\n      <td>0.018496</td>\n      <td>1.0</td>\n      <td>0.0</td>\n      <td>0.0</td>\n      <td>0.0</td>\n      <td>0.0</td>\n      <td>0.0</td>\n      <td>0.0</td>\n      <td>0.0</td>\n      <td>0.0</td>\n      <td>...</td>\n      <td>0.0</td>\n      <td>0.0</td>\n      <td>0.0</td>\n      <td>0.0</td>\n      <td>0.0</td>\n      <td>0.0</td>\n      <td>1.0</td>\n      <td>0.0</td>\n      <td>0.0</td>\n      <td>0.0</td>\n    </tr>\n    <tr>\n      <th>2015-02-01 01:00:00</th>\n      <td>0.018332</td>\n      <td>0.0</td>\n      <td>1.0</td>\n      <td>0.0</td>\n      <td>0.0</td>\n      <td>0.0</td>\n      <td>0.0</td>\n      <td>0.0</td>\n      <td>0.0</td>\n      <td>0.0</td>\n      <td>...</td>\n      <td>0.0</td>\n      <td>0.0</td>\n      <td>0.0</td>\n      <td>0.0</td>\n      <td>0.0</td>\n      <td>0.0</td>\n      <td>1.0</td>\n      <td>0.0</td>\n      <td>0.0</td>\n      <td>0.0</td>\n    </tr>\n    <tr>\n      <th>2015-02-01 02:00:00</th>\n      <td>0.018385</td>\n      <td>0.0</td>\n      <td>0.0</td>\n      <td>1.0</td>\n      <td>0.0</td>\n      <td>0.0</td>\n      <td>0.0</td>\n      <td>0.0</td>\n      <td>0.0</td>\n      <td>0.0</td>\n      <td>...</td>\n      <td>0.0</td>\n      <td>0.0</td>\n      <td>0.0</td>\n      <td>0.0</td>\n      <td>0.0</td>\n      <td>0.0</td>\n      <td>1.0</td>\n      <td>0.0</td>\n      <td>0.0</td>\n      <td>0.0</td>\n    </tr>\n    <tr>\n      <th>2015-02-01 03:00:00</th>\n      <td>0.018502</td>\n      <td>0.0</td>\n      <td>0.0</td>\n      <td>0.0</td>\n      <td>1.0</td>\n      <td>0.0</td>\n      <td>0.0</td>\n      <td>0.0</td>\n      <td>0.0</td>\n      <td>0.0</td>\n      <td>...</td>\n      <td>0.0</td>\n      <td>0.0</td>\n      <td>0.0</td>\n      <td>0.0</td>\n      <td>0.0</td>\n      <td>0.0</td>\n      <td>1.0</td>\n      <td>0.0</td>\n      <td>0.0</td>\n      <td>0.0</td>\n    </tr>\n    <tr>\n      <th>2015-02-01 04:00:00</th>\n      <td>0.018524</td>\n      <td>0.0</td>\n      <td>0.0</td>\n      <td>0.0</td>\n      <td>0.0</td>\n      <td>1.0</td>\n      <td>0.0</td>\n      <td>0.0</td>\n      <td>0.0</td>\n      <td>0.0</td>\n      <td>...</td>\n      <td>0.0</td>\n      <td>0.0</td>\n      <td>0.0</td>\n      <td>0.0</td>\n      <td>0.0</td>\n      <td>0.0</td>\n      <td>1.0</td>\n      <td>0.0</td>\n      <td>0.0</td>\n      <td>0.0</td>\n    </tr>\n    <tr>\n      <th>...</th>\n      <td>...</td>\n      <td>...</td>\n      <td>...</td>\n      <td>...</td>\n      <td>...</td>\n      <td>...</td>\n      <td>...</td>\n      <td>...</td>\n      <td>...</td>\n      <td>...</td>\n      <td>...</td>\n      <td>...</td>\n      <td>...</td>\n      <td>...</td>\n      <td>...</td>\n      <td>...</td>\n      <td>...</td>\n      <td>...</td>\n      <td>...</td>\n      <td>...</td>\n      <td>...</td>\n    </tr>\n    <tr>\n      <th>2016-01-22 20:00:00</th>\n      <td>0.018398</td>\n      <td>0.0</td>\n      <td>0.0</td>\n      <td>0.0</td>\n      <td>0.0</td>\n      <td>0.0</td>\n      <td>0.0</td>\n      <td>0.0</td>\n      <td>0.0</td>\n      <td>0.0</td>\n      <td>...</td>\n      <td>0.0</td>\n      <td>1.0</td>\n      <td>0.0</td>\n      <td>0.0</td>\n      <td>0.0</td>\n      <td>1.0</td>\n      <td>0.0</td>\n      <td>0.0</td>\n      <td>0.0</td>\n      <td>0.0</td>\n    </tr>\n    <tr>\n      <th>2016-01-22 21:00:00</th>\n      <td>0.018487</td>\n      <td>0.0</td>\n      <td>0.0</td>\n      <td>0.0</td>\n      <td>0.0</td>\n      <td>0.0</td>\n      <td>0.0</td>\n      <td>0.0</td>\n      <td>0.0</td>\n      <td>0.0</td>\n      <td>...</td>\n      <td>0.0</td>\n      <td>0.0</td>\n      <td>1.0</td>\n      <td>0.0</td>\n      <td>0.0</td>\n      <td>1.0</td>\n      <td>0.0</td>\n      <td>0.0</td>\n      <td>0.0</td>\n      <td>0.0</td>\n    </tr>\n    <tr>\n      <th>2016-01-22 22:00:00</th>\n      <td>0.018362</td>\n      <td>0.0</td>\n      <td>0.0</td>\n      <td>0.0</td>\n      <td>0.0</td>\n      <td>0.0</td>\n      <td>0.0</td>\n      <td>0.0</td>\n      <td>0.0</td>\n      <td>0.0</td>\n      <td>...</td>\n      <td>0.0</td>\n      <td>0.0</td>\n      <td>0.0</td>\n      <td>1.0</td>\n      <td>0.0</td>\n      <td>1.0</td>\n      <td>0.0</td>\n      <td>0.0</td>\n      <td>0.0</td>\n      <td>0.0</td>\n    </tr>\n    <tr>\n      <th>2016-01-22 23:00:00</th>\n      <td>0.018211</td>\n      <td>0.0</td>\n      <td>0.0</td>\n      <td>0.0</td>\n      <td>0.0</td>\n      <td>0.0</td>\n      <td>0.0</td>\n      <td>0.0</td>\n      <td>0.0</td>\n      <td>0.0</td>\n      <td>...</td>\n      <td>0.0</td>\n      <td>0.0</td>\n      <td>0.0</td>\n      <td>0.0</td>\n      <td>1.0</td>\n      <td>1.0</td>\n      <td>0.0</td>\n      <td>0.0</td>\n      <td>0.0</td>\n      <td>0.0</td>\n    </tr>\n    <tr>\n      <th>2016-01-23 00:00:00</th>\n      <td>0.018401</td>\n      <td>1.0</td>\n      <td>0.0</td>\n      <td>0.0</td>\n      <td>0.0</td>\n      <td>0.0</td>\n      <td>0.0</td>\n      <td>0.0</td>\n      <td>0.0</td>\n      <td>0.0</td>\n      <td>...</td>\n      <td>0.0</td>\n      <td>0.0</td>\n      <td>0.0</td>\n      <td>0.0</td>\n      <td>0.0</td>\n      <td>1.0</td>\n      <td>0.0</td>\n      <td>0.0</td>\n      <td>0.0</td>\n      <td>0.0</td>\n    </tr>\n  </tbody>\n</table>\n<p>8545 rows × 30 columns</p>\n</div>"
     },
     "execution_count": 51,
     "metadata": {},
     "output_type": "execute_result"
    }
   ],
   "source": [
    "exog_df.set_index('Timestamp', inplace=True)\n",
    "exog_df"
   ],
   "metadata": {
    "collapsed": false,
    "pycharm": {
     "name": "#%%\n"
    }
   }
  },
  {
   "cell_type": "code",
   "execution_count": 57,
   "outputs": [
    {
     "data": {
      "text/plain": "                     Generated Energy  Hour_0  Hour_1  Hour_2  Hour_3  Hour_4  \\\nTimestamp                                                                       \n2015-02-01 00:00:00          0.018496     1.0     0.0     0.0     0.0     0.0   \n2015-02-01 01:00:00          0.018332     0.0     1.0     0.0     0.0     0.0   \n2015-02-01 02:00:00          0.018385     0.0     0.0     1.0     0.0     0.0   \n2015-02-01 03:00:00          0.018502     0.0     0.0     0.0     1.0     0.0   \n2015-02-01 04:00:00          0.018524     0.0     0.0     0.0     0.0     1.0   \n...                               ...     ...     ...     ...     ...     ...   \n2016-01-16 20:00:00          0.018212     0.0     0.0     0.0     0.0     0.0   \n2016-01-16 21:00:00          0.018364     0.0     0.0     0.0     0.0     0.0   \n2016-01-16 22:00:00          0.018465     0.0     0.0     0.0     0.0     0.0   \n2016-01-16 23:00:00          0.018533     0.0     0.0     0.0     0.0     0.0   \n2016-01-17 00:00:00          0.018574     1.0     0.0     0.0     0.0     0.0   \n\n                     Hour_5  Hour_6  Hour_7  Hour_8  ...  Hour_19  Hour_20  \\\nTimestamp                                            ...                     \n2015-02-01 00:00:00     0.0     0.0     0.0     0.0  ...      0.0      0.0   \n2015-02-01 01:00:00     0.0     0.0     0.0     0.0  ...      0.0      0.0   \n2015-02-01 02:00:00     0.0     0.0     0.0     0.0  ...      0.0      0.0   \n2015-02-01 03:00:00     0.0     0.0     0.0     0.0  ...      0.0      0.0   \n2015-02-01 04:00:00     0.0     0.0     0.0     0.0  ...      0.0      0.0   \n...                     ...     ...     ...     ...  ...      ...      ...   \n2016-01-16 20:00:00     0.0     0.0     0.0     0.0  ...      0.0      1.0   \n2016-01-16 21:00:00     0.0     0.0     0.0     0.0  ...      0.0      0.0   \n2016-01-16 22:00:00     0.0     0.0     0.0     0.0  ...      0.0      0.0   \n2016-01-16 23:00:00     0.0     0.0     0.0     0.0  ...      0.0      0.0   \n2016-01-17 00:00:00     0.0     0.0     0.0     0.0  ...      0.0      0.0   \n\n                     Hour_21  Hour_22  Hour_23  Condition_Cloudy  \\\nTimestamp                                                          \n2015-02-01 00:00:00      0.0      0.0      0.0               0.0   \n2015-02-01 01:00:00      0.0      0.0      0.0               0.0   \n2015-02-01 02:00:00      0.0      0.0      0.0               0.0   \n2015-02-01 03:00:00      0.0      0.0      0.0               0.0   \n2015-02-01 04:00:00      0.0      0.0      0.0               0.0   \n...                      ...      ...      ...               ...   \n2016-01-16 20:00:00      0.0      0.0      0.0               0.0   \n2016-01-16 21:00:00      1.0      0.0      0.0               0.0   \n2016-01-16 22:00:00      0.0      1.0      0.0               0.0   \n2016-01-16 23:00:00      0.0      0.0      1.0               1.0   \n2016-01-17 00:00:00      0.0      0.0      0.0               1.0   \n\n                     Condition_Fair  Condition_Mostly Cloudy  \\\nTimestamp                                                      \n2015-02-01 00:00:00             1.0                      0.0   \n2015-02-01 01:00:00             1.0                      0.0   \n2015-02-01 02:00:00             1.0                      0.0   \n2015-02-01 03:00:00             1.0                      0.0   \n2015-02-01 04:00:00             1.0                      0.0   \n...                             ...                      ...   \n2016-01-16 20:00:00             1.0                      0.0   \n2016-01-16 21:00:00             1.0                      0.0   \n2016-01-16 22:00:00             1.0                      0.0   \n2016-01-16 23:00:00             0.0                      0.0   \n2016-01-17 00:00:00             0.0                      0.0   \n\n                     Condition_Partly Cloudy  Condition_Thunder  \nTimestamp                                                        \n2015-02-01 00:00:00                      0.0                0.0  \n2015-02-01 01:00:00                      0.0                0.0  \n2015-02-01 02:00:00                      0.0                0.0  \n2015-02-01 03:00:00                      0.0                0.0  \n2015-02-01 04:00:00                      0.0                0.0  \n...                                      ...                ...  \n2016-01-16 20:00:00                      0.0                0.0  \n2016-01-16 21:00:00                      0.0                0.0  \n2016-01-16 22:00:00                      0.0                0.0  \n2016-01-16 23:00:00                      0.0                0.0  \n2016-01-17 00:00:00                      0.0                0.0  \n\n[8401 rows x 30 columns]",
      "text/html": "<div>\n<style scoped>\n    .dataframe tbody tr th:only-of-type {\n        vertical-align: middle;\n    }\n\n    .dataframe tbody tr th {\n        vertical-align: top;\n    }\n\n    .dataframe thead th {\n        text-align: right;\n    }\n</style>\n<table border=\"1\" class=\"dataframe\">\n  <thead>\n    <tr style=\"text-align: right;\">\n      <th></th>\n      <th>Generated Energy</th>\n      <th>Hour_0</th>\n      <th>Hour_1</th>\n      <th>Hour_2</th>\n      <th>Hour_3</th>\n      <th>Hour_4</th>\n      <th>Hour_5</th>\n      <th>Hour_6</th>\n      <th>Hour_7</th>\n      <th>Hour_8</th>\n      <th>...</th>\n      <th>Hour_19</th>\n      <th>Hour_20</th>\n      <th>Hour_21</th>\n      <th>Hour_22</th>\n      <th>Hour_23</th>\n      <th>Condition_Cloudy</th>\n      <th>Condition_Fair</th>\n      <th>Condition_Mostly Cloudy</th>\n      <th>Condition_Partly Cloudy</th>\n      <th>Condition_Thunder</th>\n    </tr>\n    <tr>\n      <th>Timestamp</th>\n      <th></th>\n      <th></th>\n      <th></th>\n      <th></th>\n      <th></th>\n      <th></th>\n      <th></th>\n      <th></th>\n      <th></th>\n      <th></th>\n      <th></th>\n      <th></th>\n      <th></th>\n      <th></th>\n      <th></th>\n      <th></th>\n      <th></th>\n      <th></th>\n      <th></th>\n      <th></th>\n      <th></th>\n    </tr>\n  </thead>\n  <tbody>\n    <tr>\n      <th>2015-02-01 00:00:00</th>\n      <td>0.018496</td>\n      <td>1.0</td>\n      <td>0.0</td>\n      <td>0.0</td>\n      <td>0.0</td>\n      <td>0.0</td>\n      <td>0.0</td>\n      <td>0.0</td>\n      <td>0.0</td>\n      <td>0.0</td>\n      <td>...</td>\n      <td>0.0</td>\n      <td>0.0</td>\n      <td>0.0</td>\n      <td>0.0</td>\n      <td>0.0</td>\n      <td>0.0</td>\n      <td>1.0</td>\n      <td>0.0</td>\n      <td>0.0</td>\n      <td>0.0</td>\n    </tr>\n    <tr>\n      <th>2015-02-01 01:00:00</th>\n      <td>0.018332</td>\n      <td>0.0</td>\n      <td>1.0</td>\n      <td>0.0</td>\n      <td>0.0</td>\n      <td>0.0</td>\n      <td>0.0</td>\n      <td>0.0</td>\n      <td>0.0</td>\n      <td>0.0</td>\n      <td>...</td>\n      <td>0.0</td>\n      <td>0.0</td>\n      <td>0.0</td>\n      <td>0.0</td>\n      <td>0.0</td>\n      <td>0.0</td>\n      <td>1.0</td>\n      <td>0.0</td>\n      <td>0.0</td>\n      <td>0.0</td>\n    </tr>\n    <tr>\n      <th>2015-02-01 02:00:00</th>\n      <td>0.018385</td>\n      <td>0.0</td>\n      <td>0.0</td>\n      <td>1.0</td>\n      <td>0.0</td>\n      <td>0.0</td>\n      <td>0.0</td>\n      <td>0.0</td>\n      <td>0.0</td>\n      <td>0.0</td>\n      <td>...</td>\n      <td>0.0</td>\n      <td>0.0</td>\n      <td>0.0</td>\n      <td>0.0</td>\n      <td>0.0</td>\n      <td>0.0</td>\n      <td>1.0</td>\n      <td>0.0</td>\n      <td>0.0</td>\n      <td>0.0</td>\n    </tr>\n    <tr>\n      <th>2015-02-01 03:00:00</th>\n      <td>0.018502</td>\n      <td>0.0</td>\n      <td>0.0</td>\n      <td>0.0</td>\n      <td>1.0</td>\n      <td>0.0</td>\n      <td>0.0</td>\n      <td>0.0</td>\n      <td>0.0</td>\n      <td>0.0</td>\n      <td>...</td>\n      <td>0.0</td>\n      <td>0.0</td>\n      <td>0.0</td>\n      <td>0.0</td>\n      <td>0.0</td>\n      <td>0.0</td>\n      <td>1.0</td>\n      <td>0.0</td>\n      <td>0.0</td>\n      <td>0.0</td>\n    </tr>\n    <tr>\n      <th>2015-02-01 04:00:00</th>\n      <td>0.018524</td>\n      <td>0.0</td>\n      <td>0.0</td>\n      <td>0.0</td>\n      <td>0.0</td>\n      <td>1.0</td>\n      <td>0.0</td>\n      <td>0.0</td>\n      <td>0.0</td>\n      <td>0.0</td>\n      <td>...</td>\n      <td>0.0</td>\n      <td>0.0</td>\n      <td>0.0</td>\n      <td>0.0</td>\n      <td>0.0</td>\n      <td>0.0</td>\n      <td>1.0</td>\n      <td>0.0</td>\n      <td>0.0</td>\n      <td>0.0</td>\n    </tr>\n    <tr>\n      <th>...</th>\n      <td>...</td>\n      <td>...</td>\n      <td>...</td>\n      <td>...</td>\n      <td>...</td>\n      <td>...</td>\n      <td>...</td>\n      <td>...</td>\n      <td>...</td>\n      <td>...</td>\n      <td>...</td>\n      <td>...</td>\n      <td>...</td>\n      <td>...</td>\n      <td>...</td>\n      <td>...</td>\n      <td>...</td>\n      <td>...</td>\n      <td>...</td>\n      <td>...</td>\n      <td>...</td>\n    </tr>\n    <tr>\n      <th>2016-01-16 20:00:00</th>\n      <td>0.018212</td>\n      <td>0.0</td>\n      <td>0.0</td>\n      <td>0.0</td>\n      <td>0.0</td>\n      <td>0.0</td>\n      <td>0.0</td>\n      <td>0.0</td>\n      <td>0.0</td>\n      <td>0.0</td>\n      <td>...</td>\n      <td>0.0</td>\n      <td>1.0</td>\n      <td>0.0</td>\n      <td>0.0</td>\n      <td>0.0</td>\n      <td>0.0</td>\n      <td>1.0</td>\n      <td>0.0</td>\n      <td>0.0</td>\n      <td>0.0</td>\n    </tr>\n    <tr>\n      <th>2016-01-16 21:00:00</th>\n      <td>0.018364</td>\n      <td>0.0</td>\n      <td>0.0</td>\n      <td>0.0</td>\n      <td>0.0</td>\n      <td>0.0</td>\n      <td>0.0</td>\n      <td>0.0</td>\n      <td>0.0</td>\n      <td>0.0</td>\n      <td>...</td>\n      <td>0.0</td>\n      <td>0.0</td>\n      <td>1.0</td>\n      <td>0.0</td>\n      <td>0.0</td>\n      <td>0.0</td>\n      <td>1.0</td>\n      <td>0.0</td>\n      <td>0.0</td>\n      <td>0.0</td>\n    </tr>\n    <tr>\n      <th>2016-01-16 22:00:00</th>\n      <td>0.018465</td>\n      <td>0.0</td>\n      <td>0.0</td>\n      <td>0.0</td>\n      <td>0.0</td>\n      <td>0.0</td>\n      <td>0.0</td>\n      <td>0.0</td>\n      <td>0.0</td>\n      <td>0.0</td>\n      <td>...</td>\n      <td>0.0</td>\n      <td>0.0</td>\n      <td>0.0</td>\n      <td>1.0</td>\n      <td>0.0</td>\n      <td>0.0</td>\n      <td>1.0</td>\n      <td>0.0</td>\n      <td>0.0</td>\n      <td>0.0</td>\n    </tr>\n    <tr>\n      <th>2016-01-16 23:00:00</th>\n      <td>0.018533</td>\n      <td>0.0</td>\n      <td>0.0</td>\n      <td>0.0</td>\n      <td>0.0</td>\n      <td>0.0</td>\n      <td>0.0</td>\n      <td>0.0</td>\n      <td>0.0</td>\n      <td>0.0</td>\n      <td>...</td>\n      <td>0.0</td>\n      <td>0.0</td>\n      <td>0.0</td>\n      <td>0.0</td>\n      <td>1.0</td>\n      <td>1.0</td>\n      <td>0.0</td>\n      <td>0.0</td>\n      <td>0.0</td>\n      <td>0.0</td>\n    </tr>\n    <tr>\n      <th>2016-01-17 00:00:00</th>\n      <td>0.018574</td>\n      <td>1.0</td>\n      <td>0.0</td>\n      <td>0.0</td>\n      <td>0.0</td>\n      <td>0.0</td>\n      <td>0.0</td>\n      <td>0.0</td>\n      <td>0.0</td>\n      <td>0.0</td>\n      <td>...</td>\n      <td>0.0</td>\n      <td>0.0</td>\n      <td>0.0</td>\n      <td>0.0</td>\n      <td>0.0</td>\n      <td>1.0</td>\n      <td>0.0</td>\n      <td>0.0</td>\n      <td>0.0</td>\n      <td>0.0</td>\n    </tr>\n  </tbody>\n</table>\n<p>8401 rows × 30 columns</p>\n</div>"
     },
     "execution_count": 57,
     "metadata": {},
     "output_type": "execute_result"
    }
   ],
   "source": [
    "exog_train = exog_df[:date]\n",
    "exog_validation = exog_df[validation_start: validation_end] #Last 3 days of observations after test_df indexes have been dropped\n",
    "exog_test = exog_df[test_start: test_end] #Last 3 days of observations\n",
    "\n",
    "exog_train"
   ],
   "metadata": {
    "collapsed": false,
    "pycharm": {
     "name": "#%%\n"
    }
   }
  },
  {
   "cell_type": "code",
   "execution_count": 58,
   "outputs": [
    {
     "data": {
      "text/plain": "['Hour_0',\n 'Hour_1',\n 'Hour_2',\n 'Hour_3',\n 'Hour_4',\n 'Hour_5',\n 'Hour_6',\n 'Hour_7',\n 'Hour_8',\n 'Hour_9',\n 'Hour_10',\n 'Hour_11',\n 'Hour_12',\n 'Hour_13',\n 'Hour_14',\n 'Hour_15',\n 'Hour_16',\n 'Hour_17',\n 'Hour_18',\n 'Hour_19',\n 'Hour_20',\n 'Hour_21',\n 'Hour_22',\n 'Hour_23',\n 'Condition_Cloudy',\n 'Condition_Fair',\n 'Condition_Mostly Cloudy',\n 'Condition_Partly Cloudy',\n 'Condition_Thunder']"
     },
     "execution_count": 58,
     "metadata": {},
     "output_type": "execute_result"
    }
   ],
   "source": [
    "exog_attributes = list(exog_df.columns)[1:]\n",
    "exog_attributes"
   ],
   "metadata": {
    "collapsed": false,
    "pycharm": {
     "name": "#%%\n"
    }
   }
  },
  {
   "cell_type": "code",
   "execution_count": null,
   "outputs": [],
   "source": [
    "model = SARIMAX(exog_train['Generated Energy'], exog=exog_train[exog_attributes], trend='n',\n",
    "                  order=(4, 0, 0), seasonal_order=(0, 1, 2, 24))\n",
    "model3 = model.fit()\n",
    "model3.summary()"
   ],
   "metadata": {
    "collapsed": false,
    "pycharm": {
     "name": "#%%\n"
    }
   }
  },
  {
   "cell_type": "code",
   "execution_count": null,
   "outputs": [],
   "source": [
    "pred = model3.get_prediction(start=validation_start, end=validation_end,\n",
    "                             exog=exog_df[exog_attributes][validation_start: validation_end])"
   ],
   "metadata": {
    "collapsed": false,
    "pycharm": {
     "name": "#%%\n"
    }
   }
  },
  {
   "cell_type": "code",
   "execution_count": null,
   "outputs": [],
   "source": [
    "sarimax_predictions = pd.DataFrame(pred.predicted_mean)\n",
    "sarimax_predictions.rename(columns={'predicted_mean': 'Prediction'}, inplace=True)\n",
    "sarimax_predictions"
   ],
   "metadata": {
    "collapsed": false,
    "pycharm": {
     "name": "#%%\n"
    }
   }
  },
  {
   "cell_type": "code",
   "execution_count": null,
   "outputs": [],
   "source": [
    "sarimax_conf_interval = pred.conf_int()\n",
    "sarimax_conf_interval"
   ],
   "metadata": {
    "collapsed": false,
    "pycharm": {
     "name": "#%%\n"
    }
   }
  },
  {
   "cell_type": "code",
   "execution_count": null,
   "outputs": [],
   "source": [
    "y_pred = sarimax_predictions['Prediction'][validation_start : validation_end]\n",
    "\n",
    "model3_rmse = mean_squared_error(validation_df, y_pred, squared=False) #squared=False returns RMSE, True returns MSE\n",
    "model3_rmse"
   ],
   "metadata": {
    "collapsed": false,
    "pycharm": {
     "name": "#%%\n"
    }
   }
  },
  {
   "cell_type": "code",
   "execution_count": null,
   "outputs": [],
   "source": [
    "sarimax_predictions['Prediction'][validation_df.index[0] : validation_df.index[-1]]"
   ],
   "metadata": {
    "collapsed": false,
    "pycharm": {
     "name": "#%%\n"
    }
   }
  },
  {
   "cell_type": "markdown",
   "source": [
    "#### Testing on test set"
   ],
   "metadata": {
    "collapsed": false,
    "pycharm": {
     "name": "#%% md\n"
    }
   }
  },
  {
   "cell_type": "code",
   "execution_count": null,
   "outputs": [],
   "source": [
    "forecast_test = arima_forecast(data=gen_df, fitted_model=model2_optimised, start_index=0, end_index=gen_df.index[-1])\n",
    "forecast_test"
   ],
   "metadata": {
    "collapsed": false,
    "pycharm": {
     "name": "#%%\n"
    }
   }
  },
  {
   "cell_type": "code",
   "execution_count": null,
   "outputs": [],
   "source": [
    "y_pred = forecast_test['Prediction'][test_start : test_end]\n",
    "\n",
    "model2_test_rmse = mean_squared_error(test_df, y_pred, squared=False) #squared=False returns RMSE, True returns MSE\n",
    "model2_test_rmse"
   ],
   "metadata": {
    "collapsed": false,
    "pycharm": {
     "name": "#%%\n"
    }
   }
  }
 ],
 "metadata": {
  "kernelspec": {
   "display_name": "Python 3",
   "language": "python",
   "name": "python3"
  },
  "language_info": {
   "codemirror_mode": {
    "name": "ipython",
    "version": 2
   },
   "file_extension": ".py",
   "mimetype": "text/x-python",
   "name": "python",
   "nbconvert_exporter": "python",
   "pygments_lexer": "ipython2",
   "version": "2.7.6"
  }
 },
 "nbformat": 4,
 "nbformat_minor": 0
}