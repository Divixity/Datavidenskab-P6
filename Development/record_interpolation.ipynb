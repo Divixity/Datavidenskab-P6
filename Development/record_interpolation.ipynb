{
 "cells": [
  {
   "cell_type": "code",
   "execution_count": 85,
   "metadata": {
    "collapsed": true
   },
   "outputs": [],
   "source": [
    "import numpy as np\n",
    "import pandas as pd\n",
    "import plotly.express as px\n",
    "\n",
    "import DataRetriever as dr\n",
    "\n",
    "retriever = dr.DataRetriever()\n",
    "\n",
    "df = retriever.get_data(\"All-Subsystems-minute-Year2.pkl\")\n",
    "\n",
    "pd.options.mode.chained_assignment = None"
   ]
  },
  {
   "cell_type": "code",
   "execution_count": 86,
   "outputs": [],
   "source": [
    "df[\"Timestamp\"] = pd.to_datetime(df[\"Timestamp\"])"
   ],
   "metadata": {
    "collapsed": false,
    "pycharm": {
     "name": "#%%\n"
    }
   }
  },
  {
   "cell_type": "code",
   "execution_count": 87,
   "outputs": [],
   "source": [
    "# Creating a pd.Series with the timestamp shifted one downwards. Adding the first value twice, and excluding the last.\n",
    "timestamp_plus_one = pd.concat([pd.Series(df[\"Timestamp\"][0]), df[\"Timestamp\"][:-1]], ignore_index=True)\n",
    "\n",
    "# Creating a new column with the time delta in seconds.\n",
    "df[\"Timestamp_Delta\"] = (df[\"Timestamp\"] - timestamp_plus_one).astype('timedelta64[s]')"
   ],
   "metadata": {
    "collapsed": false,
    "pycharm": {
     "name": "#%%\n"
    }
   }
  },
  {
   "cell_type": "code",
   "execution_count": 88,
   "outputs": [],
   "source": [
    "df_index_split = df[df[\"Timestamp_Delta\"] > 300].index"
   ],
   "metadata": {
    "collapsed": false,
    "pycharm": {
     "name": "#%%\n"
    }
   }
  },
  {
   "cell_type": "code",
   "execution_count": 89,
   "outputs": [],
   "source": [
    "for row in df.index:\n",
    "    dt = df[\"Timestamp\"][row]\n",
    "    df.at[row, \"Timestamp\"] = pd.Timestamp(year=dt.year, month=dt.month, day=dt.day,\n",
    "                                       hour=dt.hour, minute=dt.minute, second=dt.second)\n",
    "\n",
    "df[\"Timestamp\"] = pd.to_datetime(df[\"Timestamp\"])"
   ],
   "metadata": {
    "collapsed": false,
    "pycharm": {
     "name": "#%%\n"
    }
   }
  },
  {
   "cell_type": "markdown",
   "source": [
    "# Function to create interpolated records based on a DataFrame"
   ],
   "metadata": {
    "collapsed": false
   }
  },
  {
   "cell_type": "code",
   "execution_count": 97,
   "outputs": [],
   "source": [
    "def interpolate_df(dataframe):\n",
    "    dataframe.index = dataframe[\"Timestamp\"]\n",
    "    dataframe.drop([\"Timestamp\", \"TimeStamp_Count\", \"DayOfWeek\", \"Timestamp_Delta\"], axis=1, inplace=True)\n",
    "\n",
    "    interpolation_records = dataframe.resample('1T') # Rækker svarende til 1 min i forskel\n",
    "    interpolation_records = interpolation_records.interpolate()\n",
    "\n",
    "    df_concat = pd.concat([dataframe, interpolation_records], axis=0)\n",
    "    df_concat.sort_index(inplace=True)\n",
    "\n",
    "    df_concat.interpolate(method=\"time\", inplace=True)\n",
    "\n",
    "    return df_concat.drop(index=dataframe.index.tolist()).interpolate(method=\"bfill\")\n",
    "\n",
    "\n",
    "df_1_interpolated = interpolate_df(dataframe=df[:df_index_split[0]])\n",
    "df_2_interpolated = interpolate_df(dataframe=df[df_index_split[0]:df_index_split[1]])\n",
    "df_3_interpolated = interpolate_df(dataframe=df[df_index_split[1]:df_index_split[2]])\n",
    "df_4_interpolated = interpolate_df(dataframe=df[df_index_split[2]:])"
   ],
   "metadata": {
    "collapsed": false,
    "pycharm": {
     "name": "#%%\n"
    }
   }
  },
  {
   "cell_type": "markdown",
   "source": [
    "# Interpolated DataFrames:"
   ],
   "metadata": {
    "collapsed": false
   }
  },
  {
   "cell_type": "code",
   "execution_count": 95,
   "outputs": [
    {
     "data": {
      "text/plain": "                     Load_LatentHeatWaterVolume  Load_RefrigeratorTemp  \\\nTimestamp                                                                \n2015-02-01 00:01:00                    0.000000               5.003394   \n2015-02-01 00:02:00                    0.000000               5.003394   \n2015-02-01 00:03:00                    0.000000               5.060575   \n2015-02-01 00:04:00                    0.000330               5.135167   \n2015-02-01 00:05:00                    0.001981               5.175073   \n...                                         ...                    ...   \n2015-10-19 23:54:00                    0.799205               5.112026   \n2015-10-19 23:55:00                    0.799205               5.112026   \n2015-10-19 23:56:00                    0.799205               5.112026   \n2015-10-19 23:57:00                    0.799205               5.112026   \n2015-10-19 23:58:00                    0.799205               5.112026   \n\n                     Load_StatusBA1Lights  Load_StatusKitchenLightsA  \\\nTimestamp                                                              \n2015-02-01 00:01:00                   0.0                        0.0   \n2015-02-01 00:02:00                   0.0                        0.0   \n2015-02-01 00:03:00                   0.0                        0.0   \n2015-02-01 00:04:00                   0.0                        0.0   \n2015-02-01 00:05:00                   0.0                        0.0   \n...                                   ...                        ...   \n2015-10-19 23:54:00                   0.0                        0.0   \n2015-10-19 23:55:00                   0.0                        0.0   \n2015-10-19 23:56:00                   0.0                        0.0   \n2015-10-19 23:57:00                   0.0                        0.0   \n2015-10-19 23:58:00                   0.0                        0.0   \n\n                     Load_StatusKitchenLightsB  Load_StatusKitchenLightsC  \\\nTimestamp                                                                   \n2015-02-01 00:01:00                        0.0                        0.0   \n2015-02-01 00:02:00                        0.0                        0.0   \n2015-02-01 00:03:00                        0.0                        0.0   \n2015-02-01 00:04:00                        0.0                        0.0   \n2015-02-01 00:05:00                        0.0                        0.0   \n...                                        ...                        ...   \n2015-10-19 23:54:00                        0.0                        0.0   \n2015-10-19 23:55:00                        0.0                        0.0   \n2015-10-19 23:56:00                        0.0                        0.0   \n2015-10-19 23:57:00                        0.0                        0.0   \n2015-10-19 23:58:00                        0.0                        0.0   \n\n                     Load_StatusDRLights  Load_StatusLRLights3  \\\nTimestamp                                                        \n2015-02-01 00:01:00                  0.0                   0.0   \n2015-02-01 00:02:00                  0.0                   0.0   \n2015-02-01 00:03:00                  0.0                   0.0   \n2015-02-01 00:04:00                  0.0                   0.0   \n2015-02-01 00:05:00                  0.0                   0.0   \n...                                  ...                   ...   \n2015-10-19 23:54:00                  0.0                   0.0   \n2015-10-19 23:55:00                  0.0                   0.0   \n2015-10-19 23:56:00                  0.0                   0.0   \n2015-10-19 23:57:00                  0.0                   0.0   \n2015-10-19 23:58:00                  0.0                   0.0   \n\n                     Load_StatusEntryHallLights  Load_StatusBR4Lights  ...  \\\nTimestamp                                                              ...   \n2015-02-01 00:01:00                         0.0                   0.0  ...   \n2015-02-01 00:02:00                         0.0                   0.0  ...   \n2015-02-01 00:03:00                         0.0                   0.0  ...   \n2015-02-01 00:04:00                         0.0                   0.0  ...   \n2015-02-01 00:05:00                         0.0                   0.0  ...   \n...                                         ...                   ...  ...   \n2015-10-19 23:54:00                         0.0                   0.0  ...   \n2015-10-19 23:55:00                         0.0                   0.0  ...   \n2015-10-19 23:56:00                         0.0                   0.0  ...   \n2015-10-19 23:57:00                         0.0                   0.0  ...   \n2015-10-19 23:58:00                         0.0                   0.0  ...   \n\n                     SHW_GlycolFlowHXCoriolisSHW  SHW_WaterFlowHXCoriolisSHW  \\\nTimestamp                                                                      \n2015-02-01 00:01:00                 14719.183333                35508.000000   \n2015-02-01 00:02:00                 14719.183333                35508.000000   \n2015-02-01 00:03:00                 14719.183333                35508.000000   \n2015-02-01 00:04:00                 14719.183333                35508.000000   \n2015-02-01 00:05:00                 14719.183333                35508.000000   \n...                                          ...                         ...   \n2015-10-19 23:54:00                   316.233238                  677.418936   \n2015-10-19 23:55:00                   316.233238                  677.418936   \n2015-10-19 23:56:00                   316.233238                  677.418936   \n2015-10-19 23:57:00                   316.233238                  677.418936   \n2015-10-19 23:58:00                   316.233238                  677.418936   \n\n                     SHW_GlycolFlowRateHXCoriolisSHW  \\\nTimestamp                                              \n2015-02-01 00:01:00                     6.073449e-07   \n2015-02-01 00:02:00                     6.073449e-07   \n2015-02-01 00:03:00                     6.073449e-07   \n2015-02-01 00:04:00                     6.073449e-07   \n2015-02-01 00:05:00                     6.073449e-07   \n...                                              ...   \n2015-10-19 23:54:00                     1.896195e-03   \n2015-10-19 23:55:00                     1.896195e-03   \n2015-10-19 23:56:00                     1.896195e-03   \n2015-10-19 23:57:00                     1.896195e-03   \n2015-10-19 23:58:00                     1.896195e-03   \n\n                     SHW_WaterFlowRateHXCoriolisSHW  \\\nTimestamp                                             \n2015-02-01 00:01:00                       -0.000005   \n2015-02-01 00:02:00                       -0.000005   \n2015-02-01 00:03:00                       -0.000005   \n2015-02-01 00:04:00                       -0.000005   \n2015-02-01 00:05:00                       -0.000005   \n...                                             ...   \n2015-10-19 23:54:00                        0.001210   \n2015-10-19 23:55:00                        0.001210   \n2015-10-19 23:56:00                        0.001210   \n2015-10-19 23:57:00                        0.001210   \n2015-10-19 23:58:00                        0.001210   \n\n                     HVAC_HeatPumpIndoorUnitPower  \\\nTimestamp                                           \n2015-02-01 00:01:00                    184.446333   \n2015-02-01 00:02:00                    184.446333   \n2015-02-01 00:03:00                    182.155667   \n2015-02-01 00:04:00                    169.420000   \n2015-02-01 00:05:00                    169.912667   \n...                                           ...   \n2015-10-19 23:54:00                      9.940000   \n2015-10-19 23:55:00                      9.940000   \n2015-10-19 23:56:00                      9.940000   \n2015-10-19 23:57:00                      9.940000   \n2015-10-19 23:58:00                      9.940000   \n\n                     HVAC_HeatPumpOutdoorUnitPower  HVAC_DehumidifierPower  \\\nTimestamp                                                                    \n2015-02-01 00:01:00                    1106.900333                4.477167   \n2015-02-01 00:02:00                    1106.900333                4.477167   \n2015-02-01 00:03:00                    1095.666333                4.508333   \n2015-02-01 00:04:00                    1085.025167                4.513167   \n2015-02-01 00:05:00                    1074.405333                4.513833   \n...                                            ...                     ...   \n2015-10-19 23:54:00                      22.300000                4.539000   \n2015-10-19 23:55:00                      22.300000                4.539000   \n2015-10-19 23:56:00                      22.300000                4.539000   \n2015-10-19 23:57:00                      22.300000                4.539000   \n2015-10-19 23:58:00                      22.300000                4.539000   \n\n                     HVAC_DehumidifierInletAirTemp  \\\nTimestamp                                            \n2015-02-01 00:01:00                      72.101000   \n2015-02-01 00:02:00                      72.101000   \n2015-02-01 00:03:00                      72.092833   \n2015-02-01 00:04:00                      72.076500   \n2015-02-01 00:05:00                      72.076000   \n...                                            ...   \n2015-10-19 23:54:00                      68.618000   \n2015-10-19 23:55:00                      68.618000   \n2015-10-19 23:56:00                      68.618000   \n2015-10-19 23:57:00                      68.618000   \n2015-10-19 23:58:00                      68.618000   \n\n                     HVAC_DehumidifierExitAirTemp  HVAC_DehumidifierAirflow  \nTimestamp                                                                    \n2015-02-01 00:01:00                     74.662667                       0.0  \n2015-02-01 00:02:00                     74.662667                       0.0  \n2015-02-01 00:03:00                     74.710667                       0.0  \n2015-02-01 00:04:00                     74.770667                       0.0  \n2015-02-01 00:05:00                     74.834667                       0.0  \n...                                           ...                       ...  \n2015-10-19 23:54:00                     69.998000                       0.0  \n2015-10-19 23:55:00                     69.998000                       0.0  \n2015-10-19 23:56:00                     69.998000                       0.0  \n2015-10-19 23:57:00                     69.998000                       0.0  \n2015-10-19 23:58:00                     69.998000                       0.0  \n\n[369242 rows x 379 columns]",
      "text/html": "<div>\n<style scoped>\n    .dataframe tbody tr th:only-of-type {\n        vertical-align: middle;\n    }\n\n    .dataframe tbody tr th {\n        vertical-align: top;\n    }\n\n    .dataframe thead th {\n        text-align: right;\n    }\n</style>\n<table border=\"1\" class=\"dataframe\">\n  <thead>\n    <tr style=\"text-align: right;\">\n      <th></th>\n      <th>Load_LatentHeatWaterVolume</th>\n      <th>Load_RefrigeratorTemp</th>\n      <th>Load_StatusBA1Lights</th>\n      <th>Load_StatusKitchenLightsA</th>\n      <th>Load_StatusKitchenLightsB</th>\n      <th>Load_StatusKitchenLightsC</th>\n      <th>Load_StatusDRLights</th>\n      <th>Load_StatusLRLights3</th>\n      <th>Load_StatusEntryHallLights</th>\n      <th>Load_StatusBR4Lights</th>\n      <th>...</th>\n      <th>SHW_GlycolFlowHXCoriolisSHW</th>\n      <th>SHW_WaterFlowHXCoriolisSHW</th>\n      <th>SHW_GlycolFlowRateHXCoriolisSHW</th>\n      <th>SHW_WaterFlowRateHXCoriolisSHW</th>\n      <th>HVAC_HeatPumpIndoorUnitPower</th>\n      <th>HVAC_HeatPumpOutdoorUnitPower</th>\n      <th>HVAC_DehumidifierPower</th>\n      <th>HVAC_DehumidifierInletAirTemp</th>\n      <th>HVAC_DehumidifierExitAirTemp</th>\n      <th>HVAC_DehumidifierAirflow</th>\n    </tr>\n    <tr>\n      <th>Timestamp</th>\n      <th></th>\n      <th></th>\n      <th></th>\n      <th></th>\n      <th></th>\n      <th></th>\n      <th></th>\n      <th></th>\n      <th></th>\n      <th></th>\n      <th></th>\n      <th></th>\n      <th></th>\n      <th></th>\n      <th></th>\n      <th></th>\n      <th></th>\n      <th></th>\n      <th></th>\n      <th></th>\n      <th></th>\n    </tr>\n  </thead>\n  <tbody>\n    <tr>\n      <th>2015-02-01 00:01:00</th>\n      <td>0.000000</td>\n      <td>5.003394</td>\n      <td>0.0</td>\n      <td>0.0</td>\n      <td>0.0</td>\n      <td>0.0</td>\n      <td>0.0</td>\n      <td>0.0</td>\n      <td>0.0</td>\n      <td>0.0</td>\n      <td>...</td>\n      <td>14719.183333</td>\n      <td>35508.000000</td>\n      <td>6.073449e-07</td>\n      <td>-0.000005</td>\n      <td>184.446333</td>\n      <td>1106.900333</td>\n      <td>4.477167</td>\n      <td>72.101000</td>\n      <td>74.662667</td>\n      <td>0.0</td>\n    </tr>\n    <tr>\n      <th>2015-02-01 00:02:00</th>\n      <td>0.000000</td>\n      <td>5.003394</td>\n      <td>0.0</td>\n      <td>0.0</td>\n      <td>0.0</td>\n      <td>0.0</td>\n      <td>0.0</td>\n      <td>0.0</td>\n      <td>0.0</td>\n      <td>0.0</td>\n      <td>...</td>\n      <td>14719.183333</td>\n      <td>35508.000000</td>\n      <td>6.073449e-07</td>\n      <td>-0.000005</td>\n      <td>184.446333</td>\n      <td>1106.900333</td>\n      <td>4.477167</td>\n      <td>72.101000</td>\n      <td>74.662667</td>\n      <td>0.0</td>\n    </tr>\n    <tr>\n      <th>2015-02-01 00:03:00</th>\n      <td>0.000000</td>\n      <td>5.060575</td>\n      <td>0.0</td>\n      <td>0.0</td>\n      <td>0.0</td>\n      <td>0.0</td>\n      <td>0.0</td>\n      <td>0.0</td>\n      <td>0.0</td>\n      <td>0.0</td>\n      <td>...</td>\n      <td>14719.183333</td>\n      <td>35508.000000</td>\n      <td>6.073449e-07</td>\n      <td>-0.000005</td>\n      <td>182.155667</td>\n      <td>1095.666333</td>\n      <td>4.508333</td>\n      <td>72.092833</td>\n      <td>74.710667</td>\n      <td>0.0</td>\n    </tr>\n    <tr>\n      <th>2015-02-01 00:04:00</th>\n      <td>0.000330</td>\n      <td>5.135167</td>\n      <td>0.0</td>\n      <td>0.0</td>\n      <td>0.0</td>\n      <td>0.0</td>\n      <td>0.0</td>\n      <td>0.0</td>\n      <td>0.0</td>\n      <td>0.0</td>\n      <td>...</td>\n      <td>14719.183333</td>\n      <td>35508.000000</td>\n      <td>6.073449e-07</td>\n      <td>-0.000005</td>\n      <td>169.420000</td>\n      <td>1085.025167</td>\n      <td>4.513167</td>\n      <td>72.076500</td>\n      <td>74.770667</td>\n      <td>0.0</td>\n    </tr>\n    <tr>\n      <th>2015-02-01 00:05:00</th>\n      <td>0.001981</td>\n      <td>5.175073</td>\n      <td>0.0</td>\n      <td>0.0</td>\n      <td>0.0</td>\n      <td>0.0</td>\n      <td>0.0</td>\n      <td>0.0</td>\n      <td>0.0</td>\n      <td>0.0</td>\n      <td>...</td>\n      <td>14719.183333</td>\n      <td>35508.000000</td>\n      <td>6.073449e-07</td>\n      <td>-0.000005</td>\n      <td>169.912667</td>\n      <td>1074.405333</td>\n      <td>4.513833</td>\n      <td>72.076000</td>\n      <td>74.834667</td>\n      <td>0.0</td>\n    </tr>\n    <tr>\n      <th>...</th>\n      <td>...</td>\n      <td>...</td>\n      <td>...</td>\n      <td>...</td>\n      <td>...</td>\n      <td>...</td>\n      <td>...</td>\n      <td>...</td>\n      <td>...</td>\n      <td>...</td>\n      <td>...</td>\n      <td>...</td>\n      <td>...</td>\n      <td>...</td>\n      <td>...</td>\n      <td>...</td>\n      <td>...</td>\n      <td>...</td>\n      <td>...</td>\n      <td>...</td>\n      <td>...</td>\n    </tr>\n    <tr>\n      <th>2015-10-19 23:54:00</th>\n      <td>0.799205</td>\n      <td>5.112026</td>\n      <td>0.0</td>\n      <td>0.0</td>\n      <td>0.0</td>\n      <td>0.0</td>\n      <td>0.0</td>\n      <td>0.0</td>\n      <td>0.0</td>\n      <td>0.0</td>\n      <td>...</td>\n      <td>316.233238</td>\n      <td>677.418936</td>\n      <td>1.896195e-03</td>\n      <td>0.001210</td>\n      <td>9.940000</td>\n      <td>22.300000</td>\n      <td>4.539000</td>\n      <td>68.618000</td>\n      <td>69.998000</td>\n      <td>0.0</td>\n    </tr>\n    <tr>\n      <th>2015-10-19 23:55:00</th>\n      <td>0.799205</td>\n      <td>5.112026</td>\n      <td>0.0</td>\n      <td>0.0</td>\n      <td>0.0</td>\n      <td>0.0</td>\n      <td>0.0</td>\n      <td>0.0</td>\n      <td>0.0</td>\n      <td>0.0</td>\n      <td>...</td>\n      <td>316.233238</td>\n      <td>677.418936</td>\n      <td>1.896195e-03</td>\n      <td>0.001210</td>\n      <td>9.940000</td>\n      <td>22.300000</td>\n      <td>4.539000</td>\n      <td>68.618000</td>\n      <td>69.998000</td>\n      <td>0.0</td>\n    </tr>\n    <tr>\n      <th>2015-10-19 23:56:00</th>\n      <td>0.799205</td>\n      <td>5.112026</td>\n      <td>0.0</td>\n      <td>0.0</td>\n      <td>0.0</td>\n      <td>0.0</td>\n      <td>0.0</td>\n      <td>0.0</td>\n      <td>0.0</td>\n      <td>0.0</td>\n      <td>...</td>\n      <td>316.233238</td>\n      <td>677.418936</td>\n      <td>1.896195e-03</td>\n      <td>0.001210</td>\n      <td>9.940000</td>\n      <td>22.300000</td>\n      <td>4.539000</td>\n      <td>68.618000</td>\n      <td>69.998000</td>\n      <td>0.0</td>\n    </tr>\n    <tr>\n      <th>2015-10-19 23:57:00</th>\n      <td>0.799205</td>\n      <td>5.112026</td>\n      <td>0.0</td>\n      <td>0.0</td>\n      <td>0.0</td>\n      <td>0.0</td>\n      <td>0.0</td>\n      <td>0.0</td>\n      <td>0.0</td>\n      <td>0.0</td>\n      <td>...</td>\n      <td>316.233238</td>\n      <td>677.418936</td>\n      <td>1.896195e-03</td>\n      <td>0.001210</td>\n      <td>9.940000</td>\n      <td>22.300000</td>\n      <td>4.539000</td>\n      <td>68.618000</td>\n      <td>69.998000</td>\n      <td>0.0</td>\n    </tr>\n    <tr>\n      <th>2015-10-19 23:58:00</th>\n      <td>0.799205</td>\n      <td>5.112026</td>\n      <td>0.0</td>\n      <td>0.0</td>\n      <td>0.0</td>\n      <td>0.0</td>\n      <td>0.0</td>\n      <td>0.0</td>\n      <td>0.0</td>\n      <td>0.0</td>\n      <td>...</td>\n      <td>316.233238</td>\n      <td>677.418936</td>\n      <td>1.896195e-03</td>\n      <td>0.001210</td>\n      <td>9.940000</td>\n      <td>22.300000</td>\n      <td>4.539000</td>\n      <td>68.618000</td>\n      <td>69.998000</td>\n      <td>0.0</td>\n    </tr>\n  </tbody>\n</table>\n<p>369242 rows × 379 columns</p>\n</div>"
     },
     "execution_count": 95,
     "metadata": {},
     "output_type": "execute_result"
    }
   ],
   "source": [
    "df_1_interpolated"
   ],
   "metadata": {
    "collapsed": false,
    "pycharm": {
     "name": "#%%\n"
    }
   }
  },
  {
   "cell_type": "code",
   "execution_count": 98,
   "outputs": [
    {
     "data": {
      "text/plain": "                     Load_LatentHeatWaterVolume  Load_RefrigeratorTemp  \\\nTimestamp                                                                \n2015-10-23 00:01:00                    0.000000               0.094253   \n2015-10-23 00:02:00                    0.000000               0.094253   \n2015-10-23 00:03:00                    0.000000               4.503068   \n2015-10-23 00:04:00                    0.000066               4.482972   \n2015-10-23 00:05:00                    0.000660               4.504518   \n...                                         ...                    ...   \n2015-11-01 01:54:00                    0.147380               4.891247   \n2015-11-01 01:55:00                    0.150022               4.931942   \n2015-11-01 01:56:00                    0.150594               5.000980   \n2015-11-01 01:57:00                    0.150594               5.068093   \n2015-11-01 01:58:00                    0.153181               5.138010   \n\n                     Load_StatusBA1Lights  Load_StatusKitchenLightsA  \\\nTimestamp                                                              \n2015-10-23 00:01:00                   0.0                        0.0   \n2015-10-23 00:02:00                   0.0                        0.0   \n2015-10-23 00:03:00                   0.0                        0.0   \n2015-10-23 00:04:00                   0.0                        0.0   \n2015-10-23 00:05:00                   0.0                        0.0   \n...                                   ...                        ...   \n2015-11-01 01:54:00                   0.0                        0.0   \n2015-11-01 01:55:00                   0.0                        0.0   \n2015-11-01 01:56:00                   0.0                        0.0   \n2015-11-01 01:57:00                   0.0                        0.0   \n2015-11-01 01:58:00                   0.0                        0.0   \n\n                     Load_StatusKitchenLightsB  Load_StatusKitchenLightsC  \\\nTimestamp                                                                   \n2015-10-23 00:01:00                        0.0                        0.0   \n2015-10-23 00:02:00                        0.0                        0.0   \n2015-10-23 00:03:00                        0.0                        0.0   \n2015-10-23 00:04:00                        0.0                        0.0   \n2015-10-23 00:05:00                        0.0                        0.0   \n...                                        ...                        ...   \n2015-11-01 01:54:00                        0.0                        0.0   \n2015-11-01 01:55:00                        0.0                        0.0   \n2015-11-01 01:56:00                        0.0                        0.0   \n2015-11-01 01:57:00                        0.0                        0.0   \n2015-11-01 01:58:00                        0.0                        0.0   \n\n                     Load_StatusDRLights  Load_StatusLRLights3  \\\nTimestamp                                                        \n2015-10-23 00:01:00                  0.0                   0.0   \n2015-10-23 00:02:00                  0.0                   0.0   \n2015-10-23 00:03:00                  0.0                   0.0   \n2015-10-23 00:04:00                  0.0                   0.0   \n2015-10-23 00:05:00                  0.0                   0.0   \n...                                  ...                   ...   \n2015-11-01 01:54:00                  0.0                   0.0   \n2015-11-01 01:55:00                  0.0                   0.0   \n2015-11-01 01:56:00                  0.0                   0.0   \n2015-11-01 01:57:00                  0.0                   0.0   \n2015-11-01 01:58:00                  0.0                   0.0   \n\n                     Load_StatusEntryHallLights  Load_StatusBR4Lights  ...  \\\nTimestamp                                                              ...   \n2015-10-23 00:01:00                         0.0                   0.0  ...   \n2015-10-23 00:02:00                         0.0                   0.0  ...   \n2015-10-23 00:03:00                         0.0                   0.0  ...   \n2015-10-23 00:04:00                         0.0                   0.0  ...   \n2015-10-23 00:05:00                         0.0                   0.0  ...   \n...                                         ...                   ...  ...   \n2015-11-01 01:54:00                         0.0                   0.0  ...   \n2015-11-01 01:55:00                         0.0                   0.0  ...   \n2015-11-01 01:56:00                         0.0                   0.0  ...   \n2015-11-01 01:57:00                         0.0                   0.0  ...   \n2015-11-01 01:58:00                         0.0                   0.0  ...   \n\n                     SHW_GlycolFlowHXCoriolisSHW  SHW_WaterFlowHXCoriolisSHW  \\\nTimestamp                                                                      \n2015-10-23 00:01:00                          0.0                         0.0   \n2015-10-23 00:02:00                          0.0                         0.0   \n2015-10-23 00:03:00                          0.0                         0.0   \n2015-10-23 00:04:00                          0.0                         0.0   \n2015-10-23 00:05:00                          0.0                         0.0   \n...                                          ...                         ...   \n2015-11-01 01:54:00                          0.0                         0.0   \n2015-11-01 01:55:00                          0.0                         0.0   \n2015-11-01 01:56:00                          0.0                         0.0   \n2015-11-01 01:57:00                          0.0                         0.0   \n2015-11-01 01:58:00                          0.0                         0.0   \n\n                     SHW_GlycolFlowRateHXCoriolisSHW  \\\nTimestamp                                              \n2015-10-23 00:01:00                         0.000137   \n2015-10-23 00:02:00                         0.000137   \n2015-10-23 00:03:00                         0.001342   \n2015-10-23 00:04:00                         0.001105   \n2015-10-23 00:05:00                         0.001330   \n...                                              ...   \n2015-11-01 01:54:00                         0.000200   \n2015-11-01 01:55:00                         0.000612   \n2015-11-01 01:56:00                        -0.000332   \n2015-11-01 01:57:00                        -0.000095   \n2015-11-01 01:58:00                         0.000409   \n\n                     SHW_WaterFlowRateHXCoriolisSHW  \\\nTimestamp                                             \n2015-10-23 00:01:00                       -0.000038   \n2015-10-23 00:02:00                       -0.000038   \n2015-10-23 00:03:00                       -0.000375   \n2015-10-23 00:04:00                       -0.000283   \n2015-10-23 00:05:00                        0.000028   \n...                                             ...   \n2015-11-01 01:54:00                        0.000887   \n2015-11-01 01:55:00                        0.000385   \n2015-11-01 01:56:00                        0.000558   \n2015-11-01 01:57:00                        0.000379   \n2015-11-01 01:58:00                        0.001495   \n\n                     HVAC_HeatPumpIndoorUnitPower  \\\nTimestamp                                           \n2015-10-23 00:01:00                      9.059500   \n2015-10-23 00:02:00                      9.059500   \n2015-10-23 00:03:00                      8.933400   \n2015-10-23 00:04:00                      8.290500   \n2015-10-23 00:05:00                      8.736300   \n...                                           ...   \n2015-11-01 01:54:00                      8.494867   \n2015-11-01 01:55:00                      8.528917   \n2015-11-01 01:56:00                      8.988567   \n2015-11-01 01:57:00                      8.583200   \n2015-11-01 01:58:00                      8.435000   \n\n                     HVAC_HeatPumpOutdoorUnitPower  HVAC_DehumidifierPower  \\\nTimestamp                                                                    \n2015-10-23 00:01:00                      22.694200                4.561800   \n2015-10-23 00:02:00                      22.694200                4.561800   \n2015-10-23 00:03:00                      22.295700                4.582200   \n2015-10-23 00:04:00                      22.322600                4.539700   \n2015-10-23 00:05:00                      22.808000                4.545300   \n...                                            ...                     ...   \n2015-11-01 01:54:00                      22.564600                4.391033   \n2015-11-01 01:55:00                      22.191517                4.409933   \n2015-11-01 01:56:00                      22.159467                4.416000   \n2015-11-01 01:57:00                      22.888883                4.416000   \n2015-11-01 01:58:00                      23.122467                4.394067   \n\n                     HVAC_DehumidifierInletAirTemp  \\\nTimestamp                                            \n2015-10-23 00:01:00                      71.762500   \n2015-10-23 00:02:00                      71.762500   \n2015-10-23 00:03:00                      71.757700   \n2015-10-23 00:04:00                      71.755400   \n2015-10-23 00:05:00                      71.758700   \n...                                            ...   \n2015-11-01 01:54:00                      69.584300   \n2015-11-01 01:55:00                      69.586917   \n2015-11-01 01:56:00                      69.581733   \n2015-11-01 01:57:00                      69.583133   \n2015-11-01 01:58:00                      69.586350   \n\n                     HVAC_DehumidifierExitAirTemp  HVAC_DehumidifierAirflow  \nTimestamp                                                                    \n2015-10-23 00:01:00                     72.504700                       0.0  \n2015-10-23 00:02:00                     72.504700                       0.0  \n2015-10-23 00:03:00                     72.501700                       0.0  \n2015-10-23 00:04:00                     72.500000                       0.0  \n2015-10-23 00:05:00                     72.507600                       0.0  \n...                                           ...                       ...  \n2015-11-01 01:54:00                     70.453567                       0.0  \n2015-11-01 01:55:00                     70.446950                       0.0  \n2015-11-01 01:56:00                     70.456750                       0.0  \n2015-11-01 01:57:00                     70.459217                       0.0  \n2015-11-01 01:58:00                     70.468400                       0.0  \n\n[13078 rows x 379 columns]",
      "text/html": "<div>\n<style scoped>\n    .dataframe tbody tr th:only-of-type {\n        vertical-align: middle;\n    }\n\n    .dataframe tbody tr th {\n        vertical-align: top;\n    }\n\n    .dataframe thead th {\n        text-align: right;\n    }\n</style>\n<table border=\"1\" class=\"dataframe\">\n  <thead>\n    <tr style=\"text-align: right;\">\n      <th></th>\n      <th>Load_LatentHeatWaterVolume</th>\n      <th>Load_RefrigeratorTemp</th>\n      <th>Load_StatusBA1Lights</th>\n      <th>Load_StatusKitchenLightsA</th>\n      <th>Load_StatusKitchenLightsB</th>\n      <th>Load_StatusKitchenLightsC</th>\n      <th>Load_StatusDRLights</th>\n      <th>Load_StatusLRLights3</th>\n      <th>Load_StatusEntryHallLights</th>\n      <th>Load_StatusBR4Lights</th>\n      <th>...</th>\n      <th>SHW_GlycolFlowHXCoriolisSHW</th>\n      <th>SHW_WaterFlowHXCoriolisSHW</th>\n      <th>SHW_GlycolFlowRateHXCoriolisSHW</th>\n      <th>SHW_WaterFlowRateHXCoriolisSHW</th>\n      <th>HVAC_HeatPumpIndoorUnitPower</th>\n      <th>HVAC_HeatPumpOutdoorUnitPower</th>\n      <th>HVAC_DehumidifierPower</th>\n      <th>HVAC_DehumidifierInletAirTemp</th>\n      <th>HVAC_DehumidifierExitAirTemp</th>\n      <th>HVAC_DehumidifierAirflow</th>\n    </tr>\n    <tr>\n      <th>Timestamp</th>\n      <th></th>\n      <th></th>\n      <th></th>\n      <th></th>\n      <th></th>\n      <th></th>\n      <th></th>\n      <th></th>\n      <th></th>\n      <th></th>\n      <th></th>\n      <th></th>\n      <th></th>\n      <th></th>\n      <th></th>\n      <th></th>\n      <th></th>\n      <th></th>\n      <th></th>\n      <th></th>\n      <th></th>\n    </tr>\n  </thead>\n  <tbody>\n    <tr>\n      <th>2015-10-23 00:01:00</th>\n      <td>0.000000</td>\n      <td>0.094253</td>\n      <td>0.0</td>\n      <td>0.0</td>\n      <td>0.0</td>\n      <td>0.0</td>\n      <td>0.0</td>\n      <td>0.0</td>\n      <td>0.0</td>\n      <td>0.0</td>\n      <td>...</td>\n      <td>0.0</td>\n      <td>0.0</td>\n      <td>0.000137</td>\n      <td>-0.000038</td>\n      <td>9.059500</td>\n      <td>22.694200</td>\n      <td>4.561800</td>\n      <td>71.762500</td>\n      <td>72.504700</td>\n      <td>0.0</td>\n    </tr>\n    <tr>\n      <th>2015-10-23 00:02:00</th>\n      <td>0.000000</td>\n      <td>0.094253</td>\n      <td>0.0</td>\n      <td>0.0</td>\n      <td>0.0</td>\n      <td>0.0</td>\n      <td>0.0</td>\n      <td>0.0</td>\n      <td>0.0</td>\n      <td>0.0</td>\n      <td>...</td>\n      <td>0.0</td>\n      <td>0.0</td>\n      <td>0.000137</td>\n      <td>-0.000038</td>\n      <td>9.059500</td>\n      <td>22.694200</td>\n      <td>4.561800</td>\n      <td>71.762500</td>\n      <td>72.504700</td>\n      <td>0.0</td>\n    </tr>\n    <tr>\n      <th>2015-10-23 00:03:00</th>\n      <td>0.000000</td>\n      <td>4.503068</td>\n      <td>0.0</td>\n      <td>0.0</td>\n      <td>0.0</td>\n      <td>0.0</td>\n      <td>0.0</td>\n      <td>0.0</td>\n      <td>0.0</td>\n      <td>0.0</td>\n      <td>...</td>\n      <td>0.0</td>\n      <td>0.0</td>\n      <td>0.001342</td>\n      <td>-0.000375</td>\n      <td>8.933400</td>\n      <td>22.295700</td>\n      <td>4.582200</td>\n      <td>71.757700</td>\n      <td>72.501700</td>\n      <td>0.0</td>\n    </tr>\n    <tr>\n      <th>2015-10-23 00:04:00</th>\n      <td>0.000066</td>\n      <td>4.482972</td>\n      <td>0.0</td>\n      <td>0.0</td>\n      <td>0.0</td>\n      <td>0.0</td>\n      <td>0.0</td>\n      <td>0.0</td>\n      <td>0.0</td>\n      <td>0.0</td>\n      <td>...</td>\n      <td>0.0</td>\n      <td>0.0</td>\n      <td>0.001105</td>\n      <td>-0.000283</td>\n      <td>8.290500</td>\n      <td>22.322600</td>\n      <td>4.539700</td>\n      <td>71.755400</td>\n      <td>72.500000</td>\n      <td>0.0</td>\n    </tr>\n    <tr>\n      <th>2015-10-23 00:05:00</th>\n      <td>0.000660</td>\n      <td>4.504518</td>\n      <td>0.0</td>\n      <td>0.0</td>\n      <td>0.0</td>\n      <td>0.0</td>\n      <td>0.0</td>\n      <td>0.0</td>\n      <td>0.0</td>\n      <td>0.0</td>\n      <td>...</td>\n      <td>0.0</td>\n      <td>0.0</td>\n      <td>0.001330</td>\n      <td>0.000028</td>\n      <td>8.736300</td>\n      <td>22.808000</td>\n      <td>4.545300</td>\n      <td>71.758700</td>\n      <td>72.507600</td>\n      <td>0.0</td>\n    </tr>\n    <tr>\n      <th>...</th>\n      <td>...</td>\n      <td>...</td>\n      <td>...</td>\n      <td>...</td>\n      <td>...</td>\n      <td>...</td>\n      <td>...</td>\n      <td>...</td>\n      <td>...</td>\n      <td>...</td>\n      <td>...</td>\n      <td>...</td>\n      <td>...</td>\n      <td>...</td>\n      <td>...</td>\n      <td>...</td>\n      <td>...</td>\n      <td>...</td>\n      <td>...</td>\n      <td>...</td>\n      <td>...</td>\n    </tr>\n    <tr>\n      <th>2015-11-01 01:54:00</th>\n      <td>0.147380</td>\n      <td>4.891247</td>\n      <td>0.0</td>\n      <td>0.0</td>\n      <td>0.0</td>\n      <td>0.0</td>\n      <td>0.0</td>\n      <td>0.0</td>\n      <td>0.0</td>\n      <td>0.0</td>\n      <td>...</td>\n      <td>0.0</td>\n      <td>0.0</td>\n      <td>0.000200</td>\n      <td>0.000887</td>\n      <td>8.494867</td>\n      <td>22.564600</td>\n      <td>4.391033</td>\n      <td>69.584300</td>\n      <td>70.453567</td>\n      <td>0.0</td>\n    </tr>\n    <tr>\n      <th>2015-11-01 01:55:00</th>\n      <td>0.150022</td>\n      <td>4.931942</td>\n      <td>0.0</td>\n      <td>0.0</td>\n      <td>0.0</td>\n      <td>0.0</td>\n      <td>0.0</td>\n      <td>0.0</td>\n      <td>0.0</td>\n      <td>0.0</td>\n      <td>...</td>\n      <td>0.0</td>\n      <td>0.0</td>\n      <td>0.000612</td>\n      <td>0.000385</td>\n      <td>8.528917</td>\n      <td>22.191517</td>\n      <td>4.409933</td>\n      <td>69.586917</td>\n      <td>70.446950</td>\n      <td>0.0</td>\n    </tr>\n    <tr>\n      <th>2015-11-01 01:56:00</th>\n      <td>0.150594</td>\n      <td>5.000980</td>\n      <td>0.0</td>\n      <td>0.0</td>\n      <td>0.0</td>\n      <td>0.0</td>\n      <td>0.0</td>\n      <td>0.0</td>\n      <td>0.0</td>\n      <td>0.0</td>\n      <td>...</td>\n      <td>0.0</td>\n      <td>0.0</td>\n      <td>-0.000332</td>\n      <td>0.000558</td>\n      <td>8.988567</td>\n      <td>22.159467</td>\n      <td>4.416000</td>\n      <td>69.581733</td>\n      <td>70.456750</td>\n      <td>0.0</td>\n    </tr>\n    <tr>\n      <th>2015-11-01 01:57:00</th>\n      <td>0.150594</td>\n      <td>5.068093</td>\n      <td>0.0</td>\n      <td>0.0</td>\n      <td>0.0</td>\n      <td>0.0</td>\n      <td>0.0</td>\n      <td>0.0</td>\n      <td>0.0</td>\n      <td>0.0</td>\n      <td>...</td>\n      <td>0.0</td>\n      <td>0.0</td>\n      <td>-0.000095</td>\n      <td>0.000379</td>\n      <td>8.583200</td>\n      <td>22.888883</td>\n      <td>4.416000</td>\n      <td>69.583133</td>\n      <td>70.459217</td>\n      <td>0.0</td>\n    </tr>\n    <tr>\n      <th>2015-11-01 01:58:00</th>\n      <td>0.153181</td>\n      <td>5.138010</td>\n      <td>0.0</td>\n      <td>0.0</td>\n      <td>0.0</td>\n      <td>0.0</td>\n      <td>0.0</td>\n      <td>0.0</td>\n      <td>0.0</td>\n      <td>0.0</td>\n      <td>...</td>\n      <td>0.0</td>\n      <td>0.0</td>\n      <td>0.000409</td>\n      <td>0.001495</td>\n      <td>8.435000</td>\n      <td>23.122467</td>\n      <td>4.394067</td>\n      <td>69.586350</td>\n      <td>70.468400</td>\n      <td>0.0</td>\n    </tr>\n  </tbody>\n</table>\n<p>13078 rows × 379 columns</p>\n</div>"
     },
     "execution_count": 98,
     "metadata": {},
     "output_type": "execute_result"
    }
   ],
   "source": [
    "df_2_interpolated"
   ],
   "metadata": {
    "collapsed": false,
    "pycharm": {
     "name": "#%%\n"
    }
   }
  },
  {
   "cell_type": "code",
   "execution_count": null,
   "outputs": [],
   "source": [],
   "metadata": {
    "collapsed": false,
    "pycharm": {
     "name": "#%%\n"
    }
   }
  }
 ],
 "metadata": {
  "kernelspec": {
   "display_name": "Python 3",
   "language": "python",
   "name": "python3"
  },
  "language_info": {
   "codemirror_mode": {
    "name": "ipython",
    "version": 2
   },
   "file_extension": ".py",
   "mimetype": "text/x-python",
   "name": "python",
   "nbconvert_exporter": "python",
   "pygments_lexer": "ipython2",
   "version": "2.7.6"
  }
 },
 "nbformat": 4,
 "nbformat_minor": 0
}