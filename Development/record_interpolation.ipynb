{
 "cells": [
  {
   "cell_type": "code",
   "execution_count": 32,
   "metadata": {
    "collapsed": true
   },
   "outputs": [],
   "source": [
    "import pandas as pd\n",
    "import numpy as np\n",
    "\n",
    "import DataRetriever as dr\n",
    "\n",
    "retriever = dr.DataRetriever()\n",
    "\n",
    "df = retriever.get_data(\"All-Subsystems-minute-Year2.pkl\")\n",
    "\n",
    "pd.options.mode.chained_assignment = None"
   ]
  },
  {
   "cell_type": "code",
   "execution_count": 33,
   "outputs": [],
   "source": [
    "df[\"Timestamp\"] = pd.to_datetime(df[\"Timestamp\"])"
   ],
   "metadata": {
    "collapsed": false,
    "pycharm": {
     "name": "#%%\n"
    }
   }
  },
  {
   "cell_type": "code",
   "execution_count": 34,
   "outputs": [],
   "source": [
    "# Creating a pd.Series with the timestamp shifted one downwards. Adding the first value twice, and excluding the last.\n",
    "timestamp_plus_one = pd.concat([pd.Series(df[\"Timestamp\"][0]), df[\"Timestamp\"][:-1]], ignore_index=True)\n",
    "\n",
    "# Creating a new column with the time delta in seconds.\n",
    "df[\"Timestamp_Delta\"] = (df[\"Timestamp\"] - timestamp_plus_one).astype('timedelta64[s]')"
   ],
   "metadata": {
    "collapsed": false,
    "pycharm": {
     "name": "#%%\n"
    }
   }
  },
  {
   "cell_type": "code",
   "execution_count": 35,
   "outputs": [],
   "source": [
    "df_index_split = df[df[\"Timestamp_Delta\"] > 300].index"
   ],
   "metadata": {
    "collapsed": false,
    "pycharm": {
     "name": "#%%\n"
    }
   }
  },
  {
   "cell_type": "code",
   "execution_count": 36,
   "outputs": [],
   "source": [
    "for row in df.index:\n",
    "    dt = df[\"Timestamp\"][row]\n",
    "    df.at[row, \"Timestamp\"] = pd.Timestamp(year=dt.year, month=dt.month, day=dt.day,\n",
    "                                       hour=dt.hour, minute=dt.minute, second=dt.second)\n",
    "\n",
    "df[\"Timestamp\"] = pd.to_datetime(df[\"Timestamp\"])"
   ],
   "metadata": {
    "collapsed": false,
    "pycharm": {
     "name": "#%%\n"
    }
   }
  },
  {
   "cell_type": "markdown",
   "source": [
    "# Interpolate measurements"
   ],
   "metadata": {
    "collapsed": false
   }
  },
  {
   "cell_type": "code",
   "execution_count": 37,
   "outputs": [
    {
     "data": {
      "text/plain": "                 Timestamp  TimeStamp_Count  Load_LatentHeatWaterVolume  \\\n27384  2015-02-20 01:03:37            27385                    0.055482   \n27385  2015-02-20 01:04:37            27386                    0.058124   \n27386  2015-02-20 01:05:37            27387                    0.058124   \n27387  2015-02-20 01:06:37            27388                    0.058124   \n27388  2015-02-20 01:07:37            27389                    0.058124   \n...                    ...              ...                         ...   \n516793 2016-01-30 01:06:29           516794                    0.070674   \n516794 2016-01-30 01:07:29           516795                    0.071334   \n516795 2016-01-30 01:08:29           516796                    0.074636   \n516796 2016-01-30 01:09:29           516797                    0.074636   \n516797 2016-01-30 01:10:29           516798                    0.074636   \n\n        Load_RefrigeratorTemp  Load_StatusBA1Lights  \\\n27384                4.712000                   0.0   \n27385                4.776172                   0.0   \n27386                4.860834                   0.0   \n27387                4.862597                   0.0   \n27388                4.887749                   0.0   \n...                       ...                   ...   \n516793               5.211040                   0.0   \n516794               5.313943                   0.0   \n516795               5.391418                   0.0   \n516796               5.436720                   0.0   \n516797               5.512138                   0.0   \n\n        Load_StatusKitchenLightsA  Load_StatusKitchenLightsB  \\\n27384                         0.0                        0.0   \n27385                         0.0                        0.0   \n27386                         0.0                        0.0   \n27387                         0.0                        0.0   \n27388                         0.0                        0.0   \n...                           ...                        ...   \n516793                        0.0                        0.0   \n516794                        0.0                        0.0   \n516795                        0.0                        0.0   \n516796                        0.0                        0.0   \n516797                        0.0                        0.0   \n\n        Load_StatusKitchenLightsC  Load_StatusDRLights  Load_StatusLRLights3  \\\n27384                         0.0                  0.0                   0.0   \n27385                         0.0                  0.0                   0.0   \n27386                         0.0                  0.0                   0.0   \n27387                         0.0                  0.0                   0.0   \n27388                         0.0                  0.0                   0.0   \n...                           ...                  ...                   ...   \n516793                        0.0                  0.0                   0.0   \n516794                        0.0                  0.0                   0.0   \n516795                        0.0                  0.0                   0.0   \n516796                        0.0                  0.0                   0.0   \n516797                        0.0                  0.0                   0.0   \n\n        ...  SHW_WaterFlowHXCoriolisSHW  SHW_GlycolFlowRateHXCoriolisSHW  \\\n27384   ...                         NaN                              NaN   \n27385   ...                         NaN                              NaN   \n27386   ...                         NaN                              NaN   \n27387   ...                         NaN                              NaN   \n27388   ...                         NaN                              NaN   \n...     ...                         ...                              ...   \n516793  ...                         0.0                        -0.018551   \n516794  ...                         0.0                        -0.017023   \n516795  ...                         0.0                        -0.017164   \n516796  ...                         0.0                        -0.015977   \n516797  ...                         0.0                        -0.017669   \n\n        SHW_WaterFlowRateHXCoriolisSHW  HVAC_HeatPumpIndoorUnitPower  \\\n27384                              NaN                           NaN   \n27385                              NaN                           NaN   \n27386                              NaN                           NaN   \n27387                              NaN                           NaN   \n27388                              NaN                           NaN   \n...                                ...                           ...   \n516793                        0.001090                           NaN   \n516794                       -0.000391                           NaN   \n516795                       -0.000776                           NaN   \n516796                       -0.001013                           NaN   \n516797                        0.001587                           NaN   \n\n        HVAC_HeatPumpOutdoorUnitPower  HVAC_DehumidifierPower  \\\n27384                             NaN                     NaN   \n27385                             NaN                     NaN   \n27386                             NaN                     NaN   \n27387                             NaN                     NaN   \n27388                             NaN                     NaN   \n...                               ...                     ...   \n516793                            NaN                     NaN   \n516794                            NaN                     NaN   \n516795                            NaN                     NaN   \n516796                            NaN                     NaN   \n516797                            NaN                     NaN   \n\n        HVAC_DehumidifierInletAirTemp  HVAC_DehumidifierExitAirTemp  \\\n27384                             NaN                           NaN   \n27385                             NaN                           NaN   \n27386                             NaN                           NaN   \n27387                             NaN                           NaN   \n27388                             NaN                           NaN   \n...                               ...                           ...   \n516793                            NaN                           NaN   \n516794                            NaN                           NaN   \n516795                            NaN                           NaN   \n516796                            NaN                           NaN   \n516797                            NaN                           NaN   \n\n        HVAC_DehumidifierAirflow  Timestamp_Delta  \n27384                        NaN             60.0  \n27385                        NaN             60.0  \n27386                        NaN             60.0  \n27387                        NaN             60.0  \n27388                        NaN             60.0  \n...                          ...              ...  \n516793                       NaN             60.0  \n516794                       NaN             60.0  \n516795                       NaN             60.0  \n516796                       NaN             60.0  \n516797                       NaN             60.0  \n\n[777 rows x 383 columns]",
      "text/html": "<div>\n<style scoped>\n    .dataframe tbody tr th:only-of-type {\n        vertical-align: middle;\n    }\n\n    .dataframe tbody tr th {\n        vertical-align: top;\n    }\n\n    .dataframe thead th {\n        text-align: right;\n    }\n</style>\n<table border=\"1\" class=\"dataframe\">\n  <thead>\n    <tr style=\"text-align: right;\">\n      <th></th>\n      <th>Timestamp</th>\n      <th>TimeStamp_Count</th>\n      <th>Load_LatentHeatWaterVolume</th>\n      <th>Load_RefrigeratorTemp</th>\n      <th>Load_StatusBA1Lights</th>\n      <th>Load_StatusKitchenLightsA</th>\n      <th>Load_StatusKitchenLightsB</th>\n      <th>Load_StatusKitchenLightsC</th>\n      <th>Load_StatusDRLights</th>\n      <th>Load_StatusLRLights3</th>\n      <th>...</th>\n      <th>SHW_WaterFlowHXCoriolisSHW</th>\n      <th>SHW_GlycolFlowRateHXCoriolisSHW</th>\n      <th>SHW_WaterFlowRateHXCoriolisSHW</th>\n      <th>HVAC_HeatPumpIndoorUnitPower</th>\n      <th>HVAC_HeatPumpOutdoorUnitPower</th>\n      <th>HVAC_DehumidifierPower</th>\n      <th>HVAC_DehumidifierInletAirTemp</th>\n      <th>HVAC_DehumidifierExitAirTemp</th>\n      <th>HVAC_DehumidifierAirflow</th>\n      <th>Timestamp_Delta</th>\n    </tr>\n  </thead>\n  <tbody>\n    <tr>\n      <th>27384</th>\n      <td>2015-02-20 01:03:37</td>\n      <td>27385</td>\n      <td>0.055482</td>\n      <td>4.712000</td>\n      <td>0.0</td>\n      <td>0.0</td>\n      <td>0.0</td>\n      <td>0.0</td>\n      <td>0.0</td>\n      <td>0.0</td>\n      <td>...</td>\n      <td>NaN</td>\n      <td>NaN</td>\n      <td>NaN</td>\n      <td>NaN</td>\n      <td>NaN</td>\n      <td>NaN</td>\n      <td>NaN</td>\n      <td>NaN</td>\n      <td>NaN</td>\n      <td>60.0</td>\n    </tr>\n    <tr>\n      <th>27385</th>\n      <td>2015-02-20 01:04:37</td>\n      <td>27386</td>\n      <td>0.058124</td>\n      <td>4.776172</td>\n      <td>0.0</td>\n      <td>0.0</td>\n      <td>0.0</td>\n      <td>0.0</td>\n      <td>0.0</td>\n      <td>0.0</td>\n      <td>...</td>\n      <td>NaN</td>\n      <td>NaN</td>\n      <td>NaN</td>\n      <td>NaN</td>\n      <td>NaN</td>\n      <td>NaN</td>\n      <td>NaN</td>\n      <td>NaN</td>\n      <td>NaN</td>\n      <td>60.0</td>\n    </tr>\n    <tr>\n      <th>27386</th>\n      <td>2015-02-20 01:05:37</td>\n      <td>27387</td>\n      <td>0.058124</td>\n      <td>4.860834</td>\n      <td>0.0</td>\n      <td>0.0</td>\n      <td>0.0</td>\n      <td>0.0</td>\n      <td>0.0</td>\n      <td>0.0</td>\n      <td>...</td>\n      <td>NaN</td>\n      <td>NaN</td>\n      <td>NaN</td>\n      <td>NaN</td>\n      <td>NaN</td>\n      <td>NaN</td>\n      <td>NaN</td>\n      <td>NaN</td>\n      <td>NaN</td>\n      <td>60.0</td>\n    </tr>\n    <tr>\n      <th>27387</th>\n      <td>2015-02-20 01:06:37</td>\n      <td>27388</td>\n      <td>0.058124</td>\n      <td>4.862597</td>\n      <td>0.0</td>\n      <td>0.0</td>\n      <td>0.0</td>\n      <td>0.0</td>\n      <td>0.0</td>\n      <td>0.0</td>\n      <td>...</td>\n      <td>NaN</td>\n      <td>NaN</td>\n      <td>NaN</td>\n      <td>NaN</td>\n      <td>NaN</td>\n      <td>NaN</td>\n      <td>NaN</td>\n      <td>NaN</td>\n      <td>NaN</td>\n      <td>60.0</td>\n    </tr>\n    <tr>\n      <th>27388</th>\n      <td>2015-02-20 01:07:37</td>\n      <td>27389</td>\n      <td>0.058124</td>\n      <td>4.887749</td>\n      <td>0.0</td>\n      <td>0.0</td>\n      <td>0.0</td>\n      <td>0.0</td>\n      <td>0.0</td>\n      <td>0.0</td>\n      <td>...</td>\n      <td>NaN</td>\n      <td>NaN</td>\n      <td>NaN</td>\n      <td>NaN</td>\n      <td>NaN</td>\n      <td>NaN</td>\n      <td>NaN</td>\n      <td>NaN</td>\n      <td>NaN</td>\n      <td>60.0</td>\n    </tr>\n    <tr>\n      <th>...</th>\n      <td>...</td>\n      <td>...</td>\n      <td>...</td>\n      <td>...</td>\n      <td>...</td>\n      <td>...</td>\n      <td>...</td>\n      <td>...</td>\n      <td>...</td>\n      <td>...</td>\n      <td>...</td>\n      <td>...</td>\n      <td>...</td>\n      <td>...</td>\n      <td>...</td>\n      <td>...</td>\n      <td>...</td>\n      <td>...</td>\n      <td>...</td>\n      <td>...</td>\n      <td>...</td>\n    </tr>\n    <tr>\n      <th>516793</th>\n      <td>2016-01-30 01:06:29</td>\n      <td>516794</td>\n      <td>0.070674</td>\n      <td>5.211040</td>\n      <td>0.0</td>\n      <td>0.0</td>\n      <td>0.0</td>\n      <td>0.0</td>\n      <td>0.0</td>\n      <td>0.0</td>\n      <td>...</td>\n      <td>0.0</td>\n      <td>-0.018551</td>\n      <td>0.001090</td>\n      <td>NaN</td>\n      <td>NaN</td>\n      <td>NaN</td>\n      <td>NaN</td>\n      <td>NaN</td>\n      <td>NaN</td>\n      <td>60.0</td>\n    </tr>\n    <tr>\n      <th>516794</th>\n      <td>2016-01-30 01:07:29</td>\n      <td>516795</td>\n      <td>0.071334</td>\n      <td>5.313943</td>\n      <td>0.0</td>\n      <td>0.0</td>\n      <td>0.0</td>\n      <td>0.0</td>\n      <td>0.0</td>\n      <td>0.0</td>\n      <td>...</td>\n      <td>0.0</td>\n      <td>-0.017023</td>\n      <td>-0.000391</td>\n      <td>NaN</td>\n      <td>NaN</td>\n      <td>NaN</td>\n      <td>NaN</td>\n      <td>NaN</td>\n      <td>NaN</td>\n      <td>60.0</td>\n    </tr>\n    <tr>\n      <th>516795</th>\n      <td>2016-01-30 01:08:29</td>\n      <td>516796</td>\n      <td>0.074636</td>\n      <td>5.391418</td>\n      <td>0.0</td>\n      <td>0.0</td>\n      <td>0.0</td>\n      <td>0.0</td>\n      <td>0.0</td>\n      <td>0.0</td>\n      <td>...</td>\n      <td>0.0</td>\n      <td>-0.017164</td>\n      <td>-0.000776</td>\n      <td>NaN</td>\n      <td>NaN</td>\n      <td>NaN</td>\n      <td>NaN</td>\n      <td>NaN</td>\n      <td>NaN</td>\n      <td>60.0</td>\n    </tr>\n    <tr>\n      <th>516796</th>\n      <td>2016-01-30 01:09:29</td>\n      <td>516797</td>\n      <td>0.074636</td>\n      <td>5.436720</td>\n      <td>0.0</td>\n      <td>0.0</td>\n      <td>0.0</td>\n      <td>0.0</td>\n      <td>0.0</td>\n      <td>0.0</td>\n      <td>...</td>\n      <td>0.0</td>\n      <td>-0.015977</td>\n      <td>-0.001013</td>\n      <td>NaN</td>\n      <td>NaN</td>\n      <td>NaN</td>\n      <td>NaN</td>\n      <td>NaN</td>\n      <td>NaN</td>\n      <td>60.0</td>\n    </tr>\n    <tr>\n      <th>516797</th>\n      <td>2016-01-30 01:10:29</td>\n      <td>516798</td>\n      <td>0.074636</td>\n      <td>5.512138</td>\n      <td>0.0</td>\n      <td>0.0</td>\n      <td>0.0</td>\n      <td>0.0</td>\n      <td>0.0</td>\n      <td>0.0</td>\n      <td>...</td>\n      <td>0.0</td>\n      <td>-0.017669</td>\n      <td>0.001587</td>\n      <td>NaN</td>\n      <td>NaN</td>\n      <td>NaN</td>\n      <td>NaN</td>\n      <td>NaN</td>\n      <td>NaN</td>\n      <td>60.0</td>\n    </tr>\n  </tbody>\n</table>\n<p>777 rows × 383 columns</p>\n</div>"
     },
     "execution_count": 37,
     "metadata": {},
     "output_type": "execute_result"
    }
   ],
   "source": [
    "df[df[\"HVAC_HeatPumpIndoorUnitPower\"].isnull() == True]"
   ],
   "metadata": {
    "collapsed": false,
    "pycharm": {
     "name": "#%%\n"
    }
   }
  },
  {
   "cell_type": "code",
   "execution_count": 38,
   "outputs": [
    {
     "data": {
      "text/plain": "Timestamp                          0\nTimeStamp_Count                    0\nLoad_LatentHeatWaterVolume         0\nLoad_RefrigeratorTemp              0\nLoad_StatusBA1Lights               0\n                                ... \nHVAC_DehumidifierPower           777\nHVAC_DehumidifierInletAirTemp    777\nHVAC_DehumidifierExitAirTemp     777\nHVAC_DehumidifierAirflow         777\nTimestamp_Delta                    0\nLength: 383, dtype: int64"
     },
     "execution_count": 38,
     "metadata": {},
     "output_type": "execute_result"
    }
   ],
   "source": [
    "df.isnull().sum()"
   ],
   "metadata": {
    "collapsed": false,
    "pycharm": {
     "name": "#%%\n"
    }
   }
  },
  {
   "cell_type": "markdown",
   "source": [
    "# Function to create interpolated records based on a DataFrame"
   ],
   "metadata": {
    "collapsed": false
   }
  },
  {
   "cell_type": "code",
   "execution_count": 61,
   "outputs": [],
   "source": [
    "def interpolate_df(dataframe):\n",
    "    dataframe.index = dataframe[\"Timestamp\"]\n",
    "    dataframe[\"DF\"] = 1\n",
    "    dataframe.drop([\"Timestamp\", \"TimeStamp_Count\", \"DayOfWeek\", \"Timestamp_Delta\"], axis=1, inplace=True)\n",
    "\n",
    "    interpolation_records = dataframe.resample('1T') # Rækker svarende til 1 min i forskel\n",
    "    interpolation_records = interpolation_records.interpolate()\n",
    "    interpolation_records[\"DF\"] = 0\n",
    "\n",
    "    df_concat = pd.concat([dataframe, interpolation_records], axis=0)\n",
    "    df_concat.sort_index(inplace=True)\n",
    "\n",
    "    df_concat.interpolate(method=\"time\", inplace=True)\n",
    "\n",
    "    df_concat.dropna(inplace=True)\n",
    "\n",
    "    df_concat = df_concat[df_concat[\"DF\"] == 0]\n",
    "\n",
    "    del df_concat[\"DF\"]\n",
    "\n",
    "    return df_concat"
   ],
   "metadata": {
    "collapsed": false,
    "pycharm": {
     "name": "#%%\n"
    }
   }
  },
  {
   "cell_type": "markdown",
   "source": [
    "# Handle boolean attributes"
   ],
   "metadata": {
    "collapsed": false
   }
  },
  {
   "cell_type": "code",
   "execution_count": 62,
   "outputs": [],
   "source": [
    "metadata = retriever.get_data(\"metadata-year2.pkl\")\n",
    "metadata.rename(columns={\"Unnamed: 0\": \"Attribute\"}, inplace=True)"
   ],
   "metadata": {
    "collapsed": false,
    "pycharm": {
     "name": "#%%\n"
    }
   }
  },
  {
   "cell_type": "code",
   "source": [
    "boolean_attributes = metadata[\"Attribute\"][metadata[\"Units\"] == \"Binary Status\"].tolist()"
   ],
   "metadata": {
    "collapsed": false,
    "pycharm": {
     "name": "#%%\n"
    }
   },
   "execution_count": 63,
   "outputs": []
  },
  {
   "cell_type": "code",
   "execution_count": 64,
   "outputs": [],
   "source": [
    "list_boolean_attributes = list(set(boolean_attributes) & set(df.columns.tolist())) # Some columns does not exist in df"
   ],
   "metadata": {
    "collapsed": false,
    "pycharm": {
     "name": "#%%\n"
    }
   }
  },
  {
   "cell_type": "code",
   "execution_count": 65,
   "outputs": [],
   "source": [
    "def resolve_boolean(dataframe, columns=list_boolean_attributes):\n",
    "    dataframe[columns] = dataframe[columns].round()\n",
    "    return dataframe"
   ],
   "metadata": {
    "collapsed": false,
    "pycharm": {
     "name": "#%%\n"
    }
   }
  },
  {
   "cell_type": "markdown",
   "source": [
    "# Sub-DataFrames interpolated"
   ],
   "metadata": {
    "collapsed": false
   }
  },
  {
   "cell_type": "code",
   "execution_count": 66,
   "outputs": [],
   "source": [
    "df_1_interpolated = resolve_boolean(dataframe=interpolate_df(dataframe=df[:df_index_split[0]]))\n",
    "df_2_interpolated = resolve_boolean(dataframe=interpolate_df(dataframe=df[df_index_split[0]:df_index_split[1]]))\n",
    "df_3_interpolated = resolve_boolean(dataframe=interpolate_df(dataframe=df[df_index_split[1]:df_index_split[2]]))\n",
    "df_4_interpolated = resolve_boolean(dataframe=interpolate_df(dataframe=df[df_index_split[2]:]))"
   ],
   "metadata": {
    "collapsed": false,
    "pycharm": {
     "name": "#%%\n"
    }
   }
  },
  {
   "cell_type": "code",
   "execution_count": 69,
   "outputs": [
    {
     "data": {
      "text/plain": "                 Timestamp  Load_LatentHeatWaterVolume  Load_RefrigeratorTemp  \\\n0      2015-06-30 00:02:00                    0.126377               5.115046   \n1      2015-06-30 00:03:00                    0.126363               5.115063   \n2      2015-06-30 00:04:00                    0.126348               5.115081   \n3      2015-06-30 00:05:00                    0.126334               5.115098   \n4      2015-06-30 00:06:00                    0.126319               5.115116   \n...                    ...                         ...                    ...   \n161272 2015-10-19 23:54:00                    0.799205               5.112026   \n161273 2015-10-19 23:55:00                    0.799205               5.112026   \n161274 2015-10-19 23:56:00                    0.799205               5.112026   \n161275 2015-10-19 23:57:00                    0.799205               5.112026   \n161276 2015-10-19 23:58:00                    0.799205               5.112026   \n\n        Load_StatusBA1Lights  Load_StatusKitchenLightsA  \\\n0                        0.0                        0.0   \n1                        0.0                        0.0   \n2                        0.0                        0.0   \n3                        0.0                        0.0   \n4                        0.0                        0.0   \n...                      ...                        ...   \n161272                   0.0                        0.0   \n161273                   0.0                        0.0   \n161274                   0.0                        0.0   \n161275                   0.0                        0.0   \n161276                   0.0                        0.0   \n\n        Load_StatusKitchenLightsB  Load_StatusKitchenLightsC  \\\n0                             0.0                        0.0   \n1                             0.0                        0.0   \n2                             0.0                        0.0   \n3                             0.0                        0.0   \n4                             0.0                        0.0   \n...                           ...                        ...   \n161272                        0.0                        0.0   \n161273                        0.0                        0.0   \n161274                        0.0                        0.0   \n161275                        0.0                        0.0   \n161276                        0.0                        0.0   \n\n        Load_StatusDRLights  Load_StatusLRLights3  Load_StatusEntryHallLights  \\\n0                       0.0                   0.0                         0.0   \n1                       0.0                   0.0                         0.0   \n2                       0.0                   0.0                         0.0   \n3                       0.0                   0.0                         0.0   \n4                       0.0                   0.0                         0.0   \n...                     ...                   ...                         ...   \n161272                  0.0                   0.0                         0.0   \n161273                  0.0                   0.0                         0.0   \n161274                  0.0                   0.0                         0.0   \n161275                  0.0                   0.0                         0.0   \n161276                  0.0                   0.0                         0.0   \n\n        ...  SHW_WaterFlowHXCoriolisSHW  SHW_GlycolFlowRateHXCoriolisSHW  \\\n0       ...                35508.000000                     6.073449e-07   \n1       ...                35508.000000                     5.867736e-06   \n2       ...                35508.000000                    -3.938519e-06   \n3       ...                35508.000000                    -5.850107e-06   \n4       ...                35508.000000                    -8.385785e-06   \n...     ...                         ...                              ...   \n161272  ...                  677.418936                     1.896195e-03   \n161273  ...                  677.418936                     1.896195e-03   \n161274  ...                  677.418936                     1.896195e-03   \n161275  ...                  677.418936                     1.896195e-03   \n161276  ...                  677.418936                     1.896195e-03   \n\n        SHW_WaterFlowRateHXCoriolisSHW  HVAC_HeatPumpIndoorUnitPower  \\\n0                            -0.000005                     98.904745   \n1                             0.000007                     98.907478   \n2                             0.000004                     98.910212   \n3                            -0.000005                     98.912945   \n4                            -0.000007                     98.915679   \n...                                ...                           ...   \n161272                        0.001210                      9.940000   \n161273                        0.001210                      9.940000   \n161274                        0.001210                      9.940000   \n161275                        0.001210                      9.940000   \n161276                        0.001210                      9.940000   \n\n        HVAC_HeatPumpOutdoorUnitPower  HVAC_DehumidifierPower  \\\n0                          670.825000                4.621383   \n1                          670.845606                4.621388   \n2                          670.866211                4.621393   \n3                          670.886816                4.621398   \n4                          670.907422                4.621403   \n...                               ...                     ...   \n161272                      22.300000                4.539000   \n161273                      22.300000                4.539000   \n161274                      22.300000                4.539000   \n161275                      22.300000                4.539000   \n161276                      22.300000                4.539000   \n\n        HVAC_DehumidifierInletAirTemp  HVAC_DehumidifierExitAirTemp  \\\n0                           71.666469                     87.538439   \n1                           71.666595                     87.539179   \n2                           71.666720                     87.539918   \n3                           71.666846                     87.540658   \n4                           71.666971                     87.541397   \n...                               ...                           ...   \n161272                      68.618000                     69.998000   \n161273                      68.618000                     69.998000   \n161274                      68.618000                     69.998000   \n161275                      68.618000                     69.998000   \n161276                      68.618000                     69.998000   \n\n        HVAC_DehumidifierAirflow  Timestamp_Delta  \n0                       9.361570              0.0  \n1                       9.361875             60.0  \n2                       9.362180             60.0  \n3                       9.362486             60.0  \n4                       9.362791             60.0  \n...                          ...              ...  \n161272                  0.000000             60.0  \n161273                  0.000000             60.0  \n161274                  0.000000             60.0  \n161275                  0.000000             60.0  \n161276                  0.000000             60.0  \n\n[161277 rows x 381 columns]",
      "text/html": "<div>\n<style scoped>\n    .dataframe tbody tr th:only-of-type {\n        vertical-align: middle;\n    }\n\n    .dataframe tbody tr th {\n        vertical-align: top;\n    }\n\n    .dataframe thead th {\n        text-align: right;\n    }\n</style>\n<table border=\"1\" class=\"dataframe\">\n  <thead>\n    <tr style=\"text-align: right;\">\n      <th></th>\n      <th>Timestamp</th>\n      <th>Load_LatentHeatWaterVolume</th>\n      <th>Load_RefrigeratorTemp</th>\n      <th>Load_StatusBA1Lights</th>\n      <th>Load_StatusKitchenLightsA</th>\n      <th>Load_StatusKitchenLightsB</th>\n      <th>Load_StatusKitchenLightsC</th>\n      <th>Load_StatusDRLights</th>\n      <th>Load_StatusLRLights3</th>\n      <th>Load_StatusEntryHallLights</th>\n      <th>...</th>\n      <th>SHW_WaterFlowHXCoriolisSHW</th>\n      <th>SHW_GlycolFlowRateHXCoriolisSHW</th>\n      <th>SHW_WaterFlowRateHXCoriolisSHW</th>\n      <th>HVAC_HeatPumpIndoorUnitPower</th>\n      <th>HVAC_HeatPumpOutdoorUnitPower</th>\n      <th>HVAC_DehumidifierPower</th>\n      <th>HVAC_DehumidifierInletAirTemp</th>\n      <th>HVAC_DehumidifierExitAirTemp</th>\n      <th>HVAC_DehumidifierAirflow</th>\n      <th>Timestamp_Delta</th>\n    </tr>\n  </thead>\n  <tbody>\n    <tr>\n      <th>0</th>\n      <td>2015-06-30 00:02:00</td>\n      <td>0.126377</td>\n      <td>5.115046</td>\n      <td>0.0</td>\n      <td>0.0</td>\n      <td>0.0</td>\n      <td>0.0</td>\n      <td>0.0</td>\n      <td>0.0</td>\n      <td>0.0</td>\n      <td>...</td>\n      <td>35508.000000</td>\n      <td>6.073449e-07</td>\n      <td>-0.000005</td>\n      <td>98.904745</td>\n      <td>670.825000</td>\n      <td>4.621383</td>\n      <td>71.666469</td>\n      <td>87.538439</td>\n      <td>9.361570</td>\n      <td>0.0</td>\n    </tr>\n    <tr>\n      <th>1</th>\n      <td>2015-06-30 00:03:00</td>\n      <td>0.126363</td>\n      <td>5.115063</td>\n      <td>0.0</td>\n      <td>0.0</td>\n      <td>0.0</td>\n      <td>0.0</td>\n      <td>0.0</td>\n      <td>0.0</td>\n      <td>0.0</td>\n      <td>...</td>\n      <td>35508.000000</td>\n      <td>5.867736e-06</td>\n      <td>0.000007</td>\n      <td>98.907478</td>\n      <td>670.845606</td>\n      <td>4.621388</td>\n      <td>71.666595</td>\n      <td>87.539179</td>\n      <td>9.361875</td>\n      <td>60.0</td>\n    </tr>\n    <tr>\n      <th>2</th>\n      <td>2015-06-30 00:04:00</td>\n      <td>0.126348</td>\n      <td>5.115081</td>\n      <td>0.0</td>\n      <td>0.0</td>\n      <td>0.0</td>\n      <td>0.0</td>\n      <td>0.0</td>\n      <td>0.0</td>\n      <td>0.0</td>\n      <td>...</td>\n      <td>35508.000000</td>\n      <td>-3.938519e-06</td>\n      <td>0.000004</td>\n      <td>98.910212</td>\n      <td>670.866211</td>\n      <td>4.621393</td>\n      <td>71.666720</td>\n      <td>87.539918</td>\n      <td>9.362180</td>\n      <td>60.0</td>\n    </tr>\n    <tr>\n      <th>3</th>\n      <td>2015-06-30 00:05:00</td>\n      <td>0.126334</td>\n      <td>5.115098</td>\n      <td>0.0</td>\n      <td>0.0</td>\n      <td>0.0</td>\n      <td>0.0</td>\n      <td>0.0</td>\n      <td>0.0</td>\n      <td>0.0</td>\n      <td>...</td>\n      <td>35508.000000</td>\n      <td>-5.850107e-06</td>\n      <td>-0.000005</td>\n      <td>98.912945</td>\n      <td>670.886816</td>\n      <td>4.621398</td>\n      <td>71.666846</td>\n      <td>87.540658</td>\n      <td>9.362486</td>\n      <td>60.0</td>\n    </tr>\n    <tr>\n      <th>4</th>\n      <td>2015-06-30 00:06:00</td>\n      <td>0.126319</td>\n      <td>5.115116</td>\n      <td>0.0</td>\n      <td>0.0</td>\n      <td>0.0</td>\n      <td>0.0</td>\n      <td>0.0</td>\n      <td>0.0</td>\n      <td>0.0</td>\n      <td>...</td>\n      <td>35508.000000</td>\n      <td>-8.385785e-06</td>\n      <td>-0.000007</td>\n      <td>98.915679</td>\n      <td>670.907422</td>\n      <td>4.621403</td>\n      <td>71.666971</td>\n      <td>87.541397</td>\n      <td>9.362791</td>\n      <td>60.0</td>\n    </tr>\n    <tr>\n      <th>...</th>\n      <td>...</td>\n      <td>...</td>\n      <td>...</td>\n      <td>...</td>\n      <td>...</td>\n      <td>...</td>\n      <td>...</td>\n      <td>...</td>\n      <td>...</td>\n      <td>...</td>\n      <td>...</td>\n      <td>...</td>\n      <td>...</td>\n      <td>...</td>\n      <td>...</td>\n      <td>...</td>\n      <td>...</td>\n      <td>...</td>\n      <td>...</td>\n      <td>...</td>\n      <td>...</td>\n    </tr>\n    <tr>\n      <th>161272</th>\n      <td>2015-10-19 23:54:00</td>\n      <td>0.799205</td>\n      <td>5.112026</td>\n      <td>0.0</td>\n      <td>0.0</td>\n      <td>0.0</td>\n      <td>0.0</td>\n      <td>0.0</td>\n      <td>0.0</td>\n      <td>0.0</td>\n      <td>...</td>\n      <td>677.418936</td>\n      <td>1.896195e-03</td>\n      <td>0.001210</td>\n      <td>9.940000</td>\n      <td>22.300000</td>\n      <td>4.539000</td>\n      <td>68.618000</td>\n      <td>69.998000</td>\n      <td>0.000000</td>\n      <td>60.0</td>\n    </tr>\n    <tr>\n      <th>161273</th>\n      <td>2015-10-19 23:55:00</td>\n      <td>0.799205</td>\n      <td>5.112026</td>\n      <td>0.0</td>\n      <td>0.0</td>\n      <td>0.0</td>\n      <td>0.0</td>\n      <td>0.0</td>\n      <td>0.0</td>\n      <td>0.0</td>\n      <td>...</td>\n      <td>677.418936</td>\n      <td>1.896195e-03</td>\n      <td>0.001210</td>\n      <td>9.940000</td>\n      <td>22.300000</td>\n      <td>4.539000</td>\n      <td>68.618000</td>\n      <td>69.998000</td>\n      <td>0.000000</td>\n      <td>60.0</td>\n    </tr>\n    <tr>\n      <th>161274</th>\n      <td>2015-10-19 23:56:00</td>\n      <td>0.799205</td>\n      <td>5.112026</td>\n      <td>0.0</td>\n      <td>0.0</td>\n      <td>0.0</td>\n      <td>0.0</td>\n      <td>0.0</td>\n      <td>0.0</td>\n      <td>0.0</td>\n      <td>...</td>\n      <td>677.418936</td>\n      <td>1.896195e-03</td>\n      <td>0.001210</td>\n      <td>9.940000</td>\n      <td>22.300000</td>\n      <td>4.539000</td>\n      <td>68.618000</td>\n      <td>69.998000</td>\n      <td>0.000000</td>\n      <td>60.0</td>\n    </tr>\n    <tr>\n      <th>161275</th>\n      <td>2015-10-19 23:57:00</td>\n      <td>0.799205</td>\n      <td>5.112026</td>\n      <td>0.0</td>\n      <td>0.0</td>\n      <td>0.0</td>\n      <td>0.0</td>\n      <td>0.0</td>\n      <td>0.0</td>\n      <td>0.0</td>\n      <td>...</td>\n      <td>677.418936</td>\n      <td>1.896195e-03</td>\n      <td>0.001210</td>\n      <td>9.940000</td>\n      <td>22.300000</td>\n      <td>4.539000</td>\n      <td>68.618000</td>\n      <td>69.998000</td>\n      <td>0.000000</td>\n      <td>60.0</td>\n    </tr>\n    <tr>\n      <th>161276</th>\n      <td>2015-10-19 23:58:00</td>\n      <td>0.799205</td>\n      <td>5.112026</td>\n      <td>0.0</td>\n      <td>0.0</td>\n      <td>0.0</td>\n      <td>0.0</td>\n      <td>0.0</td>\n      <td>0.0</td>\n      <td>0.0</td>\n      <td>...</td>\n      <td>677.418936</td>\n      <td>1.896195e-03</td>\n      <td>0.001210</td>\n      <td>9.940000</td>\n      <td>22.300000</td>\n      <td>4.539000</td>\n      <td>68.618000</td>\n      <td>69.998000</td>\n      <td>0.000000</td>\n      <td>60.0</td>\n    </tr>\n  </tbody>\n</table>\n<p>161277 rows × 381 columns</p>\n</div>"
     },
     "execution_count": 69,
     "metadata": {},
     "output_type": "execute_result"
    }
   ],
   "source": [
    "df_1_interpolated"
   ],
   "metadata": {
    "collapsed": false,
    "pycharm": {
     "name": "#%%\n"
    }
   }
  },
  {
   "cell_type": "markdown",
   "source": [
    "# Interpolating larger gaps"
   ],
   "metadata": {
    "collapsed": false
   }
  },
  {
   "cell_type": "code",
   "execution_count": null,
   "outputs": [],
   "source": [
    "from statsmodels.tsa.arima_model import ARIMA\n",
    "#TODO: https://stackoverflow.com/questions/31690134/python-statsmodels-help-using-arima-model-for-time-series"
   ],
   "metadata": {
    "collapsed": false,
    "pycharm": {
     "name": "#%%\n"
    }
   }
  },
  {
   "cell_type": "code",
   "execution_count": null,
   "outputs": [],
   "source": [],
   "metadata": {
    "collapsed": false,
    "pycharm": {
     "name": "#%%\n"
    }
   }
  },
  {
   "cell_type": "code",
   "execution_count": null,
   "outputs": [],
   "source": [
    "import numpy as np\n",
    "from scipy.optimize import Bounds, minimize\n",
    "\n",
    "def func(x):\n",
    "    return -(2*x[0]+5*x[1])\n",
    "\n",
    "bounds = Bounds([0, 0], [np.inf, np.inf])\n",
    "\n",
    "from scipy.optimize import LinearConstraint\n",
    "linear_constraint = LinearConstraint([[1, 2], [5, 3]], [-np.inf, -np.inf], [16, 45])\n",
    "\n",
    "res = minimize(func, np.array([0, 0]), constraints=linear_constraint, bounds=bounds)"
   ],
   "metadata": {
    "collapsed": false,
    "pycharm": {
     "name": "#%%\n"
    }
   }
  },
  {
   "cell_type": "code",
   "execution_count": null,
   "outputs": [],
   "source": [
    "res.x.round(5)"
   ],
   "metadata": {
    "collapsed": false,
    "pycharm": {
     "name": "#%%\n"
    }
   }
  },
  {
   "cell_type": "code",
   "execution_count": null,
   "outputs": [],
   "source": [],
   "metadata": {
    "collapsed": false,
    "pycharm": {
     "name": "#%%\n"
    }
   }
  }
 ],
 "metadata": {
  "kernelspec": {
   "display_name": "Python 3",
   "language": "python",
   "name": "python3"
  },
  "language_info": {
   "codemirror_mode": {
    "name": "ipython",
    "version": 2
   },
   "file_extension": ".py",
   "mimetype": "text/x-python",
   "name": "python",
   "nbconvert_exporter": "python",
   "pygments_lexer": "ipython2",
   "version": "2.7.6"
  }
 },
 "nbformat": 4,
 "nbformat_minor": 0
}