{
 "cells": [
  {
   "cell_type": "code",
   "execution_count": 9,
   "metadata": {
    "collapsed": true
   },
   "outputs": [],
   "source": [
    "import pandas as pd\n",
    "\n",
    "import DataRetriever as dr\n",
    "\n",
    "retriever = dr.DataRetriever()\n",
    "\n",
    "df = retriever.get_data(\"All-Subsystems-minute-Year2.pkl\")\n",
    "\n",
    "pd.options.mode.chained_assignment = None"
   ]
  },
  {
   "cell_type": "code",
   "execution_count": 10,
   "outputs": [],
   "source": [
    "df[\"Timestamp\"] = pd.to_datetime(df[\"Timestamp\"])"
   ],
   "metadata": {
    "collapsed": false,
    "pycharm": {
     "name": "#%%\n"
    }
   }
  },
  {
   "cell_type": "code",
   "execution_count": 11,
   "outputs": [],
   "source": [
    "# Creating a pd.Series with the timestamp shifted one downwards. Adding the first value twice, and excluding the last.\n",
    "timestamp_plus_one = pd.concat([pd.Series(df[\"Timestamp\"][0]), df[\"Timestamp\"][:-1]], ignore_index=True)\n",
    "\n",
    "# Creating a new column with the time delta in seconds.\n",
    "df[\"Timestamp_Delta\"] = (df[\"Timestamp\"] - timestamp_plus_one).astype('timedelta64[s]')"
   ],
   "metadata": {
    "collapsed": false,
    "pycharm": {
     "name": "#%%\n"
    }
   }
  },
  {
   "cell_type": "code",
   "execution_count": 12,
   "outputs": [],
   "source": [
    "df_index_split = df[df[\"Timestamp_Delta\"] > 300].index"
   ],
   "metadata": {
    "collapsed": false,
    "pycharm": {
     "name": "#%%\n"
    }
   }
  },
  {
   "cell_type": "code",
   "execution_count": 13,
   "outputs": [],
   "source": [
    "for row in df.index:\n",
    "    dt = df[\"Timestamp\"][row]\n",
    "    df.at[row, \"Timestamp\"] = pd.Timestamp(year=dt.year, month=dt.month, day=dt.day,\n",
    "                                       hour=dt.hour, minute=dt.minute, second=dt.second)\n",
    "\n",
    "df[\"Timestamp\"] = pd.to_datetime(df[\"Timestamp\"])"
   ],
   "metadata": {
    "collapsed": false,
    "pycharm": {
     "name": "#%%\n"
    }
   }
  },
  {
   "cell_type": "markdown",
   "source": [
    "# Function to create interpolated records based on a DataFrame"
   ],
   "metadata": {
    "collapsed": false
   }
  },
  {
   "cell_type": "code",
   "execution_count": 14,
   "outputs": [],
   "source": [
    "def interpolate_df(dataframe):\n",
    "    dataframe.index = dataframe[\"Timestamp\"]\n",
    "    dataframe.drop([\"Timestamp\", \"TimeStamp_Count\", \"DayOfWeek\", \"Timestamp_Delta\"], axis=1, inplace=True)\n",
    "\n",
    "    interpolation_records = dataframe.resample('1T') # Rækker svarende til 1 min i forskel\n",
    "    interpolation_records = interpolation_records.interpolate()\n",
    "\n",
    "    df_concat = pd.concat([dataframe, interpolation_records], axis=0)\n",
    "    df_concat.sort_index(inplace=True)\n",
    "\n",
    "    df_concat.interpolate(method=\"time\", inplace=True)\n",
    "\n",
    "    return df_concat.drop(index=dataframe.index.tolist()).interpolate(method=\"bfill\")"
   ],
   "metadata": {
    "collapsed": false,
    "pycharm": {
     "name": "#%%\n"
    }
   }
  },
  {
   "cell_type": "markdown",
   "source": [
    "# Handle boolean attributes"
   ],
   "metadata": {
    "collapsed": false
   }
  },
  {
   "cell_type": "code",
   "execution_count": 33,
   "outputs": [],
   "source": [
    "metadata = retriever.get_data(\"metadata-year2.pkl\")\n",
    "metadata.rename(columns={\"Unnamed: 0\": \"Attribute\"}, inplace=True)"
   ],
   "metadata": {
    "collapsed": false,
    "pycharm": {
     "name": "#%%\n"
    }
   }
  },
  {
   "cell_type": "code",
   "source": [
    "boolean_attributes = metadata[\"Attribute\"][metadata[\"Units\"] == \"Binary Status\"].tolist()"
   ],
   "metadata": {
    "collapsed": false,
    "pycharm": {
     "name": "#%%\n"
    }
   },
   "execution_count": 34,
   "outputs": []
  },
  {
   "cell_type": "code",
   "execution_count": 35,
   "outputs": [],
   "source": [
    "list_boolean_attributes = list(set(boolean_attributes) & set(df.columns.tolist())) # Some columns does not exist in df"
   ],
   "metadata": {
    "collapsed": false,
    "pycharm": {
     "name": "#%%\n"
    }
   }
  },
  {
   "cell_type": "code",
   "execution_count": 36,
   "outputs": [],
   "source": [
    "def resolve_boolean(dataframe, columns=list_boolean_attributes):\n",
    "    dataframe[columns] = dataframe[columns].round()\n",
    "    return dataframe"
   ],
   "metadata": {
    "collapsed": false,
    "pycharm": {
     "name": "#%%\n"
    }
   }
  },
  {
   "cell_type": "markdown",
   "source": [
    "# Sub-DataFrames interpolated"
   ],
   "metadata": {
    "collapsed": false
   }
  },
  {
   "cell_type": "code",
   "execution_count": 37,
   "outputs": [],
   "source": [
    "df_1_interpolated = resolve_boolean(dataframe=interpolate_df(dataframe=df[:df_index_split[0]]))\n",
    "df_2_interpolated = resolve_boolean(dataframe=interpolate_df(dataframe=df[df_index_split[0]:df_index_split[1]]))\n",
    "df_3_interpolated = resolve_boolean(dataframe=interpolate_df(dataframe=df[df_index_split[1]:df_index_split[2]]))\n",
    "df_4_interpolated = resolve_boolean(dataframe=interpolate_df(dataframe=df[df_index_split[2]:]))"
   ],
   "metadata": {
    "collapsed": false,
    "pycharm": {
     "name": "#%%\n"
    }
   }
  },
  {
   "cell_type": "code",
   "execution_count": 38,
   "outputs": [
    {
     "data": {
      "text/plain": "                     Load_LatentHeatWaterVolume  Load_RefrigeratorTemp  \\\nTimestamp                                                                \n2015-02-01 00:01:00                    0.000000               5.003394   \n2015-02-01 00:02:00                    0.000000               5.003394   \n2015-02-01 00:03:00                    0.000000               5.060575   \n2015-02-01 00:04:00                    0.000330               5.135167   \n2015-02-01 00:05:00                    0.001981               5.175073   \n...                                         ...                    ...   \n2015-10-19 23:54:00                    0.799205               5.112026   \n2015-10-19 23:55:00                    0.799205               5.112026   \n2015-10-19 23:56:00                    0.799205               5.112026   \n2015-10-19 23:57:00                    0.799205               5.112026   \n2015-10-19 23:58:00                    0.799205               5.112026   \n\n                     Load_StatusBA1Lights  Load_StatusKitchenLightsA  \\\nTimestamp                                                              \n2015-02-01 00:01:00                   0.0                        0.0   \n2015-02-01 00:02:00                   0.0                        0.0   \n2015-02-01 00:03:00                   0.0                        0.0   \n2015-02-01 00:04:00                   0.0                        0.0   \n2015-02-01 00:05:00                   0.0                        0.0   \n...                                   ...                        ...   \n2015-10-19 23:54:00                   0.0                        0.0   \n2015-10-19 23:55:00                   0.0                        0.0   \n2015-10-19 23:56:00                   0.0                        0.0   \n2015-10-19 23:57:00                   0.0                        0.0   \n2015-10-19 23:58:00                   0.0                        0.0   \n\n                     Load_StatusKitchenLightsB  Load_StatusKitchenLightsC  \\\nTimestamp                                                                   \n2015-02-01 00:01:00                        0.0                        0.0   \n2015-02-01 00:02:00                        0.0                        0.0   \n2015-02-01 00:03:00                        0.0                        0.0   \n2015-02-01 00:04:00                        0.0                        0.0   \n2015-02-01 00:05:00                        0.0                        0.0   \n...                                        ...                        ...   \n2015-10-19 23:54:00                        0.0                        0.0   \n2015-10-19 23:55:00                        0.0                        0.0   \n2015-10-19 23:56:00                        0.0                        0.0   \n2015-10-19 23:57:00                        0.0                        0.0   \n2015-10-19 23:58:00                        0.0                        0.0   \n\n                     Load_StatusDRLights  Load_StatusLRLights3  \\\nTimestamp                                                        \n2015-02-01 00:01:00                  0.0                   0.0   \n2015-02-01 00:02:00                  0.0                   0.0   \n2015-02-01 00:03:00                  0.0                   0.0   \n2015-02-01 00:04:00                  0.0                   0.0   \n2015-02-01 00:05:00                  0.0                   0.0   \n...                                  ...                   ...   \n2015-10-19 23:54:00                  0.0                   0.0   \n2015-10-19 23:55:00                  0.0                   0.0   \n2015-10-19 23:56:00                  0.0                   0.0   \n2015-10-19 23:57:00                  0.0                   0.0   \n2015-10-19 23:58:00                  0.0                   0.0   \n\n                     Load_StatusEntryHallLights  Load_StatusBR4Lights  ...  \\\nTimestamp                                                              ...   \n2015-02-01 00:01:00                         0.0                   0.0  ...   \n2015-02-01 00:02:00                         0.0                   0.0  ...   \n2015-02-01 00:03:00                         0.0                   0.0  ...   \n2015-02-01 00:04:00                         0.0                   0.0  ...   \n2015-02-01 00:05:00                         0.0                   0.0  ...   \n...                                         ...                   ...  ...   \n2015-10-19 23:54:00                         0.0                   0.0  ...   \n2015-10-19 23:55:00                         0.0                   0.0  ...   \n2015-10-19 23:56:00                         0.0                   0.0  ...   \n2015-10-19 23:57:00                         0.0                   0.0  ...   \n2015-10-19 23:58:00                         0.0                   0.0  ...   \n\n                     SHW_GlycolFlowHXCoriolisSHW  SHW_WaterFlowHXCoriolisSHW  \\\nTimestamp                                                                      \n2015-02-01 00:01:00                 14719.183333                35508.000000   \n2015-02-01 00:02:00                 14719.183333                35508.000000   \n2015-02-01 00:03:00                 14719.183333                35508.000000   \n2015-02-01 00:04:00                 14719.183333                35508.000000   \n2015-02-01 00:05:00                 14719.183333                35508.000000   \n...                                          ...                         ...   \n2015-10-19 23:54:00                   316.233238                  677.418936   \n2015-10-19 23:55:00                   316.233238                  677.418936   \n2015-10-19 23:56:00                   316.233238                  677.418936   \n2015-10-19 23:57:00                   316.233238                  677.418936   \n2015-10-19 23:58:00                   316.233238                  677.418936   \n\n                     SHW_GlycolFlowRateHXCoriolisSHW  \\\nTimestamp                                              \n2015-02-01 00:01:00                     6.073449e-07   \n2015-02-01 00:02:00                     6.073449e-07   \n2015-02-01 00:03:00                     6.073449e-07   \n2015-02-01 00:04:00                     6.073449e-07   \n2015-02-01 00:05:00                     6.073449e-07   \n...                                              ...   \n2015-10-19 23:54:00                     1.896195e-03   \n2015-10-19 23:55:00                     1.896195e-03   \n2015-10-19 23:56:00                     1.896195e-03   \n2015-10-19 23:57:00                     1.896195e-03   \n2015-10-19 23:58:00                     1.896195e-03   \n\n                     SHW_WaterFlowRateHXCoriolisSHW  \\\nTimestamp                                             \n2015-02-01 00:01:00                       -0.000005   \n2015-02-01 00:02:00                       -0.000005   \n2015-02-01 00:03:00                       -0.000005   \n2015-02-01 00:04:00                       -0.000005   \n2015-02-01 00:05:00                       -0.000005   \n...                                             ...   \n2015-10-19 23:54:00                        0.001210   \n2015-10-19 23:55:00                        0.001210   \n2015-10-19 23:56:00                        0.001210   \n2015-10-19 23:57:00                        0.001210   \n2015-10-19 23:58:00                        0.001210   \n\n                     HVAC_HeatPumpIndoorUnitPower  \\\nTimestamp                                           \n2015-02-01 00:01:00                    184.446333   \n2015-02-01 00:02:00                    184.446333   \n2015-02-01 00:03:00                    182.155667   \n2015-02-01 00:04:00                    169.420000   \n2015-02-01 00:05:00                    169.912667   \n...                                           ...   \n2015-10-19 23:54:00                      9.940000   \n2015-10-19 23:55:00                      9.940000   \n2015-10-19 23:56:00                      9.940000   \n2015-10-19 23:57:00                      9.940000   \n2015-10-19 23:58:00                      9.940000   \n\n                     HVAC_HeatPumpOutdoorUnitPower  HVAC_DehumidifierPower  \\\nTimestamp                                                                    \n2015-02-01 00:01:00                    1106.900333                4.477167   \n2015-02-01 00:02:00                    1106.900333                4.477167   \n2015-02-01 00:03:00                    1095.666333                4.508333   \n2015-02-01 00:04:00                    1085.025167                4.513167   \n2015-02-01 00:05:00                    1074.405333                4.513833   \n...                                            ...                     ...   \n2015-10-19 23:54:00                      22.300000                4.539000   \n2015-10-19 23:55:00                      22.300000                4.539000   \n2015-10-19 23:56:00                      22.300000                4.539000   \n2015-10-19 23:57:00                      22.300000                4.539000   \n2015-10-19 23:58:00                      22.300000                4.539000   \n\n                     HVAC_DehumidifierInletAirTemp  \\\nTimestamp                                            \n2015-02-01 00:01:00                      72.101000   \n2015-02-01 00:02:00                      72.101000   \n2015-02-01 00:03:00                      72.092833   \n2015-02-01 00:04:00                      72.076500   \n2015-02-01 00:05:00                      72.076000   \n...                                            ...   \n2015-10-19 23:54:00                      68.618000   \n2015-10-19 23:55:00                      68.618000   \n2015-10-19 23:56:00                      68.618000   \n2015-10-19 23:57:00                      68.618000   \n2015-10-19 23:58:00                      68.618000   \n\n                     HVAC_DehumidifierExitAirTemp  HVAC_DehumidifierAirflow  \nTimestamp                                                                    \n2015-02-01 00:01:00                     74.662667                       0.0  \n2015-02-01 00:02:00                     74.662667                       0.0  \n2015-02-01 00:03:00                     74.710667                       0.0  \n2015-02-01 00:04:00                     74.770667                       0.0  \n2015-02-01 00:05:00                     74.834667                       0.0  \n...                                           ...                       ...  \n2015-10-19 23:54:00                     69.998000                       0.0  \n2015-10-19 23:55:00                     69.998000                       0.0  \n2015-10-19 23:56:00                     69.998000                       0.0  \n2015-10-19 23:57:00                     69.998000                       0.0  \n2015-10-19 23:58:00                     69.998000                       0.0  \n\n[369242 rows x 379 columns]",
      "text/html": "<div>\n<style scoped>\n    .dataframe tbody tr th:only-of-type {\n        vertical-align: middle;\n    }\n\n    .dataframe tbody tr th {\n        vertical-align: top;\n    }\n\n    .dataframe thead th {\n        text-align: right;\n    }\n</style>\n<table border=\"1\" class=\"dataframe\">\n  <thead>\n    <tr style=\"text-align: right;\">\n      <th></th>\n      <th>Load_LatentHeatWaterVolume</th>\n      <th>Load_RefrigeratorTemp</th>\n      <th>Load_StatusBA1Lights</th>\n      <th>Load_StatusKitchenLightsA</th>\n      <th>Load_StatusKitchenLightsB</th>\n      <th>Load_StatusKitchenLightsC</th>\n      <th>Load_StatusDRLights</th>\n      <th>Load_StatusLRLights3</th>\n      <th>Load_StatusEntryHallLights</th>\n      <th>Load_StatusBR4Lights</th>\n      <th>...</th>\n      <th>SHW_GlycolFlowHXCoriolisSHW</th>\n      <th>SHW_WaterFlowHXCoriolisSHW</th>\n      <th>SHW_GlycolFlowRateHXCoriolisSHW</th>\n      <th>SHW_WaterFlowRateHXCoriolisSHW</th>\n      <th>HVAC_HeatPumpIndoorUnitPower</th>\n      <th>HVAC_HeatPumpOutdoorUnitPower</th>\n      <th>HVAC_DehumidifierPower</th>\n      <th>HVAC_DehumidifierInletAirTemp</th>\n      <th>HVAC_DehumidifierExitAirTemp</th>\n      <th>HVAC_DehumidifierAirflow</th>\n    </tr>\n    <tr>\n      <th>Timestamp</th>\n      <th></th>\n      <th></th>\n      <th></th>\n      <th></th>\n      <th></th>\n      <th></th>\n      <th></th>\n      <th></th>\n      <th></th>\n      <th></th>\n      <th></th>\n      <th></th>\n      <th></th>\n      <th></th>\n      <th></th>\n      <th></th>\n      <th></th>\n      <th></th>\n      <th></th>\n      <th></th>\n      <th></th>\n    </tr>\n  </thead>\n  <tbody>\n    <tr>\n      <th>2015-02-01 00:01:00</th>\n      <td>0.000000</td>\n      <td>5.003394</td>\n      <td>0.0</td>\n      <td>0.0</td>\n      <td>0.0</td>\n      <td>0.0</td>\n      <td>0.0</td>\n      <td>0.0</td>\n      <td>0.0</td>\n      <td>0.0</td>\n      <td>...</td>\n      <td>14719.183333</td>\n      <td>35508.000000</td>\n      <td>6.073449e-07</td>\n      <td>-0.000005</td>\n      <td>184.446333</td>\n      <td>1106.900333</td>\n      <td>4.477167</td>\n      <td>72.101000</td>\n      <td>74.662667</td>\n      <td>0.0</td>\n    </tr>\n    <tr>\n      <th>2015-02-01 00:02:00</th>\n      <td>0.000000</td>\n      <td>5.003394</td>\n      <td>0.0</td>\n      <td>0.0</td>\n      <td>0.0</td>\n      <td>0.0</td>\n      <td>0.0</td>\n      <td>0.0</td>\n      <td>0.0</td>\n      <td>0.0</td>\n      <td>...</td>\n      <td>14719.183333</td>\n      <td>35508.000000</td>\n      <td>6.073449e-07</td>\n      <td>-0.000005</td>\n      <td>184.446333</td>\n      <td>1106.900333</td>\n      <td>4.477167</td>\n      <td>72.101000</td>\n      <td>74.662667</td>\n      <td>0.0</td>\n    </tr>\n    <tr>\n      <th>2015-02-01 00:03:00</th>\n      <td>0.000000</td>\n      <td>5.060575</td>\n      <td>0.0</td>\n      <td>0.0</td>\n      <td>0.0</td>\n      <td>0.0</td>\n      <td>0.0</td>\n      <td>0.0</td>\n      <td>0.0</td>\n      <td>0.0</td>\n      <td>...</td>\n      <td>14719.183333</td>\n      <td>35508.000000</td>\n      <td>6.073449e-07</td>\n      <td>-0.000005</td>\n      <td>182.155667</td>\n      <td>1095.666333</td>\n      <td>4.508333</td>\n      <td>72.092833</td>\n      <td>74.710667</td>\n      <td>0.0</td>\n    </tr>\n    <tr>\n      <th>2015-02-01 00:04:00</th>\n      <td>0.000330</td>\n      <td>5.135167</td>\n      <td>0.0</td>\n      <td>0.0</td>\n      <td>0.0</td>\n      <td>0.0</td>\n      <td>0.0</td>\n      <td>0.0</td>\n      <td>0.0</td>\n      <td>0.0</td>\n      <td>...</td>\n      <td>14719.183333</td>\n      <td>35508.000000</td>\n      <td>6.073449e-07</td>\n      <td>-0.000005</td>\n      <td>169.420000</td>\n      <td>1085.025167</td>\n      <td>4.513167</td>\n      <td>72.076500</td>\n      <td>74.770667</td>\n      <td>0.0</td>\n    </tr>\n    <tr>\n      <th>2015-02-01 00:05:00</th>\n      <td>0.001981</td>\n      <td>5.175073</td>\n      <td>0.0</td>\n      <td>0.0</td>\n      <td>0.0</td>\n      <td>0.0</td>\n      <td>0.0</td>\n      <td>0.0</td>\n      <td>0.0</td>\n      <td>0.0</td>\n      <td>...</td>\n      <td>14719.183333</td>\n      <td>35508.000000</td>\n      <td>6.073449e-07</td>\n      <td>-0.000005</td>\n      <td>169.912667</td>\n      <td>1074.405333</td>\n      <td>4.513833</td>\n      <td>72.076000</td>\n      <td>74.834667</td>\n      <td>0.0</td>\n    </tr>\n    <tr>\n      <th>...</th>\n      <td>...</td>\n      <td>...</td>\n      <td>...</td>\n      <td>...</td>\n      <td>...</td>\n      <td>...</td>\n      <td>...</td>\n      <td>...</td>\n      <td>...</td>\n      <td>...</td>\n      <td>...</td>\n      <td>...</td>\n      <td>...</td>\n      <td>...</td>\n      <td>...</td>\n      <td>...</td>\n      <td>...</td>\n      <td>...</td>\n      <td>...</td>\n      <td>...</td>\n      <td>...</td>\n    </tr>\n    <tr>\n      <th>2015-10-19 23:54:00</th>\n      <td>0.799205</td>\n      <td>5.112026</td>\n      <td>0.0</td>\n      <td>0.0</td>\n      <td>0.0</td>\n      <td>0.0</td>\n      <td>0.0</td>\n      <td>0.0</td>\n      <td>0.0</td>\n      <td>0.0</td>\n      <td>...</td>\n      <td>316.233238</td>\n      <td>677.418936</td>\n      <td>1.896195e-03</td>\n      <td>0.001210</td>\n      <td>9.940000</td>\n      <td>22.300000</td>\n      <td>4.539000</td>\n      <td>68.618000</td>\n      <td>69.998000</td>\n      <td>0.0</td>\n    </tr>\n    <tr>\n      <th>2015-10-19 23:55:00</th>\n      <td>0.799205</td>\n      <td>5.112026</td>\n      <td>0.0</td>\n      <td>0.0</td>\n      <td>0.0</td>\n      <td>0.0</td>\n      <td>0.0</td>\n      <td>0.0</td>\n      <td>0.0</td>\n      <td>0.0</td>\n      <td>...</td>\n      <td>316.233238</td>\n      <td>677.418936</td>\n      <td>1.896195e-03</td>\n      <td>0.001210</td>\n      <td>9.940000</td>\n      <td>22.300000</td>\n      <td>4.539000</td>\n      <td>68.618000</td>\n      <td>69.998000</td>\n      <td>0.0</td>\n    </tr>\n    <tr>\n      <th>2015-10-19 23:56:00</th>\n      <td>0.799205</td>\n      <td>5.112026</td>\n      <td>0.0</td>\n      <td>0.0</td>\n      <td>0.0</td>\n      <td>0.0</td>\n      <td>0.0</td>\n      <td>0.0</td>\n      <td>0.0</td>\n      <td>0.0</td>\n      <td>...</td>\n      <td>316.233238</td>\n      <td>677.418936</td>\n      <td>1.896195e-03</td>\n      <td>0.001210</td>\n      <td>9.940000</td>\n      <td>22.300000</td>\n      <td>4.539000</td>\n      <td>68.618000</td>\n      <td>69.998000</td>\n      <td>0.0</td>\n    </tr>\n    <tr>\n      <th>2015-10-19 23:57:00</th>\n      <td>0.799205</td>\n      <td>5.112026</td>\n      <td>0.0</td>\n      <td>0.0</td>\n      <td>0.0</td>\n      <td>0.0</td>\n      <td>0.0</td>\n      <td>0.0</td>\n      <td>0.0</td>\n      <td>0.0</td>\n      <td>...</td>\n      <td>316.233238</td>\n      <td>677.418936</td>\n      <td>1.896195e-03</td>\n      <td>0.001210</td>\n      <td>9.940000</td>\n      <td>22.300000</td>\n      <td>4.539000</td>\n      <td>68.618000</td>\n      <td>69.998000</td>\n      <td>0.0</td>\n    </tr>\n    <tr>\n      <th>2015-10-19 23:58:00</th>\n      <td>0.799205</td>\n      <td>5.112026</td>\n      <td>0.0</td>\n      <td>0.0</td>\n      <td>0.0</td>\n      <td>0.0</td>\n      <td>0.0</td>\n      <td>0.0</td>\n      <td>0.0</td>\n      <td>0.0</td>\n      <td>...</td>\n      <td>316.233238</td>\n      <td>677.418936</td>\n      <td>1.896195e-03</td>\n      <td>0.001210</td>\n      <td>9.940000</td>\n      <td>22.300000</td>\n      <td>4.539000</td>\n      <td>68.618000</td>\n      <td>69.998000</td>\n      <td>0.0</td>\n    </tr>\n  </tbody>\n</table>\n<p>369242 rows × 379 columns</p>\n</div>"
     },
     "execution_count": 38,
     "metadata": {},
     "output_type": "execute_result"
    }
   ],
   "source": [
    "df_1_interpolated"
   ],
   "metadata": {
    "collapsed": false,
    "pycharm": {
     "name": "#%%\n"
    }
   }
  },
  {
   "cell_type": "code",
   "execution_count": null,
   "outputs": [],
   "source": [],
   "metadata": {
    "collapsed": false,
    "pycharm": {
     "name": "#%%\n"
    }
   }
  }
 ],
 "metadata": {
  "kernelspec": {
   "display_name": "Python 3",
   "language": "python",
   "name": "python3"
  },
  "language_info": {
   "codemirror_mode": {
    "name": "ipython",
    "version": 2
   },
   "file_extension": ".py",
   "mimetype": "text/x-python",
   "name": "python",
   "nbconvert_exporter": "python",
   "pygments_lexer": "ipython2",
   "version": "2.7.6"
  }
 },
 "nbformat": 4,
 "nbformat_minor": 0
}