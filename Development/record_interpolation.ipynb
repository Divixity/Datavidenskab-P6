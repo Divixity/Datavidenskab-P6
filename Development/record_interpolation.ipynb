{
 "cells": [
  {
   "cell_type": "code",
   "execution_count": 117,
   "metadata": {
    "collapsed": true
   },
   "outputs": [],
   "source": [
    "import pandas as pd\n",
    "import numpy as np\n",
    "\n",
    "import DataRetriever as dr\n",
    "\n",
    "retriever = dr.DataRetriever()\n",
    "\n",
    "df = retriever.get_data(\"All-Subsystems-minute-Year2.pkl\")\n",
    "\n",
    "pd.options.mode.chained_assignment = None"
   ]
  },
  {
   "cell_type": "code",
   "execution_count": 118,
   "outputs": [],
   "source": [
    "# Creating a new column with the time delta in seconds.\n",
    "df[\"Timestamp_Delta\"] = (df[\"Timestamp\"] - df[\"Timestamp\"].shift()).astype('timedelta64[s]')"
   ],
   "metadata": {
    "collapsed": false,
    "pycharm": {
     "name": "#%%\n"
    }
   }
  },
  {
   "cell_type": "code",
   "execution_count": 119,
   "outputs": [],
   "source": [
    "df[\"Timestamp_Delta\"].fillna(0, inplace=True)"
   ],
   "metadata": {
    "collapsed": false,
    "pycharm": {
     "name": "#%%\n"
    }
   }
  },
  {
   "cell_type": "code",
   "execution_count": 120,
   "outputs": [],
   "source": [
    "df_index_split = df[df[\"Timestamp_Delta\"] > 300].index"
   ],
   "metadata": {
    "collapsed": false,
    "pycharm": {
     "name": "#%%\n"
    }
   }
  },
  {
   "cell_type": "code",
   "execution_count": 121,
   "outputs": [],
   "source": [
    "for row in df.index:\n",
    "    dt = df[\"Timestamp\"][row]\n",
    "    df.at[row, \"Timestamp\"] = pd.Timestamp(year=dt.year, month=dt.month, day=dt.day,\n",
    "                                       hour=dt.hour, minute=dt.minute, second=dt.second)\n",
    "\n",
    "df[\"Timestamp\"] = pd.to_datetime(df[\"Timestamp\"])"
   ],
   "metadata": {
    "collapsed": false,
    "pycharm": {
     "name": "#%%\n"
    }
   }
  },
  {
   "cell_type": "markdown",
   "source": [
    "# Interpolate measurements"
   ],
   "metadata": {
    "collapsed": false
   }
  },
  {
   "cell_type": "code",
   "execution_count": 122,
   "outputs": [
    {
     "data": {
      "text/plain": "                              Timestamp  TimeStamp_Count  \\\nTimestamp                                                  \n2015-02-20 01:03:37 2015-02-20 01:03:37            27385   \n2015-02-20 01:04:37 2015-02-20 01:04:37            27386   \n2015-02-20 01:05:37 2015-02-20 01:05:37            27387   \n2015-02-20 01:06:37 2015-02-20 01:06:37            27388   \n2015-02-20 01:07:37 2015-02-20 01:07:37            27389   \n...                                 ...              ...   \n2016-01-30 01:06:29 2016-01-30 01:06:29           516794   \n2016-01-30 01:07:29 2016-01-30 01:07:29           516795   \n2016-01-30 01:08:29 2016-01-30 01:08:29           516796   \n2016-01-30 01:09:29 2016-01-30 01:09:29           516797   \n2016-01-30 01:10:29 2016-01-30 01:10:29           516798   \n\n                     Load_LatentHeatWaterVolume  Load_RefrigeratorTemp  \\\nTimestamp                                                                \n2015-02-20 01:03:37                    0.055482               4.712000   \n2015-02-20 01:04:37                    0.058124               4.776172   \n2015-02-20 01:05:37                    0.058124               4.860834   \n2015-02-20 01:06:37                    0.058124               4.862597   \n2015-02-20 01:07:37                    0.058124               4.887749   \n...                                         ...                    ...   \n2016-01-30 01:06:29                    0.070674               5.211040   \n2016-01-30 01:07:29                    0.071334               5.313943   \n2016-01-30 01:08:29                    0.074636               5.391418   \n2016-01-30 01:09:29                    0.074636               5.436720   \n2016-01-30 01:10:29                    0.074636               5.512138   \n\n                     Load_StatusBA1Lights  Load_StatusKitchenLightsA  \\\nTimestamp                                                              \n2015-02-20 01:03:37                   0.0                        0.0   \n2015-02-20 01:04:37                   0.0                        0.0   \n2015-02-20 01:05:37                   0.0                        0.0   \n2015-02-20 01:06:37                   0.0                        0.0   \n2015-02-20 01:07:37                   0.0                        0.0   \n...                                   ...                        ...   \n2016-01-30 01:06:29                   0.0                        0.0   \n2016-01-30 01:07:29                   0.0                        0.0   \n2016-01-30 01:08:29                   0.0                        0.0   \n2016-01-30 01:09:29                   0.0                        0.0   \n2016-01-30 01:10:29                   0.0                        0.0   \n\n                     Load_StatusKitchenLightsB  Load_StatusKitchenLightsC  \\\nTimestamp                                                                   \n2015-02-20 01:03:37                        0.0                        0.0   \n2015-02-20 01:04:37                        0.0                        0.0   \n2015-02-20 01:05:37                        0.0                        0.0   \n2015-02-20 01:06:37                        0.0                        0.0   \n2015-02-20 01:07:37                        0.0                        0.0   \n...                                        ...                        ...   \n2016-01-30 01:06:29                        0.0                        0.0   \n2016-01-30 01:07:29                        0.0                        0.0   \n2016-01-30 01:08:29                        0.0                        0.0   \n2016-01-30 01:09:29                        0.0                        0.0   \n2016-01-30 01:10:29                        0.0                        0.0   \n\n                     Load_StatusDRLights  Load_StatusLRLights3  ...  \\\nTimestamp                                                       ...   \n2015-02-20 01:03:37                  0.0                   0.0  ...   \n2015-02-20 01:04:37                  0.0                   0.0  ...   \n2015-02-20 01:05:37                  0.0                   0.0  ...   \n2015-02-20 01:06:37                  0.0                   0.0  ...   \n2015-02-20 01:07:37                  0.0                   0.0  ...   \n...                                  ...                   ...  ...   \n2016-01-30 01:06:29                  0.0                   0.0  ...   \n2016-01-30 01:07:29                  0.0                   0.0  ...   \n2016-01-30 01:08:29                  0.0                   0.0  ...   \n2016-01-30 01:09:29                  0.0                   0.0  ...   \n2016-01-30 01:10:29                  0.0                   0.0  ...   \n\n                     SHW_WaterFlowHXCoriolisSHW  \\\nTimestamp                                         \n2015-02-20 01:03:37                         NaN   \n2015-02-20 01:04:37                         NaN   \n2015-02-20 01:05:37                         NaN   \n2015-02-20 01:06:37                         NaN   \n2015-02-20 01:07:37                         NaN   \n...                                         ...   \n2016-01-30 01:06:29                         0.0   \n2016-01-30 01:07:29                         0.0   \n2016-01-30 01:08:29                         0.0   \n2016-01-30 01:09:29                         0.0   \n2016-01-30 01:10:29                         0.0   \n\n                     SHW_GlycolFlowRateHXCoriolisSHW  \\\nTimestamp                                              \n2015-02-20 01:03:37                              NaN   \n2015-02-20 01:04:37                              NaN   \n2015-02-20 01:05:37                              NaN   \n2015-02-20 01:06:37                              NaN   \n2015-02-20 01:07:37                              NaN   \n...                                              ...   \n2016-01-30 01:06:29                        -0.018551   \n2016-01-30 01:07:29                        -0.017023   \n2016-01-30 01:08:29                        -0.017164   \n2016-01-30 01:09:29                        -0.015977   \n2016-01-30 01:10:29                        -0.017669   \n\n                     SHW_WaterFlowRateHXCoriolisSHW  \\\nTimestamp                                             \n2015-02-20 01:03:37                             NaN   \n2015-02-20 01:04:37                             NaN   \n2015-02-20 01:05:37                             NaN   \n2015-02-20 01:06:37                             NaN   \n2015-02-20 01:07:37                             NaN   \n...                                             ...   \n2016-01-30 01:06:29                        0.001090   \n2016-01-30 01:07:29                       -0.000391   \n2016-01-30 01:08:29                       -0.000776   \n2016-01-30 01:09:29                       -0.001013   \n2016-01-30 01:10:29                        0.001587   \n\n                     HVAC_HeatPumpIndoorUnitPower  \\\nTimestamp                                           \n2015-02-20 01:03:37                           NaN   \n2015-02-20 01:04:37                           NaN   \n2015-02-20 01:05:37                           NaN   \n2015-02-20 01:06:37                           NaN   \n2015-02-20 01:07:37                           NaN   \n...                                           ...   \n2016-01-30 01:06:29                           NaN   \n2016-01-30 01:07:29                           NaN   \n2016-01-30 01:08:29                           NaN   \n2016-01-30 01:09:29                           NaN   \n2016-01-30 01:10:29                           NaN   \n\n                     HVAC_HeatPumpOutdoorUnitPower  HVAC_DehumidifierPower  \\\nTimestamp                                                                    \n2015-02-20 01:03:37                            NaN                     NaN   \n2015-02-20 01:04:37                            NaN                     NaN   \n2015-02-20 01:05:37                            NaN                     NaN   \n2015-02-20 01:06:37                            NaN                     NaN   \n2015-02-20 01:07:37                            NaN                     NaN   \n...                                            ...                     ...   \n2016-01-30 01:06:29                            NaN                     NaN   \n2016-01-30 01:07:29                            NaN                     NaN   \n2016-01-30 01:08:29                            NaN                     NaN   \n2016-01-30 01:09:29                            NaN                     NaN   \n2016-01-30 01:10:29                            NaN                     NaN   \n\n                     HVAC_DehumidifierInletAirTemp  \\\nTimestamp                                            \n2015-02-20 01:03:37                            NaN   \n2015-02-20 01:04:37                            NaN   \n2015-02-20 01:05:37                            NaN   \n2015-02-20 01:06:37                            NaN   \n2015-02-20 01:07:37                            NaN   \n...                                            ...   \n2016-01-30 01:06:29                            NaN   \n2016-01-30 01:07:29                            NaN   \n2016-01-30 01:08:29                            NaN   \n2016-01-30 01:09:29                            NaN   \n2016-01-30 01:10:29                            NaN   \n\n                     HVAC_DehumidifierExitAirTemp  HVAC_DehumidifierAirflow  \\\nTimestamp                                                                     \n2015-02-20 01:03:37                           NaN                       NaN   \n2015-02-20 01:04:37                           NaN                       NaN   \n2015-02-20 01:05:37                           NaN                       NaN   \n2015-02-20 01:06:37                           NaN                       NaN   \n2015-02-20 01:07:37                           NaN                       NaN   \n...                                           ...                       ...   \n2016-01-30 01:06:29                           NaN                       NaN   \n2016-01-30 01:07:29                           NaN                       NaN   \n2016-01-30 01:08:29                           NaN                       NaN   \n2016-01-30 01:09:29                           NaN                       NaN   \n2016-01-30 01:10:29                           NaN                       NaN   \n\n                     Timestamp_Delta  \nTimestamp                             \n2015-02-20 01:03:37             60.0  \n2015-02-20 01:04:37             60.0  \n2015-02-20 01:05:37             60.0  \n2015-02-20 01:06:37             60.0  \n2015-02-20 01:07:37             60.0  \n...                              ...  \n2016-01-30 01:06:29             60.0  \n2016-01-30 01:07:29             60.0  \n2016-01-30 01:08:29             60.0  \n2016-01-30 01:09:29             60.0  \n2016-01-30 01:10:29             60.0  \n\n[777 rows x 383 columns]",
      "text/html": "<div>\n<style scoped>\n    .dataframe tbody tr th:only-of-type {\n        vertical-align: middle;\n    }\n\n    .dataframe tbody tr th {\n        vertical-align: top;\n    }\n\n    .dataframe thead th {\n        text-align: right;\n    }\n</style>\n<table border=\"1\" class=\"dataframe\">\n  <thead>\n    <tr style=\"text-align: right;\">\n      <th></th>\n      <th>Timestamp</th>\n      <th>TimeStamp_Count</th>\n      <th>Load_LatentHeatWaterVolume</th>\n      <th>Load_RefrigeratorTemp</th>\n      <th>Load_StatusBA1Lights</th>\n      <th>Load_StatusKitchenLightsA</th>\n      <th>Load_StatusKitchenLightsB</th>\n      <th>Load_StatusKitchenLightsC</th>\n      <th>Load_StatusDRLights</th>\n      <th>Load_StatusLRLights3</th>\n      <th>...</th>\n      <th>SHW_WaterFlowHXCoriolisSHW</th>\n      <th>SHW_GlycolFlowRateHXCoriolisSHW</th>\n      <th>SHW_WaterFlowRateHXCoriolisSHW</th>\n      <th>HVAC_HeatPumpIndoorUnitPower</th>\n      <th>HVAC_HeatPumpOutdoorUnitPower</th>\n      <th>HVAC_DehumidifierPower</th>\n      <th>HVAC_DehumidifierInletAirTemp</th>\n      <th>HVAC_DehumidifierExitAirTemp</th>\n      <th>HVAC_DehumidifierAirflow</th>\n      <th>Timestamp_Delta</th>\n    </tr>\n    <tr>\n      <th>Timestamp</th>\n      <th></th>\n      <th></th>\n      <th></th>\n      <th></th>\n      <th></th>\n      <th></th>\n      <th></th>\n      <th></th>\n      <th></th>\n      <th></th>\n      <th></th>\n      <th></th>\n      <th></th>\n      <th></th>\n      <th></th>\n      <th></th>\n      <th></th>\n      <th></th>\n      <th></th>\n      <th></th>\n      <th></th>\n    </tr>\n  </thead>\n  <tbody>\n    <tr>\n      <th>2015-02-20 01:03:37</th>\n      <td>2015-02-20 01:03:37</td>\n      <td>27385</td>\n      <td>0.055482</td>\n      <td>4.712000</td>\n      <td>0.0</td>\n      <td>0.0</td>\n      <td>0.0</td>\n      <td>0.0</td>\n      <td>0.0</td>\n      <td>0.0</td>\n      <td>...</td>\n      <td>NaN</td>\n      <td>NaN</td>\n      <td>NaN</td>\n      <td>NaN</td>\n      <td>NaN</td>\n      <td>NaN</td>\n      <td>NaN</td>\n      <td>NaN</td>\n      <td>NaN</td>\n      <td>60.0</td>\n    </tr>\n    <tr>\n      <th>2015-02-20 01:04:37</th>\n      <td>2015-02-20 01:04:37</td>\n      <td>27386</td>\n      <td>0.058124</td>\n      <td>4.776172</td>\n      <td>0.0</td>\n      <td>0.0</td>\n      <td>0.0</td>\n      <td>0.0</td>\n      <td>0.0</td>\n      <td>0.0</td>\n      <td>...</td>\n      <td>NaN</td>\n      <td>NaN</td>\n      <td>NaN</td>\n      <td>NaN</td>\n      <td>NaN</td>\n      <td>NaN</td>\n      <td>NaN</td>\n      <td>NaN</td>\n      <td>NaN</td>\n      <td>60.0</td>\n    </tr>\n    <tr>\n      <th>2015-02-20 01:05:37</th>\n      <td>2015-02-20 01:05:37</td>\n      <td>27387</td>\n      <td>0.058124</td>\n      <td>4.860834</td>\n      <td>0.0</td>\n      <td>0.0</td>\n      <td>0.0</td>\n      <td>0.0</td>\n      <td>0.0</td>\n      <td>0.0</td>\n      <td>...</td>\n      <td>NaN</td>\n      <td>NaN</td>\n      <td>NaN</td>\n      <td>NaN</td>\n      <td>NaN</td>\n      <td>NaN</td>\n      <td>NaN</td>\n      <td>NaN</td>\n      <td>NaN</td>\n      <td>60.0</td>\n    </tr>\n    <tr>\n      <th>2015-02-20 01:06:37</th>\n      <td>2015-02-20 01:06:37</td>\n      <td>27388</td>\n      <td>0.058124</td>\n      <td>4.862597</td>\n      <td>0.0</td>\n      <td>0.0</td>\n      <td>0.0</td>\n      <td>0.0</td>\n      <td>0.0</td>\n      <td>0.0</td>\n      <td>...</td>\n      <td>NaN</td>\n      <td>NaN</td>\n      <td>NaN</td>\n      <td>NaN</td>\n      <td>NaN</td>\n      <td>NaN</td>\n      <td>NaN</td>\n      <td>NaN</td>\n      <td>NaN</td>\n      <td>60.0</td>\n    </tr>\n    <tr>\n      <th>2015-02-20 01:07:37</th>\n      <td>2015-02-20 01:07:37</td>\n      <td>27389</td>\n      <td>0.058124</td>\n      <td>4.887749</td>\n      <td>0.0</td>\n      <td>0.0</td>\n      <td>0.0</td>\n      <td>0.0</td>\n      <td>0.0</td>\n      <td>0.0</td>\n      <td>...</td>\n      <td>NaN</td>\n      <td>NaN</td>\n      <td>NaN</td>\n      <td>NaN</td>\n      <td>NaN</td>\n      <td>NaN</td>\n      <td>NaN</td>\n      <td>NaN</td>\n      <td>NaN</td>\n      <td>60.0</td>\n    </tr>\n    <tr>\n      <th>...</th>\n      <td>...</td>\n      <td>...</td>\n      <td>...</td>\n      <td>...</td>\n      <td>...</td>\n      <td>...</td>\n      <td>...</td>\n      <td>...</td>\n      <td>...</td>\n      <td>...</td>\n      <td>...</td>\n      <td>...</td>\n      <td>...</td>\n      <td>...</td>\n      <td>...</td>\n      <td>...</td>\n      <td>...</td>\n      <td>...</td>\n      <td>...</td>\n      <td>...</td>\n      <td>...</td>\n    </tr>\n    <tr>\n      <th>2016-01-30 01:06:29</th>\n      <td>2016-01-30 01:06:29</td>\n      <td>516794</td>\n      <td>0.070674</td>\n      <td>5.211040</td>\n      <td>0.0</td>\n      <td>0.0</td>\n      <td>0.0</td>\n      <td>0.0</td>\n      <td>0.0</td>\n      <td>0.0</td>\n      <td>...</td>\n      <td>0.0</td>\n      <td>-0.018551</td>\n      <td>0.001090</td>\n      <td>NaN</td>\n      <td>NaN</td>\n      <td>NaN</td>\n      <td>NaN</td>\n      <td>NaN</td>\n      <td>NaN</td>\n      <td>60.0</td>\n    </tr>\n    <tr>\n      <th>2016-01-30 01:07:29</th>\n      <td>2016-01-30 01:07:29</td>\n      <td>516795</td>\n      <td>0.071334</td>\n      <td>5.313943</td>\n      <td>0.0</td>\n      <td>0.0</td>\n      <td>0.0</td>\n      <td>0.0</td>\n      <td>0.0</td>\n      <td>0.0</td>\n      <td>...</td>\n      <td>0.0</td>\n      <td>-0.017023</td>\n      <td>-0.000391</td>\n      <td>NaN</td>\n      <td>NaN</td>\n      <td>NaN</td>\n      <td>NaN</td>\n      <td>NaN</td>\n      <td>NaN</td>\n      <td>60.0</td>\n    </tr>\n    <tr>\n      <th>2016-01-30 01:08:29</th>\n      <td>2016-01-30 01:08:29</td>\n      <td>516796</td>\n      <td>0.074636</td>\n      <td>5.391418</td>\n      <td>0.0</td>\n      <td>0.0</td>\n      <td>0.0</td>\n      <td>0.0</td>\n      <td>0.0</td>\n      <td>0.0</td>\n      <td>...</td>\n      <td>0.0</td>\n      <td>-0.017164</td>\n      <td>-0.000776</td>\n      <td>NaN</td>\n      <td>NaN</td>\n      <td>NaN</td>\n      <td>NaN</td>\n      <td>NaN</td>\n      <td>NaN</td>\n      <td>60.0</td>\n    </tr>\n    <tr>\n      <th>2016-01-30 01:09:29</th>\n      <td>2016-01-30 01:09:29</td>\n      <td>516797</td>\n      <td>0.074636</td>\n      <td>5.436720</td>\n      <td>0.0</td>\n      <td>0.0</td>\n      <td>0.0</td>\n      <td>0.0</td>\n      <td>0.0</td>\n      <td>0.0</td>\n      <td>...</td>\n      <td>0.0</td>\n      <td>-0.015977</td>\n      <td>-0.001013</td>\n      <td>NaN</td>\n      <td>NaN</td>\n      <td>NaN</td>\n      <td>NaN</td>\n      <td>NaN</td>\n      <td>NaN</td>\n      <td>60.0</td>\n    </tr>\n    <tr>\n      <th>2016-01-30 01:10:29</th>\n      <td>2016-01-30 01:10:29</td>\n      <td>516798</td>\n      <td>0.074636</td>\n      <td>5.512138</td>\n      <td>0.0</td>\n      <td>0.0</td>\n      <td>0.0</td>\n      <td>0.0</td>\n      <td>0.0</td>\n      <td>0.0</td>\n      <td>...</td>\n      <td>0.0</td>\n      <td>-0.017669</td>\n      <td>0.001587</td>\n      <td>NaN</td>\n      <td>NaN</td>\n      <td>NaN</td>\n      <td>NaN</td>\n      <td>NaN</td>\n      <td>NaN</td>\n      <td>60.0</td>\n    </tr>\n  </tbody>\n</table>\n<p>777 rows × 383 columns</p>\n</div>"
     },
     "execution_count": 122,
     "metadata": {},
     "output_type": "execute_result"
    }
   ],
   "source": [
    "df[df[\"HVAC_HeatPumpIndoorUnitPower\"].isnull() == True]"
   ],
   "metadata": {
    "collapsed": false,
    "pycharm": {
     "name": "#%%\n"
    }
   }
  },
  {
   "cell_type": "code",
   "execution_count": 123,
   "outputs": [
    {
     "data": {
      "text/plain": "Timestamp                          0\nTimeStamp_Count                    0\nLoad_LatentHeatWaterVolume         0\nLoad_RefrigeratorTemp              0\nLoad_StatusBA1Lights               0\n                                ... \nHVAC_DehumidifierPower           777\nHVAC_DehumidifierInletAirTemp    777\nHVAC_DehumidifierExitAirTemp     777\nHVAC_DehumidifierAirflow         777\nTimestamp_Delta                    0\nLength: 383, dtype: int64"
     },
     "execution_count": 123,
     "metadata": {},
     "output_type": "execute_result"
    }
   ],
   "source": [
    "df.isnull().sum()"
   ],
   "metadata": {
    "collapsed": false,
    "pycharm": {
     "name": "#%%\n"
    }
   }
  },
  {
   "cell_type": "markdown",
   "source": [
    "# Function to create interpolated records based on a DataFrame"
   ],
   "metadata": {
    "collapsed": false
   }
  },
  {
   "cell_type": "code",
   "execution_count": 124,
   "outputs": [
    {
     "data": {
      "text/plain": "                              Timestamp  TimeStamp_Count  \\\nTimestamp                                                  \n2015-02-01 00:01:50 2015-02-01 00:01:50                1   \n2015-02-01 00:02:50 2015-02-01 00:02:50                2   \n2015-02-01 00:03:50 2015-02-01 00:03:50                3   \n2015-02-01 00:04:50 2015-02-01 00:04:50                4   \n2015-02-01 00:05:50 2015-02-01 00:05:50                5   \n...                                 ...              ...   \n2016-01-31 23:54:24 2016-01-31 23:54:24           519600   \n2016-01-31 23:55:24 2016-01-31 23:55:24           519601   \n2016-01-31 23:56:24 2016-01-31 23:56:24           519602   \n2016-01-31 23:57:24 2016-01-31 23:57:24           519603   \n2016-01-31 23:58:24 2016-01-31 23:58:24           519604   \n\n                     Load_LatentHeatWaterVolume  Load_RefrigeratorTemp  \\\nTimestamp                                                                \n2015-02-01 00:01:50                    0.000000               4.994715   \n2015-02-01 00:02:50                    0.000000               5.046792   \n2015-02-01 00:03:50                    0.000000               5.129493   \n2015-02-01 00:04:50                    0.001981               5.163539   \n2015-02-01 00:05:50                    0.001981               5.232744   \n...                                         ...                    ...   \n2016-01-31 23:54:24                    1.757590               4.512704   \n2016-01-31 23:55:24                    1.760893               4.514255   \n2016-01-31 23:56:24                    1.763535               4.548853   \n2016-01-31 23:57:24                    1.763535               4.557287   \n2016-01-31 23:58:24                    1.763535               4.589046   \n\n                     Load_StatusBA1Lights  Load_StatusKitchenLightsA  \\\nTimestamp                                                              \n2015-02-01 00:01:50                   0.0                        0.0   \n2015-02-01 00:02:50                   0.0                        0.0   \n2015-02-01 00:03:50                   0.0                        0.0   \n2015-02-01 00:04:50                   0.0                        0.0   \n2015-02-01 00:05:50                   0.0                        0.0   \n...                                   ...                        ...   \n2016-01-31 23:54:24                   0.0                        0.0   \n2016-01-31 23:55:24                   0.0                        0.0   \n2016-01-31 23:56:24                   0.0                        0.0   \n2016-01-31 23:57:24                   0.0                        0.0   \n2016-01-31 23:58:24                   0.0                        0.0   \n\n                     Load_StatusKitchenLightsB  Load_StatusKitchenLightsC  \\\nTimestamp                                                                   \n2015-02-01 00:01:50                        0.0                        0.0   \n2015-02-01 00:02:50                        0.0                        0.0   \n2015-02-01 00:03:50                        0.0                        0.0   \n2015-02-01 00:04:50                        0.0                        0.0   \n2015-02-01 00:05:50                        0.0                        0.0   \n...                                        ...                        ...   \n2016-01-31 23:54:24                        0.0                        0.0   \n2016-01-31 23:55:24                        0.0                        0.0   \n2016-01-31 23:56:24                        0.0                        0.0   \n2016-01-31 23:57:24                        0.0                        0.0   \n2016-01-31 23:58:24                        0.0                        0.0   \n\n                     Load_StatusDRLights  Load_StatusLRLights3  ...  \\\nTimestamp                                                       ...   \n2015-02-01 00:01:50                  0.0                   0.0  ...   \n2015-02-01 00:02:50                  0.0                   0.0  ...   \n2015-02-01 00:03:50                  0.0                   0.0  ...   \n2015-02-01 00:04:50                  0.0                   0.0  ...   \n2015-02-01 00:05:50                  0.0                   0.0  ...   \n...                                  ...                   ...  ...   \n2016-01-31 23:54:24                  0.0                   0.0  ...   \n2016-01-31 23:55:24                  0.0                   0.0  ...   \n2016-01-31 23:56:24                  0.0                   0.0  ...   \n2016-01-31 23:57:24                  0.0                   0.0  ...   \n2016-01-31 23:58:24                  0.0                   0.0  ...   \n\n                     SHW_WaterFlowHXCoriolisSHW  \\\nTimestamp                                         \n2015-02-01 00:01:50                         NaN   \n2015-02-01 00:02:50                         NaN   \n2015-02-01 00:03:50                         NaN   \n2015-02-01 00:04:50                         NaN   \n2015-02-01 00:05:50                         NaN   \n...                                         ...   \n2016-01-31 23:54:24                  942.630328   \n2016-01-31 23:55:24                  942.630328   \n2016-01-31 23:56:24                  942.630328   \n2016-01-31 23:57:24                  942.630328   \n2016-01-31 23:58:24                  942.630328   \n\n                     SHW_GlycolFlowRateHXCoriolisSHW  \\\nTimestamp                                              \n2015-02-01 00:01:50                              NaN   \n2015-02-01 00:02:50                              NaN   \n2015-02-01 00:03:50                              NaN   \n2015-02-01 00:04:50                              NaN   \n2015-02-01 00:05:50                              NaN   \n...                                              ...   \n2016-01-31 23:54:24                         0.001164   \n2016-01-31 23:55:24                         0.001546   \n2016-01-31 23:56:24                         0.000187   \n2016-01-31 23:57:24                         0.001145   \n2016-01-31 23:58:24                         0.002149   \n\n                     SHW_WaterFlowRateHXCoriolisSHW  \\\nTimestamp                                             \n2015-02-01 00:01:50                             NaN   \n2015-02-01 00:02:50                             NaN   \n2015-02-01 00:03:50                             NaN   \n2015-02-01 00:04:50                             NaN   \n2015-02-01 00:05:50                             NaN   \n...                                             ...   \n2016-01-31 23:54:24                        0.000296   \n2016-01-31 23:55:24                        0.000268   \n2016-01-31 23:56:24                       -0.000285   \n2016-01-31 23:57:24                       -0.000483   \n2016-01-31 23:58:24                        0.001006   \n\n                     HVAC_HeatPumpIndoorUnitPower  \\\nTimestamp                                           \n2015-02-01 00:01:50                       184.412   \n2015-02-01 00:02:50                       184.618   \n2015-02-01 00:03:50                       169.844   \n2015-02-01 00:04:50                       167.300   \n2015-02-01 00:05:50                       182.976   \n...                                           ...   \n2016-01-31 23:54:24                        11.725   \n2016-01-31 23:55:24                        11.178   \n2016-01-31 23:56:24                        10.767   \n2016-01-31 23:57:24                        10.903   \n2016-01-31 23:58:24                        11.315   \n\n                     HVAC_HeatPumpOutdoorUnitPower  HVAC_DehumidifierPower  \\\nTimestamp                                                                    \n2015-02-01 00:01:50                       1108.765                   4.471   \n2015-02-01 00:02:50                       1097.577                   4.508   \n2015-02-01 00:03:50                       1086.113                   4.510   \n2015-02-01 00:04:50                       1079.586                   4.529   \n2015-02-01 00:05:50                       1048.502                   4.438   \n...                                            ...                     ...   \n2016-01-31 23:54:24                         22.563                   4.265   \n2016-01-31 23:55:24                         22.475                   4.286   \n2016-01-31 23:56:24                         22.388                   4.293   \n2016-01-31 23:57:24                         22.169                   4.306   \n2016-01-31 23:58:24                         22.957                   4.327   \n\n                     HVAC_DehumidifierInletAirTemp  \\\nTimestamp                                            \n2015-02-01 00:01:50                         72.102   \n2015-02-01 00:02:50                         72.096   \n2015-02-01 00:03:50                         72.077   \n2015-02-01 00:04:50                         72.074   \n2015-02-01 00:05:50                         72.086   \n...                                            ...   \n2016-01-31 23:54:24                         67.645   \n2016-01-31 23:55:24                         67.655   \n2016-01-31 23:56:24                         67.644   \n2016-01-31 23:57:24                         67.651   \n2016-01-31 23:58:24                         67.652   \n\n                     HVAC_DehumidifierExitAirTemp  HVAC_DehumidifierAirflow  \\\nTimestamp                                                                     \n2015-02-01 00:01:50                        74.655                       0.0   \n2015-02-01 00:02:50                        74.701                       0.0   \n2015-02-01 00:03:50                        74.759                       0.0   \n2015-02-01 00:04:50                        74.829                       0.0   \n2015-02-01 00:05:50                        74.863                       0.0   \n...                                           ...                       ...   \n2016-01-31 23:54:24                        68.550                       0.0   \n2016-01-31 23:55:24                        68.551                       0.0   \n2016-01-31 23:56:24                        68.549                       0.0   \n2016-01-31 23:57:24                        68.552                       0.0   \n2016-01-31 23:58:24                        68.560                       0.0   \n\n                     Timestamp_Delta  \nTimestamp                             \n2015-02-01 00:01:50              0.0  \n2015-02-01 00:02:50             60.0  \n2015-02-01 00:03:50             60.0  \n2015-02-01 00:04:50             60.0  \n2015-02-01 00:05:50             60.0  \n...                              ...  \n2016-01-31 23:54:24             60.0  \n2016-01-31 23:55:24             60.0  \n2016-01-31 23:56:24             60.0  \n2016-01-31 23:57:24             60.0  \n2016-01-31 23:58:24             60.0  \n\n[519604 rows x 383 columns]",
      "text/html": "<div>\n<style scoped>\n    .dataframe tbody tr th:only-of-type {\n        vertical-align: middle;\n    }\n\n    .dataframe tbody tr th {\n        vertical-align: top;\n    }\n\n    .dataframe thead th {\n        text-align: right;\n    }\n</style>\n<table border=\"1\" class=\"dataframe\">\n  <thead>\n    <tr style=\"text-align: right;\">\n      <th></th>\n      <th>Timestamp</th>\n      <th>TimeStamp_Count</th>\n      <th>Load_LatentHeatWaterVolume</th>\n      <th>Load_RefrigeratorTemp</th>\n      <th>Load_StatusBA1Lights</th>\n      <th>Load_StatusKitchenLightsA</th>\n      <th>Load_StatusKitchenLightsB</th>\n      <th>Load_StatusKitchenLightsC</th>\n      <th>Load_StatusDRLights</th>\n      <th>Load_StatusLRLights3</th>\n      <th>...</th>\n      <th>SHW_WaterFlowHXCoriolisSHW</th>\n      <th>SHW_GlycolFlowRateHXCoriolisSHW</th>\n      <th>SHW_WaterFlowRateHXCoriolisSHW</th>\n      <th>HVAC_HeatPumpIndoorUnitPower</th>\n      <th>HVAC_HeatPumpOutdoorUnitPower</th>\n      <th>HVAC_DehumidifierPower</th>\n      <th>HVAC_DehumidifierInletAirTemp</th>\n      <th>HVAC_DehumidifierExitAirTemp</th>\n      <th>HVAC_DehumidifierAirflow</th>\n      <th>Timestamp_Delta</th>\n    </tr>\n    <tr>\n      <th>Timestamp</th>\n      <th></th>\n      <th></th>\n      <th></th>\n      <th></th>\n      <th></th>\n      <th></th>\n      <th></th>\n      <th></th>\n      <th></th>\n      <th></th>\n      <th></th>\n      <th></th>\n      <th></th>\n      <th></th>\n      <th></th>\n      <th></th>\n      <th></th>\n      <th></th>\n      <th></th>\n      <th></th>\n      <th></th>\n    </tr>\n  </thead>\n  <tbody>\n    <tr>\n      <th>2015-02-01 00:01:50</th>\n      <td>2015-02-01 00:01:50</td>\n      <td>1</td>\n      <td>0.000000</td>\n      <td>4.994715</td>\n      <td>0.0</td>\n      <td>0.0</td>\n      <td>0.0</td>\n      <td>0.0</td>\n      <td>0.0</td>\n      <td>0.0</td>\n      <td>...</td>\n      <td>NaN</td>\n      <td>NaN</td>\n      <td>NaN</td>\n      <td>184.412</td>\n      <td>1108.765</td>\n      <td>4.471</td>\n      <td>72.102</td>\n      <td>74.655</td>\n      <td>0.0</td>\n      <td>0.0</td>\n    </tr>\n    <tr>\n      <th>2015-02-01 00:02:50</th>\n      <td>2015-02-01 00:02:50</td>\n      <td>2</td>\n      <td>0.000000</td>\n      <td>5.046792</td>\n      <td>0.0</td>\n      <td>0.0</td>\n      <td>0.0</td>\n      <td>0.0</td>\n      <td>0.0</td>\n      <td>0.0</td>\n      <td>...</td>\n      <td>NaN</td>\n      <td>NaN</td>\n      <td>NaN</td>\n      <td>184.618</td>\n      <td>1097.577</td>\n      <td>4.508</td>\n      <td>72.096</td>\n      <td>74.701</td>\n      <td>0.0</td>\n      <td>60.0</td>\n    </tr>\n    <tr>\n      <th>2015-02-01 00:03:50</th>\n      <td>2015-02-01 00:03:50</td>\n      <td>3</td>\n      <td>0.000000</td>\n      <td>5.129493</td>\n      <td>0.0</td>\n      <td>0.0</td>\n      <td>0.0</td>\n      <td>0.0</td>\n      <td>0.0</td>\n      <td>0.0</td>\n      <td>...</td>\n      <td>NaN</td>\n      <td>NaN</td>\n      <td>NaN</td>\n      <td>169.844</td>\n      <td>1086.113</td>\n      <td>4.510</td>\n      <td>72.077</td>\n      <td>74.759</td>\n      <td>0.0</td>\n      <td>60.0</td>\n    </tr>\n    <tr>\n      <th>2015-02-01 00:04:50</th>\n      <td>2015-02-01 00:04:50</td>\n      <td>4</td>\n      <td>0.001981</td>\n      <td>5.163539</td>\n      <td>0.0</td>\n      <td>0.0</td>\n      <td>0.0</td>\n      <td>0.0</td>\n      <td>0.0</td>\n      <td>0.0</td>\n      <td>...</td>\n      <td>NaN</td>\n      <td>NaN</td>\n      <td>NaN</td>\n      <td>167.300</td>\n      <td>1079.586</td>\n      <td>4.529</td>\n      <td>72.074</td>\n      <td>74.829</td>\n      <td>0.0</td>\n      <td>60.0</td>\n    </tr>\n    <tr>\n      <th>2015-02-01 00:05:50</th>\n      <td>2015-02-01 00:05:50</td>\n      <td>5</td>\n      <td>0.001981</td>\n      <td>5.232744</td>\n      <td>0.0</td>\n      <td>0.0</td>\n      <td>0.0</td>\n      <td>0.0</td>\n      <td>0.0</td>\n      <td>0.0</td>\n      <td>...</td>\n      <td>NaN</td>\n      <td>NaN</td>\n      <td>NaN</td>\n      <td>182.976</td>\n      <td>1048.502</td>\n      <td>4.438</td>\n      <td>72.086</td>\n      <td>74.863</td>\n      <td>0.0</td>\n      <td>60.0</td>\n    </tr>\n    <tr>\n      <th>...</th>\n      <td>...</td>\n      <td>...</td>\n      <td>...</td>\n      <td>...</td>\n      <td>...</td>\n      <td>...</td>\n      <td>...</td>\n      <td>...</td>\n      <td>...</td>\n      <td>...</td>\n      <td>...</td>\n      <td>...</td>\n      <td>...</td>\n      <td>...</td>\n      <td>...</td>\n      <td>...</td>\n      <td>...</td>\n      <td>...</td>\n      <td>...</td>\n      <td>...</td>\n      <td>...</td>\n    </tr>\n    <tr>\n      <th>2016-01-31 23:54:24</th>\n      <td>2016-01-31 23:54:24</td>\n      <td>519600</td>\n      <td>1.757590</td>\n      <td>4.512704</td>\n      <td>0.0</td>\n      <td>0.0</td>\n      <td>0.0</td>\n      <td>0.0</td>\n      <td>0.0</td>\n      <td>0.0</td>\n      <td>...</td>\n      <td>942.630328</td>\n      <td>0.001164</td>\n      <td>0.000296</td>\n      <td>11.725</td>\n      <td>22.563</td>\n      <td>4.265</td>\n      <td>67.645</td>\n      <td>68.550</td>\n      <td>0.0</td>\n      <td>60.0</td>\n    </tr>\n    <tr>\n      <th>2016-01-31 23:55:24</th>\n      <td>2016-01-31 23:55:24</td>\n      <td>519601</td>\n      <td>1.760893</td>\n      <td>4.514255</td>\n      <td>0.0</td>\n      <td>0.0</td>\n      <td>0.0</td>\n      <td>0.0</td>\n      <td>0.0</td>\n      <td>0.0</td>\n      <td>...</td>\n      <td>942.630328</td>\n      <td>0.001546</td>\n      <td>0.000268</td>\n      <td>11.178</td>\n      <td>22.475</td>\n      <td>4.286</td>\n      <td>67.655</td>\n      <td>68.551</td>\n      <td>0.0</td>\n      <td>60.0</td>\n    </tr>\n    <tr>\n      <th>2016-01-31 23:56:24</th>\n      <td>2016-01-31 23:56:24</td>\n      <td>519602</td>\n      <td>1.763535</td>\n      <td>4.548853</td>\n      <td>0.0</td>\n      <td>0.0</td>\n      <td>0.0</td>\n      <td>0.0</td>\n      <td>0.0</td>\n      <td>0.0</td>\n      <td>...</td>\n      <td>942.630328</td>\n      <td>0.000187</td>\n      <td>-0.000285</td>\n      <td>10.767</td>\n      <td>22.388</td>\n      <td>4.293</td>\n      <td>67.644</td>\n      <td>68.549</td>\n      <td>0.0</td>\n      <td>60.0</td>\n    </tr>\n    <tr>\n      <th>2016-01-31 23:57:24</th>\n      <td>2016-01-31 23:57:24</td>\n      <td>519603</td>\n      <td>1.763535</td>\n      <td>4.557287</td>\n      <td>0.0</td>\n      <td>0.0</td>\n      <td>0.0</td>\n      <td>0.0</td>\n      <td>0.0</td>\n      <td>0.0</td>\n      <td>...</td>\n      <td>942.630328</td>\n      <td>0.001145</td>\n      <td>-0.000483</td>\n      <td>10.903</td>\n      <td>22.169</td>\n      <td>4.306</td>\n      <td>67.651</td>\n      <td>68.552</td>\n      <td>0.0</td>\n      <td>60.0</td>\n    </tr>\n    <tr>\n      <th>2016-01-31 23:58:24</th>\n      <td>2016-01-31 23:58:24</td>\n      <td>519604</td>\n      <td>1.763535</td>\n      <td>4.589046</td>\n      <td>0.0</td>\n      <td>0.0</td>\n      <td>0.0</td>\n      <td>0.0</td>\n      <td>0.0</td>\n      <td>0.0</td>\n      <td>...</td>\n      <td>942.630328</td>\n      <td>0.002149</td>\n      <td>0.001006</td>\n      <td>11.315</td>\n      <td>22.957</td>\n      <td>4.327</td>\n      <td>67.652</td>\n      <td>68.560</td>\n      <td>0.0</td>\n      <td>60.0</td>\n    </tr>\n  </tbody>\n</table>\n<p>519604 rows × 383 columns</p>\n</div>"
     },
     "execution_count": 124,
     "metadata": {},
     "output_type": "execute_result"
    }
   ],
   "source": [
    "df"
   ],
   "metadata": {
    "collapsed": false,
    "pycharm": {
     "name": "#%%\n"
    }
   }
  },
  {
   "cell_type": "code",
   "execution_count": 135,
   "outputs": [],
   "source": [
    "def interpolate_df(dataframe):\n",
    "    dataframe[\"DF\"] = 1\n",
    "    dataframe.drop([\"Timestamp\", \"TimeStamp_Count\", \"Timestamp_Delta\"], axis=1, inplace=True)\n",
    "\n",
    "    interpolation_records = dataframe.resample('1T') # Rækker svarende til 1 min i forskel\n",
    "    interpolation_records = interpolation_records.interpolate()\n",
    "    interpolation_records[\"DF\"] = 0\n",
    "\n",
    "    df_concat = pd.concat([dataframe, interpolation_records], axis=0)\n",
    "    df_concat.sort_index(inplace=True)\n",
    "\n",
    "    df_concat.interpolate(method=\"time\", inplace=True)\n",
    "\n",
    "    df_concat = df_concat[1:]\n",
    "\n",
    "    df_concat = df_concat[df_concat[\"DF\"] == 0]\n",
    "\n",
    "    del df_concat[\"DF\"]\n",
    "\n",
    "    df_concat[\"Timestamp\"] = df_concat.index\n",
    "\n",
    "    return df_concat"
   ],
   "metadata": {
    "collapsed": false,
    "pycharm": {
     "name": "#%%\n"
    }
   }
  },
  {
   "cell_type": "markdown",
   "source": [
    "# Handle boolean attributes"
   ],
   "metadata": {
    "collapsed": false
   }
  },
  {
   "cell_type": "code",
   "execution_count": 126,
   "outputs": [],
   "source": [
    "metadata = retriever.get_data(\"metadata-year2.pkl\")\n",
    "metadata.rename(columns={\"Unnamed: 0\": \"Attribute\"}, inplace=True)"
   ],
   "metadata": {
    "collapsed": false,
    "pycharm": {
     "name": "#%%\n"
    }
   }
  },
  {
   "cell_type": "code",
   "source": [
    "boolean_attributes = metadata[\"Attribute\"][metadata[\"Units\"] == \"Binary Status\"].tolist()"
   ],
   "metadata": {
    "collapsed": false,
    "pycharm": {
     "name": "#%%\n"
    }
   },
   "execution_count": 127,
   "outputs": []
  },
  {
   "cell_type": "code",
   "execution_count": 128,
   "outputs": [],
   "source": [
    "list_boolean_attributes = list(set(boolean_attributes) & set(df.columns.tolist())) # Some columns does not exist in df"
   ],
   "metadata": {
    "collapsed": false,
    "pycharm": {
     "name": "#%%\n"
    }
   }
  },
  {
   "cell_type": "code",
   "execution_count": 129,
   "outputs": [],
   "source": [
    "def resolve_boolean(dataframe, columns=list_boolean_attributes):\n",
    "    dataframe[columns] = dataframe[columns].round()\n",
    "    return dataframe"
   ],
   "metadata": {
    "collapsed": false,
    "pycharm": {
     "name": "#%%\n"
    }
   }
  },
  {
   "cell_type": "markdown",
   "source": [
    "# Sub-DataFrames interpolated"
   ],
   "metadata": {
    "collapsed": false
   }
  },
  {
   "cell_type": "code",
   "execution_count": 136,
   "outputs": [],
   "source": [
    "df_1_interpolated = resolve_boolean(dataframe=interpolate_df(dataframe=df[:df_index_split[0]]))\n",
    "df_2_interpolated = resolve_boolean(dataframe=interpolate_df(dataframe=df[df_index_split[0]:df_index_split[1]]))\n",
    "df_3_interpolated = resolve_boolean(dataframe=interpolate_df(dataframe=df[df_index_split[1]:df_index_split[2]]))\n",
    "df_4_interpolated = resolve_boolean(dataframe=interpolate_df(dataframe=df[df_index_split[2]:]))"
   ],
   "metadata": {
    "collapsed": false,
    "pycharm": {
     "name": "#%%\n"
    }
   }
  },
  {
   "cell_type": "code",
   "execution_count": 137,
   "outputs": [
    {
     "data": {
      "text/plain": "                     Load_LatentHeatWaterVolume  Load_RefrigeratorTemp  \\\nTimestamp                                                                \n2015-02-01 00:02:00                    0.000000               5.003394   \n2015-02-01 00:03:00                    0.000000               5.060575   \n2015-02-01 00:04:00                    0.000330               5.135167   \n2015-02-01 00:05:00                    0.001981               5.175073   \n2015-02-01 00:06:00                    0.001981               5.252252   \n...                                         ...                    ...   \n2015-03-08 02:56:00                    1.247685               5.226888   \n2015-03-08 02:57:00                    1.247685               5.226888   \n2015-03-08 02:58:00                    1.247685               5.226888   \n2015-03-08 02:59:00                    1.247685               5.226888   \n2015-03-08 03:00:00                    1.247685               5.226888   \n\n                     Load_StatusBA1Lights  Load_StatusKitchenLightsA  \\\nTimestamp                                                              \n2015-02-01 00:02:00                   0.0                        0.0   \n2015-02-01 00:03:00                   0.0                        0.0   \n2015-02-01 00:04:00                   0.0                        0.0   \n2015-02-01 00:05:00                   0.0                        0.0   \n2015-02-01 00:06:00                   0.0                        0.0   \n...                                   ...                        ...   \n2015-03-08 02:56:00                   0.0                        1.0   \n2015-03-08 02:57:00                   0.0                        1.0   \n2015-03-08 02:58:00                   0.0                        1.0   \n2015-03-08 02:59:00                   0.0                        1.0   \n2015-03-08 03:00:00                   0.0                        1.0   \n\n                     Load_StatusKitchenLightsB  Load_StatusKitchenLightsC  \\\nTimestamp                                                                   \n2015-02-01 00:02:00                        0.0                        0.0   \n2015-02-01 00:03:00                        0.0                        0.0   \n2015-02-01 00:04:00                        0.0                        0.0   \n2015-02-01 00:05:00                        0.0                        0.0   \n2015-02-01 00:06:00                        0.0                        0.0   \n...                                        ...                        ...   \n2015-03-08 02:56:00                        1.0                        1.0   \n2015-03-08 02:57:00                        1.0                        1.0   \n2015-03-08 02:58:00                        1.0                        1.0   \n2015-03-08 02:59:00                        1.0                        1.0   \n2015-03-08 03:00:00                        1.0                        1.0   \n\n                     Load_StatusDRLights  Load_StatusLRLights3  \\\nTimestamp                                                        \n2015-02-01 00:02:00                  0.0                   0.0   \n2015-02-01 00:03:00                  0.0                   0.0   \n2015-02-01 00:04:00                  0.0                   0.0   \n2015-02-01 00:05:00                  0.0                   0.0   \n2015-02-01 00:06:00                  0.0                   0.0   \n...                                  ...                   ...   \n2015-03-08 02:56:00                  0.0                   1.0   \n2015-03-08 02:57:00                  0.0                   1.0   \n2015-03-08 02:58:00                  0.0                   1.0   \n2015-03-08 02:59:00                  0.0                   1.0   \n2015-03-08 03:00:00                  0.0                   1.0   \n\n                     Load_StatusEntryHallLights  Load_StatusBR4Lights  ...  \\\nTimestamp                                                              ...   \n2015-02-01 00:02:00                         0.0                   0.0  ...   \n2015-02-01 00:03:00                         0.0                   0.0  ...   \n2015-02-01 00:04:00                         0.0                   0.0  ...   \n2015-02-01 00:05:00                         0.0                   0.0  ...   \n2015-02-01 00:06:00                         0.0                   0.0  ...   \n...                                         ...                   ...  ...   \n2015-03-08 02:56:00                         0.0                   0.0  ...   \n2015-03-08 02:57:00                         0.0                   0.0  ...   \n2015-03-08 02:58:00                         0.0                   0.0  ...   \n2015-03-08 02:59:00                         0.0                   0.0  ...   \n2015-03-08 03:00:00                         0.0                   0.0  ...   \n\n                     SHW_WaterFlowHXCoriolisSHW  \\\nTimestamp                                         \n2015-02-01 00:02:00                         NaN   \n2015-02-01 00:03:00                         NaN   \n2015-02-01 00:04:00                         NaN   \n2015-02-01 00:05:00                         NaN   \n2015-02-01 00:06:00                         NaN   \n...                                         ...   \n2015-03-08 02:56:00                         NaN   \n2015-03-08 02:57:00                         NaN   \n2015-03-08 02:58:00                         NaN   \n2015-03-08 02:59:00                         NaN   \n2015-03-08 03:00:00                         NaN   \n\n                     SHW_GlycolFlowRateHXCoriolisSHW  \\\nTimestamp                                              \n2015-02-01 00:02:00                              NaN   \n2015-02-01 00:03:00                              NaN   \n2015-02-01 00:04:00                              NaN   \n2015-02-01 00:05:00                              NaN   \n2015-02-01 00:06:00                              NaN   \n...                                              ...   \n2015-03-08 02:56:00                              NaN   \n2015-03-08 02:57:00                              NaN   \n2015-03-08 02:58:00                              NaN   \n2015-03-08 02:59:00                              NaN   \n2015-03-08 03:00:00                              NaN   \n\n                     SHW_WaterFlowRateHXCoriolisSHW  \\\nTimestamp                                             \n2015-02-01 00:02:00                             NaN   \n2015-02-01 00:03:00                             NaN   \n2015-02-01 00:04:00                             NaN   \n2015-02-01 00:05:00                             NaN   \n2015-02-01 00:06:00                             NaN   \n...                                             ...   \n2015-03-08 02:56:00                             NaN   \n2015-03-08 02:57:00                             NaN   \n2015-03-08 02:58:00                             NaN   \n2015-03-08 02:59:00                             NaN   \n2015-03-08 03:00:00                             NaN   \n\n                     HVAC_HeatPumpIndoorUnitPower  \\\nTimestamp                                           \n2015-02-01 00:02:00                    184.446333   \n2015-02-01 00:03:00                    182.155667   \n2015-02-01 00:04:00                    169.420000   \n2015-02-01 00:05:00                    169.912667   \n2015-02-01 00:06:00                    181.102000   \n...                                           ...   \n2015-03-08 02:56:00                    130.119000   \n2015-03-08 02:57:00                    130.119000   \n2015-03-08 02:58:00                    130.119000   \n2015-03-08 02:59:00                    130.119000   \n2015-03-08 03:00:00                    130.119000   \n\n                     HVAC_HeatPumpOutdoorUnitPower  HVAC_DehumidifierPower  \\\nTimestamp                                                                    \n2015-02-01 00:02:00                    1106.900333                4.477167   \n2015-02-01 00:03:00                    1095.666333                4.508333   \n2015-02-01 00:04:00                    1085.025167                4.513167   \n2015-02-01 00:05:00                    1074.405333                4.513833   \n2015-02-01 00:06:00                    1049.749500                4.458500   \n...                                            ...                     ...   \n2015-03-08 02:56:00                    1071.628000                4.424000   \n2015-03-08 02:57:00                    1071.628000                4.424000   \n2015-03-08 02:58:00                    1071.628000                4.424000   \n2015-03-08 02:59:00                    1071.628000                4.424000   \n2015-03-08 03:00:00                    1071.628000                4.424000   \n\n                     HVAC_DehumidifierInletAirTemp  \\\nTimestamp                                            \n2015-02-01 00:02:00                      72.101000   \n2015-02-01 00:03:00                      72.092833   \n2015-02-01 00:04:00                      72.076500   \n2015-02-01 00:05:00                      72.076000   \n2015-02-01 00:06:00                      72.084500   \n...                                            ...   \n2015-03-08 02:56:00                      69.729000   \n2015-03-08 02:57:00                      69.729000   \n2015-03-08 02:58:00                      69.729000   \n2015-03-08 02:59:00                      69.729000   \n2015-03-08 03:00:00                      69.729000   \n\n                     HVAC_DehumidifierExitAirTemp  HVAC_DehumidifierAirflow  \\\nTimestamp                                                                     \n2015-02-01 00:02:00                     74.662667                       0.0   \n2015-02-01 00:03:00                     74.710667                       0.0   \n2015-02-01 00:04:00                     74.770667                       0.0   \n2015-02-01 00:05:00                     74.834667                       0.0   \n2015-02-01 00:06:00                     74.880000                       0.0   \n...                                           ...                       ...   \n2015-03-08 02:56:00                     71.949000                       0.0   \n2015-03-08 02:57:00                     71.949000                       0.0   \n2015-03-08 02:58:00                     71.949000                       0.0   \n2015-03-08 02:59:00                     71.949000                       0.0   \n2015-03-08 03:00:00                     71.949000                       0.0   \n\n                              Timestamp  \nTimestamp                                \n2015-02-01 00:02:00 2015-02-01 00:02:00  \n2015-02-01 00:03:00 2015-02-01 00:03:00  \n2015-02-01 00:04:00 2015-02-01 00:04:00  \n2015-02-01 00:05:00 2015-02-01 00:05:00  \n2015-02-01 00:06:00 2015-02-01 00:06:00  \n...                                 ...  \n2015-03-08 02:56:00 2015-03-08 02:56:00  \n2015-03-08 02:57:00 2015-03-08 02:57:00  \n2015-03-08 02:58:00 2015-03-08 02:58:00  \n2015-03-08 02:59:00 2015-03-08 02:59:00  \n2015-03-08 03:00:00 2015-03-08 03:00:00  \n\n[50579 rows x 381 columns]",
      "text/html": "<div>\n<style scoped>\n    .dataframe tbody tr th:only-of-type {\n        vertical-align: middle;\n    }\n\n    .dataframe tbody tr th {\n        vertical-align: top;\n    }\n\n    .dataframe thead th {\n        text-align: right;\n    }\n</style>\n<table border=\"1\" class=\"dataframe\">\n  <thead>\n    <tr style=\"text-align: right;\">\n      <th></th>\n      <th>Load_LatentHeatWaterVolume</th>\n      <th>Load_RefrigeratorTemp</th>\n      <th>Load_StatusBA1Lights</th>\n      <th>Load_StatusKitchenLightsA</th>\n      <th>Load_StatusKitchenLightsB</th>\n      <th>Load_StatusKitchenLightsC</th>\n      <th>Load_StatusDRLights</th>\n      <th>Load_StatusLRLights3</th>\n      <th>Load_StatusEntryHallLights</th>\n      <th>Load_StatusBR4Lights</th>\n      <th>...</th>\n      <th>SHW_WaterFlowHXCoriolisSHW</th>\n      <th>SHW_GlycolFlowRateHXCoriolisSHW</th>\n      <th>SHW_WaterFlowRateHXCoriolisSHW</th>\n      <th>HVAC_HeatPumpIndoorUnitPower</th>\n      <th>HVAC_HeatPumpOutdoorUnitPower</th>\n      <th>HVAC_DehumidifierPower</th>\n      <th>HVAC_DehumidifierInletAirTemp</th>\n      <th>HVAC_DehumidifierExitAirTemp</th>\n      <th>HVAC_DehumidifierAirflow</th>\n      <th>Timestamp</th>\n    </tr>\n    <tr>\n      <th>Timestamp</th>\n      <th></th>\n      <th></th>\n      <th></th>\n      <th></th>\n      <th></th>\n      <th></th>\n      <th></th>\n      <th></th>\n      <th></th>\n      <th></th>\n      <th></th>\n      <th></th>\n      <th></th>\n      <th></th>\n      <th></th>\n      <th></th>\n      <th></th>\n      <th></th>\n      <th></th>\n      <th></th>\n      <th></th>\n    </tr>\n  </thead>\n  <tbody>\n    <tr>\n      <th>2015-02-01 00:02:00</th>\n      <td>0.000000</td>\n      <td>5.003394</td>\n      <td>0.0</td>\n      <td>0.0</td>\n      <td>0.0</td>\n      <td>0.0</td>\n      <td>0.0</td>\n      <td>0.0</td>\n      <td>0.0</td>\n      <td>0.0</td>\n      <td>...</td>\n      <td>NaN</td>\n      <td>NaN</td>\n      <td>NaN</td>\n      <td>184.446333</td>\n      <td>1106.900333</td>\n      <td>4.477167</td>\n      <td>72.101000</td>\n      <td>74.662667</td>\n      <td>0.0</td>\n      <td>2015-02-01 00:02:00</td>\n    </tr>\n    <tr>\n      <th>2015-02-01 00:03:00</th>\n      <td>0.000000</td>\n      <td>5.060575</td>\n      <td>0.0</td>\n      <td>0.0</td>\n      <td>0.0</td>\n      <td>0.0</td>\n      <td>0.0</td>\n      <td>0.0</td>\n      <td>0.0</td>\n      <td>0.0</td>\n      <td>...</td>\n      <td>NaN</td>\n      <td>NaN</td>\n      <td>NaN</td>\n      <td>182.155667</td>\n      <td>1095.666333</td>\n      <td>4.508333</td>\n      <td>72.092833</td>\n      <td>74.710667</td>\n      <td>0.0</td>\n      <td>2015-02-01 00:03:00</td>\n    </tr>\n    <tr>\n      <th>2015-02-01 00:04:00</th>\n      <td>0.000330</td>\n      <td>5.135167</td>\n      <td>0.0</td>\n      <td>0.0</td>\n      <td>0.0</td>\n      <td>0.0</td>\n      <td>0.0</td>\n      <td>0.0</td>\n      <td>0.0</td>\n      <td>0.0</td>\n      <td>...</td>\n      <td>NaN</td>\n      <td>NaN</td>\n      <td>NaN</td>\n      <td>169.420000</td>\n      <td>1085.025167</td>\n      <td>4.513167</td>\n      <td>72.076500</td>\n      <td>74.770667</td>\n      <td>0.0</td>\n      <td>2015-02-01 00:04:00</td>\n    </tr>\n    <tr>\n      <th>2015-02-01 00:05:00</th>\n      <td>0.001981</td>\n      <td>5.175073</td>\n      <td>0.0</td>\n      <td>0.0</td>\n      <td>0.0</td>\n      <td>0.0</td>\n      <td>0.0</td>\n      <td>0.0</td>\n      <td>0.0</td>\n      <td>0.0</td>\n      <td>...</td>\n      <td>NaN</td>\n      <td>NaN</td>\n      <td>NaN</td>\n      <td>169.912667</td>\n      <td>1074.405333</td>\n      <td>4.513833</td>\n      <td>72.076000</td>\n      <td>74.834667</td>\n      <td>0.0</td>\n      <td>2015-02-01 00:05:00</td>\n    </tr>\n    <tr>\n      <th>2015-02-01 00:06:00</th>\n      <td>0.001981</td>\n      <td>5.252252</td>\n      <td>0.0</td>\n      <td>0.0</td>\n      <td>0.0</td>\n      <td>0.0</td>\n      <td>0.0</td>\n      <td>0.0</td>\n      <td>0.0</td>\n      <td>0.0</td>\n      <td>...</td>\n      <td>NaN</td>\n      <td>NaN</td>\n      <td>NaN</td>\n      <td>181.102000</td>\n      <td>1049.749500</td>\n      <td>4.458500</td>\n      <td>72.084500</td>\n      <td>74.880000</td>\n      <td>0.0</td>\n      <td>2015-02-01 00:06:00</td>\n    </tr>\n    <tr>\n      <th>...</th>\n      <td>...</td>\n      <td>...</td>\n      <td>...</td>\n      <td>...</td>\n      <td>...</td>\n      <td>...</td>\n      <td>...</td>\n      <td>...</td>\n      <td>...</td>\n      <td>...</td>\n      <td>...</td>\n      <td>...</td>\n      <td>...</td>\n      <td>...</td>\n      <td>...</td>\n      <td>...</td>\n      <td>...</td>\n      <td>...</td>\n      <td>...</td>\n      <td>...</td>\n      <td>...</td>\n    </tr>\n    <tr>\n      <th>2015-03-08 02:56:00</th>\n      <td>1.247685</td>\n      <td>5.226888</td>\n      <td>0.0</td>\n      <td>1.0</td>\n      <td>1.0</td>\n      <td>1.0</td>\n      <td>0.0</td>\n      <td>1.0</td>\n      <td>0.0</td>\n      <td>0.0</td>\n      <td>...</td>\n      <td>NaN</td>\n      <td>NaN</td>\n      <td>NaN</td>\n      <td>130.119000</td>\n      <td>1071.628000</td>\n      <td>4.424000</td>\n      <td>69.729000</td>\n      <td>71.949000</td>\n      <td>0.0</td>\n      <td>2015-03-08 02:56:00</td>\n    </tr>\n    <tr>\n      <th>2015-03-08 02:57:00</th>\n      <td>1.247685</td>\n      <td>5.226888</td>\n      <td>0.0</td>\n      <td>1.0</td>\n      <td>1.0</td>\n      <td>1.0</td>\n      <td>0.0</td>\n      <td>1.0</td>\n      <td>0.0</td>\n      <td>0.0</td>\n      <td>...</td>\n      <td>NaN</td>\n      <td>NaN</td>\n      <td>NaN</td>\n      <td>130.119000</td>\n      <td>1071.628000</td>\n      <td>4.424000</td>\n      <td>69.729000</td>\n      <td>71.949000</td>\n      <td>0.0</td>\n      <td>2015-03-08 02:57:00</td>\n    </tr>\n    <tr>\n      <th>2015-03-08 02:58:00</th>\n      <td>1.247685</td>\n      <td>5.226888</td>\n      <td>0.0</td>\n      <td>1.0</td>\n      <td>1.0</td>\n      <td>1.0</td>\n      <td>0.0</td>\n      <td>1.0</td>\n      <td>0.0</td>\n      <td>0.0</td>\n      <td>...</td>\n      <td>NaN</td>\n      <td>NaN</td>\n      <td>NaN</td>\n      <td>130.119000</td>\n      <td>1071.628000</td>\n      <td>4.424000</td>\n      <td>69.729000</td>\n      <td>71.949000</td>\n      <td>0.0</td>\n      <td>2015-03-08 02:58:00</td>\n    </tr>\n    <tr>\n      <th>2015-03-08 02:59:00</th>\n      <td>1.247685</td>\n      <td>5.226888</td>\n      <td>0.0</td>\n      <td>1.0</td>\n      <td>1.0</td>\n      <td>1.0</td>\n      <td>0.0</td>\n      <td>1.0</td>\n      <td>0.0</td>\n      <td>0.0</td>\n      <td>...</td>\n      <td>NaN</td>\n      <td>NaN</td>\n      <td>NaN</td>\n      <td>130.119000</td>\n      <td>1071.628000</td>\n      <td>4.424000</td>\n      <td>69.729000</td>\n      <td>71.949000</td>\n      <td>0.0</td>\n      <td>2015-03-08 02:59:00</td>\n    </tr>\n    <tr>\n      <th>2015-03-08 03:00:00</th>\n      <td>1.247685</td>\n      <td>5.226888</td>\n      <td>0.0</td>\n      <td>1.0</td>\n      <td>1.0</td>\n      <td>1.0</td>\n      <td>0.0</td>\n      <td>1.0</td>\n      <td>0.0</td>\n      <td>0.0</td>\n      <td>...</td>\n      <td>NaN</td>\n      <td>NaN</td>\n      <td>NaN</td>\n      <td>130.119000</td>\n      <td>1071.628000</td>\n      <td>4.424000</td>\n      <td>69.729000</td>\n      <td>71.949000</td>\n      <td>0.0</td>\n      <td>2015-03-08 03:00:00</td>\n    </tr>\n  </tbody>\n</table>\n<p>50579 rows × 381 columns</p>\n</div>"
     },
     "execution_count": 137,
     "metadata": {},
     "output_type": "execute_result"
    }
   ],
   "source": [
    "df_1_interpolated"
   ],
   "metadata": {
    "collapsed": false,
    "pycharm": {
     "name": "#%%\n"
    }
   }
  },
  {
   "cell_type": "markdown",
   "source": [
    "# Interpolating larger gaps (MICE)"
   ],
   "metadata": {
    "collapsed": false
   }
  },
  {
   "cell_type": "code",
   "execution_count": 134,
   "outputs": [],
   "source": [],
   "metadata": {
    "collapsed": false,
    "pycharm": {
     "name": "#%%\n"
    }
   }
  }
 ],
 "metadata": {
  "kernelspec": {
   "display_name": "Python 3",
   "language": "python",
   "name": "python3"
  },
  "language_info": {
   "codemirror_mode": {
    "name": "ipython",
    "version": 2
   },
   "file_extension": ".py",
   "mimetype": "text/x-python",
   "name": "python",
   "nbconvert_exporter": "python",
   "pygments_lexer": "ipython2",
   "version": "2.7.6"
  }
 },
 "nbformat": 4,
 "nbformat_minor": 0
}