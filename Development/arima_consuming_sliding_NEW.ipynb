{
 "cells": [
  {
   "cell_type": "markdown",
   "source": [
    "# Load the data"
   ],
   "metadata": {
    "collapsed": false,
    "pycharm": {
     "name": "#%% md\n"
    }
   }
  },
  {
   "cell_type": "code",
   "execution_count": 5,
   "outputs": [],
   "source": [
    "import pandas as pd\n",
    "from sklearn.metrics import mean_squared_error\n",
    "from sklearn.preprocessing import OneHotEncoder\n",
    "from statsmodels.tsa.statespace.sarimax import SARIMAX\n",
    "import plotly.graph_objects as go\n",
    "\n",
    "import DataRetriever as dr\n",
    "\n",
    "retriever = dr.DataRetriever()\n",
    "\n",
    "CON_ATTRIBUTES = retriever.get_attributes(file_name='consuming_attributes.pkl')\n",
    "\n",
    "con_df = retriever.get_data(file_name='All-Subsystems-hour-Year2.pkl')\n",
    "\n",
    "all_consuming = retriever.get_attributes(file_name='consuming_attributes.pkl')\n",
    "flex_consuming = [\"Load_ClothesWasherPowerWithStandby\", \"Elec_PowerDishwasher\", \"Load_DryerPowerTotal\"]\n",
    "fixed_consuming = list(set(all_consuming) - set(flex_consuming))\n",
    "\n",
    "data = pd.DataFrame(con_df[fixed_consuming].sum(axis=1).clip(lower=0) / 1e3)\n",
    "data.columns = ['Consumed Energy']"
   ],
   "metadata": {
    "collapsed": false,
    "pycharm": {
     "name": "#%%\n"
    }
   }
  },
  {
   "cell_type": "code",
   "execution_count": 6,
   "outputs": [
    {
     "name": "stderr",
     "output_type": "stream",
     "text": [
      "/tmp/ipykernel_128077/3376622727.py:1: FutureWarning: Indexing with a float is deprecated, and will raise an IndexError in pandas 2.0. You can manually convert to an integer key instead.\n",
      "  train_val = data[: data.index[len(data) * 0.8]]\n",
      "/tmp/ipykernel_128077/3376622727.py:2: FutureWarning: Indexing with a float is deprecated, and will raise an IndexError in pandas 2.0. You can manually convert to an integer key instead.\n",
      "  test = data[data.index[len(data) * 0.8]: ]\n"
     ]
    }
   ],
   "source": [
    "train_val = data[: data.index[len(data) * 0.8]]\n",
    "test = data[data.index[len(data) * 0.8]: ]"
   ],
   "metadata": {
    "collapsed": false,
    "pycharm": {
     "name": "#%%\n"
    }
   }
  },
  {
   "cell_type": "markdown",
   "source": [
    "# Sliding window function"
   ],
   "metadata": {
    "collapsed": false,
    "pycharm": {
     "name": "#%% md\n"
    }
   }
  },
  {
   "cell_type": "code",
   "execution_count": 7,
   "outputs": [],
   "source": [
    "def sliding_forecast(endog: pd.DataFrame, trend: str, order: tuple,\n",
    "                     seasonal_order: tuple=None, train_length: int=0,\n",
    "                     val_length: int=0, shift: int=0):\n",
    "\n",
    "    train_start = 0\n",
    "    train_end = train_start + (train_length * 24)\n",
    "    val_start = train_end\n",
    "    val_end = val_start + (val_length * 24)\n",
    "\n",
    "    progress = 0\n",
    "\n",
    "    rmse_list = list()\n",
    "\n",
    "    while len(endog[: val_end]) < len(endog):\n",
    "        model = SARIMAX(endog=endog[train_start : train_end],\n",
    "                        trend=trend, order=order, seasonal_order=seasonal_order, initialization='approximate_diffuse')\\\n",
    "            .fit(low_memory=True, disp=False, full_output=False)\n",
    "\n",
    "        predictions = pd.DataFrame(model.predict(start=endog.index[val_start],\n",
    "                                                 end=endog.index[val_end - 1]))\n",
    "\n",
    "        rmse_list.append(mean_squared_error(y_true=endog[val_start: val_end],\n",
    "                                            y_pred=predictions,\n",
    "                                            squared=False))\n",
    "\n",
    "        train_start += shift * 24\n",
    "        train_end = train_start + (train_length * 24)\n",
    "        val_start = train_end\n",
    "        val_end = val_start + (val_length * 24)\n",
    "\n",
    "        progress += 1\n",
    "\n",
    "    print(progress)\n",
    "\n",
    "    return sum(rmse_list) / len(rmse_list)"
   ],
   "metadata": {
    "collapsed": false,
    "pycharm": {
     "name": "#%%\n"
    }
   }
  },
  {
   "cell_type": "markdown",
   "source": [
    "# RMSE for SARIMA"
   ],
   "metadata": {
    "collapsed": false,
    "pycharm": {
     "name": "#%% md\n"
    }
   }
  },
  {
   "cell_type": "code",
   "execution_count": 8,
   "outputs": [
    {
     "name": "stderr",
     "output_type": "stream",
     "text": [
      "/usr/local/lib/python3.8/dist-packages/statsmodels/tsa/statespace/sarimax.py:966: UserWarning: Non-stationary starting autoregressive parameters found. Using zeros as starting parameters.\n",
      "  warn('Non-stationary starting autoregressive parameters'\n",
      "/usr/local/lib/python3.8/dist-packages/statsmodels/tsa/statespace/sarimax.py:978: UserWarning: Non-invertible starting MA parameters found. Using zeros as starting parameters.\n",
      "  warn('Non-invertible starting MA parameters found.'\n",
      "/usr/local/lib/python3.8/dist-packages/statsmodels/tsa/statespace/sarimax.py:966: UserWarning: Non-stationary starting autoregressive parameters found. Using zeros as starting parameters.\n",
      "  warn('Non-stationary starting autoregressive parameters'\n",
      "/usr/local/lib/python3.8/dist-packages/statsmodels/tsa/statespace/sarimax.py:978: UserWarning: Non-invertible starting MA parameters found. Using zeros as starting parameters.\n",
      "  warn('Non-invertible starting MA parameters found.'\n",
      "/usr/local/lib/python3.8/dist-packages/statsmodels/tsa/statespace/sarimax.py:966: UserWarning: Non-stationary starting autoregressive parameters found. Using zeros as starting parameters.\n",
      "  warn('Non-stationary starting autoregressive parameters'\n",
      "/usr/local/lib/python3.8/dist-packages/statsmodels/tsa/statespace/sarimax.py:978: UserWarning: Non-invertible starting MA parameters found. Using zeros as starting parameters.\n",
      "  warn('Non-invertible starting MA parameters found.'\n",
      "/usr/local/lib/python3.8/dist-packages/statsmodels/tsa/statespace/sarimax.py:966: UserWarning: Non-stationary starting autoregressive parameters found. Using zeros as starting parameters.\n",
      "  warn('Non-stationary starting autoregressive parameters'\n",
      "/usr/local/lib/python3.8/dist-packages/statsmodels/tsa/statespace/sarimax.py:978: UserWarning: Non-invertible starting MA parameters found. Using zeros as starting parameters.\n",
      "  warn('Non-invertible starting MA parameters found.'\n",
      "/usr/local/lib/python3.8/dist-packages/statsmodels/tsa/statespace/sarimax.py:966: UserWarning: Non-stationary starting autoregressive parameters found. Using zeros as starting parameters.\n",
      "  warn('Non-stationary starting autoregressive parameters'\n",
      "/usr/local/lib/python3.8/dist-packages/statsmodels/tsa/statespace/sarimax.py:978: UserWarning: Non-invertible starting MA parameters found. Using zeros as starting parameters.\n",
      "  warn('Non-invertible starting MA parameters found.'\n",
      "/usr/local/lib/python3.8/dist-packages/statsmodels/tsa/statespace/sarimax.py:966: UserWarning: Non-stationary starting autoregressive parameters found. Using zeros as starting parameters.\n",
      "  warn('Non-stationary starting autoregressive parameters'\n",
      "/usr/local/lib/python3.8/dist-packages/statsmodels/tsa/statespace/sarimax.py:978: UserWarning: Non-invertible starting MA parameters found. Using zeros as starting parameters.\n",
      "  warn('Non-invertible starting MA parameters found.'\n",
      "/usr/local/lib/python3.8/dist-packages/statsmodels/tsa/statespace/sarimax.py:966: UserWarning: Non-stationary starting autoregressive parameters found. Using zeros as starting parameters.\n",
      "  warn('Non-stationary starting autoregressive parameters'\n",
      "/usr/local/lib/python3.8/dist-packages/statsmodels/tsa/statespace/sarimax.py:978: UserWarning: Non-invertible starting MA parameters found. Using zeros as starting parameters.\n",
      "  warn('Non-invertible starting MA parameters found.'\n"
     ]
    },
    {
     "name": "stdout",
     "output_type": "stream",
     "text": [
      "9\n",
      "RMSE for SARIMA(4, 1, 2, 1, 1, 0, 168) is: 0.65191\n"
     ]
    },
    {
     "name": "stderr",
     "output_type": "stream",
     "text": [
      "/usr/local/lib/python3.8/dist-packages/statsmodels/tsa/statespace/sarimax.py:966: UserWarning: Non-stationary starting autoregressive parameters found. Using zeros as starting parameters.\n",
      "  warn('Non-stationary starting autoregressive parameters'\n",
      "/usr/local/lib/python3.8/dist-packages/statsmodels/tsa/statespace/sarimax.py:978: UserWarning: Non-invertible starting MA parameters found. Using zeros as starting parameters.\n",
      "  warn('Non-invertible starting MA parameters found.'\n",
      "/usr/local/lib/python3.8/dist-packages/statsmodels/tsa/statespace/sarimax.py:866: UserWarning: Too few observations to estimate starting parameters for seasonal ARMA. All parameters except for variances will be set to zeros.\n",
      "  warn('Too few observations to estimate starting parameters%s.'\n",
      "/usr/local/lib/python3.8/dist-packages/statsmodels/tsa/statespace/sarimax.py:966: UserWarning: Non-stationary starting autoregressive parameters found. Using zeros as starting parameters.\n",
      "  warn('Non-stationary starting autoregressive parameters'\n",
      "/usr/local/lib/python3.8/dist-packages/statsmodels/tsa/statespace/sarimax.py:978: UserWarning: Non-invertible starting MA parameters found. Using zeros as starting parameters.\n",
      "  warn('Non-invertible starting MA parameters found.'\n",
      "/usr/local/lib/python3.8/dist-packages/statsmodels/tsa/statespace/sarimax.py:866: UserWarning: Too few observations to estimate starting parameters for seasonal ARMA. All parameters except for variances will be set to zeros.\n",
      "  warn('Too few observations to estimate starting parameters%s.'\n",
      "/usr/local/lib/python3.8/dist-packages/statsmodels/tsa/statespace/sarimax.py:966: UserWarning: Non-stationary starting autoregressive parameters found. Using zeros as starting parameters.\n",
      "  warn('Non-stationary starting autoregressive parameters'\n",
      "/usr/local/lib/python3.8/dist-packages/statsmodels/tsa/statespace/sarimax.py:978: UserWarning: Non-invertible starting MA parameters found. Using zeros as starting parameters.\n",
      "  warn('Non-invertible starting MA parameters found.'\n",
      "/usr/local/lib/python3.8/dist-packages/statsmodels/tsa/statespace/sarimax.py:866: UserWarning: Too few observations to estimate starting parameters for seasonal ARMA. All parameters except for variances will be set to zeros.\n",
      "  warn('Too few observations to estimate starting parameters%s.'\n",
      "/usr/local/lib/python3.8/dist-packages/statsmodels/tsa/statespace/sarimax.py:866: UserWarning: Too few observations to estimate starting parameters for seasonal ARMA. All parameters except for variances will be set to zeros.\n",
      "  warn('Too few observations to estimate starting parameters%s.'\n",
      "/usr/local/lib/python3.8/dist-packages/statsmodels/tsa/statespace/sarimax.py:966: UserWarning: Non-stationary starting autoregressive parameters found. Using zeros as starting parameters.\n",
      "  warn('Non-stationary starting autoregressive parameters'\n",
      "/usr/local/lib/python3.8/dist-packages/statsmodels/tsa/statespace/sarimax.py:978: UserWarning: Non-invertible starting MA parameters found. Using zeros as starting parameters.\n",
      "  warn('Non-invertible starting MA parameters found.'\n",
      "/usr/local/lib/python3.8/dist-packages/statsmodels/tsa/statespace/sarimax.py:866: UserWarning: Too few observations to estimate starting parameters for seasonal ARMA. All parameters except for variances will be set to zeros.\n",
      "  warn('Too few observations to estimate starting parameters%s.'\n",
      "/usr/local/lib/python3.8/dist-packages/statsmodels/tsa/statespace/sarimax.py:966: UserWarning: Non-stationary starting autoregressive parameters found. Using zeros as starting parameters.\n",
      "  warn('Non-stationary starting autoregressive parameters'\n",
      "/usr/local/lib/python3.8/dist-packages/statsmodels/tsa/statespace/sarimax.py:978: UserWarning: Non-invertible starting MA parameters found. Using zeros as starting parameters.\n",
      "  warn('Non-invertible starting MA parameters found.'\n",
      "/usr/local/lib/python3.8/dist-packages/statsmodels/tsa/statespace/sarimax.py:866: UserWarning: Too few observations to estimate starting parameters for seasonal ARMA. All parameters except for variances will be set to zeros.\n",
      "  warn('Too few observations to estimate starting parameters%s.'\n",
      "/usr/local/lib/python3.8/dist-packages/statsmodels/tsa/statespace/sarimax.py:966: UserWarning: Non-stationary starting autoregressive parameters found. Using zeros as starting parameters.\n",
      "  warn('Non-stationary starting autoregressive parameters'\n",
      "/usr/local/lib/python3.8/dist-packages/statsmodels/tsa/statespace/sarimax.py:978: UserWarning: Non-invertible starting MA parameters found. Using zeros as starting parameters.\n",
      "  warn('Non-invertible starting MA parameters found.'\n",
      "/usr/local/lib/python3.8/dist-packages/statsmodels/tsa/statespace/sarimax.py:866: UserWarning: Too few observations to estimate starting parameters for seasonal ARMA. All parameters except for variances will be set to zeros.\n",
      "  warn('Too few observations to estimate starting parameters%s.'\n",
      "/usr/local/lib/python3.8/dist-packages/statsmodels/tsa/statespace/sarimax.py:966: UserWarning: Non-stationary starting autoregressive parameters found. Using zeros as starting parameters.\n",
      "  warn('Non-stationary starting autoregressive parameters'\n",
      "/usr/local/lib/python3.8/dist-packages/statsmodels/tsa/statespace/sarimax.py:978: UserWarning: Non-invertible starting MA parameters found. Using zeros as starting parameters.\n",
      "  warn('Non-invertible starting MA parameters found.'\n",
      "/usr/local/lib/python3.8/dist-packages/statsmodels/tsa/statespace/sarimax.py:866: UserWarning: Too few observations to estimate starting parameters for seasonal ARMA. All parameters except for variances will be set to zeros.\n",
      "  warn('Too few observations to estimate starting parameters%s.'\n",
      "/usr/local/lib/python3.8/dist-packages/statsmodels/tsa/statespace/sarimax.py:866: UserWarning: Too few observations to estimate starting parameters for seasonal ARMA. All parameters except for variances will be set to zeros.\n",
      "  warn('Too few observations to estimate starting parameters%s.'\n"
     ]
    },
    {
     "name": "stdout",
     "output_type": "stream",
     "text": [
      "9\n",
      "RMSE for SARIMA(4, 1, 2, 0, 1, 1, 168) is: 0.64691\n"
     ]
    },
    {
     "name": "stderr",
     "output_type": "stream",
     "text": [
      "/usr/local/lib/python3.8/dist-packages/statsmodels/tsa/statespace/sarimax.py:966: UserWarning: Non-stationary starting autoregressive parameters found. Using zeros as starting parameters.\n",
      "  warn('Non-stationary starting autoregressive parameters'\n",
      "/usr/local/lib/python3.8/dist-packages/statsmodels/tsa/statespace/sarimax.py:978: UserWarning: Non-invertible starting MA parameters found. Using zeros as starting parameters.\n",
      "  warn('Non-invertible starting MA parameters found.'\n",
      "/usr/local/lib/python3.8/dist-packages/statsmodels/tsa/statespace/sarimax.py:966: UserWarning: Non-stationary starting autoregressive parameters found. Using zeros as starting parameters.\n",
      "  warn('Non-stationary starting autoregressive parameters'\n",
      "/usr/local/lib/python3.8/dist-packages/statsmodels/tsa/statespace/sarimax.py:978: UserWarning: Non-invertible starting MA parameters found. Using zeros as starting parameters.\n",
      "  warn('Non-invertible starting MA parameters found.'\n",
      "/usr/local/lib/python3.8/dist-packages/statsmodels/tsa/statespace/sarimax.py:966: UserWarning: Non-stationary starting autoregressive parameters found. Using zeros as starting parameters.\n",
      "  warn('Non-stationary starting autoregressive parameters'\n",
      "/usr/local/lib/python3.8/dist-packages/statsmodels/tsa/statespace/sarimax.py:978: UserWarning: Non-invertible starting MA parameters found. Using zeros as starting parameters.\n",
      "  warn('Non-invertible starting MA parameters found.'\n",
      "/usr/local/lib/python3.8/dist-packages/statsmodels/tsa/statespace/sarimax.py:966: UserWarning: Non-stationary starting autoregressive parameters found. Using zeros as starting parameters.\n",
      "  warn('Non-stationary starting autoregressive parameters'\n",
      "/usr/local/lib/python3.8/dist-packages/statsmodels/tsa/statespace/sarimax.py:978: UserWarning: Non-invertible starting MA parameters found. Using zeros as starting parameters.\n",
      "  warn('Non-invertible starting MA parameters found.'\n",
      "/usr/local/lib/python3.8/dist-packages/statsmodels/tsa/statespace/sarimax.py:966: UserWarning: Non-stationary starting autoregressive parameters found. Using zeros as starting parameters.\n",
      "  warn('Non-stationary starting autoregressive parameters'\n",
      "/usr/local/lib/python3.8/dist-packages/statsmodels/tsa/statespace/sarimax.py:978: UserWarning: Non-invertible starting MA parameters found. Using zeros as starting parameters.\n",
      "  warn('Non-invertible starting MA parameters found.'\n",
      "/usr/local/lib/python3.8/dist-packages/statsmodels/tsa/statespace/sarimax.py:966: UserWarning: Non-stationary starting autoregressive parameters found. Using zeros as starting parameters.\n",
      "  warn('Non-stationary starting autoregressive parameters'\n",
      "/usr/local/lib/python3.8/dist-packages/statsmodels/tsa/statespace/sarimax.py:978: UserWarning: Non-invertible starting MA parameters found. Using zeros as starting parameters.\n",
      "  warn('Non-invertible starting MA parameters found.'\n",
      "/usr/local/lib/python3.8/dist-packages/statsmodels/tsa/statespace/sarimax.py:966: UserWarning: Non-stationary starting autoregressive parameters found. Using zeros as starting parameters.\n",
      "  warn('Non-stationary starting autoregressive parameters'\n",
      "/usr/local/lib/python3.8/dist-packages/statsmodels/tsa/statespace/sarimax.py:978: UserWarning: Non-invertible starting MA parameters found. Using zeros as starting parameters.\n",
      "  warn('Non-invertible starting MA parameters found.'\n",
      "/usr/local/lib/python3.8/dist-packages/statsmodels/tsa/statespace/sarimax.py:966: UserWarning: Non-stationary starting autoregressive parameters found. Using zeros as starting parameters.\n",
      "  warn('Non-stationary starting autoregressive parameters'\n",
      "/usr/local/lib/python3.8/dist-packages/statsmodels/tsa/statespace/sarimax.py:978: UserWarning: Non-invertible starting MA parameters found. Using zeros as starting parameters.\n",
      "  warn('Non-invertible starting MA parameters found.'\n",
      "/usr/local/lib/python3.8/dist-packages/statsmodels/tsa/statespace/sarimax.py:966: UserWarning: Non-stationary starting autoregressive parameters found. Using zeros as starting parameters.\n",
      "  warn('Non-stationary starting autoregressive parameters'\n",
      "/usr/local/lib/python3.8/dist-packages/statsmodels/tsa/statespace/sarimax.py:978: UserWarning: Non-invertible starting MA parameters found. Using zeros as starting parameters.\n",
      "  warn('Non-invertible starting MA parameters found.'\n"
     ]
    },
    {
     "name": "stdout",
     "output_type": "stream",
     "text": [
      "9\n",
      "RMSE for SARIMA(4, 1, 2, 1, 0, 0, 168) is: 0.6162\n"
     ]
    },
    {
     "name": "stderr",
     "output_type": "stream",
     "text": [
      "/usr/local/lib/python3.8/dist-packages/statsmodels/tsa/statespace/sarimax.py:966: UserWarning: Non-stationary starting autoregressive parameters found. Using zeros as starting parameters.\n",
      "  warn('Non-stationary starting autoregressive parameters'\n",
      "/usr/local/lib/python3.8/dist-packages/statsmodels/tsa/statespace/sarimax.py:978: UserWarning: Non-invertible starting MA parameters found. Using zeros as starting parameters.\n",
      "  warn('Non-invertible starting MA parameters found.'\n",
      "/usr/local/lib/python3.8/dist-packages/statsmodels/tsa/statespace/sarimax.py:1009: UserWarning: Non-invertible starting seasonal moving average Using zeros as starting parameters.\n",
      "  warn('Non-invertible starting seasonal moving average'\n",
      "/usr/local/lib/python3.8/dist-packages/statsmodels/tsa/statespace/sarimax.py:966: UserWarning: Non-stationary starting autoregressive parameters found. Using zeros as starting parameters.\n",
      "  warn('Non-stationary starting autoregressive parameters'\n",
      "/usr/local/lib/python3.8/dist-packages/statsmodels/tsa/statespace/sarimax.py:978: UserWarning: Non-invertible starting MA parameters found. Using zeros as starting parameters.\n",
      "  warn('Non-invertible starting MA parameters found.'\n",
      "/usr/local/lib/python3.8/dist-packages/statsmodels/tsa/statespace/sarimax.py:1009: UserWarning: Non-invertible starting seasonal moving average Using zeros as starting parameters.\n",
      "  warn('Non-invertible starting seasonal moving average'\n",
      "/usr/local/lib/python3.8/dist-packages/statsmodels/tsa/statespace/sarimax.py:966: UserWarning: Non-stationary starting autoregressive parameters found. Using zeros as starting parameters.\n",
      "  warn('Non-stationary starting autoregressive parameters'\n",
      "/usr/local/lib/python3.8/dist-packages/statsmodels/tsa/statespace/sarimax.py:978: UserWarning: Non-invertible starting MA parameters found. Using zeros as starting parameters.\n",
      "  warn('Non-invertible starting MA parameters found.'\n",
      "/usr/local/lib/python3.8/dist-packages/statsmodels/tsa/statespace/sarimax.py:1009: UserWarning: Non-invertible starting seasonal moving average Using zeros as starting parameters.\n",
      "  warn('Non-invertible starting seasonal moving average'\n",
      "/usr/local/lib/python3.8/dist-packages/statsmodels/tsa/statespace/sarimax.py:966: UserWarning: Non-stationary starting autoregressive parameters found. Using zeros as starting parameters.\n",
      "  warn('Non-stationary starting autoregressive parameters'\n",
      "/usr/local/lib/python3.8/dist-packages/statsmodels/tsa/statespace/sarimax.py:978: UserWarning: Non-invertible starting MA parameters found. Using zeros as starting parameters.\n",
      "  warn('Non-invertible starting MA parameters found.'\n",
      "/usr/local/lib/python3.8/dist-packages/statsmodels/tsa/statespace/sarimax.py:1009: UserWarning: Non-invertible starting seasonal moving average Using zeros as starting parameters.\n",
      "  warn('Non-invertible starting seasonal moving average'\n",
      "/usr/local/lib/python3.8/dist-packages/statsmodels/tsa/statespace/sarimax.py:966: UserWarning: Non-stationary starting autoregressive parameters found. Using zeros as starting parameters.\n",
      "  warn('Non-stationary starting autoregressive parameters'\n",
      "/usr/local/lib/python3.8/dist-packages/statsmodels/tsa/statespace/sarimax.py:978: UserWarning: Non-invertible starting MA parameters found. Using zeros as starting parameters.\n",
      "  warn('Non-invertible starting MA parameters found.'\n",
      "/usr/local/lib/python3.8/dist-packages/statsmodels/tsa/statespace/sarimax.py:1009: UserWarning: Non-invertible starting seasonal moving average Using zeros as starting parameters.\n",
      "  warn('Non-invertible starting seasonal moving average'\n",
      "/usr/local/lib/python3.8/dist-packages/statsmodels/tsa/statespace/sarimax.py:966: UserWarning: Non-stationary starting autoregressive parameters found. Using zeros as starting parameters.\n",
      "  warn('Non-stationary starting autoregressive parameters'\n",
      "/usr/local/lib/python3.8/dist-packages/statsmodels/tsa/statespace/sarimax.py:978: UserWarning: Non-invertible starting MA parameters found. Using zeros as starting parameters.\n",
      "  warn('Non-invertible starting MA parameters found.'\n",
      "/usr/local/lib/python3.8/dist-packages/statsmodels/tsa/statespace/sarimax.py:1009: UserWarning: Non-invertible starting seasonal moving average Using zeros as starting parameters.\n",
      "  warn('Non-invertible starting seasonal moving average'\n",
      "/usr/local/lib/python3.8/dist-packages/statsmodels/tsa/statespace/sarimax.py:966: UserWarning: Non-stationary starting autoregressive parameters found. Using zeros as starting parameters.\n",
      "  warn('Non-stationary starting autoregressive parameters'\n",
      "/usr/local/lib/python3.8/dist-packages/statsmodels/tsa/statespace/sarimax.py:978: UserWarning: Non-invertible starting MA parameters found. Using zeros as starting parameters.\n",
      "  warn('Non-invertible starting MA parameters found.'\n",
      "/usr/local/lib/python3.8/dist-packages/statsmodels/tsa/statespace/sarimax.py:1009: UserWarning: Non-invertible starting seasonal moving average Using zeros as starting parameters.\n",
      "  warn('Non-invertible starting seasonal moving average'\n",
      "/usr/local/lib/python3.8/dist-packages/statsmodels/tsa/statespace/sarimax.py:966: UserWarning: Non-stationary starting autoregressive parameters found. Using zeros as starting parameters.\n",
      "  warn('Non-stationary starting autoregressive parameters'\n",
      "/usr/local/lib/python3.8/dist-packages/statsmodels/tsa/statespace/sarimax.py:978: UserWarning: Non-invertible starting MA parameters found. Using zeros as starting parameters.\n",
      "  warn('Non-invertible starting MA parameters found.'\n",
      "/usr/local/lib/python3.8/dist-packages/statsmodels/tsa/statespace/sarimax.py:1009: UserWarning: Non-invertible starting seasonal moving average Using zeros as starting parameters.\n",
      "  warn('Non-invertible starting seasonal moving average'\n",
      "/usr/local/lib/python3.8/dist-packages/statsmodels/tsa/statespace/sarimax.py:966: UserWarning: Non-stationary starting autoregressive parameters found. Using zeros as starting parameters.\n",
      "  warn('Non-stationary starting autoregressive parameters'\n",
      "/usr/local/lib/python3.8/dist-packages/statsmodels/tsa/statespace/sarimax.py:978: UserWarning: Non-invertible starting MA parameters found. Using zeros as starting parameters.\n",
      "  warn('Non-invertible starting MA parameters found.'\n",
      "/usr/local/lib/python3.8/dist-packages/statsmodels/tsa/statespace/sarimax.py:1009: UserWarning: Non-invertible starting seasonal moving average Using zeros as starting parameters.\n",
      "  warn('Non-invertible starting seasonal moving average'\n"
     ]
    },
    {
     "name": "stdout",
     "output_type": "stream",
     "text": [
      "9\n",
      "RMSE for SARIMA(4, 1, 2, 0, 0, 1, 168) is: 0.67196\n"
     ]
    }
   ],
   "source": [
    "sarima_params = [(4, 1, 2, 1, 1, 0, 168), (4, 1, 2, 0, 1, 1, 168),\n",
    "                 (4, 1, 2, 1, 0, 0, 168), (4, 1, 2, 0, 0, 1, 168)]\n",
    "\n",
    "sarima_rmses = dict()\n",
    "key = 1\n",
    "\n",
    "for params in sarima_params:\n",
    "    result = sliding_forecast(endog=test[\"Consumed Energy\"],\n",
    "                              trend='n', order=params[0: 3], seasonal_order=params[3: ],\n",
    "                              train_length=28, val_length=3, shift=5)\n",
    "    sarima_rmses[key] = result\n",
    "    print(f\"RMSE for SARIMA{params} is: {round(result, 5)}\")\n",
    "    key += 1"
   ],
   "metadata": {
    "collapsed": false,
    "pycharm": {
     "name": "#%%\n"
    }
   }
  },
  {
   "cell_type": "code",
   "execution_count": 9,
   "outputs": [
    {
     "data": {
      "text/plain": "(4, 1, 2, 0, 0, 1, 168)"
     },
     "execution_count": 9,
     "metadata": {},
     "output_type": "execute_result"
    }
   ],
   "source": [
    "best_rmse = min(sarima_rmses.values())\n",
    "best_param_key = [key for key in sarima_rmses if sarima_rmses[key] == best_rmse]\n",
    "best_params = sarima_params[best_param_key[0]]\n",
    "best_params, best_rmse"
   ],
   "metadata": {
    "collapsed": false,
    "pycharm": {
     "name": "#%%\n"
    }
   }
  },
  {
   "cell_type": "code",
   "execution_count": null,
   "outputs": [],
   "source": [
    "start_train = 0\n",
    "end_train = start_train + 24*28\n",
    "start_test = end_train\n",
    "end_test = start_test + 3*24\n",
    "\n",
    "model = SARIMAX(endog=test[\"Consumed Energy\"][test.index[start_train: end_train]],\n",
    "                trend='n',\n",
    "                order=best_params[: 3],\n",
    "                seasonal_order=best_params[3: ])\\\n",
    "    .fit(low_memory=True, disp=False, full_output=False)\n",
    "\n",
    "predictions = pd.DataFrame(model.predict(start=test.index[start_test],\n",
    "                                         end=test.index[end_test]))"
   ],
   "metadata": {
    "collapsed": false,
    "pycharm": {
     "name": "#%%\n"
    }
   }
  },
  {
   "cell_type": "code",
   "execution_count": 13,
   "outputs": [
    {
     "data": {
      "text/plain": "                     predicted_mean\n2015-12-18 00:00:00        1.156425\n2015-12-18 01:00:00        1.107273\n2015-12-18 02:00:00        1.073590\n2015-12-18 03:00:00        1.010667\n2015-12-18 04:00:00        1.168838\n...                             ...\n2015-12-20 20:00:00        1.554367\n2015-12-20 21:00:00        1.545424\n2015-12-20 22:00:00        1.432596\n2015-12-20 23:00:00        1.263725\n2015-12-21 00:00:00        1.143574\n\n[73 rows x 1 columns]",
      "text/html": "<div>\n<style scoped>\n    .dataframe tbody tr th:only-of-type {\n        vertical-align: middle;\n    }\n\n    .dataframe tbody tr th {\n        vertical-align: top;\n    }\n\n    .dataframe thead th {\n        text-align: right;\n    }\n</style>\n<table border=\"1\" class=\"dataframe\">\n  <thead>\n    <tr style=\"text-align: right;\">\n      <th></th>\n      <th>predicted_mean</th>\n    </tr>\n  </thead>\n  <tbody>\n    <tr>\n      <th>2015-12-18 00:00:00</th>\n      <td>1.156425</td>\n    </tr>\n    <tr>\n      <th>2015-12-18 01:00:00</th>\n      <td>1.107273</td>\n    </tr>\n    <tr>\n      <th>2015-12-18 02:00:00</th>\n      <td>1.073590</td>\n    </tr>\n    <tr>\n      <th>2015-12-18 03:00:00</th>\n      <td>1.010667</td>\n    </tr>\n    <tr>\n      <th>2015-12-18 04:00:00</th>\n      <td>1.168838</td>\n    </tr>\n    <tr>\n      <th>...</th>\n      <td>...</td>\n    </tr>\n    <tr>\n      <th>2015-12-20 20:00:00</th>\n      <td>1.554367</td>\n    </tr>\n    <tr>\n      <th>2015-12-20 21:00:00</th>\n      <td>1.545424</td>\n    </tr>\n    <tr>\n      <th>2015-12-20 22:00:00</th>\n      <td>1.432596</td>\n    </tr>\n    <tr>\n      <th>2015-12-20 23:00:00</th>\n      <td>1.263725</td>\n    </tr>\n    <tr>\n      <th>2015-12-21 00:00:00</th>\n      <td>1.143574</td>\n    </tr>\n  </tbody>\n</table>\n<p>73 rows × 1 columns</p>\n</div>"
     },
     "execution_count": 13,
     "metadata": {},
     "output_type": "execute_result"
    }
   ],
   "source": [
    "predictions#.index"
   ],
   "metadata": {
    "collapsed": false,
    "pycharm": {
     "name": "#%%\n"
    }
   }
  },
  {
   "cell_type": "code",
   "execution_count": 15,
   "outputs": [
    {
     "data": {
      "application/vnd.plotly.v1+json": {
       "data": [
        {
         "line": {
          "color": "rgb(84, 84, 84)"
         },
         "name": "Training Data",
         "x": [
          "2015-11-20T00:00:00",
          "2015-11-20T01:00:00",
          "2015-11-20T02:00:00",
          "2015-11-20T03:00:00",
          "2015-11-20T04:00:00",
          "2015-11-20T05:00:00",
          "2015-11-20T06:00:00",
          "2015-11-20T07:00:00",
          "2015-11-20T08:00:00",
          "2015-11-20T09:00:00",
          "2015-11-20T10:00:00",
          "2015-11-20T11:00:00",
          "2015-11-20T12:00:00",
          "2015-11-20T13:00:00",
          "2015-11-20T14:00:00",
          "2015-11-20T15:00:00",
          "2015-11-20T16:00:00",
          "2015-11-20T17:00:00",
          "2015-11-20T18:00:00",
          "2015-11-20T19:00:00",
          "2015-11-20T20:00:00",
          "2015-11-20T21:00:00",
          "2015-11-20T22:00:00",
          "2015-11-20T23:00:00",
          "2015-11-21T00:00:00",
          "2015-11-21T01:00:00",
          "2015-11-21T02:00:00",
          "2015-11-21T03:00:00",
          "2015-11-21T04:00:00",
          "2015-11-21T05:00:00",
          "2015-11-21T06:00:00",
          "2015-11-21T07:00:00",
          "2015-11-21T08:00:00",
          "2015-11-21T09:00:00",
          "2015-11-21T10:00:00",
          "2015-11-21T11:00:00",
          "2015-11-21T12:00:00",
          "2015-11-21T13:00:00",
          "2015-11-21T14:00:00",
          "2015-11-21T15:00:00",
          "2015-11-21T16:00:00",
          "2015-11-21T17:00:00",
          "2015-11-21T18:00:00",
          "2015-11-21T19:00:00",
          "2015-11-21T20:00:00",
          "2015-11-21T21:00:00",
          "2015-11-21T22:00:00",
          "2015-11-21T23:00:00",
          "2015-11-22T00:00:00",
          "2015-11-22T01:00:00",
          "2015-11-22T02:00:00",
          "2015-11-22T03:00:00",
          "2015-11-22T04:00:00",
          "2015-11-22T05:00:00",
          "2015-11-22T06:00:00",
          "2015-11-22T07:00:00",
          "2015-11-22T08:00:00",
          "2015-11-22T09:00:00",
          "2015-11-22T10:00:00",
          "2015-11-22T11:00:00",
          "2015-11-22T12:00:00",
          "2015-11-22T13:00:00",
          "2015-11-22T14:00:00",
          "2015-11-22T15:00:00",
          "2015-11-22T16:00:00",
          "2015-11-22T17:00:00",
          "2015-11-22T18:00:00",
          "2015-11-22T19:00:00",
          "2015-11-22T20:00:00",
          "2015-11-22T21:00:00",
          "2015-11-22T22:00:00",
          "2015-11-22T23:00:00",
          "2015-11-23T00:00:00",
          "2015-11-23T01:00:00",
          "2015-11-23T02:00:00",
          "2015-11-23T03:00:00",
          "2015-11-23T04:00:00",
          "2015-11-23T05:00:00",
          "2015-11-23T06:00:00",
          "2015-11-23T07:00:00",
          "2015-11-23T08:00:00",
          "2015-11-23T09:00:00",
          "2015-11-23T10:00:00",
          "2015-11-23T11:00:00",
          "2015-11-23T12:00:00",
          "2015-11-23T13:00:00",
          "2015-11-23T14:00:00",
          "2015-11-23T15:00:00",
          "2015-11-23T16:00:00",
          "2015-11-23T17:00:00",
          "2015-11-23T18:00:00",
          "2015-11-23T19:00:00",
          "2015-11-23T20:00:00",
          "2015-11-23T21:00:00",
          "2015-11-23T22:00:00",
          "2015-11-23T23:00:00",
          "2015-11-24T00:00:00",
          "2015-11-24T01:00:00",
          "2015-11-24T02:00:00",
          "2015-11-24T03:00:00",
          "2015-11-24T04:00:00",
          "2015-11-24T05:00:00",
          "2015-11-24T06:00:00",
          "2015-11-24T07:00:00",
          "2015-11-24T08:00:00",
          "2015-11-24T09:00:00",
          "2015-11-24T10:00:00",
          "2015-11-24T11:00:00",
          "2015-11-24T12:00:00",
          "2015-11-24T13:00:00",
          "2015-11-24T14:00:00",
          "2015-11-24T15:00:00",
          "2015-11-24T16:00:00",
          "2015-11-24T17:00:00",
          "2015-11-24T18:00:00",
          "2015-11-24T19:00:00",
          "2015-11-24T20:00:00",
          "2015-11-24T21:00:00",
          "2015-11-24T22:00:00",
          "2015-11-24T23:00:00",
          "2015-11-25T00:00:00",
          "2015-11-25T01:00:00",
          "2015-11-25T02:00:00",
          "2015-11-25T03:00:00",
          "2015-11-25T04:00:00",
          "2015-11-25T05:00:00",
          "2015-11-25T06:00:00",
          "2015-11-25T07:00:00",
          "2015-11-25T08:00:00",
          "2015-11-25T09:00:00",
          "2015-11-25T10:00:00",
          "2015-11-25T11:00:00",
          "2015-11-25T12:00:00",
          "2015-11-25T13:00:00",
          "2015-11-25T14:00:00",
          "2015-11-25T15:00:00",
          "2015-11-25T16:00:00",
          "2015-11-25T17:00:00",
          "2015-11-25T18:00:00",
          "2015-11-25T19:00:00",
          "2015-11-25T20:00:00",
          "2015-11-25T21:00:00",
          "2015-11-25T22:00:00",
          "2015-11-25T23:00:00",
          "2015-11-26T00:00:00",
          "2015-11-26T01:00:00",
          "2015-11-26T02:00:00",
          "2015-11-26T03:00:00",
          "2015-11-26T04:00:00",
          "2015-11-26T05:00:00",
          "2015-11-26T06:00:00",
          "2015-11-26T07:00:00",
          "2015-11-26T08:00:00",
          "2015-11-26T09:00:00",
          "2015-11-26T10:00:00",
          "2015-11-26T11:00:00",
          "2015-11-26T12:00:00",
          "2015-11-26T13:00:00",
          "2015-11-26T14:00:00",
          "2015-11-26T15:00:00",
          "2015-11-26T16:00:00",
          "2015-11-26T17:00:00",
          "2015-11-26T18:00:00",
          "2015-11-26T19:00:00",
          "2015-11-26T20:00:00",
          "2015-11-26T21:00:00",
          "2015-11-26T22:00:00",
          "2015-11-26T23:00:00",
          "2015-11-27T00:00:00",
          "2015-11-27T01:00:00",
          "2015-11-27T02:00:00",
          "2015-11-27T03:00:00",
          "2015-11-27T04:00:00",
          "2015-11-27T05:00:00",
          "2015-11-27T06:00:00",
          "2015-11-27T07:00:00",
          "2015-11-27T08:00:00",
          "2015-11-27T09:00:00",
          "2015-11-27T10:00:00",
          "2015-11-27T11:00:00",
          "2015-11-27T12:00:00",
          "2015-11-27T13:00:00",
          "2015-11-27T14:00:00",
          "2015-11-27T15:00:00",
          "2015-11-27T16:00:00",
          "2015-11-27T17:00:00",
          "2015-11-27T18:00:00",
          "2015-11-27T19:00:00",
          "2015-11-27T20:00:00",
          "2015-11-27T21:00:00",
          "2015-11-27T22:00:00",
          "2015-11-27T23:00:00",
          "2015-11-28T00:00:00",
          "2015-11-28T01:00:00",
          "2015-11-28T02:00:00",
          "2015-11-28T03:00:00",
          "2015-11-28T04:00:00",
          "2015-11-28T05:00:00",
          "2015-11-28T06:00:00",
          "2015-11-28T07:00:00",
          "2015-11-28T08:00:00",
          "2015-11-28T09:00:00",
          "2015-11-28T10:00:00",
          "2015-11-28T11:00:00",
          "2015-11-28T12:00:00",
          "2015-11-28T13:00:00",
          "2015-11-28T14:00:00",
          "2015-11-28T15:00:00",
          "2015-11-28T16:00:00",
          "2015-11-28T17:00:00",
          "2015-11-28T18:00:00",
          "2015-11-28T19:00:00",
          "2015-11-28T20:00:00",
          "2015-11-28T21:00:00",
          "2015-11-28T22:00:00",
          "2015-11-28T23:00:00",
          "2015-11-29T00:00:00",
          "2015-11-29T01:00:00",
          "2015-11-29T02:00:00",
          "2015-11-29T03:00:00",
          "2015-11-29T04:00:00",
          "2015-11-29T05:00:00",
          "2015-11-29T06:00:00",
          "2015-11-29T07:00:00",
          "2015-11-29T08:00:00",
          "2015-11-29T09:00:00",
          "2015-11-29T10:00:00",
          "2015-11-29T11:00:00",
          "2015-11-29T12:00:00",
          "2015-11-29T13:00:00",
          "2015-11-29T14:00:00",
          "2015-11-29T15:00:00",
          "2015-11-29T16:00:00",
          "2015-11-29T17:00:00",
          "2015-11-29T18:00:00",
          "2015-11-29T19:00:00",
          "2015-11-29T20:00:00",
          "2015-11-29T21:00:00",
          "2015-11-29T22:00:00",
          "2015-11-29T23:00:00",
          "2015-11-30T00:00:00",
          "2015-11-30T01:00:00",
          "2015-11-30T02:00:00",
          "2015-11-30T03:00:00",
          "2015-11-30T04:00:00",
          "2015-11-30T05:00:00",
          "2015-11-30T06:00:00",
          "2015-11-30T07:00:00",
          "2015-11-30T08:00:00",
          "2015-11-30T09:00:00",
          "2015-11-30T10:00:00",
          "2015-11-30T11:00:00",
          "2015-11-30T12:00:00",
          "2015-11-30T13:00:00",
          "2015-11-30T14:00:00",
          "2015-11-30T15:00:00",
          "2015-11-30T16:00:00",
          "2015-11-30T17:00:00",
          "2015-11-30T18:00:00",
          "2015-11-30T19:00:00",
          "2015-11-30T20:00:00",
          "2015-11-30T21:00:00",
          "2015-11-30T22:00:00",
          "2015-11-30T23:00:00",
          "2015-12-01T00:00:00",
          "2015-12-01T01:00:00",
          "2015-12-01T02:00:00",
          "2015-12-01T03:00:00",
          "2015-12-01T04:00:00",
          "2015-12-01T05:00:00",
          "2015-12-01T06:00:00",
          "2015-12-01T07:00:00",
          "2015-12-01T08:00:00",
          "2015-12-01T09:00:00",
          "2015-12-01T10:00:00",
          "2015-12-01T11:00:00",
          "2015-12-01T12:00:00",
          "2015-12-01T13:00:00",
          "2015-12-01T14:00:00",
          "2015-12-01T15:00:00",
          "2015-12-01T16:00:00",
          "2015-12-01T17:00:00",
          "2015-12-01T18:00:00",
          "2015-12-01T19:00:00",
          "2015-12-01T20:00:00",
          "2015-12-01T21:00:00",
          "2015-12-01T22:00:00",
          "2015-12-01T23:00:00",
          "2015-12-02T00:00:00",
          "2015-12-02T01:00:00",
          "2015-12-02T02:00:00",
          "2015-12-02T03:00:00",
          "2015-12-02T04:00:00",
          "2015-12-02T05:00:00",
          "2015-12-02T06:00:00",
          "2015-12-02T07:00:00",
          "2015-12-02T08:00:00",
          "2015-12-02T09:00:00",
          "2015-12-02T10:00:00",
          "2015-12-02T11:00:00",
          "2015-12-02T12:00:00",
          "2015-12-02T13:00:00",
          "2015-12-02T14:00:00",
          "2015-12-02T15:00:00",
          "2015-12-02T16:00:00",
          "2015-12-02T17:00:00",
          "2015-12-02T18:00:00",
          "2015-12-02T19:00:00",
          "2015-12-02T20:00:00",
          "2015-12-02T21:00:00",
          "2015-12-02T22:00:00",
          "2015-12-02T23:00:00",
          "2015-12-03T00:00:00",
          "2015-12-03T01:00:00",
          "2015-12-03T02:00:00",
          "2015-12-03T03:00:00",
          "2015-12-03T04:00:00",
          "2015-12-03T05:00:00",
          "2015-12-03T06:00:00",
          "2015-12-03T07:00:00",
          "2015-12-03T08:00:00",
          "2015-12-03T09:00:00",
          "2015-12-03T10:00:00",
          "2015-12-03T11:00:00",
          "2015-12-03T12:00:00",
          "2015-12-03T13:00:00",
          "2015-12-03T14:00:00",
          "2015-12-03T15:00:00",
          "2015-12-03T16:00:00",
          "2015-12-03T17:00:00",
          "2015-12-03T18:00:00",
          "2015-12-03T19:00:00",
          "2015-12-03T20:00:00",
          "2015-12-03T21:00:00",
          "2015-12-03T22:00:00",
          "2015-12-03T23:00:00",
          "2015-12-04T00:00:00",
          "2015-12-04T01:00:00",
          "2015-12-04T02:00:00",
          "2015-12-04T03:00:00",
          "2015-12-04T04:00:00",
          "2015-12-04T05:00:00",
          "2015-12-04T06:00:00",
          "2015-12-04T07:00:00",
          "2015-12-04T08:00:00",
          "2015-12-04T09:00:00",
          "2015-12-04T10:00:00",
          "2015-12-04T11:00:00",
          "2015-12-04T12:00:00",
          "2015-12-04T13:00:00",
          "2015-12-04T14:00:00",
          "2015-12-04T15:00:00",
          "2015-12-04T16:00:00",
          "2015-12-04T17:00:00",
          "2015-12-04T18:00:00",
          "2015-12-04T19:00:00",
          "2015-12-04T20:00:00",
          "2015-12-04T21:00:00",
          "2015-12-04T22:00:00",
          "2015-12-04T23:00:00",
          "2015-12-05T00:00:00",
          "2015-12-05T01:00:00",
          "2015-12-05T02:00:00",
          "2015-12-05T03:00:00",
          "2015-12-05T04:00:00",
          "2015-12-05T05:00:00",
          "2015-12-05T06:00:00",
          "2015-12-05T07:00:00",
          "2015-12-05T08:00:00",
          "2015-12-05T09:00:00",
          "2015-12-05T10:00:00",
          "2015-12-05T11:00:00",
          "2015-12-05T12:00:00",
          "2015-12-05T13:00:00",
          "2015-12-05T14:00:00",
          "2015-12-05T15:00:00",
          "2015-12-05T16:00:00",
          "2015-12-05T17:00:00",
          "2015-12-05T18:00:00",
          "2015-12-05T19:00:00",
          "2015-12-05T20:00:00",
          "2015-12-05T21:00:00",
          "2015-12-05T22:00:00",
          "2015-12-05T23:00:00",
          "2015-12-06T00:00:00",
          "2015-12-06T01:00:00",
          "2015-12-06T02:00:00",
          "2015-12-06T03:00:00",
          "2015-12-06T04:00:00",
          "2015-12-06T05:00:00",
          "2015-12-06T06:00:00",
          "2015-12-06T07:00:00",
          "2015-12-06T08:00:00",
          "2015-12-06T09:00:00",
          "2015-12-06T10:00:00",
          "2015-12-06T11:00:00",
          "2015-12-06T12:00:00",
          "2015-12-06T13:00:00",
          "2015-12-06T14:00:00",
          "2015-12-06T15:00:00",
          "2015-12-06T16:00:00",
          "2015-12-06T17:00:00",
          "2015-12-06T18:00:00",
          "2015-12-06T19:00:00",
          "2015-12-06T20:00:00",
          "2015-12-06T21:00:00",
          "2015-12-06T22:00:00",
          "2015-12-06T23:00:00",
          "2015-12-07T00:00:00",
          "2015-12-07T01:00:00",
          "2015-12-07T02:00:00",
          "2015-12-07T03:00:00",
          "2015-12-07T04:00:00",
          "2015-12-07T05:00:00",
          "2015-12-07T06:00:00",
          "2015-12-07T07:00:00",
          "2015-12-07T08:00:00",
          "2015-12-07T09:00:00",
          "2015-12-07T10:00:00",
          "2015-12-07T11:00:00",
          "2015-12-07T12:00:00",
          "2015-12-07T13:00:00",
          "2015-12-07T14:00:00",
          "2015-12-07T15:00:00",
          "2015-12-07T16:00:00",
          "2015-12-07T17:00:00",
          "2015-12-07T18:00:00",
          "2015-12-07T19:00:00",
          "2015-12-07T20:00:00",
          "2015-12-07T21:00:00",
          "2015-12-07T22:00:00",
          "2015-12-07T23:00:00",
          "2015-12-08T00:00:00",
          "2015-12-08T01:00:00",
          "2015-12-08T02:00:00",
          "2015-12-08T03:00:00",
          "2015-12-08T04:00:00",
          "2015-12-08T05:00:00",
          "2015-12-08T06:00:00",
          "2015-12-08T07:00:00",
          "2015-12-08T08:00:00",
          "2015-12-08T09:00:00",
          "2015-12-08T10:00:00",
          "2015-12-08T11:00:00",
          "2015-12-08T12:00:00",
          "2015-12-08T13:00:00",
          "2015-12-08T14:00:00",
          "2015-12-08T15:00:00",
          "2015-12-08T16:00:00",
          "2015-12-08T17:00:00",
          "2015-12-08T18:00:00",
          "2015-12-08T19:00:00",
          "2015-12-08T20:00:00",
          "2015-12-08T21:00:00",
          "2015-12-08T22:00:00",
          "2015-12-08T23:00:00",
          "2015-12-09T00:00:00",
          "2015-12-09T01:00:00",
          "2015-12-09T02:00:00",
          "2015-12-09T03:00:00",
          "2015-12-09T04:00:00",
          "2015-12-09T05:00:00",
          "2015-12-09T06:00:00",
          "2015-12-09T07:00:00",
          "2015-12-09T08:00:00",
          "2015-12-09T09:00:00",
          "2015-12-09T10:00:00",
          "2015-12-09T11:00:00",
          "2015-12-09T12:00:00",
          "2015-12-09T13:00:00",
          "2015-12-09T14:00:00",
          "2015-12-09T15:00:00",
          "2015-12-09T16:00:00",
          "2015-12-09T17:00:00",
          "2015-12-09T18:00:00",
          "2015-12-09T19:00:00",
          "2015-12-09T20:00:00",
          "2015-12-09T21:00:00",
          "2015-12-09T22:00:00",
          "2015-12-09T23:00:00",
          "2015-12-10T00:00:00",
          "2015-12-10T01:00:00",
          "2015-12-10T02:00:00",
          "2015-12-10T03:00:00",
          "2015-12-10T04:00:00",
          "2015-12-10T05:00:00",
          "2015-12-10T06:00:00",
          "2015-12-10T07:00:00",
          "2015-12-10T08:00:00",
          "2015-12-10T09:00:00",
          "2015-12-10T10:00:00",
          "2015-12-10T11:00:00",
          "2015-12-10T12:00:00",
          "2015-12-10T13:00:00",
          "2015-12-10T14:00:00",
          "2015-12-10T15:00:00",
          "2015-12-10T16:00:00",
          "2015-12-10T17:00:00",
          "2015-12-10T18:00:00",
          "2015-12-10T19:00:00",
          "2015-12-10T20:00:00",
          "2015-12-10T21:00:00",
          "2015-12-10T22:00:00",
          "2015-12-10T23:00:00",
          "2015-12-11T00:00:00",
          "2015-12-11T01:00:00",
          "2015-12-11T02:00:00",
          "2015-12-11T03:00:00",
          "2015-12-11T04:00:00",
          "2015-12-11T05:00:00",
          "2015-12-11T06:00:00",
          "2015-12-11T07:00:00",
          "2015-12-11T08:00:00",
          "2015-12-11T09:00:00",
          "2015-12-11T10:00:00",
          "2015-12-11T11:00:00",
          "2015-12-11T12:00:00",
          "2015-12-11T13:00:00",
          "2015-12-11T14:00:00",
          "2015-12-11T15:00:00",
          "2015-12-11T16:00:00",
          "2015-12-11T17:00:00",
          "2015-12-11T18:00:00",
          "2015-12-11T19:00:00",
          "2015-12-11T20:00:00",
          "2015-12-11T21:00:00",
          "2015-12-11T22:00:00",
          "2015-12-11T23:00:00",
          "2015-12-12T00:00:00",
          "2015-12-12T01:00:00",
          "2015-12-12T02:00:00",
          "2015-12-12T03:00:00",
          "2015-12-12T04:00:00",
          "2015-12-12T05:00:00",
          "2015-12-12T06:00:00",
          "2015-12-12T07:00:00",
          "2015-12-12T08:00:00",
          "2015-12-12T09:00:00",
          "2015-12-12T10:00:00",
          "2015-12-12T11:00:00",
          "2015-12-12T12:00:00",
          "2015-12-12T13:00:00",
          "2015-12-12T14:00:00",
          "2015-12-12T15:00:00",
          "2015-12-12T16:00:00",
          "2015-12-12T17:00:00",
          "2015-12-12T18:00:00",
          "2015-12-12T19:00:00",
          "2015-12-12T20:00:00",
          "2015-12-12T21:00:00",
          "2015-12-12T22:00:00",
          "2015-12-12T23:00:00",
          "2015-12-13T00:00:00",
          "2015-12-13T01:00:00",
          "2015-12-13T02:00:00",
          "2015-12-13T03:00:00",
          "2015-12-13T04:00:00",
          "2015-12-13T05:00:00",
          "2015-12-13T06:00:00",
          "2015-12-13T07:00:00",
          "2015-12-13T08:00:00",
          "2015-12-13T09:00:00",
          "2015-12-13T10:00:00",
          "2015-12-13T11:00:00",
          "2015-12-13T12:00:00",
          "2015-12-13T13:00:00",
          "2015-12-13T14:00:00",
          "2015-12-13T15:00:00",
          "2015-12-13T16:00:00",
          "2015-12-13T17:00:00",
          "2015-12-13T18:00:00",
          "2015-12-13T19:00:00",
          "2015-12-13T20:00:00",
          "2015-12-13T21:00:00",
          "2015-12-13T22:00:00",
          "2015-12-13T23:00:00",
          "2015-12-14T00:00:00",
          "2015-12-14T01:00:00",
          "2015-12-14T02:00:00",
          "2015-12-14T03:00:00",
          "2015-12-14T04:00:00",
          "2015-12-14T05:00:00",
          "2015-12-14T06:00:00",
          "2015-12-14T07:00:00",
          "2015-12-14T08:00:00",
          "2015-12-14T09:00:00",
          "2015-12-14T10:00:00",
          "2015-12-14T11:00:00",
          "2015-12-14T12:00:00",
          "2015-12-14T13:00:00",
          "2015-12-14T14:00:00",
          "2015-12-14T15:00:00",
          "2015-12-14T16:00:00",
          "2015-12-14T17:00:00",
          "2015-12-14T18:00:00",
          "2015-12-14T19:00:00",
          "2015-12-14T20:00:00",
          "2015-12-14T21:00:00",
          "2015-12-14T22:00:00",
          "2015-12-14T23:00:00",
          "2015-12-15T00:00:00",
          "2015-12-15T01:00:00",
          "2015-12-15T02:00:00",
          "2015-12-15T03:00:00",
          "2015-12-15T04:00:00",
          "2015-12-15T05:00:00",
          "2015-12-15T06:00:00",
          "2015-12-15T07:00:00",
          "2015-12-15T08:00:00",
          "2015-12-15T09:00:00",
          "2015-12-15T10:00:00",
          "2015-12-15T11:00:00",
          "2015-12-15T12:00:00",
          "2015-12-15T13:00:00",
          "2015-12-15T14:00:00",
          "2015-12-15T15:00:00",
          "2015-12-15T16:00:00",
          "2015-12-15T17:00:00",
          "2015-12-15T18:00:00",
          "2015-12-15T19:00:00",
          "2015-12-15T20:00:00",
          "2015-12-15T21:00:00",
          "2015-12-15T22:00:00",
          "2015-12-15T23:00:00",
          "2015-12-16T00:00:00",
          "2015-12-16T01:00:00",
          "2015-12-16T02:00:00",
          "2015-12-16T03:00:00",
          "2015-12-16T04:00:00",
          "2015-12-16T05:00:00",
          "2015-12-16T06:00:00",
          "2015-12-16T07:00:00",
          "2015-12-16T08:00:00",
          "2015-12-16T09:00:00",
          "2015-12-16T10:00:00",
          "2015-12-16T11:00:00",
          "2015-12-16T12:00:00",
          "2015-12-16T13:00:00",
          "2015-12-16T14:00:00",
          "2015-12-16T15:00:00",
          "2015-12-16T16:00:00",
          "2015-12-16T17:00:00",
          "2015-12-16T18:00:00",
          "2015-12-16T19:00:00",
          "2015-12-16T20:00:00",
          "2015-12-16T21:00:00",
          "2015-12-16T22:00:00",
          "2015-12-16T23:00:00",
          "2015-12-17T00:00:00",
          "2015-12-17T01:00:00",
          "2015-12-17T02:00:00",
          "2015-12-17T03:00:00",
          "2015-12-17T04:00:00",
          "2015-12-17T05:00:00",
          "2015-12-17T06:00:00",
          "2015-12-17T07:00:00",
          "2015-12-17T08:00:00",
          "2015-12-17T09:00:00",
          "2015-12-17T10:00:00",
          "2015-12-17T11:00:00",
          "2015-12-17T12:00:00",
          "2015-12-17T13:00:00",
          "2015-12-17T14:00:00",
          "2015-12-17T15:00:00",
          "2015-12-17T16:00:00",
          "2015-12-17T17:00:00",
          "2015-12-17T18:00:00",
          "2015-12-17T19:00:00",
          "2015-12-17T20:00:00",
          "2015-12-17T21:00:00",
          "2015-12-17T22:00:00",
          "2015-12-17T23:00:00"
         ],
         "y": [
          0.9498692977979999,
          0.9277888828090001,
          0.94674825506,
          0.63409285059,
          0.42023027615799996,
          0.718794492195,
          1.871007797067,
          1.2273514921709998,
          0.906527938618,
          0.5651195942739999,
          0.572043842448,
          0.5638832696459999,
          0.5717122113559999,
          0.559093201059,
          0.573889458368,
          0.479531989282,
          0.718637264242,
          0.5034476775410001,
          1.267569102931,
          0.7544080495209999,
          0.7521499445840001,
          1.0167203323640002,
          0.622134746959,
          0.7557137011860001,
          0.416238753648,
          0.7435655633770001,
          1.0946756588850002,
          1.127436823416,
          1.1371340711440001,
          1.122720719024,
          1.1514937815670003,
          1.1619213528989998,
          2.476886250511,
          2.296568643853,
          1.830192574062,
          0.693862653815,
          1.052751619635,
          1.418004934691,
          0.9163431359700001,
          0.743956287268,
          0.5311277850450001,
          0.7859068239170001,
          1.863878566809,
          1.8885453728659998,
          1.584263332533,
          0.9028835703970001,
          0.944757207744,
          0.5426657933990001,
          0.403965301711,
          0.41606720976899997,
          0.408503038886,
          0.41751356443199994,
          0.40695163417399993,
          0.702144277165,
          1.2371735731490001,
          0.9609378954429999,
          1.848829149013,
          2.414559963078,
          1.548029307899,
          0.7037037436300001,
          0.9380891205659999,
          0.6274441500029999,
          1.487736730285,
          0.579710772759,
          0.790126394972,
          1.203591769184,
          2.1059200404319998,
          1.275226502469,
          0.821919532238,
          1.5878371901460002,
          1.2671585417459998,
          1.4163363220140002,
          1.6938798186899997,
          1.5254844862749997,
          1.3612786775420003,
          1.5707030391809997,
          1.4234894970639997,
          1.7428141913,
          2.875564722161,
          2.3559472348690003,
          1.3920907957050002,
          0.6193205988770001,
          0.582945343378,
          0.666667367513,
          0.661135750839,
          0.6642929640890001,
          1.0464998445409999,
          0.5765207572269999,
          1.2913738692190002,
          1.8216196842669998,
          2.2221741444929997,
          1.220978268212,
          1.448318006679,
          1.826687609054,
          1.686750011059,
          1.7132011926440003,
          1.459305003688,
          1.393879924729,
          1.378492856334,
          1.4198036572189998,
          1.403177722539,
          1.4050652510739998,
          2.6502639828560004,
          1.3472311368830001,
          1.169661102592,
          0.896093342108,
          0.853010993496,
          0.855246286123,
          0.85364192675,
          1.157398287728,
          0.897900803479,
          1.2273823165139999,
          1.186160920916,
          1.1753701508049998,
          1.7154693561999999,
          1.7966457857180003,
          1.466529984713,
          1.8098145762509998,
          1.660698560161,
          1.207872010173,
          1.3183312587959999,
          1.680215627723,
          1.7312977674880001,
          1.652117244842,
          1.612303834832,
          1.634872557185,
          2.9689954888090004,
          1.599893327546,
          1.2531168881030001,
          1.6271055299140003,
          1.3529826602360002,
          1.3537280788200001,
          1.3259627356719998,
          1.3477669381969999,
          1.386131301652,
          1.259486455025,
          1.200079233273,
          1.1751744180930002,
          2.02771466978,
          1.554612252577,
          1.7718813295259996,
          1.8254412490629996,
          1.336999306329,
          1.190385531267,
          1.128756305898,
          1.1342001813290001,
          1.4725256943980003,
          1.138044872203,
          1.1362439270100002,
          1.14442800594,
          2.6672422043400004,
          1.89321409298,
          1.22829645278,
          1.311277889883,
          1.2888982092019998,
          1.299164284036,
          1.637894255441,
          1.280877683593,
          1.3179027677680004,
          1.201978127184,
          1.135216552204,
          1.171238426685,
          1.772415555484,
          1.6227266226640003,
          1.4283137198730003,
          1.7788230320129998,
          1.5948011552979997,
          1.143076109206,
          1.1177775106170003,
          1.118660583155,
          1.1356219696379999,
          1.1137438792,
          1.132810412918,
          1.1076912007119997,
          2.6275975590950007,
          1.7382582955369998,
          1.192411045468,
          1.2152140382540002,
          1.309266381939,
          1.268403086377,
          1.2821148952519998,
          1.272398177147,
          1.2024625028689997,
          1.5661101499219998,
          1.118353477871,
          1.12748054692,
          2.008957102806,
          1.478071204028,
          1.4455324986289997,
          1.743977770075,
          1.3140229386380002,
          1.492445259087,
          1.0959923972869998,
          1.134717306002,
          1.115602700044,
          1.126129043016,
          1.120294327864,
          1.120538581914,
          1.1207610274659998,
          1.115014817884,
          2.753090679956,
          2.856249651971,
          2.428693450512,
          1.3826037846280002,
          1.6654707378640001,
          2.2590623911630003,
          1.869111494384,
          1.272940449916,
          1.2464210834479998,
          1.468188010234,
          2.279229907668,
          2.6946507108309996,
          2.3115589100480003,
          1.8476256872019998,
          1.890779526425,
          1.38091952085,
          1.373295628416,
          1.131459260995,
          1.117311379138,
          1.127764061285,
          1.125138157398,
          1.1208616508520002,
          1.1280074029299998,
          1.116975802,
          2.639949355712,
          3.09304043995,
          2.390264294488,
          1.2293593512440002,
          1.530979433528,
          1.4976141605740003,
          2.2303065781990004,
          1.407818209151,
          1.2843717302570001,
          1.258690057976,
          2.119232963646,
          1.979968516742,
          1.391752873838,
          1.8002103627000001,
          1.4063880202060002,
          1.4780991840109998,
          1.1500002742120001,
          1.164990358555,
          1.1708707906500002,
          1.1540358345939998,
          1.175126133959,
          1.191538269393,
          2.7814928856520003,
          2.5751302377549994,
          1.9751403985020004,
          1.1608305900779998,
          1.163907036426,
          1.1650718865049998,
          1.157244970655,
          1.171813629138,
          1.1501375047000002,
          1.191498596563,
          1.468566409268,
          1.6146678927299998,
          2.2751428919049994,
          2.135181026321,
          1.531649197634,
          1.76187593898,
          1.628556159158,
          1.128062514403,
          1.100972367025,
          1.406360846695,
          1.48959723609,
          1.276073938274,
          1.8806290698750001,
          1.3088987967560002,
          2.6174906024010003,
          2.0030623275359996,
          1.94053547254,
          1.273919665217,
          1.4740097708829998,
          1.6575901232449999,
          1.284233659316,
          1.1091282530200002,
          1.435606781023,
          1.181490035623,
          1.724754047652,
          1.544928533827,
          1.5383517591450002,
          1.802503387606,
          1.490597302228,
          1.8105260305039999,
          1.968324422002,
          1.3331312711880001,
          1.113807909672,
          1.1485354390259999,
          1.4493451773359998,
          1.144656975858,
          1.1206720086870001,
          1.579268416762,
          2.767952262734,
          2.022733621658,
          1.3262363779640003,
          1.10811244798,
          1.1431509835059999,
          1.384193849114,
          1.1158273521889999,
          1.110796949995,
          1.115762090258,
          1.265253204139,
          1.106745324129,
          1.1110337118609999,
          1.9350009335740002,
          2.1278818033969995,
          2.7619284403149997,
          2.4220036431549996,
          1.9504277368160001,
          1.5318246004190004,
          1.0826187664420002,
          1.120647502581,
          1.165784455585,
          1.1328787709200001,
          1.1015214898500003,
          1.2670380366729999,
          2.723785168776,
          2.351884526053,
          1.914164574451,
          1.5555017944490002,
          1.2663685891510001,
          1.2935305007920002,
          1.280645815887,
          1.297679111121,
          1.264401242277,
          1.1339479386750002,
          1.4444565231410003,
          1.160329039064,
          1.5301264918370001,
          1.5605004498909998,
          1.6513330847069998,
          1.626576198611,
          1.732750018465,
          1.161250384241,
          1.096506040112,
          1.161985794168,
          1.567273621123,
          1.6568261188509998,
          1.4868509896339999,
          1.4635973997990002,
          2.677894739038,
          1.999754374862,
          1.241192636352,
          1.3581138154730001,
          1.6060713871739998,
          1.294751894068,
          1.28196119272,
          1.3157284736370005,
          1.703924604341,
          1.2067309499580001,
          1.149090924386,
          1.165605452159,
          1.958414958788,
          1.6313691235139998,
          1.472319271365,
          1.8115001412439997,
          1.352283416818,
          1.5668771143949998,
          1.1402802959760001,
          1.307052435521,
          1.8045247537789997,
          2.1104050670679997,
          1.8361320382400002,
          1.9433835330429998,
          1.9259248022949997,
          1.706646983449,
          3.288176819058,
          3.0630786788149997,
          2.6175244666129998,
          1.4789110325719999,
          1.935192779091,
          2.115073724877,
          1.41864235233,
          1.4010218711529998,
          1.2930219250339998,
          1.6630929086149997,
          2.479041436279,
          2.6594066937690006,
          2.116374721514,
          1.623761629553,
          1.6922092292070001,
          1.277781304236,
          1.1497709816610002,
          1.1503282296899997,
          1.16429155257,
          1.14945316168,
          1.4002200131979996,
          1.229282865714,
          1.9159301482259998,
          2.0646710125410004,
          3.0050152602080002,
          3.2082686737899997,
          2.4000247404420003,
          1.444692488286,
          1.8391671755690004,
          1.510150406646,
          2.2165359217539997,
          1.3261458771919998,
          1.2644074201870001,
          1.251230993757,
          2.101638186299,
          1.4181670406570004,
          1.377302290858,
          1.6833990314369998,
          1.338738781752,
          1.2198630222090001,
          1.3965802133949998,
          1.1671200280490002,
          1.148078483193,
          1.1587989088419999,
          1.142900685734,
          1.155179593357,
          2.5828428690719996,
          2.095288736904,
          1.2544017826859999,
          1.3127338928330003,
          1.3130049237140002,
          1.309373316028,
          1.493489490229,
          1.59403205307,
          1.2728555512389998,
          1.195619821483,
          1.1116660622280001,
          1.108065718136,
          2.0051475845,
          1.5178347931480003,
          1.443000420796,
          1.7002776994909998,
          1.2650491875599998,
          1.1611109106900002,
          1.090923787434,
          1.4258493674030002,
          1.112900274239,
          1.124564136494,
          1.133799660701,
          1.097227729599,
          2.585968000267,
          1.8173758371520001,
          1.2909888694529998,
          1.649825298039,
          1.6428035946200001,
          1.3034869082549998,
          1.266149586977,
          1.2750379010079997,
          1.116025925077,
          1.511658943489,
          1.4243322995939998,
          1.1091814356810001,
          1.5682707412559997,
          1.762776033251,
          1.421780872468,
          1.7277844346900002,
          1.64709396939,
          1.1401315158049996,
          1.095963204762,
          1.131836338188,
          1.098244125122,
          1.1249653187,
          1.096871907223,
          1.275535010539,
          3.010568690625,
          1.5850947875359997,
          1.330730208772,
          1.694919769866,
          1.605416034546,
          1.4325832170109998,
          1.287236704222,
          1.4046151007140002,
          1.198180897952,
          1.521788224514,
          1.5784075524740002,
          1.2692510873879999,
          2.0948061578059995,
          1.8972599690060001,
          2.125825757747,
          2.2360493904880006,
          2.007671559598,
          1.147401783148,
          0.0,
          0.0,
          0.0,
          0.0,
          0.0,
          0.0,
          0.0,
          0.0,
          0.0,
          0.0,
          0.0,
          0.0,
          0.0,
          0.0,
          0.0,
          0.0,
          0.0,
          1.128460901572,
          1.507381452178,
          1.643893916073,
          1.5087299027630001,
          1.67858184694,
          1.636176521214,
          1.1337280627739998,
          1.090494982875,
          1.103319964283,
          1.112095409036,
          1.0941638266829998,
          1.1106992064149999,
          1.0902584358910001,
          2.639512289442,
          1.877800588306,
          1.1773761498409998,
          1.1506166635060002,
          1.1143810554560003,
          1.2607175179239998,
          1.23593900938,
          1.447379710898,
          1.14002002886,
          1.2770574857619998,
          1.099888166933,
          1.125127689367,
          2.0417396610119996,
          1.829967756322,
          1.431116836585,
          1.801084073879,
          1.451016731511,
          1.395393576305,
          1.1027285413080001,
          1.114089519448,
          1.422055371332,
          1.1104162074319999,
          1.126499977118,
          1.101088263459,
          1.122889940026,
          1.103201997632,
          2.575845126914,
          3.039587996094,
          2.5787128487349995,
          1.40034691763,
          1.7577650691659998,
          2.5580103120069997,
          2.1057227188479994,
          1.414041524498,
          1.2173526747349999,
          1.4681613459909997,
          2.3679092918439997,
          2.564286836824,
          2.4141721303719996,
          1.5545698011340001,
          1.7260508482,
          1.219314312859,
          1.209555181022,
          1.2659026834570002,
          1.1175076425440003,
          1.099484917413,
          1.114699103737,
          1.0996345445740001,
          1.1124090653760002,
          1.095435328514,
          2.543393119708,
          3.0712950264850005,
          2.4679114260240005,
          1.6502019881719998,
          2.16854704511,
          2.0354902807969997,
          2.899215023614,
          1.7542361992639999,
          1.3553436871839997,
          1.207845586203,
          2.3490788077389997,
          1.990188535863,
          1.6009721606979999,
          1.8418479565649997,
          1.419656407056,
          1.1628238155839998,
          1.078815446007,
          1.4064110109099996,
          1.099601820954,
          1.1794497235930002,
          1.10911074615,
          1.096714908093,
          2.640941669283,
          2.6189368210540005,
          1.6275931796720002,
          1.095398116549,
          1.1207256922609998,
          1.192969477618,
          1.3937993799679997,
          1.5209908927870002,
          1.3716110194849997,
          1.3328307988719998,
          1.109724585144,
          1.2348686105239999,
          2.3333079125239995,
          2.064758500274,
          2.1827455829969997,
          1.841637128002,
          1.7883144268420001,
          1.3448153422769997,
          1.22433794663,
          1.1305758826120003,
          1.167437529572,
          1.138335040674,
          1.1107527788819997,
          1.45809993527,
          2.7675620639219995,
          2.251913416256,
          1.848729532147,
          1.203658595169,
          1.2956814089000002,
          0.946440373073,
          0.7549254279780001,
          0.691378275559,
          0.99048789637,
          0.664823270967,
          0.8718711131610002,
          0.443206605188,
          0.8218272627490001,
          1.003723447721,
          0.798113721645,
          1.0546545879219997,
          1.077436846078,
          0.455921560771,
          0.41972493213900003,
          0.425755582828,
          0.435434933897,
          0.40612708724700003,
          0.469929127241,
          0.477840577386,
          2.0069636264410002,
          1.0521983295289998,
          0.772769128703,
          0.51748403379,
          0.882336159146,
          0.783342080292,
          0.5923892962000001,
          0.6094100450569999,
          0.578226779009,
          0.505649480141,
          0.41695138549099997,
          0.42911992487000006,
          1.300220272056,
          1.0573697187260003,
          1.232209337658,
          1.446723593812,
          0.6062299124770001,
          0.473526351078,
          0.402861108722,
          0.4231530091599999,
          0.400721486427,
          0.6742235981270001,
          0.5144266423209999,
          0.419660816118,
          1.939785701102,
          1.3439398364119999,
          0.514927848465,
          0.41987179956599996,
          0.638860681987,
          1.1086327463490002,
          0.693649992735,
          0.7447666991490001,
          0.578620881431,
          0.6805632523340001,
          0.6024842437619999,
          1.0805544222519998,
          0.818799406765,
          0.9019926526479999,
          0.929487232463,
          1.0534435220100002,
          1.2408893013439999,
          1.0935276180190001
         ],
         "type": "scattergl"
        },
        {
         "line": {
          "color": "rgb(234,143,129)"
         },
         "name": "Observed",
         "x": [
          "2015-12-18T00:00:00",
          "2015-12-18T01:00:00",
          "2015-12-18T02:00:00",
          "2015-12-18T03:00:00",
          "2015-12-18T04:00:00",
          "2015-12-18T05:00:00",
          "2015-12-18T06:00:00",
          "2015-12-18T07:00:00",
          "2015-12-18T08:00:00",
          "2015-12-18T09:00:00",
          "2015-12-18T10:00:00",
          "2015-12-18T11:00:00",
          "2015-12-18T12:00:00",
          "2015-12-18T13:00:00",
          "2015-12-18T14:00:00",
          "2015-12-18T15:00:00",
          "2015-12-18T16:00:00",
          "2015-12-18T17:00:00",
          "2015-12-18T18:00:00",
          "2015-12-18T19:00:00",
          "2015-12-18T20:00:00",
          "2015-12-18T21:00:00",
          "2015-12-18T22:00:00",
          "2015-12-18T23:00:00",
          "2015-12-19T00:00:00",
          "2015-12-19T01:00:00",
          "2015-12-19T02:00:00",
          "2015-12-19T03:00:00",
          "2015-12-19T04:00:00",
          "2015-12-19T05:00:00",
          "2015-12-19T06:00:00",
          "2015-12-19T07:00:00",
          "2015-12-19T08:00:00",
          "2015-12-19T09:00:00",
          "2015-12-19T10:00:00",
          "2015-12-19T11:00:00",
          "2015-12-19T12:00:00",
          "2015-12-19T13:00:00",
          "2015-12-19T14:00:00",
          "2015-12-19T15:00:00",
          "2015-12-19T16:00:00",
          "2015-12-19T17:00:00",
          "2015-12-19T18:00:00",
          "2015-12-19T19:00:00",
          "2015-12-19T20:00:00",
          "2015-12-19T21:00:00",
          "2015-12-19T22:00:00",
          "2015-12-19T23:00:00",
          "2015-12-20T00:00:00",
          "2015-12-20T01:00:00",
          "2015-12-20T02:00:00",
          "2015-12-20T03:00:00",
          "2015-12-20T04:00:00",
          "2015-12-20T05:00:00",
          "2015-12-20T06:00:00",
          "2015-12-20T07:00:00",
          "2015-12-20T08:00:00",
          "2015-12-20T09:00:00",
          "2015-12-20T10:00:00",
          "2015-12-20T11:00:00",
          "2015-12-20T12:00:00",
          "2015-12-20T13:00:00",
          "2015-12-20T14:00:00",
          "2015-12-20T15:00:00",
          "2015-12-20T16:00:00",
          "2015-12-20T17:00:00",
          "2015-12-20T18:00:00",
          "2015-12-20T19:00:00",
          "2015-12-20T20:00:00",
          "2015-12-20T21:00:00",
          "2015-12-20T22:00:00",
          "2015-12-20T23:00:00"
         ],
         "y": [
          0.7541809214429999,
          0.7405540596239999,
          0.85679516276,
          0.8153294508250001,
          0.923195197747,
          1.192840526596,
          1.9721853660739999,
          1.3659582945979998,
          1.6204675533100001,
          1.1053420365839999,
          0.9832868103860001,
          1.2545410277590001,
          0.9215709751969999,
          0.8991514992149998,
          0.989592912681,
          1.156313675008,
          1.2589020911460003,
          1.383499256833,
          1.8167444349059998,
          1.495756265267,
          1.0886247761719998,
          1.732380454593,
          1.4535980479720003,
          1.426739098671,
          1.827459596978,
          1.4817598151349998,
          1.522759090537,
          1.5282830785800001,
          1.517923285094,
          1.697016412207,
          1.500882257105,
          1.640961358744,
          1.94347992613,
          1.991435066095,
          1.597176767809,
          0.548092850175,
          1.090159784579,
          1.8809360195929998,
          1.396902969872,
          0.728544577852,
          0.708386058482,
          1.733997208685,
          2.4822865580299998,
          2.699338353268,
          2.341466422387,
          1.4239454394009998,
          1.6914244522569999,
          1.4335302476629999,
          2.044122925518,
          1.557887882224,
          1.699244672919,
          1.5032932091880002,
          1.6642570686509996,
          1.825291441007,
          1.6145604625599999,
          1.688437537798,
          2.936511487015,
          2.536843478219,
          1.7546387039509999,
          0.707467231342,
          1.091807183645,
          0.775912127476,
          1.5324791360499999,
          0.5733890050699999,
          0.545139434205,
          0.49408517317300005,
          1.2853109960169997,
          1.446925645715,
          1.2506394000319998,
          1.505948651618,
          1.1393016157520002,
          1.1918020737680002
         ],
         "type": "scattergl"
        },
        {
         "line": {
          "color": "rgb(32,115,171)"
         },
         "name": "Predicted",
         "x": [
          "2015-12-18T00:00:00",
          "2015-12-18T01:00:00",
          "2015-12-18T02:00:00",
          "2015-12-18T03:00:00",
          "2015-12-18T04:00:00",
          "2015-12-18T05:00:00",
          "2015-12-18T06:00:00",
          "2015-12-18T07:00:00",
          "2015-12-18T08:00:00",
          "2015-12-18T09:00:00",
          "2015-12-18T10:00:00",
          "2015-12-18T11:00:00",
          "2015-12-18T12:00:00",
          "2015-12-18T13:00:00",
          "2015-12-18T14:00:00",
          "2015-12-18T15:00:00",
          "2015-12-18T16:00:00",
          "2015-12-18T17:00:00",
          "2015-12-18T18:00:00",
          "2015-12-18T19:00:00",
          "2015-12-18T20:00:00",
          "2015-12-18T21:00:00",
          "2015-12-18T22:00:00",
          "2015-12-18T23:00:00",
          "2015-12-19T00:00:00",
          "2015-12-19T01:00:00",
          "2015-12-19T02:00:00",
          "2015-12-19T03:00:00",
          "2015-12-19T04:00:00",
          "2015-12-19T05:00:00",
          "2015-12-19T06:00:00",
          "2015-12-19T07:00:00",
          "2015-12-19T08:00:00",
          "2015-12-19T09:00:00",
          "2015-12-19T10:00:00",
          "2015-12-19T11:00:00",
          "2015-12-19T12:00:00",
          "2015-12-19T13:00:00",
          "2015-12-19T14:00:00",
          "2015-12-19T15:00:00",
          "2015-12-19T16:00:00",
          "2015-12-19T17:00:00",
          "2015-12-19T18:00:00",
          "2015-12-19T19:00:00",
          "2015-12-19T20:00:00",
          "2015-12-19T21:00:00",
          "2015-12-19T22:00:00",
          "2015-12-19T23:00:00",
          "2015-12-20T00:00:00",
          "2015-12-20T01:00:00",
          "2015-12-20T02:00:00",
          "2015-12-20T03:00:00",
          "2015-12-20T04:00:00",
          "2015-12-20T05:00:00",
          "2015-12-20T06:00:00",
          "2015-12-20T07:00:00",
          "2015-12-20T08:00:00",
          "2015-12-20T09:00:00",
          "2015-12-20T10:00:00",
          "2015-12-20T11:00:00",
          "2015-12-20T12:00:00",
          "2015-12-20T13:00:00",
          "2015-12-20T14:00:00",
          "2015-12-20T15:00:00",
          "2015-12-20T16:00:00",
          "2015-12-20T17:00:00",
          "2015-12-20T18:00:00",
          "2015-12-20T19:00:00",
          "2015-12-20T20:00:00",
          "2015-12-20T21:00:00",
          "2015-12-20T22:00:00",
          "2015-12-20T23:00:00",
          "2015-12-21T00:00:00"
         ],
         "y": [
          1.1564251081734929,
          1.1072730121412873,
          1.0735904737240052,
          1.0106665881500387,
          1.1688382754851476,
          1.0878072390931113,
          1.8291422798397194,
          1.4524724556441475,
          1.293544345283686,
          1.2126580758276282,
          1.1931212758435825,
          1.3116676399174092,
          1.367358491310436,
          1.4167934123617758,
          1.1662700520609,
          1.4131985584692832,
          1.298644390874221,
          1.2643080372843256,
          1.6901168963616122,
          1.5600800304793596,
          1.4397623827898034,
          1.5123864039186636,
          1.477368266770165,
          1.3357313932049906,
          1.3246106845530468,
          1.1983295889038355,
          1.2469395984288127,
          0.9081777504271759,
          1.0655420957879742,
          0.956047801712751,
          1.0336992855906284,
          1.0295972005999903,
          1.6078823106084839,
          1.9148818069894815,
          1.8175653733298467,
          1.3533110222557805,
          1.4944411648411664,
          1.9072074209496224,
          1.9044948536737225,
          1.3637378166908296,
          1.3587980660151628,
          1.3407491443216373,
          1.7134886773625775,
          1.7755182667214966,
          1.8828048569342963,
          1.4591178355567451,
          1.6010163170591476,
          1.3254371011314907,
          1.4315350457647238,
          1.3597382175363004,
          1.3300640645908717,
          1.264116406138477,
          1.254048085281323,
          1.2162708517039436,
          1.0258997061887905,
          0.9254251458106848,
          1.7075655374317096,
          1.9182493495189847,
          1.8384639973879935,
          1.4803305865665901,
          1.7456814636743991,
          1.731194074202667,
          2.1211844592926212,
          1.6176876870148924,
          1.4341822996198306,
          1.257570842179306,
          1.7787054628451653,
          1.7694662290307348,
          1.554367415550133,
          1.5454243428046464,
          1.4325964041018904,
          1.2637254955727597,
          1.143574055214641
         ],
         "type": "scattergl"
        }
       ],
       "layout": {
        "template": {
         "data": {
          "barpolar": [
           {
            "marker": {
             "line": {
              "color": "#E5ECF6",
              "width": 0.5
             },
             "pattern": {
              "fillmode": "overlay",
              "size": 10,
              "solidity": 0.2
             }
            },
            "type": "barpolar"
           }
          ],
          "bar": [
           {
            "error_x": {
             "color": "#2a3f5f"
            },
            "error_y": {
             "color": "#2a3f5f"
            },
            "marker": {
             "line": {
              "color": "#E5ECF6",
              "width": 0.5
             },
             "pattern": {
              "fillmode": "overlay",
              "size": 10,
              "solidity": 0.2
             }
            },
            "type": "bar"
           }
          ],
          "carpet": [
           {
            "aaxis": {
             "endlinecolor": "#2a3f5f",
             "gridcolor": "white",
             "linecolor": "white",
             "minorgridcolor": "white",
             "startlinecolor": "#2a3f5f"
            },
            "baxis": {
             "endlinecolor": "#2a3f5f",
             "gridcolor": "white",
             "linecolor": "white",
             "minorgridcolor": "white",
             "startlinecolor": "#2a3f5f"
            },
            "type": "carpet"
           }
          ],
          "choropleth": [
           {
            "colorbar": {
             "outlinewidth": 0,
             "ticks": ""
            },
            "type": "choropleth"
           }
          ],
          "contourcarpet": [
           {
            "colorbar": {
             "outlinewidth": 0,
             "ticks": ""
            },
            "type": "contourcarpet"
           }
          ],
          "contour": [
           {
            "colorbar": {
             "outlinewidth": 0,
             "ticks": ""
            },
            "colorscale": [
             [
              0.0,
              "#0d0887"
             ],
             [
              0.1111111111111111,
              "#46039f"
             ],
             [
              0.2222222222222222,
              "#7201a8"
             ],
             [
              0.3333333333333333,
              "#9c179e"
             ],
             [
              0.4444444444444444,
              "#bd3786"
             ],
             [
              0.5555555555555556,
              "#d8576b"
             ],
             [
              0.6666666666666666,
              "#ed7953"
             ],
             [
              0.7777777777777778,
              "#fb9f3a"
             ],
             [
              0.8888888888888888,
              "#fdca26"
             ],
             [
              1.0,
              "#f0f921"
             ]
            ],
            "type": "contour"
           }
          ],
          "heatmapgl": [
           {
            "colorbar": {
             "outlinewidth": 0,
             "ticks": ""
            },
            "colorscale": [
             [
              0.0,
              "#0d0887"
             ],
             [
              0.1111111111111111,
              "#46039f"
             ],
             [
              0.2222222222222222,
              "#7201a8"
             ],
             [
              0.3333333333333333,
              "#9c179e"
             ],
             [
              0.4444444444444444,
              "#bd3786"
             ],
             [
              0.5555555555555556,
              "#d8576b"
             ],
             [
              0.6666666666666666,
              "#ed7953"
             ],
             [
              0.7777777777777778,
              "#fb9f3a"
             ],
             [
              0.8888888888888888,
              "#fdca26"
             ],
             [
              1.0,
              "#f0f921"
             ]
            ],
            "type": "heatmapgl"
           }
          ],
          "heatmap": [
           {
            "colorbar": {
             "outlinewidth": 0,
             "ticks": ""
            },
            "colorscale": [
             [
              0.0,
              "#0d0887"
             ],
             [
              0.1111111111111111,
              "#46039f"
             ],
             [
              0.2222222222222222,
              "#7201a8"
             ],
             [
              0.3333333333333333,
              "#9c179e"
             ],
             [
              0.4444444444444444,
              "#bd3786"
             ],
             [
              0.5555555555555556,
              "#d8576b"
             ],
             [
              0.6666666666666666,
              "#ed7953"
             ],
             [
              0.7777777777777778,
              "#fb9f3a"
             ],
             [
              0.8888888888888888,
              "#fdca26"
             ],
             [
              1.0,
              "#f0f921"
             ]
            ],
            "type": "heatmap"
           }
          ],
          "histogram2dcontour": [
           {
            "colorbar": {
             "outlinewidth": 0,
             "ticks": ""
            },
            "colorscale": [
             [
              0.0,
              "#0d0887"
             ],
             [
              0.1111111111111111,
              "#46039f"
             ],
             [
              0.2222222222222222,
              "#7201a8"
             ],
             [
              0.3333333333333333,
              "#9c179e"
             ],
             [
              0.4444444444444444,
              "#bd3786"
             ],
             [
              0.5555555555555556,
              "#d8576b"
             ],
             [
              0.6666666666666666,
              "#ed7953"
             ],
             [
              0.7777777777777778,
              "#fb9f3a"
             ],
             [
              0.8888888888888888,
              "#fdca26"
             ],
             [
              1.0,
              "#f0f921"
             ]
            ],
            "type": "histogram2dcontour"
           }
          ],
          "histogram2d": [
           {
            "colorbar": {
             "outlinewidth": 0,
             "ticks": ""
            },
            "colorscale": [
             [
              0.0,
              "#0d0887"
             ],
             [
              0.1111111111111111,
              "#46039f"
             ],
             [
              0.2222222222222222,
              "#7201a8"
             ],
             [
              0.3333333333333333,
              "#9c179e"
             ],
             [
              0.4444444444444444,
              "#bd3786"
             ],
             [
              0.5555555555555556,
              "#d8576b"
             ],
             [
              0.6666666666666666,
              "#ed7953"
             ],
             [
              0.7777777777777778,
              "#fb9f3a"
             ],
             [
              0.8888888888888888,
              "#fdca26"
             ],
             [
              1.0,
              "#f0f921"
             ]
            ],
            "type": "histogram2d"
           }
          ],
          "histogram": [
           {
            "marker": {
             "pattern": {
              "fillmode": "overlay",
              "size": 10,
              "solidity": 0.2
             }
            },
            "type": "histogram"
           }
          ],
          "mesh3d": [
           {
            "colorbar": {
             "outlinewidth": 0,
             "ticks": ""
            },
            "type": "mesh3d"
           }
          ],
          "parcoords": [
           {
            "line": {
             "colorbar": {
              "outlinewidth": 0,
              "ticks": ""
             }
            },
            "type": "parcoords"
           }
          ],
          "pie": [
           {
            "automargin": true,
            "type": "pie"
           }
          ],
          "scatter3d": [
           {
            "line": {
             "colorbar": {
              "outlinewidth": 0,
              "ticks": ""
             }
            },
            "marker": {
             "colorbar": {
              "outlinewidth": 0,
              "ticks": ""
             }
            },
            "type": "scatter3d"
           }
          ],
          "scattercarpet": [
           {
            "marker": {
             "colorbar": {
              "outlinewidth": 0,
              "ticks": ""
             }
            },
            "type": "scattercarpet"
           }
          ],
          "scattergeo": [
           {
            "marker": {
             "colorbar": {
              "outlinewidth": 0,
              "ticks": ""
             }
            },
            "type": "scattergeo"
           }
          ],
          "scattergl": [
           {
            "marker": {
             "colorbar": {
              "outlinewidth": 0,
              "ticks": ""
             }
            },
            "type": "scattergl"
           }
          ],
          "scattermapbox": [
           {
            "marker": {
             "colorbar": {
              "outlinewidth": 0,
              "ticks": ""
             }
            },
            "type": "scattermapbox"
           }
          ],
          "scatterpolargl": [
           {
            "marker": {
             "colorbar": {
              "outlinewidth": 0,
              "ticks": ""
             }
            },
            "type": "scatterpolargl"
           }
          ],
          "scatterpolar": [
           {
            "marker": {
             "colorbar": {
              "outlinewidth": 0,
              "ticks": ""
             }
            },
            "type": "scatterpolar"
           }
          ],
          "scatter": [
           {
            "fillpattern": {
             "fillmode": "overlay",
             "size": 10,
             "solidity": 0.2
            },
            "type": "scatter"
           }
          ],
          "scatterternary": [
           {
            "marker": {
             "colorbar": {
              "outlinewidth": 0,
              "ticks": ""
             }
            },
            "type": "scatterternary"
           }
          ],
          "surface": [
           {
            "colorbar": {
             "outlinewidth": 0,
             "ticks": ""
            },
            "colorscale": [
             [
              0.0,
              "#0d0887"
             ],
             [
              0.1111111111111111,
              "#46039f"
             ],
             [
              0.2222222222222222,
              "#7201a8"
             ],
             [
              0.3333333333333333,
              "#9c179e"
             ],
             [
              0.4444444444444444,
              "#bd3786"
             ],
             [
              0.5555555555555556,
              "#d8576b"
             ],
             [
              0.6666666666666666,
              "#ed7953"
             ],
             [
              0.7777777777777778,
              "#fb9f3a"
             ],
             [
              0.8888888888888888,
              "#fdca26"
             ],
             [
              1.0,
              "#f0f921"
             ]
            ],
            "type": "surface"
           }
          ],
          "table": [
           {
            "cells": {
             "fill": {
              "color": "#EBF0F8"
             },
             "line": {
              "color": "white"
             }
            },
            "header": {
             "fill": {
              "color": "#C8D4E3"
             },
             "line": {
              "color": "white"
             }
            },
            "type": "table"
           }
          ]
         },
         "layout": {
          "annotationdefaults": {
           "arrowcolor": "#2a3f5f",
           "arrowhead": 0,
           "arrowwidth": 1
          },
          "autotypenumbers": "strict",
          "coloraxis": {
           "colorbar": {
            "outlinewidth": 0,
            "ticks": ""
           }
          },
          "colorscale": {
           "diverging": [
            [
             0,
             "#8e0152"
            ],
            [
             0.1,
             "#c51b7d"
            ],
            [
             0.2,
             "#de77ae"
            ],
            [
             0.3,
             "#f1b6da"
            ],
            [
             0.4,
             "#fde0ef"
            ],
            [
             0.5,
             "#f7f7f7"
            ],
            [
             0.6,
             "#e6f5d0"
            ],
            [
             0.7,
             "#b8e186"
            ],
            [
             0.8,
             "#7fbc41"
            ],
            [
             0.9,
             "#4d9221"
            ],
            [
             1,
             "#276419"
            ]
           ],
           "sequential": [
            [
             0.0,
             "#0d0887"
            ],
            [
             0.1111111111111111,
             "#46039f"
            ],
            [
             0.2222222222222222,
             "#7201a8"
            ],
            [
             0.3333333333333333,
             "#9c179e"
            ],
            [
             0.4444444444444444,
             "#bd3786"
            ],
            [
             0.5555555555555556,
             "#d8576b"
            ],
            [
             0.6666666666666666,
             "#ed7953"
            ],
            [
             0.7777777777777778,
             "#fb9f3a"
            ],
            [
             0.8888888888888888,
             "#fdca26"
            ],
            [
             1.0,
             "#f0f921"
            ]
           ],
           "sequentialminus": [
            [
             0.0,
             "#0d0887"
            ],
            [
             0.1111111111111111,
             "#46039f"
            ],
            [
             0.2222222222222222,
             "#7201a8"
            ],
            [
             0.3333333333333333,
             "#9c179e"
            ],
            [
             0.4444444444444444,
             "#bd3786"
            ],
            [
             0.5555555555555556,
             "#d8576b"
            ],
            [
             0.6666666666666666,
             "#ed7953"
            ],
            [
             0.7777777777777778,
             "#fb9f3a"
            ],
            [
             0.8888888888888888,
             "#fdca26"
            ],
            [
             1.0,
             "#f0f921"
            ]
           ]
          },
          "colorway": [
           "#636efa",
           "#EF553B",
           "#00cc96",
           "#ab63fa",
           "#FFA15A",
           "#19d3f3",
           "#FF6692",
           "#B6E880",
           "#FF97FF",
           "#FECB52"
          ],
          "font": {
           "color": "#2a3f5f"
          },
          "geo": {
           "bgcolor": "white",
           "lakecolor": "white",
           "landcolor": "#E5ECF6",
           "showlakes": true,
           "showland": true,
           "subunitcolor": "white"
          },
          "hoverlabel": {
           "align": "left"
          },
          "hovermode": "closest",
          "mapbox": {
           "style": "light"
          },
          "paper_bgcolor": "white",
          "plot_bgcolor": "#E5ECF6",
          "polar": {
           "angularaxis": {
            "gridcolor": "white",
            "linecolor": "white",
            "ticks": ""
           },
           "bgcolor": "#E5ECF6",
           "radialaxis": {
            "gridcolor": "white",
            "linecolor": "white",
            "ticks": ""
           }
          },
          "scene": {
           "xaxis": {
            "backgroundcolor": "#E5ECF6",
            "gridcolor": "white",
            "gridwidth": 2,
            "linecolor": "white",
            "showbackground": true,
            "ticks": "",
            "zerolinecolor": "white"
           },
           "yaxis": {
            "backgroundcolor": "#E5ECF6",
            "gridcolor": "white",
            "gridwidth": 2,
            "linecolor": "white",
            "showbackground": true,
            "ticks": "",
            "zerolinecolor": "white"
           },
           "zaxis": {
            "backgroundcolor": "#E5ECF6",
            "gridcolor": "white",
            "gridwidth": 2,
            "linecolor": "white",
            "showbackground": true,
            "ticks": "",
            "zerolinecolor": "white"
           }
          },
          "shapedefaults": {
           "line": {
            "color": "#2a3f5f"
           }
          },
          "ternary": {
           "aaxis": {
            "gridcolor": "white",
            "linecolor": "white",
            "ticks": ""
           },
           "baxis": {
            "gridcolor": "white",
            "linecolor": "white",
            "ticks": ""
           },
           "bgcolor": "#E5ECF6",
           "caxis": {
            "gridcolor": "white",
            "linecolor": "white",
            "ticks": ""
           }
          },
          "title": {
           "x": 0.05
          },
          "xaxis": {
           "automargin": true,
           "gridcolor": "white",
           "linecolor": "white",
           "ticks": "",
           "title": {
            "standoff": 15
           },
           "zerolinecolor": "white",
           "zerolinewidth": 2
          },
          "yaxis": {
           "automargin": true,
           "gridcolor": "white",
           "linecolor": "white",
           "ticks": "",
           "title": {
            "standoff": 15
           },
           "zerolinecolor": "white",
           "zerolinewidth": 2
          }
         }
        },
        "yaxis": {
         "title": {
          "text": "Fixed Consumption [kWh]"
         }
        },
        "legend": {
         "orientation": "h",
         "yanchor": "bottom",
         "y": 1,
         "xanchor": "left",
         "x": 0
        }
       },
       "config": {
        "plotlyServerURL": "https://plot.ly"
       }
      },
      "text/html": "<div>                            <div id=\"c34a878c-0479-4a9a-bd26-e316ce43d4cb\" class=\"plotly-graph-div\" style=\"height:525px; width:100%;\"></div>            <script type=\"text/javascript\">                require([\"plotly\"], function(Plotly) {                    window.PLOTLYENV=window.PLOTLYENV || {};                                    if (document.getElementById(\"c34a878c-0479-4a9a-bd26-e316ce43d4cb\")) {                    Plotly.newPlot(                        \"c34a878c-0479-4a9a-bd26-e316ce43d4cb\",                        [{\"line\":{\"color\":\"rgb(84, 84, 84)\"},\"name\":\"Training Data\",\"x\":[\"2015-11-20T00:00:00\",\"2015-11-20T01:00:00\",\"2015-11-20T02:00:00\",\"2015-11-20T03:00:00\",\"2015-11-20T04:00:00\",\"2015-11-20T05:00:00\",\"2015-11-20T06:00:00\",\"2015-11-20T07:00:00\",\"2015-11-20T08:00:00\",\"2015-11-20T09:00:00\",\"2015-11-20T10:00:00\",\"2015-11-20T11:00:00\",\"2015-11-20T12:00:00\",\"2015-11-20T13:00:00\",\"2015-11-20T14:00:00\",\"2015-11-20T15:00:00\",\"2015-11-20T16:00:00\",\"2015-11-20T17:00:00\",\"2015-11-20T18:00:00\",\"2015-11-20T19:00:00\",\"2015-11-20T20:00:00\",\"2015-11-20T21:00:00\",\"2015-11-20T22:00:00\",\"2015-11-20T23:00:00\",\"2015-11-21T00:00:00\",\"2015-11-21T01:00:00\",\"2015-11-21T02:00:00\",\"2015-11-21T03:00:00\",\"2015-11-21T04:00:00\",\"2015-11-21T05:00:00\",\"2015-11-21T06:00:00\",\"2015-11-21T07:00:00\",\"2015-11-21T08:00:00\",\"2015-11-21T09:00:00\",\"2015-11-21T10:00:00\",\"2015-11-21T11:00:00\",\"2015-11-21T12:00:00\",\"2015-11-21T13:00:00\",\"2015-11-21T14:00:00\",\"2015-11-21T15:00:00\",\"2015-11-21T16:00:00\",\"2015-11-21T17:00:00\",\"2015-11-21T18:00:00\",\"2015-11-21T19:00:00\",\"2015-11-21T20:00:00\",\"2015-11-21T21:00:00\",\"2015-11-21T22:00:00\",\"2015-11-21T23:00:00\",\"2015-11-22T00:00:00\",\"2015-11-22T01:00:00\",\"2015-11-22T02:00:00\",\"2015-11-22T03:00:00\",\"2015-11-22T04:00:00\",\"2015-11-22T05:00:00\",\"2015-11-22T06:00:00\",\"2015-11-22T07:00:00\",\"2015-11-22T08:00:00\",\"2015-11-22T09:00:00\",\"2015-11-22T10:00:00\",\"2015-11-22T11:00:00\",\"2015-11-22T12:00:00\",\"2015-11-22T13:00:00\",\"2015-11-22T14:00:00\",\"2015-11-22T15:00:00\",\"2015-11-22T16:00:00\",\"2015-11-22T17:00:00\",\"2015-11-22T18:00:00\",\"2015-11-22T19:00:00\",\"2015-11-22T20:00:00\",\"2015-11-22T21:00:00\",\"2015-11-22T22:00:00\",\"2015-11-22T23:00:00\",\"2015-11-23T00:00:00\",\"2015-11-23T01:00:00\",\"2015-11-23T02:00:00\",\"2015-11-23T03:00:00\",\"2015-11-23T04:00:00\",\"2015-11-23T05:00:00\",\"2015-11-23T06:00:00\",\"2015-11-23T07:00:00\",\"2015-11-23T08:00:00\",\"2015-11-23T09:00:00\",\"2015-11-23T10:00:00\",\"2015-11-23T11:00:00\",\"2015-11-23T12:00:00\",\"2015-11-23T13:00:00\",\"2015-11-23T14:00:00\",\"2015-11-23T15:00:00\",\"2015-11-23T16:00:00\",\"2015-11-23T17:00:00\",\"2015-11-23T18:00:00\",\"2015-11-23T19:00:00\",\"2015-11-23T20:00:00\",\"2015-11-23T21:00:00\",\"2015-11-23T22:00:00\",\"2015-11-23T23:00:00\",\"2015-11-24T00:00:00\",\"2015-11-24T01:00:00\",\"2015-11-24T02:00:00\",\"2015-11-24T03:00:00\",\"2015-11-24T04:00:00\",\"2015-11-24T05:00:00\",\"2015-11-24T06:00:00\",\"2015-11-24T07:00:00\",\"2015-11-24T08:00:00\",\"2015-11-24T09:00:00\",\"2015-11-24T10:00:00\",\"2015-11-24T11:00:00\",\"2015-11-24T12:00:00\",\"2015-11-24T13:00:00\",\"2015-11-24T14:00:00\",\"2015-11-24T15:00:00\",\"2015-11-24T16:00:00\",\"2015-11-24T17:00:00\",\"2015-11-24T18:00:00\",\"2015-11-24T19:00:00\",\"2015-11-24T20:00:00\",\"2015-11-24T21:00:00\",\"2015-11-24T22:00:00\",\"2015-11-24T23:00:00\",\"2015-11-25T00:00:00\",\"2015-11-25T01:00:00\",\"2015-11-25T02:00:00\",\"2015-11-25T03:00:00\",\"2015-11-25T04:00:00\",\"2015-11-25T05:00:00\",\"2015-11-25T06:00:00\",\"2015-11-25T07:00:00\",\"2015-11-25T08:00:00\",\"2015-11-25T09:00:00\",\"2015-11-25T10:00:00\",\"2015-11-25T11:00:00\",\"2015-11-25T12:00:00\",\"2015-11-25T13:00:00\",\"2015-11-25T14:00:00\",\"2015-11-25T15:00:00\",\"2015-11-25T16:00:00\",\"2015-11-25T17:00:00\",\"2015-11-25T18:00:00\",\"2015-11-25T19:00:00\",\"2015-11-25T20:00:00\",\"2015-11-25T21:00:00\",\"2015-11-25T22:00:00\",\"2015-11-25T23:00:00\",\"2015-11-26T00:00:00\",\"2015-11-26T01:00:00\",\"2015-11-26T02:00:00\",\"2015-11-26T03:00:00\",\"2015-11-26T04:00:00\",\"2015-11-26T05:00:00\",\"2015-11-26T06:00:00\",\"2015-11-26T07:00:00\",\"2015-11-26T08:00:00\",\"2015-11-26T09:00:00\",\"2015-11-26T10:00:00\",\"2015-11-26T11:00:00\",\"2015-11-26T12:00:00\",\"2015-11-26T13:00:00\",\"2015-11-26T14:00:00\",\"2015-11-26T15:00:00\",\"2015-11-26T16:00:00\",\"2015-11-26T17:00:00\",\"2015-11-26T18:00:00\",\"2015-11-26T19:00:00\",\"2015-11-26T20:00:00\",\"2015-11-26T21:00:00\",\"2015-11-26T22:00:00\",\"2015-11-26T23:00:00\",\"2015-11-27T00:00:00\",\"2015-11-27T01:00:00\",\"2015-11-27T02:00:00\",\"2015-11-27T03:00:00\",\"2015-11-27T04:00:00\",\"2015-11-27T05:00:00\",\"2015-11-27T06:00:00\",\"2015-11-27T07:00:00\",\"2015-11-27T08:00:00\",\"2015-11-27T09:00:00\",\"2015-11-27T10:00:00\",\"2015-11-27T11:00:00\",\"2015-11-27T12:00:00\",\"2015-11-27T13:00:00\",\"2015-11-27T14:00:00\",\"2015-11-27T15:00:00\",\"2015-11-27T16:00:00\",\"2015-11-27T17:00:00\",\"2015-11-27T18:00:00\",\"2015-11-27T19:00:00\",\"2015-11-27T20:00:00\",\"2015-11-27T21:00:00\",\"2015-11-27T22:00:00\",\"2015-11-27T23:00:00\",\"2015-11-28T00:00:00\",\"2015-11-28T01:00:00\",\"2015-11-28T02:00:00\",\"2015-11-28T03:00:00\",\"2015-11-28T04:00:00\",\"2015-11-28T05:00:00\",\"2015-11-28T06:00:00\",\"2015-11-28T07:00:00\",\"2015-11-28T08:00:00\",\"2015-11-28T09:00:00\",\"2015-11-28T10:00:00\",\"2015-11-28T11:00:00\",\"2015-11-28T12:00:00\",\"2015-11-28T13:00:00\",\"2015-11-28T14:00:00\",\"2015-11-28T15:00:00\",\"2015-11-28T16:00:00\",\"2015-11-28T17:00:00\",\"2015-11-28T18:00:00\",\"2015-11-28T19:00:00\",\"2015-11-28T20:00:00\",\"2015-11-28T21:00:00\",\"2015-11-28T22:00:00\",\"2015-11-28T23:00:00\",\"2015-11-29T00:00:00\",\"2015-11-29T01:00:00\",\"2015-11-29T02:00:00\",\"2015-11-29T03:00:00\",\"2015-11-29T04:00:00\",\"2015-11-29T05:00:00\",\"2015-11-29T06:00:00\",\"2015-11-29T07:00:00\",\"2015-11-29T08:00:00\",\"2015-11-29T09:00:00\",\"2015-11-29T10:00:00\",\"2015-11-29T11:00:00\",\"2015-11-29T12:00:00\",\"2015-11-29T13:00:00\",\"2015-11-29T14:00:00\",\"2015-11-29T15:00:00\",\"2015-11-29T16:00:00\",\"2015-11-29T17:00:00\",\"2015-11-29T18:00:00\",\"2015-11-29T19:00:00\",\"2015-11-29T20:00:00\",\"2015-11-29T21:00:00\",\"2015-11-29T22:00:00\",\"2015-11-29T23:00:00\",\"2015-11-30T00:00:00\",\"2015-11-30T01:00:00\",\"2015-11-30T02:00:00\",\"2015-11-30T03:00:00\",\"2015-11-30T04:00:00\",\"2015-11-30T05:00:00\",\"2015-11-30T06:00:00\",\"2015-11-30T07:00:00\",\"2015-11-30T08:00:00\",\"2015-11-30T09:00:00\",\"2015-11-30T10:00:00\",\"2015-11-30T11:00:00\",\"2015-11-30T12:00:00\",\"2015-11-30T13:00:00\",\"2015-11-30T14:00:00\",\"2015-11-30T15:00:00\",\"2015-11-30T16:00:00\",\"2015-11-30T17:00:00\",\"2015-11-30T18:00:00\",\"2015-11-30T19:00:00\",\"2015-11-30T20:00:00\",\"2015-11-30T21:00:00\",\"2015-11-30T22:00:00\",\"2015-11-30T23:00:00\",\"2015-12-01T00:00:00\",\"2015-12-01T01:00:00\",\"2015-12-01T02:00:00\",\"2015-12-01T03:00:00\",\"2015-12-01T04:00:00\",\"2015-12-01T05:00:00\",\"2015-12-01T06:00:00\",\"2015-12-01T07:00:00\",\"2015-12-01T08:00:00\",\"2015-12-01T09:00:00\",\"2015-12-01T10:00:00\",\"2015-12-01T11:00:00\",\"2015-12-01T12:00:00\",\"2015-12-01T13:00:00\",\"2015-12-01T14:00:00\",\"2015-12-01T15:00:00\",\"2015-12-01T16:00:00\",\"2015-12-01T17:00:00\",\"2015-12-01T18:00:00\",\"2015-12-01T19:00:00\",\"2015-12-01T20:00:00\",\"2015-12-01T21:00:00\",\"2015-12-01T22:00:00\",\"2015-12-01T23:00:00\",\"2015-12-02T00:00:00\",\"2015-12-02T01:00:00\",\"2015-12-02T02:00:00\",\"2015-12-02T03:00:00\",\"2015-12-02T04:00:00\",\"2015-12-02T05:00:00\",\"2015-12-02T06:00:00\",\"2015-12-02T07:00:00\",\"2015-12-02T08:00:00\",\"2015-12-02T09:00:00\",\"2015-12-02T10:00:00\",\"2015-12-02T11:00:00\",\"2015-12-02T12:00:00\",\"2015-12-02T13:00:00\",\"2015-12-02T14:00:00\",\"2015-12-02T15:00:00\",\"2015-12-02T16:00:00\",\"2015-12-02T17:00:00\",\"2015-12-02T18:00:00\",\"2015-12-02T19:00:00\",\"2015-12-02T20:00:00\",\"2015-12-02T21:00:00\",\"2015-12-02T22:00:00\",\"2015-12-02T23:00:00\",\"2015-12-03T00:00:00\",\"2015-12-03T01:00:00\",\"2015-12-03T02:00:00\",\"2015-12-03T03:00:00\",\"2015-12-03T04:00:00\",\"2015-12-03T05:00:00\",\"2015-12-03T06:00:00\",\"2015-12-03T07:00:00\",\"2015-12-03T08:00:00\",\"2015-12-03T09:00:00\",\"2015-12-03T10:00:00\",\"2015-12-03T11:00:00\",\"2015-12-03T12:00:00\",\"2015-12-03T13:00:00\",\"2015-12-03T14:00:00\",\"2015-12-03T15:00:00\",\"2015-12-03T16:00:00\",\"2015-12-03T17:00:00\",\"2015-12-03T18:00:00\",\"2015-12-03T19:00:00\",\"2015-12-03T20:00:00\",\"2015-12-03T21:00:00\",\"2015-12-03T22:00:00\",\"2015-12-03T23:00:00\",\"2015-12-04T00:00:00\",\"2015-12-04T01:00:00\",\"2015-12-04T02:00:00\",\"2015-12-04T03:00:00\",\"2015-12-04T04:00:00\",\"2015-12-04T05:00:00\",\"2015-12-04T06:00:00\",\"2015-12-04T07:00:00\",\"2015-12-04T08:00:00\",\"2015-12-04T09:00:00\",\"2015-12-04T10:00:00\",\"2015-12-04T11:00:00\",\"2015-12-04T12:00:00\",\"2015-12-04T13:00:00\",\"2015-12-04T14:00:00\",\"2015-12-04T15:00:00\",\"2015-12-04T16:00:00\",\"2015-12-04T17:00:00\",\"2015-12-04T18:00:00\",\"2015-12-04T19:00:00\",\"2015-12-04T20:00:00\",\"2015-12-04T21:00:00\",\"2015-12-04T22:00:00\",\"2015-12-04T23:00:00\",\"2015-12-05T00:00:00\",\"2015-12-05T01:00:00\",\"2015-12-05T02:00:00\",\"2015-12-05T03:00:00\",\"2015-12-05T04:00:00\",\"2015-12-05T05:00:00\",\"2015-12-05T06:00:00\",\"2015-12-05T07:00:00\",\"2015-12-05T08:00:00\",\"2015-12-05T09:00:00\",\"2015-12-05T10:00:00\",\"2015-12-05T11:00:00\",\"2015-12-05T12:00:00\",\"2015-12-05T13:00:00\",\"2015-12-05T14:00:00\",\"2015-12-05T15:00:00\",\"2015-12-05T16:00:00\",\"2015-12-05T17:00:00\",\"2015-12-05T18:00:00\",\"2015-12-05T19:00:00\",\"2015-12-05T20:00:00\",\"2015-12-05T21:00:00\",\"2015-12-05T22:00:00\",\"2015-12-05T23:00:00\",\"2015-12-06T00:00:00\",\"2015-12-06T01:00:00\",\"2015-12-06T02:00:00\",\"2015-12-06T03:00:00\",\"2015-12-06T04:00:00\",\"2015-12-06T05:00:00\",\"2015-12-06T06:00:00\",\"2015-12-06T07:00:00\",\"2015-12-06T08:00:00\",\"2015-12-06T09:00:00\",\"2015-12-06T10:00:00\",\"2015-12-06T11:00:00\",\"2015-12-06T12:00:00\",\"2015-12-06T13:00:00\",\"2015-12-06T14:00:00\",\"2015-12-06T15:00:00\",\"2015-12-06T16:00:00\",\"2015-12-06T17:00:00\",\"2015-12-06T18:00:00\",\"2015-12-06T19:00:00\",\"2015-12-06T20:00:00\",\"2015-12-06T21:00:00\",\"2015-12-06T22:00:00\",\"2015-12-06T23:00:00\",\"2015-12-07T00:00:00\",\"2015-12-07T01:00:00\",\"2015-12-07T02:00:00\",\"2015-12-07T03:00:00\",\"2015-12-07T04:00:00\",\"2015-12-07T05:00:00\",\"2015-12-07T06:00:00\",\"2015-12-07T07:00:00\",\"2015-12-07T08:00:00\",\"2015-12-07T09:00:00\",\"2015-12-07T10:00:00\",\"2015-12-07T11:00:00\",\"2015-12-07T12:00:00\",\"2015-12-07T13:00:00\",\"2015-12-07T14:00:00\",\"2015-12-07T15:00:00\",\"2015-12-07T16:00:00\",\"2015-12-07T17:00:00\",\"2015-12-07T18:00:00\",\"2015-12-07T19:00:00\",\"2015-12-07T20:00:00\",\"2015-12-07T21:00:00\",\"2015-12-07T22:00:00\",\"2015-12-07T23:00:00\",\"2015-12-08T00:00:00\",\"2015-12-08T01:00:00\",\"2015-12-08T02:00:00\",\"2015-12-08T03:00:00\",\"2015-12-08T04:00:00\",\"2015-12-08T05:00:00\",\"2015-12-08T06:00:00\",\"2015-12-08T07:00:00\",\"2015-12-08T08:00:00\",\"2015-12-08T09:00:00\",\"2015-12-08T10:00:00\",\"2015-12-08T11:00:00\",\"2015-12-08T12:00:00\",\"2015-12-08T13:00:00\",\"2015-12-08T14:00:00\",\"2015-12-08T15:00:00\",\"2015-12-08T16:00:00\",\"2015-12-08T17:00:00\",\"2015-12-08T18:00:00\",\"2015-12-08T19:00:00\",\"2015-12-08T20:00:00\",\"2015-12-08T21:00:00\",\"2015-12-08T22:00:00\",\"2015-12-08T23:00:00\",\"2015-12-09T00:00:00\",\"2015-12-09T01:00:00\",\"2015-12-09T02:00:00\",\"2015-12-09T03:00:00\",\"2015-12-09T04:00:00\",\"2015-12-09T05:00:00\",\"2015-12-09T06:00:00\",\"2015-12-09T07:00:00\",\"2015-12-09T08:00:00\",\"2015-12-09T09:00:00\",\"2015-12-09T10:00:00\",\"2015-12-09T11:00:00\",\"2015-12-09T12:00:00\",\"2015-12-09T13:00:00\",\"2015-12-09T14:00:00\",\"2015-12-09T15:00:00\",\"2015-12-09T16:00:00\",\"2015-12-09T17:00:00\",\"2015-12-09T18:00:00\",\"2015-12-09T19:00:00\",\"2015-12-09T20:00:00\",\"2015-12-09T21:00:00\",\"2015-12-09T22:00:00\",\"2015-12-09T23:00:00\",\"2015-12-10T00:00:00\",\"2015-12-10T01:00:00\",\"2015-12-10T02:00:00\",\"2015-12-10T03:00:00\",\"2015-12-10T04:00:00\",\"2015-12-10T05:00:00\",\"2015-12-10T06:00:00\",\"2015-12-10T07:00:00\",\"2015-12-10T08:00:00\",\"2015-12-10T09:00:00\",\"2015-12-10T10:00:00\",\"2015-12-10T11:00:00\",\"2015-12-10T12:00:00\",\"2015-12-10T13:00:00\",\"2015-12-10T14:00:00\",\"2015-12-10T15:00:00\",\"2015-12-10T16:00:00\",\"2015-12-10T17:00:00\",\"2015-12-10T18:00:00\",\"2015-12-10T19:00:00\",\"2015-12-10T20:00:00\",\"2015-12-10T21:00:00\",\"2015-12-10T22:00:00\",\"2015-12-10T23:00:00\",\"2015-12-11T00:00:00\",\"2015-12-11T01:00:00\",\"2015-12-11T02:00:00\",\"2015-12-11T03:00:00\",\"2015-12-11T04:00:00\",\"2015-12-11T05:00:00\",\"2015-12-11T06:00:00\",\"2015-12-11T07:00:00\",\"2015-12-11T08:00:00\",\"2015-12-11T09:00:00\",\"2015-12-11T10:00:00\",\"2015-12-11T11:00:00\",\"2015-12-11T12:00:00\",\"2015-12-11T13:00:00\",\"2015-12-11T14:00:00\",\"2015-12-11T15:00:00\",\"2015-12-11T16:00:00\",\"2015-12-11T17:00:00\",\"2015-12-11T18:00:00\",\"2015-12-11T19:00:00\",\"2015-12-11T20:00:00\",\"2015-12-11T21:00:00\",\"2015-12-11T22:00:00\",\"2015-12-11T23:00:00\",\"2015-12-12T00:00:00\",\"2015-12-12T01:00:00\",\"2015-12-12T02:00:00\",\"2015-12-12T03:00:00\",\"2015-12-12T04:00:00\",\"2015-12-12T05:00:00\",\"2015-12-12T06:00:00\",\"2015-12-12T07:00:00\",\"2015-12-12T08:00:00\",\"2015-12-12T09:00:00\",\"2015-12-12T10:00:00\",\"2015-12-12T11:00:00\",\"2015-12-12T12:00:00\",\"2015-12-12T13:00:00\",\"2015-12-12T14:00:00\",\"2015-12-12T15:00:00\",\"2015-12-12T16:00:00\",\"2015-12-12T17:00:00\",\"2015-12-12T18:00:00\",\"2015-12-12T19:00:00\",\"2015-12-12T20:00:00\",\"2015-12-12T21:00:00\",\"2015-12-12T22:00:00\",\"2015-12-12T23:00:00\",\"2015-12-13T00:00:00\",\"2015-12-13T01:00:00\",\"2015-12-13T02:00:00\",\"2015-12-13T03:00:00\",\"2015-12-13T04:00:00\",\"2015-12-13T05:00:00\",\"2015-12-13T06:00:00\",\"2015-12-13T07:00:00\",\"2015-12-13T08:00:00\",\"2015-12-13T09:00:00\",\"2015-12-13T10:00:00\",\"2015-12-13T11:00:00\",\"2015-12-13T12:00:00\",\"2015-12-13T13:00:00\",\"2015-12-13T14:00:00\",\"2015-12-13T15:00:00\",\"2015-12-13T16:00:00\",\"2015-12-13T17:00:00\",\"2015-12-13T18:00:00\",\"2015-12-13T19:00:00\",\"2015-12-13T20:00:00\",\"2015-12-13T21:00:00\",\"2015-12-13T22:00:00\",\"2015-12-13T23:00:00\",\"2015-12-14T00:00:00\",\"2015-12-14T01:00:00\",\"2015-12-14T02:00:00\",\"2015-12-14T03:00:00\",\"2015-12-14T04:00:00\",\"2015-12-14T05:00:00\",\"2015-12-14T06:00:00\",\"2015-12-14T07:00:00\",\"2015-12-14T08:00:00\",\"2015-12-14T09:00:00\",\"2015-12-14T10:00:00\",\"2015-12-14T11:00:00\",\"2015-12-14T12:00:00\",\"2015-12-14T13:00:00\",\"2015-12-14T14:00:00\",\"2015-12-14T15:00:00\",\"2015-12-14T16:00:00\",\"2015-12-14T17:00:00\",\"2015-12-14T18:00:00\",\"2015-12-14T19:00:00\",\"2015-12-14T20:00:00\",\"2015-12-14T21:00:00\",\"2015-12-14T22:00:00\",\"2015-12-14T23:00:00\",\"2015-12-15T00:00:00\",\"2015-12-15T01:00:00\",\"2015-12-15T02:00:00\",\"2015-12-15T03:00:00\",\"2015-12-15T04:00:00\",\"2015-12-15T05:00:00\",\"2015-12-15T06:00:00\",\"2015-12-15T07:00:00\",\"2015-12-15T08:00:00\",\"2015-12-15T09:00:00\",\"2015-12-15T10:00:00\",\"2015-12-15T11:00:00\",\"2015-12-15T12:00:00\",\"2015-12-15T13:00:00\",\"2015-12-15T14:00:00\",\"2015-12-15T15:00:00\",\"2015-12-15T16:00:00\",\"2015-12-15T17:00:00\",\"2015-12-15T18:00:00\",\"2015-12-15T19:00:00\",\"2015-12-15T20:00:00\",\"2015-12-15T21:00:00\",\"2015-12-15T22:00:00\",\"2015-12-15T23:00:00\",\"2015-12-16T00:00:00\",\"2015-12-16T01:00:00\",\"2015-12-16T02:00:00\",\"2015-12-16T03:00:00\",\"2015-12-16T04:00:00\",\"2015-12-16T05:00:00\",\"2015-12-16T06:00:00\",\"2015-12-16T07:00:00\",\"2015-12-16T08:00:00\",\"2015-12-16T09:00:00\",\"2015-12-16T10:00:00\",\"2015-12-16T11:00:00\",\"2015-12-16T12:00:00\",\"2015-12-16T13:00:00\",\"2015-12-16T14:00:00\",\"2015-12-16T15:00:00\",\"2015-12-16T16:00:00\",\"2015-12-16T17:00:00\",\"2015-12-16T18:00:00\",\"2015-12-16T19:00:00\",\"2015-12-16T20:00:00\",\"2015-12-16T21:00:00\",\"2015-12-16T22:00:00\",\"2015-12-16T23:00:00\",\"2015-12-17T00:00:00\",\"2015-12-17T01:00:00\",\"2015-12-17T02:00:00\",\"2015-12-17T03:00:00\",\"2015-12-17T04:00:00\",\"2015-12-17T05:00:00\",\"2015-12-17T06:00:00\",\"2015-12-17T07:00:00\",\"2015-12-17T08:00:00\",\"2015-12-17T09:00:00\",\"2015-12-17T10:00:00\",\"2015-12-17T11:00:00\",\"2015-12-17T12:00:00\",\"2015-12-17T13:00:00\",\"2015-12-17T14:00:00\",\"2015-12-17T15:00:00\",\"2015-12-17T16:00:00\",\"2015-12-17T17:00:00\",\"2015-12-17T18:00:00\",\"2015-12-17T19:00:00\",\"2015-12-17T20:00:00\",\"2015-12-17T21:00:00\",\"2015-12-17T22:00:00\",\"2015-12-17T23:00:00\"],\"y\":[0.9498692977979999,0.9277888828090001,0.94674825506,0.63409285059,0.42023027615799996,0.718794492195,1.871007797067,1.2273514921709998,0.906527938618,0.5651195942739999,0.572043842448,0.5638832696459999,0.5717122113559999,0.559093201059,0.573889458368,0.479531989282,0.718637264242,0.5034476775410001,1.267569102931,0.7544080495209999,0.7521499445840001,1.0167203323640002,0.622134746959,0.7557137011860001,0.416238753648,0.7435655633770001,1.0946756588850002,1.127436823416,1.1371340711440001,1.122720719024,1.1514937815670003,1.1619213528989998,2.476886250511,2.296568643853,1.830192574062,0.693862653815,1.052751619635,1.418004934691,0.9163431359700001,0.743956287268,0.5311277850450001,0.7859068239170001,1.863878566809,1.8885453728659998,1.584263332533,0.9028835703970001,0.944757207744,0.5426657933990001,0.403965301711,0.41606720976899997,0.408503038886,0.41751356443199994,0.40695163417399993,0.702144277165,1.2371735731490001,0.9609378954429999,1.848829149013,2.414559963078,1.548029307899,0.7037037436300001,0.9380891205659999,0.6274441500029999,1.487736730285,0.579710772759,0.790126394972,1.203591769184,2.1059200404319998,1.275226502469,0.821919532238,1.5878371901460002,1.2671585417459998,1.4163363220140002,1.6938798186899997,1.5254844862749997,1.3612786775420003,1.5707030391809997,1.4234894970639997,1.7428141913,2.875564722161,2.3559472348690003,1.3920907957050002,0.6193205988770001,0.582945343378,0.666667367513,0.661135750839,0.6642929640890001,1.0464998445409999,0.5765207572269999,1.2913738692190002,1.8216196842669998,2.2221741444929997,1.220978268212,1.448318006679,1.826687609054,1.686750011059,1.7132011926440003,1.459305003688,1.393879924729,1.378492856334,1.4198036572189998,1.403177722539,1.4050652510739998,2.6502639828560004,1.3472311368830001,1.169661102592,0.896093342108,0.853010993496,0.855246286123,0.85364192675,1.157398287728,0.897900803479,1.2273823165139999,1.186160920916,1.1753701508049998,1.7154693561999999,1.7966457857180003,1.466529984713,1.8098145762509998,1.660698560161,1.207872010173,1.3183312587959999,1.680215627723,1.7312977674880001,1.652117244842,1.612303834832,1.634872557185,2.9689954888090004,1.599893327546,1.2531168881030001,1.6271055299140003,1.3529826602360002,1.3537280788200001,1.3259627356719998,1.3477669381969999,1.386131301652,1.259486455025,1.200079233273,1.1751744180930002,2.02771466978,1.554612252577,1.7718813295259996,1.8254412490629996,1.336999306329,1.190385531267,1.128756305898,1.1342001813290001,1.4725256943980003,1.138044872203,1.1362439270100002,1.14442800594,2.6672422043400004,1.89321409298,1.22829645278,1.311277889883,1.2888982092019998,1.299164284036,1.637894255441,1.280877683593,1.3179027677680004,1.201978127184,1.135216552204,1.171238426685,1.772415555484,1.6227266226640003,1.4283137198730003,1.7788230320129998,1.5948011552979997,1.143076109206,1.1177775106170003,1.118660583155,1.1356219696379999,1.1137438792,1.132810412918,1.1076912007119997,2.6275975590950007,1.7382582955369998,1.192411045468,1.2152140382540002,1.309266381939,1.268403086377,1.2821148952519998,1.272398177147,1.2024625028689997,1.5661101499219998,1.118353477871,1.12748054692,2.008957102806,1.478071204028,1.4455324986289997,1.743977770075,1.3140229386380002,1.492445259087,1.0959923972869998,1.134717306002,1.115602700044,1.126129043016,1.120294327864,1.120538581914,1.1207610274659998,1.115014817884,2.753090679956,2.856249651971,2.428693450512,1.3826037846280002,1.6654707378640001,2.2590623911630003,1.869111494384,1.272940449916,1.2464210834479998,1.468188010234,2.279229907668,2.6946507108309996,2.3115589100480003,1.8476256872019998,1.890779526425,1.38091952085,1.373295628416,1.131459260995,1.117311379138,1.127764061285,1.125138157398,1.1208616508520002,1.1280074029299998,1.116975802,2.639949355712,3.09304043995,2.390264294488,1.2293593512440002,1.530979433528,1.4976141605740003,2.2303065781990004,1.407818209151,1.2843717302570001,1.258690057976,2.119232963646,1.979968516742,1.391752873838,1.8002103627000001,1.4063880202060002,1.4780991840109998,1.1500002742120001,1.164990358555,1.1708707906500002,1.1540358345939998,1.175126133959,1.191538269393,2.7814928856520003,2.5751302377549994,1.9751403985020004,1.1608305900779998,1.163907036426,1.1650718865049998,1.157244970655,1.171813629138,1.1501375047000002,1.191498596563,1.468566409268,1.6146678927299998,2.2751428919049994,2.135181026321,1.531649197634,1.76187593898,1.628556159158,1.128062514403,1.100972367025,1.406360846695,1.48959723609,1.276073938274,1.8806290698750001,1.3088987967560002,2.6174906024010003,2.0030623275359996,1.94053547254,1.273919665217,1.4740097708829998,1.6575901232449999,1.284233659316,1.1091282530200002,1.435606781023,1.181490035623,1.724754047652,1.544928533827,1.5383517591450002,1.802503387606,1.490597302228,1.8105260305039999,1.968324422002,1.3331312711880001,1.113807909672,1.1485354390259999,1.4493451773359998,1.144656975858,1.1206720086870001,1.579268416762,2.767952262734,2.022733621658,1.3262363779640003,1.10811244798,1.1431509835059999,1.384193849114,1.1158273521889999,1.110796949995,1.115762090258,1.265253204139,1.106745324129,1.1110337118609999,1.9350009335740002,2.1278818033969995,2.7619284403149997,2.4220036431549996,1.9504277368160001,1.5318246004190004,1.0826187664420002,1.120647502581,1.165784455585,1.1328787709200001,1.1015214898500003,1.2670380366729999,2.723785168776,2.351884526053,1.914164574451,1.5555017944490002,1.2663685891510001,1.2935305007920002,1.280645815887,1.297679111121,1.264401242277,1.1339479386750002,1.4444565231410003,1.160329039064,1.5301264918370001,1.5605004498909998,1.6513330847069998,1.626576198611,1.732750018465,1.161250384241,1.096506040112,1.161985794168,1.567273621123,1.6568261188509998,1.4868509896339999,1.4635973997990002,2.677894739038,1.999754374862,1.241192636352,1.3581138154730001,1.6060713871739998,1.294751894068,1.28196119272,1.3157284736370005,1.703924604341,1.2067309499580001,1.149090924386,1.165605452159,1.958414958788,1.6313691235139998,1.472319271365,1.8115001412439997,1.352283416818,1.5668771143949998,1.1402802959760001,1.307052435521,1.8045247537789997,2.1104050670679997,1.8361320382400002,1.9433835330429998,1.9259248022949997,1.706646983449,3.288176819058,3.0630786788149997,2.6175244666129998,1.4789110325719999,1.935192779091,2.115073724877,1.41864235233,1.4010218711529998,1.2930219250339998,1.6630929086149997,2.479041436279,2.6594066937690006,2.116374721514,1.623761629553,1.6922092292070001,1.277781304236,1.1497709816610002,1.1503282296899997,1.16429155257,1.14945316168,1.4002200131979996,1.229282865714,1.9159301482259998,2.0646710125410004,3.0050152602080002,3.2082686737899997,2.4000247404420003,1.444692488286,1.8391671755690004,1.510150406646,2.2165359217539997,1.3261458771919998,1.2644074201870001,1.251230993757,2.101638186299,1.4181670406570004,1.377302290858,1.6833990314369998,1.338738781752,1.2198630222090001,1.3965802133949998,1.1671200280490002,1.148078483193,1.1587989088419999,1.142900685734,1.155179593357,2.5828428690719996,2.095288736904,1.2544017826859999,1.3127338928330003,1.3130049237140002,1.309373316028,1.493489490229,1.59403205307,1.2728555512389998,1.195619821483,1.1116660622280001,1.108065718136,2.0051475845,1.5178347931480003,1.443000420796,1.7002776994909998,1.2650491875599998,1.1611109106900002,1.090923787434,1.4258493674030002,1.112900274239,1.124564136494,1.133799660701,1.097227729599,2.585968000267,1.8173758371520001,1.2909888694529998,1.649825298039,1.6428035946200001,1.3034869082549998,1.266149586977,1.2750379010079997,1.116025925077,1.511658943489,1.4243322995939998,1.1091814356810001,1.5682707412559997,1.762776033251,1.421780872468,1.7277844346900002,1.64709396939,1.1401315158049996,1.095963204762,1.131836338188,1.098244125122,1.1249653187,1.096871907223,1.275535010539,3.010568690625,1.5850947875359997,1.330730208772,1.694919769866,1.605416034546,1.4325832170109998,1.287236704222,1.4046151007140002,1.198180897952,1.521788224514,1.5784075524740002,1.2692510873879999,2.0948061578059995,1.8972599690060001,2.125825757747,2.2360493904880006,2.007671559598,1.147401783148,0.0,0.0,0.0,0.0,0.0,0.0,0.0,0.0,0.0,0.0,0.0,0.0,0.0,0.0,0.0,0.0,0.0,1.128460901572,1.507381452178,1.643893916073,1.5087299027630001,1.67858184694,1.636176521214,1.1337280627739998,1.090494982875,1.103319964283,1.112095409036,1.0941638266829998,1.1106992064149999,1.0902584358910001,2.639512289442,1.877800588306,1.1773761498409998,1.1506166635060002,1.1143810554560003,1.2607175179239998,1.23593900938,1.447379710898,1.14002002886,1.2770574857619998,1.099888166933,1.125127689367,2.0417396610119996,1.829967756322,1.431116836585,1.801084073879,1.451016731511,1.395393576305,1.1027285413080001,1.114089519448,1.422055371332,1.1104162074319999,1.126499977118,1.101088263459,1.122889940026,1.103201997632,2.575845126914,3.039587996094,2.5787128487349995,1.40034691763,1.7577650691659998,2.5580103120069997,2.1057227188479994,1.414041524498,1.2173526747349999,1.4681613459909997,2.3679092918439997,2.564286836824,2.4141721303719996,1.5545698011340001,1.7260508482,1.219314312859,1.209555181022,1.2659026834570002,1.1175076425440003,1.099484917413,1.114699103737,1.0996345445740001,1.1124090653760002,1.095435328514,2.543393119708,3.0712950264850005,2.4679114260240005,1.6502019881719998,2.16854704511,2.0354902807969997,2.899215023614,1.7542361992639999,1.3553436871839997,1.207845586203,2.3490788077389997,1.990188535863,1.6009721606979999,1.8418479565649997,1.419656407056,1.1628238155839998,1.078815446007,1.4064110109099996,1.099601820954,1.1794497235930002,1.10911074615,1.096714908093,2.640941669283,2.6189368210540005,1.6275931796720002,1.095398116549,1.1207256922609998,1.192969477618,1.3937993799679997,1.5209908927870002,1.3716110194849997,1.3328307988719998,1.109724585144,1.2348686105239999,2.3333079125239995,2.064758500274,2.1827455829969997,1.841637128002,1.7883144268420001,1.3448153422769997,1.22433794663,1.1305758826120003,1.167437529572,1.138335040674,1.1107527788819997,1.45809993527,2.7675620639219995,2.251913416256,1.848729532147,1.203658595169,1.2956814089000002,0.946440373073,0.7549254279780001,0.691378275559,0.99048789637,0.664823270967,0.8718711131610002,0.443206605188,0.8218272627490001,1.003723447721,0.798113721645,1.0546545879219997,1.077436846078,0.455921560771,0.41972493213900003,0.425755582828,0.435434933897,0.40612708724700003,0.469929127241,0.477840577386,2.0069636264410002,1.0521983295289998,0.772769128703,0.51748403379,0.882336159146,0.783342080292,0.5923892962000001,0.6094100450569999,0.578226779009,0.505649480141,0.41695138549099997,0.42911992487000006,1.300220272056,1.0573697187260003,1.232209337658,1.446723593812,0.6062299124770001,0.473526351078,0.402861108722,0.4231530091599999,0.400721486427,0.6742235981270001,0.5144266423209999,0.419660816118,1.939785701102,1.3439398364119999,0.514927848465,0.41987179956599996,0.638860681987,1.1086327463490002,0.693649992735,0.7447666991490001,0.578620881431,0.6805632523340001,0.6024842437619999,1.0805544222519998,0.818799406765,0.9019926526479999,0.929487232463,1.0534435220100002,1.2408893013439999,1.0935276180190001],\"type\":\"scattergl\"},{\"line\":{\"color\":\"rgb(234,143,129)\"},\"name\":\"Observed\",\"x\":[\"2015-12-18T00:00:00\",\"2015-12-18T01:00:00\",\"2015-12-18T02:00:00\",\"2015-12-18T03:00:00\",\"2015-12-18T04:00:00\",\"2015-12-18T05:00:00\",\"2015-12-18T06:00:00\",\"2015-12-18T07:00:00\",\"2015-12-18T08:00:00\",\"2015-12-18T09:00:00\",\"2015-12-18T10:00:00\",\"2015-12-18T11:00:00\",\"2015-12-18T12:00:00\",\"2015-12-18T13:00:00\",\"2015-12-18T14:00:00\",\"2015-12-18T15:00:00\",\"2015-12-18T16:00:00\",\"2015-12-18T17:00:00\",\"2015-12-18T18:00:00\",\"2015-12-18T19:00:00\",\"2015-12-18T20:00:00\",\"2015-12-18T21:00:00\",\"2015-12-18T22:00:00\",\"2015-12-18T23:00:00\",\"2015-12-19T00:00:00\",\"2015-12-19T01:00:00\",\"2015-12-19T02:00:00\",\"2015-12-19T03:00:00\",\"2015-12-19T04:00:00\",\"2015-12-19T05:00:00\",\"2015-12-19T06:00:00\",\"2015-12-19T07:00:00\",\"2015-12-19T08:00:00\",\"2015-12-19T09:00:00\",\"2015-12-19T10:00:00\",\"2015-12-19T11:00:00\",\"2015-12-19T12:00:00\",\"2015-12-19T13:00:00\",\"2015-12-19T14:00:00\",\"2015-12-19T15:00:00\",\"2015-12-19T16:00:00\",\"2015-12-19T17:00:00\",\"2015-12-19T18:00:00\",\"2015-12-19T19:00:00\",\"2015-12-19T20:00:00\",\"2015-12-19T21:00:00\",\"2015-12-19T22:00:00\",\"2015-12-19T23:00:00\",\"2015-12-20T00:00:00\",\"2015-12-20T01:00:00\",\"2015-12-20T02:00:00\",\"2015-12-20T03:00:00\",\"2015-12-20T04:00:00\",\"2015-12-20T05:00:00\",\"2015-12-20T06:00:00\",\"2015-12-20T07:00:00\",\"2015-12-20T08:00:00\",\"2015-12-20T09:00:00\",\"2015-12-20T10:00:00\",\"2015-12-20T11:00:00\",\"2015-12-20T12:00:00\",\"2015-12-20T13:00:00\",\"2015-12-20T14:00:00\",\"2015-12-20T15:00:00\",\"2015-12-20T16:00:00\",\"2015-12-20T17:00:00\",\"2015-12-20T18:00:00\",\"2015-12-20T19:00:00\",\"2015-12-20T20:00:00\",\"2015-12-20T21:00:00\",\"2015-12-20T22:00:00\",\"2015-12-20T23:00:00\"],\"y\":[0.7541809214429999,0.7405540596239999,0.85679516276,0.8153294508250001,0.923195197747,1.192840526596,1.9721853660739999,1.3659582945979998,1.6204675533100001,1.1053420365839999,0.9832868103860001,1.2545410277590001,0.9215709751969999,0.8991514992149998,0.989592912681,1.156313675008,1.2589020911460003,1.383499256833,1.8167444349059998,1.495756265267,1.0886247761719998,1.732380454593,1.4535980479720003,1.426739098671,1.827459596978,1.4817598151349998,1.522759090537,1.5282830785800001,1.517923285094,1.697016412207,1.500882257105,1.640961358744,1.94347992613,1.991435066095,1.597176767809,0.548092850175,1.090159784579,1.8809360195929998,1.396902969872,0.728544577852,0.708386058482,1.733997208685,2.4822865580299998,2.699338353268,2.341466422387,1.4239454394009998,1.6914244522569999,1.4335302476629999,2.044122925518,1.557887882224,1.699244672919,1.5032932091880002,1.6642570686509996,1.825291441007,1.6145604625599999,1.688437537798,2.936511487015,2.536843478219,1.7546387039509999,0.707467231342,1.091807183645,0.775912127476,1.5324791360499999,0.5733890050699999,0.545139434205,0.49408517317300005,1.2853109960169997,1.446925645715,1.2506394000319998,1.505948651618,1.1393016157520002,1.1918020737680002],\"type\":\"scattergl\"},{\"line\":{\"color\":\"rgb(32,115,171)\"},\"name\":\"Predicted\",\"x\":[\"2015-12-18T00:00:00\",\"2015-12-18T01:00:00\",\"2015-12-18T02:00:00\",\"2015-12-18T03:00:00\",\"2015-12-18T04:00:00\",\"2015-12-18T05:00:00\",\"2015-12-18T06:00:00\",\"2015-12-18T07:00:00\",\"2015-12-18T08:00:00\",\"2015-12-18T09:00:00\",\"2015-12-18T10:00:00\",\"2015-12-18T11:00:00\",\"2015-12-18T12:00:00\",\"2015-12-18T13:00:00\",\"2015-12-18T14:00:00\",\"2015-12-18T15:00:00\",\"2015-12-18T16:00:00\",\"2015-12-18T17:00:00\",\"2015-12-18T18:00:00\",\"2015-12-18T19:00:00\",\"2015-12-18T20:00:00\",\"2015-12-18T21:00:00\",\"2015-12-18T22:00:00\",\"2015-12-18T23:00:00\",\"2015-12-19T00:00:00\",\"2015-12-19T01:00:00\",\"2015-12-19T02:00:00\",\"2015-12-19T03:00:00\",\"2015-12-19T04:00:00\",\"2015-12-19T05:00:00\",\"2015-12-19T06:00:00\",\"2015-12-19T07:00:00\",\"2015-12-19T08:00:00\",\"2015-12-19T09:00:00\",\"2015-12-19T10:00:00\",\"2015-12-19T11:00:00\",\"2015-12-19T12:00:00\",\"2015-12-19T13:00:00\",\"2015-12-19T14:00:00\",\"2015-12-19T15:00:00\",\"2015-12-19T16:00:00\",\"2015-12-19T17:00:00\",\"2015-12-19T18:00:00\",\"2015-12-19T19:00:00\",\"2015-12-19T20:00:00\",\"2015-12-19T21:00:00\",\"2015-12-19T22:00:00\",\"2015-12-19T23:00:00\",\"2015-12-20T00:00:00\",\"2015-12-20T01:00:00\",\"2015-12-20T02:00:00\",\"2015-12-20T03:00:00\",\"2015-12-20T04:00:00\",\"2015-12-20T05:00:00\",\"2015-12-20T06:00:00\",\"2015-12-20T07:00:00\",\"2015-12-20T08:00:00\",\"2015-12-20T09:00:00\",\"2015-12-20T10:00:00\",\"2015-12-20T11:00:00\",\"2015-12-20T12:00:00\",\"2015-12-20T13:00:00\",\"2015-12-20T14:00:00\",\"2015-12-20T15:00:00\",\"2015-12-20T16:00:00\",\"2015-12-20T17:00:00\",\"2015-12-20T18:00:00\",\"2015-12-20T19:00:00\",\"2015-12-20T20:00:00\",\"2015-12-20T21:00:00\",\"2015-12-20T22:00:00\",\"2015-12-20T23:00:00\",\"2015-12-21T00:00:00\"],\"y\":[1.1564251081734929,1.1072730121412873,1.0735904737240052,1.0106665881500387,1.1688382754851476,1.0878072390931113,1.8291422798397194,1.4524724556441475,1.293544345283686,1.2126580758276282,1.1931212758435825,1.3116676399174092,1.367358491310436,1.4167934123617758,1.1662700520609,1.4131985584692832,1.298644390874221,1.2643080372843256,1.6901168963616122,1.5600800304793596,1.4397623827898034,1.5123864039186636,1.477368266770165,1.3357313932049906,1.3246106845530468,1.1983295889038355,1.2469395984288127,0.9081777504271759,1.0655420957879742,0.956047801712751,1.0336992855906284,1.0295972005999903,1.6078823106084839,1.9148818069894815,1.8175653733298467,1.3533110222557805,1.4944411648411664,1.9072074209496224,1.9044948536737225,1.3637378166908296,1.3587980660151628,1.3407491443216373,1.7134886773625775,1.7755182667214966,1.8828048569342963,1.4591178355567451,1.6010163170591476,1.3254371011314907,1.4315350457647238,1.3597382175363004,1.3300640645908717,1.264116406138477,1.254048085281323,1.2162708517039436,1.0258997061887905,0.9254251458106848,1.7075655374317096,1.9182493495189847,1.8384639973879935,1.4803305865665901,1.7456814636743991,1.731194074202667,2.1211844592926212,1.6176876870148924,1.4341822996198306,1.257570842179306,1.7787054628451653,1.7694662290307348,1.554367415550133,1.5454243428046464,1.4325964041018904,1.2637254955727597,1.143574055214641],\"type\":\"scattergl\"}],                        {\"template\":{\"data\":{\"barpolar\":[{\"marker\":{\"line\":{\"color\":\"#E5ECF6\",\"width\":0.5},\"pattern\":{\"fillmode\":\"overlay\",\"size\":10,\"solidity\":0.2}},\"type\":\"barpolar\"}],\"bar\":[{\"error_x\":{\"color\":\"#2a3f5f\"},\"error_y\":{\"color\":\"#2a3f5f\"},\"marker\":{\"line\":{\"color\":\"#E5ECF6\",\"width\":0.5},\"pattern\":{\"fillmode\":\"overlay\",\"size\":10,\"solidity\":0.2}},\"type\":\"bar\"}],\"carpet\":[{\"aaxis\":{\"endlinecolor\":\"#2a3f5f\",\"gridcolor\":\"white\",\"linecolor\":\"white\",\"minorgridcolor\":\"white\",\"startlinecolor\":\"#2a3f5f\"},\"baxis\":{\"endlinecolor\":\"#2a3f5f\",\"gridcolor\":\"white\",\"linecolor\":\"white\",\"minorgridcolor\":\"white\",\"startlinecolor\":\"#2a3f5f\"},\"type\":\"carpet\"}],\"choropleth\":[{\"colorbar\":{\"outlinewidth\":0,\"ticks\":\"\"},\"type\":\"choropleth\"}],\"contourcarpet\":[{\"colorbar\":{\"outlinewidth\":0,\"ticks\":\"\"},\"type\":\"contourcarpet\"}],\"contour\":[{\"colorbar\":{\"outlinewidth\":0,\"ticks\":\"\"},\"colorscale\":[[0.0,\"#0d0887\"],[0.1111111111111111,\"#46039f\"],[0.2222222222222222,\"#7201a8\"],[0.3333333333333333,\"#9c179e\"],[0.4444444444444444,\"#bd3786\"],[0.5555555555555556,\"#d8576b\"],[0.6666666666666666,\"#ed7953\"],[0.7777777777777778,\"#fb9f3a\"],[0.8888888888888888,\"#fdca26\"],[1.0,\"#f0f921\"]],\"type\":\"contour\"}],\"heatmapgl\":[{\"colorbar\":{\"outlinewidth\":0,\"ticks\":\"\"},\"colorscale\":[[0.0,\"#0d0887\"],[0.1111111111111111,\"#46039f\"],[0.2222222222222222,\"#7201a8\"],[0.3333333333333333,\"#9c179e\"],[0.4444444444444444,\"#bd3786\"],[0.5555555555555556,\"#d8576b\"],[0.6666666666666666,\"#ed7953\"],[0.7777777777777778,\"#fb9f3a\"],[0.8888888888888888,\"#fdca26\"],[1.0,\"#f0f921\"]],\"type\":\"heatmapgl\"}],\"heatmap\":[{\"colorbar\":{\"outlinewidth\":0,\"ticks\":\"\"},\"colorscale\":[[0.0,\"#0d0887\"],[0.1111111111111111,\"#46039f\"],[0.2222222222222222,\"#7201a8\"],[0.3333333333333333,\"#9c179e\"],[0.4444444444444444,\"#bd3786\"],[0.5555555555555556,\"#d8576b\"],[0.6666666666666666,\"#ed7953\"],[0.7777777777777778,\"#fb9f3a\"],[0.8888888888888888,\"#fdca26\"],[1.0,\"#f0f921\"]],\"type\":\"heatmap\"}],\"histogram2dcontour\":[{\"colorbar\":{\"outlinewidth\":0,\"ticks\":\"\"},\"colorscale\":[[0.0,\"#0d0887\"],[0.1111111111111111,\"#46039f\"],[0.2222222222222222,\"#7201a8\"],[0.3333333333333333,\"#9c179e\"],[0.4444444444444444,\"#bd3786\"],[0.5555555555555556,\"#d8576b\"],[0.6666666666666666,\"#ed7953\"],[0.7777777777777778,\"#fb9f3a\"],[0.8888888888888888,\"#fdca26\"],[1.0,\"#f0f921\"]],\"type\":\"histogram2dcontour\"}],\"histogram2d\":[{\"colorbar\":{\"outlinewidth\":0,\"ticks\":\"\"},\"colorscale\":[[0.0,\"#0d0887\"],[0.1111111111111111,\"#46039f\"],[0.2222222222222222,\"#7201a8\"],[0.3333333333333333,\"#9c179e\"],[0.4444444444444444,\"#bd3786\"],[0.5555555555555556,\"#d8576b\"],[0.6666666666666666,\"#ed7953\"],[0.7777777777777778,\"#fb9f3a\"],[0.8888888888888888,\"#fdca26\"],[1.0,\"#f0f921\"]],\"type\":\"histogram2d\"}],\"histogram\":[{\"marker\":{\"pattern\":{\"fillmode\":\"overlay\",\"size\":10,\"solidity\":0.2}},\"type\":\"histogram\"}],\"mesh3d\":[{\"colorbar\":{\"outlinewidth\":0,\"ticks\":\"\"},\"type\":\"mesh3d\"}],\"parcoords\":[{\"line\":{\"colorbar\":{\"outlinewidth\":0,\"ticks\":\"\"}},\"type\":\"parcoords\"}],\"pie\":[{\"automargin\":true,\"type\":\"pie\"}],\"scatter3d\":[{\"line\":{\"colorbar\":{\"outlinewidth\":0,\"ticks\":\"\"}},\"marker\":{\"colorbar\":{\"outlinewidth\":0,\"ticks\":\"\"}},\"type\":\"scatter3d\"}],\"scattercarpet\":[{\"marker\":{\"colorbar\":{\"outlinewidth\":0,\"ticks\":\"\"}},\"type\":\"scattercarpet\"}],\"scattergeo\":[{\"marker\":{\"colorbar\":{\"outlinewidth\":0,\"ticks\":\"\"}},\"type\":\"scattergeo\"}],\"scattergl\":[{\"marker\":{\"colorbar\":{\"outlinewidth\":0,\"ticks\":\"\"}},\"type\":\"scattergl\"}],\"scattermapbox\":[{\"marker\":{\"colorbar\":{\"outlinewidth\":0,\"ticks\":\"\"}},\"type\":\"scattermapbox\"}],\"scatterpolargl\":[{\"marker\":{\"colorbar\":{\"outlinewidth\":0,\"ticks\":\"\"}},\"type\":\"scatterpolargl\"}],\"scatterpolar\":[{\"marker\":{\"colorbar\":{\"outlinewidth\":0,\"ticks\":\"\"}},\"type\":\"scatterpolar\"}],\"scatter\":[{\"fillpattern\":{\"fillmode\":\"overlay\",\"size\":10,\"solidity\":0.2},\"type\":\"scatter\"}],\"scatterternary\":[{\"marker\":{\"colorbar\":{\"outlinewidth\":0,\"ticks\":\"\"}},\"type\":\"scatterternary\"}],\"surface\":[{\"colorbar\":{\"outlinewidth\":0,\"ticks\":\"\"},\"colorscale\":[[0.0,\"#0d0887\"],[0.1111111111111111,\"#46039f\"],[0.2222222222222222,\"#7201a8\"],[0.3333333333333333,\"#9c179e\"],[0.4444444444444444,\"#bd3786\"],[0.5555555555555556,\"#d8576b\"],[0.6666666666666666,\"#ed7953\"],[0.7777777777777778,\"#fb9f3a\"],[0.8888888888888888,\"#fdca26\"],[1.0,\"#f0f921\"]],\"type\":\"surface\"}],\"table\":[{\"cells\":{\"fill\":{\"color\":\"#EBF0F8\"},\"line\":{\"color\":\"white\"}},\"header\":{\"fill\":{\"color\":\"#C8D4E3\"},\"line\":{\"color\":\"white\"}},\"type\":\"table\"}]},\"layout\":{\"annotationdefaults\":{\"arrowcolor\":\"#2a3f5f\",\"arrowhead\":0,\"arrowwidth\":1},\"autotypenumbers\":\"strict\",\"coloraxis\":{\"colorbar\":{\"outlinewidth\":0,\"ticks\":\"\"}},\"colorscale\":{\"diverging\":[[0,\"#8e0152\"],[0.1,\"#c51b7d\"],[0.2,\"#de77ae\"],[0.3,\"#f1b6da\"],[0.4,\"#fde0ef\"],[0.5,\"#f7f7f7\"],[0.6,\"#e6f5d0\"],[0.7,\"#b8e186\"],[0.8,\"#7fbc41\"],[0.9,\"#4d9221\"],[1,\"#276419\"]],\"sequential\":[[0.0,\"#0d0887\"],[0.1111111111111111,\"#46039f\"],[0.2222222222222222,\"#7201a8\"],[0.3333333333333333,\"#9c179e\"],[0.4444444444444444,\"#bd3786\"],[0.5555555555555556,\"#d8576b\"],[0.6666666666666666,\"#ed7953\"],[0.7777777777777778,\"#fb9f3a\"],[0.8888888888888888,\"#fdca26\"],[1.0,\"#f0f921\"]],\"sequentialminus\":[[0.0,\"#0d0887\"],[0.1111111111111111,\"#46039f\"],[0.2222222222222222,\"#7201a8\"],[0.3333333333333333,\"#9c179e\"],[0.4444444444444444,\"#bd3786\"],[0.5555555555555556,\"#d8576b\"],[0.6666666666666666,\"#ed7953\"],[0.7777777777777778,\"#fb9f3a\"],[0.8888888888888888,\"#fdca26\"],[1.0,\"#f0f921\"]]},\"colorway\":[\"#636efa\",\"#EF553B\",\"#00cc96\",\"#ab63fa\",\"#FFA15A\",\"#19d3f3\",\"#FF6692\",\"#B6E880\",\"#FF97FF\",\"#FECB52\"],\"font\":{\"color\":\"#2a3f5f\"},\"geo\":{\"bgcolor\":\"white\",\"lakecolor\":\"white\",\"landcolor\":\"#E5ECF6\",\"showlakes\":true,\"showland\":true,\"subunitcolor\":\"white\"},\"hoverlabel\":{\"align\":\"left\"},\"hovermode\":\"closest\",\"mapbox\":{\"style\":\"light\"},\"paper_bgcolor\":\"white\",\"plot_bgcolor\":\"#E5ECF6\",\"polar\":{\"angularaxis\":{\"gridcolor\":\"white\",\"linecolor\":\"white\",\"ticks\":\"\"},\"bgcolor\":\"#E5ECF6\",\"radialaxis\":{\"gridcolor\":\"white\",\"linecolor\":\"white\",\"ticks\":\"\"}},\"scene\":{\"xaxis\":{\"backgroundcolor\":\"#E5ECF6\",\"gridcolor\":\"white\",\"gridwidth\":2,\"linecolor\":\"white\",\"showbackground\":true,\"ticks\":\"\",\"zerolinecolor\":\"white\"},\"yaxis\":{\"backgroundcolor\":\"#E5ECF6\",\"gridcolor\":\"white\",\"gridwidth\":2,\"linecolor\":\"white\",\"showbackground\":true,\"ticks\":\"\",\"zerolinecolor\":\"white\"},\"zaxis\":{\"backgroundcolor\":\"#E5ECF6\",\"gridcolor\":\"white\",\"gridwidth\":2,\"linecolor\":\"white\",\"showbackground\":true,\"ticks\":\"\",\"zerolinecolor\":\"white\"}},\"shapedefaults\":{\"line\":{\"color\":\"#2a3f5f\"}},\"ternary\":{\"aaxis\":{\"gridcolor\":\"white\",\"linecolor\":\"white\",\"ticks\":\"\"},\"baxis\":{\"gridcolor\":\"white\",\"linecolor\":\"white\",\"ticks\":\"\"},\"bgcolor\":\"#E5ECF6\",\"caxis\":{\"gridcolor\":\"white\",\"linecolor\":\"white\",\"ticks\":\"\"}},\"title\":{\"x\":0.05},\"xaxis\":{\"automargin\":true,\"gridcolor\":\"white\",\"linecolor\":\"white\",\"ticks\":\"\",\"title\":{\"standoff\":15},\"zerolinecolor\":\"white\",\"zerolinewidth\":2},\"yaxis\":{\"automargin\":true,\"gridcolor\":\"white\",\"linecolor\":\"white\",\"ticks\":\"\",\"title\":{\"standoff\":15},\"zerolinecolor\":\"white\",\"zerolinewidth\":2}}},\"yaxis\":{\"title\":{\"text\":\"Fixed Consumption [kWh]\"}},\"legend\":{\"orientation\":\"h\",\"yanchor\":\"bottom\",\"y\":1,\"xanchor\":\"left\",\"x\":0}},                        {\"responsive\": true}                    ).then(function(){\n                            \nvar gd = document.getElementById('c34a878c-0479-4a9a-bd26-e316ce43d4cb');\nvar x = new MutationObserver(function (mutations, observer) {{\n        var display = window.getComputedStyle(gd).display;\n        if (!display || display === 'none') {{\n            console.log([gd, 'removed!']);\n            Plotly.purge(gd);\n            observer.disconnect();\n        }}\n}});\n\n// Listen for the removal of the full notebook cells\nvar notebookContainer = gd.closest('#notebook-container');\nif (notebookContainer) {{\n    x.observe(notebookContainer, {childList: true});\n}}\n\n// Listen for the clearing of the current output cell\nvar outputEl = gd.closest('.output');\nif (outputEl) {{\n    x.observe(outputEl, {childList: true});\n}}\n\n                        })                };                });            </script>        </div>"
     },
     "metadata": {},
     "output_type": "display_data"
    }
   ],
   "source": [
    "\n",
    "fig = go.Figure(go.Scattergl(\n",
    "    x=test[start_train: end_train].index,\n",
    "    y=test['Consumed Energy'][start_train: end_train],\n",
    "    name=\"Training Data\",\n",
    "    line=dict(color='rgb(84, 84, 84)')\n",
    "))\n",
    "\n",
    "fig.add_trace(go.Scattergl(\n",
    "    x=test[start_test: end_test].index,\n",
    "    y=test['Consumed Energy'][start_test: end_test],\n",
    "    name=\"Observed\",\n",
    "    line=dict(color='rgb(234,143,129)')\n",
    "))\n",
    "\n",
    "fig.add_trace(go.Scattergl(\n",
    "    x=predictions.index,\n",
    "    y=predictions[\"predicted_mean\"],\n",
    "    name=\"Predicted\",\n",
    "    line=dict(color='rgb(32,115,171)')\n",
    "))\n",
    "\n",
    "fig.update_yaxes(title=\"Fixed Consumption [kWh]\")\n",
    "fig.update_layout(template=\"plotly\",\n",
    "                  legend=dict(orientation=\"h\",\n",
    "                              yanchor=\"bottom\",\n",
    "                              y=1,\n",
    "                              xanchor=\"left\",\n",
    "                              x=0))\n",
    "\n",
    "fig.write_html(\"ARIMA_figs/best_consumption_arima_NEW.html\")\n",
    "fig.show()"
   ],
   "metadata": {
    "collapsed": false,
    "pycharm": {
     "name": "#%%\n"
    }
   }
  }
 ],
 "metadata": {
  "kernelspec": {
   "display_name": "Python 3",
   "language": "python",
   "name": "python3"
  },
  "language_info": {
   "codemirror_mode": {
    "name": "ipython",
    "version": 2
   },
   "file_extension": ".py",
   "mimetype": "text/x-python",
   "name": "python",
   "nbconvert_exporter": "python",
   "pygments_lexer": "ipython2",
   "version": "2.7.6"
  }
 },
 "nbformat": 4,
 "nbformat_minor": 0
}