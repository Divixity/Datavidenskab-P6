{
 "cells": [
  {
   "cell_type": "markdown",
   "source": [
    "# Load the data"
   ],
   "metadata": {
    "collapsed": false,
    "pycharm": {
     "name": "#%% md\n"
    }
   }
  },
  {
   "cell_type": "code",
   "execution_count": 5,
   "outputs": [],
   "source": [
    "import pandas as pd\n",
    "from sklearn.metrics import mean_squared_error\n",
    "from sklearn.preprocessing import OneHotEncoder\n",
    "from statsmodels.tsa.statespace.sarimax import SARIMAX\n",
    "import plotly.graph_objects as go\n",
    "\n",
    "import DataRetriever as dr\n",
    "\n",
    "retriever = dr.DataRetriever()\n",
    "\n",
    "CON_ATTRIBUTES = retriever.get_attributes(file_name='consuming_attributes.pkl')\n",
    "\n",
    "con_df = retriever.get_data(file_name='All-Subsystems-hour-Year2.pkl')\n",
    "\n",
    "all_consuming = retriever.get_attributes(file_name='consuming_attributes.pkl')\n",
    "flex_consuming = [\"Load_ClothesWasherPowerWithStandby\", \"Elec_PowerDishwasher\", \"Load_DryerPowerTotal\"]\n",
    "fixed_consuming = list(set(all_consuming) - set(flex_consuming))\n",
    "\n",
    "data = pd.DataFrame(con_df[fixed_consuming].sum(axis=1).clip(lower=0) / 1e3)\n",
    "data.columns = ['Consumed Energy']"
   ],
   "metadata": {
    "collapsed": false,
    "pycharm": {
     "name": "#%%\n"
    }
   }
  },
  {
   "cell_type": "code",
   "execution_count": 6,
   "outputs": [
    {
     "name": "stderr",
     "output_type": "stream",
     "text": [
      "/tmp/ipykernel_128077/3376622727.py:1: FutureWarning: Indexing with a float is deprecated, and will raise an IndexError in pandas 2.0. You can manually convert to an integer key instead.\n",
      "  train_val = data[: data.index[len(data) * 0.8]]\n",
      "/tmp/ipykernel_128077/3376622727.py:2: FutureWarning: Indexing with a float is deprecated, and will raise an IndexError in pandas 2.0. You can manually convert to an integer key instead.\n",
      "  test = data[data.index[len(data) * 0.8]: ]\n"
     ]
    }
   ],
   "source": [
    "train_val = data[: data.index[len(data) * 0.8]]\n",
    "test = data[data.index[len(data) * 0.8]: ]"
   ],
   "metadata": {
    "collapsed": false,
    "pycharm": {
     "name": "#%%\n"
    }
   }
  },
  {
   "cell_type": "markdown",
   "source": [
    "# Sliding window function"
   ],
   "metadata": {
    "collapsed": false,
    "pycharm": {
     "name": "#%% md\n"
    }
   }
  },
  {
   "cell_type": "code",
   "execution_count": 7,
   "outputs": [],
   "source": [
    "def sliding_forecast(endog: pd.DataFrame, trend: str, order: tuple,\n",
    "                     seasonal_order: tuple=None, train_length: int=0,\n",
    "                     val_length: int=0, shift: int=0):\n",
    "\n",
    "    train_start = 0\n",
    "    train_end = train_start + (train_length * 24)\n",
    "    val_start = train_end\n",
    "    val_end = val_start + (val_length * 24)\n",
    "\n",
    "    progress = 0\n",
    "\n",
    "    rmse_list = list()\n",
    "\n",
    "    while len(endog[: val_end]) < len(endog):\n",
    "        model = SARIMAX(endog=endog[train_start : train_end],\n",
    "                        trend=trend, order=order, seasonal_order=seasonal_order, initialization='approximate_diffuse')\\\n",
    "            .fit(low_memory=True, disp=False, full_output=False)\n",
    "\n",
    "        predictions = pd.DataFrame(model.predict(start=endog.index[val_start],\n",
    "                                                 end=endog.index[val_end - 1]))\n",
    "\n",
    "        rmse_list.append(mean_squared_error(y_true=endog[val_start: val_end],\n",
    "                                            y_pred=predictions,\n",
    "                                            squared=False))\n",
    "\n",
    "        train_start += shift * 24\n",
    "        train_end = train_start + (train_length * 24)\n",
    "        val_start = train_end\n",
    "        val_end = val_start + (val_length * 24)\n",
    "\n",
    "        progress += 1\n",
    "\n",
    "    print(progress)\n",
    "\n",
    "    return sum(rmse_list) / len(rmse_list)"
   ],
   "metadata": {
    "collapsed": false,
    "pycharm": {
     "name": "#%%\n"
    }
   }
  },
  {
   "cell_type": "markdown",
   "source": [
    "# RMSE for SARIMA"
   ],
   "metadata": {
    "collapsed": false,
    "pycharm": {
     "name": "#%% md\n"
    }
   }
  },
  {
   "cell_type": "code",
   "execution_count": null,
   "outputs": [
    {
     "name": "stderr",
     "output_type": "stream",
     "text": [
      "/usr/local/lib/python3.8/dist-packages/statsmodels/tsa/statespace/sarimax.py:966: UserWarning: Non-stationary starting autoregressive parameters found. Using zeros as starting parameters.\n",
      "  warn('Non-stationary starting autoregressive parameters'\n",
      "/usr/local/lib/python3.8/dist-packages/statsmodels/tsa/statespace/sarimax.py:978: UserWarning: Non-invertible starting MA parameters found. Using zeros as starting parameters.\n",
      "  warn('Non-invertible starting MA parameters found.'\n"
     ]
    }
   ],
   "source": [
    "sarima_params = [(4, 1, 2, 1, 1, 0, 168), (4, 1, 2, 0, 1, 1, 168),\n",
    "                 (4, 1, 2, 1, 0, 0, 168), (4, 1, 2, 0, 0, 1, 168)]\n",
    "\n",
    "sarima_rmses = dict()\n",
    "key = 1\n",
    "\n",
    "for params in sarima_params:\n",
    "    result = sliding_forecast(endog=test[\"Consumed Energy\"],\n",
    "                              trend='n', order=params[0: 3], seasonal_order=params[3: ],\n",
    "                              train_length=28, val_length=3, shift=5)\n",
    "    sarima_rmses[key] = result\n",
    "    print(f\"RMSE for SARIMA{params} is: {round(result, 5)}\")\n",
    "    key += 1"
   ],
   "metadata": {
    "collapsed": false,
    "pycharm": {
     "name": "#%%\n",
     "is_executing": true
    }
   }
  },
  {
   "cell_type": "code",
   "execution_count": null,
   "outputs": [],
   "source": [
    "best_rmse = min(sarima_rmses.values())\n",
    "best_param_key = [key for key in sarima_rmses if sarima_rmses[key] == best_rmse]\n",
    "best_params = sarima_params[best_param_key[0]]\n",
    "best_params"
   ],
   "metadata": {
    "collapsed": false,
    "pycharm": {
     "name": "#%%\n",
     "is_executing": true
    }
   }
  },
  {
   "cell_type": "code",
   "execution_count": null,
   "outputs": [],
   "source": [
    "start_train = 0\n",
    "end_train = start_train + 24*28\n",
    "start_test = end_train\n",
    "end_test = start_test + 3*24\n",
    "\n",
    "model = SARIMAX(endog=test[\"Consumed Energy\"][test.index[start_train: end_train]],\n",
    "                trend='n',\n",
    "                order=best_params[: 3],\n",
    "                seasonal_order=best_params[3: ])\\\n",
    "    .fit(low_memory=True, disp=False, full_output=False)\n",
    "\n",
    "predictions = pd.DataFrame(model.predict(start=test.index[start_test],\n",
    "                                         end=test.index[end_test]))\n",
    "\n",
    "fig = go.Figure(go.Scattergl(\n",
    "    x=test[start_train: end_train].index,\n",
    "    y=test['Consumed Energy'][start_train: end_train],\n",
    "    name=\"Training Data\",\n",
    "    line=dict(color='rgb(84, 84, 84)')\n",
    "))\n",
    "\n",
    "fig.add_trace(go.Scattergl(\n",
    "    x=test[start_test: end_test].index,\n",
    "    y=test['Consumed Energy'][start_test: end_test],\n",
    "    name=\"Observed\",\n",
    "    line=dict(color='rgb(234,143,129)')\n",
    "))\n",
    "\n",
    "fig.add_trace(go.Scattergl(\n",
    "    x=predictions.index,\n",
    "    y=predictions,\n",
    "    name=\"Predicted\",\n",
    "    line=dict(color='rgb(32,115,171)')\n",
    "))\n",
    "\n",
    "fig.update_yaxes(title=\"Fixed Consumption [kWh]\")\n",
    "fig.update_layout(template=\"plotly\",\n",
    "                  legend=dict(orientation=\"h\",\n",
    "                              yanchor=\"bottom\",\n",
    "                              y=1,\n",
    "                              xanchor=\"left\",\n",
    "                              x=0))\n",
    "\n",
    "fig.write_html(\"ARIMA_figs/best_consumption_arima_NEW.html\")\n",
    "fig.show()"
   ],
   "metadata": {
    "collapsed": false,
    "pycharm": {
     "name": "#%%\n",
     "is_executing": true
    }
   }
  }
 ],
 "metadata": {
  "kernelspec": {
   "display_name": "Python 3",
   "language": "python",
   "name": "python3"
  },
  "language_info": {
   "codemirror_mode": {
    "name": "ipython",
    "version": 2
   },
   "file_extension": ".py",
   "mimetype": "text/x-python",
   "name": "python",
   "nbconvert_exporter": "python",
   "pygments_lexer": "ipython2",
   "version": "2.7.6"
  }
 },
 "nbformat": 4,
 "nbformat_minor": 0
}