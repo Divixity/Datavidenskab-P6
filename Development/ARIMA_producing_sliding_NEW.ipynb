{
 "cells": [
  {
   "cell_type": "markdown",
   "source": [
    "# Load Data"
   ],
   "metadata": {
    "collapsed": false,
    "pycharm": {
     "name": "#%% md\n"
    }
   }
  },
  {
   "cell_type": "code",
   "execution_count": 27,
   "outputs": [],
   "source": [
    "import pandas as pd\n",
    "from sklearn.metrics import mean_squared_error\n",
    "from sklearn.preprocessing import OneHotEncoder\n",
    "from statsmodels.tsa.statespace.sarimax import SARIMAX\n",
    "import plotly.graph_objects as go\n",
    "\n",
    "import DataRetriever as dr\n",
    "\n",
    "retriever = dr.DataRetriever()\n",
    "\n",
    "PV_ATTRIBUTES = retriever.get_attributes(file_name='producing_attributes.pkl')\n",
    "\n",
    "gen_df = retriever.get_data(file_name='All-Subsystems-hour-Year2.pkl')[PV_ATTRIBUTES].sum(axis=1).clip(lower=0) / 1000\n",
    "gen_df = gen_df.rename(\"Generated Energy\", inplace=True).to_frame()\n",
    "\n",
    "weather_forecast = pd.read_csv(\"../_05Forecasting/CLEANED_GAI_2015_2016.csv\", index_col=0)\n",
    "weather_forecast.index.rename(\"Timestamp\", inplace=True)\n",
    "weather_forecast.index = pd.to_datetime(weather_forecast.index)"
   ],
   "metadata": {
    "collapsed": false,
    "pycharm": {
     "name": "#%%\n"
    }
   }
  },
  {
   "cell_type": "markdown",
   "source": [
    "# OneHotEncode the weather data"
   ],
   "metadata": {
    "collapsed": false,
    "pycharm": {
     "name": "#%% md\n"
    }
   }
  },
  {
   "cell_type": "code",
   "execution_count": 28,
   "outputs": [],
   "source": [
    "weather_forecast = weather_forecast[weather_forecast.index.isin(gen_df.index)]\n",
    "\n",
    "ohe = OneHotEncoder(sparse=False)\n",
    "hot = ohe.fit_transform(weather_forecast)\n",
    "weather_df = pd.DataFrame(data=hot, columns=ohe.get_feature_names_out(), index=gen_df.index)"
   ],
   "metadata": {
    "collapsed": false,
    "pycharm": {
     "name": "#%%\n"
    }
   }
  },
  {
   "cell_type": "code",
   "execution_count": 29,
   "outputs": [],
   "source": [
    "data = gen_df.merge(weather_df, left_index=True, right_index=True, how='left')\n",
    "condition_columns = data.columns[1:]"
   ],
   "metadata": {
    "collapsed": false,
    "pycharm": {
     "name": "#%%\n"
    }
   }
  },
  {
   "cell_type": "code",
   "execution_count": 30,
   "outputs": [
    {
     "name": "stderr",
     "output_type": "stream",
     "text": [
      "/tmp/ipykernel_128208/3376622727.py:1: FutureWarning: Indexing with a float is deprecated, and will raise an IndexError in pandas 2.0. You can manually convert to an integer key instead.\n",
      "  train_val = data[: data.index[len(data) * 0.8]]\n",
      "/tmp/ipykernel_128208/3376622727.py:2: FutureWarning: Indexing with a float is deprecated, and will raise an IndexError in pandas 2.0. You can manually convert to an integer key instead.\n",
      "  test = data[data.index[len(data) * 0.8]: ]\n"
     ]
    }
   ],
   "source": [
    "train_val = data[: data.index[len(data) * 0.8]]\n",
    "test = data[data.index[len(data) * 0.8]: ]"
   ],
   "metadata": {
    "collapsed": false,
    "pycharm": {
     "name": "#%%\n"
    }
   }
  },
  {
   "cell_type": "markdown",
   "source": [
    "# Rolling Window Function"
   ],
   "metadata": {
    "collapsed": false,
    "pycharm": {
     "name": "#%% md\n"
    }
   }
  },
  {
   "cell_type": "code",
   "execution_count": 31,
   "outputs": [],
   "source": [
    "def sliding_forecast(endog: pd.DataFrame, trend: str, order: tuple,\n",
    "                     seasonal_order: tuple=None, exog: pd.DataFrame=None,\n",
    "                     train_length: int=0, val_length: int=0, shift: int=0):\n",
    "    train_start = 0\n",
    "    train_end = train_start + (train_length * 24)\n",
    "    val_start = train_end\n",
    "    val_end = val_start + (val_length * 24)\n",
    "    progress = 0\n",
    "\n",
    "    rmse_list = list()\n",
    "\n",
    "    while len(endog[: val_end]) < len(endog):\n",
    "        if exog is not None:\n",
    "            model = SARIMAX(endog=endog[train_start : train_end],\n",
    "                exog=exog[train_start : train_end],\n",
    "                trend=trend,\n",
    "                order=order,\n",
    "                seasonal_order=seasonal_order)\\\n",
    "                .fit(low_memory=True, disp=False, full_output=False)\n",
    "\n",
    "            predictions = pd.DataFrame(model.predict(start=endog.index[val_start],\n",
    "                                                     end=endog.index[val_end - 1],\n",
    "                                                     exog=exog[val_start: val_end]))\n",
    "\n",
    "        else:\n",
    "            model = SARIMAX(endog=endog[train_start : train_end],\n",
    "                trend=trend,\n",
    "                order=order,\n",
    "                seasonal_order=seasonal_order)\\\n",
    "                .fit(low_memory=True, disp=False, full_output=False)\n",
    "\n",
    "            predictions = pd.DataFrame(model.predict(start=endog.index[val_start],\n",
    "                                                     end=endog.index[val_end - 1]))\n",
    "\n",
    "        rmse_list.append(mean_squared_error(y_true=endog[val_start: val_end],\n",
    "                                            y_pred=predictions,\n",
    "                                            squared=False))\n",
    "\n",
    "        train_start += shift * 24\n",
    "        train_end = train_start + (train_length * 24)\n",
    "        val_start = train_end\n",
    "        val_end = val_start + (val_length * 24)\n",
    "\n",
    "        progress += 1\n",
    "\n",
    "    print(progress)\n",
    "\n",
    "    return sum(rmse_list) / len(rmse_list)"
   ],
   "metadata": {
    "collapsed": false,
    "pycharm": {
     "name": "#%%\n"
    }
   }
  },
  {
   "cell_type": "code",
   "execution_count": 32,
   "outputs": [
    {
     "name": "stdout",
     "output_type": "stream",
     "text": [
      "9\n"
     ]
    }
   ],
   "source": [
    "ARIMA_RMSE = sliding_forecast(endog=test[\"Generated Energy\"],\n",
    "                 trend='n', order=(4, 0, 0),\n",
    "                 train_length=28, val_length=3, shift=5)"
   ],
   "metadata": {
    "collapsed": false,
    "pycharm": {
     "name": "#%%\n"
    }
   }
  },
  {
   "cell_type": "code",
   "execution_count": 33,
   "outputs": [
    {
     "name": "stdout",
     "output_type": "stream",
     "text": [
      "RMSE for ARIMA(4, 0, 0) is: 1.7122\n"
     ]
    }
   ],
   "source": [
    "print(f\"RMSE for ARIMA(4, 0, 0) is: {round(ARIMA_RMSE, 5)}\")"
   ],
   "metadata": {
    "collapsed": false,
    "pycharm": {
     "name": "#%%\n"
    }
   }
  },
  {
   "cell_type": "code",
   "execution_count": null,
   "outputs": [
    {
     "name": "stdout",
     "output_type": "stream",
     "text": [
      "9\n",
      "RMSE for SARIMA(4, 0, 0, 2, 0, 0, 24) is: 1.57232\n",
      "9\n",
      "RMSE for SARIMA(4, 1, 0, 2, 0, 0, 24) is: 1.57494\n"
     ]
    }
   ],
   "source": [
    "sarima_params = [(4, 0, 0, 2, 0, 0, 24), (4, 1, 0, 2, 0, 0, 24),\n",
    "                 (4, 0, 0, 2, 1, 0, 24), (4, 1, 0, 2, 1, 0, 24),\n",
    "                 (4, 0, 0, 0, 0, 2, 24), (4, 1, 0, 0, 0, 2, 24),\n",
    "                 (4, 0, 0, 0, 1, 2, 24), (4, 1, 0, 0, 1, 2, 24)]\n",
    "\n",
    "sarima_rmses = dict()\n",
    "key = 1\n",
    "\n",
    "for params in sarima_params:\n",
    "    result = sliding_forecast(endog=test[\"Generated Energy\"],\n",
    "                              trend='n', order=params[0: 3], seasonal_order=params[3: ],\n",
    "                              train_length=28, val_length=3, shift=5)\n",
    "    sarima_rmses[key] = result\n",
    "    print(f\"RMSE for SARIMA{params} is: {round(result, 5)}\")\n",
    "    key += 1"
   ],
   "metadata": {
    "collapsed": false,
    "pycharm": {
     "name": "#%%\n",
     "is_executing": true
    }
   }
  },
  {
   "cell_type": "code",
   "execution_count": null,
   "outputs": [],
   "source": [
    "best_rmse = min(sarima_rmses.values())\n",
    "best_param_key = [key for key in sarima_rmses if sarima_rmses[key] == best_rmse]\n",
    "best_params = sarima_params[best_param_key[0]] #Access index 0 as the best_param_key returns a list\n",
    "\n",
    "SARIMAX_RMSE = sliding_forecast(endog=test[\"Generated Energy\"], exog=test[condition_columns],\n",
    "                 trend='n', order=best_params[0: 3], seasonal_order=best_params[3: ],\n",
    "                 train_length=28, val_length=3, shift=5)\n",
    "\n",
    "print(round(SARIMAX_RMSE, 5))"
   ],
   "metadata": {
    "collapsed": false,
    "pycharm": {
     "name": "#%%\n",
     "is_executing": true
    }
   }
  },
  {
   "cell_type": "markdown",
   "source": [
    "# Plot the predictions from a single window of the best model"
   ],
   "metadata": {
    "collapsed": false,
    "pycharm": {
     "name": "#%% md\n"
    }
   }
  },
  {
   "cell_type": "code",
   "execution_count": null,
   "outputs": [],
   "source": [
    "start_train = 0\n",
    "end_train = start_train + 24*28\n",
    "start_test = end_train\n",
    "end_test = start_test + 3*24"
   ],
   "metadata": {
    "collapsed": false,
    "pycharm": {
     "name": "#%%\n",
     "is_executing": true
    }
   }
  },
  {
   "cell_type": "code",
   "execution_count": null,
   "outputs": [],
   "source": [
    "model = SARIMAX(endog=test[\"Generated Energy\"][test.index[start_train: end_train]],\n",
    "                exog=test[condition_columns][start_train : end_train],\n",
    "                trend='n',\n",
    "                order=(4,0,0),\n",
    "                seasonal_order=(0,1,2,24))\\\n",
    "    .fit(low_memory=True, disp=False, full_output=False)\n",
    "\n",
    "predictions = pd.DataFrame(model.predict(start=data.index[start_test],\n",
    "                                         end=data.index[end_test],\n",
    "                                         exog=data[condition_columns][start_test: end_test + 1]))"
   ],
   "metadata": {
    "collapsed": false,
    "pycharm": {
     "name": "#%%\n",
     "is_executing": true
    }
   }
  },
  {
   "cell_type": "code",
   "execution_count": null,
   "outputs": [],
   "source": [
    "fig = go.Figure(go.Scattergl(\n",
    "    x=data[start_train: end_train].index,\n",
    "    y=data['Generated Energy'][start_train: end_train],\n",
    "    name=\"Training Data\",\n",
    "    line=dict(color='rgb(84, 84, 84)')\n",
    "))\n",
    "\n",
    "fig.add_trace(go.Scattergl(\n",
    "    x=data[start_test: end_test].index,\n",
    "    y=data['Generated Energy'][start_test: end_test],\n",
    "    name=\"Observed\",\n",
    "    line=dict(color='rgb(234,143,129)')\n",
    "))\n",
    "\n",
    "fig.add_trace(go.Scattergl(\n",
    "    x=predictions.index,\n",
    "    y=predictions['predicted_mean'],\n",
    "    name=\"Predicted\",\n",
    "    line=dict(color='rgb(32,115,171)')\n",
    "))\n",
    "\n",
    "fig.update_yaxes(title=\"Generated Energy [kWh]\")\n",
    "fig.update_layout(template=\"plotly\",\n",
    "                  legend=dict(orientation=\"h\",\n",
    "                              yanchor=\"bottom\",\n",
    "                              y=1,\n",
    "                              xanchor=\"left\",\n",
    "                              x=0))\n",
    "\n",
    "fig.write_html(\"slidingwindowarima/window_sarimax_producing.html\")\n",
    "fig.show()\n",
    "\n",
    "print(\"Done\")"
   ],
   "metadata": {
    "collapsed": false,
    "pycharm": {
     "name": "#%%\n",
     "is_executing": true
    }
   }
  },
  {
   "cell_type": "code",
   "execution_count": null,
   "outputs": [],
   "source": [],
   "metadata": {
    "collapsed": false,
    "pycharm": {
     "name": "#%%\n",
     "is_executing": true
    }
   }
  }
 ],
 "metadata": {
  "kernelspec": {
   "display_name": "Python 3",
   "language": "python",
   "name": "python3"
  },
  "language_info": {
   "codemirror_mode": {
    "name": "ipython",
    "version": 2
   },
   "file_extension": ".py",
   "mimetype": "text/x-python",
   "name": "python",
   "nbconvert_exporter": "python",
   "pygments_lexer": "ipython2",
   "version": "2.7.6"
  }
 },
 "nbformat": 4,
 "nbformat_minor": 0
}