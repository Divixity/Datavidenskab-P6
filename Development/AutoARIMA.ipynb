{
 "cells": [
  {
   "cell_type": "code",
   "execution_count": 1,
   "metadata": {
    "collapsed": true
   },
   "outputs": [
    {
     "name": "stderr",
     "output_type": "stream",
     "text": [
      "c:\\users\\magnu\\appdata\\local\\programs\\python\\python39\\lib\\site-packages\\sktime\\utils\\validation\\series.py:21: FutureWarning: pandas.Int64Index is deprecated and will be removed from pandas in a future version. Use pandas.Index with the appropriate dtype instead.\n",
      "  VALID_INDEX_TYPES = (pd.Int64Index, pd.RangeIndex, pd.PeriodIndex, pd.DatetimeIndex)\n",
      "c:\\users\\magnu\\appdata\\local\\programs\\python\\python39\\lib\\site-packages\\sktime\\forecasting\\base\\_fh.py:18: FutureWarning: pandas.Int64Index is deprecated and will be removed from pandas in a future version. Use pandas.Index with the appropriate dtype instead.\n",
      "  RELATIVE_TYPES = (pd.Int64Index, pd.RangeIndex)\n",
      "c:\\users\\magnu\\appdata\\local\\programs\\python\\python39\\lib\\site-packages\\sktime\\forecasting\\base\\_fh.py:19: FutureWarning: pandas.Int64Index is deprecated and will be removed from pandas in a future version. Use pandas.Index with the appropriate dtype instead.\n",
      "  ABSOLUTE_TYPES = (pd.Int64Index, pd.RangeIndex, pd.DatetimeIndex, pd.PeriodIndex)\n",
      "c:\\users\\magnu\\appdata\\local\\programs\\python\\python39\\lib\\site-packages\\sktime\\datatypes\\_series\\_check.py:43: FutureWarning: pandas.Int64Index is deprecated and will be removed from pandas in a future version. Use pandas.Index with the appropriate dtype instead.\n",
      "  VALID_INDEX_TYPES = (pd.Int64Index, pd.RangeIndex, pd.PeriodIndex, pd.DatetimeIndex)\n",
      "c:\\users\\magnu\\appdata\\local\\programs\\python\\python39\\lib\\site-packages\\sktime\\datatypes\\_hierarchical\\_check.py:50: FutureWarning: pandas.Int64Index is deprecated and will be removed from pandas in a future version. Use pandas.Index with the appropriate dtype instead.\n",
      "  VALID_INDEX_TYPES = (pd.Int64Index, pd.RangeIndex, pd.PeriodIndex, pd.DatetimeIndex)\n",
      "c:\\users\\magnu\\appdata\\local\\programs\\python\\python39\\lib\\site-packages\\sktime\\datatypes\\_hierarchical\\_check.py:51: FutureWarning: pandas.Int64Index is deprecated and will be removed from pandas in a future version. Use pandas.Index with the appropriate dtype instead.\n",
      "  VALID_MULTIINDEX_TYPES = (pd.Int64Index, pd.RangeIndex)\n",
      "c:\\users\\magnu\\appdata\\local\\programs\\python\\python39\\lib\\site-packages\\sktime\\datatypes\\_panel\\_check.py:48: FutureWarning: pandas.Int64Index is deprecated and will be removed from pandas in a future version. Use pandas.Index with the appropriate dtype instead.\n",
      "  VALID_INDEX_TYPES = (pd.Int64Index, pd.RangeIndex, pd.PeriodIndex, pd.DatetimeIndex)\n",
      "c:\\users\\magnu\\appdata\\local\\programs\\python\\python39\\lib\\site-packages\\sktime\\datatypes\\_panel\\_check.py:49: FutureWarning: pandas.Int64Index is deprecated and will be removed from pandas in a future version. Use pandas.Index with the appropriate dtype instead.\n",
      "  VALID_MULTIINDEX_TYPES = (pd.Int64Index, pd.RangeIndex)\n"
     ]
    }
   ],
   "source": [
    "import plotly.graph_objects as go\n",
    "import pandas as pd\n",
    "import numpy as np\n",
    "\n",
    "from sktime.forecasting.arima import ARIMA\n",
    "\n",
    "import DataRetriever as dr\n",
    "\n",
    "retriever = dr.DataRetriever()\n",
    "year1 = retriever.get_data(\"All-Subsystems-hour-Year1.pkl\")\n",
    "year2 = retriever.get_data(\"All-Subsystems-hour-Year2.pkl\")"
   ]
  },
  {
   "cell_type": "code",
   "execution_count": 2,
   "outputs": [
    {
     "name": "stdout",
     "output_type": "stream",
     "text": [
      "A total of 87 rows have been dropped since they have NaN values.\n"
     ]
    },
    {
     "data": {
      "text/plain": "                     Generated Energy\nTimestamp                            \n2015-02-01 00:00:00          0.018496\n2015-02-01 01:00:00          0.018332\n2015-02-01 02:00:00          0.018385\n2015-02-01 03:00:00          0.018502\n2015-02-01 04:00:00          0.018524\n...                               ...\n2016-01-31 19:00:00          0.017710\n2016-01-31 20:00:00          0.017940\n2016-01-31 21:00:00          0.018149\n2016-01-31 22:00:00          0.018209\n2016-01-31 23:00:00          0.018283\n\n[8673 rows x 1 columns]",
      "text/html": "<div>\n<style scoped>\n    .dataframe tbody tr th:only-of-type {\n        vertical-align: middle;\n    }\n\n    .dataframe tbody tr th {\n        vertical-align: top;\n    }\n\n    .dataframe thead th {\n        text-align: right;\n    }\n</style>\n<table border=\"1\" class=\"dataframe\">\n  <thead>\n    <tr style=\"text-align: right;\">\n      <th></th>\n      <th>Generated Energy</th>\n    </tr>\n    <tr>\n      <th>Timestamp</th>\n      <th></th>\n    </tr>\n  </thead>\n  <tbody>\n    <tr>\n      <th>2015-02-01 00:00:00</th>\n      <td>0.018496</td>\n    </tr>\n    <tr>\n      <th>2015-02-01 01:00:00</th>\n      <td>0.018332</td>\n    </tr>\n    <tr>\n      <th>2015-02-01 02:00:00</th>\n      <td>0.018385</td>\n    </tr>\n    <tr>\n      <th>2015-02-01 03:00:00</th>\n      <td>0.018502</td>\n    </tr>\n    <tr>\n      <th>2015-02-01 04:00:00</th>\n      <td>0.018524</td>\n    </tr>\n    <tr>\n      <th>...</th>\n      <td>...</td>\n    </tr>\n    <tr>\n      <th>2016-01-31 19:00:00</th>\n      <td>0.017710</td>\n    </tr>\n    <tr>\n      <th>2016-01-31 20:00:00</th>\n      <td>0.017940</td>\n    </tr>\n    <tr>\n      <th>2016-01-31 21:00:00</th>\n      <td>0.018149</td>\n    </tr>\n    <tr>\n      <th>2016-01-31 22:00:00</th>\n      <td>0.018209</td>\n    </tr>\n    <tr>\n      <th>2016-01-31 23:00:00</th>\n      <td>0.018283</td>\n    </tr>\n  </tbody>\n</table>\n<p>8673 rows × 1 columns</p>\n</div>"
     },
     "execution_count": 2,
     "metadata": {},
     "output_type": "execute_result"
    }
   ],
   "source": [
    "gen_year2 = year2[year2[\"PV_Watts3PhTotalW3PhT1\"].isna() == False]\n",
    "gen_year2 = gen_year2[gen_year2[\"PV_Watts3PhTotalW3PhT2\"].isna() == False] #There are 87 rows with NaN values.\n",
    "\n",
    "print(f\"A total of {len(year2) - len(gen_year2)} rows have been dropped since they have NaN values.\")\n",
    "\n",
    "gen_year2[\"Generated Energy\"] = (gen_year2[\"PV_Watts3PhTotalW3PhT1\"].to_numpy() + gen_year2[\"PV_Watts3PhTotalW3PhT2\"].to_numpy())\n",
    "gen_year2 = gen_year2[[\"Generated Energy\"]] / 1e3 #Convert Wh to kWh\n",
    "gen_year2"
   ],
   "metadata": {
    "collapsed": false,
    "pycharm": {
     "name": "#%%\n"
    }
   }
  },
  {
   "cell_type": "code",
   "execution_count": 3,
   "outputs": [
    {
     "data": {
      "text/plain": "            Generated Energy\nTimestamp                   \n2015-02-01         12.958986\n2015-02-02          0.010302\n2015-02-03         41.425352\n2015-02-04         40.553641\n2015-02-05         42.718180\n...                      ...\n2016-01-27         33.832924\n2016-01-28         43.440532\n2016-01-29         27.944539\n2016-01-30         46.313858\n2016-01-31         40.566374\n\n[365 rows x 1 columns]",
      "text/html": "<div>\n<style scoped>\n    .dataframe tbody tr th:only-of-type {\n        vertical-align: middle;\n    }\n\n    .dataframe tbody tr th {\n        vertical-align: top;\n    }\n\n    .dataframe thead th {\n        text-align: right;\n    }\n</style>\n<table border=\"1\" class=\"dataframe\">\n  <thead>\n    <tr style=\"text-align: right;\">\n      <th></th>\n      <th>Generated Energy</th>\n    </tr>\n    <tr>\n      <th>Timestamp</th>\n      <th></th>\n    </tr>\n  </thead>\n  <tbody>\n    <tr>\n      <th>2015-02-01</th>\n      <td>12.958986</td>\n    </tr>\n    <tr>\n      <th>2015-02-02</th>\n      <td>0.010302</td>\n    </tr>\n    <tr>\n      <th>2015-02-03</th>\n      <td>41.425352</td>\n    </tr>\n    <tr>\n      <th>2015-02-04</th>\n      <td>40.553641</td>\n    </tr>\n    <tr>\n      <th>2015-02-05</th>\n      <td>42.718180</td>\n    </tr>\n    <tr>\n      <th>...</th>\n      <td>...</td>\n    </tr>\n    <tr>\n      <th>2016-01-27</th>\n      <td>33.832924</td>\n    </tr>\n    <tr>\n      <th>2016-01-28</th>\n      <td>43.440532</td>\n    </tr>\n    <tr>\n      <th>2016-01-29</th>\n      <td>27.944539</td>\n    </tr>\n    <tr>\n      <th>2016-01-30</th>\n      <td>46.313858</td>\n    </tr>\n    <tr>\n      <th>2016-01-31</th>\n      <td>40.566374</td>\n    </tr>\n  </tbody>\n</table>\n<p>365 rows × 1 columns</p>\n</div>"
     },
     "execution_count": 3,
     "metadata": {},
     "output_type": "execute_result"
    }
   ],
   "source": [
    "gen_df = gen_year2\n",
    "\n",
    "gen_df = gen_df.resample('d').sum()\n",
    "gen_df"
   ],
   "metadata": {
    "collapsed": false,
    "pycharm": {
     "name": "#%%\n"
    }
   }
  },
  {
   "cell_type": "code",
   "execution_count": 7,
   "outputs": [
    {
     "data": {
      "text/plain": "AutoARIMA(suppress_warnings=True)"
     },
     "execution_count": 7,
     "metadata": {},
     "output_type": "execute_result"
    }
   ],
   "source": [
    "from sktime.forecasting.arima import AutoARIMA\n",
    "\n",
    "forecaster = AutoARIMA(sp = 1, suppress_warnings=True)\n",
    "forecaster.fit(gen_df)"
   ],
   "metadata": {
    "collapsed": false,
    "pycharm": {
     "name": "#%%\n"
    }
   }
  },
  {
   "cell_type": "code",
   "execution_count": 8,
   "outputs": [
    {
     "name": "stderr",
     "output_type": "stream",
     "text": [
      "c:\\users\\magnu\\appdata\\local\\programs\\python\\python39\\lib\\site-packages\\sktime\\forecasting\\base\\_fh.py:100: FutureWarning: pandas.Int64Index is deprecated and will be removed from pandas in a future version. Use pandas.Index with the appropriate dtype instead.\n",
      "  values = pd.Int64Index(values, dtype=int)\n",
      "c:\\users\\magnu\\appdata\\local\\programs\\python\\python39\\lib\\site-packages\\sktime\\forecasting\\base\\_fh.py:337: FutureWarning: Timestamp.freqstr is deprecated and will be removed in a future version.\n",
      "  cutoff = _coerce_to_period(cutoff, freq=cutoff.freqstr)\n"
     ]
    },
    {
     "data": {
      "text/plain": "            Generated Energy\n2016-02-01         28.590267\n2016-02-02         25.648607\n2016-02-03         24.926055\n2016-02-04         24.748577\n2016-02-05         24.704983\n...                      ...\n2017-06-09         24.690789\n2017-06-10         24.690789\n2017-06-11         24.690789\n2017-06-12         24.690789\n2017-06-13         24.690789\n\n[499 rows x 1 columns]",
      "text/html": "<div>\n<style scoped>\n    .dataframe tbody tr th:only-of-type {\n        vertical-align: middle;\n    }\n\n    .dataframe tbody tr th {\n        vertical-align: top;\n    }\n\n    .dataframe thead th {\n        text-align: right;\n    }\n</style>\n<table border=\"1\" class=\"dataframe\">\n  <thead>\n    <tr style=\"text-align: right;\">\n      <th></th>\n      <th>Generated Energy</th>\n    </tr>\n  </thead>\n  <tbody>\n    <tr>\n      <th>2016-02-01</th>\n      <td>28.590267</td>\n    </tr>\n    <tr>\n      <th>2016-02-02</th>\n      <td>25.648607</td>\n    </tr>\n    <tr>\n      <th>2016-02-03</th>\n      <td>24.926055</td>\n    </tr>\n    <tr>\n      <th>2016-02-04</th>\n      <td>24.748577</td>\n    </tr>\n    <tr>\n      <th>2016-02-05</th>\n      <td>24.704983</td>\n    </tr>\n    <tr>\n      <th>...</th>\n      <td>...</td>\n    </tr>\n    <tr>\n      <th>2017-06-09</th>\n      <td>24.690789</td>\n    </tr>\n    <tr>\n      <th>2017-06-10</th>\n      <td>24.690789</td>\n    </tr>\n    <tr>\n      <th>2017-06-11</th>\n      <td>24.690789</td>\n    </tr>\n    <tr>\n      <th>2017-06-12</th>\n      <td>24.690789</td>\n    </tr>\n    <tr>\n      <th>2017-06-13</th>\n      <td>24.690789</td>\n    </tr>\n  </tbody>\n</table>\n<p>499 rows × 1 columns</p>\n</div>"
     },
     "execution_count": 8,
     "metadata": {},
     "output_type": "execute_result"
    }
   ],
   "source": [
    "y_pred = forecaster.predict(fh=list(range(1, 500)))\n",
    "y_pred"
   ],
   "metadata": {
    "collapsed": false,
    "pycharm": {
     "name": "#%%\n"
    }
   }
  },
  {
   "cell_type": "code",
   "execution_count": 9,
   "outputs": [
    {
     "data": {
      "text/plain": "<class 'statsmodels.iolib.summary.Summary'>\n\"\"\"\n                               SARIMAX Results                                \n==============================================================================\nDep. Variable:                      y   No. Observations:                  365\nModel:               SARIMAX(1, 1, 1)   Log Likelihood               -1555.424\nDate:                Wed, 30 Mar 2022   AIC                           3116.848\nTime:                        13:40:31   BIC                           3128.539\nSample:                             0   HQIC                          3121.495\n                                - 365                                         \nCovariance Type:                  opg                                         \n==============================================================================\n                 coef    std err          z      P>|z|      [0.025      0.975]\n------------------------------------------------------------------------------\nar.L1          0.2456      0.055      4.453      0.000       0.138       0.354\nma.L1         -0.9368      0.020    -46.014      0.000      -0.977      -0.897\nsigma2       300.0345     26.776     11.205      0.000     247.555     352.514\n===================================================================================\nLjung-Box (L1) (Q):                   0.00   Jarque-Bera (JB):                 6.04\nProb(Q):                              0.96   Prob(JB):                         0.05\nHeteroskedasticity (H):               0.60   Skew:                            -0.17\nProb(H) (two-sided):                  0.01   Kurtosis:                         2.47\n===================================================================================\n\nWarnings:\n[1] Covariance matrix calculated using the outer product of gradients (complex-step).\n\"\"\"",
      "text/html": "<table class=\"simpletable\">\n<caption>SARIMAX Results</caption>\n<tr>\n  <th>Dep. Variable:</th>           <td>y</td>        <th>  No. Observations:  </th>    <td>365</td>   \n</tr>\n<tr>\n  <th>Model:</th>           <td>SARIMAX(1, 1, 1)</td> <th>  Log Likelihood     </th> <td>-1555.424</td>\n</tr>\n<tr>\n  <th>Date:</th>            <td>Wed, 30 Mar 2022</td> <th>  AIC                </th> <td>3116.848</td> \n</tr>\n<tr>\n  <th>Time:</th>                <td>13:40:31</td>     <th>  BIC                </th> <td>3128.539</td> \n</tr>\n<tr>\n  <th>Sample:</th>                  <td>0</td>        <th>  HQIC               </th> <td>3121.495</td> \n</tr>\n<tr>\n  <th></th>                      <td> - 365</td>      <th>                     </th>     <td> </td>    \n</tr>\n<tr>\n  <th>Covariance Type:</th>        <td>opg</td>       <th>                     </th>     <td> </td>    \n</tr>\n</table>\n<table class=\"simpletable\">\n<tr>\n     <td></td>       <th>coef</th>     <th>std err</th>      <th>z</th>      <th>P>|z|</th>  <th>[0.025</th>    <th>0.975]</th>  \n</tr>\n<tr>\n  <th>ar.L1</th>  <td>    0.2456</td> <td>    0.055</td> <td>    4.453</td> <td> 0.000</td> <td>    0.138</td> <td>    0.354</td>\n</tr>\n<tr>\n  <th>ma.L1</th>  <td>   -0.9368</td> <td>    0.020</td> <td>  -46.014</td> <td> 0.000</td> <td>   -0.977</td> <td>   -0.897</td>\n</tr>\n<tr>\n  <th>sigma2</th> <td>  300.0345</td> <td>   26.776</td> <td>   11.205</td> <td> 0.000</td> <td>  247.555</td> <td>  352.514</td>\n</tr>\n</table>\n<table class=\"simpletable\">\n<tr>\n  <th>Ljung-Box (L1) (Q):</th>     <td>0.00</td> <th>  Jarque-Bera (JB):  </th> <td>6.04</td> \n</tr>\n<tr>\n  <th>Prob(Q):</th>                <td>0.96</td> <th>  Prob(JB):          </th> <td>0.05</td> \n</tr>\n<tr>\n  <th>Heteroskedasticity (H):</th> <td>0.60</td> <th>  Skew:              </th> <td>-0.17</td>\n</tr>\n<tr>\n  <th>Prob(H) (two-sided):</th>    <td>0.01</td> <th>  Kurtosis:          </th> <td>2.47</td> \n</tr>\n</table><br/><br/>Warnings:<br/>[1] Covariance matrix calculated using the outer product of gradients (complex-step)."
     },
     "execution_count": 9,
     "metadata": {},
     "output_type": "execute_result"
    }
   ],
   "source": [
    "forecaster.summary()"
   ],
   "metadata": {
    "collapsed": false,
    "pycharm": {
     "name": "#%%\n"
    }
   }
  },
  {
   "cell_type": "code",
   "execution_count": 6,
   "outputs": [],
   "source": [],
   "metadata": {
    "collapsed": false,
    "pycharm": {
     "name": "#%%\n"
    }
   }
  }
 ],
 "metadata": {
  "kernelspec": {
   "display_name": "Python 3",
   "language": "python",
   "name": "python3"
  },
  "language_info": {
   "codemirror_mode": {
    "name": "ipython",
    "version": 2
   },
   "file_extension": ".py",
   "mimetype": "text/x-python",
   "name": "python",
   "nbconvert_exporter": "python",
   "pygments_lexer": "ipython2",
   "version": "2.7.6"
  }
 },
 "nbformat": 4,
 "nbformat_minor": 0
}