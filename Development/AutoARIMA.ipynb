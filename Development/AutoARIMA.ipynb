{
 "cells": [
  {
   "cell_type": "code",
   "execution_count": 1,
   "metadata": {
    "collapsed": true
   },
   "outputs": [
    {
     "name": "stderr",
     "output_type": "stream",
     "text": [
      "c:\\users\\magnu\\appdata\\local\\programs\\python\\python39\\lib\\site-packages\\sktime\\utils\\validation\\series.py:21: FutureWarning: pandas.Int64Index is deprecated and will be removed from pandas in a future version. Use pandas.Index with the appropriate dtype instead.\n",
      "  VALID_INDEX_TYPES = (pd.Int64Index, pd.RangeIndex, pd.PeriodIndex, pd.DatetimeIndex)\n",
      "c:\\users\\magnu\\appdata\\local\\programs\\python\\python39\\lib\\site-packages\\sktime\\forecasting\\base\\_fh.py:18: FutureWarning: pandas.Int64Index is deprecated and will be removed from pandas in a future version. Use pandas.Index with the appropriate dtype instead.\n",
      "  RELATIVE_TYPES = (pd.Int64Index, pd.RangeIndex)\n",
      "c:\\users\\magnu\\appdata\\local\\programs\\python\\python39\\lib\\site-packages\\sktime\\forecasting\\base\\_fh.py:19: FutureWarning: pandas.Int64Index is deprecated and will be removed from pandas in a future version. Use pandas.Index with the appropriate dtype instead.\n",
      "  ABSOLUTE_TYPES = (pd.Int64Index, pd.RangeIndex, pd.DatetimeIndex, pd.PeriodIndex)\n",
      "c:\\users\\magnu\\appdata\\local\\programs\\python\\python39\\lib\\site-packages\\sktime\\datatypes\\_series\\_check.py:43: FutureWarning: pandas.Int64Index is deprecated and will be removed from pandas in a future version. Use pandas.Index with the appropriate dtype instead.\n",
      "  VALID_INDEX_TYPES = (pd.Int64Index, pd.RangeIndex, pd.PeriodIndex, pd.DatetimeIndex)\n",
      "c:\\users\\magnu\\appdata\\local\\programs\\python\\python39\\lib\\site-packages\\sktime\\datatypes\\_hierarchical\\_check.py:50: FutureWarning: pandas.Int64Index is deprecated and will be removed from pandas in a future version. Use pandas.Index with the appropriate dtype instead.\n",
      "  VALID_INDEX_TYPES = (pd.Int64Index, pd.RangeIndex, pd.PeriodIndex, pd.DatetimeIndex)\n",
      "c:\\users\\magnu\\appdata\\local\\programs\\python\\python39\\lib\\site-packages\\sktime\\datatypes\\_hierarchical\\_check.py:51: FutureWarning: pandas.Int64Index is deprecated and will be removed from pandas in a future version. Use pandas.Index with the appropriate dtype instead.\n",
      "  VALID_MULTIINDEX_TYPES = (pd.Int64Index, pd.RangeIndex)\n",
      "c:\\users\\magnu\\appdata\\local\\programs\\python\\python39\\lib\\site-packages\\sktime\\datatypes\\_panel\\_check.py:48: FutureWarning: pandas.Int64Index is deprecated and will be removed from pandas in a future version. Use pandas.Index with the appropriate dtype instead.\n",
      "  VALID_INDEX_TYPES = (pd.Int64Index, pd.RangeIndex, pd.PeriodIndex, pd.DatetimeIndex)\n",
      "c:\\users\\magnu\\appdata\\local\\programs\\python\\python39\\lib\\site-packages\\sktime\\datatypes\\_panel\\_check.py:49: FutureWarning: pandas.Int64Index is deprecated and will be removed from pandas in a future version. Use pandas.Index with the appropriate dtype instead.\n",
      "  VALID_MULTIINDEX_TYPES = (pd.Int64Index, pd.RangeIndex)\n"
     ]
    }
   ],
   "source": [
    "import plotly.graph_objects as go\n",
    "import pandas as pd\n",
    "import numpy as np\n",
    "\n",
    "from sktime.forecasting.arima import ARIMA\n",
    "\n",
    "import DataRetriever as dr\n",
    "\n",
    "retriever = dr.DataRetriever()\n",
    "year1 = retriever.get_data(\"All-Subsystems-hour-Year1.pkl\")\n",
    "year2 = retriever.get_data(\"All-Subsystems-hour-Year2.pkl\")"
   ]
  },
  {
   "cell_type": "code",
   "execution_count": 2,
   "outputs": [
    {
     "name": "stdout",
     "output_type": "stream",
     "text": [
      "A total of 87 rows have been dropped since they have NaN values.\n"
     ]
    },
    {
     "data": {
      "text/plain": "                     Generated Energy\nTimestamp                            \n2015-02-01 00:00:00          0.018496\n2015-02-01 01:00:00          0.018332\n2015-02-01 02:00:00          0.018385\n2015-02-01 03:00:00          0.018502\n2015-02-01 04:00:00          0.018524\n...                               ...\n2016-01-31 19:00:00          0.017710\n2016-01-31 20:00:00          0.017940\n2016-01-31 21:00:00          0.018149\n2016-01-31 22:00:00          0.018209\n2016-01-31 23:00:00          0.018283\n\n[8673 rows x 1 columns]",
      "text/html": "<div>\n<style scoped>\n    .dataframe tbody tr th:only-of-type {\n        vertical-align: middle;\n    }\n\n    .dataframe tbody tr th {\n        vertical-align: top;\n    }\n\n    .dataframe thead th {\n        text-align: right;\n    }\n</style>\n<table border=\"1\" class=\"dataframe\">\n  <thead>\n    <tr style=\"text-align: right;\">\n      <th></th>\n      <th>Generated Energy</th>\n    </tr>\n    <tr>\n      <th>Timestamp</th>\n      <th></th>\n    </tr>\n  </thead>\n  <tbody>\n    <tr>\n      <th>2015-02-01 00:00:00</th>\n      <td>0.018496</td>\n    </tr>\n    <tr>\n      <th>2015-02-01 01:00:00</th>\n      <td>0.018332</td>\n    </tr>\n    <tr>\n      <th>2015-02-01 02:00:00</th>\n      <td>0.018385</td>\n    </tr>\n    <tr>\n      <th>2015-02-01 03:00:00</th>\n      <td>0.018502</td>\n    </tr>\n    <tr>\n      <th>2015-02-01 04:00:00</th>\n      <td>0.018524</td>\n    </tr>\n    <tr>\n      <th>...</th>\n      <td>...</td>\n    </tr>\n    <tr>\n      <th>2016-01-31 19:00:00</th>\n      <td>0.017710</td>\n    </tr>\n    <tr>\n      <th>2016-01-31 20:00:00</th>\n      <td>0.017940</td>\n    </tr>\n    <tr>\n      <th>2016-01-31 21:00:00</th>\n      <td>0.018149</td>\n    </tr>\n    <tr>\n      <th>2016-01-31 22:00:00</th>\n      <td>0.018209</td>\n    </tr>\n    <tr>\n      <th>2016-01-31 23:00:00</th>\n      <td>0.018283</td>\n    </tr>\n  </tbody>\n</table>\n<p>8673 rows × 1 columns</p>\n</div>"
     },
     "execution_count": 2,
     "metadata": {},
     "output_type": "execute_result"
    }
   ],
   "source": [
    "gen_year2 = year2[year2[\"PV_Watts3PhTotalW3PhT1\"].isna() == False]\n",
    "gen_year2 = gen_year2[gen_year2[\"PV_Watts3PhTotalW3PhT2\"].isna() == False] #There are 87 rows with NaN values.\n",
    "\n",
    "print(f\"A total of {len(year2) - len(gen_year2)} rows have been dropped since they have NaN values.\")\n",
    "\n",
    "gen_year2[\"Generated Energy\"] = (gen_year2[\"PV_Watts3PhTotalW3PhT1\"].to_numpy() + gen_year2[\"PV_Watts3PhTotalW3PhT2\"].to_numpy())\n",
    "gen_year2 = gen_year2[[\"Generated Energy\"]] / 1e3 #Convert Wh to kWh\n",
    "gen_year2"
   ],
   "metadata": {
    "collapsed": false,
    "pycharm": {
     "name": "#%%\n"
    }
   }
  },
  {
   "cell_type": "code",
   "execution_count": 4,
   "outputs": [
    {
     "data": {
      "text/plain": "            Generated Energy\nTimestamp                   \n2015-02-01         12.958986\n2015-02-02          0.010302\n2015-02-03         41.425352\n2015-02-04         40.553641\n2015-02-05         42.718180\n...                      ...\n2016-01-27         33.832924\n2016-01-28         43.440532\n2016-01-29         27.944539\n2016-01-30         46.313858\n2016-01-31         40.566374\n\n[365 rows x 1 columns]",
      "text/html": "<div>\n<style scoped>\n    .dataframe tbody tr th:only-of-type {\n        vertical-align: middle;\n    }\n\n    .dataframe tbody tr th {\n        vertical-align: top;\n    }\n\n    .dataframe thead th {\n        text-align: right;\n    }\n</style>\n<table border=\"1\" class=\"dataframe\">\n  <thead>\n    <tr style=\"text-align: right;\">\n      <th></th>\n      <th>Generated Energy</th>\n    </tr>\n    <tr>\n      <th>Timestamp</th>\n      <th></th>\n    </tr>\n  </thead>\n  <tbody>\n    <tr>\n      <th>2015-02-01</th>\n      <td>12.958986</td>\n    </tr>\n    <tr>\n      <th>2015-02-02</th>\n      <td>0.010302</td>\n    </tr>\n    <tr>\n      <th>2015-02-03</th>\n      <td>41.425352</td>\n    </tr>\n    <tr>\n      <th>2015-02-04</th>\n      <td>40.553641</td>\n    </tr>\n    <tr>\n      <th>2015-02-05</th>\n      <td>42.718180</td>\n    </tr>\n    <tr>\n      <th>...</th>\n      <td>...</td>\n    </tr>\n    <tr>\n      <th>2016-01-27</th>\n      <td>33.832924</td>\n    </tr>\n    <tr>\n      <th>2016-01-28</th>\n      <td>43.440532</td>\n    </tr>\n    <tr>\n      <th>2016-01-29</th>\n      <td>27.944539</td>\n    </tr>\n    <tr>\n      <th>2016-01-30</th>\n      <td>46.313858</td>\n    </tr>\n    <tr>\n      <th>2016-01-31</th>\n      <td>40.566374</td>\n    </tr>\n  </tbody>\n</table>\n<p>365 rows × 1 columns</p>\n</div>"
     },
     "execution_count": 4,
     "metadata": {},
     "output_type": "execute_result"
    }
   ],
   "source": [
    "gen_df = gen_year2\n",
    "\n",
    "gen_df = gen_df.resample('d').sum()\n",
    "gen_df"
   ],
   "metadata": {
    "collapsed": false,
    "pycharm": {
     "name": "#%%\n"
    }
   }
  },
  {
   "cell_type": "code",
   "execution_count": null,
   "outputs": [],
   "source": [
    "from sktime.forecasting.arima import AutoARIMA\n",
    "\n",
    "forecaster = AutoARIMA()"
   ],
   "metadata": {
    "collapsed": false,
    "pycharm": {
     "name": "#%%\n"
    }
   }
  }
 ],
 "metadata": {
  "kernelspec": {
   "display_name": "Python 3",
   "language": "python",
   "name": "python3"
  },
  "language_info": {
   "codemirror_mode": {
    "name": "ipython",
    "version": 2
   },
   "file_extension": ".py",
   "mimetype": "text/x-python",
   "name": "python",
   "nbconvert_exporter": "python",
   "pygments_lexer": "ipython2",
   "version": "2.7.6"
  }
 },
 "nbformat": 4,
 "nbformat_minor": 0
}