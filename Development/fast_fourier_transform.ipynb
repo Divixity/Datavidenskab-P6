{
 "cells": [
  {
   "cell_type": "code",
   "execution_count": 2,
   "metadata": {
    "collapsed": true
   },
   "outputs": [],
   "source": [
    "import numpy as np\n",
    "import plotly.graph_objects as go\n",
    "\n",
    "import DataRetriever as dr\n",
    "\n",
    "RETRIEVER = dr.DataRetriever()\n",
    "CON_ATTRIBUTES = RETRIEVER.get_attributes(file_name='consuming_attributes.pkl')\n",
    "DATA = RETRIEVER.get_data(file_name='All-Subsystems-hour-Year2.pkl')[CON_ATTRIBUTES].sum(axis=1)\n",
    "\n",
    "TRAIN_SIZE = int(DATA.size * 0.8)\n",
    "\n",
    "TRAIN, TEST = DATA[0:TRAIN_SIZE].to_numpy(), DATA[TRAIN_SIZE: DATA.size].to_numpy()\n",
    "TRAIN_INDEX, TEST_INDEX = list(range(0, len(TRAIN))), list(range(0, len(TEST)))"
   ]
  },
  {
   "cell_type": "code",
   "execution_count": null,
   "outputs": [
    {
     "ename": "ValueError",
     "evalue": "The truth value of a Series is ambiguous. Use a.empty, a.bool(), a.item(), a.any() or a.all().",
     "output_type": "error",
     "traceback": [
      "\u001B[1;31m---------------------------------------------------------------------------\u001B[0m",
      "\u001B[1;31mValueError\u001B[0m                                Traceback (most recent call last)",
      "Input \u001B[1;32mIn [7]\u001B[0m, in \u001B[0;36m<module>\u001B[1;34m\u001B[0m\n\u001B[0;32m     44\u001B[0m     fig\u001B[38;5;241m.\u001B[39mshow()\n\u001B[0;32m     47\u001B[0m \u001B[38;5;28;01mif\u001B[39;00m \u001B[38;5;18m__name__\u001B[39m \u001B[38;5;241m==\u001B[39m \u001B[38;5;124m\"\u001B[39m\u001B[38;5;124m__main__\u001B[39m\u001B[38;5;124m\"\u001B[39m:\n\u001B[1;32m---> 48\u001B[0m     \u001B[43mmain\u001B[49m\u001B[43m(\u001B[49m\u001B[43m)\u001B[49m\n",
      "Input \u001B[1;32mIn [7]\u001B[0m, in \u001B[0;36mmain\u001B[1;34m()\u001B[0m\n\u001B[0;32m     32\u001B[0m fig \u001B[38;5;241m=\u001B[39m go\u001B[38;5;241m.\u001B[39mFigure()\n\u001B[0;32m     34\u001B[0m fig\u001B[38;5;241m.\u001B[39madd_trace(go\u001B[38;5;241m.\u001B[39mScatter(x\u001B[38;5;241m=\u001B[39mDATA,\n\u001B[0;32m     35\u001B[0m                          y\u001B[38;5;241m=\u001B[39mpredictions,\n\u001B[0;32m     36\u001B[0m                          name\u001B[38;5;241m=\u001B[39m\u001B[38;5;124m'\u001B[39m\u001B[38;5;124mPrediction\u001B[39m\u001B[38;5;124m'\u001B[39m,\n\u001B[0;32m     37\u001B[0m                          mode\u001B[38;5;241m=\u001B[39m\u001B[38;5;124m'\u001B[39m\u001B[38;5;124mlines\u001B[39m\u001B[38;5;124m'\u001B[39m))\n\u001B[1;32m---> 39\u001B[0m fig\u001B[38;5;241m.\u001B[39madd_trace(go\u001B[38;5;241m.\u001B[39mScatter(x\u001B[38;5;241m=\u001B[39m\u001B[43mnp\u001B[49m\u001B[38;5;241;43m.\u001B[39;49m\u001B[43marange\u001B[49m\u001B[43m(\u001B[49m\u001B[43mDATA\u001B[49m\u001B[43m)\u001B[49m,\n\u001B[0;32m     40\u001B[0m                          y\u001B[38;5;241m=\u001B[39mDATA,\n\u001B[0;32m     41\u001B[0m                          name\u001B[38;5;241m=\u001B[39m\u001B[38;5;124m'\u001B[39m\u001B[38;5;124mTest Data\u001B[39m\u001B[38;5;124m'\u001B[39m,\n\u001B[0;32m     42\u001B[0m                          mode\u001B[38;5;241m=\u001B[39m\u001B[38;5;124m'\u001B[39m\u001B[38;5;124mlines\u001B[39m\u001B[38;5;124m'\u001B[39m))\n\u001B[0;32m     44\u001B[0m fig\u001B[38;5;241m.\u001B[39mshow()\n",
      "File \u001B[1;32mc:\\users\\madsc\\onedrive\\documents\\uni\\semester_6\\projekt\\projektkode\\venv\\lib\\site-packages\\pandas\\core\\generic.py:1535\u001B[0m, in \u001B[0;36mNDFrame.__nonzero__\u001B[1;34m(self)\u001B[0m\n\u001B[0;32m   1533\u001B[0m \u001B[38;5;129m@final\u001B[39m\n\u001B[0;32m   1534\u001B[0m \u001B[38;5;28;01mdef\u001B[39;00m \u001B[38;5;21m__nonzero__\u001B[39m(\u001B[38;5;28mself\u001B[39m):\n\u001B[1;32m-> 1535\u001B[0m     \u001B[38;5;28;01mraise\u001B[39;00m \u001B[38;5;167;01mValueError\u001B[39;00m(\n\u001B[0;32m   1536\u001B[0m         \u001B[38;5;124mf\u001B[39m\u001B[38;5;124m\"\u001B[39m\u001B[38;5;124mThe truth value of a \u001B[39m\u001B[38;5;132;01m{\u001B[39;00m\u001B[38;5;28mtype\u001B[39m(\u001B[38;5;28mself\u001B[39m)\u001B[38;5;241m.\u001B[39m\u001B[38;5;18m__name__\u001B[39m\u001B[38;5;132;01m}\u001B[39;00m\u001B[38;5;124m is ambiguous. \u001B[39m\u001B[38;5;124m\"\u001B[39m\n\u001B[0;32m   1537\u001B[0m         \u001B[38;5;124m\"\u001B[39m\u001B[38;5;124mUse a.empty, a.bool(), a.item(), a.any() or a.all().\u001B[39m\u001B[38;5;124m\"\u001B[39m\n\u001B[0;32m   1538\u001B[0m     )\n",
      "\u001B[1;31mValueError\u001B[0m: The truth value of a Series is ambiguous. Use a.empty, a.bool(), a.item(), a.any() or a.all()."
     ]
    }
   ],
   "source": [
    "def fourierExtrapolation(data: np.array, number_of_predictions: int, model_harmonics: int) -> np.array:\n",
    "    data_size = data.size\n",
    "    sample_index = np.arange(0, data_size)\n",
    "    linear_trend = np.polyfit(sample_index, data, 1)\n",
    "    data_detrended = data - linear_trend[0] * sample_index\n",
    "\n",
    "    frequency_domain = np.fft.fft(data_detrended)\n",
    "    frequencies = np.fft.fftfreq(data_size)\n",
    "\n",
    "    indexes = list(range(data_size))\n",
    "    indexes.sort(key=lambda idx: np.absolute(frequencies[idx]))  # sort indices by frequency, lower -> higher\n",
    "\n",
    "    sample_index = np.arange(0, data_size + number_of_predictions)\n",
    "    restored_sig = np.zeros(sample_index.size)\n",
    "\n",
    "    for i in indexes[:1 + model_harmonics * 2]:\n",
    "        amplitude = np.absolute(frequency_domain[i]) / data_size  # amplitude\n",
    "        phase = np.angle(frequency_domain[i])  # phase\n",
    "        restored_sig += amplitude * np.cos(2 * np.pi * frequencies[i] * sample_index + phase)\n",
    "    return restored_sig + linear_trend[0] * sample_index\n",
    "\n",
    "\n",
    "def main():\n",
    "    x = TRAIN\n",
    "    n_predict = TEST.size\n",
    "    n_harmonics = 1_000\n",
    "\n",
    "    predictions = fourierExtrapolation(data=x,\n",
    "                                       number_of_predictions=n_predict,\n",
    "                                       model_harmonics=n_harmonics)\n",
    "\n",
    "    fig = go.Figure()\n",
    "\n",
    "    fig.add_trace(go.Scatter(x=np.arange(DATA),\n",
    "                             y=predictions,\n",
    "                             name='Prediction',\n",
    "                             mode='lines'))\n",
    "\n",
    "    fig.add_trace(go.Scatter(x=np.arange(DATA),\n",
    "                             y=DATA,\n",
    "                             name='Test Data',\n",
    "                             mode='lines'))\n",
    "\n",
    "    fig.show()\n",
    "\n",
    "\n",
    "if __name__ == \"__main__\":\n",
    "    main()"
   ],
   "metadata": {
    "collapsed": false,
    "pycharm": {
     "name": "#%%\n"
    }
   }
  },
  {
   "cell_type": "code",
   "execution_count": 4,
   "outputs": [
    {
     "data": {
      "text/plain": "0.003088065378982205"
     },
     "execution_count": 4,
     "metadata": {},
     "output_type": "execute_result"
    }
   ],
   "source": [
    "0.125 * (1 / ((2 * np.pi) ** 2 + 1))"
   ],
   "metadata": {
    "collapsed": false,
    "pycharm": {
     "name": "#%%\n"
    }
   }
  }
 ],
 "metadata": {
  "kernelspec": {
   "display_name": "Python 3",
   "language": "python",
   "name": "python3"
  },
  "language_info": {
   "codemirror_mode": {
    "name": "ipython",
    "version": 2
   },
   "file_extension": ".py",
   "mimetype": "text/x-python",
   "name": "python",
   "nbconvert_exporter": "python",
   "pygments_lexer": "ipython2",
   "version": "2.7.6"
  }
 },
 "nbformat": 4,
 "nbformat_minor": 0
}