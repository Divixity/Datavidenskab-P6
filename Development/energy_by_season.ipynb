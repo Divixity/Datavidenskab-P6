{
 "cells": [
  {
   "cell_type": "markdown",
   "source": [
    "# Exploration of Energy per Season"
   ],
   "metadata": {
    "collapsed": false
   }
  },
  {
   "cell_type": "code",
   "execution_count": 1,
   "outputs": [],
   "source": [
    "import plotly.express as px\n",
    "\n",
    "import DataRetriever as dr\n",
    "\n",
    "retriever = dr.DataRetriever()\n",
    "\n",
    "year_2 = retriever.get_data('All-Subsystems-hour-Year2.pkl')"
   ],
   "metadata": {
    "collapsed": false,
    "pycharm": {
     "name": "#%%\n"
    }
   }
  },
  {
   "cell_type": "markdown",
   "source": [
    "## Generated Energy"
   ],
   "metadata": {
    "collapsed": false
   }
  },
  {
   "cell_type": "code",
   "execution_count": 2,
   "outputs": [],
   "source": [
    "year_2[\"Energy Generated\"] = (year_2['PV_Watts3PhTotalW3PhT1'] + year_2['PV_Watts3PhTotalW3PhT2']) / 1000\n",
    "year_2[\"Hour\"] = year_2.index.hour\n",
    "year_2[\"Season\"] = year_2.index.month % 12 // 3 + 1  # Formula to convert each month to their respective season\n",
    "year_2[\"Season\"].replace(to_replace={1: \"Winter\", 2: \"Spring\", 3: \"Summer\", 4: \"Autumn\"}, inplace=True)"
   ],
   "metadata": {
    "collapsed": false,
    "pycharm": {
     "name": "#%%\n"
    }
   }
  },
  {
   "cell_type": "code",
   "execution_count": 3,
   "outputs": [],
   "source": [
    "generation_data = year_2[['Hour', 'Season', 'Energy Generated']]\n",
    "\n",
    "generation_data = generation_data.groupby(['Hour', 'Season']).mean()\n",
    "generation_data.reset_index(inplace=True)"
   ],
   "metadata": {
    "collapsed": false,
    "pycharm": {
     "name": "#%%\n"
    }
   }
  },
  {
   "cell_type": "code",
   "execution_count": null,
   "outputs": [],
   "source": [
    "fig = px.line(data_frame=generation_data,\n",
    "              x='Hour',\n",
    "              y='Energy Generated',\n",
    "              color='Season',\n",
    "              color_discrete_sequence=['orange', 'green', 'red', 'rgb(98, 111, 250)'], # The weird rgb-code is Plotly-blue\n",
    "              title='Average Energy Generated per Hour per Season')\n",
    "fig.update_xaxes(type='category')\n",
    "fig.update_yaxes(title='Energy Generated (kWh)')\n",
    "fig.show()"
   ],
   "metadata": {
    "collapsed": false,
    "pycharm": {
     "name": "#%%\n",
     "is_executing": true
    }
   }
  }
 ],
 "metadata": {
  "kernelspec": {
   "display_name": "Python 3",
   "language": "python",
   "name": "python3"
  },
  "language_info": {
   "codemirror_mode": {
    "name": "ipython",
    "version": 2
   },
   "file_extension": ".py",
   "mimetype": "text/x-python",
   "name": "python",
   "nbconvert_exporter": "python",
   "pygments_lexer": "ipython2",
   "version": "2.7.6"
  }
 },
 "nbformat": 4,
 "nbformat_minor": 0
}