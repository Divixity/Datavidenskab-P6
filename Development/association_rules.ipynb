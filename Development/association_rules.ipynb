{
 "cells": [
  {
   "cell_type": "code",
   "execution_count": 20,
   "metadata": {
    "collapsed": true,
    "pycharm": {
     "name": "#%%\n"
    }
   },
   "outputs": [],
   "source": [
    "import DataRetriever as dr\n",
    "import pandas as pd\n",
    "\n",
    "# I had to load it in like this to get the timestamp index to become a TimeStampIndex... ... ...\n",
    "year_2 = pd.read_csv(\"C:/Users/madsc/OneDrive - Aalborg Universitet/P6/Data/raw_data/All-Subsystems-minute-Year2.csv\",\n",
    "                     parse_dates=[\"Timestamp\"], infer_datetime_format=True, index_col=[\"Timestamp\"])"
   ]
  },
  {
   "cell_type": "code",
   "execution_count": 21,
   "outputs": [],
   "source": [
    "# Set the index to be Datetime UTC\n",
    "year_2.index = pd.to_datetime(year_2.index, utc=True)"
   ],
   "metadata": {
    "collapsed": false,
    "pycharm": {
     "name": "#%%\n"
    }
   }
  },
  {
   "cell_type": "code",
   "execution_count": 24,
   "outputs": [],
   "source": [
    "del year_2[\"DayOfWeek\"]  # Remove the non-number attribute to enable the next two lines\n",
    "year_2[year_2 > 0] = 1\n",
    "year_2[year_2 <= 0] = 0"
   ],
   "metadata": {
    "collapsed": false,
    "pycharm": {
     "name": "#%%\n"
    }
   }
  },
  {
   "cell_type": "code",
   "execution_count": 25,
   "outputs": [],
   "source": [
    "# Resample the dataset, calculating the mean for each hour yielding real values in [0, 1]\n",
    "year_2 = year_2.resample(rule=\"H\").mean()"
   ],
   "metadata": {
    "collapsed": false,
    "pycharm": {
     "name": "#%%\n"
    }
   }
  },
  {
   "cell_type": "code",
   "execution_count": 26,
   "outputs": [],
   "source": [
    "# Rounding it to the nearest number 0 or 1\n",
    "year_2 = year_2.round()"
   ],
   "metadata": {
    "collapsed": false,
    "pycharm": {
     "name": "#%%\n"
    }
   }
  },
  {
   "cell_type": "code",
   "execution_count": null,
   "outputs": [],
   "source": [
    "# TODO: Find out how to make association rules based on this dataset. Get it on the same format as in the DM course?\n",
    "year_2"
   ],
   "metadata": {
    "collapsed": false,
    "pycharm": {
     "name": "#%%\n",
     "is_executing": true
    }
   }
  }
 ],
 "metadata": {
  "kernelspec": {
   "display_name": "Python 3",
   "language": "python",
   "name": "python3"
  },
  "language_info": {
   "codemirror_mode": {
    "name": "ipython",
    "version": 2
   },
   "file_extension": ".py",
   "mimetype": "text/x-python",
   "name": "python",
   "nbconvert_exporter": "python",
   "pygments_lexer": "ipython2",
   "version": "2.7.6"
  }
 },
 "nbformat": 4,
 "nbformat_minor": 0
}