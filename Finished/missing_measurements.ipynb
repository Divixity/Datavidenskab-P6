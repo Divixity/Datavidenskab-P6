{
 "cells": [
  {
   "cell_type": "markdown",
   "source": [
    "# Missing Values"
   ],
   "metadata": {
    "collapsed": false
   }
  },
  {
   "cell_type": "code",
   "execution_count": 1,
   "outputs": [],
   "source": [
    "import DataRetriever as dr\n",
    "\n",
    "retriever = dr.DataRetriever()\n",
    "\n",
    "year_2 = retriever.get_data(\"All-Subsystems-minute-Year2.pkl\")\n",
    "year_2"
   ],
   "metadata": {
    "collapsed": false,
    "pycharm": {
     "name": "#%%\n"
    }
   }
  },
  {
   "cell_type": "markdown",
   "source": [
    "### Overall missing values"
   ],
   "metadata": {
    "collapsed": false,
    "pycharm": {
     "name": "#%% md\n"
    }
   }
  },
  {
   "cell_type": "code",
   "execution_count": 2,
   "outputs": [
    {
     "name": "stdout",
     "output_type": "stream",
     "text": [
      "Proportion of missing values in cells: \n",
      "0.0043402666170544455\n",
      "Amount of missing cells per attribute: \n",
      "SHW_GlycolFlowHXCoriolisSHW        0.001079\n",
      "SHW_WaterFlowHXCoriolisSHW         0.001079\n",
      "SHW_GlycolFlowRateHXCoriolisSHW    0.001079\n",
      "SHW_WaterFlowRateHXCoriolisSHW     0.001079\n",
      "HVAC_HeatPumpIndoorUnitPower       0.000004\n",
      "HVAC_HeatPumpOutdoorUnitPower      0.000004\n",
      "HVAC_DehumidifierPower             0.000004\n",
      "HVAC_DehumidifierInletAirTemp      0.000004\n",
      "HVAC_DehumidifierExitAirTemp       0.000004\n",
      "HVAC_DehumidifierAirflow           0.000004\n",
      "dtype: float64\n"
     ]
    }
   ],
   "source": [
    "count_missing_cells = year_2.isnull().sum().sum()\n",
    "prop_missing_cells = count_missing_cells / year_2.size\n",
    "print(f\"Proportion of missing values in cells: \\n{prop_missing_cells}\")\n",
    "\n",
    "count_missing_attr = year_2.isnull().sum()\n",
    "prop_missing_attr = count_missing_attr[count_missing_attr>0] / year_2.size\n",
    "print(f\"Amount of missing cells per attribute: \\n{prop_missing_attr}\")"
   ],
   "metadata": {
    "collapsed": false,
    "pycharm": {
     "name": "#%%\n"
    }
   }
  },
  {
   "cell_type": "markdown",
   "source": [
    "### Missing values in subsystem"
   ],
   "metadata": {
    "collapsed": false
   }
  },
  {
   "cell_type": "code",
   "execution_count": 30,
   "outputs": [
    {
     "name": "stdout",
     "output_type": "stream",
     "text": [
      "Proportion per subsystem:\n",
      "SHW: 0.23557280434440733\n",
      "HVAC: 0.0008972217303946852\n",
      "\n",
      "Proportion per attribute:\n",
      "SHW_SHWHX80galWaterFlow            0.000000\n",
      "SHW_GlycolTempSHWPanel80galOut     0.000000\n",
      "SHW_PSPSHW                         0.000000\n",
      "SHW_GlycolFlowHXCoriolisSHW        0.058893\n",
      "SHW_WaterFlowHXCoriolisSHW         0.058893\n",
      "SHW_GlycolFlowRateHXCoriolisSHW    0.058893\n",
      "SHW_WaterFlowRateHXCoriolisSHW     0.058893\n",
      "dtype: float64 HVAC_HVACTempReturnAir           0.00000\n",
      "HVAC_HVACDewpointReturnAir       0.00000\n",
      "HVAC_HVACTempSupplyAir           0.00000\n",
      "HVAC_HVACDewpointSupplyAir       0.00000\n",
      "HVAC_HeatPumpIndoorUnitPower     0.00015\n",
      "HVAC_HeatPumpOutdoorUnitPower    0.00015\n",
      "HVAC_DehumidifierPower           0.00015\n",
      "HVAC_DehumidifierInletAirTemp    0.00015\n",
      "HVAC_DehumidifierExitAirTemp     0.00015\n",
      "HVAC_DehumidifierAirflow         0.00015\n",
      "dtype: float64\n"
     ]
    }
   ],
   "source": [
    "# Get the three unique characters identifying each subsystem and save them in a set\n",
    "subsystems = set()\n",
    "for column in year_2.columns:\n",
    "    subsystem_id = column.split(\"_\")[0]\n",
    "    subsystems.add(subsystem_id)\n",
    "\n",
    "# Get attributes pertaining to each subsystem and save as a dictionary\n",
    "subsystem_attributes = dict()\n",
    "for subsystem in subsystems:\n",
    "    subsystem_columns = [column for column in year_2 if column.startswith(subsystem)]\n",
    "    subsystem_attributes[subsystem] = subsystem_columns\n",
    "\n",
    "# We saw from the overall analysis that only subsystems SHW and HVAC contained missing values. Now, we check these in detail\n",
    "shw_data = year_2[subsystem_attributes[\"SHW\"]]\n",
    "hvac_data = year_2[subsystem_attributes[\"HVAC\"]]\n",
    "\n",
    "prop_missing_shw = shw_data.isnull().sum().sum() / shw_data.size\n",
    "prop_missing_hvac = hvac_data.isnull().sum().sum() / hvac_data.size\n",
    "print(\"Proportion per subsystem:\")\n",
    "print(f\"SHW: {prop_missing_shw}\")\n",
    "print(f\"HVAC: {prop_missing_hvac}\\n\")\n",
    "\n",
    "prop_attr_shw = shw_data.isnull().sum() / shw_data.size\n",
    "prop_attr_hvac = hvac_data.isnull().sum() / hvac_data.size\n",
    "print(\"Proportion per attribute:\")\n",
    "print(prop_attr_shw, prop_attr_hvac)"
   ],
   "metadata": {
    "collapsed": false,
    "pycharm": {
     "name": "#%%\n"
    }
   }
  },
  {
   "cell_type": "markdown",
   "source": [],
   "metadata": {
    "collapsed": false,
    "pycharm": {
     "name": "#%% md\n"
    }
   }
  }
 ],
 "metadata": {
  "kernelspec": {
   "display_name": "Python 3",
   "language": "python",
   "name": "python3"
  },
  "language_info": {
   "codemirror_mode": {
    "name": "ipython",
    "version": 2
   },
   "file_extension": ".py",
   "mimetype": "text/x-python",
   "name": "python",
   "nbconvert_exporter": "python",
   "pygments_lexer": "ipython2",
   "version": "2.7.6"
  }
 },
 "nbformat": 4,
 "nbformat_minor": 0
}