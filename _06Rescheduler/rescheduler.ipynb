{
 "cells": [
  {
   "cell_type": "code",
   "execution_count": 1,
   "metadata": {
    "collapsed": true
   },
   "outputs": [],
   "source": [
    "import pandas as pd\n",
    "\n",
    "import DataRetriever as dr\n",
    "import SARIMA_forecast\n",
    "import FFT_forecast\n",
    "\n",
    "RETRIEVER = dr.DataRetriever()\n",
    "CON_ATTRIBUTES = RETRIEVER.get_attributes(file_name='consuming_attributes.pkl')\n",
    "PV_ATTRIBUTES = RETRIEVER.get_attributes(file_name='producing_attributes.pkl')\n",
    "FLEX_ATTRIBUTES = [\"Load_ClothesWasherPowerWithStandby\", \"Elec_PowerDishwasher\", \"Load_DryerPowerTotal\"]\n",
    "FIXED_ATTRIBUTES = list(set(CON_ATTRIBUTES) - set(FLEX_ATTRIBUTES))"
   ]
  },
  {
   "cell_type": "code",
   "execution_count": 2,
   "outputs": [],
   "source": [
    "def rescheduler(year, month, day):\n",
    "    date = pd.Timestamp(year=year, month=month, day=day)\n",
    "    pv = RETRIEVER.get_data(file_name='All-Subsystems-hour-Year2.pkl')[PV_ATTRIBUTES].sum(axis=1).clip(lower=0) / 1000\n",
    "    fixed = RETRIEVER.get_data(file_name='All-Subsystems-hour-Year2.pkl')[FIXED_ATTRIBUTES].sum(axis=1).clip(lower=0) / 1000\n",
    "\n",
    "    flex_clothes = RETRIEVER.get_data(file_name='All-Subsystems-hour-Year2.pkl')[\"Load_ClothesWasherPowerWithStandby\"].clip(lower=0) / 1000\n",
    "    flex_dish = RETRIEVER.get_data(file_name='All-Subsystems-hour-Year2.pkl')[\"Elec_PowerDishwasher\"].clip(lower=0) / 1000\n",
    "    flex_dryer = RETRIEVER.get_data(file_name='All-Subsystems-hour-Year2.pkl')[\"Load_DryerPowerTotal\"].clip(lower=0) / 1000\n",
    "\n",
    "    # 7 days of training data - subject to be changed, depends on fcast model\n",
    "    pv = pv.loc[(pv.index >= date - pd.Timedelta(days=7)) & (pv.index < date)]\n",
    "    # fixed = fixed.loc[(fixed.index >= date - pd.Timedelta(days=7)) & (fixed.index < date)]\n",
    "\n",
    "    flex_clothes = flex_clothes.loc[(flex_clothes.index >= date) & (flex_clothes.index < date + pd.Timedelta(days=3))]\n",
    "    flex_dish = flex_dish.loc[(flex_dish.index >= date) & (flex_dish.index < date + pd.Timedelta(days=3))]\n",
    "    flex_dryer = flex_dryer.loc[(flex_dryer.index >= date) & (flex_dryer.index < date + pd.Timedelta(days=3))]\n",
    "\n",
    "    # ------------------ Forecast PV ------------------\n",
    "    pv_pred = FFT_forecast.fourierExtrapolation(data=pv, number_of_predictions=72, n_sinusoids=5)[len(pv):]\n",
    "    print(\"PV Prediction Finished\")\n",
    "\n",
    "    # ------------------ Forecast Fixed ------------------\n",
    "    fixed_pred = SARIMA_forecast.sarima_prediction(date, fixed)\n",
    "    print(\"Fixed Prediction Finished\")\n",
    "\n",
    "    # Concat results\n",
    "    df = pd.concat([pd.DataFrame(pv_pred).reindex(flex_dish.index), fixed_pred.reindex(flex_dish.index), flex_clothes, flex_dish, flex_dryer], axis=1)\n",
    "    # Easy way to remove column names\n",
    "    df = df.T.reset_index(drop=True).T\n",
    "    df.rename(columns={0: \"PV\", 1: \"FIXED\", 2: \"FLEX_CLOTHES\", 3: \"FLEX_DISH\", 4: \"FLEX_DRYER\"}, inplace=True)\n",
    "\n",
    "    # Stand-by values set to 0, simplifies the code\n",
    "    df.loc[df[\"FLEX_CLOTHES\"] <= 0.002947, \"FLEX_CLOTHES\"] = 0\n",
    "\n",
    "    df[\"Balance\"] = df[\"PV\"] - (df[\"FIXED\"] + df[\"FLEX_CLOTHES\"] + df[\"FLEX_DISH\"] + df[\"FLEX_DRYER\"])\n",
    "\n",
    "    # pd.DataFrames with flexible appliances turned on and surplus where at least one flexible is not turned on.\n",
    "    deficit = df[(df[\"Balance\"] < 0) & ((df[\"FLEX_DISH\"] > 0) | (df[\"FLEX_DRYER\"] > 0) | (df[\"FLEX_CLOTHES\"] > 0))]\n",
    "    surplus = df[(df[\"Balance\"] > 0) & ((df[\"FLEX_DISH\"] == 0) | (df[\"FLEX_DRYER\"] == 0) | (df[\"FLEX_CLOTHES\"] == 0))]\n",
    "\n",
    "    columns_dict = {0: \"FLEX_CLOTHES\", 1: \"FLEX_DISH\", 2: \"FLEX_DRYER\"}\n",
    "    res_df = pd.DataFrame(columns=[\"Planned Time\", \"Appliance\", \"Suggested Time\"])\n",
    "\n",
    "    # Loops over all rows in the deficit to find better times to turn on appliances.\n",
    "    for idx, row in deficit.iterrows():\n",
    "        while row[[\"FLEX_CLOTHES\", \"FLEX_DISH\", \"FLEX_DRYER\"]].max() != 0: # Thus, a flexible appliance is active.\n",
    "            col = columns_dict[row[[\"FLEX_CLOTHES\", \"FLEX_DISH\", \"FLEX_DRYER\"]].argmax()] # Column of the largest deficit.\n",
    "\n",
    "            deficit_value = deficit.at[idx, col] # Significance of deficit\n",
    "            surplus_possible = surplus[(surplus[\"Balance\"] >= deficit_value) & (surplus[col] == 0)] # Possible time slots\n",
    "\n",
    "            suggested_time = surplus_possible.index[surplus_possible.index.get_indexer([idx], method='nearest')][0] # Closest time with enough surplus\n",
    "\n",
    "            surplus.at[suggested_time, col] = deficit_value\n",
    "            surplus.at[suggested_time, \"Balance\"] -= deficit_value # Change balance in the surplus df\n",
    "\n",
    "            deficit.at[idx, col] = 0 # Set the deficit value to 0\n",
    "\n",
    "            res_df.loc[len(res_df)] = (idx, col, suggested_time) # Insert rows to final result\n",
    "\n",
    "    return res_df"
   ],
   "metadata": {
    "collapsed": false,
    "pycharm": {
     "name": "#%%\n"
    }
   }
  },
  {
   "cell_type": "code",
   "execution_count": null,
   "outputs": [
    {
     "name": "stdout",
     "output_type": "stream",
     "text": [
      "PV Prediction Finished\n"
     ]
    }
   ],
   "source": [
    "suggested_rescheduler = rescheduler(2016, 1, 21)\n",
    "suggested_rescheduler"
   ],
   "metadata": {
    "collapsed": false,
    "pycharm": {
     "name": "#%%\n",
     "is_executing": true
    }
   }
  },
  {
   "cell_type": "code",
   "execution_count": null,
   "outputs": [],
   "source": [
    "date = pd.Timestamp(year=2016, month=1, day=21)\n",
    "pv = RETRIEVER.get_data(file_name='All-Subsystems-hour-Year2.pkl')[PV_ATTRIBUTES].sum(axis=1).clip(lower=0) / 1000\n",
    "fixed = RETRIEVER.get_data(file_name='All-Subsystems-hour-Year2.pkl')[FIXED_ATTRIBUTES].sum(axis=1).clip(lower=0) / 1000\n",
    "\n",
    "flex_clothes = RETRIEVER.get_data(file_name='All-Subsystems-hour-Year2.pkl')[\"Load_ClothesWasherPowerWithStandby\"].clip(lower=0) / 1000\n",
    "flex_dish = RETRIEVER.get_data(file_name='All-Subsystems-hour-Year2.pkl')[\"Elec_PowerDishwasher\"].clip(lower=0) / 1000\n",
    "flex_dryer = RETRIEVER.get_data(file_name='All-Subsystems-hour-Year2.pkl')[\"Load_DryerPowerTotal\"].clip(lower=0) / 1000\n",
    "\n",
    "pv = pv.loc[(pv.index >= date) & (pv.index < date + pd.Timedelta(days=3))]\n",
    "fixed = fixed.loc[(fixed.index >= date) & (fixed.index < date + pd.Timedelta(days=3))]\n",
    "\n",
    "flex_clothes = flex_clothes.loc[(flex_clothes.index >= date) & (flex_clothes.index < date + pd.Timedelta(days=3))]\n",
    "flex_dish = flex_dish.loc[(flex_dish.index >= date) & (flex_dish.index < date + pd.Timedelta(days=3))]\n",
    "flex_dryer = flex_dryer.loc[(flex_dryer.index >= date) & (flex_dryer.index < date + pd.Timedelta(days=3))]\n",
    "\n",
    "\n",
    "df = pd.concat([pv.reindex(flex_dish.index), fixed.reindex(flex_dish.index), flex_clothes, flex_dish, flex_dryer], axis=1)\n",
    "# Easy way to remove column names\n",
    "df = df.T.reset_index(drop=True).T\n",
    "df.rename(columns={0: \"PV\", 1: \"FIXED\", 2: \"FLEX_CLOTHES\", 3: \"FLEX_DISH\", 4: \"FLEX_DRYER\"}, inplace=True)\n",
    "\n",
    "# Stand-by values set to 0, simplifies the code\n",
    "df.loc[df[\"FLEX_CLOTHES\"] <= 0.002947, \"FLEX_CLOTHES\"] = 0\n",
    "\n",
    "df[\"Balance\"] = df[\"PV\"] - (df[\"FIXED\"] + df[\"FLEX_CLOTHES\"] + df[\"FLEX_DISH\"] + df[\"FLEX_DRYER\"])\n",
    "df"
   ],
   "metadata": {
    "collapsed": false,
    "pycharm": {
     "name": "#%%\n",
     "is_executing": true
    }
   }
  },
  {
   "cell_type": "code",
   "execution_count": null,
   "outputs": [],
   "source": [
    "balance_pre = sum(df[\"Balance\"][df[\"Balance\"] < 0])\n",
    "balance_pre"
   ],
   "metadata": {
    "collapsed": false,
    "pycharm": {
     "name": "#%%\n",
     "is_executing": true
    }
   }
  },
  {
   "cell_type": "code",
   "execution_count": null,
   "outputs": [],
   "source": [
    "for idx, row in suggested_rescheduler.iterrows():\n",
    "    df.at[row[\"Suggested Time\"], row[\"Appliance\"]] = df.at[row[\"Planned Time\"], row[\"Appliance\"]]\n",
    "    df.at[row[\"Planned Time\"], row[\"Appliance\"]] = 0"
   ],
   "metadata": {
    "collapsed": false,
    "pycharm": {
     "name": "#%%\n",
     "is_executing": true
    }
   }
  },
  {
   "cell_type": "code",
   "execution_count": null,
   "outputs": [],
   "source": [
    "df[\"New_Balance\"] = df[\"PV\"] - (df[\"FIXED\"] + df[\"FLEX_CLOTHES\"] + df[\"FLEX_DISH\"] + df[\"FLEX_DRYER\"])\n",
    "df"
   ],
   "metadata": {
    "collapsed": false,
    "pycharm": {
     "name": "#%%\n",
     "is_executing": true
    }
   }
  },
  {
   "cell_type": "code",
   "execution_count": null,
   "outputs": [],
   "source": [
    "balance_post = sum(df[\"New_Balance\"][df[\"New_Balance\"] < 0])\n",
    "balance_post"
   ],
   "metadata": {
    "collapsed": false,
    "pycharm": {
     "name": "#%%\n",
     "is_executing": true
    }
   }
  }
 ],
 "metadata": {
  "kernelspec": {
   "display_name": "Python 3",
   "language": "python",
   "name": "python3"
  },
  "language_info": {
   "codemirror_mode": {
    "name": "ipython",
    "version": 2
   },
   "file_extension": ".py",
   "mimetype": "text/x-python",
   "name": "python",
   "nbconvert_exporter": "python",
   "pygments_lexer": "ipython2",
   "version": "2.7.6"
  }
 },
 "nbformat": 4,
 "nbformat_minor": 0
}