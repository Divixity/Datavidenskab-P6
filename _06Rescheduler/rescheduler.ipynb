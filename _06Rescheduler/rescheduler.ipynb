{
 "cells": [
  {
   "cell_type": "code",
   "execution_count": 24,
   "metadata": {
    "collapsed": true
   },
   "outputs": [],
   "source": [
    "import pandas as pd\n",
    "\n",
    "import DataRetriever as dr\n",
    "import SARIMA_forecast\n",
    "import FFT_forecast\n",
    "\n",
    "RETRIEVER = dr.DataRetriever()\n",
    "CON_ATTRIBUTES = RETRIEVER.get_attributes(file_name='consuming_attributes.pkl')\n",
    "PV_ATTRIBUTES = RETRIEVER.get_attributes(file_name='producing_attributes.pkl')\n",
    "FLEX_ATTRIBUTES = [\"Load_ClothesWasherPowerWithStandby\", \"Elec_PowerDishwasher\", \"Load_DryerPowerTotal\"]\n",
    "FIXED_ATTRIBUTES = list(set(CON_ATTRIBUTES) - set(FLEX_ATTRIBUTES))"
   ]
  },
  {
   "cell_type": "code",
   "execution_count": 25,
   "outputs": [],
   "source": [
    "def rescheduler(year, month, day):\n",
    "    date = pd.Timestamp(year=year, month=month, day=day)\n",
    "    pv = RETRIEVER.get_data(file_name='All-Subsystems-hour-Year2.pkl')[PV_ATTRIBUTES].sum(axis=1).clip(lower=0) / 1000\n",
    "    fixed = RETRIEVER.get_data(file_name='All-Subsystems-hour-Year2.pkl')[FIXED_ATTRIBUTES].sum(axis=1).clip(lower=0) / 1000\n",
    "\n",
    "    flex_clothes = RETRIEVER.get_data(file_name='All-Subsystems-hour-Year2.pkl')[\"Load_ClothesWasherPowerWithStandby\"].clip(lower=0) / 1000\n",
    "    flex_dish = RETRIEVER.get_data(file_name='All-Subsystems-hour-Year2.pkl')[\"Elec_PowerDishwasher\"].clip(lower=0) / 1000\n",
    "    flex_dryer = RETRIEVER.get_data(file_name='All-Subsystems-hour-Year2.pkl')[\"Load_DryerPowerTotal\"].clip(lower=0) / 1000\n",
    "\n",
    "    # 7 days of training data - subject to be changed, depends on fcast model\n",
    "    pv = pv.loc[(pv.index >= date - pd.Timedelta(days=7)) & (pv.index < date)]\n",
    "    fixed = fixed.loc[(fixed.index >= date - pd.Timedelta(days=28)) & (fixed.index < date)]\n",
    "\n",
    "    flex_clothes = flex_clothes.loc[(flex_clothes.index >= date) & (flex_clothes.index < date + pd.Timedelta(days=3))]\n",
    "    flex_dish = flex_dish.loc[(flex_dish.index >= date) & (flex_dish.index < date + pd.Timedelta(days=3))]\n",
    "    flex_dryer = flex_dryer.loc[(flex_dryer.index >= date) & (flex_dryer.index < date + pd.Timedelta(days=3))]\n",
    "\n",
    "    # ------------------ Forecast PV ------------------\n",
    "    pv_pred = pd.DataFrame(data=FFT_forecast.fourierExtrapolation(data=pv, number_of_predictions=72, n_sinusoids=5)[len(pv):], index=flex_dish.index)\n",
    "\n",
    "    # ------------------ Forecast Fixed ------------------\n",
    "    fixed_pred = SARIMA_forecast.sarima_prediction(date, fixed)\n",
    "\n",
    "    # Concat results\n",
    "    df = pd.concat([pv_pred, fixed_pred, flex_clothes, flex_dish, flex_dryer], axis=1)\n",
    "\n",
    "    df = df.T.reset_index(drop=True).T  # Easy way to remove column names\n",
    "    df.rename(columns={0: \"PV\", 1: \"FIXED\", 2: \"FLEX_CLOTHES\", 3: \"FLEX_DISH\", 4: \"FLEX_DRYER\"}, inplace=True)\n",
    "\n",
    "    # Stand-by values set to 0, simplifies the code\n",
    "    df.loc[df[\"FLEX_CLOTHES\"] <= 0.002947, \"FLEX_CLOTHES\"] = 0\n",
    "\n",
    "    df[\"Balance\"] = df[\"PV\"] - (df[\"FIXED\"] + df[\"FLEX_CLOTHES\"] + df[\"FLEX_DISH\"] + df[\"FLEX_DRYER\"])\n",
    "\n",
    "    # pd.DataFrames with flexible appliances turned on and surplus where at least one flexible is not turned on.\n",
    "    deficit = df[(df[\"Balance\"] < 0) & ((df[\"FLEX_DISH\"] > 0) | (df[\"FLEX_DRYER\"] > 0) | (df[\"FLEX_CLOTHES\"] > 0))]\n",
    "    surplus = df[(df[\"Balance\"] > 0) & ((df[\"FLEX_DISH\"] == 0) | (df[\"FLEX_DRYER\"] == 0) | (df[\"FLEX_CLOTHES\"] == 0))]\n",
    "\n",
    "    columns_dict = {0: \"FLEX_CLOTHES\", 1: \"FLEX_DISH\", 2: \"FLEX_DRYER\"}\n",
    "    res_df = pd.DataFrame(columns=[\"Planned Time\", \"Appliance\", \"Suggested Time\"])\n",
    "\n",
    "    # Loops over all rows in the deficit to find better times to turn on appliances.\n",
    "    for idx, row in deficit.iterrows():\n",
    "        while row[[\"FLEX_CLOTHES\", \"FLEX_DISH\", \"FLEX_DRYER\"]].max() > 0: # Thus, a flexible appliance is active.\n",
    "            col = columns_dict[row[[\"FLEX_CLOTHES\", \"FLEX_DISH\", \"FLEX_DRYER\"]].argmax()] # Column of the largest deficit.\n",
    "\n",
    "            deficit_value = deficit.at[idx, col] # Significance of deficit\n",
    "            surplus_possible = surplus[(surplus[\"Balance\"] >= deficit_value) & (surplus[col] == 0)] # Possible time slots\n",
    "\n",
    "            if len(surplus_possible) == 0:  # If in a position where it is not possible to move, skip to next row\n",
    "                break\n",
    "\n",
    "            suggested_time = surplus_possible.index[surplus_possible.index.get_indexer([idx], method='nearest')][0] # Closest time with enough surplus\n",
    "\n",
    "            surplus.at[suggested_time, col] = deficit_value\n",
    "            surplus.at[suggested_time, \"Balance\"] -= deficit_value # Change balance in the surplus df\n",
    "\n",
    "            deficit.at[idx, col] = 0 # Set the deficit value to 0\n",
    "\n",
    "            res_df.loc[len(res_df)] = (idx, col, suggested_time) # Insert rows to final result\n",
    "\n",
    "    return res_df"
   ],
   "metadata": {
    "collapsed": false,
    "pycharm": {
     "name": "#%%\n"
    }
   }
  },
  {
   "cell_type": "code",
   "execution_count": 26,
   "outputs": [
    {
     "name": "stderr",
     "output_type": "stream",
     "text": [
      "/usr/local/lib/python3.8/dist-packages/statsmodels/tsa/statespace/sarimax.py:966: UserWarning: Non-stationary starting autoregressive parameters found. Using zeros as starting parameters.\n",
      "  warn('Non-stationary starting autoregressive parameters'\n",
      "/usr/local/lib/python3.8/dist-packages/statsmodels/tsa/statespace/sarimax.py:978: UserWarning: Non-invertible starting MA parameters found. Using zeros as starting parameters.\n",
      "  warn('Non-invertible starting MA parameters found.'\n",
      "/usr/local/lib/python3.8/dist-packages/statsmodels/tsa/statespace/sarimax.py:866: UserWarning: Too few observations to estimate starting parameters for seasonal ARMA. All parameters except for variances will be set to zeros.\n",
      "  warn('Too few observations to estimate starting parameters%s.'\n"
     ]
    },
    {
     "data": {
      "text/plain": "          Planned Time     Appliance      Suggested Time\n0  2016-01-18 20:00:00     FLEX_DISH 2016-01-18 15:00:00\n1  2016-01-18 21:00:00     FLEX_DISH 2016-01-18 14:00:00\n2  2016-01-18 22:00:00     FLEX_DISH 2016-01-18 13:00:00\n3  2016-01-20 18:00:00  FLEX_CLOTHES 2016-01-20 15:00:00\n4  2016-01-20 19:00:00  FLEX_CLOTHES 2016-01-20 14:00:00\n5  2016-01-20 20:00:00    FLEX_DRYER 2016-01-20 13:00:00\n6  2016-01-20 20:00:00  FLEX_CLOTHES 2016-01-20 13:00:00\n7  2016-01-20 20:00:00     FLEX_DISH 2016-01-20 15:00:00\n8  2016-01-20 21:00:00     FLEX_DISH 2016-01-20 14:00:00\n9  2016-01-20 21:00:00  FLEX_CLOTHES 2016-01-20 12:00:00\n10 2016-01-20 22:00:00     FLEX_DISH 2016-01-20 13:00:00",
      "text/html": "<div>\n<style scoped>\n    .dataframe tbody tr th:only-of-type {\n        vertical-align: middle;\n    }\n\n    .dataframe tbody tr th {\n        vertical-align: top;\n    }\n\n    .dataframe thead th {\n        text-align: right;\n    }\n</style>\n<table border=\"1\" class=\"dataframe\">\n  <thead>\n    <tr style=\"text-align: right;\">\n      <th></th>\n      <th>Planned Time</th>\n      <th>Appliance</th>\n      <th>Suggested Time</th>\n    </tr>\n  </thead>\n  <tbody>\n    <tr>\n      <th>0</th>\n      <td>2016-01-18 20:00:00</td>\n      <td>FLEX_DISH</td>\n      <td>2016-01-18 15:00:00</td>\n    </tr>\n    <tr>\n      <th>1</th>\n      <td>2016-01-18 21:00:00</td>\n      <td>FLEX_DISH</td>\n      <td>2016-01-18 14:00:00</td>\n    </tr>\n    <tr>\n      <th>2</th>\n      <td>2016-01-18 22:00:00</td>\n      <td>FLEX_DISH</td>\n      <td>2016-01-18 13:00:00</td>\n    </tr>\n    <tr>\n      <th>3</th>\n      <td>2016-01-20 18:00:00</td>\n      <td>FLEX_CLOTHES</td>\n      <td>2016-01-20 15:00:00</td>\n    </tr>\n    <tr>\n      <th>4</th>\n      <td>2016-01-20 19:00:00</td>\n      <td>FLEX_CLOTHES</td>\n      <td>2016-01-20 14:00:00</td>\n    </tr>\n    <tr>\n      <th>5</th>\n      <td>2016-01-20 20:00:00</td>\n      <td>FLEX_DRYER</td>\n      <td>2016-01-20 13:00:00</td>\n    </tr>\n    <tr>\n      <th>6</th>\n      <td>2016-01-20 20:00:00</td>\n      <td>FLEX_CLOTHES</td>\n      <td>2016-01-20 13:00:00</td>\n    </tr>\n    <tr>\n      <th>7</th>\n      <td>2016-01-20 20:00:00</td>\n      <td>FLEX_DISH</td>\n      <td>2016-01-20 15:00:00</td>\n    </tr>\n    <tr>\n      <th>8</th>\n      <td>2016-01-20 21:00:00</td>\n      <td>FLEX_DISH</td>\n      <td>2016-01-20 14:00:00</td>\n    </tr>\n    <tr>\n      <th>9</th>\n      <td>2016-01-20 21:00:00</td>\n      <td>FLEX_CLOTHES</td>\n      <td>2016-01-20 12:00:00</td>\n    </tr>\n    <tr>\n      <th>10</th>\n      <td>2016-01-20 22:00:00</td>\n      <td>FLEX_DISH</td>\n      <td>2016-01-20 13:00:00</td>\n    </tr>\n  </tbody>\n</table>\n</div>"
     },
     "execution_count": 26,
     "metadata": {},
     "output_type": "execute_result"
    }
   ],
   "source": [
    "suggested_rescheduler = rescheduler(2016, 1, 18)\n",
    "suggested_rescheduler"
   ],
   "metadata": {
    "collapsed": false,
    "pycharm": {
     "name": "#%%\n"
    }
   }
  },
  {
   "cell_type": "code",
   "execution_count": 28,
   "outputs": [
    {
     "data": {
      "text/plain": "                           PV     FIXED  FLEX_CLOTHES  FLEX_DISH  FLEX_DRYER  \\\nTimestamp                                                                      \n2016-01-18 00:00:00  0.018460  1.534748      0.000000   0.000000    0.000000   \n2016-01-18 01:00:00  0.018366  1.694601      0.000000   0.000000    0.000000   \n2016-01-18 02:00:00  0.018294  1.820077      0.000000   0.000000    0.000000   \n2016-01-18 03:00:00  0.018351  1.614793      0.000000   0.000000    0.000000   \n2016-01-18 04:00:00  0.018398  1.747775      0.000000   0.000000    0.000000   \n...                       ...       ...           ...        ...         ...   \n2016-01-20 19:00:00  0.017997  2.318495      0.080852   0.000000    0.000000   \n2016-01-20 20:00:00  0.018141  2.970168      0.100377   0.006675    1.696585   \n2016-01-20 21:00:00  0.018224  3.180637      0.068936   0.359280    0.000000   \n2016-01-20 22:00:00  0.018430  2.566405      0.000000   0.003587    0.000000   \n2016-01-20 23:00:00  0.018462  1.965066      0.000000   0.000000    0.000000   \n\n                      Balance  \nTimestamp                      \n2016-01-18 00:00:00 -1.516289  \n2016-01-18 01:00:00 -1.676235  \n2016-01-18 02:00:00 -1.801782  \n2016-01-18 03:00:00 -1.596442  \n2016-01-18 04:00:00 -1.729377  \n...                       ...  \n2016-01-20 19:00:00 -2.381349  \n2016-01-20 20:00:00 -4.755664  \n2016-01-20 21:00:00 -3.590630  \n2016-01-20 22:00:00 -2.551563  \n2016-01-20 23:00:00 -1.946604  \n\n[72 rows x 6 columns]",
      "text/html": "<div>\n<style scoped>\n    .dataframe tbody tr th:only-of-type {\n        vertical-align: middle;\n    }\n\n    .dataframe tbody tr th {\n        vertical-align: top;\n    }\n\n    .dataframe thead th {\n        text-align: right;\n    }\n</style>\n<table border=\"1\" class=\"dataframe\">\n  <thead>\n    <tr style=\"text-align: right;\">\n      <th></th>\n      <th>PV</th>\n      <th>FIXED</th>\n      <th>FLEX_CLOTHES</th>\n      <th>FLEX_DISH</th>\n      <th>FLEX_DRYER</th>\n      <th>Balance</th>\n    </tr>\n    <tr>\n      <th>Timestamp</th>\n      <th></th>\n      <th></th>\n      <th></th>\n      <th></th>\n      <th></th>\n      <th></th>\n    </tr>\n  </thead>\n  <tbody>\n    <tr>\n      <th>2016-01-18 00:00:00</th>\n      <td>0.018460</td>\n      <td>1.534748</td>\n      <td>0.000000</td>\n      <td>0.000000</td>\n      <td>0.000000</td>\n      <td>-1.516289</td>\n    </tr>\n    <tr>\n      <th>2016-01-18 01:00:00</th>\n      <td>0.018366</td>\n      <td>1.694601</td>\n      <td>0.000000</td>\n      <td>0.000000</td>\n      <td>0.000000</td>\n      <td>-1.676235</td>\n    </tr>\n    <tr>\n      <th>2016-01-18 02:00:00</th>\n      <td>0.018294</td>\n      <td>1.820077</td>\n      <td>0.000000</td>\n      <td>0.000000</td>\n      <td>0.000000</td>\n      <td>-1.801782</td>\n    </tr>\n    <tr>\n      <th>2016-01-18 03:00:00</th>\n      <td>0.018351</td>\n      <td>1.614793</td>\n      <td>0.000000</td>\n      <td>0.000000</td>\n      <td>0.000000</td>\n      <td>-1.596442</td>\n    </tr>\n    <tr>\n      <th>2016-01-18 04:00:00</th>\n      <td>0.018398</td>\n      <td>1.747775</td>\n      <td>0.000000</td>\n      <td>0.000000</td>\n      <td>0.000000</td>\n      <td>-1.729377</td>\n    </tr>\n    <tr>\n      <th>...</th>\n      <td>...</td>\n      <td>...</td>\n      <td>...</td>\n      <td>...</td>\n      <td>...</td>\n      <td>...</td>\n    </tr>\n    <tr>\n      <th>2016-01-20 19:00:00</th>\n      <td>0.017997</td>\n      <td>2.318495</td>\n      <td>0.080852</td>\n      <td>0.000000</td>\n      <td>0.000000</td>\n      <td>-2.381349</td>\n    </tr>\n    <tr>\n      <th>2016-01-20 20:00:00</th>\n      <td>0.018141</td>\n      <td>2.970168</td>\n      <td>0.100377</td>\n      <td>0.006675</td>\n      <td>1.696585</td>\n      <td>-4.755664</td>\n    </tr>\n    <tr>\n      <th>2016-01-20 21:00:00</th>\n      <td>0.018224</td>\n      <td>3.180637</td>\n      <td>0.068936</td>\n      <td>0.359280</td>\n      <td>0.000000</td>\n      <td>-3.590630</td>\n    </tr>\n    <tr>\n      <th>2016-01-20 22:00:00</th>\n      <td>0.018430</td>\n      <td>2.566405</td>\n      <td>0.000000</td>\n      <td>0.003587</td>\n      <td>0.000000</td>\n      <td>-2.551563</td>\n    </tr>\n    <tr>\n      <th>2016-01-20 23:00:00</th>\n      <td>0.018462</td>\n      <td>1.965066</td>\n      <td>0.000000</td>\n      <td>0.000000</td>\n      <td>0.000000</td>\n      <td>-1.946604</td>\n    </tr>\n  </tbody>\n</table>\n<p>72 rows × 6 columns</p>\n</div>"
     },
     "execution_count": 28,
     "metadata": {},
     "output_type": "execute_result"
    }
   ],
   "source": [
    "date = pd.Timestamp(year=2016, month=1, day=18)\n",
    "pv = RETRIEVER.get_data(file_name='All-Subsystems-hour-Year2.pkl')[PV_ATTRIBUTES].sum(axis=1).clip(lower=0) / 1000\n",
    "fixed = RETRIEVER.get_data(file_name='All-Subsystems-hour-Year2.pkl')[FIXED_ATTRIBUTES].sum(axis=1).clip(lower=0) / 1000\n",
    "\n",
    "flex_clothes = RETRIEVER.get_data(file_name='All-Subsystems-hour-Year2.pkl')[\"Load_ClothesWasherPowerWithStandby\"].clip(lower=0) / 1000\n",
    "flex_dish = RETRIEVER.get_data(file_name='All-Subsystems-hour-Year2.pkl')[\"Elec_PowerDishwasher\"].clip(lower=0) / 1000\n",
    "flex_dryer = RETRIEVER.get_data(file_name='All-Subsystems-hour-Year2.pkl')[\"Load_DryerPowerTotal\"].clip(lower=0) / 1000\n",
    "\n",
    "pv = pv.loc[(pv.index >= date) & (pv.index < date + pd.Timedelta(days=3))]\n",
    "fixed = fixed.loc[(fixed.index >= date) & (fixed.index < date + pd.Timedelta(days=3))]\n",
    "\n",
    "flex_clothes = flex_clothes.loc[(flex_clothes.index >= date) & (flex_clothes.index < date + pd.Timedelta(days=3))]\n",
    "flex_dish = flex_dish.loc[(flex_dish.index >= date) & (flex_dish.index < date + pd.Timedelta(days=3))]\n",
    "flex_dryer = flex_dryer.loc[(flex_dryer.index >= date) & (flex_dryer.index < date + pd.Timedelta(days=3))]\n",
    "\n",
    "df = pd.concat([pv, fixed, flex_clothes, flex_dish, flex_dryer], axis=1)\n",
    "# Easy way to remove column names\n",
    "df = df.T.reset_index(drop=True).T\n",
    "df.rename(columns={0: \"PV\", 1: \"FIXED\", 2: \"FLEX_CLOTHES\", 3: \"FLEX_DISH\", 4: \"FLEX_DRYER\"}, inplace=True)\n",
    "\n",
    "# Stand-by values set to 0, simplifies the code\n",
    "df.loc[df[\"FLEX_CLOTHES\"] <= 0.002947, \"FLEX_CLOTHES\"] = 0\n",
    "\n",
    "df[\"Balance\"] = df[\"PV\"] - (df[\"FIXED\"] + df[\"FLEX_CLOTHES\"] + df[\"FLEX_DISH\"] + df[\"FLEX_DRYER\"])\n",
    "df"
   ],
   "metadata": {
    "collapsed": false,
    "pycharm": {
     "name": "#%%\n"
    }
   }
  },
  {
   "cell_type": "code",
   "execution_count": 30,
   "outputs": [
    {
     "data": {
      "text/plain": "-118.82327744458001"
     },
     "execution_count": 29,
     "metadata": {},
     "output_type": "execute_result"
    },
    {
     "data": {
      "text/plain": "-118.82327744458001"
     },
     "execution_count": 30,
     "metadata": {},
     "output_type": "execute_result"
    }
   ],
   "source": [
    "balance_pre = sum(df[\"Balance\"][df[\"Balance\"] < 0])\n",
    "balance_pre"
   ],
   "metadata": {
    "collapsed": false,
    "pycharm": {
     "name": "#%%\n"
    }
   }
  },
  {
   "cell_type": "code",
   "execution_count": 31,
   "outputs": [
    {
     "data": {
      "text/plain": "          Planned Time     Appliance      Suggested Time\n0  2016-01-18 20:00:00     FLEX_DISH 2016-01-18 15:00:00\n1  2016-01-18 21:00:00     FLEX_DISH 2016-01-18 14:00:00\n2  2016-01-18 22:00:00     FLEX_DISH 2016-01-18 13:00:00\n3  2016-01-20 18:00:00  FLEX_CLOTHES 2016-01-20 15:00:00\n4  2016-01-20 19:00:00  FLEX_CLOTHES 2016-01-20 14:00:00\n5  2016-01-20 20:00:00    FLEX_DRYER 2016-01-20 13:00:00\n6  2016-01-20 20:00:00  FLEX_CLOTHES 2016-01-20 13:00:00\n7  2016-01-20 20:00:00     FLEX_DISH 2016-01-20 15:00:00\n8  2016-01-20 21:00:00     FLEX_DISH 2016-01-20 14:00:00\n9  2016-01-20 21:00:00  FLEX_CLOTHES 2016-01-20 12:00:00\n10 2016-01-20 22:00:00     FLEX_DISH 2016-01-20 13:00:00",
      "text/html": "<div>\n<style scoped>\n    .dataframe tbody tr th:only-of-type {\n        vertical-align: middle;\n    }\n\n    .dataframe tbody tr th {\n        vertical-align: top;\n    }\n\n    .dataframe thead th {\n        text-align: right;\n    }\n</style>\n<table border=\"1\" class=\"dataframe\">\n  <thead>\n    <tr style=\"text-align: right;\">\n      <th></th>\n      <th>Planned Time</th>\n      <th>Appliance</th>\n      <th>Suggested Time</th>\n    </tr>\n  </thead>\n  <tbody>\n    <tr>\n      <th>0</th>\n      <td>2016-01-18 20:00:00</td>\n      <td>FLEX_DISH</td>\n      <td>2016-01-18 15:00:00</td>\n    </tr>\n    <tr>\n      <th>1</th>\n      <td>2016-01-18 21:00:00</td>\n      <td>FLEX_DISH</td>\n      <td>2016-01-18 14:00:00</td>\n    </tr>\n    <tr>\n      <th>2</th>\n      <td>2016-01-18 22:00:00</td>\n      <td>FLEX_DISH</td>\n      <td>2016-01-18 13:00:00</td>\n    </tr>\n    <tr>\n      <th>3</th>\n      <td>2016-01-20 18:00:00</td>\n      <td>FLEX_CLOTHES</td>\n      <td>2016-01-20 15:00:00</td>\n    </tr>\n    <tr>\n      <th>4</th>\n      <td>2016-01-20 19:00:00</td>\n      <td>FLEX_CLOTHES</td>\n      <td>2016-01-20 14:00:00</td>\n    </tr>\n    <tr>\n      <th>5</th>\n      <td>2016-01-20 20:00:00</td>\n      <td>FLEX_DRYER</td>\n      <td>2016-01-20 13:00:00</td>\n    </tr>\n    <tr>\n      <th>6</th>\n      <td>2016-01-20 20:00:00</td>\n      <td>FLEX_CLOTHES</td>\n      <td>2016-01-20 13:00:00</td>\n    </tr>\n    <tr>\n      <th>7</th>\n      <td>2016-01-20 20:00:00</td>\n      <td>FLEX_DISH</td>\n      <td>2016-01-20 15:00:00</td>\n    </tr>\n    <tr>\n      <th>8</th>\n      <td>2016-01-20 21:00:00</td>\n      <td>FLEX_DISH</td>\n      <td>2016-01-20 14:00:00</td>\n    </tr>\n    <tr>\n      <th>9</th>\n      <td>2016-01-20 21:00:00</td>\n      <td>FLEX_CLOTHES</td>\n      <td>2016-01-20 12:00:00</td>\n    </tr>\n    <tr>\n      <th>10</th>\n      <td>2016-01-20 22:00:00</td>\n      <td>FLEX_DISH</td>\n      <td>2016-01-20 13:00:00</td>\n    </tr>\n  </tbody>\n</table>\n</div>"
     },
     "execution_count": 31,
     "metadata": {},
     "output_type": "execute_result"
    }
   ],
   "source": [
    "suggested_rescheduler"
   ],
   "metadata": {
    "collapsed": false,
    "pycharm": {
     "name": "#%%\n"
    }
   }
  },
  {
   "cell_type": "code",
   "execution_count": 32,
   "outputs": [],
   "source": [
    "for idx, row in suggested_rescheduler.iterrows():\n",
    "    df.at[row[\"Suggested Time\"], row[\"Appliance\"]] = df.at[row[\"Planned Time\"], row[\"Appliance\"]]\n",
    "    df.at[row[\"Planned Time\"], row[\"Appliance\"]] = 0"
   ],
   "metadata": {
    "collapsed": false,
    "pycharm": {
     "name": "#%%\n"
    }
   }
  },
  {
   "cell_type": "code",
   "execution_count": 33,
   "outputs": [
    {
     "data": {
      "text/plain": "                           PV     FIXED  FLEX_CLOTHES  FLEX_DISH  FLEX_DRYER  \\\nTimestamp                                                                      \n2016-01-18 00:00:00  0.018460  1.534748           0.0        0.0         0.0   \n2016-01-18 01:00:00  0.018366  1.694601           0.0        0.0         0.0   \n2016-01-18 02:00:00  0.018294  1.820077           0.0        0.0         0.0   \n2016-01-18 03:00:00  0.018351  1.614793           0.0        0.0         0.0   \n2016-01-18 04:00:00  0.018398  1.747775           0.0        0.0         0.0   \n...                       ...       ...           ...        ...         ...   \n2016-01-20 19:00:00  0.017997  2.318495           0.0        0.0         0.0   \n2016-01-20 20:00:00  0.018141  2.970168           0.0        0.0         0.0   \n2016-01-20 21:00:00  0.018224  3.180637           0.0        0.0         0.0   \n2016-01-20 22:00:00  0.018430  2.566405           0.0        0.0         0.0   \n2016-01-20 23:00:00  0.018462  1.965066           0.0        0.0         0.0   \n\n                      Balance  New_Balance  \nTimestamp                                   \n2016-01-18 00:00:00 -1.516289    -1.516289  \n2016-01-18 01:00:00 -1.676235    -1.676235  \n2016-01-18 02:00:00 -1.801782    -1.801782  \n2016-01-18 03:00:00 -1.596442    -1.596442  \n2016-01-18 04:00:00 -1.729377    -1.729377  \n...                       ...          ...  \n2016-01-20 19:00:00 -2.381349    -2.300498  \n2016-01-20 20:00:00 -4.755664    -2.952027  \n2016-01-20 21:00:00 -3.590630    -3.162414  \n2016-01-20 22:00:00 -2.551563    -2.547976  \n2016-01-20 23:00:00 -1.946604    -1.946604  \n\n[72 rows x 7 columns]",
      "text/html": "<div>\n<style scoped>\n    .dataframe tbody tr th:only-of-type {\n        vertical-align: middle;\n    }\n\n    .dataframe tbody tr th {\n        vertical-align: top;\n    }\n\n    .dataframe thead th {\n        text-align: right;\n    }\n</style>\n<table border=\"1\" class=\"dataframe\">\n  <thead>\n    <tr style=\"text-align: right;\">\n      <th></th>\n      <th>PV</th>\n      <th>FIXED</th>\n      <th>FLEX_CLOTHES</th>\n      <th>FLEX_DISH</th>\n      <th>FLEX_DRYER</th>\n      <th>Balance</th>\n      <th>New_Balance</th>\n    </tr>\n    <tr>\n      <th>Timestamp</th>\n      <th></th>\n      <th></th>\n      <th></th>\n      <th></th>\n      <th></th>\n      <th></th>\n      <th></th>\n    </tr>\n  </thead>\n  <tbody>\n    <tr>\n      <th>2016-01-18 00:00:00</th>\n      <td>0.018460</td>\n      <td>1.534748</td>\n      <td>0.0</td>\n      <td>0.0</td>\n      <td>0.0</td>\n      <td>-1.516289</td>\n      <td>-1.516289</td>\n    </tr>\n    <tr>\n      <th>2016-01-18 01:00:00</th>\n      <td>0.018366</td>\n      <td>1.694601</td>\n      <td>0.0</td>\n      <td>0.0</td>\n      <td>0.0</td>\n      <td>-1.676235</td>\n      <td>-1.676235</td>\n    </tr>\n    <tr>\n      <th>2016-01-18 02:00:00</th>\n      <td>0.018294</td>\n      <td>1.820077</td>\n      <td>0.0</td>\n      <td>0.0</td>\n      <td>0.0</td>\n      <td>-1.801782</td>\n      <td>-1.801782</td>\n    </tr>\n    <tr>\n      <th>2016-01-18 03:00:00</th>\n      <td>0.018351</td>\n      <td>1.614793</td>\n      <td>0.0</td>\n      <td>0.0</td>\n      <td>0.0</td>\n      <td>-1.596442</td>\n      <td>-1.596442</td>\n    </tr>\n    <tr>\n      <th>2016-01-18 04:00:00</th>\n      <td>0.018398</td>\n      <td>1.747775</td>\n      <td>0.0</td>\n      <td>0.0</td>\n      <td>0.0</td>\n      <td>-1.729377</td>\n      <td>-1.729377</td>\n    </tr>\n    <tr>\n      <th>...</th>\n      <td>...</td>\n      <td>...</td>\n      <td>...</td>\n      <td>...</td>\n      <td>...</td>\n      <td>...</td>\n      <td>...</td>\n    </tr>\n    <tr>\n      <th>2016-01-20 19:00:00</th>\n      <td>0.017997</td>\n      <td>2.318495</td>\n      <td>0.0</td>\n      <td>0.0</td>\n      <td>0.0</td>\n      <td>-2.381349</td>\n      <td>-2.300498</td>\n    </tr>\n    <tr>\n      <th>2016-01-20 20:00:00</th>\n      <td>0.018141</td>\n      <td>2.970168</td>\n      <td>0.0</td>\n      <td>0.0</td>\n      <td>0.0</td>\n      <td>-4.755664</td>\n      <td>-2.952027</td>\n    </tr>\n    <tr>\n      <th>2016-01-20 21:00:00</th>\n      <td>0.018224</td>\n      <td>3.180637</td>\n      <td>0.0</td>\n      <td>0.0</td>\n      <td>0.0</td>\n      <td>-3.590630</td>\n      <td>-3.162414</td>\n    </tr>\n    <tr>\n      <th>2016-01-20 22:00:00</th>\n      <td>0.018430</td>\n      <td>2.566405</td>\n      <td>0.0</td>\n      <td>0.0</td>\n      <td>0.0</td>\n      <td>-2.551563</td>\n      <td>-2.547976</td>\n    </tr>\n    <tr>\n      <th>2016-01-20 23:00:00</th>\n      <td>0.018462</td>\n      <td>1.965066</td>\n      <td>0.0</td>\n      <td>0.0</td>\n      <td>0.0</td>\n      <td>-1.946604</td>\n      <td>-1.946604</td>\n    </tr>\n  </tbody>\n</table>\n<p>72 rows × 7 columns</p>\n</div>"
     },
     "execution_count": 33,
     "metadata": {},
     "output_type": "execute_result"
    }
   ],
   "source": [
    "df[\"New_Balance\"] = df[\"PV\"] - (df[\"FIXED\"] + df[\"FLEX_CLOTHES\"] + df[\"FLEX_DISH\"] + df[\"FLEX_DRYER\"])\n",
    "df"
   ],
   "metadata": {
    "collapsed": false,
    "pycharm": {
     "name": "#%%\n"
    }
   }
  },
  {
   "cell_type": "code",
   "execution_count": 34,
   "outputs": [
    {
     "data": {
      "text/plain": "-117.520288194811"
     },
     "execution_count": 34,
     "metadata": {},
     "output_type": "execute_result"
    }
   ],
   "source": [
    "balance_post = sum(df[\"New_Balance\"][df[\"New_Balance\"] < 0])\n",
    "balance_post"
   ],
   "metadata": {
    "collapsed": false,
    "pycharm": {
     "name": "#%%\n"
    }
   }
  },
  {
   "cell_type": "code",
   "execution_count": 37,
   "outputs": [
    {
     "data": {
      "text/plain": "1.0965774365016445"
     },
     "execution_count": 37,
     "metadata": {},
     "output_type": "execute_result"
    }
   ],
   "source": [
    "(1 - balance_post / balance_pre) * 100"
   ],
   "metadata": {
    "collapsed": false,
    "pycharm": {
     "name": "#%%\n"
    }
   }
  },
  {
   "cell_type": "code",
   "execution_count": null,
   "outputs": [],
   "source": [],
   "metadata": {
    "collapsed": false,
    "pycharm": {
     "name": "#%%\n"
    }
   }
  }
 ],
 "metadata": {
  "kernelspec": {
   "display_name": "Python 3",
   "language": "python",
   "name": "python3"
  },
  "language_info": {
   "codemirror_mode": {
    "name": "ipython",
    "version": 2
   },
   "file_extension": ".py",
   "mimetype": "text/x-python",
   "name": "python",
   "nbconvert_exporter": "python",
   "pygments_lexer": "ipython2",
   "version": "2.7.6"
  }
 },
 "nbformat": 4,
 "nbformat_minor": 0
}