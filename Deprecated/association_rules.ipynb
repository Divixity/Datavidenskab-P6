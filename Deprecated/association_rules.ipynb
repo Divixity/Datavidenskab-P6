{
 "cells": [
  {
   "cell_type": "code",
   "execution_count": 51,
   "metadata": {
    "collapsed": true,
    "pycharm": {
     "name": "#%%\n"
    }
   },
   "outputs": [],
   "source": [
    "import DataRetriever as dr\n",
    "import pandas as pd\n",
    "from mlxtend.frequent_patterns import fpgrowth, association_rules"
   ]
  },
  {
   "cell_type": "code",
   "execution_count": 52,
   "outputs": [],
   "source": [
    "retriever = dr.DataRetriever()\n",
    "year_2 = retriever.get_data(\"All-Subsystems-hour-Year2.pkl\")\n",
    "year_2[\"Timestamp\"] = pd.to_datetime(year_2[\"Timestamp\"])"
   ],
   "metadata": {
    "collapsed": false,
    "pycharm": {
     "name": "#%%\n"
    }
   }
  },
  {
   "cell_type": "code",
   "execution_count": 53,
   "outputs": [],
   "source": [
    "# Remove the \"-5\" part from the timestamp, since we do not need to convert between timezones, so we see the time as local\n",
    "for row in year_2.index:\n",
    "    dt = year_2[\"Timestamp\"][row]\n",
    "    year_2.at[row, \"Timestamp\"] = pd.Timestamp(year=dt.year, month=dt.month, day=dt.day,\n",
    "                                           hour=dt.hour, minute=dt.minute, second=dt.second)\n",
    "\n",
    "# Cast the Timestamp column to be of type DateTime\n",
    "year_2[\"Timestamp\"] = pd.to_datetime(year_2[\"Timestamp\"])"
   ],
   "metadata": {
    "collapsed": false,
    "pycharm": {
     "name": "#%%\n"
    }
   }
  },
  {
   "cell_type": "code",
   "execution_count": 54,
   "outputs": [],
   "source": [
    "# Set the index to be the timestamp to keep it when finding frequent items\n",
    "year_2.index = year_2[\"Timestamp\"]"
   ],
   "metadata": {
    "collapsed": false,
    "pycharm": {
     "name": "#%%\n"
    }
   }
  },
  {
   "cell_type": "code",
   "execution_count": 55,
   "outputs": [],
   "source": [
    "pv_columns = [column for column in year_2.columns if column.startswith(\"PV_Watts3PhTotalW3PhT1\")]\n",
    "pv_data = year_2[pv_columns]"
   ],
   "metadata": {
    "collapsed": false,
    "pycharm": {
     "name": "#%%\n"
    }
   }
  },
  {
   "cell_type": "code",
   "execution_count": 56,
   "outputs": [
    {
     "name": "stderr",
     "output_type": "stream",
     "text": [
      "C:\\Users\\madsc\\AppData\\Local\\Temp\\ipykernel_19964\\3308511092.py:1: SettingWithCopyWarning:\n",
      "\n",
      "\n",
      "A value is trying to be set on a copy of a slice from a DataFrame.\n",
      "Try using .loc[row_indexer,col_indexer] = value instead\n",
      "\n",
      "See the caveats in the documentation: https://pandas.pydata.org/pandas-docs/stable/user_guide/indexing.html#returning-a-view-versus-a-copy\n",
      "\n",
      "C:\\Users\\madsc\\AppData\\Roaming\\Python\\Python39\\site-packages\\pandas\\core\\frame.py:3718: SettingWithCopyWarning:\n",
      "\n",
      "\n",
      "A value is trying to be set on a copy of a slice from a DataFrame\n",
      "\n",
      "See the caveats in the documentation: https://pandas.pydata.org/pandas-docs/stable/user_guide/indexing.html#returning-a-view-versus-a-copy\n",
      "\n"
     ]
    }
   ],
   "source": [
    "pv_data[pv_data < 10] = 0"
   ],
   "metadata": {
    "collapsed": false,
    "pycharm": {
     "name": "#%%\n"
    }
   }
  },
  {
   "cell_type": "code",
   "execution_count": 57,
   "outputs": [
    {
     "name": "stderr",
     "output_type": "stream",
     "text": [
      "C:\\Users\\madsc\\AppData\\Local\\Temp\\ipykernel_19964\\4064856359.py:2: SettingWithCopyWarning:\n",
      "\n",
      "\n",
      "A value is trying to be set on a copy of a slice from a DataFrame.\n",
      "Try using .loc[row_indexer,col_indexer] = value instead\n",
      "\n",
      "See the caveats in the documentation: https://pandas.pydata.org/pandas-docs/stable/user_guide/indexing.html#returning-a-view-versus-a-copy\n",
      "\n"
     ]
    }
   ],
   "source": [
    "# Create a DataFrame containing One-Hot-Encoded hour of each TimeStamp in the data\n",
    "pv_data[\"Hour\"] = pv_data.index.hour\n",
    "dummy_hours = pd.get_dummies(pv_data[\"Hour\"])  # One-hot encoding"
   ],
   "metadata": {
    "collapsed": false,
    "pycharm": {
     "name": "#%%\n"
    }
   }
  },
  {
   "cell_type": "code",
   "execution_count": 58,
   "outputs": [],
   "source": [
    "pv_data = pv_data.merge(right=dummy_hours, how='left', left_index=True, right_index=True)\n",
    "del pv_data[\"Hour\"]"
   ],
   "metadata": {
    "collapsed": false,
    "pycharm": {
     "name": "#%%\n"
    }
   }
  },
  {
   "cell_type": "code",
   "execution_count": 59,
   "outputs": [],
   "source": [
    "pv_data_bool = pv_data.astype(bool)"
   ],
   "metadata": {
    "collapsed": false,
    "pycharm": {
     "name": "#%%\n"
    }
   }
  },
  {
   "cell_type": "code",
   "execution_count": 60,
   "outputs": [
    {
     "data": {
      "text/plain": "                     PV_Watts3PhTotalW3PhT1      0      1      2      3  \\\nTimestamp                                                                 \n2015-02-01 00:00:00                   False   True  False  False  False   \n2015-02-01 01:00:00                   False  False   True  False  False   \n2015-02-01 02:00:00                   False  False  False   True  False   \n2015-02-01 03:00:00                   False  False  False  False   True   \n2015-02-01 04:00:00                   False  False  False  False  False   \n...                                     ...    ...    ...    ...    ...   \n2016-01-31 19:00:00                   False  False  False  False  False   \n2016-01-31 20:00:00                   False  False  False  False  False   \n2016-01-31 21:00:00                   False  False  False  False  False   \n2016-01-31 22:00:00                   False  False  False  False  False   \n2016-01-31 23:00:00                   False  False  False  False  False   \n\n                         4      5      6      7      8  ...     14     15  \\\nTimestamp                                               ...                 \n2015-02-01 00:00:00  False  False  False  False  False  ...  False  False   \n2015-02-01 01:00:00  False  False  False  False  False  ...  False  False   \n2015-02-01 02:00:00  False  False  False  False  False  ...  False  False   \n2015-02-01 03:00:00  False  False  False  False  False  ...  False  False   \n2015-02-01 04:00:00   True  False  False  False  False  ...  False  False   \n...                    ...    ...    ...    ...    ...  ...    ...    ...   \n2016-01-31 19:00:00  False  False  False  False  False  ...  False  False   \n2016-01-31 20:00:00  False  False  False  False  False  ...  False  False   \n2016-01-31 21:00:00  False  False  False  False  False  ...  False  False   \n2016-01-31 22:00:00  False  False  False  False  False  ...  False  False   \n2016-01-31 23:00:00  False  False  False  False  False  ...  False  False   \n\n                        16     17     18     19     20     21     22     23  \nTimestamp                                                                    \n2015-02-01 00:00:00  False  False  False  False  False  False  False  False  \n2015-02-01 01:00:00  False  False  False  False  False  False  False  False  \n2015-02-01 02:00:00  False  False  False  False  False  False  False  False  \n2015-02-01 03:00:00  False  False  False  False  False  False  False  False  \n2015-02-01 04:00:00  False  False  False  False  False  False  False  False  \n...                    ...    ...    ...    ...    ...    ...    ...    ...  \n2016-01-31 19:00:00  False  False  False   True  False  False  False  False  \n2016-01-31 20:00:00  False  False  False  False   True  False  False  False  \n2016-01-31 21:00:00  False  False  False  False  False   True  False  False  \n2016-01-31 22:00:00  False  False  False  False  False  False   True  False  \n2016-01-31 23:00:00  False  False  False  False  False  False  False   True  \n\n[8762 rows x 25 columns]",
      "text/html": "<div>\n<style scoped>\n    .dataframe tbody tr th:only-of-type {\n        vertical-align: middle;\n    }\n\n    .dataframe tbody tr th {\n        vertical-align: top;\n    }\n\n    .dataframe thead th {\n        text-align: right;\n    }\n</style>\n<table border=\"1\" class=\"dataframe\">\n  <thead>\n    <tr style=\"text-align: right;\">\n      <th></th>\n      <th>PV_Watts3PhTotalW3PhT1</th>\n      <th>0</th>\n      <th>1</th>\n      <th>2</th>\n      <th>3</th>\n      <th>4</th>\n      <th>5</th>\n      <th>6</th>\n      <th>7</th>\n      <th>8</th>\n      <th>...</th>\n      <th>14</th>\n      <th>15</th>\n      <th>16</th>\n      <th>17</th>\n      <th>18</th>\n      <th>19</th>\n      <th>20</th>\n      <th>21</th>\n      <th>22</th>\n      <th>23</th>\n    </tr>\n    <tr>\n      <th>Timestamp</th>\n      <th></th>\n      <th></th>\n      <th></th>\n      <th></th>\n      <th></th>\n      <th></th>\n      <th></th>\n      <th></th>\n      <th></th>\n      <th></th>\n      <th></th>\n      <th></th>\n      <th></th>\n      <th></th>\n      <th></th>\n      <th></th>\n      <th></th>\n      <th></th>\n      <th></th>\n      <th></th>\n      <th></th>\n    </tr>\n  </thead>\n  <tbody>\n    <tr>\n      <th>2015-02-01 00:00:00</th>\n      <td>False</td>\n      <td>True</td>\n      <td>False</td>\n      <td>False</td>\n      <td>False</td>\n      <td>False</td>\n      <td>False</td>\n      <td>False</td>\n      <td>False</td>\n      <td>False</td>\n      <td>...</td>\n      <td>False</td>\n      <td>False</td>\n      <td>False</td>\n      <td>False</td>\n      <td>False</td>\n      <td>False</td>\n      <td>False</td>\n      <td>False</td>\n      <td>False</td>\n      <td>False</td>\n    </tr>\n    <tr>\n      <th>2015-02-01 01:00:00</th>\n      <td>False</td>\n      <td>False</td>\n      <td>True</td>\n      <td>False</td>\n      <td>False</td>\n      <td>False</td>\n      <td>False</td>\n      <td>False</td>\n      <td>False</td>\n      <td>False</td>\n      <td>...</td>\n      <td>False</td>\n      <td>False</td>\n      <td>False</td>\n      <td>False</td>\n      <td>False</td>\n      <td>False</td>\n      <td>False</td>\n      <td>False</td>\n      <td>False</td>\n      <td>False</td>\n    </tr>\n    <tr>\n      <th>2015-02-01 02:00:00</th>\n      <td>False</td>\n      <td>False</td>\n      <td>False</td>\n      <td>True</td>\n      <td>False</td>\n      <td>False</td>\n      <td>False</td>\n      <td>False</td>\n      <td>False</td>\n      <td>False</td>\n      <td>...</td>\n      <td>False</td>\n      <td>False</td>\n      <td>False</td>\n      <td>False</td>\n      <td>False</td>\n      <td>False</td>\n      <td>False</td>\n      <td>False</td>\n      <td>False</td>\n      <td>False</td>\n    </tr>\n    <tr>\n      <th>2015-02-01 03:00:00</th>\n      <td>False</td>\n      <td>False</td>\n      <td>False</td>\n      <td>False</td>\n      <td>True</td>\n      <td>False</td>\n      <td>False</td>\n      <td>False</td>\n      <td>False</td>\n      <td>False</td>\n      <td>...</td>\n      <td>False</td>\n      <td>False</td>\n      <td>False</td>\n      <td>False</td>\n      <td>False</td>\n      <td>False</td>\n      <td>False</td>\n      <td>False</td>\n      <td>False</td>\n      <td>False</td>\n    </tr>\n    <tr>\n      <th>2015-02-01 04:00:00</th>\n      <td>False</td>\n      <td>False</td>\n      <td>False</td>\n      <td>False</td>\n      <td>False</td>\n      <td>True</td>\n      <td>False</td>\n      <td>False</td>\n      <td>False</td>\n      <td>False</td>\n      <td>...</td>\n      <td>False</td>\n      <td>False</td>\n      <td>False</td>\n      <td>False</td>\n      <td>False</td>\n      <td>False</td>\n      <td>False</td>\n      <td>False</td>\n      <td>False</td>\n      <td>False</td>\n    </tr>\n    <tr>\n      <th>...</th>\n      <td>...</td>\n      <td>...</td>\n      <td>...</td>\n      <td>...</td>\n      <td>...</td>\n      <td>...</td>\n      <td>...</td>\n      <td>...</td>\n      <td>...</td>\n      <td>...</td>\n      <td>...</td>\n      <td>...</td>\n      <td>...</td>\n      <td>...</td>\n      <td>...</td>\n      <td>...</td>\n      <td>...</td>\n      <td>...</td>\n      <td>...</td>\n      <td>...</td>\n      <td>...</td>\n    </tr>\n    <tr>\n      <th>2016-01-31 19:00:00</th>\n      <td>False</td>\n      <td>False</td>\n      <td>False</td>\n      <td>False</td>\n      <td>False</td>\n      <td>False</td>\n      <td>False</td>\n      <td>False</td>\n      <td>False</td>\n      <td>False</td>\n      <td>...</td>\n      <td>False</td>\n      <td>False</td>\n      <td>False</td>\n      <td>False</td>\n      <td>False</td>\n      <td>True</td>\n      <td>False</td>\n      <td>False</td>\n      <td>False</td>\n      <td>False</td>\n    </tr>\n    <tr>\n      <th>2016-01-31 20:00:00</th>\n      <td>False</td>\n      <td>False</td>\n      <td>False</td>\n      <td>False</td>\n      <td>False</td>\n      <td>False</td>\n      <td>False</td>\n      <td>False</td>\n      <td>False</td>\n      <td>False</td>\n      <td>...</td>\n      <td>False</td>\n      <td>False</td>\n      <td>False</td>\n      <td>False</td>\n      <td>False</td>\n      <td>False</td>\n      <td>True</td>\n      <td>False</td>\n      <td>False</td>\n      <td>False</td>\n    </tr>\n    <tr>\n      <th>2016-01-31 21:00:00</th>\n      <td>False</td>\n      <td>False</td>\n      <td>False</td>\n      <td>False</td>\n      <td>False</td>\n      <td>False</td>\n      <td>False</td>\n      <td>False</td>\n      <td>False</td>\n      <td>False</td>\n      <td>...</td>\n      <td>False</td>\n      <td>False</td>\n      <td>False</td>\n      <td>False</td>\n      <td>False</td>\n      <td>False</td>\n      <td>False</td>\n      <td>True</td>\n      <td>False</td>\n      <td>False</td>\n    </tr>\n    <tr>\n      <th>2016-01-31 22:00:00</th>\n      <td>False</td>\n      <td>False</td>\n      <td>False</td>\n      <td>False</td>\n      <td>False</td>\n      <td>False</td>\n      <td>False</td>\n      <td>False</td>\n      <td>False</td>\n      <td>False</td>\n      <td>...</td>\n      <td>False</td>\n      <td>False</td>\n      <td>False</td>\n      <td>False</td>\n      <td>False</td>\n      <td>False</td>\n      <td>False</td>\n      <td>False</td>\n      <td>True</td>\n      <td>False</td>\n    </tr>\n    <tr>\n      <th>2016-01-31 23:00:00</th>\n      <td>False</td>\n      <td>False</td>\n      <td>False</td>\n      <td>False</td>\n      <td>False</td>\n      <td>False</td>\n      <td>False</td>\n      <td>False</td>\n      <td>False</td>\n      <td>False</td>\n      <td>...</td>\n      <td>False</td>\n      <td>False</td>\n      <td>False</td>\n      <td>False</td>\n      <td>False</td>\n      <td>False</td>\n      <td>False</td>\n      <td>False</td>\n      <td>False</td>\n      <td>True</td>\n    </tr>\n  </tbody>\n</table>\n<p>8762 rows × 25 columns</p>\n</div>"
     },
     "execution_count": 60,
     "metadata": {},
     "output_type": "execute_result"
    }
   ],
   "source": [
    "pv_data_bool"
   ],
   "metadata": {
    "collapsed": false,
    "pycharm": {
     "name": "#%%\n"
    }
   }
  },
  {
   "cell_type": "code",
   "execution_count": 61,
   "outputs": [
    {
     "data": {
      "text/plain": "     support                      itemsets\n0   0.041657                           (0)\n1   0.042000                           (1)\n2   0.041543                           (2)\n3   0.041657                           (3)\n4   0.041657                           (4)\n5   0.041657                           (5)\n6   0.041657                           (6)\n7   0.503196      (PV_Watts3PhTotalW3PhT1)\n8   0.041657                           (7)\n9   0.041657                           (8)\n10  0.041657                           (9)\n11  0.041657                          (10)\n12  0.041657                          (11)\n13  0.041657                          (12)\n14  0.041657                          (13)\n15  0.041657                          (14)\n16  0.041657                          (15)\n17  0.041657                          (16)\n18  0.041657                          (17)\n19  0.041657                          (18)\n20  0.041657                          (19)\n21  0.041657                          (20)\n22  0.041657                          (21)\n23  0.041657                          (22)\n24  0.041657                          (23)\n25  0.015636   (PV_Watts3PhTotalW3PhT1, 6)\n26  0.035380   (PV_Watts3PhTotalW3PhT1, 7)\n27  0.039945   (8, PV_Watts3PhTotalW3PhT1)\n28  0.040516   (9, PV_Watts3PhTotalW3PhT1)\n29  0.040630  (10, PV_Watts3PhTotalW3PhT1)\n30  0.040744  (11, PV_Watts3PhTotalW3PhT1)\n31  0.040630  (PV_Watts3PhTotalW3PhT1, 12)\n32  0.040516  (PV_Watts3PhTotalW3PhT1, 13)\n33  0.040516  (PV_Watts3PhTotalW3PhT1, 14)\n34  0.040288  (PV_Watts3PhTotalW3PhT1, 15)\n35  0.039146  (16, PV_Watts3PhTotalW3PhT1)\n36  0.030358  (17, PV_Watts3PhTotalW3PhT1)\n37  0.025907  (18, PV_Watts3PhTotalW3PhT1)\n38  0.019973  (19, PV_Watts3PhTotalW3PhT1)",
      "text/html": "<div>\n<style scoped>\n    .dataframe tbody tr th:only-of-type {\n        vertical-align: middle;\n    }\n\n    .dataframe tbody tr th {\n        vertical-align: top;\n    }\n\n    .dataframe thead th {\n        text-align: right;\n    }\n</style>\n<table border=\"1\" class=\"dataframe\">\n  <thead>\n    <tr style=\"text-align: right;\">\n      <th></th>\n      <th>support</th>\n      <th>itemsets</th>\n    </tr>\n  </thead>\n  <tbody>\n    <tr>\n      <th>0</th>\n      <td>0.041657</td>\n      <td>(0)</td>\n    </tr>\n    <tr>\n      <th>1</th>\n      <td>0.042000</td>\n      <td>(1)</td>\n    </tr>\n    <tr>\n      <th>2</th>\n      <td>0.041543</td>\n      <td>(2)</td>\n    </tr>\n    <tr>\n      <th>3</th>\n      <td>0.041657</td>\n      <td>(3)</td>\n    </tr>\n    <tr>\n      <th>4</th>\n      <td>0.041657</td>\n      <td>(4)</td>\n    </tr>\n    <tr>\n      <th>5</th>\n      <td>0.041657</td>\n      <td>(5)</td>\n    </tr>\n    <tr>\n      <th>6</th>\n      <td>0.041657</td>\n      <td>(6)</td>\n    </tr>\n    <tr>\n      <th>7</th>\n      <td>0.503196</td>\n      <td>(PV_Watts3PhTotalW3PhT1)</td>\n    </tr>\n    <tr>\n      <th>8</th>\n      <td>0.041657</td>\n      <td>(7)</td>\n    </tr>\n    <tr>\n      <th>9</th>\n      <td>0.041657</td>\n      <td>(8)</td>\n    </tr>\n    <tr>\n      <th>10</th>\n      <td>0.041657</td>\n      <td>(9)</td>\n    </tr>\n    <tr>\n      <th>11</th>\n      <td>0.041657</td>\n      <td>(10)</td>\n    </tr>\n    <tr>\n      <th>12</th>\n      <td>0.041657</td>\n      <td>(11)</td>\n    </tr>\n    <tr>\n      <th>13</th>\n      <td>0.041657</td>\n      <td>(12)</td>\n    </tr>\n    <tr>\n      <th>14</th>\n      <td>0.041657</td>\n      <td>(13)</td>\n    </tr>\n    <tr>\n      <th>15</th>\n      <td>0.041657</td>\n      <td>(14)</td>\n    </tr>\n    <tr>\n      <th>16</th>\n      <td>0.041657</td>\n      <td>(15)</td>\n    </tr>\n    <tr>\n      <th>17</th>\n      <td>0.041657</td>\n      <td>(16)</td>\n    </tr>\n    <tr>\n      <th>18</th>\n      <td>0.041657</td>\n      <td>(17)</td>\n    </tr>\n    <tr>\n      <th>19</th>\n      <td>0.041657</td>\n      <td>(18)</td>\n    </tr>\n    <tr>\n      <th>20</th>\n      <td>0.041657</td>\n      <td>(19)</td>\n    </tr>\n    <tr>\n      <th>21</th>\n      <td>0.041657</td>\n      <td>(20)</td>\n    </tr>\n    <tr>\n      <th>22</th>\n      <td>0.041657</td>\n      <td>(21)</td>\n    </tr>\n    <tr>\n      <th>23</th>\n      <td>0.041657</td>\n      <td>(22)</td>\n    </tr>\n    <tr>\n      <th>24</th>\n      <td>0.041657</td>\n      <td>(23)</td>\n    </tr>\n    <tr>\n      <th>25</th>\n      <td>0.015636</td>\n      <td>(PV_Watts3PhTotalW3PhT1, 6)</td>\n    </tr>\n    <tr>\n      <th>26</th>\n      <td>0.035380</td>\n      <td>(PV_Watts3PhTotalW3PhT1, 7)</td>\n    </tr>\n    <tr>\n      <th>27</th>\n      <td>0.039945</td>\n      <td>(8, PV_Watts3PhTotalW3PhT1)</td>\n    </tr>\n    <tr>\n      <th>28</th>\n      <td>0.040516</td>\n      <td>(9, PV_Watts3PhTotalW3PhT1)</td>\n    </tr>\n    <tr>\n      <th>29</th>\n      <td>0.040630</td>\n      <td>(10, PV_Watts3PhTotalW3PhT1)</td>\n    </tr>\n    <tr>\n      <th>30</th>\n      <td>0.040744</td>\n      <td>(11, PV_Watts3PhTotalW3PhT1)</td>\n    </tr>\n    <tr>\n      <th>31</th>\n      <td>0.040630</td>\n      <td>(PV_Watts3PhTotalW3PhT1, 12)</td>\n    </tr>\n    <tr>\n      <th>32</th>\n      <td>0.040516</td>\n      <td>(PV_Watts3PhTotalW3PhT1, 13)</td>\n    </tr>\n    <tr>\n      <th>33</th>\n      <td>0.040516</td>\n      <td>(PV_Watts3PhTotalW3PhT1, 14)</td>\n    </tr>\n    <tr>\n      <th>34</th>\n      <td>0.040288</td>\n      <td>(PV_Watts3PhTotalW3PhT1, 15)</td>\n    </tr>\n    <tr>\n      <th>35</th>\n      <td>0.039146</td>\n      <td>(16, PV_Watts3PhTotalW3PhT1)</td>\n    </tr>\n    <tr>\n      <th>36</th>\n      <td>0.030358</td>\n      <td>(17, PV_Watts3PhTotalW3PhT1)</td>\n    </tr>\n    <tr>\n      <th>37</th>\n      <td>0.025907</td>\n      <td>(18, PV_Watts3PhTotalW3PhT1)</td>\n    </tr>\n    <tr>\n      <th>38</th>\n      <td>0.019973</td>\n      <td>(19, PV_Watts3PhTotalW3PhT1)</td>\n    </tr>\n  </tbody>\n</table>\n</div>"
     },
     "execution_count": 61,
     "metadata": {},
     "output_type": "execute_result"
    }
   ],
   "source": [
    "frequent_itemsets = fpgrowth(pv_data_bool, min_support=0.01, use_colnames=True)\n",
    "frequent_itemsets"
   ],
   "metadata": {
    "collapsed": false,
    "pycharm": {
     "name": "#%%\n"
    }
   }
  },
  {
   "cell_type": "code",
   "execution_count": 62,
   "outputs": [],
   "source": [
    "rules = association_rules(frequent_itemsets, metric=\"confidence\", min_threshold=0.5)"
   ],
   "metadata": {
    "collapsed": false,
    "pycharm": {
     "name": "#%%\n"
    }
   }
  },
  {
   "cell_type": "code",
   "execution_count": 63,
   "outputs": [],
   "source": [
    "rules[\"antecedent_len\"] = rules[\"antecedents\"].apply(lambda x: len(x))\n",
    "rules = rules[(rules['antecedent_len'] == 1)]"
   ],
   "metadata": {
    "collapsed": false,
    "pycharm": {
     "name": "#%%\n"
    }
   }
  },
  {
   "cell_type": "code",
   "execution_count": 64,
   "outputs": [
    {
     "data": {
      "text/plain": "   antecedents               consequents  antecedent support  \\\n0          (7)  (PV_Watts3PhTotalW3PhT1)            0.041657   \n1          (8)  (PV_Watts3PhTotalW3PhT1)            0.041657   \n2          (9)  (PV_Watts3PhTotalW3PhT1)            0.041657   \n3         (10)  (PV_Watts3PhTotalW3PhT1)            0.041657   \n4         (11)  (PV_Watts3PhTotalW3PhT1)            0.041657   \n5         (12)  (PV_Watts3PhTotalW3PhT1)            0.041657   \n6         (13)  (PV_Watts3PhTotalW3PhT1)            0.041657   \n7         (14)  (PV_Watts3PhTotalW3PhT1)            0.041657   \n8         (15)  (PV_Watts3PhTotalW3PhT1)            0.041657   \n9         (16)  (PV_Watts3PhTotalW3PhT1)            0.041657   \n10        (17)  (PV_Watts3PhTotalW3PhT1)            0.041657   \n11        (18)  (PV_Watts3PhTotalW3PhT1)            0.041657   \n\n    consequent support   support  confidence      lift  leverage  conviction  \\\n0             0.503196  0.035380    0.849315  1.687843  0.014418    3.296975   \n1             0.503196  0.039945    0.958904  1.905629  0.018984   12.088907   \n2             0.503196  0.040516    0.972603  1.932852  0.019554   18.133360   \n3             0.503196  0.040630    0.975342  1.938297  0.019668   20.148178   \n4             0.503196  0.040744    0.978082  1.943741  0.019782   22.666700   \n5             0.503196  0.040630    0.975342  1.938297  0.019668   20.148178   \n6             0.503196  0.040516    0.972603  1.932852  0.019554   18.133360   \n7             0.503196  0.040516    0.972603  1.932852  0.019554   18.133360   \n8             0.503196  0.040288    0.967123  1.921963  0.019326   15.111133   \n9             0.503196  0.039146    0.939726  1.867516  0.018185    8.242436   \n10            0.503196  0.030358    0.728767  1.448278  0.009397    1.831653   \n11            0.503196  0.025907    0.621918  1.235936  0.004946    1.314012   \n\n    antecedent_len  \n0                1  \n1                1  \n2                1  \n3                1  \n4                1  \n5                1  \n6                1  \n7                1  \n8                1  \n9                1  \n10               1  \n11               1  ",
      "text/html": "<div>\n<style scoped>\n    .dataframe tbody tr th:only-of-type {\n        vertical-align: middle;\n    }\n\n    .dataframe tbody tr th {\n        vertical-align: top;\n    }\n\n    .dataframe thead th {\n        text-align: right;\n    }\n</style>\n<table border=\"1\" class=\"dataframe\">\n  <thead>\n    <tr style=\"text-align: right;\">\n      <th></th>\n      <th>antecedents</th>\n      <th>consequents</th>\n      <th>antecedent support</th>\n      <th>consequent support</th>\n      <th>support</th>\n      <th>confidence</th>\n      <th>lift</th>\n      <th>leverage</th>\n      <th>conviction</th>\n      <th>antecedent_len</th>\n    </tr>\n  </thead>\n  <tbody>\n    <tr>\n      <th>0</th>\n      <td>(7)</td>\n      <td>(PV_Watts3PhTotalW3PhT1)</td>\n      <td>0.041657</td>\n      <td>0.503196</td>\n      <td>0.035380</td>\n      <td>0.849315</td>\n      <td>1.687843</td>\n      <td>0.014418</td>\n      <td>3.296975</td>\n      <td>1</td>\n    </tr>\n    <tr>\n      <th>1</th>\n      <td>(8)</td>\n      <td>(PV_Watts3PhTotalW3PhT1)</td>\n      <td>0.041657</td>\n      <td>0.503196</td>\n      <td>0.039945</td>\n      <td>0.958904</td>\n      <td>1.905629</td>\n      <td>0.018984</td>\n      <td>12.088907</td>\n      <td>1</td>\n    </tr>\n    <tr>\n      <th>2</th>\n      <td>(9)</td>\n      <td>(PV_Watts3PhTotalW3PhT1)</td>\n      <td>0.041657</td>\n      <td>0.503196</td>\n      <td>0.040516</td>\n      <td>0.972603</td>\n      <td>1.932852</td>\n      <td>0.019554</td>\n      <td>18.133360</td>\n      <td>1</td>\n    </tr>\n    <tr>\n      <th>3</th>\n      <td>(10)</td>\n      <td>(PV_Watts3PhTotalW3PhT1)</td>\n      <td>0.041657</td>\n      <td>0.503196</td>\n      <td>0.040630</td>\n      <td>0.975342</td>\n      <td>1.938297</td>\n      <td>0.019668</td>\n      <td>20.148178</td>\n      <td>1</td>\n    </tr>\n    <tr>\n      <th>4</th>\n      <td>(11)</td>\n      <td>(PV_Watts3PhTotalW3PhT1)</td>\n      <td>0.041657</td>\n      <td>0.503196</td>\n      <td>0.040744</td>\n      <td>0.978082</td>\n      <td>1.943741</td>\n      <td>0.019782</td>\n      <td>22.666700</td>\n      <td>1</td>\n    </tr>\n    <tr>\n      <th>5</th>\n      <td>(12)</td>\n      <td>(PV_Watts3PhTotalW3PhT1)</td>\n      <td>0.041657</td>\n      <td>0.503196</td>\n      <td>0.040630</td>\n      <td>0.975342</td>\n      <td>1.938297</td>\n      <td>0.019668</td>\n      <td>20.148178</td>\n      <td>1</td>\n    </tr>\n    <tr>\n      <th>6</th>\n      <td>(13)</td>\n      <td>(PV_Watts3PhTotalW3PhT1)</td>\n      <td>0.041657</td>\n      <td>0.503196</td>\n      <td>0.040516</td>\n      <td>0.972603</td>\n      <td>1.932852</td>\n      <td>0.019554</td>\n      <td>18.133360</td>\n      <td>1</td>\n    </tr>\n    <tr>\n      <th>7</th>\n      <td>(14)</td>\n      <td>(PV_Watts3PhTotalW3PhT1)</td>\n      <td>0.041657</td>\n      <td>0.503196</td>\n      <td>0.040516</td>\n      <td>0.972603</td>\n      <td>1.932852</td>\n      <td>0.019554</td>\n      <td>18.133360</td>\n      <td>1</td>\n    </tr>\n    <tr>\n      <th>8</th>\n      <td>(15)</td>\n      <td>(PV_Watts3PhTotalW3PhT1)</td>\n      <td>0.041657</td>\n      <td>0.503196</td>\n      <td>0.040288</td>\n      <td>0.967123</td>\n      <td>1.921963</td>\n      <td>0.019326</td>\n      <td>15.111133</td>\n      <td>1</td>\n    </tr>\n    <tr>\n      <th>9</th>\n      <td>(16)</td>\n      <td>(PV_Watts3PhTotalW3PhT1)</td>\n      <td>0.041657</td>\n      <td>0.503196</td>\n      <td>0.039146</td>\n      <td>0.939726</td>\n      <td>1.867516</td>\n      <td>0.018185</td>\n      <td>8.242436</td>\n      <td>1</td>\n    </tr>\n    <tr>\n      <th>10</th>\n      <td>(17)</td>\n      <td>(PV_Watts3PhTotalW3PhT1)</td>\n      <td>0.041657</td>\n      <td>0.503196</td>\n      <td>0.030358</td>\n      <td>0.728767</td>\n      <td>1.448278</td>\n      <td>0.009397</td>\n      <td>1.831653</td>\n      <td>1</td>\n    </tr>\n    <tr>\n      <th>11</th>\n      <td>(18)</td>\n      <td>(PV_Watts3PhTotalW3PhT1)</td>\n      <td>0.041657</td>\n      <td>0.503196</td>\n      <td>0.025907</td>\n      <td>0.621918</td>\n      <td>1.235936</td>\n      <td>0.004946</td>\n      <td>1.314012</td>\n      <td>1</td>\n    </tr>\n  </tbody>\n</table>\n</div>"
     },
     "execution_count": 64,
     "metadata": {},
     "output_type": "execute_result"
    }
   ],
   "source": [
    "rules"
   ],
   "metadata": {
    "collapsed": false,
    "pycharm": {
     "name": "#%%\n"
    }
   }
  },
  {
   "cell_type": "code",
   "execution_count": 65,
   "outputs": [
    {
     "data": {
      "text/plain": "   antecedents               consequents  antecedent support  \\\n0            7  (PV_Watts3PhTotalW3PhT1)            0.041657   \n1            8  (PV_Watts3PhTotalW3PhT1)            0.041657   \n2            9  (PV_Watts3PhTotalW3PhT1)            0.041657   \n3           10  (PV_Watts3PhTotalW3PhT1)            0.041657   \n4           11  (PV_Watts3PhTotalW3PhT1)            0.041657   \n5           12  (PV_Watts3PhTotalW3PhT1)            0.041657   \n6           13  (PV_Watts3PhTotalW3PhT1)            0.041657   \n7           14  (PV_Watts3PhTotalW3PhT1)            0.041657   \n8           15  (PV_Watts3PhTotalW3PhT1)            0.041657   \n9           16  (PV_Watts3PhTotalW3PhT1)            0.041657   \n10          17  (PV_Watts3PhTotalW3PhT1)            0.041657   \n11          18  (PV_Watts3PhTotalW3PhT1)            0.041657   \n\n    consequent support   support  confidence      lift  leverage  conviction  \\\n0             0.503196  0.035380    0.849315  1.687843  0.014418    3.296975   \n1             0.503196  0.039945    0.958904  1.905629  0.018984   12.088907   \n2             0.503196  0.040516    0.972603  1.932852  0.019554   18.133360   \n3             0.503196  0.040630    0.975342  1.938297  0.019668   20.148178   \n4             0.503196  0.040744    0.978082  1.943741  0.019782   22.666700   \n5             0.503196  0.040630    0.975342  1.938297  0.019668   20.148178   \n6             0.503196  0.040516    0.972603  1.932852  0.019554   18.133360   \n7             0.503196  0.040516    0.972603  1.932852  0.019554   18.133360   \n8             0.503196  0.040288    0.967123  1.921963  0.019326   15.111133   \n9             0.503196  0.039146    0.939726  1.867516  0.018185    8.242436   \n10            0.503196  0.030358    0.728767  1.448278  0.009397    1.831653   \n11            0.503196  0.025907    0.621918  1.235936  0.004946    1.314012   \n\n    antecedent_len  \n0                1  \n1                1  \n2                1  \n3                1  \n4                1  \n5                1  \n6                1  \n7                1  \n8                1  \n9                1  \n10               1  \n11               1  ",
      "text/html": "<div>\n<style scoped>\n    .dataframe tbody tr th:only-of-type {\n        vertical-align: middle;\n    }\n\n    .dataframe tbody tr th {\n        vertical-align: top;\n    }\n\n    .dataframe thead th {\n        text-align: right;\n    }\n</style>\n<table border=\"1\" class=\"dataframe\">\n  <thead>\n    <tr style=\"text-align: right;\">\n      <th></th>\n      <th>antecedents</th>\n      <th>consequents</th>\n      <th>antecedent support</th>\n      <th>consequent support</th>\n      <th>support</th>\n      <th>confidence</th>\n      <th>lift</th>\n      <th>leverage</th>\n      <th>conviction</th>\n      <th>antecedent_len</th>\n    </tr>\n  </thead>\n  <tbody>\n    <tr>\n      <th>0</th>\n      <td>7</td>\n      <td>(PV_Watts3PhTotalW3PhT1)</td>\n      <td>0.041657</td>\n      <td>0.503196</td>\n      <td>0.035380</td>\n      <td>0.849315</td>\n      <td>1.687843</td>\n      <td>0.014418</td>\n      <td>3.296975</td>\n      <td>1</td>\n    </tr>\n    <tr>\n      <th>1</th>\n      <td>8</td>\n      <td>(PV_Watts3PhTotalW3PhT1)</td>\n      <td>0.041657</td>\n      <td>0.503196</td>\n      <td>0.039945</td>\n      <td>0.958904</td>\n      <td>1.905629</td>\n      <td>0.018984</td>\n      <td>12.088907</td>\n      <td>1</td>\n    </tr>\n    <tr>\n      <th>2</th>\n      <td>9</td>\n      <td>(PV_Watts3PhTotalW3PhT1)</td>\n      <td>0.041657</td>\n      <td>0.503196</td>\n      <td>0.040516</td>\n      <td>0.972603</td>\n      <td>1.932852</td>\n      <td>0.019554</td>\n      <td>18.133360</td>\n      <td>1</td>\n    </tr>\n    <tr>\n      <th>3</th>\n      <td>10</td>\n      <td>(PV_Watts3PhTotalW3PhT1)</td>\n      <td>0.041657</td>\n      <td>0.503196</td>\n      <td>0.040630</td>\n      <td>0.975342</td>\n      <td>1.938297</td>\n      <td>0.019668</td>\n      <td>20.148178</td>\n      <td>1</td>\n    </tr>\n    <tr>\n      <th>4</th>\n      <td>11</td>\n      <td>(PV_Watts3PhTotalW3PhT1)</td>\n      <td>0.041657</td>\n      <td>0.503196</td>\n      <td>0.040744</td>\n      <td>0.978082</td>\n      <td>1.943741</td>\n      <td>0.019782</td>\n      <td>22.666700</td>\n      <td>1</td>\n    </tr>\n    <tr>\n      <th>5</th>\n      <td>12</td>\n      <td>(PV_Watts3PhTotalW3PhT1)</td>\n      <td>0.041657</td>\n      <td>0.503196</td>\n      <td>0.040630</td>\n      <td>0.975342</td>\n      <td>1.938297</td>\n      <td>0.019668</td>\n      <td>20.148178</td>\n      <td>1</td>\n    </tr>\n    <tr>\n      <th>6</th>\n      <td>13</td>\n      <td>(PV_Watts3PhTotalW3PhT1)</td>\n      <td>0.041657</td>\n      <td>0.503196</td>\n      <td>0.040516</td>\n      <td>0.972603</td>\n      <td>1.932852</td>\n      <td>0.019554</td>\n      <td>18.133360</td>\n      <td>1</td>\n    </tr>\n    <tr>\n      <th>7</th>\n      <td>14</td>\n      <td>(PV_Watts3PhTotalW3PhT1)</td>\n      <td>0.041657</td>\n      <td>0.503196</td>\n      <td>0.040516</td>\n      <td>0.972603</td>\n      <td>1.932852</td>\n      <td>0.019554</td>\n      <td>18.133360</td>\n      <td>1</td>\n    </tr>\n    <tr>\n      <th>8</th>\n      <td>15</td>\n      <td>(PV_Watts3PhTotalW3PhT1)</td>\n      <td>0.041657</td>\n      <td>0.503196</td>\n      <td>0.040288</td>\n      <td>0.967123</td>\n      <td>1.921963</td>\n      <td>0.019326</td>\n      <td>15.111133</td>\n      <td>1</td>\n    </tr>\n    <tr>\n      <th>9</th>\n      <td>16</td>\n      <td>(PV_Watts3PhTotalW3PhT1)</td>\n      <td>0.041657</td>\n      <td>0.503196</td>\n      <td>0.039146</td>\n      <td>0.939726</td>\n      <td>1.867516</td>\n      <td>0.018185</td>\n      <td>8.242436</td>\n      <td>1</td>\n    </tr>\n    <tr>\n      <th>10</th>\n      <td>17</td>\n      <td>(PV_Watts3PhTotalW3PhT1)</td>\n      <td>0.041657</td>\n      <td>0.503196</td>\n      <td>0.030358</td>\n      <td>0.728767</td>\n      <td>1.448278</td>\n      <td>0.009397</td>\n      <td>1.831653</td>\n      <td>1</td>\n    </tr>\n    <tr>\n      <th>11</th>\n      <td>18</td>\n      <td>(PV_Watts3PhTotalW3PhT1)</td>\n      <td>0.041657</td>\n      <td>0.503196</td>\n      <td>0.025907</td>\n      <td>0.621918</td>\n      <td>1.235936</td>\n      <td>0.004946</td>\n      <td>1.314012</td>\n      <td>1</td>\n    </tr>\n  </tbody>\n</table>\n</div>"
     },
     "execution_count": 65,
     "metadata": {},
     "output_type": "execute_result"
    }
   ],
   "source": [
    "for index, row in rules.iterrows():\n",
    "    rules.at[index, \"antecedents\"] = list(rules.at[index, \"antecedents\"])[0]\n",
    "\n",
    "rules"
   ],
   "metadata": {
    "collapsed": false,
    "pycharm": {
     "name": "#%%\n"
    }
   }
  },
  {
   "cell_type": "code",
   "execution_count": 67,
   "outputs": [
    {
     "data": {
      "application/vnd.plotly.v1+json": {
       "config": {
        "plotlyServerURL": "https://plot.ly"
       },
       "data": [
        {
         "alignmentgroup": "True",
         "hovertemplate": "antecedents=%{x}<br>support=%{y}<extra></extra>",
         "legendgroup": "",
         "marker": {
          "color": "#636efa"
         },
         "name": "",
         "offsetgroup": "",
         "orientation": "v",
         "showlegend": false,
         "textposition": "auto",
         "type": "bar",
         "x": [
          7,
          8,
          9,
          10,
          11,
          12,
          13,
          14,
          15,
          16,
          17,
          18
         ],
         "xaxis": "x",
         "y": [
          0.03538005021684547,
          0.03994521798676101,
          0.040515863958000456,
          0.04062999315224834,
          0.040744122346496235,
          0.04062999315224834,
          0.040515863958000456,
          0.040515863958000456,
          0.04028760556950468,
          0.039146313627025794,
          0.03035836566993837,
          0.025907327094270714
         ],
         "yaxis": "y"
        }
       ],
       "layout": {
        "barmode": "relative",
        "legend": {
         "tracegroupgap": 0
        },
        "margin": {
         "t": 60
        },
        "template": {
         "data": {
          "bar": [
           {
            "error_x": {
             "color": "#2a3f5f"
            },
            "error_y": {
             "color": "#2a3f5f"
            },
            "marker": {
             "line": {
              "color": "#E5ECF6",
              "width": 0.5
             }
            },
            "type": "bar"
           }
          ],
          "barpolar": [
           {
            "marker": {
             "line": {
              "color": "#E5ECF6",
              "width": 0.5
             }
            },
            "type": "barpolar"
           }
          ],
          "carpet": [
           {
            "aaxis": {
             "endlinecolor": "#2a3f5f",
             "gridcolor": "white",
             "linecolor": "white",
             "minorgridcolor": "white",
             "startlinecolor": "#2a3f5f"
            },
            "baxis": {
             "endlinecolor": "#2a3f5f",
             "gridcolor": "white",
             "linecolor": "white",
             "minorgridcolor": "white",
             "startlinecolor": "#2a3f5f"
            },
            "type": "carpet"
           }
          ],
          "choropleth": [
           {
            "colorbar": {
             "outlinewidth": 0,
             "ticks": ""
            },
            "type": "choropleth"
           }
          ],
          "contour": [
           {
            "colorbar": {
             "outlinewidth": 0,
             "ticks": ""
            },
            "colorscale": [
             [
              0.0,
              "#0d0887"
             ],
             [
              0.1111111111111111,
              "#46039f"
             ],
             [
              0.2222222222222222,
              "#7201a8"
             ],
             [
              0.3333333333333333,
              "#9c179e"
             ],
             [
              0.4444444444444444,
              "#bd3786"
             ],
             [
              0.5555555555555556,
              "#d8576b"
             ],
             [
              0.6666666666666666,
              "#ed7953"
             ],
             [
              0.7777777777777778,
              "#fb9f3a"
             ],
             [
              0.8888888888888888,
              "#fdca26"
             ],
             [
              1.0,
              "#f0f921"
             ]
            ],
            "type": "contour"
           }
          ],
          "contourcarpet": [
           {
            "colorbar": {
             "outlinewidth": 0,
             "ticks": ""
            },
            "type": "contourcarpet"
           }
          ],
          "heatmap": [
           {
            "colorbar": {
             "outlinewidth": 0,
             "ticks": ""
            },
            "colorscale": [
             [
              0.0,
              "#0d0887"
             ],
             [
              0.1111111111111111,
              "#46039f"
             ],
             [
              0.2222222222222222,
              "#7201a8"
             ],
             [
              0.3333333333333333,
              "#9c179e"
             ],
             [
              0.4444444444444444,
              "#bd3786"
             ],
             [
              0.5555555555555556,
              "#d8576b"
             ],
             [
              0.6666666666666666,
              "#ed7953"
             ],
             [
              0.7777777777777778,
              "#fb9f3a"
             ],
             [
              0.8888888888888888,
              "#fdca26"
             ],
             [
              1.0,
              "#f0f921"
             ]
            ],
            "type": "heatmap"
           }
          ],
          "heatmapgl": [
           {
            "colorbar": {
             "outlinewidth": 0,
             "ticks": ""
            },
            "colorscale": [
             [
              0.0,
              "#0d0887"
             ],
             [
              0.1111111111111111,
              "#46039f"
             ],
             [
              0.2222222222222222,
              "#7201a8"
             ],
             [
              0.3333333333333333,
              "#9c179e"
             ],
             [
              0.4444444444444444,
              "#bd3786"
             ],
             [
              0.5555555555555556,
              "#d8576b"
             ],
             [
              0.6666666666666666,
              "#ed7953"
             ],
             [
              0.7777777777777778,
              "#fb9f3a"
             ],
             [
              0.8888888888888888,
              "#fdca26"
             ],
             [
              1.0,
              "#f0f921"
             ]
            ],
            "type": "heatmapgl"
           }
          ],
          "histogram": [
           {
            "marker": {
             "colorbar": {
              "outlinewidth": 0,
              "ticks": ""
             }
            },
            "type": "histogram"
           }
          ],
          "histogram2d": [
           {
            "colorbar": {
             "outlinewidth": 0,
             "ticks": ""
            },
            "colorscale": [
             [
              0.0,
              "#0d0887"
             ],
             [
              0.1111111111111111,
              "#46039f"
             ],
             [
              0.2222222222222222,
              "#7201a8"
             ],
             [
              0.3333333333333333,
              "#9c179e"
             ],
             [
              0.4444444444444444,
              "#bd3786"
             ],
             [
              0.5555555555555556,
              "#d8576b"
             ],
             [
              0.6666666666666666,
              "#ed7953"
             ],
             [
              0.7777777777777778,
              "#fb9f3a"
             ],
             [
              0.8888888888888888,
              "#fdca26"
             ],
             [
              1.0,
              "#f0f921"
             ]
            ],
            "type": "histogram2d"
           }
          ],
          "histogram2dcontour": [
           {
            "colorbar": {
             "outlinewidth": 0,
             "ticks": ""
            },
            "colorscale": [
             [
              0.0,
              "#0d0887"
             ],
             [
              0.1111111111111111,
              "#46039f"
             ],
             [
              0.2222222222222222,
              "#7201a8"
             ],
             [
              0.3333333333333333,
              "#9c179e"
             ],
             [
              0.4444444444444444,
              "#bd3786"
             ],
             [
              0.5555555555555556,
              "#d8576b"
             ],
             [
              0.6666666666666666,
              "#ed7953"
             ],
             [
              0.7777777777777778,
              "#fb9f3a"
             ],
             [
              0.8888888888888888,
              "#fdca26"
             ],
             [
              1.0,
              "#f0f921"
             ]
            ],
            "type": "histogram2dcontour"
           }
          ],
          "mesh3d": [
           {
            "colorbar": {
             "outlinewidth": 0,
             "ticks": ""
            },
            "type": "mesh3d"
           }
          ],
          "parcoords": [
           {
            "line": {
             "colorbar": {
              "outlinewidth": 0,
              "ticks": ""
             }
            },
            "type": "parcoords"
           }
          ],
          "pie": [
           {
            "automargin": true,
            "type": "pie"
           }
          ],
          "scatter": [
           {
            "marker": {
             "colorbar": {
              "outlinewidth": 0,
              "ticks": ""
             }
            },
            "type": "scatter"
           }
          ],
          "scatter3d": [
           {
            "line": {
             "colorbar": {
              "outlinewidth": 0,
              "ticks": ""
             }
            },
            "marker": {
             "colorbar": {
              "outlinewidth": 0,
              "ticks": ""
             }
            },
            "type": "scatter3d"
           }
          ],
          "scattercarpet": [
           {
            "marker": {
             "colorbar": {
              "outlinewidth": 0,
              "ticks": ""
             }
            },
            "type": "scattercarpet"
           }
          ],
          "scattergeo": [
           {
            "marker": {
             "colorbar": {
              "outlinewidth": 0,
              "ticks": ""
             }
            },
            "type": "scattergeo"
           }
          ],
          "scattergl": [
           {
            "marker": {
             "colorbar": {
              "outlinewidth": 0,
              "ticks": ""
             }
            },
            "type": "scattergl"
           }
          ],
          "scattermapbox": [
           {
            "marker": {
             "colorbar": {
              "outlinewidth": 0,
              "ticks": ""
             }
            },
            "type": "scattermapbox"
           }
          ],
          "scatterpolar": [
           {
            "marker": {
             "colorbar": {
              "outlinewidth": 0,
              "ticks": ""
             }
            },
            "type": "scatterpolar"
           }
          ],
          "scatterpolargl": [
           {
            "marker": {
             "colorbar": {
              "outlinewidth": 0,
              "ticks": ""
             }
            },
            "type": "scatterpolargl"
           }
          ],
          "scatterternary": [
           {
            "marker": {
             "colorbar": {
              "outlinewidth": 0,
              "ticks": ""
             }
            },
            "type": "scatterternary"
           }
          ],
          "surface": [
           {
            "colorbar": {
             "outlinewidth": 0,
             "ticks": ""
            },
            "colorscale": [
             [
              0.0,
              "#0d0887"
             ],
             [
              0.1111111111111111,
              "#46039f"
             ],
             [
              0.2222222222222222,
              "#7201a8"
             ],
             [
              0.3333333333333333,
              "#9c179e"
             ],
             [
              0.4444444444444444,
              "#bd3786"
             ],
             [
              0.5555555555555556,
              "#d8576b"
             ],
             [
              0.6666666666666666,
              "#ed7953"
             ],
             [
              0.7777777777777778,
              "#fb9f3a"
             ],
             [
              0.8888888888888888,
              "#fdca26"
             ],
             [
              1.0,
              "#f0f921"
             ]
            ],
            "type": "surface"
           }
          ],
          "table": [
           {
            "cells": {
             "fill": {
              "color": "#EBF0F8"
             },
             "line": {
              "color": "white"
             }
            },
            "header": {
             "fill": {
              "color": "#C8D4E3"
             },
             "line": {
              "color": "white"
             }
            },
            "type": "table"
           }
          ]
         },
         "layout": {
          "annotationdefaults": {
           "arrowcolor": "#2a3f5f",
           "arrowhead": 0,
           "arrowwidth": 1
          },
          "autotypenumbers": "strict",
          "coloraxis": {
           "colorbar": {
            "outlinewidth": 0,
            "ticks": ""
           }
          },
          "colorscale": {
           "diverging": [
            [
             0,
             "#8e0152"
            ],
            [
             0.1,
             "#c51b7d"
            ],
            [
             0.2,
             "#de77ae"
            ],
            [
             0.3,
             "#f1b6da"
            ],
            [
             0.4,
             "#fde0ef"
            ],
            [
             0.5,
             "#f7f7f7"
            ],
            [
             0.6,
             "#e6f5d0"
            ],
            [
             0.7,
             "#b8e186"
            ],
            [
             0.8,
             "#7fbc41"
            ],
            [
             0.9,
             "#4d9221"
            ],
            [
             1,
             "#276419"
            ]
           ],
           "sequential": [
            [
             0.0,
             "#0d0887"
            ],
            [
             0.1111111111111111,
             "#46039f"
            ],
            [
             0.2222222222222222,
             "#7201a8"
            ],
            [
             0.3333333333333333,
             "#9c179e"
            ],
            [
             0.4444444444444444,
             "#bd3786"
            ],
            [
             0.5555555555555556,
             "#d8576b"
            ],
            [
             0.6666666666666666,
             "#ed7953"
            ],
            [
             0.7777777777777778,
             "#fb9f3a"
            ],
            [
             0.8888888888888888,
             "#fdca26"
            ],
            [
             1.0,
             "#f0f921"
            ]
           ],
           "sequentialminus": [
            [
             0.0,
             "#0d0887"
            ],
            [
             0.1111111111111111,
             "#46039f"
            ],
            [
             0.2222222222222222,
             "#7201a8"
            ],
            [
             0.3333333333333333,
             "#9c179e"
            ],
            [
             0.4444444444444444,
             "#bd3786"
            ],
            [
             0.5555555555555556,
             "#d8576b"
            ],
            [
             0.6666666666666666,
             "#ed7953"
            ],
            [
             0.7777777777777778,
             "#fb9f3a"
            ],
            [
             0.8888888888888888,
             "#fdca26"
            ],
            [
             1.0,
             "#f0f921"
            ]
           ]
          },
          "colorway": [
           "#636efa",
           "#EF553B",
           "#00cc96",
           "#ab63fa",
           "#FFA15A",
           "#19d3f3",
           "#FF6692",
           "#B6E880",
           "#FF97FF",
           "#FECB52"
          ],
          "font": {
           "color": "#2a3f5f"
          },
          "geo": {
           "bgcolor": "white",
           "lakecolor": "white",
           "landcolor": "#E5ECF6",
           "showlakes": true,
           "showland": true,
           "subunitcolor": "white"
          },
          "hoverlabel": {
           "align": "left"
          },
          "hovermode": "closest",
          "mapbox": {
           "style": "light"
          },
          "paper_bgcolor": "white",
          "plot_bgcolor": "#E5ECF6",
          "polar": {
           "angularaxis": {
            "gridcolor": "white",
            "linecolor": "white",
            "ticks": ""
           },
           "bgcolor": "#E5ECF6",
           "radialaxis": {
            "gridcolor": "white",
            "linecolor": "white",
            "ticks": ""
           }
          },
          "scene": {
           "xaxis": {
            "backgroundcolor": "#E5ECF6",
            "gridcolor": "white",
            "gridwidth": 2,
            "linecolor": "white",
            "showbackground": true,
            "ticks": "",
            "zerolinecolor": "white"
           },
           "yaxis": {
            "backgroundcolor": "#E5ECF6",
            "gridcolor": "white",
            "gridwidth": 2,
            "linecolor": "white",
            "showbackground": true,
            "ticks": "",
            "zerolinecolor": "white"
           },
           "zaxis": {
            "backgroundcolor": "#E5ECF6",
            "gridcolor": "white",
            "gridwidth": 2,
            "linecolor": "white",
            "showbackground": true,
            "ticks": "",
            "zerolinecolor": "white"
           }
          },
          "shapedefaults": {
           "line": {
            "color": "#2a3f5f"
           }
          },
          "ternary": {
           "aaxis": {
            "gridcolor": "white",
            "linecolor": "white",
            "ticks": ""
           },
           "baxis": {
            "gridcolor": "white",
            "linecolor": "white",
            "ticks": ""
           },
           "bgcolor": "#E5ECF6",
           "caxis": {
            "gridcolor": "white",
            "linecolor": "white",
            "ticks": ""
           }
          },
          "title": {
           "x": 0.05
          },
          "xaxis": {
           "automargin": true,
           "gridcolor": "white",
           "linecolor": "white",
           "ticks": "",
           "title": {
            "standoff": 15
           },
           "zerolinecolor": "white",
           "zerolinewidth": 2
          },
          "yaxis": {
           "automargin": true,
           "gridcolor": "white",
           "linecolor": "white",
           "ticks": "",
           "title": {
            "standoff": 15
           },
           "zerolinecolor": "white",
           "zerolinewidth": 2
          }
         }
        },
        "xaxis": {
         "anchor": "y",
         "domain": [
          0.0,
          1.0
         ],
         "title": {
          "text": "antecedents"
         }
        },
        "yaxis": {
         "anchor": "x",
         "domain": [
          0.0,
          1.0
         ],
         "title": {
          "text": "support"
         }
        }
       }
      },
      "text/html": "<div>                            <div id=\"3488e3ef-fd1d-4b62-9e44-baa3656192c7\" class=\"plotly-graph-div\" style=\"height:525px; width:100%;\"></div>            <script type=\"text/javascript\">                require([\"plotly\"], function(Plotly) {                    window.PLOTLYENV=window.PLOTLYENV || {};                                    if (document.getElementById(\"3488e3ef-fd1d-4b62-9e44-baa3656192c7\")) {                    Plotly.newPlot(                        \"3488e3ef-fd1d-4b62-9e44-baa3656192c7\",                        [{\"alignmentgroup\": \"True\", \"hovertemplate\": \"antecedents=%{x}<br>support=%{y}<extra></extra>\", \"legendgroup\": \"\", \"marker\": {\"color\": \"#636efa\"}, \"name\": \"\", \"offsetgroup\": \"\", \"orientation\": \"v\", \"showlegend\": false, \"textposition\": \"auto\", \"type\": \"bar\", \"x\": [7, 8, 9, 10, 11, 12, 13, 14, 15, 16, 17, 18], \"xaxis\": \"x\", \"y\": [0.03538005021684547, 0.03994521798676101, 0.040515863958000456, 0.04062999315224834, 0.040744122346496235, 0.04062999315224834, 0.040515863958000456, 0.040515863958000456, 0.04028760556950468, 0.039146313627025794, 0.03035836566993837, 0.025907327094270714], \"yaxis\": \"y\"}],                        {\"barmode\": \"relative\", \"legend\": {\"tracegroupgap\": 0}, \"margin\": {\"t\": 60}, \"template\": {\"data\": {\"bar\": [{\"error_x\": {\"color\": \"#2a3f5f\"}, \"error_y\": {\"color\": \"#2a3f5f\"}, \"marker\": {\"line\": {\"color\": \"#E5ECF6\", \"width\": 0.5}}, \"type\": \"bar\"}], \"barpolar\": [{\"marker\": {\"line\": {\"color\": \"#E5ECF6\", \"width\": 0.5}}, \"type\": \"barpolar\"}], \"carpet\": [{\"aaxis\": {\"endlinecolor\": \"#2a3f5f\", \"gridcolor\": \"white\", \"linecolor\": \"white\", \"minorgridcolor\": \"white\", \"startlinecolor\": \"#2a3f5f\"}, \"baxis\": {\"endlinecolor\": \"#2a3f5f\", \"gridcolor\": \"white\", \"linecolor\": \"white\", \"minorgridcolor\": \"white\", \"startlinecolor\": \"#2a3f5f\"}, \"type\": \"carpet\"}], \"choropleth\": [{\"colorbar\": {\"outlinewidth\": 0, \"ticks\": \"\"}, \"type\": \"choropleth\"}], \"contour\": [{\"colorbar\": {\"outlinewidth\": 0, \"ticks\": \"\"}, \"colorscale\": [[0.0, \"#0d0887\"], [0.1111111111111111, \"#46039f\"], [0.2222222222222222, \"#7201a8\"], [0.3333333333333333, \"#9c179e\"], [0.4444444444444444, \"#bd3786\"], [0.5555555555555556, \"#d8576b\"], [0.6666666666666666, \"#ed7953\"], [0.7777777777777778, \"#fb9f3a\"], [0.8888888888888888, \"#fdca26\"], [1.0, \"#f0f921\"]], \"type\": \"contour\"}], \"contourcarpet\": [{\"colorbar\": {\"outlinewidth\": 0, \"ticks\": \"\"}, \"type\": \"contourcarpet\"}], \"heatmap\": [{\"colorbar\": {\"outlinewidth\": 0, \"ticks\": \"\"}, \"colorscale\": [[0.0, \"#0d0887\"], [0.1111111111111111, \"#46039f\"], [0.2222222222222222, \"#7201a8\"], [0.3333333333333333, \"#9c179e\"], [0.4444444444444444, \"#bd3786\"], [0.5555555555555556, \"#d8576b\"], [0.6666666666666666, \"#ed7953\"], [0.7777777777777778, \"#fb9f3a\"], [0.8888888888888888, \"#fdca26\"], [1.0, \"#f0f921\"]], \"type\": \"heatmap\"}], \"heatmapgl\": [{\"colorbar\": {\"outlinewidth\": 0, \"ticks\": \"\"}, \"colorscale\": [[0.0, \"#0d0887\"], [0.1111111111111111, \"#46039f\"], [0.2222222222222222, \"#7201a8\"], [0.3333333333333333, \"#9c179e\"], [0.4444444444444444, \"#bd3786\"], [0.5555555555555556, \"#d8576b\"], [0.6666666666666666, \"#ed7953\"], [0.7777777777777778, \"#fb9f3a\"], [0.8888888888888888, \"#fdca26\"], [1.0, \"#f0f921\"]], \"type\": \"heatmapgl\"}], \"histogram\": [{\"marker\": {\"colorbar\": {\"outlinewidth\": 0, \"ticks\": \"\"}}, \"type\": \"histogram\"}], \"histogram2d\": [{\"colorbar\": {\"outlinewidth\": 0, \"ticks\": \"\"}, \"colorscale\": [[0.0, \"#0d0887\"], [0.1111111111111111, \"#46039f\"], [0.2222222222222222, \"#7201a8\"], [0.3333333333333333, \"#9c179e\"], [0.4444444444444444, \"#bd3786\"], [0.5555555555555556, \"#d8576b\"], [0.6666666666666666, \"#ed7953\"], [0.7777777777777778, \"#fb9f3a\"], [0.8888888888888888, \"#fdca26\"], [1.0, \"#f0f921\"]], \"type\": \"histogram2d\"}], \"histogram2dcontour\": [{\"colorbar\": {\"outlinewidth\": 0, \"ticks\": \"\"}, \"colorscale\": [[0.0, \"#0d0887\"], [0.1111111111111111, \"#46039f\"], [0.2222222222222222, \"#7201a8\"], [0.3333333333333333, \"#9c179e\"], [0.4444444444444444, \"#bd3786\"], [0.5555555555555556, \"#d8576b\"], [0.6666666666666666, \"#ed7953\"], [0.7777777777777778, \"#fb9f3a\"], [0.8888888888888888, \"#fdca26\"], [1.0, \"#f0f921\"]], \"type\": \"histogram2dcontour\"}], \"mesh3d\": [{\"colorbar\": {\"outlinewidth\": 0, \"ticks\": \"\"}, \"type\": \"mesh3d\"}], \"parcoords\": [{\"line\": {\"colorbar\": {\"outlinewidth\": 0, \"ticks\": \"\"}}, \"type\": \"parcoords\"}], \"pie\": [{\"automargin\": true, \"type\": \"pie\"}], \"scatter\": [{\"marker\": {\"colorbar\": {\"outlinewidth\": 0, \"ticks\": \"\"}}, \"type\": \"scatter\"}], \"scatter3d\": [{\"line\": {\"colorbar\": {\"outlinewidth\": 0, \"ticks\": \"\"}}, \"marker\": {\"colorbar\": {\"outlinewidth\": 0, \"ticks\": \"\"}}, \"type\": \"scatter3d\"}], \"scattercarpet\": [{\"marker\": {\"colorbar\": {\"outlinewidth\": 0, \"ticks\": \"\"}}, \"type\": \"scattercarpet\"}], \"scattergeo\": [{\"marker\": {\"colorbar\": {\"outlinewidth\": 0, \"ticks\": \"\"}}, \"type\": \"scattergeo\"}], \"scattergl\": [{\"marker\": {\"colorbar\": {\"outlinewidth\": 0, \"ticks\": \"\"}}, \"type\": \"scattergl\"}], \"scattermapbox\": [{\"marker\": {\"colorbar\": {\"outlinewidth\": 0, \"ticks\": \"\"}}, \"type\": \"scattermapbox\"}], \"scatterpolar\": [{\"marker\": {\"colorbar\": {\"outlinewidth\": 0, \"ticks\": \"\"}}, \"type\": \"scatterpolar\"}], \"scatterpolargl\": [{\"marker\": {\"colorbar\": {\"outlinewidth\": 0, \"ticks\": \"\"}}, \"type\": \"scatterpolargl\"}], \"scatterternary\": [{\"marker\": {\"colorbar\": {\"outlinewidth\": 0, \"ticks\": \"\"}}, \"type\": \"scatterternary\"}], \"surface\": [{\"colorbar\": {\"outlinewidth\": 0, \"ticks\": \"\"}, \"colorscale\": [[0.0, \"#0d0887\"], [0.1111111111111111, \"#46039f\"], [0.2222222222222222, \"#7201a8\"], [0.3333333333333333, \"#9c179e\"], [0.4444444444444444, \"#bd3786\"], [0.5555555555555556, \"#d8576b\"], [0.6666666666666666, \"#ed7953\"], [0.7777777777777778, \"#fb9f3a\"], [0.8888888888888888, \"#fdca26\"], [1.0, \"#f0f921\"]], \"type\": \"surface\"}], \"table\": [{\"cells\": {\"fill\": {\"color\": \"#EBF0F8\"}, \"line\": {\"color\": \"white\"}}, \"header\": {\"fill\": {\"color\": \"#C8D4E3\"}, \"line\": {\"color\": \"white\"}}, \"type\": \"table\"}]}, \"layout\": {\"annotationdefaults\": {\"arrowcolor\": \"#2a3f5f\", \"arrowhead\": 0, \"arrowwidth\": 1}, \"autotypenumbers\": \"strict\", \"coloraxis\": {\"colorbar\": {\"outlinewidth\": 0, \"ticks\": \"\"}}, \"colorscale\": {\"diverging\": [[0, \"#8e0152\"], [0.1, \"#c51b7d\"], [0.2, \"#de77ae\"], [0.3, \"#f1b6da\"], [0.4, \"#fde0ef\"], [0.5, \"#f7f7f7\"], [0.6, \"#e6f5d0\"], [0.7, \"#b8e186\"], [0.8, \"#7fbc41\"], [0.9, \"#4d9221\"], [1, \"#276419\"]], \"sequential\": [[0.0, \"#0d0887\"], [0.1111111111111111, \"#46039f\"], [0.2222222222222222, \"#7201a8\"], [0.3333333333333333, \"#9c179e\"], [0.4444444444444444, \"#bd3786\"], [0.5555555555555556, \"#d8576b\"], [0.6666666666666666, \"#ed7953\"], [0.7777777777777778, \"#fb9f3a\"], [0.8888888888888888, \"#fdca26\"], [1.0, \"#f0f921\"]], \"sequentialminus\": [[0.0, \"#0d0887\"], [0.1111111111111111, \"#46039f\"], [0.2222222222222222, \"#7201a8\"], [0.3333333333333333, \"#9c179e\"], [0.4444444444444444, \"#bd3786\"], [0.5555555555555556, \"#d8576b\"], [0.6666666666666666, \"#ed7953\"], [0.7777777777777778, \"#fb9f3a\"], [0.8888888888888888, \"#fdca26\"], [1.0, \"#f0f921\"]]}, \"colorway\": [\"#636efa\", \"#EF553B\", \"#00cc96\", \"#ab63fa\", \"#FFA15A\", \"#19d3f3\", \"#FF6692\", \"#B6E880\", \"#FF97FF\", \"#FECB52\"], \"font\": {\"color\": \"#2a3f5f\"}, \"geo\": {\"bgcolor\": \"white\", \"lakecolor\": \"white\", \"landcolor\": \"#E5ECF6\", \"showlakes\": true, \"showland\": true, \"subunitcolor\": \"white\"}, \"hoverlabel\": {\"align\": \"left\"}, \"hovermode\": \"closest\", \"mapbox\": {\"style\": \"light\"}, \"paper_bgcolor\": \"white\", \"plot_bgcolor\": \"#E5ECF6\", \"polar\": {\"angularaxis\": {\"gridcolor\": \"white\", \"linecolor\": \"white\", \"ticks\": \"\"}, \"bgcolor\": \"#E5ECF6\", \"radialaxis\": {\"gridcolor\": \"white\", \"linecolor\": \"white\", \"ticks\": \"\"}}, \"scene\": {\"xaxis\": {\"backgroundcolor\": \"#E5ECF6\", \"gridcolor\": \"white\", \"gridwidth\": 2, \"linecolor\": \"white\", \"showbackground\": true, \"ticks\": \"\", \"zerolinecolor\": \"white\"}, \"yaxis\": {\"backgroundcolor\": \"#E5ECF6\", \"gridcolor\": \"white\", \"gridwidth\": 2, \"linecolor\": \"white\", \"showbackground\": true, \"ticks\": \"\", \"zerolinecolor\": \"white\"}, \"zaxis\": {\"backgroundcolor\": \"#E5ECF6\", \"gridcolor\": \"white\", \"gridwidth\": 2, \"linecolor\": \"white\", \"showbackground\": true, \"ticks\": \"\", \"zerolinecolor\": \"white\"}}, \"shapedefaults\": {\"line\": {\"color\": \"#2a3f5f\"}}, \"ternary\": {\"aaxis\": {\"gridcolor\": \"white\", \"linecolor\": \"white\", \"ticks\": \"\"}, \"baxis\": {\"gridcolor\": \"white\", \"linecolor\": \"white\", \"ticks\": \"\"}, \"bgcolor\": \"#E5ECF6\", \"caxis\": {\"gridcolor\": \"white\", \"linecolor\": \"white\", \"ticks\": \"\"}}, \"title\": {\"x\": 0.05}, \"xaxis\": {\"automargin\": true, \"gridcolor\": \"white\", \"linecolor\": \"white\", \"ticks\": \"\", \"title\": {\"standoff\": 15}, \"zerolinecolor\": \"white\", \"zerolinewidth\": 2}, \"yaxis\": {\"automargin\": true, \"gridcolor\": \"white\", \"linecolor\": \"white\", \"ticks\": \"\", \"title\": {\"standoff\": 15}, \"zerolinecolor\": \"white\", \"zerolinewidth\": 2}}}, \"xaxis\": {\"anchor\": \"y\", \"domain\": [0.0, 1.0], \"title\": {\"text\": \"antecedents\"}}, \"yaxis\": {\"anchor\": \"x\", \"domain\": [0.0, 1.0], \"title\": {\"text\": \"support\"}}},                        {\"responsive\": true}                    ).then(function(){\n                            \nvar gd = document.getElementById('3488e3ef-fd1d-4b62-9e44-baa3656192c7');\nvar x = new MutationObserver(function (mutations, observer) {{\n        var display = window.getComputedStyle(gd).display;\n        if (!display || display === 'none') {{\n            console.log([gd, 'removed!']);\n            Plotly.purge(gd);\n            observer.disconnect();\n        }}\n}});\n\n// Listen for the removal of the full notebook cells\nvar notebookContainer = gd.closest('#notebook-container');\nif (notebookContainer) {{\n    x.observe(notebookContainer, {childList: true});\n}}\n\n// Listen for the clearing of the current output cell\nvar outputEl = gd.closest('.output');\nif (outputEl) {{\n    x.observe(outputEl, {childList: true});\n}}\n\n                        })                };                });            </script>        </div>"
     },
     "metadata": {},
     "output_type": "display_data"
    }
   ],
   "source": [
    "import plotly.express as px\n",
    "fig = px.bar(data_frame=rules, x=\"antecedents\", y=\"support\")\n",
    "fig.show()"
   ],
   "metadata": {
    "collapsed": false,
    "pycharm": {
     "name": "#%%\n"
    }
   }
  }
 ],
 "metadata": {
  "kernelspec": {
   "display_name": "Python 3",
   "language": "python",
   "name": "python3"
  },
  "language_info": {
   "codemirror_mode": {
    "name": "ipython",
    "version": 2
   },
   "file_extension": ".py",
   "mimetype": "text/x-python",
   "name": "python",
   "nbconvert_exporter": "python",
   "pygments_lexer": "ipython2",
   "version": "2.7.6"
  }
 },
 "nbformat": 4,
 "nbformat_minor": 0
}