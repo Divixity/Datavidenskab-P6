{
 "cells": [
  {
   "cell_type": "markdown",
   "source": [
    "# Exploration of Resident Positions"
   ],
   "metadata": {
    "collapsed": false
   }
  },
  {
   "cell_type": "code",
   "execution_count": 1,
   "outputs": [],
   "source": [
    "import plotly.express as px\n",
    "\n",
    "import DataRetriever as dr\n",
    "\n",
    "retriever = dr.DataRetriever()\n",
    "\n",
    "year_2 = retriever.get_data('All-Subsystems-minute-Year2.pkl')\n",
    "metadata = retriever.get_data('metadata-year2.pkl')\n",
    "metadata.rename(columns={'Unnamed: 0': 'Attribute'}, inplace=True)"
   ],
   "metadata": {
    "collapsed": false,
    "pycharm": {
     "name": "#%%\n"
    }
   }
  },
  {
   "cell_type": "markdown",
   "source": [
    "## Find relevant attributes"
   ],
   "metadata": {
    "collapsed": false
   }
  },
  {
   "cell_type": "code",
   "execution_count": 2,
   "outputs": [],
   "source": [
    "parent_a_positions = metadata[metadata[\"Description\"].str.contains(pat='parent A is simulated as being')]\n",
    "parent_b_positions = metadata[metadata[\"Description\"].str.contains(pat='parent B is simulated as being')]\n",
    "child_a_positions = metadata[metadata[\"Description\"].str.contains(pat='child A is simulated as being')]\n",
    "child_b_positions = metadata[metadata[\"Description\"].str.contains(pat='child B is simulated as being')]\n",
    "\n",
    "# Get dict of DataFrames - each one containing information about a different resident\n",
    "positions_dict = {'ParentA': parent_a_positions['Attribute'].tolist(),\n",
    "                  'ParentB': parent_b_positions['Attribute'].tolist(),\n",
    "                  'ChildA': child_a_positions['Attribute'].tolist(),\n",
    "                  'ChildB': child_b_positions['Attribute'].tolist()}"
   ],
   "metadata": {
    "collapsed": false,
    "pycharm": {
     "name": "#%%\n"
    }
   }
  },
  {
   "cell_type": "code",
   "execution_count": 3,
   "outputs": [],
   "source": [
    "# Get a list of relevant attributes\n",
    "positions = list()\n",
    "for key, value in positions_dict.items():\n",
    "    for subvalue in positions_dict[key]:\n",
    "        positions.append(subvalue)"
   ],
   "metadata": {
    "collapsed": false,
    "pycharm": {
     "name": "#%%\n"
    }
   }
  },
  {
   "cell_type": "code",
   "execution_count": null,
   "outputs": [],
   "source": [
    "# Use the identified attributes from the Metadata DataFrame to get the actual data from the Year2 DataFrame\n",
    "position_data = year_2[positions]\n",
    "position_data.index = position_data.index.floor('min')\n",
    "position_data[\"Date\"] = position_data.index.date\n",
    "position_data[\"Time\"] = position_data.index.time\n",
    "position_data[\"Weekend\"] = position_data.index.weekday > 5"
   ],
   "metadata": {
    "collapsed": false,
    "pycharm": {
     "name": "#%%\n"
    }
   }
  },
  {
   "cell_type": "code",
   "execution_count": null,
   "outputs": [],
   "source": [
    "# Rename each attribute to more sensible names\n",
    "position_data.rename(columns={'Load_StatusSensHeatPrntAUP': 'ParentAUp',\n",
    "                              'Load_StatusSensHeatPrntADOWN': 'ParentADown',\n",
    "                              'Load_StatusSensHeatPrntBUP': 'ParentBUp',\n",
    "                              'Load_StatusSensHeatPrntBDOWN': 'ParentBDown',\n",
    "                              'Load_StatusSensHeatChildAUP': 'ChildAUp',\n",
    "                              'Load_StatusSensHeatChildADOWN': 'ChildADown',\n",
    "                              'Load_StatusSensHeatChildBUP': 'ChildBUp',\n",
    "                              'Load_StatusSensHeatChildBDOWN': 'ChildBDown'}, inplace=True)"
   ],
   "metadata": {
    "collapsed": false,
    "pycharm": {
     "name": "#%%\n"
    }
   }
  },
  {
   "cell_type": "code",
   "execution_count": null,
   "outputs": [],
   "source": [
    "# Replace values for each resident being on the second floor in order to easily\n",
    "position_data[\"ParentAUp\"].replace(to_replace=1.0, value=2.0, inplace=True)\n",
    "position_data[\"ParentBUp\"].replace(to_replace=1.0, value=2.0, inplace=True)\n",
    "position_data[\"ChildAUp\"].replace(to_replace=1.0, value=2.0, inplace=True)\n",
    "position_data[\"ChildBUp\"].replace(to_replace=1.0, value=2.0, inplace=True)\n",
    "\n",
    "# Create a single attribute containing the value for where each inhabitant is\n",
    "position_data[\"ParentAPosition\"] = position_data[\"ParentAUp\"] + position_data[\"ParentADown\"]\n",
    "position_data[\"ParentBPosition\"] = position_data[\"ParentBUp\"] + position_data[\"ParentBDown\"]\n",
    "position_data[\"ChildAPosition\"] = position_data[\"ChildAUp\"] + position_data[\"ChildADown\"]\n",
    "position_data[\"ChildBPosition\"] = position_data[\"ChildBUp\"] + position_data[\"ChildBDown\"]\n",
    "\n",
    "# Replace the number values with explanatory text\n",
    "position_data.replace({'ParentAPosition': {0: 'Not Home', 1: 'Downstairs', 2: 'Upstairs'}}, inplace=True)\n",
    "position_data.replace({'ParentBPosition': {0: 'Not Home', 1: 'Downstairs', 2: 'Upstairs'}}, inplace=True)\n",
    "position_data.replace({'ChildAPosition': {0: 'Not Home', 1: 'Downstairs', 2: 'Upstairs'}}, inplace=True)\n",
    "position_data.replace({'ChildBPosition': {0: 'Not Home', 1: 'Downstairs', 2: 'Upstairs'}}, inplace=True)\n",
    "position_data"
   ],
   "metadata": {
    "collapsed": false,
    "pycharm": {
     "name": "#%%\n"
    }
   }
  },
  {
   "cell_type": "code",
   "execution_count": null,
   "outputs": [],
   "source": [
    "fig = px.scatter(data_frame=position_data,\n",
    "                 x='Time',\n",
    "                 y='ParentAPosition',\n",
    "                 color='Weekend',\n",
    "                 opacity=0.025)\n",
    "fig.update_layout(title='Position of Parent A by time during weekdays')\n",
    "fig.update_xaxes(type='category')\n",
    "fig.update_yaxes(type='category')\n",
    "fig.show()"
   ],
   "metadata": {
    "collapsed": false,
    "pycharm": {
     "name": "#%%\n"
    }
   }
  },
  {
   "cell_type": "code",
   "execution_count": null,
   "outputs": [],
   "source": [
    "import plotly.graph_objects as go\n",
    "\n",
    "fig = go.Figure(data=go.Scattergl(x=position_data.index[:10080], y=position_data[\"ParentAPosition\"], name=\"ParentA\"))\n",
    "fig.add_trace(go.Scattergl(x=position_data.index[:10080], y=position_data[\"ParentBPosition\"], name=\"ParentB\"))\n",
    "fig.add_trace(go.Scattergl(x=position_data.index[:10080], y=position_data[\"ParentBPosition\"], name=\"ChildA\"))\n",
    "fig.add_trace(go.Scattergl(x=position_data.index[:10080], y=position_data[\"ParentBPosition\"], name=\"ChildB\"))\n",
    "fig.show()"
   ],
   "metadata": {
    "collapsed": false,
    "pycharm": {
     "name": "#%%\n"
    }
   }
  }
 ],
 "metadata": {
  "kernelspec": {
   "display_name": "Python 3",
   "language": "python",
   "name": "python3"
  },
  "language_info": {
   "codemirror_mode": {
    "name": "ipython",
    "version": 2
   },
   "file_extension": ".py",
   "mimetype": "text/x-python",
   "name": "python",
   "nbconvert_exporter": "python",
   "pygments_lexer": "ipython2",
   "version": "2.7.6"
  }
 },
 "nbformat": 4,
 "nbformat_minor": 0
}